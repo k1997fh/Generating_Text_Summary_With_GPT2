{
 "cells": [
  {
   "cell_type": "code",
   "execution_count": 1,
   "metadata": {},
   "outputs": [],
   "source": [
    "import argparse\n",
    "from datetime import datetime\n",
    "import os\n",
    "import json\n",
    "import pandas as pd\n",
    "import time\n",
    "\n",
    "import numpy as np\n",
    "from transformers import GPT2LMHeadModel,AdamW, WarmupLinearSchedule\n",
    "from torch.utils.tensorboard import SummaryWriter\n",
    "import torch\n",
    "from torch.nn import CrossEntropyLoss\n",
    "import torch.nn.functional as F\n",
    "from torch.utils.data import DataLoader, RandomSampler, SequentialSampler\n",
    "from tqdm import tnrange, tqdm_notebook\n",
    "\n",
    "from dataset import GPT21024Dataset \n",
    "from utils import add_special_tokens, generate_sample, set_seed"
   ]
  },
  {
   "cell_type": "code",
   "execution_count": 2,
   "metadata": {},
   "outputs": [
    {
     "data": {
      "text/plain": [
       "(7652, 5)"
      ]
     },
     "execution_count": 2,
     "metadata": {},
     "output_type": "execute_result"
    }
   ],
   "source": [
    "filename = \"pubmed_gene_go_summary.tsv\"\n",
    "path = os.path.join(\"pubmed\", filename)\n",
    "pubmed_table = pd.read_csv(path, sep = \"\\t\")\n",
    "pubmed_table = pubmed_table[pubmed_table['Abstract'].notna()]\n",
    "pubmed_table = pubmed_table[pubmed_table['Target'].notna()]\n",
    "pubmed_table.shape"
   ]
  },
  {
   "cell_type": "code",
   "execution_count": 3,
   "metadata": {},
   "outputs": [
    {
     "data": {
      "text/html": [
       "<div>\n",
       "<style scoped>\n",
       "    .dataframe tbody tr th:only-of-type {\n",
       "        vertical-align: middle;\n",
       "    }\n",
       "\n",
       "    .dataframe tbody tr th {\n",
       "        vertical-align: top;\n",
       "    }\n",
       "\n",
       "    .dataframe thead th {\n",
       "        text-align: right;\n",
       "    }\n",
       "</style>\n",
       "<table border=\"1\" class=\"dataframe\">\n",
       "  <thead>\n",
       "    <tr style=\"text-align: right;\">\n",
       "      <th></th>\n",
       "      <th>GeneID</th>\n",
       "      <th>PubMed</th>\n",
       "      <th>Target</th>\n",
       "      <th>Title</th>\n",
       "      <th>Abstract</th>\n",
       "    </tr>\n",
       "  </thead>\n",
       "  <tbody>\n",
       "    <tr>\n",
       "      <th>0</th>\n",
       "      <td>12</td>\n",
       "      <td>14668352</td>\n",
       "      <td>SERPINA3 enables DNA binding; located_in nucleus.</td>\n",
       "      <td>The SANT2 domain of the murine tumor cell DnaJ...</td>\n",
       "      <td>The murine tumor cell DnaJ-like protein 1 or M...</td>\n",
       "    </tr>\n",
       "    <tr>\n",
       "      <th>1</th>\n",
       "      <td>64215</td>\n",
       "      <td>14668352</td>\n",
       "      <td>DNAJC1 enables ATPase activator activity; invo...</td>\n",
       "      <td>The SANT2 domain of the murine tumor cell DnaJ...</td>\n",
       "      <td>The murine tumor cell DnaJ-like protein 1 or M...</td>\n",
       "    </tr>\n",
       "    <tr>\n",
       "      <th>2</th>\n",
       "      <td>12</td>\n",
       "      <td>2404007</td>\n",
       "      <td>SERPINA3 enables serine-type endopeptidase inh...</td>\n",
       "      <td>Cloning, expression, purification, and biologi...</td>\n",
       "      <td>Human alpha 1-antichymotrypsin has been cloned...</td>\n",
       "    </tr>\n",
       "    <tr>\n",
       "      <th>3</th>\n",
       "      <td>13</td>\n",
       "      <td>11481320</td>\n",
       "      <td>AADAC enables lipase activity.</td>\n",
       "      <td>Characterization of the rodent genes for aryla...</td>\n",
       "      <td>In the current study, we have determined the c...</td>\n",
       "    </tr>\n",
       "    <tr>\n",
       "      <th>4</th>\n",
       "      <td>13</td>\n",
       "      <td>8063807</td>\n",
       "      <td>AADAC enables catalytic activity.</td>\n",
       "      <td>Human liver arylacetamide deacetylase. Molecul...</td>\n",
       "      <td>Microsomal arylacetamide deacetylase (DAC) com...</td>\n",
       "    </tr>\n",
       "  </tbody>\n",
       "</table>\n",
       "</div>"
      ],
      "text/plain": [
       "   GeneID    PubMed                                             Target  \\\n",
       "0      12  14668352  SERPINA3 enables DNA binding; located_in nucleus.   \n",
       "1   64215  14668352  DNAJC1 enables ATPase activator activity; invo...   \n",
       "2      12   2404007  SERPINA3 enables serine-type endopeptidase inh...   \n",
       "3      13  11481320                     AADAC enables lipase activity.   \n",
       "4      13   8063807                  AADAC enables catalytic activity.   \n",
       "\n",
       "                                               Title  \\\n",
       "0  The SANT2 domain of the murine tumor cell DnaJ...   \n",
       "1  The SANT2 domain of the murine tumor cell DnaJ...   \n",
       "2  Cloning, expression, purification, and biologi...   \n",
       "3  Characterization of the rodent genes for aryla...   \n",
       "4  Human liver arylacetamide deacetylase. Molecul...   \n",
       "\n",
       "                                            Abstract  \n",
       "0  The murine tumor cell DnaJ-like protein 1 or M...  \n",
       "1  The murine tumor cell DnaJ-like protein 1 or M...  \n",
       "2  Human alpha 1-antichymotrypsin has been cloned...  \n",
       "3  In the current study, we have determined the c...  \n",
       "4  Microsomal arylacetamide deacetylase (DAC) com...  "
      ]
     },
     "execution_count": 3,
     "metadata": {},
     "output_type": "execute_result"
    }
   ],
   "source": [
    "pubmed_table.head(5)"
   ]
  },
  {
   "cell_type": "code",
   "execution_count": 4,
   "metadata": {},
   "outputs": [],
   "source": [
    "def write_json(i, article, abstract):\n",
    "    \"\"\" Saves a json file.\"\"\"\n",
    "\n",
    "    file = \"./pubmed/gpt2_1024_data/\"+str(i)+\".json\"\n",
    "    js_example = {}\n",
    "    js_example['id'] = i\n",
    "    js_example['article'] = article\n",
    "    js_example['abstract'] = abstract\n",
    "    with open(file, 'w') as f:\n",
    "        json.dump(js_example, f, ensure_ascii=False)"
   ]
  },
  {
   "cell_type": "code",
   "execution_count": 5,
   "metadata": {},
   "outputs": [
    {
     "name": "stdout",
     "output_type": "stream",
     "text": [
      "0  files written\n",
      "100  files written\n",
      "200  files written\n",
      "300  files written\n",
      "400  files written\n",
      "500  files written\n",
      "600  files written\n",
      "700  files written\n",
      "800  files written\n",
      "900  files written\n",
      "1000  files written\n",
      "1100  files written\n",
      "1200  files written\n",
      "1400  files written\n",
      "1500  files written\n",
      "1600  files written\n",
      "1700  files written\n",
      "1800  files written\n",
      "1900  files written\n",
      "2000  files written\n",
      "2100  files written\n",
      "2200  files written\n",
      "2300  files written\n",
      "2400  files written\n",
      "2500  files written\n",
      "2600  files written\n",
      "2700  files written\n",
      "2800  files written\n",
      "2900  files written\n",
      "3000  files written\n",
      "3100  files written\n",
      "3200  files written\n",
      "3300  files written\n",
      "3400  files written\n",
      "3500  files written\n",
      "3600  files written\n",
      "3700  files written\n",
      "3800  files written\n",
      "3900  files written\n",
      "4000  files written\n",
      "4100  files written\n",
      "4200  files written\n",
      "4300  files written\n",
      "4400  files written\n",
      "4500  files written\n",
      "4600  files written\n",
      "4700  files written\n",
      "4800  files written\n",
      "4900  files written\n",
      "5000  files written\n",
      "5100  files written\n",
      "5200  files written\n",
      "5300  files written\n",
      "5400  files written\n",
      "5500  files written\n",
      "5600  files written\n",
      "5700  files written\n",
      "5800  files written\n",
      "5900  files written\n",
      "6000  files written\n",
      "6100  files written\n",
      "6200  files written\n",
      "6300  files written\n",
      "6400  files written\n",
      "6500  files written\n",
      "6600  files written\n",
      "6700  files written\n",
      "6800  files written\n",
      "6900  files written\n",
      "7000  files written\n",
      "7100  files written\n",
      "7200  files written\n",
      "7300  files written\n",
      "7400  files written\n",
      "7500  files written\n",
      "7600  files written\n",
      "7700  files written\n"
     ]
    },
    {
     "data": {
      "text/plain": [
       "'\\n# file_id_map maps the json file ids to actual cnn/dm file names ending with \".story\"\\nprint(\"saving file_id_map...\")\\n\\nwith open(\"file_id_map.pickle\", \\'wb\\') as f:\\n    pickle.dump(file_id_map,f)\\nprint(\"file_id_map saved.\")\\n'"
      ]
     },
     "execution_count": 5,
     "metadata": {},
     "output_type": "execute_result"
    }
   ],
   "source": [
    "tokenizer = add_special_tokens()\n",
    "train_ids = []\n",
    "#file_id_map = {}\n",
    "for index, row in pubmed_table.iterrows():\n",
    "    article = row[\"Abstract\"]\n",
    "    summary = row[\"Target\"]\n",
    "    article = tokenizer.encode(article)\n",
    "    summary = tokenizer.encode(summary)\n",
    "    if len(article) > 0 and len(summary) > 0 and (len(article) + len(summary) <= 1023):\n",
    "        train_ids.append(index)\n",
    "        write_json(index, article, summary)\n",
    "        #file_id_map[i] = os.path.basename(file).replace('.story', '')\n",
    "        if index%100==0:\n",
    "            print(index, \" files written\")\n",
    "            \n",
    "x,y = int(len(train_ids)*0.8), int(len(train_ids)*0.9)\n",
    "valid_ids = train_ids[x:y]\n",
    "test_ids = train_ids[y:]\n",
    "train_ids = train_ids[:x]\n",
    "with open(\"./pubmed/ids.json\",'w') as f:\n",
    "    js = {}\n",
    "    js['train_ids'] = train_ids\n",
    "    js['valid_ids'] = valid_ids\n",
    "    js['test_ids'] = test_ids\n",
    "    json.dump(js,f)\n"
   ]
  },
  {
   "cell_type": "code",
   "execution_count": 6,
   "metadata": {},
   "outputs": [
    {
     "name": "stdout",
     "output_type": "stream",
     "text": [
      "Namespace(lr=5e-05, seed=42, n_gpu=1, gradient_accumulation_steps=2, batch_size=1, num_workers=4, device=device(type='cpu'), num_train_epochs=1, output_dir='./output', model_dir='./weights', max_grad_norm=1.0, root_dir='./pubmed/gpt2_1024_data', ids_file='./pubmed/ids.json')\n"
     ]
    }
   ],
   "source": [
    "#please change default arguments if needed\n",
    "\n",
    "parser = argparse.ArgumentParser()\n",
    "parser.add_argument(\"--lr\",default=5e-5, type=float, help=\"learning rate\")\n",
    "parser.add_argument(\"--seed\",default=42, type=int,  help=\"seed to replicate results\")\n",
    "parser.add_argument(\"--n_gpu\",default=1, type=int,  help=\"no of gpu available\")\n",
    "parser.add_argument(\"--gradient_accumulation_steps\",default=2, type=int, help=\"gradient_accumulation_steps\")\n",
    "parser.add_argument(\"--batch_size\",default=1, type=int,  help=\"batch_size\")\n",
    "parser.add_argument(\"--num_workers\",default=4, type=int,  help=\"num of cpus available\")\n",
    "parser.add_argument(\"--device\",default=torch.device('cpu'), help=\"torch.device object\")\n",
    "parser.add_argument(\"--num_train_epochs\",default=1, type=int,  help=\"no of epochs of training\")\n",
    "parser.add_argument(\"--output_dir\",default='./output', type=str,  help=\"path to save evaluation results\")\n",
    "parser.add_argument(\"--model_dir\",default='./weights', type=str,  help=\"path to save trained model\")\n",
    "parser.add_argument(\"--max_grad_norm\",default=1.0, type=float, help=\"max gradient norm.\")\n",
    "parser.add_argument(\"--root_dir\",default='./pubmed/gpt2_1024_data', type=str, help=\"location of json dataset.\")\n",
    "parser.add_argument(\"--ids_file\",default='./pubmed/ids.json', type=str, help=\"location of train, valid and test file indexes\")\n",
    "args = parser.parse_args([])\n",
    "print(args)"
   ]
  },
  {
   "cell_type": "code",
   "execution_count": 7,
   "metadata": {},
   "outputs": [],
   "source": [
    "def train(args, model, tokenizer, train_dataset, valid_dataset, ignore_index):\n",
    "    \"\"\" Trains GPT2 model and logs necessary details.\n",
    "        Args:\n",
    "            args: dict that contains all the necessary information passed by user while training\n",
    "            model: finetuned gpt/gpt2 model\n",
    "            tokenizer: GPT/GPT2 tokenizer\n",
    "            train_dataset: GPT21024Dataset object for training data\n",
    "            ignore_index: token not considered in loss calculation\n",
    "    \"\"\"\n",
    "    writer = SummaryWriter('./output/logs')\n",
    "    train_sampler = RandomSampler(train_dataset)\n",
    "    train_dl = DataLoader(train_dataset,sampler=train_sampler,batch_size=args.batch_size,num_workers=args.num_workers)\n",
    "    loss_fct = CrossEntropyLoss(ignore_index=ignore_index) #ignores padding token for loss calculation\n",
    "    optimizer = AdamW(model.parameters(),lr=args.lr)\n",
    "    scheduler = WarmupLinearSchedule(optimizer,100,80000)\n",
    "\n",
    "    global_step = 0\n",
    "    tr_loss, logging_loss = 0.0, 0.0\n",
    "    model.zero_grad()\n",
    "    train_iterator = tnrange(int(args.num_train_epochs), desc=\"Epoch\")\n",
    "    set_seed(args)\n",
    "    for _ in train_iterator:\n",
    "        epoch_iterator = tqdm_notebook(train_dl, desc=\"Training\")\n",
    "        for step, batch in enumerate(epoch_iterator):\n",
    "            inputs, labels = batch['article'].to(args.device), batch['article'].to(args.device)\n",
    "            model.train()\n",
    "            logits = model(inputs)[0]\n",
    "            # only consider loss on reference summary just like seq2seq models\n",
    "            shift_logits = logits[..., batch['sum_idx']:-1, :].contiguous()\n",
    "            shift_labels = labels[..., batch['sum_idx']+1:].contiguous()\n",
    "            loss = loss_fct(shift_logits.view(-1, shift_logits.size(-1)), shift_labels.view(-1))\n",
    "            loss = loss/args.gradient_accumulation_steps\n",
    "            loss.backward()\n",
    "            torch.nn.utils.clip_grad_norm_(model.parameters(), args.max_grad_norm)\n",
    "            tr_loss += loss.item()\n",
    "            if (step + 1) % args.gradient_accumulation_steps == 0:\n",
    "                optimizer.step()\n",
    "                scheduler.step()  # Update learning rate schedule\n",
    "                model.zero_grad()\n",
    "                global_step += 1\n",
    "                writer.add_scalar('lr', scheduler.get_lr()[0], global_step)\n",
    "                writer.add_scalar('loss', (tr_loss - logging_loss)/args.gradient_accumulation_steps, global_step)\n",
    "                logging_loss = tr_loss\n",
    "                print(\"loss:\", loss.item(), end='\\n\\n')\n",
    "                if (step + 1)/args.gradient_accumulation_steps == 1.0:\n",
    "                \tprint('After 1st update: ', end='\\n\\n')\n",
    "                \tgenerate_sample(valid_dataset, tokenizer, model, num=2, eval_step=False,device=args.device)\n",
    "                \n",
    "                \n",
    "            if (step + 1) % (10*args.gradient_accumulation_steps) == 0:\n",
    "                results = evaluate(args, model, valid_dataset, ignore_index, global_step)\n",
    "                for key, value in results.items():\n",
    "                    writer.add_scalar('eval_{}'.format(key), value, global_step)\n",
    "                print('After', global_step+1,'updates: ', end='\\n\\n')\n",
    "                generate_sample(valid_dataset, tokenizer, model, num=2, eval_step=True,device=args.device)\n"
   ]
  },
  {
   "cell_type": "code",
   "execution_count": 8,
   "metadata": {},
   "outputs": [],
   "source": [
    "def evaluate(args, model, eval_dataset, ignore_index, global_step=None):\n",
    "    \"\"\" Returns perplexity score on validation dataset.\n",
    "        Args:\n",
    "            args: dict that contains all the necessary information passed by user while training\n",
    "            model: finetuned gpt/gpt2 model\n",
    "            eval_dataset: GPT21024Dataset object for validation data\n",
    "            global_step: no. of times gradients have backpropagated\n",
    "            ignore_index: token not considered in loss calculation\n",
    "    \"\"\"\n",
    "    if not os.path.exists(args.output_dir):\n",
    "        os.mkdir(args.output_dir)\n",
    "    eval_output_dir = args.output_dir\n",
    "\n",
    "    results = {}\n",
    "    eval_sampler = SequentialSampler(eval_dataset)\n",
    "    eval_dataloader = DataLoader(eval_dataset, sampler=eval_sampler, batch_size=args.batch_size)\n",
    "    loss_fct = CrossEntropyLoss(ignore_index=ignore_index) #ignores padding token for loss calculation\n",
    "\n",
    "    eval_loss = 0.0\n",
    "    nb_eval_steps = 0\n",
    "    model.eval()\n",
    "\n",
    "    for batch in tqdm_notebook(eval_dataloader, desc=\"Evaluating\"):\n",
    "        inputs, labels = batch['article'].to(args.device), batch['article'].to(args.device)\n",
    "        \n",
    "        with torch.no_grad():\n",
    "            logits = model(inputs)[0]\n",
    "            idx = batch['sum_idx'].item() # index of separator token\n",
    "            # only consider loss on reference summary just like seq2seq models\n",
    "            shift_logits = logits[..., batch['sum_idx']:-1, :].contiguous()\n",
    "            shift_labels = labels[..., batch['sum_idx']+1:].contiguous()\n",
    "            lm_loss = loss_fct(shift_logits.view(-1, shift_logits.size(-1)), shift_labels.view(-1))\n",
    "            eval_loss += lm_loss.mean().item()\n",
    "        nb_eval_steps += 1\n",
    "\n",
    "    eval_loss = eval_loss / nb_eval_steps\n",
    "    perplexity = torch.exp(torch.tensor(eval_loss))\n",
    "\n",
    "    result = {\n",
    "        \"perplexity\": perplexity\n",
    "    }\n",
    "    print(\"perplexity:\", perplexity.item())\n",
    "\n",
    "    if global_step:\n",
    "        output_eval_file = os.path.join(eval_output_dir, \"eval_results.txt\")\n",
    "        with open(output_eval_file, \"a\") as f:\n",
    "            for key in sorted(result.keys()):\n",
    "                f.write('\\n\\n')\n",
    "                f.write(\"time = %s, %s = %s, step = %s\\n\" % (datetime.now().strftime(\"%d/%m/%Y %H:%M:%S\"), key, str(result[key]), str(global_step)))\n",
    "    return result           "
   ]
  },
  {
   "cell_type": "code",
   "execution_count": 9,
   "metadata": {},
   "outputs": [],
   "source": [
    "# creating training and validation dataset object\n",
    "\n",
    "train_data = GPT21024Dataset(args.root_dir,args.ids_file,mode='train',length=3000) #training on only 3000 datasets\n",
    "valid_data = GPT21024Dataset(args.root_dir,args.ids_file,mode='valid',length=500)  #validation on only 500 datasets"
   ]
  },
  {
   "cell_type": "code",
   "execution_count": 10,
   "metadata": {
    "jupyter": {
     "outputs_hidden": true
    }
   },
   "outputs": [
    {
     "data": {
      "text/plain": [
       "GPT2LMHeadModel(\n",
       "  (transformer): GPT2Model(\n",
       "    (wte): Embedding(50259, 768)\n",
       "    (wpe): Embedding(1024, 768)\n",
       "    (drop): Dropout(p=0.1, inplace=False)\n",
       "    (h): ModuleList(\n",
       "      (0): Block(\n",
       "        (ln_1): LayerNorm((768,), eps=1e-05, elementwise_affine=True)\n",
       "        (attn): Attention(\n",
       "          (c_attn): Conv1D()\n",
       "          (c_proj): Conv1D()\n",
       "          (attn_dropout): Dropout(p=0.1, inplace=False)\n",
       "          (resid_dropout): Dropout(p=0.1, inplace=False)\n",
       "        )\n",
       "        (ln_2): LayerNorm((768,), eps=1e-05, elementwise_affine=True)\n",
       "        (mlp): MLP(\n",
       "          (c_fc): Conv1D()\n",
       "          (c_proj): Conv1D()\n",
       "          (dropout): Dropout(p=0.1, inplace=False)\n",
       "        )\n",
       "      )\n",
       "      (1): Block(\n",
       "        (ln_1): LayerNorm((768,), eps=1e-05, elementwise_affine=True)\n",
       "        (attn): Attention(\n",
       "          (c_attn): Conv1D()\n",
       "          (c_proj): Conv1D()\n",
       "          (attn_dropout): Dropout(p=0.1, inplace=False)\n",
       "          (resid_dropout): Dropout(p=0.1, inplace=False)\n",
       "        )\n",
       "        (ln_2): LayerNorm((768,), eps=1e-05, elementwise_affine=True)\n",
       "        (mlp): MLP(\n",
       "          (c_fc): Conv1D()\n",
       "          (c_proj): Conv1D()\n",
       "          (dropout): Dropout(p=0.1, inplace=False)\n",
       "        )\n",
       "      )\n",
       "      (2): Block(\n",
       "        (ln_1): LayerNorm((768,), eps=1e-05, elementwise_affine=True)\n",
       "        (attn): Attention(\n",
       "          (c_attn): Conv1D()\n",
       "          (c_proj): Conv1D()\n",
       "          (attn_dropout): Dropout(p=0.1, inplace=False)\n",
       "          (resid_dropout): Dropout(p=0.1, inplace=False)\n",
       "        )\n",
       "        (ln_2): LayerNorm((768,), eps=1e-05, elementwise_affine=True)\n",
       "        (mlp): MLP(\n",
       "          (c_fc): Conv1D()\n",
       "          (c_proj): Conv1D()\n",
       "          (dropout): Dropout(p=0.1, inplace=False)\n",
       "        )\n",
       "      )\n",
       "      (3): Block(\n",
       "        (ln_1): LayerNorm((768,), eps=1e-05, elementwise_affine=True)\n",
       "        (attn): Attention(\n",
       "          (c_attn): Conv1D()\n",
       "          (c_proj): Conv1D()\n",
       "          (attn_dropout): Dropout(p=0.1, inplace=False)\n",
       "          (resid_dropout): Dropout(p=0.1, inplace=False)\n",
       "        )\n",
       "        (ln_2): LayerNorm((768,), eps=1e-05, elementwise_affine=True)\n",
       "        (mlp): MLP(\n",
       "          (c_fc): Conv1D()\n",
       "          (c_proj): Conv1D()\n",
       "          (dropout): Dropout(p=0.1, inplace=False)\n",
       "        )\n",
       "      )\n",
       "      (4): Block(\n",
       "        (ln_1): LayerNorm((768,), eps=1e-05, elementwise_affine=True)\n",
       "        (attn): Attention(\n",
       "          (c_attn): Conv1D()\n",
       "          (c_proj): Conv1D()\n",
       "          (attn_dropout): Dropout(p=0.1, inplace=False)\n",
       "          (resid_dropout): Dropout(p=0.1, inplace=False)\n",
       "        )\n",
       "        (ln_2): LayerNorm((768,), eps=1e-05, elementwise_affine=True)\n",
       "        (mlp): MLP(\n",
       "          (c_fc): Conv1D()\n",
       "          (c_proj): Conv1D()\n",
       "          (dropout): Dropout(p=0.1, inplace=False)\n",
       "        )\n",
       "      )\n",
       "      (5): Block(\n",
       "        (ln_1): LayerNorm((768,), eps=1e-05, elementwise_affine=True)\n",
       "        (attn): Attention(\n",
       "          (c_attn): Conv1D()\n",
       "          (c_proj): Conv1D()\n",
       "          (attn_dropout): Dropout(p=0.1, inplace=False)\n",
       "          (resid_dropout): Dropout(p=0.1, inplace=False)\n",
       "        )\n",
       "        (ln_2): LayerNorm((768,), eps=1e-05, elementwise_affine=True)\n",
       "        (mlp): MLP(\n",
       "          (c_fc): Conv1D()\n",
       "          (c_proj): Conv1D()\n",
       "          (dropout): Dropout(p=0.1, inplace=False)\n",
       "        )\n",
       "      )\n",
       "      (6): Block(\n",
       "        (ln_1): LayerNorm((768,), eps=1e-05, elementwise_affine=True)\n",
       "        (attn): Attention(\n",
       "          (c_attn): Conv1D()\n",
       "          (c_proj): Conv1D()\n",
       "          (attn_dropout): Dropout(p=0.1, inplace=False)\n",
       "          (resid_dropout): Dropout(p=0.1, inplace=False)\n",
       "        )\n",
       "        (ln_2): LayerNorm((768,), eps=1e-05, elementwise_affine=True)\n",
       "        (mlp): MLP(\n",
       "          (c_fc): Conv1D()\n",
       "          (c_proj): Conv1D()\n",
       "          (dropout): Dropout(p=0.1, inplace=False)\n",
       "        )\n",
       "      )\n",
       "      (7): Block(\n",
       "        (ln_1): LayerNorm((768,), eps=1e-05, elementwise_affine=True)\n",
       "        (attn): Attention(\n",
       "          (c_attn): Conv1D()\n",
       "          (c_proj): Conv1D()\n",
       "          (attn_dropout): Dropout(p=0.1, inplace=False)\n",
       "          (resid_dropout): Dropout(p=0.1, inplace=False)\n",
       "        )\n",
       "        (ln_2): LayerNorm((768,), eps=1e-05, elementwise_affine=True)\n",
       "        (mlp): MLP(\n",
       "          (c_fc): Conv1D()\n",
       "          (c_proj): Conv1D()\n",
       "          (dropout): Dropout(p=0.1, inplace=False)\n",
       "        )\n",
       "      )\n",
       "      (8): Block(\n",
       "        (ln_1): LayerNorm((768,), eps=1e-05, elementwise_affine=True)\n",
       "        (attn): Attention(\n",
       "          (c_attn): Conv1D()\n",
       "          (c_proj): Conv1D()\n",
       "          (attn_dropout): Dropout(p=0.1, inplace=False)\n",
       "          (resid_dropout): Dropout(p=0.1, inplace=False)\n",
       "        )\n",
       "        (ln_2): LayerNorm((768,), eps=1e-05, elementwise_affine=True)\n",
       "        (mlp): MLP(\n",
       "          (c_fc): Conv1D()\n",
       "          (c_proj): Conv1D()\n",
       "          (dropout): Dropout(p=0.1, inplace=False)\n",
       "        )\n",
       "      )\n",
       "      (9): Block(\n",
       "        (ln_1): LayerNorm((768,), eps=1e-05, elementwise_affine=True)\n",
       "        (attn): Attention(\n",
       "          (c_attn): Conv1D()\n",
       "          (c_proj): Conv1D()\n",
       "          (attn_dropout): Dropout(p=0.1, inplace=False)\n",
       "          (resid_dropout): Dropout(p=0.1, inplace=False)\n",
       "        )\n",
       "        (ln_2): LayerNorm((768,), eps=1e-05, elementwise_affine=True)\n",
       "        (mlp): MLP(\n",
       "          (c_fc): Conv1D()\n",
       "          (c_proj): Conv1D()\n",
       "          (dropout): Dropout(p=0.1, inplace=False)\n",
       "        )\n",
       "      )\n",
       "      (10): Block(\n",
       "        (ln_1): LayerNorm((768,), eps=1e-05, elementwise_affine=True)\n",
       "        (attn): Attention(\n",
       "          (c_attn): Conv1D()\n",
       "          (c_proj): Conv1D()\n",
       "          (attn_dropout): Dropout(p=0.1, inplace=False)\n",
       "          (resid_dropout): Dropout(p=0.1, inplace=False)\n",
       "        )\n",
       "        (ln_2): LayerNorm((768,), eps=1e-05, elementwise_affine=True)\n",
       "        (mlp): MLP(\n",
       "          (c_fc): Conv1D()\n",
       "          (c_proj): Conv1D()\n",
       "          (dropout): Dropout(p=0.1, inplace=False)\n",
       "        )\n",
       "      )\n",
       "      (11): Block(\n",
       "        (ln_1): LayerNorm((768,), eps=1e-05, elementwise_affine=True)\n",
       "        (attn): Attention(\n",
       "          (c_attn): Conv1D()\n",
       "          (c_proj): Conv1D()\n",
       "          (attn_dropout): Dropout(p=0.1, inplace=False)\n",
       "          (resid_dropout): Dropout(p=0.1, inplace=False)\n",
       "        )\n",
       "        (ln_2): LayerNorm((768,), eps=1e-05, elementwise_affine=True)\n",
       "        (mlp): MLP(\n",
       "          (c_fc): Conv1D()\n",
       "          (c_proj): Conv1D()\n",
       "          (dropout): Dropout(p=0.1, inplace=False)\n",
       "        )\n",
       "      )\n",
       "    )\n",
       "    (ln_f): LayerNorm((768,), eps=1e-05, elementwise_affine=True)\n",
       "  )\n",
       "  (lm_head): Linear(in_features=768, out_features=50257, bias=False)\n",
       ")"
      ]
     },
     "execution_count": 10,
     "metadata": {},
     "output_type": "execute_result"
    }
   ],
   "source": [
    "# load pretrained GPT2\n",
    "tokenizer = add_special_tokens()\n",
    "ignore_idx = tokenizer.pad_token_id\n",
    "model = GPT2LMHeadModel.from_pretrained('gpt2')\n",
    "model.resize_token_embeddings(len(tokenizer))\n",
    "model.to(args.device)"
   ]
  },
  {
   "cell_type": "code",
   "execution_count": 11,
   "metadata": {
    "jupyter": {
     "outputs_hidden": true
    }
   },
   "outputs": [
    {
     "name": "stderr",
     "output_type": "stream",
     "text": [
      "/tmp/ipykernel_3156394/2835604549.py:20: TqdmDeprecationWarning: Please use `tqdm.notebook.trange` instead of `tqdm.tnrange`\n",
      "  train_iterator = tnrange(int(args.num_train_epochs), desc=\"Epoch\")\n"
     ]
    },
    {
     "data": {
      "application/vnd.jupyter.widget-view+json": {
       "model_id": "3c736b7badb8445ba18f2dd84ead5940",
       "version_major": 2,
       "version_minor": 0
      },
      "text/plain": [
       "Epoch:   0%|          | 0/1 [00:00<?, ?it/s]"
      ]
     },
     "metadata": {},
     "output_type": "display_data"
    },
    {
     "name": "stderr",
     "output_type": "stream",
     "text": [
      "/tmp/ipykernel_3156394/2835604549.py:23: TqdmDeprecationWarning: This function will be removed in tqdm==5.0.0\n",
      "Please use `tqdm.notebook.tqdm` instead of `tqdm.tqdm_notebook`\n",
      "  epoch_iterator = tqdm_notebook(train_dl, desc=\"Training\")\n"
     ]
    },
    {
     "data": {
      "application/vnd.jupyter.widget-view+json": {
       "model_id": "a1a4689fa6e74da6a658c7e54f9c914e",
       "version_major": 2,
       "version_minor": 0
      },
      "text/plain": [
       "Training:   0%|          | 0/3000 [00:00<?, ?it/s]"
      ]
     },
     "metadata": {},
     "output_type": "display_data"
    },
    {
     "name": "stderr",
     "output_type": "stream",
     "text": [
      "/home/rli10/anaconda3/lib/python3.9/site-packages/transformers/optimization.py:166: UserWarning: This overload of add_ is deprecated:\n",
      "\tadd_(Number alpha, Tensor other)\n",
      "Consider using one of the following signatures instead:\n",
      "\tadd_(Tensor other, *, Number alpha) (Triggered internally at  ../torch/csrc/utils/python_arg_parser.cpp:1050.)\n",
      "  exp_avg.mul_(beta1).add_(1.0 - beta1, grad)\n"
     ]
    },
    {
     "name": "stdout",
     "output_type": "stream",
     "text": [
      "loss: 28.877761840820312\n",
      "\n",
      "After 1st update: \n",
      "\n"
     ]
    },
    {
     "name": "stderr",
     "output_type": "stream",
     "text": [
      "/home/rli10/anaconda3/lib/python3.9/site-packages/torch/optim/lr_scheduler.py:247: UserWarning: To get the last learning rate computed by the scheduler, please use `get_last_lr()`.\n",
      "  warnings.warn(\"To get the last learning rate computed by the scheduler, \"\n"
     ]
    },
    {
     "data": {
      "application/vnd.jupyter.widget-view+json": {
       "model_id": "e41ca9135e07418bb6f509fc0704b7f8",
       "version_major": 2,
       "version_minor": 0
      },
      "text/plain": [
       "  0%|          | 0/100 [00:00<?, ?it/s]"
      ]
     },
     "metadata": {},
     "output_type": "display_data"
    },
    {
     "name": "stdout",
     "output_type": "stream",
     "text": [
      "new_article\n",
      "\n",
      "We report the cDNA deduced primary structure of a wheat germ agglutinin-reactive nuclear pore complex (NPC) protein of rat. The protein, termed Nup98 (for nucleoporin of 98 kDa), contains numerous GLFG and FG repeats and some FXFG repeats and is thus a vertebrate member of a family of GLFG nucleoporins that were previously discovered in yeast. Immunoelectron microscopy showed Nup98 to be asymmetrically located at the nucleoplasmic side of the NPC. Nup98 functions as one of several docking site nucleoporins in a cytosolic docking activity-mediated binding of a model transport substrate. The docking site of Nup98 was mapped to its N-terminal half, which contains all of the peptide repeats. A recombinant segment of this region depleted the docking activity of cytosol. We suggest that the peptide repeat domain of Nup98, together with peptide repeat domains of other nucleoporins, forms an array of sites for mediated docking of transport substrate, and that bidirectional transport across the NPC proceeds by repeated docking and undocking reactions.\n",
      "\n",
      "generated_summary\n",
      "\n",
      "<|sep|><|sep|><|sep|><|sep|><|pad|><|pad|><|pad|><|sep|><|sep|><|sep|><|pad|><|pad|><|sep|><|sep|><|pad|><|sep|><|pad|><|sep|><|sep|><|pad|><|sep|><|pad|><|sep|><|pad|><|pad|><|sep|><|pad|><|pad|><|sep|><|pad|><|pad|><|sep|><|sep|><|sep|><|sep|><|sep|><|sep|><|sep|><|sep|><|sep|><|sep|><|pad|><|sep|><|sep|><|sep|><|sep|><|sep|><|sep|><|sep|><|sep|><|sep|><|pad|><|sep|><|sep|><|sep|><|sep|><|sep|><|sep|><|sep|><|sep|><|sep|><|sep|><|sep|><|sep|><|sep|><|sep|><|sep|><|sep|><|sep|><|sep|><|pad|><|sep|><|sep|><|sep|><|sep|><|sep|><|sep|><|sep|><|sep|><|sep|><|sep|><|sep|><|sep|><|sep|><|sep|><|sep|><|sep|><|sep|><|sep|><|sep|><|sep|><|sep|><|sep|><|sep|><|sep|><|sep|><|sep|><|sep|><|sep|><|pad|>\n",
      "\n",
      "actual_summary\n",
      "\n",
      "NUP98 enables transporter activity. <|pad|> <|pad|> <|pad|> <|pad|> <|pad|> <|pad|> <|pad|> <|pad|> <|pad|> <|pad|> <|pad|> <|pad|> <|pad|> <|pad|> <|pad|> <|pad|> <|pad|> <|pad|> <|pad|> <|pad|> <|pad|> <|pad|> <|pad|> <|pad|> <|pad|> <|pad|> <|pad|> <|pad|> <|pad|> <|pad|> <|pad|> <|pad|> <|pad|> <|pad|> <|pad|> <|pad|> <|pad|> <|pad|> <|pad|> <|pad|> <|pad|> <|pad|> <|pad|> <|pad|> <|pad|> <|pad|> <|pad|> <|pad|> <|pad|> <|pad|> <|pad|> <|pad|> <|pad|> <|pad|> <|pad|> <|pad|> <|pad|> <|pad|> <|pad|> <|pad|> <|pad|> <|pad|> <|pad|> <|pad|> <|pad|> <|pad|> <|pad|> <|pad|> <|pad|> <|pad|> <|pad|> <|pad|> <|pad|> <|pad|> <|pad|> <|pad|> <|pad|> <|pad|> <|pad|> <|pad|> <|pad|> <|pad|> <|pad|> <|pad|> <|pad|> <|pad|> <|pad|> <|pad|> <|pad|> <|pad|> <|pad|> <|pad|> <|pad|>\n",
      "\n"
     ]
    },
    {
     "data": {
      "application/vnd.jupyter.widget-view+json": {
       "model_id": "0661ee7a646b4ea2865868dacd5e0970",
       "version_major": 2,
       "version_minor": 0
      },
      "text/plain": [
       "  0%|          | 0/100 [00:00<?, ?it/s]"
      ]
     },
     "metadata": {},
     "output_type": "display_data"
    },
    {
     "name": "stdout",
     "output_type": "stream",
     "text": [
      "new_article\n",
      "\n",
      "The cellular effects of stromal cell-derived factor-1 (SDF-1) are mediated primarily by binding to the CXC chemokine receptor-4. We report in this study that SDF-1 and its peptide analogues induce a concentration- and time-dependent accumulation of phosphatidylinositol-(3,4,5)-trisphosphate (PtdIns(3,4,5)P3) in Jurkat cells. This SDF-1-stimulated generation of D-3 phosphoinositide lipids was inhibited by pretreatment of the cells with an SDF-1 peptide antagonist or an anti-CXCR4 Ab. In addition, the phosphoinositide 3 (PI 3)-kinase inhibitors wortmannin and LY294002, as well as the Gi protein inhibitor pertussis toxin, also inhibited the SDF-1-stimulated accumulation of PtdIns(3,4,5)P3. The effects of SDF-1 on D-3 phosphoinositide lipid accumulation correlated well with activation of the known PI 3-kinase effector protein kinase B, which was also inhibited by wortmannin and pertussis toxin. Concentrations of PI 3-kinase inhibitors, sufficient to inhibit PtdIns(3,4,5)P3 accumulation, also inhibited chemotaxis of Jurkat and peripheral blood-derived T lymphocytes in response to SDF-1. In contrast, SDF-1-stimulated actin polymerization was only partially inhibited by PI 3-kinase inhibitors, suggesting that while chemotaxis is fully dependent on PI 3-kinase activation, actin polymerization requires additional biochemical inputs. Finally, SDF-1-stimulated extracellular signal-related kinase (ERK)-1/2 mitogen-activated protein kinase activation was inhibited by PI 3-kinase inhibitors. In addition, the mitogen-activated protein/ERK kinase inhibitor PD098059 partially attenuated chemotaxis in response to SDF-1. Hence, it appears that ERK1/2 activation is dependent on PI 3-kinase activation, and both biochemical events are involved in the regulation of SDF-1-stimulated chemotaxis.\n",
      "\n",
      "generated_summary\n",
      "\n",
      "<|sep|><|sep|><|sep|><|sep|><|sep|><|pad|><|pad|><|sep|><|pad|><|sep|><|sep|><|sep|><|sep|><|pad|><|sep|><|sep|><|pad|><|sep|><|sep|><|pad|><|sep|><|sep|><|sep|><|pad|><|pad|><|sep|><|pad|><|sep|><|pad|><|sep|><|sep|><|sep|><|sep|><|sep|><|sep|><|sep|><|sep|><|pad|><|sep|><|sep|><|pad|><|sep|><|sep|><|pad|><|pad|><|sep|><|sep|><|sep|><|sep|><|sep|><|sep|><|sep|><|sep|><|pad|><|pad|><|sep|><|sep|><|sep|><|pad|><|sep|><|sep|><|pad|><|pad|><|sep|><|pad|><|sep|><|sep|><|sep|><|sep|><|sep|><|sep|><|pad|><|sep|><|sep|><|sep|><|pad|><|sep|><|pad|><|pad|><|sep|><|sep|><|sep|><|pad|><|sep|><|pad|><|pad|><|pad|><|pad|><|sep|><|sep|><|sep|><|sep|><|pad|><|sep|><|sep|><|sep|><|pad|><|sep|><|sep|><|pad|>\n",
      "\n",
      "actual_summary\n",
      "\n",
      "AKT1 enables protein kinase activity; involved_in G protein-coupled receptor signaling pathway. <|pad|> <|pad|> <|pad|> <|pad|> <|pad|> <|pad|> <|pad|> <|pad|> <|pad|> <|pad|> <|pad|> <|pad|> <|pad|> <|pad|> <|pad|> <|pad|> <|pad|> <|pad|> <|pad|> <|pad|> <|pad|> <|pad|> <|pad|> <|pad|> <|pad|> <|pad|> <|pad|> <|pad|> <|pad|> <|pad|> <|pad|> <|pad|> <|pad|> <|pad|> <|pad|> <|pad|> <|pad|> <|pad|> <|pad|> <|pad|> <|pad|> <|pad|> <|pad|> <|pad|> <|pad|> <|pad|> <|pad|> <|pad|> <|pad|> <|pad|> <|pad|> <|pad|> <|pad|> <|pad|> <|pad|> <|pad|> <|pad|> <|pad|> <|pad|> <|pad|> <|pad|> <|pad|> <|pad|> <|pad|> <|pad|> <|pad|> <|pad|> <|pad|> <|pad|> <|pad|> <|pad|> <|pad|> <|pad|> <|pad|> <|pad|> <|pad|> <|pad|> <|pad|>\n",
      "\n",
      "loss: 35.08872604370117\n",
      "\n",
      "loss: 34.96814727783203\n",
      "\n",
      "loss: 38.20764923095703\n",
      "\n",
      "loss: 41.35857391357422\n",
      "\n",
      "loss: 41.470088958740234\n",
      "\n",
      "loss: 44.711387634277344\n",
      "\n",
      "loss: 31.01631736755371\n",
      "\n",
      "loss: 38.69026184082031\n",
      "\n",
      "loss: 29.363985061645508\n",
      "\n"
     ]
    },
    {
     "data": {
      "application/vnd.jupyter.widget-view+json": {
       "model_id": "318abee41048493fa799adab62cba6be",
       "version_major": 2,
       "version_minor": 0
      },
      "text/plain": [
       "Evaluating:   0%|          | 0/500 [00:00<?, ?it/s]"
      ]
     },
     "metadata": {},
     "output_type": "display_data"
    },
    {
     "name": "stdout",
     "output_type": "stream",
     "text": [
      "perplexity: 5.134615098619376e+29\n",
      "After 11 updates: \n",
      "\n"
     ]
    },
    {
     "data": {
      "application/vnd.jupyter.widget-view+json": {
       "model_id": "0260c85263084b8585fb30a6d58bde72",
       "version_major": 2,
       "version_minor": 0
      },
      "text/plain": [
       "  0%|          | 0/100 [00:00<?, ?it/s]"
      ]
     },
     "metadata": {},
     "output_type": "display_data"
    },
    {
     "name": "stdout",
     "output_type": "stream",
     "text": [
      "We report the cDNA deduced primary structure of a wheat germ agglutinin-reactive nuclear pore complex (NPC) protein of rat. The protein, termed Nup98 (for nucleoporin of 98 kDa), contains numerous GLFG and FG repeats and some FXFG repeats and is thus a vertebrate member of a family of GLFG nucleoporins that were previously discovered in yeast. Immunoelectron microscopy showed Nup98 to be asymmetrically located at the nucleoplasmic side of the NPC. Nup98 functions as one of several docking site nucleoporins in a cytosolic docking activity-mediated binding of a model transport substrate. The docking site of Nup98 was mapped to its N-terminal half, which contains all of the peptide repeats. A recombinant segment of this region depleted the docking activity of cytosol. We suggest that the peptide repeat domain of Nup98, together with peptide repeat domains of other nucleoporins, forms an array of sites for mediated docking of transport substrate, and that bidirectional transport across the NPC proceeds by repeated docking and undocking reactions.\n",
      "\n",
      "generated_summary\n",
      "\n"
     ]
    },
    {
     "data": {
      "application/vnd.jupyter.widget-view+json": {
       "model_id": "060c5e13715d4299bd253b1013e236f4",
       "version_major": 2,
       "version_minor": 0
      },
      "text/plain": [
       "  0%|          | 0/100 [00:00<?, ?it/s]"
      ]
     },
     "metadata": {},
     "output_type": "display_data"
    },
    {
     "name": "stdout",
     "output_type": "stream",
     "text": [
      "The cellular effects of stromal cell-derived factor-1 (SDF-1) are mediated primarily by binding to the CXC chemokine receptor-4. We report in this study that SDF-1 and its peptide analogues induce a concentration- and time-dependent accumulation of phosphatidylinositol-(3,4,5)-trisphosphate (PtdIns(3,4,5)P3) in Jurkat cells. This SDF-1-stimulated generation of D-3 phosphoinositide lipids was inhibited by pretreatment of the cells with an SDF-1 peptide antagonist or an anti-CXCR4 Ab. In addition, the phosphoinositide 3 (PI 3)-kinase inhibitors wortmannin and LY294002, as well as the Gi protein inhibitor pertussis toxin, also inhibited the SDF-1-stimulated accumulation of PtdIns(3,4,5)P3. The effects of SDF-1 on D-3 phosphoinositide lipid accumulation correlated well with activation of the known PI 3-kinase effector protein kinase B, which was also inhibited by wortmannin and pertussis toxin. Concentrations of PI 3-kinase inhibitors, sufficient to inhibit PtdIns(3,4,5)P3 accumulation, also inhibited chemotaxis of Jurkat and peripheral blood-derived T lymphocytes in response to SDF-1. In contrast, SDF-1-stimulated actin polymerization was only partially inhibited by PI 3-kinase inhibitors, suggesting that while chemotaxis is fully dependent on PI 3-kinase activation, actin polymerization requires additional biochemical inputs. Finally, SDF-1-stimulated extracellular signal-related kinase (ERK)-1/2 mitogen-activated protein kinase activation was inhibited by PI 3-kinase inhibitors. In addition, the mitogen-activated protein/ERK kinase inhibitor PD098059 partially attenuated chemotaxis in response to SDF-1. Hence, it appears that ERK1/2 activation is dependent on PI 3-kinase activation, and both biochemical events are involved in the regulation of SDF-1-stimulated chemotaxis.\n",
      "\n",
      "generated_summary\n",
      "\n",
      "loss: 35.07607650756836\n",
      "\n",
      "loss: 38.209590911865234\n",
      "\n",
      "loss: 33.410621643066406\n",
      "\n",
      "loss: 34.06455612182617\n",
      "\n",
      "loss: 31.063671112060547\n",
      "\n",
      "loss: 29.240447998046875\n",
      "\n",
      "loss: 25.487611770629883\n",
      "\n",
      "loss: 23.50931167602539\n",
      "\n",
      "loss: 20.071624755859375\n",
      "\n",
      "loss: 19.919870376586914\n",
      "\n"
     ]
    },
    {
     "data": {
      "application/vnd.jupyter.widget-view+json": {
       "model_id": "931c4431f92b47c1a7bc579dd5ce7638",
       "version_major": 2,
       "version_minor": 0
      },
      "text/plain": [
       "Evaluating:   0%|          | 0/500 [00:00<?, ?it/s]"
      ]
     },
     "metadata": {},
     "output_type": "display_data"
    },
    {
     "name": "stdout",
     "output_type": "stream",
     "text": [
      "perplexity: 3.776844775240499e+17\n",
      "After 21 updates: \n",
      "\n"
     ]
    },
    {
     "data": {
      "application/vnd.jupyter.widget-view+json": {
       "model_id": "9027aa76d4204021b4225de32ffeab66",
       "version_major": 2,
       "version_minor": 0
      },
      "text/plain": [
       "  0%|          | 0/100 [00:00<?, ?it/s]"
      ]
     },
     "metadata": {},
     "output_type": "display_data"
    },
    {
     "name": "stdout",
     "output_type": "stream",
     "text": [
      "We report the cDNA deduced primary structure of a wheat germ agglutinin-reactive nuclear pore complex (NPC) protein of rat. The protein, termed Nup98 (for nucleoporin of 98 kDa), contains numerous GLFG and FG repeats and some FXFG repeats and is thus a vertebrate member of a family of GLFG nucleoporins that were previously discovered in yeast. Immunoelectron microscopy showed Nup98 to be asymmetrically located at the nucleoplasmic side of the NPC. Nup98 functions as one of several docking site nucleoporins in a cytosolic docking activity-mediated binding of a model transport substrate. The docking site of Nup98 was mapped to its N-terminal half, which contains all of the peptide repeats. A recombinant segment of this region depleted the docking activity of cytosol. We suggest that the peptide repeat domain of Nup98, together with peptide repeat domains of other nucleoporins, forms an array of sites for mediated docking of transport substrate, and that bidirectional transport across the NPC proceeds by repeated docking and undocking reactions.\n",
      "\n",
      "generated_summary\n",
      "\n"
     ]
    },
    {
     "data": {
      "application/vnd.jupyter.widget-view+json": {
       "model_id": "e1fd5415279043088a564a5ddfb013f7",
       "version_major": 2,
       "version_minor": 0
      },
      "text/plain": [
       "  0%|          | 0/100 [00:00<?, ?it/s]"
      ]
     },
     "metadata": {},
     "output_type": "display_data"
    },
    {
     "name": "stdout",
     "output_type": "stream",
     "text": [
      "The cellular effects of stromal cell-derived factor-1 (SDF-1) are mediated primarily by binding to the CXC chemokine receptor-4. We report in this study that SDF-1 and its peptide analogues induce a concentration- and time-dependent accumulation of phosphatidylinositol-(3,4,5)-trisphosphate (PtdIns(3,4,5)P3) in Jurkat cells. This SDF-1-stimulated generation of D-3 phosphoinositide lipids was inhibited by pretreatment of the cells with an SDF-1 peptide antagonist or an anti-CXCR4 Ab. In addition, the phosphoinositide 3 (PI 3)-kinase inhibitors wortmannin and LY294002, as well as the Gi protein inhibitor pertussis toxin, also inhibited the SDF-1-stimulated accumulation of PtdIns(3,4,5)P3. The effects of SDF-1 on D-3 phosphoinositide lipid accumulation correlated well with activation of the known PI 3-kinase effector protein kinase B, which was also inhibited by wortmannin and pertussis toxin. Concentrations of PI 3-kinase inhibitors, sufficient to inhibit PtdIns(3,4,5)P3 accumulation, also inhibited chemotaxis of Jurkat and peripheral blood-derived T lymphocytes in response to SDF-1. In contrast, SDF-1-stimulated actin polymerization was only partially inhibited by PI 3-kinase inhibitors, suggesting that while chemotaxis is fully dependent on PI 3-kinase activation, actin polymerization requires additional biochemical inputs. Finally, SDF-1-stimulated extracellular signal-related kinase (ERK)-1/2 mitogen-activated protein kinase activation was inhibited by PI 3-kinase inhibitors. In addition, the mitogen-activated protein/ERK kinase inhibitor PD098059 partially attenuated chemotaxis in response to SDF-1. Hence, it appears that ERK1/2 activation is dependent on PI 3-kinase activation, and both biochemical events are involved in the regulation of SDF-1-stimulated chemotaxis.\n",
      "\n",
      "generated_summary\n",
      "\n",
      "loss: 13.339241981506348\n",
      "\n",
      "loss: 20.504819869995117\n",
      "\n",
      "loss: 17.692956924438477\n",
      "\n",
      "loss: 10.085098266601562\n",
      "\n",
      "loss: 15.252652168273926\n",
      "\n",
      "loss: 8.414228439331055\n",
      "\n",
      "loss: 5.62284517288208\n",
      "\n",
      "loss: 5.678625583648682\n",
      "\n",
      "loss: 4.047420024871826\n",
      "\n",
      "loss: 2.4878783226013184\n",
      "\n"
     ]
    },
    {
     "data": {
      "application/vnd.jupyter.widget-view+json": {
       "model_id": "8a1754f37a40465194cf26a60d478e35",
       "version_major": 2,
       "version_minor": 0
      },
      "text/plain": [
       "Evaluating:   0%|          | 0/500 [00:00<?, ?it/s]"
      ]
     },
     "metadata": {},
     "output_type": "display_data"
    },
    {
     "name": "stdout",
     "output_type": "stream",
     "text": [
      "perplexity: 22412480512.0\n",
      "After 31 updates: \n",
      "\n"
     ]
    },
    {
     "data": {
      "application/vnd.jupyter.widget-view+json": {
       "model_id": "0b6105ae7faa4e57a4b5c6e2ed668d97",
       "version_major": 2,
       "version_minor": 0
      },
      "text/plain": [
       "  0%|          | 0/100 [00:00<?, ?it/s]"
      ]
     },
     "metadata": {},
     "output_type": "display_data"
    },
    {
     "name": "stdout",
     "output_type": "stream",
     "text": [
      "We report the cDNA deduced primary structure of a wheat germ agglutinin-reactive nuclear pore complex (NPC) protein of rat. The protein, termed Nup98 (for nucleoporin of 98 kDa), contains numerous GLFG and FG repeats and some FXFG repeats and is thus a vertebrate member of a family of GLFG nucleoporins that were previously discovered in yeast. Immunoelectron microscopy showed Nup98 to be asymmetrically located at the nucleoplasmic side of the NPC. Nup98 functions as one of several docking site nucleoporins in a cytosolic docking activity-mediated binding of a model transport substrate. The docking site of Nup98 was mapped to its N-terminal half, which contains all of the peptide repeats. A recombinant segment of this region depleted the docking activity of cytosol. We suggest that the peptide repeat domain of Nup98, together with peptide repeat domains of other nucleoporins, forms an array of sites for mediated docking of transport substrate, and that bidirectional transport across the NPC proceeds by repeated docking and undocking reactions.\n",
      "\n",
      "generated_summary\n",
      "\n"
     ]
    },
    {
     "data": {
      "application/vnd.jupyter.widget-view+json": {
       "model_id": "3d77546c5cd04059b7c8e56a144883a9",
       "version_major": 2,
       "version_minor": 0
      },
      "text/plain": [
       "  0%|          | 0/100 [00:00<?, ?it/s]"
      ]
     },
     "metadata": {},
     "output_type": "display_data"
    },
    {
     "name": "stdout",
     "output_type": "stream",
     "text": [
      "The cellular effects of stromal cell-derived factor-1 (SDF-1) are mediated primarily by binding to the CXC chemokine receptor-4. We report in this study that SDF-1 and its peptide analogues induce a concentration- and time-dependent accumulation of phosphatidylinositol-(3,4,5)-trisphosphate (PtdIns(3,4,5)P3) in Jurkat cells. This SDF-1-stimulated generation of D-3 phosphoinositide lipids was inhibited by pretreatment of the cells with an SDF-1 peptide antagonist or an anti-CXCR4 Ab. In addition, the phosphoinositide 3 (PI 3)-kinase inhibitors wortmannin and LY294002, as well as the Gi protein inhibitor pertussis toxin, also inhibited the SDF-1-stimulated accumulation of PtdIns(3,4,5)P3. The effects of SDF-1 on D-3 phosphoinositide lipid accumulation correlated well with activation of the known PI 3-kinase effector protein kinase B, which was also inhibited by wortmannin and pertussis toxin. Concentrations of PI 3-kinase inhibitors, sufficient to inhibit PtdIns(3,4,5)P3 accumulation, also inhibited chemotaxis of Jurkat and peripheral blood-derived T lymphocytes in response to SDF-1. In contrast, SDF-1-stimulated actin polymerization was only partially inhibited by PI 3-kinase inhibitors, suggesting that while chemotaxis is fully dependent on PI 3-kinase activation, actin polymerization requires additional biochemical inputs. Finally, SDF-1-stimulated extracellular signal-related kinase (ERK)-1/2 mitogen-activated protein kinase activation was inhibited by PI 3-kinase inhibitors. In addition, the mitogen-activated protein/ERK kinase inhibitor PD098059 partially attenuated chemotaxis in response to SDF-1. Hence, it appears that ERK1/2 activation is dependent on PI 3-kinase activation, and both biochemical events are involved in the regulation of SDF-1-stimulated chemotaxis.\n",
      "\n",
      "generated_summary\n",
      "\n",
      "loss: 7.91152811050415\n",
      "\n",
      "loss: 2.599921941757202\n",
      "\n",
      "loss: 3.748872995376587\n",
      "\n",
      "loss: 6.337329864501953\n",
      "\n",
      "loss: 2.94484281539917\n",
      "\n",
      "loss: 24.651384353637695\n",
      "\n",
      "loss: 13.003806114196777\n",
      "\n",
      "loss: 5.106064796447754\n",
      "\n",
      "loss: 3.336897373199463\n",
      "\n",
      "loss: 3.2761902809143066\n",
      "\n"
     ]
    },
    {
     "data": {
      "application/vnd.jupyter.widget-view+json": {
       "model_id": "544fb15ba2e8459fb5d20a395f406baf",
       "version_major": 2,
       "version_minor": 0
      },
      "text/plain": [
       "Evaluating:   0%|          | 0/500 [00:00<?, ?it/s]"
      ]
     },
     "metadata": {},
     "output_type": "display_data"
    },
    {
     "name": "stdout",
     "output_type": "stream",
     "text": [
      "perplexity: 455531.6875\n",
      "After 41 updates: \n",
      "\n"
     ]
    },
    {
     "data": {
      "application/vnd.jupyter.widget-view+json": {
       "model_id": "580ed1282fbe420ea030a502443dace4",
       "version_major": 2,
       "version_minor": 0
      },
      "text/plain": [
       "  0%|          | 0/100 [00:00<?, ?it/s]"
      ]
     },
     "metadata": {},
     "output_type": "display_data"
    },
    {
     "name": "stdout",
     "output_type": "stream",
     "text": [
      "We report the cDNA deduced primary structure of a wheat germ agglutinin-reactive nuclear pore complex (NPC) protein of rat. The protein, termed Nup98 (for nucleoporin of 98 kDa), contains numerous GLFG and FG repeats and some FXFG repeats and is thus a vertebrate member of a family of GLFG nucleoporins that were previously discovered in yeast. Immunoelectron microscopy showed Nup98 to be asymmetrically located at the nucleoplasmic side of the NPC. Nup98 functions as one of several docking site nucleoporins in a cytosolic docking activity-mediated binding of a model transport substrate. The docking site of Nup98 was mapped to its N-terminal half, which contains all of the peptide repeats. A recombinant segment of this region depleted the docking activity of cytosol. We suggest that the peptide repeat domain of Nup98, together with peptide repeat domains of other nucleoporins, forms an array of sites for mediated docking of transport substrate, and that bidirectional transport across the NPC proceeds by repeated docking and undocking reactions.\n",
      "\n",
      "generated_summary\n",
      "\n"
     ]
    },
    {
     "data": {
      "application/vnd.jupyter.widget-view+json": {
       "model_id": "3ecdd36b700a4e4789f04cf7ecbeadc1",
       "version_major": 2,
       "version_minor": 0
      },
      "text/plain": [
       "  0%|          | 0/100 [00:00<?, ?it/s]"
      ]
     },
     "metadata": {},
     "output_type": "display_data"
    },
    {
     "name": "stdout",
     "output_type": "stream",
     "text": [
      "The cellular effects of stromal cell-derived factor-1 (SDF-1) are mediated primarily by binding to the CXC chemokine receptor-4. We report in this study that SDF-1 and its peptide analogues induce a concentration- and time-dependent accumulation of phosphatidylinositol-(3,4,5)-trisphosphate (PtdIns(3,4,5)P3) in Jurkat cells. This SDF-1-stimulated generation of D-3 phosphoinositide lipids was inhibited by pretreatment of the cells with an SDF-1 peptide antagonist or an anti-CXCR4 Ab. In addition, the phosphoinositide 3 (PI 3)-kinase inhibitors wortmannin and LY294002, as well as the Gi protein inhibitor pertussis toxin, also inhibited the SDF-1-stimulated accumulation of PtdIns(3,4,5)P3. The effects of SDF-1 on D-3 phosphoinositide lipid accumulation correlated well with activation of the known PI 3-kinase effector protein kinase B, which was also inhibited by wortmannin and pertussis toxin. Concentrations of PI 3-kinase inhibitors, sufficient to inhibit PtdIns(3,4,5)P3 accumulation, also inhibited chemotaxis of Jurkat and peripheral blood-derived T lymphocytes in response to SDF-1. In contrast, SDF-1-stimulated actin polymerization was only partially inhibited by PI 3-kinase inhibitors, suggesting that while chemotaxis is fully dependent on PI 3-kinase activation, actin polymerization requires additional biochemical inputs. Finally, SDF-1-stimulated extracellular signal-related kinase (ERK)-1/2 mitogen-activated protein kinase activation was inhibited by PI 3-kinase inhibitors. In addition, the mitogen-activated protein/ERK kinase inhibitor PD098059 partially attenuated chemotaxis in response to SDF-1. Hence, it appears that ERK1/2 activation is dependent on PI 3-kinase activation, and both biochemical events are involved in the regulation of SDF-1-stimulated chemotaxis.\n",
      "\n",
      "generated_summary\n",
      "\n",
      "loss: 2.055708646774292\n",
      "\n",
      "loss: 2.2389376163482666\n",
      "\n",
      "loss: 2.7099597454071045\n",
      "\n",
      "loss: 2.914320230484009\n",
      "\n",
      "loss: 2.108449697494507\n",
      "\n",
      "loss: 2.125617027282715\n",
      "\n",
      "loss: 2.116068124771118\n",
      "\n",
      "loss: 2.672373056411743\n",
      "\n",
      "loss: 2.5902161598205566\n",
      "\n",
      "loss: 2.853780508041382\n",
      "\n"
     ]
    },
    {
     "data": {
      "application/vnd.jupyter.widget-view+json": {
       "model_id": "379ba4d1dd0248029b61e6f691f8a6e5",
       "version_major": 2,
       "version_minor": 0
      },
      "text/plain": [
       "Evaluating:   0%|          | 0/500 [00:00<?, ?it/s]"
      ]
     },
     "metadata": {},
     "output_type": "display_data"
    },
    {
     "name": "stdout",
     "output_type": "stream",
     "text": [
      "perplexity: 513.4656982421875\n",
      "After 51 updates: \n",
      "\n"
     ]
    },
    {
     "data": {
      "application/vnd.jupyter.widget-view+json": {
       "model_id": "8fdf2fa642ed4049b905be1eba083bef",
       "version_major": 2,
       "version_minor": 0
      },
      "text/plain": [
       "  0%|          | 0/100 [00:00<?, ?it/s]"
      ]
     },
     "metadata": {},
     "output_type": "display_data"
    },
    {
     "name": "stdout",
     "output_type": "stream",
     "text": [
      "We report the cDNA deduced primary structure of a wheat germ agglutinin-reactive nuclear pore complex (NPC) protein of rat. The protein, termed Nup98 (for nucleoporin of 98 kDa), contains numerous GLFG and FG repeats and some FXFG repeats and is thus a vertebrate member of a family of GLFG nucleoporins that were previously discovered in yeast. Immunoelectron microscopy showed Nup98 to be asymmetrically located at the nucleoplasmic side of the NPC. Nup98 functions as one of several docking site nucleoporins in a cytosolic docking activity-mediated binding of a model transport substrate. The docking site of Nup98 was mapped to its N-terminal half, which contains all of the peptide repeats. A recombinant segment of this region depleted the docking activity of cytosol. We suggest that the peptide repeat domain of Nup98, together with peptide repeat domains of other nucleoporins, forms an array of sites for mediated docking of transport substrate, and that bidirectional transport across the NPC proceeds by repeated docking and undocking reactions.\n",
      "\n",
      "generated_summary\n",
      "\n"
     ]
    },
    {
     "data": {
      "application/vnd.jupyter.widget-view+json": {
       "model_id": "828861f730b74535ba093a2b9c2fed76",
       "version_major": 2,
       "version_minor": 0
      },
      "text/plain": [
       "  0%|          | 0/100 [00:00<?, ?it/s]"
      ]
     },
     "metadata": {},
     "output_type": "display_data"
    },
    {
     "name": "stdout",
     "output_type": "stream",
     "text": [
      "The cellular effects of stromal cell-derived factor-1 (SDF-1) are mediated primarily by binding to the CXC chemokine receptor-4. We report in this study that SDF-1 and its peptide analogues induce a concentration- and time-dependent accumulation of phosphatidylinositol-(3,4,5)-trisphosphate (PtdIns(3,4,5)P3) in Jurkat cells. This SDF-1-stimulated generation of D-3 phosphoinositide lipids was inhibited by pretreatment of the cells with an SDF-1 peptide antagonist or an anti-CXCR4 Ab. In addition, the phosphoinositide 3 (PI 3)-kinase inhibitors wortmannin and LY294002, as well as the Gi protein inhibitor pertussis toxin, also inhibited the SDF-1-stimulated accumulation of PtdIns(3,4,5)P3. The effects of SDF-1 on D-3 phosphoinositide lipid accumulation correlated well with activation of the known PI 3-kinase effector protein kinase B, which was also inhibited by wortmannin and pertussis toxin. Concentrations of PI 3-kinase inhibitors, sufficient to inhibit PtdIns(3,4,5)P3 accumulation, also inhibited chemotaxis of Jurkat and peripheral blood-derived T lymphocytes in response to SDF-1. In contrast, SDF-1-stimulated actin polymerization was only partially inhibited by PI 3-kinase inhibitors, suggesting that while chemotaxis is fully dependent on PI 3-kinase activation, actin polymerization requires additional biochemical inputs. Finally, SDF-1-stimulated extracellular signal-related kinase (ERK)-1/2 mitogen-activated protein kinase activation was inhibited by PI 3-kinase inhibitors. In addition, the mitogen-activated protein/ERK kinase inhibitor PD098059 partially attenuated chemotaxis in response to SDF-1. Hence, it appears that ERK1/2 activation is dependent on PI 3-kinase activation, and both biochemical events are involved in the regulation of SDF-1-stimulated chemotaxis.\n",
      "\n",
      "generated_summary\n",
      "\n",
      "loss: 2.965669870376587\n",
      "\n",
      "loss: 2.425474166870117\n",
      "\n",
      "loss: 2.389904499053955\n",
      "\n",
      "loss: 2.5015714168548584\n",
      "\n",
      "loss: 2.8026182651519775\n",
      "\n",
      "loss: 2.1513702869415283\n",
      "\n",
      "loss: 2.2755284309387207\n",
      "\n",
      "loss: 2.188716411590576\n",
      "\n",
      "loss: 2.1523799896240234\n",
      "\n",
      "loss: 2.0402374267578125\n",
      "\n"
     ]
    },
    {
     "data": {
      "application/vnd.jupyter.widget-view+json": {
       "model_id": "e2c97c1f94074474b2af464116092e8e",
       "version_major": 2,
       "version_minor": 0
      },
      "text/plain": [
       "Evaluating:   0%|          | 0/500 [00:00<?, ?it/s]"
      ]
     },
     "metadata": {},
     "output_type": "display_data"
    },
    {
     "name": "stdout",
     "output_type": "stream",
     "text": [
      "perplexity: 135.90476989746094\n",
      "After 61 updates: \n",
      "\n"
     ]
    },
    {
     "data": {
      "application/vnd.jupyter.widget-view+json": {
       "model_id": "21b511a86ac24b75aacbeb6bc52e1051",
       "version_major": 2,
       "version_minor": 0
      },
      "text/plain": [
       "  0%|          | 0/100 [00:00<?, ?it/s]"
      ]
     },
     "metadata": {},
     "output_type": "display_data"
    },
    {
     "name": "stdout",
     "output_type": "stream",
     "text": [
      "We report the cDNA deduced primary structure of a wheat germ agglutinin-reactive nuclear pore complex (NPC) protein of rat. The protein, termed Nup98 (for nucleoporin of 98 kDa), contains numerous GLFG and FG repeats and some FXFG repeats and is thus a vertebrate member of a family of GLFG nucleoporins that were previously discovered in yeast. Immunoelectron microscopy showed Nup98 to be asymmetrically located at the nucleoplasmic side of the NPC. Nup98 functions as one of several docking site nucleoporins in a cytosolic docking activity-mediated binding of a model transport substrate. The docking site of Nup98 was mapped to its N-terminal half, which contains all of the peptide repeats. A recombinant segment of this region depleted the docking activity of cytosol. We suggest that the peptide repeat domain of Nup98, together with peptide repeat domains of other nucleoporins, forms an array of sites for mediated docking of transport substrate, and that bidirectional transport across the NPC proceeds by repeated docking and undocking reactions.\n",
      "\n",
      "generated_summary\n",
      "\n"
     ]
    },
    {
     "data": {
      "application/vnd.jupyter.widget-view+json": {
       "model_id": "453c8faa7af54b0382f87308d65acffe",
       "version_major": 2,
       "version_minor": 0
      },
      "text/plain": [
       "  0%|          | 0/100 [00:00<?, ?it/s]"
      ]
     },
     "metadata": {},
     "output_type": "display_data"
    },
    {
     "name": "stdout",
     "output_type": "stream",
     "text": [
      "The cellular effects of stromal cell-derived factor-1 (SDF-1) are mediated primarily by binding to the CXC chemokine receptor-4. We report in this study that SDF-1 and its peptide analogues induce a concentration- and time-dependent accumulation of phosphatidylinositol-(3,4,5)-trisphosphate (PtdIns(3,4,5)P3) in Jurkat cells. This SDF-1-stimulated generation of D-3 phosphoinositide lipids was inhibited by pretreatment of the cells with an SDF-1 peptide antagonist or an anti-CXCR4 Ab. In addition, the phosphoinositide 3 (PI 3)-kinase inhibitors wortmannin and LY294002, as well as the Gi protein inhibitor pertussis toxin, also inhibited the SDF-1-stimulated accumulation of PtdIns(3,4,5)P3. The effects of SDF-1 on D-3 phosphoinositide lipid accumulation correlated well with activation of the known PI 3-kinase effector protein kinase B, which was also inhibited by wortmannin and pertussis toxin. Concentrations of PI 3-kinase inhibitors, sufficient to inhibit PtdIns(3,4,5)P3 accumulation, also inhibited chemotaxis of Jurkat and peripheral blood-derived T lymphocytes in response to SDF-1. In contrast, SDF-1-stimulated actin polymerization was only partially inhibited by PI 3-kinase inhibitors, suggesting that while chemotaxis is fully dependent on PI 3-kinase activation, actin polymerization requires additional biochemical inputs. Finally, SDF-1-stimulated extracellular signal-related kinase (ERK)-1/2 mitogen-activated protein kinase activation was inhibited by PI 3-kinase inhibitors. In addition, the mitogen-activated protein/ERK kinase inhibitor PD098059 partially attenuated chemotaxis in response to SDF-1. Hence, it appears that ERK1/2 activation is dependent on PI 3-kinase activation, and both biochemical events are involved in the regulation of SDF-1-stimulated chemotaxis.\n",
      "\n",
      "generated_summary\n",
      "\n",
      "loss: 1.7476592063903809\n",
      "\n",
      "loss: 2.619762420654297\n",
      "\n",
      "loss: 1.8561973571777344\n",
      "\n",
      "loss: 1.6760895252227783\n",
      "\n",
      "loss: 2.7178843021392822\n",
      "\n",
      "loss: 2.6401383876800537\n",
      "\n",
      "loss: 1.284889817237854\n",
      "\n",
      "loss: 2.3533058166503906\n",
      "\n",
      "loss: 2.4844822883605957\n",
      "\n",
      "loss: 1.3452814817428589\n",
      "\n"
     ]
    },
    {
     "data": {
      "application/vnd.jupyter.widget-view+json": {
       "model_id": "ed2d8b7fba204d9e8eac36915788adb7",
       "version_major": 2,
       "version_minor": 0
      },
      "text/plain": [
       "Evaluating:   0%|          | 0/500 [00:00<?, ?it/s]"
      ]
     },
     "metadata": {},
     "output_type": "display_data"
    },
    {
     "name": "stdout",
     "output_type": "stream",
     "text": [
      "perplexity: 48.24616241455078\n",
      "After 71 updates: \n",
      "\n"
     ]
    },
    {
     "data": {
      "application/vnd.jupyter.widget-view+json": {
       "model_id": "3969ee37a4db45ae9ec1ede8d30e3710",
       "version_major": 2,
       "version_minor": 0
      },
      "text/plain": [
       "  0%|          | 0/100 [00:00<?, ?it/s]"
      ]
     },
     "metadata": {},
     "output_type": "display_data"
    },
    {
     "name": "stdout",
     "output_type": "stream",
     "text": [
      "We report the cDNA deduced primary structure of a wheat germ agglutinin-reactive nuclear pore complex (NPC) protein of rat. The protein, termed Nup98 (for nucleoporin of 98 kDa), contains numerous GLFG and FG repeats and some FXFG repeats and is thus a vertebrate member of a family of GLFG nucleoporins that were previously discovered in yeast. Immunoelectron microscopy showed Nup98 to be asymmetrically located at the nucleoplasmic side of the NPC. Nup98 functions as one of several docking site nucleoporins in a cytosolic docking activity-mediated binding of a model transport substrate. The docking site of Nup98 was mapped to its N-terminal half, which contains all of the peptide repeats. A recombinant segment of this region depleted the docking activity of cytosol. We suggest that the peptide repeat domain of Nup98, together with peptide repeat domains of other nucleoporins, forms an array of sites for mediated docking of transport substrate, and that bidirectional transport across the NPC proceeds by repeated docking and undocking reactions.\n",
      "\n",
      "generated_summary\n",
      "\n"
     ]
    },
    {
     "data": {
      "application/vnd.jupyter.widget-view+json": {
       "model_id": "c150bab772b54cbaa612b6c315bbd76c",
       "version_major": 2,
       "version_minor": 0
      },
      "text/plain": [
       "  0%|          | 0/100 [00:00<?, ?it/s]"
      ]
     },
     "metadata": {},
     "output_type": "display_data"
    },
    {
     "name": "stdout",
     "output_type": "stream",
     "text": [
      "The cellular effects of stromal cell-derived factor-1 (SDF-1) are mediated primarily by binding to the CXC chemokine receptor-4. We report in this study that SDF-1 and its peptide analogues induce a concentration- and time-dependent accumulation of phosphatidylinositol-(3,4,5)-trisphosphate (PtdIns(3,4,5)P3) in Jurkat cells. This SDF-1-stimulated generation of D-3 phosphoinositide lipids was inhibited by pretreatment of the cells with an SDF-1 peptide antagonist or an anti-CXCR4 Ab. In addition, the phosphoinositide 3 (PI 3)-kinase inhibitors wortmannin and LY294002, as well as the Gi protein inhibitor pertussis toxin, also inhibited the SDF-1-stimulated accumulation of PtdIns(3,4,5)P3. The effects of SDF-1 on D-3 phosphoinositide lipid accumulation correlated well with activation of the known PI 3-kinase effector protein kinase B, which was also inhibited by wortmannin and pertussis toxin. Concentrations of PI 3-kinase inhibitors, sufficient to inhibit PtdIns(3,4,5)P3 accumulation, also inhibited chemotaxis of Jurkat and peripheral blood-derived T lymphocytes in response to SDF-1. In contrast, SDF-1-stimulated actin polymerization was only partially inhibited by PI 3-kinase inhibitors, suggesting that while chemotaxis is fully dependent on PI 3-kinase activation, actin polymerization requires additional biochemical inputs. Finally, SDF-1-stimulated extracellular signal-related kinase (ERK)-1/2 mitogen-activated protein kinase activation was inhibited by PI 3-kinase inhibitors. In addition, the mitogen-activated protein/ERK kinase inhibitor PD098059 partially attenuated chemotaxis in response to SDF-1. Hence, it appears that ERK1/2 activation is dependent on PI 3-kinase activation, and both biochemical events are involved in the regulation of SDF-1-stimulated chemotaxis.\n",
      "\n",
      "generated_summary\n",
      "\n",
      "loss: 1.7245103120803833\n",
      "\n",
      "loss: 1.6580743789672852\n",
      "\n",
      "loss: 2.6489484310150146\n",
      "\n",
      "loss: 1.3703925609588623\n",
      "\n",
      "loss: 1.4385550022125244\n",
      "\n",
      "loss: 1.5036916732788086\n",
      "\n",
      "loss: 1.7645126581192017\n",
      "\n",
      "loss: 2.1139097213745117\n",
      "\n",
      "loss: 2.1552693843841553\n",
      "\n",
      "loss: 1.9569242000579834\n",
      "\n"
     ]
    },
    {
     "data": {
      "application/vnd.jupyter.widget-view+json": {
       "model_id": "3635d3a03b644998b133b6d7b9c0a289",
       "version_major": 2,
       "version_minor": 0
      },
      "text/plain": [
       "Evaluating:   0%|          | 0/500 [00:00<?, ?it/s]"
      ]
     },
     "metadata": {},
     "output_type": "display_data"
    },
    {
     "name": "stdout",
     "output_type": "stream",
     "text": [
      "perplexity: 30.924341201782227\n",
      "After 81 updates: \n",
      "\n"
     ]
    },
    {
     "data": {
      "application/vnd.jupyter.widget-view+json": {
       "model_id": "3886c41f282747d888864c1dec20d520",
       "version_major": 2,
       "version_minor": 0
      },
      "text/plain": [
       "  0%|          | 0/100 [00:00<?, ?it/s]"
      ]
     },
     "metadata": {},
     "output_type": "display_data"
    },
    {
     "name": "stdout",
     "output_type": "stream",
     "text": [
      "We report the cDNA deduced primary structure of a wheat germ agglutinin-reactive nuclear pore complex (NPC) protein of rat. The protein, termed Nup98 (for nucleoporin of 98 kDa), contains numerous GLFG and FG repeats and some FXFG repeats and is thus a vertebrate member of a family of GLFG nucleoporins that were previously discovered in yeast. Immunoelectron microscopy showed Nup98 to be asymmetrically located at the nucleoplasmic side of the NPC. Nup98 functions as one of several docking site nucleoporins in a cytosolic docking activity-mediated binding of a model transport substrate. The docking site of Nup98 was mapped to its N-terminal half, which contains all of the peptide repeats. A recombinant segment of this region depleted the docking activity of cytosol. We suggest that the peptide repeat domain of Nup98, together with peptide repeat domains of other nucleoporins, forms an array of sites for mediated docking of transport substrate, and that bidirectional transport across the NPC proceeds by repeated docking and undocking reactions.\n",
      "\n",
      "generated_summary\n",
      "\n"
     ]
    },
    {
     "data": {
      "application/vnd.jupyter.widget-view+json": {
       "model_id": "03d2227cf9d9413ab9efd271ffc9b055",
       "version_major": 2,
       "version_minor": 0
      },
      "text/plain": [
       "  0%|          | 0/100 [00:00<?, ?it/s]"
      ]
     },
     "metadata": {},
     "output_type": "display_data"
    },
    {
     "name": "stdout",
     "output_type": "stream",
     "text": [
      "The cellular effects of stromal cell-derived factor-1 (SDF-1) are mediated primarily by binding to the CXC chemokine receptor-4. We report in this study that SDF-1 and its peptide analogues induce a concentration- and time-dependent accumulation of phosphatidylinositol-(3,4,5)-trisphosphate (PtdIns(3,4,5)P3) in Jurkat cells. This SDF-1-stimulated generation of D-3 phosphoinositide lipids was inhibited by pretreatment of the cells with an SDF-1 peptide antagonist or an anti-CXCR4 Ab. In addition, the phosphoinositide 3 (PI 3)-kinase inhibitors wortmannin and LY294002, as well as the Gi protein inhibitor pertussis toxin, also inhibited the SDF-1-stimulated accumulation of PtdIns(3,4,5)P3. The effects of SDF-1 on D-3 phosphoinositide lipid accumulation correlated well with activation of the known PI 3-kinase effector protein kinase B, which was also inhibited by wortmannin and pertussis toxin. Concentrations of PI 3-kinase inhibitors, sufficient to inhibit PtdIns(3,4,5)P3 accumulation, also inhibited chemotaxis of Jurkat and peripheral blood-derived T lymphocytes in response to SDF-1. In contrast, SDF-1-stimulated actin polymerization was only partially inhibited by PI 3-kinase inhibitors, suggesting that while chemotaxis is fully dependent on PI 3-kinase activation, actin polymerization requires additional biochemical inputs. Finally, SDF-1-stimulated extracellular signal-related kinase (ERK)-1/2 mitogen-activated protein kinase activation was inhibited by PI 3-kinase inhibitors. In addition, the mitogen-activated protein/ERK kinase inhibitor PD098059 partially attenuated chemotaxis in response to SDF-1. Hence, it appears that ERK1/2 activation is dependent on PI 3-kinase activation, and both biochemical events are involved in the regulation of SDF-1-stimulated chemotaxis.\n",
      "\n",
      "generated_summary\n",
      "\n",
      "loss: 1.3487321138381958\n",
      "\n",
      "loss: 1.0717076063156128\n",
      "\n",
      "loss: 1.9175392389297485\n",
      "\n",
      "loss: 1.1218153238296509\n",
      "\n",
      "loss: 1.8222349882125854\n",
      "\n",
      "loss: 1.1289385557174683\n",
      "\n",
      "loss: 2.034557580947876\n",
      "\n",
      "loss: 1.5752557516098022\n",
      "\n",
      "loss: 1.4437859058380127\n",
      "\n",
      "loss: 1.6441802978515625\n",
      "\n"
     ]
    },
    {
     "data": {
      "application/vnd.jupyter.widget-view+json": {
       "model_id": "5b13af1e5c9c4b16bdda9f5e5b7df78c",
       "version_major": 2,
       "version_minor": 0
      },
      "text/plain": [
       "Evaluating:   0%|          | 0/500 [00:00<?, ?it/s]"
      ]
     },
     "metadata": {},
     "output_type": "display_data"
    },
    {
     "name": "stdout",
     "output_type": "stream",
     "text": [
      "perplexity: 26.473960876464844\n",
      "After 91 updates: \n",
      "\n"
     ]
    },
    {
     "data": {
      "application/vnd.jupyter.widget-view+json": {
       "model_id": "8956bd07e2424068a7c17c991ef009a1",
       "version_major": 2,
       "version_minor": 0
      },
      "text/plain": [
       "  0%|          | 0/100 [00:00<?, ?it/s]"
      ]
     },
     "metadata": {},
     "output_type": "display_data"
    },
    {
     "name": "stdout",
     "output_type": "stream",
     "text": [
      "We report the cDNA deduced primary structure of a wheat germ agglutinin-reactive nuclear pore complex (NPC) protein of rat. The protein, termed Nup98 (for nucleoporin of 98 kDa), contains numerous GLFG and FG repeats and some FXFG repeats and is thus a vertebrate member of a family of GLFG nucleoporins that were previously discovered in yeast. Immunoelectron microscopy showed Nup98 to be asymmetrically located at the nucleoplasmic side of the NPC. Nup98 functions as one of several docking site nucleoporins in a cytosolic docking activity-mediated binding of a model transport substrate. The docking site of Nup98 was mapped to its N-terminal half, which contains all of the peptide repeats. A recombinant segment of this region depleted the docking activity of cytosol. We suggest that the peptide repeat domain of Nup98, together with peptide repeat domains of other nucleoporins, forms an array of sites for mediated docking of transport substrate, and that bidirectional transport across the NPC proceeds by repeated docking and undocking reactions.\n",
      "\n",
      "generated_summary\n",
      "\n"
     ]
    },
    {
     "data": {
      "application/vnd.jupyter.widget-view+json": {
       "model_id": "30d8e90a26914220a2a966e5509249d9",
       "version_major": 2,
       "version_minor": 0
      },
      "text/plain": [
       "  0%|          | 0/100 [00:00<?, ?it/s]"
      ]
     },
     "metadata": {},
     "output_type": "display_data"
    },
    {
     "name": "stdout",
     "output_type": "stream",
     "text": [
      "The cellular effects of stromal cell-derived factor-1 (SDF-1) are mediated primarily by binding to the CXC chemokine receptor-4. We report in this study that SDF-1 and its peptide analogues induce a concentration- and time-dependent accumulation of phosphatidylinositol-(3,4,5)-trisphosphate (PtdIns(3,4,5)P3) in Jurkat cells. This SDF-1-stimulated generation of D-3 phosphoinositide lipids was inhibited by pretreatment of the cells with an SDF-1 peptide antagonist or an anti-CXCR4 Ab. In addition, the phosphoinositide 3 (PI 3)-kinase inhibitors wortmannin and LY294002, as well as the Gi protein inhibitor pertussis toxin, also inhibited the SDF-1-stimulated accumulation of PtdIns(3,4,5)P3. The effects of SDF-1 on D-3 phosphoinositide lipid accumulation correlated well with activation of the known PI 3-kinase effector protein kinase B, which was also inhibited by wortmannin and pertussis toxin. Concentrations of PI 3-kinase inhibitors, sufficient to inhibit PtdIns(3,4,5)P3 accumulation, also inhibited chemotaxis of Jurkat and peripheral blood-derived T lymphocytes in response to SDF-1. In contrast, SDF-1-stimulated actin polymerization was only partially inhibited by PI 3-kinase inhibitors, suggesting that while chemotaxis is fully dependent on PI 3-kinase activation, actin polymerization requires additional biochemical inputs. Finally, SDF-1-stimulated extracellular signal-related kinase (ERK)-1/2 mitogen-activated protein kinase activation was inhibited by PI 3-kinase inhibitors. In addition, the mitogen-activated protein/ERK kinase inhibitor PD098059 partially attenuated chemotaxis in response to SDF-1. Hence, it appears that ERK1/2 activation is dependent on PI 3-kinase activation, and both biochemical events are involved in the regulation of SDF-1-stimulated chemotaxis.\n",
      "\n",
      "generated_summary\n",
      "\n",
      "loss: 1.974454402923584\n",
      "\n",
      "loss: 1.0429679155349731\n",
      "\n",
      "loss: 1.8742233514785767\n",
      "\n",
      "loss: 1.4286372661590576\n",
      "\n",
      "loss: 0.7477000951766968\n",
      "\n",
      "loss: 1.3615081310272217\n",
      "\n",
      "loss: 1.2020059823989868\n",
      "\n",
      "loss: 2.1002581119537354\n",
      "\n",
      "loss: 2.342043399810791\n",
      "\n",
      "loss: 0.9461517930030823\n",
      "\n"
     ]
    },
    {
     "data": {
      "application/vnd.jupyter.widget-view+json": {
       "model_id": "7a27acd7010f48979282054ec7137e79",
       "version_major": 2,
       "version_minor": 0
      },
      "text/plain": [
       "Evaluating:   0%|          | 0/500 [00:00<?, ?it/s]"
      ]
     },
     "metadata": {},
     "output_type": "display_data"
    },
    {
     "name": "stdout",
     "output_type": "stream",
     "text": [
      "perplexity: 22.318822860717773\n",
      "After 101 updates: \n",
      "\n"
     ]
    },
    {
     "data": {
      "application/vnd.jupyter.widget-view+json": {
       "model_id": "986142e213124fb7a975be558395f26e",
       "version_major": 2,
       "version_minor": 0
      },
      "text/plain": [
       "  0%|          | 0/100 [00:00<?, ?it/s]"
      ]
     },
     "metadata": {},
     "output_type": "display_data"
    },
    {
     "name": "stdout",
     "output_type": "stream",
     "text": [
      "We report the cDNA deduced primary structure of a wheat germ agglutinin-reactive nuclear pore complex (NPC) protein of rat. The protein, termed Nup98 (for nucleoporin of 98 kDa), contains numerous GLFG and FG repeats and some FXFG repeats and is thus a vertebrate member of a family of GLFG nucleoporins that were previously discovered in yeast. Immunoelectron microscopy showed Nup98 to be asymmetrically located at the nucleoplasmic side of the NPC. Nup98 functions as one of several docking site nucleoporins in a cytosolic docking activity-mediated binding of a model transport substrate. The docking site of Nup98 was mapped to its N-terminal half, which contains all of the peptide repeats. A recombinant segment of this region depleted the docking activity of cytosol. We suggest that the peptide repeat domain of Nup98, together with peptide repeat domains of other nucleoporins, forms an array of sites for mediated docking of transport substrate, and that bidirectional transport across the NPC proceeds by repeated docking and undocking reactions.\n",
      "\n",
      "generated_summary\n",
      "\n"
     ]
    },
    {
     "data": {
      "application/vnd.jupyter.widget-view+json": {
       "model_id": "645f1269eb854e2ea0b2a46b0c35357f",
       "version_major": 2,
       "version_minor": 0
      },
      "text/plain": [
       "  0%|          | 0/100 [00:00<?, ?it/s]"
      ]
     },
     "metadata": {},
     "output_type": "display_data"
    },
    {
     "name": "stdout",
     "output_type": "stream",
     "text": [
      "The cellular effects of stromal cell-derived factor-1 (SDF-1) are mediated primarily by binding to the CXC chemokine receptor-4. We report in this study that SDF-1 and its peptide analogues induce a concentration- and time-dependent accumulation of phosphatidylinositol-(3,4,5)-trisphosphate (PtdIns(3,4,5)P3) in Jurkat cells. This SDF-1-stimulated generation of D-3 phosphoinositide lipids was inhibited by pretreatment of the cells with an SDF-1 peptide antagonist or an anti-CXCR4 Ab. In addition, the phosphoinositide 3 (PI 3)-kinase inhibitors wortmannin and LY294002, as well as the Gi protein inhibitor pertussis toxin, also inhibited the SDF-1-stimulated accumulation of PtdIns(3,4,5)P3. The effects of SDF-1 on D-3 phosphoinositide lipid accumulation correlated well with activation of the known PI 3-kinase effector protein kinase B, which was also inhibited by wortmannin and pertussis toxin. Concentrations of PI 3-kinase inhibitors, sufficient to inhibit PtdIns(3,4,5)P3 accumulation, also inhibited chemotaxis of Jurkat and peripheral blood-derived T lymphocytes in response to SDF-1. In contrast, SDF-1-stimulated actin polymerization was only partially inhibited by PI 3-kinase inhibitors, suggesting that while chemotaxis is fully dependent on PI 3-kinase activation, actin polymerization requires additional biochemical inputs. Finally, SDF-1-stimulated extracellular signal-related kinase (ERK)-1/2 mitogen-activated protein kinase activation was inhibited by PI 3-kinase inhibitors. In addition, the mitogen-activated protein/ERK kinase inhibitor PD098059 partially attenuated chemotaxis in response to SDF-1. Hence, it appears that ERK1/2 activation is dependent on PI 3-kinase activation, and both biochemical events are involved in the regulation of SDF-1-stimulated chemotaxis.\n",
      "\n",
      "generated_summary\n",
      "\n",
      "loss: 2.075632333755493\n",
      "\n",
      "loss: 1.8100250959396362\n",
      "\n",
      "loss: 1.2520111799240112\n",
      "\n",
      "loss: 1.9589234590530396\n",
      "\n",
      "loss: 1.4831677675247192\n",
      "\n",
      "loss: 1.1959125995635986\n",
      "\n",
      "loss: 1.36659574508667\n",
      "\n",
      "loss: 1.4467377662658691\n",
      "\n",
      "loss: 1.3582432270050049\n",
      "\n",
      "loss: 2.2360661029815674\n",
      "\n"
     ]
    },
    {
     "data": {
      "application/vnd.jupyter.widget-view+json": {
       "model_id": "a28df4a8f18d433c99337b8bbaa240c9",
       "version_major": 2,
       "version_minor": 0
      },
      "text/plain": [
       "Evaluating:   0%|          | 0/500 [00:00<?, ?it/s]"
      ]
     },
     "metadata": {},
     "output_type": "display_data"
    },
    {
     "name": "stdout",
     "output_type": "stream",
     "text": [
      "perplexity: 62.130985260009766\n",
      "After 111 updates: \n",
      "\n"
     ]
    },
    {
     "data": {
      "application/vnd.jupyter.widget-view+json": {
       "model_id": "7863ab86e0b348ad8d2a140e051e6a4b",
       "version_major": 2,
       "version_minor": 0
      },
      "text/plain": [
       "  0%|          | 0/100 [00:00<?, ?it/s]"
      ]
     },
     "metadata": {},
     "output_type": "display_data"
    },
    {
     "name": "stdout",
     "output_type": "stream",
     "text": [
      "We report the cDNA deduced primary structure of a wheat germ agglutinin-reactive nuclear pore complex (NPC) protein of rat. The protein, termed Nup98 (for nucleoporin of 98 kDa), contains numerous GLFG and FG repeats and some FXFG repeats and is thus a vertebrate member of a family of GLFG nucleoporins that were previously discovered in yeast. Immunoelectron microscopy showed Nup98 to be asymmetrically located at the nucleoplasmic side of the NPC. Nup98 functions as one of several docking site nucleoporins in a cytosolic docking activity-mediated binding of a model transport substrate. The docking site of Nup98 was mapped to its N-terminal half, which contains all of the peptide repeats. A recombinant segment of this region depleted the docking activity of cytosol. We suggest that the peptide repeat domain of Nup98, together with peptide repeat domains of other nucleoporins, forms an array of sites for mediated docking of transport substrate, and that bidirectional transport across the NPC proceeds by repeated docking and undocking reactions.\n",
      "\n",
      "generated_summary\n",
      "\n"
     ]
    },
    {
     "data": {
      "application/vnd.jupyter.widget-view+json": {
       "model_id": "649d1c151c614021ab7a1e7e8544571d",
       "version_major": 2,
       "version_minor": 0
      },
      "text/plain": [
       "  0%|          | 0/100 [00:00<?, ?it/s]"
      ]
     },
     "metadata": {},
     "output_type": "display_data"
    },
    {
     "name": "stdout",
     "output_type": "stream",
     "text": [
      "The cellular effects of stromal cell-derived factor-1 (SDF-1) are mediated primarily by binding to the CXC chemokine receptor-4. We report in this study that SDF-1 and its peptide analogues induce a concentration- and time-dependent accumulation of phosphatidylinositol-(3,4,5)-trisphosphate (PtdIns(3,4,5)P3) in Jurkat cells. This SDF-1-stimulated generation of D-3 phosphoinositide lipids was inhibited by pretreatment of the cells with an SDF-1 peptide antagonist or an anti-CXCR4 Ab. In addition, the phosphoinositide 3 (PI 3)-kinase inhibitors wortmannin and LY294002, as well as the Gi protein inhibitor pertussis toxin, also inhibited the SDF-1-stimulated accumulation of PtdIns(3,4,5)P3. The effects of SDF-1 on D-3 phosphoinositide lipid accumulation correlated well with activation of the known PI 3-kinase effector protein kinase B, which was also inhibited by wortmannin and pertussis toxin. Concentrations of PI 3-kinase inhibitors, sufficient to inhibit PtdIns(3,4,5)P3 accumulation, also inhibited chemotaxis of Jurkat and peripheral blood-derived T lymphocytes in response to SDF-1. In contrast, SDF-1-stimulated actin polymerization was only partially inhibited by PI 3-kinase inhibitors, suggesting that while chemotaxis is fully dependent on PI 3-kinase activation, actin polymerization requires additional biochemical inputs. Finally, SDF-1-stimulated extracellular signal-related kinase (ERK)-1/2 mitogen-activated protein kinase activation was inhibited by PI 3-kinase inhibitors. In addition, the mitogen-activated protein/ERK kinase inhibitor PD098059 partially attenuated chemotaxis in response to SDF-1. Hence, it appears that ERK1/2 activation is dependent on PI 3-kinase activation, and both biochemical events are involved in the regulation of SDF-1-stimulated chemotaxis.\n",
      "\n",
      "generated_summary\n",
      "\n",
      "loss: 1.621364712715149\n",
      "\n",
      "loss: 1.4935003519058228\n",
      "\n",
      "loss: 1.3094687461853027\n",
      "\n",
      "loss: 1.4809218645095825\n",
      "\n",
      "loss: 1.6453561782836914\n",
      "\n",
      "loss: 0.7692858576774597\n",
      "\n",
      "loss: 1.9365681409835815\n",
      "\n",
      "loss: 1.4830456972122192\n",
      "\n",
      "loss: 1.0274052619934082\n",
      "\n",
      "loss: 1.6239376068115234\n",
      "\n"
     ]
    },
    {
     "data": {
      "application/vnd.jupyter.widget-view+json": {
       "model_id": "fb12318c3eb74f39a054f414b7be66fc",
       "version_major": 2,
       "version_minor": 0
      },
      "text/plain": [
       "Evaluating:   0%|          | 0/500 [00:00<?, ?it/s]"
      ]
     },
     "metadata": {},
     "output_type": "display_data"
    },
    {
     "name": "stdout",
     "output_type": "stream",
     "text": [
      "perplexity: 124.90509796142578\n",
      "After 121 updates: \n",
      "\n"
     ]
    },
    {
     "data": {
      "application/vnd.jupyter.widget-view+json": {
       "model_id": "c0672b5d5b22444bbf5b5b5929f9014d",
       "version_major": 2,
       "version_minor": 0
      },
      "text/plain": [
       "  0%|          | 0/100 [00:00<?, ?it/s]"
      ]
     },
     "metadata": {},
     "output_type": "display_data"
    },
    {
     "name": "stdout",
     "output_type": "stream",
     "text": [
      "We report the cDNA deduced primary structure of a wheat germ agglutinin-reactive nuclear pore complex (NPC) protein of rat. The protein, termed Nup98 (for nucleoporin of 98 kDa), contains numerous GLFG and FG repeats and some FXFG repeats and is thus a vertebrate member of a family of GLFG nucleoporins that were previously discovered in yeast. Immunoelectron microscopy showed Nup98 to be asymmetrically located at the nucleoplasmic side of the NPC. Nup98 functions as one of several docking site nucleoporins in a cytosolic docking activity-mediated binding of a model transport substrate. The docking site of Nup98 was mapped to its N-terminal half, which contains all of the peptide repeats. A recombinant segment of this region depleted the docking activity of cytosol. We suggest that the peptide repeat domain of Nup98, together with peptide repeat domains of other nucleoporins, forms an array of sites for mediated docking of transport substrate, and that bidirectional transport across the NPC proceeds by repeated docking and undocking reactions.\n",
      "\n",
      "generated_summary\n",
      "\n"
     ]
    },
    {
     "data": {
      "application/vnd.jupyter.widget-view+json": {
       "model_id": "e1f7defd4ce64125881bf11bec23b705",
       "version_major": 2,
       "version_minor": 0
      },
      "text/plain": [
       "  0%|          | 0/100 [00:00<?, ?it/s]"
      ]
     },
     "metadata": {},
     "output_type": "display_data"
    },
    {
     "name": "stdout",
     "output_type": "stream",
     "text": [
      "The cellular effects of stromal cell-derived factor-1 (SDF-1) are mediated primarily by binding to the CXC chemokine receptor-4. We report in this study that SDF-1 and its peptide analogues induce a concentration- and time-dependent accumulation of phosphatidylinositol-(3,4,5)-trisphosphate (PtdIns(3,4,5)P3) in Jurkat cells. This SDF-1-stimulated generation of D-3 phosphoinositide lipids was inhibited by pretreatment of the cells with an SDF-1 peptide antagonist or an anti-CXCR4 Ab. In addition, the phosphoinositide 3 (PI 3)-kinase inhibitors wortmannin and LY294002, as well as the Gi protein inhibitor pertussis toxin, also inhibited the SDF-1-stimulated accumulation of PtdIns(3,4,5)P3. The effects of SDF-1 on D-3 phosphoinositide lipid accumulation correlated well with activation of the known PI 3-kinase effector protein kinase B, which was also inhibited by wortmannin and pertussis toxin. Concentrations of PI 3-kinase inhibitors, sufficient to inhibit PtdIns(3,4,5)P3 accumulation, also inhibited chemotaxis of Jurkat and peripheral blood-derived T lymphocytes in response to SDF-1. In contrast, SDF-1-stimulated actin polymerization was only partially inhibited by PI 3-kinase inhibitors, suggesting that while chemotaxis is fully dependent on PI 3-kinase activation, actin polymerization requires additional biochemical inputs. Finally, SDF-1-stimulated extracellular signal-related kinase (ERK)-1/2 mitogen-activated protein kinase activation was inhibited by PI 3-kinase inhibitors. In addition, the mitogen-activated protein/ERK kinase inhibitor PD098059 partially attenuated chemotaxis in response to SDF-1. Hence, it appears that ERK1/2 activation is dependent on PI 3-kinase activation, and both biochemical events are involved in the regulation of SDF-1-stimulated chemotaxis.\n",
      "\n",
      "generated_summary\n",
      "\n",
      "loss: 1.093890905380249\n",
      "\n",
      "loss: 1.3138501644134521\n",
      "\n",
      "loss: 1.2159618139266968\n",
      "\n",
      "loss: 1.4804083108901978\n",
      "\n",
      "loss: 0.9712227582931519\n",
      "\n",
      "loss: 0.9307473301887512\n",
      "\n",
      "loss: 1.0905135869979858\n",
      "\n",
      "loss: 0.6356319189071655\n",
      "\n",
      "loss: 0.6664081811904907\n",
      "\n",
      "loss: 1.0092717409133911\n",
      "\n"
     ]
    },
    {
     "data": {
      "application/vnd.jupyter.widget-view+json": {
       "model_id": "2451099c29a246de9b21a0c3163be75f",
       "version_major": 2,
       "version_minor": 0
      },
      "text/plain": [
       "Evaluating:   0%|          | 0/500 [00:00<?, ?it/s]"
      ]
     },
     "metadata": {},
     "output_type": "display_data"
    },
    {
     "name": "stdout",
     "output_type": "stream",
     "text": [
      "perplexity: 4735.38427734375\n",
      "After 131 updates: \n",
      "\n"
     ]
    },
    {
     "data": {
      "application/vnd.jupyter.widget-view+json": {
       "model_id": "db025c5152eb411ea76b19ee6d371174",
       "version_major": 2,
       "version_minor": 0
      },
      "text/plain": [
       "  0%|          | 0/100 [00:00<?, ?it/s]"
      ]
     },
     "metadata": {},
     "output_type": "display_data"
    },
    {
     "name": "stdout",
     "output_type": "stream",
     "text": [
      "We report the cDNA deduced primary structure of a wheat germ agglutinin-reactive nuclear pore complex (NPC) protein of rat. The protein, termed Nup98 (for nucleoporin of 98 kDa), contains numerous GLFG and FG repeats and some FXFG repeats and is thus a vertebrate member of a family of GLFG nucleoporins that were previously discovered in yeast. Immunoelectron microscopy showed Nup98 to be asymmetrically located at the nucleoplasmic side of the NPC. Nup98 functions as one of several docking site nucleoporins in a cytosolic docking activity-mediated binding of a model transport substrate. The docking site of Nup98 was mapped to its N-terminal half, which contains all of the peptide repeats. A recombinant segment of this region depleted the docking activity of cytosol. We suggest that the peptide repeat domain of Nup98, together with peptide repeat domains of other nucleoporins, forms an array of sites for mediated docking of transport substrate, and that bidirectional transport across the NPC proceeds by repeated docking and undocking reactions.\n",
      "\n",
      "generated_summary\n",
      "\n"
     ]
    },
    {
     "data": {
      "application/vnd.jupyter.widget-view+json": {
       "model_id": "27400ab14f704a559941f32968d07e57",
       "version_major": 2,
       "version_minor": 0
      },
      "text/plain": [
       "  0%|          | 0/100 [00:00<?, ?it/s]"
      ]
     },
     "metadata": {},
     "output_type": "display_data"
    },
    {
     "name": "stdout",
     "output_type": "stream",
     "text": [
      "The cellular effects of stromal cell-derived factor-1 (SDF-1) are mediated primarily by binding to the CXC chemokine receptor-4. We report in this study that SDF-1 and its peptide analogues induce a concentration- and time-dependent accumulation of phosphatidylinositol-(3,4,5)-trisphosphate (PtdIns(3,4,5)P3) in Jurkat cells. This SDF-1-stimulated generation of D-3 phosphoinositide lipids was inhibited by pretreatment of the cells with an SDF-1 peptide antagonist or an anti-CXCR4 Ab. In addition, the phosphoinositide 3 (PI 3)-kinase inhibitors wortmannin and LY294002, as well as the Gi protein inhibitor pertussis toxin, also inhibited the SDF-1-stimulated accumulation of PtdIns(3,4,5)P3. The effects of SDF-1 on D-3 phosphoinositide lipid accumulation correlated well with activation of the known PI 3-kinase effector protein kinase B, which was also inhibited by wortmannin and pertussis toxin. Concentrations of PI 3-kinase inhibitors, sufficient to inhibit PtdIns(3,4,5)P3 accumulation, also inhibited chemotaxis of Jurkat and peripheral blood-derived T lymphocytes in response to SDF-1. In contrast, SDF-1-stimulated actin polymerization was only partially inhibited by PI 3-kinase inhibitors, suggesting that while chemotaxis is fully dependent on PI 3-kinase activation, actin polymerization requires additional biochemical inputs. Finally, SDF-1-stimulated extracellular signal-related kinase (ERK)-1/2 mitogen-activated protein kinase activation was inhibited by PI 3-kinase inhibitors. In addition, the mitogen-activated protein/ERK kinase inhibitor PD098059 partially attenuated chemotaxis in response to SDF-1. Hence, it appears that ERK1/2 activation is dependent on PI 3-kinase activation, and both biochemical events are involved in the regulation of SDF-1-stimulated chemotaxis.\n",
      "\n",
      "generated_summary\n",
      "\n",
      "loss: 1.406541109085083\n",
      "\n",
      "loss: 1.6315326690673828\n",
      "\n",
      "loss: 1.4070100784301758\n",
      "\n",
      "loss: 4.111850738525391\n",
      "\n",
      "loss: 1.09927237033844\n",
      "\n",
      "loss: 0.9504895806312561\n",
      "\n",
      "loss: 2.4899840354919434\n",
      "\n",
      "loss: 1.1773895025253296\n",
      "\n",
      "loss: 0.8638792037963867\n",
      "\n",
      "loss: 0.9330657124519348\n",
      "\n"
     ]
    },
    {
     "data": {
      "application/vnd.jupyter.widget-view+json": {
       "model_id": "01dc8872bb1c41a1b55b3481fd7716ed",
       "version_major": 2,
       "version_minor": 0
      },
      "text/plain": [
       "Evaluating:   0%|          | 0/500 [00:00<?, ?it/s]"
      ]
     },
     "metadata": {},
     "output_type": "display_data"
    },
    {
     "name": "stdout",
     "output_type": "stream",
     "text": [
      "perplexity: 13.4865083694458\n",
      "After 141 updates: \n",
      "\n"
     ]
    },
    {
     "data": {
      "application/vnd.jupyter.widget-view+json": {
       "model_id": "e122d78d2b4a4872ae778b4a0f9020ee",
       "version_major": 2,
       "version_minor": 0
      },
      "text/plain": [
       "  0%|          | 0/100 [00:00<?, ?it/s]"
      ]
     },
     "metadata": {},
     "output_type": "display_data"
    },
    {
     "name": "stdout",
     "output_type": "stream",
     "text": [
      "We report the cDNA deduced primary structure of a wheat germ agglutinin-reactive nuclear pore complex (NPC) protein of rat. The protein, termed Nup98 (for nucleoporin of 98 kDa), contains numerous GLFG and FG repeats and some FXFG repeats and is thus a vertebrate member of a family of GLFG nucleoporins that were previously discovered in yeast. Immunoelectron microscopy showed Nup98 to be asymmetrically located at the nucleoplasmic side of the NPC. Nup98 functions as one of several docking site nucleoporins in a cytosolic docking activity-mediated binding of a model transport substrate. The docking site of Nup98 was mapped to its N-terminal half, which contains all of the peptide repeats. A recombinant segment of this region depleted the docking activity of cytosol. We suggest that the peptide repeat domain of Nup98, together with peptide repeat domains of other nucleoporins, forms an array of sites for mediated docking of transport substrate, and that bidirectional transport across the NPC proceeds by repeated docking and undocking reactions.\n",
      "\n",
      "generated_summary\n",
      "\n"
     ]
    },
    {
     "data": {
      "application/vnd.jupyter.widget-view+json": {
       "model_id": "ed9586c7f0584312817eb1cb783e631b",
       "version_major": 2,
       "version_minor": 0
      },
      "text/plain": [
       "  0%|          | 0/100 [00:00<?, ?it/s]"
      ]
     },
     "metadata": {},
     "output_type": "display_data"
    },
    {
     "name": "stdout",
     "output_type": "stream",
     "text": [
      "The cellular effects of stromal cell-derived factor-1 (SDF-1) are mediated primarily by binding to the CXC chemokine receptor-4. We report in this study that SDF-1 and its peptide analogues induce a concentration- and time-dependent accumulation of phosphatidylinositol-(3,4,5)-trisphosphate (PtdIns(3,4,5)P3) in Jurkat cells. This SDF-1-stimulated generation of D-3 phosphoinositide lipids was inhibited by pretreatment of the cells with an SDF-1 peptide antagonist or an anti-CXCR4 Ab. In addition, the phosphoinositide 3 (PI 3)-kinase inhibitors wortmannin and LY294002, as well as the Gi protein inhibitor pertussis toxin, also inhibited the SDF-1-stimulated accumulation of PtdIns(3,4,5)P3. The effects of SDF-1 on D-3 phosphoinositide lipid accumulation correlated well with activation of the known PI 3-kinase effector protein kinase B, which was also inhibited by wortmannin and pertussis toxin. Concentrations of PI 3-kinase inhibitors, sufficient to inhibit PtdIns(3,4,5)P3 accumulation, also inhibited chemotaxis of Jurkat and peripheral blood-derived T lymphocytes in response to SDF-1. In contrast, SDF-1-stimulated actin polymerization was only partially inhibited by PI 3-kinase inhibitors, suggesting that while chemotaxis is fully dependent on PI 3-kinase activation, actin polymerization requires additional biochemical inputs. Finally, SDF-1-stimulated extracellular signal-related kinase (ERK)-1/2 mitogen-activated protein kinase activation was inhibited by PI 3-kinase inhibitors. In addition, the mitogen-activated protein/ERK kinase inhibitor PD098059 partially attenuated chemotaxis in response to SDF-1. Hence, it appears that ERK1/2 activation is dependent on PI 3-kinase activation, and both biochemical events are involved in the regulation of SDF-1-stimulated chemotaxis.\n",
      "\n",
      "generated_summary\n",
      "\n",
      "loss: 0.8202232122421265\n",
      "\n",
      "loss: 1.5707842111587524\n",
      "\n",
      "loss: 0.8597154021263123\n",
      "\n",
      "loss: 1.570767879486084\n",
      "\n",
      "loss: 0.6833043098449707\n",
      "\n",
      "loss: 1.6957741975784302\n",
      "\n",
      "loss: 1.398573637008667\n",
      "\n",
      "loss: 1.7995175123214722\n",
      "\n",
      "loss: 1.5817885398864746\n",
      "\n",
      "loss: 1.440517544746399\n",
      "\n"
     ]
    },
    {
     "data": {
      "application/vnd.jupyter.widget-view+json": {
       "model_id": "21a31fac58e6435b947a5a12ecd79044",
       "version_major": 2,
       "version_minor": 0
      },
      "text/plain": [
       "Evaluating:   0%|          | 0/500 [00:00<?, ?it/s]"
      ]
     },
     "metadata": {},
     "output_type": "display_data"
    },
    {
     "name": "stdout",
     "output_type": "stream",
     "text": [
      "perplexity: 11.373087882995605\n",
      "After 151 updates: \n",
      "\n"
     ]
    },
    {
     "data": {
      "application/vnd.jupyter.widget-view+json": {
       "model_id": "27007dc1413f414d8a6493df15502a64",
       "version_major": 2,
       "version_minor": 0
      },
      "text/plain": [
       "  0%|          | 0/100 [00:00<?, ?it/s]"
      ]
     },
     "metadata": {},
     "output_type": "display_data"
    },
    {
     "name": "stdout",
     "output_type": "stream",
     "text": [
      "We report the cDNA deduced primary structure of a wheat germ agglutinin-reactive nuclear pore complex (NPC) protein of rat. The protein, termed Nup98 (for nucleoporin of 98 kDa), contains numerous GLFG and FG repeats and some FXFG repeats and is thus a vertebrate member of a family of GLFG nucleoporins that were previously discovered in yeast. Immunoelectron microscopy showed Nup98 to be asymmetrically located at the nucleoplasmic side of the NPC. Nup98 functions as one of several docking site nucleoporins in a cytosolic docking activity-mediated binding of a model transport substrate. The docking site of Nup98 was mapped to its N-terminal half, which contains all of the peptide repeats. A recombinant segment of this region depleted the docking activity of cytosol. We suggest that the peptide repeat domain of Nup98, together with peptide repeat domains of other nucleoporins, forms an array of sites for mediated docking of transport substrate, and that bidirectional transport across the NPC proceeds by repeated docking and undocking reactions.\n",
      "\n",
      "generated_summary\n",
      "\n"
     ]
    },
    {
     "data": {
      "application/vnd.jupyter.widget-view+json": {
       "model_id": "497242e874504cad93d2e1286b3a3b64",
       "version_major": 2,
       "version_minor": 0
      },
      "text/plain": [
       "  0%|          | 0/100 [00:00<?, ?it/s]"
      ]
     },
     "metadata": {},
     "output_type": "display_data"
    },
    {
     "name": "stdout",
     "output_type": "stream",
     "text": [
      "The cellular effects of stromal cell-derived factor-1 (SDF-1) are mediated primarily by binding to the CXC chemokine receptor-4. We report in this study that SDF-1 and its peptide analogues induce a concentration- and time-dependent accumulation of phosphatidylinositol-(3,4,5)-trisphosphate (PtdIns(3,4,5)P3) in Jurkat cells. This SDF-1-stimulated generation of D-3 phosphoinositide lipids was inhibited by pretreatment of the cells with an SDF-1 peptide antagonist or an anti-CXCR4 Ab. In addition, the phosphoinositide 3 (PI 3)-kinase inhibitors wortmannin and LY294002, as well as the Gi protein inhibitor pertussis toxin, also inhibited the SDF-1-stimulated accumulation of PtdIns(3,4,5)P3. The effects of SDF-1 on D-3 phosphoinositide lipid accumulation correlated well with activation of the known PI 3-kinase effector protein kinase B, which was also inhibited by wortmannin and pertussis toxin. Concentrations of PI 3-kinase inhibitors, sufficient to inhibit PtdIns(3,4,5)P3 accumulation, also inhibited chemotaxis of Jurkat and peripheral blood-derived T lymphocytes in response to SDF-1. In contrast, SDF-1-stimulated actin polymerization was only partially inhibited by PI 3-kinase inhibitors, suggesting that while chemotaxis is fully dependent on PI 3-kinase activation, actin polymerization requires additional biochemical inputs. Finally, SDF-1-stimulated extracellular signal-related kinase (ERK)-1/2 mitogen-activated protein kinase activation was inhibited by PI 3-kinase inhibitors. In addition, the mitogen-activated protein/ERK kinase inhibitor PD098059 partially attenuated chemotaxis in response to SDF-1. Hence, it appears that ERK1/2 activation is dependent on PI 3-kinase activation, and both biochemical events are involved in the regulation of SDF-1-stimulated chemotaxis.\n",
      "\n",
      "generated_summary\n",
      "\n",
      "loss: 1.2828609943389893\n",
      "\n",
      "loss: 0.9044862389564514\n",
      "\n",
      "loss: 1.0920097827911377\n",
      "\n",
      "loss: 1.3457690477371216\n",
      "\n",
      "loss: 1.055992603302002\n",
      "\n",
      "loss: 1.2303107976913452\n",
      "\n",
      "loss: 1.0927320718765259\n",
      "\n",
      "loss: 2.0173802375793457\n",
      "\n",
      "loss: 0.8874012231826782\n",
      "\n",
      "loss: 0.6163480877876282\n",
      "\n"
     ]
    },
    {
     "data": {
      "application/vnd.jupyter.widget-view+json": {
       "model_id": "a28c54d5c0ed42f787ff01cfcf23b01d",
       "version_major": 2,
       "version_minor": 0
      },
      "text/plain": [
       "Evaluating:   0%|          | 0/500 [00:00<?, ?it/s]"
      ]
     },
     "metadata": {},
     "output_type": "display_data"
    },
    {
     "name": "stdout",
     "output_type": "stream",
     "text": [
      "perplexity: 11.599600791931152\n",
      "After 161 updates: \n",
      "\n"
     ]
    },
    {
     "data": {
      "application/vnd.jupyter.widget-view+json": {
       "model_id": "3c22fcbc7fa044d9a1b48e4ca851e672",
       "version_major": 2,
       "version_minor": 0
      },
      "text/plain": [
       "  0%|          | 0/100 [00:00<?, ?it/s]"
      ]
     },
     "metadata": {},
     "output_type": "display_data"
    },
    {
     "name": "stdout",
     "output_type": "stream",
     "text": [
      "We report the cDNA deduced primary structure of a wheat germ agglutinin-reactive nuclear pore complex (NPC) protein of rat. The protein, termed Nup98 (for nucleoporin of 98 kDa), contains numerous GLFG and FG repeats and some FXFG repeats and is thus a vertebrate member of a family of GLFG nucleoporins that were previously discovered in yeast. Immunoelectron microscopy showed Nup98 to be asymmetrically located at the nucleoplasmic side of the NPC. Nup98 functions as one of several docking site nucleoporins in a cytosolic docking activity-mediated binding of a model transport substrate. The docking site of Nup98 was mapped to its N-terminal half, which contains all of the peptide repeats. A recombinant segment of this region depleted the docking activity of cytosol. We suggest that the peptide repeat domain of Nup98, together with peptide repeat domains of other nucleoporins, forms an array of sites for mediated docking of transport substrate, and that bidirectional transport across the NPC proceeds by repeated docking and undocking reactions.\n",
      "\n",
      "generated_summary\n",
      "\n"
     ]
    },
    {
     "data": {
      "application/vnd.jupyter.widget-view+json": {
       "model_id": "1b0f1aef46c04a21958add988afcd99e",
       "version_major": 2,
       "version_minor": 0
      },
      "text/plain": [
       "  0%|          | 0/100 [00:00<?, ?it/s]"
      ]
     },
     "metadata": {},
     "output_type": "display_data"
    },
    {
     "name": "stdout",
     "output_type": "stream",
     "text": [
      "The cellular effects of stromal cell-derived factor-1 (SDF-1) are mediated primarily by binding to the CXC chemokine receptor-4. We report in this study that SDF-1 and its peptide analogues induce a concentration- and time-dependent accumulation of phosphatidylinositol-(3,4,5)-trisphosphate (PtdIns(3,4,5)P3) in Jurkat cells. This SDF-1-stimulated generation of D-3 phosphoinositide lipids was inhibited by pretreatment of the cells with an SDF-1 peptide antagonist or an anti-CXCR4 Ab. In addition, the phosphoinositide 3 (PI 3)-kinase inhibitors wortmannin and LY294002, as well as the Gi protein inhibitor pertussis toxin, also inhibited the SDF-1-stimulated accumulation of PtdIns(3,4,5)P3. The effects of SDF-1 on D-3 phosphoinositide lipid accumulation correlated well with activation of the known PI 3-kinase effector protein kinase B, which was also inhibited by wortmannin and pertussis toxin. Concentrations of PI 3-kinase inhibitors, sufficient to inhibit PtdIns(3,4,5)P3 accumulation, also inhibited chemotaxis of Jurkat and peripheral blood-derived T lymphocytes in response to SDF-1. In contrast, SDF-1-stimulated actin polymerization was only partially inhibited by PI 3-kinase inhibitors, suggesting that while chemotaxis is fully dependent on PI 3-kinase activation, actin polymerization requires additional biochemical inputs. Finally, SDF-1-stimulated extracellular signal-related kinase (ERK)-1/2 mitogen-activated protein kinase activation was inhibited by PI 3-kinase inhibitors. In addition, the mitogen-activated protein/ERK kinase inhibitor PD098059 partially attenuated chemotaxis in response to SDF-1. Hence, it appears that ERK1/2 activation is dependent on PI 3-kinase activation, and both biochemical events are involved in the regulation of SDF-1-stimulated chemotaxis.\n",
      "\n",
      "generated_summary\n",
      "\n",
      "loss: 0.9271330833435059\n",
      "\n",
      "loss: 1.1316821575164795\n",
      "\n",
      "loss: 1.0421795845031738\n",
      "\n",
      "loss: 1.3001165390014648\n",
      "\n",
      "loss: 1.1239407062530518\n",
      "\n",
      "loss: 0.9505102038383484\n",
      "\n",
      "loss: 1.4240977764129639\n",
      "\n",
      "loss: 1.1618337631225586\n",
      "\n",
      "loss: 1.8850435018539429\n",
      "\n",
      "loss: 0.8845141530036926\n",
      "\n"
     ]
    },
    {
     "data": {
      "application/vnd.jupyter.widget-view+json": {
       "model_id": "f22231b6aabd4a5ab75036c9211e543f",
       "version_major": 2,
       "version_minor": 0
      },
      "text/plain": [
       "Evaluating:   0%|          | 0/500 [00:00<?, ?it/s]"
      ]
     },
     "metadata": {},
     "output_type": "display_data"
    },
    {
     "name": "stdout",
     "output_type": "stream",
     "text": [
      "perplexity: 11.255777359008789\n",
      "After 171 updates: \n",
      "\n"
     ]
    },
    {
     "data": {
      "application/vnd.jupyter.widget-view+json": {
       "model_id": "9f45333640db49fdb1493583200a1ae8",
       "version_major": 2,
       "version_minor": 0
      },
      "text/plain": [
       "  0%|          | 0/100 [00:00<?, ?it/s]"
      ]
     },
     "metadata": {},
     "output_type": "display_data"
    },
    {
     "name": "stdout",
     "output_type": "stream",
     "text": [
      "We report the cDNA deduced primary structure of a wheat germ agglutinin-reactive nuclear pore complex (NPC) protein of rat. The protein, termed Nup98 (for nucleoporin of 98 kDa), contains numerous GLFG and FG repeats and some FXFG repeats and is thus a vertebrate member of a family of GLFG nucleoporins that were previously discovered in yeast. Immunoelectron microscopy showed Nup98 to be asymmetrically located at the nucleoplasmic side of the NPC. Nup98 functions as one of several docking site nucleoporins in a cytosolic docking activity-mediated binding of a model transport substrate. The docking site of Nup98 was mapped to its N-terminal half, which contains all of the peptide repeats. A recombinant segment of this region depleted the docking activity of cytosol. We suggest that the peptide repeat domain of Nup98, together with peptide repeat domains of other nucleoporins, forms an array of sites for mediated docking of transport substrate, and that bidirectional transport across the NPC proceeds by repeated docking and undocking reactions.\n",
      "\n",
      "generated_summary\n",
      "\n"
     ]
    },
    {
     "data": {
      "application/vnd.jupyter.widget-view+json": {
       "model_id": "9c138c871c174823b4a2fc3024a39b04",
       "version_major": 2,
       "version_minor": 0
      },
      "text/plain": [
       "  0%|          | 0/100 [00:00<?, ?it/s]"
      ]
     },
     "metadata": {},
     "output_type": "display_data"
    },
    {
     "name": "stdout",
     "output_type": "stream",
     "text": [
      "The cellular effects of stromal cell-derived factor-1 (SDF-1) are mediated primarily by binding to the CXC chemokine receptor-4. We report in this study that SDF-1 and its peptide analogues induce a concentration- and time-dependent accumulation of phosphatidylinositol-(3,4,5)-trisphosphate (PtdIns(3,4,5)P3) in Jurkat cells. This SDF-1-stimulated generation of D-3 phosphoinositide lipids was inhibited by pretreatment of the cells with an SDF-1 peptide antagonist or an anti-CXCR4 Ab. In addition, the phosphoinositide 3 (PI 3)-kinase inhibitors wortmannin and LY294002, as well as the Gi protein inhibitor pertussis toxin, also inhibited the SDF-1-stimulated accumulation of PtdIns(3,4,5)P3. The effects of SDF-1 on D-3 phosphoinositide lipid accumulation correlated well with activation of the known PI 3-kinase effector protein kinase B, which was also inhibited by wortmannin and pertussis toxin. Concentrations of PI 3-kinase inhibitors, sufficient to inhibit PtdIns(3,4,5)P3 accumulation, also inhibited chemotaxis of Jurkat and peripheral blood-derived T lymphocytes in response to SDF-1. In contrast, SDF-1-stimulated actin polymerization was only partially inhibited by PI 3-kinase inhibitors, suggesting that while chemotaxis is fully dependent on PI 3-kinase activation, actin polymerization requires additional biochemical inputs. Finally, SDF-1-stimulated extracellular signal-related kinase (ERK)-1/2 mitogen-activated protein kinase activation was inhibited by PI 3-kinase inhibitors. In addition, the mitogen-activated protein/ERK kinase inhibitor PD098059 partially attenuated chemotaxis in response to SDF-1. Hence, it appears that ERK1/2 activation is dependent on PI 3-kinase activation, and both biochemical events are involved in the regulation of SDF-1-stimulated chemotaxis.\n",
      "\n",
      "generated_summary\n",
      "\n",
      "loss: 1.137648582458496\n",
      "\n",
      "loss: 1.6252065896987915\n",
      "\n",
      "loss: 1.1051146984100342\n",
      "\n",
      "loss: 1.2980055809020996\n",
      "\n",
      "loss: 1.335720419883728\n",
      "\n",
      "loss: 1.552085518836975\n",
      "\n",
      "loss: 0.5540071129798889\n",
      "\n",
      "loss: 1.510952115058899\n",
      "\n",
      "loss: 1.2384268045425415\n",
      "\n",
      "loss: 1.084309458732605\n",
      "\n"
     ]
    },
    {
     "data": {
      "application/vnd.jupyter.widget-view+json": {
       "model_id": "42ee3c036a914b7bb54acc0a0cbdb50e",
       "version_major": 2,
       "version_minor": 0
      },
      "text/plain": [
       "Evaluating:   0%|          | 0/500 [00:00<?, ?it/s]"
      ]
     },
     "metadata": {},
     "output_type": "display_data"
    },
    {
     "name": "stdout",
     "output_type": "stream",
     "text": [
      "perplexity: 11.302252769470215\n",
      "After 181 updates: \n",
      "\n"
     ]
    },
    {
     "data": {
      "application/vnd.jupyter.widget-view+json": {
       "model_id": "a32204766bef46a6b7abdb261b873d70",
       "version_major": 2,
       "version_minor": 0
      },
      "text/plain": [
       "  0%|          | 0/100 [00:00<?, ?it/s]"
      ]
     },
     "metadata": {},
     "output_type": "display_data"
    },
    {
     "name": "stdout",
     "output_type": "stream",
     "text": [
      "We report the cDNA deduced primary structure of a wheat germ agglutinin-reactive nuclear pore complex (NPC) protein of rat. The protein, termed Nup98 (for nucleoporin of 98 kDa), contains numerous GLFG and FG repeats and some FXFG repeats and is thus a vertebrate member of a family of GLFG nucleoporins that were previously discovered in yeast. Immunoelectron microscopy showed Nup98 to be asymmetrically located at the nucleoplasmic side of the NPC. Nup98 functions as one of several docking site nucleoporins in a cytosolic docking activity-mediated binding of a model transport substrate. The docking site of Nup98 was mapped to its N-terminal half, which contains all of the peptide repeats. A recombinant segment of this region depleted the docking activity of cytosol. We suggest that the peptide repeat domain of Nup98, together with peptide repeat domains of other nucleoporins, forms an array of sites for mediated docking of transport substrate, and that bidirectional transport across the NPC proceeds by repeated docking and undocking reactions.\n",
      "\n",
      "generated_summary\n",
      "\n"
     ]
    },
    {
     "data": {
      "application/vnd.jupyter.widget-view+json": {
       "model_id": "75d997c8a22744e5879fb1b287966501",
       "version_major": 2,
       "version_minor": 0
      },
      "text/plain": [
       "  0%|          | 0/100 [00:00<?, ?it/s]"
      ]
     },
     "metadata": {},
     "output_type": "display_data"
    },
    {
     "name": "stdout",
     "output_type": "stream",
     "text": [
      "The cellular effects of stromal cell-derived factor-1 (SDF-1) are mediated primarily by binding to the CXC chemokine receptor-4. We report in this study that SDF-1 and its peptide analogues induce a concentration- and time-dependent accumulation of phosphatidylinositol-(3,4,5)-trisphosphate (PtdIns(3,4,5)P3) in Jurkat cells. This SDF-1-stimulated generation of D-3 phosphoinositide lipids was inhibited by pretreatment of the cells with an SDF-1 peptide antagonist or an anti-CXCR4 Ab. In addition, the phosphoinositide 3 (PI 3)-kinase inhibitors wortmannin and LY294002, as well as the Gi protein inhibitor pertussis toxin, also inhibited the SDF-1-stimulated accumulation of PtdIns(3,4,5)P3. The effects of SDF-1 on D-3 phosphoinositide lipid accumulation correlated well with activation of the known PI 3-kinase effector protein kinase B, which was also inhibited by wortmannin and pertussis toxin. Concentrations of PI 3-kinase inhibitors, sufficient to inhibit PtdIns(3,4,5)P3 accumulation, also inhibited chemotaxis of Jurkat and peripheral blood-derived T lymphocytes in response to SDF-1. In contrast, SDF-1-stimulated actin polymerization was only partially inhibited by PI 3-kinase inhibitors, suggesting that while chemotaxis is fully dependent on PI 3-kinase activation, actin polymerization requires additional biochemical inputs. Finally, SDF-1-stimulated extracellular signal-related kinase (ERK)-1/2 mitogen-activated protein kinase activation was inhibited by PI 3-kinase inhibitors. In addition, the mitogen-activated protein/ERK kinase inhibitor PD098059 partially attenuated chemotaxis in response to SDF-1. Hence, it appears that ERK1/2 activation is dependent on PI 3-kinase activation, and both biochemical events are involved in the regulation of SDF-1-stimulated chemotaxis.\n",
      "\n",
      "generated_summary\n",
      "\n",
      "loss: 1.8314639329910278\n",
      "\n",
      "loss: 0.7238468527793884\n",
      "\n",
      "loss: 1.0100135803222656\n",
      "\n",
      "loss: 1.0509119033813477\n",
      "\n",
      "loss: 0.39865636825561523\n",
      "\n",
      "loss: 1.5995776653289795\n",
      "\n",
      "loss: 1.1810972690582275\n",
      "\n",
      "loss: 0.701167106628418\n",
      "\n",
      "loss: 1.189939022064209\n",
      "\n",
      "loss: 0.7636823058128357\n",
      "\n"
     ]
    },
    {
     "data": {
      "application/vnd.jupyter.widget-view+json": {
       "model_id": "a12f8784fbfa4d1db18a9020afe9cde6",
       "version_major": 2,
       "version_minor": 0
      },
      "text/plain": [
       "Evaluating:   0%|          | 0/500 [00:00<?, ?it/s]"
      ]
     },
     "metadata": {},
     "output_type": "display_data"
    },
    {
     "name": "stdout",
     "output_type": "stream",
     "text": [
      "perplexity: 12.02214241027832\n",
      "After 191 updates: \n",
      "\n"
     ]
    },
    {
     "data": {
      "application/vnd.jupyter.widget-view+json": {
       "model_id": "40b74495ee0f42b18f4525a8d09a50f9",
       "version_major": 2,
       "version_minor": 0
      },
      "text/plain": [
       "  0%|          | 0/100 [00:00<?, ?it/s]"
      ]
     },
     "metadata": {},
     "output_type": "display_data"
    },
    {
     "name": "stdout",
     "output_type": "stream",
     "text": [
      "We report the cDNA deduced primary structure of a wheat germ agglutinin-reactive nuclear pore complex (NPC) protein of rat. The protein, termed Nup98 (for nucleoporin of 98 kDa), contains numerous GLFG and FG repeats and some FXFG repeats and is thus a vertebrate member of a family of GLFG nucleoporins that were previously discovered in yeast. Immunoelectron microscopy showed Nup98 to be asymmetrically located at the nucleoplasmic side of the NPC. Nup98 functions as one of several docking site nucleoporins in a cytosolic docking activity-mediated binding of a model transport substrate. The docking site of Nup98 was mapped to its N-terminal half, which contains all of the peptide repeats. A recombinant segment of this region depleted the docking activity of cytosol. We suggest that the peptide repeat domain of Nup98, together with peptide repeat domains of other nucleoporins, forms an array of sites for mediated docking of transport substrate, and that bidirectional transport across the NPC proceeds by repeated docking and undocking reactions.\n",
      "\n",
      "generated_summary\n",
      "\n"
     ]
    },
    {
     "data": {
      "application/vnd.jupyter.widget-view+json": {
       "model_id": "59072efbfbf8415bb74025194d78edf1",
       "version_major": 2,
       "version_minor": 0
      },
      "text/plain": [
       "  0%|          | 0/100 [00:00<?, ?it/s]"
      ]
     },
     "metadata": {},
     "output_type": "display_data"
    },
    {
     "name": "stdout",
     "output_type": "stream",
     "text": [
      "The cellular effects of stromal cell-derived factor-1 (SDF-1) are mediated primarily by binding to the CXC chemokine receptor-4. We report in this study that SDF-1 and its peptide analogues induce a concentration- and time-dependent accumulation of phosphatidylinositol-(3,4,5)-trisphosphate (PtdIns(3,4,5)P3) in Jurkat cells. This SDF-1-stimulated generation of D-3 phosphoinositide lipids was inhibited by pretreatment of the cells with an SDF-1 peptide antagonist or an anti-CXCR4 Ab. In addition, the phosphoinositide 3 (PI 3)-kinase inhibitors wortmannin and LY294002, as well as the Gi protein inhibitor pertussis toxin, also inhibited the SDF-1-stimulated accumulation of PtdIns(3,4,5)P3. The effects of SDF-1 on D-3 phosphoinositide lipid accumulation correlated well with activation of the known PI 3-kinase effector protein kinase B, which was also inhibited by wortmannin and pertussis toxin. Concentrations of PI 3-kinase inhibitors, sufficient to inhibit PtdIns(3,4,5)P3 accumulation, also inhibited chemotaxis of Jurkat and peripheral blood-derived T lymphocytes in response to SDF-1. In contrast, SDF-1-stimulated actin polymerization was only partially inhibited by PI 3-kinase inhibitors, suggesting that while chemotaxis is fully dependent on PI 3-kinase activation, actin polymerization requires additional biochemical inputs. Finally, SDF-1-stimulated extracellular signal-related kinase (ERK)-1/2 mitogen-activated protein kinase activation was inhibited by PI 3-kinase inhibitors. In addition, the mitogen-activated protein/ERK kinase inhibitor PD098059 partially attenuated chemotaxis in response to SDF-1. Hence, it appears that ERK1/2 activation is dependent on PI 3-kinase activation, and both biochemical events are involved in the regulation of SDF-1-stimulated chemotaxis.\n",
      "\n",
      "generated_summary\n",
      "\n",
      "loss: 0.8514901995658875\n",
      "\n",
      "loss: 0.437293142080307\n",
      "\n",
      "loss: 1.5036357641220093\n",
      "\n",
      "loss: 1.6834824085235596\n",
      "\n",
      "loss: 1.3237338066101074\n",
      "\n",
      "loss: 0.4168761074542999\n",
      "\n",
      "loss: 1.958967685699463\n",
      "\n",
      "loss: 1.1000727415084839\n",
      "\n",
      "loss: 1.64370596408844\n",
      "\n",
      "loss: 2.222309112548828\n",
      "\n"
     ]
    },
    {
     "data": {
      "application/vnd.jupyter.widget-view+json": {
       "model_id": "415d2adbdf8041c79e47fd5eefd8b948",
       "version_major": 2,
       "version_minor": 0
      },
      "text/plain": [
       "Evaluating:   0%|          | 0/500 [00:00<?, ?it/s]"
      ]
     },
     "metadata": {},
     "output_type": "display_data"
    },
    {
     "name": "stdout",
     "output_type": "stream",
     "text": [
      "perplexity: 13.685453414916992\n",
      "After 201 updates: \n",
      "\n"
     ]
    },
    {
     "data": {
      "application/vnd.jupyter.widget-view+json": {
       "model_id": "9c47f58dac1d4502bef2677d5f08e79e",
       "version_major": 2,
       "version_minor": 0
      },
      "text/plain": [
       "  0%|          | 0/100 [00:00<?, ?it/s]"
      ]
     },
     "metadata": {},
     "output_type": "display_data"
    },
    {
     "name": "stdout",
     "output_type": "stream",
     "text": [
      "We report the cDNA deduced primary structure of a wheat germ agglutinin-reactive nuclear pore complex (NPC) protein of rat. The protein, termed Nup98 (for nucleoporin of 98 kDa), contains numerous GLFG and FG repeats and some FXFG repeats and is thus a vertebrate member of a family of GLFG nucleoporins that were previously discovered in yeast. Immunoelectron microscopy showed Nup98 to be asymmetrically located at the nucleoplasmic side of the NPC. Nup98 functions as one of several docking site nucleoporins in a cytosolic docking activity-mediated binding of a model transport substrate. The docking site of Nup98 was mapped to its N-terminal half, which contains all of the peptide repeats. A recombinant segment of this region depleted the docking activity of cytosol. We suggest that the peptide repeat domain of Nup98, together with peptide repeat domains of other nucleoporins, forms an array of sites for mediated docking of transport substrate, and that bidirectional transport across the NPC proceeds by repeated docking and undocking reactions.\n",
      "\n",
      "generated_summary\n",
      "\n"
     ]
    },
    {
     "data": {
      "application/vnd.jupyter.widget-view+json": {
       "model_id": "a3146a8431e84bb0a7485af18c42d6d4",
       "version_major": 2,
       "version_minor": 0
      },
      "text/plain": [
       "  0%|          | 0/100 [00:00<?, ?it/s]"
      ]
     },
     "metadata": {},
     "output_type": "display_data"
    },
    {
     "name": "stdout",
     "output_type": "stream",
     "text": [
      "The cellular effects of stromal cell-derived factor-1 (SDF-1) are mediated primarily by binding to the CXC chemokine receptor-4. We report in this study that SDF-1 and its peptide analogues induce a concentration- and time-dependent accumulation of phosphatidylinositol-(3,4,5)-trisphosphate (PtdIns(3,4,5)P3) in Jurkat cells. This SDF-1-stimulated generation of D-3 phosphoinositide lipids was inhibited by pretreatment of the cells with an SDF-1 peptide antagonist or an anti-CXCR4 Ab. In addition, the phosphoinositide 3 (PI 3)-kinase inhibitors wortmannin and LY294002, as well as the Gi protein inhibitor pertussis toxin, also inhibited the SDF-1-stimulated accumulation of PtdIns(3,4,5)P3. The effects of SDF-1 on D-3 phosphoinositide lipid accumulation correlated well with activation of the known PI 3-kinase effector protein kinase B, which was also inhibited by wortmannin and pertussis toxin. Concentrations of PI 3-kinase inhibitors, sufficient to inhibit PtdIns(3,4,5)P3 accumulation, also inhibited chemotaxis of Jurkat and peripheral blood-derived T lymphocytes in response to SDF-1. In contrast, SDF-1-stimulated actin polymerization was only partially inhibited by PI 3-kinase inhibitors, suggesting that while chemotaxis is fully dependent on PI 3-kinase activation, actin polymerization requires additional biochemical inputs. Finally, SDF-1-stimulated extracellular signal-related kinase (ERK)-1/2 mitogen-activated protein kinase activation was inhibited by PI 3-kinase inhibitors. In addition, the mitogen-activated protein/ERK kinase inhibitor PD098059 partially attenuated chemotaxis in response to SDF-1. Hence, it appears that ERK1/2 activation is dependent on PI 3-kinase activation, and both biochemical events are involved in the regulation of SDF-1-stimulated chemotaxis.\n",
      "\n",
      "generated_summary\n",
      "\n",
      "loss: 1.6282963752746582\n",
      "\n",
      "loss: 1.874362826347351\n",
      "\n",
      "loss: 1.276450276374817\n",
      "\n",
      "loss: 1.4932361841201782\n",
      "\n",
      "loss: 1.0162943601608276\n",
      "\n",
      "loss: 1.1583901643753052\n",
      "\n",
      "loss: 1.1463626623153687\n",
      "\n",
      "loss: 1.416176199913025\n",
      "\n",
      "loss: 0.8664507865905762\n",
      "\n",
      "loss: 1.082734227180481\n",
      "\n"
     ]
    },
    {
     "data": {
      "application/vnd.jupyter.widget-view+json": {
       "model_id": "c695cd5be9304a3797fe398db914d8f4",
       "version_major": 2,
       "version_minor": 0
      },
      "text/plain": [
       "Evaluating:   0%|          | 0/500 [00:00<?, ?it/s]"
      ]
     },
     "metadata": {},
     "output_type": "display_data"
    },
    {
     "name": "stdout",
     "output_type": "stream",
     "text": [
      "perplexity: 12.188737869262695\n",
      "After 211 updates: \n",
      "\n"
     ]
    },
    {
     "data": {
      "application/vnd.jupyter.widget-view+json": {
       "model_id": "299dc18e3a9c44b9be6c8f02d8f9b08d",
       "version_major": 2,
       "version_minor": 0
      },
      "text/plain": [
       "  0%|          | 0/100 [00:00<?, ?it/s]"
      ]
     },
     "metadata": {},
     "output_type": "display_data"
    },
    {
     "name": "stdout",
     "output_type": "stream",
     "text": [
      "We report the cDNA deduced primary structure of a wheat germ agglutinin-reactive nuclear pore complex (NPC) protein of rat. The protein, termed Nup98 (for nucleoporin of 98 kDa), contains numerous GLFG and FG repeats and some FXFG repeats and is thus a vertebrate member of a family of GLFG nucleoporins that were previously discovered in yeast. Immunoelectron microscopy showed Nup98 to be asymmetrically located at the nucleoplasmic side of the NPC. Nup98 functions as one of several docking site nucleoporins in a cytosolic docking activity-mediated binding of a model transport substrate. The docking site of Nup98 was mapped to its N-terminal half, which contains all of the peptide repeats. A recombinant segment of this region depleted the docking activity of cytosol. We suggest that the peptide repeat domain of Nup98, together with peptide repeat domains of other nucleoporins, forms an array of sites for mediated docking of transport substrate, and that bidirectional transport across the NPC proceeds by repeated docking and undocking reactions.\n",
      "\n",
      "generated_summary\n",
      "\n"
     ]
    },
    {
     "data": {
      "application/vnd.jupyter.widget-view+json": {
       "model_id": "0698ec96b76642d988ebb1bf2dcb12ed",
       "version_major": 2,
       "version_minor": 0
      },
      "text/plain": [
       "  0%|          | 0/100 [00:00<?, ?it/s]"
      ]
     },
     "metadata": {},
     "output_type": "display_data"
    },
    {
     "name": "stdout",
     "output_type": "stream",
     "text": [
      "The cellular effects of stromal cell-derived factor-1 (SDF-1) are mediated primarily by binding to the CXC chemokine receptor-4. We report in this study that SDF-1 and its peptide analogues induce a concentration- and time-dependent accumulation of phosphatidylinositol-(3,4,5)-trisphosphate (PtdIns(3,4,5)P3) in Jurkat cells. This SDF-1-stimulated generation of D-3 phosphoinositide lipids was inhibited by pretreatment of the cells with an SDF-1 peptide antagonist or an anti-CXCR4 Ab. In addition, the phosphoinositide 3 (PI 3)-kinase inhibitors wortmannin and LY294002, as well as the Gi protein inhibitor pertussis toxin, also inhibited the SDF-1-stimulated accumulation of PtdIns(3,4,5)P3. The effects of SDF-1 on D-3 phosphoinositide lipid accumulation correlated well with activation of the known PI 3-kinase effector protein kinase B, which was also inhibited by wortmannin and pertussis toxin. Concentrations of PI 3-kinase inhibitors, sufficient to inhibit PtdIns(3,4,5)P3 accumulation, also inhibited chemotaxis of Jurkat and peripheral blood-derived T lymphocytes in response to SDF-1. In contrast, SDF-1-stimulated actin polymerization was only partially inhibited by PI 3-kinase inhibitors, suggesting that while chemotaxis is fully dependent on PI 3-kinase activation, actin polymerization requires additional biochemical inputs. Finally, SDF-1-stimulated extracellular signal-related kinase (ERK)-1/2 mitogen-activated protein kinase activation was inhibited by PI 3-kinase inhibitors. In addition, the mitogen-activated protein/ERK kinase inhibitor PD098059 partially attenuated chemotaxis in response to SDF-1. Hence, it appears that ERK1/2 activation is dependent on PI 3-kinase activation, and both biochemical events are involved in the regulation of SDF-1-stimulated chemotaxis.\n",
      "\n",
      "generated_summary\n",
      "\n",
      "loss: 1.3299623727798462\n",
      "\n",
      "loss: 1.0302767753601074\n",
      "\n",
      "loss: 0.8757720589637756\n",
      "\n",
      "loss: 1.45928955078125\n",
      "\n",
      "loss: 1.1524286270141602\n",
      "\n",
      "loss: 1.546774983406067\n",
      "\n",
      "loss: 1.4240617752075195\n",
      "\n",
      "loss: 0.6069134473800659\n",
      "\n",
      "loss: 1.445082426071167\n",
      "\n",
      "loss: 0.92723548412323\n",
      "\n"
     ]
    },
    {
     "data": {
      "application/vnd.jupyter.widget-view+json": {
       "model_id": "d5d9cab9f8284eb681eeeb60d26449bb",
       "version_major": 2,
       "version_minor": 0
      },
      "text/plain": [
       "Evaluating:   0%|          | 0/500 [00:00<?, ?it/s]"
      ]
     },
     "metadata": {},
     "output_type": "display_data"
    },
    {
     "name": "stdout",
     "output_type": "stream",
     "text": [
      "perplexity: 11.151262283325195\n",
      "After 221 updates: \n",
      "\n"
     ]
    },
    {
     "data": {
      "application/vnd.jupyter.widget-view+json": {
       "model_id": "5a226a9a0e404b379f19f536c60f5398",
       "version_major": 2,
       "version_minor": 0
      },
      "text/plain": [
       "  0%|          | 0/100 [00:00<?, ?it/s]"
      ]
     },
     "metadata": {},
     "output_type": "display_data"
    },
    {
     "name": "stdout",
     "output_type": "stream",
     "text": [
      "We report the cDNA deduced primary structure of a wheat germ agglutinin-reactive nuclear pore complex (NPC) protein of rat. The protein, termed Nup98 (for nucleoporin of 98 kDa), contains numerous GLFG and FG repeats and some FXFG repeats and is thus a vertebrate member of a family of GLFG nucleoporins that were previously discovered in yeast. Immunoelectron microscopy showed Nup98 to be asymmetrically located at the nucleoplasmic side of the NPC. Nup98 functions as one of several docking site nucleoporins in a cytosolic docking activity-mediated binding of a model transport substrate. The docking site of Nup98 was mapped to its N-terminal half, which contains all of the peptide repeats. A recombinant segment of this region depleted the docking activity of cytosol. We suggest that the peptide repeat domain of Nup98, together with peptide repeat domains of other nucleoporins, forms an array of sites for mediated docking of transport substrate, and that bidirectional transport across the NPC proceeds by repeated docking and undocking reactions.\n",
      "\n",
      "generated_summary\n",
      "\n"
     ]
    },
    {
     "data": {
      "application/vnd.jupyter.widget-view+json": {
       "model_id": "149cd950b2264d55a05ac69e52f4940f",
       "version_major": 2,
       "version_minor": 0
      },
      "text/plain": [
       "  0%|          | 0/100 [00:00<?, ?it/s]"
      ]
     },
     "metadata": {},
     "output_type": "display_data"
    },
    {
     "name": "stdout",
     "output_type": "stream",
     "text": [
      "The cellular effects of stromal cell-derived factor-1 (SDF-1) are mediated primarily by binding to the CXC chemokine receptor-4. We report in this study that SDF-1 and its peptide analogues induce a concentration- and time-dependent accumulation of phosphatidylinositol-(3,4,5)-trisphosphate (PtdIns(3,4,5)P3) in Jurkat cells. This SDF-1-stimulated generation of D-3 phosphoinositide lipids was inhibited by pretreatment of the cells with an SDF-1 peptide antagonist or an anti-CXCR4 Ab. In addition, the phosphoinositide 3 (PI 3)-kinase inhibitors wortmannin and LY294002, as well as the Gi protein inhibitor pertussis toxin, also inhibited the SDF-1-stimulated accumulation of PtdIns(3,4,5)P3. The effects of SDF-1 on D-3 phosphoinositide lipid accumulation correlated well with activation of the known PI 3-kinase effector protein kinase B, which was also inhibited by wortmannin and pertussis toxin. Concentrations of PI 3-kinase inhibitors, sufficient to inhibit PtdIns(3,4,5)P3 accumulation, also inhibited chemotaxis of Jurkat and peripheral blood-derived T lymphocytes in response to SDF-1. In contrast, SDF-1-stimulated actin polymerization was only partially inhibited by PI 3-kinase inhibitors, suggesting that while chemotaxis is fully dependent on PI 3-kinase activation, actin polymerization requires additional biochemical inputs. Finally, SDF-1-stimulated extracellular signal-related kinase (ERK)-1/2 mitogen-activated protein kinase activation was inhibited by PI 3-kinase inhibitors. In addition, the mitogen-activated protein/ERK kinase inhibitor PD098059 partially attenuated chemotaxis in response to SDF-1. Hence, it appears that ERK1/2 activation is dependent on PI 3-kinase activation, and both biochemical events are involved in the regulation of SDF-1-stimulated chemotaxis.\n",
      "\n",
      "generated_summary\n",
      "\n",
      "loss: 1.4154231548309326\n",
      "\n",
      "loss: 1.2039350271224976\n",
      "\n",
      "loss: 0.8752009868621826\n",
      "\n",
      "loss: 1.0093976259231567\n",
      "\n",
      "loss: 0.937150776386261\n",
      "\n",
      "loss: 1.6037676334381104\n",
      "\n",
      "loss: 1.7748600244522095\n",
      "\n",
      "loss: 0.7926555275917053\n",
      "\n",
      "loss: 0.8896305561065674\n",
      "\n",
      "loss: 1.9023154973983765\n",
      "\n"
     ]
    },
    {
     "data": {
      "application/vnd.jupyter.widget-view+json": {
       "model_id": "43222e1ff38c4922b4d93eb357bf9d2f",
       "version_major": 2,
       "version_minor": 0
      },
      "text/plain": [
       "Evaluating:   0%|          | 0/500 [00:00<?, ?it/s]"
      ]
     },
     "metadata": {},
     "output_type": "display_data"
    },
    {
     "name": "stdout",
     "output_type": "stream",
     "text": [
      "perplexity: 10.95441722869873\n",
      "After 231 updates: \n",
      "\n"
     ]
    },
    {
     "data": {
      "application/vnd.jupyter.widget-view+json": {
       "model_id": "3b8a9f3b98f64506afe098cab5849548",
       "version_major": 2,
       "version_minor": 0
      },
      "text/plain": [
       "  0%|          | 0/100 [00:00<?, ?it/s]"
      ]
     },
     "metadata": {},
     "output_type": "display_data"
    },
    {
     "name": "stdout",
     "output_type": "stream",
     "text": [
      "We report the cDNA deduced primary structure of a wheat germ agglutinin-reactive nuclear pore complex (NPC) protein of rat. The protein, termed Nup98 (for nucleoporin of 98 kDa), contains numerous GLFG and FG repeats and some FXFG repeats and is thus a vertebrate member of a family of GLFG nucleoporins that were previously discovered in yeast. Immunoelectron microscopy showed Nup98 to be asymmetrically located at the nucleoplasmic side of the NPC. Nup98 functions as one of several docking site nucleoporins in a cytosolic docking activity-mediated binding of a model transport substrate. The docking site of Nup98 was mapped to its N-terminal half, which contains all of the peptide repeats. A recombinant segment of this region depleted the docking activity of cytosol. We suggest that the peptide repeat domain of Nup98, together with peptide repeat domains of other nucleoporins, forms an array of sites for mediated docking of transport substrate, and that bidirectional transport across the NPC proceeds by repeated docking and undocking reactions.\n",
      "\n",
      "generated_summary\n",
      "\n"
     ]
    },
    {
     "data": {
      "application/vnd.jupyter.widget-view+json": {
       "model_id": "62a88046ca5d4340b8952ba38406f6c4",
       "version_major": 2,
       "version_minor": 0
      },
      "text/plain": [
       "  0%|          | 0/100 [00:00<?, ?it/s]"
      ]
     },
     "metadata": {},
     "output_type": "display_data"
    },
    {
     "name": "stdout",
     "output_type": "stream",
     "text": [
      "The cellular effects of stromal cell-derived factor-1 (SDF-1) are mediated primarily by binding to the CXC chemokine receptor-4. We report in this study that SDF-1 and its peptide analogues induce a concentration- and time-dependent accumulation of phosphatidylinositol-(3,4,5)-trisphosphate (PtdIns(3,4,5)P3) in Jurkat cells. This SDF-1-stimulated generation of D-3 phosphoinositide lipids was inhibited by pretreatment of the cells with an SDF-1 peptide antagonist or an anti-CXCR4 Ab. In addition, the phosphoinositide 3 (PI 3)-kinase inhibitors wortmannin and LY294002, as well as the Gi protein inhibitor pertussis toxin, also inhibited the SDF-1-stimulated accumulation of PtdIns(3,4,5)P3. The effects of SDF-1 on D-3 phosphoinositide lipid accumulation correlated well with activation of the known PI 3-kinase effector protein kinase B, which was also inhibited by wortmannin and pertussis toxin. Concentrations of PI 3-kinase inhibitors, sufficient to inhibit PtdIns(3,4,5)P3 accumulation, also inhibited chemotaxis of Jurkat and peripheral blood-derived T lymphocytes in response to SDF-1. In contrast, SDF-1-stimulated actin polymerization was only partially inhibited by PI 3-kinase inhibitors, suggesting that while chemotaxis is fully dependent on PI 3-kinase activation, actin polymerization requires additional biochemical inputs. Finally, SDF-1-stimulated extracellular signal-related kinase (ERK)-1/2 mitogen-activated protein kinase activation was inhibited by PI 3-kinase inhibitors. In addition, the mitogen-activated protein/ERK kinase inhibitor PD098059 partially attenuated chemotaxis in response to SDF-1. Hence, it appears that ERK1/2 activation is dependent on PI 3-kinase activation, and both biochemical events are involved in the regulation of SDF-1-stimulated chemotaxis.\n",
      "\n",
      "generated_summary\n",
      "\n",
      "loss: 1.526978611946106\n",
      "\n",
      "loss: 1.1040364503860474\n",
      "\n",
      "loss: 0.9790835380554199\n",
      "\n",
      "loss: 0.7123914957046509\n",
      "\n",
      "loss: 0.8154533505439758\n",
      "\n",
      "loss: 0.3728416860103607\n",
      "\n",
      "loss: 1.634588599205017\n",
      "\n",
      "loss: 1.2295634746551514\n",
      "\n",
      "loss: 0.9844160676002502\n",
      "\n",
      "loss: 1.356486439704895\n",
      "\n"
     ]
    },
    {
     "data": {
      "application/vnd.jupyter.widget-view+json": {
       "model_id": "4b6734b4ffbd40ad8a8d15e7a2b4e526",
       "version_major": 2,
       "version_minor": 0
      },
      "text/plain": [
       "Evaluating:   0%|          | 0/500 [00:00<?, ?it/s]"
      ]
     },
     "metadata": {},
     "output_type": "display_data"
    },
    {
     "name": "stdout",
     "output_type": "stream",
     "text": [
      "perplexity: 11.098511695861816\n",
      "After 241 updates: \n",
      "\n"
     ]
    },
    {
     "data": {
      "application/vnd.jupyter.widget-view+json": {
       "model_id": "7d81702a41c54867bb11d4d1ffa5f236",
       "version_major": 2,
       "version_minor": 0
      },
      "text/plain": [
       "  0%|          | 0/100 [00:00<?, ?it/s]"
      ]
     },
     "metadata": {},
     "output_type": "display_data"
    },
    {
     "name": "stdout",
     "output_type": "stream",
     "text": [
      "We report the cDNA deduced primary structure of a wheat germ agglutinin-reactive nuclear pore complex (NPC) protein of rat. The protein, termed Nup98 (for nucleoporin of 98 kDa), contains numerous GLFG and FG repeats and some FXFG repeats and is thus a vertebrate member of a family of GLFG nucleoporins that were previously discovered in yeast. Immunoelectron microscopy showed Nup98 to be asymmetrically located at the nucleoplasmic side of the NPC. Nup98 functions as one of several docking site nucleoporins in a cytosolic docking activity-mediated binding of a model transport substrate. The docking site of Nup98 was mapped to its N-terminal half, which contains all of the peptide repeats. A recombinant segment of this region depleted the docking activity of cytosol. We suggest that the peptide repeat domain of Nup98, together with peptide repeat domains of other nucleoporins, forms an array of sites for mediated docking of transport substrate, and that bidirectional transport across the NPC proceeds by repeated docking and undocking reactions.\n",
      "\n",
      "generated_summary\n",
      "\n"
     ]
    },
    {
     "data": {
      "application/vnd.jupyter.widget-view+json": {
       "model_id": "7040d7ba3bff45aab6db889d4fb54d6c",
       "version_major": 2,
       "version_minor": 0
      },
      "text/plain": [
       "  0%|          | 0/100 [00:00<?, ?it/s]"
      ]
     },
     "metadata": {},
     "output_type": "display_data"
    },
    {
     "name": "stdout",
     "output_type": "stream",
     "text": [
      "The cellular effects of stromal cell-derived factor-1 (SDF-1) are mediated primarily by binding to the CXC chemokine receptor-4. We report in this study that SDF-1 and its peptide analogues induce a concentration- and time-dependent accumulation of phosphatidylinositol-(3,4,5)-trisphosphate (PtdIns(3,4,5)P3) in Jurkat cells. This SDF-1-stimulated generation of D-3 phosphoinositide lipids was inhibited by pretreatment of the cells with an SDF-1 peptide antagonist or an anti-CXCR4 Ab. In addition, the phosphoinositide 3 (PI 3)-kinase inhibitors wortmannin and LY294002, as well as the Gi protein inhibitor pertussis toxin, also inhibited the SDF-1-stimulated accumulation of PtdIns(3,4,5)P3. The effects of SDF-1 on D-3 phosphoinositide lipid accumulation correlated well with activation of the known PI 3-kinase effector protein kinase B, which was also inhibited by wortmannin and pertussis toxin. Concentrations of PI 3-kinase inhibitors, sufficient to inhibit PtdIns(3,4,5)P3 accumulation, also inhibited chemotaxis of Jurkat and peripheral blood-derived T lymphocytes in response to SDF-1. In contrast, SDF-1-stimulated actin polymerization was only partially inhibited by PI 3-kinase inhibitors, suggesting that while chemotaxis is fully dependent on PI 3-kinase activation, actin polymerization requires additional biochemical inputs. Finally, SDF-1-stimulated extracellular signal-related kinase (ERK)-1/2 mitogen-activated protein kinase activation was inhibited by PI 3-kinase inhibitors. In addition, the mitogen-activated protein/ERK kinase inhibitor PD098059 partially attenuated chemotaxis in response to SDF-1. Hence, it appears that ERK1/2 activation is dependent on PI 3-kinase activation, and both biochemical events are involved in the regulation of SDF-1-stimulated chemotaxis.\n",
      "\n",
      "generated_summary\n",
      "\n",
      "loss: 1.459967851638794\n",
      "\n",
      "loss: 1.8838527202606201\n",
      "\n",
      "loss: 1.4158666133880615\n",
      "\n",
      "loss: 1.3366470336914062\n",
      "\n",
      "loss: 0.9250965118408203\n",
      "\n",
      "loss: 2.9288978576660156\n",
      "\n",
      "loss: 1.2916802167892456\n",
      "\n",
      "loss: 1.2412676811218262\n",
      "\n",
      "loss: 1.3336124420166016\n",
      "\n",
      "loss: 1.3517087697982788\n",
      "\n"
     ]
    },
    {
     "data": {
      "application/vnd.jupyter.widget-view+json": {
       "model_id": "234e78c472874fcfbbdfe1aafec92728",
       "version_major": 2,
       "version_minor": 0
      },
      "text/plain": [
       "Evaluating:   0%|          | 0/500 [00:00<?, ?it/s]"
      ]
     },
     "metadata": {},
     "output_type": "display_data"
    },
    {
     "name": "stdout",
     "output_type": "stream",
     "text": [
      "perplexity: 10.606382369995117\n",
      "After 251 updates: \n",
      "\n"
     ]
    },
    {
     "data": {
      "application/vnd.jupyter.widget-view+json": {
       "model_id": "2f599cd3752748ac8e2132d0de1604f2",
       "version_major": 2,
       "version_minor": 0
      },
      "text/plain": [
       "  0%|          | 0/100 [00:00<?, ?it/s]"
      ]
     },
     "metadata": {},
     "output_type": "display_data"
    },
    {
     "name": "stdout",
     "output_type": "stream",
     "text": [
      "We report the cDNA deduced primary structure of a wheat germ agglutinin-reactive nuclear pore complex (NPC) protein of rat. The protein, termed Nup98 (for nucleoporin of 98 kDa), contains numerous GLFG and FG repeats and some FXFG repeats and is thus a vertebrate member of a family of GLFG nucleoporins that were previously discovered in yeast. Immunoelectron microscopy showed Nup98 to be asymmetrically located at the nucleoplasmic side of the NPC. Nup98 functions as one of several docking site nucleoporins in a cytosolic docking activity-mediated binding of a model transport substrate. The docking site of Nup98 was mapped to its N-terminal half, which contains all of the peptide repeats. A recombinant segment of this region depleted the docking activity of cytosol. We suggest that the peptide repeat domain of Nup98, together with peptide repeat domains of other nucleoporins, forms an array of sites for mediated docking of transport substrate, and that bidirectional transport across the NPC proceeds by repeated docking and undocking reactions.\n",
      "\n",
      "generated_summary\n",
      "\n"
     ]
    },
    {
     "data": {
      "application/vnd.jupyter.widget-view+json": {
       "model_id": "9cdfe081af2a4c5ea2666d6ff007954b",
       "version_major": 2,
       "version_minor": 0
      },
      "text/plain": [
       "  0%|          | 0/100 [00:00<?, ?it/s]"
      ]
     },
     "metadata": {},
     "output_type": "display_data"
    },
    {
     "name": "stdout",
     "output_type": "stream",
     "text": [
      "The cellular effects of stromal cell-derived factor-1 (SDF-1) are mediated primarily by binding to the CXC chemokine receptor-4. We report in this study that SDF-1 and its peptide analogues induce a concentration- and time-dependent accumulation of phosphatidylinositol-(3,4,5)-trisphosphate (PtdIns(3,4,5)P3) in Jurkat cells. This SDF-1-stimulated generation of D-3 phosphoinositide lipids was inhibited by pretreatment of the cells with an SDF-1 peptide antagonist or an anti-CXCR4 Ab. In addition, the phosphoinositide 3 (PI 3)-kinase inhibitors wortmannin and LY294002, as well as the Gi protein inhibitor pertussis toxin, also inhibited the SDF-1-stimulated accumulation of PtdIns(3,4,5)P3. The effects of SDF-1 on D-3 phosphoinositide lipid accumulation correlated well with activation of the known PI 3-kinase effector protein kinase B, which was also inhibited by wortmannin and pertussis toxin. Concentrations of PI 3-kinase inhibitors, sufficient to inhibit PtdIns(3,4,5)P3 accumulation, also inhibited chemotaxis of Jurkat and peripheral blood-derived T lymphocytes in response to SDF-1. In contrast, SDF-1-stimulated actin polymerization was only partially inhibited by PI 3-kinase inhibitors, suggesting that while chemotaxis is fully dependent on PI 3-kinase activation, actin polymerization requires additional biochemical inputs. Finally, SDF-1-stimulated extracellular signal-related kinase (ERK)-1/2 mitogen-activated protein kinase activation was inhibited by PI 3-kinase inhibitors. In addition, the mitogen-activated protein/ERK kinase inhibitor PD098059 partially attenuated chemotaxis in response to SDF-1. Hence, it appears that ERK1/2 activation is dependent on PI 3-kinase activation, and both biochemical events are involved in the regulation of SDF-1-stimulated chemotaxis.\n",
      "\n",
      "generated_summary\n",
      "\n",
      "loss: 1.307364821434021\n",
      "\n",
      "loss: 1.0821847915649414\n",
      "\n",
      "loss: 1.2014074325561523\n",
      "\n",
      "loss: 0.9465636014938354\n",
      "\n",
      "loss: 1.029678225517273\n",
      "\n",
      "loss: 1.4761474132537842\n",
      "\n",
      "loss: 1.8479682207107544\n",
      "\n",
      "loss: 1.607262134552002\n",
      "\n",
      "loss: 1.144478440284729\n",
      "\n",
      "loss: 1.5133154392242432\n",
      "\n"
     ]
    },
    {
     "data": {
      "application/vnd.jupyter.widget-view+json": {
       "model_id": "95d1b31b680f4046979c3cef5b6cafc3",
       "version_major": 2,
       "version_minor": 0
      },
      "text/plain": [
       "Evaluating:   0%|          | 0/500 [00:00<?, ?it/s]"
      ]
     },
     "metadata": {},
     "output_type": "display_data"
    },
    {
     "name": "stdout",
     "output_type": "stream",
     "text": [
      "perplexity: 10.080774307250977\n",
      "After 261 updates: \n",
      "\n"
     ]
    },
    {
     "data": {
      "application/vnd.jupyter.widget-view+json": {
       "model_id": "a3bd0b1844b04fdcbeb9a4f609c33f14",
       "version_major": 2,
       "version_minor": 0
      },
      "text/plain": [
       "  0%|          | 0/100 [00:00<?, ?it/s]"
      ]
     },
     "metadata": {},
     "output_type": "display_data"
    },
    {
     "name": "stdout",
     "output_type": "stream",
     "text": [
      "We report the cDNA deduced primary structure of a wheat germ agglutinin-reactive nuclear pore complex (NPC) protein of rat. The protein, termed Nup98 (for nucleoporin of 98 kDa), contains numerous GLFG and FG repeats and some FXFG repeats and is thus a vertebrate member of a family of GLFG nucleoporins that were previously discovered in yeast. Immunoelectron microscopy showed Nup98 to be asymmetrically located at the nucleoplasmic side of the NPC. Nup98 functions as one of several docking site nucleoporins in a cytosolic docking activity-mediated binding of a model transport substrate. The docking site of Nup98 was mapped to its N-terminal half, which contains all of the peptide repeats. A recombinant segment of this region depleted the docking activity of cytosol. We suggest that the peptide repeat domain of Nup98, together with peptide repeat domains of other nucleoporins, forms an array of sites for mediated docking of transport substrate, and that bidirectional transport across the NPC proceeds by repeated docking and undocking reactions.\n",
      "\n",
      "generated_summary\n",
      "\n"
     ]
    },
    {
     "data": {
      "application/vnd.jupyter.widget-view+json": {
       "model_id": "c3a4423ce69e4aa4b4927a2e8ebcab98",
       "version_major": 2,
       "version_minor": 0
      },
      "text/plain": [
       "  0%|          | 0/100 [00:00<?, ?it/s]"
      ]
     },
     "metadata": {},
     "output_type": "display_data"
    },
    {
     "name": "stdout",
     "output_type": "stream",
     "text": [
      "The cellular effects of stromal cell-derived factor-1 (SDF-1) are mediated primarily by binding to the CXC chemokine receptor-4. We report in this study that SDF-1 and its peptide analogues induce a concentration- and time-dependent accumulation of phosphatidylinositol-(3,4,5)-trisphosphate (PtdIns(3,4,5)P3) in Jurkat cells. This SDF-1-stimulated generation of D-3 phosphoinositide lipids was inhibited by pretreatment of the cells with an SDF-1 peptide antagonist or an anti-CXCR4 Ab. In addition, the phosphoinositide 3 (PI 3)-kinase inhibitors wortmannin and LY294002, as well as the Gi protein inhibitor pertussis toxin, also inhibited the SDF-1-stimulated accumulation of PtdIns(3,4,5)P3. The effects of SDF-1 on D-3 phosphoinositide lipid accumulation correlated well with activation of the known PI 3-kinase effector protein kinase B, which was also inhibited by wortmannin and pertussis toxin. Concentrations of PI 3-kinase inhibitors, sufficient to inhibit PtdIns(3,4,5)P3 accumulation, also inhibited chemotaxis of Jurkat and peripheral blood-derived T lymphocytes in response to SDF-1. In contrast, SDF-1-stimulated actin polymerization was only partially inhibited by PI 3-kinase inhibitors, suggesting that while chemotaxis is fully dependent on PI 3-kinase activation, actin polymerization requires additional biochemical inputs. Finally, SDF-1-stimulated extracellular signal-related kinase (ERK)-1/2 mitogen-activated protein kinase activation was inhibited by PI 3-kinase inhibitors. In addition, the mitogen-activated protein/ERK kinase inhibitor PD098059 partially attenuated chemotaxis in response to SDF-1. Hence, it appears that ERK1/2 activation is dependent on PI 3-kinase activation, and both biochemical events are involved in the regulation of SDF-1-stimulated chemotaxis.\n",
      "\n",
      "generated_summary\n",
      "\n",
      "loss: 1.3107726573944092\n",
      "\n",
      "loss: 2.839033842086792\n",
      "\n",
      "loss: 0.9524504542350769\n",
      "\n",
      "loss: 1.0654653310775757\n",
      "\n",
      "loss: 1.831924557685852\n",
      "\n",
      "loss: 0.9518038034439087\n",
      "\n",
      "loss: 0.4661710262298584\n",
      "\n",
      "loss: 1.152448296546936\n",
      "\n",
      "loss: 0.35736456513404846\n",
      "\n",
      "loss: 0.5317880511283875\n",
      "\n"
     ]
    },
    {
     "data": {
      "application/vnd.jupyter.widget-view+json": {
       "model_id": "d37d7882f0fc49539537838fdd329c10",
       "version_major": 2,
       "version_minor": 0
      },
      "text/plain": [
       "Evaluating:   0%|          | 0/500 [00:00<?, ?it/s]"
      ]
     },
     "metadata": {},
     "output_type": "display_data"
    },
    {
     "name": "stdout",
     "output_type": "stream",
     "text": [
      "perplexity: 8.415495872497559\n",
      "After 271 updates: \n",
      "\n"
     ]
    },
    {
     "data": {
      "application/vnd.jupyter.widget-view+json": {
       "model_id": "0425975aaa1e46efa533776c2da899e5",
       "version_major": 2,
       "version_minor": 0
      },
      "text/plain": [
       "  0%|          | 0/100 [00:00<?, ?it/s]"
      ]
     },
     "metadata": {},
     "output_type": "display_data"
    },
    {
     "name": "stdout",
     "output_type": "stream",
     "text": [
      "We report the cDNA deduced primary structure of a wheat germ agglutinin-reactive nuclear pore complex (NPC) protein of rat. The protein, termed Nup98 (for nucleoporin of 98 kDa), contains numerous GLFG and FG repeats and some FXFG repeats and is thus a vertebrate member of a family of GLFG nucleoporins that were previously discovered in yeast. Immunoelectron microscopy showed Nup98 to be asymmetrically located at the nucleoplasmic side of the NPC. Nup98 functions as one of several docking site nucleoporins in a cytosolic docking activity-mediated binding of a model transport substrate. The docking site of Nup98 was mapped to its N-terminal half, which contains all of the peptide repeats. A recombinant segment of this region depleted the docking activity of cytosol. We suggest that the peptide repeat domain of Nup98, together with peptide repeat domains of other nucleoporins, forms an array of sites for mediated docking of transport substrate, and that bidirectional transport across the NPC proceeds by repeated docking and undocking reactions.\n",
      "\n",
      "generated_summary\n",
      "\n"
     ]
    },
    {
     "data": {
      "application/vnd.jupyter.widget-view+json": {
       "model_id": "7140ea98dd5b4e5cb434e85f864ec988",
       "version_major": 2,
       "version_minor": 0
      },
      "text/plain": [
       "  0%|          | 0/100 [00:00<?, ?it/s]"
      ]
     },
     "metadata": {},
     "output_type": "display_data"
    },
    {
     "name": "stdout",
     "output_type": "stream",
     "text": [
      "The cellular effects of stromal cell-derived factor-1 (SDF-1) are mediated primarily by binding to the CXC chemokine receptor-4. We report in this study that SDF-1 and its peptide analogues induce a concentration- and time-dependent accumulation of phosphatidylinositol-(3,4,5)-trisphosphate (PtdIns(3,4,5)P3) in Jurkat cells. This SDF-1-stimulated generation of D-3 phosphoinositide lipids was inhibited by pretreatment of the cells with an SDF-1 peptide antagonist or an anti-CXCR4 Ab. In addition, the phosphoinositide 3 (PI 3)-kinase inhibitors wortmannin and LY294002, as well as the Gi protein inhibitor pertussis toxin, also inhibited the SDF-1-stimulated accumulation of PtdIns(3,4,5)P3. The effects of SDF-1 on D-3 phosphoinositide lipid accumulation correlated well with activation of the known PI 3-kinase effector protein kinase B, which was also inhibited by wortmannin and pertussis toxin. Concentrations of PI 3-kinase inhibitors, sufficient to inhibit PtdIns(3,4,5)P3 accumulation, also inhibited chemotaxis of Jurkat and peripheral blood-derived T lymphocytes in response to SDF-1. In contrast, SDF-1-stimulated actin polymerization was only partially inhibited by PI 3-kinase inhibitors, suggesting that while chemotaxis is fully dependent on PI 3-kinase activation, actin polymerization requires additional biochemical inputs. Finally, SDF-1-stimulated extracellular signal-related kinase (ERK)-1/2 mitogen-activated protein kinase activation was inhibited by PI 3-kinase inhibitors. In addition, the mitogen-activated protein/ERK kinase inhibitor PD098059 partially attenuated chemotaxis in response to SDF-1. Hence, it appears that ERK1/2 activation is dependent on PI 3-kinase activation, and both biochemical events are involved in the regulation of SDF-1-stimulated chemotaxis.\n",
      "\n",
      "generated_summary\n",
      "\n",
      "loss: 0.7660121321678162\n",
      "\n",
      "loss: 0.9403708577156067\n",
      "\n",
      "loss: 1.4661073684692383\n",
      "\n",
      "loss: 1.5793498754501343\n",
      "\n",
      "loss: 1.348289966583252\n",
      "\n",
      "loss: 0.982093095779419\n",
      "\n",
      "loss: 1.7661486864089966\n",
      "\n",
      "loss: 1.2290111780166626\n",
      "\n",
      "loss: 0.6122302412986755\n",
      "\n",
      "loss: 1.0629924535751343\n",
      "\n"
     ]
    },
    {
     "data": {
      "application/vnd.jupyter.widget-view+json": {
       "model_id": "f9fc57466aff4d3a9a023b9fc971ce76",
       "version_major": 2,
       "version_minor": 0
      },
      "text/plain": [
       "Evaluating:   0%|          | 0/500 [00:00<?, ?it/s]"
      ]
     },
     "metadata": {},
     "output_type": "display_data"
    },
    {
     "name": "stdout",
     "output_type": "stream",
     "text": [
      "perplexity: 8.567892074584961\n",
      "After 281 updates: \n",
      "\n"
     ]
    },
    {
     "data": {
      "application/vnd.jupyter.widget-view+json": {
       "model_id": "aacaf41646424e62af205561ff2f5e83",
       "version_major": 2,
       "version_minor": 0
      },
      "text/plain": [
       "  0%|          | 0/100 [00:00<?, ?it/s]"
      ]
     },
     "metadata": {},
     "output_type": "display_data"
    },
    {
     "name": "stdout",
     "output_type": "stream",
     "text": [
      "We report the cDNA deduced primary structure of a wheat germ agglutinin-reactive nuclear pore complex (NPC) protein of rat. The protein, termed Nup98 (for nucleoporin of 98 kDa), contains numerous GLFG and FG repeats and some FXFG repeats and is thus a vertebrate member of a family of GLFG nucleoporins that were previously discovered in yeast. Immunoelectron microscopy showed Nup98 to be asymmetrically located at the nucleoplasmic side of the NPC. Nup98 functions as one of several docking site nucleoporins in a cytosolic docking activity-mediated binding of a model transport substrate. The docking site of Nup98 was mapped to its N-terminal half, which contains all of the peptide repeats. A recombinant segment of this region depleted the docking activity of cytosol. We suggest that the peptide repeat domain of Nup98, together with peptide repeat domains of other nucleoporins, forms an array of sites for mediated docking of transport substrate, and that bidirectional transport across the NPC proceeds by repeated docking and undocking reactions.\n",
      "\n",
      "generated_summary\n",
      "\n"
     ]
    },
    {
     "data": {
      "application/vnd.jupyter.widget-view+json": {
       "model_id": "2b892ed1eb1144ea8f9a3af59d5f0b76",
       "version_major": 2,
       "version_minor": 0
      },
      "text/plain": [
       "  0%|          | 0/100 [00:00<?, ?it/s]"
      ]
     },
     "metadata": {},
     "output_type": "display_data"
    },
    {
     "name": "stdout",
     "output_type": "stream",
     "text": [
      "The cellular effects of stromal cell-derived factor-1 (SDF-1) are mediated primarily by binding to the CXC chemokine receptor-4. We report in this study that SDF-1 and its peptide analogues induce a concentration- and time-dependent accumulation of phosphatidylinositol-(3,4,5)-trisphosphate (PtdIns(3,4,5)P3) in Jurkat cells. This SDF-1-stimulated generation of D-3 phosphoinositide lipids was inhibited by pretreatment of the cells with an SDF-1 peptide antagonist or an anti-CXCR4 Ab. In addition, the phosphoinositide 3 (PI 3)-kinase inhibitors wortmannin and LY294002, as well as the Gi protein inhibitor pertussis toxin, also inhibited the SDF-1-stimulated accumulation of PtdIns(3,4,5)P3. The effects of SDF-1 on D-3 phosphoinositide lipid accumulation correlated well with activation of the known PI 3-kinase effector protein kinase B, which was also inhibited by wortmannin and pertussis toxin. Concentrations of PI 3-kinase inhibitors, sufficient to inhibit PtdIns(3,4,5)P3 accumulation, also inhibited chemotaxis of Jurkat and peripheral blood-derived T lymphocytes in response to SDF-1. In contrast, SDF-1-stimulated actin polymerization was only partially inhibited by PI 3-kinase inhibitors, suggesting that while chemotaxis is fully dependent on PI 3-kinase activation, actin polymerization requires additional biochemical inputs. Finally, SDF-1-stimulated extracellular signal-related kinase (ERK)-1/2 mitogen-activated protein kinase activation was inhibited by PI 3-kinase inhibitors. In addition, the mitogen-activated protein/ERK kinase inhibitor PD098059 partially attenuated chemotaxis in response to SDF-1. Hence, it appears that ERK1/2 activation is dependent on PI 3-kinase activation, and both biochemical events are involved in the regulation of SDF-1-stimulated chemotaxis.\n",
      "\n",
      "generated_summary\n",
      "\n",
      "loss: 1.6054322719573975\n",
      "\n",
      "loss: 1.119744062423706\n",
      "\n",
      "loss: 1.1267224550247192\n",
      "\n",
      "loss: 0.9530233144760132\n",
      "\n",
      "loss: 0.876570463180542\n",
      "\n",
      "loss: 0.6402903199195862\n",
      "\n",
      "loss: 1.600441336631775\n",
      "\n",
      "loss: 0.33075249195098877\n",
      "\n",
      "loss: 1.8548272848129272\n",
      "\n",
      "loss: 1.0877957344055176\n",
      "\n"
     ]
    },
    {
     "data": {
      "application/vnd.jupyter.widget-view+json": {
       "model_id": "6e799605ea4c4e6dbcdbe30a103dde3d",
       "version_major": 2,
       "version_minor": 0
      },
      "text/plain": [
       "Evaluating:   0%|          | 0/500 [00:00<?, ?it/s]"
      ]
     },
     "metadata": {},
     "output_type": "display_data"
    },
    {
     "name": "stdout",
     "output_type": "stream",
     "text": [
      "perplexity: 8.253902435302734\n",
      "After 291 updates: \n",
      "\n"
     ]
    },
    {
     "data": {
      "application/vnd.jupyter.widget-view+json": {
       "model_id": "22826e7cd6ab41b7b768fc8282f2fd70",
       "version_major": 2,
       "version_minor": 0
      },
      "text/plain": [
       "  0%|          | 0/100 [00:00<?, ?it/s]"
      ]
     },
     "metadata": {},
     "output_type": "display_data"
    },
    {
     "name": "stdout",
     "output_type": "stream",
     "text": [
      "We report the cDNA deduced primary structure of a wheat germ agglutinin-reactive nuclear pore complex (NPC) protein of rat. The protein, termed Nup98 (for nucleoporin of 98 kDa), contains numerous GLFG and FG repeats and some FXFG repeats and is thus a vertebrate member of a family of GLFG nucleoporins that were previously discovered in yeast. Immunoelectron microscopy showed Nup98 to be asymmetrically located at the nucleoplasmic side of the NPC. Nup98 functions as one of several docking site nucleoporins in a cytosolic docking activity-mediated binding of a model transport substrate. The docking site of Nup98 was mapped to its N-terminal half, which contains all of the peptide repeats. A recombinant segment of this region depleted the docking activity of cytosol. We suggest that the peptide repeat domain of Nup98, together with peptide repeat domains of other nucleoporins, forms an array of sites for mediated docking of transport substrate, and that bidirectional transport across the NPC proceeds by repeated docking and undocking reactions.\n",
      "\n",
      "generated_summary\n",
      "\n"
     ]
    },
    {
     "data": {
      "application/vnd.jupyter.widget-view+json": {
       "model_id": "87e630f6af404e9db50f00f50a736644",
       "version_major": 2,
       "version_minor": 0
      },
      "text/plain": [
       "  0%|          | 0/100 [00:00<?, ?it/s]"
      ]
     },
     "metadata": {},
     "output_type": "display_data"
    },
    {
     "name": "stdout",
     "output_type": "stream",
     "text": [
      "The cellular effects of stromal cell-derived factor-1 (SDF-1) are mediated primarily by binding to the CXC chemokine receptor-4. We report in this study that SDF-1 and its peptide analogues induce a concentration- and time-dependent accumulation of phosphatidylinositol-(3,4,5)-trisphosphate (PtdIns(3,4,5)P3) in Jurkat cells. This SDF-1-stimulated generation of D-3 phosphoinositide lipids was inhibited by pretreatment of the cells with an SDF-1 peptide antagonist or an anti-CXCR4 Ab. In addition, the phosphoinositide 3 (PI 3)-kinase inhibitors wortmannin and LY294002, as well as the Gi protein inhibitor pertussis toxin, also inhibited the SDF-1-stimulated accumulation of PtdIns(3,4,5)P3. The effects of SDF-1 on D-3 phosphoinositide lipid accumulation correlated well with activation of the known PI 3-kinase effector protein kinase B, which was also inhibited by wortmannin and pertussis toxin. Concentrations of PI 3-kinase inhibitors, sufficient to inhibit PtdIns(3,4,5)P3 accumulation, also inhibited chemotaxis of Jurkat and peripheral blood-derived T lymphocytes in response to SDF-1. In contrast, SDF-1-stimulated actin polymerization was only partially inhibited by PI 3-kinase inhibitors, suggesting that while chemotaxis is fully dependent on PI 3-kinase activation, actin polymerization requires additional biochemical inputs. Finally, SDF-1-stimulated extracellular signal-related kinase (ERK)-1/2 mitogen-activated protein kinase activation was inhibited by PI 3-kinase inhibitors. In addition, the mitogen-activated protein/ERK kinase inhibitor PD098059 partially attenuated chemotaxis in response to SDF-1. Hence, it appears that ERK1/2 activation is dependent on PI 3-kinase activation, and both biochemical events are involved in the regulation of SDF-1-stimulated chemotaxis.\n",
      "\n",
      "generated_summary\n",
      "\n",
      "loss: 1.326537013053894\n",
      "\n",
      "loss: 0.9545903205871582\n",
      "\n",
      "loss: 3.227581262588501\n",
      "\n",
      "loss: 0.6249440908432007\n",
      "\n",
      "loss: 0.965228796005249\n",
      "\n",
      "loss: 0.4611799716949463\n",
      "\n",
      "loss: 0.4903884530067444\n",
      "\n",
      "loss: 0.9848646521568298\n",
      "\n",
      "loss: 0.8718308806419373\n",
      "\n",
      "loss: 0.4144333600997925\n",
      "\n"
     ]
    },
    {
     "data": {
      "application/vnd.jupyter.widget-view+json": {
       "model_id": "e0d3224ad9684aac89efac00e671c5ed",
       "version_major": 2,
       "version_minor": 0
      },
      "text/plain": [
       "Evaluating:   0%|          | 0/500 [00:00<?, ?it/s]"
      ]
     },
     "metadata": {},
     "output_type": "display_data"
    },
    {
     "name": "stdout",
     "output_type": "stream",
     "text": [
      "perplexity: 8.296998977661133\n",
      "After 301 updates: \n",
      "\n"
     ]
    },
    {
     "data": {
      "application/vnd.jupyter.widget-view+json": {
       "model_id": "a403b37957ad4b47a6f58ccc614c5366",
       "version_major": 2,
       "version_minor": 0
      },
      "text/plain": [
       "  0%|          | 0/100 [00:00<?, ?it/s]"
      ]
     },
     "metadata": {},
     "output_type": "display_data"
    },
    {
     "name": "stdout",
     "output_type": "stream",
     "text": [
      "We report the cDNA deduced primary structure of a wheat germ agglutinin-reactive nuclear pore complex (NPC) protein of rat. The protein, termed Nup98 (for nucleoporin of 98 kDa), contains numerous GLFG and FG repeats and some FXFG repeats and is thus a vertebrate member of a family of GLFG nucleoporins that were previously discovered in yeast. Immunoelectron microscopy showed Nup98 to be asymmetrically located at the nucleoplasmic side of the NPC. Nup98 functions as one of several docking site nucleoporins in a cytosolic docking activity-mediated binding of a model transport substrate. The docking site of Nup98 was mapped to its N-terminal half, which contains all of the peptide repeats. A recombinant segment of this region depleted the docking activity of cytosol. We suggest that the peptide repeat domain of Nup98, together with peptide repeat domains of other nucleoporins, forms an array of sites for mediated docking of transport substrate, and that bidirectional transport across the NPC proceeds by repeated docking and undocking reactions.\n",
      "\n",
      "generated_summary\n",
      "\n"
     ]
    },
    {
     "data": {
      "application/vnd.jupyter.widget-view+json": {
       "model_id": "1f2b0c07b1514612b635f34606de7659",
       "version_major": 2,
       "version_minor": 0
      },
      "text/plain": [
       "  0%|          | 0/100 [00:00<?, ?it/s]"
      ]
     },
     "metadata": {},
     "output_type": "display_data"
    },
    {
     "name": "stdout",
     "output_type": "stream",
     "text": [
      "The cellular effects of stromal cell-derived factor-1 (SDF-1) are mediated primarily by binding to the CXC chemokine receptor-4. We report in this study that SDF-1 and its peptide analogues induce a concentration- and time-dependent accumulation of phosphatidylinositol-(3,4,5)-trisphosphate (PtdIns(3,4,5)P3) in Jurkat cells. This SDF-1-stimulated generation of D-3 phosphoinositide lipids was inhibited by pretreatment of the cells with an SDF-1 peptide antagonist or an anti-CXCR4 Ab. In addition, the phosphoinositide 3 (PI 3)-kinase inhibitors wortmannin and LY294002, as well as the Gi protein inhibitor pertussis toxin, also inhibited the SDF-1-stimulated accumulation of PtdIns(3,4,5)P3. The effects of SDF-1 on D-3 phosphoinositide lipid accumulation correlated well with activation of the known PI 3-kinase effector protein kinase B, which was also inhibited by wortmannin and pertussis toxin. Concentrations of PI 3-kinase inhibitors, sufficient to inhibit PtdIns(3,4,5)P3 accumulation, also inhibited chemotaxis of Jurkat and peripheral blood-derived T lymphocytes in response to SDF-1. In contrast, SDF-1-stimulated actin polymerization was only partially inhibited by PI 3-kinase inhibitors, suggesting that while chemotaxis is fully dependent on PI 3-kinase activation, actin polymerization requires additional biochemical inputs. Finally, SDF-1-stimulated extracellular signal-related kinase (ERK)-1/2 mitogen-activated protein kinase activation was inhibited by PI 3-kinase inhibitors. In addition, the mitogen-activated protein/ERK kinase inhibitor PD098059 partially attenuated chemotaxis in response to SDF-1. Hence, it appears that ERK1/2 activation is dependent on PI 3-kinase activation, and both biochemical events are involved in the regulation of SDF-1-stimulated chemotaxis.\n",
      "\n",
      "generated_summary\n",
      "\n",
      "loss: 0.6326450109481812\n",
      "\n",
      "loss: 0.4880617558956146\n",
      "\n",
      "loss: 1.5518831014633179\n",
      "\n",
      "loss: 0.9244077801704407\n",
      "\n",
      "loss: 1.7424918413162231\n",
      "\n",
      "loss: 0.5857322216033936\n",
      "\n",
      "loss: 1.0851765871047974\n",
      "\n",
      "loss: 0.5480217933654785\n",
      "\n",
      "loss: 0.6381310820579529\n",
      "\n",
      "loss: 1.1579347848892212\n",
      "\n"
     ]
    },
    {
     "data": {
      "application/vnd.jupyter.widget-view+json": {
       "model_id": "72747878c40e40e1a20421545ebaea5c",
       "version_major": 2,
       "version_minor": 0
      },
      "text/plain": [
       "Evaluating:   0%|          | 0/500 [00:00<?, ?it/s]"
      ]
     },
     "metadata": {},
     "output_type": "display_data"
    },
    {
     "name": "stdout",
     "output_type": "stream",
     "text": [
      "perplexity: 8.269676208496094\n",
      "After 311 updates: \n",
      "\n"
     ]
    },
    {
     "data": {
      "application/vnd.jupyter.widget-view+json": {
       "model_id": "f695ee28781f4cc0b4ae268d972d8c5e",
       "version_major": 2,
       "version_minor": 0
      },
      "text/plain": [
       "  0%|          | 0/100 [00:00<?, ?it/s]"
      ]
     },
     "metadata": {},
     "output_type": "display_data"
    },
    {
     "name": "stdout",
     "output_type": "stream",
     "text": [
      "We report the cDNA deduced primary structure of a wheat germ agglutinin-reactive nuclear pore complex (NPC) protein of rat. The protein, termed Nup98 (for nucleoporin of 98 kDa), contains numerous GLFG and FG repeats and some FXFG repeats and is thus a vertebrate member of a family of GLFG nucleoporins that were previously discovered in yeast. Immunoelectron microscopy showed Nup98 to be asymmetrically located at the nucleoplasmic side of the NPC. Nup98 functions as one of several docking site nucleoporins in a cytosolic docking activity-mediated binding of a model transport substrate. The docking site of Nup98 was mapped to its N-terminal half, which contains all of the peptide repeats. A recombinant segment of this region depleted the docking activity of cytosol. We suggest that the peptide repeat domain of Nup98, together with peptide repeat domains of other nucleoporins, forms an array of sites for mediated docking of transport substrate, and that bidirectional transport across the NPC proceeds by repeated docking and undocking reactions.\n",
      "\n",
      "generated_summary\n",
      "\n"
     ]
    },
    {
     "data": {
      "application/vnd.jupyter.widget-view+json": {
       "model_id": "d54e6fc242af48c88d77a17e34fc5b82",
       "version_major": 2,
       "version_minor": 0
      },
      "text/plain": [
       "  0%|          | 0/100 [00:00<?, ?it/s]"
      ]
     },
     "metadata": {},
     "output_type": "display_data"
    },
    {
     "name": "stdout",
     "output_type": "stream",
     "text": [
      "The cellular effects of stromal cell-derived factor-1 (SDF-1) are mediated primarily by binding to the CXC chemokine receptor-4. We report in this study that SDF-1 and its peptide analogues induce a concentration- and time-dependent accumulation of phosphatidylinositol-(3,4,5)-trisphosphate (PtdIns(3,4,5)P3) in Jurkat cells. This SDF-1-stimulated generation of D-3 phosphoinositide lipids was inhibited by pretreatment of the cells with an SDF-1 peptide antagonist or an anti-CXCR4 Ab. In addition, the phosphoinositide 3 (PI 3)-kinase inhibitors wortmannin and LY294002, as well as the Gi protein inhibitor pertussis toxin, also inhibited the SDF-1-stimulated accumulation of PtdIns(3,4,5)P3. The effects of SDF-1 on D-3 phosphoinositide lipid accumulation correlated well with activation of the known PI 3-kinase effector protein kinase B, which was also inhibited by wortmannin and pertussis toxin. Concentrations of PI 3-kinase inhibitors, sufficient to inhibit PtdIns(3,4,5)P3 accumulation, also inhibited chemotaxis of Jurkat and peripheral blood-derived T lymphocytes in response to SDF-1. In contrast, SDF-1-stimulated actin polymerization was only partially inhibited by PI 3-kinase inhibitors, suggesting that while chemotaxis is fully dependent on PI 3-kinase activation, actin polymerization requires additional biochemical inputs. Finally, SDF-1-stimulated extracellular signal-related kinase (ERK)-1/2 mitogen-activated protein kinase activation was inhibited by PI 3-kinase inhibitors. In addition, the mitogen-activated protein/ERK kinase inhibitor PD098059 partially attenuated chemotaxis in response to SDF-1. Hence, it appears that ERK1/2 activation is dependent on PI 3-kinase activation, and both biochemical events are involved in the regulation of SDF-1-stimulated chemotaxis.\n",
      "\n",
      "generated_summary\n",
      "\n",
      "loss: 0.8199355602264404\n",
      "\n",
      "loss: 0.7397385239601135\n",
      "\n",
      "loss: 0.9482170939445496\n",
      "\n",
      "loss: 1.4118309020996094\n",
      "\n",
      "loss: 2.2724623680114746\n",
      "\n",
      "loss: 1.0262163877487183\n",
      "\n",
      "loss: 1.1183364391326904\n",
      "\n",
      "loss: 1.1976958513259888\n",
      "\n",
      "loss: 1.9778093099594116\n",
      "\n",
      "loss: 1.1660270690917969\n",
      "\n"
     ]
    },
    {
     "data": {
      "application/vnd.jupyter.widget-view+json": {
       "model_id": "87f9dd067339472ea675de99687ae14c",
       "version_major": 2,
       "version_minor": 0
      },
      "text/plain": [
       "Evaluating:   0%|          | 0/500 [00:00<?, ?it/s]"
      ]
     },
     "metadata": {},
     "output_type": "display_data"
    },
    {
     "name": "stdout",
     "output_type": "stream",
     "text": [
      "perplexity: 8.107769012451172\n",
      "After 321 updates: \n",
      "\n"
     ]
    },
    {
     "data": {
      "application/vnd.jupyter.widget-view+json": {
       "model_id": "9796a154ed244db9bf7cea0dba092874",
       "version_major": 2,
       "version_minor": 0
      },
      "text/plain": [
       "  0%|          | 0/100 [00:00<?, ?it/s]"
      ]
     },
     "metadata": {},
     "output_type": "display_data"
    },
    {
     "name": "stdout",
     "output_type": "stream",
     "text": [
      "We report the cDNA deduced primary structure of a wheat germ agglutinin-reactive nuclear pore complex (NPC) protein of rat. The protein, termed Nup98 (for nucleoporin of 98 kDa), contains numerous GLFG and FG repeats and some FXFG repeats and is thus a vertebrate member of a family of GLFG nucleoporins that were previously discovered in yeast. Immunoelectron microscopy showed Nup98 to be asymmetrically located at the nucleoplasmic side of the NPC. Nup98 functions as one of several docking site nucleoporins in a cytosolic docking activity-mediated binding of a model transport substrate. The docking site of Nup98 was mapped to its N-terminal half, which contains all of the peptide repeats. A recombinant segment of this region depleted the docking activity of cytosol. We suggest that the peptide repeat domain of Nup98, together with peptide repeat domains of other nucleoporins, forms an array of sites for mediated docking of transport substrate, and that bidirectional transport across the NPC proceeds by repeated docking and undocking reactions.\n",
      "\n",
      "generated_summary\n",
      "\n"
     ]
    },
    {
     "data": {
      "application/vnd.jupyter.widget-view+json": {
       "model_id": "03881c3133084632b6d6e7a2e6479468",
       "version_major": 2,
       "version_minor": 0
      },
      "text/plain": [
       "  0%|          | 0/100 [00:00<?, ?it/s]"
      ]
     },
     "metadata": {},
     "output_type": "display_data"
    },
    {
     "name": "stdout",
     "output_type": "stream",
     "text": [
      "The cellular effects of stromal cell-derived factor-1 (SDF-1) are mediated primarily by binding to the CXC chemokine receptor-4. We report in this study that SDF-1 and its peptide analogues induce a concentration- and time-dependent accumulation of phosphatidylinositol-(3,4,5)-trisphosphate (PtdIns(3,4,5)P3) in Jurkat cells. This SDF-1-stimulated generation of D-3 phosphoinositide lipids was inhibited by pretreatment of the cells with an SDF-1 peptide antagonist or an anti-CXCR4 Ab. In addition, the phosphoinositide 3 (PI 3)-kinase inhibitors wortmannin and LY294002, as well as the Gi protein inhibitor pertussis toxin, also inhibited the SDF-1-stimulated accumulation of PtdIns(3,4,5)P3. The effects of SDF-1 on D-3 phosphoinositide lipid accumulation correlated well with activation of the known PI 3-kinase effector protein kinase B, which was also inhibited by wortmannin and pertussis toxin. Concentrations of PI 3-kinase inhibitors, sufficient to inhibit PtdIns(3,4,5)P3 accumulation, also inhibited chemotaxis of Jurkat and peripheral blood-derived T lymphocytes in response to SDF-1. In contrast, SDF-1-stimulated actin polymerization was only partially inhibited by PI 3-kinase inhibitors, suggesting that while chemotaxis is fully dependent on PI 3-kinase activation, actin polymerization requires additional biochemical inputs. Finally, SDF-1-stimulated extracellular signal-related kinase (ERK)-1/2 mitogen-activated protein kinase activation was inhibited by PI 3-kinase inhibitors. In addition, the mitogen-activated protein/ERK kinase inhibitor PD098059 partially attenuated chemotaxis in response to SDF-1. Hence, it appears that ERK1/2 activation is dependent on PI 3-kinase activation, and both biochemical events are involved in the regulation of SDF-1-stimulated chemotaxis.\n",
      "\n",
      "generated_summary\n",
      "\n",
      "loss: 1.1691632270812988\n",
      "\n",
      "loss: 1.6388970613479614\n",
      "\n",
      "loss: 1.3602920770645142\n",
      "\n",
      "loss: 1.0257245302200317\n",
      "\n",
      "loss: 0.9278152585029602\n",
      "\n",
      "loss: 0.6755906939506531\n",
      "\n",
      "loss: 0.787178099155426\n",
      "\n",
      "loss: 1.6792207956314087\n",
      "\n",
      "loss: 1.4619594812393188\n",
      "\n",
      "loss: 1.0862945318222046\n",
      "\n"
     ]
    },
    {
     "data": {
      "application/vnd.jupyter.widget-view+json": {
       "model_id": "3b15cd5982de49c0973a362685d9a2a5",
       "version_major": 2,
       "version_minor": 0
      },
      "text/plain": [
       "Evaluating:   0%|          | 0/500 [00:00<?, ?it/s]"
      ]
     },
     "metadata": {},
     "output_type": "display_data"
    },
    {
     "name": "stdout",
     "output_type": "stream",
     "text": [
      "perplexity: 8.022286415100098\n",
      "After 331 updates: \n",
      "\n"
     ]
    },
    {
     "data": {
      "application/vnd.jupyter.widget-view+json": {
       "model_id": "0f84018b3b564b4ba4ae4281b7d02835",
       "version_major": 2,
       "version_minor": 0
      },
      "text/plain": [
       "  0%|          | 0/100 [00:00<?, ?it/s]"
      ]
     },
     "metadata": {},
     "output_type": "display_data"
    },
    {
     "name": "stdout",
     "output_type": "stream",
     "text": [
      "We report the cDNA deduced primary structure of a wheat germ agglutinin-reactive nuclear pore complex (NPC) protein of rat. The protein, termed Nup98 (for nucleoporin of 98 kDa), contains numerous GLFG and FG repeats and some FXFG repeats and is thus a vertebrate member of a family of GLFG nucleoporins that were previously discovered in yeast. Immunoelectron microscopy showed Nup98 to be asymmetrically located at the nucleoplasmic side of the NPC. Nup98 functions as one of several docking site nucleoporins in a cytosolic docking activity-mediated binding of a model transport substrate. The docking site of Nup98 was mapped to its N-terminal half, which contains all of the peptide repeats. A recombinant segment of this region depleted the docking activity of cytosol. We suggest that the peptide repeat domain of Nup98, together with peptide repeat domains of other nucleoporins, forms an array of sites for mediated docking of transport substrate, and that bidirectional transport across the NPC proceeds by repeated docking and undocking reactions.\n",
      "\n",
      "generated_summary\n",
      "\n"
     ]
    },
    {
     "data": {
      "application/vnd.jupyter.widget-view+json": {
       "model_id": "324886a4296449eeb6ec119583b520af",
       "version_major": 2,
       "version_minor": 0
      },
      "text/plain": [
       "  0%|          | 0/100 [00:00<?, ?it/s]"
      ]
     },
     "metadata": {},
     "output_type": "display_data"
    },
    {
     "name": "stdout",
     "output_type": "stream",
     "text": [
      "The cellular effects of stromal cell-derived factor-1 (SDF-1) are mediated primarily by binding to the CXC chemokine receptor-4. We report in this study that SDF-1 and its peptide analogues induce a concentration- and time-dependent accumulation of phosphatidylinositol-(3,4,5)-trisphosphate (PtdIns(3,4,5)P3) in Jurkat cells. This SDF-1-stimulated generation of D-3 phosphoinositide lipids was inhibited by pretreatment of the cells with an SDF-1 peptide antagonist or an anti-CXCR4 Ab. In addition, the phosphoinositide 3 (PI 3)-kinase inhibitors wortmannin and LY294002, as well as the Gi protein inhibitor pertussis toxin, also inhibited the SDF-1-stimulated accumulation of PtdIns(3,4,5)P3. The effects of SDF-1 on D-3 phosphoinositide lipid accumulation correlated well with activation of the known PI 3-kinase effector protein kinase B, which was also inhibited by wortmannin and pertussis toxin. Concentrations of PI 3-kinase inhibitors, sufficient to inhibit PtdIns(3,4,5)P3 accumulation, also inhibited chemotaxis of Jurkat and peripheral blood-derived T lymphocytes in response to SDF-1. In contrast, SDF-1-stimulated actin polymerization was only partially inhibited by PI 3-kinase inhibitors, suggesting that while chemotaxis is fully dependent on PI 3-kinase activation, actin polymerization requires additional biochemical inputs. Finally, SDF-1-stimulated extracellular signal-related kinase (ERK)-1/2 mitogen-activated protein kinase activation was inhibited by PI 3-kinase inhibitors. In addition, the mitogen-activated protein/ERK kinase inhibitor PD098059 partially attenuated chemotaxis in response to SDF-1. Hence, it appears that ERK1/2 activation is dependent on PI 3-kinase activation, and both biochemical events are involved in the regulation of SDF-1-stimulated chemotaxis.\n",
      "\n",
      "generated_summary\n",
      "\n",
      "loss: 1.2949399948120117\n",
      "\n",
      "loss: 0.9649531841278076\n",
      "\n",
      "loss: 1.052232027053833\n",
      "\n",
      "loss: 1.2271066904067993\n",
      "\n",
      "loss: 1.6419652700424194\n",
      "\n",
      "loss: 0.9329155683517456\n",
      "\n",
      "loss: 2.525393009185791\n",
      "\n",
      "loss: 1.0138845443725586\n",
      "\n",
      "loss: 1.0005218982696533\n",
      "\n",
      "loss: 1.0142115354537964\n",
      "\n"
     ]
    },
    {
     "data": {
      "application/vnd.jupyter.widget-view+json": {
       "model_id": "12f4105d22b84016861b48b1352dafd0",
       "version_major": 2,
       "version_minor": 0
      },
      "text/plain": [
       "Evaluating:   0%|          | 0/500 [00:00<?, ?it/s]"
      ]
     },
     "metadata": {},
     "output_type": "display_data"
    },
    {
     "name": "stdout",
     "output_type": "stream",
     "text": [
      "perplexity: 8.25597858428955\n",
      "After 341 updates: \n",
      "\n"
     ]
    },
    {
     "data": {
      "application/vnd.jupyter.widget-view+json": {
       "model_id": "33a58f2d63ce4c448fc004cbc56d64c2",
       "version_major": 2,
       "version_minor": 0
      },
      "text/plain": [
       "  0%|          | 0/100 [00:00<?, ?it/s]"
      ]
     },
     "metadata": {},
     "output_type": "display_data"
    },
    {
     "name": "stdout",
     "output_type": "stream",
     "text": [
      "We report the cDNA deduced primary structure of a wheat germ agglutinin-reactive nuclear pore complex (NPC) protein of rat. The protein, termed Nup98 (for nucleoporin of 98 kDa), contains numerous GLFG and FG repeats and some FXFG repeats and is thus a vertebrate member of a family of GLFG nucleoporins that were previously discovered in yeast. Immunoelectron microscopy showed Nup98 to be asymmetrically located at the nucleoplasmic side of the NPC. Nup98 functions as one of several docking site nucleoporins in a cytosolic docking activity-mediated binding of a model transport substrate. The docking site of Nup98 was mapped to its N-terminal half, which contains all of the peptide repeats. A recombinant segment of this region depleted the docking activity of cytosol. We suggest that the peptide repeat domain of Nup98, together with peptide repeat domains of other nucleoporins, forms an array of sites for mediated docking of transport substrate, and that bidirectional transport across the NPC proceeds by repeated docking and undocking reactions.\n",
      "\n",
      "generated_summary\n",
      "\n"
     ]
    },
    {
     "data": {
      "application/vnd.jupyter.widget-view+json": {
       "model_id": "a8c1c48f230744c2ac767a589ce54c53",
       "version_major": 2,
       "version_minor": 0
      },
      "text/plain": [
       "  0%|          | 0/100 [00:00<?, ?it/s]"
      ]
     },
     "metadata": {},
     "output_type": "display_data"
    },
    {
     "name": "stdout",
     "output_type": "stream",
     "text": [
      "The cellular effects of stromal cell-derived factor-1 (SDF-1) are mediated primarily by binding to the CXC chemokine receptor-4. We report in this study that SDF-1 and its peptide analogues induce a concentration- and time-dependent accumulation of phosphatidylinositol-(3,4,5)-trisphosphate (PtdIns(3,4,5)P3) in Jurkat cells. This SDF-1-stimulated generation of D-3 phosphoinositide lipids was inhibited by pretreatment of the cells with an SDF-1 peptide antagonist or an anti-CXCR4 Ab. In addition, the phosphoinositide 3 (PI 3)-kinase inhibitors wortmannin and LY294002, as well as the Gi protein inhibitor pertussis toxin, also inhibited the SDF-1-stimulated accumulation of PtdIns(3,4,5)P3. The effects of SDF-1 on D-3 phosphoinositide lipid accumulation correlated well with activation of the known PI 3-kinase effector protein kinase B, which was also inhibited by wortmannin and pertussis toxin. Concentrations of PI 3-kinase inhibitors, sufficient to inhibit PtdIns(3,4,5)P3 accumulation, also inhibited chemotaxis of Jurkat and peripheral blood-derived T lymphocytes in response to SDF-1. In contrast, SDF-1-stimulated actin polymerization was only partially inhibited by PI 3-kinase inhibitors, suggesting that while chemotaxis is fully dependent on PI 3-kinase activation, actin polymerization requires additional biochemical inputs. Finally, SDF-1-stimulated extracellular signal-related kinase (ERK)-1/2 mitogen-activated protein kinase activation was inhibited by PI 3-kinase inhibitors. In addition, the mitogen-activated protein/ERK kinase inhibitor PD098059 partially attenuated chemotaxis in response to SDF-1. Hence, it appears that ERK1/2 activation is dependent on PI 3-kinase activation, and both biochemical events are involved in the regulation of SDF-1-stimulated chemotaxis.\n",
      "\n",
      "generated_summary\n",
      "\n",
      "loss: 1.284956455230713\n",
      "\n",
      "loss: 1.5391734838485718\n",
      "\n",
      "loss: 0.7640276551246643\n",
      "\n",
      "loss: 1.6606844663619995\n",
      "\n",
      "loss: 2.0208516120910645\n",
      "\n",
      "loss: 0.6594080924987793\n",
      "\n",
      "loss: 1.018565058708191\n",
      "\n",
      "loss: 1.0785926580429077\n",
      "\n",
      "loss: 1.2117893695831299\n",
      "\n",
      "loss: 1.0699855089187622\n",
      "\n"
     ]
    },
    {
     "data": {
      "application/vnd.jupyter.widget-view+json": {
       "model_id": "79eb0421523d48dd89dbd44d58056d3a",
       "version_major": 2,
       "version_minor": 0
      },
      "text/plain": [
       "Evaluating:   0%|          | 0/500 [00:00<?, ?it/s]"
      ]
     },
     "metadata": {},
     "output_type": "display_data"
    },
    {
     "name": "stdout",
     "output_type": "stream",
     "text": [
      "perplexity: 8.694786071777344\n",
      "After 351 updates: \n",
      "\n"
     ]
    },
    {
     "data": {
      "application/vnd.jupyter.widget-view+json": {
       "model_id": "c36ae026e78140ed9931b86602abc71b",
       "version_major": 2,
       "version_minor": 0
      },
      "text/plain": [
       "  0%|          | 0/100 [00:00<?, ?it/s]"
      ]
     },
     "metadata": {},
     "output_type": "display_data"
    },
    {
     "name": "stdout",
     "output_type": "stream",
     "text": [
      "We report the cDNA deduced primary structure of a wheat germ agglutinin-reactive nuclear pore complex (NPC) protein of rat. The protein, termed Nup98 (for nucleoporin of 98 kDa), contains numerous GLFG and FG repeats and some FXFG repeats and is thus a vertebrate member of a family of GLFG nucleoporins that were previously discovered in yeast. Immunoelectron microscopy showed Nup98 to be asymmetrically located at the nucleoplasmic side of the NPC. Nup98 functions as one of several docking site nucleoporins in a cytosolic docking activity-mediated binding of a model transport substrate. The docking site of Nup98 was mapped to its N-terminal half, which contains all of the peptide repeats. A recombinant segment of this region depleted the docking activity of cytosol. We suggest that the peptide repeat domain of Nup98, together with peptide repeat domains of other nucleoporins, forms an array of sites for mediated docking of transport substrate, and that bidirectional transport across the NPC proceeds by repeated docking and undocking reactions.\n",
      "\n",
      "generated_summary\n",
      "\n"
     ]
    },
    {
     "data": {
      "application/vnd.jupyter.widget-view+json": {
       "model_id": "2301e90986c24fecaaa4ef714cabab4d",
       "version_major": 2,
       "version_minor": 0
      },
      "text/plain": [
       "  0%|          | 0/100 [00:00<?, ?it/s]"
      ]
     },
     "metadata": {},
     "output_type": "display_data"
    },
    {
     "name": "stdout",
     "output_type": "stream",
     "text": [
      "The cellular effects of stromal cell-derived factor-1 (SDF-1) are mediated primarily by binding to the CXC chemokine receptor-4. We report in this study that SDF-1 and its peptide analogues induce a concentration- and time-dependent accumulation of phosphatidylinositol-(3,4,5)-trisphosphate (PtdIns(3,4,5)P3) in Jurkat cells. This SDF-1-stimulated generation of D-3 phosphoinositide lipids was inhibited by pretreatment of the cells with an SDF-1 peptide antagonist or an anti-CXCR4 Ab. In addition, the phosphoinositide 3 (PI 3)-kinase inhibitors wortmannin and LY294002, as well as the Gi protein inhibitor pertussis toxin, also inhibited the SDF-1-stimulated accumulation of PtdIns(3,4,5)P3. The effects of SDF-1 on D-3 phosphoinositide lipid accumulation correlated well with activation of the known PI 3-kinase effector protein kinase B, which was also inhibited by wortmannin and pertussis toxin. Concentrations of PI 3-kinase inhibitors, sufficient to inhibit PtdIns(3,4,5)P3 accumulation, also inhibited chemotaxis of Jurkat and peripheral blood-derived T lymphocytes in response to SDF-1. In contrast, SDF-1-stimulated actin polymerization was only partially inhibited by PI 3-kinase inhibitors, suggesting that while chemotaxis is fully dependent on PI 3-kinase activation, actin polymerization requires additional biochemical inputs. Finally, SDF-1-stimulated extracellular signal-related kinase (ERK)-1/2 mitogen-activated protein kinase activation was inhibited by PI 3-kinase inhibitors. In addition, the mitogen-activated protein/ERK kinase inhibitor PD098059 partially attenuated chemotaxis in response to SDF-1. Hence, it appears that ERK1/2 activation is dependent on PI 3-kinase activation, and both biochemical events are involved in the regulation of SDF-1-stimulated chemotaxis.\n",
      "\n",
      "generated_summary\n",
      "\n",
      "loss: 1.122759222984314\n",
      "\n",
      "loss: 0.9925363063812256\n",
      "\n",
      "loss: 1.3312987089157104\n",
      "\n",
      "loss: 1.9157065153121948\n",
      "\n",
      "loss: 0.8607761263847351\n",
      "\n",
      "loss: 1.4706993103027344\n",
      "\n",
      "loss: 0.8150848150253296\n",
      "\n",
      "loss: 0.83858323097229\n",
      "\n",
      "loss: 0.9930946826934814\n",
      "\n",
      "loss: 0.5795778632164001\n",
      "\n"
     ]
    },
    {
     "data": {
      "application/vnd.jupyter.widget-view+json": {
       "model_id": "bd7bcac31b754ceebbf7abcc888d868e",
       "version_major": 2,
       "version_minor": 0
      },
      "text/plain": [
       "Evaluating:   0%|          | 0/500 [00:00<?, ?it/s]"
      ]
     },
     "metadata": {},
     "output_type": "display_data"
    },
    {
     "name": "stdout",
     "output_type": "stream",
     "text": [
      "perplexity: 8.838203430175781\n",
      "After 361 updates: \n",
      "\n"
     ]
    },
    {
     "data": {
      "application/vnd.jupyter.widget-view+json": {
       "model_id": "cf3fe4b96e134847a924b5708a6adfd4",
       "version_major": 2,
       "version_minor": 0
      },
      "text/plain": [
       "  0%|          | 0/100 [00:00<?, ?it/s]"
      ]
     },
     "metadata": {},
     "output_type": "display_data"
    },
    {
     "name": "stdout",
     "output_type": "stream",
     "text": [
      "We report the cDNA deduced primary structure of a wheat germ agglutinin-reactive nuclear pore complex (NPC) protein of rat. The protein, termed Nup98 (for nucleoporin of 98 kDa), contains numerous GLFG and FG repeats and some FXFG repeats and is thus a vertebrate member of a family of GLFG nucleoporins that were previously discovered in yeast. Immunoelectron microscopy showed Nup98 to be asymmetrically located at the nucleoplasmic side of the NPC. Nup98 functions as one of several docking site nucleoporins in a cytosolic docking activity-mediated binding of a model transport substrate. The docking site of Nup98 was mapped to its N-terminal half, which contains all of the peptide repeats. A recombinant segment of this region depleted the docking activity of cytosol. We suggest that the peptide repeat domain of Nup98, together with peptide repeat domains of other nucleoporins, forms an array of sites for mediated docking of transport substrate, and that bidirectional transport across the NPC proceeds by repeated docking and undocking reactions.\n",
      "\n",
      "generated_summary\n",
      "\n"
     ]
    },
    {
     "data": {
      "application/vnd.jupyter.widget-view+json": {
       "model_id": "cb1f93f9c709402194f9636b603d8680",
       "version_major": 2,
       "version_minor": 0
      },
      "text/plain": [
       "  0%|          | 0/100 [00:00<?, ?it/s]"
      ]
     },
     "metadata": {},
     "output_type": "display_data"
    },
    {
     "name": "stdout",
     "output_type": "stream",
     "text": [
      "The cellular effects of stromal cell-derived factor-1 (SDF-1) are mediated primarily by binding to the CXC chemokine receptor-4. We report in this study that SDF-1 and its peptide analogues induce a concentration- and time-dependent accumulation of phosphatidylinositol-(3,4,5)-trisphosphate (PtdIns(3,4,5)P3) in Jurkat cells. This SDF-1-stimulated generation of D-3 phosphoinositide lipids was inhibited by pretreatment of the cells with an SDF-1 peptide antagonist or an anti-CXCR4 Ab. In addition, the phosphoinositide 3 (PI 3)-kinase inhibitors wortmannin and LY294002, as well as the Gi protein inhibitor pertussis toxin, also inhibited the SDF-1-stimulated accumulation of PtdIns(3,4,5)P3. The effects of SDF-1 on D-3 phosphoinositide lipid accumulation correlated well with activation of the known PI 3-kinase effector protein kinase B, which was also inhibited by wortmannin and pertussis toxin. Concentrations of PI 3-kinase inhibitors, sufficient to inhibit PtdIns(3,4,5)P3 accumulation, also inhibited chemotaxis of Jurkat and peripheral blood-derived T lymphocytes in response to SDF-1. In contrast, SDF-1-stimulated actin polymerization was only partially inhibited by PI 3-kinase inhibitors, suggesting that while chemotaxis is fully dependent on PI 3-kinase activation, actin polymerization requires additional biochemical inputs. Finally, SDF-1-stimulated extracellular signal-related kinase (ERK)-1/2 mitogen-activated protein kinase activation was inhibited by PI 3-kinase inhibitors. In addition, the mitogen-activated protein/ERK kinase inhibitor PD098059 partially attenuated chemotaxis in response to SDF-1. Hence, it appears that ERK1/2 activation is dependent on PI 3-kinase activation, and both biochemical events are involved in the regulation of SDF-1-stimulated chemotaxis.\n",
      "\n",
      "generated_summary\n",
      "\n",
      "loss: 1.1551541090011597\n",
      "\n",
      "loss: 1.4624639749526978\n",
      "\n",
      "loss: 0.7902451157569885\n",
      "\n",
      "loss: 1.8346456289291382\n",
      "\n",
      "loss: 1.737247347831726\n",
      "\n",
      "loss: 0.7932237982749939\n",
      "\n",
      "loss: 0.5116488337516785\n",
      "\n",
      "loss: 1.1426324844360352\n",
      "\n",
      "loss: 1.0649504661560059\n",
      "\n",
      "loss: 1.146786093711853\n",
      "\n"
     ]
    },
    {
     "data": {
      "application/vnd.jupyter.widget-view+json": {
       "model_id": "4bd57dab357042da94b156d1ff3b2dcb",
       "version_major": 2,
       "version_minor": 0
      },
      "text/plain": [
       "Evaluating:   0%|          | 0/500 [00:00<?, ?it/s]"
      ]
     },
     "metadata": {},
     "output_type": "display_data"
    },
    {
     "name": "stdout",
     "output_type": "stream",
     "text": [
      "perplexity: 8.43399715423584\n",
      "After 371 updates: \n",
      "\n"
     ]
    },
    {
     "data": {
      "application/vnd.jupyter.widget-view+json": {
       "model_id": "027d7fd867aa420c8368046d9a7e2678",
       "version_major": 2,
       "version_minor": 0
      },
      "text/plain": [
       "  0%|          | 0/100 [00:00<?, ?it/s]"
      ]
     },
     "metadata": {},
     "output_type": "display_data"
    },
    {
     "name": "stdout",
     "output_type": "stream",
     "text": [
      "We report the cDNA deduced primary structure of a wheat germ agglutinin-reactive nuclear pore complex (NPC) protein of rat. The protein, termed Nup98 (for nucleoporin of 98 kDa), contains numerous GLFG and FG repeats and some FXFG repeats and is thus a vertebrate member of a family of GLFG nucleoporins that were previously discovered in yeast. Immunoelectron microscopy showed Nup98 to be asymmetrically located at the nucleoplasmic side of the NPC. Nup98 functions as one of several docking site nucleoporins in a cytosolic docking activity-mediated binding of a model transport substrate. The docking site of Nup98 was mapped to its N-terminal half, which contains all of the peptide repeats. A recombinant segment of this region depleted the docking activity of cytosol. We suggest that the peptide repeat domain of Nup98, together with peptide repeat domains of other nucleoporins, forms an array of sites for mediated docking of transport substrate, and that bidirectional transport across the NPC proceeds by repeated docking and undocking reactions.\n",
      "\n",
      "generated_summary\n",
      "\n"
     ]
    },
    {
     "data": {
      "application/vnd.jupyter.widget-view+json": {
       "model_id": "760d8a6984194b87a6b0101fcf753f92",
       "version_major": 2,
       "version_minor": 0
      },
      "text/plain": [
       "  0%|          | 0/100 [00:00<?, ?it/s]"
      ]
     },
     "metadata": {},
     "output_type": "display_data"
    },
    {
     "name": "stdout",
     "output_type": "stream",
     "text": [
      "The cellular effects of stromal cell-derived factor-1 (SDF-1) are mediated primarily by binding to the CXC chemokine receptor-4. We report in this study that SDF-1 and its peptide analogues induce a concentration- and time-dependent accumulation of phosphatidylinositol-(3,4,5)-trisphosphate (PtdIns(3,4,5)P3) in Jurkat cells. This SDF-1-stimulated generation of D-3 phosphoinositide lipids was inhibited by pretreatment of the cells with an SDF-1 peptide antagonist or an anti-CXCR4 Ab. In addition, the phosphoinositide 3 (PI 3)-kinase inhibitors wortmannin and LY294002, as well as the Gi protein inhibitor pertussis toxin, also inhibited the SDF-1-stimulated accumulation of PtdIns(3,4,5)P3. The effects of SDF-1 on D-3 phosphoinositide lipid accumulation correlated well with activation of the known PI 3-kinase effector protein kinase B, which was also inhibited by wortmannin and pertussis toxin. Concentrations of PI 3-kinase inhibitors, sufficient to inhibit PtdIns(3,4,5)P3 accumulation, also inhibited chemotaxis of Jurkat and peripheral blood-derived T lymphocytes in response to SDF-1. In contrast, SDF-1-stimulated actin polymerization was only partially inhibited by PI 3-kinase inhibitors, suggesting that while chemotaxis is fully dependent on PI 3-kinase activation, actin polymerization requires additional biochemical inputs. Finally, SDF-1-stimulated extracellular signal-related kinase (ERK)-1/2 mitogen-activated protein kinase activation was inhibited by PI 3-kinase inhibitors. In addition, the mitogen-activated protein/ERK kinase inhibitor PD098059 partially attenuated chemotaxis in response to SDF-1. Hence, it appears that ERK1/2 activation is dependent on PI 3-kinase activation, and both biochemical events are involved in the regulation of SDF-1-stimulated chemotaxis.\n",
      "\n",
      "generated_summary\n",
      "\n",
      "loss: 0.44022348523139954\n",
      "\n",
      "loss: 0.8681182861328125\n",
      "\n",
      "loss: 1.697257399559021\n",
      "\n",
      "loss: 2.223494291305542\n",
      "\n",
      "loss: 2.456211805343628\n",
      "\n",
      "loss: 1.3286710977554321\n",
      "\n",
      "loss: 0.9105952382087708\n",
      "\n",
      "loss: 1.3850079774856567\n",
      "\n",
      "loss: 1.107316017150879\n",
      "\n",
      "loss: 0.9633580446243286\n",
      "\n"
     ]
    },
    {
     "data": {
      "application/vnd.jupyter.widget-view+json": {
       "model_id": "1f0d9c1a2714435f9ff05033b925f9c2",
       "version_major": 2,
       "version_minor": 0
      },
      "text/plain": [
       "Evaluating:   0%|          | 0/500 [00:00<?, ?it/s]"
      ]
     },
     "metadata": {},
     "output_type": "display_data"
    },
    {
     "name": "stdout",
     "output_type": "stream",
     "text": [
      "perplexity: 8.421577453613281\n",
      "After 381 updates: \n",
      "\n"
     ]
    },
    {
     "data": {
      "application/vnd.jupyter.widget-view+json": {
       "model_id": "4953719696b64aed8efe642f80705ef6",
       "version_major": 2,
       "version_minor": 0
      },
      "text/plain": [
       "  0%|          | 0/100 [00:00<?, ?it/s]"
      ]
     },
     "metadata": {},
     "output_type": "display_data"
    },
    {
     "name": "stdout",
     "output_type": "stream",
     "text": [
      "We report the cDNA deduced primary structure of a wheat germ agglutinin-reactive nuclear pore complex (NPC) protein of rat. The protein, termed Nup98 (for nucleoporin of 98 kDa), contains numerous GLFG and FG repeats and some FXFG repeats and is thus a vertebrate member of a family of GLFG nucleoporins that were previously discovered in yeast. Immunoelectron microscopy showed Nup98 to be asymmetrically located at the nucleoplasmic side of the NPC. Nup98 functions as one of several docking site nucleoporins in a cytosolic docking activity-mediated binding of a model transport substrate. The docking site of Nup98 was mapped to its N-terminal half, which contains all of the peptide repeats. A recombinant segment of this region depleted the docking activity of cytosol. We suggest that the peptide repeat domain of Nup98, together with peptide repeat domains of other nucleoporins, forms an array of sites for mediated docking of transport substrate, and that bidirectional transport across the NPC proceeds by repeated docking and undocking reactions.\n",
      "\n",
      "generated_summary\n",
      "\n"
     ]
    },
    {
     "data": {
      "application/vnd.jupyter.widget-view+json": {
       "model_id": "034d2449a6384a1492e95fc927e7c389",
       "version_major": 2,
       "version_minor": 0
      },
      "text/plain": [
       "  0%|          | 0/100 [00:00<?, ?it/s]"
      ]
     },
     "metadata": {},
     "output_type": "display_data"
    },
    {
     "name": "stdout",
     "output_type": "stream",
     "text": [
      "The cellular effects of stromal cell-derived factor-1 (SDF-1) are mediated primarily by binding to the CXC chemokine receptor-4. We report in this study that SDF-1 and its peptide analogues induce a concentration- and time-dependent accumulation of phosphatidylinositol-(3,4,5)-trisphosphate (PtdIns(3,4,5)P3) in Jurkat cells. This SDF-1-stimulated generation of D-3 phosphoinositide lipids was inhibited by pretreatment of the cells with an SDF-1 peptide antagonist or an anti-CXCR4 Ab. In addition, the phosphoinositide 3 (PI 3)-kinase inhibitors wortmannin and LY294002, as well as the Gi protein inhibitor pertussis toxin, also inhibited the SDF-1-stimulated accumulation of PtdIns(3,4,5)P3. The effects of SDF-1 on D-3 phosphoinositide lipid accumulation correlated well with activation of the known PI 3-kinase effector protein kinase B, which was also inhibited by wortmannin and pertussis toxin. Concentrations of PI 3-kinase inhibitors, sufficient to inhibit PtdIns(3,4,5)P3 accumulation, also inhibited chemotaxis of Jurkat and peripheral blood-derived T lymphocytes in response to SDF-1. In contrast, SDF-1-stimulated actin polymerization was only partially inhibited by PI 3-kinase inhibitors, suggesting that while chemotaxis is fully dependent on PI 3-kinase activation, actin polymerization requires additional biochemical inputs. Finally, SDF-1-stimulated extracellular signal-related kinase (ERK)-1/2 mitogen-activated protein kinase activation was inhibited by PI 3-kinase inhibitors. In addition, the mitogen-activated protein/ERK kinase inhibitor PD098059 partially attenuated chemotaxis in response to SDF-1. Hence, it appears that ERK1/2 activation is dependent on PI 3-kinase activation, and both biochemical events are involved in the regulation of SDF-1-stimulated chemotaxis.\n",
      "\n",
      "generated_summary\n",
      "\n",
      "loss: 1.1656452417373657\n",
      "\n",
      "loss: 1.5686912536621094\n",
      "\n",
      "loss: 1.3474820852279663\n",
      "\n",
      "loss: 0.9097146987915039\n",
      "\n",
      "loss: 1.273819088935852\n",
      "\n",
      "loss: 0.3531651198863983\n",
      "\n",
      "loss: 1.1767441034317017\n",
      "\n",
      "loss: 0.6563844680786133\n",
      "\n",
      "loss: 1.2374223470687866\n",
      "\n",
      "loss: 1.2125942707061768\n",
      "\n"
     ]
    },
    {
     "data": {
      "application/vnd.jupyter.widget-view+json": {
       "model_id": "b54a041822224975b74f4053ffa5a3d6",
       "version_major": 2,
       "version_minor": 0
      },
      "text/plain": [
       "Evaluating:   0%|          | 0/500 [00:00<?, ?it/s]"
      ]
     },
     "metadata": {},
     "output_type": "display_data"
    },
    {
     "name": "stdout",
     "output_type": "stream",
     "text": [
      "perplexity: 8.085654258728027\n",
      "After 391 updates: \n",
      "\n"
     ]
    },
    {
     "data": {
      "application/vnd.jupyter.widget-view+json": {
       "model_id": "d72b349512ce459e81c503545dd7a73f",
       "version_major": 2,
       "version_minor": 0
      },
      "text/plain": [
       "  0%|          | 0/100 [00:00<?, ?it/s]"
      ]
     },
     "metadata": {},
     "output_type": "display_data"
    },
    {
     "name": "stdout",
     "output_type": "stream",
     "text": [
      "We report the cDNA deduced primary structure of a wheat germ agglutinin-reactive nuclear pore complex (NPC) protein of rat. The protein, termed Nup98 (for nucleoporin of 98 kDa), contains numerous GLFG and FG repeats and some FXFG repeats and is thus a vertebrate member of a family of GLFG nucleoporins that were previously discovered in yeast. Immunoelectron microscopy showed Nup98 to be asymmetrically located at the nucleoplasmic side of the NPC. Nup98 functions as one of several docking site nucleoporins in a cytosolic docking activity-mediated binding of a model transport substrate. The docking site of Nup98 was mapped to its N-terminal half, which contains all of the peptide repeats. A recombinant segment of this region depleted the docking activity of cytosol. We suggest that the peptide repeat domain of Nup98, together with peptide repeat domains of other nucleoporins, forms an array of sites for mediated docking of transport substrate, and that bidirectional transport across the NPC proceeds by repeated docking and undocking reactions.\n",
      "\n",
      "generated_summary\n",
      "\n"
     ]
    },
    {
     "data": {
      "application/vnd.jupyter.widget-view+json": {
       "model_id": "6aac00acd3664f3189c1979f6b3975cc",
       "version_major": 2,
       "version_minor": 0
      },
      "text/plain": [
       "  0%|          | 0/100 [00:00<?, ?it/s]"
      ]
     },
     "metadata": {},
     "output_type": "display_data"
    },
    {
     "name": "stdout",
     "output_type": "stream",
     "text": [
      "The cellular effects of stromal cell-derived factor-1 (SDF-1) are mediated primarily by binding to the CXC chemokine receptor-4. We report in this study that SDF-1 and its peptide analogues induce a concentration- and time-dependent accumulation of phosphatidylinositol-(3,4,5)-trisphosphate (PtdIns(3,4,5)P3) in Jurkat cells. This SDF-1-stimulated generation of D-3 phosphoinositide lipids was inhibited by pretreatment of the cells with an SDF-1 peptide antagonist or an anti-CXCR4 Ab. In addition, the phosphoinositide 3 (PI 3)-kinase inhibitors wortmannin and LY294002, as well as the Gi protein inhibitor pertussis toxin, also inhibited the SDF-1-stimulated accumulation of PtdIns(3,4,5)P3. The effects of SDF-1 on D-3 phosphoinositide lipid accumulation correlated well with activation of the known PI 3-kinase effector protein kinase B, which was also inhibited by wortmannin and pertussis toxin. Concentrations of PI 3-kinase inhibitors, sufficient to inhibit PtdIns(3,4,5)P3 accumulation, also inhibited chemotaxis of Jurkat and peripheral blood-derived T lymphocytes in response to SDF-1. In contrast, SDF-1-stimulated actin polymerization was only partially inhibited by PI 3-kinase inhibitors, suggesting that while chemotaxis is fully dependent on PI 3-kinase activation, actin polymerization requires additional biochemical inputs. Finally, SDF-1-stimulated extracellular signal-related kinase (ERK)-1/2 mitogen-activated protein kinase activation was inhibited by PI 3-kinase inhibitors. In addition, the mitogen-activated protein/ERK kinase inhibitor PD098059 partially attenuated chemotaxis in response to SDF-1. Hence, it appears that ERK1/2 activation is dependent on PI 3-kinase activation, and both biochemical events are involved in the regulation of SDF-1-stimulated chemotaxis.\n",
      "\n",
      "generated_summary\n",
      "\n",
      "loss: 0.8483060002326965\n",
      "\n",
      "loss: 0.4120776951313019\n",
      "\n",
      "loss: 1.0229134559631348\n",
      "\n",
      "loss: 1.9028905630111694\n",
      "\n",
      "loss: 0.6588267087936401\n",
      "\n",
      "loss: 1.1291559934616089\n",
      "\n",
      "loss: 1.256422519683838\n",
      "\n",
      "loss: 0.6415693759918213\n",
      "\n",
      "loss: 1.23885977268219\n",
      "\n",
      "loss: 0.962647020816803\n",
      "\n"
     ]
    },
    {
     "data": {
      "application/vnd.jupyter.widget-view+json": {
       "model_id": "500d4d7dcae74a0e82ad3d7ffe3c3a30",
       "version_major": 2,
       "version_minor": 0
      },
      "text/plain": [
       "Evaluating:   0%|          | 0/500 [00:00<?, ?it/s]"
      ]
     },
     "metadata": {},
     "output_type": "display_data"
    },
    {
     "name": "stdout",
     "output_type": "stream",
     "text": [
      "perplexity: 8.308894157409668\n",
      "After 401 updates: \n",
      "\n"
     ]
    },
    {
     "data": {
      "application/vnd.jupyter.widget-view+json": {
       "model_id": "5cb991d0ebb442bab67cbb4ea88d20e4",
       "version_major": 2,
       "version_minor": 0
      },
      "text/plain": [
       "  0%|          | 0/100 [00:00<?, ?it/s]"
      ]
     },
     "metadata": {},
     "output_type": "display_data"
    },
    {
     "name": "stdout",
     "output_type": "stream",
     "text": [
      "We report the cDNA deduced primary structure of a wheat germ agglutinin-reactive nuclear pore complex (NPC) protein of rat. The protein, termed Nup98 (for nucleoporin of 98 kDa), contains numerous GLFG and FG repeats and some FXFG repeats and is thus a vertebrate member of a family of GLFG nucleoporins that were previously discovered in yeast. Immunoelectron microscopy showed Nup98 to be asymmetrically located at the nucleoplasmic side of the NPC. Nup98 functions as one of several docking site nucleoporins in a cytosolic docking activity-mediated binding of a model transport substrate. The docking site of Nup98 was mapped to its N-terminal half, which contains all of the peptide repeats. A recombinant segment of this region depleted the docking activity of cytosol. We suggest that the peptide repeat domain of Nup98, together with peptide repeat domains of other nucleoporins, forms an array of sites for mediated docking of transport substrate, and that bidirectional transport across the NPC proceeds by repeated docking and undocking reactions.\n",
      "\n",
      "generated_summary\n",
      "\n"
     ]
    },
    {
     "data": {
      "application/vnd.jupyter.widget-view+json": {
       "model_id": "f9cccd0ed88c4097b38267afd4faa6c4",
       "version_major": 2,
       "version_minor": 0
      },
      "text/plain": [
       "  0%|          | 0/100 [00:00<?, ?it/s]"
      ]
     },
     "metadata": {},
     "output_type": "display_data"
    },
    {
     "name": "stdout",
     "output_type": "stream",
     "text": [
      "The cellular effects of stromal cell-derived factor-1 (SDF-1) are mediated primarily by binding to the CXC chemokine receptor-4. We report in this study that SDF-1 and its peptide analogues induce a concentration- and time-dependent accumulation of phosphatidylinositol-(3,4,5)-trisphosphate (PtdIns(3,4,5)P3) in Jurkat cells. This SDF-1-stimulated generation of D-3 phosphoinositide lipids was inhibited by pretreatment of the cells with an SDF-1 peptide antagonist or an anti-CXCR4 Ab. In addition, the phosphoinositide 3 (PI 3)-kinase inhibitors wortmannin and LY294002, as well as the Gi protein inhibitor pertussis toxin, also inhibited the SDF-1-stimulated accumulation of PtdIns(3,4,5)P3. The effects of SDF-1 on D-3 phosphoinositide lipid accumulation correlated well with activation of the known PI 3-kinase effector protein kinase B, which was also inhibited by wortmannin and pertussis toxin. Concentrations of PI 3-kinase inhibitors, sufficient to inhibit PtdIns(3,4,5)P3 accumulation, also inhibited chemotaxis of Jurkat and peripheral blood-derived T lymphocytes in response to SDF-1. In contrast, SDF-1-stimulated actin polymerization was only partially inhibited by PI 3-kinase inhibitors, suggesting that while chemotaxis is fully dependent on PI 3-kinase activation, actin polymerization requires additional biochemical inputs. Finally, SDF-1-stimulated extracellular signal-related kinase (ERK)-1/2 mitogen-activated protein kinase activation was inhibited by PI 3-kinase inhibitors. In addition, the mitogen-activated protein/ERK kinase inhibitor PD098059 partially attenuated chemotaxis in response to SDF-1. Hence, it appears that ERK1/2 activation is dependent on PI 3-kinase activation, and both biochemical events are involved in the regulation of SDF-1-stimulated chemotaxis.\n",
      "\n",
      "generated_summary\n",
      "\n",
      "loss: 1.8737707138061523\n",
      "\n",
      "loss: 0.9602253437042236\n",
      "\n",
      "loss: 1.1887816190719604\n",
      "\n",
      "loss: 1.1258262395858765\n",
      "\n",
      "loss: 1.3908518552780151\n",
      "\n",
      "loss: 0.683384120464325\n",
      "\n",
      "loss: 0.9658253788948059\n",
      "\n",
      "loss: 0.5401415228843689\n",
      "\n",
      "loss: 1.348249912261963\n",
      "\n",
      "loss: 1.3787981271743774\n",
      "\n"
     ]
    },
    {
     "data": {
      "application/vnd.jupyter.widget-view+json": {
       "model_id": "40e5b3eb32e7492b986758392393428b",
       "version_major": 2,
       "version_minor": 0
      },
      "text/plain": [
       "Evaluating:   0%|          | 0/500 [00:00<?, ?it/s]"
      ]
     },
     "metadata": {},
     "output_type": "display_data"
    },
    {
     "name": "stdout",
     "output_type": "stream",
     "text": [
      "perplexity: 8.555654525756836\n",
      "After 411 updates: \n",
      "\n"
     ]
    },
    {
     "data": {
      "application/vnd.jupyter.widget-view+json": {
       "model_id": "5677674772bd4e1697e88ec5f72a008d",
       "version_major": 2,
       "version_minor": 0
      },
      "text/plain": [
       "  0%|          | 0/100 [00:00<?, ?it/s]"
      ]
     },
     "metadata": {},
     "output_type": "display_data"
    },
    {
     "name": "stdout",
     "output_type": "stream",
     "text": [
      "We report the cDNA deduced primary structure of a wheat germ agglutinin-reactive nuclear pore complex (NPC) protein of rat. The protein, termed Nup98 (for nucleoporin of 98 kDa), contains numerous GLFG and FG repeats and some FXFG repeats and is thus a vertebrate member of a family of GLFG nucleoporins that were previously discovered in yeast. Immunoelectron microscopy showed Nup98 to be asymmetrically located at the nucleoplasmic side of the NPC. Nup98 functions as one of several docking site nucleoporins in a cytosolic docking activity-mediated binding of a model transport substrate. The docking site of Nup98 was mapped to its N-terminal half, which contains all of the peptide repeats. A recombinant segment of this region depleted the docking activity of cytosol. We suggest that the peptide repeat domain of Nup98, together with peptide repeat domains of other nucleoporins, forms an array of sites for mediated docking of transport substrate, and that bidirectional transport across the NPC proceeds by repeated docking and undocking reactions.\n",
      "\n",
      "generated_summary\n",
      "\n"
     ]
    },
    {
     "data": {
      "application/vnd.jupyter.widget-view+json": {
       "model_id": "d576829371314c589d58c0a4b049b2af",
       "version_major": 2,
       "version_minor": 0
      },
      "text/plain": [
       "  0%|          | 0/100 [00:00<?, ?it/s]"
      ]
     },
     "metadata": {},
     "output_type": "display_data"
    },
    {
     "name": "stdout",
     "output_type": "stream",
     "text": [
      "The cellular effects of stromal cell-derived factor-1 (SDF-1) are mediated primarily by binding to the CXC chemokine receptor-4. We report in this study that SDF-1 and its peptide analogues induce a concentration- and time-dependent accumulation of phosphatidylinositol-(3,4,5)-trisphosphate (PtdIns(3,4,5)P3) in Jurkat cells. This SDF-1-stimulated generation of D-3 phosphoinositide lipids was inhibited by pretreatment of the cells with an SDF-1 peptide antagonist or an anti-CXCR4 Ab. In addition, the phosphoinositide 3 (PI 3)-kinase inhibitors wortmannin and LY294002, as well as the Gi protein inhibitor pertussis toxin, also inhibited the SDF-1-stimulated accumulation of PtdIns(3,4,5)P3. The effects of SDF-1 on D-3 phosphoinositide lipid accumulation correlated well with activation of the known PI 3-kinase effector protein kinase B, which was also inhibited by wortmannin and pertussis toxin. Concentrations of PI 3-kinase inhibitors, sufficient to inhibit PtdIns(3,4,5)P3 accumulation, also inhibited chemotaxis of Jurkat and peripheral blood-derived T lymphocytes in response to SDF-1. In contrast, SDF-1-stimulated actin polymerization was only partially inhibited by PI 3-kinase inhibitors, suggesting that while chemotaxis is fully dependent on PI 3-kinase activation, actin polymerization requires additional biochemical inputs. Finally, SDF-1-stimulated extracellular signal-related kinase (ERK)-1/2 mitogen-activated protein kinase activation was inhibited by PI 3-kinase inhibitors. In addition, the mitogen-activated protein/ERK kinase inhibitor PD098059 partially attenuated chemotaxis in response to SDF-1. Hence, it appears that ERK1/2 activation is dependent on PI 3-kinase activation, and both biochemical events are involved in the regulation of SDF-1-stimulated chemotaxis.\n",
      "\n",
      "generated_summary\n",
      "\n",
      "loss: 1.50722336769104\n",
      "\n",
      "loss: 0.9645815491676331\n",
      "\n",
      "loss: 1.90580153465271\n",
      "\n",
      "loss: 1.187131404876709\n",
      "\n",
      "loss: 1.8837734460830688\n",
      "\n",
      "loss: 2.118823289871216\n",
      "\n",
      "loss: 1.3923890590667725\n",
      "\n",
      "loss: 0.6041553020477295\n",
      "\n",
      "loss: 0.8069564700126648\n",
      "\n",
      "loss: 0.6509957909584045\n",
      "\n"
     ]
    },
    {
     "data": {
      "application/vnd.jupyter.widget-view+json": {
       "model_id": "7676fa21386e4c05b8876458322f57a2",
       "version_major": 2,
       "version_minor": 0
      },
      "text/plain": [
       "Evaluating:   0%|          | 0/500 [00:00<?, ?it/s]"
      ]
     },
     "metadata": {},
     "output_type": "display_data"
    },
    {
     "name": "stdout",
     "output_type": "stream",
     "text": [
      "perplexity: 8.453551292419434\n",
      "After 421 updates: \n",
      "\n"
     ]
    },
    {
     "data": {
      "application/vnd.jupyter.widget-view+json": {
       "model_id": "388f833e69da42a88da4065acc88c345",
       "version_major": 2,
       "version_minor": 0
      },
      "text/plain": [
       "  0%|          | 0/100 [00:00<?, ?it/s]"
      ]
     },
     "metadata": {},
     "output_type": "display_data"
    },
    {
     "name": "stdout",
     "output_type": "stream",
     "text": [
      "We report the cDNA deduced primary structure of a wheat germ agglutinin-reactive nuclear pore complex (NPC) protein of rat. The protein, termed Nup98 (for nucleoporin of 98 kDa), contains numerous GLFG and FG repeats and some FXFG repeats and is thus a vertebrate member of a family of GLFG nucleoporins that were previously discovered in yeast. Immunoelectron microscopy showed Nup98 to be asymmetrically located at the nucleoplasmic side of the NPC. Nup98 functions as one of several docking site nucleoporins in a cytosolic docking activity-mediated binding of a model transport substrate. The docking site of Nup98 was mapped to its N-terminal half, which contains all of the peptide repeats. A recombinant segment of this region depleted the docking activity of cytosol. We suggest that the peptide repeat domain of Nup98, together with peptide repeat domains of other nucleoporins, forms an array of sites for mediated docking of transport substrate, and that bidirectional transport across the NPC proceeds by repeated docking and undocking reactions.\n",
      "\n",
      "generated_summary\n",
      "\n"
     ]
    },
    {
     "data": {
      "application/vnd.jupyter.widget-view+json": {
       "model_id": "48b7894a20ec4f00a2dcb926eb949509",
       "version_major": 2,
       "version_minor": 0
      },
      "text/plain": [
       "  0%|          | 0/100 [00:00<?, ?it/s]"
      ]
     },
     "metadata": {},
     "output_type": "display_data"
    },
    {
     "name": "stdout",
     "output_type": "stream",
     "text": [
      "The cellular effects of stromal cell-derived factor-1 (SDF-1) are mediated primarily by binding to the CXC chemokine receptor-4. We report in this study that SDF-1 and its peptide analogues induce a concentration- and time-dependent accumulation of phosphatidylinositol-(3,4,5)-trisphosphate (PtdIns(3,4,5)P3) in Jurkat cells. This SDF-1-stimulated generation of D-3 phosphoinositide lipids was inhibited by pretreatment of the cells with an SDF-1 peptide antagonist or an anti-CXCR4 Ab. In addition, the phosphoinositide 3 (PI 3)-kinase inhibitors wortmannin and LY294002, as well as the Gi protein inhibitor pertussis toxin, also inhibited the SDF-1-stimulated accumulation of PtdIns(3,4,5)P3. The effects of SDF-1 on D-3 phosphoinositide lipid accumulation correlated well with activation of the known PI 3-kinase effector protein kinase B, which was also inhibited by wortmannin and pertussis toxin. Concentrations of PI 3-kinase inhibitors, sufficient to inhibit PtdIns(3,4,5)P3 accumulation, also inhibited chemotaxis of Jurkat and peripheral blood-derived T lymphocytes in response to SDF-1. In contrast, SDF-1-stimulated actin polymerization was only partially inhibited by PI 3-kinase inhibitors, suggesting that while chemotaxis is fully dependent on PI 3-kinase activation, actin polymerization requires additional biochemical inputs. Finally, SDF-1-stimulated extracellular signal-related kinase (ERK)-1/2 mitogen-activated protein kinase activation was inhibited by PI 3-kinase inhibitors. In addition, the mitogen-activated protein/ERK kinase inhibitor PD098059 partially attenuated chemotaxis in response to SDF-1. Hence, it appears that ERK1/2 activation is dependent on PI 3-kinase activation, and both biochemical events are involved in the regulation of SDF-1-stimulated chemotaxis.\n",
      "\n",
      "generated_summary\n",
      "\n",
      "loss: 1.1001973152160645\n",
      "\n",
      "loss: 1.469157338142395\n",
      "\n",
      "loss: 0.4814906418323517\n",
      "\n",
      "loss: 0.8621601462364197\n",
      "\n",
      "loss: 0.9974135160446167\n",
      "\n",
      "loss: 0.4521961808204651\n",
      "\n",
      "loss: 1.6733731031417847\n",
      "\n",
      "loss: 1.022948980331421\n",
      "\n",
      "loss: 1.8425521850585938\n",
      "\n",
      "loss: 1.2976900339126587\n",
      "\n"
     ]
    },
    {
     "data": {
      "application/vnd.jupyter.widget-view+json": {
       "model_id": "732f823719c0471592e4716fefd33c76",
       "version_major": 2,
       "version_minor": 0
      },
      "text/plain": [
       "Evaluating:   0%|          | 0/500 [00:00<?, ?it/s]"
      ]
     },
     "metadata": {},
     "output_type": "display_data"
    },
    {
     "name": "stdout",
     "output_type": "stream",
     "text": [
      "perplexity: 8.397974014282227\n",
      "After 431 updates: \n",
      "\n"
     ]
    },
    {
     "data": {
      "application/vnd.jupyter.widget-view+json": {
       "model_id": "e5da8186d35847c481f26dd7ee6660c0",
       "version_major": 2,
       "version_minor": 0
      },
      "text/plain": [
       "  0%|          | 0/100 [00:00<?, ?it/s]"
      ]
     },
     "metadata": {},
     "output_type": "display_data"
    },
    {
     "name": "stdout",
     "output_type": "stream",
     "text": [
      "We report the cDNA deduced primary structure of a wheat germ agglutinin-reactive nuclear pore complex (NPC) protein of rat. The protein, termed Nup98 (for nucleoporin of 98 kDa), contains numerous GLFG and FG repeats and some FXFG repeats and is thus a vertebrate member of a family of GLFG nucleoporins that were previously discovered in yeast. Immunoelectron microscopy showed Nup98 to be asymmetrically located at the nucleoplasmic side of the NPC. Nup98 functions as one of several docking site nucleoporins in a cytosolic docking activity-mediated binding of a model transport substrate. The docking site of Nup98 was mapped to its N-terminal half, which contains all of the peptide repeats. A recombinant segment of this region depleted the docking activity of cytosol. We suggest that the peptide repeat domain of Nup98, together with peptide repeat domains of other nucleoporins, forms an array of sites for mediated docking of transport substrate, and that bidirectional transport across the NPC proceeds by repeated docking and undocking reactions.\n",
      "\n",
      "generated_summary\n",
      "\n"
     ]
    },
    {
     "data": {
      "application/vnd.jupyter.widget-view+json": {
       "model_id": "dfc8d5798334475bb6f7abe3568a040c",
       "version_major": 2,
       "version_minor": 0
      },
      "text/plain": [
       "  0%|          | 0/100 [00:00<?, ?it/s]"
      ]
     },
     "metadata": {},
     "output_type": "display_data"
    },
    {
     "name": "stdout",
     "output_type": "stream",
     "text": [
      "The cellular effects of stromal cell-derived factor-1 (SDF-1) are mediated primarily by binding to the CXC chemokine receptor-4. We report in this study that SDF-1 and its peptide analogues induce a concentration- and time-dependent accumulation of phosphatidylinositol-(3,4,5)-trisphosphate (PtdIns(3,4,5)P3) in Jurkat cells. This SDF-1-stimulated generation of D-3 phosphoinositide lipids was inhibited by pretreatment of the cells with an SDF-1 peptide antagonist or an anti-CXCR4 Ab. In addition, the phosphoinositide 3 (PI 3)-kinase inhibitors wortmannin and LY294002, as well as the Gi protein inhibitor pertussis toxin, also inhibited the SDF-1-stimulated accumulation of PtdIns(3,4,5)P3. The effects of SDF-1 on D-3 phosphoinositide lipid accumulation correlated well with activation of the known PI 3-kinase effector protein kinase B, which was also inhibited by wortmannin and pertussis toxin. Concentrations of PI 3-kinase inhibitors, sufficient to inhibit PtdIns(3,4,5)P3 accumulation, also inhibited chemotaxis of Jurkat and peripheral blood-derived T lymphocytes in response to SDF-1. In contrast, SDF-1-stimulated actin polymerization was only partially inhibited by PI 3-kinase inhibitors, suggesting that while chemotaxis is fully dependent on PI 3-kinase activation, actin polymerization requires additional biochemical inputs. Finally, SDF-1-stimulated extracellular signal-related kinase (ERK)-1/2 mitogen-activated protein kinase activation was inhibited by PI 3-kinase inhibitors. In addition, the mitogen-activated protein/ERK kinase inhibitor PD098059 partially attenuated chemotaxis in response to SDF-1. Hence, it appears that ERK1/2 activation is dependent on PI 3-kinase activation, and both biochemical events are involved in the regulation of SDF-1-stimulated chemotaxis.\n",
      "\n",
      "generated_summary\n",
      "\n",
      "loss: 0.6002542972564697\n",
      "\n",
      "loss: 1.6893290281295776\n",
      "\n",
      "loss: 0.7261242866516113\n",
      "\n",
      "loss: 1.1141492128372192\n",
      "\n",
      "loss: 0.9640190005302429\n",
      "\n",
      "loss: 0.8826687932014465\n",
      "\n",
      "loss: 1.245259404182434\n",
      "\n",
      "loss: 0.9238482117652893\n",
      "\n",
      "loss: 1.208619475364685\n",
      "\n",
      "loss: 1.43231999874115\n",
      "\n"
     ]
    },
    {
     "data": {
      "application/vnd.jupyter.widget-view+json": {
       "model_id": "31c44f883b4a4922a7d12bc22409c6ba",
       "version_major": 2,
       "version_minor": 0
      },
      "text/plain": [
       "Evaluating:   0%|          | 0/500 [00:00<?, ?it/s]"
      ]
     },
     "metadata": {},
     "output_type": "display_data"
    },
    {
     "name": "stdout",
     "output_type": "stream",
     "text": [
      "perplexity: 8.448851585388184\n",
      "After 441 updates: \n",
      "\n"
     ]
    },
    {
     "data": {
      "application/vnd.jupyter.widget-view+json": {
       "model_id": "adb3c979d3c140e8911f0442e2bdf3f9",
       "version_major": 2,
       "version_minor": 0
      },
      "text/plain": [
       "  0%|          | 0/100 [00:00<?, ?it/s]"
      ]
     },
     "metadata": {},
     "output_type": "display_data"
    },
    {
     "name": "stdout",
     "output_type": "stream",
     "text": [
      "We report the cDNA deduced primary structure of a wheat germ agglutinin-reactive nuclear pore complex (NPC) protein of rat. The protein, termed Nup98 (for nucleoporin of 98 kDa), contains numerous GLFG and FG repeats and some FXFG repeats and is thus a vertebrate member of a family of GLFG nucleoporins that were previously discovered in yeast. Immunoelectron microscopy showed Nup98 to be asymmetrically located at the nucleoplasmic side of the NPC. Nup98 functions as one of several docking site nucleoporins in a cytosolic docking activity-mediated binding of a model transport substrate. The docking site of Nup98 was mapped to its N-terminal half, which contains all of the peptide repeats. A recombinant segment of this region depleted the docking activity of cytosol. We suggest that the peptide repeat domain of Nup98, together with peptide repeat domains of other nucleoporins, forms an array of sites for mediated docking of transport substrate, and that bidirectional transport across the NPC proceeds by repeated docking and undocking reactions.\n",
      "\n",
      "generated_summary\n",
      "\n"
     ]
    },
    {
     "data": {
      "application/vnd.jupyter.widget-view+json": {
       "model_id": "01448076ea394940997fa8a10e9b5d9a",
       "version_major": 2,
       "version_minor": 0
      },
      "text/plain": [
       "  0%|          | 0/100 [00:00<?, ?it/s]"
      ]
     },
     "metadata": {},
     "output_type": "display_data"
    },
    {
     "name": "stdout",
     "output_type": "stream",
     "text": [
      "The cellular effects of stromal cell-derived factor-1 (SDF-1) are mediated primarily by binding to the CXC chemokine receptor-4. We report in this study that SDF-1 and its peptide analogues induce a concentration- and time-dependent accumulation of phosphatidylinositol-(3,4,5)-trisphosphate (PtdIns(3,4,5)P3) in Jurkat cells. This SDF-1-stimulated generation of D-3 phosphoinositide lipids was inhibited by pretreatment of the cells with an SDF-1 peptide antagonist or an anti-CXCR4 Ab. In addition, the phosphoinositide 3 (PI 3)-kinase inhibitors wortmannin and LY294002, as well as the Gi protein inhibitor pertussis toxin, also inhibited the SDF-1-stimulated accumulation of PtdIns(3,4,5)P3. The effects of SDF-1 on D-3 phosphoinositide lipid accumulation correlated well with activation of the known PI 3-kinase effector protein kinase B, which was also inhibited by wortmannin and pertussis toxin. Concentrations of PI 3-kinase inhibitors, sufficient to inhibit PtdIns(3,4,5)P3 accumulation, also inhibited chemotaxis of Jurkat and peripheral blood-derived T lymphocytes in response to SDF-1. In contrast, SDF-1-stimulated actin polymerization was only partially inhibited by PI 3-kinase inhibitors, suggesting that while chemotaxis is fully dependent on PI 3-kinase activation, actin polymerization requires additional biochemical inputs. Finally, SDF-1-stimulated extracellular signal-related kinase (ERK)-1/2 mitogen-activated protein kinase activation was inhibited by PI 3-kinase inhibitors. In addition, the mitogen-activated protein/ERK kinase inhibitor PD098059 partially attenuated chemotaxis in response to SDF-1. Hence, it appears that ERK1/2 activation is dependent on PI 3-kinase activation, and both biochemical events are involved in the regulation of SDF-1-stimulated chemotaxis.\n",
      "\n",
      "generated_summary\n",
      "\n",
      "loss: 1.4455434083938599\n",
      "\n",
      "loss: 0.965349018573761\n",
      "\n",
      "loss: 1.2996608018875122\n",
      "\n",
      "loss: 1.0274430513381958\n",
      "\n",
      "loss: 0.7996928095817566\n",
      "\n",
      "loss: 0.6173199415206909\n",
      "\n",
      "loss: 1.2013899087905884\n",
      "\n",
      "loss: 0.9691726565361023\n",
      "\n",
      "loss: 0.6813265085220337\n",
      "\n",
      "loss: 0.8716244101524353\n",
      "\n"
     ]
    },
    {
     "data": {
      "application/vnd.jupyter.widget-view+json": {
       "model_id": "19569e0ddeb04dd399abe68e0eead59c",
       "version_major": 2,
       "version_minor": 0
      },
      "text/plain": [
       "Evaluating:   0%|          | 0/500 [00:00<?, ?it/s]"
      ]
     },
     "metadata": {},
     "output_type": "display_data"
    },
    {
     "name": "stdout",
     "output_type": "stream",
     "text": [
      "perplexity: 8.270917892456055\n",
      "After 451 updates: \n",
      "\n"
     ]
    },
    {
     "data": {
      "application/vnd.jupyter.widget-view+json": {
       "model_id": "9d9cd88b7c6e4f17ac9c4abbe77b5454",
       "version_major": 2,
       "version_minor": 0
      },
      "text/plain": [
       "  0%|          | 0/100 [00:00<?, ?it/s]"
      ]
     },
     "metadata": {},
     "output_type": "display_data"
    },
    {
     "name": "stdout",
     "output_type": "stream",
     "text": [
      "We report the cDNA deduced primary structure of a wheat germ agglutinin-reactive nuclear pore complex (NPC) protein of rat. The protein, termed Nup98 (for nucleoporin of 98 kDa), contains numerous GLFG and FG repeats and some FXFG repeats and is thus a vertebrate member of a family of GLFG nucleoporins that were previously discovered in yeast. Immunoelectron microscopy showed Nup98 to be asymmetrically located at the nucleoplasmic side of the NPC. Nup98 functions as one of several docking site nucleoporins in a cytosolic docking activity-mediated binding of a model transport substrate. The docking site of Nup98 was mapped to its N-terminal half, which contains all of the peptide repeats. A recombinant segment of this region depleted the docking activity of cytosol. We suggest that the peptide repeat domain of Nup98, together with peptide repeat domains of other nucleoporins, forms an array of sites for mediated docking of transport substrate, and that bidirectional transport across the NPC proceeds by repeated docking and undocking reactions.\n",
      "\n",
      "generated_summary\n",
      "\n"
     ]
    },
    {
     "data": {
      "application/vnd.jupyter.widget-view+json": {
       "model_id": "ff83712ac2174dac8c0168c0389c14a7",
       "version_major": 2,
       "version_minor": 0
      },
      "text/plain": [
       "  0%|          | 0/100 [00:00<?, ?it/s]"
      ]
     },
     "metadata": {},
     "output_type": "display_data"
    },
    {
     "name": "stdout",
     "output_type": "stream",
     "text": [
      "The cellular effects of stromal cell-derived factor-1 (SDF-1) are mediated primarily by binding to the CXC chemokine receptor-4. We report in this study that SDF-1 and its peptide analogues induce a concentration- and time-dependent accumulation of phosphatidylinositol-(3,4,5)-trisphosphate (PtdIns(3,4,5)P3) in Jurkat cells. This SDF-1-stimulated generation of D-3 phosphoinositide lipids was inhibited by pretreatment of the cells with an SDF-1 peptide antagonist or an anti-CXCR4 Ab. In addition, the phosphoinositide 3 (PI 3)-kinase inhibitors wortmannin and LY294002, as well as the Gi protein inhibitor pertussis toxin, also inhibited the SDF-1-stimulated accumulation of PtdIns(3,4,5)P3. The effects of SDF-1 on D-3 phosphoinositide lipid accumulation correlated well with activation of the known PI 3-kinase effector protein kinase B, which was also inhibited by wortmannin and pertussis toxin. Concentrations of PI 3-kinase inhibitors, sufficient to inhibit PtdIns(3,4,5)P3 accumulation, also inhibited chemotaxis of Jurkat and peripheral blood-derived T lymphocytes in response to SDF-1. In contrast, SDF-1-stimulated actin polymerization was only partially inhibited by PI 3-kinase inhibitors, suggesting that while chemotaxis is fully dependent on PI 3-kinase activation, actin polymerization requires additional biochemical inputs. Finally, SDF-1-stimulated extracellular signal-related kinase (ERK)-1/2 mitogen-activated protein kinase activation was inhibited by PI 3-kinase inhibitors. In addition, the mitogen-activated protein/ERK kinase inhibitor PD098059 partially attenuated chemotaxis in response to SDF-1. Hence, it appears that ERK1/2 activation is dependent on PI 3-kinase activation, and both biochemical events are involved in the regulation of SDF-1-stimulated chemotaxis.\n",
      "\n",
      "generated_summary\n",
      "\n",
      "loss: 0.857728898525238\n",
      "\n",
      "loss: 1.4440160989761353\n",
      "\n",
      "loss: 0.5493558645248413\n",
      "\n",
      "loss: 1.3150041103363037\n",
      "\n",
      "loss: 1.0594083070755005\n",
      "\n",
      "loss: 1.053858757019043\n",
      "\n",
      "loss: 0.8399469256401062\n",
      "\n",
      "loss: 1.4015312194824219\n",
      "\n",
      "loss: 1.1226203441619873\n",
      "\n",
      "loss: 1.184916377067566\n",
      "\n"
     ]
    },
    {
     "data": {
      "application/vnd.jupyter.widget-view+json": {
       "model_id": "1fcf1087440d45fab3d4d686e08fdf11",
       "version_major": 2,
       "version_minor": 0
      },
      "text/plain": [
       "Evaluating:   0%|          | 0/500 [00:00<?, ?it/s]"
      ]
     },
     "metadata": {},
     "output_type": "display_data"
    },
    {
     "name": "stdout",
     "output_type": "stream",
     "text": [
      "perplexity: 8.066749572753906\n",
      "After 461 updates: \n",
      "\n"
     ]
    },
    {
     "data": {
      "application/vnd.jupyter.widget-view+json": {
       "model_id": "9e8e2a5d7eca4855926e7552be512382",
       "version_major": 2,
       "version_minor": 0
      },
      "text/plain": [
       "  0%|          | 0/100 [00:00<?, ?it/s]"
      ]
     },
     "metadata": {},
     "output_type": "display_data"
    },
    {
     "name": "stdout",
     "output_type": "stream",
     "text": [
      "We report the cDNA deduced primary structure of a wheat germ agglutinin-reactive nuclear pore complex (NPC) protein of rat. The protein, termed Nup98 (for nucleoporin of 98 kDa), contains numerous GLFG and FG repeats and some FXFG repeats and is thus a vertebrate member of a family of GLFG nucleoporins that were previously discovered in yeast. Immunoelectron microscopy showed Nup98 to be asymmetrically located at the nucleoplasmic side of the NPC. Nup98 functions as one of several docking site nucleoporins in a cytosolic docking activity-mediated binding of a model transport substrate. The docking site of Nup98 was mapped to its N-terminal half, which contains all of the peptide repeats. A recombinant segment of this region depleted the docking activity of cytosol. We suggest that the peptide repeat domain of Nup98, together with peptide repeat domains of other nucleoporins, forms an array of sites for mediated docking of transport substrate, and that bidirectional transport across the NPC proceeds by repeated docking and undocking reactions.\n",
      "\n",
      "generated_summary\n",
      "\n"
     ]
    },
    {
     "data": {
      "application/vnd.jupyter.widget-view+json": {
       "model_id": "99e6c50ee3234f2a84dd422d0a7e1d0c",
       "version_major": 2,
       "version_minor": 0
      },
      "text/plain": [
       "  0%|          | 0/100 [00:00<?, ?it/s]"
      ]
     },
     "metadata": {},
     "output_type": "display_data"
    },
    {
     "name": "stdout",
     "output_type": "stream",
     "text": [
      "The cellular effects of stromal cell-derived factor-1 (SDF-1) are mediated primarily by binding to the CXC chemokine receptor-4. We report in this study that SDF-1 and its peptide analogues induce a concentration- and time-dependent accumulation of phosphatidylinositol-(3,4,5)-trisphosphate (PtdIns(3,4,5)P3) in Jurkat cells. This SDF-1-stimulated generation of D-3 phosphoinositide lipids was inhibited by pretreatment of the cells with an SDF-1 peptide antagonist or an anti-CXCR4 Ab. In addition, the phosphoinositide 3 (PI 3)-kinase inhibitors wortmannin and LY294002, as well as the Gi protein inhibitor pertussis toxin, also inhibited the SDF-1-stimulated accumulation of PtdIns(3,4,5)P3. The effects of SDF-1 on D-3 phosphoinositide lipid accumulation correlated well with activation of the known PI 3-kinase effector protein kinase B, which was also inhibited by wortmannin and pertussis toxin. Concentrations of PI 3-kinase inhibitors, sufficient to inhibit PtdIns(3,4,5)P3 accumulation, also inhibited chemotaxis of Jurkat and peripheral blood-derived T lymphocytes in response to SDF-1. In contrast, SDF-1-stimulated actin polymerization was only partially inhibited by PI 3-kinase inhibitors, suggesting that while chemotaxis is fully dependent on PI 3-kinase activation, actin polymerization requires additional biochemical inputs. Finally, SDF-1-stimulated extracellular signal-related kinase (ERK)-1/2 mitogen-activated protein kinase activation was inhibited by PI 3-kinase inhibitors. In addition, the mitogen-activated protein/ERK kinase inhibitor PD098059 partially attenuated chemotaxis in response to SDF-1. Hence, it appears that ERK1/2 activation is dependent on PI 3-kinase activation, and both biochemical events are involved in the regulation of SDF-1-stimulated chemotaxis.\n",
      "\n",
      "generated_summary\n",
      "\n",
      "loss: 0.9401451945304871\n",
      "\n",
      "loss: 0.21067707240581512\n",
      "\n",
      "loss: 0.49415385723114014\n",
      "\n",
      "loss: 0.8282413482666016\n",
      "\n",
      "loss: 0.8116345405578613\n",
      "\n",
      "loss: 0.6691907644271851\n",
      "\n",
      "loss: 1.057559847831726\n",
      "\n",
      "loss: 1.3872168064117432\n",
      "\n",
      "loss: 0.6246231198310852\n",
      "\n",
      "loss: 1.3544517755508423\n",
      "\n"
     ]
    },
    {
     "data": {
      "application/vnd.jupyter.widget-view+json": {
       "model_id": "8255e85469eb4d46953c2bb410dae3e4",
       "version_major": 2,
       "version_minor": 0
      },
      "text/plain": [
       "Evaluating:   0%|          | 0/500 [00:00<?, ?it/s]"
      ]
     },
     "metadata": {},
     "output_type": "display_data"
    },
    {
     "name": "stdout",
     "output_type": "stream",
     "text": [
      "perplexity: 8.00020980834961\n",
      "After 471 updates: \n",
      "\n"
     ]
    },
    {
     "data": {
      "application/vnd.jupyter.widget-view+json": {
       "model_id": "956f558bae094ce6882552209ad300f8",
       "version_major": 2,
       "version_minor": 0
      },
      "text/plain": [
       "  0%|          | 0/100 [00:00<?, ?it/s]"
      ]
     },
     "metadata": {},
     "output_type": "display_data"
    },
    {
     "name": "stdout",
     "output_type": "stream",
     "text": [
      "We report the cDNA deduced primary structure of a wheat germ agglutinin-reactive nuclear pore complex (NPC) protein of rat. The protein, termed Nup98 (for nucleoporin of 98 kDa), contains numerous GLFG and FG repeats and some FXFG repeats and is thus a vertebrate member of a family of GLFG nucleoporins that were previously discovered in yeast. Immunoelectron microscopy showed Nup98 to be asymmetrically located at the nucleoplasmic side of the NPC. Nup98 functions as one of several docking site nucleoporins in a cytosolic docking activity-mediated binding of a model transport substrate. The docking site of Nup98 was mapped to its N-terminal half, which contains all of the peptide repeats. A recombinant segment of this region depleted the docking activity of cytosol. We suggest that the peptide repeat domain of Nup98, together with peptide repeat domains of other nucleoporins, forms an array of sites for mediated docking of transport substrate, and that bidirectional transport across the NPC proceeds by repeated docking and undocking reactions.\n",
      "\n",
      "generated_summary\n",
      "\n"
     ]
    },
    {
     "data": {
      "application/vnd.jupyter.widget-view+json": {
       "model_id": "60df7f6371b3490ab5046d27f3bcd9b8",
       "version_major": 2,
       "version_minor": 0
      },
      "text/plain": [
       "  0%|          | 0/100 [00:00<?, ?it/s]"
      ]
     },
     "metadata": {},
     "output_type": "display_data"
    },
    {
     "name": "stdout",
     "output_type": "stream",
     "text": [
      "The cellular effects of stromal cell-derived factor-1 (SDF-1) are mediated primarily by binding to the CXC chemokine receptor-4. We report in this study that SDF-1 and its peptide analogues induce a concentration- and time-dependent accumulation of phosphatidylinositol-(3,4,5)-trisphosphate (PtdIns(3,4,5)P3) in Jurkat cells. This SDF-1-stimulated generation of D-3 phosphoinositide lipids was inhibited by pretreatment of the cells with an SDF-1 peptide antagonist or an anti-CXCR4 Ab. In addition, the phosphoinositide 3 (PI 3)-kinase inhibitors wortmannin and LY294002, as well as the Gi protein inhibitor pertussis toxin, also inhibited the SDF-1-stimulated accumulation of PtdIns(3,4,5)P3. The effects of SDF-1 on D-3 phosphoinositide lipid accumulation correlated well with activation of the known PI 3-kinase effector protein kinase B, which was also inhibited by wortmannin and pertussis toxin. Concentrations of PI 3-kinase inhibitors, sufficient to inhibit PtdIns(3,4,5)P3 accumulation, also inhibited chemotaxis of Jurkat and peripheral blood-derived T lymphocytes in response to SDF-1. In contrast, SDF-1-stimulated actin polymerization was only partially inhibited by PI 3-kinase inhibitors, suggesting that while chemotaxis is fully dependent on PI 3-kinase activation, actin polymerization requires additional biochemical inputs. Finally, SDF-1-stimulated extracellular signal-related kinase (ERK)-1/2 mitogen-activated protein kinase activation was inhibited by PI 3-kinase inhibitors. In addition, the mitogen-activated protein/ERK kinase inhibitor PD098059 partially attenuated chemotaxis in response to SDF-1. Hence, it appears that ERK1/2 activation is dependent on PI 3-kinase activation, and both biochemical events are involved in the regulation of SDF-1-stimulated chemotaxis.\n",
      "\n",
      "generated_summary\n",
      "\n",
      "loss: 1.0216240882873535\n",
      "\n",
      "loss: 0.9626150727272034\n",
      "\n",
      "loss: 1.0374668836593628\n",
      "\n",
      "loss: 1.5270540714263916\n",
      "\n",
      "loss: 0.5684964656829834\n",
      "\n",
      "loss: 1.1116783618927002\n",
      "\n",
      "loss: 0.9452800154685974\n",
      "\n",
      "loss: 1.3463544845581055\n",
      "\n",
      "loss: 0.7400875091552734\n",
      "\n",
      "loss: 0.5128121376037598\n",
      "\n"
     ]
    },
    {
     "data": {
      "application/vnd.jupyter.widget-view+json": {
       "model_id": "b5aefc03d0e343009fbe8ab2e9da6945",
       "version_major": 2,
       "version_minor": 0
      },
      "text/plain": [
       "Evaluating:   0%|          | 0/500 [00:00<?, ?it/s]"
      ]
     },
     "metadata": {},
     "output_type": "display_data"
    },
    {
     "name": "stdout",
     "output_type": "stream",
     "text": [
      "perplexity: 8.080954551696777\n",
      "After 481 updates: \n",
      "\n"
     ]
    },
    {
     "data": {
      "application/vnd.jupyter.widget-view+json": {
       "model_id": "b1a5a6b48e234f29b0fdfe406d50d3a9",
       "version_major": 2,
       "version_minor": 0
      },
      "text/plain": [
       "  0%|          | 0/100 [00:00<?, ?it/s]"
      ]
     },
     "metadata": {},
     "output_type": "display_data"
    },
    {
     "name": "stdout",
     "output_type": "stream",
     "text": [
      "We report the cDNA deduced primary structure of a wheat germ agglutinin-reactive nuclear pore complex (NPC) protein of rat. The protein, termed Nup98 (for nucleoporin of 98 kDa), contains numerous GLFG and FG repeats and some FXFG repeats and is thus a vertebrate member of a family of GLFG nucleoporins that were previously discovered in yeast. Immunoelectron microscopy showed Nup98 to be asymmetrically located at the nucleoplasmic side of the NPC. Nup98 functions as one of several docking site nucleoporins in a cytosolic docking activity-mediated binding of a model transport substrate. The docking site of Nup98 was mapped to its N-terminal half, which contains all of the peptide repeats. A recombinant segment of this region depleted the docking activity of cytosol. We suggest that the peptide repeat domain of Nup98, together with peptide repeat domains of other nucleoporins, forms an array of sites for mediated docking of transport substrate, and that bidirectional transport across the NPC proceeds by repeated docking and undocking reactions.\n",
      "\n",
      "generated_summary\n",
      "\n"
     ]
    },
    {
     "data": {
      "application/vnd.jupyter.widget-view+json": {
       "model_id": "05a5f527fa974af7b547611c728c5816",
       "version_major": 2,
       "version_minor": 0
      },
      "text/plain": [
       "  0%|          | 0/100 [00:00<?, ?it/s]"
      ]
     },
     "metadata": {},
     "output_type": "display_data"
    },
    {
     "name": "stdout",
     "output_type": "stream",
     "text": [
      "The cellular effects of stromal cell-derived factor-1 (SDF-1) are mediated primarily by binding to the CXC chemokine receptor-4. We report in this study that SDF-1 and its peptide analogues induce a concentration- and time-dependent accumulation of phosphatidylinositol-(3,4,5)-trisphosphate (PtdIns(3,4,5)P3) in Jurkat cells. This SDF-1-stimulated generation of D-3 phosphoinositide lipids was inhibited by pretreatment of the cells with an SDF-1 peptide antagonist or an anti-CXCR4 Ab. In addition, the phosphoinositide 3 (PI 3)-kinase inhibitors wortmannin and LY294002, as well as the Gi protein inhibitor pertussis toxin, also inhibited the SDF-1-stimulated accumulation of PtdIns(3,4,5)P3. The effects of SDF-1 on D-3 phosphoinositide lipid accumulation correlated well with activation of the known PI 3-kinase effector protein kinase B, which was also inhibited by wortmannin and pertussis toxin. Concentrations of PI 3-kinase inhibitors, sufficient to inhibit PtdIns(3,4,5)P3 accumulation, also inhibited chemotaxis of Jurkat and peripheral blood-derived T lymphocytes in response to SDF-1. In contrast, SDF-1-stimulated actin polymerization was only partially inhibited by PI 3-kinase inhibitors, suggesting that while chemotaxis is fully dependent on PI 3-kinase activation, actin polymerization requires additional biochemical inputs. Finally, SDF-1-stimulated extracellular signal-related kinase (ERK)-1/2 mitogen-activated protein kinase activation was inhibited by PI 3-kinase inhibitors. In addition, the mitogen-activated protein/ERK kinase inhibitor PD098059 partially attenuated chemotaxis in response to SDF-1. Hence, it appears that ERK1/2 activation is dependent on PI 3-kinase activation, and both biochemical events are involved in the regulation of SDF-1-stimulated chemotaxis.\n",
      "\n",
      "generated_summary\n",
      "\n",
      "loss: 1.556137204170227\n",
      "\n",
      "loss: 1.194064974784851\n",
      "\n",
      "loss: 1.471988320350647\n",
      "\n",
      "loss: 1.0542742013931274\n",
      "\n",
      "loss: 0.4771134555339813\n",
      "\n",
      "loss: 1.6376097202301025\n",
      "\n",
      "loss: 1.4135689735412598\n",
      "\n",
      "loss: 1.2822479009628296\n",
      "\n",
      "loss: 0.6560603380203247\n",
      "\n",
      "loss: 0.7183519601821899\n",
      "\n"
     ]
    },
    {
     "data": {
      "application/vnd.jupyter.widget-view+json": {
       "model_id": "3c3b0a5fc7f14caf96b7d3eb00108648",
       "version_major": 2,
       "version_minor": 0
      },
      "text/plain": [
       "Evaluating:   0%|          | 0/500 [00:00<?, ?it/s]"
      ]
     },
     "metadata": {},
     "output_type": "display_data"
    },
    {
     "name": "stdout",
     "output_type": "stream",
     "text": [
      "perplexity: 7.843223571777344\n",
      "After 491 updates: \n",
      "\n"
     ]
    },
    {
     "data": {
      "application/vnd.jupyter.widget-view+json": {
       "model_id": "76fd52aba4aa45fdb50c30146ad744d6",
       "version_major": 2,
       "version_minor": 0
      },
      "text/plain": [
       "  0%|          | 0/100 [00:00<?, ?it/s]"
      ]
     },
     "metadata": {},
     "output_type": "display_data"
    },
    {
     "name": "stdout",
     "output_type": "stream",
     "text": [
      "We report the cDNA deduced primary structure of a wheat germ agglutinin-reactive nuclear pore complex (NPC) protein of rat. The protein, termed Nup98 (for nucleoporin of 98 kDa), contains numerous GLFG and FG repeats and some FXFG repeats and is thus a vertebrate member of a family of GLFG nucleoporins that were previously discovered in yeast. Immunoelectron microscopy showed Nup98 to be asymmetrically located at the nucleoplasmic side of the NPC. Nup98 functions as one of several docking site nucleoporins in a cytosolic docking activity-mediated binding of a model transport substrate. The docking site of Nup98 was mapped to its N-terminal half, which contains all of the peptide repeats. A recombinant segment of this region depleted the docking activity of cytosol. We suggest that the peptide repeat domain of Nup98, together with peptide repeat domains of other nucleoporins, forms an array of sites for mediated docking of transport substrate, and that bidirectional transport across the NPC proceeds by repeated docking and undocking reactions.\n",
      "\n",
      "generated_summary\n",
      "\n"
     ]
    },
    {
     "data": {
      "application/vnd.jupyter.widget-view+json": {
       "model_id": "def3a67f32154cd68e98007434f60eee",
       "version_major": 2,
       "version_minor": 0
      },
      "text/plain": [
       "  0%|          | 0/100 [00:00<?, ?it/s]"
      ]
     },
     "metadata": {},
     "output_type": "display_data"
    },
    {
     "name": "stdout",
     "output_type": "stream",
     "text": [
      "The cellular effects of stromal cell-derived factor-1 (SDF-1) are mediated primarily by binding to the CXC chemokine receptor-4. We report in this study that SDF-1 and its peptide analogues induce a concentration- and time-dependent accumulation of phosphatidylinositol-(3,4,5)-trisphosphate (PtdIns(3,4,5)P3) in Jurkat cells. This SDF-1-stimulated generation of D-3 phosphoinositide lipids was inhibited by pretreatment of the cells with an SDF-1 peptide antagonist or an anti-CXCR4 Ab. In addition, the phosphoinositide 3 (PI 3)-kinase inhibitors wortmannin and LY294002, as well as the Gi protein inhibitor pertussis toxin, also inhibited the SDF-1-stimulated accumulation of PtdIns(3,4,5)P3. The effects of SDF-1 on D-3 phosphoinositide lipid accumulation correlated well with activation of the known PI 3-kinase effector protein kinase B, which was also inhibited by wortmannin and pertussis toxin. Concentrations of PI 3-kinase inhibitors, sufficient to inhibit PtdIns(3,4,5)P3 accumulation, also inhibited chemotaxis of Jurkat and peripheral blood-derived T lymphocytes in response to SDF-1. In contrast, SDF-1-stimulated actin polymerization was only partially inhibited by PI 3-kinase inhibitors, suggesting that while chemotaxis is fully dependent on PI 3-kinase activation, actin polymerization requires additional biochemical inputs. Finally, SDF-1-stimulated extracellular signal-related kinase (ERK)-1/2 mitogen-activated protein kinase activation was inhibited by PI 3-kinase inhibitors. In addition, the mitogen-activated protein/ERK kinase inhibitor PD098059 partially attenuated chemotaxis in response to SDF-1. Hence, it appears that ERK1/2 activation is dependent on PI 3-kinase activation, and both biochemical events are involved in the regulation of SDF-1-stimulated chemotaxis.\n",
      "\n",
      "generated_summary\n",
      "\n",
      "loss: 0.6789121627807617\n",
      "\n",
      "loss: 0.6903523206710815\n",
      "\n",
      "loss: 0.9357478022575378\n",
      "\n",
      "loss: 1.6146420240402222\n",
      "\n",
      "loss: 0.7847265005111694\n",
      "\n",
      "loss: 1.2257829904556274\n",
      "\n",
      "loss: 0.6706940531730652\n",
      "\n",
      "loss: 1.1193701028823853\n",
      "\n",
      "loss: 1.1727718114852905\n",
      "\n",
      "loss: 0.7988230586051941\n",
      "\n"
     ]
    },
    {
     "data": {
      "application/vnd.jupyter.widget-view+json": {
       "model_id": "3f2cf9c6a9a04659af805c875c56a635",
       "version_major": 2,
       "version_minor": 0
      },
      "text/plain": [
       "Evaluating:   0%|          | 0/500 [00:00<?, ?it/s]"
      ]
     },
     "metadata": {},
     "output_type": "display_data"
    },
    {
     "name": "stdout",
     "output_type": "stream",
     "text": [
      "perplexity: 8.006535530090332\n",
      "After 501 updates: \n",
      "\n"
     ]
    },
    {
     "data": {
      "application/vnd.jupyter.widget-view+json": {
       "model_id": "2aa9a2d6ff554e9aa06767106d78d9ac",
       "version_major": 2,
       "version_minor": 0
      },
      "text/plain": [
       "  0%|          | 0/100 [00:00<?, ?it/s]"
      ]
     },
     "metadata": {},
     "output_type": "display_data"
    },
    {
     "name": "stdout",
     "output_type": "stream",
     "text": [
      "We report the cDNA deduced primary structure of a wheat germ agglutinin-reactive nuclear pore complex (NPC) protein of rat. The protein, termed Nup98 (for nucleoporin of 98 kDa), contains numerous GLFG and FG repeats and some FXFG repeats and is thus a vertebrate member of a family of GLFG nucleoporins that were previously discovered in yeast. Immunoelectron microscopy showed Nup98 to be asymmetrically located at the nucleoplasmic side of the NPC. Nup98 functions as one of several docking site nucleoporins in a cytosolic docking activity-mediated binding of a model transport substrate. The docking site of Nup98 was mapped to its N-terminal half, which contains all of the peptide repeats. A recombinant segment of this region depleted the docking activity of cytosol. We suggest that the peptide repeat domain of Nup98, together with peptide repeat domains of other nucleoporins, forms an array of sites for mediated docking of transport substrate, and that bidirectional transport across the NPC proceeds by repeated docking and undocking reactions.\n",
      "\n",
      "generated_summary\n",
      "\n"
     ]
    },
    {
     "data": {
      "application/vnd.jupyter.widget-view+json": {
       "model_id": "f02ba2bcb9a442268de88ed7bc8ef3f2",
       "version_major": 2,
       "version_minor": 0
      },
      "text/plain": [
       "  0%|          | 0/100 [00:00<?, ?it/s]"
      ]
     },
     "metadata": {},
     "output_type": "display_data"
    },
    {
     "name": "stdout",
     "output_type": "stream",
     "text": [
      "The cellular effects of stromal cell-derived factor-1 (SDF-1) are mediated primarily by binding to the CXC chemokine receptor-4. We report in this study that SDF-1 and its peptide analogues induce a concentration- and time-dependent accumulation of phosphatidylinositol-(3,4,5)-trisphosphate (PtdIns(3,4,5)P3) in Jurkat cells. This SDF-1-stimulated generation of D-3 phosphoinositide lipids was inhibited by pretreatment of the cells with an SDF-1 peptide antagonist or an anti-CXCR4 Ab. In addition, the phosphoinositide 3 (PI 3)-kinase inhibitors wortmannin and LY294002, as well as the Gi protein inhibitor pertussis toxin, also inhibited the SDF-1-stimulated accumulation of PtdIns(3,4,5)P3. The effects of SDF-1 on D-3 phosphoinositide lipid accumulation correlated well with activation of the known PI 3-kinase effector protein kinase B, which was also inhibited by wortmannin and pertussis toxin. Concentrations of PI 3-kinase inhibitors, sufficient to inhibit PtdIns(3,4,5)P3 accumulation, also inhibited chemotaxis of Jurkat and peripheral blood-derived T lymphocytes in response to SDF-1. In contrast, SDF-1-stimulated actin polymerization was only partially inhibited by PI 3-kinase inhibitors, suggesting that while chemotaxis is fully dependent on PI 3-kinase activation, actin polymerization requires additional biochemical inputs. Finally, SDF-1-stimulated extracellular signal-related kinase (ERK)-1/2 mitogen-activated protein kinase activation was inhibited by PI 3-kinase inhibitors. In addition, the mitogen-activated protein/ERK kinase inhibitor PD098059 partially attenuated chemotaxis in response to SDF-1. Hence, it appears that ERK1/2 activation is dependent on PI 3-kinase activation, and both biochemical events are involved in the regulation of SDF-1-stimulated chemotaxis.\n",
      "\n",
      "generated_summary\n",
      "\n",
      "loss: 0.9555255174636841\n",
      "\n",
      "loss: 1.4729090929031372\n",
      "\n",
      "loss: 0.7103283405303955\n",
      "\n",
      "loss: 1.4599237442016602\n",
      "\n",
      "loss: 1.5249361991882324\n",
      "\n",
      "loss: 0.7306452393531799\n",
      "\n",
      "loss: 0.5683887004852295\n",
      "\n",
      "loss: 0.6308424472808838\n",
      "\n",
      "loss: 1.0694169998168945\n",
      "\n",
      "loss: 1.309401273727417\n",
      "\n"
     ]
    },
    {
     "data": {
      "application/vnd.jupyter.widget-view+json": {
       "model_id": "c8e971c1cf214323bfc0f376ad05f3d2",
       "version_major": 2,
       "version_minor": 0
      },
      "text/plain": [
       "Evaluating:   0%|          | 0/500 [00:00<?, ?it/s]"
      ]
     },
     "metadata": {},
     "output_type": "display_data"
    },
    {
     "name": "stdout",
     "output_type": "stream",
     "text": [
      "perplexity: 8.361391067504883\n",
      "After 511 updates: \n",
      "\n"
     ]
    },
    {
     "data": {
      "application/vnd.jupyter.widget-view+json": {
       "model_id": "72fb93667890441b8250e052c7e9fbb6",
       "version_major": 2,
       "version_minor": 0
      },
      "text/plain": [
       "  0%|          | 0/100 [00:00<?, ?it/s]"
      ]
     },
     "metadata": {},
     "output_type": "display_data"
    },
    {
     "name": "stdout",
     "output_type": "stream",
     "text": [
      "We report the cDNA deduced primary structure of a wheat germ agglutinin-reactive nuclear pore complex (NPC) protein of rat. The protein, termed Nup98 (for nucleoporin of 98 kDa), contains numerous GLFG and FG repeats and some FXFG repeats and is thus a vertebrate member of a family of GLFG nucleoporins that were previously discovered in yeast. Immunoelectron microscopy showed Nup98 to be asymmetrically located at the nucleoplasmic side of the NPC. Nup98 functions as one of several docking site nucleoporins in a cytosolic docking activity-mediated binding of a model transport substrate. The docking site of Nup98 was mapped to its N-terminal half, which contains all of the peptide repeats. A recombinant segment of this region depleted the docking activity of cytosol. We suggest that the peptide repeat domain of Nup98, together with peptide repeat domains of other nucleoporins, forms an array of sites for mediated docking of transport substrate, and that bidirectional transport across the NPC proceeds by repeated docking and undocking reactions.\n",
      "\n",
      "generated_summary\n",
      "\n"
     ]
    },
    {
     "data": {
      "application/vnd.jupyter.widget-view+json": {
       "model_id": "b422ad6ab987450c97d7fee257fa4bcc",
       "version_major": 2,
       "version_minor": 0
      },
      "text/plain": [
       "  0%|          | 0/100 [00:00<?, ?it/s]"
      ]
     },
     "metadata": {},
     "output_type": "display_data"
    },
    {
     "name": "stdout",
     "output_type": "stream",
     "text": [
      "The cellular effects of stromal cell-derived factor-1 (SDF-1) are mediated primarily by binding to the CXC chemokine receptor-4. We report in this study that SDF-1 and its peptide analogues induce a concentration- and time-dependent accumulation of phosphatidylinositol-(3,4,5)-trisphosphate (PtdIns(3,4,5)P3) in Jurkat cells. This SDF-1-stimulated generation of D-3 phosphoinositide lipids was inhibited by pretreatment of the cells with an SDF-1 peptide antagonist or an anti-CXCR4 Ab. In addition, the phosphoinositide 3 (PI 3)-kinase inhibitors wortmannin and LY294002, as well as the Gi protein inhibitor pertussis toxin, also inhibited the SDF-1-stimulated accumulation of PtdIns(3,4,5)P3. The effects of SDF-1 on D-3 phosphoinositide lipid accumulation correlated well with activation of the known PI 3-kinase effector protein kinase B, which was also inhibited by wortmannin and pertussis toxin. Concentrations of PI 3-kinase inhibitors, sufficient to inhibit PtdIns(3,4,5)P3 accumulation, also inhibited chemotaxis of Jurkat and peripheral blood-derived T lymphocytes in response to SDF-1. In contrast, SDF-1-stimulated actin polymerization was only partially inhibited by PI 3-kinase inhibitors, suggesting that while chemotaxis is fully dependent on PI 3-kinase activation, actin polymerization requires additional biochemical inputs. Finally, SDF-1-stimulated extracellular signal-related kinase (ERK)-1/2 mitogen-activated protein kinase activation was inhibited by PI 3-kinase inhibitors. In addition, the mitogen-activated protein/ERK kinase inhibitor PD098059 partially attenuated chemotaxis in response to SDF-1. Hence, it appears that ERK1/2 activation is dependent on PI 3-kinase activation, and both biochemical events are involved in the regulation of SDF-1-stimulated chemotaxis.\n",
      "\n",
      "generated_summary\n",
      "\n",
      "loss: 0.949761688709259\n",
      "\n",
      "loss: 0.5557482838630676\n",
      "\n",
      "loss: 1.340951681137085\n",
      "\n",
      "loss: 1.583864450454712\n",
      "\n",
      "loss: 0.5679435729980469\n",
      "\n",
      "loss: 1.2271336317062378\n",
      "\n",
      "loss: 1.6745365858078003\n",
      "\n",
      "loss: 0.6873494386672974\n",
      "\n",
      "loss: 0.7753450870513916\n",
      "\n",
      "loss: 1.3483814001083374\n",
      "\n"
     ]
    },
    {
     "data": {
      "application/vnd.jupyter.widget-view+json": {
       "model_id": "5f5b51206a1d445f871fca3ab4b68054",
       "version_major": 2,
       "version_minor": 0
      },
      "text/plain": [
       "Evaluating:   0%|          | 0/500 [00:00<?, ?it/s]"
      ]
     },
     "metadata": {},
     "output_type": "display_data"
    },
    {
     "name": "stdout",
     "output_type": "stream",
     "text": [
      "perplexity: 8.368558883666992\n",
      "After 521 updates: \n",
      "\n"
     ]
    },
    {
     "data": {
      "application/vnd.jupyter.widget-view+json": {
       "model_id": "cab919bd5a614ee58f795035ba47f01d",
       "version_major": 2,
       "version_minor": 0
      },
      "text/plain": [
       "  0%|          | 0/100 [00:00<?, ?it/s]"
      ]
     },
     "metadata": {},
     "output_type": "display_data"
    },
    {
     "name": "stdout",
     "output_type": "stream",
     "text": [
      "We report the cDNA deduced primary structure of a wheat germ agglutinin-reactive nuclear pore complex (NPC) protein of rat. The protein, termed Nup98 (for nucleoporin of 98 kDa), contains numerous GLFG and FG repeats and some FXFG repeats and is thus a vertebrate member of a family of GLFG nucleoporins that were previously discovered in yeast. Immunoelectron microscopy showed Nup98 to be asymmetrically located at the nucleoplasmic side of the NPC. Nup98 functions as one of several docking site nucleoporins in a cytosolic docking activity-mediated binding of a model transport substrate. The docking site of Nup98 was mapped to its N-terminal half, which contains all of the peptide repeats. A recombinant segment of this region depleted the docking activity of cytosol. We suggest that the peptide repeat domain of Nup98, together with peptide repeat domains of other nucleoporins, forms an array of sites for mediated docking of transport substrate, and that bidirectional transport across the NPC proceeds by repeated docking and undocking reactions.\n",
      "\n",
      "generated_summary\n",
      "\n"
     ]
    },
    {
     "data": {
      "application/vnd.jupyter.widget-view+json": {
       "model_id": "dfe96c168cf5458481357b20d2e3024c",
       "version_major": 2,
       "version_minor": 0
      },
      "text/plain": [
       "  0%|          | 0/100 [00:00<?, ?it/s]"
      ]
     },
     "metadata": {},
     "output_type": "display_data"
    },
    {
     "name": "stdout",
     "output_type": "stream",
     "text": [
      "The cellular effects of stromal cell-derived factor-1 (SDF-1) are mediated primarily by binding to the CXC chemokine receptor-4. We report in this study that SDF-1 and its peptide analogues induce a concentration- and time-dependent accumulation of phosphatidylinositol-(3,4,5)-trisphosphate (PtdIns(3,4,5)P3) in Jurkat cells. This SDF-1-stimulated generation of D-3 phosphoinositide lipids was inhibited by pretreatment of the cells with an SDF-1 peptide antagonist or an anti-CXCR4 Ab. In addition, the phosphoinositide 3 (PI 3)-kinase inhibitors wortmannin and LY294002, as well as the Gi protein inhibitor pertussis toxin, also inhibited the SDF-1-stimulated accumulation of PtdIns(3,4,5)P3. The effects of SDF-1 on D-3 phosphoinositide lipid accumulation correlated well with activation of the known PI 3-kinase effector protein kinase B, which was also inhibited by wortmannin and pertussis toxin. Concentrations of PI 3-kinase inhibitors, sufficient to inhibit PtdIns(3,4,5)P3 accumulation, also inhibited chemotaxis of Jurkat and peripheral blood-derived T lymphocytes in response to SDF-1. In contrast, SDF-1-stimulated actin polymerization was only partially inhibited by PI 3-kinase inhibitors, suggesting that while chemotaxis is fully dependent on PI 3-kinase activation, actin polymerization requires additional biochemical inputs. Finally, SDF-1-stimulated extracellular signal-related kinase (ERK)-1/2 mitogen-activated protein kinase activation was inhibited by PI 3-kinase inhibitors. In addition, the mitogen-activated protein/ERK kinase inhibitor PD098059 partially attenuated chemotaxis in response to SDF-1. Hence, it appears that ERK1/2 activation is dependent on PI 3-kinase activation, and both biochemical events are involved in the regulation of SDF-1-stimulated chemotaxis.\n",
      "\n",
      "generated_summary\n",
      "\n",
      "loss: 0.4450785517692566\n",
      "\n",
      "loss: 2.4978082180023193\n",
      "\n",
      "loss: 0.787470281124115\n",
      "\n",
      "loss: 1.2731804847717285\n",
      "\n",
      "loss: 0.9106628894805908\n",
      "\n",
      "loss: 0.9284417629241943\n",
      "\n",
      "loss: 0.9476831555366516\n",
      "\n",
      "loss: 0.6573227643966675\n",
      "\n",
      "loss: 1.1210503578186035\n",
      "\n",
      "loss: 1.7783323526382446\n",
      "\n"
     ]
    },
    {
     "data": {
      "application/vnd.jupyter.widget-view+json": {
       "model_id": "6dbf67925cb54d2988a6cc3879f9f5ec",
       "version_major": 2,
       "version_minor": 0
      },
      "text/plain": [
       "Evaluating:   0%|          | 0/500 [00:00<?, ?it/s]"
      ]
     },
     "metadata": {},
     "output_type": "display_data"
    },
    {
     "name": "stdout",
     "output_type": "stream",
     "text": [
      "perplexity: 8.274312973022461\n",
      "After 531 updates: \n",
      "\n"
     ]
    },
    {
     "data": {
      "application/vnd.jupyter.widget-view+json": {
       "model_id": "701e14c4da85415faecfbea432a8b547",
       "version_major": 2,
       "version_minor": 0
      },
      "text/plain": [
       "  0%|          | 0/100 [00:00<?, ?it/s]"
      ]
     },
     "metadata": {},
     "output_type": "display_data"
    },
    {
     "name": "stdout",
     "output_type": "stream",
     "text": [
      "We report the cDNA deduced primary structure of a wheat germ agglutinin-reactive nuclear pore complex (NPC) protein of rat. The protein, termed Nup98 (for nucleoporin of 98 kDa), contains numerous GLFG and FG repeats and some FXFG repeats and is thus a vertebrate member of a family of GLFG nucleoporins that were previously discovered in yeast. Immunoelectron microscopy showed Nup98 to be asymmetrically located at the nucleoplasmic side of the NPC. Nup98 functions as one of several docking site nucleoporins in a cytosolic docking activity-mediated binding of a model transport substrate. The docking site of Nup98 was mapped to its N-terminal half, which contains all of the peptide repeats. A recombinant segment of this region depleted the docking activity of cytosol. We suggest that the peptide repeat domain of Nup98, together with peptide repeat domains of other nucleoporins, forms an array of sites for mediated docking of transport substrate, and that bidirectional transport across the NPC proceeds by repeated docking and undocking reactions.\n",
      "\n",
      "generated_summary\n",
      "\n"
     ]
    },
    {
     "data": {
      "application/vnd.jupyter.widget-view+json": {
       "model_id": "582fa70091374aa5b4a322d283c64175",
       "version_major": 2,
       "version_minor": 0
      },
      "text/plain": [
       "  0%|          | 0/100 [00:00<?, ?it/s]"
      ]
     },
     "metadata": {},
     "output_type": "display_data"
    },
    {
     "name": "stdout",
     "output_type": "stream",
     "text": [
      "The cellular effects of stromal cell-derived factor-1 (SDF-1) are mediated primarily by binding to the CXC chemokine receptor-4. We report in this study that SDF-1 and its peptide analogues induce a concentration- and time-dependent accumulation of phosphatidylinositol-(3,4,5)-trisphosphate (PtdIns(3,4,5)P3) in Jurkat cells. This SDF-1-stimulated generation of D-3 phosphoinositide lipids was inhibited by pretreatment of the cells with an SDF-1 peptide antagonist or an anti-CXCR4 Ab. In addition, the phosphoinositide 3 (PI 3)-kinase inhibitors wortmannin and LY294002, as well as the Gi protein inhibitor pertussis toxin, also inhibited the SDF-1-stimulated accumulation of PtdIns(3,4,5)P3. The effects of SDF-1 on D-3 phosphoinositide lipid accumulation correlated well with activation of the known PI 3-kinase effector protein kinase B, which was also inhibited by wortmannin and pertussis toxin. Concentrations of PI 3-kinase inhibitors, sufficient to inhibit PtdIns(3,4,5)P3 accumulation, also inhibited chemotaxis of Jurkat and peripheral blood-derived T lymphocytes in response to SDF-1. In contrast, SDF-1-stimulated actin polymerization was only partially inhibited by PI 3-kinase inhibitors, suggesting that while chemotaxis is fully dependent on PI 3-kinase activation, actin polymerization requires additional biochemical inputs. Finally, SDF-1-stimulated extracellular signal-related kinase (ERK)-1/2 mitogen-activated protein kinase activation was inhibited by PI 3-kinase inhibitors. In addition, the mitogen-activated protein/ERK kinase inhibitor PD098059 partially attenuated chemotaxis in response to SDF-1. Hence, it appears that ERK1/2 activation is dependent on PI 3-kinase activation, and both biochemical events are involved in the regulation of SDF-1-stimulated chemotaxis.\n",
      "\n",
      "generated_summary\n",
      "\n",
      "loss: 1.289660096168518\n",
      "\n",
      "loss: 1.2869278192520142\n",
      "\n",
      "loss: 1.5145530700683594\n",
      "\n",
      "loss: 1.342565655708313\n",
      "\n",
      "loss: 0.7161924242973328\n",
      "\n",
      "loss: 0.8253213167190552\n",
      "\n",
      "loss: 1.0311535596847534\n",
      "\n",
      "loss: 1.7954293489456177\n",
      "\n",
      "loss: 1.7150721549987793\n",
      "\n",
      "loss: 1.0648812055587769\n",
      "\n"
     ]
    },
    {
     "data": {
      "application/vnd.jupyter.widget-view+json": {
       "model_id": "5ff5f15019c24803b8524dcdac067d5a",
       "version_major": 2,
       "version_minor": 0
      },
      "text/plain": [
       "Evaluating:   0%|          | 0/500 [00:00<?, ?it/s]"
      ]
     },
     "metadata": {},
     "output_type": "display_data"
    },
    {
     "name": "stdout",
     "output_type": "stream",
     "text": [
      "perplexity: 8.074745178222656\n",
      "After 541 updates: \n",
      "\n"
     ]
    },
    {
     "data": {
      "application/vnd.jupyter.widget-view+json": {
       "model_id": "b2d673150eb44a1e80cbd75310c77f88",
       "version_major": 2,
       "version_minor": 0
      },
      "text/plain": [
       "  0%|          | 0/100 [00:00<?, ?it/s]"
      ]
     },
     "metadata": {},
     "output_type": "display_data"
    },
    {
     "name": "stdout",
     "output_type": "stream",
     "text": [
      "We report the cDNA deduced primary structure of a wheat germ agglutinin-reactive nuclear pore complex (NPC) protein of rat. The protein, termed Nup98 (for nucleoporin of 98 kDa), contains numerous GLFG and FG repeats and some FXFG repeats and is thus a vertebrate member of a family of GLFG nucleoporins that were previously discovered in yeast. Immunoelectron microscopy showed Nup98 to be asymmetrically located at the nucleoplasmic side of the NPC. Nup98 functions as one of several docking site nucleoporins in a cytosolic docking activity-mediated binding of a model transport substrate. The docking site of Nup98 was mapped to its N-terminal half, which contains all of the peptide repeats. A recombinant segment of this region depleted the docking activity of cytosol. We suggest that the peptide repeat domain of Nup98, together with peptide repeat domains of other nucleoporins, forms an array of sites for mediated docking of transport substrate, and that bidirectional transport across the NPC proceeds by repeated docking and undocking reactions.\n",
      "\n",
      "generated_summary\n",
      "\n"
     ]
    },
    {
     "data": {
      "application/vnd.jupyter.widget-view+json": {
       "model_id": "40c251f4b8ac4d8bbc012c790d628140",
       "version_major": 2,
       "version_minor": 0
      },
      "text/plain": [
       "  0%|          | 0/100 [00:00<?, ?it/s]"
      ]
     },
     "metadata": {},
     "output_type": "display_data"
    },
    {
     "name": "stdout",
     "output_type": "stream",
     "text": [
      "The cellular effects of stromal cell-derived factor-1 (SDF-1) are mediated primarily by binding to the CXC chemokine receptor-4. We report in this study that SDF-1 and its peptide analogues induce a concentration- and time-dependent accumulation of phosphatidylinositol-(3,4,5)-trisphosphate (PtdIns(3,4,5)P3) in Jurkat cells. This SDF-1-stimulated generation of D-3 phosphoinositide lipids was inhibited by pretreatment of the cells with an SDF-1 peptide antagonist or an anti-CXCR4 Ab. In addition, the phosphoinositide 3 (PI 3)-kinase inhibitors wortmannin and LY294002, as well as the Gi protein inhibitor pertussis toxin, also inhibited the SDF-1-stimulated accumulation of PtdIns(3,4,5)P3. The effects of SDF-1 on D-3 phosphoinositide lipid accumulation correlated well with activation of the known PI 3-kinase effector protein kinase B, which was also inhibited by wortmannin and pertussis toxin. Concentrations of PI 3-kinase inhibitors, sufficient to inhibit PtdIns(3,4,5)P3 accumulation, also inhibited chemotaxis of Jurkat and peripheral blood-derived T lymphocytes in response to SDF-1. In contrast, SDF-1-stimulated actin polymerization was only partially inhibited by PI 3-kinase inhibitors, suggesting that while chemotaxis is fully dependent on PI 3-kinase activation, actin polymerization requires additional biochemical inputs. Finally, SDF-1-stimulated extracellular signal-related kinase (ERK)-1/2 mitogen-activated protein kinase activation was inhibited by PI 3-kinase inhibitors. In addition, the mitogen-activated protein/ERK kinase inhibitor PD098059 partially attenuated chemotaxis in response to SDF-1. Hence, it appears that ERK1/2 activation is dependent on PI 3-kinase activation, and both biochemical events are involved in the regulation of SDF-1-stimulated chemotaxis.\n",
      "\n",
      "generated_summary\n",
      "\n",
      "loss: 0.3603001832962036\n",
      "\n",
      "loss: 0.8530075550079346\n",
      "\n",
      "loss: 0.4870932996273041\n",
      "\n",
      "loss: 0.9320553541183472\n",
      "\n",
      "loss: 0.7819120287895203\n",
      "\n",
      "loss: 0.3527725636959076\n",
      "\n",
      "loss: 1.4297575950622559\n",
      "\n",
      "loss: 1.5466821193695068\n",
      "\n",
      "loss: 0.9636194109916687\n",
      "\n",
      "loss: 1.1896415948867798\n",
      "\n"
     ]
    },
    {
     "data": {
      "application/vnd.jupyter.widget-view+json": {
       "model_id": "047f67fd49424c2793e8aced9ed4a4d7",
       "version_major": 2,
       "version_minor": 0
      },
      "text/plain": [
       "Evaluating:   0%|          | 0/500 [00:00<?, ?it/s]"
      ]
     },
     "metadata": {},
     "output_type": "display_data"
    },
    {
     "name": "stdout",
     "output_type": "stream",
     "text": [
      "perplexity: 8.301474571228027\n",
      "After 551 updates: \n",
      "\n"
     ]
    },
    {
     "data": {
      "application/vnd.jupyter.widget-view+json": {
       "model_id": "a5f811b94e7246f1b5f95ebbf4ef4a28",
       "version_major": 2,
       "version_minor": 0
      },
      "text/plain": [
       "  0%|          | 0/100 [00:00<?, ?it/s]"
      ]
     },
     "metadata": {},
     "output_type": "display_data"
    },
    {
     "name": "stdout",
     "output_type": "stream",
     "text": [
      "We report the cDNA deduced primary structure of a wheat germ agglutinin-reactive nuclear pore complex (NPC) protein of rat. The protein, termed Nup98 (for nucleoporin of 98 kDa), contains numerous GLFG and FG repeats and some FXFG repeats and is thus a vertebrate member of a family of GLFG nucleoporins that were previously discovered in yeast. Immunoelectron microscopy showed Nup98 to be asymmetrically located at the nucleoplasmic side of the NPC. Nup98 functions as one of several docking site nucleoporins in a cytosolic docking activity-mediated binding of a model transport substrate. The docking site of Nup98 was mapped to its N-terminal half, which contains all of the peptide repeats. A recombinant segment of this region depleted the docking activity of cytosol. We suggest that the peptide repeat domain of Nup98, together with peptide repeat domains of other nucleoporins, forms an array of sites for mediated docking of transport substrate, and that bidirectional transport across the NPC proceeds by repeated docking and undocking reactions.\n",
      "\n",
      "generated_summary\n",
      "\n"
     ]
    },
    {
     "data": {
      "application/vnd.jupyter.widget-view+json": {
       "model_id": "28c66bad6b5c492d866af77b67c5cae1",
       "version_major": 2,
       "version_minor": 0
      },
      "text/plain": [
       "  0%|          | 0/100 [00:00<?, ?it/s]"
      ]
     },
     "metadata": {},
     "output_type": "display_data"
    },
    {
     "name": "stdout",
     "output_type": "stream",
     "text": [
      "The cellular effects of stromal cell-derived factor-1 (SDF-1) are mediated primarily by binding to the CXC chemokine receptor-4. We report in this study that SDF-1 and its peptide analogues induce a concentration- and time-dependent accumulation of phosphatidylinositol-(3,4,5)-trisphosphate (PtdIns(3,4,5)P3) in Jurkat cells. This SDF-1-stimulated generation of D-3 phosphoinositide lipids was inhibited by pretreatment of the cells with an SDF-1 peptide antagonist or an anti-CXCR4 Ab. In addition, the phosphoinositide 3 (PI 3)-kinase inhibitors wortmannin and LY294002, as well as the Gi protein inhibitor pertussis toxin, also inhibited the SDF-1-stimulated accumulation of PtdIns(3,4,5)P3. The effects of SDF-1 on D-3 phosphoinositide lipid accumulation correlated well with activation of the known PI 3-kinase effector protein kinase B, which was also inhibited by wortmannin and pertussis toxin. Concentrations of PI 3-kinase inhibitors, sufficient to inhibit PtdIns(3,4,5)P3 accumulation, also inhibited chemotaxis of Jurkat and peripheral blood-derived T lymphocytes in response to SDF-1. In contrast, SDF-1-stimulated actin polymerization was only partially inhibited by PI 3-kinase inhibitors, suggesting that while chemotaxis is fully dependent on PI 3-kinase activation, actin polymerization requires additional biochemical inputs. Finally, SDF-1-stimulated extracellular signal-related kinase (ERK)-1/2 mitogen-activated protein kinase activation was inhibited by PI 3-kinase inhibitors. In addition, the mitogen-activated protein/ERK kinase inhibitor PD098059 partially attenuated chemotaxis in response to SDF-1. Hence, it appears that ERK1/2 activation is dependent on PI 3-kinase activation, and both biochemical events are involved in the regulation of SDF-1-stimulated chemotaxis.\n",
      "\n",
      "generated_summary\n",
      "\n",
      "loss: 1.3437122106552124\n",
      "\n",
      "loss: 1.2405869960784912\n",
      "\n",
      "loss: 1.6716586351394653\n",
      "\n",
      "loss: 0.6987054347991943\n",
      "\n",
      "loss: 0.9495317935943604\n",
      "\n",
      "loss: 1.00277578830719\n",
      "\n",
      "loss: 1.4559136629104614\n",
      "\n",
      "loss: 1.2764091491699219\n",
      "\n",
      "loss: 1.597129225730896\n",
      "\n",
      "loss: 0.7544794082641602\n",
      "\n"
     ]
    },
    {
     "data": {
      "application/vnd.jupyter.widget-view+json": {
       "model_id": "b9040ffdb7ac4b88b1bc415b2dcd8c2a",
       "version_major": 2,
       "version_minor": 0
      },
      "text/plain": [
       "Evaluating:   0%|          | 0/500 [00:00<?, ?it/s]"
      ]
     },
     "metadata": {},
     "output_type": "display_data"
    },
    {
     "name": "stdout",
     "output_type": "stream",
     "text": [
      "perplexity: 7.9785027503967285\n",
      "After 561 updates: \n",
      "\n"
     ]
    },
    {
     "data": {
      "application/vnd.jupyter.widget-view+json": {
       "model_id": "70b6d17746aa4bada392994956ef67f8",
       "version_major": 2,
       "version_minor": 0
      },
      "text/plain": [
       "  0%|          | 0/100 [00:00<?, ?it/s]"
      ]
     },
     "metadata": {},
     "output_type": "display_data"
    },
    {
     "name": "stdout",
     "output_type": "stream",
     "text": [
      "We report the cDNA deduced primary structure of a wheat germ agglutinin-reactive nuclear pore complex (NPC) protein of rat. The protein, termed Nup98 (for nucleoporin of 98 kDa), contains numerous GLFG and FG repeats and some FXFG repeats and is thus a vertebrate member of a family of GLFG nucleoporins that were previously discovered in yeast. Immunoelectron microscopy showed Nup98 to be asymmetrically located at the nucleoplasmic side of the NPC. Nup98 functions as one of several docking site nucleoporins in a cytosolic docking activity-mediated binding of a model transport substrate. The docking site of Nup98 was mapped to its N-terminal half, which contains all of the peptide repeats. A recombinant segment of this region depleted the docking activity of cytosol. We suggest that the peptide repeat domain of Nup98, together with peptide repeat domains of other nucleoporins, forms an array of sites for mediated docking of transport substrate, and that bidirectional transport across the NPC proceeds by repeated docking and undocking reactions.\n",
      "\n",
      "generated_summary\n",
      "\n"
     ]
    },
    {
     "data": {
      "application/vnd.jupyter.widget-view+json": {
       "model_id": "836437725afa4fb794d87d027d3b9865",
       "version_major": 2,
       "version_minor": 0
      },
      "text/plain": [
       "  0%|          | 0/100 [00:00<?, ?it/s]"
      ]
     },
     "metadata": {},
     "output_type": "display_data"
    },
    {
     "name": "stdout",
     "output_type": "stream",
     "text": [
      "The cellular effects of stromal cell-derived factor-1 (SDF-1) are mediated primarily by binding to the CXC chemokine receptor-4. We report in this study that SDF-1 and its peptide analogues induce a concentration- and time-dependent accumulation of phosphatidylinositol-(3,4,5)-trisphosphate (PtdIns(3,4,5)P3) in Jurkat cells. This SDF-1-stimulated generation of D-3 phosphoinositide lipids was inhibited by pretreatment of the cells with an SDF-1 peptide antagonist or an anti-CXCR4 Ab. In addition, the phosphoinositide 3 (PI 3)-kinase inhibitors wortmannin and LY294002, as well as the Gi protein inhibitor pertussis toxin, also inhibited the SDF-1-stimulated accumulation of PtdIns(3,4,5)P3. The effects of SDF-1 on D-3 phosphoinositide lipid accumulation correlated well with activation of the known PI 3-kinase effector protein kinase B, which was also inhibited by wortmannin and pertussis toxin. Concentrations of PI 3-kinase inhibitors, sufficient to inhibit PtdIns(3,4,5)P3 accumulation, also inhibited chemotaxis of Jurkat and peripheral blood-derived T lymphocytes in response to SDF-1. In contrast, SDF-1-stimulated actin polymerization was only partially inhibited by PI 3-kinase inhibitors, suggesting that while chemotaxis is fully dependent on PI 3-kinase activation, actin polymerization requires additional biochemical inputs. Finally, SDF-1-stimulated extracellular signal-related kinase (ERK)-1/2 mitogen-activated protein kinase activation was inhibited by PI 3-kinase inhibitors. In addition, the mitogen-activated protein/ERK kinase inhibitor PD098059 partially attenuated chemotaxis in response to SDF-1. Hence, it appears that ERK1/2 activation is dependent on PI 3-kinase activation, and both biochemical events are involved in the regulation of SDF-1-stimulated chemotaxis.\n",
      "\n",
      "generated_summary\n",
      "\n",
      "loss: 0.985008955001831\n",
      "\n",
      "loss: 0.7530242800712585\n",
      "\n",
      "loss: 1.166991114616394\n",
      "\n",
      "loss: 1.616469144821167\n",
      "\n",
      "loss: 1.9185444116592407\n",
      "\n",
      "loss: 1.3723922967910767\n",
      "\n",
      "loss: 0.876304566860199\n",
      "\n",
      "loss: 0.38507339358329773\n",
      "\n",
      "loss: 0.7618966698646545\n",
      "\n",
      "loss: 0.9730952382087708\n",
      "\n"
     ]
    },
    {
     "data": {
      "application/vnd.jupyter.widget-view+json": {
       "model_id": "9569576177074fecb431ee9ea01b3816",
       "version_major": 2,
       "version_minor": 0
      },
      "text/plain": [
       "Evaluating:   0%|          | 0/500 [00:00<?, ?it/s]"
      ]
     },
     "metadata": {},
     "output_type": "display_data"
    },
    {
     "name": "stdout",
     "output_type": "stream",
     "text": [
      "perplexity: 8.045677185058594\n",
      "After 571 updates: \n",
      "\n"
     ]
    },
    {
     "data": {
      "application/vnd.jupyter.widget-view+json": {
       "model_id": "802a22c3e7fd407b9f766276097fbef3",
       "version_major": 2,
       "version_minor": 0
      },
      "text/plain": [
       "  0%|          | 0/100 [00:00<?, ?it/s]"
      ]
     },
     "metadata": {},
     "output_type": "display_data"
    },
    {
     "name": "stdout",
     "output_type": "stream",
     "text": [
      "We report the cDNA deduced primary structure of a wheat germ agglutinin-reactive nuclear pore complex (NPC) protein of rat. The protein, termed Nup98 (for nucleoporin of 98 kDa), contains numerous GLFG and FG repeats and some FXFG repeats and is thus a vertebrate member of a family of GLFG nucleoporins that were previously discovered in yeast. Immunoelectron microscopy showed Nup98 to be asymmetrically located at the nucleoplasmic side of the NPC. Nup98 functions as one of several docking site nucleoporins in a cytosolic docking activity-mediated binding of a model transport substrate. The docking site of Nup98 was mapped to its N-terminal half, which contains all of the peptide repeats. A recombinant segment of this region depleted the docking activity of cytosol. We suggest that the peptide repeat domain of Nup98, together with peptide repeat domains of other nucleoporins, forms an array of sites for mediated docking of transport substrate, and that bidirectional transport across the NPC proceeds by repeated docking and undocking reactions.\n",
      "\n",
      "generated_summary\n",
      "\n"
     ]
    },
    {
     "data": {
      "application/vnd.jupyter.widget-view+json": {
       "model_id": "42a27cf8aae44ce1ba1a10984d28d03a",
       "version_major": 2,
       "version_minor": 0
      },
      "text/plain": [
       "  0%|          | 0/100 [00:00<?, ?it/s]"
      ]
     },
     "metadata": {},
     "output_type": "display_data"
    },
    {
     "name": "stdout",
     "output_type": "stream",
     "text": [
      "The cellular effects of stromal cell-derived factor-1 (SDF-1) are mediated primarily by binding to the CXC chemokine receptor-4. We report in this study that SDF-1 and its peptide analogues induce a concentration- and time-dependent accumulation of phosphatidylinositol-(3,4,5)-trisphosphate (PtdIns(3,4,5)P3) in Jurkat cells. This SDF-1-stimulated generation of D-3 phosphoinositide lipids was inhibited by pretreatment of the cells with an SDF-1 peptide antagonist or an anti-CXCR4 Ab. In addition, the phosphoinositide 3 (PI 3)-kinase inhibitors wortmannin and LY294002, as well as the Gi protein inhibitor pertussis toxin, also inhibited the SDF-1-stimulated accumulation of PtdIns(3,4,5)P3. The effects of SDF-1 on D-3 phosphoinositide lipid accumulation correlated well with activation of the known PI 3-kinase effector protein kinase B, which was also inhibited by wortmannin and pertussis toxin. Concentrations of PI 3-kinase inhibitors, sufficient to inhibit PtdIns(3,4,5)P3 accumulation, also inhibited chemotaxis of Jurkat and peripheral blood-derived T lymphocytes in response to SDF-1. In contrast, SDF-1-stimulated actin polymerization was only partially inhibited by PI 3-kinase inhibitors, suggesting that while chemotaxis is fully dependent on PI 3-kinase activation, actin polymerization requires additional biochemical inputs. Finally, SDF-1-stimulated extracellular signal-related kinase (ERK)-1/2 mitogen-activated protein kinase activation was inhibited by PI 3-kinase inhibitors. In addition, the mitogen-activated protein/ERK kinase inhibitor PD098059 partially attenuated chemotaxis in response to SDF-1. Hence, it appears that ERK1/2 activation is dependent on PI 3-kinase activation, and both biochemical events are involved in the regulation of SDF-1-stimulated chemotaxis.\n",
      "\n",
      "generated_summary\n",
      "\n",
      "loss: 0.7387751936912537\n",
      "\n",
      "loss: 0.9243397116661072\n",
      "\n",
      "loss: 1.2837637662887573\n",
      "\n",
      "loss: 0.2841123342514038\n",
      "\n",
      "loss: 0.7260218858718872\n",
      "\n",
      "loss: 0.9397017955780029\n",
      "\n",
      "loss: 1.0622574090957642\n",
      "\n",
      "loss: 1.4355933666229248\n",
      "\n",
      "loss: 1.1484454870224\n",
      "\n",
      "loss: 0.8398212790489197\n",
      "\n"
     ]
    },
    {
     "data": {
      "application/vnd.jupyter.widget-view+json": {
       "model_id": "da72d3f1b7424d5a869b04f67a0f5145",
       "version_major": 2,
       "version_minor": 0
      },
      "text/plain": [
       "Evaluating:   0%|          | 0/500 [00:00<?, ?it/s]"
      ]
     },
     "metadata": {},
     "output_type": "display_data"
    },
    {
     "name": "stdout",
     "output_type": "stream",
     "text": [
      "perplexity: 8.122138977050781\n",
      "After 581 updates: \n",
      "\n"
     ]
    },
    {
     "data": {
      "application/vnd.jupyter.widget-view+json": {
       "model_id": "09eafa1d887148e0a8bbeb6b8e4027dd",
       "version_major": 2,
       "version_minor": 0
      },
      "text/plain": [
       "  0%|          | 0/100 [00:00<?, ?it/s]"
      ]
     },
     "metadata": {},
     "output_type": "display_data"
    },
    {
     "name": "stdout",
     "output_type": "stream",
     "text": [
      "We report the cDNA deduced primary structure of a wheat germ agglutinin-reactive nuclear pore complex (NPC) protein of rat. The protein, termed Nup98 (for nucleoporin of 98 kDa), contains numerous GLFG and FG repeats and some FXFG repeats and is thus a vertebrate member of a family of GLFG nucleoporins that were previously discovered in yeast. Immunoelectron microscopy showed Nup98 to be asymmetrically located at the nucleoplasmic side of the NPC. Nup98 functions as one of several docking site nucleoporins in a cytosolic docking activity-mediated binding of a model transport substrate. The docking site of Nup98 was mapped to its N-terminal half, which contains all of the peptide repeats. A recombinant segment of this region depleted the docking activity of cytosol. We suggest that the peptide repeat domain of Nup98, together with peptide repeat domains of other nucleoporins, forms an array of sites for mediated docking of transport substrate, and that bidirectional transport across the NPC proceeds by repeated docking and undocking reactions.\n",
      "\n",
      "generated_summary\n",
      "\n"
     ]
    },
    {
     "data": {
      "application/vnd.jupyter.widget-view+json": {
       "model_id": "3eac38cb697c436b81c8a14f116aaa01",
       "version_major": 2,
       "version_minor": 0
      },
      "text/plain": [
       "  0%|          | 0/100 [00:00<?, ?it/s]"
      ]
     },
     "metadata": {},
     "output_type": "display_data"
    },
    {
     "name": "stdout",
     "output_type": "stream",
     "text": [
      "The cellular effects of stromal cell-derived factor-1 (SDF-1) are mediated primarily by binding to the CXC chemokine receptor-4. We report in this study that SDF-1 and its peptide analogues induce a concentration- and time-dependent accumulation of phosphatidylinositol-(3,4,5)-trisphosphate (PtdIns(3,4,5)P3) in Jurkat cells. This SDF-1-stimulated generation of D-3 phosphoinositide lipids was inhibited by pretreatment of the cells with an SDF-1 peptide antagonist or an anti-CXCR4 Ab. In addition, the phosphoinositide 3 (PI 3)-kinase inhibitors wortmannin and LY294002, as well as the Gi protein inhibitor pertussis toxin, also inhibited the SDF-1-stimulated accumulation of PtdIns(3,4,5)P3. The effects of SDF-1 on D-3 phosphoinositide lipid accumulation correlated well with activation of the known PI 3-kinase effector protein kinase B, which was also inhibited by wortmannin and pertussis toxin. Concentrations of PI 3-kinase inhibitors, sufficient to inhibit PtdIns(3,4,5)P3 accumulation, also inhibited chemotaxis of Jurkat and peripheral blood-derived T lymphocytes in response to SDF-1. In contrast, SDF-1-stimulated actin polymerization was only partially inhibited by PI 3-kinase inhibitors, suggesting that while chemotaxis is fully dependent on PI 3-kinase activation, actin polymerization requires additional biochemical inputs. Finally, SDF-1-stimulated extracellular signal-related kinase (ERK)-1/2 mitogen-activated protein kinase activation was inhibited by PI 3-kinase inhibitors. In addition, the mitogen-activated protein/ERK kinase inhibitor PD098059 partially attenuated chemotaxis in response to SDF-1. Hence, it appears that ERK1/2 activation is dependent on PI 3-kinase activation, and both biochemical events are involved in the regulation of SDF-1-stimulated chemotaxis.\n",
      "\n",
      "generated_summary\n",
      "\n",
      "loss: 1.0541625022888184\n",
      "\n",
      "loss: 1.3784904479980469\n",
      "\n",
      "loss: 1.188934564590454\n",
      "\n",
      "loss: 0.9844000339508057\n",
      "\n",
      "loss: 1.097631573677063\n",
      "\n",
      "loss: 0.3530580401420593\n",
      "\n",
      "loss: 1.91472327709198\n",
      "\n",
      "loss: 1.008121132850647\n",
      "\n",
      "loss: 0.8219802975654602\n",
      "\n",
      "loss: 0.8569605946540833\n",
      "\n"
     ]
    },
    {
     "data": {
      "application/vnd.jupyter.widget-view+json": {
       "model_id": "a484c090782e4169affc77c34ee40a22",
       "version_major": 2,
       "version_minor": 0
      },
      "text/plain": [
       "Evaluating:   0%|          | 0/500 [00:00<?, ?it/s]"
      ]
     },
     "metadata": {},
     "output_type": "display_data"
    },
    {
     "name": "stdout",
     "output_type": "stream",
     "text": [
      "perplexity: 8.398642539978027\n",
      "After 591 updates: \n",
      "\n"
     ]
    },
    {
     "data": {
      "application/vnd.jupyter.widget-view+json": {
       "model_id": "5793fec7573c4a41920811a130450c44",
       "version_major": 2,
       "version_minor": 0
      },
      "text/plain": [
       "  0%|          | 0/100 [00:00<?, ?it/s]"
      ]
     },
     "metadata": {},
     "output_type": "display_data"
    },
    {
     "name": "stdout",
     "output_type": "stream",
     "text": [
      "We report the cDNA deduced primary structure of a wheat germ agglutinin-reactive nuclear pore complex (NPC) protein of rat. The protein, termed Nup98 (for nucleoporin of 98 kDa), contains numerous GLFG and FG repeats and some FXFG repeats and is thus a vertebrate member of a family of GLFG nucleoporins that were previously discovered in yeast. Immunoelectron microscopy showed Nup98 to be asymmetrically located at the nucleoplasmic side of the NPC. Nup98 functions as one of several docking site nucleoporins in a cytosolic docking activity-mediated binding of a model transport substrate. The docking site of Nup98 was mapped to its N-terminal half, which contains all of the peptide repeats. A recombinant segment of this region depleted the docking activity of cytosol. We suggest that the peptide repeat domain of Nup98, together with peptide repeat domains of other nucleoporins, forms an array of sites for mediated docking of transport substrate, and that bidirectional transport across the NPC proceeds by repeated docking and undocking reactions.\n",
      "\n",
      "generated_summary\n",
      "\n"
     ]
    },
    {
     "data": {
      "application/vnd.jupyter.widget-view+json": {
       "model_id": "3611c97280c54f42b47184ae106d7a4b",
       "version_major": 2,
       "version_minor": 0
      },
      "text/plain": [
       "  0%|          | 0/100 [00:00<?, ?it/s]"
      ]
     },
     "metadata": {},
     "output_type": "display_data"
    },
    {
     "name": "stdout",
     "output_type": "stream",
     "text": [
      "The cellular effects of stromal cell-derived factor-1 (SDF-1) are mediated primarily by binding to the CXC chemokine receptor-4. We report in this study that SDF-1 and its peptide analogues induce a concentration- and time-dependent accumulation of phosphatidylinositol-(3,4,5)-trisphosphate (PtdIns(3,4,5)P3) in Jurkat cells. This SDF-1-stimulated generation of D-3 phosphoinositide lipids was inhibited by pretreatment of the cells with an SDF-1 peptide antagonist or an anti-CXCR4 Ab. In addition, the phosphoinositide 3 (PI 3)-kinase inhibitors wortmannin and LY294002, as well as the Gi protein inhibitor pertussis toxin, also inhibited the SDF-1-stimulated accumulation of PtdIns(3,4,5)P3. The effects of SDF-1 on D-3 phosphoinositide lipid accumulation correlated well with activation of the known PI 3-kinase effector protein kinase B, which was also inhibited by wortmannin and pertussis toxin. Concentrations of PI 3-kinase inhibitors, sufficient to inhibit PtdIns(3,4,5)P3 accumulation, also inhibited chemotaxis of Jurkat and peripheral blood-derived T lymphocytes in response to SDF-1. In contrast, SDF-1-stimulated actin polymerization was only partially inhibited by PI 3-kinase inhibitors, suggesting that while chemotaxis is fully dependent on PI 3-kinase activation, actin polymerization requires additional biochemical inputs. Finally, SDF-1-stimulated extracellular signal-related kinase (ERK)-1/2 mitogen-activated protein kinase activation was inhibited by PI 3-kinase inhibitors. In addition, the mitogen-activated protein/ERK kinase inhibitor PD098059 partially attenuated chemotaxis in response to SDF-1. Hence, it appears that ERK1/2 activation is dependent on PI 3-kinase activation, and both biochemical events are involved in the regulation of SDF-1-stimulated chemotaxis.\n",
      "\n",
      "generated_summary\n",
      "\n",
      "loss: 1.4184962511062622\n",
      "\n",
      "loss: 2.030249834060669\n",
      "\n",
      "loss: 1.4840973615646362\n",
      "\n",
      "loss: 1.776466727256775\n",
      "\n",
      "loss: 0.8612436056137085\n",
      "\n",
      "loss: 0.42979896068573\n",
      "\n",
      "loss: 1.1292420625686646\n",
      "\n",
      "loss: 0.6033446192741394\n",
      "\n",
      "loss: 1.0940481424331665\n",
      "\n",
      "loss: 0.8670914173126221\n",
      "\n"
     ]
    },
    {
     "data": {
      "application/vnd.jupyter.widget-view+json": {
       "model_id": "7719538149f84930a6a87e78eb4010f3",
       "version_major": 2,
       "version_minor": 0
      },
      "text/plain": [
       "Evaluating:   0%|          | 0/500 [00:00<?, ?it/s]"
      ]
     },
     "metadata": {},
     "output_type": "display_data"
    },
    {
     "name": "stdout",
     "output_type": "stream",
     "text": [
      "perplexity: 7.576447486877441\n",
      "After 601 updates: \n",
      "\n"
     ]
    },
    {
     "data": {
      "application/vnd.jupyter.widget-view+json": {
       "model_id": "a69fcf315eb84fe19324e505da18f177",
       "version_major": 2,
       "version_minor": 0
      },
      "text/plain": [
       "  0%|          | 0/100 [00:00<?, ?it/s]"
      ]
     },
     "metadata": {},
     "output_type": "display_data"
    },
    {
     "name": "stdout",
     "output_type": "stream",
     "text": [
      "We report the cDNA deduced primary structure of a wheat germ agglutinin-reactive nuclear pore complex (NPC) protein of rat. The protein, termed Nup98 (for nucleoporin of 98 kDa), contains numerous GLFG and FG repeats and some FXFG repeats and is thus a vertebrate member of a family of GLFG nucleoporins that were previously discovered in yeast. Immunoelectron microscopy showed Nup98 to be asymmetrically located at the nucleoplasmic side of the NPC. Nup98 functions as one of several docking site nucleoporins in a cytosolic docking activity-mediated binding of a model transport substrate. The docking site of Nup98 was mapped to its N-terminal half, which contains all of the peptide repeats. A recombinant segment of this region depleted the docking activity of cytosol. We suggest that the peptide repeat domain of Nup98, together with peptide repeat domains of other nucleoporins, forms an array of sites for mediated docking of transport substrate, and that bidirectional transport across the NPC proceeds by repeated docking and undocking reactions.\n",
      "\n",
      "generated_summary\n",
      "\n"
     ]
    },
    {
     "data": {
      "application/vnd.jupyter.widget-view+json": {
       "model_id": "9f55897c5a2f4206a80f93ec08c3f283",
       "version_major": 2,
       "version_minor": 0
      },
      "text/plain": [
       "  0%|          | 0/100 [00:00<?, ?it/s]"
      ]
     },
     "metadata": {},
     "output_type": "display_data"
    },
    {
     "name": "stdout",
     "output_type": "stream",
     "text": [
      "The cellular effects of stromal cell-derived factor-1 (SDF-1) are mediated primarily by binding to the CXC chemokine receptor-4. We report in this study that SDF-1 and its peptide analogues induce a concentration- and time-dependent accumulation of phosphatidylinositol-(3,4,5)-trisphosphate (PtdIns(3,4,5)P3) in Jurkat cells. This SDF-1-stimulated generation of D-3 phosphoinositide lipids was inhibited by pretreatment of the cells with an SDF-1 peptide antagonist or an anti-CXCR4 Ab. In addition, the phosphoinositide 3 (PI 3)-kinase inhibitors wortmannin and LY294002, as well as the Gi protein inhibitor pertussis toxin, also inhibited the SDF-1-stimulated accumulation of PtdIns(3,4,5)P3. The effects of SDF-1 on D-3 phosphoinositide lipid accumulation correlated well with activation of the known PI 3-kinase effector protein kinase B, which was also inhibited by wortmannin and pertussis toxin. Concentrations of PI 3-kinase inhibitors, sufficient to inhibit PtdIns(3,4,5)P3 accumulation, also inhibited chemotaxis of Jurkat and peripheral blood-derived T lymphocytes in response to SDF-1. In contrast, SDF-1-stimulated actin polymerization was only partially inhibited by PI 3-kinase inhibitors, suggesting that while chemotaxis is fully dependent on PI 3-kinase activation, actin polymerization requires additional biochemical inputs. Finally, SDF-1-stimulated extracellular signal-related kinase (ERK)-1/2 mitogen-activated protein kinase activation was inhibited by PI 3-kinase inhibitors. In addition, the mitogen-activated protein/ERK kinase inhibitor PD098059 partially attenuated chemotaxis in response to SDF-1. Hence, it appears that ERK1/2 activation is dependent on PI 3-kinase activation, and both biochemical events are involved in the regulation of SDF-1-stimulated chemotaxis.\n",
      "\n",
      "generated_summary\n",
      "\n",
      "loss: 0.9312974214553833\n",
      "\n",
      "loss: 1.815337896347046\n",
      "\n",
      "loss: 0.5449336767196655\n",
      "\n",
      "loss: 0.4838230013847351\n",
      "\n",
      "loss: 0.7739803791046143\n",
      "\n",
      "loss: 1.0521546602249146\n",
      "\n",
      "loss: 0.9838441610336304\n",
      "\n",
      "loss: 0.8072938323020935\n",
      "\n",
      "loss: 1.3036118745803833\n",
      "\n",
      "loss: 0.960404634475708\n",
      "\n"
     ]
    },
    {
     "data": {
      "application/vnd.jupyter.widget-view+json": {
       "model_id": "b581019e85284fa6ba20b5dd7e78a4a6",
       "version_major": 2,
       "version_minor": 0
      },
      "text/plain": [
       "Evaluating:   0%|          | 0/500 [00:00<?, ?it/s]"
      ]
     },
     "metadata": {},
     "output_type": "display_data"
    },
    {
     "name": "stdout",
     "output_type": "stream",
     "text": [
      "perplexity: 7.345306873321533\n",
      "After 611 updates: \n",
      "\n"
     ]
    },
    {
     "data": {
      "application/vnd.jupyter.widget-view+json": {
       "model_id": "25408f08c5aa468685fcfaec1143dd49",
       "version_major": 2,
       "version_minor": 0
      },
      "text/plain": [
       "  0%|          | 0/100 [00:00<?, ?it/s]"
      ]
     },
     "metadata": {},
     "output_type": "display_data"
    },
    {
     "name": "stdout",
     "output_type": "stream",
     "text": [
      "We report the cDNA deduced primary structure of a wheat germ agglutinin-reactive nuclear pore complex (NPC) protein of rat. The protein, termed Nup98 (for nucleoporin of 98 kDa), contains numerous GLFG and FG repeats and some FXFG repeats and is thus a vertebrate member of a family of GLFG nucleoporins that were previously discovered in yeast. Immunoelectron microscopy showed Nup98 to be asymmetrically located at the nucleoplasmic side of the NPC. Nup98 functions as one of several docking site nucleoporins in a cytosolic docking activity-mediated binding of a model transport substrate. The docking site of Nup98 was mapped to its N-terminal half, which contains all of the peptide repeats. A recombinant segment of this region depleted the docking activity of cytosol. We suggest that the peptide repeat domain of Nup98, together with peptide repeat domains of other nucleoporins, forms an array of sites for mediated docking of transport substrate, and that bidirectional transport across the NPC proceeds by repeated docking and undocking reactions.\n",
      "\n",
      "generated_summary\n",
      "\n"
     ]
    },
    {
     "data": {
      "application/vnd.jupyter.widget-view+json": {
       "model_id": "31beb47a0e1f446fa9242d8c92be43e3",
       "version_major": 2,
       "version_minor": 0
      },
      "text/plain": [
       "  0%|          | 0/100 [00:00<?, ?it/s]"
      ]
     },
     "metadata": {},
     "output_type": "display_data"
    },
    {
     "name": "stdout",
     "output_type": "stream",
     "text": [
      "The cellular effects of stromal cell-derived factor-1 (SDF-1) are mediated primarily by binding to the CXC chemokine receptor-4. We report in this study that SDF-1 and its peptide analogues induce a concentration- and time-dependent accumulation of phosphatidylinositol-(3,4,5)-trisphosphate (PtdIns(3,4,5)P3) in Jurkat cells. This SDF-1-stimulated generation of D-3 phosphoinositide lipids was inhibited by pretreatment of the cells with an SDF-1 peptide antagonist or an anti-CXCR4 Ab. In addition, the phosphoinositide 3 (PI 3)-kinase inhibitors wortmannin and LY294002, as well as the Gi protein inhibitor pertussis toxin, also inhibited the SDF-1-stimulated accumulation of PtdIns(3,4,5)P3. The effects of SDF-1 on D-3 phosphoinositide lipid accumulation correlated well with activation of the known PI 3-kinase effector protein kinase B, which was also inhibited by wortmannin and pertussis toxin. Concentrations of PI 3-kinase inhibitors, sufficient to inhibit PtdIns(3,4,5)P3 accumulation, also inhibited chemotaxis of Jurkat and peripheral blood-derived T lymphocytes in response to SDF-1. In contrast, SDF-1-stimulated actin polymerization was only partially inhibited by PI 3-kinase inhibitors, suggesting that while chemotaxis is fully dependent on PI 3-kinase activation, actin polymerization requires additional biochemical inputs. Finally, SDF-1-stimulated extracellular signal-related kinase (ERK)-1/2 mitogen-activated protein kinase activation was inhibited by PI 3-kinase inhibitors. In addition, the mitogen-activated protein/ERK kinase inhibitor PD098059 partially attenuated chemotaxis in response to SDF-1. Hence, it appears that ERK1/2 activation is dependent on PI 3-kinase activation, and both biochemical events are involved in the regulation of SDF-1-stimulated chemotaxis.\n",
      "\n",
      "generated_summary\n",
      "\n",
      "loss: 0.41845592856407166\n",
      "\n",
      "loss: 0.9871096014976501\n",
      "\n",
      "loss: 1.0413779020309448\n",
      "\n",
      "loss: 1.081809639930725\n",
      "\n",
      "loss: 0.8407039046287537\n",
      "\n",
      "loss: 1.2300060987472534\n",
      "\n",
      "loss: 1.7727659940719604\n",
      "\n",
      "loss: 0.8141571283340454\n",
      "\n",
      "loss: 1.357904076576233\n",
      "\n",
      "loss: 0.8184620141983032\n",
      "\n"
     ]
    },
    {
     "data": {
      "application/vnd.jupyter.widget-view+json": {
       "model_id": "e97019972f71485689cac6f192b426dd",
       "version_major": 2,
       "version_minor": 0
      },
      "text/plain": [
       "Evaluating:   0%|          | 0/500 [00:00<?, ?it/s]"
      ]
     },
     "metadata": {},
     "output_type": "display_data"
    },
    {
     "name": "stdout",
     "output_type": "stream",
     "text": [
      "perplexity: 7.316981792449951\n",
      "After 621 updates: \n",
      "\n"
     ]
    },
    {
     "data": {
      "application/vnd.jupyter.widget-view+json": {
       "model_id": "6d28e959302e484387b34a7aade45d27",
       "version_major": 2,
       "version_minor": 0
      },
      "text/plain": [
       "  0%|          | 0/100 [00:00<?, ?it/s]"
      ]
     },
     "metadata": {},
     "output_type": "display_data"
    },
    {
     "name": "stdout",
     "output_type": "stream",
     "text": [
      "We report the cDNA deduced primary structure of a wheat germ agglutinin-reactive nuclear pore complex (NPC) protein of rat. The protein, termed Nup98 (for nucleoporin of 98 kDa), contains numerous GLFG and FG repeats and some FXFG repeats and is thus a vertebrate member of a family of GLFG nucleoporins that were previously discovered in yeast. Immunoelectron microscopy showed Nup98 to be asymmetrically located at the nucleoplasmic side of the NPC. Nup98 functions as one of several docking site nucleoporins in a cytosolic docking activity-mediated binding of a model transport substrate. The docking site of Nup98 was mapped to its N-terminal half, which contains all of the peptide repeats. A recombinant segment of this region depleted the docking activity of cytosol. We suggest that the peptide repeat domain of Nup98, together with peptide repeat domains of other nucleoporins, forms an array of sites for mediated docking of transport substrate, and that bidirectional transport across the NPC proceeds by repeated docking and undocking reactions.\n",
      "\n",
      "generated_summary\n",
      "\n"
     ]
    },
    {
     "data": {
      "application/vnd.jupyter.widget-view+json": {
       "model_id": "37476b18e5f2474a8968c2743fc7c0a1",
       "version_major": 2,
       "version_minor": 0
      },
      "text/plain": [
       "  0%|          | 0/100 [00:00<?, ?it/s]"
      ]
     },
     "metadata": {},
     "output_type": "display_data"
    },
    {
     "name": "stdout",
     "output_type": "stream",
     "text": [
      "The cellular effects of stromal cell-derived factor-1 (SDF-1) are mediated primarily by binding to the CXC chemokine receptor-4. We report in this study that SDF-1 and its peptide analogues induce a concentration- and time-dependent accumulation of phosphatidylinositol-(3,4,5)-trisphosphate (PtdIns(3,4,5)P3) in Jurkat cells. This SDF-1-stimulated generation of D-3 phosphoinositide lipids was inhibited by pretreatment of the cells with an SDF-1 peptide antagonist or an anti-CXCR4 Ab. In addition, the phosphoinositide 3 (PI 3)-kinase inhibitors wortmannin and LY294002, as well as the Gi protein inhibitor pertussis toxin, also inhibited the SDF-1-stimulated accumulation of PtdIns(3,4,5)P3. The effects of SDF-1 on D-3 phosphoinositide lipid accumulation correlated well with activation of the known PI 3-kinase effector protein kinase B, which was also inhibited by wortmannin and pertussis toxin. Concentrations of PI 3-kinase inhibitors, sufficient to inhibit PtdIns(3,4,5)P3 accumulation, also inhibited chemotaxis of Jurkat and peripheral blood-derived T lymphocytes in response to SDF-1. In contrast, SDF-1-stimulated actin polymerization was only partially inhibited by PI 3-kinase inhibitors, suggesting that while chemotaxis is fully dependent on PI 3-kinase activation, actin polymerization requires additional biochemical inputs. Finally, SDF-1-stimulated extracellular signal-related kinase (ERK)-1/2 mitogen-activated protein kinase activation was inhibited by PI 3-kinase inhibitors. In addition, the mitogen-activated protein/ERK kinase inhibitor PD098059 partially attenuated chemotaxis in response to SDF-1. Hence, it appears that ERK1/2 activation is dependent on PI 3-kinase activation, and both biochemical events are involved in the regulation of SDF-1-stimulated chemotaxis.\n",
      "\n",
      "generated_summary\n",
      "\n",
      "loss: 0.43239083886146545\n",
      "\n",
      "loss: 1.428841233253479\n",
      "\n",
      "loss: 1.1487157344818115\n",
      "\n",
      "loss: 1.3450219631195068\n",
      "\n",
      "loss: 0.7539744973182678\n",
      "\n",
      "loss: 1.8374931812286377\n",
      "\n",
      "loss: 1.3629331588745117\n",
      "\n",
      "loss: 0.9268025159835815\n",
      "\n",
      "loss: 1.3651245832443237\n",
      "\n",
      "loss: 0.7572512030601501\n",
      "\n"
     ]
    },
    {
     "data": {
      "application/vnd.jupyter.widget-view+json": {
       "model_id": "b3e0438a6e5c4b348a275463ff7e61e3",
       "version_major": 2,
       "version_minor": 0
      },
      "text/plain": [
       "Evaluating:   0%|          | 0/500 [00:00<?, ?it/s]"
      ]
     },
     "metadata": {},
     "output_type": "display_data"
    },
    {
     "name": "stdout",
     "output_type": "stream",
     "text": [
      "perplexity: 7.346877098083496\n",
      "After 631 updates: \n",
      "\n"
     ]
    },
    {
     "data": {
      "application/vnd.jupyter.widget-view+json": {
       "model_id": "2a1d6490b7034bb3b247466d76de539e",
       "version_major": 2,
       "version_minor": 0
      },
      "text/plain": [
       "  0%|          | 0/100 [00:00<?, ?it/s]"
      ]
     },
     "metadata": {},
     "output_type": "display_data"
    },
    {
     "name": "stdout",
     "output_type": "stream",
     "text": [
      "We report the cDNA deduced primary structure of a wheat germ agglutinin-reactive nuclear pore complex (NPC) protein of rat. The protein, termed Nup98 (for nucleoporin of 98 kDa), contains numerous GLFG and FG repeats and some FXFG repeats and is thus a vertebrate member of a family of GLFG nucleoporins that were previously discovered in yeast. Immunoelectron microscopy showed Nup98 to be asymmetrically located at the nucleoplasmic side of the NPC. Nup98 functions as one of several docking site nucleoporins in a cytosolic docking activity-mediated binding of a model transport substrate. The docking site of Nup98 was mapped to its N-terminal half, which contains all of the peptide repeats. A recombinant segment of this region depleted the docking activity of cytosol. We suggest that the peptide repeat domain of Nup98, together with peptide repeat domains of other nucleoporins, forms an array of sites for mediated docking of transport substrate, and that bidirectional transport across the NPC proceeds by repeated docking and undocking reactions.\n",
      "\n",
      "generated_summary\n",
      "\n"
     ]
    },
    {
     "data": {
      "application/vnd.jupyter.widget-view+json": {
       "model_id": "de8f7191f15040b7a9f00b0c9909e029",
       "version_major": 2,
       "version_minor": 0
      },
      "text/plain": [
       "  0%|          | 0/100 [00:00<?, ?it/s]"
      ]
     },
     "metadata": {},
     "output_type": "display_data"
    },
    {
     "name": "stdout",
     "output_type": "stream",
     "text": [
      "The cellular effects of stromal cell-derived factor-1 (SDF-1) are mediated primarily by binding to the CXC chemokine receptor-4. We report in this study that SDF-1 and its peptide analogues induce a concentration- and time-dependent accumulation of phosphatidylinositol-(3,4,5)-trisphosphate (PtdIns(3,4,5)P3) in Jurkat cells. This SDF-1-stimulated generation of D-3 phosphoinositide lipids was inhibited by pretreatment of the cells with an SDF-1 peptide antagonist or an anti-CXCR4 Ab. In addition, the phosphoinositide 3 (PI 3)-kinase inhibitors wortmannin and LY294002, as well as the Gi protein inhibitor pertussis toxin, also inhibited the SDF-1-stimulated accumulation of PtdIns(3,4,5)P3. The effects of SDF-1 on D-3 phosphoinositide lipid accumulation correlated well with activation of the known PI 3-kinase effector protein kinase B, which was also inhibited by wortmannin and pertussis toxin. Concentrations of PI 3-kinase inhibitors, sufficient to inhibit PtdIns(3,4,5)P3 accumulation, also inhibited chemotaxis of Jurkat and peripheral blood-derived T lymphocytes in response to SDF-1. In contrast, SDF-1-stimulated actin polymerization was only partially inhibited by PI 3-kinase inhibitors, suggesting that while chemotaxis is fully dependent on PI 3-kinase activation, actin polymerization requires additional biochemical inputs. Finally, SDF-1-stimulated extracellular signal-related kinase (ERK)-1/2 mitogen-activated protein kinase activation was inhibited by PI 3-kinase inhibitors. In addition, the mitogen-activated protein/ERK kinase inhibitor PD098059 partially attenuated chemotaxis in response to SDF-1. Hence, it appears that ERK1/2 activation is dependent on PI 3-kinase activation, and both biochemical events are involved in the regulation of SDF-1-stimulated chemotaxis.\n",
      "\n",
      "generated_summary\n",
      "\n",
      "loss: 1.1701569557189941\n",
      "\n",
      "loss: 2.081925868988037\n",
      "\n",
      "loss: 1.5646693706512451\n",
      "\n",
      "loss: 0.7923477292060852\n",
      "\n",
      "loss: 0.530674934387207\n",
      "\n",
      "loss: 1.7714110612869263\n",
      "\n",
      "loss: 0.7431727647781372\n",
      "\n",
      "loss: 0.5015472769737244\n",
      "\n",
      "loss: 0.9686785340309143\n",
      "\n",
      "loss: 0.3891797959804535\n",
      "\n"
     ]
    },
    {
     "data": {
      "application/vnd.jupyter.widget-view+json": {
       "model_id": "d4d12a819318450ba9bc19bd56799f59",
       "version_major": 2,
       "version_minor": 0
      },
      "text/plain": [
       "Evaluating:   0%|          | 0/500 [00:00<?, ?it/s]"
      ]
     },
     "metadata": {},
     "output_type": "display_data"
    },
    {
     "name": "stdout",
     "output_type": "stream",
     "text": [
      "perplexity: 7.281154632568359\n",
      "After 641 updates: \n",
      "\n"
     ]
    },
    {
     "data": {
      "application/vnd.jupyter.widget-view+json": {
       "model_id": "1f1ad442eb7245beb85e47b15b745b05",
       "version_major": 2,
       "version_minor": 0
      },
      "text/plain": [
       "  0%|          | 0/100 [00:00<?, ?it/s]"
      ]
     },
     "metadata": {},
     "output_type": "display_data"
    },
    {
     "name": "stdout",
     "output_type": "stream",
     "text": [
      "We report the cDNA deduced primary structure of a wheat germ agglutinin-reactive nuclear pore complex (NPC) protein of rat. The protein, termed Nup98 (for nucleoporin of 98 kDa), contains numerous GLFG and FG repeats and some FXFG repeats and is thus a vertebrate member of a family of GLFG nucleoporins that were previously discovered in yeast. Immunoelectron microscopy showed Nup98 to be asymmetrically located at the nucleoplasmic side of the NPC. Nup98 functions as one of several docking site nucleoporins in a cytosolic docking activity-mediated binding of a model transport substrate. The docking site of Nup98 was mapped to its N-terminal half, which contains all of the peptide repeats. A recombinant segment of this region depleted the docking activity of cytosol. We suggest that the peptide repeat domain of Nup98, together with peptide repeat domains of other nucleoporins, forms an array of sites for mediated docking of transport substrate, and that bidirectional transport across the NPC proceeds by repeated docking and undocking reactions.\n",
      "\n",
      "generated_summary\n",
      "\n"
     ]
    },
    {
     "data": {
      "application/vnd.jupyter.widget-view+json": {
       "model_id": "ce88e47d17c74906aec2d38d7bf6bcb9",
       "version_major": 2,
       "version_minor": 0
      },
      "text/plain": [
       "  0%|          | 0/100 [00:00<?, ?it/s]"
      ]
     },
     "metadata": {},
     "output_type": "display_data"
    },
    {
     "name": "stdout",
     "output_type": "stream",
     "text": [
      "The cellular effects of stromal cell-derived factor-1 (SDF-1) are mediated primarily by binding to the CXC chemokine receptor-4. We report in this study that SDF-1 and its peptide analogues induce a concentration- and time-dependent accumulation of phosphatidylinositol-(3,4,5)-trisphosphate (PtdIns(3,4,5)P3) in Jurkat cells. This SDF-1-stimulated generation of D-3 phosphoinositide lipids was inhibited by pretreatment of the cells with an SDF-1 peptide antagonist or an anti-CXCR4 Ab. In addition, the phosphoinositide 3 (PI 3)-kinase inhibitors wortmannin and LY294002, as well as the Gi protein inhibitor pertussis toxin, also inhibited the SDF-1-stimulated accumulation of PtdIns(3,4,5)P3. The effects of SDF-1 on D-3 phosphoinositide lipid accumulation correlated well with activation of the known PI 3-kinase effector protein kinase B, which was also inhibited by wortmannin and pertussis toxin. Concentrations of PI 3-kinase inhibitors, sufficient to inhibit PtdIns(3,4,5)P3 accumulation, also inhibited chemotaxis of Jurkat and peripheral blood-derived T lymphocytes in response to SDF-1. In contrast, SDF-1-stimulated actin polymerization was only partially inhibited by PI 3-kinase inhibitors, suggesting that while chemotaxis is fully dependent on PI 3-kinase activation, actin polymerization requires additional biochemical inputs. Finally, SDF-1-stimulated extracellular signal-related kinase (ERK)-1/2 mitogen-activated protein kinase activation was inhibited by PI 3-kinase inhibitors. In addition, the mitogen-activated protein/ERK kinase inhibitor PD098059 partially attenuated chemotaxis in response to SDF-1. Hence, it appears that ERK1/2 activation is dependent on PI 3-kinase activation, and both biochemical events are involved in the regulation of SDF-1-stimulated chemotaxis.\n",
      "\n",
      "generated_summary\n",
      "\n",
      "loss: 1.0430841445922852\n",
      "\n",
      "loss: 0.8243094682693481\n",
      "\n",
      "loss: 1.9965617656707764\n",
      "\n",
      "loss: 1.1953907012939453\n",
      "\n",
      "loss: 1.1259551048278809\n",
      "\n",
      "loss: 1.6396539211273193\n",
      "\n",
      "loss: 1.5741958618164062\n",
      "\n",
      "loss: 0.7779615521430969\n",
      "\n",
      "loss: 0.4935658574104309\n",
      "\n",
      "loss: 0.9640562534332275\n",
      "\n"
     ]
    },
    {
     "data": {
      "application/vnd.jupyter.widget-view+json": {
       "model_id": "a5c5c3c5a4b84fde9fdf55a17fcc91b4",
       "version_major": 2,
       "version_minor": 0
      },
      "text/plain": [
       "Evaluating:   0%|          | 0/500 [00:00<?, ?it/s]"
      ]
     },
     "metadata": {},
     "output_type": "display_data"
    },
    {
     "name": "stdout",
     "output_type": "stream",
     "text": [
      "perplexity: 7.529708385467529\n",
      "After 651 updates: \n",
      "\n"
     ]
    },
    {
     "data": {
      "application/vnd.jupyter.widget-view+json": {
       "model_id": "fe7595eebd2643e09d8967bfc66845f2",
       "version_major": 2,
       "version_minor": 0
      },
      "text/plain": [
       "  0%|          | 0/100 [00:00<?, ?it/s]"
      ]
     },
     "metadata": {},
     "output_type": "display_data"
    },
    {
     "name": "stdout",
     "output_type": "stream",
     "text": [
      "We report the cDNA deduced primary structure of a wheat germ agglutinin-reactive nuclear pore complex (NPC) protein of rat. The protein, termed Nup98 (for nucleoporin of 98 kDa), contains numerous GLFG and FG repeats and some FXFG repeats and is thus a vertebrate member of a family of GLFG nucleoporins that were previously discovered in yeast. Immunoelectron microscopy showed Nup98 to be asymmetrically located at the nucleoplasmic side of the NPC. Nup98 functions as one of several docking site nucleoporins in a cytosolic docking activity-mediated binding of a model transport substrate. The docking site of Nup98 was mapped to its N-terminal half, which contains all of the peptide repeats. A recombinant segment of this region depleted the docking activity of cytosol. We suggest that the peptide repeat domain of Nup98, together with peptide repeat domains of other nucleoporins, forms an array of sites for mediated docking of transport substrate, and that bidirectional transport across the NPC proceeds by repeated docking and undocking reactions.\n",
      "\n",
      "generated_summary\n",
      "\n"
     ]
    },
    {
     "data": {
      "application/vnd.jupyter.widget-view+json": {
       "model_id": "73b771555f744ac2a2400ff5669a55c9",
       "version_major": 2,
       "version_minor": 0
      },
      "text/plain": [
       "  0%|          | 0/100 [00:00<?, ?it/s]"
      ]
     },
     "metadata": {},
     "output_type": "display_data"
    },
    {
     "name": "stdout",
     "output_type": "stream",
     "text": [
      "The cellular effects of stromal cell-derived factor-1 (SDF-1) are mediated primarily by binding to the CXC chemokine receptor-4. We report in this study that SDF-1 and its peptide analogues induce a concentration- and time-dependent accumulation of phosphatidylinositol-(3,4,5)-trisphosphate (PtdIns(3,4,5)P3) in Jurkat cells. This SDF-1-stimulated generation of D-3 phosphoinositide lipids was inhibited by pretreatment of the cells with an SDF-1 peptide antagonist or an anti-CXCR4 Ab. In addition, the phosphoinositide 3 (PI 3)-kinase inhibitors wortmannin and LY294002, as well as the Gi protein inhibitor pertussis toxin, also inhibited the SDF-1-stimulated accumulation of PtdIns(3,4,5)P3. The effects of SDF-1 on D-3 phosphoinositide lipid accumulation correlated well with activation of the known PI 3-kinase effector protein kinase B, which was also inhibited by wortmannin and pertussis toxin. Concentrations of PI 3-kinase inhibitors, sufficient to inhibit PtdIns(3,4,5)P3 accumulation, also inhibited chemotaxis of Jurkat and peripheral blood-derived T lymphocytes in response to SDF-1. In contrast, SDF-1-stimulated actin polymerization was only partially inhibited by PI 3-kinase inhibitors, suggesting that while chemotaxis is fully dependent on PI 3-kinase activation, actin polymerization requires additional biochemical inputs. Finally, SDF-1-stimulated extracellular signal-related kinase (ERK)-1/2 mitogen-activated protein kinase activation was inhibited by PI 3-kinase inhibitors. In addition, the mitogen-activated protein/ERK kinase inhibitor PD098059 partially attenuated chemotaxis in response to SDF-1. Hence, it appears that ERK1/2 activation is dependent on PI 3-kinase activation, and both biochemical events are involved in the regulation of SDF-1-stimulated chemotaxis.\n",
      "\n",
      "generated_summary\n",
      "\n",
      "loss: 1.3819539546966553\n",
      "\n",
      "loss: 1.1556103229522705\n",
      "\n",
      "loss: 0.7960489988327026\n",
      "\n",
      "loss: 0.23271061480045319\n",
      "\n",
      "loss: 0.8559198379516602\n",
      "\n",
      "loss: 0.9150917530059814\n",
      "\n",
      "loss: 1.3162271976470947\n",
      "\n",
      "loss: 0.9412328004837036\n",
      "\n",
      "loss: 1.6703283786773682\n",
      "\n",
      "loss: 1.0231865644454956\n",
      "\n"
     ]
    },
    {
     "data": {
      "application/vnd.jupyter.widget-view+json": {
       "model_id": "a2bb7d7d3c544695a161bfe9b178b14d",
       "version_major": 2,
       "version_minor": 0
      },
      "text/plain": [
       "Evaluating:   0%|          | 0/500 [00:00<?, ?it/s]"
      ]
     },
     "metadata": {},
     "output_type": "display_data"
    },
    {
     "name": "stdout",
     "output_type": "stream",
     "text": [
      "perplexity: 7.9232282638549805\n",
      "After 661 updates: \n",
      "\n"
     ]
    },
    {
     "data": {
      "application/vnd.jupyter.widget-view+json": {
       "model_id": "cb45d06630b04908b3e6e5b360e76cb0",
       "version_major": 2,
       "version_minor": 0
      },
      "text/plain": [
       "  0%|          | 0/100 [00:00<?, ?it/s]"
      ]
     },
     "metadata": {},
     "output_type": "display_data"
    },
    {
     "name": "stdout",
     "output_type": "stream",
     "text": [
      "We report the cDNA deduced primary structure of a wheat germ agglutinin-reactive nuclear pore complex (NPC) protein of rat. The protein, termed Nup98 (for nucleoporin of 98 kDa), contains numerous GLFG and FG repeats and some FXFG repeats and is thus a vertebrate member of a family of GLFG nucleoporins that were previously discovered in yeast. Immunoelectron microscopy showed Nup98 to be asymmetrically located at the nucleoplasmic side of the NPC. Nup98 functions as one of several docking site nucleoporins in a cytosolic docking activity-mediated binding of a model transport substrate. The docking site of Nup98 was mapped to its N-terminal half, which contains all of the peptide repeats. A recombinant segment of this region depleted the docking activity of cytosol. We suggest that the peptide repeat domain of Nup98, together with peptide repeat domains of other nucleoporins, forms an array of sites for mediated docking of transport substrate, and that bidirectional transport across the NPC proceeds by repeated docking and undocking reactions.\n",
      "\n",
      "generated_summary\n",
      "\n"
     ]
    },
    {
     "data": {
      "application/vnd.jupyter.widget-view+json": {
       "model_id": "dc4524e28df143cda5695a5684883946",
       "version_major": 2,
       "version_minor": 0
      },
      "text/plain": [
       "  0%|          | 0/100 [00:00<?, ?it/s]"
      ]
     },
     "metadata": {},
     "output_type": "display_data"
    },
    {
     "name": "stdout",
     "output_type": "stream",
     "text": [
      "The cellular effects of stromal cell-derived factor-1 (SDF-1) are mediated primarily by binding to the CXC chemokine receptor-4. We report in this study that SDF-1 and its peptide analogues induce a concentration- and time-dependent accumulation of phosphatidylinositol-(3,4,5)-trisphosphate (PtdIns(3,4,5)P3) in Jurkat cells. This SDF-1-stimulated generation of D-3 phosphoinositide lipids was inhibited by pretreatment of the cells with an SDF-1 peptide antagonist or an anti-CXCR4 Ab. In addition, the phosphoinositide 3 (PI 3)-kinase inhibitors wortmannin and LY294002, as well as the Gi protein inhibitor pertussis toxin, also inhibited the SDF-1-stimulated accumulation of PtdIns(3,4,5)P3. The effects of SDF-1 on D-3 phosphoinositide lipid accumulation correlated well with activation of the known PI 3-kinase effector protein kinase B, which was also inhibited by wortmannin and pertussis toxin. Concentrations of PI 3-kinase inhibitors, sufficient to inhibit PtdIns(3,4,5)P3 accumulation, also inhibited chemotaxis of Jurkat and peripheral blood-derived T lymphocytes in response to SDF-1. In contrast, SDF-1-stimulated actin polymerization was only partially inhibited by PI 3-kinase inhibitors, suggesting that while chemotaxis is fully dependent on PI 3-kinase activation, actin polymerization requires additional biochemical inputs. Finally, SDF-1-stimulated extracellular signal-related kinase (ERK)-1/2 mitogen-activated protein kinase activation was inhibited by PI 3-kinase inhibitors. In addition, the mitogen-activated protein/ERK kinase inhibitor PD098059 partially attenuated chemotaxis in response to SDF-1. Hence, it appears that ERK1/2 activation is dependent on PI 3-kinase activation, and both biochemical events are involved in the regulation of SDF-1-stimulated chemotaxis.\n",
      "\n",
      "generated_summary\n",
      "\n",
      "loss: 0.7185224890708923\n",
      "\n",
      "loss: 1.3879834413528442\n",
      "\n",
      "loss: 0.880007803440094\n",
      "\n",
      "loss: 0.9295412302017212\n",
      "\n",
      "loss: 1.2887868881225586\n",
      "\n",
      "loss: 0.9981914758682251\n",
      "\n",
      "loss: 1.478785514831543\n",
      "\n",
      "loss: 0.641069769859314\n",
      "\n",
      "loss: 1.390397310256958\n",
      "\n",
      "loss: 0.9828661680221558\n",
      "\n"
     ]
    },
    {
     "data": {
      "application/vnd.jupyter.widget-view+json": {
       "model_id": "c5f5f7da087a42fe993af59ead1741b0",
       "version_major": 2,
       "version_minor": 0
      },
      "text/plain": [
       "Evaluating:   0%|          | 0/500 [00:00<?, ?it/s]"
      ]
     },
     "metadata": {},
     "output_type": "display_data"
    },
    {
     "name": "stdout",
     "output_type": "stream",
     "text": [
      "perplexity: 8.516837120056152\n",
      "After 671 updates: \n",
      "\n"
     ]
    },
    {
     "data": {
      "application/vnd.jupyter.widget-view+json": {
       "model_id": "b4287334a6ff4a5aa82c23e09aebb1d7",
       "version_major": 2,
       "version_minor": 0
      },
      "text/plain": [
       "  0%|          | 0/100 [00:00<?, ?it/s]"
      ]
     },
     "metadata": {},
     "output_type": "display_data"
    },
    {
     "name": "stdout",
     "output_type": "stream",
     "text": [
      "We report the cDNA deduced primary structure of a wheat germ agglutinin-reactive nuclear pore complex (NPC) protein of rat. The protein, termed Nup98 (for nucleoporin of 98 kDa), contains numerous GLFG and FG repeats and some FXFG repeats and is thus a vertebrate member of a family of GLFG nucleoporins that were previously discovered in yeast. Immunoelectron microscopy showed Nup98 to be asymmetrically located at the nucleoplasmic side of the NPC. Nup98 functions as one of several docking site nucleoporins in a cytosolic docking activity-mediated binding of a model transport substrate. The docking site of Nup98 was mapped to its N-terminal half, which contains all of the peptide repeats. A recombinant segment of this region depleted the docking activity of cytosol. We suggest that the peptide repeat domain of Nup98, together with peptide repeat domains of other nucleoporins, forms an array of sites for mediated docking of transport substrate, and that bidirectional transport across the NPC proceeds by repeated docking and undocking reactions.\n",
      "\n",
      "generated_summary\n",
      "\n"
     ]
    },
    {
     "data": {
      "application/vnd.jupyter.widget-view+json": {
       "model_id": "cef1d146949d422eb4adbfdfc32d6b4a",
       "version_major": 2,
       "version_minor": 0
      },
      "text/plain": [
       "  0%|          | 0/100 [00:00<?, ?it/s]"
      ]
     },
     "metadata": {},
     "output_type": "display_data"
    },
    {
     "name": "stdout",
     "output_type": "stream",
     "text": [
      "The cellular effects of stromal cell-derived factor-1 (SDF-1) are mediated primarily by binding to the CXC chemokine receptor-4. We report in this study that SDF-1 and its peptide analogues induce a concentration- and time-dependent accumulation of phosphatidylinositol-(3,4,5)-trisphosphate (PtdIns(3,4,5)P3) in Jurkat cells. This SDF-1-stimulated generation of D-3 phosphoinositide lipids was inhibited by pretreatment of the cells with an SDF-1 peptide antagonist or an anti-CXCR4 Ab. In addition, the phosphoinositide 3 (PI 3)-kinase inhibitors wortmannin and LY294002, as well as the Gi protein inhibitor pertussis toxin, also inhibited the SDF-1-stimulated accumulation of PtdIns(3,4,5)P3. The effects of SDF-1 on D-3 phosphoinositide lipid accumulation correlated well with activation of the known PI 3-kinase effector protein kinase B, which was also inhibited by wortmannin and pertussis toxin. Concentrations of PI 3-kinase inhibitors, sufficient to inhibit PtdIns(3,4,5)P3 accumulation, also inhibited chemotaxis of Jurkat and peripheral blood-derived T lymphocytes in response to SDF-1. In contrast, SDF-1-stimulated actin polymerization was only partially inhibited by PI 3-kinase inhibitors, suggesting that while chemotaxis is fully dependent on PI 3-kinase activation, actin polymerization requires additional biochemical inputs. Finally, SDF-1-stimulated extracellular signal-related kinase (ERK)-1/2 mitogen-activated protein kinase activation was inhibited by PI 3-kinase inhibitors. In addition, the mitogen-activated protein/ERK kinase inhibitor PD098059 partially attenuated chemotaxis in response to SDF-1. Hence, it appears that ERK1/2 activation is dependent on PI 3-kinase activation, and both biochemical events are involved in the regulation of SDF-1-stimulated chemotaxis.\n",
      "\n",
      "generated_summary\n",
      "\n",
      "loss: 0.8089615702629089\n",
      "\n",
      "loss: 1.0297597646713257\n",
      "\n",
      "loss: 0.9268505573272705\n",
      "\n",
      "loss: 0.5505601167678833\n",
      "\n",
      "loss: 0.9679345488548279\n",
      "\n",
      "loss: 1.412835717201233\n",
      "\n",
      "loss: 0.8126658797264099\n",
      "\n",
      "loss: 0.9227760434150696\n",
      "\n",
      "loss: 1.2529048919677734\n",
      "\n",
      "loss: 0.41886475682258606\n",
      "\n"
     ]
    },
    {
     "data": {
      "application/vnd.jupyter.widget-view+json": {
       "model_id": "05306c8fe3d1411cbc837c5799550bd1",
       "version_major": 2,
       "version_minor": 0
      },
      "text/plain": [
       "Evaluating:   0%|          | 0/500 [00:00<?, ?it/s]"
      ]
     },
     "metadata": {},
     "output_type": "display_data"
    },
    {
     "name": "stdout",
     "output_type": "stream",
     "text": [
      "perplexity: 8.944092750549316\n",
      "After 681 updates: \n",
      "\n"
     ]
    },
    {
     "data": {
      "application/vnd.jupyter.widget-view+json": {
       "model_id": "93659ddaabc748889c88b8525280e1e3",
       "version_major": 2,
       "version_minor": 0
      },
      "text/plain": [
       "  0%|          | 0/100 [00:00<?, ?it/s]"
      ]
     },
     "metadata": {},
     "output_type": "display_data"
    },
    {
     "name": "stdout",
     "output_type": "stream",
     "text": [
      "We report the cDNA deduced primary structure of a wheat germ agglutinin-reactive nuclear pore complex (NPC) protein of rat. The protein, termed Nup98 (for nucleoporin of 98 kDa), contains numerous GLFG and FG repeats and some FXFG repeats and is thus a vertebrate member of a family of GLFG nucleoporins that were previously discovered in yeast. Immunoelectron microscopy showed Nup98 to be asymmetrically located at the nucleoplasmic side of the NPC. Nup98 functions as one of several docking site nucleoporins in a cytosolic docking activity-mediated binding of a model transport substrate. The docking site of Nup98 was mapped to its N-terminal half, which contains all of the peptide repeats. A recombinant segment of this region depleted the docking activity of cytosol. We suggest that the peptide repeat domain of Nup98, together with peptide repeat domains of other nucleoporins, forms an array of sites for mediated docking of transport substrate, and that bidirectional transport across the NPC proceeds by repeated docking and undocking reactions.\n",
      "\n",
      "generated_summary\n",
      "\n"
     ]
    },
    {
     "data": {
      "application/vnd.jupyter.widget-view+json": {
       "model_id": "d85f7e8918fe4acc833d7ffc6f9374ea",
       "version_major": 2,
       "version_minor": 0
      },
      "text/plain": [
       "  0%|          | 0/100 [00:00<?, ?it/s]"
      ]
     },
     "metadata": {},
     "output_type": "display_data"
    },
    {
     "name": "stdout",
     "output_type": "stream",
     "text": [
      "The cellular effects of stromal cell-derived factor-1 (SDF-1) are mediated primarily by binding to the CXC chemokine receptor-4. We report in this study that SDF-1 and its peptide analogues induce a concentration- and time-dependent accumulation of phosphatidylinositol-(3,4,5)-trisphosphate (PtdIns(3,4,5)P3) in Jurkat cells. This SDF-1-stimulated generation of D-3 phosphoinositide lipids was inhibited by pretreatment of the cells with an SDF-1 peptide antagonist or an anti-CXCR4 Ab. In addition, the phosphoinositide 3 (PI 3)-kinase inhibitors wortmannin and LY294002, as well as the Gi protein inhibitor pertussis toxin, also inhibited the SDF-1-stimulated accumulation of PtdIns(3,4,5)P3. The effects of SDF-1 on D-3 phosphoinositide lipid accumulation correlated well with activation of the known PI 3-kinase effector protein kinase B, which was also inhibited by wortmannin and pertussis toxin. Concentrations of PI 3-kinase inhibitors, sufficient to inhibit PtdIns(3,4,5)P3 accumulation, also inhibited chemotaxis of Jurkat and peripheral blood-derived T lymphocytes in response to SDF-1. In contrast, SDF-1-stimulated actin polymerization was only partially inhibited by PI 3-kinase inhibitors, suggesting that while chemotaxis is fully dependent on PI 3-kinase activation, actin polymerization requires additional biochemical inputs. Finally, SDF-1-stimulated extracellular signal-related kinase (ERK)-1/2 mitogen-activated protein kinase activation was inhibited by PI 3-kinase inhibitors. In addition, the mitogen-activated protein/ERK kinase inhibitor PD098059 partially attenuated chemotaxis in response to SDF-1. Hence, it appears that ERK1/2 activation is dependent on PI 3-kinase activation, and both biochemical events are involved in the regulation of SDF-1-stimulated chemotaxis.\n",
      "\n",
      "generated_summary\n",
      "\n",
      "loss: 2.011213541030884\n",
      "\n",
      "loss: 1.0297865867614746\n",
      "\n",
      "loss: 1.054324984550476\n",
      "\n",
      "loss: 0.49569228291511536\n",
      "\n",
      "loss: 0.9901638627052307\n",
      "\n",
      "loss: 1.2951606512069702\n",
      "\n",
      "loss: 1.3075991868972778\n",
      "\n",
      "loss: 1.305163860321045\n",
      "\n",
      "loss: 1.7351188659667969\n",
      "\n",
      "loss: 0.5456711649894714\n",
      "\n"
     ]
    },
    {
     "data": {
      "application/vnd.jupyter.widget-view+json": {
       "model_id": "56a51a25708d4a5fa587385a1140cd09",
       "version_major": 2,
       "version_minor": 0
      },
      "text/plain": [
       "Evaluating:   0%|          | 0/500 [00:00<?, ?it/s]"
      ]
     },
     "metadata": {},
     "output_type": "display_data"
    },
    {
     "name": "stdout",
     "output_type": "stream",
     "text": [
      "perplexity: 8.327536582946777\n",
      "After 691 updates: \n",
      "\n"
     ]
    },
    {
     "data": {
      "application/vnd.jupyter.widget-view+json": {
       "model_id": "979e0c601037412f96265c3be4df05e9",
       "version_major": 2,
       "version_minor": 0
      },
      "text/plain": [
       "  0%|          | 0/100 [00:00<?, ?it/s]"
      ]
     },
     "metadata": {},
     "output_type": "display_data"
    },
    {
     "name": "stdout",
     "output_type": "stream",
     "text": [
      "We report the cDNA deduced primary structure of a wheat germ agglutinin-reactive nuclear pore complex (NPC) protein of rat. The protein, termed Nup98 (for nucleoporin of 98 kDa), contains numerous GLFG and FG repeats and some FXFG repeats and is thus a vertebrate member of a family of GLFG nucleoporins that were previously discovered in yeast. Immunoelectron microscopy showed Nup98 to be asymmetrically located at the nucleoplasmic side of the NPC. Nup98 functions as one of several docking site nucleoporins in a cytosolic docking activity-mediated binding of a model transport substrate. The docking site of Nup98 was mapped to its N-terminal half, which contains all of the peptide repeats. A recombinant segment of this region depleted the docking activity of cytosol. We suggest that the peptide repeat domain of Nup98, together with peptide repeat domains of other nucleoporins, forms an array of sites for mediated docking of transport substrate, and that bidirectional transport across the NPC proceeds by repeated docking and undocking reactions.\n",
      "\n",
      "generated_summary\n",
      "\n"
     ]
    },
    {
     "data": {
      "application/vnd.jupyter.widget-view+json": {
       "model_id": "aba8eb591b614d45b7d7f07d58c9b57e",
       "version_major": 2,
       "version_minor": 0
      },
      "text/plain": [
       "  0%|          | 0/100 [00:00<?, ?it/s]"
      ]
     },
     "metadata": {},
     "output_type": "display_data"
    },
    {
     "name": "stdout",
     "output_type": "stream",
     "text": [
      "The cellular effects of stromal cell-derived factor-1 (SDF-1) are mediated primarily by binding to the CXC chemokine receptor-4. We report in this study that SDF-1 and its peptide analogues induce a concentration- and time-dependent accumulation of phosphatidylinositol-(3,4,5)-trisphosphate (PtdIns(3,4,5)P3) in Jurkat cells. This SDF-1-stimulated generation of D-3 phosphoinositide lipids was inhibited by pretreatment of the cells with an SDF-1 peptide antagonist or an anti-CXCR4 Ab. In addition, the phosphoinositide 3 (PI 3)-kinase inhibitors wortmannin and LY294002, as well as the Gi protein inhibitor pertussis toxin, also inhibited the SDF-1-stimulated accumulation of PtdIns(3,4,5)P3. The effects of SDF-1 on D-3 phosphoinositide lipid accumulation correlated well with activation of the known PI 3-kinase effector protein kinase B, which was also inhibited by wortmannin and pertussis toxin. Concentrations of PI 3-kinase inhibitors, sufficient to inhibit PtdIns(3,4,5)P3 accumulation, also inhibited chemotaxis of Jurkat and peripheral blood-derived T lymphocytes in response to SDF-1. In contrast, SDF-1-stimulated actin polymerization was only partially inhibited by PI 3-kinase inhibitors, suggesting that while chemotaxis is fully dependent on PI 3-kinase activation, actin polymerization requires additional biochemical inputs. Finally, SDF-1-stimulated extracellular signal-related kinase (ERK)-1/2 mitogen-activated protein kinase activation was inhibited by PI 3-kinase inhibitors. In addition, the mitogen-activated protein/ERK kinase inhibitor PD098059 partially attenuated chemotaxis in response to SDF-1. Hence, it appears that ERK1/2 activation is dependent on PI 3-kinase activation, and both biochemical events are involved in the regulation of SDF-1-stimulated chemotaxis.\n",
      "\n",
      "generated_summary\n",
      "\n",
      "loss: 1.5912739038467407\n",
      "\n",
      "loss: 1.5977134704589844\n",
      "\n",
      "loss: 1.1391417980194092\n",
      "\n",
      "loss: 2.1854262351989746\n",
      "\n",
      "loss: 0.872420072555542\n",
      "\n",
      "loss: 0.8708746433258057\n",
      "\n",
      "loss: 0.9547855854034424\n",
      "\n",
      "loss: 0.424239844083786\n",
      "\n",
      "loss: 1.006553053855896\n",
      "\n",
      "loss: 2.0054898262023926\n",
      "\n"
     ]
    },
    {
     "data": {
      "application/vnd.jupyter.widget-view+json": {
       "model_id": "8e8eeacc72164145ad26824acbabec6e",
       "version_major": 2,
       "version_minor": 0
      },
      "text/plain": [
       "Evaluating:   0%|          | 0/500 [00:00<?, ?it/s]"
      ]
     },
     "metadata": {},
     "output_type": "display_data"
    },
    {
     "name": "stdout",
     "output_type": "stream",
     "text": [
      "perplexity: 7.442115783691406\n",
      "After 701 updates: \n",
      "\n"
     ]
    },
    {
     "data": {
      "application/vnd.jupyter.widget-view+json": {
       "model_id": "c16ea5f52a324b2fb780cad770c8b225",
       "version_major": 2,
       "version_minor": 0
      },
      "text/plain": [
       "  0%|          | 0/100 [00:00<?, ?it/s]"
      ]
     },
     "metadata": {},
     "output_type": "display_data"
    },
    {
     "name": "stdout",
     "output_type": "stream",
     "text": [
      "We report the cDNA deduced primary structure of a wheat germ agglutinin-reactive nuclear pore complex (NPC) protein of rat. The protein, termed Nup98 (for nucleoporin of 98 kDa), contains numerous GLFG and FG repeats and some FXFG repeats and is thus a vertebrate member of a family of GLFG nucleoporins that were previously discovered in yeast. Immunoelectron microscopy showed Nup98 to be asymmetrically located at the nucleoplasmic side of the NPC. Nup98 functions as one of several docking site nucleoporins in a cytosolic docking activity-mediated binding of a model transport substrate. The docking site of Nup98 was mapped to its N-terminal half, which contains all of the peptide repeats. A recombinant segment of this region depleted the docking activity of cytosol. We suggest that the peptide repeat domain of Nup98, together with peptide repeat domains of other nucleoporins, forms an array of sites for mediated docking of transport substrate, and that bidirectional transport across the NPC proceeds by repeated docking and undocking reactions.\n",
      "\n",
      "generated_summary\n",
      "\n"
     ]
    },
    {
     "data": {
      "application/vnd.jupyter.widget-view+json": {
       "model_id": "1970a99e48cf47d0a86e51130de1b1d1",
       "version_major": 2,
       "version_minor": 0
      },
      "text/plain": [
       "  0%|          | 0/100 [00:00<?, ?it/s]"
      ]
     },
     "metadata": {},
     "output_type": "display_data"
    },
    {
     "name": "stdout",
     "output_type": "stream",
     "text": [
      "The cellular effects of stromal cell-derived factor-1 (SDF-1) are mediated primarily by binding to the CXC chemokine receptor-4. We report in this study that SDF-1 and its peptide analogues induce a concentration- and time-dependent accumulation of phosphatidylinositol-(3,4,5)-trisphosphate (PtdIns(3,4,5)P3) in Jurkat cells. This SDF-1-stimulated generation of D-3 phosphoinositide lipids was inhibited by pretreatment of the cells with an SDF-1 peptide antagonist or an anti-CXCR4 Ab. In addition, the phosphoinositide 3 (PI 3)-kinase inhibitors wortmannin and LY294002, as well as the Gi protein inhibitor pertussis toxin, also inhibited the SDF-1-stimulated accumulation of PtdIns(3,4,5)P3. The effects of SDF-1 on D-3 phosphoinositide lipid accumulation correlated well with activation of the known PI 3-kinase effector protein kinase B, which was also inhibited by wortmannin and pertussis toxin. Concentrations of PI 3-kinase inhibitors, sufficient to inhibit PtdIns(3,4,5)P3 accumulation, also inhibited chemotaxis of Jurkat and peripheral blood-derived T lymphocytes in response to SDF-1. In contrast, SDF-1-stimulated actin polymerization was only partially inhibited by PI 3-kinase inhibitors, suggesting that while chemotaxis is fully dependent on PI 3-kinase activation, actin polymerization requires additional biochemical inputs. Finally, SDF-1-stimulated extracellular signal-related kinase (ERK)-1/2 mitogen-activated protein kinase activation was inhibited by PI 3-kinase inhibitors. In addition, the mitogen-activated protein/ERK kinase inhibitor PD098059 partially attenuated chemotaxis in response to SDF-1. Hence, it appears that ERK1/2 activation is dependent on PI 3-kinase activation, and both biochemical events are involved in the regulation of SDF-1-stimulated chemotaxis.\n",
      "\n",
      "generated_summary\n",
      "\n",
      "loss: 1.5819575786590576\n",
      "\n",
      "loss: 0.4337623417377472\n",
      "\n",
      "loss: 0.36342671513557434\n",
      "\n",
      "loss: 1.6051334142684937\n",
      "\n",
      "loss: 0.684618353843689\n",
      "\n",
      "loss: 1.2029129266738892\n",
      "\n",
      "loss: 0.5127024054527283\n",
      "\n",
      "loss: 0.9750106334686279\n",
      "\n",
      "loss: 1.9151792526245117\n",
      "\n",
      "loss: 1.312003493309021\n",
      "\n"
     ]
    },
    {
     "data": {
      "application/vnd.jupyter.widget-view+json": {
       "model_id": "58fc6060a61f4e0db9ed30d8369e6464",
       "version_major": 2,
       "version_minor": 0
      },
      "text/plain": [
       "Evaluating:   0%|          | 0/500 [00:00<?, ?it/s]"
      ]
     },
     "metadata": {},
     "output_type": "display_data"
    },
    {
     "name": "stdout",
     "output_type": "stream",
     "text": [
      "perplexity: 7.587438106536865\n",
      "After 711 updates: \n",
      "\n"
     ]
    },
    {
     "data": {
      "application/vnd.jupyter.widget-view+json": {
       "model_id": "cdf64fae665f4e1e899487ffbd1eb984",
       "version_major": 2,
       "version_minor": 0
      },
      "text/plain": [
       "  0%|          | 0/100 [00:00<?, ?it/s]"
      ]
     },
     "metadata": {},
     "output_type": "display_data"
    },
    {
     "name": "stdout",
     "output_type": "stream",
     "text": [
      "We report the cDNA deduced primary structure of a wheat germ agglutinin-reactive nuclear pore complex (NPC) protein of rat. The protein, termed Nup98 (for nucleoporin of 98 kDa), contains numerous GLFG and FG repeats and some FXFG repeats and is thus a vertebrate member of a family of GLFG nucleoporins that were previously discovered in yeast. Immunoelectron microscopy showed Nup98 to be asymmetrically located at the nucleoplasmic side of the NPC. Nup98 functions as one of several docking site nucleoporins in a cytosolic docking activity-mediated binding of a model transport substrate. The docking site of Nup98 was mapped to its N-terminal half, which contains all of the peptide repeats. A recombinant segment of this region depleted the docking activity of cytosol. We suggest that the peptide repeat domain of Nup98, together with peptide repeat domains of other nucleoporins, forms an array of sites for mediated docking of transport substrate, and that bidirectional transport across the NPC proceeds by repeated docking and undocking reactions.\n",
      "\n",
      "generated_summary\n",
      "\n"
     ]
    },
    {
     "data": {
      "application/vnd.jupyter.widget-view+json": {
       "model_id": "0ba15dd2321044958288e8ca5ec773d8",
       "version_major": 2,
       "version_minor": 0
      },
      "text/plain": [
       "  0%|          | 0/100 [00:00<?, ?it/s]"
      ]
     },
     "metadata": {},
     "output_type": "display_data"
    },
    {
     "name": "stdout",
     "output_type": "stream",
     "text": [
      "The cellular effects of stromal cell-derived factor-1 (SDF-1) are mediated primarily by binding to the CXC chemokine receptor-4. We report in this study that SDF-1 and its peptide analogues induce a concentration- and time-dependent accumulation of phosphatidylinositol-(3,4,5)-trisphosphate (PtdIns(3,4,5)P3) in Jurkat cells. This SDF-1-stimulated generation of D-3 phosphoinositide lipids was inhibited by pretreatment of the cells with an SDF-1 peptide antagonist or an anti-CXCR4 Ab. In addition, the phosphoinositide 3 (PI 3)-kinase inhibitors wortmannin and LY294002, as well as the Gi protein inhibitor pertussis toxin, also inhibited the SDF-1-stimulated accumulation of PtdIns(3,4,5)P3. The effects of SDF-1 on D-3 phosphoinositide lipid accumulation correlated well with activation of the known PI 3-kinase effector protein kinase B, which was also inhibited by wortmannin and pertussis toxin. Concentrations of PI 3-kinase inhibitors, sufficient to inhibit PtdIns(3,4,5)P3 accumulation, also inhibited chemotaxis of Jurkat and peripheral blood-derived T lymphocytes in response to SDF-1. In contrast, SDF-1-stimulated actin polymerization was only partially inhibited by PI 3-kinase inhibitors, suggesting that while chemotaxis is fully dependent on PI 3-kinase activation, actin polymerization requires additional biochemical inputs. Finally, SDF-1-stimulated extracellular signal-related kinase (ERK)-1/2 mitogen-activated protein kinase activation was inhibited by PI 3-kinase inhibitors. In addition, the mitogen-activated protein/ERK kinase inhibitor PD098059 partially attenuated chemotaxis in response to SDF-1. Hence, it appears that ERK1/2 activation is dependent on PI 3-kinase activation, and both biochemical events are involved in the regulation of SDF-1-stimulated chemotaxis.\n",
      "\n",
      "generated_summary\n",
      "\n",
      "loss: 1.1659600734710693\n",
      "\n",
      "loss: 1.2663975954055786\n",
      "\n",
      "loss: 0.9512157440185547\n",
      "\n",
      "loss: 1.3657073974609375\n",
      "\n",
      "loss: 0.5935107469558716\n",
      "\n",
      "loss: 1.084862470626831\n",
      "\n",
      "loss: 1.1237895488739014\n",
      "\n",
      "loss: 0.46155497431755066\n",
      "\n",
      "loss: 0.6328985095024109\n",
      "\n",
      "loss: 1.0825166702270508\n",
      "\n"
     ]
    },
    {
     "data": {
      "application/vnd.jupyter.widget-view+json": {
       "model_id": "25e46ac3b8794f95945ef85b1453ed71",
       "version_major": 2,
       "version_minor": 0
      },
      "text/plain": [
       "Evaluating:   0%|          | 0/500 [00:00<?, ?it/s]"
      ]
     },
     "metadata": {},
     "output_type": "display_data"
    },
    {
     "name": "stdout",
     "output_type": "stream",
     "text": [
      "perplexity: 7.310798168182373\n",
      "After 721 updates: \n",
      "\n"
     ]
    },
    {
     "data": {
      "application/vnd.jupyter.widget-view+json": {
       "model_id": "24dcf7f6eb334fcf92749c05ac09df3d",
       "version_major": 2,
       "version_minor": 0
      },
      "text/plain": [
       "  0%|          | 0/100 [00:00<?, ?it/s]"
      ]
     },
     "metadata": {},
     "output_type": "display_data"
    },
    {
     "name": "stdout",
     "output_type": "stream",
     "text": [
      "We report the cDNA deduced primary structure of a wheat germ agglutinin-reactive nuclear pore complex (NPC) protein of rat. The protein, termed Nup98 (for nucleoporin of 98 kDa), contains numerous GLFG and FG repeats and some FXFG repeats and is thus a vertebrate member of a family of GLFG nucleoporins that were previously discovered in yeast. Immunoelectron microscopy showed Nup98 to be asymmetrically located at the nucleoplasmic side of the NPC. Nup98 functions as one of several docking site nucleoporins in a cytosolic docking activity-mediated binding of a model transport substrate. The docking site of Nup98 was mapped to its N-terminal half, which contains all of the peptide repeats. A recombinant segment of this region depleted the docking activity of cytosol. We suggest that the peptide repeat domain of Nup98, together with peptide repeat domains of other nucleoporins, forms an array of sites for mediated docking of transport substrate, and that bidirectional transport across the NPC proceeds by repeated docking and undocking reactions.\n",
      "\n",
      "generated_summary\n",
      "\n"
     ]
    },
    {
     "data": {
      "application/vnd.jupyter.widget-view+json": {
       "model_id": "54b11073d8de4c04a79d118fca090c92",
       "version_major": 2,
       "version_minor": 0
      },
      "text/plain": [
       "  0%|          | 0/100 [00:00<?, ?it/s]"
      ]
     },
     "metadata": {},
     "output_type": "display_data"
    },
    {
     "name": "stdout",
     "output_type": "stream",
     "text": [
      "The cellular effects of stromal cell-derived factor-1 (SDF-1) are mediated primarily by binding to the CXC chemokine receptor-4. We report in this study that SDF-1 and its peptide analogues induce a concentration- and time-dependent accumulation of phosphatidylinositol-(3,4,5)-trisphosphate (PtdIns(3,4,5)P3) in Jurkat cells. This SDF-1-stimulated generation of D-3 phosphoinositide lipids was inhibited by pretreatment of the cells with an SDF-1 peptide antagonist or an anti-CXCR4 Ab. In addition, the phosphoinositide 3 (PI 3)-kinase inhibitors wortmannin and LY294002, as well as the Gi protein inhibitor pertussis toxin, also inhibited the SDF-1-stimulated accumulation of PtdIns(3,4,5)P3. The effects of SDF-1 on D-3 phosphoinositide lipid accumulation correlated well with activation of the known PI 3-kinase effector protein kinase B, which was also inhibited by wortmannin and pertussis toxin. Concentrations of PI 3-kinase inhibitors, sufficient to inhibit PtdIns(3,4,5)P3 accumulation, also inhibited chemotaxis of Jurkat and peripheral blood-derived T lymphocytes in response to SDF-1. In contrast, SDF-1-stimulated actin polymerization was only partially inhibited by PI 3-kinase inhibitors, suggesting that while chemotaxis is fully dependent on PI 3-kinase activation, actin polymerization requires additional biochemical inputs. Finally, SDF-1-stimulated extracellular signal-related kinase (ERK)-1/2 mitogen-activated protein kinase activation was inhibited by PI 3-kinase inhibitors. In addition, the mitogen-activated protein/ERK kinase inhibitor PD098059 partially attenuated chemotaxis in response to SDF-1. Hence, it appears that ERK1/2 activation is dependent on PI 3-kinase activation, and both biochemical events are involved in the regulation of SDF-1-stimulated chemotaxis.\n",
      "\n",
      "generated_summary\n",
      "\n",
      "loss: 1.6498768329620361\n",
      "\n",
      "loss: 0.7258392572402954\n",
      "\n",
      "loss: 1.6779358386993408\n",
      "\n",
      "loss: 1.0066241025924683\n",
      "\n",
      "loss: 1.4576680660247803\n",
      "\n",
      "loss: 1.012757420539856\n",
      "\n",
      "loss: 0.7537036538124084\n",
      "\n",
      "loss: 0.9799105525016785\n",
      "\n",
      "loss: 0.47615954279899597\n",
      "\n",
      "loss: 1.1881955862045288\n",
      "\n"
     ]
    },
    {
     "data": {
      "application/vnd.jupyter.widget-view+json": {
       "model_id": "bfd57fa6f16640ada4d9a624e9a02b2f",
       "version_major": 2,
       "version_minor": 0
      },
      "text/plain": [
       "Evaluating:   0%|          | 0/500 [00:00<?, ?it/s]"
      ]
     },
     "metadata": {},
     "output_type": "display_data"
    },
    {
     "name": "stdout",
     "output_type": "stream",
     "text": [
      "perplexity: 6.98919153213501\n",
      "After 731 updates: \n",
      "\n"
     ]
    },
    {
     "data": {
      "application/vnd.jupyter.widget-view+json": {
       "model_id": "882b1056e4a744859baf901e4cbe7279",
       "version_major": 2,
       "version_minor": 0
      },
      "text/plain": [
       "  0%|          | 0/100 [00:00<?, ?it/s]"
      ]
     },
     "metadata": {},
     "output_type": "display_data"
    },
    {
     "name": "stdout",
     "output_type": "stream",
     "text": [
      "We report the cDNA deduced primary structure of a wheat germ agglutinin-reactive nuclear pore complex (NPC) protein of rat. The protein, termed Nup98 (for nucleoporin of 98 kDa), contains numerous GLFG and FG repeats and some FXFG repeats and is thus a vertebrate member of a family of GLFG nucleoporins that were previously discovered in yeast. Immunoelectron microscopy showed Nup98 to be asymmetrically located at the nucleoplasmic side of the NPC. Nup98 functions as one of several docking site nucleoporins in a cytosolic docking activity-mediated binding of a model transport substrate. The docking site of Nup98 was mapped to its N-terminal half, which contains all of the peptide repeats. A recombinant segment of this region depleted the docking activity of cytosol. We suggest that the peptide repeat domain of Nup98, together with peptide repeat domains of other nucleoporins, forms an array of sites for mediated docking of transport substrate, and that bidirectional transport across the NPC proceeds by repeated docking and undocking reactions.\n",
      "\n",
      "generated_summary\n",
      "\n"
     ]
    },
    {
     "data": {
      "application/vnd.jupyter.widget-view+json": {
       "model_id": "a5d1d550181d4ba099f766f0bd244812",
       "version_major": 2,
       "version_minor": 0
      },
      "text/plain": [
       "  0%|          | 0/100 [00:00<?, ?it/s]"
      ]
     },
     "metadata": {},
     "output_type": "display_data"
    },
    {
     "name": "stdout",
     "output_type": "stream",
     "text": [
      "The cellular effects of stromal cell-derived factor-1 (SDF-1) are mediated primarily by binding to the CXC chemokine receptor-4. We report in this study that SDF-1 and its peptide analogues induce a concentration- and time-dependent accumulation of phosphatidylinositol-(3,4,5)-trisphosphate (PtdIns(3,4,5)P3) in Jurkat cells. This SDF-1-stimulated generation of D-3 phosphoinositide lipids was inhibited by pretreatment of the cells with an SDF-1 peptide antagonist or an anti-CXCR4 Ab. In addition, the phosphoinositide 3 (PI 3)-kinase inhibitors wortmannin and LY294002, as well as the Gi protein inhibitor pertussis toxin, also inhibited the SDF-1-stimulated accumulation of PtdIns(3,4,5)P3. The effects of SDF-1 on D-3 phosphoinositide lipid accumulation correlated well with activation of the known PI 3-kinase effector protein kinase B, which was also inhibited by wortmannin and pertussis toxin. Concentrations of PI 3-kinase inhibitors, sufficient to inhibit PtdIns(3,4,5)P3 accumulation, also inhibited chemotaxis of Jurkat and peripheral blood-derived T lymphocytes in response to SDF-1. In contrast, SDF-1-stimulated actin polymerization was only partially inhibited by PI 3-kinase inhibitors, suggesting that while chemotaxis is fully dependent on PI 3-kinase activation, actin polymerization requires additional biochemical inputs. Finally, SDF-1-stimulated extracellular signal-related kinase (ERK)-1/2 mitogen-activated protein kinase activation was inhibited by PI 3-kinase inhibitors. In addition, the mitogen-activated protein/ERK kinase inhibitor PD098059 partially attenuated chemotaxis in response to SDF-1. Hence, it appears that ERK1/2 activation is dependent on PI 3-kinase activation, and both biochemical events are involved in the regulation of SDF-1-stimulated chemotaxis.\n",
      "\n",
      "generated_summary\n",
      "\n",
      "loss: 0.8370749354362488\n",
      "\n",
      "loss: 1.5921329259872437\n",
      "\n",
      "loss: 1.2717063426971436\n",
      "\n",
      "loss: 0.6497640609741211\n",
      "\n",
      "loss: 0.8101081848144531\n",
      "\n",
      "loss: 1.958098292350769\n",
      "\n",
      "loss: 0.3413199186325073\n",
      "\n",
      "loss: 0.7755091786384583\n",
      "\n",
      "loss: 1.5648787021636963\n",
      "\n",
      "loss: 0.9896976351737976\n",
      "\n"
     ]
    },
    {
     "data": {
      "application/vnd.jupyter.widget-view+json": {
       "model_id": "5d7a491d65ea4e1e94c92d6f38dd2a9b",
       "version_major": 2,
       "version_minor": 0
      },
      "text/plain": [
       "Evaluating:   0%|          | 0/500 [00:00<?, ?it/s]"
      ]
     },
     "metadata": {},
     "output_type": "display_data"
    },
    {
     "name": "stdout",
     "output_type": "stream",
     "text": [
      "perplexity: 7.0216145515441895\n",
      "After 741 updates: \n",
      "\n"
     ]
    },
    {
     "data": {
      "application/vnd.jupyter.widget-view+json": {
       "model_id": "bd17c1bf302e471c8be3496744be7b1f",
       "version_major": 2,
       "version_minor": 0
      },
      "text/plain": [
       "  0%|          | 0/100 [00:00<?, ?it/s]"
      ]
     },
     "metadata": {},
     "output_type": "display_data"
    },
    {
     "name": "stdout",
     "output_type": "stream",
     "text": [
      "We report the cDNA deduced primary structure of a wheat germ agglutinin-reactive nuclear pore complex (NPC) protein of rat. The protein, termed Nup98 (for nucleoporin of 98 kDa), contains numerous GLFG and FG repeats and some FXFG repeats and is thus a vertebrate member of a family of GLFG nucleoporins that were previously discovered in yeast. Immunoelectron microscopy showed Nup98 to be asymmetrically located at the nucleoplasmic side of the NPC. Nup98 functions as one of several docking site nucleoporins in a cytosolic docking activity-mediated binding of a model transport substrate. The docking site of Nup98 was mapped to its N-terminal half, which contains all of the peptide repeats. A recombinant segment of this region depleted the docking activity of cytosol. We suggest that the peptide repeat domain of Nup98, together with peptide repeat domains of other nucleoporins, forms an array of sites for mediated docking of transport substrate, and that bidirectional transport across the NPC proceeds by repeated docking and undocking reactions.\n",
      "\n",
      "generated_summary\n",
      "\n"
     ]
    },
    {
     "data": {
      "application/vnd.jupyter.widget-view+json": {
       "model_id": "6e5ad16b71e14dc29d40622d74805a85",
       "version_major": 2,
       "version_minor": 0
      },
      "text/plain": [
       "  0%|          | 0/100 [00:00<?, ?it/s]"
      ]
     },
     "metadata": {},
     "output_type": "display_data"
    },
    {
     "name": "stdout",
     "output_type": "stream",
     "text": [
      "The cellular effects of stromal cell-derived factor-1 (SDF-1) are mediated primarily by binding to the CXC chemokine receptor-4. We report in this study that SDF-1 and its peptide analogues induce a concentration- and time-dependent accumulation of phosphatidylinositol-(3,4,5)-trisphosphate (PtdIns(3,4,5)P3) in Jurkat cells. This SDF-1-stimulated generation of D-3 phosphoinositide lipids was inhibited by pretreatment of the cells with an SDF-1 peptide antagonist or an anti-CXCR4 Ab. In addition, the phosphoinositide 3 (PI 3)-kinase inhibitors wortmannin and LY294002, as well as the Gi protein inhibitor pertussis toxin, also inhibited the SDF-1-stimulated accumulation of PtdIns(3,4,5)P3. The effects of SDF-1 on D-3 phosphoinositide lipid accumulation correlated well with activation of the known PI 3-kinase effector protein kinase B, which was also inhibited by wortmannin and pertussis toxin. Concentrations of PI 3-kinase inhibitors, sufficient to inhibit PtdIns(3,4,5)P3 accumulation, also inhibited chemotaxis of Jurkat and peripheral blood-derived T lymphocytes in response to SDF-1. In contrast, SDF-1-stimulated actin polymerization was only partially inhibited by PI 3-kinase inhibitors, suggesting that while chemotaxis is fully dependent on PI 3-kinase activation, actin polymerization requires additional biochemical inputs. Finally, SDF-1-stimulated extracellular signal-related kinase (ERK)-1/2 mitogen-activated protein kinase activation was inhibited by PI 3-kinase inhibitors. In addition, the mitogen-activated protein/ERK kinase inhibitor PD098059 partially attenuated chemotaxis in response to SDF-1. Hence, it appears that ERK1/2 activation is dependent on PI 3-kinase activation, and both biochemical events are involved in the regulation of SDF-1-stimulated chemotaxis.\n",
      "\n",
      "generated_summary\n",
      "\n",
      "loss: 0.6577621698379517\n",
      "\n",
      "loss: 0.7559902667999268\n",
      "\n",
      "loss: 0.9598148465156555\n",
      "\n",
      "loss: 0.9181762337684631\n",
      "\n",
      "loss: 0.7696528434753418\n",
      "\n",
      "loss: 1.3509150743484497\n",
      "\n",
      "loss: 0.28499680757522583\n",
      "\n",
      "loss: 0.8226113319396973\n",
      "\n",
      "loss: 0.5641111731529236\n",
      "\n",
      "loss: 1.1963647603988647\n",
      "\n"
     ]
    },
    {
     "data": {
      "application/vnd.jupyter.widget-view+json": {
       "model_id": "13deaf4267794228b5b7c300f6ac1588",
       "version_major": 2,
       "version_minor": 0
      },
      "text/plain": [
       "Evaluating:   0%|          | 0/500 [00:00<?, ?it/s]"
      ]
     },
     "metadata": {},
     "output_type": "display_data"
    },
    {
     "name": "stdout",
     "output_type": "stream",
     "text": [
      "perplexity: 6.979465484619141\n",
      "After 751 updates: \n",
      "\n"
     ]
    },
    {
     "data": {
      "application/vnd.jupyter.widget-view+json": {
       "model_id": "ba0a885606df4f1cbf245e5987f33e88",
       "version_major": 2,
       "version_minor": 0
      },
      "text/plain": [
       "  0%|          | 0/100 [00:00<?, ?it/s]"
      ]
     },
     "metadata": {},
     "output_type": "display_data"
    },
    {
     "name": "stdout",
     "output_type": "stream",
     "text": [
      "We report the cDNA deduced primary structure of a wheat germ agglutinin-reactive nuclear pore complex (NPC) protein of rat. The protein, termed Nup98 (for nucleoporin of 98 kDa), contains numerous GLFG and FG repeats and some FXFG repeats and is thus a vertebrate member of a family of GLFG nucleoporins that were previously discovered in yeast. Immunoelectron microscopy showed Nup98 to be asymmetrically located at the nucleoplasmic side of the NPC. Nup98 functions as one of several docking site nucleoporins in a cytosolic docking activity-mediated binding of a model transport substrate. The docking site of Nup98 was mapped to its N-terminal half, which contains all of the peptide repeats. A recombinant segment of this region depleted the docking activity of cytosol. We suggest that the peptide repeat domain of Nup98, together with peptide repeat domains of other nucleoporins, forms an array of sites for mediated docking of transport substrate, and that bidirectional transport across the NPC proceeds by repeated docking and undocking reactions.\n",
      "\n",
      "generated_summary\n",
      "\n"
     ]
    },
    {
     "data": {
      "application/vnd.jupyter.widget-view+json": {
       "model_id": "262f5190dc7f4f9ba66e92ee33ad36fb",
       "version_major": 2,
       "version_minor": 0
      },
      "text/plain": [
       "  0%|          | 0/100 [00:00<?, ?it/s]"
      ]
     },
     "metadata": {},
     "output_type": "display_data"
    },
    {
     "name": "stdout",
     "output_type": "stream",
     "text": [
      "The cellular effects of stromal cell-derived factor-1 (SDF-1) are mediated primarily by binding to the CXC chemokine receptor-4. We report in this study that SDF-1 and its peptide analogues induce a concentration- and time-dependent accumulation of phosphatidylinositol-(3,4,5)-trisphosphate (PtdIns(3,4,5)P3) in Jurkat cells. This SDF-1-stimulated generation of D-3 phosphoinositide lipids was inhibited by pretreatment of the cells with an SDF-1 peptide antagonist or an anti-CXCR4 Ab. In addition, the phosphoinositide 3 (PI 3)-kinase inhibitors wortmannin and LY294002, as well as the Gi protein inhibitor pertussis toxin, also inhibited the SDF-1-stimulated accumulation of PtdIns(3,4,5)P3. The effects of SDF-1 on D-3 phosphoinositide lipid accumulation correlated well with activation of the known PI 3-kinase effector protein kinase B, which was also inhibited by wortmannin and pertussis toxin. Concentrations of PI 3-kinase inhibitors, sufficient to inhibit PtdIns(3,4,5)P3 accumulation, also inhibited chemotaxis of Jurkat and peripheral blood-derived T lymphocytes in response to SDF-1. In contrast, SDF-1-stimulated actin polymerization was only partially inhibited by PI 3-kinase inhibitors, suggesting that while chemotaxis is fully dependent on PI 3-kinase activation, actin polymerization requires additional biochemical inputs. Finally, SDF-1-stimulated extracellular signal-related kinase (ERK)-1/2 mitogen-activated protein kinase activation was inhibited by PI 3-kinase inhibitors. In addition, the mitogen-activated protein/ERK kinase inhibitor PD098059 partially attenuated chemotaxis in response to SDF-1. Hence, it appears that ERK1/2 activation is dependent on PI 3-kinase activation, and both biochemical events are involved in the regulation of SDF-1-stimulated chemotaxis.\n",
      "\n",
      "generated_summary\n",
      "\n",
      "loss: 1.0928893089294434\n",
      "\n",
      "loss: 1.208873987197876\n",
      "\n",
      "loss: 0.9736284017562866\n",
      "\n",
      "loss: 0.8253437280654907\n",
      "\n",
      "loss: 1.2385499477386475\n",
      "\n",
      "loss: 1.2023887634277344\n",
      "\n",
      "loss: 0.8991160988807678\n",
      "\n",
      "loss: 0.4628415107727051\n",
      "\n",
      "loss: 0.844379186630249\n",
      "\n",
      "loss: 0.49602922797203064\n",
      "\n"
     ]
    },
    {
     "data": {
      "application/vnd.jupyter.widget-view+json": {
       "model_id": "7fbfe05ff4bf4fcabfbab49b64c7d881",
       "version_major": 2,
       "version_minor": 0
      },
      "text/plain": [
       "Evaluating:   0%|          | 0/500 [00:00<?, ?it/s]"
      ]
     },
     "metadata": {},
     "output_type": "display_data"
    },
    {
     "name": "stdout",
     "output_type": "stream",
     "text": [
      "perplexity: 7.221167087554932\n",
      "After 761 updates: \n",
      "\n"
     ]
    },
    {
     "data": {
      "application/vnd.jupyter.widget-view+json": {
       "model_id": "b094dc6599c941a9866a4400bc486c2b",
       "version_major": 2,
       "version_minor": 0
      },
      "text/plain": [
       "  0%|          | 0/100 [00:00<?, ?it/s]"
      ]
     },
     "metadata": {},
     "output_type": "display_data"
    },
    {
     "name": "stdout",
     "output_type": "stream",
     "text": [
      "We report the cDNA deduced primary structure of a wheat germ agglutinin-reactive nuclear pore complex (NPC) protein of rat. The protein, termed Nup98 (for nucleoporin of 98 kDa), contains numerous GLFG and FG repeats and some FXFG repeats and is thus a vertebrate member of a family of GLFG nucleoporins that were previously discovered in yeast. Immunoelectron microscopy showed Nup98 to be asymmetrically located at the nucleoplasmic side of the NPC. Nup98 functions as one of several docking site nucleoporins in a cytosolic docking activity-mediated binding of a model transport substrate. The docking site of Nup98 was mapped to its N-terminal half, which contains all of the peptide repeats. A recombinant segment of this region depleted the docking activity of cytosol. We suggest that the peptide repeat domain of Nup98, together with peptide repeat domains of other nucleoporins, forms an array of sites for mediated docking of transport substrate, and that bidirectional transport across the NPC proceeds by repeated docking and undocking reactions.\n",
      "\n",
      "generated_summary\n",
      "\n"
     ]
    },
    {
     "data": {
      "application/vnd.jupyter.widget-view+json": {
       "model_id": "2b644adbc14f4d4c916a3aa47b5c985e",
       "version_major": 2,
       "version_minor": 0
      },
      "text/plain": [
       "  0%|          | 0/100 [00:00<?, ?it/s]"
      ]
     },
     "metadata": {},
     "output_type": "display_data"
    },
    {
     "name": "stdout",
     "output_type": "stream",
     "text": [
      "The cellular effects of stromal cell-derived factor-1 (SDF-1) are mediated primarily by binding to the CXC chemokine receptor-4. We report in this study that SDF-1 and its peptide analogues induce a concentration- and time-dependent accumulation of phosphatidylinositol-(3,4,5)-trisphosphate (PtdIns(3,4,5)P3) in Jurkat cells. This SDF-1-stimulated generation of D-3 phosphoinositide lipids was inhibited by pretreatment of the cells with an SDF-1 peptide antagonist or an anti-CXCR4 Ab. In addition, the phosphoinositide 3 (PI 3)-kinase inhibitors wortmannin and LY294002, as well as the Gi protein inhibitor pertussis toxin, also inhibited the SDF-1-stimulated accumulation of PtdIns(3,4,5)P3. The effects of SDF-1 on D-3 phosphoinositide lipid accumulation correlated well with activation of the known PI 3-kinase effector protein kinase B, which was also inhibited by wortmannin and pertussis toxin. Concentrations of PI 3-kinase inhibitors, sufficient to inhibit PtdIns(3,4,5)P3 accumulation, also inhibited chemotaxis of Jurkat and peripheral blood-derived T lymphocytes in response to SDF-1. In contrast, SDF-1-stimulated actin polymerization was only partially inhibited by PI 3-kinase inhibitors, suggesting that while chemotaxis is fully dependent on PI 3-kinase activation, actin polymerization requires additional biochemical inputs. Finally, SDF-1-stimulated extracellular signal-related kinase (ERK)-1/2 mitogen-activated protein kinase activation was inhibited by PI 3-kinase inhibitors. In addition, the mitogen-activated protein/ERK kinase inhibitor PD098059 partially attenuated chemotaxis in response to SDF-1. Hence, it appears that ERK1/2 activation is dependent on PI 3-kinase activation, and both biochemical events are involved in the regulation of SDF-1-stimulated chemotaxis.\n",
      "\n",
      "generated_summary\n",
      "\n",
      "loss: 1.172046422958374\n",
      "\n",
      "loss: 0.730135440826416\n",
      "\n",
      "loss: 0.5727475881576538\n",
      "\n",
      "loss: 1.477034330368042\n",
      "\n",
      "loss: 1.5746568441390991\n",
      "\n",
      "loss: 1.134902000427246\n",
      "\n",
      "loss: 1.2785253524780273\n",
      "\n",
      "loss: 0.9111794233322144\n",
      "\n",
      "loss: 0.7852087616920471\n",
      "\n",
      "loss: 0.689689576625824\n",
      "\n"
     ]
    },
    {
     "data": {
      "application/vnd.jupyter.widget-view+json": {
       "model_id": "9bf640e4442e465a8749cbc85d496340",
       "version_major": 2,
       "version_minor": 0
      },
      "text/plain": [
       "Evaluating:   0%|          | 0/500 [00:00<?, ?it/s]"
      ]
     },
     "metadata": {},
     "output_type": "display_data"
    },
    {
     "name": "stdout",
     "output_type": "stream",
     "text": [
      "perplexity: 7.066380977630615\n",
      "After 771 updates: \n",
      "\n"
     ]
    },
    {
     "data": {
      "application/vnd.jupyter.widget-view+json": {
       "model_id": "25e6c0f058ce4d49bd4322b958543873",
       "version_major": 2,
       "version_minor": 0
      },
      "text/plain": [
       "  0%|          | 0/100 [00:00<?, ?it/s]"
      ]
     },
     "metadata": {},
     "output_type": "display_data"
    },
    {
     "name": "stdout",
     "output_type": "stream",
     "text": [
      "We report the cDNA deduced primary structure of a wheat germ agglutinin-reactive nuclear pore complex (NPC) protein of rat. The protein, termed Nup98 (for nucleoporin of 98 kDa), contains numerous GLFG and FG repeats and some FXFG repeats and is thus a vertebrate member of a family of GLFG nucleoporins that were previously discovered in yeast. Immunoelectron microscopy showed Nup98 to be asymmetrically located at the nucleoplasmic side of the NPC. Nup98 functions as one of several docking site nucleoporins in a cytosolic docking activity-mediated binding of a model transport substrate. The docking site of Nup98 was mapped to its N-terminal half, which contains all of the peptide repeats. A recombinant segment of this region depleted the docking activity of cytosol. We suggest that the peptide repeat domain of Nup98, together with peptide repeat domains of other nucleoporins, forms an array of sites for mediated docking of transport substrate, and that bidirectional transport across the NPC proceeds by repeated docking and undocking reactions.\n",
      "\n",
      "generated_summary\n",
      "\n"
     ]
    },
    {
     "data": {
      "application/vnd.jupyter.widget-view+json": {
       "model_id": "d598c70fddcb4316837e32db7d96412d",
       "version_major": 2,
       "version_minor": 0
      },
      "text/plain": [
       "  0%|          | 0/100 [00:00<?, ?it/s]"
      ]
     },
     "metadata": {},
     "output_type": "display_data"
    },
    {
     "name": "stdout",
     "output_type": "stream",
     "text": [
      "The cellular effects of stromal cell-derived factor-1 (SDF-1) are mediated primarily by binding to the CXC chemokine receptor-4. We report in this study that SDF-1 and its peptide analogues induce a concentration- and time-dependent accumulation of phosphatidylinositol-(3,4,5)-trisphosphate (PtdIns(3,4,5)P3) in Jurkat cells. This SDF-1-stimulated generation of D-3 phosphoinositide lipids was inhibited by pretreatment of the cells with an SDF-1 peptide antagonist or an anti-CXCR4 Ab. In addition, the phosphoinositide 3 (PI 3)-kinase inhibitors wortmannin and LY294002, as well as the Gi protein inhibitor pertussis toxin, also inhibited the SDF-1-stimulated accumulation of PtdIns(3,4,5)P3. The effects of SDF-1 on D-3 phosphoinositide lipid accumulation correlated well with activation of the known PI 3-kinase effector protein kinase B, which was also inhibited by wortmannin and pertussis toxin. Concentrations of PI 3-kinase inhibitors, sufficient to inhibit PtdIns(3,4,5)P3 accumulation, also inhibited chemotaxis of Jurkat and peripheral blood-derived T lymphocytes in response to SDF-1. In contrast, SDF-1-stimulated actin polymerization was only partially inhibited by PI 3-kinase inhibitors, suggesting that while chemotaxis is fully dependent on PI 3-kinase activation, actin polymerization requires additional biochemical inputs. Finally, SDF-1-stimulated extracellular signal-related kinase (ERK)-1/2 mitogen-activated protein kinase activation was inhibited by PI 3-kinase inhibitors. In addition, the mitogen-activated protein/ERK kinase inhibitor PD098059 partially attenuated chemotaxis in response to SDF-1. Hence, it appears that ERK1/2 activation is dependent on PI 3-kinase activation, and both biochemical events are involved in the regulation of SDF-1-stimulated chemotaxis.\n",
      "\n",
      "generated_summary\n",
      "\n",
      "loss: 0.37365296483039856\n",
      "\n",
      "loss: 0.8306465148925781\n",
      "\n",
      "loss: 0.5285189151763916\n",
      "\n",
      "loss: 0.572550356388092\n",
      "\n",
      "loss: 1.0265008211135864\n",
      "\n",
      "loss: 0.3640054762363434\n",
      "\n",
      "loss: 0.734275758266449\n",
      "\n",
      "loss: 1.0339949131011963\n",
      "\n",
      "loss: 0.9425303936004639\n",
      "\n",
      "loss: 1.0242828130722046\n",
      "\n"
     ]
    },
    {
     "data": {
      "application/vnd.jupyter.widget-view+json": {
       "model_id": "78129322cee448d5be9252375e1a93de",
       "version_major": 2,
       "version_minor": 0
      },
      "text/plain": [
       "Evaluating:   0%|          | 0/500 [00:00<?, ?it/s]"
      ]
     },
     "metadata": {},
     "output_type": "display_data"
    },
    {
     "name": "stdout",
     "output_type": "stream",
     "text": [
      "perplexity: 7.181828498840332\n",
      "After 781 updates: \n",
      "\n"
     ]
    },
    {
     "data": {
      "application/vnd.jupyter.widget-view+json": {
       "model_id": "99e9322dcaaf4f43bc8e0baf33294a4d",
       "version_major": 2,
       "version_minor": 0
      },
      "text/plain": [
       "  0%|          | 0/100 [00:00<?, ?it/s]"
      ]
     },
     "metadata": {},
     "output_type": "display_data"
    },
    {
     "name": "stdout",
     "output_type": "stream",
     "text": [
      "We report the cDNA deduced primary structure of a wheat germ agglutinin-reactive nuclear pore complex (NPC) protein of rat. The protein, termed Nup98 (for nucleoporin of 98 kDa), contains numerous GLFG and FG repeats and some FXFG repeats and is thus a vertebrate member of a family of GLFG nucleoporins that were previously discovered in yeast. Immunoelectron microscopy showed Nup98 to be asymmetrically located at the nucleoplasmic side of the NPC. Nup98 functions as one of several docking site nucleoporins in a cytosolic docking activity-mediated binding of a model transport substrate. The docking site of Nup98 was mapped to its N-terminal half, which contains all of the peptide repeats. A recombinant segment of this region depleted the docking activity of cytosol. We suggest that the peptide repeat domain of Nup98, together with peptide repeat domains of other nucleoporins, forms an array of sites for mediated docking of transport substrate, and that bidirectional transport across the NPC proceeds by repeated docking and undocking reactions.\n",
      "\n",
      "generated_summary\n",
      "\n"
     ]
    },
    {
     "data": {
      "application/vnd.jupyter.widget-view+json": {
       "model_id": "d99fb409c43c4255a90532be0e1fe362",
       "version_major": 2,
       "version_minor": 0
      },
      "text/plain": [
       "  0%|          | 0/100 [00:00<?, ?it/s]"
      ]
     },
     "metadata": {},
     "output_type": "display_data"
    },
    {
     "name": "stdout",
     "output_type": "stream",
     "text": [
      "The cellular effects of stromal cell-derived factor-1 (SDF-1) are mediated primarily by binding to the CXC chemokine receptor-4. We report in this study that SDF-1 and its peptide analogues induce a concentration- and time-dependent accumulation of phosphatidylinositol-(3,4,5)-trisphosphate (PtdIns(3,4,5)P3) in Jurkat cells. This SDF-1-stimulated generation of D-3 phosphoinositide lipids was inhibited by pretreatment of the cells with an SDF-1 peptide antagonist or an anti-CXCR4 Ab. In addition, the phosphoinositide 3 (PI 3)-kinase inhibitors wortmannin and LY294002, as well as the Gi protein inhibitor pertussis toxin, also inhibited the SDF-1-stimulated accumulation of PtdIns(3,4,5)P3. The effects of SDF-1 on D-3 phosphoinositide lipid accumulation correlated well with activation of the known PI 3-kinase effector protein kinase B, which was also inhibited by wortmannin and pertussis toxin. Concentrations of PI 3-kinase inhibitors, sufficient to inhibit PtdIns(3,4,5)P3 accumulation, also inhibited chemotaxis of Jurkat and peripheral blood-derived T lymphocytes in response to SDF-1. In contrast, SDF-1-stimulated actin polymerization was only partially inhibited by PI 3-kinase inhibitors, suggesting that while chemotaxis is fully dependent on PI 3-kinase activation, actin polymerization requires additional biochemical inputs. Finally, SDF-1-stimulated extracellular signal-related kinase (ERK)-1/2 mitogen-activated protein kinase activation was inhibited by PI 3-kinase inhibitors. In addition, the mitogen-activated protein/ERK kinase inhibitor PD098059 partially attenuated chemotaxis in response to SDF-1. Hence, it appears that ERK1/2 activation is dependent on PI 3-kinase activation, and both biochemical events are involved in the regulation of SDF-1-stimulated chemotaxis.\n",
      "\n",
      "generated_summary\n",
      "\n",
      "loss: 0.8170836567878723\n",
      "\n",
      "loss: 0.8531326055526733\n",
      "\n",
      "loss: 0.8655747175216675\n",
      "\n",
      "loss: 0.5482372045516968\n",
      "\n",
      "loss: 0.8345957398414612\n",
      "\n",
      "loss: 1.4489963054656982\n",
      "\n",
      "loss: 0.4281701147556305\n",
      "\n",
      "loss: 0.8791331052780151\n",
      "\n",
      "loss: 1.1935523748397827\n",
      "\n",
      "loss: 0.7358899116516113\n",
      "\n"
     ]
    },
    {
     "data": {
      "application/vnd.jupyter.widget-view+json": {
       "model_id": "b6d9aac7e06140f3abdb0a60caadfe79",
       "version_major": 2,
       "version_minor": 0
      },
      "text/plain": [
       "Evaluating:   0%|          | 0/500 [00:00<?, ?it/s]"
      ]
     },
     "metadata": {},
     "output_type": "display_data"
    },
    {
     "name": "stdout",
     "output_type": "stream",
     "text": [
      "perplexity: 7.262446880340576\n",
      "After 791 updates: \n",
      "\n"
     ]
    },
    {
     "data": {
      "application/vnd.jupyter.widget-view+json": {
       "model_id": "9d5e2c0fd27c4c1492956a46ac57c2d6",
       "version_major": 2,
       "version_minor": 0
      },
      "text/plain": [
       "  0%|          | 0/100 [00:00<?, ?it/s]"
      ]
     },
     "metadata": {},
     "output_type": "display_data"
    },
    {
     "name": "stdout",
     "output_type": "stream",
     "text": [
      "We report the cDNA deduced primary structure of a wheat germ agglutinin-reactive nuclear pore complex (NPC) protein of rat. The protein, termed Nup98 (for nucleoporin of 98 kDa), contains numerous GLFG and FG repeats and some FXFG repeats and is thus a vertebrate member of a family of GLFG nucleoporins that were previously discovered in yeast. Immunoelectron microscopy showed Nup98 to be asymmetrically located at the nucleoplasmic side of the NPC. Nup98 functions as one of several docking site nucleoporins in a cytosolic docking activity-mediated binding of a model transport substrate. The docking site of Nup98 was mapped to its N-terminal half, which contains all of the peptide repeats. A recombinant segment of this region depleted the docking activity of cytosol. We suggest that the peptide repeat domain of Nup98, together with peptide repeat domains of other nucleoporins, forms an array of sites for mediated docking of transport substrate, and that bidirectional transport across the NPC proceeds by repeated docking and undocking reactions.\n",
      "\n",
      "generated_summary\n",
      "\n"
     ]
    },
    {
     "data": {
      "application/vnd.jupyter.widget-view+json": {
       "model_id": "c6426518cb714aa887682a8c75d95304",
       "version_major": 2,
       "version_minor": 0
      },
      "text/plain": [
       "  0%|          | 0/100 [00:00<?, ?it/s]"
      ]
     },
     "metadata": {},
     "output_type": "display_data"
    },
    {
     "name": "stdout",
     "output_type": "stream",
     "text": [
      "The cellular effects of stromal cell-derived factor-1 (SDF-1) are mediated primarily by binding to the CXC chemokine receptor-4. We report in this study that SDF-1 and its peptide analogues induce a concentration- and time-dependent accumulation of phosphatidylinositol-(3,4,5)-trisphosphate (PtdIns(3,4,5)P3) in Jurkat cells. This SDF-1-stimulated generation of D-3 phosphoinositide lipids was inhibited by pretreatment of the cells with an SDF-1 peptide antagonist or an anti-CXCR4 Ab. In addition, the phosphoinositide 3 (PI 3)-kinase inhibitors wortmannin and LY294002, as well as the Gi protein inhibitor pertussis toxin, also inhibited the SDF-1-stimulated accumulation of PtdIns(3,4,5)P3. The effects of SDF-1 on D-3 phosphoinositide lipid accumulation correlated well with activation of the known PI 3-kinase effector protein kinase B, which was also inhibited by wortmannin and pertussis toxin. Concentrations of PI 3-kinase inhibitors, sufficient to inhibit PtdIns(3,4,5)P3 accumulation, also inhibited chemotaxis of Jurkat and peripheral blood-derived T lymphocytes in response to SDF-1. In contrast, SDF-1-stimulated actin polymerization was only partially inhibited by PI 3-kinase inhibitors, suggesting that while chemotaxis is fully dependent on PI 3-kinase activation, actin polymerization requires additional biochemical inputs. Finally, SDF-1-stimulated extracellular signal-related kinase (ERK)-1/2 mitogen-activated protein kinase activation was inhibited by PI 3-kinase inhibitors. In addition, the mitogen-activated protein/ERK kinase inhibitor PD098059 partially attenuated chemotaxis in response to SDF-1. Hence, it appears that ERK1/2 activation is dependent on PI 3-kinase activation, and both biochemical events are involved in the regulation of SDF-1-stimulated chemotaxis.\n",
      "\n",
      "generated_summary\n",
      "\n",
      "loss: 0.806709885597229\n",
      "\n",
      "loss: 1.1383812427520752\n",
      "\n",
      "loss: 1.0140721797943115\n",
      "\n",
      "loss: 1.5020567178726196\n",
      "\n",
      "loss: 1.8945045471191406\n",
      "\n",
      "loss: 1.0898083448410034\n",
      "\n",
      "loss: 0.7713510990142822\n",
      "\n",
      "loss: 1.3746721744537354\n",
      "\n",
      "loss: 1.3131072521209717\n",
      "\n",
      "loss: 1.0123791694641113\n",
      "\n"
     ]
    },
    {
     "data": {
      "application/vnd.jupyter.widget-view+json": {
       "model_id": "7e81ada501e64113987c8e0304f7ea3b",
       "version_major": 2,
       "version_minor": 0
      },
      "text/plain": [
       "Evaluating:   0%|          | 0/500 [00:00<?, ?it/s]"
      ]
     },
     "metadata": {},
     "output_type": "display_data"
    },
    {
     "name": "stdout",
     "output_type": "stream",
     "text": [
      "perplexity: 6.5557427406311035\n",
      "After 801 updates: \n",
      "\n"
     ]
    },
    {
     "data": {
      "application/vnd.jupyter.widget-view+json": {
       "model_id": "456435857bd44109a6338567d283eee3",
       "version_major": 2,
       "version_minor": 0
      },
      "text/plain": [
       "  0%|          | 0/100 [00:00<?, ?it/s]"
      ]
     },
     "metadata": {},
     "output_type": "display_data"
    },
    {
     "name": "stdout",
     "output_type": "stream",
     "text": [
      "We report the cDNA deduced primary structure of a wheat germ agglutinin-reactive nuclear pore complex (NPC) protein of rat. The protein, termed Nup98 (for nucleoporin of 98 kDa), contains numerous GLFG and FG repeats and some FXFG repeats and is thus a vertebrate member of a family of GLFG nucleoporins that were previously discovered in yeast. Immunoelectron microscopy showed Nup98 to be asymmetrically located at the nucleoplasmic side of the NPC. Nup98 functions as one of several docking site nucleoporins in a cytosolic docking activity-mediated binding of a model transport substrate. The docking site of Nup98 was mapped to its N-terminal half, which contains all of the peptide repeats. A recombinant segment of this region depleted the docking activity of cytosol. We suggest that the peptide repeat domain of Nup98, together with peptide repeat domains of other nucleoporins, forms an array of sites for mediated docking of transport substrate, and that bidirectional transport across the NPC proceeds by repeated docking and undocking reactions.\n",
      "\n",
      "generated_summary\n",
      "\n"
     ]
    },
    {
     "data": {
      "application/vnd.jupyter.widget-view+json": {
       "model_id": "6565698d54da471dae14416419e97229",
       "version_major": 2,
       "version_minor": 0
      },
      "text/plain": [
       "  0%|          | 0/100 [00:00<?, ?it/s]"
      ]
     },
     "metadata": {},
     "output_type": "display_data"
    },
    {
     "name": "stdout",
     "output_type": "stream",
     "text": [
      "The cellular effects of stromal cell-derived factor-1 (SDF-1) are mediated primarily by binding to the CXC chemokine receptor-4. We report in this study that SDF-1 and its peptide analogues induce a concentration- and time-dependent accumulation of phosphatidylinositol-(3,4,5)-trisphosphate (PtdIns(3,4,5)P3) in Jurkat cells. This SDF-1-stimulated generation of D-3 phosphoinositide lipids was inhibited by pretreatment of the cells with an SDF-1 peptide antagonist or an anti-CXCR4 Ab. In addition, the phosphoinositide 3 (PI 3)-kinase inhibitors wortmannin and LY294002, as well as the Gi protein inhibitor pertussis toxin, also inhibited the SDF-1-stimulated accumulation of PtdIns(3,4,5)P3. The effects of SDF-1 on D-3 phosphoinositide lipid accumulation correlated well with activation of the known PI 3-kinase effector protein kinase B, which was also inhibited by wortmannin and pertussis toxin. Concentrations of PI 3-kinase inhibitors, sufficient to inhibit PtdIns(3,4,5)P3 accumulation, also inhibited chemotaxis of Jurkat and peripheral blood-derived T lymphocytes in response to SDF-1. In contrast, SDF-1-stimulated actin polymerization was only partially inhibited by PI 3-kinase inhibitors, suggesting that while chemotaxis is fully dependent on PI 3-kinase activation, actin polymerization requires additional biochemical inputs. Finally, SDF-1-stimulated extracellular signal-related kinase (ERK)-1/2 mitogen-activated protein kinase activation was inhibited by PI 3-kinase inhibitors. In addition, the mitogen-activated protein/ERK kinase inhibitor PD098059 partially attenuated chemotaxis in response to SDF-1. Hence, it appears that ERK1/2 activation is dependent on PI 3-kinase activation, and both biochemical events are involved in the regulation of SDF-1-stimulated chemotaxis.\n",
      "\n",
      "generated_summary\n",
      "\n",
      "loss: 1.7197407484054565\n",
      "\n",
      "loss: 0.755429744720459\n",
      "\n",
      "loss: 0.6354639530181885\n",
      "\n",
      "loss: 0.4951072633266449\n",
      "\n",
      "loss: 1.3384764194488525\n",
      "\n",
      "loss: 0.7298460006713867\n",
      "\n",
      "loss: 0.8881617188453674\n",
      "\n",
      "loss: 0.9586331248283386\n",
      "\n",
      "loss: 1.2435511350631714\n",
      "\n",
      "loss: 0.8196821212768555\n",
      "\n"
     ]
    },
    {
     "data": {
      "application/vnd.jupyter.widget-view+json": {
       "model_id": "f378e75edd3b42e48c0d75ff6d289af3",
       "version_major": 2,
       "version_minor": 0
      },
      "text/plain": [
       "Evaluating:   0%|          | 0/500 [00:00<?, ?it/s]"
      ]
     },
     "metadata": {},
     "output_type": "display_data"
    },
    {
     "name": "stdout",
     "output_type": "stream",
     "text": [
      "perplexity: 6.637166976928711\n",
      "After 811 updates: \n",
      "\n"
     ]
    },
    {
     "data": {
      "application/vnd.jupyter.widget-view+json": {
       "model_id": "9063d2d3eb044183820ae8b20e308a4b",
       "version_major": 2,
       "version_minor": 0
      },
      "text/plain": [
       "  0%|          | 0/100 [00:00<?, ?it/s]"
      ]
     },
     "metadata": {},
     "output_type": "display_data"
    },
    {
     "name": "stdout",
     "output_type": "stream",
     "text": [
      "We report the cDNA deduced primary structure of a wheat germ agglutinin-reactive nuclear pore complex (NPC) protein of rat. The protein, termed Nup98 (for nucleoporin of 98 kDa), contains numerous GLFG and FG repeats and some FXFG repeats and is thus a vertebrate member of a family of GLFG nucleoporins that were previously discovered in yeast. Immunoelectron microscopy showed Nup98 to be asymmetrically located at the nucleoplasmic side of the NPC. Nup98 functions as one of several docking site nucleoporins in a cytosolic docking activity-mediated binding of a model transport substrate. The docking site of Nup98 was mapped to its N-terminal half, which contains all of the peptide repeats. A recombinant segment of this region depleted the docking activity of cytosol. We suggest that the peptide repeat domain of Nup98, together with peptide repeat domains of other nucleoporins, forms an array of sites for mediated docking of transport substrate, and that bidirectional transport across the NPC proceeds by repeated docking and undocking reactions.\n",
      "\n",
      "generated_summary\n",
      "\n"
     ]
    },
    {
     "data": {
      "application/vnd.jupyter.widget-view+json": {
       "model_id": "9281bc23138e4b64a5d0ef8fd10c277e",
       "version_major": 2,
       "version_minor": 0
      },
      "text/plain": [
       "  0%|          | 0/100 [00:00<?, ?it/s]"
      ]
     },
     "metadata": {},
     "output_type": "display_data"
    },
    {
     "name": "stdout",
     "output_type": "stream",
     "text": [
      "The cellular effects of stromal cell-derived factor-1 (SDF-1) are mediated primarily by binding to the CXC chemokine receptor-4. We report in this study that SDF-1 and its peptide analogues induce a concentration- and time-dependent accumulation of phosphatidylinositol-(3,4,5)-trisphosphate (PtdIns(3,4,5)P3) in Jurkat cells. This SDF-1-stimulated generation of D-3 phosphoinositide lipids was inhibited by pretreatment of the cells with an SDF-1 peptide antagonist or an anti-CXCR4 Ab. In addition, the phosphoinositide 3 (PI 3)-kinase inhibitors wortmannin and LY294002, as well as the Gi protein inhibitor pertussis toxin, also inhibited the SDF-1-stimulated accumulation of PtdIns(3,4,5)P3. The effects of SDF-1 on D-3 phosphoinositide lipid accumulation correlated well with activation of the known PI 3-kinase effector protein kinase B, which was also inhibited by wortmannin and pertussis toxin. Concentrations of PI 3-kinase inhibitors, sufficient to inhibit PtdIns(3,4,5)P3 accumulation, also inhibited chemotaxis of Jurkat and peripheral blood-derived T lymphocytes in response to SDF-1. In contrast, SDF-1-stimulated actin polymerization was only partially inhibited by PI 3-kinase inhibitors, suggesting that while chemotaxis is fully dependent on PI 3-kinase activation, actin polymerization requires additional biochemical inputs. Finally, SDF-1-stimulated extracellular signal-related kinase (ERK)-1/2 mitogen-activated protein kinase activation was inhibited by PI 3-kinase inhibitors. In addition, the mitogen-activated protein/ERK kinase inhibitor PD098059 partially attenuated chemotaxis in response to SDF-1. Hence, it appears that ERK1/2 activation is dependent on PI 3-kinase activation, and both biochemical events are involved in the regulation of SDF-1-stimulated chemotaxis.\n",
      "\n",
      "generated_summary\n",
      "\n",
      "loss: 1.212087869644165\n",
      "\n",
      "loss: 1.128375768661499\n",
      "\n",
      "loss: 1.1549558639526367\n",
      "\n",
      "loss: 0.9600385427474976\n",
      "\n",
      "loss: 1.136374592781067\n",
      "\n",
      "loss: 0.8747169375419617\n",
      "\n",
      "loss: 0.9690233469009399\n",
      "\n",
      "loss: 0.34328004717826843\n",
      "\n",
      "loss: 1.3600006103515625\n",
      "\n",
      "loss: 0.5337572693824768\n",
      "\n"
     ]
    },
    {
     "data": {
      "application/vnd.jupyter.widget-view+json": {
       "model_id": "07d8bfc845c8499992b23c1ccdc2548c",
       "version_major": 2,
       "version_minor": 0
      },
      "text/plain": [
       "Evaluating:   0%|          | 0/500 [00:00<?, ?it/s]"
      ]
     },
     "metadata": {},
     "output_type": "display_data"
    },
    {
     "name": "stdout",
     "output_type": "stream",
     "text": [
      "perplexity: 6.6675848960876465\n",
      "After 821 updates: \n",
      "\n"
     ]
    },
    {
     "data": {
      "application/vnd.jupyter.widget-view+json": {
       "model_id": "0bc1ec8d8afd40df85d73fbbf2bc4fad",
       "version_major": 2,
       "version_minor": 0
      },
      "text/plain": [
       "  0%|          | 0/100 [00:00<?, ?it/s]"
      ]
     },
     "metadata": {},
     "output_type": "display_data"
    },
    {
     "name": "stdout",
     "output_type": "stream",
     "text": [
      "We report the cDNA deduced primary structure of a wheat germ agglutinin-reactive nuclear pore complex (NPC) protein of rat. The protein, termed Nup98 (for nucleoporin of 98 kDa), contains numerous GLFG and FG repeats and some FXFG repeats and is thus a vertebrate member of a family of GLFG nucleoporins that were previously discovered in yeast. Immunoelectron microscopy showed Nup98 to be asymmetrically located at the nucleoplasmic side of the NPC. Nup98 functions as one of several docking site nucleoporins in a cytosolic docking activity-mediated binding of a model transport substrate. The docking site of Nup98 was mapped to its N-terminal half, which contains all of the peptide repeats. A recombinant segment of this region depleted the docking activity of cytosol. We suggest that the peptide repeat domain of Nup98, together with peptide repeat domains of other nucleoporins, forms an array of sites for mediated docking of transport substrate, and that bidirectional transport across the NPC proceeds by repeated docking and undocking reactions.\n",
      "\n",
      "generated_summary\n",
      "\n"
     ]
    },
    {
     "data": {
      "application/vnd.jupyter.widget-view+json": {
       "model_id": "f7b6a24a0b57458c9450ff29a489312f",
       "version_major": 2,
       "version_minor": 0
      },
      "text/plain": [
       "  0%|          | 0/100 [00:00<?, ?it/s]"
      ]
     },
     "metadata": {},
     "output_type": "display_data"
    },
    {
     "name": "stdout",
     "output_type": "stream",
     "text": [
      "The cellular effects of stromal cell-derived factor-1 (SDF-1) are mediated primarily by binding to the CXC chemokine receptor-4. We report in this study that SDF-1 and its peptide analogues induce a concentration- and time-dependent accumulation of phosphatidylinositol-(3,4,5)-trisphosphate (PtdIns(3,4,5)P3) in Jurkat cells. This SDF-1-stimulated generation of D-3 phosphoinositide lipids was inhibited by pretreatment of the cells with an SDF-1 peptide antagonist or an anti-CXCR4 Ab. In addition, the phosphoinositide 3 (PI 3)-kinase inhibitors wortmannin and LY294002, as well as the Gi protein inhibitor pertussis toxin, also inhibited the SDF-1-stimulated accumulation of PtdIns(3,4,5)P3. The effects of SDF-1 on D-3 phosphoinositide lipid accumulation correlated well with activation of the known PI 3-kinase effector protein kinase B, which was also inhibited by wortmannin and pertussis toxin. Concentrations of PI 3-kinase inhibitors, sufficient to inhibit PtdIns(3,4,5)P3 accumulation, also inhibited chemotaxis of Jurkat and peripheral blood-derived T lymphocytes in response to SDF-1. In contrast, SDF-1-stimulated actin polymerization was only partially inhibited by PI 3-kinase inhibitors, suggesting that while chemotaxis is fully dependent on PI 3-kinase activation, actin polymerization requires additional biochemical inputs. Finally, SDF-1-stimulated extracellular signal-related kinase (ERK)-1/2 mitogen-activated protein kinase activation was inhibited by PI 3-kinase inhibitors. In addition, the mitogen-activated protein/ERK kinase inhibitor PD098059 partially attenuated chemotaxis in response to SDF-1. Hence, it appears that ERK1/2 activation is dependent on PI 3-kinase activation, and both biochemical events are involved in the regulation of SDF-1-stimulated chemotaxis.\n",
      "\n",
      "generated_summary\n",
      "\n",
      "loss: 0.9095608592033386\n",
      "\n",
      "loss: 0.7749496102333069\n",
      "\n",
      "loss: 0.7981868982315063\n",
      "\n",
      "loss: 0.6183518767356873\n",
      "\n",
      "loss: 1.5501582622528076\n",
      "\n",
      "loss: 0.5183796882629395\n",
      "\n",
      "loss: 0.9462801218032837\n",
      "\n",
      "loss: 0.6824957132339478\n",
      "\n",
      "loss: 0.54950350522995\n",
      "\n",
      "loss: 1.7659919261932373\n",
      "\n"
     ]
    },
    {
     "data": {
      "application/vnd.jupyter.widget-view+json": {
       "model_id": "4beb6f65bada4a1abf11314e9fa32a8c",
       "version_major": 2,
       "version_minor": 0
      },
      "text/plain": [
       "Evaluating:   0%|          | 0/500 [00:00<?, ?it/s]"
      ]
     },
     "metadata": {},
     "output_type": "display_data"
    },
    {
     "name": "stdout",
     "output_type": "stream",
     "text": [
      "perplexity: 6.62521505355835\n",
      "After 831 updates: \n",
      "\n"
     ]
    },
    {
     "data": {
      "application/vnd.jupyter.widget-view+json": {
       "model_id": "9a34724ab3af4c5bb5a58e9752799efb",
       "version_major": 2,
       "version_minor": 0
      },
      "text/plain": [
       "  0%|          | 0/100 [00:00<?, ?it/s]"
      ]
     },
     "metadata": {},
     "output_type": "display_data"
    },
    {
     "name": "stdout",
     "output_type": "stream",
     "text": [
      "We report the cDNA deduced primary structure of a wheat germ agglutinin-reactive nuclear pore complex (NPC) protein of rat. The protein, termed Nup98 (for nucleoporin of 98 kDa), contains numerous GLFG and FG repeats and some FXFG repeats and is thus a vertebrate member of a family of GLFG nucleoporins that were previously discovered in yeast. Immunoelectron microscopy showed Nup98 to be asymmetrically located at the nucleoplasmic side of the NPC. Nup98 functions as one of several docking site nucleoporins in a cytosolic docking activity-mediated binding of a model transport substrate. The docking site of Nup98 was mapped to its N-terminal half, which contains all of the peptide repeats. A recombinant segment of this region depleted the docking activity of cytosol. We suggest that the peptide repeat domain of Nup98, together with peptide repeat domains of other nucleoporins, forms an array of sites for mediated docking of transport substrate, and that bidirectional transport across the NPC proceeds by repeated docking and undocking reactions.\n",
      "\n",
      "generated_summary\n",
      "\n"
     ]
    },
    {
     "data": {
      "application/vnd.jupyter.widget-view+json": {
       "model_id": "55e3755d4f2b4b5cbcc0653f66041e97",
       "version_major": 2,
       "version_minor": 0
      },
      "text/plain": [
       "  0%|          | 0/100 [00:00<?, ?it/s]"
      ]
     },
     "metadata": {},
     "output_type": "display_data"
    },
    {
     "name": "stdout",
     "output_type": "stream",
     "text": [
      "The cellular effects of stromal cell-derived factor-1 (SDF-1) are mediated primarily by binding to the CXC chemokine receptor-4. We report in this study that SDF-1 and its peptide analogues induce a concentration- and time-dependent accumulation of phosphatidylinositol-(3,4,5)-trisphosphate (PtdIns(3,4,5)P3) in Jurkat cells. This SDF-1-stimulated generation of D-3 phosphoinositide lipids was inhibited by pretreatment of the cells with an SDF-1 peptide antagonist or an anti-CXCR4 Ab. In addition, the phosphoinositide 3 (PI 3)-kinase inhibitors wortmannin and LY294002, as well as the Gi protein inhibitor pertussis toxin, also inhibited the SDF-1-stimulated accumulation of PtdIns(3,4,5)P3. The effects of SDF-1 on D-3 phosphoinositide lipid accumulation correlated well with activation of the known PI 3-kinase effector protein kinase B, which was also inhibited by wortmannin and pertussis toxin. Concentrations of PI 3-kinase inhibitors, sufficient to inhibit PtdIns(3,4,5)P3 accumulation, also inhibited chemotaxis of Jurkat and peripheral blood-derived T lymphocytes in response to SDF-1. In contrast, SDF-1-stimulated actin polymerization was only partially inhibited by PI 3-kinase inhibitors, suggesting that while chemotaxis is fully dependent on PI 3-kinase activation, actin polymerization requires additional biochemical inputs. Finally, SDF-1-stimulated extracellular signal-related kinase (ERK)-1/2 mitogen-activated protein kinase activation was inhibited by PI 3-kinase inhibitors. In addition, the mitogen-activated protein/ERK kinase inhibitor PD098059 partially attenuated chemotaxis in response to SDF-1. Hence, it appears that ERK1/2 activation is dependent on PI 3-kinase activation, and both biochemical events are involved in the regulation of SDF-1-stimulated chemotaxis.\n",
      "\n",
      "generated_summary\n",
      "\n",
      "loss: 0.3978491425514221\n",
      "\n",
      "loss: 1.8567920923233032\n",
      "\n",
      "loss: 0.6348602771759033\n",
      "\n",
      "loss: 0.49777743220329285\n",
      "\n",
      "loss: 0.6004581451416016\n",
      "\n",
      "loss: 1.1841870546340942\n",
      "\n",
      "loss: 1.674761176109314\n",
      "\n",
      "loss: 0.7556074261665344\n",
      "\n",
      "loss: 1.639843225479126\n",
      "\n",
      "loss: 0.8444188237190247\n",
      "\n"
     ]
    },
    {
     "data": {
      "application/vnd.jupyter.widget-view+json": {
       "model_id": "bed4ead1329041aab5f34731dcee671c",
       "version_major": 2,
       "version_minor": 0
      },
      "text/plain": [
       "Evaluating:   0%|          | 0/500 [00:00<?, ?it/s]"
      ]
     },
     "metadata": {},
     "output_type": "display_data"
    },
    {
     "name": "stdout",
     "output_type": "stream",
     "text": [
      "perplexity: 6.917449474334717\n",
      "After 841 updates: \n",
      "\n"
     ]
    },
    {
     "data": {
      "application/vnd.jupyter.widget-view+json": {
       "model_id": "aaaa05b4ccb14ca486d522631493a342",
       "version_major": 2,
       "version_minor": 0
      },
      "text/plain": [
       "  0%|          | 0/100 [00:00<?, ?it/s]"
      ]
     },
     "metadata": {},
     "output_type": "display_data"
    },
    {
     "name": "stdout",
     "output_type": "stream",
     "text": [
      "We report the cDNA deduced primary structure of a wheat germ agglutinin-reactive nuclear pore complex (NPC) protein of rat. The protein, termed Nup98 (for nucleoporin of 98 kDa), contains numerous GLFG and FG repeats and some FXFG repeats and is thus a vertebrate member of a family of GLFG nucleoporins that were previously discovered in yeast. Immunoelectron microscopy showed Nup98 to be asymmetrically located at the nucleoplasmic side of the NPC. Nup98 functions as one of several docking site nucleoporins in a cytosolic docking activity-mediated binding of a model transport substrate. The docking site of Nup98 was mapped to its N-terminal half, which contains all of the peptide repeats. A recombinant segment of this region depleted the docking activity of cytosol. We suggest that the peptide repeat domain of Nup98, together with peptide repeat domains of other nucleoporins, forms an array of sites for mediated docking of transport substrate, and that bidirectional transport across the NPC proceeds by repeated docking and undocking reactions.\n",
      "\n",
      "generated_summary\n",
      "\n"
     ]
    },
    {
     "data": {
      "application/vnd.jupyter.widget-view+json": {
       "model_id": "2cfa05a4e5ae48b08cf1e68b67dfc2fd",
       "version_major": 2,
       "version_minor": 0
      },
      "text/plain": [
       "  0%|          | 0/100 [00:00<?, ?it/s]"
      ]
     },
     "metadata": {},
     "output_type": "display_data"
    },
    {
     "name": "stdout",
     "output_type": "stream",
     "text": [
      "The cellular effects of stromal cell-derived factor-1 (SDF-1) are mediated primarily by binding to the CXC chemokine receptor-4. We report in this study that SDF-1 and its peptide analogues induce a concentration- and time-dependent accumulation of phosphatidylinositol-(3,4,5)-trisphosphate (PtdIns(3,4,5)P3) in Jurkat cells. This SDF-1-stimulated generation of D-3 phosphoinositide lipids was inhibited by pretreatment of the cells with an SDF-1 peptide antagonist or an anti-CXCR4 Ab. In addition, the phosphoinositide 3 (PI 3)-kinase inhibitors wortmannin and LY294002, as well as the Gi protein inhibitor pertussis toxin, also inhibited the SDF-1-stimulated accumulation of PtdIns(3,4,5)P3. The effects of SDF-1 on D-3 phosphoinositide lipid accumulation correlated well with activation of the known PI 3-kinase effector protein kinase B, which was also inhibited by wortmannin and pertussis toxin. Concentrations of PI 3-kinase inhibitors, sufficient to inhibit PtdIns(3,4,5)P3 accumulation, also inhibited chemotaxis of Jurkat and peripheral blood-derived T lymphocytes in response to SDF-1. In contrast, SDF-1-stimulated actin polymerization was only partially inhibited by PI 3-kinase inhibitors, suggesting that while chemotaxis is fully dependent on PI 3-kinase activation, actin polymerization requires additional biochemical inputs. Finally, SDF-1-stimulated extracellular signal-related kinase (ERK)-1/2 mitogen-activated protein kinase activation was inhibited by PI 3-kinase inhibitors. In addition, the mitogen-activated protein/ERK kinase inhibitor PD098059 partially attenuated chemotaxis in response to SDF-1. Hence, it appears that ERK1/2 activation is dependent on PI 3-kinase activation, and both biochemical events are involved in the regulation of SDF-1-stimulated chemotaxis.\n",
      "\n",
      "generated_summary\n",
      "\n",
      "loss: 1.5198159217834473\n",
      "\n",
      "loss: 0.9583063721656799\n",
      "\n",
      "loss: 0.48419931530952454\n",
      "\n",
      "loss: 0.6893385648727417\n",
      "\n",
      "loss: 1.039175271987915\n",
      "\n",
      "loss: 1.3549412488937378\n",
      "\n",
      "loss: 0.5758869647979736\n",
      "\n",
      "loss: 0.6007126569747925\n",
      "\n",
      "loss: 1.0048874616622925\n",
      "\n",
      "loss: 0.9567594528198242\n",
      "\n"
     ]
    },
    {
     "data": {
      "application/vnd.jupyter.widget-view+json": {
       "model_id": "7018d6ab7f5e4ce2ba0b77d2e1a5e00a",
       "version_major": 2,
       "version_minor": 0
      },
      "text/plain": [
       "Evaluating:   0%|          | 0/500 [00:00<?, ?it/s]"
      ]
     },
     "metadata": {},
     "output_type": "display_data"
    },
    {
     "name": "stdout",
     "output_type": "stream",
     "text": [
      "perplexity: 6.764277935028076\n",
      "After 851 updates: \n",
      "\n"
     ]
    },
    {
     "data": {
      "application/vnd.jupyter.widget-view+json": {
       "model_id": "67420875351d45478c506f6c9010bf34",
       "version_major": 2,
       "version_minor": 0
      },
      "text/plain": [
       "  0%|          | 0/100 [00:00<?, ?it/s]"
      ]
     },
     "metadata": {},
     "output_type": "display_data"
    },
    {
     "name": "stdout",
     "output_type": "stream",
     "text": [
      "We report the cDNA deduced primary structure of a wheat germ agglutinin-reactive nuclear pore complex (NPC) protein of rat. The protein, termed Nup98 (for nucleoporin of 98 kDa), contains numerous GLFG and FG repeats and some FXFG repeats and is thus a vertebrate member of a family of GLFG nucleoporins that were previously discovered in yeast. Immunoelectron microscopy showed Nup98 to be asymmetrically located at the nucleoplasmic side of the NPC. Nup98 functions as one of several docking site nucleoporins in a cytosolic docking activity-mediated binding of a model transport substrate. The docking site of Nup98 was mapped to its N-terminal half, which contains all of the peptide repeats. A recombinant segment of this region depleted the docking activity of cytosol. We suggest that the peptide repeat domain of Nup98, together with peptide repeat domains of other nucleoporins, forms an array of sites for mediated docking of transport substrate, and that bidirectional transport across the NPC proceeds by repeated docking and undocking reactions.\n",
      "\n",
      "generated_summary\n",
      "\n"
     ]
    },
    {
     "data": {
      "application/vnd.jupyter.widget-view+json": {
       "model_id": "32fb8794a7d74fbfb31c7b581ffd0608",
       "version_major": 2,
       "version_minor": 0
      },
      "text/plain": [
       "  0%|          | 0/100 [00:00<?, ?it/s]"
      ]
     },
     "metadata": {},
     "output_type": "display_data"
    },
    {
     "name": "stdout",
     "output_type": "stream",
     "text": [
      "The cellular effects of stromal cell-derived factor-1 (SDF-1) are mediated primarily by binding to the CXC chemokine receptor-4. We report in this study that SDF-1 and its peptide analogues induce a concentration- and time-dependent accumulation of phosphatidylinositol-(3,4,5)-trisphosphate (PtdIns(3,4,5)P3) in Jurkat cells. This SDF-1-stimulated generation of D-3 phosphoinositide lipids was inhibited by pretreatment of the cells with an SDF-1 peptide antagonist or an anti-CXCR4 Ab. In addition, the phosphoinositide 3 (PI 3)-kinase inhibitors wortmannin and LY294002, as well as the Gi protein inhibitor pertussis toxin, also inhibited the SDF-1-stimulated accumulation of PtdIns(3,4,5)P3. The effects of SDF-1 on D-3 phosphoinositide lipid accumulation correlated well with activation of the known PI 3-kinase effector protein kinase B, which was also inhibited by wortmannin and pertussis toxin. Concentrations of PI 3-kinase inhibitors, sufficient to inhibit PtdIns(3,4,5)P3 accumulation, also inhibited chemotaxis of Jurkat and peripheral blood-derived T lymphocytes in response to SDF-1. In contrast, SDF-1-stimulated actin polymerization was only partially inhibited by PI 3-kinase inhibitors, suggesting that while chemotaxis is fully dependent on PI 3-kinase activation, actin polymerization requires additional biochemical inputs. Finally, SDF-1-stimulated extracellular signal-related kinase (ERK)-1/2 mitogen-activated protein kinase activation was inhibited by PI 3-kinase inhibitors. In addition, the mitogen-activated protein/ERK kinase inhibitor PD098059 partially attenuated chemotaxis in response to SDF-1. Hence, it appears that ERK1/2 activation is dependent on PI 3-kinase activation, and both biochemical events are involved in the regulation of SDF-1-stimulated chemotaxis.\n",
      "\n",
      "generated_summary\n",
      "\n",
      "loss: 1.078755259513855\n",
      "\n",
      "loss: 0.4719921052455902\n",
      "\n",
      "loss: 1.0524324178695679\n",
      "\n",
      "loss: 0.6308932900428772\n",
      "\n",
      "loss: 0.8962560892105103\n",
      "\n",
      "loss: 0.757712721824646\n",
      "\n",
      "loss: 1.4600584506988525\n",
      "\n",
      "loss: 0.7092783451080322\n",
      "\n",
      "loss: 1.3410160541534424\n",
      "\n",
      "loss: 0.7023400664329529\n",
      "\n"
     ]
    },
    {
     "data": {
      "application/vnd.jupyter.widget-view+json": {
       "model_id": "a039e01f06604731b5d7ade81f85fe4f",
       "version_major": 2,
       "version_minor": 0
      },
      "text/plain": [
       "Evaluating:   0%|          | 0/500 [00:00<?, ?it/s]"
      ]
     },
     "metadata": {},
     "output_type": "display_data"
    },
    {
     "name": "stdout",
     "output_type": "stream",
     "text": [
      "perplexity: 6.7179179191589355\n",
      "After 861 updates: \n",
      "\n"
     ]
    },
    {
     "data": {
      "application/vnd.jupyter.widget-view+json": {
       "model_id": "b709c5729aee4a878c98f2cb277a3bf4",
       "version_major": 2,
       "version_minor": 0
      },
      "text/plain": [
       "  0%|          | 0/100 [00:00<?, ?it/s]"
      ]
     },
     "metadata": {},
     "output_type": "display_data"
    },
    {
     "name": "stdout",
     "output_type": "stream",
     "text": [
      "We report the cDNA deduced primary structure of a wheat germ agglutinin-reactive nuclear pore complex (NPC) protein of rat. The protein, termed Nup98 (for nucleoporin of 98 kDa), contains numerous GLFG and FG repeats and some FXFG repeats and is thus a vertebrate member of a family of GLFG nucleoporins that were previously discovered in yeast. Immunoelectron microscopy showed Nup98 to be asymmetrically located at the nucleoplasmic side of the NPC. Nup98 functions as one of several docking site nucleoporins in a cytosolic docking activity-mediated binding of a model transport substrate. The docking site of Nup98 was mapped to its N-terminal half, which contains all of the peptide repeats. A recombinant segment of this region depleted the docking activity of cytosol. We suggest that the peptide repeat domain of Nup98, together with peptide repeat domains of other nucleoporins, forms an array of sites for mediated docking of transport substrate, and that bidirectional transport across the NPC proceeds by repeated docking and undocking reactions.\n",
      "\n",
      "generated_summary\n",
      "\n"
     ]
    },
    {
     "data": {
      "application/vnd.jupyter.widget-view+json": {
       "model_id": "d7c52b74ab81455aa73541042cb3655e",
       "version_major": 2,
       "version_minor": 0
      },
      "text/plain": [
       "  0%|          | 0/100 [00:00<?, ?it/s]"
      ]
     },
     "metadata": {},
     "output_type": "display_data"
    },
    {
     "name": "stdout",
     "output_type": "stream",
     "text": [
      "The cellular effects of stromal cell-derived factor-1 (SDF-1) are mediated primarily by binding to the CXC chemokine receptor-4. We report in this study that SDF-1 and its peptide analogues induce a concentration- and time-dependent accumulation of phosphatidylinositol-(3,4,5)-trisphosphate (PtdIns(3,4,5)P3) in Jurkat cells. This SDF-1-stimulated generation of D-3 phosphoinositide lipids was inhibited by pretreatment of the cells with an SDF-1 peptide antagonist or an anti-CXCR4 Ab. In addition, the phosphoinositide 3 (PI 3)-kinase inhibitors wortmannin and LY294002, as well as the Gi protein inhibitor pertussis toxin, also inhibited the SDF-1-stimulated accumulation of PtdIns(3,4,5)P3. The effects of SDF-1 on D-3 phosphoinositide lipid accumulation correlated well with activation of the known PI 3-kinase effector protein kinase B, which was also inhibited by wortmannin and pertussis toxin. Concentrations of PI 3-kinase inhibitors, sufficient to inhibit PtdIns(3,4,5)P3 accumulation, also inhibited chemotaxis of Jurkat and peripheral blood-derived T lymphocytes in response to SDF-1. In contrast, SDF-1-stimulated actin polymerization was only partially inhibited by PI 3-kinase inhibitors, suggesting that while chemotaxis is fully dependent on PI 3-kinase activation, actin polymerization requires additional biochemical inputs. Finally, SDF-1-stimulated extracellular signal-related kinase (ERK)-1/2 mitogen-activated protein kinase activation was inhibited by PI 3-kinase inhibitors. In addition, the mitogen-activated protein/ERK kinase inhibitor PD098059 partially attenuated chemotaxis in response to SDF-1. Hence, it appears that ERK1/2 activation is dependent on PI 3-kinase activation, and both biochemical events are involved in the regulation of SDF-1-stimulated chemotaxis.\n",
      "\n",
      "generated_summary\n",
      "\n",
      "loss: 1.4440537691116333\n",
      "\n",
      "loss: 0.6333268284797668\n",
      "\n",
      "loss: 1.7629576921463013\n",
      "\n",
      "loss: 0.8922029733657837\n",
      "\n",
      "loss: 1.278106451034546\n",
      "\n",
      "loss: 1.627862572669983\n",
      "\n",
      "loss: 0.5264713168144226\n",
      "\n",
      "loss: 1.269713044166565\n",
      "\n",
      "loss: 0.3243977129459381\n",
      "\n",
      "loss: 0.7708146572113037\n",
      "\n"
     ]
    },
    {
     "data": {
      "application/vnd.jupyter.widget-view+json": {
       "model_id": "16c0b2d47cef4f7da43238cee44bd0d3",
       "version_major": 2,
       "version_minor": 0
      },
      "text/plain": [
       "Evaluating:   0%|          | 0/500 [00:00<?, ?it/s]"
      ]
     },
     "metadata": {},
     "output_type": "display_data"
    },
    {
     "name": "stdout",
     "output_type": "stream",
     "text": [
      "perplexity: 6.755962371826172\n",
      "After 871 updates: \n",
      "\n"
     ]
    },
    {
     "data": {
      "application/vnd.jupyter.widget-view+json": {
       "model_id": "9d8c06d605ca4621a9216e11c754cdfa",
       "version_major": 2,
       "version_minor": 0
      },
      "text/plain": [
       "  0%|          | 0/100 [00:00<?, ?it/s]"
      ]
     },
     "metadata": {},
     "output_type": "display_data"
    },
    {
     "name": "stdout",
     "output_type": "stream",
     "text": [
      "We report the cDNA deduced primary structure of a wheat germ agglutinin-reactive nuclear pore complex (NPC) protein of rat. The protein, termed Nup98 (for nucleoporin of 98 kDa), contains numerous GLFG and FG repeats and some FXFG repeats and is thus a vertebrate member of a family of GLFG nucleoporins that were previously discovered in yeast. Immunoelectron microscopy showed Nup98 to be asymmetrically located at the nucleoplasmic side of the NPC. Nup98 functions as one of several docking site nucleoporins in a cytosolic docking activity-mediated binding of a model transport substrate. The docking site of Nup98 was mapped to its N-terminal half, which contains all of the peptide repeats. A recombinant segment of this region depleted the docking activity of cytosol. We suggest that the peptide repeat domain of Nup98, together with peptide repeat domains of other nucleoporins, forms an array of sites for mediated docking of transport substrate, and that bidirectional transport across the NPC proceeds by repeated docking and undocking reactions.\n",
      "\n",
      "generated_summary\n",
      "\n"
     ]
    },
    {
     "data": {
      "application/vnd.jupyter.widget-view+json": {
       "model_id": "05296a2bbed146ab993853b826a4723e",
       "version_major": 2,
       "version_minor": 0
      },
      "text/plain": [
       "  0%|          | 0/100 [00:00<?, ?it/s]"
      ]
     },
     "metadata": {},
     "output_type": "display_data"
    },
    {
     "name": "stdout",
     "output_type": "stream",
     "text": [
      "The cellular effects of stromal cell-derived factor-1 (SDF-1) are mediated primarily by binding to the CXC chemokine receptor-4. We report in this study that SDF-1 and its peptide analogues induce a concentration- and time-dependent accumulation of phosphatidylinositol-(3,4,5)-trisphosphate (PtdIns(3,4,5)P3) in Jurkat cells. This SDF-1-stimulated generation of D-3 phosphoinositide lipids was inhibited by pretreatment of the cells with an SDF-1 peptide antagonist or an anti-CXCR4 Ab. In addition, the phosphoinositide 3 (PI 3)-kinase inhibitors wortmannin and LY294002, as well as the Gi protein inhibitor pertussis toxin, also inhibited the SDF-1-stimulated accumulation of PtdIns(3,4,5)P3. The effects of SDF-1 on D-3 phosphoinositide lipid accumulation correlated well with activation of the known PI 3-kinase effector protein kinase B, which was also inhibited by wortmannin and pertussis toxin. Concentrations of PI 3-kinase inhibitors, sufficient to inhibit PtdIns(3,4,5)P3 accumulation, also inhibited chemotaxis of Jurkat and peripheral blood-derived T lymphocytes in response to SDF-1. In contrast, SDF-1-stimulated actin polymerization was only partially inhibited by PI 3-kinase inhibitors, suggesting that while chemotaxis is fully dependent on PI 3-kinase activation, actin polymerization requires additional biochemical inputs. Finally, SDF-1-stimulated extracellular signal-related kinase (ERK)-1/2 mitogen-activated protein kinase activation was inhibited by PI 3-kinase inhibitors. In addition, the mitogen-activated protein/ERK kinase inhibitor PD098059 partially attenuated chemotaxis in response to SDF-1. Hence, it appears that ERK1/2 activation is dependent on PI 3-kinase activation, and both biochemical events are involved in the regulation of SDF-1-stimulated chemotaxis.\n",
      "\n",
      "generated_summary\n",
      "\n",
      "loss: 1.0638755559921265\n",
      "\n",
      "loss: 0.5150214433670044\n",
      "\n",
      "loss: 0.8906899690628052\n",
      "\n",
      "loss: 1.028430700302124\n",
      "\n",
      "loss: 0.7909491658210754\n",
      "\n",
      "loss: 0.9851069450378418\n",
      "\n",
      "loss: 0.8605530261993408\n",
      "\n",
      "loss: 0.9644403457641602\n",
      "\n",
      "loss: 0.9986887574195862\n",
      "\n",
      "loss: 0.7210979461669922\n",
      "\n"
     ]
    },
    {
     "data": {
      "application/vnd.jupyter.widget-view+json": {
       "model_id": "badbdcb010f44e71b9440e1d4fba9b75",
       "version_major": 2,
       "version_minor": 0
      },
      "text/plain": [
       "Evaluating:   0%|          | 0/500 [00:00<?, ?it/s]"
      ]
     },
     "metadata": {},
     "output_type": "display_data"
    },
    {
     "name": "stdout",
     "output_type": "stream",
     "text": [
      "perplexity: 6.84169340133667\n",
      "After 881 updates: \n",
      "\n"
     ]
    },
    {
     "data": {
      "application/vnd.jupyter.widget-view+json": {
       "model_id": "bac6fbc8f9c7496f8c77acf02c60fe66",
       "version_major": 2,
       "version_minor": 0
      },
      "text/plain": [
       "  0%|          | 0/100 [00:00<?, ?it/s]"
      ]
     },
     "metadata": {},
     "output_type": "display_data"
    },
    {
     "name": "stdout",
     "output_type": "stream",
     "text": [
      "We report the cDNA deduced primary structure of a wheat germ agglutinin-reactive nuclear pore complex (NPC) protein of rat. The protein, termed Nup98 (for nucleoporin of 98 kDa), contains numerous GLFG and FG repeats and some FXFG repeats and is thus a vertebrate member of a family of GLFG nucleoporins that were previously discovered in yeast. Immunoelectron microscopy showed Nup98 to be asymmetrically located at the nucleoplasmic side of the NPC. Nup98 functions as one of several docking site nucleoporins in a cytosolic docking activity-mediated binding of a model transport substrate. The docking site of Nup98 was mapped to its N-terminal half, which contains all of the peptide repeats. A recombinant segment of this region depleted the docking activity of cytosol. We suggest that the peptide repeat domain of Nup98, together with peptide repeat domains of other nucleoporins, forms an array of sites for mediated docking of transport substrate, and that bidirectional transport across the NPC proceeds by repeated docking and undocking reactions.\n",
      "\n",
      "generated_summary\n",
      "\n"
     ]
    },
    {
     "data": {
      "application/vnd.jupyter.widget-view+json": {
       "model_id": "748de7781efc4707865ffafd28c61979",
       "version_major": 2,
       "version_minor": 0
      },
      "text/plain": [
       "  0%|          | 0/100 [00:00<?, ?it/s]"
      ]
     },
     "metadata": {},
     "output_type": "display_data"
    },
    {
     "name": "stdout",
     "output_type": "stream",
     "text": [
      "The cellular effects of stromal cell-derived factor-1 (SDF-1) are mediated primarily by binding to the CXC chemokine receptor-4. We report in this study that SDF-1 and its peptide analogues induce a concentration- and time-dependent accumulation of phosphatidylinositol-(3,4,5)-trisphosphate (PtdIns(3,4,5)P3) in Jurkat cells. This SDF-1-stimulated generation of D-3 phosphoinositide lipids was inhibited by pretreatment of the cells with an SDF-1 peptide antagonist or an anti-CXCR4 Ab. In addition, the phosphoinositide 3 (PI 3)-kinase inhibitors wortmannin and LY294002, as well as the Gi protein inhibitor pertussis toxin, also inhibited the SDF-1-stimulated accumulation of PtdIns(3,4,5)P3. The effects of SDF-1 on D-3 phosphoinositide lipid accumulation correlated well with activation of the known PI 3-kinase effector protein kinase B, which was also inhibited by wortmannin and pertussis toxin. Concentrations of PI 3-kinase inhibitors, sufficient to inhibit PtdIns(3,4,5)P3 accumulation, also inhibited chemotaxis of Jurkat and peripheral blood-derived T lymphocytes in response to SDF-1. In contrast, SDF-1-stimulated actin polymerization was only partially inhibited by PI 3-kinase inhibitors, suggesting that while chemotaxis is fully dependent on PI 3-kinase activation, actin polymerization requires additional biochemical inputs. Finally, SDF-1-stimulated extracellular signal-related kinase (ERK)-1/2 mitogen-activated protein kinase activation was inhibited by PI 3-kinase inhibitors. In addition, the mitogen-activated protein/ERK kinase inhibitor PD098059 partially attenuated chemotaxis in response to SDF-1. Hence, it appears that ERK1/2 activation is dependent on PI 3-kinase activation, and both biochemical events are involved in the regulation of SDF-1-stimulated chemotaxis.\n",
      "\n",
      "generated_summary\n",
      "\n",
      "loss: 0.5506865978240967\n",
      "\n",
      "loss: 1.4932904243469238\n",
      "\n",
      "loss: 1.7819772958755493\n",
      "\n",
      "loss: 0.6845983266830444\n",
      "\n",
      "loss: 0.7125141024589539\n",
      "\n",
      "loss: 0.7956790924072266\n",
      "\n",
      "loss: 1.050580620765686\n",
      "\n",
      "loss: 0.6468438506126404\n",
      "\n",
      "loss: 0.8668233752250671\n",
      "\n",
      "loss: 0.9154104590415955\n",
      "\n"
     ]
    },
    {
     "data": {
      "application/vnd.jupyter.widget-view+json": {
       "model_id": "dcf3f1f6124a4784aa4fbd20ac6f061c",
       "version_major": 2,
       "version_minor": 0
      },
      "text/plain": [
       "Evaluating:   0%|          | 0/500 [00:00<?, ?it/s]"
      ]
     },
     "metadata": {},
     "output_type": "display_data"
    },
    {
     "name": "stdout",
     "output_type": "stream",
     "text": [
      "perplexity: 6.660360336303711\n",
      "After 891 updates: \n",
      "\n"
     ]
    },
    {
     "data": {
      "application/vnd.jupyter.widget-view+json": {
       "model_id": "872ad5baf4c6408fb33dbb88b975f872",
       "version_major": 2,
       "version_minor": 0
      },
      "text/plain": [
       "  0%|          | 0/100 [00:00<?, ?it/s]"
      ]
     },
     "metadata": {},
     "output_type": "display_data"
    },
    {
     "name": "stdout",
     "output_type": "stream",
     "text": [
      "We report the cDNA deduced primary structure of a wheat germ agglutinin-reactive nuclear pore complex (NPC) protein of rat. The protein, termed Nup98 (for nucleoporin of 98 kDa), contains numerous GLFG and FG repeats and some FXFG repeats and is thus a vertebrate member of a family of GLFG nucleoporins that were previously discovered in yeast. Immunoelectron microscopy showed Nup98 to be asymmetrically located at the nucleoplasmic side of the NPC. Nup98 functions as one of several docking site nucleoporins in a cytosolic docking activity-mediated binding of a model transport substrate. The docking site of Nup98 was mapped to its N-terminal half, which contains all of the peptide repeats. A recombinant segment of this region depleted the docking activity of cytosol. We suggest that the peptide repeat domain of Nup98, together with peptide repeat domains of other nucleoporins, forms an array of sites for mediated docking of transport substrate, and that bidirectional transport across the NPC proceeds by repeated docking and undocking reactions.\n",
      "\n",
      "generated_summary\n",
      "\n"
     ]
    },
    {
     "data": {
      "application/vnd.jupyter.widget-view+json": {
       "model_id": "4824fed949514dd4a8bf55cb2ec0f162",
       "version_major": 2,
       "version_minor": 0
      },
      "text/plain": [
       "  0%|          | 0/100 [00:00<?, ?it/s]"
      ]
     },
     "metadata": {},
     "output_type": "display_data"
    },
    {
     "name": "stdout",
     "output_type": "stream",
     "text": [
      "The cellular effects of stromal cell-derived factor-1 (SDF-1) are mediated primarily by binding to the CXC chemokine receptor-4. We report in this study that SDF-1 and its peptide analogues induce a concentration- and time-dependent accumulation of phosphatidylinositol-(3,4,5)-trisphosphate (PtdIns(3,4,5)P3) in Jurkat cells. This SDF-1-stimulated generation of D-3 phosphoinositide lipids was inhibited by pretreatment of the cells with an SDF-1 peptide antagonist or an anti-CXCR4 Ab. In addition, the phosphoinositide 3 (PI 3)-kinase inhibitors wortmannin and LY294002, as well as the Gi protein inhibitor pertussis toxin, also inhibited the SDF-1-stimulated accumulation of PtdIns(3,4,5)P3. The effects of SDF-1 on D-3 phosphoinositide lipid accumulation correlated well with activation of the known PI 3-kinase effector protein kinase B, which was also inhibited by wortmannin and pertussis toxin. Concentrations of PI 3-kinase inhibitors, sufficient to inhibit PtdIns(3,4,5)P3 accumulation, also inhibited chemotaxis of Jurkat and peripheral blood-derived T lymphocytes in response to SDF-1. In contrast, SDF-1-stimulated actin polymerization was only partially inhibited by PI 3-kinase inhibitors, suggesting that while chemotaxis is fully dependent on PI 3-kinase activation, actin polymerization requires additional biochemical inputs. Finally, SDF-1-stimulated extracellular signal-related kinase (ERK)-1/2 mitogen-activated protein kinase activation was inhibited by PI 3-kinase inhibitors. In addition, the mitogen-activated protein/ERK kinase inhibitor PD098059 partially attenuated chemotaxis in response to SDF-1. Hence, it appears that ERK1/2 activation is dependent on PI 3-kinase activation, and both biochemical events are involved in the regulation of SDF-1-stimulated chemotaxis.\n",
      "\n",
      "generated_summary\n",
      "\n",
      "loss: 1.7963230609893799\n",
      "\n",
      "loss: 0.4895908832550049\n",
      "\n",
      "loss: 1.4637929201126099\n",
      "\n",
      "loss: 0.8874614834785461\n",
      "\n",
      "loss: 1.40977942943573\n",
      "\n",
      "loss: 0.9538202881813049\n",
      "\n",
      "loss: 0.9949177503585815\n",
      "\n",
      "loss: 0.645449697971344\n",
      "\n",
      "loss: 1.0313156843185425\n",
      "\n",
      "loss: 1.0238302946090698\n",
      "\n"
     ]
    },
    {
     "data": {
      "application/vnd.jupyter.widget-view+json": {
       "model_id": "af13394cf61a4fb09e408010be7d2649",
       "version_major": 2,
       "version_minor": 0
      },
      "text/plain": [
       "Evaluating:   0%|          | 0/500 [00:00<?, ?it/s]"
      ]
     },
     "metadata": {},
     "output_type": "display_data"
    },
    {
     "name": "stdout",
     "output_type": "stream",
     "text": [
      "perplexity: 6.498543739318848\n",
      "After 901 updates: \n",
      "\n"
     ]
    },
    {
     "data": {
      "application/vnd.jupyter.widget-view+json": {
       "model_id": "ad97663d5f664cc991c7711cbc685b6f",
       "version_major": 2,
       "version_minor": 0
      },
      "text/plain": [
       "  0%|          | 0/100 [00:00<?, ?it/s]"
      ]
     },
     "metadata": {},
     "output_type": "display_data"
    },
    {
     "name": "stdout",
     "output_type": "stream",
     "text": [
      "We report the cDNA deduced primary structure of a wheat germ agglutinin-reactive nuclear pore complex (NPC) protein of rat. The protein, termed Nup98 (for nucleoporin of 98 kDa), contains numerous GLFG and FG repeats and some FXFG repeats and is thus a vertebrate member of a family of GLFG nucleoporins that were previously discovered in yeast. Immunoelectron microscopy showed Nup98 to be asymmetrically located at the nucleoplasmic side of the NPC. Nup98 functions as one of several docking site nucleoporins in a cytosolic docking activity-mediated binding of a model transport substrate. The docking site of Nup98 was mapped to its N-terminal half, which contains all of the peptide repeats. A recombinant segment of this region depleted the docking activity of cytosol. We suggest that the peptide repeat domain of Nup98, together with peptide repeat domains of other nucleoporins, forms an array of sites for mediated docking of transport substrate, and that bidirectional transport across the NPC proceeds by repeated docking and undocking reactions.\n",
      "\n",
      "generated_summary\n",
      "\n"
     ]
    },
    {
     "data": {
      "application/vnd.jupyter.widget-view+json": {
       "model_id": "335483497518490299d3163478cc29f2",
       "version_major": 2,
       "version_minor": 0
      },
      "text/plain": [
       "  0%|          | 0/100 [00:00<?, ?it/s]"
      ]
     },
     "metadata": {},
     "output_type": "display_data"
    },
    {
     "name": "stdout",
     "output_type": "stream",
     "text": [
      "The cellular effects of stromal cell-derived factor-1 (SDF-1) are mediated primarily by binding to the CXC chemokine receptor-4. We report in this study that SDF-1 and its peptide analogues induce a concentration- and time-dependent accumulation of phosphatidylinositol-(3,4,5)-trisphosphate (PtdIns(3,4,5)P3) in Jurkat cells. This SDF-1-stimulated generation of D-3 phosphoinositide lipids was inhibited by pretreatment of the cells with an SDF-1 peptide antagonist or an anti-CXCR4 Ab. In addition, the phosphoinositide 3 (PI 3)-kinase inhibitors wortmannin and LY294002, as well as the Gi protein inhibitor pertussis toxin, also inhibited the SDF-1-stimulated accumulation of PtdIns(3,4,5)P3. The effects of SDF-1 on D-3 phosphoinositide lipid accumulation correlated well with activation of the known PI 3-kinase effector protein kinase B, which was also inhibited by wortmannin and pertussis toxin. Concentrations of PI 3-kinase inhibitors, sufficient to inhibit PtdIns(3,4,5)P3 accumulation, also inhibited chemotaxis of Jurkat and peripheral blood-derived T lymphocytes in response to SDF-1. In contrast, SDF-1-stimulated actin polymerization was only partially inhibited by PI 3-kinase inhibitors, suggesting that while chemotaxis is fully dependent on PI 3-kinase activation, actin polymerization requires additional biochemical inputs. Finally, SDF-1-stimulated extracellular signal-related kinase (ERK)-1/2 mitogen-activated protein kinase activation was inhibited by PI 3-kinase inhibitors. In addition, the mitogen-activated protein/ERK kinase inhibitor PD098059 partially attenuated chemotaxis in response to SDF-1. Hence, it appears that ERK1/2 activation is dependent on PI 3-kinase activation, and both biochemical events are involved in the regulation of SDF-1-stimulated chemotaxis.\n",
      "\n",
      "generated_summary\n",
      "\n",
      "loss: 0.8110711574554443\n",
      "\n",
      "loss: 0.7547922730445862\n",
      "\n",
      "loss: 0.8867915272712708\n",
      "\n",
      "loss: 0.7377598881721497\n",
      "\n",
      "loss: 1.8165568113327026\n",
      "\n",
      "loss: 0.49445176124572754\n",
      "\n",
      "loss: 0.5225666165351868\n",
      "\n",
      "loss: 0.6156642436981201\n",
      "\n",
      "loss: 0.8156476020812988\n",
      "\n",
      "loss: 0.7051337361335754\n",
      "\n"
     ]
    },
    {
     "data": {
      "application/vnd.jupyter.widget-view+json": {
       "model_id": "9ce38b765f40431eb0ff5e39cb63337a",
       "version_major": 2,
       "version_minor": 0
      },
      "text/plain": [
       "Evaluating:   0%|          | 0/500 [00:00<?, ?it/s]"
      ]
     },
     "metadata": {},
     "output_type": "display_data"
    },
    {
     "name": "stdout",
     "output_type": "stream",
     "text": [
      "perplexity: 6.444574356079102\n",
      "After 911 updates: \n",
      "\n"
     ]
    },
    {
     "data": {
      "application/vnd.jupyter.widget-view+json": {
       "model_id": "55c33f45d6fe4f1bbcb5efdfa422eb8a",
       "version_major": 2,
       "version_minor": 0
      },
      "text/plain": [
       "  0%|          | 0/100 [00:00<?, ?it/s]"
      ]
     },
     "metadata": {},
     "output_type": "display_data"
    },
    {
     "name": "stdout",
     "output_type": "stream",
     "text": [
      "We report the cDNA deduced primary structure of a wheat germ agglutinin-reactive nuclear pore complex (NPC) protein of rat. The protein, termed Nup98 (for nucleoporin of 98 kDa), contains numerous GLFG and FG repeats and some FXFG repeats and is thus a vertebrate member of a family of GLFG nucleoporins that were previously discovered in yeast. Immunoelectron microscopy showed Nup98 to be asymmetrically located at the nucleoplasmic side of the NPC. Nup98 functions as one of several docking site nucleoporins in a cytosolic docking activity-mediated binding of a model transport substrate. The docking site of Nup98 was mapped to its N-terminal half, which contains all of the peptide repeats. A recombinant segment of this region depleted the docking activity of cytosol. We suggest that the peptide repeat domain of Nup98, together with peptide repeat domains of other nucleoporins, forms an array of sites for mediated docking of transport substrate, and that bidirectional transport across the NPC proceeds by repeated docking and undocking reactions.\n",
      "\n",
      "generated_summary\n",
      "\n"
     ]
    },
    {
     "data": {
      "application/vnd.jupyter.widget-view+json": {
       "model_id": "ebbd1998c59140c0a1c2429ba6ed7470",
       "version_major": 2,
       "version_minor": 0
      },
      "text/plain": [
       "  0%|          | 0/100 [00:00<?, ?it/s]"
      ]
     },
     "metadata": {},
     "output_type": "display_data"
    },
    {
     "name": "stdout",
     "output_type": "stream",
     "text": [
      "The cellular effects of stromal cell-derived factor-1 (SDF-1) are mediated primarily by binding to the CXC chemokine receptor-4. We report in this study that SDF-1 and its peptide analogues induce a concentration- and time-dependent accumulation of phosphatidylinositol-(3,4,5)-trisphosphate (PtdIns(3,4,5)P3) in Jurkat cells. This SDF-1-stimulated generation of D-3 phosphoinositide lipids was inhibited by pretreatment of the cells with an SDF-1 peptide antagonist or an anti-CXCR4 Ab. In addition, the phosphoinositide 3 (PI 3)-kinase inhibitors wortmannin and LY294002, as well as the Gi protein inhibitor pertussis toxin, also inhibited the SDF-1-stimulated accumulation of PtdIns(3,4,5)P3. The effects of SDF-1 on D-3 phosphoinositide lipid accumulation correlated well with activation of the known PI 3-kinase effector protein kinase B, which was also inhibited by wortmannin and pertussis toxin. Concentrations of PI 3-kinase inhibitors, sufficient to inhibit PtdIns(3,4,5)P3 accumulation, also inhibited chemotaxis of Jurkat and peripheral blood-derived T lymphocytes in response to SDF-1. In contrast, SDF-1-stimulated actin polymerization was only partially inhibited by PI 3-kinase inhibitors, suggesting that while chemotaxis is fully dependent on PI 3-kinase activation, actin polymerization requires additional biochemical inputs. Finally, SDF-1-stimulated extracellular signal-related kinase (ERK)-1/2 mitogen-activated protein kinase activation was inhibited by PI 3-kinase inhibitors. In addition, the mitogen-activated protein/ERK kinase inhibitor PD098059 partially attenuated chemotaxis in response to SDF-1. Hence, it appears that ERK1/2 activation is dependent on PI 3-kinase activation, and both biochemical events are involved in the regulation of SDF-1-stimulated chemotaxis.\n",
      "\n",
      "generated_summary\n",
      "\n",
      "loss: 0.6344308257102966\n",
      "\n",
      "loss: 0.8364182114601135\n",
      "\n",
      "loss: 0.6041402816772461\n",
      "\n",
      "loss: 1.2613078355789185\n",
      "\n",
      "loss: 1.0136839151382446\n",
      "\n",
      "loss: 0.4958755671977997\n",
      "\n",
      "loss: 0.3126060962677002\n",
      "\n",
      "loss: 1.736223816871643\n",
      "\n",
      "loss: 1.0145834684371948\n",
      "\n",
      "loss: 0.6049821376800537\n",
      "\n"
     ]
    },
    {
     "data": {
      "application/vnd.jupyter.widget-view+json": {
       "model_id": "1691ac1fb743412f8ed0fab3e4daf3e0",
       "version_major": 2,
       "version_minor": 0
      },
      "text/plain": [
       "Evaluating:   0%|          | 0/500 [00:00<?, ?it/s]"
      ]
     },
     "metadata": {},
     "output_type": "display_data"
    },
    {
     "name": "stdout",
     "output_type": "stream",
     "text": [
      "perplexity: 6.787003040313721\n",
      "After 921 updates: \n",
      "\n"
     ]
    },
    {
     "data": {
      "application/vnd.jupyter.widget-view+json": {
       "model_id": "b1b66b39e2294db5bc9c66e3f4241f88",
       "version_major": 2,
       "version_minor": 0
      },
      "text/plain": [
       "  0%|          | 0/100 [00:00<?, ?it/s]"
      ]
     },
     "metadata": {},
     "output_type": "display_data"
    },
    {
     "name": "stdout",
     "output_type": "stream",
     "text": [
      "We report the cDNA deduced primary structure of a wheat germ agglutinin-reactive nuclear pore complex (NPC) protein of rat. The protein, termed Nup98 (for nucleoporin of 98 kDa), contains numerous GLFG and FG repeats and some FXFG repeats and is thus a vertebrate member of a family of GLFG nucleoporins that were previously discovered in yeast. Immunoelectron microscopy showed Nup98 to be asymmetrically located at the nucleoplasmic side of the NPC. Nup98 functions as one of several docking site nucleoporins in a cytosolic docking activity-mediated binding of a model transport substrate. The docking site of Nup98 was mapped to its N-terminal half, which contains all of the peptide repeats. A recombinant segment of this region depleted the docking activity of cytosol. We suggest that the peptide repeat domain of Nup98, together with peptide repeat domains of other nucleoporins, forms an array of sites for mediated docking of transport substrate, and that bidirectional transport across the NPC proceeds by repeated docking and undocking reactions.\n",
      "\n",
      "generated_summary\n",
      "\n"
     ]
    },
    {
     "data": {
      "application/vnd.jupyter.widget-view+json": {
       "model_id": "b18c1c939576479ea1a3b629efef5728",
       "version_major": 2,
       "version_minor": 0
      },
      "text/plain": [
       "  0%|          | 0/100 [00:00<?, ?it/s]"
      ]
     },
     "metadata": {},
     "output_type": "display_data"
    },
    {
     "name": "stdout",
     "output_type": "stream",
     "text": [
      "The cellular effects of stromal cell-derived factor-1 (SDF-1) are mediated primarily by binding to the CXC chemokine receptor-4. We report in this study that SDF-1 and its peptide analogues induce a concentration- and time-dependent accumulation of phosphatidylinositol-(3,4,5)-trisphosphate (PtdIns(3,4,5)P3) in Jurkat cells. This SDF-1-stimulated generation of D-3 phosphoinositide lipids was inhibited by pretreatment of the cells with an SDF-1 peptide antagonist or an anti-CXCR4 Ab. In addition, the phosphoinositide 3 (PI 3)-kinase inhibitors wortmannin and LY294002, as well as the Gi protein inhibitor pertussis toxin, also inhibited the SDF-1-stimulated accumulation of PtdIns(3,4,5)P3. The effects of SDF-1 on D-3 phosphoinositide lipid accumulation correlated well with activation of the known PI 3-kinase effector protein kinase B, which was also inhibited by wortmannin and pertussis toxin. Concentrations of PI 3-kinase inhibitors, sufficient to inhibit PtdIns(3,4,5)P3 accumulation, also inhibited chemotaxis of Jurkat and peripheral blood-derived T lymphocytes in response to SDF-1. In contrast, SDF-1-stimulated actin polymerization was only partially inhibited by PI 3-kinase inhibitors, suggesting that while chemotaxis is fully dependent on PI 3-kinase activation, actin polymerization requires additional biochemical inputs. Finally, SDF-1-stimulated extracellular signal-related kinase (ERK)-1/2 mitogen-activated protein kinase activation was inhibited by PI 3-kinase inhibitors. In addition, the mitogen-activated protein/ERK kinase inhibitor PD098059 partially attenuated chemotaxis in response to SDF-1. Hence, it appears that ERK1/2 activation is dependent on PI 3-kinase activation, and both biochemical events are involved in the regulation of SDF-1-stimulated chemotaxis.\n",
      "\n",
      "generated_summary\n",
      "\n",
      "loss: 0.5967248678207397\n",
      "\n",
      "loss: 1.2353178262710571\n",
      "\n",
      "loss: 1.092491865158081\n",
      "\n",
      "loss: 0.37233972549438477\n",
      "\n",
      "loss: 0.8487157225608826\n",
      "\n",
      "loss: 1.295403003692627\n",
      "\n",
      "loss: 0.6807276010513306\n",
      "\n",
      "loss: 1.0280672311782837\n",
      "\n",
      "loss: 0.8601020574569702\n",
      "\n",
      "loss: 0.3850025534629822\n",
      "\n"
     ]
    },
    {
     "data": {
      "application/vnd.jupyter.widget-view+json": {
       "model_id": "8b54fdbb193548f095ce2e6442cca4cd",
       "version_major": 2,
       "version_minor": 0
      },
      "text/plain": [
       "Evaluating:   0%|          | 0/500 [00:00<?, ?it/s]"
      ]
     },
     "metadata": {},
     "output_type": "display_data"
    },
    {
     "name": "stdout",
     "output_type": "stream",
     "text": [
      "perplexity: 7.176123142242432\n",
      "After 931 updates: \n",
      "\n"
     ]
    },
    {
     "data": {
      "application/vnd.jupyter.widget-view+json": {
       "model_id": "982ed76f6e9649fb8dc5515009d4d6d0",
       "version_major": 2,
       "version_minor": 0
      },
      "text/plain": [
       "  0%|          | 0/100 [00:00<?, ?it/s]"
      ]
     },
     "metadata": {},
     "output_type": "display_data"
    },
    {
     "name": "stdout",
     "output_type": "stream",
     "text": [
      "We report the cDNA deduced primary structure of a wheat germ agglutinin-reactive nuclear pore complex (NPC) protein of rat. The protein, termed Nup98 (for nucleoporin of 98 kDa), contains numerous GLFG and FG repeats and some FXFG repeats and is thus a vertebrate member of a family of GLFG nucleoporins that were previously discovered in yeast. Immunoelectron microscopy showed Nup98 to be asymmetrically located at the nucleoplasmic side of the NPC. Nup98 functions as one of several docking site nucleoporins in a cytosolic docking activity-mediated binding of a model transport substrate. The docking site of Nup98 was mapped to its N-terminal half, which contains all of the peptide repeats. A recombinant segment of this region depleted the docking activity of cytosol. We suggest that the peptide repeat domain of Nup98, together with peptide repeat domains of other nucleoporins, forms an array of sites for mediated docking of transport substrate, and that bidirectional transport across the NPC proceeds by repeated docking and undocking reactions.\n",
      "\n",
      "generated_summary\n",
      "\n"
     ]
    },
    {
     "data": {
      "application/vnd.jupyter.widget-view+json": {
       "model_id": "a2dcc158793747b98f9c274ee4092775",
       "version_major": 2,
       "version_minor": 0
      },
      "text/plain": [
       "  0%|          | 0/100 [00:00<?, ?it/s]"
      ]
     },
     "metadata": {},
     "output_type": "display_data"
    },
    {
     "name": "stdout",
     "output_type": "stream",
     "text": [
      "The cellular effects of stromal cell-derived factor-1 (SDF-1) are mediated primarily by binding to the CXC chemokine receptor-4. We report in this study that SDF-1 and its peptide analogues induce a concentration- and time-dependent accumulation of phosphatidylinositol-(3,4,5)-trisphosphate (PtdIns(3,4,5)P3) in Jurkat cells. This SDF-1-stimulated generation of D-3 phosphoinositide lipids was inhibited by pretreatment of the cells with an SDF-1 peptide antagonist or an anti-CXCR4 Ab. In addition, the phosphoinositide 3 (PI 3)-kinase inhibitors wortmannin and LY294002, as well as the Gi protein inhibitor pertussis toxin, also inhibited the SDF-1-stimulated accumulation of PtdIns(3,4,5)P3. The effects of SDF-1 on D-3 phosphoinositide lipid accumulation correlated well with activation of the known PI 3-kinase effector protein kinase B, which was also inhibited by wortmannin and pertussis toxin. Concentrations of PI 3-kinase inhibitors, sufficient to inhibit PtdIns(3,4,5)P3 accumulation, also inhibited chemotaxis of Jurkat and peripheral blood-derived T lymphocytes in response to SDF-1. In contrast, SDF-1-stimulated actin polymerization was only partially inhibited by PI 3-kinase inhibitors, suggesting that while chemotaxis is fully dependent on PI 3-kinase activation, actin polymerization requires additional biochemical inputs. Finally, SDF-1-stimulated extracellular signal-related kinase (ERK)-1/2 mitogen-activated protein kinase activation was inhibited by PI 3-kinase inhibitors. In addition, the mitogen-activated protein/ERK kinase inhibitor PD098059 partially attenuated chemotaxis in response to SDF-1. Hence, it appears that ERK1/2 activation is dependent on PI 3-kinase activation, and both biochemical events are involved in the regulation of SDF-1-stimulated chemotaxis.\n",
      "\n",
      "generated_summary\n",
      "\n",
      "loss: 2.1068034172058105\n",
      "\n",
      "loss: 0.8939192891120911\n",
      "\n",
      "loss: 1.473207712173462\n",
      "\n",
      "loss: 0.6567444801330566\n",
      "\n",
      "loss: 1.943734884262085\n",
      "\n",
      "loss: 1.6295446157455444\n",
      "\n",
      "loss: 0.7339931130409241\n",
      "\n",
      "loss: 1.1580058336257935\n",
      "\n",
      "loss: 0.7917691469192505\n",
      "\n",
      "loss: 0.9674497246742249\n",
      "\n"
     ]
    },
    {
     "data": {
      "application/vnd.jupyter.widget-view+json": {
       "model_id": "5e3bac087e364122ad84c2ea420a1020",
       "version_major": 2,
       "version_minor": 0
      },
      "text/plain": [
       "Evaluating:   0%|          | 0/500 [00:00<?, ?it/s]"
      ]
     },
     "metadata": {},
     "output_type": "display_data"
    },
    {
     "name": "stdout",
     "output_type": "stream",
     "text": [
      "perplexity: 6.902914047241211\n",
      "After 941 updates: \n",
      "\n"
     ]
    },
    {
     "data": {
      "application/vnd.jupyter.widget-view+json": {
       "model_id": "dcadf7a5b63345008bf5d1b271b2494f",
       "version_major": 2,
       "version_minor": 0
      },
      "text/plain": [
       "  0%|          | 0/100 [00:00<?, ?it/s]"
      ]
     },
     "metadata": {},
     "output_type": "display_data"
    },
    {
     "name": "stdout",
     "output_type": "stream",
     "text": [
      "We report the cDNA deduced primary structure of a wheat germ agglutinin-reactive nuclear pore complex (NPC) protein of rat. The protein, termed Nup98 (for nucleoporin of 98 kDa), contains numerous GLFG and FG repeats and some FXFG repeats and is thus a vertebrate member of a family of GLFG nucleoporins that were previously discovered in yeast. Immunoelectron microscopy showed Nup98 to be asymmetrically located at the nucleoplasmic side of the NPC. Nup98 functions as one of several docking site nucleoporins in a cytosolic docking activity-mediated binding of a model transport substrate. The docking site of Nup98 was mapped to its N-terminal half, which contains all of the peptide repeats. A recombinant segment of this region depleted the docking activity of cytosol. We suggest that the peptide repeat domain of Nup98, together with peptide repeat domains of other nucleoporins, forms an array of sites for mediated docking of transport substrate, and that bidirectional transport across the NPC proceeds by repeated docking and undocking reactions.\n",
      "\n",
      "generated_summary\n",
      "\n"
     ]
    },
    {
     "data": {
      "application/vnd.jupyter.widget-view+json": {
       "model_id": "97677276912c4b6b8eb17895b4447606",
       "version_major": 2,
       "version_minor": 0
      },
      "text/plain": [
       "  0%|          | 0/100 [00:00<?, ?it/s]"
      ]
     },
     "metadata": {},
     "output_type": "display_data"
    },
    {
     "name": "stdout",
     "output_type": "stream",
     "text": [
      "The cellular effects of stromal cell-derived factor-1 (SDF-1) are mediated primarily by binding to the CXC chemokine receptor-4. We report in this study that SDF-1 and its peptide analogues induce a concentration- and time-dependent accumulation of phosphatidylinositol-(3,4,5)-trisphosphate (PtdIns(3,4,5)P3) in Jurkat cells. This SDF-1-stimulated generation of D-3 phosphoinositide lipids was inhibited by pretreatment of the cells with an SDF-1 peptide antagonist or an anti-CXCR4 Ab. In addition, the phosphoinositide 3 (PI 3)-kinase inhibitors wortmannin and LY294002, as well as the Gi protein inhibitor pertussis toxin, also inhibited the SDF-1-stimulated accumulation of PtdIns(3,4,5)P3. The effects of SDF-1 on D-3 phosphoinositide lipid accumulation correlated well with activation of the known PI 3-kinase effector protein kinase B, which was also inhibited by wortmannin and pertussis toxin. Concentrations of PI 3-kinase inhibitors, sufficient to inhibit PtdIns(3,4,5)P3 accumulation, also inhibited chemotaxis of Jurkat and peripheral blood-derived T lymphocytes in response to SDF-1. In contrast, SDF-1-stimulated actin polymerization was only partially inhibited by PI 3-kinase inhibitors, suggesting that while chemotaxis is fully dependent on PI 3-kinase activation, actin polymerization requires additional biochemical inputs. Finally, SDF-1-stimulated extracellular signal-related kinase (ERK)-1/2 mitogen-activated protein kinase activation was inhibited by PI 3-kinase inhibitors. In addition, the mitogen-activated protein/ERK kinase inhibitor PD098059 partially attenuated chemotaxis in response to SDF-1. Hence, it appears that ERK1/2 activation is dependent on PI 3-kinase activation, and both biochemical events are involved in the regulation of SDF-1-stimulated chemotaxis.\n",
      "\n",
      "generated_summary\n",
      "\n",
      "loss: 0.7482302784919739\n",
      "\n",
      "loss: 0.8310114741325378\n",
      "\n",
      "loss: 0.7955841422080994\n",
      "\n",
      "loss: 0.5204522609710693\n",
      "\n",
      "loss: 1.1097338199615479\n",
      "\n",
      "loss: 0.9830066561698914\n",
      "\n",
      "loss: 1.4499465227127075\n",
      "\n",
      "loss: 1.1867589950561523\n",
      "\n",
      "loss: 1.1214784383773804\n",
      "\n",
      "loss: 0.6963146328926086\n",
      "\n"
     ]
    },
    {
     "data": {
      "application/vnd.jupyter.widget-view+json": {
       "model_id": "54746e95524d49c88f84a9f0c0bf630f",
       "version_major": 2,
       "version_minor": 0
      },
      "text/plain": [
       "Evaluating:   0%|          | 0/500 [00:00<?, ?it/s]"
      ]
     },
     "metadata": {},
     "output_type": "display_data"
    },
    {
     "name": "stdout",
     "output_type": "stream",
     "text": [
      "perplexity: 6.502203464508057\n",
      "After 951 updates: \n",
      "\n"
     ]
    },
    {
     "data": {
      "application/vnd.jupyter.widget-view+json": {
       "model_id": "7824fe8d392443b684b8e590802c8e15",
       "version_major": 2,
       "version_minor": 0
      },
      "text/plain": [
       "  0%|          | 0/100 [00:00<?, ?it/s]"
      ]
     },
     "metadata": {},
     "output_type": "display_data"
    },
    {
     "name": "stdout",
     "output_type": "stream",
     "text": [
      "We report the cDNA deduced primary structure of a wheat germ agglutinin-reactive nuclear pore complex (NPC) protein of rat. The protein, termed Nup98 (for nucleoporin of 98 kDa), contains numerous GLFG and FG repeats and some FXFG repeats and is thus a vertebrate member of a family of GLFG nucleoporins that were previously discovered in yeast. Immunoelectron microscopy showed Nup98 to be asymmetrically located at the nucleoplasmic side of the NPC. Nup98 functions as one of several docking site nucleoporins in a cytosolic docking activity-mediated binding of a model transport substrate. The docking site of Nup98 was mapped to its N-terminal half, which contains all of the peptide repeats. A recombinant segment of this region depleted the docking activity of cytosol. We suggest that the peptide repeat domain of Nup98, together with peptide repeat domains of other nucleoporins, forms an array of sites for mediated docking of transport substrate, and that bidirectional transport across the NPC proceeds by repeated docking and undocking reactions.\n",
      "\n",
      "generated_summary\n",
      "\n"
     ]
    },
    {
     "data": {
      "application/vnd.jupyter.widget-view+json": {
       "model_id": "83928f044ec54ec8ae33f2c2a86f0a2a",
       "version_major": 2,
       "version_minor": 0
      },
      "text/plain": [
       "  0%|          | 0/100 [00:00<?, ?it/s]"
      ]
     },
     "metadata": {},
     "output_type": "display_data"
    },
    {
     "name": "stdout",
     "output_type": "stream",
     "text": [
      "The cellular effects of stromal cell-derived factor-1 (SDF-1) are mediated primarily by binding to the CXC chemokine receptor-4. We report in this study that SDF-1 and its peptide analogues induce a concentration- and time-dependent accumulation of phosphatidylinositol-(3,4,5)-trisphosphate (PtdIns(3,4,5)P3) in Jurkat cells. This SDF-1-stimulated generation of D-3 phosphoinositide lipids was inhibited by pretreatment of the cells with an SDF-1 peptide antagonist or an anti-CXCR4 Ab. In addition, the phosphoinositide 3 (PI 3)-kinase inhibitors wortmannin and LY294002, as well as the Gi protein inhibitor pertussis toxin, also inhibited the SDF-1-stimulated accumulation of PtdIns(3,4,5)P3. The effects of SDF-1 on D-3 phosphoinositide lipid accumulation correlated well with activation of the known PI 3-kinase effector protein kinase B, which was also inhibited by wortmannin and pertussis toxin. Concentrations of PI 3-kinase inhibitors, sufficient to inhibit PtdIns(3,4,5)P3 accumulation, also inhibited chemotaxis of Jurkat and peripheral blood-derived T lymphocytes in response to SDF-1. In contrast, SDF-1-stimulated actin polymerization was only partially inhibited by PI 3-kinase inhibitors, suggesting that while chemotaxis is fully dependent on PI 3-kinase activation, actin polymerization requires additional biochemical inputs. Finally, SDF-1-stimulated extracellular signal-related kinase (ERK)-1/2 mitogen-activated protein kinase activation was inhibited by PI 3-kinase inhibitors. In addition, the mitogen-activated protein/ERK kinase inhibitor PD098059 partially attenuated chemotaxis in response to SDF-1. Hence, it appears that ERK1/2 activation is dependent on PI 3-kinase activation, and both biochemical events are involved in the regulation of SDF-1-stimulated chemotaxis.\n",
      "\n",
      "generated_summary\n",
      "\n",
      "loss: 1.0433663129806519\n",
      "\n",
      "loss: 3.217008590698242\n",
      "\n",
      "loss: 0.6448529958724976\n",
      "\n",
      "loss: 1.5004825592041016\n",
      "\n",
      "loss: 1.3891164064407349\n",
      "\n",
      "loss: 1.493445873260498\n",
      "\n",
      "loss: 0.6059357523918152\n",
      "\n",
      "loss: 0.6695266962051392\n",
      "\n",
      "loss: 0.2621823251247406\n",
      "\n",
      "loss: 0.8833690881729126\n",
      "\n"
     ]
    },
    {
     "data": {
      "application/vnd.jupyter.widget-view+json": {
       "model_id": "6209f7194e47472499497ac96c0efd54",
       "version_major": 2,
       "version_minor": 0
      },
      "text/plain": [
       "Evaluating:   0%|          | 0/500 [00:00<?, ?it/s]"
      ]
     },
     "metadata": {},
     "output_type": "display_data"
    },
    {
     "name": "stdout",
     "output_type": "stream",
     "text": [
      "perplexity: 6.562532901763916\n",
      "After 961 updates: \n",
      "\n"
     ]
    },
    {
     "data": {
      "application/vnd.jupyter.widget-view+json": {
       "model_id": "725d46b7369140de92393ccecdb616ec",
       "version_major": 2,
       "version_minor": 0
      },
      "text/plain": [
       "  0%|          | 0/100 [00:00<?, ?it/s]"
      ]
     },
     "metadata": {},
     "output_type": "display_data"
    },
    {
     "name": "stdout",
     "output_type": "stream",
     "text": [
      "We report the cDNA deduced primary structure of a wheat germ agglutinin-reactive nuclear pore complex (NPC) protein of rat. The protein, termed Nup98 (for nucleoporin of 98 kDa), contains numerous GLFG and FG repeats and some FXFG repeats and is thus a vertebrate member of a family of GLFG nucleoporins that were previously discovered in yeast. Immunoelectron microscopy showed Nup98 to be asymmetrically located at the nucleoplasmic side of the NPC. Nup98 functions as one of several docking site nucleoporins in a cytosolic docking activity-mediated binding of a model transport substrate. The docking site of Nup98 was mapped to its N-terminal half, which contains all of the peptide repeats. A recombinant segment of this region depleted the docking activity of cytosol. We suggest that the peptide repeat domain of Nup98, together with peptide repeat domains of other nucleoporins, forms an array of sites for mediated docking of transport substrate, and that bidirectional transport across the NPC proceeds by repeated docking and undocking reactions.\n",
      "\n",
      "generated_summary\n",
      "\n"
     ]
    },
    {
     "data": {
      "application/vnd.jupyter.widget-view+json": {
       "model_id": "c75c469803be4c619f03fdd007b57bb5",
       "version_major": 2,
       "version_minor": 0
      },
      "text/plain": [
       "  0%|          | 0/100 [00:00<?, ?it/s]"
      ]
     },
     "metadata": {},
     "output_type": "display_data"
    },
    {
     "name": "stdout",
     "output_type": "stream",
     "text": [
      "The cellular effects of stromal cell-derived factor-1 (SDF-1) are mediated primarily by binding to the CXC chemokine receptor-4. We report in this study that SDF-1 and its peptide analogues induce a concentration- and time-dependent accumulation of phosphatidylinositol-(3,4,5)-trisphosphate (PtdIns(3,4,5)P3) in Jurkat cells. This SDF-1-stimulated generation of D-3 phosphoinositide lipids was inhibited by pretreatment of the cells with an SDF-1 peptide antagonist or an anti-CXCR4 Ab. In addition, the phosphoinositide 3 (PI 3)-kinase inhibitors wortmannin and LY294002, as well as the Gi protein inhibitor pertussis toxin, also inhibited the SDF-1-stimulated accumulation of PtdIns(3,4,5)P3. The effects of SDF-1 on D-3 phosphoinositide lipid accumulation correlated well with activation of the known PI 3-kinase effector protein kinase B, which was also inhibited by wortmannin and pertussis toxin. Concentrations of PI 3-kinase inhibitors, sufficient to inhibit PtdIns(3,4,5)P3 accumulation, also inhibited chemotaxis of Jurkat and peripheral blood-derived T lymphocytes in response to SDF-1. In contrast, SDF-1-stimulated actin polymerization was only partially inhibited by PI 3-kinase inhibitors, suggesting that while chemotaxis is fully dependent on PI 3-kinase activation, actin polymerization requires additional biochemical inputs. Finally, SDF-1-stimulated extracellular signal-related kinase (ERK)-1/2 mitogen-activated protein kinase activation was inhibited by PI 3-kinase inhibitors. In addition, the mitogen-activated protein/ERK kinase inhibitor PD098059 partially attenuated chemotaxis in response to SDF-1. Hence, it appears that ERK1/2 activation is dependent on PI 3-kinase activation, and both biochemical events are involved in the regulation of SDF-1-stimulated chemotaxis.\n",
      "\n",
      "generated_summary\n",
      "\n",
      "loss: 1.3582324981689453\n",
      "\n",
      "loss: 0.9316192269325256\n",
      "\n",
      "loss: 0.37877118587493896\n",
      "\n",
      "loss: 0.50566166639328\n",
      "\n",
      "loss: 1.2006598711013794\n",
      "\n",
      "loss: 0.8721515536308289\n",
      "\n",
      "loss: 1.1417540311813354\n",
      "\n",
      "loss: 0.7813079953193665\n",
      "\n",
      "loss: 0.5932052135467529\n",
      "\n",
      "loss: 1.090003252029419\n",
      "\n"
     ]
    },
    {
     "data": {
      "application/vnd.jupyter.widget-view+json": {
       "model_id": "c626cd707ac7498eada8e08623b8f7bc",
       "version_major": 2,
       "version_minor": 0
      },
      "text/plain": [
       "Evaluating:   0%|          | 0/500 [00:00<?, ?it/s]"
      ]
     },
     "metadata": {},
     "output_type": "display_data"
    },
    {
     "name": "stdout",
     "output_type": "stream",
     "text": [
      "perplexity: 6.557486534118652\n",
      "After 971 updates: \n",
      "\n"
     ]
    },
    {
     "data": {
      "application/vnd.jupyter.widget-view+json": {
       "model_id": "b7515ceb7fc346a2a1189de6b4d76a14",
       "version_major": 2,
       "version_minor": 0
      },
      "text/plain": [
       "  0%|          | 0/100 [00:00<?, ?it/s]"
      ]
     },
     "metadata": {},
     "output_type": "display_data"
    },
    {
     "name": "stdout",
     "output_type": "stream",
     "text": [
      "We report the cDNA deduced primary structure of a wheat germ agglutinin-reactive nuclear pore complex (NPC) protein of rat. The protein, termed Nup98 (for nucleoporin of 98 kDa), contains numerous GLFG and FG repeats and some FXFG repeats and is thus a vertebrate member of a family of GLFG nucleoporins that were previously discovered in yeast. Immunoelectron microscopy showed Nup98 to be asymmetrically located at the nucleoplasmic side of the NPC. Nup98 functions as one of several docking site nucleoporins in a cytosolic docking activity-mediated binding of a model transport substrate. The docking site of Nup98 was mapped to its N-terminal half, which contains all of the peptide repeats. A recombinant segment of this region depleted the docking activity of cytosol. We suggest that the peptide repeat domain of Nup98, together with peptide repeat domains of other nucleoporins, forms an array of sites for mediated docking of transport substrate, and that bidirectional transport across the NPC proceeds by repeated docking and undocking reactions.\n",
      "\n",
      "generated_summary\n",
      "\n"
     ]
    },
    {
     "data": {
      "application/vnd.jupyter.widget-view+json": {
       "model_id": "3c30b8f246ad4ad9b5416d1abbba0fd8",
       "version_major": 2,
       "version_minor": 0
      },
      "text/plain": [
       "  0%|          | 0/100 [00:00<?, ?it/s]"
      ]
     },
     "metadata": {},
     "output_type": "display_data"
    },
    {
     "name": "stdout",
     "output_type": "stream",
     "text": [
      "The cellular effects of stromal cell-derived factor-1 (SDF-1) are mediated primarily by binding to the CXC chemokine receptor-4. We report in this study that SDF-1 and its peptide analogues induce a concentration- and time-dependent accumulation of phosphatidylinositol-(3,4,5)-trisphosphate (PtdIns(3,4,5)P3) in Jurkat cells. This SDF-1-stimulated generation of D-3 phosphoinositide lipids was inhibited by pretreatment of the cells with an SDF-1 peptide antagonist or an anti-CXCR4 Ab. In addition, the phosphoinositide 3 (PI 3)-kinase inhibitors wortmannin and LY294002, as well as the Gi protein inhibitor pertussis toxin, also inhibited the SDF-1-stimulated accumulation of PtdIns(3,4,5)P3. The effects of SDF-1 on D-3 phosphoinositide lipid accumulation correlated well with activation of the known PI 3-kinase effector protein kinase B, which was also inhibited by wortmannin and pertussis toxin. Concentrations of PI 3-kinase inhibitors, sufficient to inhibit PtdIns(3,4,5)P3 accumulation, also inhibited chemotaxis of Jurkat and peripheral blood-derived T lymphocytes in response to SDF-1. In contrast, SDF-1-stimulated actin polymerization was only partially inhibited by PI 3-kinase inhibitors, suggesting that while chemotaxis is fully dependent on PI 3-kinase activation, actin polymerization requires additional biochemical inputs. Finally, SDF-1-stimulated extracellular signal-related kinase (ERK)-1/2 mitogen-activated protein kinase activation was inhibited by PI 3-kinase inhibitors. In addition, the mitogen-activated protein/ERK kinase inhibitor PD098059 partially attenuated chemotaxis in response to SDF-1. Hence, it appears that ERK1/2 activation is dependent on PI 3-kinase activation, and both biochemical events are involved in the regulation of SDF-1-stimulated chemotaxis.\n",
      "\n",
      "generated_summary\n",
      "\n",
      "loss: 0.7921638488769531\n",
      "\n",
      "loss: 1.1028928756713867\n",
      "\n",
      "loss: 0.45938146114349365\n",
      "\n",
      "loss: 1.188520073890686\n",
      "\n",
      "loss: 0.7443494200706482\n",
      "\n",
      "loss: 1.5910897254943848\n",
      "\n",
      "loss: 0.9169943928718567\n",
      "\n",
      "loss: 0.58430415391922\n",
      "\n",
      "loss: 2.3294355869293213\n",
      "\n",
      "loss: 0.406568318605423\n",
      "\n"
     ]
    },
    {
     "data": {
      "application/vnd.jupyter.widget-view+json": {
       "model_id": "3b0ec31799b54a2da703ed0ad5b5fe2f",
       "version_major": 2,
       "version_minor": 0
      },
      "text/plain": [
       "Evaluating:   0%|          | 0/500 [00:00<?, ?it/s]"
      ]
     },
     "metadata": {},
     "output_type": "display_data"
    },
    {
     "name": "stdout",
     "output_type": "stream",
     "text": [
      "perplexity: 6.671520233154297\n",
      "After 981 updates: \n",
      "\n"
     ]
    },
    {
     "data": {
      "application/vnd.jupyter.widget-view+json": {
       "model_id": "93b5d21f6e22438ca12c918470e335e1",
       "version_major": 2,
       "version_minor": 0
      },
      "text/plain": [
       "  0%|          | 0/100 [00:00<?, ?it/s]"
      ]
     },
     "metadata": {},
     "output_type": "display_data"
    },
    {
     "name": "stdout",
     "output_type": "stream",
     "text": [
      "We report the cDNA deduced primary structure of a wheat germ agglutinin-reactive nuclear pore complex (NPC) protein of rat. The protein, termed Nup98 (for nucleoporin of 98 kDa), contains numerous GLFG and FG repeats and some FXFG repeats and is thus a vertebrate member of a family of GLFG nucleoporins that were previously discovered in yeast. Immunoelectron microscopy showed Nup98 to be asymmetrically located at the nucleoplasmic side of the NPC. Nup98 functions as one of several docking site nucleoporins in a cytosolic docking activity-mediated binding of a model transport substrate. The docking site of Nup98 was mapped to its N-terminal half, which contains all of the peptide repeats. A recombinant segment of this region depleted the docking activity of cytosol. We suggest that the peptide repeat domain of Nup98, together with peptide repeat domains of other nucleoporins, forms an array of sites for mediated docking of transport substrate, and that bidirectional transport across the NPC proceeds by repeated docking and undocking reactions.\n",
      "\n",
      "generated_summary\n",
      "\n"
     ]
    },
    {
     "data": {
      "application/vnd.jupyter.widget-view+json": {
       "model_id": "8469b33ed2b74d359f70f22712cd9ba1",
       "version_major": 2,
       "version_minor": 0
      },
      "text/plain": [
       "  0%|          | 0/100 [00:00<?, ?it/s]"
      ]
     },
     "metadata": {},
     "output_type": "display_data"
    },
    {
     "name": "stdout",
     "output_type": "stream",
     "text": [
      "The cellular effects of stromal cell-derived factor-1 (SDF-1) are mediated primarily by binding to the CXC chemokine receptor-4. We report in this study that SDF-1 and its peptide analogues induce a concentration- and time-dependent accumulation of phosphatidylinositol-(3,4,5)-trisphosphate (PtdIns(3,4,5)P3) in Jurkat cells. This SDF-1-stimulated generation of D-3 phosphoinositide lipids was inhibited by pretreatment of the cells with an SDF-1 peptide antagonist or an anti-CXCR4 Ab. In addition, the phosphoinositide 3 (PI 3)-kinase inhibitors wortmannin and LY294002, as well as the Gi protein inhibitor pertussis toxin, also inhibited the SDF-1-stimulated accumulation of PtdIns(3,4,5)P3. The effects of SDF-1 on D-3 phosphoinositide lipid accumulation correlated well with activation of the known PI 3-kinase effector protein kinase B, which was also inhibited by wortmannin and pertussis toxin. Concentrations of PI 3-kinase inhibitors, sufficient to inhibit PtdIns(3,4,5)P3 accumulation, also inhibited chemotaxis of Jurkat and peripheral blood-derived T lymphocytes in response to SDF-1. In contrast, SDF-1-stimulated actin polymerization was only partially inhibited by PI 3-kinase inhibitors, suggesting that while chemotaxis is fully dependent on PI 3-kinase activation, actin polymerization requires additional biochemical inputs. Finally, SDF-1-stimulated extracellular signal-related kinase (ERK)-1/2 mitogen-activated protein kinase activation was inhibited by PI 3-kinase inhibitors. In addition, the mitogen-activated protein/ERK kinase inhibitor PD098059 partially attenuated chemotaxis in response to SDF-1. Hence, it appears that ERK1/2 activation is dependent on PI 3-kinase activation, and both biochemical events are involved in the regulation of SDF-1-stimulated chemotaxis.\n",
      "\n",
      "generated_summary\n",
      "\n",
      "loss: 1.0560741424560547\n",
      "\n",
      "loss: 1.1663516759872437\n",
      "\n",
      "loss: 0.8934478759765625\n",
      "\n",
      "loss: 0.5293189883232117\n",
      "\n",
      "loss: 1.1352384090423584\n",
      "\n",
      "loss: 1.1190203428268433\n",
      "\n",
      "loss: 0.5721484422683716\n",
      "\n",
      "loss: 0.788658857345581\n",
      "\n",
      "loss: 1.100066900253296\n",
      "\n",
      "loss: 2.288179636001587\n",
      "\n"
     ]
    },
    {
     "data": {
      "application/vnd.jupyter.widget-view+json": {
       "model_id": "f1b5beddb9de4e85812978196c8a029e",
       "version_major": 2,
       "version_minor": 0
      },
      "text/plain": [
       "Evaluating:   0%|          | 0/500 [00:00<?, ?it/s]"
      ]
     },
     "metadata": {},
     "output_type": "display_data"
    },
    {
     "name": "stdout",
     "output_type": "stream",
     "text": [
      "perplexity: 6.588087558746338\n",
      "After 991 updates: \n",
      "\n"
     ]
    },
    {
     "data": {
      "application/vnd.jupyter.widget-view+json": {
       "model_id": "997455a61342487ebf9eaaeb40288d0a",
       "version_major": 2,
       "version_minor": 0
      },
      "text/plain": [
       "  0%|          | 0/100 [00:00<?, ?it/s]"
      ]
     },
     "metadata": {},
     "output_type": "display_data"
    },
    {
     "name": "stdout",
     "output_type": "stream",
     "text": [
      "We report the cDNA deduced primary structure of a wheat germ agglutinin-reactive nuclear pore complex (NPC) protein of rat. The protein, termed Nup98 (for nucleoporin of 98 kDa), contains numerous GLFG and FG repeats and some FXFG repeats and is thus a vertebrate member of a family of GLFG nucleoporins that were previously discovered in yeast. Immunoelectron microscopy showed Nup98 to be asymmetrically located at the nucleoplasmic side of the NPC. Nup98 functions as one of several docking site nucleoporins in a cytosolic docking activity-mediated binding of a model transport substrate. The docking site of Nup98 was mapped to its N-terminal half, which contains all of the peptide repeats. A recombinant segment of this region depleted the docking activity of cytosol. We suggest that the peptide repeat domain of Nup98, together with peptide repeat domains of other nucleoporins, forms an array of sites for mediated docking of transport substrate, and that bidirectional transport across the NPC proceeds by repeated docking and undocking reactions.\n",
      "\n",
      "generated_summary\n",
      "\n"
     ]
    },
    {
     "data": {
      "application/vnd.jupyter.widget-view+json": {
       "model_id": "35fab6693a19456daf874340f09375f4",
       "version_major": 2,
       "version_minor": 0
      },
      "text/plain": [
       "  0%|          | 0/100 [00:00<?, ?it/s]"
      ]
     },
     "metadata": {},
     "output_type": "display_data"
    },
    {
     "name": "stdout",
     "output_type": "stream",
     "text": [
      "The cellular effects of stromal cell-derived factor-1 (SDF-1) are mediated primarily by binding to the CXC chemokine receptor-4. We report in this study that SDF-1 and its peptide analogues induce a concentration- and time-dependent accumulation of phosphatidylinositol-(3,4,5)-trisphosphate (PtdIns(3,4,5)P3) in Jurkat cells. This SDF-1-stimulated generation of D-3 phosphoinositide lipids was inhibited by pretreatment of the cells with an SDF-1 peptide antagonist or an anti-CXCR4 Ab. In addition, the phosphoinositide 3 (PI 3)-kinase inhibitors wortmannin and LY294002, as well as the Gi protein inhibitor pertussis toxin, also inhibited the SDF-1-stimulated accumulation of PtdIns(3,4,5)P3. The effects of SDF-1 on D-3 phosphoinositide lipid accumulation correlated well with activation of the known PI 3-kinase effector protein kinase B, which was also inhibited by wortmannin and pertussis toxin. Concentrations of PI 3-kinase inhibitors, sufficient to inhibit PtdIns(3,4,5)P3 accumulation, also inhibited chemotaxis of Jurkat and peripheral blood-derived T lymphocytes in response to SDF-1. In contrast, SDF-1-stimulated actin polymerization was only partially inhibited by PI 3-kinase inhibitors, suggesting that while chemotaxis is fully dependent on PI 3-kinase activation, actin polymerization requires additional biochemical inputs. Finally, SDF-1-stimulated extracellular signal-related kinase (ERK)-1/2 mitogen-activated protein kinase activation was inhibited by PI 3-kinase inhibitors. In addition, the mitogen-activated protein/ERK kinase inhibitor PD098059 partially attenuated chemotaxis in response to SDF-1. Hence, it appears that ERK1/2 activation is dependent on PI 3-kinase activation, and both biochemical events are involved in the regulation of SDF-1-stimulated chemotaxis.\n",
      "\n",
      "generated_summary\n",
      "\n",
      "loss: 1.6050480604171753\n",
      "\n",
      "loss: 0.9400160312652588\n",
      "\n",
      "loss: 0.8573678731918335\n",
      "\n",
      "loss: 1.9849740266799927\n",
      "\n",
      "loss: 0.752650260925293\n",
      "\n",
      "loss: 1.4179459810256958\n",
      "\n",
      "loss: 0.15445967018604279\n",
      "\n",
      "loss: 0.6924451589584351\n",
      "\n",
      "loss: 1.0494756698608398\n",
      "\n",
      "loss: 0.7117026448249817\n",
      "\n"
     ]
    },
    {
     "data": {
      "application/vnd.jupyter.widget-view+json": {
       "model_id": "b19591c13a184658bac720fb0bba1c0e",
       "version_major": 2,
       "version_minor": 0
      },
      "text/plain": [
       "Evaluating:   0%|          | 0/500 [00:00<?, ?it/s]"
      ]
     },
     "metadata": {},
     "output_type": "display_data"
    },
    {
     "name": "stdout",
     "output_type": "stream",
     "text": [
      "perplexity: 6.294692039489746\n",
      "After 1001 updates: \n",
      "\n"
     ]
    },
    {
     "data": {
      "application/vnd.jupyter.widget-view+json": {
       "model_id": "6641e8ea142d417787b3100f561cabc8",
       "version_major": 2,
       "version_minor": 0
      },
      "text/plain": [
       "  0%|          | 0/100 [00:00<?, ?it/s]"
      ]
     },
     "metadata": {},
     "output_type": "display_data"
    },
    {
     "name": "stdout",
     "output_type": "stream",
     "text": [
      "We report the cDNA deduced primary structure of a wheat germ agglutinin-reactive nuclear pore complex (NPC) protein of rat. The protein, termed Nup98 (for nucleoporin of 98 kDa), contains numerous GLFG and FG repeats and some FXFG repeats and is thus a vertebrate member of a family of GLFG nucleoporins that were previously discovered in yeast. Immunoelectron microscopy showed Nup98 to be asymmetrically located at the nucleoplasmic side of the NPC. Nup98 functions as one of several docking site nucleoporins in a cytosolic docking activity-mediated binding of a model transport substrate. The docking site of Nup98 was mapped to its N-terminal half, which contains all of the peptide repeats. A recombinant segment of this region depleted the docking activity of cytosol. We suggest that the peptide repeat domain of Nup98, together with peptide repeat domains of other nucleoporins, forms an array of sites for mediated docking of transport substrate, and that bidirectional transport across the NPC proceeds by repeated docking and undocking reactions.\n",
      "\n",
      "generated_summary\n",
      "\n"
     ]
    },
    {
     "data": {
      "application/vnd.jupyter.widget-view+json": {
       "model_id": "6fd28a131cd0411ba20c40c81d30b388",
       "version_major": 2,
       "version_minor": 0
      },
      "text/plain": [
       "  0%|          | 0/100 [00:00<?, ?it/s]"
      ]
     },
     "metadata": {},
     "output_type": "display_data"
    },
    {
     "name": "stdout",
     "output_type": "stream",
     "text": [
      "The cellular effects of stromal cell-derived factor-1 (SDF-1) are mediated primarily by binding to the CXC chemokine receptor-4. We report in this study that SDF-1 and its peptide analogues induce a concentration- and time-dependent accumulation of phosphatidylinositol-(3,4,5)-trisphosphate (PtdIns(3,4,5)P3) in Jurkat cells. This SDF-1-stimulated generation of D-3 phosphoinositide lipids was inhibited by pretreatment of the cells with an SDF-1 peptide antagonist or an anti-CXCR4 Ab. In addition, the phosphoinositide 3 (PI 3)-kinase inhibitors wortmannin and LY294002, as well as the Gi protein inhibitor pertussis toxin, also inhibited the SDF-1-stimulated accumulation of PtdIns(3,4,5)P3. The effects of SDF-1 on D-3 phosphoinositide lipid accumulation correlated well with activation of the known PI 3-kinase effector protein kinase B, which was also inhibited by wortmannin and pertussis toxin. Concentrations of PI 3-kinase inhibitors, sufficient to inhibit PtdIns(3,4,5)P3 accumulation, also inhibited chemotaxis of Jurkat and peripheral blood-derived T lymphocytes in response to SDF-1. In contrast, SDF-1-stimulated actin polymerization was only partially inhibited by PI 3-kinase inhibitors, suggesting that while chemotaxis is fully dependent on PI 3-kinase activation, actin polymerization requires additional biochemical inputs. Finally, SDF-1-stimulated extracellular signal-related kinase (ERK)-1/2 mitogen-activated protein kinase activation was inhibited by PI 3-kinase inhibitors. In addition, the mitogen-activated protein/ERK kinase inhibitor PD098059 partially attenuated chemotaxis in response to SDF-1. Hence, it appears that ERK1/2 activation is dependent on PI 3-kinase activation, and both biochemical events are involved in the regulation of SDF-1-stimulated chemotaxis.\n",
      "\n",
      "generated_summary\n",
      "\n",
      "loss: 1.1389551162719727\n",
      "\n",
      "loss: 0.7762290239334106\n",
      "\n",
      "loss: 1.1573946475982666\n",
      "\n",
      "loss: 0.6539338827133179\n",
      "\n",
      "loss: 0.9779677391052246\n",
      "\n",
      "loss: 0.4151981770992279\n",
      "\n",
      "loss: 0.5744898319244385\n",
      "\n",
      "loss: 0.8235220909118652\n",
      "\n",
      "loss: 0.4238658547401428\n",
      "\n",
      "loss: 0.18801166117191315\n",
      "\n"
     ]
    },
    {
     "data": {
      "application/vnd.jupyter.widget-view+json": {
       "model_id": "2f2c9e9d59ee43529f2d19d65ee788f1",
       "version_major": 2,
       "version_minor": 0
      },
      "text/plain": [
       "Evaluating:   0%|          | 0/500 [00:00<?, ?it/s]"
      ]
     },
     "metadata": {},
     "output_type": "display_data"
    },
    {
     "name": "stdout",
     "output_type": "stream",
     "text": [
      "perplexity: 6.304768085479736\n",
      "After 1011 updates: \n",
      "\n"
     ]
    },
    {
     "data": {
      "application/vnd.jupyter.widget-view+json": {
       "model_id": "537161fb0ecb45e4bcbd807de3cfd1a3",
       "version_major": 2,
       "version_minor": 0
      },
      "text/plain": [
       "  0%|          | 0/100 [00:00<?, ?it/s]"
      ]
     },
     "metadata": {},
     "output_type": "display_data"
    },
    {
     "name": "stdout",
     "output_type": "stream",
     "text": [
      "We report the cDNA deduced primary structure of a wheat germ agglutinin-reactive nuclear pore complex (NPC) protein of rat. The protein, termed Nup98 (for nucleoporin of 98 kDa), contains numerous GLFG and FG repeats and some FXFG repeats and is thus a vertebrate member of a family of GLFG nucleoporins that were previously discovered in yeast. Immunoelectron microscopy showed Nup98 to be asymmetrically located at the nucleoplasmic side of the NPC. Nup98 functions as one of several docking site nucleoporins in a cytosolic docking activity-mediated binding of a model transport substrate. The docking site of Nup98 was mapped to its N-terminal half, which contains all of the peptide repeats. A recombinant segment of this region depleted the docking activity of cytosol. We suggest that the peptide repeat domain of Nup98, together with peptide repeat domains of other nucleoporins, forms an array of sites for mediated docking of transport substrate, and that bidirectional transport across the NPC proceeds by repeated docking and undocking reactions.\n",
      "\n",
      "generated_summary\n",
      "\n"
     ]
    },
    {
     "data": {
      "application/vnd.jupyter.widget-view+json": {
       "model_id": "58d859b4f3f8445290588e7235ff8ece",
       "version_major": 2,
       "version_minor": 0
      },
      "text/plain": [
       "  0%|          | 0/100 [00:00<?, ?it/s]"
      ]
     },
     "metadata": {},
     "output_type": "display_data"
    },
    {
     "name": "stdout",
     "output_type": "stream",
     "text": [
      "The cellular effects of stromal cell-derived factor-1 (SDF-1) are mediated primarily by binding to the CXC chemokine receptor-4. We report in this study that SDF-1 and its peptide analogues induce a concentration- and time-dependent accumulation of phosphatidylinositol-(3,4,5)-trisphosphate (PtdIns(3,4,5)P3) in Jurkat cells. This SDF-1-stimulated generation of D-3 phosphoinositide lipids was inhibited by pretreatment of the cells with an SDF-1 peptide antagonist or an anti-CXCR4 Ab. In addition, the phosphoinositide 3 (PI 3)-kinase inhibitors wortmannin and LY294002, as well as the Gi protein inhibitor pertussis toxin, also inhibited the SDF-1-stimulated accumulation of PtdIns(3,4,5)P3. The effects of SDF-1 on D-3 phosphoinositide lipid accumulation correlated well with activation of the known PI 3-kinase effector protein kinase B, which was also inhibited by wortmannin and pertussis toxin. Concentrations of PI 3-kinase inhibitors, sufficient to inhibit PtdIns(3,4,5)P3 accumulation, also inhibited chemotaxis of Jurkat and peripheral blood-derived T lymphocytes in response to SDF-1. In contrast, SDF-1-stimulated actin polymerization was only partially inhibited by PI 3-kinase inhibitors, suggesting that while chemotaxis is fully dependent on PI 3-kinase activation, actin polymerization requires additional biochemical inputs. Finally, SDF-1-stimulated extracellular signal-related kinase (ERK)-1/2 mitogen-activated protein kinase activation was inhibited by PI 3-kinase inhibitors. In addition, the mitogen-activated protein/ERK kinase inhibitor PD098059 partially attenuated chemotaxis in response to SDF-1. Hence, it appears that ERK1/2 activation is dependent on PI 3-kinase activation, and both biochemical events are involved in the regulation of SDF-1-stimulated chemotaxis.\n",
      "\n",
      "generated_summary\n",
      "\n",
      "loss: 0.8895459175109863\n",
      "\n",
      "loss: 1.1878858804702759\n",
      "\n",
      "loss: 1.005513310432434\n",
      "\n",
      "loss: 1.4251294136047363\n",
      "\n",
      "loss: 1.0196620225906372\n",
      "\n",
      "loss: 0.8611474633216858\n",
      "\n",
      "loss: 0.8394680619239807\n",
      "\n",
      "loss: 0.9871644377708435\n",
      "\n",
      "loss: 0.3038342297077179\n",
      "\n",
      "loss: 1.3915553092956543\n",
      "\n"
     ]
    },
    {
     "data": {
      "application/vnd.jupyter.widget-view+json": {
       "model_id": "da1d9e46aa3043489b28189119b3a7e4",
       "version_major": 2,
       "version_minor": 0
      },
      "text/plain": [
       "Evaluating:   0%|          | 0/500 [00:00<?, ?it/s]"
      ]
     },
     "metadata": {},
     "output_type": "display_data"
    },
    {
     "name": "stdout",
     "output_type": "stream",
     "text": [
      "perplexity: 6.38535213470459\n",
      "After 1021 updates: \n",
      "\n"
     ]
    },
    {
     "data": {
      "application/vnd.jupyter.widget-view+json": {
       "model_id": "39be4aeff32740738bcd1ad8a7028fa0",
       "version_major": 2,
       "version_minor": 0
      },
      "text/plain": [
       "  0%|          | 0/100 [00:00<?, ?it/s]"
      ]
     },
     "metadata": {},
     "output_type": "display_data"
    },
    {
     "name": "stdout",
     "output_type": "stream",
     "text": [
      "We report the cDNA deduced primary structure of a wheat germ agglutinin-reactive nuclear pore complex (NPC) protein of rat. The protein, termed Nup98 (for nucleoporin of 98 kDa), contains numerous GLFG and FG repeats and some FXFG repeats and is thus a vertebrate member of a family of GLFG nucleoporins that were previously discovered in yeast. Immunoelectron microscopy showed Nup98 to be asymmetrically located at the nucleoplasmic side of the NPC. Nup98 functions as one of several docking site nucleoporins in a cytosolic docking activity-mediated binding of a model transport substrate. The docking site of Nup98 was mapped to its N-terminal half, which contains all of the peptide repeats. A recombinant segment of this region depleted the docking activity of cytosol. We suggest that the peptide repeat domain of Nup98, together with peptide repeat domains of other nucleoporins, forms an array of sites for mediated docking of transport substrate, and that bidirectional transport across the NPC proceeds by repeated docking and undocking reactions.\n",
      "\n",
      "generated_summary\n",
      "\n"
     ]
    },
    {
     "data": {
      "application/vnd.jupyter.widget-view+json": {
       "model_id": "f7c06f16d2cc4cceabc14001416aa4bf",
       "version_major": 2,
       "version_minor": 0
      },
      "text/plain": [
       "  0%|          | 0/100 [00:00<?, ?it/s]"
      ]
     },
     "metadata": {},
     "output_type": "display_data"
    },
    {
     "name": "stdout",
     "output_type": "stream",
     "text": [
      "The cellular effects of stromal cell-derived factor-1 (SDF-1) are mediated primarily by binding to the CXC chemokine receptor-4. We report in this study that SDF-1 and its peptide analogues induce a concentration- and time-dependent accumulation of phosphatidylinositol-(3,4,5)-trisphosphate (PtdIns(3,4,5)P3) in Jurkat cells. This SDF-1-stimulated generation of D-3 phosphoinositide lipids was inhibited by pretreatment of the cells with an SDF-1 peptide antagonist or an anti-CXCR4 Ab. In addition, the phosphoinositide 3 (PI 3)-kinase inhibitors wortmannin and LY294002, as well as the Gi protein inhibitor pertussis toxin, also inhibited the SDF-1-stimulated accumulation of PtdIns(3,4,5)P3. The effects of SDF-1 on D-3 phosphoinositide lipid accumulation correlated well with activation of the known PI 3-kinase effector protein kinase B, which was also inhibited by wortmannin and pertussis toxin. Concentrations of PI 3-kinase inhibitors, sufficient to inhibit PtdIns(3,4,5)P3 accumulation, also inhibited chemotaxis of Jurkat and peripheral blood-derived T lymphocytes in response to SDF-1. In contrast, SDF-1-stimulated actin polymerization was only partially inhibited by PI 3-kinase inhibitors, suggesting that while chemotaxis is fully dependent on PI 3-kinase activation, actin polymerization requires additional biochemical inputs. Finally, SDF-1-stimulated extracellular signal-related kinase (ERK)-1/2 mitogen-activated protein kinase activation was inhibited by PI 3-kinase inhibitors. In addition, the mitogen-activated protein/ERK kinase inhibitor PD098059 partially attenuated chemotaxis in response to SDF-1. Hence, it appears that ERK1/2 activation is dependent on PI 3-kinase activation, and both biochemical events are involved in the regulation of SDF-1-stimulated chemotaxis.\n",
      "\n",
      "generated_summary\n",
      "\n",
      "loss: 1.096691608428955\n",
      "\n",
      "loss: 0.5682411789894104\n",
      "\n",
      "loss: 0.9369710683822632\n",
      "\n",
      "loss: 1.6268430948257446\n",
      "\n",
      "loss: 0.5922116041183472\n",
      "\n",
      "loss: 1.2565045356750488\n",
      "\n",
      "loss: 0.8959689140319824\n",
      "\n",
      "loss: 1.0730950832366943\n",
      "\n",
      "loss: 0.6297645568847656\n",
      "\n",
      "loss: 0.8917497992515564\n",
      "\n"
     ]
    },
    {
     "data": {
      "application/vnd.jupyter.widget-view+json": {
       "model_id": "ca17dcb23d1a4a2ea3ace384f5e4b509",
       "version_major": 2,
       "version_minor": 0
      },
      "text/plain": [
       "Evaluating:   0%|          | 0/500 [00:00<?, ?it/s]"
      ]
     },
     "metadata": {},
     "output_type": "display_data"
    },
    {
     "name": "stdout",
     "output_type": "stream",
     "text": [
      "perplexity: 6.355520725250244\n",
      "After 1031 updates: \n",
      "\n"
     ]
    },
    {
     "data": {
      "application/vnd.jupyter.widget-view+json": {
       "model_id": "dde57fc03aa2451c9ccb4c8d17a75a2c",
       "version_major": 2,
       "version_minor": 0
      },
      "text/plain": [
       "  0%|          | 0/100 [00:00<?, ?it/s]"
      ]
     },
     "metadata": {},
     "output_type": "display_data"
    },
    {
     "name": "stdout",
     "output_type": "stream",
     "text": [
      "We report the cDNA deduced primary structure of a wheat germ agglutinin-reactive nuclear pore complex (NPC) protein of rat. The protein, termed Nup98 (for nucleoporin of 98 kDa), contains numerous GLFG and FG repeats and some FXFG repeats and is thus a vertebrate member of a family of GLFG nucleoporins that were previously discovered in yeast. Immunoelectron microscopy showed Nup98 to be asymmetrically located at the nucleoplasmic side of the NPC. Nup98 functions as one of several docking site nucleoporins in a cytosolic docking activity-mediated binding of a model transport substrate. The docking site of Nup98 was mapped to its N-terminal half, which contains all of the peptide repeats. A recombinant segment of this region depleted the docking activity of cytosol. We suggest that the peptide repeat domain of Nup98, together with peptide repeat domains of other nucleoporins, forms an array of sites for mediated docking of transport substrate, and that bidirectional transport across the NPC proceeds by repeated docking and undocking reactions.\n",
      "\n",
      "generated_summary\n",
      "\n"
     ]
    },
    {
     "data": {
      "application/vnd.jupyter.widget-view+json": {
       "model_id": "6b1913ed2a6143cbb5c1c38b3570cff9",
       "version_major": 2,
       "version_minor": 0
      },
      "text/plain": [
       "  0%|          | 0/100 [00:00<?, ?it/s]"
      ]
     },
     "metadata": {},
     "output_type": "display_data"
    },
    {
     "name": "stdout",
     "output_type": "stream",
     "text": [
      "The cellular effects of stromal cell-derived factor-1 (SDF-1) are mediated primarily by binding to the CXC chemokine receptor-4. We report in this study that SDF-1 and its peptide analogues induce a concentration- and time-dependent accumulation of phosphatidylinositol-(3,4,5)-trisphosphate (PtdIns(3,4,5)P3) in Jurkat cells. This SDF-1-stimulated generation of D-3 phosphoinositide lipids was inhibited by pretreatment of the cells with an SDF-1 peptide antagonist or an anti-CXCR4 Ab. In addition, the phosphoinositide 3 (PI 3)-kinase inhibitors wortmannin and LY294002, as well as the Gi protein inhibitor pertussis toxin, also inhibited the SDF-1-stimulated accumulation of PtdIns(3,4,5)P3. The effects of SDF-1 on D-3 phosphoinositide lipid accumulation correlated well with activation of the known PI 3-kinase effector protein kinase B, which was also inhibited by wortmannin and pertussis toxin. Concentrations of PI 3-kinase inhibitors, sufficient to inhibit PtdIns(3,4,5)P3 accumulation, also inhibited chemotaxis of Jurkat and peripheral blood-derived T lymphocytes in response to SDF-1. In contrast, SDF-1-stimulated actin polymerization was only partially inhibited by PI 3-kinase inhibitors, suggesting that while chemotaxis is fully dependent on PI 3-kinase activation, actin polymerization requires additional biochemical inputs. Finally, SDF-1-stimulated extracellular signal-related kinase (ERK)-1/2 mitogen-activated protein kinase activation was inhibited by PI 3-kinase inhibitors. In addition, the mitogen-activated protein/ERK kinase inhibitor PD098059 partially attenuated chemotaxis in response to SDF-1. Hence, it appears that ERK1/2 activation is dependent on PI 3-kinase activation, and both biochemical events are involved in the regulation of SDF-1-stimulated chemotaxis.\n",
      "\n",
      "generated_summary\n",
      "\n",
      "loss: 0.5803217887878418\n",
      "\n",
      "loss: 0.6796849370002747\n",
      "\n",
      "loss: 0.9598745107650757\n",
      "\n",
      "loss: 0.7707086801528931\n",
      "\n",
      "loss: 1.0770366191864014\n",
      "\n",
      "loss: 0.78837651014328\n",
      "\n",
      "loss: 1.1253166198730469\n",
      "\n",
      "loss: 1.0590436458587646\n",
      "\n",
      "loss: 1.4235889911651611\n",
      "\n",
      "loss: 0.8868706226348877\n",
      "\n"
     ]
    },
    {
     "data": {
      "application/vnd.jupyter.widget-view+json": {
       "model_id": "70fd33a910f2499e99a34c5d304ba54e",
       "version_major": 2,
       "version_minor": 0
      },
      "text/plain": [
       "Evaluating:   0%|          | 0/500 [00:00<?, ?it/s]"
      ]
     },
     "metadata": {},
     "output_type": "display_data"
    },
    {
     "name": "stdout",
     "output_type": "stream",
     "text": [
      "perplexity: 6.528201103210449\n",
      "After 1041 updates: \n",
      "\n"
     ]
    },
    {
     "data": {
      "application/vnd.jupyter.widget-view+json": {
       "model_id": "9fa10883ecb74f73b7fa61d30fb9a529",
       "version_major": 2,
       "version_minor": 0
      },
      "text/plain": [
       "  0%|          | 0/100 [00:00<?, ?it/s]"
      ]
     },
     "metadata": {},
     "output_type": "display_data"
    },
    {
     "name": "stdout",
     "output_type": "stream",
     "text": [
      "We report the cDNA deduced primary structure of a wheat germ agglutinin-reactive nuclear pore complex (NPC) protein of rat. The protein, termed Nup98 (for nucleoporin of 98 kDa), contains numerous GLFG and FG repeats and some FXFG repeats and is thus a vertebrate member of a family of GLFG nucleoporins that were previously discovered in yeast. Immunoelectron microscopy showed Nup98 to be asymmetrically located at the nucleoplasmic side of the NPC. Nup98 functions as one of several docking site nucleoporins in a cytosolic docking activity-mediated binding of a model transport substrate. The docking site of Nup98 was mapped to its N-terminal half, which contains all of the peptide repeats. A recombinant segment of this region depleted the docking activity of cytosol. We suggest that the peptide repeat domain of Nup98, together with peptide repeat domains of other nucleoporins, forms an array of sites for mediated docking of transport substrate, and that bidirectional transport across the NPC proceeds by repeated docking and undocking reactions.\n",
      "\n",
      "generated_summary\n",
      "\n"
     ]
    },
    {
     "data": {
      "application/vnd.jupyter.widget-view+json": {
       "model_id": "8012d677137043e5951bf59c28d7c8dd",
       "version_major": 2,
       "version_minor": 0
      },
      "text/plain": [
       "  0%|          | 0/100 [00:00<?, ?it/s]"
      ]
     },
     "metadata": {},
     "output_type": "display_data"
    },
    {
     "name": "stdout",
     "output_type": "stream",
     "text": [
      "The cellular effects of stromal cell-derived factor-1 (SDF-1) are mediated primarily by binding to the CXC chemokine receptor-4. We report in this study that SDF-1 and its peptide analogues induce a concentration- and time-dependent accumulation of phosphatidylinositol-(3,4,5)-trisphosphate (PtdIns(3,4,5)P3) in Jurkat cells. This SDF-1-stimulated generation of D-3 phosphoinositide lipids was inhibited by pretreatment of the cells with an SDF-1 peptide antagonist or an anti-CXCR4 Ab. In addition, the phosphoinositide 3 (PI 3)-kinase inhibitors wortmannin and LY294002, as well as the Gi protein inhibitor pertussis toxin, also inhibited the SDF-1-stimulated accumulation of PtdIns(3,4,5)P3. The effects of SDF-1 on D-3 phosphoinositide lipid accumulation correlated well with activation of the known PI 3-kinase effector protein kinase B, which was also inhibited by wortmannin and pertussis toxin. Concentrations of PI 3-kinase inhibitors, sufficient to inhibit PtdIns(3,4,5)P3 accumulation, also inhibited chemotaxis of Jurkat and peripheral blood-derived T lymphocytes in response to SDF-1. In contrast, SDF-1-stimulated actin polymerization was only partially inhibited by PI 3-kinase inhibitors, suggesting that while chemotaxis is fully dependent on PI 3-kinase activation, actin polymerization requires additional biochemical inputs. Finally, SDF-1-stimulated extracellular signal-related kinase (ERK)-1/2 mitogen-activated protein kinase activation was inhibited by PI 3-kinase inhibitors. In addition, the mitogen-activated protein/ERK kinase inhibitor PD098059 partially attenuated chemotaxis in response to SDF-1. Hence, it appears that ERK1/2 activation is dependent on PI 3-kinase activation, and both biochemical events are involved in the regulation of SDF-1-stimulated chemotaxis.\n",
      "\n",
      "generated_summary\n",
      "\n",
      "loss: 2.057220458984375\n",
      "\n",
      "loss: 0.9228874444961548\n",
      "\n",
      "loss: 1.9302364587783813\n",
      "\n",
      "loss: 1.119874358177185\n",
      "\n",
      "loss: 0.8511607050895691\n",
      "\n",
      "loss: 0.9756087064743042\n",
      "\n",
      "loss: 1.0486904382705688\n",
      "\n",
      "loss: 2.081630229949951\n",
      "\n",
      "loss: 0.5369154810905457\n",
      "\n",
      "loss: 1.8251386880874634\n",
      "\n"
     ]
    },
    {
     "data": {
      "application/vnd.jupyter.widget-view+json": {
       "model_id": "82e28661efec4ac3b4ce77b0735447f2",
       "version_major": 2,
       "version_minor": 0
      },
      "text/plain": [
       "Evaluating:   0%|          | 0/500 [00:00<?, ?it/s]"
      ]
     },
     "metadata": {},
     "output_type": "display_data"
    },
    {
     "name": "stdout",
     "output_type": "stream",
     "text": [
      "perplexity: 6.438085556030273\n",
      "After 1051 updates: \n",
      "\n"
     ]
    },
    {
     "data": {
      "application/vnd.jupyter.widget-view+json": {
       "model_id": "9e2f335d2e96419a9e198d7af8f8c16f",
       "version_major": 2,
       "version_minor": 0
      },
      "text/plain": [
       "  0%|          | 0/100 [00:00<?, ?it/s]"
      ]
     },
     "metadata": {},
     "output_type": "display_data"
    },
    {
     "name": "stdout",
     "output_type": "stream",
     "text": [
      "We report the cDNA deduced primary structure of a wheat germ agglutinin-reactive nuclear pore complex (NPC) protein of rat. The protein, termed Nup98 (for nucleoporin of 98 kDa), contains numerous GLFG and FG repeats and some FXFG repeats and is thus a vertebrate member of a family of GLFG nucleoporins that were previously discovered in yeast. Immunoelectron microscopy showed Nup98 to be asymmetrically located at the nucleoplasmic side of the NPC. Nup98 functions as one of several docking site nucleoporins in a cytosolic docking activity-mediated binding of a model transport substrate. The docking site of Nup98 was mapped to its N-terminal half, which contains all of the peptide repeats. A recombinant segment of this region depleted the docking activity of cytosol. We suggest that the peptide repeat domain of Nup98, together with peptide repeat domains of other nucleoporins, forms an array of sites for mediated docking of transport substrate, and that bidirectional transport across the NPC proceeds by repeated docking and undocking reactions.\n",
      "\n",
      "generated_summary\n",
      "\n"
     ]
    },
    {
     "data": {
      "application/vnd.jupyter.widget-view+json": {
       "model_id": "5653a76564314ceb97cc14037e59cb3e",
       "version_major": 2,
       "version_minor": 0
      },
      "text/plain": [
       "  0%|          | 0/100 [00:00<?, ?it/s]"
      ]
     },
     "metadata": {},
     "output_type": "display_data"
    },
    {
     "name": "stdout",
     "output_type": "stream",
     "text": [
      "The cellular effects of stromal cell-derived factor-1 (SDF-1) are mediated primarily by binding to the CXC chemokine receptor-4. We report in this study that SDF-1 and its peptide analogues induce a concentration- and time-dependent accumulation of phosphatidylinositol-(3,4,5)-trisphosphate (PtdIns(3,4,5)P3) in Jurkat cells. This SDF-1-stimulated generation of D-3 phosphoinositide lipids was inhibited by pretreatment of the cells with an SDF-1 peptide antagonist or an anti-CXCR4 Ab. In addition, the phosphoinositide 3 (PI 3)-kinase inhibitors wortmannin and LY294002, as well as the Gi protein inhibitor pertussis toxin, also inhibited the SDF-1-stimulated accumulation of PtdIns(3,4,5)P3. The effects of SDF-1 on D-3 phosphoinositide lipid accumulation correlated well with activation of the known PI 3-kinase effector protein kinase B, which was also inhibited by wortmannin and pertussis toxin. Concentrations of PI 3-kinase inhibitors, sufficient to inhibit PtdIns(3,4,5)P3 accumulation, also inhibited chemotaxis of Jurkat and peripheral blood-derived T lymphocytes in response to SDF-1. In contrast, SDF-1-stimulated actin polymerization was only partially inhibited by PI 3-kinase inhibitors, suggesting that while chemotaxis is fully dependent on PI 3-kinase activation, actin polymerization requires additional biochemical inputs. Finally, SDF-1-stimulated extracellular signal-related kinase (ERK)-1/2 mitogen-activated protein kinase activation was inhibited by PI 3-kinase inhibitors. In addition, the mitogen-activated protein/ERK kinase inhibitor PD098059 partially attenuated chemotaxis in response to SDF-1. Hence, it appears that ERK1/2 activation is dependent on PI 3-kinase activation, and both biochemical events are involved in the regulation of SDF-1-stimulated chemotaxis.\n",
      "\n",
      "generated_summary\n",
      "\n",
      "loss: 0.6946127414703369\n",
      "\n",
      "loss: 1.1348881721496582\n",
      "\n",
      "loss: 0.660002589225769\n",
      "\n",
      "loss: 1.4881411790847778\n",
      "\n",
      "loss: 0.828423023223877\n",
      "\n",
      "loss: 0.9608398675918579\n",
      "\n",
      "loss: 1.6662321090698242\n",
      "\n",
      "loss: 1.0385091304779053\n",
      "\n",
      "loss: 1.0859613418579102\n",
      "\n",
      "loss: 0.6753231287002563\n",
      "\n"
     ]
    },
    {
     "data": {
      "application/vnd.jupyter.widget-view+json": {
       "model_id": "66dbf4797a2742f2b1e690f3d032c63e",
       "version_major": 2,
       "version_minor": 0
      },
      "text/plain": [
       "Evaluating:   0%|          | 0/500 [00:00<?, ?it/s]"
      ]
     },
     "metadata": {},
     "output_type": "display_data"
    },
    {
     "name": "stdout",
     "output_type": "stream",
     "text": [
      "perplexity: 6.490155220031738\n",
      "After 1061 updates: \n",
      "\n"
     ]
    },
    {
     "data": {
      "application/vnd.jupyter.widget-view+json": {
       "model_id": "9adbbe4a1fc14b5a9672e650740b9d2a",
       "version_major": 2,
       "version_minor": 0
      },
      "text/plain": [
       "  0%|          | 0/100 [00:00<?, ?it/s]"
      ]
     },
     "metadata": {},
     "output_type": "display_data"
    },
    {
     "name": "stdout",
     "output_type": "stream",
     "text": [
      "We report the cDNA deduced primary structure of a wheat germ agglutinin-reactive nuclear pore complex (NPC) protein of rat. The protein, termed Nup98 (for nucleoporin of 98 kDa), contains numerous GLFG and FG repeats and some FXFG repeats and is thus a vertebrate member of a family of GLFG nucleoporins that were previously discovered in yeast. Immunoelectron microscopy showed Nup98 to be asymmetrically located at the nucleoplasmic side of the NPC. Nup98 functions as one of several docking site nucleoporins in a cytosolic docking activity-mediated binding of a model transport substrate. The docking site of Nup98 was mapped to its N-terminal half, which contains all of the peptide repeats. A recombinant segment of this region depleted the docking activity of cytosol. We suggest that the peptide repeat domain of Nup98, together with peptide repeat domains of other nucleoporins, forms an array of sites for mediated docking of transport substrate, and that bidirectional transport across the NPC proceeds by repeated docking and undocking reactions.\n",
      "\n",
      "generated_summary\n",
      "\n"
     ]
    },
    {
     "data": {
      "application/vnd.jupyter.widget-view+json": {
       "model_id": "2eceab6c10e94ac6828542092122c1d9",
       "version_major": 2,
       "version_minor": 0
      },
      "text/plain": [
       "  0%|          | 0/100 [00:00<?, ?it/s]"
      ]
     },
     "metadata": {},
     "output_type": "display_data"
    },
    {
     "name": "stdout",
     "output_type": "stream",
     "text": [
      "The cellular effects of stromal cell-derived factor-1 (SDF-1) are mediated primarily by binding to the CXC chemokine receptor-4. We report in this study that SDF-1 and its peptide analogues induce a concentration- and time-dependent accumulation of phosphatidylinositol-(3,4,5)-trisphosphate (PtdIns(3,4,5)P3) in Jurkat cells. This SDF-1-stimulated generation of D-3 phosphoinositide lipids was inhibited by pretreatment of the cells with an SDF-1 peptide antagonist or an anti-CXCR4 Ab. In addition, the phosphoinositide 3 (PI 3)-kinase inhibitors wortmannin and LY294002, as well as the Gi protein inhibitor pertussis toxin, also inhibited the SDF-1-stimulated accumulation of PtdIns(3,4,5)P3. The effects of SDF-1 on D-3 phosphoinositide lipid accumulation correlated well with activation of the known PI 3-kinase effector protein kinase B, which was also inhibited by wortmannin and pertussis toxin. Concentrations of PI 3-kinase inhibitors, sufficient to inhibit PtdIns(3,4,5)P3 accumulation, also inhibited chemotaxis of Jurkat and peripheral blood-derived T lymphocytes in response to SDF-1. In contrast, SDF-1-stimulated actin polymerization was only partially inhibited by PI 3-kinase inhibitors, suggesting that while chemotaxis is fully dependent on PI 3-kinase activation, actin polymerization requires additional biochemical inputs. Finally, SDF-1-stimulated extracellular signal-related kinase (ERK)-1/2 mitogen-activated protein kinase activation was inhibited by PI 3-kinase inhibitors. In addition, the mitogen-activated protein/ERK kinase inhibitor PD098059 partially attenuated chemotaxis in response to SDF-1. Hence, it appears that ERK1/2 activation is dependent on PI 3-kinase activation, and both biochemical events are involved in the regulation of SDF-1-stimulated chemotaxis.\n",
      "\n",
      "generated_summary\n",
      "\n",
      "loss: 1.9036940336227417\n",
      "\n",
      "loss: 0.5719678401947021\n",
      "\n",
      "loss: 1.0562762022018433\n",
      "\n",
      "loss: 1.1904505491256714\n",
      "\n",
      "loss: 0.9407525658607483\n",
      "\n",
      "loss: 1.1094768047332764\n",
      "\n",
      "loss: 0.6151090860366821\n",
      "\n",
      "loss: 2.0755510330200195\n",
      "\n",
      "loss: 0.6163957715034485\n",
      "\n",
      "loss: 1.1009228229522705\n",
      "\n"
     ]
    },
    {
     "data": {
      "application/vnd.jupyter.widget-view+json": {
       "model_id": "651287b15c4c4a5da9294e790304c941",
       "version_major": 2,
       "version_minor": 0
      },
      "text/plain": [
       "Evaluating:   0%|          | 0/500 [00:00<?, ?it/s]"
      ]
     },
     "metadata": {},
     "output_type": "display_data"
    },
    {
     "name": "stdout",
     "output_type": "stream",
     "text": [
      "perplexity: 6.200511455535889\n",
      "After 1071 updates: \n",
      "\n"
     ]
    },
    {
     "data": {
      "application/vnd.jupyter.widget-view+json": {
       "model_id": "20dbfc09ab1f433facab00efd1666680",
       "version_major": 2,
       "version_minor": 0
      },
      "text/plain": [
       "  0%|          | 0/100 [00:00<?, ?it/s]"
      ]
     },
     "metadata": {},
     "output_type": "display_data"
    },
    {
     "name": "stdout",
     "output_type": "stream",
     "text": [
      "We report the cDNA deduced primary structure of a wheat germ agglutinin-reactive nuclear pore complex (NPC) protein of rat. The protein, termed Nup98 (for nucleoporin of 98 kDa), contains numerous GLFG and FG repeats and some FXFG repeats and is thus a vertebrate member of a family of GLFG nucleoporins that were previously discovered in yeast. Immunoelectron microscopy showed Nup98 to be asymmetrically located at the nucleoplasmic side of the NPC. Nup98 functions as one of several docking site nucleoporins in a cytosolic docking activity-mediated binding of a model transport substrate. The docking site of Nup98 was mapped to its N-terminal half, which contains all of the peptide repeats. A recombinant segment of this region depleted the docking activity of cytosol. We suggest that the peptide repeat domain of Nup98, together with peptide repeat domains of other nucleoporins, forms an array of sites for mediated docking of transport substrate, and that bidirectional transport across the NPC proceeds by repeated docking and undocking reactions.\n",
      "\n",
      "generated_summary\n",
      "\n"
     ]
    },
    {
     "data": {
      "application/vnd.jupyter.widget-view+json": {
       "model_id": "6cd9b2ae9b36440aa43677e84d9d41f5",
       "version_major": 2,
       "version_minor": 0
      },
      "text/plain": [
       "  0%|          | 0/100 [00:00<?, ?it/s]"
      ]
     },
     "metadata": {},
     "output_type": "display_data"
    },
    {
     "name": "stdout",
     "output_type": "stream",
     "text": [
      "The cellular effects of stromal cell-derived factor-1 (SDF-1) are mediated primarily by binding to the CXC chemokine receptor-4. We report in this study that SDF-1 and its peptide analogues induce a concentration- and time-dependent accumulation of phosphatidylinositol-(3,4,5)-trisphosphate (PtdIns(3,4,5)P3) in Jurkat cells. This SDF-1-stimulated generation of D-3 phosphoinositide lipids was inhibited by pretreatment of the cells with an SDF-1 peptide antagonist or an anti-CXCR4 Ab. In addition, the phosphoinositide 3 (PI 3)-kinase inhibitors wortmannin and LY294002, as well as the Gi protein inhibitor pertussis toxin, also inhibited the SDF-1-stimulated accumulation of PtdIns(3,4,5)P3. The effects of SDF-1 on D-3 phosphoinositide lipid accumulation correlated well with activation of the known PI 3-kinase effector protein kinase B, which was also inhibited by wortmannin and pertussis toxin. Concentrations of PI 3-kinase inhibitors, sufficient to inhibit PtdIns(3,4,5)P3 accumulation, also inhibited chemotaxis of Jurkat and peripheral blood-derived T lymphocytes in response to SDF-1. In contrast, SDF-1-stimulated actin polymerization was only partially inhibited by PI 3-kinase inhibitors, suggesting that while chemotaxis is fully dependent on PI 3-kinase activation, actin polymerization requires additional biochemical inputs. Finally, SDF-1-stimulated extracellular signal-related kinase (ERK)-1/2 mitogen-activated protein kinase activation was inhibited by PI 3-kinase inhibitors. In addition, the mitogen-activated protein/ERK kinase inhibitor PD098059 partially attenuated chemotaxis in response to SDF-1. Hence, it appears that ERK1/2 activation is dependent on PI 3-kinase activation, and both biochemical events are involved in the regulation of SDF-1-stimulated chemotaxis.\n",
      "\n",
      "generated_summary\n",
      "\n",
      "loss: 0.5168415904045105\n",
      "\n",
      "loss: 0.6845585703849792\n",
      "\n",
      "loss: 1.0121012926101685\n",
      "\n",
      "loss: 1.3992655277252197\n",
      "\n",
      "loss: 1.2275193929672241\n",
      "\n",
      "loss: 0.9901849031448364\n",
      "\n",
      "loss: 1.0323736667633057\n",
      "\n",
      "loss: 1.148445963859558\n",
      "\n",
      "loss: 1.5365527868270874\n",
      "\n",
      "loss: 1.0439069271087646\n",
      "\n"
     ]
    },
    {
     "data": {
      "application/vnd.jupyter.widget-view+json": {
       "model_id": "fed35d5967494358a554f56848338f3a",
       "version_major": 2,
       "version_minor": 0
      },
      "text/plain": [
       "Evaluating:   0%|          | 0/500 [00:00<?, ?it/s]"
      ]
     },
     "metadata": {},
     "output_type": "display_data"
    },
    {
     "name": "stdout",
     "output_type": "stream",
     "text": [
      "perplexity: 6.223160743713379\n",
      "After 1081 updates: \n",
      "\n"
     ]
    },
    {
     "data": {
      "application/vnd.jupyter.widget-view+json": {
       "model_id": "c7c7471f77ba410dbcdb7e00338760c6",
       "version_major": 2,
       "version_minor": 0
      },
      "text/plain": [
       "  0%|          | 0/100 [00:00<?, ?it/s]"
      ]
     },
     "metadata": {},
     "output_type": "display_data"
    },
    {
     "name": "stdout",
     "output_type": "stream",
     "text": [
      "We report the cDNA deduced primary structure of a wheat germ agglutinin-reactive nuclear pore complex (NPC) protein of rat. The protein, termed Nup98 (for nucleoporin of 98 kDa), contains numerous GLFG and FG repeats and some FXFG repeats and is thus a vertebrate member of a family of GLFG nucleoporins that were previously discovered in yeast. Immunoelectron microscopy showed Nup98 to be asymmetrically located at the nucleoplasmic side of the NPC. Nup98 functions as one of several docking site nucleoporins in a cytosolic docking activity-mediated binding of a model transport substrate. The docking site of Nup98 was mapped to its N-terminal half, which contains all of the peptide repeats. A recombinant segment of this region depleted the docking activity of cytosol. We suggest that the peptide repeat domain of Nup98, together with peptide repeat domains of other nucleoporins, forms an array of sites for mediated docking of transport substrate, and that bidirectional transport across the NPC proceeds by repeated docking and undocking reactions.\n",
      "\n",
      "generated_summary\n",
      "\n"
     ]
    },
    {
     "data": {
      "application/vnd.jupyter.widget-view+json": {
       "model_id": "c8f3e31c749342c0b3f2c281f7494999",
       "version_major": 2,
       "version_minor": 0
      },
      "text/plain": [
       "  0%|          | 0/100 [00:00<?, ?it/s]"
      ]
     },
     "metadata": {},
     "output_type": "display_data"
    },
    {
     "name": "stdout",
     "output_type": "stream",
     "text": [
      "The cellular effects of stromal cell-derived factor-1 (SDF-1) are mediated primarily by binding to the CXC chemokine receptor-4. We report in this study that SDF-1 and its peptide analogues induce a concentration- and time-dependent accumulation of phosphatidylinositol-(3,4,5)-trisphosphate (PtdIns(3,4,5)P3) in Jurkat cells. This SDF-1-stimulated generation of D-3 phosphoinositide lipids was inhibited by pretreatment of the cells with an SDF-1 peptide antagonist or an anti-CXCR4 Ab. In addition, the phosphoinositide 3 (PI 3)-kinase inhibitors wortmannin and LY294002, as well as the Gi protein inhibitor pertussis toxin, also inhibited the SDF-1-stimulated accumulation of PtdIns(3,4,5)P3. The effects of SDF-1 on D-3 phosphoinositide lipid accumulation correlated well with activation of the known PI 3-kinase effector protein kinase B, which was also inhibited by wortmannin and pertussis toxin. Concentrations of PI 3-kinase inhibitors, sufficient to inhibit PtdIns(3,4,5)P3 accumulation, also inhibited chemotaxis of Jurkat and peripheral blood-derived T lymphocytes in response to SDF-1. In contrast, SDF-1-stimulated actin polymerization was only partially inhibited by PI 3-kinase inhibitors, suggesting that while chemotaxis is fully dependent on PI 3-kinase activation, actin polymerization requires additional biochemical inputs. Finally, SDF-1-stimulated extracellular signal-related kinase (ERK)-1/2 mitogen-activated protein kinase activation was inhibited by PI 3-kinase inhibitors. In addition, the mitogen-activated protein/ERK kinase inhibitor PD098059 partially attenuated chemotaxis in response to SDF-1. Hence, it appears that ERK1/2 activation is dependent on PI 3-kinase activation, and both biochemical events are involved in the regulation of SDF-1-stimulated chemotaxis.\n",
      "\n",
      "generated_summary\n",
      "\n",
      "loss: 0.7818506956100464\n",
      "\n",
      "loss: 0.797354519367218\n",
      "\n",
      "loss: 0.737995982170105\n",
      "\n",
      "loss: 0.5578014850616455\n",
      "\n",
      "loss: 1.2945921421051025\n",
      "\n",
      "loss: 0.9201329350471497\n",
      "\n",
      "loss: 0.8170626163482666\n",
      "\n",
      "loss: 0.9071111679077148\n",
      "\n",
      "loss: 1.2763746976852417\n",
      "\n",
      "loss: 0.5341424345970154\n",
      "\n"
     ]
    },
    {
     "data": {
      "application/vnd.jupyter.widget-view+json": {
       "model_id": "99f9992962c342cf8fca964efac5ef14",
       "version_major": 2,
       "version_minor": 0
      },
      "text/plain": [
       "Evaluating:   0%|          | 0/500 [00:00<?, ?it/s]"
      ]
     },
     "metadata": {},
     "output_type": "display_data"
    },
    {
     "name": "stdout",
     "output_type": "stream",
     "text": [
      "perplexity: 6.217392444610596\n",
      "After 1091 updates: \n",
      "\n"
     ]
    },
    {
     "data": {
      "application/vnd.jupyter.widget-view+json": {
       "model_id": "da191f0fa76c4c12954944f491e3c9c5",
       "version_major": 2,
       "version_minor": 0
      },
      "text/plain": [
       "  0%|          | 0/100 [00:00<?, ?it/s]"
      ]
     },
     "metadata": {},
     "output_type": "display_data"
    },
    {
     "name": "stdout",
     "output_type": "stream",
     "text": [
      "We report the cDNA deduced primary structure of a wheat germ agglutinin-reactive nuclear pore complex (NPC) protein of rat. The protein, termed Nup98 (for nucleoporin of 98 kDa), contains numerous GLFG and FG repeats and some FXFG repeats and is thus a vertebrate member of a family of GLFG nucleoporins that were previously discovered in yeast. Immunoelectron microscopy showed Nup98 to be asymmetrically located at the nucleoplasmic side of the NPC. Nup98 functions as one of several docking site nucleoporins in a cytosolic docking activity-mediated binding of a model transport substrate. The docking site of Nup98 was mapped to its N-terminal half, which contains all of the peptide repeats. A recombinant segment of this region depleted the docking activity of cytosol. We suggest that the peptide repeat domain of Nup98, together with peptide repeat domains of other nucleoporins, forms an array of sites for mediated docking of transport substrate, and that bidirectional transport across the NPC proceeds by repeated docking and undocking reactions.\n",
      "\n",
      "generated_summary\n",
      "\n"
     ]
    },
    {
     "data": {
      "application/vnd.jupyter.widget-view+json": {
       "model_id": "b89e8f37b4ea4d2fa257021f14161be8",
       "version_major": 2,
       "version_minor": 0
      },
      "text/plain": [
       "  0%|          | 0/100 [00:00<?, ?it/s]"
      ]
     },
     "metadata": {},
     "output_type": "display_data"
    },
    {
     "name": "stdout",
     "output_type": "stream",
     "text": [
      "The cellular effects of stromal cell-derived factor-1 (SDF-1) are mediated primarily by binding to the CXC chemokine receptor-4. We report in this study that SDF-1 and its peptide analogues induce a concentration- and time-dependent accumulation of phosphatidylinositol-(3,4,5)-trisphosphate (PtdIns(3,4,5)P3) in Jurkat cells. This SDF-1-stimulated generation of D-3 phosphoinositide lipids was inhibited by pretreatment of the cells with an SDF-1 peptide antagonist or an anti-CXCR4 Ab. In addition, the phosphoinositide 3 (PI 3)-kinase inhibitors wortmannin and LY294002, as well as the Gi protein inhibitor pertussis toxin, also inhibited the SDF-1-stimulated accumulation of PtdIns(3,4,5)P3. The effects of SDF-1 on D-3 phosphoinositide lipid accumulation correlated well with activation of the known PI 3-kinase effector protein kinase B, which was also inhibited by wortmannin and pertussis toxin. Concentrations of PI 3-kinase inhibitors, sufficient to inhibit PtdIns(3,4,5)P3 accumulation, also inhibited chemotaxis of Jurkat and peripheral blood-derived T lymphocytes in response to SDF-1. In contrast, SDF-1-stimulated actin polymerization was only partially inhibited by PI 3-kinase inhibitors, suggesting that while chemotaxis is fully dependent on PI 3-kinase activation, actin polymerization requires additional biochemical inputs. Finally, SDF-1-stimulated extracellular signal-related kinase (ERK)-1/2 mitogen-activated protein kinase activation was inhibited by PI 3-kinase inhibitors. In addition, the mitogen-activated protein/ERK kinase inhibitor PD098059 partially attenuated chemotaxis in response to SDF-1. Hence, it appears that ERK1/2 activation is dependent on PI 3-kinase activation, and both biochemical events are involved in the regulation of SDF-1-stimulated chemotaxis.\n",
      "\n",
      "generated_summary\n",
      "\n",
      "loss: 1.027441143989563\n",
      "\n",
      "loss: 0.7681869864463806\n",
      "\n",
      "loss: 1.0033040046691895\n",
      "\n",
      "loss: 1.542322039604187\n",
      "\n",
      "loss: 0.5362902879714966\n",
      "\n",
      "loss: 1.2429221868515015\n",
      "\n",
      "loss: 1.1237847805023193\n",
      "\n",
      "loss: 0.7496002912521362\n",
      "\n",
      "loss: 0.959333062171936\n",
      "\n",
      "loss: 1.273391842842102\n",
      "\n"
     ]
    },
    {
     "data": {
      "application/vnd.jupyter.widget-view+json": {
       "model_id": "87ca00df7b4d4d3a848da9ded1b062c7",
       "version_major": 2,
       "version_minor": 0
      },
      "text/plain": [
       "Evaluating:   0%|          | 0/500 [00:00<?, ?it/s]"
      ]
     },
     "metadata": {},
     "output_type": "display_data"
    },
    {
     "name": "stdout",
     "output_type": "stream",
     "text": [
      "perplexity: 6.214308738708496\n",
      "After 1101 updates: \n",
      "\n"
     ]
    },
    {
     "data": {
      "application/vnd.jupyter.widget-view+json": {
       "model_id": "b571bba3af0d42fb90e1b62bccdcf3f1",
       "version_major": 2,
       "version_minor": 0
      },
      "text/plain": [
       "  0%|          | 0/100 [00:00<?, ?it/s]"
      ]
     },
     "metadata": {},
     "output_type": "display_data"
    },
    {
     "name": "stdout",
     "output_type": "stream",
     "text": [
      "We report the cDNA deduced primary structure of a wheat germ agglutinin-reactive nuclear pore complex (NPC) protein of rat. The protein, termed Nup98 (for nucleoporin of 98 kDa), contains numerous GLFG and FG repeats and some FXFG repeats and is thus a vertebrate member of a family of GLFG nucleoporins that were previously discovered in yeast. Immunoelectron microscopy showed Nup98 to be asymmetrically located at the nucleoplasmic side of the NPC. Nup98 functions as one of several docking site nucleoporins in a cytosolic docking activity-mediated binding of a model transport substrate. The docking site of Nup98 was mapped to its N-terminal half, which contains all of the peptide repeats. A recombinant segment of this region depleted the docking activity of cytosol. We suggest that the peptide repeat domain of Nup98, together with peptide repeat domains of other nucleoporins, forms an array of sites for mediated docking of transport substrate, and that bidirectional transport across the NPC proceeds by repeated docking and undocking reactions.\n",
      "\n",
      "generated_summary\n",
      "\n"
     ]
    },
    {
     "data": {
      "application/vnd.jupyter.widget-view+json": {
       "model_id": "dbc3a9ef17da43e18b75754178125b22",
       "version_major": 2,
       "version_minor": 0
      },
      "text/plain": [
       "  0%|          | 0/100 [00:00<?, ?it/s]"
      ]
     },
     "metadata": {},
     "output_type": "display_data"
    },
    {
     "name": "stdout",
     "output_type": "stream",
     "text": [
      "The cellular effects of stromal cell-derived factor-1 (SDF-1) are mediated primarily by binding to the CXC chemokine receptor-4. We report in this study that SDF-1 and its peptide analogues induce a concentration- and time-dependent accumulation of phosphatidylinositol-(3,4,5)-trisphosphate (PtdIns(3,4,5)P3) in Jurkat cells. This SDF-1-stimulated generation of D-3 phosphoinositide lipids was inhibited by pretreatment of the cells with an SDF-1 peptide antagonist or an anti-CXCR4 Ab. In addition, the phosphoinositide 3 (PI 3)-kinase inhibitors wortmannin and LY294002, as well as the Gi protein inhibitor pertussis toxin, also inhibited the SDF-1-stimulated accumulation of PtdIns(3,4,5)P3. The effects of SDF-1 on D-3 phosphoinositide lipid accumulation correlated well with activation of the known PI 3-kinase effector protein kinase B, which was also inhibited by wortmannin and pertussis toxin. Concentrations of PI 3-kinase inhibitors, sufficient to inhibit PtdIns(3,4,5)P3 accumulation, also inhibited chemotaxis of Jurkat and peripheral blood-derived T lymphocytes in response to SDF-1. In contrast, SDF-1-stimulated actin polymerization was only partially inhibited by PI 3-kinase inhibitors, suggesting that while chemotaxis is fully dependent on PI 3-kinase activation, actin polymerization requires additional biochemical inputs. Finally, SDF-1-stimulated extracellular signal-related kinase (ERK)-1/2 mitogen-activated protein kinase activation was inhibited by PI 3-kinase inhibitors. In addition, the mitogen-activated protein/ERK kinase inhibitor PD098059 partially attenuated chemotaxis in response to SDF-1. Hence, it appears that ERK1/2 activation is dependent on PI 3-kinase activation, and both biochemical events are involved in the regulation of SDF-1-stimulated chemotaxis.\n",
      "\n",
      "generated_summary\n",
      "\n",
      "loss: 0.8935624957084656\n",
      "\n",
      "loss: 0.3876982033252716\n",
      "\n",
      "loss: 1.0626256465911865\n",
      "\n",
      "loss: 1.238868236541748\n",
      "\n",
      "loss: 0.789350688457489\n",
      "\n",
      "loss: 1.277420997619629\n",
      "\n",
      "loss: 1.3644435405731201\n",
      "\n",
      "loss: 0.6778277158737183\n",
      "\n",
      "loss: 0.5354745984077454\n",
      "\n",
      "loss: 1.1548000574111938\n",
      "\n"
     ]
    },
    {
     "data": {
      "application/vnd.jupyter.widget-view+json": {
       "model_id": "0fe9e0168ab14756a829588e0fe7a7d8",
       "version_major": 2,
       "version_minor": 0
      },
      "text/plain": [
       "Evaluating:   0%|          | 0/500 [00:00<?, ?it/s]"
      ]
     },
     "metadata": {},
     "output_type": "display_data"
    },
    {
     "name": "stdout",
     "output_type": "stream",
     "text": [
      "perplexity: 6.150485038757324\n",
      "After 1111 updates: \n",
      "\n"
     ]
    },
    {
     "data": {
      "application/vnd.jupyter.widget-view+json": {
       "model_id": "ced076ab5e484f0f9bbef19c9d218d3a",
       "version_major": 2,
       "version_minor": 0
      },
      "text/plain": [
       "  0%|          | 0/100 [00:00<?, ?it/s]"
      ]
     },
     "metadata": {},
     "output_type": "display_data"
    },
    {
     "name": "stdout",
     "output_type": "stream",
     "text": [
      "We report the cDNA deduced primary structure of a wheat germ agglutinin-reactive nuclear pore complex (NPC) protein of rat. The protein, termed Nup98 (for nucleoporin of 98 kDa), contains numerous GLFG and FG repeats and some FXFG repeats and is thus a vertebrate member of a family of GLFG nucleoporins that were previously discovered in yeast. Immunoelectron microscopy showed Nup98 to be asymmetrically located at the nucleoplasmic side of the NPC. Nup98 functions as one of several docking site nucleoporins in a cytosolic docking activity-mediated binding of a model transport substrate. The docking site of Nup98 was mapped to its N-terminal half, which contains all of the peptide repeats. A recombinant segment of this region depleted the docking activity of cytosol. We suggest that the peptide repeat domain of Nup98, together with peptide repeat domains of other nucleoporins, forms an array of sites for mediated docking of transport substrate, and that bidirectional transport across the NPC proceeds by repeated docking and undocking reactions.\n",
      "\n",
      "generated_summary\n",
      "\n"
     ]
    },
    {
     "data": {
      "application/vnd.jupyter.widget-view+json": {
       "model_id": "8f9e80b300f044ca8c004803b4be2375",
       "version_major": 2,
       "version_minor": 0
      },
      "text/plain": [
       "  0%|          | 0/100 [00:00<?, ?it/s]"
      ]
     },
     "metadata": {},
     "output_type": "display_data"
    },
    {
     "name": "stdout",
     "output_type": "stream",
     "text": [
      "The cellular effects of stromal cell-derived factor-1 (SDF-1) are mediated primarily by binding to the CXC chemokine receptor-4. We report in this study that SDF-1 and its peptide analogues induce a concentration- and time-dependent accumulation of phosphatidylinositol-(3,4,5)-trisphosphate (PtdIns(3,4,5)P3) in Jurkat cells. This SDF-1-stimulated generation of D-3 phosphoinositide lipids was inhibited by pretreatment of the cells with an SDF-1 peptide antagonist or an anti-CXCR4 Ab. In addition, the phosphoinositide 3 (PI 3)-kinase inhibitors wortmannin and LY294002, as well as the Gi protein inhibitor pertussis toxin, also inhibited the SDF-1-stimulated accumulation of PtdIns(3,4,5)P3. The effects of SDF-1 on D-3 phosphoinositide lipid accumulation correlated well with activation of the known PI 3-kinase effector protein kinase B, which was also inhibited by wortmannin and pertussis toxin. Concentrations of PI 3-kinase inhibitors, sufficient to inhibit PtdIns(3,4,5)P3 accumulation, also inhibited chemotaxis of Jurkat and peripheral blood-derived T lymphocytes in response to SDF-1. In contrast, SDF-1-stimulated actin polymerization was only partially inhibited by PI 3-kinase inhibitors, suggesting that while chemotaxis is fully dependent on PI 3-kinase activation, actin polymerization requires additional biochemical inputs. Finally, SDF-1-stimulated extracellular signal-related kinase (ERK)-1/2 mitogen-activated protein kinase activation was inhibited by PI 3-kinase inhibitors. In addition, the mitogen-activated protein/ERK kinase inhibitor PD098059 partially attenuated chemotaxis in response to SDF-1. Hence, it appears that ERK1/2 activation is dependent on PI 3-kinase activation, and both biochemical events are involved in the regulation of SDF-1-stimulated chemotaxis.\n",
      "\n",
      "generated_summary\n",
      "\n",
      "loss: 1.0467952489852905\n",
      "\n",
      "loss: 0.9418527483940125\n",
      "\n",
      "loss: 1.519384503364563\n",
      "\n",
      "loss: 0.5743799209594727\n",
      "\n",
      "loss: 0.48665571212768555\n",
      "\n",
      "loss: 0.9895316958427429\n",
      "\n",
      "loss: 1.4703247547149658\n",
      "\n",
      "loss: 0.8227407932281494\n",
      "\n",
      "loss: 1.1954710483551025\n",
      "\n",
      "loss: 1.7932199239730835\n",
      "\n"
     ]
    },
    {
     "data": {
      "application/vnd.jupyter.widget-view+json": {
       "model_id": "155a2c4298354042bd20cc54c41bddf1",
       "version_major": 2,
       "version_minor": 0
      },
      "text/plain": [
       "Evaluating:   0%|          | 0/500 [00:00<?, ?it/s]"
      ]
     },
     "metadata": {},
     "output_type": "display_data"
    },
    {
     "name": "stdout",
     "output_type": "stream",
     "text": [
      "perplexity: 6.218362331390381\n",
      "After 1121 updates: \n",
      "\n"
     ]
    },
    {
     "data": {
      "application/vnd.jupyter.widget-view+json": {
       "model_id": "5d075b786bcd4df0aa6c4fa10fe914a1",
       "version_major": 2,
       "version_minor": 0
      },
      "text/plain": [
       "  0%|          | 0/100 [00:00<?, ?it/s]"
      ]
     },
     "metadata": {},
     "output_type": "display_data"
    },
    {
     "name": "stdout",
     "output_type": "stream",
     "text": [
      "We report the cDNA deduced primary structure of a wheat germ agglutinin-reactive nuclear pore complex (NPC) protein of rat. The protein, termed Nup98 (for nucleoporin of 98 kDa), contains numerous GLFG and FG repeats and some FXFG repeats and is thus a vertebrate member of a family of GLFG nucleoporins that were previously discovered in yeast. Immunoelectron microscopy showed Nup98 to be asymmetrically located at the nucleoplasmic side of the NPC. Nup98 functions as one of several docking site nucleoporins in a cytosolic docking activity-mediated binding of a model transport substrate. The docking site of Nup98 was mapped to its N-terminal half, which contains all of the peptide repeats. A recombinant segment of this region depleted the docking activity of cytosol. We suggest that the peptide repeat domain of Nup98, together with peptide repeat domains of other nucleoporins, forms an array of sites for mediated docking of transport substrate, and that bidirectional transport across the NPC proceeds by repeated docking and undocking reactions.\n",
      "\n",
      "generated_summary\n",
      "\n"
     ]
    },
    {
     "data": {
      "application/vnd.jupyter.widget-view+json": {
       "model_id": "5f9955efc5ad4deda1c5e41bf6798a9e",
       "version_major": 2,
       "version_minor": 0
      },
      "text/plain": [
       "  0%|          | 0/100 [00:00<?, ?it/s]"
      ]
     },
     "metadata": {},
     "output_type": "display_data"
    },
    {
     "name": "stdout",
     "output_type": "stream",
     "text": [
      "The cellular effects of stromal cell-derived factor-1 (SDF-1) are mediated primarily by binding to the CXC chemokine receptor-4. We report in this study that SDF-1 and its peptide analogues induce a concentration- and time-dependent accumulation of phosphatidylinositol-(3,4,5)-trisphosphate (PtdIns(3,4,5)P3) in Jurkat cells. This SDF-1-stimulated generation of D-3 phosphoinositide lipids was inhibited by pretreatment of the cells with an SDF-1 peptide antagonist or an anti-CXCR4 Ab. In addition, the phosphoinositide 3 (PI 3)-kinase inhibitors wortmannin and LY294002, as well as the Gi protein inhibitor pertussis toxin, also inhibited the SDF-1-stimulated accumulation of PtdIns(3,4,5)P3. The effects of SDF-1 on D-3 phosphoinositide lipid accumulation correlated well with activation of the known PI 3-kinase effector protein kinase B, which was also inhibited by wortmannin and pertussis toxin. Concentrations of PI 3-kinase inhibitors, sufficient to inhibit PtdIns(3,4,5)P3 accumulation, also inhibited chemotaxis of Jurkat and peripheral blood-derived T lymphocytes in response to SDF-1. In contrast, SDF-1-stimulated actin polymerization was only partially inhibited by PI 3-kinase inhibitors, suggesting that while chemotaxis is fully dependent on PI 3-kinase activation, actin polymerization requires additional biochemical inputs. Finally, SDF-1-stimulated extracellular signal-related kinase (ERK)-1/2 mitogen-activated protein kinase activation was inhibited by PI 3-kinase inhibitors. In addition, the mitogen-activated protein/ERK kinase inhibitor PD098059 partially attenuated chemotaxis in response to SDF-1. Hence, it appears that ERK1/2 activation is dependent on PI 3-kinase activation, and both biochemical events are involved in the regulation of SDF-1-stimulated chemotaxis.\n",
      "\n",
      "generated_summary\n",
      "\n",
      "loss: 1.7379800081253052\n",
      "\n",
      "loss: 1.2946170568466187\n",
      "\n",
      "loss: 0.6297509074211121\n",
      "\n",
      "loss: 1.0314584970474243\n",
      "\n",
      "loss: 0.7291108965873718\n",
      "\n",
      "loss: 0.22456561028957367\n",
      "\n",
      "loss: 0.49312445521354675\n",
      "\n",
      "loss: 1.4655203819274902\n",
      "\n",
      "loss: 0.6918139457702637\n",
      "\n",
      "loss: 0.8329135179519653\n",
      "\n"
     ]
    },
    {
     "data": {
      "application/vnd.jupyter.widget-view+json": {
       "model_id": "4b6531da4a8344a1a6f827b9ac7cd4bc",
       "version_major": 2,
       "version_minor": 0
      },
      "text/plain": [
       "Evaluating:   0%|          | 0/500 [00:00<?, ?it/s]"
      ]
     },
     "metadata": {},
     "output_type": "display_data"
    },
    {
     "name": "stdout",
     "output_type": "stream",
     "text": [
      "perplexity: 6.092669486999512\n",
      "After 1131 updates: \n",
      "\n"
     ]
    },
    {
     "data": {
      "application/vnd.jupyter.widget-view+json": {
       "model_id": "b033d968bd774bee9f99bafecada87e5",
       "version_major": 2,
       "version_minor": 0
      },
      "text/plain": [
       "  0%|          | 0/100 [00:00<?, ?it/s]"
      ]
     },
     "metadata": {},
     "output_type": "display_data"
    },
    {
     "name": "stdout",
     "output_type": "stream",
     "text": [
      "We report the cDNA deduced primary structure of a wheat germ agglutinin-reactive nuclear pore complex (NPC) protein of rat. The protein, termed Nup98 (for nucleoporin of 98 kDa), contains numerous GLFG and FG repeats and some FXFG repeats and is thus a vertebrate member of a family of GLFG nucleoporins that were previously discovered in yeast. Immunoelectron microscopy showed Nup98 to be asymmetrically located at the nucleoplasmic side of the NPC. Nup98 functions as one of several docking site nucleoporins in a cytosolic docking activity-mediated binding of a model transport substrate. The docking site of Nup98 was mapped to its N-terminal half, which contains all of the peptide repeats. A recombinant segment of this region depleted the docking activity of cytosol. We suggest that the peptide repeat domain of Nup98, together with peptide repeat domains of other nucleoporins, forms an array of sites for mediated docking of transport substrate, and that bidirectional transport across the NPC proceeds by repeated docking and undocking reactions.\n",
      "\n",
      "generated_summary\n",
      "\n"
     ]
    },
    {
     "data": {
      "application/vnd.jupyter.widget-view+json": {
       "model_id": "26f3cb91d03946ad92a5c651fd6b83f5",
       "version_major": 2,
       "version_minor": 0
      },
      "text/plain": [
       "  0%|          | 0/100 [00:00<?, ?it/s]"
      ]
     },
     "metadata": {},
     "output_type": "display_data"
    },
    {
     "name": "stdout",
     "output_type": "stream",
     "text": [
      "The cellular effects of stromal cell-derived factor-1 (SDF-1) are mediated primarily by binding to the CXC chemokine receptor-4. We report in this study that SDF-1 and its peptide analogues induce a concentration- and time-dependent accumulation of phosphatidylinositol-(3,4,5)-trisphosphate (PtdIns(3,4,5)P3) in Jurkat cells. This SDF-1-stimulated generation of D-3 phosphoinositide lipids was inhibited by pretreatment of the cells with an SDF-1 peptide antagonist or an anti-CXCR4 Ab. In addition, the phosphoinositide 3 (PI 3)-kinase inhibitors wortmannin and LY294002, as well as the Gi protein inhibitor pertussis toxin, also inhibited the SDF-1-stimulated accumulation of PtdIns(3,4,5)P3. The effects of SDF-1 on D-3 phosphoinositide lipid accumulation correlated well with activation of the known PI 3-kinase effector protein kinase B, which was also inhibited by wortmannin and pertussis toxin. Concentrations of PI 3-kinase inhibitors, sufficient to inhibit PtdIns(3,4,5)P3 accumulation, also inhibited chemotaxis of Jurkat and peripheral blood-derived T lymphocytes in response to SDF-1. In contrast, SDF-1-stimulated actin polymerization was only partially inhibited by PI 3-kinase inhibitors, suggesting that while chemotaxis is fully dependent on PI 3-kinase activation, actin polymerization requires additional biochemical inputs. Finally, SDF-1-stimulated extracellular signal-related kinase (ERK)-1/2 mitogen-activated protein kinase activation was inhibited by PI 3-kinase inhibitors. In addition, the mitogen-activated protein/ERK kinase inhibitor PD098059 partially attenuated chemotaxis in response to SDF-1. Hence, it appears that ERK1/2 activation is dependent on PI 3-kinase activation, and both biochemical events are involved in the regulation of SDF-1-stimulated chemotaxis.\n",
      "\n",
      "generated_summary\n",
      "\n",
      "loss: 1.2061331272125244\n",
      "\n",
      "loss: 1.0715607404708862\n",
      "\n",
      "loss: 0.49089014530181885\n",
      "\n",
      "loss: 1.697505235671997\n",
      "\n",
      "loss: 0.2869003415107727\n",
      "\n",
      "loss: 1.1485661268234253\n",
      "\n",
      "loss: 0.5155049562454224\n",
      "\n",
      "loss: 1.147730827331543\n",
      "\n",
      "loss: 0.870055615901947\n",
      "\n",
      "loss: 0.7847380638122559\n",
      "\n"
     ]
    },
    {
     "data": {
      "application/vnd.jupyter.widget-view+json": {
       "model_id": "e56c7bec65ec4a2f972502f3f236ae08",
       "version_major": 2,
       "version_minor": 0
      },
      "text/plain": [
       "Evaluating:   0%|          | 0/500 [00:00<?, ?it/s]"
      ]
     },
     "metadata": {},
     "output_type": "display_data"
    },
    {
     "name": "stdout",
     "output_type": "stream",
     "text": [
      "perplexity: 6.244562149047852\n",
      "After 1141 updates: \n",
      "\n"
     ]
    },
    {
     "data": {
      "application/vnd.jupyter.widget-view+json": {
       "model_id": "a2fbf057c93244a1aaa0a6459595843c",
       "version_major": 2,
       "version_minor": 0
      },
      "text/plain": [
       "  0%|          | 0/100 [00:00<?, ?it/s]"
      ]
     },
     "metadata": {},
     "output_type": "display_data"
    },
    {
     "name": "stdout",
     "output_type": "stream",
     "text": [
      "We report the cDNA deduced primary structure of a wheat germ agglutinin-reactive nuclear pore complex (NPC) protein of rat. The protein, termed Nup98 (for nucleoporin of 98 kDa), contains numerous GLFG and FG repeats and some FXFG repeats and is thus a vertebrate member of a family of GLFG nucleoporins that were previously discovered in yeast. Immunoelectron microscopy showed Nup98 to be asymmetrically located at the nucleoplasmic side of the NPC. Nup98 functions as one of several docking site nucleoporins in a cytosolic docking activity-mediated binding of a model transport substrate. The docking site of Nup98 was mapped to its N-terminal half, which contains all of the peptide repeats. A recombinant segment of this region depleted the docking activity of cytosol. We suggest that the peptide repeat domain of Nup98, together with peptide repeat domains of other nucleoporins, forms an array of sites for mediated docking of transport substrate, and that bidirectional transport across the NPC proceeds by repeated docking and undocking reactions.\n",
      "\n",
      "generated_summary\n",
      "\n"
     ]
    },
    {
     "data": {
      "application/vnd.jupyter.widget-view+json": {
       "model_id": "6ec61f318c3c4139840b87903d8af36b",
       "version_major": 2,
       "version_minor": 0
      },
      "text/plain": [
       "  0%|          | 0/100 [00:00<?, ?it/s]"
      ]
     },
     "metadata": {},
     "output_type": "display_data"
    },
    {
     "name": "stdout",
     "output_type": "stream",
     "text": [
      "The cellular effects of stromal cell-derived factor-1 (SDF-1) are mediated primarily by binding to the CXC chemokine receptor-4. We report in this study that SDF-1 and its peptide analogues induce a concentration- and time-dependent accumulation of phosphatidylinositol-(3,4,5)-trisphosphate (PtdIns(3,4,5)P3) in Jurkat cells. This SDF-1-stimulated generation of D-3 phosphoinositide lipids was inhibited by pretreatment of the cells with an SDF-1 peptide antagonist or an anti-CXCR4 Ab. In addition, the phosphoinositide 3 (PI 3)-kinase inhibitors wortmannin and LY294002, as well as the Gi protein inhibitor pertussis toxin, also inhibited the SDF-1-stimulated accumulation of PtdIns(3,4,5)P3. The effects of SDF-1 on D-3 phosphoinositide lipid accumulation correlated well with activation of the known PI 3-kinase effector protein kinase B, which was also inhibited by wortmannin and pertussis toxin. Concentrations of PI 3-kinase inhibitors, sufficient to inhibit PtdIns(3,4,5)P3 accumulation, also inhibited chemotaxis of Jurkat and peripheral blood-derived T lymphocytes in response to SDF-1. In contrast, SDF-1-stimulated actin polymerization was only partially inhibited by PI 3-kinase inhibitors, suggesting that while chemotaxis is fully dependent on PI 3-kinase activation, actin polymerization requires additional biochemical inputs. Finally, SDF-1-stimulated extracellular signal-related kinase (ERK)-1/2 mitogen-activated protein kinase activation was inhibited by PI 3-kinase inhibitors. In addition, the mitogen-activated protein/ERK kinase inhibitor PD098059 partially attenuated chemotaxis in response to SDF-1. Hence, it appears that ERK1/2 activation is dependent on PI 3-kinase activation, and both biochemical events are involved in the regulation of SDF-1-stimulated chemotaxis.\n",
      "\n",
      "generated_summary\n",
      "\n",
      "loss: 0.7734429836273193\n",
      "\n",
      "loss: 1.4327874183654785\n",
      "\n",
      "loss: 0.8192019462585449\n",
      "\n",
      "loss: 1.096297025680542\n",
      "\n",
      "loss: 0.6735891103744507\n",
      "\n",
      "loss: 0.8844224810600281\n",
      "\n",
      "loss: 1.4111826419830322\n",
      "\n",
      "loss: 1.5106947422027588\n",
      "\n",
      "loss: 0.9582965970039368\n",
      "\n",
      "loss: 0.9480769038200378\n",
      "\n"
     ]
    },
    {
     "data": {
      "application/vnd.jupyter.widget-view+json": {
       "model_id": "a08ceecb09c44414ab88e4dbcefb4e47",
       "version_major": 2,
       "version_minor": 0
      },
      "text/plain": [
       "Evaluating:   0%|          | 0/500 [00:00<?, ?it/s]"
      ]
     },
     "metadata": {},
     "output_type": "display_data"
    },
    {
     "name": "stdout",
     "output_type": "stream",
     "text": [
      "perplexity: 6.040952682495117\n",
      "After 1151 updates: \n",
      "\n"
     ]
    },
    {
     "data": {
      "application/vnd.jupyter.widget-view+json": {
       "model_id": "69038502a77444cf93bcfe872f30390c",
       "version_major": 2,
       "version_minor": 0
      },
      "text/plain": [
       "  0%|          | 0/100 [00:00<?, ?it/s]"
      ]
     },
     "metadata": {},
     "output_type": "display_data"
    },
    {
     "name": "stdout",
     "output_type": "stream",
     "text": [
      "We report the cDNA deduced primary structure of a wheat germ agglutinin-reactive nuclear pore complex (NPC) protein of rat. The protein, termed Nup98 (for nucleoporin of 98 kDa), contains numerous GLFG and FG repeats and some FXFG repeats and is thus a vertebrate member of a family of GLFG nucleoporins that were previously discovered in yeast. Immunoelectron microscopy showed Nup98 to be asymmetrically located at the nucleoplasmic side of the NPC. Nup98 functions as one of several docking site nucleoporins in a cytosolic docking activity-mediated binding of a model transport substrate. The docking site of Nup98 was mapped to its N-terminal half, which contains all of the peptide repeats. A recombinant segment of this region depleted the docking activity of cytosol. We suggest that the peptide repeat domain of Nup98, together with peptide repeat domains of other nucleoporins, forms an array of sites for mediated docking of transport substrate, and that bidirectional transport across the NPC proceeds by repeated docking and undocking reactions.\n",
      "\n",
      "generated_summary\n",
      "\n"
     ]
    },
    {
     "data": {
      "application/vnd.jupyter.widget-view+json": {
       "model_id": "3aab8bbf56eb4592a9eae253da10fd73",
       "version_major": 2,
       "version_minor": 0
      },
      "text/plain": [
       "  0%|          | 0/100 [00:00<?, ?it/s]"
      ]
     },
     "metadata": {},
     "output_type": "display_data"
    },
    {
     "name": "stdout",
     "output_type": "stream",
     "text": [
      "The cellular effects of stromal cell-derived factor-1 (SDF-1) are mediated primarily by binding to the CXC chemokine receptor-4. We report in this study that SDF-1 and its peptide analogues induce a concentration- and time-dependent accumulation of phosphatidylinositol-(3,4,5)-trisphosphate (PtdIns(3,4,5)P3) in Jurkat cells. This SDF-1-stimulated generation of D-3 phosphoinositide lipids was inhibited by pretreatment of the cells with an SDF-1 peptide antagonist or an anti-CXCR4 Ab. In addition, the phosphoinositide 3 (PI 3)-kinase inhibitors wortmannin and LY294002, as well as the Gi protein inhibitor pertussis toxin, also inhibited the SDF-1-stimulated accumulation of PtdIns(3,4,5)P3. The effects of SDF-1 on D-3 phosphoinositide lipid accumulation correlated well with activation of the known PI 3-kinase effector protein kinase B, which was also inhibited by wortmannin and pertussis toxin. Concentrations of PI 3-kinase inhibitors, sufficient to inhibit PtdIns(3,4,5)P3 accumulation, also inhibited chemotaxis of Jurkat and peripheral blood-derived T lymphocytes in response to SDF-1. In contrast, SDF-1-stimulated actin polymerization was only partially inhibited by PI 3-kinase inhibitors, suggesting that while chemotaxis is fully dependent on PI 3-kinase activation, actin polymerization requires additional biochemical inputs. Finally, SDF-1-stimulated extracellular signal-related kinase (ERK)-1/2 mitogen-activated protein kinase activation was inhibited by PI 3-kinase inhibitors. In addition, the mitogen-activated protein/ERK kinase inhibitor PD098059 partially attenuated chemotaxis in response to SDF-1. Hence, it appears that ERK1/2 activation is dependent on PI 3-kinase activation, and both biochemical events are involved in the regulation of SDF-1-stimulated chemotaxis.\n",
      "\n",
      "generated_summary\n",
      "\n",
      "loss: 0.6984164714813232\n",
      "\n",
      "loss: 0.7816075682640076\n",
      "\n",
      "loss: 0.5384231209754944\n",
      "\n",
      "loss: 1.2938833236694336\n",
      "\n",
      "loss: 1.237335443496704\n",
      "\n",
      "loss: 1.187962293624878\n",
      "\n",
      "loss: 0.5375517010688782\n",
      "\n",
      "loss: 0.8235725164413452\n",
      "\n",
      "loss: 0.5974584817886353\n",
      "\n",
      "loss: 0.6215391755104065\n",
      "\n"
     ]
    },
    {
     "data": {
      "application/vnd.jupyter.widget-view+json": {
       "model_id": "ce8d727d7ec34314818517e82ab528b2",
       "version_major": 2,
       "version_minor": 0
      },
      "text/plain": [
       "Evaluating:   0%|          | 0/500 [00:00<?, ?it/s]"
      ]
     },
     "metadata": {},
     "output_type": "display_data"
    },
    {
     "name": "stdout",
     "output_type": "stream",
     "text": [
      "perplexity: 6.155127048492432\n",
      "After 1161 updates: \n",
      "\n"
     ]
    },
    {
     "data": {
      "application/vnd.jupyter.widget-view+json": {
       "model_id": "f5be997311684392a5f1e0ef7691e586",
       "version_major": 2,
       "version_minor": 0
      },
      "text/plain": [
       "  0%|          | 0/100 [00:00<?, ?it/s]"
      ]
     },
     "metadata": {},
     "output_type": "display_data"
    },
    {
     "name": "stdout",
     "output_type": "stream",
     "text": [
      "We report the cDNA deduced primary structure of a wheat germ agglutinin-reactive nuclear pore complex (NPC) protein of rat. The protein, termed Nup98 (for nucleoporin of 98 kDa), contains numerous GLFG and FG repeats and some FXFG repeats and is thus a vertebrate member of a family of GLFG nucleoporins that were previously discovered in yeast. Immunoelectron microscopy showed Nup98 to be asymmetrically located at the nucleoplasmic side of the NPC. Nup98 functions as one of several docking site nucleoporins in a cytosolic docking activity-mediated binding of a model transport substrate. The docking site of Nup98 was mapped to its N-terminal half, which contains all of the peptide repeats. A recombinant segment of this region depleted the docking activity of cytosol. We suggest that the peptide repeat domain of Nup98, together with peptide repeat domains of other nucleoporins, forms an array of sites for mediated docking of transport substrate, and that bidirectional transport across the NPC proceeds by repeated docking and undocking reactions.\n",
      "\n",
      "generated_summary\n",
      "\n"
     ]
    },
    {
     "data": {
      "application/vnd.jupyter.widget-view+json": {
       "model_id": "becd6271c8be47c98b4ec96257d117bc",
       "version_major": 2,
       "version_minor": 0
      },
      "text/plain": [
       "  0%|          | 0/100 [00:00<?, ?it/s]"
      ]
     },
     "metadata": {},
     "output_type": "display_data"
    },
    {
     "name": "stdout",
     "output_type": "stream",
     "text": [
      "The cellular effects of stromal cell-derived factor-1 (SDF-1) are mediated primarily by binding to the CXC chemokine receptor-4. We report in this study that SDF-1 and its peptide analogues induce a concentration- and time-dependent accumulation of phosphatidylinositol-(3,4,5)-trisphosphate (PtdIns(3,4,5)P3) in Jurkat cells. This SDF-1-stimulated generation of D-3 phosphoinositide lipids was inhibited by pretreatment of the cells with an SDF-1 peptide antagonist or an anti-CXCR4 Ab. In addition, the phosphoinositide 3 (PI 3)-kinase inhibitors wortmannin and LY294002, as well as the Gi protein inhibitor pertussis toxin, also inhibited the SDF-1-stimulated accumulation of PtdIns(3,4,5)P3. The effects of SDF-1 on D-3 phosphoinositide lipid accumulation correlated well with activation of the known PI 3-kinase effector protein kinase B, which was also inhibited by wortmannin and pertussis toxin. Concentrations of PI 3-kinase inhibitors, sufficient to inhibit PtdIns(3,4,5)P3 accumulation, also inhibited chemotaxis of Jurkat and peripheral blood-derived T lymphocytes in response to SDF-1. In contrast, SDF-1-stimulated actin polymerization was only partially inhibited by PI 3-kinase inhibitors, suggesting that while chemotaxis is fully dependent on PI 3-kinase activation, actin polymerization requires additional biochemical inputs. Finally, SDF-1-stimulated extracellular signal-related kinase (ERK)-1/2 mitogen-activated protein kinase activation was inhibited by PI 3-kinase inhibitors. In addition, the mitogen-activated protein/ERK kinase inhibitor PD098059 partially attenuated chemotaxis in response to SDF-1. Hence, it appears that ERK1/2 activation is dependent on PI 3-kinase activation, and both biochemical events are involved in the regulation of SDF-1-stimulated chemotaxis.\n",
      "\n",
      "generated_summary\n",
      "\n",
      "loss: 0.9216314554214478\n",
      "\n",
      "loss: 1.0313971042633057\n",
      "\n",
      "loss: 0.7045809626579285\n",
      "\n",
      "loss: 0.8682371973991394\n",
      "\n",
      "loss: 0.91468745470047\n",
      "\n",
      "loss: 1.0940543413162231\n",
      "\n",
      "loss: 1.1022257804870605\n",
      "\n",
      "loss: 1.2118970155715942\n",
      "\n",
      "loss: 0.849084198474884\n",
      "\n",
      "loss: 0.9727421402931213\n",
      "\n"
     ]
    },
    {
     "data": {
      "application/vnd.jupyter.widget-view+json": {
       "model_id": "93e291e9e340451ca2db8aabbcf344d0",
       "version_major": 2,
       "version_minor": 0
      },
      "text/plain": [
       "Evaluating:   0%|          | 0/500 [00:00<?, ?it/s]"
      ]
     },
     "metadata": {},
     "output_type": "display_data"
    },
    {
     "name": "stdout",
     "output_type": "stream",
     "text": [
      "perplexity: 5.964909553527832\n",
      "After 1171 updates: \n",
      "\n"
     ]
    },
    {
     "data": {
      "application/vnd.jupyter.widget-view+json": {
       "model_id": "1d10aa9f4ac147ccaf43dbcdb1dd1528",
       "version_major": 2,
       "version_minor": 0
      },
      "text/plain": [
       "  0%|          | 0/100 [00:00<?, ?it/s]"
      ]
     },
     "metadata": {},
     "output_type": "display_data"
    },
    {
     "name": "stdout",
     "output_type": "stream",
     "text": [
      "We report the cDNA deduced primary structure of a wheat germ agglutinin-reactive nuclear pore complex (NPC) protein of rat. The protein, termed Nup98 (for nucleoporin of 98 kDa), contains numerous GLFG and FG repeats and some FXFG repeats and is thus a vertebrate member of a family of GLFG nucleoporins that were previously discovered in yeast. Immunoelectron microscopy showed Nup98 to be asymmetrically located at the nucleoplasmic side of the NPC. Nup98 functions as one of several docking site nucleoporins in a cytosolic docking activity-mediated binding of a model transport substrate. The docking site of Nup98 was mapped to its N-terminal half, which contains all of the peptide repeats. A recombinant segment of this region depleted the docking activity of cytosol. We suggest that the peptide repeat domain of Nup98, together with peptide repeat domains of other nucleoporins, forms an array of sites for mediated docking of transport substrate, and that bidirectional transport across the NPC proceeds by repeated docking and undocking reactions.\n",
      "\n",
      "generated_summary\n",
      "\n"
     ]
    },
    {
     "data": {
      "application/vnd.jupyter.widget-view+json": {
       "model_id": "d4e4543d25fb4d75b0db89b954b38733",
       "version_major": 2,
       "version_minor": 0
      },
      "text/plain": [
       "  0%|          | 0/100 [00:00<?, ?it/s]"
      ]
     },
     "metadata": {},
     "output_type": "display_data"
    },
    {
     "name": "stdout",
     "output_type": "stream",
     "text": [
      "The cellular effects of stromal cell-derived factor-1 (SDF-1) are mediated primarily by binding to the CXC chemokine receptor-4. We report in this study that SDF-1 and its peptide analogues induce a concentration- and time-dependent accumulation of phosphatidylinositol-(3,4,5)-trisphosphate (PtdIns(3,4,5)P3) in Jurkat cells. This SDF-1-stimulated generation of D-3 phosphoinositide lipids was inhibited by pretreatment of the cells with an SDF-1 peptide antagonist or an anti-CXCR4 Ab. In addition, the phosphoinositide 3 (PI 3)-kinase inhibitors wortmannin and LY294002, as well as the Gi protein inhibitor pertussis toxin, also inhibited the SDF-1-stimulated accumulation of PtdIns(3,4,5)P3. The effects of SDF-1 on D-3 phosphoinositide lipid accumulation correlated well with activation of the known PI 3-kinase effector protein kinase B, which was also inhibited by wortmannin and pertussis toxin. Concentrations of PI 3-kinase inhibitors, sufficient to inhibit PtdIns(3,4,5)P3 accumulation, also inhibited chemotaxis of Jurkat and peripheral blood-derived T lymphocytes in response to SDF-1. In contrast, SDF-1-stimulated actin polymerization was only partially inhibited by PI 3-kinase inhibitors, suggesting that while chemotaxis is fully dependent on PI 3-kinase activation, actin polymerization requires additional biochemical inputs. Finally, SDF-1-stimulated extracellular signal-related kinase (ERK)-1/2 mitogen-activated protein kinase activation was inhibited by PI 3-kinase inhibitors. In addition, the mitogen-activated protein/ERK kinase inhibitor PD098059 partially attenuated chemotaxis in response to SDF-1. Hence, it appears that ERK1/2 activation is dependent on PI 3-kinase activation, and both biochemical events are involved in the regulation of SDF-1-stimulated chemotaxis.\n",
      "\n",
      "generated_summary\n",
      "\n",
      "loss: 1.1171199083328247\n",
      "\n",
      "loss: 0.6136450171470642\n",
      "\n",
      "loss: 2.091416120529175\n",
      "\n",
      "loss: 0.7964410781860352\n",
      "\n",
      "loss: 1.8283075094223022\n",
      "\n",
      "loss: 0.8539743423461914\n",
      "\n",
      "loss: 1.1436718702316284\n",
      "\n",
      "loss: 1.9176347255706787\n",
      "\n",
      "loss: 1.5450375080108643\n",
      "\n",
      "loss: 1.0451829433441162\n",
      "\n"
     ]
    },
    {
     "data": {
      "application/vnd.jupyter.widget-view+json": {
       "model_id": "98713746377a48bfa57754049bca9ec9",
       "version_major": 2,
       "version_minor": 0
      },
      "text/plain": [
       "Evaluating:   0%|          | 0/500 [00:00<?, ?it/s]"
      ]
     },
     "metadata": {},
     "output_type": "display_data"
    },
    {
     "name": "stdout",
     "output_type": "stream",
     "text": [
      "perplexity: 5.8384881019592285\n",
      "After 1181 updates: \n",
      "\n"
     ]
    },
    {
     "data": {
      "application/vnd.jupyter.widget-view+json": {
       "model_id": "b355b700f4a74c388dc5348fda8d209c",
       "version_major": 2,
       "version_minor": 0
      },
      "text/plain": [
       "  0%|          | 0/100 [00:00<?, ?it/s]"
      ]
     },
     "metadata": {},
     "output_type": "display_data"
    },
    {
     "name": "stdout",
     "output_type": "stream",
     "text": [
      "We report the cDNA deduced primary structure of a wheat germ agglutinin-reactive nuclear pore complex (NPC) protein of rat. The protein, termed Nup98 (for nucleoporin of 98 kDa), contains numerous GLFG and FG repeats and some FXFG repeats and is thus a vertebrate member of a family of GLFG nucleoporins that were previously discovered in yeast. Immunoelectron microscopy showed Nup98 to be asymmetrically located at the nucleoplasmic side of the NPC. Nup98 functions as one of several docking site nucleoporins in a cytosolic docking activity-mediated binding of a model transport substrate. The docking site of Nup98 was mapped to its N-terminal half, which contains all of the peptide repeats. A recombinant segment of this region depleted the docking activity of cytosol. We suggest that the peptide repeat domain of Nup98, together with peptide repeat domains of other nucleoporins, forms an array of sites for mediated docking of transport substrate, and that bidirectional transport across the NPC proceeds by repeated docking and undocking reactions.\n",
      "\n",
      "generated_summary\n",
      "\n"
     ]
    },
    {
     "data": {
      "application/vnd.jupyter.widget-view+json": {
       "model_id": "37e699644d494df19f9588469df5e684",
       "version_major": 2,
       "version_minor": 0
      },
      "text/plain": [
       "  0%|          | 0/100 [00:00<?, ?it/s]"
      ]
     },
     "metadata": {},
     "output_type": "display_data"
    },
    {
     "name": "stdout",
     "output_type": "stream",
     "text": [
      "The cellular effects of stromal cell-derived factor-1 (SDF-1) are mediated primarily by binding to the CXC chemokine receptor-4. We report in this study that SDF-1 and its peptide analogues induce a concentration- and time-dependent accumulation of phosphatidylinositol-(3,4,5)-trisphosphate (PtdIns(3,4,5)P3) in Jurkat cells. This SDF-1-stimulated generation of D-3 phosphoinositide lipids was inhibited by pretreatment of the cells with an SDF-1 peptide antagonist or an anti-CXCR4 Ab. In addition, the phosphoinositide 3 (PI 3)-kinase inhibitors wortmannin and LY294002, as well as the Gi protein inhibitor pertussis toxin, also inhibited the SDF-1-stimulated accumulation of PtdIns(3,4,5)P3. The effects of SDF-1 on D-3 phosphoinositide lipid accumulation correlated well with activation of the known PI 3-kinase effector protein kinase B, which was also inhibited by wortmannin and pertussis toxin. Concentrations of PI 3-kinase inhibitors, sufficient to inhibit PtdIns(3,4,5)P3 accumulation, also inhibited chemotaxis of Jurkat and peripheral blood-derived T lymphocytes in response to SDF-1. In contrast, SDF-1-stimulated actin polymerization was only partially inhibited by PI 3-kinase inhibitors, suggesting that while chemotaxis is fully dependent on PI 3-kinase activation, actin polymerization requires additional biochemical inputs. Finally, SDF-1-stimulated extracellular signal-related kinase (ERK)-1/2 mitogen-activated protein kinase activation was inhibited by PI 3-kinase inhibitors. In addition, the mitogen-activated protein/ERK kinase inhibitor PD098059 partially attenuated chemotaxis in response to SDF-1. Hence, it appears that ERK1/2 activation is dependent on PI 3-kinase activation, and both biochemical events are involved in the regulation of SDF-1-stimulated chemotaxis.\n",
      "\n",
      "generated_summary\n",
      "\n",
      "loss: 0.4633387625217438\n",
      "\n",
      "loss: 0.5481384992599487\n",
      "\n",
      "loss: 1.702856183052063\n",
      "\n",
      "loss: 0.20110690593719482\n",
      "\n",
      "loss: 0.7105287909507751\n",
      "\n",
      "loss: 0.8661045432090759\n",
      "\n",
      "loss: 0.9691499471664429\n",
      "\n",
      "loss: 1.2755749225616455\n",
      "\n",
      "loss: 0.4530046284198761\n",
      "\n",
      "loss: 0.8075169324874878\n",
      "\n"
     ]
    },
    {
     "data": {
      "application/vnd.jupyter.widget-view+json": {
       "model_id": "dd242e5e9a8f4e9d86c1c6a8f7a17b1a",
       "version_major": 2,
       "version_minor": 0
      },
      "text/plain": [
       "Evaluating:   0%|          | 0/500 [00:00<?, ?it/s]"
      ]
     },
     "metadata": {},
     "output_type": "display_data"
    },
    {
     "name": "stdout",
     "output_type": "stream",
     "text": [
      "perplexity: 5.8141865730285645\n",
      "After 1191 updates: \n",
      "\n"
     ]
    },
    {
     "data": {
      "application/vnd.jupyter.widget-view+json": {
       "model_id": "760145c6a05e465aa0458db471bf7e08",
       "version_major": 2,
       "version_minor": 0
      },
      "text/plain": [
       "  0%|          | 0/100 [00:00<?, ?it/s]"
      ]
     },
     "metadata": {},
     "output_type": "display_data"
    },
    {
     "name": "stdout",
     "output_type": "stream",
     "text": [
      "We report the cDNA deduced primary structure of a wheat germ agglutinin-reactive nuclear pore complex (NPC) protein of rat. The protein, termed Nup98 (for nucleoporin of 98 kDa), contains numerous GLFG and FG repeats and some FXFG repeats and is thus a vertebrate member of a family of GLFG nucleoporins that were previously discovered in yeast. Immunoelectron microscopy showed Nup98 to be asymmetrically located at the nucleoplasmic side of the NPC. Nup98 functions as one of several docking site nucleoporins in a cytosolic docking activity-mediated binding of a model transport substrate. The docking site of Nup98 was mapped to its N-terminal half, which contains all of the peptide repeats. A recombinant segment of this region depleted the docking activity of cytosol. We suggest that the peptide repeat domain of Nup98, together with peptide repeat domains of other nucleoporins, forms an array of sites for mediated docking of transport substrate, and that bidirectional transport across the NPC proceeds by repeated docking and undocking reactions.\n",
      "\n",
      "generated_summary\n",
      "\n"
     ]
    },
    {
     "data": {
      "application/vnd.jupyter.widget-view+json": {
       "model_id": "c93e22fda88e45c2abd895cdae2261f7",
       "version_major": 2,
       "version_minor": 0
      },
      "text/plain": [
       "  0%|          | 0/100 [00:00<?, ?it/s]"
      ]
     },
     "metadata": {},
     "output_type": "display_data"
    },
    {
     "name": "stdout",
     "output_type": "stream",
     "text": [
      "The cellular effects of stromal cell-derived factor-1 (SDF-1) are mediated primarily by binding to the CXC chemokine receptor-4. We report in this study that SDF-1 and its peptide analogues induce a concentration- and time-dependent accumulation of phosphatidylinositol-(3,4,5)-trisphosphate (PtdIns(3,4,5)P3) in Jurkat cells. This SDF-1-stimulated generation of D-3 phosphoinositide lipids was inhibited by pretreatment of the cells with an SDF-1 peptide antagonist or an anti-CXCR4 Ab. In addition, the phosphoinositide 3 (PI 3)-kinase inhibitors wortmannin and LY294002, as well as the Gi protein inhibitor pertussis toxin, also inhibited the SDF-1-stimulated accumulation of PtdIns(3,4,5)P3. The effects of SDF-1 on D-3 phosphoinositide lipid accumulation correlated well with activation of the known PI 3-kinase effector protein kinase B, which was also inhibited by wortmannin and pertussis toxin. Concentrations of PI 3-kinase inhibitors, sufficient to inhibit PtdIns(3,4,5)P3 accumulation, also inhibited chemotaxis of Jurkat and peripheral blood-derived T lymphocytes in response to SDF-1. In contrast, SDF-1-stimulated actin polymerization was only partially inhibited by PI 3-kinase inhibitors, suggesting that while chemotaxis is fully dependent on PI 3-kinase activation, actin polymerization requires additional biochemical inputs. Finally, SDF-1-stimulated extracellular signal-related kinase (ERK)-1/2 mitogen-activated protein kinase activation was inhibited by PI 3-kinase inhibitors. In addition, the mitogen-activated protein/ERK kinase inhibitor PD098059 partially attenuated chemotaxis in response to SDF-1. Hence, it appears that ERK1/2 activation is dependent on PI 3-kinase activation, and both biochemical events are involved in the regulation of SDF-1-stimulated chemotaxis.\n",
      "\n",
      "generated_summary\n",
      "\n",
      "loss: 0.7854053378105164\n",
      "\n",
      "loss: 0.47894883155822754\n",
      "\n",
      "loss: 1.3688095808029175\n",
      "\n",
      "loss: 0.4082498550415039\n",
      "\n",
      "loss: 0.7327497005462646\n",
      "\n",
      "loss: 0.34665313363075256\n",
      "\n",
      "loss: 1.7762610912322998\n",
      "\n",
      "loss: 1.2752102613449097\n",
      "\n",
      "loss: 1.104411005973816\n",
      "\n",
      "loss: 0.8582311868667603\n",
      "\n"
     ]
    },
    {
     "data": {
      "application/vnd.jupyter.widget-view+json": {
       "model_id": "b89d2504269c47b6b1e8eb00d6cf3b13",
       "version_major": 2,
       "version_minor": 0
      },
      "text/plain": [
       "Evaluating:   0%|          | 0/500 [00:00<?, ?it/s]"
      ]
     },
     "metadata": {},
     "output_type": "display_data"
    },
    {
     "name": "stdout",
     "output_type": "stream",
     "text": [
      "perplexity: 5.971924304962158\n",
      "After 1201 updates: \n",
      "\n"
     ]
    },
    {
     "data": {
      "application/vnd.jupyter.widget-view+json": {
       "model_id": "efbfc191b4f645e8b0499e98a366d11a",
       "version_major": 2,
       "version_minor": 0
      },
      "text/plain": [
       "  0%|          | 0/100 [00:00<?, ?it/s]"
      ]
     },
     "metadata": {},
     "output_type": "display_data"
    },
    {
     "name": "stdout",
     "output_type": "stream",
     "text": [
      "We report the cDNA deduced primary structure of a wheat germ agglutinin-reactive nuclear pore complex (NPC) protein of rat. The protein, termed Nup98 (for nucleoporin of 98 kDa), contains numerous GLFG and FG repeats and some FXFG repeats and is thus a vertebrate member of a family of GLFG nucleoporins that were previously discovered in yeast. Immunoelectron microscopy showed Nup98 to be asymmetrically located at the nucleoplasmic side of the NPC. Nup98 functions as one of several docking site nucleoporins in a cytosolic docking activity-mediated binding of a model transport substrate. The docking site of Nup98 was mapped to its N-terminal half, which contains all of the peptide repeats. A recombinant segment of this region depleted the docking activity of cytosol. We suggest that the peptide repeat domain of Nup98, together with peptide repeat domains of other nucleoporins, forms an array of sites for mediated docking of transport substrate, and that bidirectional transport across the NPC proceeds by repeated docking and undocking reactions.\n",
      "\n",
      "generated_summary\n",
      "\n"
     ]
    },
    {
     "data": {
      "application/vnd.jupyter.widget-view+json": {
       "model_id": "54005bfce14f43418524e7bcec8d91a0",
       "version_major": 2,
       "version_minor": 0
      },
      "text/plain": [
       "  0%|          | 0/100 [00:00<?, ?it/s]"
      ]
     },
     "metadata": {},
     "output_type": "display_data"
    },
    {
     "name": "stdout",
     "output_type": "stream",
     "text": [
      "The cellular effects of stromal cell-derived factor-1 (SDF-1) are mediated primarily by binding to the CXC chemokine receptor-4. We report in this study that SDF-1 and its peptide analogues induce a concentration- and time-dependent accumulation of phosphatidylinositol-(3,4,5)-trisphosphate (PtdIns(3,4,5)P3) in Jurkat cells. This SDF-1-stimulated generation of D-3 phosphoinositide lipids was inhibited by pretreatment of the cells with an SDF-1 peptide antagonist or an anti-CXCR4 Ab. In addition, the phosphoinositide 3 (PI 3)-kinase inhibitors wortmannin and LY294002, as well as the Gi protein inhibitor pertussis toxin, also inhibited the SDF-1-stimulated accumulation of PtdIns(3,4,5)P3. The effects of SDF-1 on D-3 phosphoinositide lipid accumulation correlated well with activation of the known PI 3-kinase effector protein kinase B, which was also inhibited by wortmannin and pertussis toxin. Concentrations of PI 3-kinase inhibitors, sufficient to inhibit PtdIns(3,4,5)P3 accumulation, also inhibited chemotaxis of Jurkat and peripheral blood-derived T lymphocytes in response to SDF-1. In contrast, SDF-1-stimulated actin polymerization was only partially inhibited by PI 3-kinase inhibitors, suggesting that while chemotaxis is fully dependent on PI 3-kinase activation, actin polymerization requires additional biochemical inputs. Finally, SDF-1-stimulated extracellular signal-related kinase (ERK)-1/2 mitogen-activated protein kinase activation was inhibited by PI 3-kinase inhibitors. In addition, the mitogen-activated protein/ERK kinase inhibitor PD098059 partially attenuated chemotaxis in response to SDF-1. Hence, it appears that ERK1/2 activation is dependent on PI 3-kinase activation, and both biochemical events are involved in the regulation of SDF-1-stimulated chemotaxis.\n",
      "\n",
      "generated_summary\n",
      "\n",
      "loss: 0.5880569815635681\n",
      "\n",
      "loss: 0.6627259254455566\n",
      "\n",
      "loss: 1.4831689596176147\n",
      "\n",
      "loss: 0.9267516732215881\n",
      "\n",
      "loss: 2.3069913387298584\n",
      "\n",
      "loss: 0.9503164291381836\n",
      "\n",
      "loss: 1.1493432521820068\n",
      "\n",
      "loss: 1.4144772291183472\n",
      "\n",
      "loss: 1.3119527101516724\n",
      "\n",
      "loss: 0.45312124490737915\n",
      "\n"
     ]
    },
    {
     "data": {
      "application/vnd.jupyter.widget-view+json": {
       "model_id": "c4e3fb03fb174852aa4b1dc4f9a5b94f",
       "version_major": 2,
       "version_minor": 0
      },
      "text/plain": [
       "Evaluating:   0%|          | 0/500 [00:00<?, ?it/s]"
      ]
     },
     "metadata": {},
     "output_type": "display_data"
    },
    {
     "name": "stdout",
     "output_type": "stream",
     "text": [
      "perplexity: 5.981998443603516\n",
      "After 1211 updates: \n",
      "\n"
     ]
    },
    {
     "data": {
      "application/vnd.jupyter.widget-view+json": {
       "model_id": "8d3f24b6188d47dd8319429459d1e22f",
       "version_major": 2,
       "version_minor": 0
      },
      "text/plain": [
       "  0%|          | 0/100 [00:00<?, ?it/s]"
      ]
     },
     "metadata": {},
     "output_type": "display_data"
    },
    {
     "name": "stdout",
     "output_type": "stream",
     "text": [
      "We report the cDNA deduced primary structure of a wheat germ agglutinin-reactive nuclear pore complex (NPC) protein of rat. The protein, termed Nup98 (for nucleoporin of 98 kDa), contains numerous GLFG and FG repeats and some FXFG repeats and is thus a vertebrate member of a family of GLFG nucleoporins that were previously discovered in yeast. Immunoelectron microscopy showed Nup98 to be asymmetrically located at the nucleoplasmic side of the NPC. Nup98 functions as one of several docking site nucleoporins in a cytosolic docking activity-mediated binding of a model transport substrate. The docking site of Nup98 was mapped to its N-terminal half, which contains all of the peptide repeats. A recombinant segment of this region depleted the docking activity of cytosol. We suggest that the peptide repeat domain of Nup98, together with peptide repeat domains of other nucleoporins, forms an array of sites for mediated docking of transport substrate, and that bidirectional transport across the NPC proceeds by repeated docking and undocking reactions.\n",
      "\n",
      "generated_summary\n",
      "\n"
     ]
    },
    {
     "data": {
      "application/vnd.jupyter.widget-view+json": {
       "model_id": "78e1e9bad5d84a34a66b509a59f4f42a",
       "version_major": 2,
       "version_minor": 0
      },
      "text/plain": [
       "  0%|          | 0/100 [00:00<?, ?it/s]"
      ]
     },
     "metadata": {},
     "output_type": "display_data"
    },
    {
     "name": "stdout",
     "output_type": "stream",
     "text": [
      "The cellular effects of stromal cell-derived factor-1 (SDF-1) are mediated primarily by binding to the CXC chemokine receptor-4. We report in this study that SDF-1 and its peptide analogues induce a concentration- and time-dependent accumulation of phosphatidylinositol-(3,4,5)-trisphosphate (PtdIns(3,4,5)P3) in Jurkat cells. This SDF-1-stimulated generation of D-3 phosphoinositide lipids was inhibited by pretreatment of the cells with an SDF-1 peptide antagonist or an anti-CXCR4 Ab. In addition, the phosphoinositide 3 (PI 3)-kinase inhibitors wortmannin and LY294002, as well as the Gi protein inhibitor pertussis toxin, also inhibited the SDF-1-stimulated accumulation of PtdIns(3,4,5)P3. The effects of SDF-1 on D-3 phosphoinositide lipid accumulation correlated well with activation of the known PI 3-kinase effector protein kinase B, which was also inhibited by wortmannin and pertussis toxin. Concentrations of PI 3-kinase inhibitors, sufficient to inhibit PtdIns(3,4,5)P3 accumulation, also inhibited chemotaxis of Jurkat and peripheral blood-derived T lymphocytes in response to SDF-1. In contrast, SDF-1-stimulated actin polymerization was only partially inhibited by PI 3-kinase inhibitors, suggesting that while chemotaxis is fully dependent on PI 3-kinase activation, actin polymerization requires additional biochemical inputs. Finally, SDF-1-stimulated extracellular signal-related kinase (ERK)-1/2 mitogen-activated protein kinase activation was inhibited by PI 3-kinase inhibitors. In addition, the mitogen-activated protein/ERK kinase inhibitor PD098059 partially attenuated chemotaxis in response to SDF-1. Hence, it appears that ERK1/2 activation is dependent on PI 3-kinase activation, and both biochemical events are involved in the regulation of SDF-1-stimulated chemotaxis.\n",
      "\n",
      "generated_summary\n",
      "\n",
      "loss: 0.40887734293937683\n",
      "\n",
      "loss: 1.1045938730239868\n",
      "\n",
      "loss: 0.9655318856239319\n",
      "\n",
      "loss: 1.5986831188201904\n",
      "\n",
      "loss: 0.6181631684303284\n",
      "\n",
      "loss: 1.2838629484176636\n",
      "\n",
      "loss: 0.6966803073883057\n",
      "\n",
      "loss: 1.1905770301818848\n",
      "\n",
      "loss: 1.093509316444397\n",
      "\n",
      "loss: 1.0333839654922485\n",
      "\n"
     ]
    },
    {
     "data": {
      "application/vnd.jupyter.widget-view+json": {
       "model_id": "dd41f5273c314b578e254ff4c2413d40",
       "version_major": 2,
       "version_minor": 0
      },
      "text/plain": [
       "Evaluating:   0%|          | 0/500 [00:00<?, ?it/s]"
      ]
     },
     "metadata": {},
     "output_type": "display_data"
    },
    {
     "name": "stdout",
     "output_type": "stream",
     "text": [
      "perplexity: 5.967053413391113\n",
      "After 1221 updates: \n",
      "\n"
     ]
    },
    {
     "data": {
      "application/vnd.jupyter.widget-view+json": {
       "model_id": "06d88c2a677b4ff0b967ff9ee49259f4",
       "version_major": 2,
       "version_minor": 0
      },
      "text/plain": [
       "  0%|          | 0/100 [00:00<?, ?it/s]"
      ]
     },
     "metadata": {},
     "output_type": "display_data"
    },
    {
     "name": "stdout",
     "output_type": "stream",
     "text": [
      "We report the cDNA deduced primary structure of a wheat germ agglutinin-reactive nuclear pore complex (NPC) protein of rat. The protein, termed Nup98 (for nucleoporin of 98 kDa), contains numerous GLFG and FG repeats and some FXFG repeats and is thus a vertebrate member of a family of GLFG nucleoporins that were previously discovered in yeast. Immunoelectron microscopy showed Nup98 to be asymmetrically located at the nucleoplasmic side of the NPC. Nup98 functions as one of several docking site nucleoporins in a cytosolic docking activity-mediated binding of a model transport substrate. The docking site of Nup98 was mapped to its N-terminal half, which contains all of the peptide repeats. A recombinant segment of this region depleted the docking activity of cytosol. We suggest that the peptide repeat domain of Nup98, together with peptide repeat domains of other nucleoporins, forms an array of sites for mediated docking of transport substrate, and that bidirectional transport across the NPC proceeds by repeated docking and undocking reactions.\n",
      "\n",
      "generated_summary\n",
      "\n"
     ]
    },
    {
     "data": {
      "application/vnd.jupyter.widget-view+json": {
       "model_id": "ff05ef94c993407682ed16ef6dbd7d82",
       "version_major": 2,
       "version_minor": 0
      },
      "text/plain": [
       "  0%|          | 0/100 [00:00<?, ?it/s]"
      ]
     },
     "metadata": {},
     "output_type": "display_data"
    },
    {
     "name": "stdout",
     "output_type": "stream",
     "text": [
      "The cellular effects of stromal cell-derived factor-1 (SDF-1) are mediated primarily by binding to the CXC chemokine receptor-4. We report in this study that SDF-1 and its peptide analogues induce a concentration- and time-dependent accumulation of phosphatidylinositol-(3,4,5)-trisphosphate (PtdIns(3,4,5)P3) in Jurkat cells. This SDF-1-stimulated generation of D-3 phosphoinositide lipids was inhibited by pretreatment of the cells with an SDF-1 peptide antagonist or an anti-CXCR4 Ab. In addition, the phosphoinositide 3 (PI 3)-kinase inhibitors wortmannin and LY294002, as well as the Gi protein inhibitor pertussis toxin, also inhibited the SDF-1-stimulated accumulation of PtdIns(3,4,5)P3. The effects of SDF-1 on D-3 phosphoinositide lipid accumulation correlated well with activation of the known PI 3-kinase effector protein kinase B, which was also inhibited by wortmannin and pertussis toxin. Concentrations of PI 3-kinase inhibitors, sufficient to inhibit PtdIns(3,4,5)P3 accumulation, also inhibited chemotaxis of Jurkat and peripheral blood-derived T lymphocytes in response to SDF-1. In contrast, SDF-1-stimulated actin polymerization was only partially inhibited by PI 3-kinase inhibitors, suggesting that while chemotaxis is fully dependent on PI 3-kinase activation, actin polymerization requires additional biochemical inputs. Finally, SDF-1-stimulated extracellular signal-related kinase (ERK)-1/2 mitogen-activated protein kinase activation was inhibited by PI 3-kinase inhibitors. In addition, the mitogen-activated protein/ERK kinase inhibitor PD098059 partially attenuated chemotaxis in response to SDF-1. Hence, it appears that ERK1/2 activation is dependent on PI 3-kinase activation, and both biochemical events are involved in the regulation of SDF-1-stimulated chemotaxis.\n",
      "\n",
      "generated_summary\n",
      "\n",
      "loss: 0.4665728807449341\n",
      "\n",
      "loss: 0.6449138522148132\n",
      "\n",
      "loss: 1.0896885395050049\n",
      "\n",
      "loss: 0.4931108355522156\n",
      "\n",
      "loss: 0.9372650980949402\n",
      "\n",
      "loss: 1.5378624200820923\n",
      "\n",
      "loss: 0.9671351313591003\n",
      "\n",
      "loss: 0.5320025086402893\n",
      "\n",
      "loss: 0.8685845136642456\n",
      "\n",
      "loss: 1.3959778547286987\n",
      "\n"
     ]
    },
    {
     "data": {
      "application/vnd.jupyter.widget-view+json": {
       "model_id": "ba961844f6be4b6e8f8bc3720c378769",
       "version_major": 2,
       "version_minor": 0
      },
      "text/plain": [
       "Evaluating:   0%|          | 0/500 [00:00<?, ?it/s]"
      ]
     },
     "metadata": {},
     "output_type": "display_data"
    },
    {
     "name": "stdout",
     "output_type": "stream",
     "text": [
      "perplexity: 6.014992713928223\n",
      "After 1231 updates: \n",
      "\n"
     ]
    },
    {
     "data": {
      "application/vnd.jupyter.widget-view+json": {
       "model_id": "9b027824e3ec4ba8b0cbf027b3f1a34a",
       "version_major": 2,
       "version_minor": 0
      },
      "text/plain": [
       "  0%|          | 0/100 [00:00<?, ?it/s]"
      ]
     },
     "metadata": {},
     "output_type": "display_data"
    },
    {
     "name": "stdout",
     "output_type": "stream",
     "text": [
      "We report the cDNA deduced primary structure of a wheat germ agglutinin-reactive nuclear pore complex (NPC) protein of rat. The protein, termed Nup98 (for nucleoporin of 98 kDa), contains numerous GLFG and FG repeats and some FXFG repeats and is thus a vertebrate member of a family of GLFG nucleoporins that were previously discovered in yeast. Immunoelectron microscopy showed Nup98 to be asymmetrically located at the nucleoplasmic side of the NPC. Nup98 functions as one of several docking site nucleoporins in a cytosolic docking activity-mediated binding of a model transport substrate. The docking site of Nup98 was mapped to its N-terminal half, which contains all of the peptide repeats. A recombinant segment of this region depleted the docking activity of cytosol. We suggest that the peptide repeat domain of Nup98, together with peptide repeat domains of other nucleoporins, forms an array of sites for mediated docking of transport substrate, and that bidirectional transport across the NPC proceeds by repeated docking and undocking reactions.\n",
      "\n",
      "generated_summary\n",
      "\n"
     ]
    },
    {
     "data": {
      "application/vnd.jupyter.widget-view+json": {
       "model_id": "ff6d3d1e9ae94d8e8c1577e4f5067335",
       "version_major": 2,
       "version_minor": 0
      },
      "text/plain": [
       "  0%|          | 0/100 [00:00<?, ?it/s]"
      ]
     },
     "metadata": {},
     "output_type": "display_data"
    },
    {
     "name": "stdout",
     "output_type": "stream",
     "text": [
      "The cellular effects of stromal cell-derived factor-1 (SDF-1) are mediated primarily by binding to the CXC chemokine receptor-4. We report in this study that SDF-1 and its peptide analogues induce a concentration- and time-dependent accumulation of phosphatidylinositol-(3,4,5)-trisphosphate (PtdIns(3,4,5)P3) in Jurkat cells. This SDF-1-stimulated generation of D-3 phosphoinositide lipids was inhibited by pretreatment of the cells with an SDF-1 peptide antagonist or an anti-CXCR4 Ab. In addition, the phosphoinositide 3 (PI 3)-kinase inhibitors wortmannin and LY294002, as well as the Gi protein inhibitor pertussis toxin, also inhibited the SDF-1-stimulated accumulation of PtdIns(3,4,5)P3. The effects of SDF-1 on D-3 phosphoinositide lipid accumulation correlated well with activation of the known PI 3-kinase effector protein kinase B, which was also inhibited by wortmannin and pertussis toxin. Concentrations of PI 3-kinase inhibitors, sufficient to inhibit PtdIns(3,4,5)P3 accumulation, also inhibited chemotaxis of Jurkat and peripheral blood-derived T lymphocytes in response to SDF-1. In contrast, SDF-1-stimulated actin polymerization was only partially inhibited by PI 3-kinase inhibitors, suggesting that while chemotaxis is fully dependent on PI 3-kinase activation, actin polymerization requires additional biochemical inputs. Finally, SDF-1-stimulated extracellular signal-related kinase (ERK)-1/2 mitogen-activated protein kinase activation was inhibited by PI 3-kinase inhibitors. In addition, the mitogen-activated protein/ERK kinase inhibitor PD098059 partially attenuated chemotaxis in response to SDF-1. Hence, it appears that ERK1/2 activation is dependent on PI 3-kinase activation, and both biochemical events are involved in the regulation of SDF-1-stimulated chemotaxis.\n",
      "\n",
      "generated_summary\n",
      "\n",
      "loss: 1.0817221403121948\n",
      "\n",
      "loss: 0.24231381714344025\n",
      "\n",
      "loss: 1.2117241621017456\n",
      "\n",
      "loss: 1.1792163848876953\n",
      "\n",
      "loss: 0.8891248106956482\n",
      "\n",
      "loss: 0.1465407907962799\n",
      "\n",
      "loss: 1.036821722984314\n",
      "\n",
      "loss: 0.6883224844932556\n",
      "\n",
      "loss: 0.6104133129119873\n",
      "\n",
      "loss: 0.6328463554382324\n",
      "\n"
     ]
    },
    {
     "data": {
      "application/vnd.jupyter.widget-view+json": {
       "model_id": "ae5dfaaec22f465081132957e9d5b23c",
       "version_major": 2,
       "version_minor": 0
      },
      "text/plain": [
       "Evaluating:   0%|          | 0/500 [00:00<?, ?it/s]"
      ]
     },
     "metadata": {},
     "output_type": "display_data"
    },
    {
     "name": "stdout",
     "output_type": "stream",
     "text": [
      "perplexity: 5.882091999053955\n",
      "After 1241 updates: \n",
      "\n"
     ]
    },
    {
     "data": {
      "application/vnd.jupyter.widget-view+json": {
       "model_id": "447a64458cf941e494a0817fb9388a71",
       "version_major": 2,
       "version_minor": 0
      },
      "text/plain": [
       "  0%|          | 0/100 [00:00<?, ?it/s]"
      ]
     },
     "metadata": {},
     "output_type": "display_data"
    },
    {
     "name": "stdout",
     "output_type": "stream",
     "text": [
      "We report the cDNA deduced primary structure of a wheat germ agglutinin-reactive nuclear pore complex (NPC) protein of rat. The protein, termed Nup98 (for nucleoporin of 98 kDa), contains numerous GLFG and FG repeats and some FXFG repeats and is thus a vertebrate member of a family of GLFG nucleoporins that were previously discovered in yeast. Immunoelectron microscopy showed Nup98 to be asymmetrically located at the nucleoplasmic side of the NPC. Nup98 functions as one of several docking site nucleoporins in a cytosolic docking activity-mediated binding of a model transport substrate. The docking site of Nup98 was mapped to its N-terminal half, which contains all of the peptide repeats. A recombinant segment of this region depleted the docking activity of cytosol. We suggest that the peptide repeat domain of Nup98, together with peptide repeat domains of other nucleoporins, forms an array of sites for mediated docking of transport substrate, and that bidirectional transport across the NPC proceeds by repeated docking and undocking reactions.\n",
      "\n",
      "generated_summary\n",
      "\n"
     ]
    },
    {
     "data": {
      "application/vnd.jupyter.widget-view+json": {
       "model_id": "9f6123ec4a9a4e97a4ce9978accfbb84",
       "version_major": 2,
       "version_minor": 0
      },
      "text/plain": [
       "  0%|          | 0/100 [00:00<?, ?it/s]"
      ]
     },
     "metadata": {},
     "output_type": "display_data"
    },
    {
     "name": "stdout",
     "output_type": "stream",
     "text": [
      "The cellular effects of stromal cell-derived factor-1 (SDF-1) are mediated primarily by binding to the CXC chemokine receptor-4. We report in this study that SDF-1 and its peptide analogues induce a concentration- and time-dependent accumulation of phosphatidylinositol-(3,4,5)-trisphosphate (PtdIns(3,4,5)P3) in Jurkat cells. This SDF-1-stimulated generation of D-3 phosphoinositide lipids was inhibited by pretreatment of the cells with an SDF-1 peptide antagonist or an anti-CXCR4 Ab. In addition, the phosphoinositide 3 (PI 3)-kinase inhibitors wortmannin and LY294002, as well as the Gi protein inhibitor pertussis toxin, also inhibited the SDF-1-stimulated accumulation of PtdIns(3,4,5)P3. The effects of SDF-1 on D-3 phosphoinositide lipid accumulation correlated well with activation of the known PI 3-kinase effector protein kinase B, which was also inhibited by wortmannin and pertussis toxin. Concentrations of PI 3-kinase inhibitors, sufficient to inhibit PtdIns(3,4,5)P3 accumulation, also inhibited chemotaxis of Jurkat and peripheral blood-derived T lymphocytes in response to SDF-1. In contrast, SDF-1-stimulated actin polymerization was only partially inhibited by PI 3-kinase inhibitors, suggesting that while chemotaxis is fully dependent on PI 3-kinase activation, actin polymerization requires additional biochemical inputs. Finally, SDF-1-stimulated extracellular signal-related kinase (ERK)-1/2 mitogen-activated protein kinase activation was inhibited by PI 3-kinase inhibitors. In addition, the mitogen-activated protein/ERK kinase inhibitor PD098059 partially attenuated chemotaxis in response to SDF-1. Hence, it appears that ERK1/2 activation is dependent on PI 3-kinase activation, and both biochemical events are involved in the regulation of SDF-1-stimulated chemotaxis.\n",
      "\n",
      "generated_summary\n",
      "\n",
      "loss: 1.8680675029754639\n",
      "\n",
      "loss: 0.675868809223175\n",
      "\n",
      "loss: 0.35538041591644287\n",
      "\n",
      "loss: 0.9901341795921326\n",
      "\n",
      "loss: 0.5959858298301697\n",
      "\n",
      "loss: 0.8740734457969666\n",
      "\n",
      "loss: 1.4607994556427002\n",
      "\n",
      "loss: 2.056607246398926\n",
      "\n",
      "loss: 0.47227349877357483\n",
      "\n",
      "loss: 1.2326698303222656\n",
      "\n"
     ]
    },
    {
     "data": {
      "application/vnd.jupyter.widget-view+json": {
       "model_id": "263fb68bb1e14489a435ffcccd12fa9d",
       "version_major": 2,
       "version_minor": 0
      },
      "text/plain": [
       "Evaluating:   0%|          | 0/500 [00:00<?, ?it/s]"
      ]
     },
     "metadata": {},
     "output_type": "display_data"
    },
    {
     "name": "stdout",
     "output_type": "stream",
     "text": [
      "perplexity: 5.83560037612915\n",
      "After 1251 updates: \n",
      "\n"
     ]
    },
    {
     "data": {
      "application/vnd.jupyter.widget-view+json": {
       "model_id": "79e33b50816b45ac89a7f0d43d3657f1",
       "version_major": 2,
       "version_minor": 0
      },
      "text/plain": [
       "  0%|          | 0/100 [00:00<?, ?it/s]"
      ]
     },
     "metadata": {},
     "output_type": "display_data"
    },
    {
     "name": "stdout",
     "output_type": "stream",
     "text": [
      "We report the cDNA deduced primary structure of a wheat germ agglutinin-reactive nuclear pore complex (NPC) protein of rat. The protein, termed Nup98 (for nucleoporin of 98 kDa), contains numerous GLFG and FG repeats and some FXFG repeats and is thus a vertebrate member of a family of GLFG nucleoporins that were previously discovered in yeast. Immunoelectron microscopy showed Nup98 to be asymmetrically located at the nucleoplasmic side of the NPC. Nup98 functions as one of several docking site nucleoporins in a cytosolic docking activity-mediated binding of a model transport substrate. The docking site of Nup98 was mapped to its N-terminal half, which contains all of the peptide repeats. A recombinant segment of this region depleted the docking activity of cytosol. We suggest that the peptide repeat domain of Nup98, together with peptide repeat domains of other nucleoporins, forms an array of sites for mediated docking of transport substrate, and that bidirectional transport across the NPC proceeds by repeated docking and undocking reactions.\n",
      "\n",
      "generated_summary\n",
      "\n"
     ]
    },
    {
     "data": {
      "application/vnd.jupyter.widget-view+json": {
       "model_id": "2ecdfc8e941d41118732651f3a166dbd",
       "version_major": 2,
       "version_minor": 0
      },
      "text/plain": [
       "  0%|          | 0/100 [00:00<?, ?it/s]"
      ]
     },
     "metadata": {},
     "output_type": "display_data"
    },
    {
     "name": "stdout",
     "output_type": "stream",
     "text": [
      "The cellular effects of stromal cell-derived factor-1 (SDF-1) are mediated primarily by binding to the CXC chemokine receptor-4. We report in this study that SDF-1 and its peptide analogues induce a concentration- and time-dependent accumulation of phosphatidylinositol-(3,4,5)-trisphosphate (PtdIns(3,4,5)P3) in Jurkat cells. This SDF-1-stimulated generation of D-3 phosphoinositide lipids was inhibited by pretreatment of the cells with an SDF-1 peptide antagonist or an anti-CXCR4 Ab. In addition, the phosphoinositide 3 (PI 3)-kinase inhibitors wortmannin and LY294002, as well as the Gi protein inhibitor pertussis toxin, also inhibited the SDF-1-stimulated accumulation of PtdIns(3,4,5)P3. The effects of SDF-1 on D-3 phosphoinositide lipid accumulation correlated well with activation of the known PI 3-kinase effector protein kinase B, which was also inhibited by wortmannin and pertussis toxin. Concentrations of PI 3-kinase inhibitors, sufficient to inhibit PtdIns(3,4,5)P3 accumulation, also inhibited chemotaxis of Jurkat and peripheral blood-derived T lymphocytes in response to SDF-1. In contrast, SDF-1-stimulated actin polymerization was only partially inhibited by PI 3-kinase inhibitors, suggesting that while chemotaxis is fully dependent on PI 3-kinase activation, actin polymerization requires additional biochemical inputs. Finally, SDF-1-stimulated extracellular signal-related kinase (ERK)-1/2 mitogen-activated protein kinase activation was inhibited by PI 3-kinase inhibitors. In addition, the mitogen-activated protein/ERK kinase inhibitor PD098059 partially attenuated chemotaxis in response to SDF-1. Hence, it appears that ERK1/2 activation is dependent on PI 3-kinase activation, and both biochemical events are involved in the regulation of SDF-1-stimulated chemotaxis.\n",
      "\n",
      "generated_summary\n",
      "\n",
      "loss: 0.8434357643127441\n",
      "\n",
      "loss: 1.3360164165496826\n",
      "\n",
      "loss: 1.039019227027893\n",
      "\n",
      "loss: 0.9245734810829163\n",
      "\n",
      "loss: 0.8587673902511597\n",
      "\n",
      "loss: 0.9045678973197937\n",
      "\n",
      "loss: 1.3597966432571411\n",
      "\n",
      "loss: 0.42634254693984985\n",
      "\n",
      "loss: 0.9266468286514282\n",
      "\n",
      "loss: 0.964190661907196\n",
      "\n"
     ]
    },
    {
     "data": {
      "application/vnd.jupyter.widget-view+json": {
       "model_id": "cb9ecb95f1e342b08fdfd5cde0eeb2f9",
       "version_major": 2,
       "version_minor": 0
      },
      "text/plain": [
       "Evaluating:   0%|          | 0/500 [00:00<?, ?it/s]"
      ]
     },
     "metadata": {},
     "output_type": "display_data"
    },
    {
     "name": "stdout",
     "output_type": "stream",
     "text": [
      "perplexity: 5.7455058097839355\n",
      "After 1261 updates: \n",
      "\n"
     ]
    },
    {
     "data": {
      "application/vnd.jupyter.widget-view+json": {
       "model_id": "3048f91008284792b3193c5291ed8fa2",
       "version_major": 2,
       "version_minor": 0
      },
      "text/plain": [
       "  0%|          | 0/100 [00:00<?, ?it/s]"
      ]
     },
     "metadata": {},
     "output_type": "display_data"
    },
    {
     "name": "stdout",
     "output_type": "stream",
     "text": [
      "We report the cDNA deduced primary structure of a wheat germ agglutinin-reactive nuclear pore complex (NPC) protein of rat. The protein, termed Nup98 (for nucleoporin of 98 kDa), contains numerous GLFG and FG repeats and some FXFG repeats and is thus a vertebrate member of a family of GLFG nucleoporins that were previously discovered in yeast. Immunoelectron microscopy showed Nup98 to be asymmetrically located at the nucleoplasmic side of the NPC. Nup98 functions as one of several docking site nucleoporins in a cytosolic docking activity-mediated binding of a model transport substrate. The docking site of Nup98 was mapped to its N-terminal half, which contains all of the peptide repeats. A recombinant segment of this region depleted the docking activity of cytosol. We suggest that the peptide repeat domain of Nup98, together with peptide repeat domains of other nucleoporins, forms an array of sites for mediated docking of transport substrate, and that bidirectional transport across the NPC proceeds by repeated docking and undocking reactions.\n",
      "\n",
      "generated_summary\n",
      "\n"
     ]
    },
    {
     "data": {
      "application/vnd.jupyter.widget-view+json": {
       "model_id": "9a8b93929d674570a3213ac9929664e2",
       "version_major": 2,
       "version_minor": 0
      },
      "text/plain": [
       "  0%|          | 0/100 [00:00<?, ?it/s]"
      ]
     },
     "metadata": {},
     "output_type": "display_data"
    },
    {
     "name": "stdout",
     "output_type": "stream",
     "text": [
      "The cellular effects of stromal cell-derived factor-1 (SDF-1) are mediated primarily by binding to the CXC chemokine receptor-4. We report in this study that SDF-1 and its peptide analogues induce a concentration- and time-dependent accumulation of phosphatidylinositol-(3,4,5)-trisphosphate (PtdIns(3,4,5)P3) in Jurkat cells. This SDF-1-stimulated generation of D-3 phosphoinositide lipids was inhibited by pretreatment of the cells with an SDF-1 peptide antagonist or an anti-CXCR4 Ab. In addition, the phosphoinositide 3 (PI 3)-kinase inhibitors wortmannin and LY294002, as well as the Gi protein inhibitor pertussis toxin, also inhibited the SDF-1-stimulated accumulation of PtdIns(3,4,5)P3. The effects of SDF-1 on D-3 phosphoinositide lipid accumulation correlated well with activation of the known PI 3-kinase effector protein kinase B, which was also inhibited by wortmannin and pertussis toxin. Concentrations of PI 3-kinase inhibitors, sufficient to inhibit PtdIns(3,4,5)P3 accumulation, also inhibited chemotaxis of Jurkat and peripheral blood-derived T lymphocytes in response to SDF-1. In contrast, SDF-1-stimulated actin polymerization was only partially inhibited by PI 3-kinase inhibitors, suggesting that while chemotaxis is fully dependent on PI 3-kinase activation, actin polymerization requires additional biochemical inputs. Finally, SDF-1-stimulated extracellular signal-related kinase (ERK)-1/2 mitogen-activated protein kinase activation was inhibited by PI 3-kinase inhibitors. In addition, the mitogen-activated protein/ERK kinase inhibitor PD098059 partially attenuated chemotaxis in response to SDF-1. Hence, it appears that ERK1/2 activation is dependent on PI 3-kinase activation, and both biochemical events are involved in the regulation of SDF-1-stimulated chemotaxis.\n",
      "\n",
      "generated_summary\n",
      "\n",
      "loss: 1.0817965269088745\n",
      "\n",
      "loss: 0.6666123270988464\n",
      "\n",
      "loss: 0.8418880701065063\n",
      "\n",
      "loss: 0.7358877062797546\n",
      "\n",
      "loss: 1.0747672319412231\n",
      "\n",
      "loss: 1.027349829673767\n",
      "\n",
      "loss: 0.7863691449165344\n",
      "\n",
      "loss: 0.6958060264587402\n",
      "\n",
      "loss: 0.7632037997245789\n",
      "\n",
      "loss: 0.8277225494384766\n",
      "\n"
     ]
    },
    {
     "data": {
      "application/vnd.jupyter.widget-view+json": {
       "model_id": "0d46a5c5fcc04226843f4f59d64f3f34",
       "version_major": 2,
       "version_minor": 0
      },
      "text/plain": [
       "Evaluating:   0%|          | 0/500 [00:00<?, ?it/s]"
      ]
     },
     "metadata": {},
     "output_type": "display_data"
    },
    {
     "name": "stdout",
     "output_type": "stream",
     "text": [
      "perplexity: 5.869784832000732\n",
      "After 1271 updates: \n",
      "\n"
     ]
    },
    {
     "data": {
      "application/vnd.jupyter.widget-view+json": {
       "model_id": "0b0086f0415c44049920217298a2f01a",
       "version_major": 2,
       "version_minor": 0
      },
      "text/plain": [
       "  0%|          | 0/100 [00:00<?, ?it/s]"
      ]
     },
     "metadata": {},
     "output_type": "display_data"
    },
    {
     "name": "stdout",
     "output_type": "stream",
     "text": [
      "We report the cDNA deduced primary structure of a wheat germ agglutinin-reactive nuclear pore complex (NPC) protein of rat. The protein, termed Nup98 (for nucleoporin of 98 kDa), contains numerous GLFG and FG repeats and some FXFG repeats and is thus a vertebrate member of a family of GLFG nucleoporins that were previously discovered in yeast. Immunoelectron microscopy showed Nup98 to be asymmetrically located at the nucleoplasmic side of the NPC. Nup98 functions as one of several docking site nucleoporins in a cytosolic docking activity-mediated binding of a model transport substrate. The docking site of Nup98 was mapped to its N-terminal half, which contains all of the peptide repeats. A recombinant segment of this region depleted the docking activity of cytosol. We suggest that the peptide repeat domain of Nup98, together with peptide repeat domains of other nucleoporins, forms an array of sites for mediated docking of transport substrate, and that bidirectional transport across the NPC proceeds by repeated docking and undocking reactions.\n",
      "\n",
      "generated_summary\n",
      "\n"
     ]
    },
    {
     "data": {
      "application/vnd.jupyter.widget-view+json": {
       "model_id": "eae79a9f898c46f18d7a60aab0362fd6",
       "version_major": 2,
       "version_minor": 0
      },
      "text/plain": [
       "  0%|          | 0/100 [00:00<?, ?it/s]"
      ]
     },
     "metadata": {},
     "output_type": "display_data"
    },
    {
     "name": "stdout",
     "output_type": "stream",
     "text": [
      "The cellular effects of stromal cell-derived factor-1 (SDF-1) are mediated primarily by binding to the CXC chemokine receptor-4. We report in this study that SDF-1 and its peptide analogues induce a concentration- and time-dependent accumulation of phosphatidylinositol-(3,4,5)-trisphosphate (PtdIns(3,4,5)P3) in Jurkat cells. This SDF-1-stimulated generation of D-3 phosphoinositide lipids was inhibited by pretreatment of the cells with an SDF-1 peptide antagonist or an anti-CXCR4 Ab. In addition, the phosphoinositide 3 (PI 3)-kinase inhibitors wortmannin and LY294002, as well as the Gi protein inhibitor pertussis toxin, also inhibited the SDF-1-stimulated accumulation of PtdIns(3,4,5)P3. The effects of SDF-1 on D-3 phosphoinositide lipid accumulation correlated well with activation of the known PI 3-kinase effector protein kinase B, which was also inhibited by wortmannin and pertussis toxin. Concentrations of PI 3-kinase inhibitors, sufficient to inhibit PtdIns(3,4,5)P3 accumulation, also inhibited chemotaxis of Jurkat and peripheral blood-derived T lymphocytes in response to SDF-1. In contrast, SDF-1-stimulated actin polymerization was only partially inhibited by PI 3-kinase inhibitors, suggesting that while chemotaxis is fully dependent on PI 3-kinase activation, actin polymerization requires additional biochemical inputs. Finally, SDF-1-stimulated extracellular signal-related kinase (ERK)-1/2 mitogen-activated protein kinase activation was inhibited by PI 3-kinase inhibitors. In addition, the mitogen-activated protein/ERK kinase inhibitor PD098059 partially attenuated chemotaxis in response to SDF-1. Hence, it appears that ERK1/2 activation is dependent on PI 3-kinase activation, and both biochemical events are involved in the regulation of SDF-1-stimulated chemotaxis.\n",
      "\n",
      "generated_summary\n",
      "\n",
      "loss: 0.8351608514785767\n",
      "\n",
      "loss: 0.8317357301712036\n",
      "\n",
      "loss: 0.6300064921379089\n",
      "\n",
      "loss: 1.001765489578247\n",
      "\n",
      "loss: 0.6172190308570862\n",
      "\n",
      "loss: 0.758455216884613\n",
      "\n",
      "loss: 1.3858994245529175\n",
      "\n",
      "loss: 1.0976130962371826\n",
      "\n",
      "loss: 1.2256194353103638\n",
      "\n",
      "loss: 0.7781275510787964\n",
      "\n"
     ]
    },
    {
     "data": {
      "application/vnd.jupyter.widget-view+json": {
       "model_id": "e8c09c5b5bb8443fad2b9408741c5179",
       "version_major": 2,
       "version_minor": 0
      },
      "text/plain": [
       "Evaluating:   0%|          | 0/500 [00:00<?, ?it/s]"
      ]
     },
     "metadata": {},
     "output_type": "display_data"
    },
    {
     "name": "stdout",
     "output_type": "stream",
     "text": [
      "perplexity: 5.782106876373291\n",
      "After 1281 updates: \n",
      "\n"
     ]
    },
    {
     "data": {
      "application/vnd.jupyter.widget-view+json": {
       "model_id": "749d421a28e348f190106351c50be0e4",
       "version_major": 2,
       "version_minor": 0
      },
      "text/plain": [
       "  0%|          | 0/100 [00:00<?, ?it/s]"
      ]
     },
     "metadata": {},
     "output_type": "display_data"
    },
    {
     "name": "stdout",
     "output_type": "stream",
     "text": [
      "We report the cDNA deduced primary structure of a wheat germ agglutinin-reactive nuclear pore complex (NPC) protein of rat. The protein, termed Nup98 (for nucleoporin of 98 kDa), contains numerous GLFG and FG repeats and some FXFG repeats and is thus a vertebrate member of a family of GLFG nucleoporins that were previously discovered in yeast. Immunoelectron microscopy showed Nup98 to be asymmetrically located at the nucleoplasmic side of the NPC. Nup98 functions as one of several docking site nucleoporins in a cytosolic docking activity-mediated binding of a model transport substrate. The docking site of Nup98 was mapped to its N-terminal half, which contains all of the peptide repeats. A recombinant segment of this region depleted the docking activity of cytosol. We suggest that the peptide repeat domain of Nup98, together with peptide repeat domains of other nucleoporins, forms an array of sites for mediated docking of transport substrate, and that bidirectional transport across the NPC proceeds by repeated docking and undocking reactions.\n",
      "\n",
      "generated_summary\n",
      "\n"
     ]
    },
    {
     "data": {
      "application/vnd.jupyter.widget-view+json": {
       "model_id": "0fc587f54ce14b7d85f17d0353c1ca79",
       "version_major": 2,
       "version_minor": 0
      },
      "text/plain": [
       "  0%|          | 0/100 [00:00<?, ?it/s]"
      ]
     },
     "metadata": {},
     "output_type": "display_data"
    },
    {
     "name": "stdout",
     "output_type": "stream",
     "text": [
      "The cellular effects of stromal cell-derived factor-1 (SDF-1) are mediated primarily by binding to the CXC chemokine receptor-4. We report in this study that SDF-1 and its peptide analogues induce a concentration- and time-dependent accumulation of phosphatidylinositol-(3,4,5)-trisphosphate (PtdIns(3,4,5)P3) in Jurkat cells. This SDF-1-stimulated generation of D-3 phosphoinositide lipids was inhibited by pretreatment of the cells with an SDF-1 peptide antagonist or an anti-CXCR4 Ab. In addition, the phosphoinositide 3 (PI 3)-kinase inhibitors wortmannin and LY294002, as well as the Gi protein inhibitor pertussis toxin, also inhibited the SDF-1-stimulated accumulation of PtdIns(3,4,5)P3. The effects of SDF-1 on D-3 phosphoinositide lipid accumulation correlated well with activation of the known PI 3-kinase effector protein kinase B, which was also inhibited by wortmannin and pertussis toxin. Concentrations of PI 3-kinase inhibitors, sufficient to inhibit PtdIns(3,4,5)P3 accumulation, also inhibited chemotaxis of Jurkat and peripheral blood-derived T lymphocytes in response to SDF-1. In contrast, SDF-1-stimulated actin polymerization was only partially inhibited by PI 3-kinase inhibitors, suggesting that while chemotaxis is fully dependent on PI 3-kinase activation, actin polymerization requires additional biochemical inputs. Finally, SDF-1-stimulated extracellular signal-related kinase (ERK)-1/2 mitogen-activated protein kinase activation was inhibited by PI 3-kinase inhibitors. In addition, the mitogen-activated protein/ERK kinase inhibitor PD098059 partially attenuated chemotaxis in response to SDF-1. Hence, it appears that ERK1/2 activation is dependent on PI 3-kinase activation, and both biochemical events are involved in the regulation of SDF-1-stimulated chemotaxis.\n",
      "\n",
      "generated_summary\n",
      "\n",
      "loss: 0.4272473454475403\n",
      "\n",
      "loss: 1.6096596717834473\n",
      "\n",
      "loss: 0.5989872217178345\n",
      "\n",
      "loss: 0.8463439345359802\n",
      "\n",
      "loss: 0.9221262335777283\n",
      "\n",
      "loss: 0.9934300780296326\n",
      "\n",
      "loss: 0.4794152081012726\n",
      "\n",
      "loss: 1.4473567008972168\n",
      "\n",
      "loss: 0.6266717314720154\n",
      "\n",
      "loss: 1.0067452192306519\n",
      "\n"
     ]
    },
    {
     "data": {
      "application/vnd.jupyter.widget-view+json": {
       "model_id": "f8ae0b1eafe14040bf269ee1a07d5d61",
       "version_major": 2,
       "version_minor": 0
      },
      "text/plain": [
       "Evaluating:   0%|          | 0/500 [00:00<?, ?it/s]"
      ]
     },
     "metadata": {},
     "output_type": "display_data"
    },
    {
     "name": "stdout",
     "output_type": "stream",
     "text": [
      "perplexity: 5.78314733505249\n",
      "After 1291 updates: \n",
      "\n"
     ]
    },
    {
     "data": {
      "application/vnd.jupyter.widget-view+json": {
       "model_id": "d44612ad11f64c6587ed0622a8be6ddb",
       "version_major": 2,
       "version_minor": 0
      },
      "text/plain": [
       "  0%|          | 0/100 [00:00<?, ?it/s]"
      ]
     },
     "metadata": {},
     "output_type": "display_data"
    },
    {
     "name": "stdout",
     "output_type": "stream",
     "text": [
      "We report the cDNA deduced primary structure of a wheat germ agglutinin-reactive nuclear pore complex (NPC) protein of rat. The protein, termed Nup98 (for nucleoporin of 98 kDa), contains numerous GLFG and FG repeats and some FXFG repeats and is thus a vertebrate member of a family of GLFG nucleoporins that were previously discovered in yeast. Immunoelectron microscopy showed Nup98 to be asymmetrically located at the nucleoplasmic side of the NPC. Nup98 functions as one of several docking site nucleoporins in a cytosolic docking activity-mediated binding of a model transport substrate. The docking site of Nup98 was mapped to its N-terminal half, which contains all of the peptide repeats. A recombinant segment of this region depleted the docking activity of cytosol. We suggest that the peptide repeat domain of Nup98, together with peptide repeat domains of other nucleoporins, forms an array of sites for mediated docking of transport substrate, and that bidirectional transport across the NPC proceeds by repeated docking and undocking reactions.\n",
      "\n",
      "generated_summary\n",
      "\n"
     ]
    },
    {
     "data": {
      "application/vnd.jupyter.widget-view+json": {
       "model_id": "1d6f8a6b2fd54ae9b352f7f58eb50ab6",
       "version_major": 2,
       "version_minor": 0
      },
      "text/plain": [
       "  0%|          | 0/100 [00:00<?, ?it/s]"
      ]
     },
     "metadata": {},
     "output_type": "display_data"
    },
    {
     "name": "stdout",
     "output_type": "stream",
     "text": [
      "The cellular effects of stromal cell-derived factor-1 (SDF-1) are mediated primarily by binding to the CXC chemokine receptor-4. We report in this study that SDF-1 and its peptide analogues induce a concentration- and time-dependent accumulation of phosphatidylinositol-(3,4,5)-trisphosphate (PtdIns(3,4,5)P3) in Jurkat cells. This SDF-1-stimulated generation of D-3 phosphoinositide lipids was inhibited by pretreatment of the cells with an SDF-1 peptide antagonist or an anti-CXCR4 Ab. In addition, the phosphoinositide 3 (PI 3)-kinase inhibitors wortmannin and LY294002, as well as the Gi protein inhibitor pertussis toxin, also inhibited the SDF-1-stimulated accumulation of PtdIns(3,4,5)P3. The effects of SDF-1 on D-3 phosphoinositide lipid accumulation correlated well with activation of the known PI 3-kinase effector protein kinase B, which was also inhibited by wortmannin and pertussis toxin. Concentrations of PI 3-kinase inhibitors, sufficient to inhibit PtdIns(3,4,5)P3 accumulation, also inhibited chemotaxis of Jurkat and peripheral blood-derived T lymphocytes in response to SDF-1. In contrast, SDF-1-stimulated actin polymerization was only partially inhibited by PI 3-kinase inhibitors, suggesting that while chemotaxis is fully dependent on PI 3-kinase activation, actin polymerization requires additional biochemical inputs. Finally, SDF-1-stimulated extracellular signal-related kinase (ERK)-1/2 mitogen-activated protein kinase activation was inhibited by PI 3-kinase inhibitors. In addition, the mitogen-activated protein/ERK kinase inhibitor PD098059 partially attenuated chemotaxis in response to SDF-1. Hence, it appears that ERK1/2 activation is dependent on PI 3-kinase activation, and both biochemical events are involved in the regulation of SDF-1-stimulated chemotaxis.\n",
      "\n",
      "generated_summary\n",
      "\n",
      "loss: 1.2785017490386963\n",
      "\n",
      "loss: 0.8561729192733765\n",
      "\n",
      "loss: 0.7649569511413574\n",
      "\n",
      "loss: 0.9737647175788879\n",
      "\n",
      "loss: 0.9220103025436401\n",
      "\n",
      "loss: 1.0691977739334106\n",
      "\n",
      "loss: 0.4406674802303314\n",
      "\n",
      "loss: 0.6404538154602051\n",
      "\n",
      "loss: 0.9040733575820923\n",
      "\n",
      "loss: 0.5487614274024963\n",
      "\n"
     ]
    },
    {
     "data": {
      "application/vnd.jupyter.widget-view+json": {
       "model_id": "19a393d9166b4e8f81d1cbdb1b7e4aeb",
       "version_major": 2,
       "version_minor": 0
      },
      "text/plain": [
       "Evaluating:   0%|          | 0/500 [00:00<?, ?it/s]"
      ]
     },
     "metadata": {},
     "output_type": "display_data"
    },
    {
     "name": "stdout",
     "output_type": "stream",
     "text": [
      "perplexity: 5.918595314025879\n",
      "After 1301 updates: \n",
      "\n"
     ]
    },
    {
     "data": {
      "application/vnd.jupyter.widget-view+json": {
       "model_id": "f9762a28f50f482caa701291992148ba",
       "version_major": 2,
       "version_minor": 0
      },
      "text/plain": [
       "  0%|          | 0/100 [00:00<?, ?it/s]"
      ]
     },
     "metadata": {},
     "output_type": "display_data"
    },
    {
     "name": "stdout",
     "output_type": "stream",
     "text": [
      "We report the cDNA deduced primary structure of a wheat germ agglutinin-reactive nuclear pore complex (NPC) protein of rat. The protein, termed Nup98 (for nucleoporin of 98 kDa), contains numerous GLFG and FG repeats and some FXFG repeats and is thus a vertebrate member of a family of GLFG nucleoporins that were previously discovered in yeast. Immunoelectron microscopy showed Nup98 to be asymmetrically located at the nucleoplasmic side of the NPC. Nup98 functions as one of several docking site nucleoporins in a cytosolic docking activity-mediated binding of a model transport substrate. The docking site of Nup98 was mapped to its N-terminal half, which contains all of the peptide repeats. A recombinant segment of this region depleted the docking activity of cytosol. We suggest that the peptide repeat domain of Nup98, together with peptide repeat domains of other nucleoporins, forms an array of sites for mediated docking of transport substrate, and that bidirectional transport across the NPC proceeds by repeated docking and undocking reactions.\n",
      "\n",
      "generated_summary\n",
      "\n"
     ]
    },
    {
     "data": {
      "application/vnd.jupyter.widget-view+json": {
       "model_id": "8b2c182307094e049f980e373d8c2b24",
       "version_major": 2,
       "version_minor": 0
      },
      "text/plain": [
       "  0%|          | 0/100 [00:00<?, ?it/s]"
      ]
     },
     "metadata": {},
     "output_type": "display_data"
    },
    {
     "name": "stdout",
     "output_type": "stream",
     "text": [
      "The cellular effects of stromal cell-derived factor-1 (SDF-1) are mediated primarily by binding to the CXC chemokine receptor-4. We report in this study that SDF-1 and its peptide analogues induce a concentration- and time-dependent accumulation of phosphatidylinositol-(3,4,5)-trisphosphate (PtdIns(3,4,5)P3) in Jurkat cells. This SDF-1-stimulated generation of D-3 phosphoinositide lipids was inhibited by pretreatment of the cells with an SDF-1 peptide antagonist or an anti-CXCR4 Ab. In addition, the phosphoinositide 3 (PI 3)-kinase inhibitors wortmannin and LY294002, as well as the Gi protein inhibitor pertussis toxin, also inhibited the SDF-1-stimulated accumulation of PtdIns(3,4,5)P3. The effects of SDF-1 on D-3 phosphoinositide lipid accumulation correlated well with activation of the known PI 3-kinase effector protein kinase B, which was also inhibited by wortmannin and pertussis toxin. Concentrations of PI 3-kinase inhibitors, sufficient to inhibit PtdIns(3,4,5)P3 accumulation, also inhibited chemotaxis of Jurkat and peripheral blood-derived T lymphocytes in response to SDF-1. In contrast, SDF-1-stimulated actin polymerization was only partially inhibited by PI 3-kinase inhibitors, suggesting that while chemotaxis is fully dependent on PI 3-kinase activation, actin polymerization requires additional biochemical inputs. Finally, SDF-1-stimulated extracellular signal-related kinase (ERK)-1/2 mitogen-activated protein kinase activation was inhibited by PI 3-kinase inhibitors. In addition, the mitogen-activated protein/ERK kinase inhibitor PD098059 partially attenuated chemotaxis in response to SDF-1. Hence, it appears that ERK1/2 activation is dependent on PI 3-kinase activation, and both biochemical events are involved in the regulation of SDF-1-stimulated chemotaxis.\n",
      "\n",
      "generated_summary\n",
      "\n",
      "loss: 0.8848088979721069\n",
      "\n",
      "loss: 0.7305288314819336\n",
      "\n",
      "loss: 0.6827046275138855\n",
      "\n",
      "loss: 0.478025883436203\n",
      "\n",
      "loss: 0.9704667925834656\n",
      "\n",
      "loss: 1.2813795804977417\n",
      "\n",
      "loss: 1.2439898252487183\n",
      "\n",
      "loss: 0.6844318509101868\n",
      "\n",
      "loss: 0.11302948743104935\n",
      "\n",
      "loss: 0.8121001720428467\n",
      "\n"
     ]
    },
    {
     "data": {
      "application/vnd.jupyter.widget-view+json": {
       "model_id": "a0438927e0274a36b5b954f5474477d1",
       "version_major": 2,
       "version_minor": 0
      },
      "text/plain": [
       "Evaluating:   0%|          | 0/500 [00:00<?, ?it/s]"
      ]
     },
     "metadata": {},
     "output_type": "display_data"
    },
    {
     "name": "stdout",
     "output_type": "stream",
     "text": [
      "perplexity: 6.160141944885254\n",
      "After 1311 updates: \n",
      "\n"
     ]
    },
    {
     "data": {
      "application/vnd.jupyter.widget-view+json": {
       "model_id": "5a84ea3f771845039e09b9490d032666",
       "version_major": 2,
       "version_minor": 0
      },
      "text/plain": [
       "  0%|          | 0/100 [00:00<?, ?it/s]"
      ]
     },
     "metadata": {},
     "output_type": "display_data"
    },
    {
     "name": "stdout",
     "output_type": "stream",
     "text": [
      "We report the cDNA deduced primary structure of a wheat germ agglutinin-reactive nuclear pore complex (NPC) protein of rat. The protein, termed Nup98 (for nucleoporin of 98 kDa), contains numerous GLFG and FG repeats and some FXFG repeats and is thus a vertebrate member of a family of GLFG nucleoporins that were previously discovered in yeast. Immunoelectron microscopy showed Nup98 to be asymmetrically located at the nucleoplasmic side of the NPC. Nup98 functions as one of several docking site nucleoporins in a cytosolic docking activity-mediated binding of a model transport substrate. The docking site of Nup98 was mapped to its N-terminal half, which contains all of the peptide repeats. A recombinant segment of this region depleted the docking activity of cytosol. We suggest that the peptide repeat domain of Nup98, together with peptide repeat domains of other nucleoporins, forms an array of sites for mediated docking of transport substrate, and that bidirectional transport across the NPC proceeds by repeated docking and undocking reactions.\n",
      "\n",
      "generated_summary\n",
      "\n"
     ]
    },
    {
     "data": {
      "application/vnd.jupyter.widget-view+json": {
       "model_id": "cec7c662cbc04a30a908153328d4f608",
       "version_major": 2,
       "version_minor": 0
      },
      "text/plain": [
       "  0%|          | 0/100 [00:00<?, ?it/s]"
      ]
     },
     "metadata": {},
     "output_type": "display_data"
    },
    {
     "name": "stdout",
     "output_type": "stream",
     "text": [
      "The cellular effects of stromal cell-derived factor-1 (SDF-1) are mediated primarily by binding to the CXC chemokine receptor-4. We report in this study that SDF-1 and its peptide analogues induce a concentration- and time-dependent accumulation of phosphatidylinositol-(3,4,5)-trisphosphate (PtdIns(3,4,5)P3) in Jurkat cells. This SDF-1-stimulated generation of D-3 phosphoinositide lipids was inhibited by pretreatment of the cells with an SDF-1 peptide antagonist or an anti-CXCR4 Ab. In addition, the phosphoinositide 3 (PI 3)-kinase inhibitors wortmannin and LY294002, as well as the Gi protein inhibitor pertussis toxin, also inhibited the SDF-1-stimulated accumulation of PtdIns(3,4,5)P3. The effects of SDF-1 on D-3 phosphoinositide lipid accumulation correlated well with activation of the known PI 3-kinase effector protein kinase B, which was also inhibited by wortmannin and pertussis toxin. Concentrations of PI 3-kinase inhibitors, sufficient to inhibit PtdIns(3,4,5)P3 accumulation, also inhibited chemotaxis of Jurkat and peripheral blood-derived T lymphocytes in response to SDF-1. In contrast, SDF-1-stimulated actin polymerization was only partially inhibited by PI 3-kinase inhibitors, suggesting that while chemotaxis is fully dependent on PI 3-kinase activation, actin polymerization requires additional biochemical inputs. Finally, SDF-1-stimulated extracellular signal-related kinase (ERK)-1/2 mitogen-activated protein kinase activation was inhibited by PI 3-kinase inhibitors. In addition, the mitogen-activated protein/ERK kinase inhibitor PD098059 partially attenuated chemotaxis in response to SDF-1. Hence, it appears that ERK1/2 activation is dependent on PI 3-kinase activation, and both biochemical events are involved in the regulation of SDF-1-stimulated chemotaxis.\n",
      "\n",
      "generated_summary\n",
      "\n",
      "loss: 0.5341695547103882\n",
      "\n",
      "loss: 1.33683180809021\n",
      "\n",
      "loss: 0.7418906092643738\n",
      "\n",
      "loss: 0.8934065103530884\n",
      "\n",
      "loss: 0.7977926135063171\n",
      "\n",
      "loss: 1.773199200630188\n",
      "\n",
      "loss: 0.899905264377594\n",
      "\n",
      "loss: 0.5614542365074158\n",
      "\n",
      "loss: 0.17190483212471008\n",
      "\n",
      "loss: 1.9618643522262573\n",
      "\n"
     ]
    },
    {
     "data": {
      "application/vnd.jupyter.widget-view+json": {
       "model_id": "5df5e45f6f27466ea34643d2684a8e3e",
       "version_major": 2,
       "version_minor": 0
      },
      "text/plain": [
       "Evaluating:   0%|          | 0/500 [00:00<?, ?it/s]"
      ]
     },
     "metadata": {},
     "output_type": "display_data"
    },
    {
     "name": "stdout",
     "output_type": "stream",
     "text": [
      "perplexity: 6.206758975982666\n",
      "After 1321 updates: \n",
      "\n"
     ]
    },
    {
     "data": {
      "application/vnd.jupyter.widget-view+json": {
       "model_id": "72431c1e083f4a66b020193884156cb9",
       "version_major": 2,
       "version_minor": 0
      },
      "text/plain": [
       "  0%|          | 0/100 [00:00<?, ?it/s]"
      ]
     },
     "metadata": {},
     "output_type": "display_data"
    },
    {
     "name": "stdout",
     "output_type": "stream",
     "text": [
      "We report the cDNA deduced primary structure of a wheat germ agglutinin-reactive nuclear pore complex (NPC) protein of rat. The protein, termed Nup98 (for nucleoporin of 98 kDa), contains numerous GLFG and FG repeats and some FXFG repeats and is thus a vertebrate member of a family of GLFG nucleoporins that were previously discovered in yeast. Immunoelectron microscopy showed Nup98 to be asymmetrically located at the nucleoplasmic side of the NPC. Nup98 functions as one of several docking site nucleoporins in a cytosolic docking activity-mediated binding of a model transport substrate. The docking site of Nup98 was mapped to its N-terminal half, which contains all of the peptide repeats. A recombinant segment of this region depleted the docking activity of cytosol. We suggest that the peptide repeat domain of Nup98, together with peptide repeat domains of other nucleoporins, forms an array of sites for mediated docking of transport substrate, and that bidirectional transport across the NPC proceeds by repeated docking and undocking reactions.\n",
      "\n",
      "generated_summary\n",
      "\n"
     ]
    },
    {
     "data": {
      "application/vnd.jupyter.widget-view+json": {
       "model_id": "cab6e591ca9b477aa6bf6e6db1a62639",
       "version_major": 2,
       "version_minor": 0
      },
      "text/plain": [
       "  0%|          | 0/100 [00:00<?, ?it/s]"
      ]
     },
     "metadata": {},
     "output_type": "display_data"
    },
    {
     "name": "stdout",
     "output_type": "stream",
     "text": [
      "The cellular effects of stromal cell-derived factor-1 (SDF-1) are mediated primarily by binding to the CXC chemokine receptor-4. We report in this study that SDF-1 and its peptide analogues induce a concentration- and time-dependent accumulation of phosphatidylinositol-(3,4,5)-trisphosphate (PtdIns(3,4,5)P3) in Jurkat cells. This SDF-1-stimulated generation of D-3 phosphoinositide lipids was inhibited by pretreatment of the cells with an SDF-1 peptide antagonist or an anti-CXCR4 Ab. In addition, the phosphoinositide 3 (PI 3)-kinase inhibitors wortmannin and LY294002, as well as the Gi protein inhibitor pertussis toxin, also inhibited the SDF-1-stimulated accumulation of PtdIns(3,4,5)P3. The effects of SDF-1 on D-3 phosphoinositide lipid accumulation correlated well with activation of the known PI 3-kinase effector protein kinase B, which was also inhibited by wortmannin and pertussis toxin. Concentrations of PI 3-kinase inhibitors, sufficient to inhibit PtdIns(3,4,5)P3 accumulation, also inhibited chemotaxis of Jurkat and peripheral blood-derived T lymphocytes in response to SDF-1. In contrast, SDF-1-stimulated actin polymerization was only partially inhibited by PI 3-kinase inhibitors, suggesting that while chemotaxis is fully dependent on PI 3-kinase activation, actin polymerization requires additional biochemical inputs. Finally, SDF-1-stimulated extracellular signal-related kinase (ERK)-1/2 mitogen-activated protein kinase activation was inhibited by PI 3-kinase inhibitors. In addition, the mitogen-activated protein/ERK kinase inhibitor PD098059 partially attenuated chemotaxis in response to SDF-1. Hence, it appears that ERK1/2 activation is dependent on PI 3-kinase activation, and both biochemical events are involved in the regulation of SDF-1-stimulated chemotaxis.\n",
      "\n",
      "generated_summary\n",
      "\n",
      "loss: 0.7458334565162659\n",
      "\n",
      "loss: 0.5623599886894226\n",
      "\n",
      "loss: 0.29306501150131226\n",
      "\n",
      "loss: 1.1262624263763428\n",
      "\n",
      "loss: 0.7558112144470215\n",
      "\n",
      "loss: 0.5766627192497253\n",
      "\n",
      "loss: 0.6834110617637634\n",
      "\n",
      "loss: 1.2711610794067383\n",
      "\n",
      "loss: 1.1983953714370728\n",
      "\n",
      "loss: 0.841743528842926\n",
      "\n"
     ]
    },
    {
     "data": {
      "application/vnd.jupyter.widget-view+json": {
       "model_id": "051525295f5a444dbc402f1af8d10af5",
       "version_major": 2,
       "version_minor": 0
      },
      "text/plain": [
       "Evaluating:   0%|          | 0/500 [00:00<?, ?it/s]"
      ]
     },
     "metadata": {},
     "output_type": "display_data"
    },
    {
     "name": "stdout",
     "output_type": "stream",
     "text": [
      "perplexity: 6.184885025024414\n",
      "After 1331 updates: \n",
      "\n"
     ]
    },
    {
     "data": {
      "application/vnd.jupyter.widget-view+json": {
       "model_id": "afe71d30c37243fbb07c85f407966b98",
       "version_major": 2,
       "version_minor": 0
      },
      "text/plain": [
       "  0%|          | 0/100 [00:00<?, ?it/s]"
      ]
     },
     "metadata": {},
     "output_type": "display_data"
    },
    {
     "name": "stdout",
     "output_type": "stream",
     "text": [
      "We report the cDNA deduced primary structure of a wheat germ agglutinin-reactive nuclear pore complex (NPC) protein of rat. The protein, termed Nup98 (for nucleoporin of 98 kDa), contains numerous GLFG and FG repeats and some FXFG repeats and is thus a vertebrate member of a family of GLFG nucleoporins that were previously discovered in yeast. Immunoelectron microscopy showed Nup98 to be asymmetrically located at the nucleoplasmic side of the NPC. Nup98 functions as one of several docking site nucleoporins in a cytosolic docking activity-mediated binding of a model transport substrate. The docking site of Nup98 was mapped to its N-terminal half, which contains all of the peptide repeats. A recombinant segment of this region depleted the docking activity of cytosol. We suggest that the peptide repeat domain of Nup98, together with peptide repeat domains of other nucleoporins, forms an array of sites for mediated docking of transport substrate, and that bidirectional transport across the NPC proceeds by repeated docking and undocking reactions.\n",
      "\n",
      "generated_summary\n",
      "\n"
     ]
    },
    {
     "data": {
      "application/vnd.jupyter.widget-view+json": {
       "model_id": "2bd052cd896e42b88c5fd78612418ea7",
       "version_major": 2,
       "version_minor": 0
      },
      "text/plain": [
       "  0%|          | 0/100 [00:00<?, ?it/s]"
      ]
     },
     "metadata": {},
     "output_type": "display_data"
    },
    {
     "name": "stdout",
     "output_type": "stream",
     "text": [
      "The cellular effects of stromal cell-derived factor-1 (SDF-1) are mediated primarily by binding to the CXC chemokine receptor-4. We report in this study that SDF-1 and its peptide analogues induce a concentration- and time-dependent accumulation of phosphatidylinositol-(3,4,5)-trisphosphate (PtdIns(3,4,5)P3) in Jurkat cells. This SDF-1-stimulated generation of D-3 phosphoinositide lipids was inhibited by pretreatment of the cells with an SDF-1 peptide antagonist or an anti-CXCR4 Ab. In addition, the phosphoinositide 3 (PI 3)-kinase inhibitors wortmannin and LY294002, as well as the Gi protein inhibitor pertussis toxin, also inhibited the SDF-1-stimulated accumulation of PtdIns(3,4,5)P3. The effects of SDF-1 on D-3 phosphoinositide lipid accumulation correlated well with activation of the known PI 3-kinase effector protein kinase B, which was also inhibited by wortmannin and pertussis toxin. Concentrations of PI 3-kinase inhibitors, sufficient to inhibit PtdIns(3,4,5)P3 accumulation, also inhibited chemotaxis of Jurkat and peripheral blood-derived T lymphocytes in response to SDF-1. In contrast, SDF-1-stimulated actin polymerization was only partially inhibited by PI 3-kinase inhibitors, suggesting that while chemotaxis is fully dependent on PI 3-kinase activation, actin polymerization requires additional biochemical inputs. Finally, SDF-1-stimulated extracellular signal-related kinase (ERK)-1/2 mitogen-activated protein kinase activation was inhibited by PI 3-kinase inhibitors. In addition, the mitogen-activated protein/ERK kinase inhibitor PD098059 partially attenuated chemotaxis in response to SDF-1. Hence, it appears that ERK1/2 activation is dependent on PI 3-kinase activation, and both biochemical events are involved in the regulation of SDF-1-stimulated chemotaxis.\n",
      "\n",
      "generated_summary\n",
      "\n",
      "loss: 1.1292041540145874\n",
      "\n",
      "loss: 0.901039719581604\n",
      "\n",
      "loss: 0.8311485052108765\n",
      "\n",
      "loss: 1.440186858177185\n",
      "\n",
      "loss: 0.9655779600143433\n",
      "\n",
      "loss: 1.0666604042053223\n",
      "\n",
      "loss: 0.6914824843406677\n",
      "\n",
      "loss: 0.6973655223846436\n",
      "\n",
      "loss: 1.0017006397247314\n",
      "\n",
      "loss: 1.4713094234466553\n",
      "\n"
     ]
    },
    {
     "data": {
      "application/vnd.jupyter.widget-view+json": {
       "model_id": "7d03195344064fbe939cfddc21ceb03b",
       "version_major": 2,
       "version_minor": 0
      },
      "text/plain": [
       "Evaluating:   0%|          | 0/500 [00:00<?, ?it/s]"
      ]
     },
     "metadata": {},
     "output_type": "display_data"
    },
    {
     "name": "stdout",
     "output_type": "stream",
     "text": [
      "perplexity: 5.9519805908203125\n",
      "After 1341 updates: \n",
      "\n"
     ]
    },
    {
     "data": {
      "application/vnd.jupyter.widget-view+json": {
       "model_id": "d1f45429f1464b68bbc613b4c7d6761f",
       "version_major": 2,
       "version_minor": 0
      },
      "text/plain": [
       "  0%|          | 0/100 [00:00<?, ?it/s]"
      ]
     },
     "metadata": {},
     "output_type": "display_data"
    },
    {
     "name": "stdout",
     "output_type": "stream",
     "text": [
      "We report the cDNA deduced primary structure of a wheat germ agglutinin-reactive nuclear pore complex (NPC) protein of rat. The protein, termed Nup98 (for nucleoporin of 98 kDa), contains numerous GLFG and FG repeats and some FXFG repeats and is thus a vertebrate member of a family of GLFG nucleoporins that were previously discovered in yeast. Immunoelectron microscopy showed Nup98 to be asymmetrically located at the nucleoplasmic side of the NPC. Nup98 functions as one of several docking site nucleoporins in a cytosolic docking activity-mediated binding of a model transport substrate. The docking site of Nup98 was mapped to its N-terminal half, which contains all of the peptide repeats. A recombinant segment of this region depleted the docking activity of cytosol. We suggest that the peptide repeat domain of Nup98, together with peptide repeat domains of other nucleoporins, forms an array of sites for mediated docking of transport substrate, and that bidirectional transport across the NPC proceeds by repeated docking and undocking reactions.\n",
      "\n",
      "generated_summary\n",
      "\n"
     ]
    },
    {
     "data": {
      "application/vnd.jupyter.widget-view+json": {
       "model_id": "054e333ce70a483dacd373eb4b4e4987",
       "version_major": 2,
       "version_minor": 0
      },
      "text/plain": [
       "  0%|          | 0/100 [00:00<?, ?it/s]"
      ]
     },
     "metadata": {},
     "output_type": "display_data"
    },
    {
     "name": "stdout",
     "output_type": "stream",
     "text": [
      "The cellular effects of stromal cell-derived factor-1 (SDF-1) are mediated primarily by binding to the CXC chemokine receptor-4. We report in this study that SDF-1 and its peptide analogues induce a concentration- and time-dependent accumulation of phosphatidylinositol-(3,4,5)-trisphosphate (PtdIns(3,4,5)P3) in Jurkat cells. This SDF-1-stimulated generation of D-3 phosphoinositide lipids was inhibited by pretreatment of the cells with an SDF-1 peptide antagonist or an anti-CXCR4 Ab. In addition, the phosphoinositide 3 (PI 3)-kinase inhibitors wortmannin and LY294002, as well as the Gi protein inhibitor pertussis toxin, also inhibited the SDF-1-stimulated accumulation of PtdIns(3,4,5)P3. The effects of SDF-1 on D-3 phosphoinositide lipid accumulation correlated well with activation of the known PI 3-kinase effector protein kinase B, which was also inhibited by wortmannin and pertussis toxin. Concentrations of PI 3-kinase inhibitors, sufficient to inhibit PtdIns(3,4,5)P3 accumulation, also inhibited chemotaxis of Jurkat and peripheral blood-derived T lymphocytes in response to SDF-1. In contrast, SDF-1-stimulated actin polymerization was only partially inhibited by PI 3-kinase inhibitors, suggesting that while chemotaxis is fully dependent on PI 3-kinase activation, actin polymerization requires additional biochemical inputs. Finally, SDF-1-stimulated extracellular signal-related kinase (ERK)-1/2 mitogen-activated protein kinase activation was inhibited by PI 3-kinase inhibitors. In addition, the mitogen-activated protein/ERK kinase inhibitor PD098059 partially attenuated chemotaxis in response to SDF-1. Hence, it appears that ERK1/2 activation is dependent on PI 3-kinase activation, and both biochemical events are involved in the regulation of SDF-1-stimulated chemotaxis.\n",
      "\n",
      "generated_summary\n",
      "\n",
      "loss: 0.8079347610473633\n",
      "\n",
      "loss: 0.7169751524925232\n",
      "\n",
      "loss: 0.39574944972991943\n",
      "\n",
      "loss: 0.8390922546386719\n",
      "\n",
      "loss: 0.9929205179214478\n",
      "\n",
      "loss: 0.940123438835144\n",
      "\n",
      "loss: 0.32041701674461365\n",
      "\n",
      "loss: 0.8467333316802979\n",
      "\n",
      "loss: 1.1578384637832642\n",
      "\n",
      "loss: 1.1096930503845215\n",
      "\n"
     ]
    },
    {
     "data": {
      "application/vnd.jupyter.widget-view+json": {
       "model_id": "e74c906596c741f28e83ed6bed73a073",
       "version_major": 2,
       "version_minor": 0
      },
      "text/plain": [
       "Evaluating:   0%|          | 0/500 [00:00<?, ?it/s]"
      ]
     },
     "metadata": {},
     "output_type": "display_data"
    },
    {
     "name": "stdout",
     "output_type": "stream",
     "text": [
      "perplexity: 5.961449146270752\n",
      "After 1351 updates: \n",
      "\n"
     ]
    },
    {
     "data": {
      "application/vnd.jupyter.widget-view+json": {
       "model_id": "cdff07950aef4740b5dc227255d94d9f",
       "version_major": 2,
       "version_minor": 0
      },
      "text/plain": [
       "  0%|          | 0/100 [00:00<?, ?it/s]"
      ]
     },
     "metadata": {},
     "output_type": "display_data"
    },
    {
     "name": "stdout",
     "output_type": "stream",
     "text": [
      "We report the cDNA deduced primary structure of a wheat germ agglutinin-reactive nuclear pore complex (NPC) protein of rat. The protein, termed Nup98 (for nucleoporin of 98 kDa), contains numerous GLFG and FG repeats and some FXFG repeats and is thus a vertebrate member of a family of GLFG nucleoporins that were previously discovered in yeast. Immunoelectron microscopy showed Nup98 to be asymmetrically located at the nucleoplasmic side of the NPC. Nup98 functions as one of several docking site nucleoporins in a cytosolic docking activity-mediated binding of a model transport substrate. The docking site of Nup98 was mapped to its N-terminal half, which contains all of the peptide repeats. A recombinant segment of this region depleted the docking activity of cytosol. We suggest that the peptide repeat domain of Nup98, together with peptide repeat domains of other nucleoporins, forms an array of sites for mediated docking of transport substrate, and that bidirectional transport across the NPC proceeds by repeated docking and undocking reactions.\n",
      "\n",
      "generated_summary\n",
      "\n"
     ]
    },
    {
     "data": {
      "application/vnd.jupyter.widget-view+json": {
       "model_id": "7216f1a0f9534c23bda8a58691b853b3",
       "version_major": 2,
       "version_minor": 0
      },
      "text/plain": [
       "  0%|          | 0/100 [00:00<?, ?it/s]"
      ]
     },
     "metadata": {},
     "output_type": "display_data"
    },
    {
     "name": "stdout",
     "output_type": "stream",
     "text": [
      "The cellular effects of stromal cell-derived factor-1 (SDF-1) are mediated primarily by binding to the CXC chemokine receptor-4. We report in this study that SDF-1 and its peptide analogues induce a concentration- and time-dependent accumulation of phosphatidylinositol-(3,4,5)-trisphosphate (PtdIns(3,4,5)P3) in Jurkat cells. This SDF-1-stimulated generation of D-3 phosphoinositide lipids was inhibited by pretreatment of the cells with an SDF-1 peptide antagonist or an anti-CXCR4 Ab. In addition, the phosphoinositide 3 (PI 3)-kinase inhibitors wortmannin and LY294002, as well as the Gi protein inhibitor pertussis toxin, also inhibited the SDF-1-stimulated accumulation of PtdIns(3,4,5)P3. The effects of SDF-1 on D-3 phosphoinositide lipid accumulation correlated well with activation of the known PI 3-kinase effector protein kinase B, which was also inhibited by wortmannin and pertussis toxin. Concentrations of PI 3-kinase inhibitors, sufficient to inhibit PtdIns(3,4,5)P3 accumulation, also inhibited chemotaxis of Jurkat and peripheral blood-derived T lymphocytes in response to SDF-1. In contrast, SDF-1-stimulated actin polymerization was only partially inhibited by PI 3-kinase inhibitors, suggesting that while chemotaxis is fully dependent on PI 3-kinase activation, actin polymerization requires additional biochemical inputs. Finally, SDF-1-stimulated extracellular signal-related kinase (ERK)-1/2 mitogen-activated protein kinase activation was inhibited by PI 3-kinase inhibitors. In addition, the mitogen-activated protein/ERK kinase inhibitor PD098059 partially attenuated chemotaxis in response to SDF-1. Hence, it appears that ERK1/2 activation is dependent on PI 3-kinase activation, and both biochemical events are involved in the regulation of SDF-1-stimulated chemotaxis.\n",
      "\n",
      "generated_summary\n",
      "\n",
      "loss: 0.4701191484928131\n",
      "\n",
      "loss: 0.7860534191131592\n",
      "\n",
      "loss: 0.8063786625862122\n",
      "\n",
      "loss: 0.4605759084224701\n",
      "\n",
      "loss: 0.7261573672294617\n",
      "\n",
      "loss: 0.6493129134178162\n",
      "\n",
      "loss: 0.3951233923435211\n",
      "\n",
      "loss: 1.8733913898468018\n",
      "\n",
      "loss: 0.46550366282463074\n",
      "\n",
      "loss: 0.17193366587162018\n",
      "\n"
     ]
    },
    {
     "data": {
      "application/vnd.jupyter.widget-view+json": {
       "model_id": "373d2130aa2b4f6580e709b81aa033d3",
       "version_major": 2,
       "version_minor": 0
      },
      "text/plain": [
       "Evaluating:   0%|          | 0/500 [00:00<?, ?it/s]"
      ]
     },
     "metadata": {},
     "output_type": "display_data"
    },
    {
     "name": "stdout",
     "output_type": "stream",
     "text": [
      "perplexity: 6.141047477722168\n",
      "After 1361 updates: \n",
      "\n"
     ]
    },
    {
     "data": {
      "application/vnd.jupyter.widget-view+json": {
       "model_id": "e51acfb0cf114859a69bba769cc8630f",
       "version_major": 2,
       "version_minor": 0
      },
      "text/plain": [
       "  0%|          | 0/100 [00:00<?, ?it/s]"
      ]
     },
     "metadata": {},
     "output_type": "display_data"
    },
    {
     "name": "stdout",
     "output_type": "stream",
     "text": [
      "We report the cDNA deduced primary structure of a wheat germ agglutinin-reactive nuclear pore complex (NPC) protein of rat. The protein, termed Nup98 (for nucleoporin of 98 kDa), contains numerous GLFG and FG repeats and some FXFG repeats and is thus a vertebrate member of a family of GLFG nucleoporins that were previously discovered in yeast. Immunoelectron microscopy showed Nup98 to be asymmetrically located at the nucleoplasmic side of the NPC. Nup98 functions as one of several docking site nucleoporins in a cytosolic docking activity-mediated binding of a model transport substrate. The docking site of Nup98 was mapped to its N-terminal half, which contains all of the peptide repeats. A recombinant segment of this region depleted the docking activity of cytosol. We suggest that the peptide repeat domain of Nup98, together with peptide repeat domains of other nucleoporins, forms an array of sites for mediated docking of transport substrate, and that bidirectional transport across the NPC proceeds by repeated docking and undocking reactions.\n",
      "\n",
      "generated_summary\n",
      "\n"
     ]
    },
    {
     "data": {
      "application/vnd.jupyter.widget-view+json": {
       "model_id": "ccf0ef2031844016b72535c7215ff7a2",
       "version_major": 2,
       "version_minor": 0
      },
      "text/plain": [
       "  0%|          | 0/100 [00:00<?, ?it/s]"
      ]
     },
     "metadata": {},
     "output_type": "display_data"
    },
    {
     "name": "stdout",
     "output_type": "stream",
     "text": [
      "The cellular effects of stromal cell-derived factor-1 (SDF-1) are mediated primarily by binding to the CXC chemokine receptor-4. We report in this study that SDF-1 and its peptide analogues induce a concentration- and time-dependent accumulation of phosphatidylinositol-(3,4,5)-trisphosphate (PtdIns(3,4,5)P3) in Jurkat cells. This SDF-1-stimulated generation of D-3 phosphoinositide lipids was inhibited by pretreatment of the cells with an SDF-1 peptide antagonist or an anti-CXCR4 Ab. In addition, the phosphoinositide 3 (PI 3)-kinase inhibitors wortmannin and LY294002, as well as the Gi protein inhibitor pertussis toxin, also inhibited the SDF-1-stimulated accumulation of PtdIns(3,4,5)P3. The effects of SDF-1 on D-3 phosphoinositide lipid accumulation correlated well with activation of the known PI 3-kinase effector protein kinase B, which was also inhibited by wortmannin and pertussis toxin. Concentrations of PI 3-kinase inhibitors, sufficient to inhibit PtdIns(3,4,5)P3 accumulation, also inhibited chemotaxis of Jurkat and peripheral blood-derived T lymphocytes in response to SDF-1. In contrast, SDF-1-stimulated actin polymerization was only partially inhibited by PI 3-kinase inhibitors, suggesting that while chemotaxis is fully dependent on PI 3-kinase activation, actin polymerization requires additional biochemical inputs. Finally, SDF-1-stimulated extracellular signal-related kinase (ERK)-1/2 mitogen-activated protein kinase activation was inhibited by PI 3-kinase inhibitors. In addition, the mitogen-activated protein/ERK kinase inhibitor PD098059 partially attenuated chemotaxis in response to SDF-1. Hence, it appears that ERK1/2 activation is dependent on PI 3-kinase activation, and both biochemical events are involved in the regulation of SDF-1-stimulated chemotaxis.\n",
      "\n",
      "generated_summary\n",
      "\n",
      "loss: 0.9871754050254822\n",
      "\n",
      "loss: 1.1637852191925049\n",
      "\n",
      "loss: 0.6530295610427856\n",
      "\n",
      "loss: 0.7812984585762024\n",
      "\n",
      "loss: 0.6646090745925903\n",
      "\n",
      "loss: 0.8753821849822998\n",
      "\n",
      "loss: 0.37598004937171936\n",
      "\n",
      "loss: 1.0638717412948608\n",
      "\n",
      "loss: 0.388611376285553\n",
      "\n",
      "loss: 0.6022963523864746\n",
      "\n"
     ]
    },
    {
     "data": {
      "application/vnd.jupyter.widget-view+json": {
       "model_id": "c35eecc41e2f421983c2966af366ad36",
       "version_major": 2,
       "version_minor": 0
      },
      "text/plain": [
       "Evaluating:   0%|          | 0/500 [00:00<?, ?it/s]"
      ]
     },
     "metadata": {},
     "output_type": "display_data"
    },
    {
     "name": "stdout",
     "output_type": "stream",
     "text": [
      "perplexity: 5.960226058959961\n",
      "After 1371 updates: \n",
      "\n"
     ]
    },
    {
     "data": {
      "application/vnd.jupyter.widget-view+json": {
       "model_id": "f6e89d22ae5e49029e76ebbb556bcbbb",
       "version_major": 2,
       "version_minor": 0
      },
      "text/plain": [
       "  0%|          | 0/100 [00:00<?, ?it/s]"
      ]
     },
     "metadata": {},
     "output_type": "display_data"
    },
    {
     "name": "stdout",
     "output_type": "stream",
     "text": [
      "We report the cDNA deduced primary structure of a wheat germ agglutinin-reactive nuclear pore complex (NPC) protein of rat. The protein, termed Nup98 (for nucleoporin of 98 kDa), contains numerous GLFG and FG repeats and some FXFG repeats and is thus a vertebrate member of a family of GLFG nucleoporins that were previously discovered in yeast. Immunoelectron microscopy showed Nup98 to be asymmetrically located at the nucleoplasmic side of the NPC. Nup98 functions as one of several docking site nucleoporins in a cytosolic docking activity-mediated binding of a model transport substrate. The docking site of Nup98 was mapped to its N-terminal half, which contains all of the peptide repeats. A recombinant segment of this region depleted the docking activity of cytosol. We suggest that the peptide repeat domain of Nup98, together with peptide repeat domains of other nucleoporins, forms an array of sites for mediated docking of transport substrate, and that bidirectional transport across the NPC proceeds by repeated docking and undocking reactions.\n",
      "\n",
      "generated_summary\n",
      "\n"
     ]
    },
    {
     "data": {
      "application/vnd.jupyter.widget-view+json": {
       "model_id": "dda2a076ab7b485fab60d714c126112c",
       "version_major": 2,
       "version_minor": 0
      },
      "text/plain": [
       "  0%|          | 0/100 [00:00<?, ?it/s]"
      ]
     },
     "metadata": {},
     "output_type": "display_data"
    },
    {
     "name": "stdout",
     "output_type": "stream",
     "text": [
      "The cellular effects of stromal cell-derived factor-1 (SDF-1) are mediated primarily by binding to the CXC chemokine receptor-4. We report in this study that SDF-1 and its peptide analogues induce a concentration- and time-dependent accumulation of phosphatidylinositol-(3,4,5)-trisphosphate (PtdIns(3,4,5)P3) in Jurkat cells. This SDF-1-stimulated generation of D-3 phosphoinositide lipids was inhibited by pretreatment of the cells with an SDF-1 peptide antagonist or an anti-CXCR4 Ab. In addition, the phosphoinositide 3 (PI 3)-kinase inhibitors wortmannin and LY294002, as well as the Gi protein inhibitor pertussis toxin, also inhibited the SDF-1-stimulated accumulation of PtdIns(3,4,5)P3. The effects of SDF-1 on D-3 phosphoinositide lipid accumulation correlated well with activation of the known PI 3-kinase effector protein kinase B, which was also inhibited by wortmannin and pertussis toxin. Concentrations of PI 3-kinase inhibitors, sufficient to inhibit PtdIns(3,4,5)P3 accumulation, also inhibited chemotaxis of Jurkat and peripheral blood-derived T lymphocytes in response to SDF-1. In contrast, SDF-1-stimulated actin polymerization was only partially inhibited by PI 3-kinase inhibitors, suggesting that while chemotaxis is fully dependent on PI 3-kinase activation, actin polymerization requires additional biochemical inputs. Finally, SDF-1-stimulated extracellular signal-related kinase (ERK)-1/2 mitogen-activated protein kinase activation was inhibited by PI 3-kinase inhibitors. In addition, the mitogen-activated protein/ERK kinase inhibitor PD098059 partially attenuated chemotaxis in response to SDF-1. Hence, it appears that ERK1/2 activation is dependent on PI 3-kinase activation, and both biochemical events are involved in the regulation of SDF-1-stimulated chemotaxis.\n",
      "\n",
      "generated_summary\n",
      "\n",
      "loss: 1.221111536026001\n",
      "\n",
      "loss: 0.32633036375045776\n",
      "\n",
      "loss: 0.3651297092437744\n",
      "\n",
      "loss: 0.720777153968811\n",
      "\n",
      "loss: 0.6924511790275574\n",
      "\n",
      "loss: 1.233250617980957\n",
      "\n",
      "loss: 0.3626798093318939\n",
      "\n",
      "loss: 1.102578043937683\n",
      "\n",
      "loss: 1.1219056844711304\n",
      "\n",
      "loss: 0.724983274936676\n",
      "\n"
     ]
    },
    {
     "data": {
      "application/vnd.jupyter.widget-view+json": {
       "model_id": "7d89b663d354407799f8e5818d771a45",
       "version_major": 2,
       "version_minor": 0
      },
      "text/plain": [
       "Evaluating:   0%|          | 0/500 [00:00<?, ?it/s]"
      ]
     },
     "metadata": {},
     "output_type": "display_data"
    },
    {
     "name": "stdout",
     "output_type": "stream",
     "text": [
      "perplexity: 5.727673053741455\n",
      "After 1381 updates: \n",
      "\n"
     ]
    },
    {
     "data": {
      "application/vnd.jupyter.widget-view+json": {
       "model_id": "1257bf2f36744a59a09c25ffdca71654",
       "version_major": 2,
       "version_minor": 0
      },
      "text/plain": [
       "  0%|          | 0/100 [00:00<?, ?it/s]"
      ]
     },
     "metadata": {},
     "output_type": "display_data"
    },
    {
     "name": "stdout",
     "output_type": "stream",
     "text": [
      "We report the cDNA deduced primary structure of a wheat germ agglutinin-reactive nuclear pore complex (NPC) protein of rat. The protein, termed Nup98 (for nucleoporin of 98 kDa), contains numerous GLFG and FG repeats and some FXFG repeats and is thus a vertebrate member of a family of GLFG nucleoporins that were previously discovered in yeast. Immunoelectron microscopy showed Nup98 to be asymmetrically located at the nucleoplasmic side of the NPC. Nup98 functions as one of several docking site nucleoporins in a cytosolic docking activity-mediated binding of a model transport substrate. The docking site of Nup98 was mapped to its N-terminal half, which contains all of the peptide repeats. A recombinant segment of this region depleted the docking activity of cytosol. We suggest that the peptide repeat domain of Nup98, together with peptide repeat domains of other nucleoporins, forms an array of sites for mediated docking of transport substrate, and that bidirectional transport across the NPC proceeds by repeated docking and undocking reactions.\n",
      "\n",
      "generated_summary\n",
      "\n"
     ]
    },
    {
     "data": {
      "application/vnd.jupyter.widget-view+json": {
       "model_id": "32f4a3afd66c4623b76dc1371d75cdf9",
       "version_major": 2,
       "version_minor": 0
      },
      "text/plain": [
       "  0%|          | 0/100 [00:00<?, ?it/s]"
      ]
     },
     "metadata": {},
     "output_type": "display_data"
    },
    {
     "name": "stdout",
     "output_type": "stream",
     "text": [
      "The cellular effects of stromal cell-derived factor-1 (SDF-1) are mediated primarily by binding to the CXC chemokine receptor-4. We report in this study that SDF-1 and its peptide analogues induce a concentration- and time-dependent accumulation of phosphatidylinositol-(3,4,5)-trisphosphate (PtdIns(3,4,5)P3) in Jurkat cells. This SDF-1-stimulated generation of D-3 phosphoinositide lipids was inhibited by pretreatment of the cells with an SDF-1 peptide antagonist or an anti-CXCR4 Ab. In addition, the phosphoinositide 3 (PI 3)-kinase inhibitors wortmannin and LY294002, as well as the Gi protein inhibitor pertussis toxin, also inhibited the SDF-1-stimulated accumulation of PtdIns(3,4,5)P3. The effects of SDF-1 on D-3 phosphoinositide lipid accumulation correlated well with activation of the known PI 3-kinase effector protein kinase B, which was also inhibited by wortmannin and pertussis toxin. Concentrations of PI 3-kinase inhibitors, sufficient to inhibit PtdIns(3,4,5)P3 accumulation, also inhibited chemotaxis of Jurkat and peripheral blood-derived T lymphocytes in response to SDF-1. In contrast, SDF-1-stimulated actin polymerization was only partially inhibited by PI 3-kinase inhibitors, suggesting that while chemotaxis is fully dependent on PI 3-kinase activation, actin polymerization requires additional biochemical inputs. Finally, SDF-1-stimulated extracellular signal-related kinase (ERK)-1/2 mitogen-activated protein kinase activation was inhibited by PI 3-kinase inhibitors. In addition, the mitogen-activated protein/ERK kinase inhibitor PD098059 partially attenuated chemotaxis in response to SDF-1. Hence, it appears that ERK1/2 activation is dependent on PI 3-kinase activation, and both biochemical events are involved in the regulation of SDF-1-stimulated chemotaxis.\n",
      "\n",
      "generated_summary\n",
      "\n",
      "loss: 0.4793103039264679\n",
      "\n",
      "loss: 0.5136411190032959\n",
      "\n",
      "loss: 1.5095124244689941\n",
      "\n",
      "loss: 1.0264102220535278\n",
      "\n",
      "loss: 1.0036081075668335\n",
      "\n",
      "loss: 0.7519262433052063\n",
      "\n",
      "loss: 0.6916733384132385\n",
      "\n",
      "loss: 0.7504950165748596\n",
      "\n",
      "loss: 0.45681679248809814\n",
      "\n",
      "loss: 1.0850273370742798\n",
      "\n"
     ]
    },
    {
     "data": {
      "application/vnd.jupyter.widget-view+json": {
       "model_id": "e1085e07d1984f05b8d763e157f580a8",
       "version_major": 2,
       "version_minor": 0
      },
      "text/plain": [
       "Evaluating:   0%|          | 0/500 [00:00<?, ?it/s]"
      ]
     },
     "metadata": {},
     "output_type": "display_data"
    },
    {
     "name": "stdout",
     "output_type": "stream",
     "text": [
      "perplexity: 5.793066501617432\n",
      "After 1391 updates: \n",
      "\n"
     ]
    },
    {
     "data": {
      "application/vnd.jupyter.widget-view+json": {
       "model_id": "605af69f56074af08cd4396c5ee35e79",
       "version_major": 2,
       "version_minor": 0
      },
      "text/plain": [
       "  0%|          | 0/100 [00:00<?, ?it/s]"
      ]
     },
     "metadata": {},
     "output_type": "display_data"
    },
    {
     "name": "stdout",
     "output_type": "stream",
     "text": [
      "We report the cDNA deduced primary structure of a wheat germ agglutinin-reactive nuclear pore complex (NPC) protein of rat. The protein, termed Nup98 (for nucleoporin of 98 kDa), contains numerous GLFG and FG repeats and some FXFG repeats and is thus a vertebrate member of a family of GLFG nucleoporins that were previously discovered in yeast. Immunoelectron microscopy showed Nup98 to be asymmetrically located at the nucleoplasmic side of the NPC. Nup98 functions as one of several docking site nucleoporins in a cytosolic docking activity-mediated binding of a model transport substrate. The docking site of Nup98 was mapped to its N-terminal half, which contains all of the peptide repeats. A recombinant segment of this region depleted the docking activity of cytosol. We suggest that the peptide repeat domain of Nup98, together with peptide repeat domains of other nucleoporins, forms an array of sites for mediated docking of transport substrate, and that bidirectional transport across the NPC proceeds by repeated docking and undocking reactions.\n",
      "\n",
      "generated_summary\n",
      "\n"
     ]
    },
    {
     "data": {
      "application/vnd.jupyter.widget-view+json": {
       "model_id": "366d76076a654860bc0a0644c8b78a48",
       "version_major": 2,
       "version_minor": 0
      },
      "text/plain": [
       "  0%|          | 0/100 [00:00<?, ?it/s]"
      ]
     },
     "metadata": {},
     "output_type": "display_data"
    },
    {
     "name": "stdout",
     "output_type": "stream",
     "text": [
      "The cellular effects of stromal cell-derived factor-1 (SDF-1) are mediated primarily by binding to the CXC chemokine receptor-4. We report in this study that SDF-1 and its peptide analogues induce a concentration- and time-dependent accumulation of phosphatidylinositol-(3,4,5)-trisphosphate (PtdIns(3,4,5)P3) in Jurkat cells. This SDF-1-stimulated generation of D-3 phosphoinositide lipids was inhibited by pretreatment of the cells with an SDF-1 peptide antagonist or an anti-CXCR4 Ab. In addition, the phosphoinositide 3 (PI 3)-kinase inhibitors wortmannin and LY294002, as well as the Gi protein inhibitor pertussis toxin, also inhibited the SDF-1-stimulated accumulation of PtdIns(3,4,5)P3. The effects of SDF-1 on D-3 phosphoinositide lipid accumulation correlated well with activation of the known PI 3-kinase effector protein kinase B, which was also inhibited by wortmannin and pertussis toxin. Concentrations of PI 3-kinase inhibitors, sufficient to inhibit PtdIns(3,4,5)P3 accumulation, also inhibited chemotaxis of Jurkat and peripheral blood-derived T lymphocytes in response to SDF-1. In contrast, SDF-1-stimulated actin polymerization was only partially inhibited by PI 3-kinase inhibitors, suggesting that while chemotaxis is fully dependent on PI 3-kinase activation, actin polymerization requires additional biochemical inputs. Finally, SDF-1-stimulated extracellular signal-related kinase (ERK)-1/2 mitogen-activated protein kinase activation was inhibited by PI 3-kinase inhibitors. In addition, the mitogen-activated protein/ERK kinase inhibitor PD098059 partially attenuated chemotaxis in response to SDF-1. Hence, it appears that ERK1/2 activation is dependent on PI 3-kinase activation, and both biochemical events are involved in the regulation of SDF-1-stimulated chemotaxis.\n",
      "\n",
      "generated_summary\n",
      "\n",
      "loss: 1.0037188529968262\n",
      "\n",
      "loss: 0.22871679067611694\n",
      "\n",
      "loss: 0.8424597382545471\n",
      "\n",
      "loss: 0.8218638300895691\n",
      "\n",
      "loss: 1.6164180040359497\n",
      "\n",
      "loss: 0.5050236582756042\n",
      "\n",
      "loss: 1.1588990688323975\n",
      "\n",
      "loss: 1.238562822341919\n",
      "\n",
      "loss: 1.064670443534851\n",
      "\n",
      "loss: 1.0145037174224854\n",
      "\n"
     ]
    },
    {
     "data": {
      "application/vnd.jupyter.widget-view+json": {
       "model_id": "9e768be6036c457e9792d94753a2b221",
       "version_major": 2,
       "version_minor": 0
      },
      "text/plain": [
       "Evaluating:   0%|          | 0/500 [00:00<?, ?it/s]"
      ]
     },
     "metadata": {},
     "output_type": "display_data"
    },
    {
     "name": "stdout",
     "output_type": "stream",
     "text": [
      "perplexity: 5.680645942687988\n",
      "After 1401 updates: \n",
      "\n"
     ]
    },
    {
     "data": {
      "application/vnd.jupyter.widget-view+json": {
       "model_id": "b1a6b8f07d4e45adafa41a41ca8c4cb1",
       "version_major": 2,
       "version_minor": 0
      },
      "text/plain": [
       "  0%|          | 0/100 [00:00<?, ?it/s]"
      ]
     },
     "metadata": {},
     "output_type": "display_data"
    },
    {
     "name": "stdout",
     "output_type": "stream",
     "text": [
      "We report the cDNA deduced primary structure of a wheat germ agglutinin-reactive nuclear pore complex (NPC) protein of rat. The protein, termed Nup98 (for nucleoporin of 98 kDa), contains numerous GLFG and FG repeats and some FXFG repeats and is thus a vertebrate member of a family of GLFG nucleoporins that were previously discovered in yeast. Immunoelectron microscopy showed Nup98 to be asymmetrically located at the nucleoplasmic side of the NPC. Nup98 functions as one of several docking site nucleoporins in a cytosolic docking activity-mediated binding of a model transport substrate. The docking site of Nup98 was mapped to its N-terminal half, which contains all of the peptide repeats. A recombinant segment of this region depleted the docking activity of cytosol. We suggest that the peptide repeat domain of Nup98, together with peptide repeat domains of other nucleoporins, forms an array of sites for mediated docking of transport substrate, and that bidirectional transport across the NPC proceeds by repeated docking and undocking reactions.\n",
      "\n",
      "generated_summary\n",
      "\n"
     ]
    },
    {
     "data": {
      "application/vnd.jupyter.widget-view+json": {
       "model_id": "5ecdad6083ba4f00838066540b03214d",
       "version_major": 2,
       "version_minor": 0
      },
      "text/plain": [
       "  0%|          | 0/100 [00:00<?, ?it/s]"
      ]
     },
     "metadata": {},
     "output_type": "display_data"
    },
    {
     "name": "stdout",
     "output_type": "stream",
     "text": [
      "The cellular effects of stromal cell-derived factor-1 (SDF-1) are mediated primarily by binding to the CXC chemokine receptor-4. We report in this study that SDF-1 and its peptide analogues induce a concentration- and time-dependent accumulation of phosphatidylinositol-(3,4,5)-trisphosphate (PtdIns(3,4,5)P3) in Jurkat cells. This SDF-1-stimulated generation of D-3 phosphoinositide lipids was inhibited by pretreatment of the cells with an SDF-1 peptide antagonist or an anti-CXCR4 Ab. In addition, the phosphoinositide 3 (PI 3)-kinase inhibitors wortmannin and LY294002, as well as the Gi protein inhibitor pertussis toxin, also inhibited the SDF-1-stimulated accumulation of PtdIns(3,4,5)P3. The effects of SDF-1 on D-3 phosphoinositide lipid accumulation correlated well with activation of the known PI 3-kinase effector protein kinase B, which was also inhibited by wortmannin and pertussis toxin. Concentrations of PI 3-kinase inhibitors, sufficient to inhibit PtdIns(3,4,5)P3 accumulation, also inhibited chemotaxis of Jurkat and peripheral blood-derived T lymphocytes in response to SDF-1. In contrast, SDF-1-stimulated actin polymerization was only partially inhibited by PI 3-kinase inhibitors, suggesting that while chemotaxis is fully dependent on PI 3-kinase activation, actin polymerization requires additional biochemical inputs. Finally, SDF-1-stimulated extracellular signal-related kinase (ERK)-1/2 mitogen-activated protein kinase activation was inhibited by PI 3-kinase inhibitors. In addition, the mitogen-activated protein/ERK kinase inhibitor PD098059 partially attenuated chemotaxis in response to SDF-1. Hence, it appears that ERK1/2 activation is dependent on PI 3-kinase activation, and both biochemical events are involved in the regulation of SDF-1-stimulated chemotaxis.\n",
      "\n",
      "generated_summary\n",
      "\n",
      "loss: 0.24230113625526428\n",
      "\n",
      "loss: 0.699785590171814\n",
      "\n",
      "loss: 0.27945980429649353\n",
      "\n",
      "loss: 1.1519960165023804\n",
      "\n",
      "loss: 1.5863856077194214\n",
      "\n",
      "loss: 0.8534379601478577\n",
      "\n",
      "loss: 0.6743568181991577\n",
      "\n",
      "loss: 0.9140018224716187\n",
      "\n",
      "loss: 0.7329246997833252\n",
      "\n",
      "loss: 0.5944985151290894\n",
      "\n"
     ]
    },
    {
     "data": {
      "application/vnd.jupyter.widget-view+json": {
       "model_id": "2dcaa3e914c34235ba5cdc44fedeff3b",
       "version_major": 2,
       "version_minor": 0
      },
      "text/plain": [
       "Evaluating:   0%|          | 0/500 [00:00<?, ?it/s]"
      ]
     },
     "metadata": {},
     "output_type": "display_data"
    },
    {
     "name": "stdout",
     "output_type": "stream",
     "text": [
      "perplexity: 5.738742351531982\n",
      "After 1411 updates: \n",
      "\n"
     ]
    },
    {
     "data": {
      "application/vnd.jupyter.widget-view+json": {
       "model_id": "75eeec24fc2c4fdfa0ed5764ec532617",
       "version_major": 2,
       "version_minor": 0
      },
      "text/plain": [
       "  0%|          | 0/100 [00:00<?, ?it/s]"
      ]
     },
     "metadata": {},
     "output_type": "display_data"
    },
    {
     "name": "stdout",
     "output_type": "stream",
     "text": [
      "We report the cDNA deduced primary structure of a wheat germ agglutinin-reactive nuclear pore complex (NPC) protein of rat. The protein, termed Nup98 (for nucleoporin of 98 kDa), contains numerous GLFG and FG repeats and some FXFG repeats and is thus a vertebrate member of a family of GLFG nucleoporins that were previously discovered in yeast. Immunoelectron microscopy showed Nup98 to be asymmetrically located at the nucleoplasmic side of the NPC. Nup98 functions as one of several docking site nucleoporins in a cytosolic docking activity-mediated binding of a model transport substrate. The docking site of Nup98 was mapped to its N-terminal half, which contains all of the peptide repeats. A recombinant segment of this region depleted the docking activity of cytosol. We suggest that the peptide repeat domain of Nup98, together with peptide repeat domains of other nucleoporins, forms an array of sites for mediated docking of transport substrate, and that bidirectional transport across the NPC proceeds by repeated docking and undocking reactions.\n",
      "\n",
      "generated_summary\n",
      "\n"
     ]
    },
    {
     "data": {
      "application/vnd.jupyter.widget-view+json": {
       "model_id": "a5473b6056064e489511d77027600f10",
       "version_major": 2,
       "version_minor": 0
      },
      "text/plain": [
       "  0%|          | 0/100 [00:00<?, ?it/s]"
      ]
     },
     "metadata": {},
     "output_type": "display_data"
    },
    {
     "name": "stdout",
     "output_type": "stream",
     "text": [
      "The cellular effects of stromal cell-derived factor-1 (SDF-1) are mediated primarily by binding to the CXC chemokine receptor-4. We report in this study that SDF-1 and its peptide analogues induce a concentration- and time-dependent accumulation of phosphatidylinositol-(3,4,5)-trisphosphate (PtdIns(3,4,5)P3) in Jurkat cells. This SDF-1-stimulated generation of D-3 phosphoinositide lipids was inhibited by pretreatment of the cells with an SDF-1 peptide antagonist or an anti-CXCR4 Ab. In addition, the phosphoinositide 3 (PI 3)-kinase inhibitors wortmannin and LY294002, as well as the Gi protein inhibitor pertussis toxin, also inhibited the SDF-1-stimulated accumulation of PtdIns(3,4,5)P3. The effects of SDF-1 on D-3 phosphoinositide lipid accumulation correlated well with activation of the known PI 3-kinase effector protein kinase B, which was also inhibited by wortmannin and pertussis toxin. Concentrations of PI 3-kinase inhibitors, sufficient to inhibit PtdIns(3,4,5)P3 accumulation, also inhibited chemotaxis of Jurkat and peripheral blood-derived T lymphocytes in response to SDF-1. In contrast, SDF-1-stimulated actin polymerization was only partially inhibited by PI 3-kinase inhibitors, suggesting that while chemotaxis is fully dependent on PI 3-kinase activation, actin polymerization requires additional biochemical inputs. Finally, SDF-1-stimulated extracellular signal-related kinase (ERK)-1/2 mitogen-activated protein kinase activation was inhibited by PI 3-kinase inhibitors. In addition, the mitogen-activated protein/ERK kinase inhibitor PD098059 partially attenuated chemotaxis in response to SDF-1. Hence, it appears that ERK1/2 activation is dependent on PI 3-kinase activation, and both biochemical events are involved in the regulation of SDF-1-stimulated chemotaxis.\n",
      "\n",
      "generated_summary\n",
      "\n",
      "loss: 0.9333719611167908\n",
      "\n",
      "loss: 0.9815301895141602\n",
      "\n",
      "loss: 0.45341089367866516\n",
      "\n",
      "loss: 1.3610448837280273\n",
      "\n",
      "loss: 0.5967496037483215\n",
      "\n",
      "loss: 1.0951800346374512\n",
      "\n",
      "loss: 0.7141602635383606\n",
      "\n",
      "loss: 0.9357211589813232\n",
      "\n",
      "loss: 0.4099797010421753\n",
      "\n",
      "loss: 0.22238586843013763\n",
      "\n"
     ]
    },
    {
     "data": {
      "application/vnd.jupyter.widget-view+json": {
       "model_id": "8379146252a14b3fba29da4e0a832b2a",
       "version_major": 2,
       "version_minor": 0
      },
      "text/plain": [
       "Evaluating:   0%|          | 0/500 [00:00<?, ?it/s]"
      ]
     },
     "metadata": {},
     "output_type": "display_data"
    },
    {
     "name": "stdout",
     "output_type": "stream",
     "text": [
      "perplexity: 5.802479267120361\n",
      "After 1421 updates: \n",
      "\n"
     ]
    },
    {
     "data": {
      "application/vnd.jupyter.widget-view+json": {
       "model_id": "9f30141a53cb433da9ed1b4ef81d4ea3",
       "version_major": 2,
       "version_minor": 0
      },
      "text/plain": [
       "  0%|          | 0/100 [00:00<?, ?it/s]"
      ]
     },
     "metadata": {},
     "output_type": "display_data"
    },
    {
     "name": "stdout",
     "output_type": "stream",
     "text": [
      "We report the cDNA deduced primary structure of a wheat germ agglutinin-reactive nuclear pore complex (NPC) protein of rat. The protein, termed Nup98 (for nucleoporin of 98 kDa), contains numerous GLFG and FG repeats and some FXFG repeats and is thus a vertebrate member of a family of GLFG nucleoporins that were previously discovered in yeast. Immunoelectron microscopy showed Nup98 to be asymmetrically located at the nucleoplasmic side of the NPC. Nup98 functions as one of several docking site nucleoporins in a cytosolic docking activity-mediated binding of a model transport substrate. The docking site of Nup98 was mapped to its N-terminal half, which contains all of the peptide repeats. A recombinant segment of this region depleted the docking activity of cytosol. We suggest that the peptide repeat domain of Nup98, together with peptide repeat domains of other nucleoporins, forms an array of sites for mediated docking of transport substrate, and that bidirectional transport across the NPC proceeds by repeated docking and undocking reactions.\n",
      "\n",
      "generated_summary\n",
      "\n"
     ]
    },
    {
     "data": {
      "application/vnd.jupyter.widget-view+json": {
       "model_id": "7520f2d3e6d843699f775872bf449e65",
       "version_major": 2,
       "version_minor": 0
      },
      "text/plain": [
       "  0%|          | 0/100 [00:00<?, ?it/s]"
      ]
     },
     "metadata": {},
     "output_type": "display_data"
    },
    {
     "name": "stdout",
     "output_type": "stream",
     "text": [
      "The cellular effects of stromal cell-derived factor-1 (SDF-1) are mediated primarily by binding to the CXC chemokine receptor-4. We report in this study that SDF-1 and its peptide analogues induce a concentration- and time-dependent accumulation of phosphatidylinositol-(3,4,5)-trisphosphate (PtdIns(3,4,5)P3) in Jurkat cells. This SDF-1-stimulated generation of D-3 phosphoinositide lipids was inhibited by pretreatment of the cells with an SDF-1 peptide antagonist or an anti-CXCR4 Ab. In addition, the phosphoinositide 3 (PI 3)-kinase inhibitors wortmannin and LY294002, as well as the Gi protein inhibitor pertussis toxin, also inhibited the SDF-1-stimulated accumulation of PtdIns(3,4,5)P3. The effects of SDF-1 on D-3 phosphoinositide lipid accumulation correlated well with activation of the known PI 3-kinase effector protein kinase B, which was also inhibited by wortmannin and pertussis toxin. Concentrations of PI 3-kinase inhibitors, sufficient to inhibit PtdIns(3,4,5)P3 accumulation, also inhibited chemotaxis of Jurkat and peripheral blood-derived T lymphocytes in response to SDF-1. In contrast, SDF-1-stimulated actin polymerization was only partially inhibited by PI 3-kinase inhibitors, suggesting that while chemotaxis is fully dependent on PI 3-kinase activation, actin polymerization requires additional biochemical inputs. Finally, SDF-1-stimulated extracellular signal-related kinase (ERK)-1/2 mitogen-activated protein kinase activation was inhibited by PI 3-kinase inhibitors. In addition, the mitogen-activated protein/ERK kinase inhibitor PD098059 partially attenuated chemotaxis in response to SDF-1. Hence, it appears that ERK1/2 activation is dependent on PI 3-kinase activation, and both biochemical events are involved in the regulation of SDF-1-stimulated chemotaxis.\n",
      "\n",
      "generated_summary\n",
      "\n",
      "loss: 1.0590898990631104\n",
      "\n",
      "loss: 1.2421000003814697\n",
      "\n",
      "loss: 0.7362312078475952\n",
      "\n",
      "loss: 0.6868886947631836\n",
      "\n",
      "loss: 0.8594369292259216\n",
      "\n",
      "loss: 0.6234308481216431\n",
      "\n",
      "loss: 0.5724467039108276\n",
      "\n",
      "loss: 0.2313820868730545\n",
      "\n",
      "loss: 1.3639391660690308\n",
      "\n",
      "loss: 1.0181001424789429\n",
      "\n"
     ]
    },
    {
     "data": {
      "application/vnd.jupyter.widget-view+json": {
       "model_id": "358a6d7cd56541158a137deeae2373d5",
       "version_major": 2,
       "version_minor": 0
      },
      "text/plain": [
       "Evaluating:   0%|          | 0/500 [00:00<?, ?it/s]"
      ]
     },
     "metadata": {},
     "output_type": "display_data"
    },
    {
     "name": "stdout",
     "output_type": "stream",
     "text": [
      "perplexity: 5.804080963134766\n",
      "After 1431 updates: \n",
      "\n"
     ]
    },
    {
     "data": {
      "application/vnd.jupyter.widget-view+json": {
       "model_id": "154a6e44f2074a31868ab67590f619b2",
       "version_major": 2,
       "version_minor": 0
      },
      "text/plain": [
       "  0%|          | 0/100 [00:00<?, ?it/s]"
      ]
     },
     "metadata": {},
     "output_type": "display_data"
    },
    {
     "name": "stdout",
     "output_type": "stream",
     "text": [
      "We report the cDNA deduced primary structure of a wheat germ agglutinin-reactive nuclear pore complex (NPC) protein of rat. The protein, termed Nup98 (for nucleoporin of 98 kDa), contains numerous GLFG and FG repeats and some FXFG repeats and is thus a vertebrate member of a family of GLFG nucleoporins that were previously discovered in yeast. Immunoelectron microscopy showed Nup98 to be asymmetrically located at the nucleoplasmic side of the NPC. Nup98 functions as one of several docking site nucleoporins in a cytosolic docking activity-mediated binding of a model transport substrate. The docking site of Nup98 was mapped to its N-terminal half, which contains all of the peptide repeats. A recombinant segment of this region depleted the docking activity of cytosol. We suggest that the peptide repeat domain of Nup98, together with peptide repeat domains of other nucleoporins, forms an array of sites for mediated docking of transport substrate, and that bidirectional transport across the NPC proceeds by repeated docking and undocking reactions.\n",
      "\n",
      "generated_summary\n",
      "\n"
     ]
    },
    {
     "data": {
      "application/vnd.jupyter.widget-view+json": {
       "model_id": "e870e53cfe7d4b87abacf25268086b12",
       "version_major": 2,
       "version_minor": 0
      },
      "text/plain": [
       "  0%|          | 0/100 [00:00<?, ?it/s]"
      ]
     },
     "metadata": {},
     "output_type": "display_data"
    },
    {
     "name": "stdout",
     "output_type": "stream",
     "text": [
      "The cellular effects of stromal cell-derived factor-1 (SDF-1) are mediated primarily by binding to the CXC chemokine receptor-4. We report in this study that SDF-1 and its peptide analogues induce a concentration- and time-dependent accumulation of phosphatidylinositol-(3,4,5)-trisphosphate (PtdIns(3,4,5)P3) in Jurkat cells. This SDF-1-stimulated generation of D-3 phosphoinositide lipids was inhibited by pretreatment of the cells with an SDF-1 peptide antagonist or an anti-CXCR4 Ab. In addition, the phosphoinositide 3 (PI 3)-kinase inhibitors wortmannin and LY294002, as well as the Gi protein inhibitor pertussis toxin, also inhibited the SDF-1-stimulated accumulation of PtdIns(3,4,5)P3. The effects of SDF-1 on D-3 phosphoinositide lipid accumulation correlated well with activation of the known PI 3-kinase effector protein kinase B, which was also inhibited by wortmannin and pertussis toxin. Concentrations of PI 3-kinase inhibitors, sufficient to inhibit PtdIns(3,4,5)P3 accumulation, also inhibited chemotaxis of Jurkat and peripheral blood-derived T lymphocytes in response to SDF-1. In contrast, SDF-1-stimulated actin polymerization was only partially inhibited by PI 3-kinase inhibitors, suggesting that while chemotaxis is fully dependent on PI 3-kinase activation, actin polymerization requires additional biochemical inputs. Finally, SDF-1-stimulated extracellular signal-related kinase (ERK)-1/2 mitogen-activated protein kinase activation was inhibited by PI 3-kinase inhibitors. In addition, the mitogen-activated protein/ERK kinase inhibitor PD098059 partially attenuated chemotaxis in response to SDF-1. Hence, it appears that ERK1/2 activation is dependent on PI 3-kinase activation, and both biochemical events are involved in the regulation of SDF-1-stimulated chemotaxis.\n",
      "\n",
      "generated_summary\n",
      "\n",
      "loss: 1.0051950216293335\n",
      "\n",
      "loss: 0.5447129011154175\n",
      "\n",
      "loss: 2.102900266647339\n",
      "\n",
      "loss: 1.119475245475769\n",
      "\n",
      "loss: 1.3836989402770996\n",
      "\n",
      "loss: 1.1184393167495728\n",
      "\n",
      "loss: 1.061056137084961\n",
      "\n",
      "loss: 1.0389374494552612\n",
      "\n",
      "loss: 0.608749508857727\n",
      "\n",
      "loss: 1.1876293420791626\n",
      "\n"
     ]
    },
    {
     "data": {
      "application/vnd.jupyter.widget-view+json": {
       "model_id": "69ae030a14ed457d863752efdab079b6",
       "version_major": 2,
       "version_minor": 0
      },
      "text/plain": [
       "Evaluating:   0%|          | 0/500 [00:00<?, ?it/s]"
      ]
     },
     "metadata": {},
     "output_type": "display_data"
    },
    {
     "name": "stdout",
     "output_type": "stream",
     "text": [
      "perplexity: 5.705965995788574\n",
      "After 1441 updates: \n",
      "\n"
     ]
    },
    {
     "data": {
      "application/vnd.jupyter.widget-view+json": {
       "model_id": "53d8947f36e14b23a788c2020983e864",
       "version_major": 2,
       "version_minor": 0
      },
      "text/plain": [
       "  0%|          | 0/100 [00:00<?, ?it/s]"
      ]
     },
     "metadata": {},
     "output_type": "display_data"
    },
    {
     "name": "stdout",
     "output_type": "stream",
     "text": [
      "We report the cDNA deduced primary structure of a wheat germ agglutinin-reactive nuclear pore complex (NPC) protein of rat. The protein, termed Nup98 (for nucleoporin of 98 kDa), contains numerous GLFG and FG repeats and some FXFG repeats and is thus a vertebrate member of a family of GLFG nucleoporins that were previously discovered in yeast. Immunoelectron microscopy showed Nup98 to be asymmetrically located at the nucleoplasmic side of the NPC. Nup98 functions as one of several docking site nucleoporins in a cytosolic docking activity-mediated binding of a model transport substrate. The docking site of Nup98 was mapped to its N-terminal half, which contains all of the peptide repeats. A recombinant segment of this region depleted the docking activity of cytosol. We suggest that the peptide repeat domain of Nup98, together with peptide repeat domains of other nucleoporins, forms an array of sites for mediated docking of transport substrate, and that bidirectional transport across the NPC proceeds by repeated docking and undocking reactions.\n",
      "\n",
      "generated_summary\n",
      "\n"
     ]
    },
    {
     "data": {
      "application/vnd.jupyter.widget-view+json": {
       "model_id": "058e597680d04df1abb233ef0bad0e65",
       "version_major": 2,
       "version_minor": 0
      },
      "text/plain": [
       "  0%|          | 0/100 [00:00<?, ?it/s]"
      ]
     },
     "metadata": {},
     "output_type": "display_data"
    },
    {
     "name": "stdout",
     "output_type": "stream",
     "text": [
      "The cellular effects of stromal cell-derived factor-1 (SDF-1) are mediated primarily by binding to the CXC chemokine receptor-4. We report in this study that SDF-1 and its peptide analogues induce a concentration- and time-dependent accumulation of phosphatidylinositol-(3,4,5)-trisphosphate (PtdIns(3,4,5)P3) in Jurkat cells. This SDF-1-stimulated generation of D-3 phosphoinositide lipids was inhibited by pretreatment of the cells with an SDF-1 peptide antagonist or an anti-CXCR4 Ab. In addition, the phosphoinositide 3 (PI 3)-kinase inhibitors wortmannin and LY294002, as well as the Gi protein inhibitor pertussis toxin, also inhibited the SDF-1-stimulated accumulation of PtdIns(3,4,5)P3. The effects of SDF-1 on D-3 phosphoinositide lipid accumulation correlated well with activation of the known PI 3-kinase effector protein kinase B, which was also inhibited by wortmannin and pertussis toxin. Concentrations of PI 3-kinase inhibitors, sufficient to inhibit PtdIns(3,4,5)P3 accumulation, also inhibited chemotaxis of Jurkat and peripheral blood-derived T lymphocytes in response to SDF-1. In contrast, SDF-1-stimulated actin polymerization was only partially inhibited by PI 3-kinase inhibitors, suggesting that while chemotaxis is fully dependent on PI 3-kinase activation, actin polymerization requires additional biochemical inputs. Finally, SDF-1-stimulated extracellular signal-related kinase (ERK)-1/2 mitogen-activated protein kinase activation was inhibited by PI 3-kinase inhibitors. In addition, the mitogen-activated protein/ERK kinase inhibitor PD098059 partially attenuated chemotaxis in response to SDF-1. Hence, it appears that ERK1/2 activation is dependent on PI 3-kinase activation, and both biochemical events are involved in the regulation of SDF-1-stimulated chemotaxis.\n",
      "\n",
      "generated_summary\n",
      "\n",
      "loss: 0.5442577600479126\n",
      "\n",
      "loss: 1.44999361038208\n",
      "\n",
      "loss: 1.1307616233825684\n",
      "\n",
      "loss: 0.7806002497673035\n",
      "\n",
      "loss: 0.44507119059562683\n",
      "\n",
      "loss: 0.5802156329154968\n",
      "\n",
      "loss: 0.6840049028396606\n",
      "\n",
      "loss: 0.7156392335891724\n",
      "\n",
      "loss: 1.0480557680130005\n",
      "\n",
      "loss: 0.7687658667564392\n",
      "\n"
     ]
    },
    {
     "data": {
      "application/vnd.jupyter.widget-view+json": {
       "model_id": "10414bad59044512be9d93a41811302b",
       "version_major": 2,
       "version_minor": 0
      },
      "text/plain": [
       "Evaluating:   0%|          | 0/500 [00:00<?, ?it/s]"
      ]
     },
     "metadata": {},
     "output_type": "display_data"
    },
    {
     "name": "stdout",
     "output_type": "stream",
     "text": [
      "perplexity: 5.616769313812256\n",
      "After 1451 updates: \n",
      "\n"
     ]
    },
    {
     "data": {
      "application/vnd.jupyter.widget-view+json": {
       "model_id": "923d3dbbf95d4894a113c84f6bf3ff46",
       "version_major": 2,
       "version_minor": 0
      },
      "text/plain": [
       "  0%|          | 0/100 [00:00<?, ?it/s]"
      ]
     },
     "metadata": {},
     "output_type": "display_data"
    },
    {
     "name": "stdout",
     "output_type": "stream",
     "text": [
      "We report the cDNA deduced primary structure of a wheat germ agglutinin-reactive nuclear pore complex (NPC) protein of rat. The protein, termed Nup98 (for nucleoporin of 98 kDa), contains numerous GLFG and FG repeats and some FXFG repeats and is thus a vertebrate member of a family of GLFG nucleoporins that were previously discovered in yeast. Immunoelectron microscopy showed Nup98 to be asymmetrically located at the nucleoplasmic side of the NPC. Nup98 functions as one of several docking site nucleoporins in a cytosolic docking activity-mediated binding of a model transport substrate. The docking site of Nup98 was mapped to its N-terminal half, which contains all of the peptide repeats. A recombinant segment of this region depleted the docking activity of cytosol. We suggest that the peptide repeat domain of Nup98, together with peptide repeat domains of other nucleoporins, forms an array of sites for mediated docking of transport substrate, and that bidirectional transport across the NPC proceeds by repeated docking and undocking reactions.\n",
      "\n",
      "generated_summary\n",
      "\n"
     ]
    },
    {
     "data": {
      "application/vnd.jupyter.widget-view+json": {
       "model_id": "075c6a4d55d84bcd8b8d9b48f2a35389",
       "version_major": 2,
       "version_minor": 0
      },
      "text/plain": [
       "  0%|          | 0/100 [00:00<?, ?it/s]"
      ]
     },
     "metadata": {},
     "output_type": "display_data"
    },
    {
     "name": "stdout",
     "output_type": "stream",
     "text": [
      "The cellular effects of stromal cell-derived factor-1 (SDF-1) are mediated primarily by binding to the CXC chemokine receptor-4. We report in this study that SDF-1 and its peptide analogues induce a concentration- and time-dependent accumulation of phosphatidylinositol-(3,4,5)-trisphosphate (PtdIns(3,4,5)P3) in Jurkat cells. This SDF-1-stimulated generation of D-3 phosphoinositide lipids was inhibited by pretreatment of the cells with an SDF-1 peptide antagonist or an anti-CXCR4 Ab. In addition, the phosphoinositide 3 (PI 3)-kinase inhibitors wortmannin and LY294002, as well as the Gi protein inhibitor pertussis toxin, also inhibited the SDF-1-stimulated accumulation of PtdIns(3,4,5)P3. The effects of SDF-1 on D-3 phosphoinositide lipid accumulation correlated well with activation of the known PI 3-kinase effector protein kinase B, which was also inhibited by wortmannin and pertussis toxin. Concentrations of PI 3-kinase inhibitors, sufficient to inhibit PtdIns(3,4,5)P3 accumulation, also inhibited chemotaxis of Jurkat and peripheral blood-derived T lymphocytes in response to SDF-1. In contrast, SDF-1-stimulated actin polymerization was only partially inhibited by PI 3-kinase inhibitors, suggesting that while chemotaxis is fully dependent on PI 3-kinase activation, actin polymerization requires additional biochemical inputs. Finally, SDF-1-stimulated extracellular signal-related kinase (ERK)-1/2 mitogen-activated protein kinase activation was inhibited by PI 3-kinase inhibitors. In addition, the mitogen-activated protein/ERK kinase inhibitor PD098059 partially attenuated chemotaxis in response to SDF-1. Hence, it appears that ERK1/2 activation is dependent on PI 3-kinase activation, and both biochemical events are involved in the regulation of SDF-1-stimulated chemotaxis.\n",
      "\n",
      "generated_summary\n",
      "\n",
      "loss: 0.5253307223320007\n",
      "\n",
      "loss: 0.6811270117759705\n",
      "\n",
      "loss: 1.3565247058868408\n",
      "\n",
      "loss: 1.1144450902938843\n",
      "\n",
      "loss: 1.0225932598114014\n",
      "\n",
      "loss: 0.7953832149505615\n",
      "\n",
      "loss: 0.5783721804618835\n",
      "\n",
      "loss: 0.692714512348175\n",
      "\n",
      "loss: 1.0908976793289185\n",
      "\n",
      "loss: 1.2149475812911987\n",
      "\n"
     ]
    },
    {
     "data": {
      "application/vnd.jupyter.widget-view+json": {
       "model_id": "afb3be54af9a4e279997289347872b02",
       "version_major": 2,
       "version_minor": 0
      },
      "text/plain": [
       "Evaluating:   0%|          | 0/500 [00:00<?, ?it/s]"
      ]
     },
     "metadata": {},
     "output_type": "display_data"
    },
    {
     "name": "stdout",
     "output_type": "stream",
     "text": [
      "perplexity: 5.5636491775512695\n",
      "After 1461 updates: \n",
      "\n"
     ]
    },
    {
     "data": {
      "application/vnd.jupyter.widget-view+json": {
       "model_id": "426184ae32f746b5b3800b259c51b9ee",
       "version_major": 2,
       "version_minor": 0
      },
      "text/plain": [
       "  0%|          | 0/100 [00:00<?, ?it/s]"
      ]
     },
     "metadata": {},
     "output_type": "display_data"
    },
    {
     "name": "stdout",
     "output_type": "stream",
     "text": [
      "We report the cDNA deduced primary structure of a wheat germ agglutinin-reactive nuclear pore complex (NPC) protein of rat. The protein, termed Nup98 (for nucleoporin of 98 kDa), contains numerous GLFG and FG repeats and some FXFG repeats and is thus a vertebrate member of a family of GLFG nucleoporins that were previously discovered in yeast. Immunoelectron microscopy showed Nup98 to be asymmetrically located at the nucleoplasmic side of the NPC. Nup98 functions as one of several docking site nucleoporins in a cytosolic docking activity-mediated binding of a model transport substrate. The docking site of Nup98 was mapped to its N-terminal half, which contains all of the peptide repeats. A recombinant segment of this region depleted the docking activity of cytosol. We suggest that the peptide repeat domain of Nup98, together with peptide repeat domains of other nucleoporins, forms an array of sites for mediated docking of transport substrate, and that bidirectional transport across the NPC proceeds by repeated docking and undocking reactions.\n",
      "\n",
      "generated_summary\n",
      "\n"
     ]
    },
    {
     "data": {
      "application/vnd.jupyter.widget-view+json": {
       "model_id": "b6ca184dfae14421aeea72fe187c311f",
       "version_major": 2,
       "version_minor": 0
      },
      "text/plain": [
       "  0%|          | 0/100 [00:00<?, ?it/s]"
      ]
     },
     "metadata": {},
     "output_type": "display_data"
    },
    {
     "name": "stdout",
     "output_type": "stream",
     "text": [
      "The cellular effects of stromal cell-derived factor-1 (SDF-1) are mediated primarily by binding to the CXC chemokine receptor-4. We report in this study that SDF-1 and its peptide analogues induce a concentration- and time-dependent accumulation of phosphatidylinositol-(3,4,5)-trisphosphate (PtdIns(3,4,5)P3) in Jurkat cells. This SDF-1-stimulated generation of D-3 phosphoinositide lipids was inhibited by pretreatment of the cells with an SDF-1 peptide antagonist or an anti-CXCR4 Ab. In addition, the phosphoinositide 3 (PI 3)-kinase inhibitors wortmannin and LY294002, as well as the Gi protein inhibitor pertussis toxin, also inhibited the SDF-1-stimulated accumulation of PtdIns(3,4,5)P3. The effects of SDF-1 on D-3 phosphoinositide lipid accumulation correlated well with activation of the known PI 3-kinase effector protein kinase B, which was also inhibited by wortmannin and pertussis toxin. Concentrations of PI 3-kinase inhibitors, sufficient to inhibit PtdIns(3,4,5)P3 accumulation, also inhibited chemotaxis of Jurkat and peripheral blood-derived T lymphocytes in response to SDF-1. In contrast, SDF-1-stimulated actin polymerization was only partially inhibited by PI 3-kinase inhibitors, suggesting that while chemotaxis is fully dependent on PI 3-kinase activation, actin polymerization requires additional biochemical inputs. Finally, SDF-1-stimulated extracellular signal-related kinase (ERK)-1/2 mitogen-activated protein kinase activation was inhibited by PI 3-kinase inhibitors. In addition, the mitogen-activated protein/ERK kinase inhibitor PD098059 partially attenuated chemotaxis in response to SDF-1. Hence, it appears that ERK1/2 activation is dependent on PI 3-kinase activation, and both biochemical events are involved in the regulation of SDF-1-stimulated chemotaxis.\n",
      "\n",
      "generated_summary\n",
      "\n",
      "loss: 1.2814483642578125\n",
      "\n",
      "loss: 0.43253347277641296\n",
      "\n",
      "loss: 0.5939685106277466\n",
      "\n",
      "loss: 0.5203218460083008\n",
      "\n",
      "loss: 0.6198934316635132\n",
      "\n",
      "loss: 0.6126489043235779\n",
      "\n",
      "loss: 1.298064112663269\n",
      "\n",
      "loss: 0.5585753321647644\n",
      "\n",
      "loss: 0.5931293368339539\n",
      "\n",
      "loss: 1.0300962924957275\n",
      "\n"
     ]
    },
    {
     "data": {
      "application/vnd.jupyter.widget-view+json": {
       "model_id": "242588b2bec84bed8a4276ddae2dc798",
       "version_major": 2,
       "version_minor": 0
      },
      "text/plain": [
       "Evaluating:   0%|          | 0/500 [00:00<?, ?it/s]"
      ]
     },
     "metadata": {},
     "output_type": "display_data"
    },
    {
     "name": "stdout",
     "output_type": "stream",
     "text": [
      "perplexity: 5.692270755767822\n",
      "After 1471 updates: \n",
      "\n"
     ]
    },
    {
     "data": {
      "application/vnd.jupyter.widget-view+json": {
       "model_id": "6963172d87814f9a887545c082a08cfc",
       "version_major": 2,
       "version_minor": 0
      },
      "text/plain": [
       "  0%|          | 0/100 [00:00<?, ?it/s]"
      ]
     },
     "metadata": {},
     "output_type": "display_data"
    },
    {
     "name": "stdout",
     "output_type": "stream",
     "text": [
      "We report the cDNA deduced primary structure of a wheat germ agglutinin-reactive nuclear pore complex (NPC) protein of rat. The protein, termed Nup98 (for nucleoporin of 98 kDa), contains numerous GLFG and FG repeats and some FXFG repeats and is thus a vertebrate member of a family of GLFG nucleoporins that were previously discovered in yeast. Immunoelectron microscopy showed Nup98 to be asymmetrically located at the nucleoplasmic side of the NPC. Nup98 functions as one of several docking site nucleoporins in a cytosolic docking activity-mediated binding of a model transport substrate. The docking site of Nup98 was mapped to its N-terminal half, which contains all of the peptide repeats. A recombinant segment of this region depleted the docking activity of cytosol. We suggest that the peptide repeat domain of Nup98, together with peptide repeat domains of other nucleoporins, forms an array of sites for mediated docking of transport substrate, and that bidirectional transport across the NPC proceeds by repeated docking and undocking reactions.\n",
      "\n",
      "generated_summary\n",
      "\n"
     ]
    },
    {
     "data": {
      "application/vnd.jupyter.widget-view+json": {
       "model_id": "06c8b797a8dc4803a294da88ef4d5fa7",
       "version_major": 2,
       "version_minor": 0
      },
      "text/plain": [
       "  0%|          | 0/100 [00:00<?, ?it/s]"
      ]
     },
     "metadata": {},
     "output_type": "display_data"
    },
    {
     "name": "stdout",
     "output_type": "stream",
     "text": [
      "The cellular effects of stromal cell-derived factor-1 (SDF-1) are mediated primarily by binding to the CXC chemokine receptor-4. We report in this study that SDF-1 and its peptide analogues induce a concentration- and time-dependent accumulation of phosphatidylinositol-(3,4,5)-trisphosphate (PtdIns(3,4,5)P3) in Jurkat cells. This SDF-1-stimulated generation of D-3 phosphoinositide lipids was inhibited by pretreatment of the cells with an SDF-1 peptide antagonist or an anti-CXCR4 Ab. In addition, the phosphoinositide 3 (PI 3)-kinase inhibitors wortmannin and LY294002, as well as the Gi protein inhibitor pertussis toxin, also inhibited the SDF-1-stimulated accumulation of PtdIns(3,4,5)P3. The effects of SDF-1 on D-3 phosphoinositide lipid accumulation correlated well with activation of the known PI 3-kinase effector protein kinase B, which was also inhibited by wortmannin and pertussis toxin. Concentrations of PI 3-kinase inhibitors, sufficient to inhibit PtdIns(3,4,5)P3 accumulation, also inhibited chemotaxis of Jurkat and peripheral blood-derived T lymphocytes in response to SDF-1. In contrast, SDF-1-stimulated actin polymerization was only partially inhibited by PI 3-kinase inhibitors, suggesting that while chemotaxis is fully dependent on PI 3-kinase activation, actin polymerization requires additional biochemical inputs. Finally, SDF-1-stimulated extracellular signal-related kinase (ERK)-1/2 mitogen-activated protein kinase activation was inhibited by PI 3-kinase inhibitors. In addition, the mitogen-activated protein/ERK kinase inhibitor PD098059 partially attenuated chemotaxis in response to SDF-1. Hence, it appears that ERK1/2 activation is dependent on PI 3-kinase activation, and both biochemical events are involved in the regulation of SDF-1-stimulated chemotaxis.\n",
      "\n",
      "generated_summary\n",
      "\n",
      "loss: 1.3483799695968628\n",
      "\n",
      "loss: 2.0867722034454346\n",
      "\n",
      "loss: 1.2246971130371094\n",
      "\n",
      "loss: 0.6870108246803284\n",
      "\n",
      "loss: 1.2614655494689941\n",
      "\n",
      "loss: 0.9077410697937012\n",
      "\n",
      "loss: 1.8339920043945312\n",
      "\n",
      "loss: 1.2809910774230957\n",
      "\n",
      "loss: 0.9349532127380371\n",
      "\n",
      "loss: 0.6114138960838318\n",
      "\n"
     ]
    },
    {
     "data": {
      "application/vnd.jupyter.widget-view+json": {
       "model_id": "3c3eb6f07adf4a438be114a563f2ae06",
       "version_major": 2,
       "version_minor": 0
      },
      "text/plain": [
       "Evaluating:   0%|          | 0/500 [00:00<?, ?it/s]"
      ]
     },
     "metadata": {},
     "output_type": "display_data"
    },
    {
     "name": "stdout",
     "output_type": "stream",
     "text": [
      "perplexity: 5.625565528869629\n",
      "After 1481 updates: \n",
      "\n"
     ]
    },
    {
     "data": {
      "application/vnd.jupyter.widget-view+json": {
       "model_id": "620acc715deb42efa89983dab05c951c",
       "version_major": 2,
       "version_minor": 0
      },
      "text/plain": [
       "  0%|          | 0/100 [00:00<?, ?it/s]"
      ]
     },
     "metadata": {},
     "output_type": "display_data"
    },
    {
     "name": "stdout",
     "output_type": "stream",
     "text": [
      "We report the cDNA deduced primary structure of a wheat germ agglutinin-reactive nuclear pore complex (NPC) protein of rat. The protein, termed Nup98 (for nucleoporin of 98 kDa), contains numerous GLFG and FG repeats and some FXFG repeats and is thus a vertebrate member of a family of GLFG nucleoporins that were previously discovered in yeast. Immunoelectron microscopy showed Nup98 to be asymmetrically located at the nucleoplasmic side of the NPC. Nup98 functions as one of several docking site nucleoporins in a cytosolic docking activity-mediated binding of a model transport substrate. The docking site of Nup98 was mapped to its N-terminal half, which contains all of the peptide repeats. A recombinant segment of this region depleted the docking activity of cytosol. We suggest that the peptide repeat domain of Nup98, together with peptide repeat domains of other nucleoporins, forms an array of sites for mediated docking of transport substrate, and that bidirectional transport across the NPC proceeds by repeated docking and undocking reactions.\n",
      "\n",
      "generated_summary\n",
      "\n"
     ]
    },
    {
     "data": {
      "application/vnd.jupyter.widget-view+json": {
       "model_id": "d3660eeb38f54b0d99fc327420d37e04",
       "version_major": 2,
       "version_minor": 0
      },
      "text/plain": [
       "  0%|          | 0/100 [00:00<?, ?it/s]"
      ]
     },
     "metadata": {},
     "output_type": "display_data"
    },
    {
     "name": "stdout",
     "output_type": "stream",
     "text": [
      "The cellular effects of stromal cell-derived factor-1 (SDF-1) are mediated primarily by binding to the CXC chemokine receptor-4. We report in this study that SDF-1 and its peptide analogues induce a concentration- and time-dependent accumulation of phosphatidylinositol-(3,4,5)-trisphosphate (PtdIns(3,4,5)P3) in Jurkat cells. This SDF-1-stimulated generation of D-3 phosphoinositide lipids was inhibited by pretreatment of the cells with an SDF-1 peptide antagonist or an anti-CXCR4 Ab. In addition, the phosphoinositide 3 (PI 3)-kinase inhibitors wortmannin and LY294002, as well as the Gi protein inhibitor pertussis toxin, also inhibited the SDF-1-stimulated accumulation of PtdIns(3,4,5)P3. The effects of SDF-1 on D-3 phosphoinositide lipid accumulation correlated well with activation of the known PI 3-kinase effector protein kinase B, which was also inhibited by wortmannin and pertussis toxin. Concentrations of PI 3-kinase inhibitors, sufficient to inhibit PtdIns(3,4,5)P3 accumulation, also inhibited chemotaxis of Jurkat and peripheral blood-derived T lymphocytes in response to SDF-1. In contrast, SDF-1-stimulated actin polymerization was only partially inhibited by PI 3-kinase inhibitors, suggesting that while chemotaxis is fully dependent on PI 3-kinase activation, actin polymerization requires additional biochemical inputs. Finally, SDF-1-stimulated extracellular signal-related kinase (ERK)-1/2 mitogen-activated protein kinase activation was inhibited by PI 3-kinase inhibitors. In addition, the mitogen-activated protein/ERK kinase inhibitor PD098059 partially attenuated chemotaxis in response to SDF-1. Hence, it appears that ERK1/2 activation is dependent on PI 3-kinase activation, and both biochemical events are involved in the regulation of SDF-1-stimulated chemotaxis.\n",
      "\n",
      "generated_summary\n",
      "\n",
      "loss: 1.1750894784927368\n",
      "\n",
      "loss: 1.2604016065597534\n",
      "\n",
      "loss: 1.1792192459106445\n",
      "\n",
      "loss: 0.3721788823604584\n",
      "\n",
      "loss: 0.9988322257995605\n",
      "\n",
      "loss: 0.759766161441803\n",
      "\n",
      "loss: 1.111815094947815\n",
      "\n",
      "loss: 0.7255863547325134\n",
      "\n",
      "loss: 1.1007812023162842\n",
      "\n",
      "loss: 0.8191004395484924\n",
      "\n"
     ]
    },
    {
     "data": {
      "application/vnd.jupyter.widget-view+json": {
       "model_id": "83b43e0f3d164c80a886a1857381ce30",
       "version_major": 2,
       "version_minor": 0
      },
      "text/plain": [
       "Evaluating:   0%|          | 0/500 [00:00<?, ?it/s]"
      ]
     },
     "metadata": {},
     "output_type": "display_data"
    },
    {
     "name": "stdout",
     "output_type": "stream",
     "text": [
      "perplexity: 5.569777488708496\n",
      "After 1491 updates: \n",
      "\n"
     ]
    },
    {
     "data": {
      "application/vnd.jupyter.widget-view+json": {
       "model_id": "6e307c2b8d61410bac4b193cdf5d4dc5",
       "version_major": 2,
       "version_minor": 0
      },
      "text/plain": [
       "  0%|          | 0/100 [00:00<?, ?it/s]"
      ]
     },
     "metadata": {},
     "output_type": "display_data"
    },
    {
     "name": "stdout",
     "output_type": "stream",
     "text": [
      "We report the cDNA deduced primary structure of a wheat germ agglutinin-reactive nuclear pore complex (NPC) protein of rat. The protein, termed Nup98 (for nucleoporin of 98 kDa), contains numerous GLFG and FG repeats and some FXFG repeats and is thus a vertebrate member of a family of GLFG nucleoporins that were previously discovered in yeast. Immunoelectron microscopy showed Nup98 to be asymmetrically located at the nucleoplasmic side of the NPC. Nup98 functions as one of several docking site nucleoporins in a cytosolic docking activity-mediated binding of a model transport substrate. The docking site of Nup98 was mapped to its N-terminal half, which contains all of the peptide repeats. A recombinant segment of this region depleted the docking activity of cytosol. We suggest that the peptide repeat domain of Nup98, together with peptide repeat domains of other nucleoporins, forms an array of sites for mediated docking of transport substrate, and that bidirectional transport across the NPC proceeds by repeated docking and undocking reactions.\n",
      "\n",
      "generated_summary\n",
      "\n"
     ]
    },
    {
     "data": {
      "application/vnd.jupyter.widget-view+json": {
       "model_id": "50758d42da454eb48e2dbb6a5bc79e28",
       "version_major": 2,
       "version_minor": 0
      },
      "text/plain": [
       "  0%|          | 0/100 [00:00<?, ?it/s]"
      ]
     },
     "metadata": {},
     "output_type": "display_data"
    },
    {
     "name": "stdout",
     "output_type": "stream",
     "text": [
      "The cellular effects of stromal cell-derived factor-1 (SDF-1) are mediated primarily by binding to the CXC chemokine receptor-4. We report in this study that SDF-1 and its peptide analogues induce a concentration- and time-dependent accumulation of phosphatidylinositol-(3,4,5)-trisphosphate (PtdIns(3,4,5)P3) in Jurkat cells. This SDF-1-stimulated generation of D-3 phosphoinositide lipids was inhibited by pretreatment of the cells with an SDF-1 peptide antagonist or an anti-CXCR4 Ab. In addition, the phosphoinositide 3 (PI 3)-kinase inhibitors wortmannin and LY294002, as well as the Gi protein inhibitor pertussis toxin, also inhibited the SDF-1-stimulated accumulation of PtdIns(3,4,5)P3. The effects of SDF-1 on D-3 phosphoinositide lipid accumulation correlated well with activation of the known PI 3-kinase effector protein kinase B, which was also inhibited by wortmannin and pertussis toxin. Concentrations of PI 3-kinase inhibitors, sufficient to inhibit PtdIns(3,4,5)P3 accumulation, also inhibited chemotaxis of Jurkat and peripheral blood-derived T lymphocytes in response to SDF-1. In contrast, SDF-1-stimulated actin polymerization was only partially inhibited by PI 3-kinase inhibitors, suggesting that while chemotaxis is fully dependent on PI 3-kinase activation, actin polymerization requires additional biochemical inputs. Finally, SDF-1-stimulated extracellular signal-related kinase (ERK)-1/2 mitogen-activated protein kinase activation was inhibited by PI 3-kinase inhibitors. In addition, the mitogen-activated protein/ERK kinase inhibitor PD098059 partially attenuated chemotaxis in response to SDF-1. Hence, it appears that ERK1/2 activation is dependent on PI 3-kinase activation, and both biochemical events are involved in the regulation of SDF-1-stimulated chemotaxis.\n",
      "\n",
      "generated_summary\n",
      "\n",
      "loss: 0.6809573173522949\n",
      "\n",
      "loss: 1.0164247751235962\n",
      "\n",
      "loss: 0.3677351474761963\n",
      "\n",
      "loss: 1.265130639076233\n",
      "\n",
      "loss: 0.43174082040786743\n",
      "\n",
      "loss: 0.7270826697349548\n",
      "\n",
      "loss: 1.1251493692398071\n",
      "\n",
      "loss: 0.9103046655654907\n",
      "\n",
      "loss: 0.5992859601974487\n",
      "\n",
      "loss: 0.9455034732818604\n",
      "\n"
     ]
    },
    {
     "data": {
      "application/vnd.jupyter.widget-view+json": {
       "model_id": "dcee51aa38c14ddc9a1caf01283f5e45",
       "version_major": 2,
       "version_minor": 0
      },
      "text/plain": [
       "Evaluating:   0%|          | 0/500 [00:00<?, ?it/s]"
      ]
     },
     "metadata": {},
     "output_type": "display_data"
    },
    {
     "name": "stdout",
     "output_type": "stream",
     "text": [
      "perplexity: 5.623516082763672\n",
      "After 1501 updates: \n",
      "\n"
     ]
    },
    {
     "data": {
      "application/vnd.jupyter.widget-view+json": {
       "model_id": "fade9efc2e8041c6962ba332e3c170f3",
       "version_major": 2,
       "version_minor": 0
      },
      "text/plain": [
       "  0%|          | 0/100 [00:00<?, ?it/s]"
      ]
     },
     "metadata": {},
     "output_type": "display_data"
    },
    {
     "name": "stdout",
     "output_type": "stream",
     "text": [
      "We report the cDNA deduced primary structure of a wheat germ agglutinin-reactive nuclear pore complex (NPC) protein of rat. The protein, termed Nup98 (for nucleoporin of 98 kDa), contains numerous GLFG and FG repeats and some FXFG repeats and is thus a vertebrate member of a family of GLFG nucleoporins that were previously discovered in yeast. Immunoelectron microscopy showed Nup98 to be asymmetrically located at the nucleoplasmic side of the NPC. Nup98 functions as one of several docking site nucleoporins in a cytosolic docking activity-mediated binding of a model transport substrate. The docking site of Nup98 was mapped to its N-terminal half, which contains all of the peptide repeats. A recombinant segment of this region depleted the docking activity of cytosol. We suggest that the peptide repeat domain of Nup98, together with peptide repeat domains of other nucleoporins, forms an array of sites for mediated docking of transport substrate, and that bidirectional transport across the NPC proceeds by repeated docking and undocking reactions.\n",
      "\n",
      "generated_summary\n",
      "\n"
     ]
    },
    {
     "data": {
      "application/vnd.jupyter.widget-view+json": {
       "model_id": "2df0232ecc70457baa29606ff7e4ac22",
       "version_major": 2,
       "version_minor": 0
      },
      "text/plain": [
       "  0%|          | 0/100 [00:00<?, ?it/s]"
      ]
     },
     "metadata": {},
     "output_type": "display_data"
    },
    {
     "name": "stdout",
     "output_type": "stream",
     "text": [
      "The cellular effects of stromal cell-derived factor-1 (SDF-1) are mediated primarily by binding to the CXC chemokine receptor-4. We report in this study that SDF-1 and its peptide analogues induce a concentration- and time-dependent accumulation of phosphatidylinositol-(3,4,5)-trisphosphate (PtdIns(3,4,5)P3) in Jurkat cells. This SDF-1-stimulated generation of D-3 phosphoinositide lipids was inhibited by pretreatment of the cells with an SDF-1 peptide antagonist or an anti-CXCR4 Ab. In addition, the phosphoinositide 3 (PI 3)-kinase inhibitors wortmannin and LY294002, as well as the Gi protein inhibitor pertussis toxin, also inhibited the SDF-1-stimulated accumulation of PtdIns(3,4,5)P3. The effects of SDF-1 on D-3 phosphoinositide lipid accumulation correlated well with activation of the known PI 3-kinase effector protein kinase B, which was also inhibited by wortmannin and pertussis toxin. Concentrations of PI 3-kinase inhibitors, sufficient to inhibit PtdIns(3,4,5)P3 accumulation, also inhibited chemotaxis of Jurkat and peripheral blood-derived T lymphocytes in response to SDF-1. In contrast, SDF-1-stimulated actin polymerization was only partially inhibited by PI 3-kinase inhibitors, suggesting that while chemotaxis is fully dependent on PI 3-kinase activation, actin polymerization requires additional biochemical inputs. Finally, SDF-1-stimulated extracellular signal-related kinase (ERK)-1/2 mitogen-activated protein kinase activation was inhibited by PI 3-kinase inhibitors. In addition, the mitogen-activated protein/ERK kinase inhibitor PD098059 partially attenuated chemotaxis in response to SDF-1. Hence, it appears that ERK1/2 activation is dependent on PI 3-kinase activation, and both biochemical events are involved in the regulation of SDF-1-stimulated chemotaxis.\n",
      "\n",
      "generated_summary\n",
      "\n",
      "total time:  677.435636707147  minutes\n",
      "\n",
      "Saving trained model...\n"
     ]
    }
   ],
   "source": [
    "#training the model\n",
    "\n",
    "start = time.time()\n",
    "train(args, model, tokenizer, train_data, valid_data, ignore_idx)\n",
    "print('total time: ', (time.time()-start)/60, \" minutes\", end='\\n\\n')\n",
    "\n",
    "print('Saving trained model...')\n",
    "model_file = os.path.join(args.model_dir, 'model_data{}_trained_after_{}_epochs_only_sum_loss_ignr_pad.bin'.format(len(train_data),args.num_train_epochs))\n",
    "config_file = os.path.join(args.model_dir, 'config_data{}_trained_after_{}_epochs_only_sum_loss_ignr_pad.json'.format(len(train_data),args.num_train_epochs))\n",
    "torch.save(model.state_dict(), model_file)\n",
    "model.config.to_json_file(config_file)"
   ]
  }
 ],
 "metadata": {
  "kernelspec": {
   "display_name": "Python 3 (ipykernel)",
   "language": "python",
   "name": "python3"
  },
  "language_info": {
   "codemirror_mode": {
    "name": "ipython",
    "version": 3
   },
   "file_extension": ".py",
   "mimetype": "text/x-python",
   "name": "python",
   "nbconvert_exporter": "python",
   "pygments_lexer": "ipython3",
   "version": "3.9.7"
  }
 },
 "nbformat": 4,
 "nbformat_minor": 4
}
