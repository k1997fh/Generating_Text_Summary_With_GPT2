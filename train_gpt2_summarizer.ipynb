{
 "cells": [
  {
   "cell_type": "code",
   "execution_count": 1,
   "metadata": {},
   "outputs": [],
   "source": [
    "import argparse\n",
    "from datetime import datetime\n",
    "import os\n",
    "import json\n",
    "import pandas as pd\n",
    "import time\n",
    "import matplotlib.pyplot as plt\n",
    "\n",
    "import numpy as np\n",
    "from transformers import GPT2LMHeadModel,AdamW, WarmupLinearSchedule\n",
    "from torch.utils.tensorboard import SummaryWriter\n",
    "import torch\n",
    "from torch.nn import CrossEntropyLoss\n",
    "import torch.nn.functional as F\n",
    "from torch.utils.data import DataLoader, RandomSampler, SequentialSampler\n",
    "from tqdm import tnrange, tqdm_notebook\n",
    "\n",
    "from dataset import GPT21024Dataset \n",
    "from utils import add_special_tokens, generate_sample, set_seed"
   ]
  },
  {
   "cell_type": "code",
   "execution_count": 2,
   "metadata": {},
   "outputs": [
    {
     "data": {
      "text/plain": [
       "(7652, 5)"
      ]
     },
     "execution_count": 2,
     "metadata": {},
     "output_type": "execute_result"
    }
   ],
   "source": [
    "filename = \"pubmed_gene_go_summary.tsv\"\n",
    "path = os.path.join(\"pubmed\", filename)\n",
    "pubmed_table = pd.read_csv(path, sep = \"\\t\")\n",
    "pubmed_table = pubmed_table[pubmed_table['Abstract'].notna()]\n",
    "pubmed_table = pubmed_table[pubmed_table['Target'].notna()]\n",
    "pubmed_table.shape"
   ]
  },
  {
   "cell_type": "code",
   "execution_count": 3,
   "metadata": {},
   "outputs": [
    {
     "data": {
      "text/html": [
       "<div>\n",
       "<style scoped>\n",
       "    .dataframe tbody tr th:only-of-type {\n",
       "        vertical-align: middle;\n",
       "    }\n",
       "\n",
       "    .dataframe tbody tr th {\n",
       "        vertical-align: top;\n",
       "    }\n",
       "\n",
       "    .dataframe thead th {\n",
       "        text-align: right;\n",
       "    }\n",
       "</style>\n",
       "<table border=\"1\" class=\"dataframe\">\n",
       "  <thead>\n",
       "    <tr style=\"text-align: right;\">\n",
       "      <th></th>\n",
       "      <th>GeneID</th>\n",
       "      <th>PubMed</th>\n",
       "      <th>Target</th>\n",
       "      <th>Title</th>\n",
       "      <th>Abstract</th>\n",
       "    </tr>\n",
       "  </thead>\n",
       "  <tbody>\n",
       "    <tr>\n",
       "      <th>0</th>\n",
       "      <td>12</td>\n",
       "      <td>14668352</td>\n",
       "      <td>SERPINA3 enables DNA binding; located_in nucleus.</td>\n",
       "      <td>The SANT2 domain of the murine tumor cell DnaJ...</td>\n",
       "      <td>The murine tumor cell DnaJ-like protein 1 or M...</td>\n",
       "    </tr>\n",
       "    <tr>\n",
       "      <th>1</th>\n",
       "      <td>64215</td>\n",
       "      <td>14668352</td>\n",
       "      <td>DNAJC1 enables ATPase activator activity; invo...</td>\n",
       "      <td>The SANT2 domain of the murine tumor cell DnaJ...</td>\n",
       "      <td>The murine tumor cell DnaJ-like protein 1 or M...</td>\n",
       "    </tr>\n",
       "    <tr>\n",
       "      <th>2</th>\n",
       "      <td>12</td>\n",
       "      <td>2404007</td>\n",
       "      <td>SERPINA3 enables serine-type endopeptidase inh...</td>\n",
       "      <td>Cloning, expression, purification, and biologi...</td>\n",
       "      <td>Human alpha 1-antichymotrypsin has been cloned...</td>\n",
       "    </tr>\n",
       "    <tr>\n",
       "      <th>3</th>\n",
       "      <td>13</td>\n",
       "      <td>11481320</td>\n",
       "      <td>AADAC enables lipase activity.</td>\n",
       "      <td>Characterization of the rodent genes for aryla...</td>\n",
       "      <td>In the current study, we have determined the c...</td>\n",
       "    </tr>\n",
       "    <tr>\n",
       "      <th>4</th>\n",
       "      <td>13</td>\n",
       "      <td>8063807</td>\n",
       "      <td>AADAC enables catalytic activity.</td>\n",
       "      <td>Human liver arylacetamide deacetylase. Molecul...</td>\n",
       "      <td>Microsomal arylacetamide deacetylase (DAC) com...</td>\n",
       "    </tr>\n",
       "  </tbody>\n",
       "</table>\n",
       "</div>"
      ],
      "text/plain": [
       "   GeneID    PubMed                                             Target  \\\n",
       "0      12  14668352  SERPINA3 enables DNA binding; located_in nucleus.   \n",
       "1   64215  14668352  DNAJC1 enables ATPase activator activity; invo...   \n",
       "2      12   2404007  SERPINA3 enables serine-type endopeptidase inh...   \n",
       "3      13  11481320                     AADAC enables lipase activity.   \n",
       "4      13   8063807                  AADAC enables catalytic activity.   \n",
       "\n",
       "                                               Title  \\\n",
       "0  The SANT2 domain of the murine tumor cell DnaJ...   \n",
       "1  The SANT2 domain of the murine tumor cell DnaJ...   \n",
       "2  Cloning, expression, purification, and biologi...   \n",
       "3  Characterization of the rodent genes for aryla...   \n",
       "4  Human liver arylacetamide deacetylase. Molecul...   \n",
       "\n",
       "                                            Abstract  \n",
       "0  The murine tumor cell DnaJ-like protein 1 or M...  \n",
       "1  The murine tumor cell DnaJ-like protein 1 or M...  \n",
       "2  Human alpha 1-antichymotrypsin has been cloned...  \n",
       "3  In the current study, we have determined the c...  \n",
       "4  Microsomal arylacetamide deacetylase (DAC) com...  "
      ]
     },
     "execution_count": 3,
     "metadata": {},
     "output_type": "execute_result"
    }
   ],
   "source": [
    "pubmed_table.head(5)"
   ]
  },
  {
   "cell_type": "code",
   "execution_count": 4,
   "metadata": {},
   "outputs": [],
   "source": [
    "def write_json(i, article, abstract):\n",
    "    \"\"\" Saves a json file.\"\"\"\n",
    "\n",
    "    file = \"./pubmed/gpt2_1024_data/\"+str(i)+\".json\"\n",
    "    js_example = {}\n",
    "    js_example['id'] = i\n",
    "    js_example['article'] = article\n",
    "    js_example['abstract'] = abstract\n",
    "    with open(file, 'w') as f:\n",
    "        json.dump(js_example, f, ensure_ascii=False)"
   ]
  },
  {
   "cell_type": "code",
   "execution_count": 5,
   "metadata": {},
   "outputs": [
    {
     "name": "stdout",
     "output_type": "stream",
     "text": [
      "0  files written\n",
      "100  files written\n",
      "200  files written\n",
      "300  files written\n",
      "400  files written\n",
      "500  files written\n",
      "600  files written\n",
      "700  files written\n",
      "800  files written\n",
      "900  files written\n",
      "1000  files written\n",
      "1100  files written\n",
      "1200  files written\n",
      "1400  files written\n",
      "1500  files written\n",
      "1600  files written\n",
      "1700  files written\n",
      "1800  files written\n",
      "1900  files written\n",
      "2000  files written\n",
      "2100  files written\n",
      "2200  files written\n",
      "2300  files written\n",
      "2400  files written\n",
      "2500  files written\n",
      "2600  files written\n",
      "2700  files written\n",
      "2800  files written\n",
      "2900  files written\n",
      "3000  files written\n",
      "3100  files written\n",
      "3200  files written\n",
      "3300  files written\n",
      "3400  files written\n",
      "3500  files written\n",
      "3600  files written\n",
      "3700  files written\n",
      "3800  files written\n",
      "3900  files written\n",
      "4000  files written\n",
      "4100  files written\n",
      "4200  files written\n",
      "4300  files written\n",
      "4400  files written\n",
      "4500  files written\n",
      "4600  files written\n",
      "4700  files written\n",
      "4800  files written\n",
      "4900  files written\n",
      "5000  files written\n",
      "5100  files written\n",
      "5200  files written\n",
      "5300  files written\n",
      "5400  files written\n",
      "5500  files written\n",
      "5600  files written\n",
      "5700  files written\n",
      "5800  files written\n",
      "5900  files written\n",
      "6000  files written\n",
      "6100  files written\n",
      "6200  files written\n",
      "6300  files written\n",
      "6400  files written\n",
      "6500  files written\n",
      "6600  files written\n",
      "6700  files written\n",
      "6800  files written\n",
      "6900  files written\n",
      "7000  files written\n",
      "7100  files written\n",
      "7200  files written\n",
      "7300  files written\n",
      "7400  files written\n",
      "7500  files written\n",
      "7600  files written\n",
      "7700  files written\n"
     ]
    }
   ],
   "source": [
    "tokenizer = add_special_tokens()\n",
    "train_ids = []\n",
    "#file_id_map = {}\n",
    "sizes = []\n",
    "for index, row in pubmed_table.iterrows():\n",
    "    article = row[\"Abstract\"]\n",
    "    summary = row[\"Title\"] + row[\"Target\"]\n",
    "    article = tokenizer.encode(article)\n",
    "    summary = tokenizer.encode(summary)\n",
    "    sizes.append(len(article) + len(summary))\n",
    "    if len(article) > 0 and len(summary) > 0 and (len(article) + len(summary) <= 1023):\n",
    "        train_ids.append(index)\n",
    "        write_json(index, article, summary)\n",
    "        #file_id_map[i] = os.path.basename(file).replace('.story', '')\n",
    "        if index%100==0:\n",
    "            print(index, \" files written\")\n",
    "            \n",
    "x,y = int(len(train_ids)*0.8), int(len(train_ids)*0.9)\n",
    "valid_ids = train_ids[x:y]\n",
    "test_ids = train_ids[y:]\n",
    "train_ids = train_ids[:x]\n",
    "with open(\"./pubmed/ids.json\",'w') as f:\n",
    "    js = {}\n",
    "    js['train_ids'] = train_ids\n",
    "    js['valid_ids'] = valid_ids\n",
    "    js['test_ids'] = test_ids\n",
    "    json.dump(js,f)\n"
   ]
  },
  {
   "cell_type": "code",
   "execution_count": 6,
   "metadata": {},
   "outputs": [
    {
     "data": {
      "image/png": "[encoded data removed]",
      "text/plain": [
       "<Figure size 720x360 with 1 Axes>"
      ]
     },
     "metadata": {
      "needs_background": "light"
     },
     "output_type": "display_data"
    }
   ],
   "source": [
    "fig = plt.figure(figsize = (10, 5))\n",
    "\n",
    "keys, counts = np.unique(sizes, return_counts=True)\n",
    "\n",
    "plt.bar(keys, counts)\n",
    "plt.show()"
   ]
  },
  {
   "cell_type": "code",
   "execution_count": 13,
   "metadata": {},
   "outputs": [
    {
     "name": "stdout",
     "output_type": "stream",
     "text": [
      "Namespace(lr=5e-05, seed=42, n_gpu=1, gradient_accumulation_steps=32, batch_size=1, num_workers=4, device=device(type='cuda'), num_train_epochs=5, output_dir='./output', model_dir='./weights', max_grad_norm=1.0, root_dir='./pubmed/gpt2_1024_data', ids_file='./pubmed/ids.json')\n"
     ]
    }
   ],
   "source": [
    "#please change default arguments if needed\n",
    "\n",
    "parser = argparse.ArgumentParser()\n",
    "parser.add_argument(\"--lr\",default=5e-5, type=float, help=\"learning rate\")\n",
    "parser.add_argument(\"--seed\",default=42, type=int,  help=\"seed to replicate results\")\n",
    "parser.add_argument(\"--n_gpu\",default=1, type=int,  help=\"no of gpu available\")\n",
    "parser.add_argument(\"--gradient_accumulation_steps\",default=32, type=int, help=\"gradient_accumulation_steps\")\n",
    "parser.add_argument(\"--batch_size\",default=1, type=int,  help=\"batch_size\")\n",
    "parser.add_argument(\"--num_workers\",default=4, type=int,  help=\"num of cpus available\")\n",
    "parser.add_argument(\"--device\",default=torch.device('cuda'), help=\"torch.device object\")\n",
    "parser.add_argument(\"--num_train_epochs\",default=5, type=int,  help=\"no of epochs of training\")\n",
    "parser.add_argument(\"--output_dir\",default='./output', type=str,  help=\"path to save evaluation results\")\n",
    "parser.add_argument(\"--model_dir\",default='./weights', type=str,  help=\"path to save trained model\")\n",
    "parser.add_argument(\"--max_grad_norm\",default=1.0, type=float, help=\"max gradient norm.\")\n",
    "parser.add_argument(\"--root_dir\",default='./pubmed/gpt2_1024_data', type=str, help=\"location of json dataset.\")\n",
    "parser.add_argument(\"--ids_file\",default='./pubmed/ids.json', type=str, help=\"location of train, valid and test file indexes\")\n",
    "args = parser.parse_args([])\n",
    "print(args)"
   ]
  },
  {
   "cell_type": "code",
   "execution_count": 14,
   "metadata": {},
   "outputs": [],
   "source": [
    "def train(args, model, tokenizer, train_dataset, valid_dataset, ignore_index):\n",
    "    \"\"\" Trains GPT2 model and logs necessary details.\n",
    "        Args:\n",
    "            args: dict that contains all the necessary information passed by user while training\n",
    "            model: finetuned gpt/gpt2 model\n",
    "            tokenizer: GPT/GPT2 tokenizer\n",
    "            train_dataset: GPT21024Dataset object for training data\n",
    "            ignore_index: token not considered in loss calculation\n",
    "    \"\"\"\n",
    "    writer = SummaryWriter('./output/logs')\n",
    "    train_sampler = RandomSampler(train_dataset)\n",
    "    train_dl = DataLoader(train_dataset,sampler=train_sampler,batch_size=args.batch_size,num_workers=args.num_workers)\n",
    "    loss_fct = CrossEntropyLoss(ignore_index=ignore_index) #ignores padding token for loss calculation\n",
    "    optimizer = AdamW(model.parameters(),lr=args.lr)\n",
    "    scheduler = WarmupLinearSchedule(optimizer,200,80000)\n",
    "    loss_trace = []\n",
    "\n",
    "    global_step = 0\n",
    "    tr_loss, logging_loss = 0.0, 0.0\n",
    "    model.zero_grad()\n",
    "    train_iterator = tnrange(int(args.num_train_epochs), desc=\"Epoch\")\n",
    "    set_seed(args)\n",
    "    for _ in train_iterator:\n",
    "        epoch_iterator = tqdm_notebook(train_dl, desc=\"Training\")\n",
    "        for step, batch in enumerate(epoch_iterator):\n",
    "            inputs, labels = batch['article'].to(args.device), batch['article'].to(args.device)\n",
    "            model.train()\n",
    "            logits = model(inputs)[0]\n",
    "            # only consider loss on reference summary just like seq2seq models\n",
    "            shift_logits = logits[..., batch['sum_idx']:-1, :].contiguous()\n",
    "            shift_labels = labels[..., batch['sum_idx']+1:].contiguous()\n",
    "            loss = loss_fct(shift_logits.view(-1, shift_logits.size(-1)), shift_labels.view(-1))\n",
    "            loss = loss/args.gradient_accumulation_steps\n",
    "            loss.backward()\n",
    "            torch.nn.utils.clip_grad_norm_(model.parameters(), args.max_grad_norm)\n",
    "            tr_loss += loss.item()\n",
    "            if (step + 1) % args.gradient_accumulation_steps == 0:\n",
    "                optimizer.step()\n",
    "                scheduler.step()  # Update learning rate schedule\n",
    "                model.zero_grad()\n",
    "                global_step += 1\n",
    "                writer.add_scalar('lr', scheduler.get_lr()[0], global_step)\n",
    "                writer.add_scalar('loss', (tr_loss - logging_loss)/args.gradient_accumulation_steps, global_step)\n",
    "                logging_loss = tr_loss\n",
    "                loss_trace.append(loss.item())\n",
    "                print(\"loss:\", loss.item(), end='\\n\\n')\n",
    "                if (step + 1)/args.gradient_accumulation_steps == 1.0:\n",
    "                \tprint('After 1st update: ', end='\\n\\n')\n",
    "                \tgenerate_sample(valid_dataset, tokenizer, model, num=2, eval_step=False,device=args.device)\n",
    "                \n",
    "                \n",
    "            if (step + 1) % (10*args.gradient_accumulation_steps) == 0:\n",
    "                results = evaluate(args, model, valid_dataset, ignore_index, global_step)\n",
    "                for key, value in results.items():\n",
    "                    writer.add_scalar('eval_{}'.format(key), value, global_step)\n",
    "                print('After', global_step+1,'updates: ', end='\\n\\n')\n",
    "                generate_sample(valid_dataset, tokenizer, model, num=2, eval_step=True,device=args.device)\n",
    "                \n",
    "    return loss_trace\n"
   ]
  },
  {
   "cell_type": "code",
   "execution_count": 15,
   "metadata": {},
   "outputs": [],
   "source": [
    "def evaluate(args, model, eval_dataset, ignore_index, global_step=None):\n",
    "    \"\"\" Returns perplexity score on validation dataset.\n",
    "        Args:\n",
    "            args: dict that contains all the necessary information passed by user while training\n",
    "            model: finetuned gpt/gpt2 model\n",
    "            eval_dataset: GPT21024Dataset object for validation data\n",
    "            global_step: no. of times gradients have backpropagated\n",
    "            ignore_index: token not considered in loss calculation\n",
    "    \"\"\"\n",
    "    if not os.path.exists(args.output_dir):\n",
    "        os.mkdir(args.output_dir)\n",
    "    eval_output_dir = args.output_dir\n",
    "\n",
    "    results = {}\n",
    "    eval_sampler = SequentialSampler(eval_dataset)\n",
    "    eval_dataloader = DataLoader(eval_dataset, sampler=eval_sampler, batch_size=args.batch_size)\n",
    "    loss_fct = CrossEntropyLoss(ignore_index=ignore_index) #ignores padding token for loss calculation\n",
    "\n",
    "    eval_loss = 0.0\n",
    "    nb_eval_steps = 0\n",
    "    model.eval()\n",
    "\n",
    "    for batch in tqdm_notebook(eval_dataloader, desc=\"Evaluating\"):\n",
    "        inputs, labels = batch['article'].to(args.device), batch['article'].to(args.device)\n",
    "        \n",
    "        with torch.no_grad():\n",
    "            logits = model(inputs)[0]\n",
    "            idx = batch['sum_idx'].item() # index of separator token\n",
    "            # only consider loss on reference summary just like seq2seq models\n",
    "            shift_logits = logits[..., batch['sum_idx']:-1, :].contiguous()\n",
    "            shift_labels = labels[..., batch['sum_idx']+1:].contiguous()\n",
    "            lm_loss = loss_fct(shift_logits.view(-1, shift_logits.size(-1)), shift_labels.view(-1))\n",
    "            eval_loss += lm_loss.mean().item()\n",
    "        nb_eval_steps += 1\n",
    "\n",
    "    eval_loss = eval_loss / nb_eval_steps\n",
    "    perplexity = torch.exp(torch.tensor(eval_loss))\n",
    "\n",
    "    result = {\n",
    "        \"perplexity\": perplexity\n",
    "    }\n",
    "    print(\"perplexity:\", perplexity.item())\n",
    "\n",
    "    if global_step:\n",
    "        output_eval_file = os.path.join(eval_output_dir, \"eval_results.txt\")\n",
    "        with open(output_eval_file, \"a\") as f:\n",
    "            for key in sorted(result.keys()):\n",
    "                f.write('\\n\\n')\n",
    "                f.write(\"time = %s, %s = %s, step = %s\\n\" % (datetime.now().strftime(\"%d/%m/%Y %H:%M:%S\"), key, str(result[key]), str(global_step)))\n",
    "    return result           "
   ]
  },
  {
   "cell_type": "code",
   "execution_count": 26,
   "metadata": {},
   "outputs": [],
   "source": [
    "# creating training and validation dataset object\n",
    "\n",
    "train_data = GPT21024Dataset(args.root_dir,args.ids_file,mode='train',length=6100) #training on only 6100 datasets\n",
    "valid_data = GPT21024Dataset(args.root_dir,args.ids_file,mode='valid',length=770)  #validation on only 700 datasets\n",
    "test_data = GPT21024Dataset(args.root_dir,args.ids_file,mode='test',length=770)  #validation on only 700 datasets\n"
   ]
  },
  {
   "cell_type": "code",
   "execution_count": 27,
   "metadata": {
    "jupyter": {
     "outputs_hidden": true
    }
   },
   "outputs": [
    {
     "data": {
      "text/plain": [
       "GPT2LMHeadModel(\n",
       "  (transformer): GPT2Model(\n",
       "    (wte): Embedding(50259, 768)\n",
       "    (wpe): Embedding(1024, 768)\n",
       "    (drop): Dropout(p=0.1, inplace=False)\n",
       "    (h): ModuleList(\n",
       "      (0): Block(\n",
       "        (ln_1): LayerNorm((768,), eps=1e-05, elementwise_affine=True)\n",
       "        (attn): Attention(\n",
       "          (c_attn): Conv1D()\n",
       "          (c_proj): Conv1D()\n",
       "          (attn_dropout): Dropout(p=0.1, inplace=False)\n",
       "          (resid_dropout): Dropout(p=0.1, inplace=False)\n",
       "        )\n",
       "        (ln_2): LayerNorm((768,), eps=1e-05, elementwise_affine=True)\n",
       "        (mlp): MLP(\n",
       "          (c_fc): Conv1D()\n",
       "          (c_proj): Conv1D()\n",
       "          (dropout): Dropout(p=0.1, inplace=False)\n",
       "        )\n",
       "      )\n",
       "      (1): Block(\n",
       "        (ln_1): LayerNorm((768,), eps=1e-05, elementwise_affine=True)\n",
       "        (attn): Attention(\n",
       "          (c_attn): Conv1D()\n",
       "          (c_proj): Conv1D()\n",
       "          (attn_dropout): Dropout(p=0.1, inplace=False)\n",
       "          (resid_dropout): Dropout(p=0.1, inplace=False)\n",
       "        )\n",
       "        (ln_2): LayerNorm((768,), eps=1e-05, elementwise_affine=True)\n",
       "        (mlp): MLP(\n",
       "          (c_fc): Conv1D()\n",
       "          (c_proj): Conv1D()\n",
       "          (dropout): Dropout(p=0.1, inplace=False)\n",
       "        )\n",
       "      )\n",
       "      (2): Block(\n",
       "        (ln_1): LayerNorm((768,), eps=1e-05, elementwise_affine=True)\n",
       "        (attn): Attention(\n",
       "          (c_attn): Conv1D()\n",
       "          (c_proj): Conv1D()\n",
       "          (attn_dropout): Dropout(p=0.1, inplace=False)\n",
       "          (resid_dropout): Dropout(p=0.1, inplace=False)\n",
       "        )\n",
       "        (ln_2): LayerNorm((768,), eps=1e-05, elementwise_affine=True)\n",
       "        (mlp): MLP(\n",
       "          (c_fc): Conv1D()\n",
       "          (c_proj): Conv1D()\n",
       "          (dropout): Dropout(p=0.1, inplace=False)\n",
       "        )\n",
       "      )\n",
       "      (3): Block(\n",
       "        (ln_1): LayerNorm((768,), eps=1e-05, elementwise_affine=True)\n",
       "        (attn): Attention(\n",
       "          (c_attn): Conv1D()\n",
       "          (c_proj): Conv1D()\n",
       "          (attn_dropout): Dropout(p=0.1, inplace=False)\n",
       "          (resid_dropout): Dropout(p=0.1, inplace=False)\n",
       "        )\n",
       "        (ln_2): LayerNorm((768,), eps=1e-05, elementwise_affine=True)\n",
       "        (mlp): MLP(\n",
       "          (c_fc): Conv1D()\n",
       "          (c_proj): Conv1D()\n",
       "          (dropout): Dropout(p=0.1, inplace=False)\n",
       "        )\n",
       "      )\n",
       "      (4): Block(\n",
       "        (ln_1): LayerNorm((768,), eps=1e-05, elementwise_affine=True)\n",
       "        (attn): Attention(\n",
       "          (c_attn): Conv1D()\n",
       "          (c_proj): Conv1D()\n",
       "          (attn_dropout): Dropout(p=0.1, inplace=False)\n",
       "          (resid_dropout): Dropout(p=0.1, inplace=False)\n",
       "        )\n",
       "        (ln_2): LayerNorm((768,), eps=1e-05, elementwise_affine=True)\n",
       "        (mlp): MLP(\n",
       "          (c_fc): Conv1D()\n",
       "          (c_proj): Conv1D()\n",
       "          (dropout): Dropout(p=0.1, inplace=False)\n",
       "        )\n",
       "      )\n",
       "      (5): Block(\n",
       "        (ln_1): LayerNorm((768,), eps=1e-05, elementwise_affine=True)\n",
       "        (attn): Attention(\n",
       "          (c_attn): Conv1D()\n",
       "          (c_proj): Conv1D()\n",
       "          (attn_dropout): Dropout(p=0.1, inplace=False)\n",
       "          (resid_dropout): Dropout(p=0.1, inplace=False)\n",
       "        )\n",
       "        (ln_2): LayerNorm((768,), eps=1e-05, elementwise_affine=True)\n",
       "        (mlp): MLP(\n",
       "          (c_fc): Conv1D()\n",
       "          (c_proj): Conv1D()\n",
       "          (dropout): Dropout(p=0.1, inplace=False)\n",
       "        )\n",
       "      )\n",
       "      (6): Block(\n",
       "        (ln_1): LayerNorm((768,), eps=1e-05, elementwise_affine=True)\n",
       "        (attn): Attention(\n",
       "          (c_attn): Conv1D()\n",
       "          (c_proj): Conv1D()\n",
       "          (attn_dropout): Dropout(p=0.1, inplace=False)\n",
       "          (resid_dropout): Dropout(p=0.1, inplace=False)\n",
       "        )\n",
       "        (ln_2): LayerNorm((768,), eps=1e-05, elementwise_affine=True)\n",
       "        (mlp): MLP(\n",
       "          (c_fc): Conv1D()\n",
       "          (c_proj): Conv1D()\n",
       "          (dropout): Dropout(p=0.1, inplace=False)\n",
       "        )\n",
       "      )\n",
       "      (7): Block(\n",
       "        (ln_1): LayerNorm((768,), eps=1e-05, elementwise_affine=True)\n",
       "        (attn): Attention(\n",
       "          (c_attn): Conv1D()\n",
       "          (c_proj): Conv1D()\n",
       "          (attn_dropout): Dropout(p=0.1, inplace=False)\n",
       "          (resid_dropout): Dropout(p=0.1, inplace=False)\n",
       "        )\n",
       "        (ln_2): LayerNorm((768,), eps=1e-05, elementwise_affine=True)\n",
       "        (mlp): MLP(\n",
       "          (c_fc): Conv1D()\n",
       "          (c_proj): Conv1D()\n",
       "          (dropout): Dropout(p=0.1, inplace=False)\n",
       "        )\n",
       "      )\n",
       "      (8): Block(\n",
       "        (ln_1): LayerNorm((768,), eps=1e-05, elementwise_affine=True)\n",
       "        (attn): Attention(\n",
       "          (c_attn): Conv1D()\n",
       "          (c_proj): Conv1D()\n",
       "          (attn_dropout): Dropout(p=0.1, inplace=False)\n",
       "          (resid_dropout): Dropout(p=0.1, inplace=False)\n",
       "        )\n",
       "        (ln_2): LayerNorm((768,), eps=1e-05, elementwise_affine=True)\n",
       "        (mlp): MLP(\n",
       "          (c_fc): Conv1D()\n",
       "          (c_proj): Conv1D()\n",
       "          (dropout): Dropout(p=0.1, inplace=False)\n",
       "        )\n",
       "      )\n",
       "      (9): Block(\n",
       "        (ln_1): LayerNorm((768,), eps=1e-05, elementwise_affine=True)\n",
       "        (attn): Attention(\n",
       "          (c_attn): Conv1D()\n",
       "          (c_proj): Conv1D()\n",
       "          (attn_dropout): Dropout(p=0.1, inplace=False)\n",
       "          (resid_dropout): Dropout(p=0.1, inplace=False)\n",
       "        )\n",
       "        (ln_2): LayerNorm((768,), eps=1e-05, elementwise_affine=True)\n",
       "        (mlp): MLP(\n",
       "          (c_fc): Conv1D()\n",
       "          (c_proj): Conv1D()\n",
       "          (dropout): Dropout(p=0.1, inplace=False)\n",
       "        )\n",
       "      )\n",
       "      (10): Block(\n",
       "        (ln_1): LayerNorm((768,), eps=1e-05, elementwise_affine=True)\n",
       "        (attn): Attention(\n",
       "          (c_attn): Conv1D()\n",
       "          (c_proj): Conv1D()\n",
       "          (attn_dropout): Dropout(p=0.1, inplace=False)\n",
       "          (resid_dropout): Dropout(p=0.1, inplace=False)\n",
       "        )\n",
       "        (ln_2): LayerNorm((768,), eps=1e-05, elementwise_affine=True)\n",
       "        (mlp): MLP(\n",
       "          (c_fc): Conv1D()\n",
       "          (c_proj): Conv1D()\n",
       "          (dropout): Dropout(p=0.1, inplace=False)\n",
       "        )\n",
       "      )\n",
       "      (11): Block(\n",
       "        (ln_1): LayerNorm((768,), eps=1e-05, elementwise_affine=True)\n",
       "        (attn): Attention(\n",
       "          (c_attn): Conv1D()\n",
       "          (c_proj): Conv1D()\n",
       "          (attn_dropout): Dropout(p=0.1, inplace=False)\n",
       "          (resid_dropout): Dropout(p=0.1, inplace=False)\n",
       "        )\n",
       "        (ln_2): LayerNorm((768,), eps=1e-05, elementwise_affine=True)\n",
       "        (mlp): MLP(\n",
       "          (c_fc): Conv1D()\n",
       "          (c_proj): Conv1D()\n",
       "          (dropout): Dropout(p=0.1, inplace=False)\n",
       "        )\n",
       "      )\n",
       "    )\n",
       "    (ln_f): LayerNorm((768,), eps=1e-05, elementwise_affine=True)\n",
       "  )\n",
       "  (lm_head): Linear(in_features=768, out_features=50257, bias=False)\n",
       ")"
      ]
     },
     "execution_count": 27,
     "metadata": {},
     "output_type": "execute_result"
    }
   ],
   "source": [
    "# load pretrained GPT2\n",
    "tokenizer = add_special_tokens()\n",
    "ignore_idx = tokenizer.pad_token_id\n",
    "model = GPT2LMHeadModel.from_pretrained('gpt2')\n",
    "model.resize_token_embeddings(len(tokenizer))\n",
    "model.to(args.device)"
   ]
  },
  {
   "cell_type": "code",
   "execution_count": 28,
   "metadata": {
    "jupyter": {
     "outputs_hidden": true
    }
   },
   "outputs": [
    {
     "name": "stderr",
     "output_type": "stream",
     "text": [
      "/tmp/ipykernel_112445/3345265682.py:21: TqdmDeprecationWarning: Please use `tqdm.notebook.trange` instead of `tqdm.tnrange`\n",
      "  train_iterator = tnrange(int(args.num_train_epochs), desc=\"Epoch\")\n"
     ]
    },
    {
     "data": {
      "application/vnd.jupyter.widget-view+json": {
       "model_id": "4e28c2526ab242c68d9d5b300703bab7",
       "version_major": 2,
       "version_minor": 0
      },
      "text/plain": [
       "Epoch:   0%|          | 0/5 [00:00<?, ?it/s]"
      ]
     },
     "metadata": {},
     "output_type": "display_data"
    },
    {
     "name": "stderr",
     "output_type": "stream",
     "text": [
      "/tmp/ipykernel_112445/3345265682.py:24: TqdmDeprecationWarning: This function will be removed in tqdm==5.0.0\n",
      "Please use `tqdm.notebook.tqdm` instead of `tqdm.tqdm_notebook`\n",
      "  epoch_iterator = tqdm_notebook(train_dl, desc=\"Training\")\n"
     ]
    },
    {
     "data": {
      "application/vnd.jupyter.widget-view+json": {
       "model_id": "6f6026df60f243c199ce6f1941f77218",
       "version_major": 2,
       "version_minor": 0
      },
      "text/plain": [
       "Training:   0%|          | 0/6100 [00:00<?, ?it/s]"
      ]
     },
     "metadata": {},
     "output_type": "display_data"
    },
    {
     "name": "stdout",
     "output_type": "stream",
     "text": [
      "loss: 2.182373523712158\n",
      "\n",
      "After 1st update: \n",
      "\n"
     ]
    },
    {
     "data": {
      "application/vnd.jupyter.widget-view+json": {
       "model_id": "d72feef6b6a04bbc8279365f704818b4",
       "version_major": 2,
       "version_minor": 0
      },
      "text/plain": [
       "  0%|          | 0/100 [00:00<?, ?it/s]"
      ]
     },
     "metadata": {},
     "output_type": "display_data"
    },
    {
     "name": "stdout",
     "output_type": "stream",
     "text": [
      "new_article\n",
      "\n",
      "We report the cDNA deduced primary structure of a wheat germ agglutinin-reactive nuclear pore complex (NPC) protein of rat. The protein, termed Nup98 (for nucleoporin of 98 kDa), contains numerous GLFG and FG repeats and some FXFG repeats and is thus a vertebrate member of a family of GLFG nucleoporins that were previously discovered in yeast. Immunoelectron microscopy showed Nup98 to be asymmetrically located at the nucleoplasmic side of the NPC. Nup98 functions as one of several docking site nucleoporins in a cytosolic docking activity-mediated binding of a model transport substrate. The docking site of Nup98 was mapped to its N-terminal half, which contains all of the peptide repeats. A recombinant segment of this region depleted the docking activity of cytosol. We suggest that the peptide repeat domain of Nup98, together with peptide repeat domains of other nucleoporins, forms an array of sites for mediated docking of transport substrate, and that bidirectional transport across the NPC proceeds by repeated docking and undocking reactions.\n",
      "\n",
      "generated_summary\n",
      "\n",
      "<|pad|><|pad|><|pad|><|pad|><|pad|><|pad|><|pad|><|pad|><|pad|><|pad|><|pad|><|pad|><|pad|><|pad|><|pad|><|pad|><|pad|><|pad|><|pad|><|pad|><|pad|><|pad|><|pad|><|pad|><|pad|><|pad|><|pad|><|pad|><|pad|><|pad|><|pad|><|pad|><|pad|><|pad|><|pad|><|pad|><|pad|><|pad|><|pad|><|pad|><|pad|><|pad|><|pad|><|pad|><|pad|><|pad|><|pad|><|pad|><|pad|><|pad|><|pad|><|pad|><|pad|><|pad|><|pad|><|pad|><|pad|><|pad|><|pad|><|pad|><|pad|><|pad|><|pad|><|pad|><|pad|><|pad|><|pad|><|pad|><|pad|><|pad|><|pad|><|pad|><|pad|><|pad|><|pad|><|pad|><|pad|><|pad|><|pad|><|pad|><|pad|><|pad|><|pad|><|pad|><|pad|><|pad|><|pad|><|pad|><|pad|><|pad|><|pad|><|pad|><|pad|><|pad|><|pad|><|pad|><|pad|><|pad|><|pad|><|pad|>\n",
      "\n",
      "actual_summary\n",
      "\n",
      "The peptide repeat domain of nucleoporin Nup98 functions as a docking site in transport across the nuclear pore complex.NUP98 enables transporter activity. <|pad|> <|pad|> <|pad|> <|pad|> <|pad|> <|pad|> <|pad|> <|pad|> <|pad|> <|pad|> <|pad|> <|pad|> <|pad|> <|pad|> <|pad|> <|pad|> <|pad|> <|pad|> <|pad|> <|pad|> <|pad|> <|pad|> <|pad|> <|pad|> <|pad|> <|pad|> <|pad|> <|pad|> <|pad|> <|pad|> <|pad|> <|pad|> <|pad|> <|pad|> <|pad|> <|pad|> <|pad|> <|pad|> <|pad|> <|pad|> <|pad|> <|pad|> <|pad|> <|pad|> <|pad|> <|pad|> <|pad|> <|pad|> <|pad|> <|pad|> <|pad|> <|pad|> <|pad|> <|pad|> <|pad|> <|pad|> <|pad|> <|pad|> <|pad|> <|pad|> <|pad|> <|pad|> <|pad|> <|pad|> <|pad|> <|pad|>\n",
      "\n"
     ]
    },
    {
     "data": {
      "application/vnd.jupyter.widget-view+json": {
       "model_id": "05e27623cc554342908ea91a4028b356",
       "version_major": 2,
       "version_minor": 0
      },
      "text/plain": [
       "  0%|          | 0/100 [00:00<?, ?it/s]"
      ]
     },
     "metadata": {},
     "output_type": "display_data"
    },
    {
     "name": "stdout",
     "output_type": "stream",
     "text": [
      "new_article\n",
      "\n",
      "The cellular effects of stromal cell-derived factor-1 (SDF-1) are mediated primarily by binding to the CXC chemokine receptor-4. We report in this study that SDF-1 and its peptide analogues induce a concentration- and time-dependent accumulation of phosphatidylinositol-(3,4,5)-trisphosphate (PtdIns(3,4,5)P3) in Jurkat cells. This SDF-1-stimulated generation of D-3 phosphoinositide lipids was inhibited by pretreatment of the cells with an SDF-1 peptide antagonist or an anti-CXCR4 Ab. In addition, the phosphoinositide 3 (PI 3)-kinase inhibitors wortmannin and LY294002, as well as the Gi protein inhibitor pertussis toxin, also inhibited the SDF-1-stimulated accumulation of PtdIns(3,4,5)P3. The effects of SDF-1 on D-3 phosphoinositide lipid accumulation correlated well with activation of the known PI 3-kinase effector protein kinase B, which was also inhibited by wortmannin and pertussis toxin. Concentrations of PI 3-kinase inhibitors, sufficient to inhibit PtdIns(3,4,5)P3 accumulation, also inhibited chemotaxis of Jurkat and peripheral blood-derived T lymphocytes in response to SDF-1. In contrast, SDF-1-stimulated actin polymerization was only partially inhibited by PI 3-kinase inhibitors, suggesting that while chemotaxis is fully dependent on PI 3-kinase activation, actin polymerization requires additional biochemical inputs. Finally, SDF-1-stimulated extracellular signal-related kinase (ERK)-1/2 mitogen-activated protein kinase activation was inhibited by PI 3-kinase inhibitors. In addition, the mitogen-activated protein/ERK kinase inhibitor PD098059 partially attenuated chemotaxis in response to SDF-1. Hence, it appears that ERK1/2 activation is dependent on PI 3-kinase activation, and both biochemical events are involved in the regulation of SDF-1-stimulated chemotaxis.\n",
      "\n",
      "generated_summary\n",
      "\n",
      "<|pad|><|pad|><|pad|><|pad|><|pad|><|pad|><|pad|><|pad|><|pad|><|pad|><|pad|><|pad|><|pad|><|pad|><|pad|><|pad|><|pad|><|pad|><|pad|><|pad|><|pad|><|pad|><|pad|><|pad|><|pad|><|pad|><|pad|><|pad|><|pad|><|pad|><|pad|><|pad|><|pad|><|pad|><|pad|>\n",
      "<|sep|><|pad|><|pad|><|pad|><|pad|><|pad|><|pad|><|pad|><|pad|><|pad|><|pad|>\n",
      "<|pad|><|pad|><|pad|> v<|pad|><|pad|><|pad|><|pad|><|pad|><|pad|><|pad|><|pad|><|pad|><|pad|><|pad|><|pad|> v<|pad|><|pad|><|pad|> State<|pad|><|pad|><|pad|><|pad|><|pad|><|pad|><|pad|><|pad|><|pad|><|pad|><|pad|><|pad|><|pad|><|pad|><|pad|><|pad|><|pad|><|pad|><|pad|><|pad|><|pad|><|pad|><|pad|><|pad|><|pad|><|pad|><|pad|><|pad|><|pad|><|pad|><|pad|>\n",
      "\n",
      "actual_summary\n",
      "\n",
      "The CXC chemokine stromal cell-derived factor activates a Gi-coupled phosphoinositide 3-kinase in T lymphocytes.AKT1 enables protein kinase activity; involved_in G protein-coupled receptor signaling pathway. <|pad|> <|pad|> <|pad|> <|pad|> <|pad|> <|pad|> <|pad|> <|pad|> <|pad|> <|pad|> <|pad|> <|pad|> <|pad|> <|pad|> <|pad|> <|pad|> <|pad|> <|pad|> <|pad|> <|pad|> <|pad|> <|pad|> <|pad|> <|pad|> <|pad|> <|pad|> <|pad|> <|pad|> <|pad|> <|pad|> <|pad|> <|pad|> <|pad|> <|pad|> <|pad|> <|pad|> <|pad|> <|pad|> <|pad|> <|pad|> <|pad|> <|pad|> <|pad|> <|pad|>\n",
      "\n",
      "loss: 1.7511532306671143\n",
      "\n",
      "loss: 2.183806896209717\n",
      "\n",
      "loss: 1.9774320125579834\n",
      "\n",
      "loss: 2.2312490940093994\n",
      "\n",
      "loss: 1.9772464036941528\n",
      "\n",
      "loss: 2.7502880096435547\n",
      "\n",
      "loss: 1.9760916233062744\n",
      "\n",
      "loss: 2.2894740104675293\n",
      "\n",
      "loss: 2.757991075515747\n",
      "\n"
     ]
    },
    {
     "name": "stderr",
     "output_type": "stream",
     "text": [
      "/tmp/ipykernel_112445/1654609935.py:23: TqdmDeprecationWarning: This function will be removed in tqdm==5.0.0\n",
      "Please use `tqdm.notebook.tqdm` instead of `tqdm.tqdm_notebook`\n",
      "  for batch in tqdm_notebook(eval_dataloader, desc=\"Evaluating\"):\n"
     ]
    },
    {
     "data": {
      "application/vnd.jupyter.widget-view+json": {
       "model_id": "8f9d173a00374de6abcf8008ed6a63b9",
       "version_major": 2,
       "version_minor": 0
      },
      "text/plain": [
       "Evaluating:   0%|          | 0/770 [00:00<?, ?it/s]"
      ]
     },
     "metadata": {},
     "output_type": "display_data"
    },
    {
     "name": "stdout",
     "output_type": "stream",
     "text": [
      "perplexity: 3.5872274409837884e+33\n",
      "After 11 updates: \n",
      "\n"
     ]
    },
    {
     "data": {
      "application/vnd.jupyter.widget-view+json": {
       "model_id": "9d833a59e4f14bdbb782f4a1c3040963",
       "version_major": 2,
       "version_minor": 0
      },
      "text/plain": [
       "  0%|          | 0/100 [00:00<?, ?it/s]"
      ]
     },
     "metadata": {},
     "output_type": "display_data"
    },
    {
     "name": "stdout",
     "output_type": "stream",
     "text": [
      "We report the cDNA deduced primary structure of a wheat germ agglutinin-reactive nuclear pore complex (NPC) protein of rat. The protein, termed Nup98 (for nucleoporin of 98 kDa), contains numerous GLFG and FG repeats and some FXFG repeats and is thus a vertebrate member of a family of GLFG nucleoporins that were previously discovered in yeast. Immunoelectron microscopy showed Nup98 to be asymmetrically located at the nucleoplasmic side of the NPC. Nup98 functions as one of several docking site nucleoporins in a cytosolic docking activity-mediated binding of a model transport substrate. The docking site of Nup98 was mapped to its N-terminal half, which contains all of the peptide repeats. A recombinant segment of this region depleted the docking activity of cytosol. We suggest that the peptide repeat domain of Nup98, together with peptide repeat domains of other nucleoporins, forms an array of sites for mediated docking of transport substrate, and that bidirectional transport across the NPC proceeds by repeated docking and undocking reactions.\n",
      "\n",
      "generated_summary\n",
      "\n"
     ]
    },
    {
     "data": {
      "application/vnd.jupyter.widget-view+json": {
       "model_id": "10bf15f9c65d4193b9f3c06c186afe02",
       "version_major": 2,
       "version_minor": 0
      },
      "text/plain": [
       "  0%|          | 0/100 [00:00<?, ?it/s]"
      ]
     },
     "metadata": {},
     "output_type": "display_data"
    },
    {
     "name": "stdout",
     "output_type": "stream",
     "text": [
      "The cellular effects of stromal cell-derived factor-1 (SDF-1) are mediated primarily by binding to the CXC chemokine receptor-4. We report in this study that SDF-1 and its peptide analogues induce a concentration- and time-dependent accumulation of phosphatidylinositol-(3,4,5)-trisphosphate (PtdIns(3,4,5)P3) in Jurkat cells. This SDF-1-stimulated generation of D-3 phosphoinositide lipids was inhibited by pretreatment of the cells with an SDF-1 peptide antagonist or an anti-CXCR4 Ab. In addition, the phosphoinositide 3 (PI 3)-kinase inhibitors wortmannin and LY294002, as well as the Gi protein inhibitor pertussis toxin, also inhibited the SDF-1-stimulated accumulation of PtdIns(3,4,5)P3. The effects of SDF-1 on D-3 phosphoinositide lipid accumulation correlated well with activation of the known PI 3-kinase effector protein kinase B, which was also inhibited by wortmannin and pertussis toxin. Concentrations of PI 3-kinase inhibitors, sufficient to inhibit PtdIns(3,4,5)P3 accumulation, also inhibited chemotaxis of Jurkat and peripheral blood-derived T lymphocytes in response to SDF-1. In contrast, SDF-1-stimulated actin polymerization was only partially inhibited by PI 3-kinase inhibitors, suggesting that while chemotaxis is fully dependent on PI 3-kinase activation, actin polymerization requires additional biochemical inputs. Finally, SDF-1-stimulated extracellular signal-related kinase (ERK)-1/2 mitogen-activated protein kinase activation was inhibited by PI 3-kinase inhibitors. In addition, the mitogen-activated protein/ERK kinase inhibitor PD098059 partially attenuated chemotaxis in response to SDF-1. Hence, it appears that ERK1/2 activation is dependent on PI 3-kinase activation, and both biochemical events are involved in the regulation of SDF-1-stimulated chemotaxis.\n",
      "\n",
      "generated_summary\n",
      "\n",
      "loss: 1.802634596824646\n",
      "\n",
      "loss: 2.041161060333252\n",
      "\n",
      "loss: 2.307692766189575\n",
      "\n",
      "loss: 1.9128838777542114\n",
      "\n",
      "loss: 2.4147515296936035\n",
      "\n",
      "loss: 1.9689419269561768\n",
      "\n",
      "loss: 1.7191029787063599\n",
      "\n",
      "loss: 1.6307100057601929\n",
      "\n",
      "loss: 1.8065321445465088\n",
      "\n",
      "loss: 2.0416698455810547\n",
      "\n"
     ]
    },
    {
     "data": {
      "application/vnd.jupyter.widget-view+json": {
       "model_id": "e6e09afc84c9463785b2aa599f787fa9",
       "version_major": 2,
       "version_minor": 0
      },
      "text/plain": [
       "Evaluating:   0%|          | 0/770 [00:00<?, ?it/s]"
      ]
     },
     "metadata": {},
     "output_type": "display_data"
    },
    {
     "name": "stdout",
     "output_type": "stream",
     "text": [
      "perplexity: 8.150366549941721e+27\n",
      "After 21 updates: \n",
      "\n"
     ]
    },
    {
     "data": {
      "application/vnd.jupyter.widget-view+json": {
       "model_id": "843c35263ede4ccaa61a424f943994c0",
       "version_major": 2,
       "version_minor": 0
      },
      "text/plain": [
       "  0%|          | 0/100 [00:00<?, ?it/s]"
      ]
     },
     "metadata": {},
     "output_type": "display_data"
    },
    {
     "name": "stdout",
     "output_type": "stream",
     "text": [
      "We report the cDNA deduced primary structure of a wheat germ agglutinin-reactive nuclear pore complex (NPC) protein of rat. The protein, termed Nup98 (for nucleoporin of 98 kDa), contains numerous GLFG and FG repeats and some FXFG repeats and is thus a vertebrate member of a family of GLFG nucleoporins that were previously discovered in yeast. Immunoelectron microscopy showed Nup98 to be asymmetrically located at the nucleoplasmic side of the NPC. Nup98 functions as one of several docking site nucleoporins in a cytosolic docking activity-mediated binding of a model transport substrate. The docking site of Nup98 was mapped to its N-terminal half, which contains all of the peptide repeats. A recombinant segment of this region depleted the docking activity of cytosol. We suggest that the peptide repeat domain of Nup98, together with peptide repeat domains of other nucleoporins, forms an array of sites for mediated docking of transport substrate, and that bidirectional transport across the NPC proceeds by repeated docking and undocking reactions.\n",
      "\n",
      "generated_summary\n",
      "\n"
     ]
    },
    {
     "data": {
      "application/vnd.jupyter.widget-view+json": {
       "model_id": "39c14cbe13994a5091a022bebdd8fa01",
       "version_major": 2,
       "version_minor": 0
      },
      "text/plain": [
       "  0%|          | 0/100 [00:00<?, ?it/s]"
      ]
     },
     "metadata": {},
     "output_type": "display_data"
    },
    {
     "name": "stdout",
     "output_type": "stream",
     "text": [
      "The cellular effects of stromal cell-derived factor-1 (SDF-1) are mediated primarily by binding to the CXC chemokine receptor-4. We report in this study that SDF-1 and its peptide analogues induce a concentration- and time-dependent accumulation of phosphatidylinositol-(3,4,5)-trisphosphate (PtdIns(3,4,5)P3) in Jurkat cells. This SDF-1-stimulated generation of D-3 phosphoinositide lipids was inhibited by pretreatment of the cells with an SDF-1 peptide antagonist or an anti-CXCR4 Ab. In addition, the phosphoinositide 3 (PI 3)-kinase inhibitors wortmannin and LY294002, as well as the Gi protein inhibitor pertussis toxin, also inhibited the SDF-1-stimulated accumulation of PtdIns(3,4,5)P3. The effects of SDF-1 on D-3 phosphoinositide lipid accumulation correlated well with activation of the known PI 3-kinase effector protein kinase B, which was also inhibited by wortmannin and pertussis toxin. Concentrations of PI 3-kinase inhibitors, sufficient to inhibit PtdIns(3,4,5)P3 accumulation, also inhibited chemotaxis of Jurkat and peripheral blood-derived T lymphocytes in response to SDF-1. In contrast, SDF-1-stimulated actin polymerization was only partially inhibited by PI 3-kinase inhibitors, suggesting that while chemotaxis is fully dependent on PI 3-kinase activation, actin polymerization requires additional biochemical inputs. Finally, SDF-1-stimulated extracellular signal-related kinase (ERK)-1/2 mitogen-activated protein kinase activation was inhibited by PI 3-kinase inhibitors. In addition, the mitogen-activated protein/ERK kinase inhibitor PD098059 partially attenuated chemotaxis in response to SDF-1. Hence, it appears that ERK1/2 activation is dependent on PI 3-kinase activation, and both biochemical events are involved in the regulation of SDF-1-stimulated chemotaxis.\n",
      "\n",
      "generated_summary\n",
      "\n",
      "loss: 1.4253830909729004\n",
      "\n",
      "loss: 2.159527063369751\n",
      "\n",
      "loss: 1.5858856439590454\n",
      "\n",
      "loss: 1.736679196357727\n",
      "\n",
      "loss: 1.765506625175476\n",
      "\n",
      "loss: 1.5746057033538818\n",
      "\n",
      "loss: 1.410372018814087\n",
      "\n",
      "loss: 1.1097074747085571\n",
      "\n",
      "loss: 0.5861837267875671\n",
      "\n",
      "loss: 1.045423150062561\n",
      "\n"
     ]
    },
    {
     "data": {
      "application/vnd.jupyter.widget-view+json": {
       "model_id": "f68d42af37e444f6add46867233e2b69",
       "version_major": 2,
       "version_minor": 0
      },
      "text/plain": [
       "Evaluating:   0%|          | 0/770 [00:00<?, ?it/s]"
      ]
     },
     "metadata": {},
     "output_type": "display_data"
    },
    {
     "name": "stdout",
     "output_type": "stream",
     "text": [
      "perplexity: 6.398019679121572e+17\n",
      "After 31 updates: \n",
      "\n"
     ]
    },
    {
     "data": {
      "application/vnd.jupyter.widget-view+json": {
       "model_id": "41859560ff114cb79e1161f30123705b",
       "version_major": 2,
       "version_minor": 0
      },
      "text/plain": [
       "  0%|          | 0/100 [00:00<?, ?it/s]"
      ]
     },
     "metadata": {},
     "output_type": "display_data"
    },
    {
     "name": "stdout",
     "output_type": "stream",
     "text": [
      "We report the cDNA deduced primary structure of a wheat germ agglutinin-reactive nuclear pore complex (NPC) protein of rat. The protein, termed Nup98 (for nucleoporin of 98 kDa), contains numerous GLFG and FG repeats and some FXFG repeats and is thus a vertebrate member of a family of GLFG nucleoporins that were previously discovered in yeast. Immunoelectron microscopy showed Nup98 to be asymmetrically located at the nucleoplasmic side of the NPC. Nup98 functions as one of several docking site nucleoporins in a cytosolic docking activity-mediated binding of a model transport substrate. The docking site of Nup98 was mapped to its N-terminal half, which contains all of the peptide repeats. A recombinant segment of this region depleted the docking activity of cytosol. We suggest that the peptide repeat domain of Nup98, together with peptide repeat domains of other nucleoporins, forms an array of sites for mediated docking of transport substrate, and that bidirectional transport across the NPC proceeds by repeated docking and undocking reactions.\n",
      "\n",
      "generated_summary\n",
      "\n"
     ]
    },
    {
     "data": {
      "application/vnd.jupyter.widget-view+json": {
       "model_id": "dcb8fde243c84731b6c41db4832711e4",
       "version_major": 2,
       "version_minor": 0
      },
      "text/plain": [
       "  0%|          | 0/100 [00:00<?, ?it/s]"
      ]
     },
     "metadata": {},
     "output_type": "display_data"
    },
    {
     "name": "stdout",
     "output_type": "stream",
     "text": [
      "The cellular effects of stromal cell-derived factor-1 (SDF-1) are mediated primarily by binding to the CXC chemokine receptor-4. We report in this study that SDF-1 and its peptide analogues induce a concentration- and time-dependent accumulation of phosphatidylinositol-(3,4,5)-trisphosphate (PtdIns(3,4,5)P3) in Jurkat cells. This SDF-1-stimulated generation of D-3 phosphoinositide lipids was inhibited by pretreatment of the cells with an SDF-1 peptide antagonist or an anti-CXCR4 Ab. In addition, the phosphoinositide 3 (PI 3)-kinase inhibitors wortmannin and LY294002, as well as the Gi protein inhibitor pertussis toxin, also inhibited the SDF-1-stimulated accumulation of PtdIns(3,4,5)P3. The effects of SDF-1 on D-3 phosphoinositide lipid accumulation correlated well with activation of the known PI 3-kinase effector protein kinase B, which was also inhibited by wortmannin and pertussis toxin. Concentrations of PI 3-kinase inhibitors, sufficient to inhibit PtdIns(3,4,5)P3 accumulation, also inhibited chemotaxis of Jurkat and peripheral blood-derived T lymphocytes in response to SDF-1. In contrast, SDF-1-stimulated actin polymerization was only partially inhibited by PI 3-kinase inhibitors, suggesting that while chemotaxis is fully dependent on PI 3-kinase activation, actin polymerization requires additional biochemical inputs. Finally, SDF-1-stimulated extracellular signal-related kinase (ERK)-1/2 mitogen-activated protein kinase activation was inhibited by PI 3-kinase inhibitors. In addition, the mitogen-activated protein/ERK kinase inhibitor PD098059 partially attenuated chemotaxis in response to SDF-1. Hence, it appears that ERK1/2 activation is dependent on PI 3-kinase activation, and both biochemical events are involved in the regulation of SDF-1-stimulated chemotaxis.\n",
      "\n",
      "generated_summary\n",
      "\n",
      "loss: 0.680566668510437\n",
      "\n",
      "loss: 0.8427926898002625\n",
      "\n",
      "loss: 0.2923811972141266\n",
      "\n",
      "loss: 0.35542482137680054\n",
      "\n",
      "loss: 0.6754963994026184\n",
      "\n",
      "loss: 0.4823858141899109\n",
      "\n",
      "loss: 0.25932541489601135\n",
      "\n",
      "loss: 0.15734758973121643\n",
      "\n",
      "loss: 0.4190657138824463\n",
      "\n",
      "loss: 0.3650631606578827\n",
      "\n"
     ]
    },
    {
     "data": {
      "application/vnd.jupyter.widget-view+json": {
       "model_id": "f8c9ca0b1a534acbb82dd7b6272fa16c",
       "version_major": 2,
       "version_minor": 0
      },
      "text/plain": [
       "Evaluating:   0%|          | 0/770 [00:00<?, ?it/s]"
      ]
     },
     "metadata": {},
     "output_type": "display_data"
    },
    {
     "name": "stdout",
     "output_type": "stream",
     "text": [
      "perplexity: 2651665920.0\n",
      "After 41 updates: \n",
      "\n"
     ]
    },
    {
     "data": {
      "application/vnd.jupyter.widget-view+json": {
       "model_id": "ffe005bdd6d7411a8f682aa26279bf20",
       "version_major": 2,
       "version_minor": 0
      },
      "text/plain": [
       "  0%|          | 0/100 [00:00<?, ?it/s]"
      ]
     },
     "metadata": {},
     "output_type": "display_data"
    },
    {
     "name": "stdout",
     "output_type": "stream",
     "text": [
      "We report the cDNA deduced primary structure of a wheat germ agglutinin-reactive nuclear pore complex (NPC) protein of rat. The protein, termed Nup98 (for nucleoporin of 98 kDa), contains numerous GLFG and FG repeats and some FXFG repeats and is thus a vertebrate member of a family of GLFG nucleoporins that were previously discovered in yeast. Immunoelectron microscopy showed Nup98 to be asymmetrically located at the nucleoplasmic side of the NPC. Nup98 functions as one of several docking site nucleoporins in a cytosolic docking activity-mediated binding of a model transport substrate. The docking site of Nup98 was mapped to its N-terminal half, which contains all of the peptide repeats. A recombinant segment of this region depleted the docking activity of cytosol. We suggest that the peptide repeat domain of Nup98, together with peptide repeat domains of other nucleoporins, forms an array of sites for mediated docking of transport substrate, and that bidirectional transport across the NPC proceeds by repeated docking and undocking reactions.\n",
      "\n",
      "generated_summary\n",
      "\n"
     ]
    },
    {
     "data": {
      "application/vnd.jupyter.widget-view+json": {
       "model_id": "291c3bfad47d4d96bf613378329f5814",
       "version_major": 2,
       "version_minor": 0
      },
      "text/plain": [
       "  0%|          | 0/100 [00:00<?, ?it/s]"
      ]
     },
     "metadata": {},
     "output_type": "display_data"
    },
    {
     "name": "stdout",
     "output_type": "stream",
     "text": [
      "The cellular effects of stromal cell-derived factor-1 (SDF-1) are mediated primarily by binding to the CXC chemokine receptor-4. We report in this study that SDF-1 and its peptide analogues induce a concentration- and time-dependent accumulation of phosphatidylinositol-(3,4,5)-trisphosphate (PtdIns(3,4,5)P3) in Jurkat cells. This SDF-1-stimulated generation of D-3 phosphoinositide lipids was inhibited by pretreatment of the cells with an SDF-1 peptide antagonist or an anti-CXCR4 Ab. In addition, the phosphoinositide 3 (PI 3)-kinase inhibitors wortmannin and LY294002, as well as the Gi protein inhibitor pertussis toxin, also inhibited the SDF-1-stimulated accumulation of PtdIns(3,4,5)P3. The effects of SDF-1 on D-3 phosphoinositide lipid accumulation correlated well with activation of the known PI 3-kinase effector protein kinase B, which was also inhibited by wortmannin and pertussis toxin. Concentrations of PI 3-kinase inhibitors, sufficient to inhibit PtdIns(3,4,5)P3 accumulation, also inhibited chemotaxis of Jurkat and peripheral blood-derived T lymphocytes in response to SDF-1. In contrast, SDF-1-stimulated actin polymerization was only partially inhibited by PI 3-kinase inhibitors, suggesting that while chemotaxis is fully dependent on PI 3-kinase activation, actin polymerization requires additional biochemical inputs. Finally, SDF-1-stimulated extracellular signal-related kinase (ERK)-1/2 mitogen-activated protein kinase activation was inhibited by PI 3-kinase inhibitors. In addition, the mitogen-activated protein/ERK kinase inhibitor PD098059 partially attenuated chemotaxis in response to SDF-1. Hence, it appears that ERK1/2 activation is dependent on PI 3-kinase activation, and both biochemical events are involved in the regulation of SDF-1-stimulated chemotaxis.\n",
      "\n",
      "generated_summary\n",
      "\n",
      "loss: 0.10663644969463348\n",
      "\n",
      "loss: 0.3752042353153229\n",
      "\n",
      "loss: 0.18359853327274323\n",
      "\n",
      "loss: 0.21804025769233704\n",
      "\n",
      "loss: 0.14810730516910553\n",
      "\n",
      "loss: 0.1041565015912056\n",
      "\n",
      "loss: 0.19490011036396027\n",
      "\n",
      "loss: 0.08743731677532196\n",
      "\n",
      "loss: 0.13068382441997528\n",
      "\n",
      "loss: 0.11459934711456299\n",
      "\n"
     ]
    },
    {
     "data": {
      "application/vnd.jupyter.widget-view+json": {
       "model_id": "5d31d834c8164bcebb07dedddf424efe",
       "version_major": 2,
       "version_minor": 0
      },
      "text/plain": [
       "Evaluating:   0%|          | 0/770 [00:00<?, ?it/s]"
      ]
     },
     "metadata": {},
     "output_type": "display_data"
    },
    {
     "name": "stdout",
     "output_type": "stream",
     "text": [
      "perplexity: 41527.3125\n",
      "After 51 updates: \n",
      "\n"
     ]
    },
    {
     "data": {
      "application/vnd.jupyter.widget-view+json": {
       "model_id": "ef9378730b434e92a677e96aed547ba1",
       "version_major": 2,
       "version_minor": 0
      },
      "text/plain": [
       "  0%|          | 0/100 [00:00<?, ?it/s]"
      ]
     },
     "metadata": {},
     "output_type": "display_data"
    },
    {
     "name": "stdout",
     "output_type": "stream",
     "text": [
      "We report the cDNA deduced primary structure of a wheat germ agglutinin-reactive nuclear pore complex (NPC) protein of rat. The protein, termed Nup98 (for nucleoporin of 98 kDa), contains numerous GLFG and FG repeats and some FXFG repeats and is thus a vertebrate member of a family of GLFG nucleoporins that were previously discovered in yeast. Immunoelectron microscopy showed Nup98 to be asymmetrically located at the nucleoplasmic side of the NPC. Nup98 functions as one of several docking site nucleoporins in a cytosolic docking activity-mediated binding of a model transport substrate. The docking site of Nup98 was mapped to its N-terminal half, which contains all of the peptide repeats. A recombinant segment of this region depleted the docking activity of cytosol. We suggest that the peptide repeat domain of Nup98, together with peptide repeat domains of other nucleoporins, forms an array of sites for mediated docking of transport substrate, and that bidirectional transport across the NPC proceeds by repeated docking and undocking reactions.\n",
      "\n",
      "generated_summary\n",
      "\n"
     ]
    },
    {
     "data": {
      "application/vnd.jupyter.widget-view+json": {
       "model_id": "59021db0c5ed46798579a915b7ceb85d",
       "version_major": 2,
       "version_minor": 0
      },
      "text/plain": [
       "  0%|          | 0/100 [00:00<?, ?it/s]"
      ]
     },
     "metadata": {},
     "output_type": "display_data"
    },
    {
     "name": "stdout",
     "output_type": "stream",
     "text": [
      "The cellular effects of stromal cell-derived factor-1 (SDF-1) are mediated primarily by binding to the CXC chemokine receptor-4. We report in this study that SDF-1 and its peptide analogues induce a concentration- and time-dependent accumulation of phosphatidylinositol-(3,4,5)-trisphosphate (PtdIns(3,4,5)P3) in Jurkat cells. This SDF-1-stimulated generation of D-3 phosphoinositide lipids was inhibited by pretreatment of the cells with an SDF-1 peptide antagonist or an anti-CXCR4 Ab. In addition, the phosphoinositide 3 (PI 3)-kinase inhibitors wortmannin and LY294002, as well as the Gi protein inhibitor pertussis toxin, also inhibited the SDF-1-stimulated accumulation of PtdIns(3,4,5)P3. The effects of SDF-1 on D-3 phosphoinositide lipid accumulation correlated well with activation of the known PI 3-kinase effector protein kinase B, which was also inhibited by wortmannin and pertussis toxin. Concentrations of PI 3-kinase inhibitors, sufficient to inhibit PtdIns(3,4,5)P3 accumulation, also inhibited chemotaxis of Jurkat and peripheral blood-derived T lymphocytes in response to SDF-1. In contrast, SDF-1-stimulated actin polymerization was only partially inhibited by PI 3-kinase inhibitors, suggesting that while chemotaxis is fully dependent on PI 3-kinase activation, actin polymerization requires additional biochemical inputs. Finally, SDF-1-stimulated extracellular signal-related kinase (ERK)-1/2 mitogen-activated protein kinase activation was inhibited by PI 3-kinase inhibitors. In addition, the mitogen-activated protein/ERK kinase inhibitor PD098059 partially attenuated chemotaxis in response to SDF-1. Hence, it appears that ERK1/2 activation is dependent on PI 3-kinase activation, and both biochemical events are involved in the regulation of SDF-1-stimulated chemotaxis.\n",
      "\n",
      "generated_summary\n",
      "\n",
      "loss: 0.12141363322734833\n",
      "\n",
      "loss: 0.10207749158143997\n",
      "\n",
      "loss: 0.14215964078903198\n",
      "\n",
      "loss: 0.14620019495487213\n",
      "\n",
      "loss: 0.1323898881673813\n",
      "\n",
      "loss: 0.12059364467859268\n",
      "\n",
      "loss: 0.13290339708328247\n",
      "\n",
      "loss: 0.1304747313261032\n",
      "\n",
      "loss: 0.11985968798398972\n",
      "\n",
      "loss: 0.10582039505243301\n",
      "\n"
     ]
    },
    {
     "data": {
      "application/vnd.jupyter.widget-view+json": {
       "model_id": "df29b9ba5fda4dd4b5e2af5cb401b662",
       "version_major": 2,
       "version_minor": 0
      },
      "text/plain": [
       "Evaluating:   0%|          | 0/770 [00:00<?, ?it/s]"
      ]
     },
     "metadata": {},
     "output_type": "display_data"
    },
    {
     "name": "stdout",
     "output_type": "stream",
     "text": [
      "perplexity: 809.4402465820312\n",
      "After 61 updates: \n",
      "\n"
     ]
    },
    {
     "data": {
      "application/vnd.jupyter.widget-view+json": {
       "model_id": "c81af2d19591493082bbaf30e2b251f3",
       "version_major": 2,
       "version_minor": 0
      },
      "text/plain": [
       "  0%|          | 0/100 [00:00<?, ?it/s]"
      ]
     },
     "metadata": {},
     "output_type": "display_data"
    },
    {
     "name": "stdout",
     "output_type": "stream",
     "text": [
      "We report the cDNA deduced primary structure of a wheat germ agglutinin-reactive nuclear pore complex (NPC) protein of rat. The protein, termed Nup98 (for nucleoporin of 98 kDa), contains numerous GLFG and FG repeats and some FXFG repeats and is thus a vertebrate member of a family of GLFG nucleoporins that were previously discovered in yeast. Immunoelectron microscopy showed Nup98 to be asymmetrically located at the nucleoplasmic side of the NPC. Nup98 functions as one of several docking site nucleoporins in a cytosolic docking activity-mediated binding of a model transport substrate. The docking site of Nup98 was mapped to its N-terminal half, which contains all of the peptide repeats. A recombinant segment of this region depleted the docking activity of cytosol. We suggest that the peptide repeat domain of Nup98, together with peptide repeat domains of other nucleoporins, forms an array of sites for mediated docking of transport substrate, and that bidirectional transport across the NPC proceeds by repeated docking and undocking reactions.\n",
      "\n",
      "generated_summary\n",
      "\n"
     ]
    },
    {
     "data": {
      "application/vnd.jupyter.widget-view+json": {
       "model_id": "d312b2bf0843427d9ff33cee4b4a7011",
       "version_major": 2,
       "version_minor": 0
      },
      "text/plain": [
       "  0%|          | 0/100 [00:00<?, ?it/s]"
      ]
     },
     "metadata": {},
     "output_type": "display_data"
    },
    {
     "name": "stdout",
     "output_type": "stream",
     "text": [
      "The cellular effects of stromal cell-derived factor-1 (SDF-1) are mediated primarily by binding to the CXC chemokine receptor-4. We report in this study that SDF-1 and its peptide analogues induce a concentration- and time-dependent accumulation of phosphatidylinositol-(3,4,5)-trisphosphate (PtdIns(3,4,5)P3) in Jurkat cells. This SDF-1-stimulated generation of D-3 phosphoinositide lipids was inhibited by pretreatment of the cells with an SDF-1 peptide antagonist or an anti-CXCR4 Ab. In addition, the phosphoinositide 3 (PI 3)-kinase inhibitors wortmannin and LY294002, as well as the Gi protein inhibitor pertussis toxin, also inhibited the SDF-1-stimulated accumulation of PtdIns(3,4,5)P3. The effects of SDF-1 on D-3 phosphoinositide lipid accumulation correlated well with activation of the known PI 3-kinase effector protein kinase B, which was also inhibited by wortmannin and pertussis toxin. Concentrations of PI 3-kinase inhibitors, sufficient to inhibit PtdIns(3,4,5)P3 accumulation, also inhibited chemotaxis of Jurkat and peripheral blood-derived T lymphocytes in response to SDF-1. In contrast, SDF-1-stimulated actin polymerization was only partially inhibited by PI 3-kinase inhibitors, suggesting that while chemotaxis is fully dependent on PI 3-kinase activation, actin polymerization requires additional biochemical inputs. Finally, SDF-1-stimulated extracellular signal-related kinase (ERK)-1/2 mitogen-activated protein kinase activation was inhibited by PI 3-kinase inhibitors. In addition, the mitogen-activated protein/ERK kinase inhibitor PD098059 partially attenuated chemotaxis in response to SDF-1. Hence, it appears that ERK1/2 activation is dependent on PI 3-kinase activation, and both biochemical events are involved in the regulation of SDF-1-stimulated chemotaxis.\n",
      "\n",
      "generated_summary\n",
      "\n",
      "loss: 0.08503137528896332\n",
      "\n",
      "loss: 0.10471385717391968\n",
      "\n",
      "loss: 0.0750546082854271\n",
      "\n",
      "loss: 0.09824756532907486\n",
      "\n",
      "loss: 0.09194491803646088\n",
      "\n",
      "loss: 0.12409786880016327\n",
      "\n",
      "loss: 0.11031969636678696\n",
      "\n",
      "loss: 0.116455078125\n",
      "\n",
      "loss: 0.11065362393856049\n",
      "\n",
      "loss: 0.14254949986934662\n",
      "\n"
     ]
    },
    {
     "data": {
      "application/vnd.jupyter.widget-view+json": {
       "model_id": "f784b15257e648569c328990b806598a",
       "version_major": 2,
       "version_minor": 0
      },
      "text/plain": [
       "Evaluating:   0%|          | 0/770 [00:00<?, ?it/s]"
      ]
     },
     "metadata": {},
     "output_type": "display_data"
    },
    {
     "name": "stdout",
     "output_type": "stream",
     "text": [
      "perplexity: 104.55363464355469\n",
      "After 71 updates: \n",
      "\n"
     ]
    },
    {
     "data": {
      "application/vnd.jupyter.widget-view+json": {
       "model_id": "f0f541bca0d74ce3b46b5e8aec60909e",
       "version_major": 2,
       "version_minor": 0
      },
      "text/plain": [
       "  0%|          | 0/100 [00:00<?, ?it/s]"
      ]
     },
     "metadata": {},
     "output_type": "display_data"
    },
    {
     "name": "stdout",
     "output_type": "stream",
     "text": [
      "We report the cDNA deduced primary structure of a wheat germ agglutinin-reactive nuclear pore complex (NPC) protein of rat. The protein, termed Nup98 (for nucleoporin of 98 kDa), contains numerous GLFG and FG repeats and some FXFG repeats and is thus a vertebrate member of a family of GLFG nucleoporins that were previously discovered in yeast. Immunoelectron microscopy showed Nup98 to be asymmetrically located at the nucleoplasmic side of the NPC. Nup98 functions as one of several docking site nucleoporins in a cytosolic docking activity-mediated binding of a model transport substrate. The docking site of Nup98 was mapped to its N-terminal half, which contains all of the peptide repeats. A recombinant segment of this region depleted the docking activity of cytosol. We suggest that the peptide repeat domain of Nup98, together with peptide repeat domains of other nucleoporins, forms an array of sites for mediated docking of transport substrate, and that bidirectional transport across the NPC proceeds by repeated docking and undocking reactions.\n",
      "\n",
      "generated_summary\n",
      "\n"
     ]
    },
    {
     "data": {
      "application/vnd.jupyter.widget-view+json": {
       "model_id": "1b966668f6b64720981129a6ccd52323",
       "version_major": 2,
       "version_minor": 0
      },
      "text/plain": [
       "  0%|          | 0/100 [00:00<?, ?it/s]"
      ]
     },
     "metadata": {},
     "output_type": "display_data"
    },
    {
     "name": "stdout",
     "output_type": "stream",
     "text": [
      "The cellular effects of stromal cell-derived factor-1 (SDF-1) are mediated primarily by binding to the CXC chemokine receptor-4. We report in this study that SDF-1 and its peptide analogues induce a concentration- and time-dependent accumulation of phosphatidylinositol-(3,4,5)-trisphosphate (PtdIns(3,4,5)P3) in Jurkat cells. This SDF-1-stimulated generation of D-3 phosphoinositide lipids was inhibited by pretreatment of the cells with an SDF-1 peptide antagonist or an anti-CXCR4 Ab. In addition, the phosphoinositide 3 (PI 3)-kinase inhibitors wortmannin and LY294002, as well as the Gi protein inhibitor pertussis toxin, also inhibited the SDF-1-stimulated accumulation of PtdIns(3,4,5)P3. The effects of SDF-1 on D-3 phosphoinositide lipid accumulation correlated well with activation of the known PI 3-kinase effector protein kinase B, which was also inhibited by wortmannin and pertussis toxin. Concentrations of PI 3-kinase inhibitors, sufficient to inhibit PtdIns(3,4,5)P3 accumulation, also inhibited chemotaxis of Jurkat and peripheral blood-derived T lymphocytes in response to SDF-1. In contrast, SDF-1-stimulated actin polymerization was only partially inhibited by PI 3-kinase inhibitors, suggesting that while chemotaxis is fully dependent on PI 3-kinase activation, actin polymerization requires additional biochemical inputs. Finally, SDF-1-stimulated extracellular signal-related kinase (ERK)-1/2 mitogen-activated protein kinase activation was inhibited by PI 3-kinase inhibitors. In addition, the mitogen-activated protein/ERK kinase inhibitor PD098059 partially attenuated chemotaxis in response to SDF-1. Hence, it appears that ERK1/2 activation is dependent on PI 3-kinase activation, and both biochemical events are involved in the regulation of SDF-1-stimulated chemotaxis.\n",
      "\n",
      "generated_summary\n",
      "\n",
      "loss: 0.11504197120666504\n",
      "\n",
      "loss: 0.09674215316772461\n",
      "\n",
      "loss: 0.10751481354236603\n",
      "\n",
      "loss: 0.09754233807325363\n",
      "\n",
      "loss: 0.07846376299858093\n",
      "\n",
      "loss: 0.2011510729789734\n",
      "\n",
      "loss: 0.09527920931577682\n",
      "\n",
      "loss: 0.13112527132034302\n",
      "\n",
      "loss: 0.07953380048274994\n",
      "\n",
      "loss: 0.08134718239307404\n",
      "\n"
     ]
    },
    {
     "data": {
      "application/vnd.jupyter.widget-view+json": {
       "model_id": "52966954153a4aeb8f7b68772b9ab78f",
       "version_major": 2,
       "version_minor": 0
      },
      "text/plain": [
       "Evaluating:   0%|          | 0/770 [00:00<?, ?it/s]"
      ]
     },
     "metadata": {},
     "output_type": "display_data"
    },
    {
     "name": "stdout",
     "output_type": "stream",
     "text": [
      "perplexity: 43.53879165649414\n",
      "After 81 updates: \n",
      "\n"
     ]
    },
    {
     "data": {
      "application/vnd.jupyter.widget-view+json": {
       "model_id": "207799858efc4e849d2a5c8a481c4308",
       "version_major": 2,
       "version_minor": 0
      },
      "text/plain": [
       "  0%|          | 0/100 [00:00<?, ?it/s]"
      ]
     },
     "metadata": {},
     "output_type": "display_data"
    },
    {
     "name": "stdout",
     "output_type": "stream",
     "text": [
      "We report the cDNA deduced primary structure of a wheat germ agglutinin-reactive nuclear pore complex (NPC) protein of rat. The protein, termed Nup98 (for nucleoporin of 98 kDa), contains numerous GLFG and FG repeats and some FXFG repeats and is thus a vertebrate member of a family of GLFG nucleoporins that were previously discovered in yeast. Immunoelectron microscopy showed Nup98 to be asymmetrically located at the nucleoplasmic side of the NPC. Nup98 functions as one of several docking site nucleoporins in a cytosolic docking activity-mediated binding of a model transport substrate. The docking site of Nup98 was mapped to its N-terminal half, which contains all of the peptide repeats. A recombinant segment of this region depleted the docking activity of cytosol. We suggest that the peptide repeat domain of Nup98, together with peptide repeat domains of other nucleoporins, forms an array of sites for mediated docking of transport substrate, and that bidirectional transport across the NPC proceeds by repeated docking and undocking reactions.\n",
      "\n",
      "generated_summary\n",
      "\n"
     ]
    },
    {
     "data": {
      "application/vnd.jupyter.widget-view+json": {
       "model_id": "187112e8663f46609e16790a28b62cd6",
       "version_major": 2,
       "version_minor": 0
      },
      "text/plain": [
       "  0%|          | 0/100 [00:00<?, ?it/s]"
      ]
     },
     "metadata": {},
     "output_type": "display_data"
    },
    {
     "name": "stdout",
     "output_type": "stream",
     "text": [
      "The cellular effects of stromal cell-derived factor-1 (SDF-1) are mediated primarily by binding to the CXC chemokine receptor-4. We report in this study that SDF-1 and its peptide analogues induce a concentration- and time-dependent accumulation of phosphatidylinositol-(3,4,5)-trisphosphate (PtdIns(3,4,5)P3) in Jurkat cells. This SDF-1-stimulated generation of D-3 phosphoinositide lipids was inhibited by pretreatment of the cells with an SDF-1 peptide antagonist or an anti-CXCR4 Ab. In addition, the phosphoinositide 3 (PI 3)-kinase inhibitors wortmannin and LY294002, as well as the Gi protein inhibitor pertussis toxin, also inhibited the SDF-1-stimulated accumulation of PtdIns(3,4,5)P3. The effects of SDF-1 on D-3 phosphoinositide lipid accumulation correlated well with activation of the known PI 3-kinase effector protein kinase B, which was also inhibited by wortmannin and pertussis toxin. Concentrations of PI 3-kinase inhibitors, sufficient to inhibit PtdIns(3,4,5)P3 accumulation, also inhibited chemotaxis of Jurkat and peripheral blood-derived T lymphocytes in response to SDF-1. In contrast, SDF-1-stimulated actin polymerization was only partially inhibited by PI 3-kinase inhibitors, suggesting that while chemotaxis is fully dependent on PI 3-kinase activation, actin polymerization requires additional biochemical inputs. Finally, SDF-1-stimulated extracellular signal-related kinase (ERK)-1/2 mitogen-activated protein kinase activation was inhibited by PI 3-kinase inhibitors. In addition, the mitogen-activated protein/ERK kinase inhibitor PD098059 partially attenuated chemotaxis in response to SDF-1. Hence, it appears that ERK1/2 activation is dependent on PI 3-kinase activation, and both biochemical events are involved in the regulation of SDF-1-stimulated chemotaxis.\n",
      "\n",
      "generated_summary\n",
      "\n",
      "loss: 0.0598994717001915\n",
      "\n",
      "loss: 0.11924946308135986\n",
      "\n",
      "loss: 0.12034811824560165\n",
      "\n",
      "loss: 0.0957084372639656\n",
      "\n",
      "loss: 0.09531164169311523\n",
      "\n",
      "loss: 0.08813958615064621\n",
      "\n",
      "loss: 0.07560496032238007\n",
      "\n",
      "loss: 0.10004380345344543\n",
      "\n",
      "loss: 0.11411336809396744\n",
      "\n",
      "loss: 0.07622487097978592\n",
      "\n"
     ]
    },
    {
     "data": {
      "application/vnd.jupyter.widget-view+json": {
       "model_id": "bcc50b6436594c77b50c4ecc39ca4c4a",
       "version_major": 2,
       "version_minor": 0
      },
      "text/plain": [
       "Evaluating:   0%|          | 0/770 [00:00<?, ?it/s]"
      ]
     },
     "metadata": {},
     "output_type": "display_data"
    },
    {
     "name": "stdout",
     "output_type": "stream",
     "text": [
      "perplexity: 21.28748893737793\n",
      "After 91 updates: \n",
      "\n"
     ]
    },
    {
     "data": {
      "application/vnd.jupyter.widget-view+json": {
       "model_id": "d811294a4d714137a36825e72dcc6ee9",
       "version_major": 2,
       "version_minor": 0
      },
      "text/plain": [
       "  0%|          | 0/100 [00:00<?, ?it/s]"
      ]
     },
     "metadata": {},
     "output_type": "display_data"
    },
    {
     "name": "stdout",
     "output_type": "stream",
     "text": [
      "We report the cDNA deduced primary structure of a wheat germ agglutinin-reactive nuclear pore complex (NPC) protein of rat. The protein, termed Nup98 (for nucleoporin of 98 kDa), contains numerous GLFG and FG repeats and some FXFG repeats and is thus a vertebrate member of a family of GLFG nucleoporins that were previously discovered in yeast. Immunoelectron microscopy showed Nup98 to be asymmetrically located at the nucleoplasmic side of the NPC. Nup98 functions as one of several docking site nucleoporins in a cytosolic docking activity-mediated binding of a model transport substrate. The docking site of Nup98 was mapped to its N-terminal half, which contains all of the peptide repeats. A recombinant segment of this region depleted the docking activity of cytosol. We suggest that the peptide repeat domain of Nup98, together with peptide repeat domains of other nucleoporins, forms an array of sites for mediated docking of transport substrate, and that bidirectional transport across the NPC proceeds by repeated docking and undocking reactions.\n",
      "\n",
      "generated_summary\n",
      "\n"
     ]
    },
    {
     "data": {
      "application/vnd.jupyter.widget-view+json": {
       "model_id": "3dc5e69c3db846e78d2fdcc4e0006548",
       "version_major": 2,
       "version_minor": 0
      },
      "text/plain": [
       "  0%|          | 0/100 [00:00<?, ?it/s]"
      ]
     },
     "metadata": {},
     "output_type": "display_data"
    },
    {
     "name": "stdout",
     "output_type": "stream",
     "text": [
      "The cellular effects of stromal cell-derived factor-1 (SDF-1) are mediated primarily by binding to the CXC chemokine receptor-4. We report in this study that SDF-1 and its peptide analogues induce a concentration- and time-dependent accumulation of phosphatidylinositol-(3,4,5)-trisphosphate (PtdIns(3,4,5)P3) in Jurkat cells. This SDF-1-stimulated generation of D-3 phosphoinositide lipids was inhibited by pretreatment of the cells with an SDF-1 peptide antagonist or an anti-CXCR4 Ab. In addition, the phosphoinositide 3 (PI 3)-kinase inhibitors wortmannin and LY294002, as well as the Gi protein inhibitor pertussis toxin, also inhibited the SDF-1-stimulated accumulation of PtdIns(3,4,5)P3. The effects of SDF-1 on D-3 phosphoinositide lipid accumulation correlated well with activation of the known PI 3-kinase effector protein kinase B, which was also inhibited by wortmannin and pertussis toxin. Concentrations of PI 3-kinase inhibitors, sufficient to inhibit PtdIns(3,4,5)P3 accumulation, also inhibited chemotaxis of Jurkat and peripheral blood-derived T lymphocytes in response to SDF-1. In contrast, SDF-1-stimulated actin polymerization was only partially inhibited by PI 3-kinase inhibitors, suggesting that while chemotaxis is fully dependent on PI 3-kinase activation, actin polymerization requires additional biochemical inputs. Finally, SDF-1-stimulated extracellular signal-related kinase (ERK)-1/2 mitogen-activated protein kinase activation was inhibited by PI 3-kinase inhibitors. In addition, the mitogen-activated protein/ERK kinase inhibitor PD098059 partially attenuated chemotaxis in response to SDF-1. Hence, it appears that ERK1/2 activation is dependent on PI 3-kinase activation, and both biochemical events are involved in the regulation of SDF-1-stimulated chemotaxis.\n",
      "\n",
      "generated_summary\n",
      "\n",
      "loss: 0.09353883564472198\n",
      "\n",
      "loss: 0.0735035240650177\n",
      "\n",
      "loss: 0.11217112094163895\n",
      "\n",
      "loss: 0.12518906593322754\n",
      "\n",
      "loss: 0.09282410144805908\n",
      "\n",
      "loss: 0.062308039516210556\n",
      "\n",
      "loss: 0.1378568410873413\n",
      "\n",
      "loss: 0.09544029831886292\n",
      "\n",
      "loss: 0.08804789930582047\n",
      "\n",
      "loss: 0.11738799512386322\n",
      "\n"
     ]
    },
    {
     "data": {
      "application/vnd.jupyter.widget-view+json": {
       "model_id": "2860ca822a6d4b0b8ab9746b28a6c5d7",
       "version_major": 2,
       "version_minor": 0
      },
      "text/plain": [
       "Evaluating:   0%|          | 0/770 [00:00<?, ?it/s]"
      ]
     },
     "metadata": {},
     "output_type": "display_data"
    },
    {
     "name": "stdout",
     "output_type": "stream",
     "text": [
      "perplexity: 16.58435821533203\n",
      "After 101 updates: \n",
      "\n"
     ]
    },
    {
     "data": {
      "application/vnd.jupyter.widget-view+json": {
       "model_id": "02eb8da98d644da49527e323e307c7d6",
       "version_major": 2,
       "version_minor": 0
      },
      "text/plain": [
       "  0%|          | 0/100 [00:00<?, ?it/s]"
      ]
     },
     "metadata": {},
     "output_type": "display_data"
    },
    {
     "name": "stdout",
     "output_type": "stream",
     "text": [
      "We report the cDNA deduced primary structure of a wheat germ agglutinin-reactive nuclear pore complex (NPC) protein of rat. The protein, termed Nup98 (for nucleoporin of 98 kDa), contains numerous GLFG and FG repeats and some FXFG repeats and is thus a vertebrate member of a family of GLFG nucleoporins that were previously discovered in yeast. Immunoelectron microscopy showed Nup98 to be asymmetrically located at the nucleoplasmic side of the NPC. Nup98 functions as one of several docking site nucleoporins in a cytosolic docking activity-mediated binding of a model transport substrate. The docking site of Nup98 was mapped to its N-terminal half, which contains all of the peptide repeats. A recombinant segment of this region depleted the docking activity of cytosol. We suggest that the peptide repeat domain of Nup98, together with peptide repeat domains of other nucleoporins, forms an array of sites for mediated docking of transport substrate, and that bidirectional transport across the NPC proceeds by repeated docking and undocking reactions.\n",
      "\n",
      "generated_summary\n",
      "\n"
     ]
    },
    {
     "data": {
      "application/vnd.jupyter.widget-view+json": {
       "model_id": "7ab08119e9ec461abafebb0bde56c855",
       "version_major": 2,
       "version_minor": 0
      },
      "text/plain": [
       "  0%|          | 0/100 [00:00<?, ?it/s]"
      ]
     },
     "metadata": {},
     "output_type": "display_data"
    },
    {
     "name": "stdout",
     "output_type": "stream",
     "text": [
      "The cellular effects of stromal cell-derived factor-1 (SDF-1) are mediated primarily by binding to the CXC chemokine receptor-4. We report in this study that SDF-1 and its peptide analogues induce a concentration- and time-dependent accumulation of phosphatidylinositol-(3,4,5)-trisphosphate (PtdIns(3,4,5)P3) in Jurkat cells. This SDF-1-stimulated generation of D-3 phosphoinositide lipids was inhibited by pretreatment of the cells with an SDF-1 peptide antagonist or an anti-CXCR4 Ab. In addition, the phosphoinositide 3 (PI 3)-kinase inhibitors wortmannin and LY294002, as well as the Gi protein inhibitor pertussis toxin, also inhibited the SDF-1-stimulated accumulation of PtdIns(3,4,5)P3. The effects of SDF-1 on D-3 phosphoinositide lipid accumulation correlated well with activation of the known PI 3-kinase effector protein kinase B, which was also inhibited by wortmannin and pertussis toxin. Concentrations of PI 3-kinase inhibitors, sufficient to inhibit PtdIns(3,4,5)P3 accumulation, also inhibited chemotaxis of Jurkat and peripheral blood-derived T lymphocytes in response to SDF-1. In contrast, SDF-1-stimulated actin polymerization was only partially inhibited by PI 3-kinase inhibitors, suggesting that while chemotaxis is fully dependent on PI 3-kinase activation, actin polymerization requires additional biochemical inputs. Finally, SDF-1-stimulated extracellular signal-related kinase (ERK)-1/2 mitogen-activated protein kinase activation was inhibited by PI 3-kinase inhibitors. In addition, the mitogen-activated protein/ERK kinase inhibitor PD098059 partially attenuated chemotaxis in response to SDF-1. Hence, it appears that ERK1/2 activation is dependent on PI 3-kinase activation, and both biochemical events are involved in the regulation of SDF-1-stimulated chemotaxis.\n",
      "\n",
      "generated_summary\n",
      "\n",
      "loss: 0.09870553016662598\n",
      "\n",
      "loss: 0.09783138334751129\n",
      "\n",
      "loss: 0.0663110688328743\n",
      "\n",
      "loss: 0.07811687141656876\n",
      "\n",
      "loss: 0.06454460322856903\n",
      "\n",
      "loss: 0.06816848367452621\n",
      "\n",
      "loss: 0.10617505759000778\n",
      "\n",
      "loss: 0.06523556262254715\n",
      "\n",
      "loss: 0.08611606806516647\n",
      "\n",
      "loss: 0.10286787152290344\n",
      "\n"
     ]
    },
    {
     "data": {
      "application/vnd.jupyter.widget-view+json": {
       "model_id": "3ddd79f2d2b54bacb9293831a79f9222",
       "version_major": 2,
       "version_minor": 0
      },
      "text/plain": [
       "Evaluating:   0%|          | 0/770 [00:00<?, ?it/s]"
      ]
     },
     "metadata": {},
     "output_type": "display_data"
    },
    {
     "name": "stdout",
     "output_type": "stream",
     "text": [
      "perplexity: 17.123674392700195\n",
      "After 111 updates: \n",
      "\n"
     ]
    },
    {
     "data": {
      "application/vnd.jupyter.widget-view+json": {
       "model_id": "ef4811731aed484e95833663dca08480",
       "version_major": 2,
       "version_minor": 0
      },
      "text/plain": [
       "  0%|          | 0/100 [00:00<?, ?it/s]"
      ]
     },
     "metadata": {},
     "output_type": "display_data"
    },
    {
     "name": "stdout",
     "output_type": "stream",
     "text": [
      "We report the cDNA deduced primary structure of a wheat germ agglutinin-reactive nuclear pore complex (NPC) protein of rat. The protein, termed Nup98 (for nucleoporin of 98 kDa), contains numerous GLFG and FG repeats and some FXFG repeats and is thus a vertebrate member of a family of GLFG nucleoporins that were previously discovered in yeast. Immunoelectron microscopy showed Nup98 to be asymmetrically located at the nucleoplasmic side of the NPC. Nup98 functions as one of several docking site nucleoporins in a cytosolic docking activity-mediated binding of a model transport substrate. The docking site of Nup98 was mapped to its N-terminal half, which contains all of the peptide repeats. A recombinant segment of this region depleted the docking activity of cytosol. We suggest that the peptide repeat domain of Nup98, together with peptide repeat domains of other nucleoporins, forms an array of sites for mediated docking of transport substrate, and that bidirectional transport across the NPC proceeds by repeated docking and undocking reactions.\n",
      "\n",
      "generated_summary\n",
      "\n"
     ]
    },
    {
     "data": {
      "application/vnd.jupyter.widget-view+json": {
       "model_id": "e3e8a9d7da144be48d02ff5118e2def6",
       "version_major": 2,
       "version_minor": 0
      },
      "text/plain": [
       "  0%|          | 0/100 [00:00<?, ?it/s]"
      ]
     },
     "metadata": {},
     "output_type": "display_data"
    },
    {
     "name": "stdout",
     "output_type": "stream",
     "text": [
      "The cellular effects of stromal cell-derived factor-1 (SDF-1) are mediated primarily by binding to the CXC chemokine receptor-4. We report in this study that SDF-1 and its peptide analogues induce a concentration- and time-dependent accumulation of phosphatidylinositol-(3,4,5)-trisphosphate (PtdIns(3,4,5)P3) in Jurkat cells. This SDF-1-stimulated generation of D-3 phosphoinositide lipids was inhibited by pretreatment of the cells with an SDF-1 peptide antagonist or an anti-CXCR4 Ab. In addition, the phosphoinositide 3 (PI 3)-kinase inhibitors wortmannin and LY294002, as well as the Gi protein inhibitor pertussis toxin, also inhibited the SDF-1-stimulated accumulation of PtdIns(3,4,5)P3. The effects of SDF-1 on D-3 phosphoinositide lipid accumulation correlated well with activation of the known PI 3-kinase effector protein kinase B, which was also inhibited by wortmannin and pertussis toxin. Concentrations of PI 3-kinase inhibitors, sufficient to inhibit PtdIns(3,4,5)P3 accumulation, also inhibited chemotaxis of Jurkat and peripheral blood-derived T lymphocytes in response to SDF-1. In contrast, SDF-1-stimulated actin polymerization was only partially inhibited by PI 3-kinase inhibitors, suggesting that while chemotaxis is fully dependent on PI 3-kinase activation, actin polymerization requires additional biochemical inputs. Finally, SDF-1-stimulated extracellular signal-related kinase (ERK)-1/2 mitogen-activated protein kinase activation was inhibited by PI 3-kinase inhibitors. In addition, the mitogen-activated protein/ERK kinase inhibitor PD098059 partially attenuated chemotaxis in response to SDF-1. Hence, it appears that ERK1/2 activation is dependent on PI 3-kinase activation, and both biochemical events are involved in the regulation of SDF-1-stimulated chemotaxis.\n",
      "\n",
      "generated_summary\n",
      "\n",
      "loss: 0.05578621104359627\n",
      "\n",
      "loss: 0.08506066352128983\n",
      "\n",
      "loss: 0.0767434686422348\n",
      "\n",
      "loss: 0.09006008505821228\n",
      "\n",
      "loss: 0.07269786298274994\n",
      "\n",
      "loss: 0.07022008299827576\n",
      "\n",
      "loss: 0.0732024610042572\n",
      "\n",
      "loss: 0.08416618406772614\n",
      "\n",
      "loss: 0.07037238031625748\n",
      "\n",
      "loss: 0.07070496678352356\n",
      "\n"
     ]
    },
    {
     "data": {
      "application/vnd.jupyter.widget-view+json": {
       "model_id": "eebad080d89d46d3a0e6ac7c0b05894c",
       "version_major": 2,
       "version_minor": 0
      },
      "text/plain": [
       "Evaluating:   0%|          | 0/770 [00:00<?, ?it/s]"
      ]
     },
     "metadata": {},
     "output_type": "display_data"
    },
    {
     "name": "stdout",
     "output_type": "stream",
     "text": [
      "perplexity: 15.817723274230957\n",
      "After 121 updates: \n",
      "\n"
     ]
    },
    {
     "data": {
      "application/vnd.jupyter.widget-view+json": {
       "model_id": "9bb87af159d841749e46d1a408d8f0fa",
       "version_major": 2,
       "version_minor": 0
      },
      "text/plain": [
       "  0%|          | 0/100 [00:00<?, ?it/s]"
      ]
     },
     "metadata": {},
     "output_type": "display_data"
    },
    {
     "name": "stdout",
     "output_type": "stream",
     "text": [
      "We report the cDNA deduced primary structure of a wheat germ agglutinin-reactive nuclear pore complex (NPC) protein of rat. The protein, termed Nup98 (for nucleoporin of 98 kDa), contains numerous GLFG and FG repeats and some FXFG repeats and is thus a vertebrate member of a family of GLFG nucleoporins that were previously discovered in yeast. Immunoelectron microscopy showed Nup98 to be asymmetrically located at the nucleoplasmic side of the NPC. Nup98 functions as one of several docking site nucleoporins in a cytosolic docking activity-mediated binding of a model transport substrate. The docking site of Nup98 was mapped to its N-terminal half, which contains all of the peptide repeats. A recombinant segment of this region depleted the docking activity of cytosol. We suggest that the peptide repeat domain of Nup98, together with peptide repeat domains of other nucleoporins, forms an array of sites for mediated docking of transport substrate, and that bidirectional transport across the NPC proceeds by repeated docking and undocking reactions.\n",
      "\n",
      "generated_summary\n",
      "\n"
     ]
    },
    {
     "data": {
      "application/vnd.jupyter.widget-view+json": {
       "model_id": "221d658999d7479fb6244716cf646a4e",
       "version_major": 2,
       "version_minor": 0
      },
      "text/plain": [
       "  0%|          | 0/100 [00:00<?, ?it/s]"
      ]
     },
     "metadata": {},
     "output_type": "display_data"
    },
    {
     "name": "stdout",
     "output_type": "stream",
     "text": [
      "The cellular effects of stromal cell-derived factor-1 (SDF-1) are mediated primarily by binding to the CXC chemokine receptor-4. We report in this study that SDF-1 and its peptide analogues induce a concentration- and time-dependent accumulation of phosphatidylinositol-(3,4,5)-trisphosphate (PtdIns(3,4,5)P3) in Jurkat cells. This SDF-1-stimulated generation of D-3 phosphoinositide lipids was inhibited by pretreatment of the cells with an SDF-1 peptide antagonist or an anti-CXCR4 Ab. In addition, the phosphoinositide 3 (PI 3)-kinase inhibitors wortmannin and LY294002, as well as the Gi protein inhibitor pertussis toxin, also inhibited the SDF-1-stimulated accumulation of PtdIns(3,4,5)P3. The effects of SDF-1 on D-3 phosphoinositide lipid accumulation correlated well with activation of the known PI 3-kinase effector protein kinase B, which was also inhibited by wortmannin and pertussis toxin. Concentrations of PI 3-kinase inhibitors, sufficient to inhibit PtdIns(3,4,5)P3 accumulation, also inhibited chemotaxis of Jurkat and peripheral blood-derived T lymphocytes in response to SDF-1. In contrast, SDF-1-stimulated actin polymerization was only partially inhibited by PI 3-kinase inhibitors, suggesting that while chemotaxis is fully dependent on PI 3-kinase activation, actin polymerization requires additional biochemical inputs. Finally, SDF-1-stimulated extracellular signal-related kinase (ERK)-1/2 mitogen-activated protein kinase activation was inhibited by PI 3-kinase inhibitors. In addition, the mitogen-activated protein/ERK kinase inhibitor PD098059 partially attenuated chemotaxis in response to SDF-1. Hence, it appears that ERK1/2 activation is dependent on PI 3-kinase activation, and both biochemical events are involved in the regulation of SDF-1-stimulated chemotaxis.\n",
      "\n",
      "generated_summary\n",
      "\n",
      "loss: 0.07617519050836563\n",
      "\n",
      "loss: 0.06763492524623871\n",
      "\n",
      "loss: 0.060513101518154144\n",
      "\n",
      "loss: 0.09041409939527512\n",
      "\n",
      "loss: 0.07370884716510773\n",
      "\n",
      "loss: 0.0903131440281868\n",
      "\n",
      "loss: 0.0667804479598999\n",
      "\n",
      "loss: 0.055951569229364395\n",
      "\n",
      "loss: 0.08419865369796753\n",
      "\n",
      "loss: 0.13406449556350708\n",
      "\n"
     ]
    },
    {
     "data": {
      "application/vnd.jupyter.widget-view+json": {
       "model_id": "7e9f8eb85f444375828cfaa867be7888",
       "version_major": 2,
       "version_minor": 0
      },
      "text/plain": [
       "Evaluating:   0%|          | 0/770 [00:00<?, ?it/s]"
      ]
     },
     "metadata": {},
     "output_type": "display_data"
    },
    {
     "name": "stdout",
     "output_type": "stream",
     "text": [
      "perplexity: 13.962018013000488\n",
      "After 131 updates: \n",
      "\n"
     ]
    },
    {
     "data": {
      "application/vnd.jupyter.widget-view+json": {
       "model_id": "e6f387ef533d49899d04aef94dd5ae11",
       "version_major": 2,
       "version_minor": 0
      },
      "text/plain": [
       "  0%|          | 0/100 [00:00<?, ?it/s]"
      ]
     },
     "metadata": {},
     "output_type": "display_data"
    },
    {
     "name": "stdout",
     "output_type": "stream",
     "text": [
      "We report the cDNA deduced primary structure of a wheat germ agglutinin-reactive nuclear pore complex (NPC) protein of rat. The protein, termed Nup98 (for nucleoporin of 98 kDa), contains numerous GLFG and FG repeats and some FXFG repeats and is thus a vertebrate member of a family of GLFG nucleoporins that were previously discovered in yeast. Immunoelectron microscopy showed Nup98 to be asymmetrically located at the nucleoplasmic side of the NPC. Nup98 functions as one of several docking site nucleoporins in a cytosolic docking activity-mediated binding of a model transport substrate. The docking site of Nup98 was mapped to its N-terminal half, which contains all of the peptide repeats. A recombinant segment of this region depleted the docking activity of cytosol. We suggest that the peptide repeat domain of Nup98, together with peptide repeat domains of other nucleoporins, forms an array of sites for mediated docking of transport substrate, and that bidirectional transport across the NPC proceeds by repeated docking and undocking reactions.\n",
      "\n",
      "generated_summary\n",
      "\n"
     ]
    },
    {
     "data": {
      "application/vnd.jupyter.widget-view+json": {
       "model_id": "4c5fefba27f6453b8cb5d5567e8dce11",
       "version_major": 2,
       "version_minor": 0
      },
      "text/plain": [
       "  0%|          | 0/100 [00:00<?, ?it/s]"
      ]
     },
     "metadata": {},
     "output_type": "display_data"
    },
    {
     "name": "stdout",
     "output_type": "stream",
     "text": [
      "The cellular effects of stromal cell-derived factor-1 (SDF-1) are mediated primarily by binding to the CXC chemokine receptor-4. We report in this study that SDF-1 and its peptide analogues induce a concentration- and time-dependent accumulation of phosphatidylinositol-(3,4,5)-trisphosphate (PtdIns(3,4,5)P3) in Jurkat cells. This SDF-1-stimulated generation of D-3 phosphoinositide lipids was inhibited by pretreatment of the cells with an SDF-1 peptide antagonist or an anti-CXCR4 Ab. In addition, the phosphoinositide 3 (PI 3)-kinase inhibitors wortmannin and LY294002, as well as the Gi protein inhibitor pertussis toxin, also inhibited the SDF-1-stimulated accumulation of PtdIns(3,4,5)P3. The effects of SDF-1 on D-3 phosphoinositide lipid accumulation correlated well with activation of the known PI 3-kinase effector protein kinase B, which was also inhibited by wortmannin and pertussis toxin. Concentrations of PI 3-kinase inhibitors, sufficient to inhibit PtdIns(3,4,5)P3 accumulation, also inhibited chemotaxis of Jurkat and peripheral blood-derived T lymphocytes in response to SDF-1. In contrast, SDF-1-stimulated actin polymerization was only partially inhibited by PI 3-kinase inhibitors, suggesting that while chemotaxis is fully dependent on PI 3-kinase activation, actin polymerization requires additional biochemical inputs. Finally, SDF-1-stimulated extracellular signal-related kinase (ERK)-1/2 mitogen-activated protein kinase activation was inhibited by PI 3-kinase inhibitors. In addition, the mitogen-activated protein/ERK kinase inhibitor PD098059 partially attenuated chemotaxis in response to SDF-1. Hence, it appears that ERK1/2 activation is dependent on PI 3-kinase activation, and both biochemical events are involved in the regulation of SDF-1-stimulated chemotaxis.\n",
      "\n",
      "generated_summary\n",
      "\n",
      "loss: 0.06480176746845245\n",
      "\n",
      "loss: 0.08039308339357376\n",
      "\n",
      "loss: 0.08649036288261414\n",
      "\n",
      "loss: 0.10124286264181137\n",
      "\n",
      "loss: 0.05973013862967491\n",
      "\n",
      "loss: 0.10489281266927719\n",
      "\n",
      "loss: 0.06582778692245483\n",
      "\n",
      "loss: 0.059038180857896805\n",
      "\n",
      "loss: 0.09203194081783295\n",
      "\n",
      "loss: 0.07065936177968979\n",
      "\n"
     ]
    },
    {
     "data": {
      "application/vnd.jupyter.widget-view+json": {
       "model_id": "7716af58a72f4cb09eca051acffc248e",
       "version_major": 2,
       "version_minor": 0
      },
      "text/plain": [
       "Evaluating:   0%|          | 0/770 [00:00<?, ?it/s]"
      ]
     },
     "metadata": {},
     "output_type": "display_data"
    },
    {
     "name": "stdout",
     "output_type": "stream",
     "text": [
      "perplexity: 10.986722946166992\n",
      "After 141 updates: \n",
      "\n"
     ]
    },
    {
     "data": {
      "application/vnd.jupyter.widget-view+json": {
       "model_id": "bb0bb59dea06461ca30618ae27aa730f",
       "version_major": 2,
       "version_minor": 0
      },
      "text/plain": [
       "  0%|          | 0/100 [00:00<?, ?it/s]"
      ]
     },
     "metadata": {},
     "output_type": "display_data"
    },
    {
     "name": "stdout",
     "output_type": "stream",
     "text": [
      "We report the cDNA deduced primary structure of a wheat germ agglutinin-reactive nuclear pore complex (NPC) protein of rat. The protein, termed Nup98 (for nucleoporin of 98 kDa), contains numerous GLFG and FG repeats and some FXFG repeats and is thus a vertebrate member of a family of GLFG nucleoporins that were previously discovered in yeast. Immunoelectron microscopy showed Nup98 to be asymmetrically located at the nucleoplasmic side of the NPC. Nup98 functions as one of several docking site nucleoporins in a cytosolic docking activity-mediated binding of a model transport substrate. The docking site of Nup98 was mapped to its N-terminal half, which contains all of the peptide repeats. A recombinant segment of this region depleted the docking activity of cytosol. We suggest that the peptide repeat domain of Nup98, together with peptide repeat domains of other nucleoporins, forms an array of sites for mediated docking of transport substrate, and that bidirectional transport across the NPC proceeds by repeated docking and undocking reactions.\n",
      "\n",
      "generated_summary\n",
      "\n"
     ]
    },
    {
     "data": {
      "application/vnd.jupyter.widget-view+json": {
       "model_id": "98e6e1259e8d47f3852a9cf93715f9ef",
       "version_major": 2,
       "version_minor": 0
      },
      "text/plain": [
       "  0%|          | 0/100 [00:00<?, ?it/s]"
      ]
     },
     "metadata": {},
     "output_type": "display_data"
    },
    {
     "name": "stdout",
     "output_type": "stream",
     "text": [
      "The cellular effects of stromal cell-derived factor-1 (SDF-1) are mediated primarily by binding to the CXC chemokine receptor-4. We report in this study that SDF-1 and its peptide analogues induce a concentration- and time-dependent accumulation of phosphatidylinositol-(3,4,5)-trisphosphate (PtdIns(3,4,5)P3) in Jurkat cells. This SDF-1-stimulated generation of D-3 phosphoinositide lipids was inhibited by pretreatment of the cells with an SDF-1 peptide antagonist or an anti-CXCR4 Ab. In addition, the phosphoinositide 3 (PI 3)-kinase inhibitors wortmannin and LY294002, as well as the Gi protein inhibitor pertussis toxin, also inhibited the SDF-1-stimulated accumulation of PtdIns(3,4,5)P3. The effects of SDF-1 on D-3 phosphoinositide lipid accumulation correlated well with activation of the known PI 3-kinase effector protein kinase B, which was also inhibited by wortmannin and pertussis toxin. Concentrations of PI 3-kinase inhibitors, sufficient to inhibit PtdIns(3,4,5)P3 accumulation, also inhibited chemotaxis of Jurkat and peripheral blood-derived T lymphocytes in response to SDF-1. In contrast, SDF-1-stimulated actin polymerization was only partially inhibited by PI 3-kinase inhibitors, suggesting that while chemotaxis is fully dependent on PI 3-kinase activation, actin polymerization requires additional biochemical inputs. Finally, SDF-1-stimulated extracellular signal-related kinase (ERK)-1/2 mitogen-activated protein kinase activation was inhibited by PI 3-kinase inhibitors. In addition, the mitogen-activated protein/ERK kinase inhibitor PD098059 partially attenuated chemotaxis in response to SDF-1. Hence, it appears that ERK1/2 activation is dependent on PI 3-kinase activation, and both biochemical events are involved in the regulation of SDF-1-stimulated chemotaxis.\n",
      "\n",
      "generated_summary\n",
      "\n",
      "loss: 0.1237848624587059\n",
      "\n",
      "loss: 0.07789921015501022\n",
      "\n",
      "loss: 0.0820903405547142\n",
      "\n",
      "loss: 0.06945312768220901\n",
      "\n",
      "loss: 0.1217670664191246\n",
      "\n",
      "loss: 0.07089792937040329\n",
      "\n",
      "loss: 0.06485698372125626\n",
      "\n",
      "loss: 0.11296017467975616\n",
      "\n",
      "loss: 0.09910130500793457\n",
      "\n",
      "loss: 0.06274398416280746\n",
      "\n"
     ]
    },
    {
     "data": {
      "application/vnd.jupyter.widget-view+json": {
       "model_id": "acab26d667fc4398b8daedeec4587a8b",
       "version_major": 2,
       "version_minor": 0
      },
      "text/plain": [
       "Evaluating:   0%|          | 0/770 [00:00<?, ?it/s]"
      ]
     },
     "metadata": {},
     "output_type": "display_data"
    },
    {
     "name": "stdout",
     "output_type": "stream",
     "text": [
      "perplexity: 11.120477676391602\n",
      "After 151 updates: \n",
      "\n"
     ]
    },
    {
     "data": {
      "application/vnd.jupyter.widget-view+json": {
       "model_id": "388ce3e70a234dd3a34ddaa3b5ba3517",
       "version_major": 2,
       "version_minor": 0
      },
      "text/plain": [
       "  0%|          | 0/100 [00:00<?, ?it/s]"
      ]
     },
     "metadata": {},
     "output_type": "display_data"
    },
    {
     "name": "stdout",
     "output_type": "stream",
     "text": [
      "We report the cDNA deduced primary structure of a wheat germ agglutinin-reactive nuclear pore complex (NPC) protein of rat. The protein, termed Nup98 (for nucleoporin of 98 kDa), contains numerous GLFG and FG repeats and some FXFG repeats and is thus a vertebrate member of a family of GLFG nucleoporins that were previously discovered in yeast. Immunoelectron microscopy showed Nup98 to be asymmetrically located at the nucleoplasmic side of the NPC. Nup98 functions as one of several docking site nucleoporins in a cytosolic docking activity-mediated binding of a model transport substrate. The docking site of Nup98 was mapped to its N-terminal half, which contains all of the peptide repeats. A recombinant segment of this region depleted the docking activity of cytosol. We suggest that the peptide repeat domain of Nup98, together with peptide repeat domains of other nucleoporins, forms an array of sites for mediated docking of transport substrate, and that bidirectional transport across the NPC proceeds by repeated docking and undocking reactions.\n",
      "\n",
      "generated_summary\n",
      "\n"
     ]
    },
    {
     "data": {
      "application/vnd.jupyter.widget-view+json": {
       "model_id": "4d3afceaf0754c62b54f431f823e8b4f",
       "version_major": 2,
       "version_minor": 0
      },
      "text/plain": [
       "  0%|          | 0/100 [00:00<?, ?it/s]"
      ]
     },
     "metadata": {},
     "output_type": "display_data"
    },
    {
     "name": "stdout",
     "output_type": "stream",
     "text": [
      "The cellular effects of stromal cell-derived factor-1 (SDF-1) are mediated primarily by binding to the CXC chemokine receptor-4. We report in this study that SDF-1 and its peptide analogues induce a concentration- and time-dependent accumulation of phosphatidylinositol-(3,4,5)-trisphosphate (PtdIns(3,4,5)P3) in Jurkat cells. This SDF-1-stimulated generation of D-3 phosphoinositide lipids was inhibited by pretreatment of the cells with an SDF-1 peptide antagonist or an anti-CXCR4 Ab. In addition, the phosphoinositide 3 (PI 3)-kinase inhibitors wortmannin and LY294002, as well as the Gi protein inhibitor pertussis toxin, also inhibited the SDF-1-stimulated accumulation of PtdIns(3,4,5)P3. The effects of SDF-1 on D-3 phosphoinositide lipid accumulation correlated well with activation of the known PI 3-kinase effector protein kinase B, which was also inhibited by wortmannin and pertussis toxin. Concentrations of PI 3-kinase inhibitors, sufficient to inhibit PtdIns(3,4,5)P3 accumulation, also inhibited chemotaxis of Jurkat and peripheral blood-derived T lymphocytes in response to SDF-1. In contrast, SDF-1-stimulated actin polymerization was only partially inhibited by PI 3-kinase inhibitors, suggesting that while chemotaxis is fully dependent on PI 3-kinase activation, actin polymerization requires additional biochemical inputs. Finally, SDF-1-stimulated extracellular signal-related kinase (ERK)-1/2 mitogen-activated protein kinase activation was inhibited by PI 3-kinase inhibitors. In addition, the mitogen-activated protein/ERK kinase inhibitor PD098059 partially attenuated chemotaxis in response to SDF-1. Hence, it appears that ERK1/2 activation is dependent on PI 3-kinase activation, and both biochemical events are involved in the regulation of SDF-1-stimulated chemotaxis.\n",
      "\n",
      "generated_summary\n",
      "\n",
      "loss: 0.08014267683029175\n",
      "\n",
      "loss: 0.06139560043811798\n",
      "\n",
      "loss: 0.07529876381158829\n",
      "\n",
      "loss: 0.06574622541666031\n",
      "\n",
      "loss: 0.06833191215991974\n",
      "\n",
      "loss: 0.07609186321496964\n",
      "\n",
      "loss: 0.07716044038534164\n",
      "\n",
      "loss: 0.06245671957731247\n",
      "\n",
      "loss: 0.07581909000873566\n",
      "\n",
      "loss: 0.08041820675134659\n",
      "\n"
     ]
    },
    {
     "data": {
      "application/vnd.jupyter.widget-view+json": {
       "model_id": "4e82933bd28b4575938a953b2eaed612",
       "version_major": 2,
       "version_minor": 0
      },
      "text/plain": [
       "Evaluating:   0%|          | 0/770 [00:00<?, ?it/s]"
      ]
     },
     "metadata": {},
     "output_type": "display_data"
    },
    {
     "name": "stdout",
     "output_type": "stream",
     "text": [
      "perplexity: 12.748176574707031\n",
      "After 161 updates: \n",
      "\n"
     ]
    },
    {
     "data": {
      "application/vnd.jupyter.widget-view+json": {
       "model_id": "262d0c90d29b4e5d81a0519f9a8e078a",
       "version_major": 2,
       "version_minor": 0
      },
      "text/plain": [
       "  0%|          | 0/100 [00:00<?, ?it/s]"
      ]
     },
     "metadata": {},
     "output_type": "display_data"
    },
    {
     "name": "stdout",
     "output_type": "stream",
     "text": [
      "We report the cDNA deduced primary structure of a wheat germ agglutinin-reactive nuclear pore complex (NPC) protein of rat. The protein, termed Nup98 (for nucleoporin of 98 kDa), contains numerous GLFG and FG repeats and some FXFG repeats and is thus a vertebrate member of a family of GLFG nucleoporins that were previously discovered in yeast. Immunoelectron microscopy showed Nup98 to be asymmetrically located at the nucleoplasmic side of the NPC. Nup98 functions as one of several docking site nucleoporins in a cytosolic docking activity-mediated binding of a model transport substrate. The docking site of Nup98 was mapped to its N-terminal half, which contains all of the peptide repeats. A recombinant segment of this region depleted the docking activity of cytosol. We suggest that the peptide repeat domain of Nup98, together with peptide repeat domains of other nucleoporins, forms an array of sites for mediated docking of transport substrate, and that bidirectional transport across the NPC proceeds by repeated docking and undocking reactions.\n",
      "\n",
      "generated_summary\n",
      "\n"
     ]
    },
    {
     "data": {
      "application/vnd.jupyter.widget-view+json": {
       "model_id": "bcbda4962a4a4d488e211e8ae36372c2",
       "version_major": 2,
       "version_minor": 0
      },
      "text/plain": [
       "  0%|          | 0/100 [00:00<?, ?it/s]"
      ]
     },
     "metadata": {},
     "output_type": "display_data"
    },
    {
     "name": "stdout",
     "output_type": "stream",
     "text": [
      "The cellular effects of stromal cell-derived factor-1 (SDF-1) are mediated primarily by binding to the CXC chemokine receptor-4. We report in this study that SDF-1 and its peptide analogues induce a concentration- and time-dependent accumulation of phosphatidylinositol-(3,4,5)-trisphosphate (PtdIns(3,4,5)P3) in Jurkat cells. This SDF-1-stimulated generation of D-3 phosphoinositide lipids was inhibited by pretreatment of the cells with an SDF-1 peptide antagonist or an anti-CXCR4 Ab. In addition, the phosphoinositide 3 (PI 3)-kinase inhibitors wortmannin and LY294002, as well as the Gi protein inhibitor pertussis toxin, also inhibited the SDF-1-stimulated accumulation of PtdIns(3,4,5)P3. The effects of SDF-1 on D-3 phosphoinositide lipid accumulation correlated well with activation of the known PI 3-kinase effector protein kinase B, which was also inhibited by wortmannin and pertussis toxin. Concentrations of PI 3-kinase inhibitors, sufficient to inhibit PtdIns(3,4,5)P3 accumulation, also inhibited chemotaxis of Jurkat and peripheral blood-derived T lymphocytes in response to SDF-1. In contrast, SDF-1-stimulated actin polymerization was only partially inhibited by PI 3-kinase inhibitors, suggesting that while chemotaxis is fully dependent on PI 3-kinase activation, actin polymerization requires additional biochemical inputs. Finally, SDF-1-stimulated extracellular signal-related kinase (ERK)-1/2 mitogen-activated protein kinase activation was inhibited by PI 3-kinase inhibitors. In addition, the mitogen-activated protein/ERK kinase inhibitor PD098059 partially attenuated chemotaxis in response to SDF-1. Hence, it appears that ERK1/2 activation is dependent on PI 3-kinase activation, and both biochemical events are involved in the regulation of SDF-1-stimulated chemotaxis.\n",
      "\n",
      "generated_summary\n",
      "\n",
      "loss: 0.07224689424037933\n",
      "\n",
      "loss: 0.08018048107624054\n",
      "\n",
      "loss: 0.08955757319927216\n",
      "\n",
      "loss: 0.05105007439851761\n",
      "\n",
      "loss: 0.08844635635614395\n",
      "\n",
      "loss: 0.06721733510494232\n",
      "\n",
      "loss: 0.05267199128866196\n",
      "\n",
      "loss: 0.08587273955345154\n",
      "\n",
      "loss: 0.061261240392923355\n",
      "\n",
      "loss: 0.057977817952632904\n",
      "\n"
     ]
    },
    {
     "data": {
      "application/vnd.jupyter.widget-view+json": {
       "model_id": "93716f6756b7458b98e86327d0da4869",
       "version_major": 2,
       "version_minor": 0
      },
      "text/plain": [
       "Evaluating:   0%|          | 0/770 [00:00<?, ?it/s]"
      ]
     },
     "metadata": {},
     "output_type": "display_data"
    },
    {
     "name": "stdout",
     "output_type": "stream",
     "text": [
      "perplexity: 11.451679229736328\n",
      "After 171 updates: \n",
      "\n"
     ]
    },
    {
     "data": {
      "application/vnd.jupyter.widget-view+json": {
       "model_id": "146ad29b6b6d435aa09a43869c72f273",
       "version_major": 2,
       "version_minor": 0
      },
      "text/plain": [
       "  0%|          | 0/100 [00:00<?, ?it/s]"
      ]
     },
     "metadata": {},
     "output_type": "display_data"
    },
    {
     "name": "stdout",
     "output_type": "stream",
     "text": [
      "We report the cDNA deduced primary structure of a wheat germ agglutinin-reactive nuclear pore complex (NPC) protein of rat. The protein, termed Nup98 (for nucleoporin of 98 kDa), contains numerous GLFG and FG repeats and some FXFG repeats and is thus a vertebrate member of a family of GLFG nucleoporins that were previously discovered in yeast. Immunoelectron microscopy showed Nup98 to be asymmetrically located at the nucleoplasmic side of the NPC. Nup98 functions as one of several docking site nucleoporins in a cytosolic docking activity-mediated binding of a model transport substrate. The docking site of Nup98 was mapped to its N-terminal half, which contains all of the peptide repeats. A recombinant segment of this region depleted the docking activity of cytosol. We suggest that the peptide repeat domain of Nup98, together with peptide repeat domains of other nucleoporins, forms an array of sites for mediated docking of transport substrate, and that bidirectional transport across the NPC proceeds by repeated docking and undocking reactions.\n",
      "\n",
      "generated_summary\n",
      "\n"
     ]
    },
    {
     "data": {
      "application/vnd.jupyter.widget-view+json": {
       "model_id": "347ef4afbaf847b4aa742a041eda852d",
       "version_major": 2,
       "version_minor": 0
      },
      "text/plain": [
       "  0%|          | 0/100 [00:00<?, ?it/s]"
      ]
     },
     "metadata": {},
     "output_type": "display_data"
    },
    {
     "name": "stdout",
     "output_type": "stream",
     "text": [
      "The cellular effects of stromal cell-derived factor-1 (SDF-1) are mediated primarily by binding to the CXC chemokine receptor-4. We report in this study that SDF-1 and its peptide analogues induce a concentration- and time-dependent accumulation of phosphatidylinositol-(3,4,5)-trisphosphate (PtdIns(3,4,5)P3) in Jurkat cells. This SDF-1-stimulated generation of D-3 phosphoinositide lipids was inhibited by pretreatment of the cells with an SDF-1 peptide antagonist or an anti-CXCR4 Ab. In addition, the phosphoinositide 3 (PI 3)-kinase inhibitors wortmannin and LY294002, as well as the Gi protein inhibitor pertussis toxin, also inhibited the SDF-1-stimulated accumulation of PtdIns(3,4,5)P3. The effects of SDF-1 on D-3 phosphoinositide lipid accumulation correlated well with activation of the known PI 3-kinase effector protein kinase B, which was also inhibited by wortmannin and pertussis toxin. Concentrations of PI 3-kinase inhibitors, sufficient to inhibit PtdIns(3,4,5)P3 accumulation, also inhibited chemotaxis of Jurkat and peripheral blood-derived T lymphocytes in response to SDF-1. In contrast, SDF-1-stimulated actin polymerization was only partially inhibited by PI 3-kinase inhibitors, suggesting that while chemotaxis is fully dependent on PI 3-kinase activation, actin polymerization requires additional biochemical inputs. Finally, SDF-1-stimulated extracellular signal-related kinase (ERK)-1/2 mitogen-activated protein kinase activation was inhibited by PI 3-kinase inhibitors. In addition, the mitogen-activated protein/ERK kinase inhibitor PD098059 partially attenuated chemotaxis in response to SDF-1. Hence, it appears that ERK1/2 activation is dependent on PI 3-kinase activation, and both biochemical events are involved in the regulation of SDF-1-stimulated chemotaxis.\n",
      "\n",
      "generated_summary\n",
      "\n",
      "loss: 0.05692272260785103\n",
      "\n",
      "loss: 0.06460551172494888\n",
      "\n",
      "loss: 0.0971783995628357\n",
      "\n",
      "loss: 0.07686861604452133\n",
      "\n",
      "loss: 0.062475040555000305\n",
      "\n",
      "loss: 0.04947112500667572\n",
      "\n",
      "loss: 0.0707329586148262\n",
      "\n",
      "loss: 0.06232227757573128\n",
      "\n",
      "loss: 0.06479258090257645\n",
      "\n",
      "loss: 0.047837261110544205\n",
      "\n"
     ]
    },
    {
     "data": {
      "application/vnd.jupyter.widget-view+json": {
       "model_id": "e72963f0134840e5b48558dc2e64065a",
       "version_major": 2,
       "version_minor": 0
      },
      "text/plain": [
       "Evaluating:   0%|          | 0/770 [00:00<?, ?it/s]"
      ]
     },
     "metadata": {},
     "output_type": "display_data"
    },
    {
     "name": "stdout",
     "output_type": "stream",
     "text": [
      "perplexity: 11.782388687133789\n",
      "After 181 updates: \n",
      "\n"
     ]
    },
    {
     "data": {
      "application/vnd.jupyter.widget-view+json": {
       "model_id": "fab3dff8480849f286efdb81d39515da",
       "version_major": 2,
       "version_minor": 0
      },
      "text/plain": [
       "  0%|          | 0/100 [00:00<?, ?it/s]"
      ]
     },
     "metadata": {},
     "output_type": "display_data"
    },
    {
     "name": "stdout",
     "output_type": "stream",
     "text": [
      "We report the cDNA deduced primary structure of a wheat germ agglutinin-reactive nuclear pore complex (NPC) protein of rat. The protein, termed Nup98 (for nucleoporin of 98 kDa), contains numerous GLFG and FG repeats and some FXFG repeats and is thus a vertebrate member of a family of GLFG nucleoporins that were previously discovered in yeast. Immunoelectron microscopy showed Nup98 to be asymmetrically located at the nucleoplasmic side of the NPC. Nup98 functions as one of several docking site nucleoporins in a cytosolic docking activity-mediated binding of a model transport substrate. The docking site of Nup98 was mapped to its N-terminal half, which contains all of the peptide repeats. A recombinant segment of this region depleted the docking activity of cytosol. We suggest that the peptide repeat domain of Nup98, together with peptide repeat domains of other nucleoporins, forms an array of sites for mediated docking of transport substrate, and that bidirectional transport across the NPC proceeds by repeated docking and undocking reactions.\n",
      "\n",
      "generated_summary\n",
      "\n"
     ]
    },
    {
     "data": {
      "application/vnd.jupyter.widget-view+json": {
       "model_id": "aa498f998a0f45199a97df734feb0521",
       "version_major": 2,
       "version_minor": 0
      },
      "text/plain": [
       "  0%|          | 0/100 [00:00<?, ?it/s]"
      ]
     },
     "metadata": {},
     "output_type": "display_data"
    },
    {
     "name": "stdout",
     "output_type": "stream",
     "text": [
      "The cellular effects of stromal cell-derived factor-1 (SDF-1) are mediated primarily by binding to the CXC chemokine receptor-4. We report in this study that SDF-1 and its peptide analogues induce a concentration- and time-dependent accumulation of phosphatidylinositol-(3,4,5)-trisphosphate (PtdIns(3,4,5)P3) in Jurkat cells. This SDF-1-stimulated generation of D-3 phosphoinositide lipids was inhibited by pretreatment of the cells with an SDF-1 peptide antagonist or an anti-CXCR4 Ab. In addition, the phosphoinositide 3 (PI 3)-kinase inhibitors wortmannin and LY294002, as well as the Gi protein inhibitor pertussis toxin, also inhibited the SDF-1-stimulated accumulation of PtdIns(3,4,5)P3. The effects of SDF-1 on D-3 phosphoinositide lipid accumulation correlated well with activation of the known PI 3-kinase effector protein kinase B, which was also inhibited by wortmannin and pertussis toxin. Concentrations of PI 3-kinase inhibitors, sufficient to inhibit PtdIns(3,4,5)P3 accumulation, also inhibited chemotaxis of Jurkat and peripheral blood-derived T lymphocytes in response to SDF-1. In contrast, SDF-1-stimulated actin polymerization was only partially inhibited by PI 3-kinase inhibitors, suggesting that while chemotaxis is fully dependent on PI 3-kinase activation, actin polymerization requires additional biochemical inputs. Finally, SDF-1-stimulated extracellular signal-related kinase (ERK)-1/2 mitogen-activated protein kinase activation was inhibited by PI 3-kinase inhibitors. In addition, the mitogen-activated protein/ERK kinase inhibitor PD098059 partially attenuated chemotaxis in response to SDF-1. Hence, it appears that ERK1/2 activation is dependent on PI 3-kinase activation, and both biochemical events are involved in the regulation of SDF-1-stimulated chemotaxis.\n",
      "\n",
      "generated_summary\n",
      "\n",
      "loss: 0.08325409144163132\n",
      "\n",
      "loss: 0.06652232259511948\n",
      "\n",
      "loss: 0.0711727887392044\n",
      "\n",
      "loss: 0.07309029996395111\n",
      "\n",
      "loss: 0.05674019455909729\n",
      "\n",
      "loss: 0.11221949756145477\n",
      "\n",
      "loss: 0.06758192181587219\n",
      "\n",
      "loss: 0.09566579759120941\n",
      "\n",
      "loss: 0.06390462815761566\n",
      "\n",
      "loss: 0.08378378301858902\n",
      "\n"
     ]
    },
    {
     "data": {
      "application/vnd.jupyter.widget-view+json": {
       "model_id": "7c2e108f0d0e48f19d6cbeb8023b496e",
       "version_major": 2,
       "version_minor": 0
      },
      "text/plain": [
       "Evaluating:   0%|          | 0/770 [00:00<?, ?it/s]"
      ]
     },
     "metadata": {},
     "output_type": "display_data"
    },
    {
     "name": "stdout",
     "output_type": "stream",
     "text": [
      "perplexity: 10.59850025177002\n",
      "After 191 updates: \n",
      "\n"
     ]
    },
    {
     "data": {
      "application/vnd.jupyter.widget-view+json": {
       "model_id": "bb40b5f9b2744191b6c974fadcf49e66",
       "version_major": 2,
       "version_minor": 0
      },
      "text/plain": [
       "  0%|          | 0/100 [00:00<?, ?it/s]"
      ]
     },
     "metadata": {},
     "output_type": "display_data"
    },
    {
     "name": "stdout",
     "output_type": "stream",
     "text": [
      "We report the cDNA deduced primary structure of a wheat germ agglutinin-reactive nuclear pore complex (NPC) protein of rat. The protein, termed Nup98 (for nucleoporin of 98 kDa), contains numerous GLFG and FG repeats and some FXFG repeats and is thus a vertebrate member of a family of GLFG nucleoporins that were previously discovered in yeast. Immunoelectron microscopy showed Nup98 to be asymmetrically located at the nucleoplasmic side of the NPC. Nup98 functions as one of several docking site nucleoporins in a cytosolic docking activity-mediated binding of a model transport substrate. The docking site of Nup98 was mapped to its N-terminal half, which contains all of the peptide repeats. A recombinant segment of this region depleted the docking activity of cytosol. We suggest that the peptide repeat domain of Nup98, together with peptide repeat domains of other nucleoporins, forms an array of sites for mediated docking of transport substrate, and that bidirectional transport across the NPC proceeds by repeated docking and undocking reactions.\n",
      "\n",
      "generated_summary\n",
      "\n"
     ]
    },
    {
     "data": {
      "application/vnd.jupyter.widget-view+json": {
       "model_id": "97d48778854a4cbf9ca5ceafec464330",
       "version_major": 2,
       "version_minor": 0
      },
      "text/plain": [
       "  0%|          | 0/100 [00:00<?, ?it/s]"
      ]
     },
     "metadata": {},
     "output_type": "display_data"
    },
    {
     "name": "stdout",
     "output_type": "stream",
     "text": [
      "The cellular effects of stromal cell-derived factor-1 (SDF-1) are mediated primarily by binding to the CXC chemokine receptor-4. We report in this study that SDF-1 and its peptide analogues induce a concentration- and time-dependent accumulation of phosphatidylinositol-(3,4,5)-trisphosphate (PtdIns(3,4,5)P3) in Jurkat cells. This SDF-1-stimulated generation of D-3 phosphoinositide lipids was inhibited by pretreatment of the cells with an SDF-1 peptide antagonist or an anti-CXCR4 Ab. In addition, the phosphoinositide 3 (PI 3)-kinase inhibitors wortmannin and LY294002, as well as the Gi protein inhibitor pertussis toxin, also inhibited the SDF-1-stimulated accumulation of PtdIns(3,4,5)P3. The effects of SDF-1 on D-3 phosphoinositide lipid accumulation correlated well with activation of the known PI 3-kinase effector protein kinase B, which was also inhibited by wortmannin and pertussis toxin. Concentrations of PI 3-kinase inhibitors, sufficient to inhibit PtdIns(3,4,5)P3 accumulation, also inhibited chemotaxis of Jurkat and peripheral blood-derived T lymphocytes in response to SDF-1. In contrast, SDF-1-stimulated actin polymerization was only partially inhibited by PI 3-kinase inhibitors, suggesting that while chemotaxis is fully dependent on PI 3-kinase activation, actin polymerization requires additional biochemical inputs. Finally, SDF-1-stimulated extracellular signal-related kinase (ERK)-1/2 mitogen-activated protein kinase activation was inhibited by PI 3-kinase inhibitors. In addition, the mitogen-activated protein/ERK kinase inhibitor PD098059 partially attenuated chemotaxis in response to SDF-1. Hence, it appears that ERK1/2 activation is dependent on PI 3-kinase activation, and both biochemical events are involved in the regulation of SDF-1-stimulated chemotaxis.\n",
      "\n",
      "generated_summary\n",
      "\n"
     ]
    },
    {
     "data": {
      "application/vnd.jupyter.widget-view+json": {
       "model_id": "46a9c6074eed440083dbbe4596bb5e33",
       "version_major": 2,
       "version_minor": 0
      },
      "text/plain": [
       "Training:   0%|          | 0/6100 [00:00<?, ?it/s]"
      ]
     },
     "metadata": {},
     "output_type": "display_data"
    },
    {
     "name": "stdout",
     "output_type": "stream",
     "text": [
      "loss: 0.06336271017789841\n",
      "\n",
      "After 1st update: \n",
      "\n"
     ]
    },
    {
     "data": {
      "application/vnd.jupyter.widget-view+json": {
       "model_id": "776d4add8fe84b659e151b6702cf5fc7",
       "version_major": 2,
       "version_minor": 0
      },
      "text/plain": [
       "  0%|          | 0/100 [00:00<?, ?it/s]"
      ]
     },
     "metadata": {},
     "output_type": "display_data"
    },
    {
     "name": "stdout",
     "output_type": "stream",
     "text": [
      "new_article\n",
      "\n",
      "We report the cDNA deduced primary structure of a wheat germ agglutinin-reactive nuclear pore complex (NPC) protein of rat. The protein, termed Nup98 (for nucleoporin of 98 kDa), contains numerous GLFG and FG repeats and some FXFG repeats and is thus a vertebrate member of a family of GLFG nucleoporins that were previously discovered in yeast. Immunoelectron microscopy showed Nup98 to be asymmetrically located at the nucleoplasmic side of the NPC. Nup98 functions as one of several docking site nucleoporins in a cytosolic docking activity-mediated binding of a model transport substrate. The docking site of Nup98 was mapped to its N-terminal half, which contains all of the peptide repeats. A recombinant segment of this region depleted the docking activity of cytosol. We suggest that the peptide repeat domain of Nup98, together with peptide repeat domains of other nucleoporins, forms an array of sites for mediated docking of transport substrate, and that bidirectional transport across the NPC proceeds by repeated docking and undocking reactions.\n",
      "\n",
      "generated_summary\n",
      "\n",
      "Nup98 located_in cytosol.Nup98 involved_in transport of protein.Nup98 involved_in transport of protein.Nup98 involved_in transport of protein.Nup98 involved_in transport of protein.Nup98 involved_in transport of protein.Nup98 involved_in transport of protein.Nup98 involved_in transport of protein.Nup98 involved_in transport of protein.Nup98 involved_in transport of protein.\n",
      "\n",
      "actual_summary\n",
      "\n",
      "The peptide repeat domain of nucleoporin Nup98 functions as a docking site in transport across the nuclear pore complex.NUP98 enables transporter activity. <|pad|> <|pad|> <|pad|> <|pad|> <|pad|> <|pad|> <|pad|> <|pad|> <|pad|> <|pad|> <|pad|> <|pad|> <|pad|> <|pad|> <|pad|> <|pad|> <|pad|> <|pad|> <|pad|> <|pad|> <|pad|> <|pad|> <|pad|> <|pad|> <|pad|> <|pad|> <|pad|> <|pad|> <|pad|> <|pad|> <|pad|> <|pad|> <|pad|> <|pad|> <|pad|> <|pad|> <|pad|> <|pad|> <|pad|> <|pad|> <|pad|> <|pad|> <|pad|> <|pad|> <|pad|> <|pad|> <|pad|> <|pad|> <|pad|> <|pad|> <|pad|> <|pad|> <|pad|> <|pad|> <|pad|> <|pad|> <|pad|> <|pad|> <|pad|> <|pad|> <|pad|> <|pad|> <|pad|> <|pad|> <|pad|> <|pad|>\n",
      "\n"
     ]
    },
    {
     "data": {
      "application/vnd.jupyter.widget-view+json": {
       "model_id": "c6f495a891e140e581fa91a7fd7abad4",
       "version_major": 2,
       "version_minor": 0
      },
      "text/plain": [
       "  0%|          | 0/100 [00:00<?, ?it/s]"
      ]
     },
     "metadata": {},
     "output_type": "display_data"
    },
    {
     "name": "stdout",
     "output_type": "stream",
     "text": [
      "new_article\n",
      "\n",
      "The cellular effects of stromal cell-derived factor-1 (SDF-1) are mediated primarily by binding to the CXC chemokine receptor-4. We report in this study that SDF-1 and its peptide analogues induce a concentration- and time-dependent accumulation of phosphatidylinositol-(3,4,5)-trisphosphate (PtdIns(3,4,5)P3) in Jurkat cells. This SDF-1-stimulated generation of D-3 phosphoinositide lipids was inhibited by pretreatment of the cells with an SDF-1 peptide antagonist or an anti-CXCR4 Ab. In addition, the phosphoinositide 3 (PI 3)-kinase inhibitors wortmannin and LY294002, as well as the Gi protein inhibitor pertussis toxin, also inhibited the SDF-1-stimulated accumulation of PtdIns(3,4,5)P3. The effects of SDF-1 on D-3 phosphoinositide lipid accumulation correlated well with activation of the known PI 3-kinase effector protein kinase B, which was also inhibited by wortmannin and pertussis toxin. Concentrations of PI 3-kinase inhibitors, sufficient to inhibit PtdIns(3,4,5)P3 accumulation, also inhibited chemotaxis of Jurkat and peripheral blood-derived T lymphocytes in response to SDF-1. In contrast, SDF-1-stimulated actin polymerization was only partially inhibited by PI 3-kinase inhibitors, suggesting that while chemotaxis is fully dependent on PI 3-kinase activation, actin polymerization requires additional biochemical inputs. Finally, SDF-1-stimulated extracellular signal-related kinase (ERK)-1/2 mitogen-activated protein kinase activation was inhibited by PI 3-kinase inhibitors. In addition, the mitogen-activated protein/ERK kinase inhibitor PD098059 partially attenuated chemotaxis in response to SDF-1. Hence, it appears that ERK1/2 activation is dependent on PI 3-kinase activation, and both biochemical events are involved in the regulation of SDF-1-stimulated chemotaxis.\n",
      "\n",
      "generated_summary\n",
      "\n",
      "SDF-1 and its peptideues inhibit chemotaxis.SDF-1-stimulated chemotaxis is required for the regulation of cytoskeleton activity.PI3-kinase B enables chemotaxis.PI3-kinase B enables chemotaxis.PI3K1 involved_in cytoskeleton activity.PI3K1 involved_in cytoskeleton activity.PI3K1 involved_in cytoskeleton activity.PI3K1 involved_in\n",
      "\n",
      "actual_summary\n",
      "\n",
      "The CXC chemokine stromal cell-derived factor activates a Gi-coupled phosphoinositide 3-kinase in T lymphocytes.AKT1 enables protein kinase activity; involved_in G protein-coupled receptor signaling pathway. <|pad|> <|pad|> <|pad|> <|pad|> <|pad|> <|pad|> <|pad|> <|pad|> <|pad|> <|pad|> <|pad|> <|pad|> <|pad|> <|pad|> <|pad|> <|pad|> <|pad|> <|pad|> <|pad|> <|pad|> <|pad|> <|pad|> <|pad|> <|pad|> <|pad|> <|pad|> <|pad|> <|pad|> <|pad|> <|pad|> <|pad|> <|pad|> <|pad|> <|pad|> <|pad|> <|pad|> <|pad|> <|pad|> <|pad|> <|pad|> <|pad|> <|pad|> <|pad|> <|pad|>\n",
      "\n",
      "loss: 0.10479322075843811\n",
      "\n",
      "loss: 0.07567004859447479\n",
      "\n",
      "loss: 0.09277042746543884\n",
      "\n",
      "loss: 0.03622223064303398\n",
      "\n",
      "loss: 0.09444261342287064\n",
      "\n",
      "loss: 0.0823226198554039\n",
      "\n",
      "loss: 0.06884824484586716\n",
      "\n",
      "loss: 0.05474693700671196\n",
      "\n",
      "loss: 0.07634881138801575\n",
      "\n"
     ]
    },
    {
     "data": {
      "application/vnd.jupyter.widget-view+json": {
       "model_id": "43838565606142e4adc8f3884de95ffa",
       "version_major": 2,
       "version_minor": 0
      },
      "text/plain": [
       "Evaluating:   0%|          | 0/770 [00:00<?, ?it/s]"
      ]
     },
     "metadata": {},
     "output_type": "display_data"
    },
    {
     "name": "stdout",
     "output_type": "stream",
     "text": [
      "perplexity: 10.46277904510498\n",
      "After 201 updates: \n",
      "\n"
     ]
    },
    {
     "data": {
      "application/vnd.jupyter.widget-view+json": {
       "model_id": "1c6091888d2c45b6bfb45fc77a3a49fe",
       "version_major": 2,
       "version_minor": 0
      },
      "text/plain": [
       "  0%|          | 0/100 [00:00<?, ?it/s]"
      ]
     },
     "metadata": {},
     "output_type": "display_data"
    },
    {
     "name": "stdout",
     "output_type": "stream",
     "text": [
      "We report the cDNA deduced primary structure of a wheat germ agglutinin-reactive nuclear pore complex (NPC) protein of rat. The protein, termed Nup98 (for nucleoporin of 98 kDa), contains numerous GLFG and FG repeats and some FXFG repeats and is thus a vertebrate member of a family of GLFG nucleoporins that were previously discovered in yeast. Immunoelectron microscopy showed Nup98 to be asymmetrically located at the nucleoplasmic side of the NPC. Nup98 functions as one of several docking site nucleoporins in a cytosolic docking activity-mediated binding of a model transport substrate. The docking site of Nup98 was mapped to its N-terminal half, which contains all of the peptide repeats. A recombinant segment of this region depleted the docking activity of cytosol. We suggest that the peptide repeat domain of Nup98, together with peptide repeat domains of other nucleoporins, forms an array of sites for mediated docking of transport substrate, and that bidirectional transport across the NPC proceeds by repeated docking and undocking reactions.\n",
      "\n",
      "generated_summary\n",
      "\n"
     ]
    },
    {
     "data": {
      "application/vnd.jupyter.widget-view+json": {
       "model_id": "d23061fea3b945fa964b1605f604d04b",
       "version_major": 2,
       "version_minor": 0
      },
      "text/plain": [
       "  0%|          | 0/100 [00:00<?, ?it/s]"
      ]
     },
     "metadata": {},
     "output_type": "display_data"
    },
    {
     "name": "stdout",
     "output_type": "stream",
     "text": [
      "The cellular effects of stromal cell-derived factor-1 (SDF-1) are mediated primarily by binding to the CXC chemokine receptor-4. We report in this study that SDF-1 and its peptide analogues induce a concentration- and time-dependent accumulation of phosphatidylinositol-(3,4,5)-trisphosphate (PtdIns(3,4,5)P3) in Jurkat cells. This SDF-1-stimulated generation of D-3 phosphoinositide lipids was inhibited by pretreatment of the cells with an SDF-1 peptide antagonist or an anti-CXCR4 Ab. In addition, the phosphoinositide 3 (PI 3)-kinase inhibitors wortmannin and LY294002, as well as the Gi protein inhibitor pertussis toxin, also inhibited the SDF-1-stimulated accumulation of PtdIns(3,4,5)P3. The effects of SDF-1 on D-3 phosphoinositide lipid accumulation correlated well with activation of the known PI 3-kinase effector protein kinase B, which was also inhibited by wortmannin and pertussis toxin. Concentrations of PI 3-kinase inhibitors, sufficient to inhibit PtdIns(3,4,5)P3 accumulation, also inhibited chemotaxis of Jurkat and peripheral blood-derived T lymphocytes in response to SDF-1. In contrast, SDF-1-stimulated actin polymerization was only partially inhibited by PI 3-kinase inhibitors, suggesting that while chemotaxis is fully dependent on PI 3-kinase activation, actin polymerization requires additional biochemical inputs. Finally, SDF-1-stimulated extracellular signal-related kinase (ERK)-1/2 mitogen-activated protein kinase activation was inhibited by PI 3-kinase inhibitors. In addition, the mitogen-activated protein/ERK kinase inhibitor PD098059 partially attenuated chemotaxis in response to SDF-1. Hence, it appears that ERK1/2 activation is dependent on PI 3-kinase activation, and both biochemical events are involved in the regulation of SDF-1-stimulated chemotaxis.\n",
      "\n",
      "generated_summary\n",
      "\n",
      "loss: 0.07848864048719406\n",
      "\n",
      "loss: 0.04748031869530678\n",
      "\n",
      "loss: 0.06180395931005478\n",
      "\n",
      "loss: 0.07147597521543503\n",
      "\n",
      "loss: 0.056271396577358246\n",
      "\n",
      "loss: 0.06080899387598038\n",
      "\n",
      "loss: 0.06982159614562988\n",
      "\n",
      "loss: 0.06459502130746841\n",
      "\n",
      "loss: 0.048783931881189346\n",
      "\n",
      "loss: 0.07714619487524033\n",
      "\n"
     ]
    },
    {
     "data": {
      "application/vnd.jupyter.widget-view+json": {
       "model_id": "f8456abc1a924abbb2f37c0bdf7df175",
       "version_major": 2,
       "version_minor": 0
      },
      "text/plain": [
       "Evaluating:   0%|          | 0/770 [00:00<?, ?it/s]"
      ]
     },
     "metadata": {},
     "output_type": "display_data"
    },
    {
     "name": "stdout",
     "output_type": "stream",
     "text": [
      "perplexity: 8.102283477783203\n",
      "After 211 updates: \n",
      "\n"
     ]
    },
    {
     "data": {
      "application/vnd.jupyter.widget-view+json": {
       "model_id": "5d514524fcb44188b0362f6f9ad43012",
       "version_major": 2,
       "version_minor": 0
      },
      "text/plain": [
       "  0%|          | 0/100 [00:00<?, ?it/s]"
      ]
     },
     "metadata": {},
     "output_type": "display_data"
    },
    {
     "name": "stdout",
     "output_type": "stream",
     "text": [
      "We report the cDNA deduced primary structure of a wheat germ agglutinin-reactive nuclear pore complex (NPC) protein of rat. The protein, termed Nup98 (for nucleoporin of 98 kDa), contains numerous GLFG and FG repeats and some FXFG repeats and is thus a vertebrate member of a family of GLFG nucleoporins that were previously discovered in yeast. Immunoelectron microscopy showed Nup98 to be asymmetrically located at the nucleoplasmic side of the NPC. Nup98 functions as one of several docking site nucleoporins in a cytosolic docking activity-mediated binding of a model transport substrate. The docking site of Nup98 was mapped to its N-terminal half, which contains all of the peptide repeats. A recombinant segment of this region depleted the docking activity of cytosol. We suggest that the peptide repeat domain of Nup98, together with peptide repeat domains of other nucleoporins, forms an array of sites for mediated docking of transport substrate, and that bidirectional transport across the NPC proceeds by repeated docking and undocking reactions.\n",
      "\n",
      "generated_summary\n",
      "\n"
     ]
    },
    {
     "data": {
      "application/vnd.jupyter.widget-view+json": {
       "model_id": "11c0d1f3f14e4780bcc3b9a810e75631",
       "version_major": 2,
       "version_minor": 0
      },
      "text/plain": [
       "  0%|          | 0/100 [00:00<?, ?it/s]"
      ]
     },
     "metadata": {},
     "output_type": "display_data"
    },
    {
     "name": "stdout",
     "output_type": "stream",
     "text": [
      "The cellular effects of stromal cell-derived factor-1 (SDF-1) are mediated primarily by binding to the CXC chemokine receptor-4. We report in this study that SDF-1 and its peptide analogues induce a concentration- and time-dependent accumulation of phosphatidylinositol-(3,4,5)-trisphosphate (PtdIns(3,4,5)P3) in Jurkat cells. This SDF-1-stimulated generation of D-3 phosphoinositide lipids was inhibited by pretreatment of the cells with an SDF-1 peptide antagonist or an anti-CXCR4 Ab. In addition, the phosphoinositide 3 (PI 3)-kinase inhibitors wortmannin and LY294002, as well as the Gi protein inhibitor pertussis toxin, also inhibited the SDF-1-stimulated accumulation of PtdIns(3,4,5)P3. The effects of SDF-1 on D-3 phosphoinositide lipid accumulation correlated well with activation of the known PI 3-kinase effector protein kinase B, which was also inhibited by wortmannin and pertussis toxin. Concentrations of PI 3-kinase inhibitors, sufficient to inhibit PtdIns(3,4,5)P3 accumulation, also inhibited chemotaxis of Jurkat and peripheral blood-derived T lymphocytes in response to SDF-1. In contrast, SDF-1-stimulated actin polymerization was only partially inhibited by PI 3-kinase inhibitors, suggesting that while chemotaxis is fully dependent on PI 3-kinase activation, actin polymerization requires additional biochemical inputs. Finally, SDF-1-stimulated extracellular signal-related kinase (ERK)-1/2 mitogen-activated protein kinase activation was inhibited by PI 3-kinase inhibitors. In addition, the mitogen-activated protein/ERK kinase inhibitor PD098059 partially attenuated chemotaxis in response to SDF-1. Hence, it appears that ERK1/2 activation is dependent on PI 3-kinase activation, and both biochemical events are involved in the regulation of SDF-1-stimulated chemotaxis.\n",
      "\n",
      "generated_summary\n",
      "\n",
      "loss: 0.06458145380020142\n",
      "\n",
      "loss: 0.057399991899728775\n",
      "\n",
      "loss: 0.0733436867594719\n",
      "\n",
      "loss: 0.052790168672800064\n",
      "\n",
      "loss: 0.0539386160671711\n",
      "\n",
      "loss: 0.06805510073900223\n",
      "\n",
      "loss: 0.07932113856077194\n",
      "\n",
      "loss: 0.06599152088165283\n",
      "\n",
      "loss: 0.05821235850453377\n",
      "\n",
      "loss: 0.05839318037033081\n",
      "\n"
     ]
    },
    {
     "data": {
      "application/vnd.jupyter.widget-view+json": {
       "model_id": "4c43d1317cb148a7bbb91c4960e8c837",
       "version_major": 2,
       "version_minor": 0
      },
      "text/plain": [
       "Evaluating:   0%|          | 0/770 [00:00<?, ?it/s]"
      ]
     },
     "metadata": {},
     "output_type": "display_data"
    },
    {
     "name": "stdout",
     "output_type": "stream",
     "text": [
      "perplexity: 7.768898963928223\n",
      "After 221 updates: \n",
      "\n"
     ]
    },
    {
     "data": {
      "application/vnd.jupyter.widget-view+json": {
       "model_id": "f12216d0c1814431b5db9037e7b5a09d",
       "version_major": 2,
       "version_minor": 0
      },
      "text/plain": [
       "  0%|          | 0/100 [00:00<?, ?it/s]"
      ]
     },
     "metadata": {},
     "output_type": "display_data"
    },
    {
     "name": "stdout",
     "output_type": "stream",
     "text": [
      "We report the cDNA deduced primary structure of a wheat germ agglutinin-reactive nuclear pore complex (NPC) protein of rat. The protein, termed Nup98 (for nucleoporin of 98 kDa), contains numerous GLFG and FG repeats and some FXFG repeats and is thus a vertebrate member of a family of GLFG nucleoporins that were previously discovered in yeast. Immunoelectron microscopy showed Nup98 to be asymmetrically located at the nucleoplasmic side of the NPC. Nup98 functions as one of several docking site nucleoporins in a cytosolic docking activity-mediated binding of a model transport substrate. The docking site of Nup98 was mapped to its N-terminal half, which contains all of the peptide repeats. A recombinant segment of this region depleted the docking activity of cytosol. We suggest that the peptide repeat domain of Nup98, together with peptide repeat domains of other nucleoporins, forms an array of sites for mediated docking of transport substrate, and that bidirectional transport across the NPC proceeds by repeated docking and undocking reactions.\n",
      "\n",
      "generated_summary\n",
      "\n"
     ]
    },
    {
     "data": {
      "application/vnd.jupyter.widget-view+json": {
       "model_id": "53db4caa9c1f4800887be21d13e78d37",
       "version_major": 2,
       "version_minor": 0
      },
      "text/plain": [
       "  0%|          | 0/100 [00:00<?, ?it/s]"
      ]
     },
     "metadata": {},
     "output_type": "display_data"
    },
    {
     "name": "stdout",
     "output_type": "stream",
     "text": [
      "The cellular effects of stromal cell-derived factor-1 (SDF-1) are mediated primarily by binding to the CXC chemokine receptor-4. We report in this study that SDF-1 and its peptide analogues induce a concentration- and time-dependent accumulation of phosphatidylinositol-(3,4,5)-trisphosphate (PtdIns(3,4,5)P3) in Jurkat cells. This SDF-1-stimulated generation of D-3 phosphoinositide lipids was inhibited by pretreatment of the cells with an SDF-1 peptide antagonist or an anti-CXCR4 Ab. In addition, the phosphoinositide 3 (PI 3)-kinase inhibitors wortmannin and LY294002, as well as the Gi protein inhibitor pertussis toxin, also inhibited the SDF-1-stimulated accumulation of PtdIns(3,4,5)P3. The effects of SDF-1 on D-3 phosphoinositide lipid accumulation correlated well with activation of the known PI 3-kinase effector protein kinase B, which was also inhibited by wortmannin and pertussis toxin. Concentrations of PI 3-kinase inhibitors, sufficient to inhibit PtdIns(3,4,5)P3 accumulation, also inhibited chemotaxis of Jurkat and peripheral blood-derived T lymphocytes in response to SDF-1. In contrast, SDF-1-stimulated actin polymerization was only partially inhibited by PI 3-kinase inhibitors, suggesting that while chemotaxis is fully dependent on PI 3-kinase activation, actin polymerization requires additional biochemical inputs. Finally, SDF-1-stimulated extracellular signal-related kinase (ERK)-1/2 mitogen-activated protein kinase activation was inhibited by PI 3-kinase inhibitors. In addition, the mitogen-activated protein/ERK kinase inhibitor PD098059 partially attenuated chemotaxis in response to SDF-1. Hence, it appears that ERK1/2 activation is dependent on PI 3-kinase activation, and both biochemical events are involved in the regulation of SDF-1-stimulated chemotaxis.\n",
      "\n",
      "generated_summary\n",
      "\n",
      "loss: 0.09846211969852448\n",
      "\n",
      "loss: 0.059451449662446976\n",
      "\n",
      "loss: 0.09855230897665024\n",
      "\n",
      "loss: 0.05371012166142464\n",
      "\n",
      "loss: 0.11248794198036194\n",
      "\n",
      "loss: 0.08898043632507324\n",
      "\n",
      "loss: 0.04088880121707916\n",
      "\n",
      "loss: 0.04572276771068573\n",
      "\n",
      "loss: 0.060527168214321136\n",
      "\n",
      "loss: 0.04778943955898285\n",
      "\n"
     ]
    },
    {
     "data": {
      "application/vnd.jupyter.widget-view+json": {
       "model_id": "2ec37979978b4ebaa6b5e34b384b122d",
       "version_major": 2,
       "version_minor": 0
      },
      "text/plain": [
       "Evaluating:   0%|          | 0/770 [00:00<?, ?it/s]"
      ]
     },
     "metadata": {},
     "output_type": "display_data"
    },
    {
     "name": "stdout",
     "output_type": "stream",
     "text": [
      "perplexity: 7.244889736175537\n",
      "After 231 updates: \n",
      "\n"
     ]
    },
    {
     "data": {
      "application/vnd.jupyter.widget-view+json": {
       "model_id": "a9a2ff2ede2e4749b1f6647b9b178caf",
       "version_major": 2,
       "version_minor": 0
      },
      "text/plain": [
       "  0%|          | 0/100 [00:00<?, ?it/s]"
      ]
     },
     "metadata": {},
     "output_type": "display_data"
    },
    {
     "name": "stdout",
     "output_type": "stream",
     "text": [
      "We report the cDNA deduced primary structure of a wheat germ agglutinin-reactive nuclear pore complex (NPC) protein of rat. The protein, termed Nup98 (for nucleoporin of 98 kDa), contains numerous GLFG and FG repeats and some FXFG repeats and is thus a vertebrate member of a family of GLFG nucleoporins that were previously discovered in yeast. Immunoelectron microscopy showed Nup98 to be asymmetrically located at the nucleoplasmic side of the NPC. Nup98 functions as one of several docking site nucleoporins in a cytosolic docking activity-mediated binding of a model transport substrate. The docking site of Nup98 was mapped to its N-terminal half, which contains all of the peptide repeats. A recombinant segment of this region depleted the docking activity of cytosol. We suggest that the peptide repeat domain of Nup98, together with peptide repeat domains of other nucleoporins, forms an array of sites for mediated docking of transport substrate, and that bidirectional transport across the NPC proceeds by repeated docking and undocking reactions.\n",
      "\n",
      "generated_summary\n",
      "\n"
     ]
    },
    {
     "data": {
      "application/vnd.jupyter.widget-view+json": {
       "model_id": "d33f95b2706a498a8d982ef05ab4f752",
       "version_major": 2,
       "version_minor": 0
      },
      "text/plain": [
       "  0%|          | 0/100 [00:00<?, ?it/s]"
      ]
     },
     "metadata": {},
     "output_type": "display_data"
    },
    {
     "name": "stdout",
     "output_type": "stream",
     "text": [
      "The cellular effects of stromal cell-derived factor-1 (SDF-1) are mediated primarily by binding to the CXC chemokine receptor-4. We report in this study that SDF-1 and its peptide analogues induce a concentration- and time-dependent accumulation of phosphatidylinositol-(3,4,5)-trisphosphate (PtdIns(3,4,5)P3) in Jurkat cells. This SDF-1-stimulated generation of D-3 phosphoinositide lipids was inhibited by pretreatment of the cells with an SDF-1 peptide antagonist or an anti-CXCR4 Ab. In addition, the phosphoinositide 3 (PI 3)-kinase inhibitors wortmannin and LY294002, as well as the Gi protein inhibitor pertussis toxin, also inhibited the SDF-1-stimulated accumulation of PtdIns(3,4,5)P3. The effects of SDF-1 on D-3 phosphoinositide lipid accumulation correlated well with activation of the known PI 3-kinase effector protein kinase B, which was also inhibited by wortmannin and pertussis toxin. Concentrations of PI 3-kinase inhibitors, sufficient to inhibit PtdIns(3,4,5)P3 accumulation, also inhibited chemotaxis of Jurkat and peripheral blood-derived T lymphocytes in response to SDF-1. In contrast, SDF-1-stimulated actin polymerization was only partially inhibited by PI 3-kinase inhibitors, suggesting that while chemotaxis is fully dependent on PI 3-kinase activation, actin polymerization requires additional biochemical inputs. Finally, SDF-1-stimulated extracellular signal-related kinase (ERK)-1/2 mitogen-activated protein kinase activation was inhibited by PI 3-kinase inhibitors. In addition, the mitogen-activated protein/ERK kinase inhibitor PD098059 partially attenuated chemotaxis in response to SDF-1. Hence, it appears that ERK1/2 activation is dependent on PI 3-kinase activation, and both biochemical events are involved in the regulation of SDF-1-stimulated chemotaxis.\n",
      "\n",
      "generated_summary\n",
      "\n",
      "loss: 0.059679318219423294\n",
      "\n",
      "loss: 0.05709964036941528\n",
      "\n",
      "loss: 0.06662073731422424\n",
      "\n",
      "loss: 0.07135478407144547\n",
      "\n",
      "loss: 0.0751432403922081\n",
      "\n",
      "loss: 0.08112332969903946\n",
      "\n",
      "loss: 0.06670086085796356\n",
      "\n",
      "loss: 0.07232481241226196\n",
      "\n",
      "loss: 0.06800168752670288\n",
      "\n",
      "loss: 0.07191178947687149\n",
      "\n"
     ]
    },
    {
     "data": {
      "application/vnd.jupyter.widget-view+json": {
       "model_id": "296f6866b1044c86be38909663e89691",
       "version_major": 2,
       "version_minor": 0
      },
      "text/plain": [
       "Evaluating:   0%|          | 0/770 [00:00<?, ?it/s]"
      ]
     },
     "metadata": {},
     "output_type": "display_data"
    },
    {
     "name": "stdout",
     "output_type": "stream",
     "text": [
      "perplexity: 7.064426898956299\n",
      "After 241 updates: \n",
      "\n"
     ]
    },
    {
     "data": {
      "application/vnd.jupyter.widget-view+json": {
       "model_id": "419844fb4ecf4fb3a6465a8f589ba07d",
       "version_major": 2,
       "version_minor": 0
      },
      "text/plain": [
       "  0%|          | 0/100 [00:00<?, ?it/s]"
      ]
     },
     "metadata": {},
     "output_type": "display_data"
    },
    {
     "name": "stdout",
     "output_type": "stream",
     "text": [
      "We report the cDNA deduced primary structure of a wheat germ agglutinin-reactive nuclear pore complex (NPC) protein of rat. The protein, termed Nup98 (for nucleoporin of 98 kDa), contains numerous GLFG and FG repeats and some FXFG repeats and is thus a vertebrate member of a family of GLFG nucleoporins that were previously discovered in yeast. Immunoelectron microscopy showed Nup98 to be asymmetrically located at the nucleoplasmic side of the NPC. Nup98 functions as one of several docking site nucleoporins in a cytosolic docking activity-mediated binding of a model transport substrate. The docking site of Nup98 was mapped to its N-terminal half, which contains all of the peptide repeats. A recombinant segment of this region depleted the docking activity of cytosol. We suggest that the peptide repeat domain of Nup98, together with peptide repeat domains of other nucleoporins, forms an array of sites for mediated docking of transport substrate, and that bidirectional transport across the NPC proceeds by repeated docking and undocking reactions.\n",
      "\n",
      "generated_summary\n",
      "\n"
     ]
    },
    {
     "data": {
      "application/vnd.jupyter.widget-view+json": {
       "model_id": "5085f66e8b254855884ab825108b316f",
       "version_major": 2,
       "version_minor": 0
      },
      "text/plain": [
       "  0%|          | 0/100 [00:00<?, ?it/s]"
      ]
     },
     "metadata": {},
     "output_type": "display_data"
    },
    {
     "name": "stdout",
     "output_type": "stream",
     "text": [
      "The cellular effects of stromal cell-derived factor-1 (SDF-1) are mediated primarily by binding to the CXC chemokine receptor-4. We report in this study that SDF-1 and its peptide analogues induce a concentration- and time-dependent accumulation of phosphatidylinositol-(3,4,5)-trisphosphate (PtdIns(3,4,5)P3) in Jurkat cells. This SDF-1-stimulated generation of D-3 phosphoinositide lipids was inhibited by pretreatment of the cells with an SDF-1 peptide antagonist or an anti-CXCR4 Ab. In addition, the phosphoinositide 3 (PI 3)-kinase inhibitors wortmannin and LY294002, as well as the Gi protein inhibitor pertussis toxin, also inhibited the SDF-1-stimulated accumulation of PtdIns(3,4,5)P3. The effects of SDF-1 on D-3 phosphoinositide lipid accumulation correlated well with activation of the known PI 3-kinase effector protein kinase B, which was also inhibited by wortmannin and pertussis toxin. Concentrations of PI 3-kinase inhibitors, sufficient to inhibit PtdIns(3,4,5)P3 accumulation, also inhibited chemotaxis of Jurkat and peripheral blood-derived T lymphocytes in response to SDF-1. In contrast, SDF-1-stimulated actin polymerization was only partially inhibited by PI 3-kinase inhibitors, suggesting that while chemotaxis is fully dependent on PI 3-kinase activation, actin polymerization requires additional biochemical inputs. Finally, SDF-1-stimulated extracellular signal-related kinase (ERK)-1/2 mitogen-activated protein kinase activation was inhibited by PI 3-kinase inhibitors. In addition, the mitogen-activated protein/ERK kinase inhibitor PD098059 partially attenuated chemotaxis in response to SDF-1. Hence, it appears that ERK1/2 activation is dependent on PI 3-kinase activation, and both biochemical events are involved in the regulation of SDF-1-stimulated chemotaxis.\n",
      "\n",
      "generated_summary\n",
      "\n",
      "loss: 0.06569784879684448\n",
      "\n",
      "loss: 0.05965692922472954\n",
      "\n",
      "loss: 0.08203006535768509\n",
      "\n",
      "loss: 0.0651070773601532\n",
      "\n",
      "loss: 0.10319911688566208\n",
      "\n",
      "loss: 0.08853960037231445\n",
      "\n",
      "loss: 0.06495700031518936\n",
      "\n",
      "loss: 0.07417552173137665\n",
      "\n",
      "loss: 0.054855018854141235\n",
      "\n",
      "loss: 0.06356866657733917\n",
      "\n"
     ]
    },
    {
     "data": {
      "application/vnd.jupyter.widget-view+json": {
       "model_id": "e37737fdce4b4c09b2c8dfb50f5706c5",
       "version_major": 2,
       "version_minor": 0
      },
      "text/plain": [
       "Evaluating:   0%|          | 0/770 [00:00<?, ?it/s]"
      ]
     },
     "metadata": {},
     "output_type": "display_data"
    },
    {
     "name": "stdout",
     "output_type": "stream",
     "text": [
      "perplexity: 6.89743185043335\n",
      "After 251 updates: \n",
      "\n"
     ]
    },
    {
     "data": {
      "application/vnd.jupyter.widget-view+json": {
       "model_id": "0684bd02926b4f60bd1f579620d4f4c9",
       "version_major": 2,
       "version_minor": 0
      },
      "text/plain": [
       "  0%|          | 0/100 [00:00<?, ?it/s]"
      ]
     },
     "metadata": {},
     "output_type": "display_data"
    },
    {
     "name": "stdout",
     "output_type": "stream",
     "text": [
      "We report the cDNA deduced primary structure of a wheat germ agglutinin-reactive nuclear pore complex (NPC) protein of rat. The protein, termed Nup98 (for nucleoporin of 98 kDa), contains numerous GLFG and FG repeats and some FXFG repeats and is thus a vertebrate member of a family of GLFG nucleoporins that were previously discovered in yeast. Immunoelectron microscopy showed Nup98 to be asymmetrically located at the nucleoplasmic side of the NPC. Nup98 functions as one of several docking site nucleoporins in a cytosolic docking activity-mediated binding of a model transport substrate. The docking site of Nup98 was mapped to its N-terminal half, which contains all of the peptide repeats. A recombinant segment of this region depleted the docking activity of cytosol. We suggest that the peptide repeat domain of Nup98, together with peptide repeat domains of other nucleoporins, forms an array of sites for mediated docking of transport substrate, and that bidirectional transport across the NPC proceeds by repeated docking and undocking reactions.\n",
      "\n",
      "generated_summary\n",
      "\n"
     ]
    },
    {
     "data": {
      "application/vnd.jupyter.widget-view+json": {
       "model_id": "a0652a0f183f46999e107a08fe92f0b3",
       "version_major": 2,
       "version_minor": 0
      },
      "text/plain": [
       "  0%|          | 0/100 [00:00<?, ?it/s]"
      ]
     },
     "metadata": {},
     "output_type": "display_data"
    },
    {
     "name": "stdout",
     "output_type": "stream",
     "text": [
      "The cellular effects of stromal cell-derived factor-1 (SDF-1) are mediated primarily by binding to the CXC chemokine receptor-4. We report in this study that SDF-1 and its peptide analogues induce a concentration- and time-dependent accumulation of phosphatidylinositol-(3,4,5)-trisphosphate (PtdIns(3,4,5)P3) in Jurkat cells. This SDF-1-stimulated generation of D-3 phosphoinositide lipids was inhibited by pretreatment of the cells with an SDF-1 peptide antagonist or an anti-CXCR4 Ab. In addition, the phosphoinositide 3 (PI 3)-kinase inhibitors wortmannin and LY294002, as well as the Gi protein inhibitor pertussis toxin, also inhibited the SDF-1-stimulated accumulation of PtdIns(3,4,5)P3. The effects of SDF-1 on D-3 phosphoinositide lipid accumulation correlated well with activation of the known PI 3-kinase effector protein kinase B, which was also inhibited by wortmannin and pertussis toxin. Concentrations of PI 3-kinase inhibitors, sufficient to inhibit PtdIns(3,4,5)P3 accumulation, also inhibited chemotaxis of Jurkat and peripheral blood-derived T lymphocytes in response to SDF-1. In contrast, SDF-1-stimulated actin polymerization was only partially inhibited by PI 3-kinase inhibitors, suggesting that while chemotaxis is fully dependent on PI 3-kinase activation, actin polymerization requires additional biochemical inputs. Finally, SDF-1-stimulated extracellular signal-related kinase (ERK)-1/2 mitogen-activated protein kinase activation was inhibited by PI 3-kinase inhibitors. In addition, the mitogen-activated protein/ERK kinase inhibitor PD098059 partially attenuated chemotaxis in response to SDF-1. Hence, it appears that ERK1/2 activation is dependent on PI 3-kinase activation, and both biochemical events are involved in the regulation of SDF-1-stimulated chemotaxis.\n",
      "\n",
      "generated_summary\n",
      "\n",
      "loss: 0.04616472125053406\n",
      "\n",
      "loss: 0.062416233122348785\n",
      "\n",
      "loss: 0.09172996133565903\n",
      "\n",
      "loss: 0.0683613047003746\n",
      "\n",
      "loss: 0.055227313190698624\n",
      "\n",
      "loss: 0.05660383403301239\n",
      "\n",
      "loss: 0.09732075035572052\n",
      "\n",
      "loss: 0.0688338652253151\n",
      "\n",
      "loss: 0.06953512132167816\n",
      "\n",
      "loss: 0.05933336541056633\n",
      "\n"
     ]
    },
    {
     "data": {
      "application/vnd.jupyter.widget-view+json": {
       "model_id": "b5172c235d3248b8a6a544cce9dbef5b",
       "version_major": 2,
       "version_minor": 0
      },
      "text/plain": [
       "Evaluating:   0%|          | 0/770 [00:00<?, ?it/s]"
      ]
     },
     "metadata": {},
     "output_type": "display_data"
    },
    {
     "name": "stdout",
     "output_type": "stream",
     "text": [
      "perplexity: 6.7778143882751465\n",
      "After 261 updates: \n",
      "\n"
     ]
    },
    {
     "data": {
      "application/vnd.jupyter.widget-view+json": {
       "model_id": "08f6ee7151ee49d2b965940742f8e3bd",
       "version_major": 2,
       "version_minor": 0
      },
      "text/plain": [
       "  0%|          | 0/100 [00:00<?, ?it/s]"
      ]
     },
     "metadata": {},
     "output_type": "display_data"
    },
    {
     "name": "stdout",
     "output_type": "stream",
     "text": [
      "We report the cDNA deduced primary structure of a wheat germ agglutinin-reactive nuclear pore complex (NPC) protein of rat. The protein, termed Nup98 (for nucleoporin of 98 kDa), contains numerous GLFG and FG repeats and some FXFG repeats and is thus a vertebrate member of a family of GLFG nucleoporins that were previously discovered in yeast. Immunoelectron microscopy showed Nup98 to be asymmetrically located at the nucleoplasmic side of the NPC. Nup98 functions as one of several docking site nucleoporins in a cytosolic docking activity-mediated binding of a model transport substrate. The docking site of Nup98 was mapped to its N-terminal half, which contains all of the peptide repeats. A recombinant segment of this region depleted the docking activity of cytosol. We suggest that the peptide repeat domain of Nup98, together with peptide repeat domains of other nucleoporins, forms an array of sites for mediated docking of transport substrate, and that bidirectional transport across the NPC proceeds by repeated docking and undocking reactions.\n",
      "\n",
      "generated_summary\n",
      "\n"
     ]
    },
    {
     "data": {
      "application/vnd.jupyter.widget-view+json": {
       "model_id": "7aec0e5d6dc74e4d964b28de6028f462",
       "version_major": 2,
       "version_minor": 0
      },
      "text/plain": [
       "  0%|          | 0/100 [00:00<?, ?it/s]"
      ]
     },
     "metadata": {},
     "output_type": "display_data"
    },
    {
     "name": "stdout",
     "output_type": "stream",
     "text": [
      "The cellular effects of stromal cell-derived factor-1 (SDF-1) are mediated primarily by binding to the CXC chemokine receptor-4. We report in this study that SDF-1 and its peptide analogues induce a concentration- and time-dependent accumulation of phosphatidylinositol-(3,4,5)-trisphosphate (PtdIns(3,4,5)P3) in Jurkat cells. This SDF-1-stimulated generation of D-3 phosphoinositide lipids was inhibited by pretreatment of the cells with an SDF-1 peptide antagonist or an anti-CXCR4 Ab. In addition, the phosphoinositide 3 (PI 3)-kinase inhibitors wortmannin and LY294002, as well as the Gi protein inhibitor pertussis toxin, also inhibited the SDF-1-stimulated accumulation of PtdIns(3,4,5)P3. The effects of SDF-1 on D-3 phosphoinositide lipid accumulation correlated well with activation of the known PI 3-kinase effector protein kinase B, which was also inhibited by wortmannin and pertussis toxin. Concentrations of PI 3-kinase inhibitors, sufficient to inhibit PtdIns(3,4,5)P3 accumulation, also inhibited chemotaxis of Jurkat and peripheral blood-derived T lymphocytes in response to SDF-1. In contrast, SDF-1-stimulated actin polymerization was only partially inhibited by PI 3-kinase inhibitors, suggesting that while chemotaxis is fully dependent on PI 3-kinase activation, actin polymerization requires additional biochemical inputs. Finally, SDF-1-stimulated extracellular signal-related kinase (ERK)-1/2 mitogen-activated protein kinase activation was inhibited by PI 3-kinase inhibitors. In addition, the mitogen-activated protein/ERK kinase inhibitor PD098059 partially attenuated chemotaxis in response to SDF-1. Hence, it appears that ERK1/2 activation is dependent on PI 3-kinase activation, and both biochemical events are involved in the regulation of SDF-1-stimulated chemotaxis.\n",
      "\n",
      "generated_summary\n",
      "\n",
      "loss: 0.07697957754135132\n",
      "\n",
      "loss: 0.0626315250992775\n",
      "\n",
      "loss: 0.08100002259016037\n",
      "\n",
      "loss: 0.057666242122650146\n",
      "\n",
      "loss: 0.06523975729942322\n",
      "\n",
      "loss: 0.1235966682434082\n",
      "\n",
      "loss: 0.06887601315975189\n",
      "\n",
      "loss: 0.08374074846506119\n",
      "\n",
      "loss: 0.07542645186185837\n",
      "\n",
      "loss: 0.06682691723108292\n",
      "\n"
     ]
    },
    {
     "data": {
      "application/vnd.jupyter.widget-view+json": {
       "model_id": "1d95cf7b774f4bfca9696a26c8b1244d",
       "version_major": 2,
       "version_minor": 0
      },
      "text/plain": [
       "Evaluating:   0%|          | 0/770 [00:00<?, ?it/s]"
      ]
     },
     "metadata": {},
     "output_type": "display_data"
    },
    {
     "name": "stdout",
     "output_type": "stream",
     "text": [
      "perplexity: 6.780887126922607\n",
      "After 271 updates: \n",
      "\n"
     ]
    },
    {
     "data": {
      "application/vnd.jupyter.widget-view+json": {
       "model_id": "a0b0241e671d438e9abca74e2e3ec0db",
       "version_major": 2,
       "version_minor": 0
      },
      "text/plain": [
       "  0%|          | 0/100 [00:00<?, ?it/s]"
      ]
     },
     "metadata": {},
     "output_type": "display_data"
    },
    {
     "name": "stdout",
     "output_type": "stream",
     "text": [
      "We report the cDNA deduced primary structure of a wheat germ agglutinin-reactive nuclear pore complex (NPC) protein of rat. The protein, termed Nup98 (for nucleoporin of 98 kDa), contains numerous GLFG and FG repeats and some FXFG repeats and is thus a vertebrate member of a family of GLFG nucleoporins that were previously discovered in yeast. Immunoelectron microscopy showed Nup98 to be asymmetrically located at the nucleoplasmic side of the NPC. Nup98 functions as one of several docking site nucleoporins in a cytosolic docking activity-mediated binding of a model transport substrate. The docking site of Nup98 was mapped to its N-terminal half, which contains all of the peptide repeats. A recombinant segment of this region depleted the docking activity of cytosol. We suggest that the peptide repeat domain of Nup98, together with peptide repeat domains of other nucleoporins, forms an array of sites for mediated docking of transport substrate, and that bidirectional transport across the NPC proceeds by repeated docking and undocking reactions.\n",
      "\n",
      "generated_summary\n",
      "\n"
     ]
    },
    {
     "data": {
      "application/vnd.jupyter.widget-view+json": {
       "model_id": "43959b1e1bfc495abf66354530cf395b",
       "version_major": 2,
       "version_minor": 0
      },
      "text/plain": [
       "  0%|          | 0/100 [00:00<?, ?it/s]"
      ]
     },
     "metadata": {},
     "output_type": "display_data"
    },
    {
     "name": "stdout",
     "output_type": "stream",
     "text": [
      "The cellular effects of stromal cell-derived factor-1 (SDF-1) are mediated primarily by binding to the CXC chemokine receptor-4. We report in this study that SDF-1 and its peptide analogues induce a concentration- and time-dependent accumulation of phosphatidylinositol-(3,4,5)-trisphosphate (PtdIns(3,4,5)P3) in Jurkat cells. This SDF-1-stimulated generation of D-3 phosphoinositide lipids was inhibited by pretreatment of the cells with an SDF-1 peptide antagonist or an anti-CXCR4 Ab. In addition, the phosphoinositide 3 (PI 3)-kinase inhibitors wortmannin and LY294002, as well as the Gi protein inhibitor pertussis toxin, also inhibited the SDF-1-stimulated accumulation of PtdIns(3,4,5)P3. The effects of SDF-1 on D-3 phosphoinositide lipid accumulation correlated well with activation of the known PI 3-kinase effector protein kinase B, which was also inhibited by wortmannin and pertussis toxin. Concentrations of PI 3-kinase inhibitors, sufficient to inhibit PtdIns(3,4,5)P3 accumulation, also inhibited chemotaxis of Jurkat and peripheral blood-derived T lymphocytes in response to SDF-1. In contrast, SDF-1-stimulated actin polymerization was only partially inhibited by PI 3-kinase inhibitors, suggesting that while chemotaxis is fully dependent on PI 3-kinase activation, actin polymerization requires additional biochemical inputs. Finally, SDF-1-stimulated extracellular signal-related kinase (ERK)-1/2 mitogen-activated protein kinase activation was inhibited by PI 3-kinase inhibitors. In addition, the mitogen-activated protein/ERK kinase inhibitor PD098059 partially attenuated chemotaxis in response to SDF-1. Hence, it appears that ERK1/2 activation is dependent on PI 3-kinase activation, and both biochemical events are involved in the regulation of SDF-1-stimulated chemotaxis.\n",
      "\n",
      "generated_summary\n",
      "\n",
      "loss: 0.05619152635335922\n",
      "\n",
      "loss: 0.05933598428964615\n",
      "\n",
      "loss: 0.05505027621984482\n",
      "\n",
      "loss: 0.061281926929950714\n",
      "\n",
      "loss: 0.04739423468708992\n",
      "\n",
      "loss: 0.09314461797475815\n",
      "\n",
      "loss: 0.04026394337415695\n",
      "\n",
      "loss: 0.05834659934043884\n",
      "\n",
      "loss: 0.09493804723024368\n",
      "\n",
      "loss: 0.10564649105072021\n",
      "\n"
     ]
    },
    {
     "data": {
      "application/vnd.jupyter.widget-view+json": {
       "model_id": "64c9d41380f34c828070ac6f9f1ffc3b",
       "version_major": 2,
       "version_minor": 0
      },
      "text/plain": [
       "Evaluating:   0%|          | 0/770 [00:00<?, ?it/s]"
      ]
     },
     "metadata": {},
     "output_type": "display_data"
    },
    {
     "name": "stdout",
     "output_type": "stream",
     "text": [
      "perplexity: 6.717642307281494\n",
      "After 281 updates: \n",
      "\n"
     ]
    },
    {
     "data": {
      "application/vnd.jupyter.widget-view+json": {
       "model_id": "8e42eaa1c00a44ab9725286cc47f1c5d",
       "version_major": 2,
       "version_minor": 0
      },
      "text/plain": [
       "  0%|          | 0/100 [00:00<?, ?it/s]"
      ]
     },
     "metadata": {},
     "output_type": "display_data"
    },
    {
     "name": "stdout",
     "output_type": "stream",
     "text": [
      "We report the cDNA deduced primary structure of a wheat germ agglutinin-reactive nuclear pore complex (NPC) protein of rat. The protein, termed Nup98 (for nucleoporin of 98 kDa), contains numerous GLFG and FG repeats and some FXFG repeats and is thus a vertebrate member of a family of GLFG nucleoporins that were previously discovered in yeast. Immunoelectron microscopy showed Nup98 to be asymmetrically located at the nucleoplasmic side of the NPC. Nup98 functions as one of several docking site nucleoporins in a cytosolic docking activity-mediated binding of a model transport substrate. The docking site of Nup98 was mapped to its N-terminal half, which contains all of the peptide repeats. A recombinant segment of this region depleted the docking activity of cytosol. We suggest that the peptide repeat domain of Nup98, together with peptide repeat domains of other nucleoporins, forms an array of sites for mediated docking of transport substrate, and that bidirectional transport across the NPC proceeds by repeated docking and undocking reactions.\n",
      "\n",
      "generated_summary\n",
      "\n"
     ]
    },
    {
     "data": {
      "application/vnd.jupyter.widget-view+json": {
       "model_id": "167c013544c449eebff2edda92ed1768",
       "version_major": 2,
       "version_minor": 0
      },
      "text/plain": [
       "  0%|          | 0/100 [00:00<?, ?it/s]"
      ]
     },
     "metadata": {},
     "output_type": "display_data"
    },
    {
     "name": "stdout",
     "output_type": "stream",
     "text": [
      "The cellular effects of stromal cell-derived factor-1 (SDF-1) are mediated primarily by binding to the CXC chemokine receptor-4. We report in this study that SDF-1 and its peptide analogues induce a concentration- and time-dependent accumulation of phosphatidylinositol-(3,4,5)-trisphosphate (PtdIns(3,4,5)P3) in Jurkat cells. This SDF-1-stimulated generation of D-3 phosphoinositide lipids was inhibited by pretreatment of the cells with an SDF-1 peptide antagonist or an anti-CXCR4 Ab. In addition, the phosphoinositide 3 (PI 3)-kinase inhibitors wortmannin and LY294002, as well as the Gi protein inhibitor pertussis toxin, also inhibited the SDF-1-stimulated accumulation of PtdIns(3,4,5)P3. The effects of SDF-1 on D-3 phosphoinositide lipid accumulation correlated well with activation of the known PI 3-kinase effector protein kinase B, which was also inhibited by wortmannin and pertussis toxin. Concentrations of PI 3-kinase inhibitors, sufficient to inhibit PtdIns(3,4,5)P3 accumulation, also inhibited chemotaxis of Jurkat and peripheral blood-derived T lymphocytes in response to SDF-1. In contrast, SDF-1-stimulated actin polymerization was only partially inhibited by PI 3-kinase inhibitors, suggesting that while chemotaxis is fully dependent on PI 3-kinase activation, actin polymerization requires additional biochemical inputs. Finally, SDF-1-stimulated extracellular signal-related kinase (ERK)-1/2 mitogen-activated protein kinase activation was inhibited by PI 3-kinase inhibitors. In addition, the mitogen-activated protein/ERK kinase inhibitor PD098059 partially attenuated chemotaxis in response to SDF-1. Hence, it appears that ERK1/2 activation is dependent on PI 3-kinase activation, and both biochemical events are involved in the regulation of SDF-1-stimulated chemotaxis.\n",
      "\n",
      "generated_summary\n",
      "\n",
      "loss: 0.06667394191026688\n",
      "\n",
      "loss: 0.09300650656223297\n",
      "\n",
      "loss: 0.05086870118975639\n",
      "\n",
      "loss: 0.03518730401992798\n",
      "\n",
      "loss: 0.06963501125574112\n",
      "\n",
      "loss: 0.11623607575893402\n",
      "\n",
      "loss: 0.07054097205400467\n",
      "\n",
      "loss: 0.10131876915693283\n",
      "\n",
      "loss: 0.08633484691381454\n",
      "\n",
      "loss: 0.050924960523843765\n",
      "\n"
     ]
    },
    {
     "data": {
      "application/vnd.jupyter.widget-view+json": {
       "model_id": "f6874560bd6943f0985fd73e033acb3a",
       "version_major": 2,
       "version_minor": 0
      },
      "text/plain": [
       "Evaluating:   0%|          | 0/770 [00:00<?, ?it/s]"
      ]
     },
     "metadata": {},
     "output_type": "display_data"
    },
    {
     "name": "stdout",
     "output_type": "stream",
     "text": [
      "perplexity: 6.578852653503418\n",
      "After 291 updates: \n",
      "\n"
     ]
    },
    {
     "data": {
      "application/vnd.jupyter.widget-view+json": {
       "model_id": "4747eab5ace34afe847015038d13f63d",
       "version_major": 2,
       "version_minor": 0
      },
      "text/plain": [
       "  0%|          | 0/100 [00:00<?, ?it/s]"
      ]
     },
     "metadata": {},
     "output_type": "display_data"
    },
    {
     "name": "stdout",
     "output_type": "stream",
     "text": [
      "We report the cDNA deduced primary structure of a wheat germ agglutinin-reactive nuclear pore complex (NPC) protein of rat. The protein, termed Nup98 (for nucleoporin of 98 kDa), contains numerous GLFG and FG repeats and some FXFG repeats and is thus a vertebrate member of a family of GLFG nucleoporins that were previously discovered in yeast. Immunoelectron microscopy showed Nup98 to be asymmetrically located at the nucleoplasmic side of the NPC. Nup98 functions as one of several docking site nucleoporins in a cytosolic docking activity-mediated binding of a model transport substrate. The docking site of Nup98 was mapped to its N-terminal half, which contains all of the peptide repeats. A recombinant segment of this region depleted the docking activity of cytosol. We suggest that the peptide repeat domain of Nup98, together with peptide repeat domains of other nucleoporins, forms an array of sites for mediated docking of transport substrate, and that bidirectional transport across the NPC proceeds by repeated docking and undocking reactions.\n",
      "\n",
      "generated_summary\n",
      "\n"
     ]
    },
    {
     "data": {
      "application/vnd.jupyter.widget-view+json": {
       "model_id": "cd2b0bcbee8246e6b9b2d4c2370edf40",
       "version_major": 2,
       "version_minor": 0
      },
      "text/plain": [
       "  0%|          | 0/100 [00:00<?, ?it/s]"
      ]
     },
     "metadata": {},
     "output_type": "display_data"
    },
    {
     "name": "stdout",
     "output_type": "stream",
     "text": [
      "The cellular effects of stromal cell-derived factor-1 (SDF-1) are mediated primarily by binding to the CXC chemokine receptor-4. We report in this study that SDF-1 and its peptide analogues induce a concentration- and time-dependent accumulation of phosphatidylinositol-(3,4,5)-trisphosphate (PtdIns(3,4,5)P3) in Jurkat cells. This SDF-1-stimulated generation of D-3 phosphoinositide lipids was inhibited by pretreatment of the cells with an SDF-1 peptide antagonist or an anti-CXCR4 Ab. In addition, the phosphoinositide 3 (PI 3)-kinase inhibitors wortmannin and LY294002, as well as the Gi protein inhibitor pertussis toxin, also inhibited the SDF-1-stimulated accumulation of PtdIns(3,4,5)P3. The effects of SDF-1 on D-3 phosphoinositide lipid accumulation correlated well with activation of the known PI 3-kinase effector protein kinase B, which was also inhibited by wortmannin and pertussis toxin. Concentrations of PI 3-kinase inhibitors, sufficient to inhibit PtdIns(3,4,5)P3 accumulation, also inhibited chemotaxis of Jurkat and peripheral blood-derived T lymphocytes in response to SDF-1. In contrast, SDF-1-stimulated actin polymerization was only partially inhibited by PI 3-kinase inhibitors, suggesting that while chemotaxis is fully dependent on PI 3-kinase activation, actin polymerization requires additional biochemical inputs. Finally, SDF-1-stimulated extracellular signal-related kinase (ERK)-1/2 mitogen-activated protein kinase activation was inhibited by PI 3-kinase inhibitors. In addition, the mitogen-activated protein/ERK kinase inhibitor PD098059 partially attenuated chemotaxis in response to SDF-1. Hence, it appears that ERK1/2 activation is dependent on PI 3-kinase activation, and both biochemical events are involved in the regulation of SDF-1-stimulated chemotaxis.\n",
      "\n",
      "generated_summary\n",
      "\n",
      "loss: 0.08743380010128021\n",
      "\n",
      "loss: 0.07964938879013062\n",
      "\n",
      "loss: 0.08019226789474487\n",
      "\n",
      "loss: 0.0399102158844471\n",
      "\n",
      "loss: 0.07668467611074448\n",
      "\n",
      "loss: 0.025507934391498566\n",
      "\n",
      "loss: 0.05961788818240166\n",
      "\n",
      "loss: 0.054458241909742355\n",
      "\n",
      "loss: 0.07016777247190475\n",
      "\n",
      "loss: 0.06872212886810303\n",
      "\n"
     ]
    },
    {
     "data": {
      "application/vnd.jupyter.widget-view+json": {
       "model_id": "966a8396883e4dee9f2cd645c0f387e9",
       "version_major": 2,
       "version_minor": 0
      },
      "text/plain": [
       "Evaluating:   0%|          | 0/770 [00:00<?, ?it/s]"
      ]
     },
     "metadata": {},
     "output_type": "display_data"
    },
    {
     "name": "stdout",
     "output_type": "stream",
     "text": [
      "perplexity: 6.552086353302002\n",
      "After 301 updates: \n",
      "\n"
     ]
    },
    {
     "data": {
      "application/vnd.jupyter.widget-view+json": {
       "model_id": "9b6df3a7d20a4f43a3bad40a023934b3",
       "version_major": 2,
       "version_minor": 0
      },
      "text/plain": [
       "  0%|          | 0/100 [00:00<?, ?it/s]"
      ]
     },
     "metadata": {},
     "output_type": "display_data"
    },
    {
     "name": "stdout",
     "output_type": "stream",
     "text": [
      "We report the cDNA deduced primary structure of a wheat germ agglutinin-reactive nuclear pore complex (NPC) protein of rat. The protein, termed Nup98 (for nucleoporin of 98 kDa), contains numerous GLFG and FG repeats and some FXFG repeats and is thus a vertebrate member of a family of GLFG nucleoporins that were previously discovered in yeast. Immunoelectron microscopy showed Nup98 to be asymmetrically located at the nucleoplasmic side of the NPC. Nup98 functions as one of several docking site nucleoporins in a cytosolic docking activity-mediated binding of a model transport substrate. The docking site of Nup98 was mapped to its N-terminal half, which contains all of the peptide repeats. A recombinant segment of this region depleted the docking activity of cytosol. We suggest that the peptide repeat domain of Nup98, together with peptide repeat domains of other nucleoporins, forms an array of sites for mediated docking of transport substrate, and that bidirectional transport across the NPC proceeds by repeated docking and undocking reactions.\n",
      "\n",
      "generated_summary\n",
      "\n"
     ]
    },
    {
     "data": {
      "application/vnd.jupyter.widget-view+json": {
       "model_id": "8e8767b789e74bc5bc06c1918334c4ee",
       "version_major": 2,
       "version_minor": 0
      },
      "text/plain": [
       "  0%|          | 0/100 [00:00<?, ?it/s]"
      ]
     },
     "metadata": {},
     "output_type": "display_data"
    },
    {
     "name": "stdout",
     "output_type": "stream",
     "text": [
      "The cellular effects of stromal cell-derived factor-1 (SDF-1) are mediated primarily by binding to the CXC chemokine receptor-4. We report in this study that SDF-1 and its peptide analogues induce a concentration- and time-dependent accumulation of phosphatidylinositol-(3,4,5)-trisphosphate (PtdIns(3,4,5)P3) in Jurkat cells. This SDF-1-stimulated generation of D-3 phosphoinositide lipids was inhibited by pretreatment of the cells with an SDF-1 peptide antagonist or an anti-CXCR4 Ab. In addition, the phosphoinositide 3 (PI 3)-kinase inhibitors wortmannin and LY294002, as well as the Gi protein inhibitor pertussis toxin, also inhibited the SDF-1-stimulated accumulation of PtdIns(3,4,5)P3. The effects of SDF-1 on D-3 phosphoinositide lipid accumulation correlated well with activation of the known PI 3-kinase effector protein kinase B, which was also inhibited by wortmannin and pertussis toxin. Concentrations of PI 3-kinase inhibitors, sufficient to inhibit PtdIns(3,4,5)P3 accumulation, also inhibited chemotaxis of Jurkat and peripheral blood-derived T lymphocytes in response to SDF-1. In contrast, SDF-1-stimulated actin polymerization was only partially inhibited by PI 3-kinase inhibitors, suggesting that while chemotaxis is fully dependent on PI 3-kinase activation, actin polymerization requires additional biochemical inputs. Finally, SDF-1-stimulated extracellular signal-related kinase (ERK)-1/2 mitogen-activated protein kinase activation was inhibited by PI 3-kinase inhibitors. In addition, the mitogen-activated protein/ERK kinase inhibitor PD098059 partially attenuated chemotaxis in response to SDF-1. Hence, it appears that ERK1/2 activation is dependent on PI 3-kinase activation, and both biochemical events are involved in the regulation of SDF-1-stimulated chemotaxis.\n",
      "\n",
      "generated_summary\n",
      "\n",
      "loss: 0.0431431345641613\n",
      "\n",
      "loss: 0.05560064688324928\n",
      "\n",
      "loss: 0.07337790727615356\n",
      "\n",
      "loss: 0.07026258111000061\n",
      "\n",
      "loss: 0.05611846223473549\n",
      "\n",
      "loss: 0.06431572139263153\n",
      "\n",
      "loss: 0.08217424154281616\n",
      "\n",
      "loss: 0.040526099503040314\n",
      "\n",
      "loss: 0.07103286683559418\n",
      "\n",
      "loss: 0.05030503496527672\n",
      "\n"
     ]
    },
    {
     "data": {
      "application/vnd.jupyter.widget-view+json": {
       "model_id": "56798e4465c54d93bf38e8b29e87dadb",
       "version_major": 2,
       "version_minor": 0
      },
      "text/plain": [
       "Evaluating:   0%|          | 0/770 [00:00<?, ?it/s]"
      ]
     },
     "metadata": {},
     "output_type": "display_data"
    },
    {
     "name": "stdout",
     "output_type": "stream",
     "text": [
      "perplexity: 6.603089332580566\n",
      "After 311 updates: \n",
      "\n"
     ]
    },
    {
     "data": {
      "application/vnd.jupyter.widget-view+json": {
       "model_id": "6f14b1e989b2415f88b485705fd4b646",
       "version_major": 2,
       "version_minor": 0
      },
      "text/plain": [
       "  0%|          | 0/100 [00:00<?, ?it/s]"
      ]
     },
     "metadata": {},
     "output_type": "display_data"
    },
    {
     "name": "stdout",
     "output_type": "stream",
     "text": [
      "We report the cDNA deduced primary structure of a wheat germ agglutinin-reactive nuclear pore complex (NPC) protein of rat. The protein, termed Nup98 (for nucleoporin of 98 kDa), contains numerous GLFG and FG repeats and some FXFG repeats and is thus a vertebrate member of a family of GLFG nucleoporins that were previously discovered in yeast. Immunoelectron microscopy showed Nup98 to be asymmetrically located at the nucleoplasmic side of the NPC. Nup98 functions as one of several docking site nucleoporins in a cytosolic docking activity-mediated binding of a model transport substrate. The docking site of Nup98 was mapped to its N-terminal half, which contains all of the peptide repeats. A recombinant segment of this region depleted the docking activity of cytosol. We suggest that the peptide repeat domain of Nup98, together with peptide repeat domains of other nucleoporins, forms an array of sites for mediated docking of transport substrate, and that bidirectional transport across the NPC proceeds by repeated docking and undocking reactions.\n",
      "\n",
      "generated_summary\n",
      "\n"
     ]
    },
    {
     "data": {
      "application/vnd.jupyter.widget-view+json": {
       "model_id": "6cdb1f4322b84487a82a75d9a2bcb165",
       "version_major": 2,
       "version_minor": 0
      },
      "text/plain": [
       "  0%|          | 0/100 [00:00<?, ?it/s]"
      ]
     },
     "metadata": {},
     "output_type": "display_data"
    },
    {
     "name": "stdout",
     "output_type": "stream",
     "text": [
      "The cellular effects of stromal cell-derived factor-1 (SDF-1) are mediated primarily by binding to the CXC chemokine receptor-4. We report in this study that SDF-1 and its peptide analogues induce a concentration- and time-dependent accumulation of phosphatidylinositol-(3,4,5)-trisphosphate (PtdIns(3,4,5)P3) in Jurkat cells. This SDF-1-stimulated generation of D-3 phosphoinositide lipids was inhibited by pretreatment of the cells with an SDF-1 peptide antagonist or an anti-CXCR4 Ab. In addition, the phosphoinositide 3 (PI 3)-kinase inhibitors wortmannin and LY294002, as well as the Gi protein inhibitor pertussis toxin, also inhibited the SDF-1-stimulated accumulation of PtdIns(3,4,5)P3. The effects of SDF-1 on D-3 phosphoinositide lipid accumulation correlated well with activation of the known PI 3-kinase effector protein kinase B, which was also inhibited by wortmannin and pertussis toxin. Concentrations of PI 3-kinase inhibitors, sufficient to inhibit PtdIns(3,4,5)P3 accumulation, also inhibited chemotaxis of Jurkat and peripheral blood-derived T lymphocytes in response to SDF-1. In contrast, SDF-1-stimulated actin polymerization was only partially inhibited by PI 3-kinase inhibitors, suggesting that while chemotaxis is fully dependent on PI 3-kinase activation, actin polymerization requires additional biochemical inputs. Finally, SDF-1-stimulated extracellular signal-related kinase (ERK)-1/2 mitogen-activated protein kinase activation was inhibited by PI 3-kinase inhibitors. In addition, the mitogen-activated protein/ERK kinase inhibitor PD098059 partially attenuated chemotaxis in response to SDF-1. Hence, it appears that ERK1/2 activation is dependent on PI 3-kinase activation, and both biochemical events are involved in the regulation of SDF-1-stimulated chemotaxis.\n",
      "\n",
      "generated_summary\n",
      "\n",
      "loss: 0.06054620072245598\n",
      "\n",
      "loss: 0.06038469076156616\n",
      "\n",
      "loss: 0.06486783921718597\n",
      "\n",
      "loss: 0.05371028184890747\n",
      "\n",
      "loss: 0.0729173943400383\n",
      "\n",
      "loss: 0.08594166487455368\n",
      "\n",
      "loss: 0.048547159880399704\n",
      "\n",
      "loss: 0.06006719172000885\n",
      "\n",
      "loss: 0.07605971395969391\n",
      "\n",
      "loss: 0.06155124679207802\n",
      "\n"
     ]
    },
    {
     "data": {
      "application/vnd.jupyter.widget-view+json": {
       "model_id": "a33762170e254afca2a8bde0719f5328",
       "version_major": 2,
       "version_minor": 0
      },
      "text/plain": [
       "Evaluating:   0%|          | 0/770 [00:00<?, ?it/s]"
      ]
     },
     "metadata": {},
     "output_type": "display_data"
    },
    {
     "name": "stdout",
     "output_type": "stream",
     "text": [
      "perplexity: 6.418703079223633\n",
      "After 321 updates: \n",
      "\n"
     ]
    },
    {
     "data": {
      "application/vnd.jupyter.widget-view+json": {
       "model_id": "5893be47112d4542b09c0e884056b54f",
       "version_major": 2,
       "version_minor": 0
      },
      "text/plain": [
       "  0%|          | 0/100 [00:00<?, ?it/s]"
      ]
     },
     "metadata": {},
     "output_type": "display_data"
    },
    {
     "name": "stdout",
     "output_type": "stream",
     "text": [
      "We report the cDNA deduced primary structure of a wheat germ agglutinin-reactive nuclear pore complex (NPC) protein of rat. The protein, termed Nup98 (for nucleoporin of 98 kDa), contains numerous GLFG and FG repeats and some FXFG repeats and is thus a vertebrate member of a family of GLFG nucleoporins that were previously discovered in yeast. Immunoelectron microscopy showed Nup98 to be asymmetrically located at the nucleoplasmic side of the NPC. Nup98 functions as one of several docking site nucleoporins in a cytosolic docking activity-mediated binding of a model transport substrate. The docking site of Nup98 was mapped to its N-terminal half, which contains all of the peptide repeats. A recombinant segment of this region depleted the docking activity of cytosol. We suggest that the peptide repeat domain of Nup98, together with peptide repeat domains of other nucleoporins, forms an array of sites for mediated docking of transport substrate, and that bidirectional transport across the NPC proceeds by repeated docking and undocking reactions.\n",
      "\n",
      "generated_summary\n",
      "\n"
     ]
    },
    {
     "data": {
      "application/vnd.jupyter.widget-view+json": {
       "model_id": "b76455072835482faaa970182e82964a",
       "version_major": 2,
       "version_minor": 0
      },
      "text/plain": [
       "  0%|          | 0/100 [00:00<?, ?it/s]"
      ]
     },
     "metadata": {},
     "output_type": "display_data"
    },
    {
     "name": "stdout",
     "output_type": "stream",
     "text": [
      "The cellular effects of stromal cell-derived factor-1 (SDF-1) are mediated primarily by binding to the CXC chemokine receptor-4. We report in this study that SDF-1 and its peptide analogues induce a concentration- and time-dependent accumulation of phosphatidylinositol-(3,4,5)-trisphosphate (PtdIns(3,4,5)P3) in Jurkat cells. This SDF-1-stimulated generation of D-3 phosphoinositide lipids was inhibited by pretreatment of the cells with an SDF-1 peptide antagonist or an anti-CXCR4 Ab. In addition, the phosphoinositide 3 (PI 3)-kinase inhibitors wortmannin and LY294002, as well as the Gi protein inhibitor pertussis toxin, also inhibited the SDF-1-stimulated accumulation of PtdIns(3,4,5)P3. The effects of SDF-1 on D-3 phosphoinositide lipid accumulation correlated well with activation of the known PI 3-kinase effector protein kinase B, which was also inhibited by wortmannin and pertussis toxin. Concentrations of PI 3-kinase inhibitors, sufficient to inhibit PtdIns(3,4,5)P3 accumulation, also inhibited chemotaxis of Jurkat and peripheral blood-derived T lymphocytes in response to SDF-1. In contrast, SDF-1-stimulated actin polymerization was only partially inhibited by PI 3-kinase inhibitors, suggesting that while chemotaxis is fully dependent on PI 3-kinase activation, actin polymerization requires additional biochemical inputs. Finally, SDF-1-stimulated extracellular signal-related kinase (ERK)-1/2 mitogen-activated protein kinase activation was inhibited by PI 3-kinase inhibitors. In addition, the mitogen-activated protein/ERK kinase inhibitor PD098059 partially attenuated chemotaxis in response to SDF-1. Hence, it appears that ERK1/2 activation is dependent on PI 3-kinase activation, and both biochemical events are involved in the regulation of SDF-1-stimulated chemotaxis.\n",
      "\n",
      "generated_summary\n",
      "\n",
      "loss: 0.08097866922616959\n",
      "\n",
      "loss: 0.055951133370399475\n",
      "\n",
      "loss: 0.06011690944433212\n",
      "\n",
      "loss: 0.046411141753196716\n",
      "\n",
      "loss: 0.043129585683345795\n",
      "\n",
      "loss: 0.06223473697900772\n",
      "\n",
      "loss: 0.06219136342406273\n",
      "\n",
      "loss: 0.06738784909248352\n",
      "\n",
      "loss: 0.06425685435533524\n",
      "\n",
      "loss: 0.05828210338950157\n",
      "\n"
     ]
    },
    {
     "data": {
      "application/vnd.jupyter.widget-view+json": {
       "model_id": "b00c8f31013b42899cf97bc3c7a5fe85",
       "version_major": 2,
       "version_minor": 0
      },
      "text/plain": [
       "Evaluating:   0%|          | 0/770 [00:00<?, ?it/s]"
      ]
     },
     "metadata": {},
     "output_type": "display_data"
    },
    {
     "name": "stdout",
     "output_type": "stream",
     "text": [
      "perplexity: 6.282403945922852\n",
      "After 331 updates: \n",
      "\n"
     ]
    },
    {
     "data": {
      "application/vnd.jupyter.widget-view+json": {
       "model_id": "b656d6ccd8314caa81b6305aa93eb4ab",
       "version_major": 2,
       "version_minor": 0
      },
      "text/plain": [
       "  0%|          | 0/100 [00:00<?, ?it/s]"
      ]
     },
     "metadata": {},
     "output_type": "display_data"
    },
    {
     "name": "stdout",
     "output_type": "stream",
     "text": [
      "We report the cDNA deduced primary structure of a wheat germ agglutinin-reactive nuclear pore complex (NPC) protein of rat. The protein, termed Nup98 (for nucleoporin of 98 kDa), contains numerous GLFG and FG repeats and some FXFG repeats and is thus a vertebrate member of a family of GLFG nucleoporins that were previously discovered in yeast. Immunoelectron microscopy showed Nup98 to be asymmetrically located at the nucleoplasmic side of the NPC. Nup98 functions as one of several docking site nucleoporins in a cytosolic docking activity-mediated binding of a model transport substrate. The docking site of Nup98 was mapped to its N-terminal half, which contains all of the peptide repeats. A recombinant segment of this region depleted the docking activity of cytosol. We suggest that the peptide repeat domain of Nup98, together with peptide repeat domains of other nucleoporins, forms an array of sites for mediated docking of transport substrate, and that bidirectional transport across the NPC proceeds by repeated docking and undocking reactions.\n",
      "\n",
      "generated_summary\n",
      "\n"
     ]
    },
    {
     "data": {
      "application/vnd.jupyter.widget-view+json": {
       "model_id": "ba973400ece647b7aee7f4853d4c0024",
       "version_major": 2,
       "version_minor": 0
      },
      "text/plain": [
       "  0%|          | 0/100 [00:00<?, ?it/s]"
      ]
     },
     "metadata": {},
     "output_type": "display_data"
    },
    {
     "name": "stdout",
     "output_type": "stream",
     "text": [
      "The cellular effects of stromal cell-derived factor-1 (SDF-1) are mediated primarily by binding to the CXC chemokine receptor-4. We report in this study that SDF-1 and its peptide analogues induce a concentration- and time-dependent accumulation of phosphatidylinositol-(3,4,5)-trisphosphate (PtdIns(3,4,5)P3) in Jurkat cells. This SDF-1-stimulated generation of D-3 phosphoinositide lipids was inhibited by pretreatment of the cells with an SDF-1 peptide antagonist or an anti-CXCR4 Ab. In addition, the phosphoinositide 3 (PI 3)-kinase inhibitors wortmannin and LY294002, as well as the Gi protein inhibitor pertussis toxin, also inhibited the SDF-1-stimulated accumulation of PtdIns(3,4,5)P3. The effects of SDF-1 on D-3 phosphoinositide lipid accumulation correlated well with activation of the known PI 3-kinase effector protein kinase B, which was also inhibited by wortmannin and pertussis toxin. Concentrations of PI 3-kinase inhibitors, sufficient to inhibit PtdIns(3,4,5)P3 accumulation, also inhibited chemotaxis of Jurkat and peripheral blood-derived T lymphocytes in response to SDF-1. In contrast, SDF-1-stimulated actin polymerization was only partially inhibited by PI 3-kinase inhibitors, suggesting that while chemotaxis is fully dependent on PI 3-kinase activation, actin polymerization requires additional biochemical inputs. Finally, SDF-1-stimulated extracellular signal-related kinase (ERK)-1/2 mitogen-activated protein kinase activation was inhibited by PI 3-kinase inhibitors. In addition, the mitogen-activated protein/ERK kinase inhibitor PD098059 partially attenuated chemotaxis in response to SDF-1. Hence, it appears that ERK1/2 activation is dependent on PI 3-kinase activation, and both biochemical events are involved in the regulation of SDF-1-stimulated chemotaxis.\n",
      "\n",
      "generated_summary\n",
      "\n",
      "loss: 0.06387791782617569\n",
      "\n",
      "loss: 0.05675404518842697\n",
      "\n",
      "loss: 0.05880515277385712\n",
      "\n",
      "loss: 0.0500694178044796\n",
      "\n",
      "loss: 0.08691893517971039\n",
      "\n",
      "loss: 0.08083842694759369\n",
      "\n",
      "loss: 0.06660041958093643\n",
      "\n",
      "loss: 0.0706358477473259\n",
      "\n",
      "loss: 0.10201670974493027\n",
      "\n",
      "loss: 0.058023177087306976\n",
      "\n"
     ]
    },
    {
     "data": {
      "application/vnd.jupyter.widget-view+json": {
       "model_id": "5631d5171ed545df88f7c8e37eb29807",
       "version_major": 2,
       "version_minor": 0
      },
      "text/plain": [
       "Evaluating:   0%|          | 0/770 [00:00<?, ?it/s]"
      ]
     },
     "metadata": {},
     "output_type": "display_data"
    },
    {
     "name": "stdout",
     "output_type": "stream",
     "text": [
      "perplexity: 6.230318546295166\n",
      "After 341 updates: \n",
      "\n"
     ]
    },
    {
     "data": {
      "application/vnd.jupyter.widget-view+json": {
       "model_id": "739b705623054be6b7d64c8bdc8e21d6",
       "version_major": 2,
       "version_minor": 0
      },
      "text/plain": [
       "  0%|          | 0/100 [00:00<?, ?it/s]"
      ]
     },
     "metadata": {},
     "output_type": "display_data"
    },
    {
     "name": "stdout",
     "output_type": "stream",
     "text": [
      "We report the cDNA deduced primary structure of a wheat germ agglutinin-reactive nuclear pore complex (NPC) protein of rat. The protein, termed Nup98 (for nucleoporin of 98 kDa), contains numerous GLFG and FG repeats and some FXFG repeats and is thus a vertebrate member of a family of GLFG nucleoporins that were previously discovered in yeast. Immunoelectron microscopy showed Nup98 to be asymmetrically located at the nucleoplasmic side of the NPC. Nup98 functions as one of several docking site nucleoporins in a cytosolic docking activity-mediated binding of a model transport substrate. The docking site of Nup98 was mapped to its N-terminal half, which contains all of the peptide repeats. A recombinant segment of this region depleted the docking activity of cytosol. We suggest that the peptide repeat domain of Nup98, together with peptide repeat domains of other nucleoporins, forms an array of sites for mediated docking of transport substrate, and that bidirectional transport across the NPC proceeds by repeated docking and undocking reactions.\n",
      "\n",
      "generated_summary\n",
      "\n"
     ]
    },
    {
     "data": {
      "application/vnd.jupyter.widget-view+json": {
       "model_id": "76104473f36d4988941855a39e125fd5",
       "version_major": 2,
       "version_minor": 0
      },
      "text/plain": [
       "  0%|          | 0/100 [00:00<?, ?it/s]"
      ]
     },
     "metadata": {},
     "output_type": "display_data"
    },
    {
     "name": "stdout",
     "output_type": "stream",
     "text": [
      "The cellular effects of stromal cell-derived factor-1 (SDF-1) are mediated primarily by binding to the CXC chemokine receptor-4. We report in this study that SDF-1 and its peptide analogues induce a concentration- and time-dependent accumulation of phosphatidylinositol-(3,4,5)-trisphosphate (PtdIns(3,4,5)P3) in Jurkat cells. This SDF-1-stimulated generation of D-3 phosphoinositide lipids was inhibited by pretreatment of the cells with an SDF-1 peptide antagonist or an anti-CXCR4 Ab. In addition, the phosphoinositide 3 (PI 3)-kinase inhibitors wortmannin and LY294002, as well as the Gi protein inhibitor pertussis toxin, also inhibited the SDF-1-stimulated accumulation of PtdIns(3,4,5)P3. The effects of SDF-1 on D-3 phosphoinositide lipid accumulation correlated well with activation of the known PI 3-kinase effector protein kinase B, which was also inhibited by wortmannin and pertussis toxin. Concentrations of PI 3-kinase inhibitors, sufficient to inhibit PtdIns(3,4,5)P3 accumulation, also inhibited chemotaxis of Jurkat and peripheral blood-derived T lymphocytes in response to SDF-1. In contrast, SDF-1-stimulated actin polymerization was only partially inhibited by PI 3-kinase inhibitors, suggesting that while chemotaxis is fully dependent on PI 3-kinase activation, actin polymerization requires additional biochemical inputs. Finally, SDF-1-stimulated extracellular signal-related kinase (ERK)-1/2 mitogen-activated protein kinase activation was inhibited by PI 3-kinase inhibitors. In addition, the mitogen-activated protein/ERK kinase inhibitor PD098059 partially attenuated chemotaxis in response to SDF-1. Hence, it appears that ERK1/2 activation is dependent on PI 3-kinase activation, and both biochemical events are involved in the regulation of SDF-1-stimulated chemotaxis.\n",
      "\n",
      "generated_summary\n",
      "\n",
      "loss: 0.043260421603918076\n",
      "\n",
      "loss: 0.049894094467163086\n",
      "\n",
      "loss: 0.05387317016720772\n",
      "\n",
      "loss: 0.06722427159547806\n",
      "\n",
      "loss: 0.052255887538194656\n",
      "\n",
      "loss: 0.06919161975383759\n",
      "\n",
      "loss: 0.14257659018039703\n",
      "\n",
      "loss: 0.07847115397453308\n",
      "\n",
      "loss: 0.04160887002944946\n",
      "\n",
      "loss: 0.12908782064914703\n",
      "\n"
     ]
    },
    {
     "data": {
      "application/vnd.jupyter.widget-view+json": {
       "model_id": "8f9d5a21abe44968a449830cf926d611",
       "version_major": 2,
       "version_minor": 0
      },
      "text/plain": [
       "Evaluating:   0%|          | 0/770 [00:00<?, ?it/s]"
      ]
     },
     "metadata": {},
     "output_type": "display_data"
    },
    {
     "name": "stdout",
     "output_type": "stream",
     "text": [
      "perplexity: 6.182137489318848\n",
      "After 351 updates: \n",
      "\n"
     ]
    },
    {
     "data": {
      "application/vnd.jupyter.widget-view+json": {
       "model_id": "f562ff9b1ee349faa1f147389fe1fda1",
       "version_major": 2,
       "version_minor": 0
      },
      "text/plain": [
       "  0%|          | 0/100 [00:00<?, ?it/s]"
      ]
     },
     "metadata": {},
     "output_type": "display_data"
    },
    {
     "name": "stdout",
     "output_type": "stream",
     "text": [
      "We report the cDNA deduced primary structure of a wheat germ agglutinin-reactive nuclear pore complex (NPC) protein of rat. The protein, termed Nup98 (for nucleoporin of 98 kDa), contains numerous GLFG and FG repeats and some FXFG repeats and is thus a vertebrate member of a family of GLFG nucleoporins that were previously discovered in yeast. Immunoelectron microscopy showed Nup98 to be asymmetrically located at the nucleoplasmic side of the NPC. Nup98 functions as one of several docking site nucleoporins in a cytosolic docking activity-mediated binding of a model transport substrate. The docking site of Nup98 was mapped to its N-terminal half, which contains all of the peptide repeats. A recombinant segment of this region depleted the docking activity of cytosol. We suggest that the peptide repeat domain of Nup98, together with peptide repeat domains of other nucleoporins, forms an array of sites for mediated docking of transport substrate, and that bidirectional transport across the NPC proceeds by repeated docking and undocking reactions.\n",
      "\n",
      "generated_summary\n",
      "\n"
     ]
    },
    {
     "data": {
      "application/vnd.jupyter.widget-view+json": {
       "model_id": "7d9e17d5ca9e44f2a2a8fd96248c3eb6",
       "version_major": 2,
       "version_minor": 0
      },
      "text/plain": [
       "  0%|          | 0/100 [00:00<?, ?it/s]"
      ]
     },
     "metadata": {},
     "output_type": "display_data"
    },
    {
     "name": "stdout",
     "output_type": "stream",
     "text": [
      "The cellular effects of stromal cell-derived factor-1 (SDF-1) are mediated primarily by binding to the CXC chemokine receptor-4. We report in this study that SDF-1 and its peptide analogues induce a concentration- and time-dependent accumulation of phosphatidylinositol-(3,4,5)-trisphosphate (PtdIns(3,4,5)P3) in Jurkat cells. This SDF-1-stimulated generation of D-3 phosphoinositide lipids was inhibited by pretreatment of the cells with an SDF-1 peptide antagonist or an anti-CXCR4 Ab. In addition, the phosphoinositide 3 (PI 3)-kinase inhibitors wortmannin and LY294002, as well as the Gi protein inhibitor pertussis toxin, also inhibited the SDF-1-stimulated accumulation of PtdIns(3,4,5)P3. The effects of SDF-1 on D-3 phosphoinositide lipid accumulation correlated well with activation of the known PI 3-kinase effector protein kinase B, which was also inhibited by wortmannin and pertussis toxin. Concentrations of PI 3-kinase inhibitors, sufficient to inhibit PtdIns(3,4,5)P3 accumulation, also inhibited chemotaxis of Jurkat and peripheral blood-derived T lymphocytes in response to SDF-1. In contrast, SDF-1-stimulated actin polymerization was only partially inhibited by PI 3-kinase inhibitors, suggesting that while chemotaxis is fully dependent on PI 3-kinase activation, actin polymerization requires additional biochemical inputs. Finally, SDF-1-stimulated extracellular signal-related kinase (ERK)-1/2 mitogen-activated protein kinase activation was inhibited by PI 3-kinase inhibitors. In addition, the mitogen-activated protein/ERK kinase inhibitor PD098059 partially attenuated chemotaxis in response to SDF-1. Hence, it appears that ERK1/2 activation is dependent on PI 3-kinase activation, and both biochemical events are involved in the regulation of SDF-1-stimulated chemotaxis.\n",
      "\n",
      "generated_summary\n",
      "\n",
      "loss: 0.06558828055858612\n",
      "\n",
      "loss: 0.04836679995059967\n",
      "\n",
      "loss: 0.08566449582576752\n",
      "\n",
      "loss: 0.04193414747714996\n",
      "\n",
      "loss: 0.03412585332989693\n",
      "\n",
      "loss: 0.04005090519785881\n",
      "\n",
      "loss: 0.07887141406536102\n",
      "\n",
      "loss: 0.06648655235767365\n",
      "\n",
      "loss: 0.06335291266441345\n",
      "\n",
      "loss: 0.07842108607292175\n",
      "\n"
     ]
    },
    {
     "data": {
      "application/vnd.jupyter.widget-view+json": {
       "model_id": "9b97213e7a484f3385165c95ec46081f",
       "version_major": 2,
       "version_minor": 0
      },
      "text/plain": [
       "Evaluating:   0%|          | 0/770 [00:00<?, ?it/s]"
      ]
     },
     "metadata": {},
     "output_type": "display_data"
    },
    {
     "name": "stdout",
     "output_type": "stream",
     "text": [
      "perplexity: 6.119158744812012\n",
      "After 361 updates: \n",
      "\n"
     ]
    },
    {
     "data": {
      "application/vnd.jupyter.widget-view+json": {
       "model_id": "f7fd63e2fe4d422b961d34cbf7db53e2",
       "version_major": 2,
       "version_minor": 0
      },
      "text/plain": [
       "  0%|          | 0/100 [00:00<?, ?it/s]"
      ]
     },
     "metadata": {},
     "output_type": "display_data"
    },
    {
     "name": "stdout",
     "output_type": "stream",
     "text": [
      "We report the cDNA deduced primary structure of a wheat germ agglutinin-reactive nuclear pore complex (NPC) protein of rat. The protein, termed Nup98 (for nucleoporin of 98 kDa), contains numerous GLFG and FG repeats and some FXFG repeats and is thus a vertebrate member of a family of GLFG nucleoporins that were previously discovered in yeast. Immunoelectron microscopy showed Nup98 to be asymmetrically located at the nucleoplasmic side of the NPC. Nup98 functions as one of several docking site nucleoporins in a cytosolic docking activity-mediated binding of a model transport substrate. The docking site of Nup98 was mapped to its N-terminal half, which contains all of the peptide repeats. A recombinant segment of this region depleted the docking activity of cytosol. We suggest that the peptide repeat domain of Nup98, together with peptide repeat domains of other nucleoporins, forms an array of sites for mediated docking of transport substrate, and that bidirectional transport across the NPC proceeds by repeated docking and undocking reactions.\n",
      "\n",
      "generated_summary\n",
      "\n"
     ]
    },
    {
     "data": {
      "application/vnd.jupyter.widget-view+json": {
       "model_id": "9aab100cd86545608cb50ea6fb5f4fcc",
       "version_major": 2,
       "version_minor": 0
      },
      "text/plain": [
       "  0%|          | 0/100 [00:00<?, ?it/s]"
      ]
     },
     "metadata": {},
     "output_type": "display_data"
    },
    {
     "name": "stdout",
     "output_type": "stream",
     "text": [
      "The cellular effects of stromal cell-derived factor-1 (SDF-1) are mediated primarily by binding to the CXC chemokine receptor-4. We report in this study that SDF-1 and its peptide analogues induce a concentration- and time-dependent accumulation of phosphatidylinositol-(3,4,5)-trisphosphate (PtdIns(3,4,5)P3) in Jurkat cells. This SDF-1-stimulated generation of D-3 phosphoinositide lipids was inhibited by pretreatment of the cells with an SDF-1 peptide antagonist or an anti-CXCR4 Ab. In addition, the phosphoinositide 3 (PI 3)-kinase inhibitors wortmannin and LY294002, as well as the Gi protein inhibitor pertussis toxin, also inhibited the SDF-1-stimulated accumulation of PtdIns(3,4,5)P3. The effects of SDF-1 on D-3 phosphoinositide lipid accumulation correlated well with activation of the known PI 3-kinase effector protein kinase B, which was also inhibited by wortmannin and pertussis toxin. Concentrations of PI 3-kinase inhibitors, sufficient to inhibit PtdIns(3,4,5)P3 accumulation, also inhibited chemotaxis of Jurkat and peripheral blood-derived T lymphocytes in response to SDF-1. In contrast, SDF-1-stimulated actin polymerization was only partially inhibited by PI 3-kinase inhibitors, suggesting that while chemotaxis is fully dependent on PI 3-kinase activation, actin polymerization requires additional biochemical inputs. Finally, SDF-1-stimulated extracellular signal-related kinase (ERK)-1/2 mitogen-activated protein kinase activation was inhibited by PI 3-kinase inhibitors. In addition, the mitogen-activated protein/ERK kinase inhibitor PD098059 partially attenuated chemotaxis in response to SDF-1. Hence, it appears that ERK1/2 activation is dependent on PI 3-kinase activation, and both biochemical events are involved in the regulation of SDF-1-stimulated chemotaxis.\n",
      "\n",
      "generated_summary\n",
      "\n",
      "loss: 0.04014245420694351\n",
      "\n",
      "loss: 0.06768836081027985\n",
      "\n",
      "loss: 0.05746717005968094\n",
      "\n",
      "loss: 0.07072489708662033\n",
      "\n",
      "loss: 0.04820911958813667\n",
      "\n",
      "loss: 0.07894311845302582\n",
      "\n",
      "loss: 0.0662800595164299\n",
      "\n",
      "loss: 0.05126875638961792\n",
      "\n",
      "loss: 0.05734364315867424\n",
      "\n",
      "loss: 0.0628422349691391\n",
      "\n"
     ]
    },
    {
     "data": {
      "application/vnd.jupyter.widget-view+json": {
       "model_id": "22d6b607af404de880c26650a9bb2b59",
       "version_major": 2,
       "version_minor": 0
      },
      "text/plain": [
       "Evaluating:   0%|          | 0/770 [00:00<?, ?it/s]"
      ]
     },
     "metadata": {},
     "output_type": "display_data"
    },
    {
     "name": "stdout",
     "output_type": "stream",
     "text": [
      "perplexity: 6.170011043548584\n",
      "After 371 updates: \n",
      "\n"
     ]
    },
    {
     "data": {
      "application/vnd.jupyter.widget-view+json": {
       "model_id": "986ef15b0a594a2eb3cf63ccfe46cb2c",
       "version_major": 2,
       "version_minor": 0
      },
      "text/plain": [
       "  0%|          | 0/100 [00:00<?, ?it/s]"
      ]
     },
     "metadata": {},
     "output_type": "display_data"
    },
    {
     "name": "stdout",
     "output_type": "stream",
     "text": [
      "We report the cDNA deduced primary structure of a wheat germ agglutinin-reactive nuclear pore complex (NPC) protein of rat. The protein, termed Nup98 (for nucleoporin of 98 kDa), contains numerous GLFG and FG repeats and some FXFG repeats and is thus a vertebrate member of a family of GLFG nucleoporins that were previously discovered in yeast. Immunoelectron microscopy showed Nup98 to be asymmetrically located at the nucleoplasmic side of the NPC. Nup98 functions as one of several docking site nucleoporins in a cytosolic docking activity-mediated binding of a model transport substrate. The docking site of Nup98 was mapped to its N-terminal half, which contains all of the peptide repeats. A recombinant segment of this region depleted the docking activity of cytosol. We suggest that the peptide repeat domain of Nup98, together with peptide repeat domains of other nucleoporins, forms an array of sites for mediated docking of transport substrate, and that bidirectional transport across the NPC proceeds by repeated docking and undocking reactions.\n",
      "\n",
      "generated_summary\n",
      "\n"
     ]
    },
    {
     "data": {
      "application/vnd.jupyter.widget-view+json": {
       "model_id": "d9a5ea18497641cbb6338f51fdb738bd",
       "version_major": 2,
       "version_minor": 0
      },
      "text/plain": [
       "  0%|          | 0/100 [00:00<?, ?it/s]"
      ]
     },
     "metadata": {},
     "output_type": "display_data"
    },
    {
     "name": "stdout",
     "output_type": "stream",
     "text": [
      "The cellular effects of stromal cell-derived factor-1 (SDF-1) are mediated primarily by binding to the CXC chemokine receptor-4. We report in this study that SDF-1 and its peptide analogues induce a concentration- and time-dependent accumulation of phosphatidylinositol-(3,4,5)-trisphosphate (PtdIns(3,4,5)P3) in Jurkat cells. This SDF-1-stimulated generation of D-3 phosphoinositide lipids was inhibited by pretreatment of the cells with an SDF-1 peptide antagonist or an anti-CXCR4 Ab. In addition, the phosphoinositide 3 (PI 3)-kinase inhibitors wortmannin and LY294002, as well as the Gi protein inhibitor pertussis toxin, also inhibited the SDF-1-stimulated accumulation of PtdIns(3,4,5)P3. The effects of SDF-1 on D-3 phosphoinositide lipid accumulation correlated well with activation of the known PI 3-kinase effector protein kinase B, which was also inhibited by wortmannin and pertussis toxin. Concentrations of PI 3-kinase inhibitors, sufficient to inhibit PtdIns(3,4,5)P3 accumulation, also inhibited chemotaxis of Jurkat and peripheral blood-derived T lymphocytes in response to SDF-1. In contrast, SDF-1-stimulated actin polymerization was only partially inhibited by PI 3-kinase inhibitors, suggesting that while chemotaxis is fully dependent on PI 3-kinase activation, actin polymerization requires additional biochemical inputs. Finally, SDF-1-stimulated extracellular signal-related kinase (ERK)-1/2 mitogen-activated protein kinase activation was inhibited by PI 3-kinase inhibitors. In addition, the mitogen-activated protein/ERK kinase inhibitor PD098059 partially attenuated chemotaxis in response to SDF-1. Hence, it appears that ERK1/2 activation is dependent on PI 3-kinase activation, and both biochemical events are involved in the regulation of SDF-1-stimulated chemotaxis.\n",
      "\n",
      "generated_summary\n",
      "\n",
      "loss: 0.05445876717567444\n",
      "\n",
      "loss: 0.11895658820867538\n",
      "\n",
      "loss: 0.06601887196302414\n",
      "\n",
      "loss: 0.048513688147068024\n",
      "\n",
      "loss: 0.061574697494506836\n",
      "\n",
      "loss: 0.07438109070062637\n",
      "\n",
      "loss: 0.05803830921649933\n",
      "\n",
      "loss: 0.061808641999959946\n",
      "\n",
      "loss: 0.0513058677315712\n",
      "\n",
      "loss: 0.0858510285615921\n",
      "\n"
     ]
    },
    {
     "data": {
      "application/vnd.jupyter.widget-view+json": {
       "model_id": "ac0eb2f36c674e1e9ad136b1cb473bb9",
       "version_major": 2,
       "version_minor": 0
      },
      "text/plain": [
       "Evaluating:   0%|          | 0/770 [00:00<?, ?it/s]"
      ]
     },
     "metadata": {},
     "output_type": "display_data"
    },
    {
     "name": "stdout",
     "output_type": "stream",
     "text": [
      "perplexity: 6.142801761627197\n",
      "After 381 updates: \n",
      "\n"
     ]
    },
    {
     "data": {
      "application/vnd.jupyter.widget-view+json": {
       "model_id": "ec315b5a9afc4ee09ce65cd3ca5c4aad",
       "version_major": 2,
       "version_minor": 0
      },
      "text/plain": [
       "  0%|          | 0/100 [00:00<?, ?it/s]"
      ]
     },
     "metadata": {},
     "output_type": "display_data"
    },
    {
     "name": "stdout",
     "output_type": "stream",
     "text": [
      "We report the cDNA deduced primary structure of a wheat germ agglutinin-reactive nuclear pore complex (NPC) protein of rat. The protein, termed Nup98 (for nucleoporin of 98 kDa), contains numerous GLFG and FG repeats and some FXFG repeats and is thus a vertebrate member of a family of GLFG nucleoporins that were previously discovered in yeast. Immunoelectron microscopy showed Nup98 to be asymmetrically located at the nucleoplasmic side of the NPC. Nup98 functions as one of several docking site nucleoporins in a cytosolic docking activity-mediated binding of a model transport substrate. The docking site of Nup98 was mapped to its N-terminal half, which contains all of the peptide repeats. A recombinant segment of this region depleted the docking activity of cytosol. We suggest that the peptide repeat domain of Nup98, together with peptide repeat domains of other nucleoporins, forms an array of sites for mediated docking of transport substrate, and that bidirectional transport across the NPC proceeds by repeated docking and undocking reactions.\n",
      "\n",
      "generated_summary\n",
      "\n"
     ]
    },
    {
     "data": {
      "application/vnd.jupyter.widget-view+json": {
       "model_id": "911b73fde3f24c078bee8d0fae7ae306",
       "version_major": 2,
       "version_minor": 0
      },
      "text/plain": [
       "  0%|          | 0/100 [00:00<?, ?it/s]"
      ]
     },
     "metadata": {},
     "output_type": "display_data"
    },
    {
     "name": "stdout",
     "output_type": "stream",
     "text": [
      "The cellular effects of stromal cell-derived factor-1 (SDF-1) are mediated primarily by binding to the CXC chemokine receptor-4. We report in this study that SDF-1 and its peptide analogues induce a concentration- and time-dependent accumulation of phosphatidylinositol-(3,4,5)-trisphosphate (PtdIns(3,4,5)P3) in Jurkat cells. This SDF-1-stimulated generation of D-3 phosphoinositide lipids was inhibited by pretreatment of the cells with an SDF-1 peptide antagonist or an anti-CXCR4 Ab. In addition, the phosphoinositide 3 (PI 3)-kinase inhibitors wortmannin and LY294002, as well as the Gi protein inhibitor pertussis toxin, also inhibited the SDF-1-stimulated accumulation of PtdIns(3,4,5)P3. The effects of SDF-1 on D-3 phosphoinositide lipid accumulation correlated well with activation of the known PI 3-kinase effector protein kinase B, which was also inhibited by wortmannin and pertussis toxin. Concentrations of PI 3-kinase inhibitors, sufficient to inhibit PtdIns(3,4,5)P3 accumulation, also inhibited chemotaxis of Jurkat and peripheral blood-derived T lymphocytes in response to SDF-1. In contrast, SDF-1-stimulated actin polymerization was only partially inhibited by PI 3-kinase inhibitors, suggesting that while chemotaxis is fully dependent on PI 3-kinase activation, actin polymerization requires additional biochemical inputs. Finally, SDF-1-stimulated extracellular signal-related kinase (ERK)-1/2 mitogen-activated protein kinase activation was inhibited by PI 3-kinase inhibitors. In addition, the mitogen-activated protein/ERK kinase inhibitor PD098059 partially attenuated chemotaxis in response to SDF-1. Hence, it appears that ERK1/2 activation is dependent on PI 3-kinase activation, and both biochemical events are involved in the regulation of SDF-1-stimulated chemotaxis.\n",
      "\n",
      "generated_summary\n",
      "\n"
     ]
    },
    {
     "data": {
      "application/vnd.jupyter.widget-view+json": {
       "model_id": "a5a4951942df482997c5db7f1549d5b3",
       "version_major": 2,
       "version_minor": 0
      },
      "text/plain": [
       "Training:   0%|          | 0/6100 [00:00<?, ?it/s]"
      ]
     },
     "metadata": {},
     "output_type": "display_data"
    },
    {
     "name": "stdout",
     "output_type": "stream",
     "text": [
      "loss: 0.03134683147072792\n",
      "\n",
      "After 1st update: \n",
      "\n"
     ]
    },
    {
     "data": {
      "application/vnd.jupyter.widget-view+json": {
       "model_id": "2e574b221187475ba0d9f4fd73b3417b",
       "version_major": 2,
       "version_minor": 0
      },
      "text/plain": [
       "  0%|          | 0/100 [00:00<?, ?it/s]"
      ]
     },
     "metadata": {},
     "output_type": "display_data"
    },
    {
     "name": "stdout",
     "output_type": "stream",
     "text": [
      "new_article\n",
      "\n",
      "We report the cDNA deduced primary structure of a wheat germ agglutinin-reactive nuclear pore complex (NPC) protein of rat. The protein, termed Nup98 (for nucleoporin of 98 kDa), contains numerous GLFG and FG repeats and some FXFG repeats and is thus a vertebrate member of a family of GLFG nucleoporins that were previously discovered in yeast. Immunoelectron microscopy showed Nup98 to be asymmetrically located at the nucleoplasmic side of the NPC. Nup98 functions as one of several docking site nucleoporins in a cytosolic docking activity-mediated binding of a model transport substrate. The docking site of Nup98 was mapped to its N-terminal half, which contains all of the peptide repeats. A recombinant segment of this region depleted the docking activity of cytosol. We suggest that the peptide repeat domain of Nup98, together with peptide repeat domains of other nucleoporins, forms an array of sites for mediated docking of transport substrate, and that bidirectional transport across the NPC proceeds by repeated docking and undocking reactions.\n",
      "\n",
      "generated_summary\n",
      "\n",
      "NUP98 involved_in signal transduction.NUP98 involved_in signal transduction.NUP98 involved_in signal transduction.NUP98 involved_in signal transduction.NUP98 involved_in signal transduction.NUP98 involved_in signal transduction.NUP98 involved_in signal transduction.NUP98 involved_in signal transduction.NUP98 involved_in signal transduction.NUP98 involved_in signal transduction.\n",
      "\n",
      "actual_summary\n",
      "\n",
      "The peptide repeat domain of nucleoporin Nup98 functions as a docking site in transport across the nuclear pore complex.NUP98 enables transporter activity. <|pad|> <|pad|> <|pad|> <|pad|> <|pad|> <|pad|> <|pad|> <|pad|> <|pad|> <|pad|> <|pad|> <|pad|> <|pad|> <|pad|> <|pad|> <|pad|> <|pad|> <|pad|> <|pad|> <|pad|> <|pad|> <|pad|> <|pad|> <|pad|> <|pad|> <|pad|> <|pad|> <|pad|> <|pad|> <|pad|> <|pad|> <|pad|> <|pad|> <|pad|> <|pad|> <|pad|> <|pad|> <|pad|> <|pad|> <|pad|> <|pad|> <|pad|> <|pad|> <|pad|> <|pad|> <|pad|> <|pad|> <|pad|> <|pad|> <|pad|> <|pad|> <|pad|> <|pad|> <|pad|> <|pad|> <|pad|> <|pad|> <|pad|> <|pad|> <|pad|> <|pad|> <|pad|> <|pad|> <|pad|> <|pad|> <|pad|>\n",
      "\n"
     ]
    },
    {
     "data": {
      "application/vnd.jupyter.widget-view+json": {
       "model_id": "0cd4eecaf27e4b92b3c116fca17dd3ad",
       "version_major": 2,
       "version_minor": 0
      },
      "text/plain": [
       "  0%|          | 0/100 [00:00<?, ?it/s]"
      ]
     },
     "metadata": {},
     "output_type": "display_data"
    },
    {
     "name": "stdout",
     "output_type": "stream",
     "text": [
      "new_article\n",
      "\n",
      "The cellular effects of stromal cell-derived factor-1 (SDF-1) are mediated primarily by binding to the CXC chemokine receptor-4. We report in this study that SDF-1 and its peptide analogues induce a concentration- and time-dependent accumulation of phosphatidylinositol-(3,4,5)-trisphosphate (PtdIns(3,4,5)P3) in Jurkat cells. This SDF-1-stimulated generation of D-3 phosphoinositide lipids was inhibited by pretreatment of the cells with an SDF-1 peptide antagonist or an anti-CXCR4 Ab. In addition, the phosphoinositide 3 (PI 3)-kinase inhibitors wortmannin and LY294002, as well as the Gi protein inhibitor pertussis toxin, also inhibited the SDF-1-stimulated accumulation of PtdIns(3,4,5)P3. The effects of SDF-1 on D-3 phosphoinositide lipid accumulation correlated well with activation of the known PI 3-kinase effector protein kinase B, which was also inhibited by wortmannin and pertussis toxin. Concentrations of PI 3-kinase inhibitors, sufficient to inhibit PtdIns(3,4,5)P3 accumulation, also inhibited chemotaxis of Jurkat and peripheral blood-derived T lymphocytes in response to SDF-1. In contrast, SDF-1-stimulated actin polymerization was only partially inhibited by PI 3-kinase inhibitors, suggesting that while chemotaxis is fully dependent on PI 3-kinase activation, actin polymerization requires additional biochemical inputs. Finally, SDF-1-stimulated extracellular signal-related kinase (ERK)-1/2 mitogen-activated protein kinase activation was inhibited by PI 3-kinase inhibitors. In addition, the mitogen-activated protein/ERK kinase inhibitor PD098059 partially attenuated chemotaxis in response to SDF-1. Hence, it appears that ERK1/2 activation is dependent on PI 3-kinase activation, and both biochemical events are involved in the regulation of SDF-1-stimulated chemotaxis.\n",
      "\n",
      "generated_summary\n",
      "\n",
      "SDF-1-stimulated chemotaxis is required for cell-cell chemokine receptor-4 activation.SDF1 involved_in regulation of cell-cell chemokine receptor-4 activation.SDF1 involved_in chemotaxis.SDF1 involved_in regulation of chemotaxis.SDF1 involved_in chemotaxis.SDF1 involved_in chemotaxis.SDF1 involved_in chemotaxis.SDF1 involved_\n",
      "\n",
      "actual_summary\n",
      "\n",
      "The CXC chemokine stromal cell-derived factor activates a Gi-coupled phosphoinositide 3-kinase in T lymphocytes.AKT1 enables protein kinase activity; involved_in G protein-coupled receptor signaling pathway. <|pad|> <|pad|> <|pad|> <|pad|> <|pad|> <|pad|> <|pad|> <|pad|> <|pad|> <|pad|> <|pad|> <|pad|> <|pad|> <|pad|> <|pad|> <|pad|> <|pad|> <|pad|> <|pad|> <|pad|> <|pad|> <|pad|> <|pad|> <|pad|> <|pad|> <|pad|> <|pad|> <|pad|> <|pad|> <|pad|> <|pad|> <|pad|> <|pad|> <|pad|> <|pad|> <|pad|> <|pad|> <|pad|> <|pad|> <|pad|> <|pad|> <|pad|> <|pad|> <|pad|>\n",
      "\n",
      "loss: 0.047982409596443176\n",
      "\n",
      "loss: 0.05738719552755356\n",
      "\n",
      "loss: 0.042505893856287\n",
      "\n",
      "loss: 0.07749126851558685\n",
      "\n",
      "loss: 0.041850559413433075\n",
      "\n",
      "loss: 0.052796754986047745\n",
      "\n",
      "loss: 0.035068728029727936\n",
      "\n",
      "loss: 0.07510361075401306\n",
      "\n",
      "loss: 0.08008656650781631\n",
      "\n"
     ]
    },
    {
     "data": {
      "application/vnd.jupyter.widget-view+json": {
       "model_id": "ac4d748fef5a43ab8caaea297fa6c2cb",
       "version_major": 2,
       "version_minor": 0
      },
      "text/plain": [
       "Evaluating:   0%|          | 0/770 [00:00<?, ?it/s]"
      ]
     },
     "metadata": {},
     "output_type": "display_data"
    },
    {
     "name": "stdout",
     "output_type": "stream",
     "text": [
      "perplexity: 6.116194248199463\n",
      "After 391 updates: \n",
      "\n"
     ]
    },
    {
     "data": {
      "application/vnd.jupyter.widget-view+json": {
       "model_id": "5fa6a7f68b1c4de6b1078403f893ffbb",
       "version_major": 2,
       "version_minor": 0
      },
      "text/plain": [
       "  0%|          | 0/100 [00:00<?, ?it/s]"
      ]
     },
     "metadata": {},
     "output_type": "display_data"
    },
    {
     "name": "stdout",
     "output_type": "stream",
     "text": [
      "We report the cDNA deduced primary structure of a wheat germ agglutinin-reactive nuclear pore complex (NPC) protein of rat. The protein, termed Nup98 (for nucleoporin of 98 kDa), contains numerous GLFG and FG repeats and some FXFG repeats and is thus a vertebrate member of a family of GLFG nucleoporins that were previously discovered in yeast. Immunoelectron microscopy showed Nup98 to be asymmetrically located at the nucleoplasmic side of the NPC. Nup98 functions as one of several docking site nucleoporins in a cytosolic docking activity-mediated binding of a model transport substrate. The docking site of Nup98 was mapped to its N-terminal half, which contains all of the peptide repeats. A recombinant segment of this region depleted the docking activity of cytosol. We suggest that the peptide repeat domain of Nup98, together with peptide repeat domains of other nucleoporins, forms an array of sites for mediated docking of transport substrate, and that bidirectional transport across the NPC proceeds by repeated docking and undocking reactions.\n",
      "\n",
      "generated_summary\n",
      "\n"
     ]
    },
    {
     "data": {
      "application/vnd.jupyter.widget-view+json": {
       "model_id": "b6f1ac8109b7435b94c707abb094594f",
       "version_major": 2,
       "version_minor": 0
      },
      "text/plain": [
       "  0%|          | 0/100 [00:00<?, ?it/s]"
      ]
     },
     "metadata": {},
     "output_type": "display_data"
    },
    {
     "name": "stdout",
     "output_type": "stream",
     "text": [
      "The cellular effects of stromal cell-derived factor-1 (SDF-1) are mediated primarily by binding to the CXC chemokine receptor-4. We report in this study that SDF-1 and its peptide analogues induce a concentration- and time-dependent accumulation of phosphatidylinositol-(3,4,5)-trisphosphate (PtdIns(3,4,5)P3) in Jurkat cells. This SDF-1-stimulated generation of D-3 phosphoinositide lipids was inhibited by pretreatment of the cells with an SDF-1 peptide antagonist or an anti-CXCR4 Ab. In addition, the phosphoinositide 3 (PI 3)-kinase inhibitors wortmannin and LY294002, as well as the Gi protein inhibitor pertussis toxin, also inhibited the SDF-1-stimulated accumulation of PtdIns(3,4,5)P3. The effects of SDF-1 on D-3 phosphoinositide lipid accumulation correlated well with activation of the known PI 3-kinase effector protein kinase B, which was also inhibited by wortmannin and pertussis toxin. Concentrations of PI 3-kinase inhibitors, sufficient to inhibit PtdIns(3,4,5)P3 accumulation, also inhibited chemotaxis of Jurkat and peripheral blood-derived T lymphocytes in response to SDF-1. In contrast, SDF-1-stimulated actin polymerization was only partially inhibited by PI 3-kinase inhibitors, suggesting that while chemotaxis is fully dependent on PI 3-kinase activation, actin polymerization requires additional biochemical inputs. Finally, SDF-1-stimulated extracellular signal-related kinase (ERK)-1/2 mitogen-activated protein kinase activation was inhibited by PI 3-kinase inhibitors. In addition, the mitogen-activated protein/ERK kinase inhibitor PD098059 partially attenuated chemotaxis in response to SDF-1. Hence, it appears that ERK1/2 activation is dependent on PI 3-kinase activation, and both biochemical events are involved in the regulation of SDF-1-stimulated chemotaxis.\n",
      "\n",
      "generated_summary\n",
      "\n",
      "loss: 0.06789086759090424\n",
      "\n",
      "loss: 0.054166439920663834\n",
      "\n",
      "loss: 0.07591793686151505\n",
      "\n",
      "loss: 0.09033986926078796\n",
      "\n",
      "loss: 0.057856298983097076\n",
      "\n",
      "loss: 0.06396975368261337\n",
      "\n",
      "loss: 0.06958545744419098\n",
      "\n",
      "loss: 0.05873018503189087\n",
      "\n",
      "loss: 0.054633982479572296\n",
      "\n",
      "loss: 0.052904561161994934\n",
      "\n"
     ]
    },
    {
     "data": {
      "application/vnd.jupyter.widget-view+json": {
       "model_id": "f62eda3b77db433d9a2f5c294166f907",
       "version_major": 2,
       "version_minor": 0
      },
      "text/plain": [
       "Evaluating:   0%|          | 0/770 [00:00<?, ?it/s]"
      ]
     },
     "metadata": {},
     "output_type": "display_data"
    },
    {
     "name": "stdout",
     "output_type": "stream",
     "text": [
      "perplexity: 6.142545223236084\n",
      "After 401 updates: \n",
      "\n"
     ]
    },
    {
     "data": {
      "application/vnd.jupyter.widget-view+json": {
       "model_id": "69a733d9317d4f62bff87104105fb337",
       "version_major": 2,
       "version_minor": 0
      },
      "text/plain": [
       "  0%|          | 0/100 [00:00<?, ?it/s]"
      ]
     },
     "metadata": {},
     "output_type": "display_data"
    },
    {
     "name": "stdout",
     "output_type": "stream",
     "text": [
      "We report the cDNA deduced primary structure of a wheat germ agglutinin-reactive nuclear pore complex (NPC) protein of rat. The protein, termed Nup98 (for nucleoporin of 98 kDa), contains numerous GLFG and FG repeats and some FXFG repeats and is thus a vertebrate member of a family of GLFG nucleoporins that were previously discovered in yeast. Immunoelectron microscopy showed Nup98 to be asymmetrically located at the nucleoplasmic side of the NPC. Nup98 functions as one of several docking site nucleoporins in a cytosolic docking activity-mediated binding of a model transport substrate. The docking site of Nup98 was mapped to its N-terminal half, which contains all of the peptide repeats. A recombinant segment of this region depleted the docking activity of cytosol. We suggest that the peptide repeat domain of Nup98, together with peptide repeat domains of other nucleoporins, forms an array of sites for mediated docking of transport substrate, and that bidirectional transport across the NPC proceeds by repeated docking and undocking reactions.\n",
      "\n",
      "generated_summary\n",
      "\n"
     ]
    },
    {
     "data": {
      "application/vnd.jupyter.widget-view+json": {
       "model_id": "3414660cbaca4c5ea780f5fc5715a555",
       "version_major": 2,
       "version_minor": 0
      },
      "text/plain": [
       "  0%|          | 0/100 [00:00<?, ?it/s]"
      ]
     },
     "metadata": {},
     "output_type": "display_data"
    },
    {
     "name": "stdout",
     "output_type": "stream",
     "text": [
      "The cellular effects of stromal cell-derived factor-1 (SDF-1) are mediated primarily by binding to the CXC chemokine receptor-4. We report in this study that SDF-1 and its peptide analogues induce a concentration- and time-dependent accumulation of phosphatidylinositol-(3,4,5)-trisphosphate (PtdIns(3,4,5)P3) in Jurkat cells. This SDF-1-stimulated generation of D-3 phosphoinositide lipids was inhibited by pretreatment of the cells with an SDF-1 peptide antagonist or an anti-CXCR4 Ab. In addition, the phosphoinositide 3 (PI 3)-kinase inhibitors wortmannin and LY294002, as well as the Gi protein inhibitor pertussis toxin, also inhibited the SDF-1-stimulated accumulation of PtdIns(3,4,5)P3. The effects of SDF-1 on D-3 phosphoinositide lipid accumulation correlated well with activation of the known PI 3-kinase effector protein kinase B, which was also inhibited by wortmannin and pertussis toxin. Concentrations of PI 3-kinase inhibitors, sufficient to inhibit PtdIns(3,4,5)P3 accumulation, also inhibited chemotaxis of Jurkat and peripheral blood-derived T lymphocytes in response to SDF-1. In contrast, SDF-1-stimulated actin polymerization was only partially inhibited by PI 3-kinase inhibitors, suggesting that while chemotaxis is fully dependent on PI 3-kinase activation, actin polymerization requires additional biochemical inputs. Finally, SDF-1-stimulated extracellular signal-related kinase (ERK)-1/2 mitogen-activated protein kinase activation was inhibited by PI 3-kinase inhibitors. In addition, the mitogen-activated protein/ERK kinase inhibitor PD098059 partially attenuated chemotaxis in response to SDF-1. Hence, it appears that ERK1/2 activation is dependent on PI 3-kinase activation, and both biochemical events are involved in the regulation of SDF-1-stimulated chemotaxis.\n",
      "\n",
      "generated_summary\n",
      "\n",
      "loss: 0.0467846617102623\n",
      "\n",
      "loss: 0.05250028520822525\n",
      "\n",
      "loss: 0.05432125926017761\n",
      "\n",
      "loss: 0.07405897974967957\n",
      "\n",
      "loss: 0.07813192903995514\n",
      "\n",
      "loss: 0.06081803888082504\n",
      "\n",
      "loss: 0.04048207402229309\n",
      "\n",
      "loss: 0.06150995194911957\n",
      "\n",
      "loss: 0.046757038682699203\n",
      "\n",
      "loss: 0.04629521444439888\n",
      "\n"
     ]
    },
    {
     "data": {
      "application/vnd.jupyter.widget-view+json": {
       "model_id": "c154510a8e7a4a48a60861c2adba399b",
       "version_major": 2,
       "version_minor": 0
      },
      "text/plain": [
       "Evaluating:   0%|          | 0/770 [00:00<?, ?it/s]"
      ]
     },
     "metadata": {},
     "output_type": "display_data"
    },
    {
     "name": "stdout",
     "output_type": "stream",
     "text": [
      "perplexity: 6.05294942855835\n",
      "After 411 updates: \n",
      "\n"
     ]
    },
    {
     "data": {
      "application/vnd.jupyter.widget-view+json": {
       "model_id": "a39a341acf4b4294a053eb20e9a5719a",
       "version_major": 2,
       "version_minor": 0
      },
      "text/plain": [
       "  0%|          | 0/100 [00:00<?, ?it/s]"
      ]
     },
     "metadata": {},
     "output_type": "display_data"
    },
    {
     "name": "stdout",
     "output_type": "stream",
     "text": [
      "We report the cDNA deduced primary structure of a wheat germ agglutinin-reactive nuclear pore complex (NPC) protein of rat. The protein, termed Nup98 (for nucleoporin of 98 kDa), contains numerous GLFG and FG repeats and some FXFG repeats and is thus a vertebrate member of a family of GLFG nucleoporins that were previously discovered in yeast. Immunoelectron microscopy showed Nup98 to be asymmetrically located at the nucleoplasmic side of the NPC. Nup98 functions as one of several docking site nucleoporins in a cytosolic docking activity-mediated binding of a model transport substrate. The docking site of Nup98 was mapped to its N-terminal half, which contains all of the peptide repeats. A recombinant segment of this region depleted the docking activity of cytosol. We suggest that the peptide repeat domain of Nup98, together with peptide repeat domains of other nucleoporins, forms an array of sites for mediated docking of transport substrate, and that bidirectional transport across the NPC proceeds by repeated docking and undocking reactions.\n",
      "\n",
      "generated_summary\n",
      "\n"
     ]
    },
    {
     "data": {
      "application/vnd.jupyter.widget-view+json": {
       "model_id": "553d6df6560c4db8815883b9b2bfa4ce",
       "version_major": 2,
       "version_minor": 0
      },
      "text/plain": [
       "  0%|          | 0/100 [00:00<?, ?it/s]"
      ]
     },
     "metadata": {},
     "output_type": "display_data"
    },
    {
     "name": "stdout",
     "output_type": "stream",
     "text": [
      "The cellular effects of stromal cell-derived factor-1 (SDF-1) are mediated primarily by binding to the CXC chemokine receptor-4. We report in this study that SDF-1 and its peptide analogues induce a concentration- and time-dependent accumulation of phosphatidylinositol-(3,4,5)-trisphosphate (PtdIns(3,4,5)P3) in Jurkat cells. This SDF-1-stimulated generation of D-3 phosphoinositide lipids was inhibited by pretreatment of the cells with an SDF-1 peptide antagonist or an anti-CXCR4 Ab. In addition, the phosphoinositide 3 (PI 3)-kinase inhibitors wortmannin and LY294002, as well as the Gi protein inhibitor pertussis toxin, also inhibited the SDF-1-stimulated accumulation of PtdIns(3,4,5)P3. The effects of SDF-1 on D-3 phosphoinositide lipid accumulation correlated well with activation of the known PI 3-kinase effector protein kinase B, which was also inhibited by wortmannin and pertussis toxin. Concentrations of PI 3-kinase inhibitors, sufficient to inhibit PtdIns(3,4,5)P3 accumulation, also inhibited chemotaxis of Jurkat and peripheral blood-derived T lymphocytes in response to SDF-1. In contrast, SDF-1-stimulated actin polymerization was only partially inhibited by PI 3-kinase inhibitors, suggesting that while chemotaxis is fully dependent on PI 3-kinase activation, actin polymerization requires additional biochemical inputs. Finally, SDF-1-stimulated extracellular signal-related kinase (ERK)-1/2 mitogen-activated protein kinase activation was inhibited by PI 3-kinase inhibitors. In addition, the mitogen-activated protein/ERK kinase inhibitor PD098059 partially attenuated chemotaxis in response to SDF-1. Hence, it appears that ERK1/2 activation is dependent on PI 3-kinase activation, and both biochemical events are involved in the regulation of SDF-1-stimulated chemotaxis.\n",
      "\n",
      "generated_summary\n",
      "\n",
      "loss: 0.04003877937793732\n",
      "\n",
      "loss: 0.055098775774240494\n",
      "\n",
      "loss: 0.09361368417739868\n",
      "\n",
      "loss: 0.07986517995595932\n",
      "\n",
      "loss: 0.05113096907734871\n",
      "\n",
      "loss: 0.053356949239969254\n",
      "\n",
      "loss: 0.05790106952190399\n",
      "\n",
      "loss: 0.06064052879810333\n",
      "\n",
      "loss: 0.07975522428750992\n",
      "\n",
      "loss: 0.07168682664632797\n",
      "\n"
     ]
    },
    {
     "data": {
      "application/vnd.jupyter.widget-view+json": {
       "model_id": "9b0d46642f694e9bb7198c7eec1aa9c0",
       "version_major": 2,
       "version_minor": 0
      },
      "text/plain": [
       "Evaluating:   0%|          | 0/770 [00:00<?, ?it/s]"
      ]
     },
     "metadata": {},
     "output_type": "display_data"
    },
    {
     "name": "stdout",
     "output_type": "stream",
     "text": [
      "perplexity: 5.9761061668396\n",
      "After 421 updates: \n",
      "\n"
     ]
    },
    {
     "data": {
      "application/vnd.jupyter.widget-view+json": {
       "model_id": "640e7b6c324c4549b3d121b28bfd0395",
       "version_major": 2,
       "version_minor": 0
      },
      "text/plain": [
       "  0%|          | 0/100 [00:00<?, ?it/s]"
      ]
     },
     "metadata": {},
     "output_type": "display_data"
    },
    {
     "name": "stdout",
     "output_type": "stream",
     "text": [
      "We report the cDNA deduced primary structure of a wheat germ agglutinin-reactive nuclear pore complex (NPC) protein of rat. The protein, termed Nup98 (for nucleoporin of 98 kDa), contains numerous GLFG and FG repeats and some FXFG repeats and is thus a vertebrate member of a family of GLFG nucleoporins that were previously discovered in yeast. Immunoelectron microscopy showed Nup98 to be asymmetrically located at the nucleoplasmic side of the NPC. Nup98 functions as one of several docking site nucleoporins in a cytosolic docking activity-mediated binding of a model transport substrate. The docking site of Nup98 was mapped to its N-terminal half, which contains all of the peptide repeats. A recombinant segment of this region depleted the docking activity of cytosol. We suggest that the peptide repeat domain of Nup98, together with peptide repeat domains of other nucleoporins, forms an array of sites for mediated docking of transport substrate, and that bidirectional transport across the NPC proceeds by repeated docking and undocking reactions.\n",
      "\n",
      "generated_summary\n",
      "\n"
     ]
    },
    {
     "data": {
      "application/vnd.jupyter.widget-view+json": {
       "model_id": "d730ef3524d942ff9f0958bad8b83fd4",
       "version_major": 2,
       "version_minor": 0
      },
      "text/plain": [
       "  0%|          | 0/100 [00:00<?, ?it/s]"
      ]
     },
     "metadata": {},
     "output_type": "display_data"
    },
    {
     "name": "stdout",
     "output_type": "stream",
     "text": [
      "The cellular effects of stromal cell-derived factor-1 (SDF-1) are mediated primarily by binding to the CXC chemokine receptor-4. We report in this study that SDF-1 and its peptide analogues induce a concentration- and time-dependent accumulation of phosphatidylinositol-(3,4,5)-trisphosphate (PtdIns(3,4,5)P3) in Jurkat cells. This SDF-1-stimulated generation of D-3 phosphoinositide lipids was inhibited by pretreatment of the cells with an SDF-1 peptide antagonist or an anti-CXCR4 Ab. In addition, the phosphoinositide 3 (PI 3)-kinase inhibitors wortmannin and LY294002, as well as the Gi protein inhibitor pertussis toxin, also inhibited the SDF-1-stimulated accumulation of PtdIns(3,4,5)P3. The effects of SDF-1 on D-3 phosphoinositide lipid accumulation correlated well with activation of the known PI 3-kinase effector protein kinase B, which was also inhibited by wortmannin and pertussis toxin. Concentrations of PI 3-kinase inhibitors, sufficient to inhibit PtdIns(3,4,5)P3 accumulation, also inhibited chemotaxis of Jurkat and peripheral blood-derived T lymphocytes in response to SDF-1. In contrast, SDF-1-stimulated actin polymerization was only partially inhibited by PI 3-kinase inhibitors, suggesting that while chemotaxis is fully dependent on PI 3-kinase activation, actin polymerization requires additional biochemical inputs. Finally, SDF-1-stimulated extracellular signal-related kinase (ERK)-1/2 mitogen-activated protein kinase activation was inhibited by PI 3-kinase inhibitors. In addition, the mitogen-activated protein/ERK kinase inhibitor PD098059 partially attenuated chemotaxis in response to SDF-1. Hence, it appears that ERK1/2 activation is dependent on PI 3-kinase activation, and both biochemical events are involved in the regulation of SDF-1-stimulated chemotaxis.\n",
      "\n",
      "generated_summary\n",
      "\n",
      "loss: 0.04555791616439819\n",
      "\n",
      "loss: 0.0498945415019989\n",
      "\n",
      "loss: 0.05755617097020149\n",
      "\n",
      "loss: 0.04258391633629799\n",
      "\n",
      "loss: 0.08715007454156876\n",
      "\n",
      "loss: 0.03915965184569359\n",
      "\n",
      "loss: 0.03724528104066849\n",
      "\n",
      "loss: 0.055581964552402496\n",
      "\n",
      "loss: 0.06982839852571487\n",
      "\n",
      "loss: 0.038112521171569824\n",
      "\n"
     ]
    },
    {
     "data": {
      "application/vnd.jupyter.widget-view+json": {
       "model_id": "dd12a92c88174fd3b54025330ec1a2a8",
       "version_major": 2,
       "version_minor": 0
      },
      "text/plain": [
       "Evaluating:   0%|          | 0/770 [00:00<?, ?it/s]"
      ]
     },
     "metadata": {},
     "output_type": "display_data"
    },
    {
     "name": "stdout",
     "output_type": "stream",
     "text": [
      "perplexity: 5.967102527618408\n",
      "After 431 updates: \n",
      "\n"
     ]
    },
    {
     "data": {
      "application/vnd.jupyter.widget-view+json": {
       "model_id": "f40dc5ff21b247a1ae70d86d7a97c2d7",
       "version_major": 2,
       "version_minor": 0
      },
      "text/plain": [
       "  0%|          | 0/100 [00:00<?, ?it/s]"
      ]
     },
     "metadata": {},
     "output_type": "display_data"
    },
    {
     "name": "stdout",
     "output_type": "stream",
     "text": [
      "We report the cDNA deduced primary structure of a wheat germ agglutinin-reactive nuclear pore complex (NPC) protein of rat. The protein, termed Nup98 (for nucleoporin of 98 kDa), contains numerous GLFG and FG repeats and some FXFG repeats and is thus a vertebrate member of a family of GLFG nucleoporins that were previously discovered in yeast. Immunoelectron microscopy showed Nup98 to be asymmetrically located at the nucleoplasmic side of the NPC. Nup98 functions as one of several docking site nucleoporins in a cytosolic docking activity-mediated binding of a model transport substrate. The docking site of Nup98 was mapped to its N-terminal half, which contains all of the peptide repeats. A recombinant segment of this region depleted the docking activity of cytosol. We suggest that the peptide repeat domain of Nup98, together with peptide repeat domains of other nucleoporins, forms an array of sites for mediated docking of transport substrate, and that bidirectional transport across the NPC proceeds by repeated docking and undocking reactions.\n",
      "\n",
      "generated_summary\n",
      "\n"
     ]
    },
    {
     "data": {
      "application/vnd.jupyter.widget-view+json": {
       "model_id": "d255f8e69df34c6eb7a9826aa1a7d9d3",
       "version_major": 2,
       "version_minor": 0
      },
      "text/plain": [
       "  0%|          | 0/100 [00:00<?, ?it/s]"
      ]
     },
     "metadata": {},
     "output_type": "display_data"
    },
    {
     "name": "stdout",
     "output_type": "stream",
     "text": [
      "The cellular effects of stromal cell-derived factor-1 (SDF-1) are mediated primarily by binding to the CXC chemokine receptor-4. We report in this study that SDF-1 and its peptide analogues induce a concentration- and time-dependent accumulation of phosphatidylinositol-(3,4,5)-trisphosphate (PtdIns(3,4,5)P3) in Jurkat cells. This SDF-1-stimulated generation of D-3 phosphoinositide lipids was inhibited by pretreatment of the cells with an SDF-1 peptide antagonist or an anti-CXCR4 Ab. In addition, the phosphoinositide 3 (PI 3)-kinase inhibitors wortmannin and LY294002, as well as the Gi protein inhibitor pertussis toxin, also inhibited the SDF-1-stimulated accumulation of PtdIns(3,4,5)P3. The effects of SDF-1 on D-3 phosphoinositide lipid accumulation correlated well with activation of the known PI 3-kinase effector protein kinase B, which was also inhibited by wortmannin and pertussis toxin. Concentrations of PI 3-kinase inhibitors, sufficient to inhibit PtdIns(3,4,5)P3 accumulation, also inhibited chemotaxis of Jurkat and peripheral blood-derived T lymphocytes in response to SDF-1. In contrast, SDF-1-stimulated actin polymerization was only partially inhibited by PI 3-kinase inhibitors, suggesting that while chemotaxis is fully dependent on PI 3-kinase activation, actin polymerization requires additional biochemical inputs. Finally, SDF-1-stimulated extracellular signal-related kinase (ERK)-1/2 mitogen-activated protein kinase activation was inhibited by PI 3-kinase inhibitors. In addition, the mitogen-activated protein/ERK kinase inhibitor PD098059 partially attenuated chemotaxis in response to SDF-1. Hence, it appears that ERK1/2 activation is dependent on PI 3-kinase activation, and both biochemical events are involved in the regulation of SDF-1-stimulated chemotaxis.\n",
      "\n",
      "generated_summary\n",
      "\n",
      "loss: 0.09660255908966064\n",
      "\n",
      "loss: 0.06723792105913162\n",
      "\n",
      "loss: 0.048143170773983\n",
      "\n",
      "loss: 0.07344693690538406\n",
      "\n",
      "loss: 0.03953477367758751\n",
      "\n",
      "loss: 0.06055767834186554\n",
      "\n",
      "loss: 0.062244024127721786\n",
      "\n",
      "loss: 0.09992421418428421\n",
      "\n",
      "loss: 0.0649522989988327\n",
      "\n",
      "loss: 0.05364357680082321\n",
      "\n"
     ]
    },
    {
     "data": {
      "application/vnd.jupyter.widget-view+json": {
       "model_id": "6ec72a111ced4640bb373e01019b038e",
       "version_major": 2,
       "version_minor": 0
      },
      "text/plain": [
       "Evaluating:   0%|          | 0/770 [00:00<?, ?it/s]"
      ]
     },
     "metadata": {},
     "output_type": "display_data"
    },
    {
     "name": "stdout",
     "output_type": "stream",
     "text": [
      "perplexity: 5.888545036315918\n",
      "After 441 updates: \n",
      "\n"
     ]
    },
    {
     "data": {
      "application/vnd.jupyter.widget-view+json": {
       "model_id": "15ef4f53465c442aaeb0174782adfb24",
       "version_major": 2,
       "version_minor": 0
      },
      "text/plain": [
       "  0%|          | 0/100 [00:00<?, ?it/s]"
      ]
     },
     "metadata": {},
     "output_type": "display_data"
    },
    {
     "name": "stdout",
     "output_type": "stream",
     "text": [
      "We report the cDNA deduced primary structure of a wheat germ agglutinin-reactive nuclear pore complex (NPC) protein of rat. The protein, termed Nup98 (for nucleoporin of 98 kDa), contains numerous GLFG and FG repeats and some FXFG repeats and is thus a vertebrate member of a family of GLFG nucleoporins that were previously discovered in yeast. Immunoelectron microscopy showed Nup98 to be asymmetrically located at the nucleoplasmic side of the NPC. Nup98 functions as one of several docking site nucleoporins in a cytosolic docking activity-mediated binding of a model transport substrate. The docking site of Nup98 was mapped to its N-terminal half, which contains all of the peptide repeats. A recombinant segment of this region depleted the docking activity of cytosol. We suggest that the peptide repeat domain of Nup98, together with peptide repeat domains of other nucleoporins, forms an array of sites for mediated docking of transport substrate, and that bidirectional transport across the NPC proceeds by repeated docking and undocking reactions.\n",
      "\n",
      "generated_summary\n",
      "\n"
     ]
    },
    {
     "data": {
      "application/vnd.jupyter.widget-view+json": {
       "model_id": "bbd7ec8a9c0b4d1e9b3483bbd1d67f80",
       "version_major": 2,
       "version_minor": 0
      },
      "text/plain": [
       "  0%|          | 0/100 [00:00<?, ?it/s]"
      ]
     },
     "metadata": {},
     "output_type": "display_data"
    },
    {
     "name": "stdout",
     "output_type": "stream",
     "text": [
      "The cellular effects of stromal cell-derived factor-1 (SDF-1) are mediated primarily by binding to the CXC chemokine receptor-4. We report in this study that SDF-1 and its peptide analogues induce a concentration- and time-dependent accumulation of phosphatidylinositol-(3,4,5)-trisphosphate (PtdIns(3,4,5)P3) in Jurkat cells. This SDF-1-stimulated generation of D-3 phosphoinositide lipids was inhibited by pretreatment of the cells with an SDF-1 peptide antagonist or an anti-CXCR4 Ab. In addition, the phosphoinositide 3 (PI 3)-kinase inhibitors wortmannin and LY294002, as well as the Gi protein inhibitor pertussis toxin, also inhibited the SDF-1-stimulated accumulation of PtdIns(3,4,5)P3. The effects of SDF-1 on D-3 phosphoinositide lipid accumulation correlated well with activation of the known PI 3-kinase effector protein kinase B, which was also inhibited by wortmannin and pertussis toxin. Concentrations of PI 3-kinase inhibitors, sufficient to inhibit PtdIns(3,4,5)P3 accumulation, also inhibited chemotaxis of Jurkat and peripheral blood-derived T lymphocytes in response to SDF-1. In contrast, SDF-1-stimulated actin polymerization was only partially inhibited by PI 3-kinase inhibitors, suggesting that while chemotaxis is fully dependent on PI 3-kinase activation, actin polymerization requires additional biochemical inputs. Finally, SDF-1-stimulated extracellular signal-related kinase (ERK)-1/2 mitogen-activated protein kinase activation was inhibited by PI 3-kinase inhibitors. In addition, the mitogen-activated protein/ERK kinase inhibitor PD098059 partially attenuated chemotaxis in response to SDF-1. Hence, it appears that ERK1/2 activation is dependent on PI 3-kinase activation, and both biochemical events are involved in the regulation of SDF-1-stimulated chemotaxis.\n",
      "\n",
      "generated_summary\n",
      "\n",
      "loss: 0.06893464922904968\n",
      "\n",
      "loss: 0.04767279326915741\n",
      "\n",
      "loss: 0.059171829372644424\n",
      "\n",
      "loss: 0.08172924071550369\n",
      "\n",
      "loss: 0.06183963641524315\n",
      "\n",
      "loss: 0.05298098176717758\n",
      "\n",
      "loss: 0.034443218261003494\n",
      "\n",
      "loss: 0.05706730857491493\n",
      "\n",
      "loss: 0.06282618641853333\n",
      "\n",
      "loss: 0.07192040234804153\n",
      "\n"
     ]
    },
    {
     "data": {
      "application/vnd.jupyter.widget-view+json": {
       "model_id": "f0fe4812644d4e069b2738a9e6834a2b",
       "version_major": 2,
       "version_minor": 0
      },
      "text/plain": [
       "Evaluating:   0%|          | 0/770 [00:00<?, ?it/s]"
      ]
     },
     "metadata": {},
     "output_type": "display_data"
    },
    {
     "name": "stdout",
     "output_type": "stream",
     "text": [
      "perplexity: 5.869361400604248\n",
      "After 451 updates: \n",
      "\n"
     ]
    },
    {
     "data": {
      "application/vnd.jupyter.widget-view+json": {
       "model_id": "2f031798912a4c08896bfe37936ea7b9",
       "version_major": 2,
       "version_minor": 0
      },
      "text/plain": [
       "  0%|          | 0/100 [00:00<?, ?it/s]"
      ]
     },
     "metadata": {},
     "output_type": "display_data"
    },
    {
     "name": "stdout",
     "output_type": "stream",
     "text": [
      "We report the cDNA deduced primary structure of a wheat germ agglutinin-reactive nuclear pore complex (NPC) protein of rat. The protein, termed Nup98 (for nucleoporin of 98 kDa), contains numerous GLFG and FG repeats and some FXFG repeats and is thus a vertebrate member of a family of GLFG nucleoporins that were previously discovered in yeast. Immunoelectron microscopy showed Nup98 to be asymmetrically located at the nucleoplasmic side of the NPC. Nup98 functions as one of several docking site nucleoporins in a cytosolic docking activity-mediated binding of a model transport substrate. The docking site of Nup98 was mapped to its N-terminal half, which contains all of the peptide repeats. A recombinant segment of this region depleted the docking activity of cytosol. We suggest that the peptide repeat domain of Nup98, together with peptide repeat domains of other nucleoporins, forms an array of sites for mediated docking of transport substrate, and that bidirectional transport across the NPC proceeds by repeated docking and undocking reactions.\n",
      "\n",
      "generated_summary\n",
      "\n"
     ]
    },
    {
     "data": {
      "application/vnd.jupyter.widget-view+json": {
       "model_id": "d1785988da084fd5bbf9f8ecbf6b5f89",
       "version_major": 2,
       "version_minor": 0
      },
      "text/plain": [
       "  0%|          | 0/100 [00:00<?, ?it/s]"
      ]
     },
     "metadata": {},
     "output_type": "display_data"
    },
    {
     "name": "stdout",
     "output_type": "stream",
     "text": [
      "The cellular effects of stromal cell-derived factor-1 (SDF-1) are mediated primarily by binding to the CXC chemokine receptor-4. We report in this study that SDF-1 and its peptide analogues induce a concentration- and time-dependent accumulation of phosphatidylinositol-(3,4,5)-trisphosphate (PtdIns(3,4,5)P3) in Jurkat cells. This SDF-1-stimulated generation of D-3 phosphoinositide lipids was inhibited by pretreatment of the cells with an SDF-1 peptide antagonist or an anti-CXCR4 Ab. In addition, the phosphoinositide 3 (PI 3)-kinase inhibitors wortmannin and LY294002, as well as the Gi protein inhibitor pertussis toxin, also inhibited the SDF-1-stimulated accumulation of PtdIns(3,4,5)P3. The effects of SDF-1 on D-3 phosphoinositide lipid accumulation correlated well with activation of the known PI 3-kinase effector protein kinase B, which was also inhibited by wortmannin and pertussis toxin. Concentrations of PI 3-kinase inhibitors, sufficient to inhibit PtdIns(3,4,5)P3 accumulation, also inhibited chemotaxis of Jurkat and peripheral blood-derived T lymphocytes in response to SDF-1. In contrast, SDF-1-stimulated actin polymerization was only partially inhibited by PI 3-kinase inhibitors, suggesting that while chemotaxis is fully dependent on PI 3-kinase activation, actin polymerization requires additional biochemical inputs. Finally, SDF-1-stimulated extracellular signal-related kinase (ERK)-1/2 mitogen-activated protein kinase activation was inhibited by PI 3-kinase inhibitors. In addition, the mitogen-activated protein/ERK kinase inhibitor PD098059 partially attenuated chemotaxis in response to SDF-1. Hence, it appears that ERK1/2 activation is dependent on PI 3-kinase activation, and both biochemical events are involved in the regulation of SDF-1-stimulated chemotaxis.\n",
      "\n",
      "generated_summary\n",
      "\n",
      "loss: 0.041788384318351746\n",
      "\n",
      "loss: 0.056755322962999344\n",
      "\n",
      "loss: 0.05073629319667816\n",
      "\n",
      "loss: 0.0487174466252327\n",
      "\n",
      "loss: 0.04774858430027962\n",
      "\n",
      "loss: 0.03415732830762863\n",
      "\n",
      "loss: 0.05572997033596039\n",
      "\n",
      "loss: 0.07688187807798386\n",
      "\n",
      "loss: 0.046623263508081436\n",
      "\n",
      "loss: 0.04939836263656616\n",
      "\n"
     ]
    },
    {
     "data": {
      "application/vnd.jupyter.widget-view+json": {
       "model_id": "2d6cb16add774b2ca4dd2e638d16e18e",
       "version_major": 2,
       "version_minor": 0
      },
      "text/plain": [
       "Evaluating:   0%|          | 0/770 [00:00<?, ?it/s]"
      ]
     },
     "metadata": {},
     "output_type": "display_data"
    },
    {
     "name": "stdout",
     "output_type": "stream",
     "text": [
      "perplexity: 5.791363716125488\n",
      "After 461 updates: \n",
      "\n"
     ]
    },
    {
     "data": {
      "application/vnd.jupyter.widget-view+json": {
       "model_id": "f39c408b88c74f5c902aaf3ae73fce74",
       "version_major": 2,
       "version_minor": 0
      },
      "text/plain": [
       "  0%|          | 0/100 [00:00<?, ?it/s]"
      ]
     },
     "metadata": {},
     "output_type": "display_data"
    },
    {
     "name": "stdout",
     "output_type": "stream",
     "text": [
      "We report the cDNA deduced primary structure of a wheat germ agglutinin-reactive nuclear pore complex (NPC) protein of rat. The protein, termed Nup98 (for nucleoporin of 98 kDa), contains numerous GLFG and FG repeats and some FXFG repeats and is thus a vertebrate member of a family of GLFG nucleoporins that were previously discovered in yeast. Immunoelectron microscopy showed Nup98 to be asymmetrically located at the nucleoplasmic side of the NPC. Nup98 functions as one of several docking site nucleoporins in a cytosolic docking activity-mediated binding of a model transport substrate. The docking site of Nup98 was mapped to its N-terminal half, which contains all of the peptide repeats. A recombinant segment of this region depleted the docking activity of cytosol. We suggest that the peptide repeat domain of Nup98, together with peptide repeat domains of other nucleoporins, forms an array of sites for mediated docking of transport substrate, and that bidirectional transport across the NPC proceeds by repeated docking and undocking reactions.\n",
      "\n",
      "generated_summary\n",
      "\n"
     ]
    },
    {
     "data": {
      "application/vnd.jupyter.widget-view+json": {
       "model_id": "07fce6ab5c5b44e7970c95dbfbdd108f",
       "version_major": 2,
       "version_minor": 0
      },
      "text/plain": [
       "  0%|          | 0/100 [00:00<?, ?it/s]"
      ]
     },
     "metadata": {},
     "output_type": "display_data"
    },
    {
     "name": "stdout",
     "output_type": "stream",
     "text": [
      "The cellular effects of stromal cell-derived factor-1 (SDF-1) are mediated primarily by binding to the CXC chemokine receptor-4. We report in this study that SDF-1 and its peptide analogues induce a concentration- and time-dependent accumulation of phosphatidylinositol-(3,4,5)-trisphosphate (PtdIns(3,4,5)P3) in Jurkat cells. This SDF-1-stimulated generation of D-3 phosphoinositide lipids was inhibited by pretreatment of the cells with an SDF-1 peptide antagonist or an anti-CXCR4 Ab. In addition, the phosphoinositide 3 (PI 3)-kinase inhibitors wortmannin and LY294002, as well as the Gi protein inhibitor pertussis toxin, also inhibited the SDF-1-stimulated accumulation of PtdIns(3,4,5)P3. The effects of SDF-1 on D-3 phosphoinositide lipid accumulation correlated well with activation of the known PI 3-kinase effector protein kinase B, which was also inhibited by wortmannin and pertussis toxin. Concentrations of PI 3-kinase inhibitors, sufficient to inhibit PtdIns(3,4,5)P3 accumulation, also inhibited chemotaxis of Jurkat and peripheral blood-derived T lymphocytes in response to SDF-1. In contrast, SDF-1-stimulated actin polymerization was only partially inhibited by PI 3-kinase inhibitors, suggesting that while chemotaxis is fully dependent on PI 3-kinase activation, actin polymerization requires additional biochemical inputs. Finally, SDF-1-stimulated extracellular signal-related kinase (ERK)-1/2 mitogen-activated protein kinase activation was inhibited by PI 3-kinase inhibitors. In addition, the mitogen-activated protein/ERK kinase inhibitor PD098059 partially attenuated chemotaxis in response to SDF-1. Hence, it appears that ERK1/2 activation is dependent on PI 3-kinase activation, and both biochemical events are involved in the regulation of SDF-1-stimulated chemotaxis.\n",
      "\n",
      "generated_summary\n",
      "\n",
      "loss: 0.07767843455076218\n",
      "\n",
      "loss: 0.04916471615433693\n",
      "\n",
      "loss: 0.0509909987449646\n",
      "\n",
      "loss: 0.07381176948547363\n",
      "\n",
      "loss: 0.05796557664871216\n",
      "\n",
      "loss: 0.07241454720497131\n",
      "\n",
      "loss: 0.06888765096664429\n",
      "\n",
      "loss: 0.06258553266525269\n",
      "\n",
      "loss: 0.05162786319851875\n",
      "\n",
      "loss: 0.0437706783413887\n",
      "\n"
     ]
    },
    {
     "data": {
      "application/vnd.jupyter.widget-view+json": {
       "model_id": "e9e8252c57ab4364918941e1ee682f83",
       "version_major": 2,
       "version_minor": 0
      },
      "text/plain": [
       "Evaluating:   0%|          | 0/770 [00:00<?, ?it/s]"
      ]
     },
     "metadata": {},
     "output_type": "display_data"
    },
    {
     "name": "stdout",
     "output_type": "stream",
     "text": [
      "perplexity: 5.712092399597168\n",
      "After 471 updates: \n",
      "\n"
     ]
    },
    {
     "data": {
      "application/vnd.jupyter.widget-view+json": {
       "model_id": "a9d07e2425bb4d209b6d5aca16f7f78c",
       "version_major": 2,
       "version_minor": 0
      },
      "text/plain": [
       "  0%|          | 0/100 [00:00<?, ?it/s]"
      ]
     },
     "metadata": {},
     "output_type": "display_data"
    },
    {
     "name": "stdout",
     "output_type": "stream",
     "text": [
      "We report the cDNA deduced primary structure of a wheat germ agglutinin-reactive nuclear pore complex (NPC) protein of rat. The protein, termed Nup98 (for nucleoporin of 98 kDa), contains numerous GLFG and FG repeats and some FXFG repeats and is thus a vertebrate member of a family of GLFG nucleoporins that were previously discovered in yeast. Immunoelectron microscopy showed Nup98 to be asymmetrically located at the nucleoplasmic side of the NPC. Nup98 functions as one of several docking site nucleoporins in a cytosolic docking activity-mediated binding of a model transport substrate. The docking site of Nup98 was mapped to its N-terminal half, which contains all of the peptide repeats. A recombinant segment of this region depleted the docking activity of cytosol. We suggest that the peptide repeat domain of Nup98, together with peptide repeat domains of other nucleoporins, forms an array of sites for mediated docking of transport substrate, and that bidirectional transport across the NPC proceeds by repeated docking and undocking reactions.\n",
      "\n",
      "generated_summary\n",
      "\n"
     ]
    },
    {
     "data": {
      "application/vnd.jupyter.widget-view+json": {
       "model_id": "17ed77ab28354e83b6e286d35e0e0157",
       "version_major": 2,
       "version_minor": 0
      },
      "text/plain": [
       "  0%|          | 0/100 [00:00<?, ?it/s]"
      ]
     },
     "metadata": {},
     "output_type": "display_data"
    },
    {
     "name": "stdout",
     "output_type": "stream",
     "text": [
      "The cellular effects of stromal cell-derived factor-1 (SDF-1) are mediated primarily by binding to the CXC chemokine receptor-4. We report in this study that SDF-1 and its peptide analogues induce a concentration- and time-dependent accumulation of phosphatidylinositol-(3,4,5)-trisphosphate (PtdIns(3,4,5)P3) in Jurkat cells. This SDF-1-stimulated generation of D-3 phosphoinositide lipids was inhibited by pretreatment of the cells with an SDF-1 peptide antagonist or an anti-CXCR4 Ab. In addition, the phosphoinositide 3 (PI 3)-kinase inhibitors wortmannin and LY294002, as well as the Gi protein inhibitor pertussis toxin, also inhibited the SDF-1-stimulated accumulation of PtdIns(3,4,5)P3. The effects of SDF-1 on D-3 phosphoinositide lipid accumulation correlated well with activation of the known PI 3-kinase effector protein kinase B, which was also inhibited by wortmannin and pertussis toxin. Concentrations of PI 3-kinase inhibitors, sufficient to inhibit PtdIns(3,4,5)P3 accumulation, also inhibited chemotaxis of Jurkat and peripheral blood-derived T lymphocytes in response to SDF-1. In contrast, SDF-1-stimulated actin polymerization was only partially inhibited by PI 3-kinase inhibitors, suggesting that while chemotaxis is fully dependent on PI 3-kinase activation, actin polymerization requires additional biochemical inputs. Finally, SDF-1-stimulated extracellular signal-related kinase (ERK)-1/2 mitogen-activated protein kinase activation was inhibited by PI 3-kinase inhibitors. In addition, the mitogen-activated protein/ERK kinase inhibitor PD098059 partially attenuated chemotaxis in response to SDF-1. Hence, it appears that ERK1/2 activation is dependent on PI 3-kinase activation, and both biochemical events are involved in the regulation of SDF-1-stimulated chemotaxis.\n",
      "\n",
      "generated_summary\n",
      "\n",
      "loss: 0.06842891871929169\n",
      "\n",
      "loss: 0.048329439014196396\n",
      "\n",
      "loss: 0.05042567849159241\n",
      "\n",
      "loss: 0.03734144568443298\n",
      "\n",
      "loss: 0.08173117786645889\n",
      "\n",
      "loss: 0.04942264407873154\n",
      "\n",
      "loss: 0.07731514424085617\n",
      "\n",
      "loss: 0.05271483585238457\n",
      "\n",
      "loss: 0.08644813299179077\n",
      "\n",
      "loss: 0.049753203988075256\n",
      "\n"
     ]
    },
    {
     "data": {
      "application/vnd.jupyter.widget-view+json": {
       "model_id": "97ac12a56bae479c8ddea6c69b78c5a2",
       "version_major": 2,
       "version_minor": 0
      },
      "text/plain": [
       "Evaluating:   0%|          | 0/770 [00:00<?, ?it/s]"
      ]
     },
     "metadata": {},
     "output_type": "display_data"
    },
    {
     "name": "stdout",
     "output_type": "stream",
     "text": [
      "perplexity: 5.65662956237793\n",
      "After 481 updates: \n",
      "\n"
     ]
    },
    {
     "data": {
      "application/vnd.jupyter.widget-view+json": {
       "model_id": "0b88dd5615964e6281eff8e934d7bf20",
       "version_major": 2,
       "version_minor": 0
      },
      "text/plain": [
       "  0%|          | 0/100 [00:00<?, ?it/s]"
      ]
     },
     "metadata": {},
     "output_type": "display_data"
    },
    {
     "name": "stdout",
     "output_type": "stream",
     "text": [
      "We report the cDNA deduced primary structure of a wheat germ agglutinin-reactive nuclear pore complex (NPC) protein of rat. The protein, termed Nup98 (for nucleoporin of 98 kDa), contains numerous GLFG and FG repeats and some FXFG repeats and is thus a vertebrate member of a family of GLFG nucleoporins that were previously discovered in yeast. Immunoelectron microscopy showed Nup98 to be asymmetrically located at the nucleoplasmic side of the NPC. Nup98 functions as one of several docking site nucleoporins in a cytosolic docking activity-mediated binding of a model transport substrate. The docking site of Nup98 was mapped to its N-terminal half, which contains all of the peptide repeats. A recombinant segment of this region depleted the docking activity of cytosol. We suggest that the peptide repeat domain of Nup98, together with peptide repeat domains of other nucleoporins, forms an array of sites for mediated docking of transport substrate, and that bidirectional transport across the NPC proceeds by repeated docking and undocking reactions.\n",
      "\n",
      "generated_summary\n",
      "\n"
     ]
    },
    {
     "data": {
      "application/vnd.jupyter.widget-view+json": {
       "model_id": "56c88ab9b3ae4fe68c1a2c18dc3e2f90",
       "version_major": 2,
       "version_minor": 0
      },
      "text/plain": [
       "  0%|          | 0/100 [00:00<?, ?it/s]"
      ]
     },
     "metadata": {},
     "output_type": "display_data"
    },
    {
     "name": "stdout",
     "output_type": "stream",
     "text": [
      "The cellular effects of stromal cell-derived factor-1 (SDF-1) are mediated primarily by binding to the CXC chemokine receptor-4. We report in this study that SDF-1 and its peptide analogues induce a concentration- and time-dependent accumulation of phosphatidylinositol-(3,4,5)-trisphosphate (PtdIns(3,4,5)P3) in Jurkat cells. This SDF-1-stimulated generation of D-3 phosphoinositide lipids was inhibited by pretreatment of the cells with an SDF-1 peptide antagonist or an anti-CXCR4 Ab. In addition, the phosphoinositide 3 (PI 3)-kinase inhibitors wortmannin and LY294002, as well as the Gi protein inhibitor pertussis toxin, also inhibited the SDF-1-stimulated accumulation of PtdIns(3,4,5)P3. The effects of SDF-1 on D-3 phosphoinositide lipid accumulation correlated well with activation of the known PI 3-kinase effector protein kinase B, which was also inhibited by wortmannin and pertussis toxin. Concentrations of PI 3-kinase inhibitors, sufficient to inhibit PtdIns(3,4,5)P3 accumulation, also inhibited chemotaxis of Jurkat and peripheral blood-derived T lymphocytes in response to SDF-1. In contrast, SDF-1-stimulated actin polymerization was only partially inhibited by PI 3-kinase inhibitors, suggesting that while chemotaxis is fully dependent on PI 3-kinase activation, actin polymerization requires additional biochemical inputs. Finally, SDF-1-stimulated extracellular signal-related kinase (ERK)-1/2 mitogen-activated protein kinase activation was inhibited by PI 3-kinase inhibitors. In addition, the mitogen-activated protein/ERK kinase inhibitor PD098059 partially attenuated chemotaxis in response to SDF-1. Hence, it appears that ERK1/2 activation is dependent on PI 3-kinase activation, and both biochemical events are involved in the regulation of SDF-1-stimulated chemotaxis.\n",
      "\n",
      "generated_summary\n",
      "\n",
      "loss: 0.07195376604795456\n",
      "\n",
      "loss: 0.06813491880893707\n",
      "\n",
      "loss: 0.06148466840386391\n",
      "\n",
      "loss: 0.0605950728058815\n",
      "\n",
      "loss: 0.0483865961432457\n",
      "\n",
      "loss: 0.03683404624462128\n",
      "\n",
      "loss: 0.048131998628377914\n",
      "\n",
      "loss: 0.07875576615333557\n",
      "\n",
      "loss: 0.04501158371567726\n",
      "\n",
      "loss: 0.09344653785228729\n",
      "\n"
     ]
    },
    {
     "data": {
      "application/vnd.jupyter.widget-view+json": {
       "model_id": "cdf5bf05be7d4c538802e2ef5efe418e",
       "version_major": 2,
       "version_minor": 0
      },
      "text/plain": [
       "Evaluating:   0%|          | 0/770 [00:00<?, ?it/s]"
      ]
     },
     "metadata": {},
     "output_type": "display_data"
    },
    {
     "name": "stdout",
     "output_type": "stream",
     "text": [
      "perplexity: 5.690471649169922\n",
      "After 491 updates: \n",
      "\n"
     ]
    },
    {
     "data": {
      "application/vnd.jupyter.widget-view+json": {
       "model_id": "0630c9b9c5d44ccfa412648cdc72ddc2",
       "version_major": 2,
       "version_minor": 0
      },
      "text/plain": [
       "  0%|          | 0/100 [00:00<?, ?it/s]"
      ]
     },
     "metadata": {},
     "output_type": "display_data"
    },
    {
     "name": "stdout",
     "output_type": "stream",
     "text": [
      "We report the cDNA deduced primary structure of a wheat germ agglutinin-reactive nuclear pore complex (NPC) protein of rat. The protein, termed Nup98 (for nucleoporin of 98 kDa), contains numerous GLFG and FG repeats and some FXFG repeats and is thus a vertebrate member of a family of GLFG nucleoporins that were previously discovered in yeast. Immunoelectron microscopy showed Nup98 to be asymmetrically located at the nucleoplasmic side of the NPC. Nup98 functions as one of several docking site nucleoporins in a cytosolic docking activity-mediated binding of a model transport substrate. The docking site of Nup98 was mapped to its N-terminal half, which contains all of the peptide repeats. A recombinant segment of this region depleted the docking activity of cytosol. We suggest that the peptide repeat domain of Nup98, together with peptide repeat domains of other nucleoporins, forms an array of sites for mediated docking of transport substrate, and that bidirectional transport across the NPC proceeds by repeated docking and undocking reactions.\n",
      "\n",
      "generated_summary\n",
      "\n"
     ]
    },
    {
     "data": {
      "application/vnd.jupyter.widget-view+json": {
       "model_id": "b0aa695e2b80422db4c04e47912fe177",
       "version_major": 2,
       "version_minor": 0
      },
      "text/plain": [
       "  0%|          | 0/100 [00:00<?, ?it/s]"
      ]
     },
     "metadata": {},
     "output_type": "display_data"
    },
    {
     "name": "stdout",
     "output_type": "stream",
     "text": [
      "The cellular effects of stromal cell-derived factor-1 (SDF-1) are mediated primarily by binding to the CXC chemokine receptor-4. We report in this study that SDF-1 and its peptide analogues induce a concentration- and time-dependent accumulation of phosphatidylinositol-(3,4,5)-trisphosphate (PtdIns(3,4,5)P3) in Jurkat cells. This SDF-1-stimulated generation of D-3 phosphoinositide lipids was inhibited by pretreatment of the cells with an SDF-1 peptide antagonist or an anti-CXCR4 Ab. In addition, the phosphoinositide 3 (PI 3)-kinase inhibitors wortmannin and LY294002, as well as the Gi protein inhibitor pertussis toxin, also inhibited the SDF-1-stimulated accumulation of PtdIns(3,4,5)P3. The effects of SDF-1 on D-3 phosphoinositide lipid accumulation correlated well with activation of the known PI 3-kinase effector protein kinase B, which was also inhibited by wortmannin and pertussis toxin. Concentrations of PI 3-kinase inhibitors, sufficient to inhibit PtdIns(3,4,5)P3 accumulation, also inhibited chemotaxis of Jurkat and peripheral blood-derived T lymphocytes in response to SDF-1. In contrast, SDF-1-stimulated actin polymerization was only partially inhibited by PI 3-kinase inhibitors, suggesting that while chemotaxis is fully dependent on PI 3-kinase activation, actin polymerization requires additional biochemical inputs. Finally, SDF-1-stimulated extracellular signal-related kinase (ERK)-1/2 mitogen-activated protein kinase activation was inhibited by PI 3-kinase inhibitors. In addition, the mitogen-activated protein/ERK kinase inhibitor PD098059 partially attenuated chemotaxis in response to SDF-1. Hence, it appears that ERK1/2 activation is dependent on PI 3-kinase activation, and both biochemical events are involved in the regulation of SDF-1-stimulated chemotaxis.\n",
      "\n",
      "generated_summary\n",
      "\n",
      "loss: 0.04044406861066818\n",
      "\n",
      "loss: 0.03792204707860947\n",
      "\n",
      "loss: 0.06387735158205032\n",
      "\n",
      "loss: 0.03266771882772446\n",
      "\n",
      "loss: 0.05138969421386719\n",
      "\n",
      "loss: 0.0644712820649147\n",
      "\n",
      "loss: 0.0632549449801445\n",
      "\n",
      "loss: 0.04197806864976883\n",
      "\n",
      "loss: 0.03317529335618019\n",
      "\n",
      "loss: 0.0457693487405777\n",
      "\n"
     ]
    },
    {
     "data": {
      "application/vnd.jupyter.widget-view+json": {
       "model_id": "e336ac5abfd94556ace894dacb4db280",
       "version_major": 2,
       "version_minor": 0
      },
      "text/plain": [
       "Evaluating:   0%|          | 0/770 [00:00<?, ?it/s]"
      ]
     },
     "metadata": {},
     "output_type": "display_data"
    },
    {
     "name": "stdout",
     "output_type": "stream",
     "text": [
      "perplexity: 5.652128219604492\n",
      "After 501 updates: \n",
      "\n"
     ]
    },
    {
     "data": {
      "application/vnd.jupyter.widget-view+json": {
       "model_id": "920c375b6d8c4b87998512a327199644",
       "version_major": 2,
       "version_minor": 0
      },
      "text/plain": [
       "  0%|          | 0/100 [00:00<?, ?it/s]"
      ]
     },
     "metadata": {},
     "output_type": "display_data"
    },
    {
     "name": "stdout",
     "output_type": "stream",
     "text": [
      "We report the cDNA deduced primary structure of a wheat germ agglutinin-reactive nuclear pore complex (NPC) protein of rat. The protein, termed Nup98 (for nucleoporin of 98 kDa), contains numerous GLFG and FG repeats and some FXFG repeats and is thus a vertebrate member of a family of GLFG nucleoporins that were previously discovered in yeast. Immunoelectron microscopy showed Nup98 to be asymmetrically located at the nucleoplasmic side of the NPC. Nup98 functions as one of several docking site nucleoporins in a cytosolic docking activity-mediated binding of a model transport substrate. The docking site of Nup98 was mapped to its N-terminal half, which contains all of the peptide repeats. A recombinant segment of this region depleted the docking activity of cytosol. We suggest that the peptide repeat domain of Nup98, together with peptide repeat domains of other nucleoporins, forms an array of sites for mediated docking of transport substrate, and that bidirectional transport across the NPC proceeds by repeated docking and undocking reactions.\n",
      "\n",
      "generated_summary\n",
      "\n"
     ]
    },
    {
     "data": {
      "application/vnd.jupyter.widget-view+json": {
       "model_id": "fdc8be077fb04110a4689d2a5c741c84",
       "version_major": 2,
       "version_minor": 0
      },
      "text/plain": [
       "  0%|          | 0/100 [00:00<?, ?it/s]"
      ]
     },
     "metadata": {},
     "output_type": "display_data"
    },
    {
     "name": "stdout",
     "output_type": "stream",
     "text": [
      "The cellular effects of stromal cell-derived factor-1 (SDF-1) are mediated primarily by binding to the CXC chemokine receptor-4. We report in this study that SDF-1 and its peptide analogues induce a concentration- and time-dependent accumulation of phosphatidylinositol-(3,4,5)-trisphosphate (PtdIns(3,4,5)P3) in Jurkat cells. This SDF-1-stimulated generation of D-3 phosphoinositide lipids was inhibited by pretreatment of the cells with an SDF-1 peptide antagonist or an anti-CXCR4 Ab. In addition, the phosphoinositide 3 (PI 3)-kinase inhibitors wortmannin and LY294002, as well as the Gi protein inhibitor pertussis toxin, also inhibited the SDF-1-stimulated accumulation of PtdIns(3,4,5)P3. The effects of SDF-1 on D-3 phosphoinositide lipid accumulation correlated well with activation of the known PI 3-kinase effector protein kinase B, which was also inhibited by wortmannin and pertussis toxin. Concentrations of PI 3-kinase inhibitors, sufficient to inhibit PtdIns(3,4,5)P3 accumulation, also inhibited chemotaxis of Jurkat and peripheral blood-derived T lymphocytes in response to SDF-1. In contrast, SDF-1-stimulated actin polymerization was only partially inhibited by PI 3-kinase inhibitors, suggesting that while chemotaxis is fully dependent on PI 3-kinase activation, actin polymerization requires additional biochemical inputs. Finally, SDF-1-stimulated extracellular signal-related kinase (ERK)-1/2 mitogen-activated protein kinase activation was inhibited by PI 3-kinase inhibitors. In addition, the mitogen-activated protein/ERK kinase inhibitor PD098059 partially attenuated chemotaxis in response to SDF-1. Hence, it appears that ERK1/2 activation is dependent on PI 3-kinase activation, and both biochemical events are involved in the regulation of SDF-1-stimulated chemotaxis.\n",
      "\n",
      "generated_summary\n",
      "\n",
      "loss: 0.07637140899896622\n",
      "\n",
      "loss: 0.04709722474217415\n",
      "\n",
      "loss: 0.03850308433175087\n",
      "\n",
      "loss: 0.05283967778086662\n",
      "\n",
      "loss: 0.06449791043996811\n",
      "\n",
      "loss: 0.04029698297381401\n",
      "\n",
      "loss: 0.05855729803442955\n",
      "\n",
      "loss: 0.0576409213244915\n",
      "\n",
      "loss: 0.0684666559100151\n",
      "\n",
      "loss: 0.0645926222205162\n",
      "\n"
     ]
    },
    {
     "data": {
      "application/vnd.jupyter.widget-view+json": {
       "model_id": "475fdf1e97a548c6a72a6a77b030e9b9",
       "version_major": 2,
       "version_minor": 0
      },
      "text/plain": [
       "Evaluating:   0%|          | 0/770 [00:00<?, ?it/s]"
      ]
     },
     "metadata": {},
     "output_type": "display_data"
    },
    {
     "name": "stdout",
     "output_type": "stream",
     "text": [
      "perplexity: 5.631748199462891\n",
      "After 511 updates: \n",
      "\n"
     ]
    },
    {
     "data": {
      "application/vnd.jupyter.widget-view+json": {
       "model_id": "ef9dd89bd1374c8cacb7f491b45a2d3b",
       "version_major": 2,
       "version_minor": 0
      },
      "text/plain": [
       "  0%|          | 0/100 [00:00<?, ?it/s]"
      ]
     },
     "metadata": {},
     "output_type": "display_data"
    },
    {
     "name": "stdout",
     "output_type": "stream",
     "text": [
      "We report the cDNA deduced primary structure of a wheat germ agglutinin-reactive nuclear pore complex (NPC) protein of rat. The protein, termed Nup98 (for nucleoporin of 98 kDa), contains numerous GLFG and FG repeats and some FXFG repeats and is thus a vertebrate member of a family of GLFG nucleoporins that were previously discovered in yeast. Immunoelectron microscopy showed Nup98 to be asymmetrically located at the nucleoplasmic side of the NPC. Nup98 functions as one of several docking site nucleoporins in a cytosolic docking activity-mediated binding of a model transport substrate. The docking site of Nup98 was mapped to its N-terminal half, which contains all of the peptide repeats. A recombinant segment of this region depleted the docking activity of cytosol. We suggest that the peptide repeat domain of Nup98, together with peptide repeat domains of other nucleoporins, forms an array of sites for mediated docking of transport substrate, and that bidirectional transport across the NPC proceeds by repeated docking and undocking reactions.\n",
      "\n",
      "generated_summary\n",
      "\n"
     ]
    },
    {
     "data": {
      "application/vnd.jupyter.widget-view+json": {
       "model_id": "d51facd9e7cf49ab89af94b796abff92",
       "version_major": 2,
       "version_minor": 0
      },
      "text/plain": [
       "  0%|          | 0/100 [00:00<?, ?it/s]"
      ]
     },
     "metadata": {},
     "output_type": "display_data"
    },
    {
     "name": "stdout",
     "output_type": "stream",
     "text": [
      "The cellular effects of stromal cell-derived factor-1 (SDF-1) are mediated primarily by binding to the CXC chemokine receptor-4. We report in this study that SDF-1 and its peptide analogues induce a concentration- and time-dependent accumulation of phosphatidylinositol-(3,4,5)-trisphosphate (PtdIns(3,4,5)P3) in Jurkat cells. This SDF-1-stimulated generation of D-3 phosphoinositide lipids was inhibited by pretreatment of the cells with an SDF-1 peptide antagonist or an anti-CXCR4 Ab. In addition, the phosphoinositide 3 (PI 3)-kinase inhibitors wortmannin and LY294002, as well as the Gi protein inhibitor pertussis toxin, also inhibited the SDF-1-stimulated accumulation of PtdIns(3,4,5)P3. The effects of SDF-1 on D-3 phosphoinositide lipid accumulation correlated well with activation of the known PI 3-kinase effector protein kinase B, which was also inhibited by wortmannin and pertussis toxin. Concentrations of PI 3-kinase inhibitors, sufficient to inhibit PtdIns(3,4,5)P3 accumulation, also inhibited chemotaxis of Jurkat and peripheral blood-derived T lymphocytes in response to SDF-1. In contrast, SDF-1-stimulated actin polymerization was only partially inhibited by PI 3-kinase inhibitors, suggesting that while chemotaxis is fully dependent on PI 3-kinase activation, actin polymerization requires additional biochemical inputs. Finally, SDF-1-stimulated extracellular signal-related kinase (ERK)-1/2 mitogen-activated protein kinase activation was inhibited by PI 3-kinase inhibitors. In addition, the mitogen-activated protein/ERK kinase inhibitor PD098059 partially attenuated chemotaxis in response to SDF-1. Hence, it appears that ERK1/2 activation is dependent on PI 3-kinase activation, and both biochemical events are involved in the regulation of SDF-1-stimulated chemotaxis.\n",
      "\n",
      "generated_summary\n",
      "\n",
      "loss: 0.061564795672893524\n",
      "\n",
      "loss: 0.06869382411241531\n",
      "\n",
      "loss: 0.04793199524283409\n",
      "\n",
      "loss: 0.06966592371463776\n",
      "\n",
      "loss: 0.07112325727939606\n",
      "\n",
      "loss: 0.03943135216832161\n",
      "\n",
      "loss: 0.057109151035547256\n",
      "\n",
      "loss: 0.04709470644593239\n",
      "\n",
      "loss: 0.03617430105805397\n",
      "\n",
      "loss: 0.03199015185236931\n",
      "\n"
     ]
    },
    {
     "data": {
      "application/vnd.jupyter.widget-view+json": {
       "model_id": "e6858c4133594644bc01efd71cf85676",
       "version_major": 2,
       "version_minor": 0
      },
      "text/plain": [
       "Evaluating:   0%|          | 0/770 [00:00<?, ?it/s]"
      ]
     },
     "metadata": {},
     "output_type": "display_data"
    },
    {
     "name": "stdout",
     "output_type": "stream",
     "text": [
      "perplexity: 5.672767639160156\n",
      "After 521 updates: \n",
      "\n"
     ]
    },
    {
     "data": {
      "application/vnd.jupyter.widget-view+json": {
       "model_id": "f89ab6b07e5d4bf99c75f8d4d5f7b499",
       "version_major": 2,
       "version_minor": 0
      },
      "text/plain": [
       "  0%|          | 0/100 [00:00<?, ?it/s]"
      ]
     },
     "metadata": {},
     "output_type": "display_data"
    },
    {
     "name": "stdout",
     "output_type": "stream",
     "text": [
      "We report the cDNA deduced primary structure of a wheat germ agglutinin-reactive nuclear pore complex (NPC) protein of rat. The protein, termed Nup98 (for nucleoporin of 98 kDa), contains numerous GLFG and FG repeats and some FXFG repeats and is thus a vertebrate member of a family of GLFG nucleoporins that were previously discovered in yeast. Immunoelectron microscopy showed Nup98 to be asymmetrically located at the nucleoplasmic side of the NPC. Nup98 functions as one of several docking site nucleoporins in a cytosolic docking activity-mediated binding of a model transport substrate. The docking site of Nup98 was mapped to its N-terminal half, which contains all of the peptide repeats. A recombinant segment of this region depleted the docking activity of cytosol. We suggest that the peptide repeat domain of Nup98, together with peptide repeat domains of other nucleoporins, forms an array of sites for mediated docking of transport substrate, and that bidirectional transport across the NPC proceeds by repeated docking and undocking reactions.\n",
      "\n",
      "generated_summary\n",
      "\n"
     ]
    },
    {
     "data": {
      "application/vnd.jupyter.widget-view+json": {
       "model_id": "48c2e545c87c42e5a1556287a33ba160",
       "version_major": 2,
       "version_minor": 0
      },
      "text/plain": [
       "  0%|          | 0/100 [00:00<?, ?it/s]"
      ]
     },
     "metadata": {},
     "output_type": "display_data"
    },
    {
     "name": "stdout",
     "output_type": "stream",
     "text": [
      "The cellular effects of stromal cell-derived factor-1 (SDF-1) are mediated primarily by binding to the CXC chemokine receptor-4. We report in this study that SDF-1 and its peptide analogues induce a concentration- and time-dependent accumulation of phosphatidylinositol-(3,4,5)-trisphosphate (PtdIns(3,4,5)P3) in Jurkat cells. This SDF-1-stimulated generation of D-3 phosphoinositide lipids was inhibited by pretreatment of the cells with an SDF-1 peptide antagonist or an anti-CXCR4 Ab. In addition, the phosphoinositide 3 (PI 3)-kinase inhibitors wortmannin and LY294002, as well as the Gi protein inhibitor pertussis toxin, also inhibited the SDF-1-stimulated accumulation of PtdIns(3,4,5)P3. The effects of SDF-1 on D-3 phosphoinositide lipid accumulation correlated well with activation of the known PI 3-kinase effector protein kinase B, which was also inhibited by wortmannin and pertussis toxin. Concentrations of PI 3-kinase inhibitors, sufficient to inhibit PtdIns(3,4,5)P3 accumulation, also inhibited chemotaxis of Jurkat and peripheral blood-derived T lymphocytes in response to SDF-1. In contrast, SDF-1-stimulated actin polymerization was only partially inhibited by PI 3-kinase inhibitors, suggesting that while chemotaxis is fully dependent on PI 3-kinase activation, actin polymerization requires additional biochemical inputs. Finally, SDF-1-stimulated extracellular signal-related kinase (ERK)-1/2 mitogen-activated protein kinase activation was inhibited by PI 3-kinase inhibitors. In addition, the mitogen-activated protein/ERK kinase inhibitor PD098059 partially attenuated chemotaxis in response to SDF-1. Hence, it appears that ERK1/2 activation is dependent on PI 3-kinase activation, and both biochemical events are involved in the regulation of SDF-1-stimulated chemotaxis.\n",
      "\n",
      "generated_summary\n",
      "\n",
      "loss: 0.07482153177261353\n",
      "\n",
      "loss: 0.07203006744384766\n",
      "\n",
      "loss: 0.055935077369213104\n",
      "\n",
      "loss: 0.04597748443484306\n",
      "\n",
      "loss: 0.06759658455848694\n",
      "\n",
      "loss: 0.06474354863166809\n",
      "\n",
      "loss: 0.053113050758838654\n",
      "\n",
      "loss: 0.04806912690401077\n",
      "\n",
      "loss: 0.0517037995159626\n",
      "\n",
      "loss: 0.05438344180583954\n",
      "\n"
     ]
    },
    {
     "data": {
      "application/vnd.jupyter.widget-view+json": {
       "model_id": "d28b5a8fceb243d0959650dd501752e7",
       "version_major": 2,
       "version_minor": 0
      },
      "text/plain": [
       "Evaluating:   0%|          | 0/770 [00:00<?, ?it/s]"
      ]
     },
     "metadata": {},
     "output_type": "display_data"
    },
    {
     "name": "stdout",
     "output_type": "stream",
     "text": [
      "perplexity: 5.618897438049316\n",
      "After 531 updates: \n",
      "\n"
     ]
    },
    {
     "data": {
      "application/vnd.jupyter.widget-view+json": {
       "model_id": "29d56c807b6c400e82ac7c209ba6081b",
       "version_major": 2,
       "version_minor": 0
      },
      "text/plain": [
       "  0%|          | 0/100 [00:00<?, ?it/s]"
      ]
     },
     "metadata": {},
     "output_type": "display_data"
    },
    {
     "name": "stdout",
     "output_type": "stream",
     "text": [
      "We report the cDNA deduced primary structure of a wheat germ agglutinin-reactive nuclear pore complex (NPC) protein of rat. The protein, termed Nup98 (for nucleoporin of 98 kDa), contains numerous GLFG and FG repeats and some FXFG repeats and is thus a vertebrate member of a family of GLFG nucleoporins that were previously discovered in yeast. Immunoelectron microscopy showed Nup98 to be asymmetrically located at the nucleoplasmic side of the NPC. Nup98 functions as one of several docking site nucleoporins in a cytosolic docking activity-mediated binding of a model transport substrate. The docking site of Nup98 was mapped to its N-terminal half, which contains all of the peptide repeats. A recombinant segment of this region depleted the docking activity of cytosol. We suggest that the peptide repeat domain of Nup98, together with peptide repeat domains of other nucleoporins, forms an array of sites for mediated docking of transport substrate, and that bidirectional transport across the NPC proceeds by repeated docking and undocking reactions.\n",
      "\n",
      "generated_summary\n",
      "\n"
     ]
    },
    {
     "data": {
      "application/vnd.jupyter.widget-view+json": {
       "model_id": "1b15cd4db0b648ed8a3b2ad9ba9c4eea",
       "version_major": 2,
       "version_minor": 0
      },
      "text/plain": [
       "  0%|          | 0/100 [00:00<?, ?it/s]"
      ]
     },
     "metadata": {},
     "output_type": "display_data"
    },
    {
     "name": "stdout",
     "output_type": "stream",
     "text": [
      "The cellular effects of stromal cell-derived factor-1 (SDF-1) are mediated primarily by binding to the CXC chemokine receptor-4. We report in this study that SDF-1 and its peptide analogues induce a concentration- and time-dependent accumulation of phosphatidylinositol-(3,4,5)-trisphosphate (PtdIns(3,4,5)P3) in Jurkat cells. This SDF-1-stimulated generation of D-3 phosphoinositide lipids was inhibited by pretreatment of the cells with an SDF-1 peptide antagonist or an anti-CXCR4 Ab. In addition, the phosphoinositide 3 (PI 3)-kinase inhibitors wortmannin and LY294002, as well as the Gi protein inhibitor pertussis toxin, also inhibited the SDF-1-stimulated accumulation of PtdIns(3,4,5)P3. The effects of SDF-1 on D-3 phosphoinositide lipid accumulation correlated well with activation of the known PI 3-kinase effector protein kinase B, which was also inhibited by wortmannin and pertussis toxin. Concentrations of PI 3-kinase inhibitors, sufficient to inhibit PtdIns(3,4,5)P3 accumulation, also inhibited chemotaxis of Jurkat and peripheral blood-derived T lymphocytes in response to SDF-1. In contrast, SDF-1-stimulated actin polymerization was only partially inhibited by PI 3-kinase inhibitors, suggesting that while chemotaxis is fully dependent on PI 3-kinase activation, actin polymerization requires additional biochemical inputs. Finally, SDF-1-stimulated extracellular signal-related kinase (ERK)-1/2 mitogen-activated protein kinase activation was inhibited by PI 3-kinase inhibitors. In addition, the mitogen-activated protein/ERK kinase inhibitor PD098059 partially attenuated chemotaxis in response to SDF-1. Hence, it appears that ERK1/2 activation is dependent on PI 3-kinase activation, and both biochemical events are involved in the regulation of SDF-1-stimulated chemotaxis.\n",
      "\n",
      "generated_summary\n",
      "\n",
      "loss: 0.07090330868959427\n",
      "\n",
      "loss: 0.03369888663291931\n",
      "\n",
      "loss: 0.07440149039030075\n",
      "\n",
      "loss: 0.0487968809902668\n",
      "\n",
      "loss: 0.03395393118262291\n",
      "\n",
      "loss: 0.0540601946413517\n",
      "\n",
      "loss: 0.03702949732542038\n",
      "\n",
      "loss: 0.09425656497478485\n",
      "\n",
      "loss: 0.07417185604572296\n",
      "\n",
      "loss: 0.06749814003705978\n",
      "\n"
     ]
    },
    {
     "data": {
      "application/vnd.jupyter.widget-view+json": {
       "model_id": "71caee371bbd43519fa2cb45fb7ea28d",
       "version_major": 2,
       "version_minor": 0
      },
      "text/plain": [
       "Evaluating:   0%|          | 0/770 [00:00<?, ?it/s]"
      ]
     },
     "metadata": {},
     "output_type": "display_data"
    },
    {
     "name": "stdout",
     "output_type": "stream",
     "text": [
      "perplexity: 5.585409641265869\n",
      "After 541 updates: \n",
      "\n"
     ]
    },
    {
     "data": {
      "application/vnd.jupyter.widget-view+json": {
       "model_id": "4c90a228e9bf4170882bac0a7296d966",
       "version_major": 2,
       "version_minor": 0
      },
      "text/plain": [
       "  0%|          | 0/100 [00:00<?, ?it/s]"
      ]
     },
     "metadata": {},
     "output_type": "display_data"
    },
    {
     "name": "stdout",
     "output_type": "stream",
     "text": [
      "We report the cDNA deduced primary structure of a wheat germ agglutinin-reactive nuclear pore complex (NPC) protein of rat. The protein, termed Nup98 (for nucleoporin of 98 kDa), contains numerous GLFG and FG repeats and some FXFG repeats and is thus a vertebrate member of a family of GLFG nucleoporins that were previously discovered in yeast. Immunoelectron microscopy showed Nup98 to be asymmetrically located at the nucleoplasmic side of the NPC. Nup98 functions as one of several docking site nucleoporins in a cytosolic docking activity-mediated binding of a model transport substrate. The docking site of Nup98 was mapped to its N-terminal half, which contains all of the peptide repeats. A recombinant segment of this region depleted the docking activity of cytosol. We suggest that the peptide repeat domain of Nup98, together with peptide repeat domains of other nucleoporins, forms an array of sites for mediated docking of transport substrate, and that bidirectional transport across the NPC proceeds by repeated docking and undocking reactions.\n",
      "\n",
      "generated_summary\n",
      "\n"
     ]
    },
    {
     "data": {
      "application/vnd.jupyter.widget-view+json": {
       "model_id": "56f704ff6b694f89a7b3a04e6e489a25",
       "version_major": 2,
       "version_minor": 0
      },
      "text/plain": [
       "  0%|          | 0/100 [00:00<?, ?it/s]"
      ]
     },
     "metadata": {},
     "output_type": "display_data"
    },
    {
     "name": "stdout",
     "output_type": "stream",
     "text": [
      "The cellular effects of stromal cell-derived factor-1 (SDF-1) are mediated primarily by binding to the CXC chemokine receptor-4. We report in this study that SDF-1 and its peptide analogues induce a concentration- and time-dependent accumulation of phosphatidylinositol-(3,4,5)-trisphosphate (PtdIns(3,4,5)P3) in Jurkat cells. This SDF-1-stimulated generation of D-3 phosphoinositide lipids was inhibited by pretreatment of the cells with an SDF-1 peptide antagonist or an anti-CXCR4 Ab. In addition, the phosphoinositide 3 (PI 3)-kinase inhibitors wortmannin and LY294002, as well as the Gi protein inhibitor pertussis toxin, also inhibited the SDF-1-stimulated accumulation of PtdIns(3,4,5)P3. The effects of SDF-1 on D-3 phosphoinositide lipid accumulation correlated well with activation of the known PI 3-kinase effector protein kinase B, which was also inhibited by wortmannin and pertussis toxin. Concentrations of PI 3-kinase inhibitors, sufficient to inhibit PtdIns(3,4,5)P3 accumulation, also inhibited chemotaxis of Jurkat and peripheral blood-derived T lymphocytes in response to SDF-1. In contrast, SDF-1-stimulated actin polymerization was only partially inhibited by PI 3-kinase inhibitors, suggesting that while chemotaxis is fully dependent on PI 3-kinase activation, actin polymerization requires additional biochemical inputs. Finally, SDF-1-stimulated extracellular signal-related kinase (ERK)-1/2 mitogen-activated protein kinase activation was inhibited by PI 3-kinase inhibitors. In addition, the mitogen-activated protein/ERK kinase inhibitor PD098059 partially attenuated chemotaxis in response to SDF-1. Hence, it appears that ERK1/2 activation is dependent on PI 3-kinase activation, and both biochemical events are involved in the regulation of SDF-1-stimulated chemotaxis.\n",
      "\n",
      "generated_summary\n",
      "\n",
      "loss: 0.040658969432115555\n",
      "\n",
      "loss: 0.07511959969997406\n",
      "\n",
      "loss: 0.054351694881916046\n",
      "\n",
      "loss: 0.06450266391038895\n",
      "\n",
      "loss: 0.055221378803253174\n",
      "\n",
      "loss: 0.06370807439088821\n",
      "\n",
      "loss: 0.0485803559422493\n",
      "\n",
      "loss: 0.04004460945725441\n",
      "\n",
      "loss: 0.056862786412239075\n",
      "\n",
      "loss: 0.04931354522705078\n",
      "\n"
     ]
    },
    {
     "data": {
      "application/vnd.jupyter.widget-view+json": {
       "model_id": "990f5b0bab984eb2b9f74d52913f7edf",
       "version_major": 2,
       "version_minor": 0
      },
      "text/plain": [
       "Evaluating:   0%|          | 0/770 [00:00<?, ?it/s]"
      ]
     },
     "metadata": {},
     "output_type": "display_data"
    },
    {
     "name": "stdout",
     "output_type": "stream",
     "text": [
      "perplexity: 5.560463905334473\n",
      "After 551 updates: \n",
      "\n"
     ]
    },
    {
     "data": {
      "application/vnd.jupyter.widget-view+json": {
       "model_id": "760a534ca822488095bbee8654f9572f",
       "version_major": 2,
       "version_minor": 0
      },
      "text/plain": [
       "  0%|          | 0/100 [00:00<?, ?it/s]"
      ]
     },
     "metadata": {},
     "output_type": "display_data"
    },
    {
     "name": "stdout",
     "output_type": "stream",
     "text": [
      "We report the cDNA deduced primary structure of a wheat germ agglutinin-reactive nuclear pore complex (NPC) protein of rat. The protein, termed Nup98 (for nucleoporin of 98 kDa), contains numerous GLFG and FG repeats and some FXFG repeats and is thus a vertebrate member of a family of GLFG nucleoporins that were previously discovered in yeast. Immunoelectron microscopy showed Nup98 to be asymmetrically located at the nucleoplasmic side of the NPC. Nup98 functions as one of several docking site nucleoporins in a cytosolic docking activity-mediated binding of a model transport substrate. The docking site of Nup98 was mapped to its N-terminal half, which contains all of the peptide repeats. A recombinant segment of this region depleted the docking activity of cytosol. We suggest that the peptide repeat domain of Nup98, together with peptide repeat domains of other nucleoporins, forms an array of sites for mediated docking of transport substrate, and that bidirectional transport across the NPC proceeds by repeated docking and undocking reactions.\n",
      "\n",
      "generated_summary\n",
      "\n"
     ]
    },
    {
     "data": {
      "application/vnd.jupyter.widget-view+json": {
       "model_id": "22a12b29fbbb4f0fba5281eb51795fce",
       "version_major": 2,
       "version_minor": 0
      },
      "text/plain": [
       "  0%|          | 0/100 [00:00<?, ?it/s]"
      ]
     },
     "metadata": {},
     "output_type": "display_data"
    },
    {
     "name": "stdout",
     "output_type": "stream",
     "text": [
      "The cellular effects of stromal cell-derived factor-1 (SDF-1) are mediated primarily by binding to the CXC chemokine receptor-4. We report in this study that SDF-1 and its peptide analogues induce a concentration- and time-dependent accumulation of phosphatidylinositol-(3,4,5)-trisphosphate (PtdIns(3,4,5)P3) in Jurkat cells. This SDF-1-stimulated generation of D-3 phosphoinositide lipids was inhibited by pretreatment of the cells with an SDF-1 peptide antagonist or an anti-CXCR4 Ab. In addition, the phosphoinositide 3 (PI 3)-kinase inhibitors wortmannin and LY294002, as well as the Gi protein inhibitor pertussis toxin, also inhibited the SDF-1-stimulated accumulation of PtdIns(3,4,5)P3. The effects of SDF-1 on D-3 phosphoinositide lipid accumulation correlated well with activation of the known PI 3-kinase effector protein kinase B, which was also inhibited by wortmannin and pertussis toxin. Concentrations of PI 3-kinase inhibitors, sufficient to inhibit PtdIns(3,4,5)P3 accumulation, also inhibited chemotaxis of Jurkat and peripheral blood-derived T lymphocytes in response to SDF-1. In contrast, SDF-1-stimulated actin polymerization was only partially inhibited by PI 3-kinase inhibitors, suggesting that while chemotaxis is fully dependent on PI 3-kinase activation, actin polymerization requires additional biochemical inputs. Finally, SDF-1-stimulated extracellular signal-related kinase (ERK)-1/2 mitogen-activated protein kinase activation was inhibited by PI 3-kinase inhibitors. In addition, the mitogen-activated protein/ERK kinase inhibitor PD098059 partially attenuated chemotaxis in response to SDF-1. Hence, it appears that ERK1/2 activation is dependent on PI 3-kinase activation, and both biochemical events are involved in the regulation of SDF-1-stimulated chemotaxis.\n",
      "\n",
      "generated_summary\n",
      "\n",
      "loss: 0.052628710865974426\n",
      "\n",
      "loss: 0.035373467952013016\n",
      "\n",
      "loss: 0.03185269981622696\n",
      "\n",
      "loss: 0.04867466911673546\n",
      "\n",
      "loss: 0.06512945145368576\n",
      "\n",
      "loss: 0.05913809686899185\n",
      "\n",
      "loss: 0.04055269435048103\n",
      "\n",
      "loss: 0.05425429344177246\n",
      "\n",
      "loss: 0.05874759703874588\n",
      "\n",
      "loss: 0.05337662994861603\n",
      "\n"
     ]
    },
    {
     "data": {
      "application/vnd.jupyter.widget-view+json": {
       "model_id": "e411894fa4074d10a29a33b6fd9fc11b",
       "version_major": 2,
       "version_minor": 0
      },
      "text/plain": [
       "Evaluating:   0%|          | 0/770 [00:00<?, ?it/s]"
      ]
     },
     "metadata": {},
     "output_type": "display_data"
    },
    {
     "name": "stdout",
     "output_type": "stream",
     "text": [
      "perplexity: 5.500504493713379\n",
      "After 561 updates: \n",
      "\n"
     ]
    },
    {
     "data": {
      "application/vnd.jupyter.widget-view+json": {
       "model_id": "5295362d4acb4ebf9c6f9a00194921a3",
       "version_major": 2,
       "version_minor": 0
      },
      "text/plain": [
       "  0%|          | 0/100 [00:00<?, ?it/s]"
      ]
     },
     "metadata": {},
     "output_type": "display_data"
    },
    {
     "name": "stdout",
     "output_type": "stream",
     "text": [
      "We report the cDNA deduced primary structure of a wheat germ agglutinin-reactive nuclear pore complex (NPC) protein of rat. The protein, termed Nup98 (for nucleoporin of 98 kDa), contains numerous GLFG and FG repeats and some FXFG repeats and is thus a vertebrate member of a family of GLFG nucleoporins that were previously discovered in yeast. Immunoelectron microscopy showed Nup98 to be asymmetrically located at the nucleoplasmic side of the NPC. Nup98 functions as one of several docking site nucleoporins in a cytosolic docking activity-mediated binding of a model transport substrate. The docking site of Nup98 was mapped to its N-terminal half, which contains all of the peptide repeats. A recombinant segment of this region depleted the docking activity of cytosol. We suggest that the peptide repeat domain of Nup98, together with peptide repeat domains of other nucleoporins, forms an array of sites for mediated docking of transport substrate, and that bidirectional transport across the NPC proceeds by repeated docking and undocking reactions.\n",
      "\n",
      "generated_summary\n",
      "\n"
     ]
    },
    {
     "data": {
      "application/vnd.jupyter.widget-view+json": {
       "model_id": "da88937485784563a0860c2ccb1a7f27",
       "version_major": 2,
       "version_minor": 0
      },
      "text/plain": [
       "  0%|          | 0/100 [00:00<?, ?it/s]"
      ]
     },
     "metadata": {},
     "output_type": "display_data"
    },
    {
     "name": "stdout",
     "output_type": "stream",
     "text": [
      "The cellular effects of stromal cell-derived factor-1 (SDF-1) are mediated primarily by binding to the CXC chemokine receptor-4. We report in this study that SDF-1 and its peptide analogues induce a concentration- and time-dependent accumulation of phosphatidylinositol-(3,4,5)-trisphosphate (PtdIns(3,4,5)P3) in Jurkat cells. This SDF-1-stimulated generation of D-3 phosphoinositide lipids was inhibited by pretreatment of the cells with an SDF-1 peptide antagonist or an anti-CXCR4 Ab. In addition, the phosphoinositide 3 (PI 3)-kinase inhibitors wortmannin and LY294002, as well as the Gi protein inhibitor pertussis toxin, also inhibited the SDF-1-stimulated accumulation of PtdIns(3,4,5)P3. The effects of SDF-1 on D-3 phosphoinositide lipid accumulation correlated well with activation of the known PI 3-kinase effector protein kinase B, which was also inhibited by wortmannin and pertussis toxin. Concentrations of PI 3-kinase inhibitors, sufficient to inhibit PtdIns(3,4,5)P3 accumulation, also inhibited chemotaxis of Jurkat and peripheral blood-derived T lymphocytes in response to SDF-1. In contrast, SDF-1-stimulated actin polymerization was only partially inhibited by PI 3-kinase inhibitors, suggesting that while chemotaxis is fully dependent on PI 3-kinase activation, actin polymerization requires additional biochemical inputs. Finally, SDF-1-stimulated extracellular signal-related kinase (ERK)-1/2 mitogen-activated protein kinase activation was inhibited by PI 3-kinase inhibitors. In addition, the mitogen-activated protein/ERK kinase inhibitor PD098059 partially attenuated chemotaxis in response to SDF-1. Hence, it appears that ERK1/2 activation is dependent on PI 3-kinase activation, and both biochemical events are involved in the regulation of SDF-1-stimulated chemotaxis.\n",
      "\n",
      "generated_summary\n",
      "\n",
      "loss: 0.043661512434482574\n",
      "\n",
      "loss: 0.08758656680583954\n",
      "\n",
      "loss: 0.06256332248449326\n",
      "\n",
      "loss: 0.048852335661649704\n",
      "\n",
      "loss: 0.043919887393713\n",
      "\n",
      "loss: 0.06783977895975113\n",
      "\n",
      "loss: 0.06564211845397949\n",
      "\n",
      "loss: 0.047823432832956314\n",
      "\n",
      "loss: 0.10045628994703293\n",
      "\n",
      "loss: 0.04836873710155487\n",
      "\n"
     ]
    },
    {
     "data": {
      "application/vnd.jupyter.widget-view+json": {
       "model_id": "f2d264e82c6946fe95e11bbdcc7bc845",
       "version_major": 2,
       "version_minor": 0
      },
      "text/plain": [
       "Evaluating:   0%|          | 0/770 [00:00<?, ?it/s]"
      ]
     },
     "metadata": {},
     "output_type": "display_data"
    },
    {
     "name": "stdout",
     "output_type": "stream",
     "text": [
      "perplexity: 5.4159321784973145\n",
      "After 571 updates: \n",
      "\n"
     ]
    },
    {
     "data": {
      "application/vnd.jupyter.widget-view+json": {
       "model_id": "34d043d2be514e1b8d06fb3618c6e322",
       "version_major": 2,
       "version_minor": 0
      },
      "text/plain": [
       "  0%|          | 0/100 [00:00<?, ?it/s]"
      ]
     },
     "metadata": {},
     "output_type": "display_data"
    },
    {
     "name": "stdout",
     "output_type": "stream",
     "text": [
      "We report the cDNA deduced primary structure of a wheat germ agglutinin-reactive nuclear pore complex (NPC) protein of rat. The protein, termed Nup98 (for nucleoporin of 98 kDa), contains numerous GLFG and FG repeats and some FXFG repeats and is thus a vertebrate member of a family of GLFG nucleoporins that were previously discovered in yeast. Immunoelectron microscopy showed Nup98 to be asymmetrically located at the nucleoplasmic side of the NPC. Nup98 functions as one of several docking site nucleoporins in a cytosolic docking activity-mediated binding of a model transport substrate. The docking site of Nup98 was mapped to its N-terminal half, which contains all of the peptide repeats. A recombinant segment of this region depleted the docking activity of cytosol. We suggest that the peptide repeat domain of Nup98, together with peptide repeat domains of other nucleoporins, forms an array of sites for mediated docking of transport substrate, and that bidirectional transport across the NPC proceeds by repeated docking and undocking reactions.\n",
      "\n",
      "generated_summary\n",
      "\n"
     ]
    },
    {
     "data": {
      "application/vnd.jupyter.widget-view+json": {
       "model_id": "7b3affed4f0049c383236b6a26b316a7",
       "version_major": 2,
       "version_minor": 0
      },
      "text/plain": [
       "  0%|          | 0/100 [00:00<?, ?it/s]"
      ]
     },
     "metadata": {},
     "output_type": "display_data"
    },
    {
     "name": "stdout",
     "output_type": "stream",
     "text": [
      "The cellular effects of stromal cell-derived factor-1 (SDF-1) are mediated primarily by binding to the CXC chemokine receptor-4. We report in this study that SDF-1 and its peptide analogues induce a concentration- and time-dependent accumulation of phosphatidylinositol-(3,4,5)-trisphosphate (PtdIns(3,4,5)P3) in Jurkat cells. This SDF-1-stimulated generation of D-3 phosphoinositide lipids was inhibited by pretreatment of the cells with an SDF-1 peptide antagonist or an anti-CXCR4 Ab. In addition, the phosphoinositide 3 (PI 3)-kinase inhibitors wortmannin and LY294002, as well as the Gi protein inhibitor pertussis toxin, also inhibited the SDF-1-stimulated accumulation of PtdIns(3,4,5)P3. The effects of SDF-1 on D-3 phosphoinositide lipid accumulation correlated well with activation of the known PI 3-kinase effector protein kinase B, which was also inhibited by wortmannin and pertussis toxin. Concentrations of PI 3-kinase inhibitors, sufficient to inhibit PtdIns(3,4,5)P3 accumulation, also inhibited chemotaxis of Jurkat and peripheral blood-derived T lymphocytes in response to SDF-1. In contrast, SDF-1-stimulated actin polymerization was only partially inhibited by PI 3-kinase inhibitors, suggesting that while chemotaxis is fully dependent on PI 3-kinase activation, actin polymerization requires additional biochemical inputs. Finally, SDF-1-stimulated extracellular signal-related kinase (ERK)-1/2 mitogen-activated protein kinase activation was inhibited by PI 3-kinase inhibitors. In addition, the mitogen-activated protein/ERK kinase inhibitor PD098059 partially attenuated chemotaxis in response to SDF-1. Hence, it appears that ERK1/2 activation is dependent on PI 3-kinase activation, and both biochemical events are involved in the regulation of SDF-1-stimulated chemotaxis.\n",
      "\n",
      "generated_summary\n",
      "\n"
     ]
    },
    {
     "data": {
      "application/vnd.jupyter.widget-view+json": {
       "model_id": "d718113689a94bfbb0451e488d361a6e",
       "version_major": 2,
       "version_minor": 0
      },
      "text/plain": [
       "Training:   0%|          | 0/6100 [00:00<?, ?it/s]"
      ]
     },
     "metadata": {},
     "output_type": "display_data"
    },
    {
     "name": "stdout",
     "output_type": "stream",
     "text": [
      "loss: 0.06562528759241104\n",
      "\n",
      "After 1st update: \n",
      "\n"
     ]
    },
    {
     "data": {
      "application/vnd.jupyter.widget-view+json": {
       "model_id": "69acff25e2aa4abb80c6c879da01b590",
       "version_major": 2,
       "version_minor": 0
      },
      "text/plain": [
       "  0%|          | 0/100 [00:00<?, ?it/s]"
      ]
     },
     "metadata": {},
     "output_type": "display_data"
    },
    {
     "name": "stdout",
     "output_type": "stream",
     "text": [
      "new_article\n",
      "\n",
      "We report the cDNA deduced primary structure of a wheat germ agglutinin-reactive nuclear pore complex (NPC) protein of rat. The protein, termed Nup98 (for nucleoporin of 98 kDa), contains numerous GLFG and FG repeats and some FXFG repeats and is thus a vertebrate member of a family of GLFG nucleoporins that were previously discovered in yeast. Immunoelectron microscopy showed Nup98 to be asymmetrically located at the nucleoplasmic side of the NPC. Nup98 functions as one of several docking site nucleoporins in a cytosolic docking activity-mediated binding of a model transport substrate. The docking site of Nup98 was mapped to its N-terminal half, which contains all of the peptide repeats. A recombinant segment of this region depleted the docking activity of cytosol. We suggest that the peptide repeat domain of Nup98, together with peptide repeat domains of other nucleoporins, forms an array of sites for mediated docking of transport substrate, and that bidirectional transport across the NPC proceeds by repeated docking and undocking reactions.\n",
      "\n",
      "generated_summary\n",
      "\n",
      "Nup98 involved_in transport of transport.NUP98 involved_in nucleoporin transport.NUP98 involved_in nucleoporin-mediated transport.NUP98 involved_in nucleoporin-mediated transport.NUP98 involved_in nucleoporin-mediated transport.NUP98 involved_in nucleoporin-mediated transport.NUP98 involved_in nucleoporin-mediated transport.NUP98 involved_in nucleop\n",
      "\n",
      "actual_summary\n",
      "\n",
      "The peptide repeat domain of nucleoporin Nup98 functions as a docking site in transport across the nuclear pore complex.NUP98 enables transporter activity. <|pad|> <|pad|> <|pad|> <|pad|> <|pad|> <|pad|> <|pad|> <|pad|> <|pad|> <|pad|> <|pad|> <|pad|> <|pad|> <|pad|> <|pad|> <|pad|> <|pad|> <|pad|> <|pad|> <|pad|> <|pad|> <|pad|> <|pad|> <|pad|> <|pad|> <|pad|> <|pad|> <|pad|> <|pad|> <|pad|> <|pad|> <|pad|> <|pad|> <|pad|> <|pad|> <|pad|> <|pad|> <|pad|> <|pad|> <|pad|> <|pad|> <|pad|> <|pad|> <|pad|> <|pad|> <|pad|> <|pad|> <|pad|> <|pad|> <|pad|> <|pad|> <|pad|> <|pad|> <|pad|> <|pad|> <|pad|> <|pad|> <|pad|> <|pad|> <|pad|> <|pad|> <|pad|> <|pad|> <|pad|> <|pad|> <|pad|>\n",
      "\n"
     ]
    },
    {
     "data": {
      "application/vnd.jupyter.widget-view+json": {
       "model_id": "c1b889ee45a0419a9609eb6051a8101a",
       "version_major": 2,
       "version_minor": 0
      },
      "text/plain": [
       "  0%|          | 0/100 [00:00<?, ?it/s]"
      ]
     },
     "metadata": {},
     "output_type": "display_data"
    },
    {
     "name": "stdout",
     "output_type": "stream",
     "text": [
      "new_article\n",
      "\n",
      "The cellular effects of stromal cell-derived factor-1 (SDF-1) are mediated primarily by binding to the CXC chemokine receptor-4. We report in this study that SDF-1 and its peptide analogues induce a concentration- and time-dependent accumulation of phosphatidylinositol-(3,4,5)-trisphosphate (PtdIns(3,4,5)P3) in Jurkat cells. This SDF-1-stimulated generation of D-3 phosphoinositide lipids was inhibited by pretreatment of the cells with an SDF-1 peptide antagonist or an anti-CXCR4 Ab. In addition, the phosphoinositide 3 (PI 3)-kinase inhibitors wortmannin and LY294002, as well as the Gi protein inhibitor pertussis toxin, also inhibited the SDF-1-stimulated accumulation of PtdIns(3,4,5)P3. The effects of SDF-1 on D-3 phosphoinositide lipid accumulation correlated well with activation of the known PI 3-kinase effector protein kinase B, which was also inhibited by wortmannin and pertussis toxin. Concentrations of PI 3-kinase inhibitors, sufficient to inhibit PtdIns(3,4,5)P3 accumulation, also inhibited chemotaxis of Jurkat and peripheral blood-derived T lymphocytes in response to SDF-1. In contrast, SDF-1-stimulated actin polymerization was only partially inhibited by PI 3-kinase inhibitors, suggesting that while chemotaxis is fully dependent on PI 3-kinase activation, actin polymerization requires additional biochemical inputs. Finally, SDF-1-stimulated extracellular signal-related kinase (ERK)-1/2 mitogen-activated protein kinase activation was inhibited by PI 3-kinase inhibitors. In addition, the mitogen-activated protein/ERK kinase inhibitor PD098059 partially attenuated chemotaxis in response to SDF-1. Hence, it appears that ERK1/2 activation is dependent on PI 3-kinase activation, and both biochemical events are involved in the regulation of SDF-1-stimulated chemotaxis.\n",
      "\n",
      "generated_summary\n",
      "\n",
      "CXC chemokine receptor activation involved_in chemokine receptor signaling pathway.SDF1 involved_in cell-cell signaling.SDF1 involved_in cell-cell signaling.SDF1 involved_in signal transduction.SDF1 involved_in signal transduction.SDF1 involved_in cell-cell signaling.SDF1 involved_in signal transduction.SDF1 involved_in signal transduction.SDF1 involved_in signal transduction\n",
      "\n",
      "actual_summary\n",
      "\n",
      "The CXC chemokine stromal cell-derived factor activates a Gi-coupled phosphoinositide 3-kinase in T lymphocytes.AKT1 enables protein kinase activity; involved_in G protein-coupled receptor signaling pathway. <|pad|> <|pad|> <|pad|> <|pad|> <|pad|> <|pad|> <|pad|> <|pad|> <|pad|> <|pad|> <|pad|> <|pad|> <|pad|> <|pad|> <|pad|> <|pad|> <|pad|> <|pad|> <|pad|> <|pad|> <|pad|> <|pad|> <|pad|> <|pad|> <|pad|> <|pad|> <|pad|> <|pad|> <|pad|> <|pad|> <|pad|> <|pad|> <|pad|> <|pad|> <|pad|> <|pad|> <|pad|> <|pad|> <|pad|> <|pad|> <|pad|> <|pad|> <|pad|> <|pad|>\n",
      "\n",
      "loss: 0.0419207438826561\n",
      "\n",
      "loss: 0.06776455044746399\n",
      "\n",
      "loss: 0.06582336872816086\n",
      "\n",
      "loss: 0.07296013087034225\n",
      "\n",
      "loss: 0.049555376172065735\n",
      "\n",
      "loss: 0.049286238849163055\n",
      "\n",
      "loss: 0.06451189517974854\n",
      "\n",
      "loss: 0.046053096652030945\n",
      "\n",
      "loss: 0.06441598385572433\n",
      "\n"
     ]
    },
    {
     "data": {
      "application/vnd.jupyter.widget-view+json": {
       "model_id": "d31363b4c6d34f06ab320062d79f3eb4",
       "version_major": 2,
       "version_minor": 0
      },
      "text/plain": [
       "Evaluating:   0%|          | 0/770 [00:00<?, ?it/s]"
      ]
     },
     "metadata": {},
     "output_type": "display_data"
    },
    {
     "name": "stdout",
     "output_type": "stream",
     "text": [
      "perplexity: 5.373047828674316\n",
      "After 581 updates: \n",
      "\n"
     ]
    },
    {
     "data": {
      "application/vnd.jupyter.widget-view+json": {
       "model_id": "8b2f1577a21140539858011eec6b2e92",
       "version_major": 2,
       "version_minor": 0
      },
      "text/plain": [
       "  0%|          | 0/100 [00:00<?, ?it/s]"
      ]
     },
     "metadata": {},
     "output_type": "display_data"
    },
    {
     "name": "stdout",
     "output_type": "stream",
     "text": [
      "We report the cDNA deduced primary structure of a wheat germ agglutinin-reactive nuclear pore complex (NPC) protein of rat. The protein, termed Nup98 (for nucleoporin of 98 kDa), contains numerous GLFG and FG repeats and some FXFG repeats and is thus a vertebrate member of a family of GLFG nucleoporins that were previously discovered in yeast. Immunoelectron microscopy showed Nup98 to be asymmetrically located at the nucleoplasmic side of the NPC. Nup98 functions as one of several docking site nucleoporins in a cytosolic docking activity-mediated binding of a model transport substrate. The docking site of Nup98 was mapped to its N-terminal half, which contains all of the peptide repeats. A recombinant segment of this region depleted the docking activity of cytosol. We suggest that the peptide repeat domain of Nup98, together with peptide repeat domains of other nucleoporins, forms an array of sites for mediated docking of transport substrate, and that bidirectional transport across the NPC proceeds by repeated docking and undocking reactions.\n",
      "\n",
      "generated_summary\n",
      "\n"
     ]
    },
    {
     "data": {
      "application/vnd.jupyter.widget-view+json": {
       "model_id": "dcd5c2c2e51b42f28a339f1552e7600d",
       "version_major": 2,
       "version_minor": 0
      },
      "text/plain": [
       "  0%|          | 0/100 [00:00<?, ?it/s]"
      ]
     },
     "metadata": {},
     "output_type": "display_data"
    },
    {
     "name": "stdout",
     "output_type": "stream",
     "text": [
      "The cellular effects of stromal cell-derived factor-1 (SDF-1) are mediated primarily by binding to the CXC chemokine receptor-4. We report in this study that SDF-1 and its peptide analogues induce a concentration- and time-dependent accumulation of phosphatidylinositol-(3,4,5)-trisphosphate (PtdIns(3,4,5)P3) in Jurkat cells. This SDF-1-stimulated generation of D-3 phosphoinositide lipids was inhibited by pretreatment of the cells with an SDF-1 peptide antagonist or an anti-CXCR4 Ab. In addition, the phosphoinositide 3 (PI 3)-kinase inhibitors wortmannin and LY294002, as well as the Gi protein inhibitor pertussis toxin, also inhibited the SDF-1-stimulated accumulation of PtdIns(3,4,5)P3. The effects of SDF-1 on D-3 phosphoinositide lipid accumulation correlated well with activation of the known PI 3-kinase effector protein kinase B, which was also inhibited by wortmannin and pertussis toxin. Concentrations of PI 3-kinase inhibitors, sufficient to inhibit PtdIns(3,4,5)P3 accumulation, also inhibited chemotaxis of Jurkat and peripheral blood-derived T lymphocytes in response to SDF-1. In contrast, SDF-1-stimulated actin polymerization was only partially inhibited by PI 3-kinase inhibitors, suggesting that while chemotaxis is fully dependent on PI 3-kinase activation, actin polymerization requires additional biochemical inputs. Finally, SDF-1-stimulated extracellular signal-related kinase (ERK)-1/2 mitogen-activated protein kinase activation was inhibited by PI 3-kinase inhibitors. In addition, the mitogen-activated protein/ERK kinase inhibitor PD098059 partially attenuated chemotaxis in response to SDF-1. Hence, it appears that ERK1/2 activation is dependent on PI 3-kinase activation, and both biochemical events are involved in the regulation of SDF-1-stimulated chemotaxis.\n",
      "\n",
      "generated_summary\n",
      "\n",
      "loss: 0.04209161922335625\n",
      "\n",
      "loss: 0.05074859410524368\n",
      "\n",
      "loss: 0.05440983548760414\n",
      "\n",
      "loss: 0.037318114191293716\n",
      "\n",
      "loss: 0.06451847404241562\n",
      "\n",
      "loss: 0.05393752083182335\n",
      "\n",
      "loss: 0.04369446262717247\n",
      "\n",
      "loss: 0.05051880329847336\n",
      "\n",
      "loss: 0.05007914453744888\n",
      "\n",
      "loss: 0.0596088171005249\n",
      "\n"
     ]
    },
    {
     "data": {
      "application/vnd.jupyter.widget-view+json": {
       "model_id": "359953f4b00a489dafcbe4fb243c4ca2",
       "version_major": 2,
       "version_minor": 0
      },
      "text/plain": [
       "Evaluating:   0%|          | 0/770 [00:00<?, ?it/s]"
      ]
     },
     "metadata": {},
     "output_type": "display_data"
    },
    {
     "name": "stdout",
     "output_type": "stream",
     "text": [
      "perplexity: 5.398695945739746\n",
      "After 591 updates: \n",
      "\n"
     ]
    },
    {
     "data": {
      "application/vnd.jupyter.widget-view+json": {
       "model_id": "0f77b089ae184c7da98afcfee8d6ea57",
       "version_major": 2,
       "version_minor": 0
      },
      "text/plain": [
       "  0%|          | 0/100 [00:00<?, ?it/s]"
      ]
     },
     "metadata": {},
     "output_type": "display_data"
    },
    {
     "name": "stdout",
     "output_type": "stream",
     "text": [
      "We report the cDNA deduced primary structure of a wheat germ agglutinin-reactive nuclear pore complex (NPC) protein of rat. The protein, termed Nup98 (for nucleoporin of 98 kDa), contains numerous GLFG and FG repeats and some FXFG repeats and is thus a vertebrate member of a family of GLFG nucleoporins that were previously discovered in yeast. Immunoelectron microscopy showed Nup98 to be asymmetrically located at the nucleoplasmic side of the NPC. Nup98 functions as one of several docking site nucleoporins in a cytosolic docking activity-mediated binding of a model transport substrate. The docking site of Nup98 was mapped to its N-terminal half, which contains all of the peptide repeats. A recombinant segment of this region depleted the docking activity of cytosol. We suggest that the peptide repeat domain of Nup98, together with peptide repeat domains of other nucleoporins, forms an array of sites for mediated docking of transport substrate, and that bidirectional transport across the NPC proceeds by repeated docking and undocking reactions.\n",
      "\n",
      "generated_summary\n",
      "\n"
     ]
    },
    {
     "data": {
      "application/vnd.jupyter.widget-view+json": {
       "model_id": "66cd31452eda49a0918c67ba5db9bd8c",
       "version_major": 2,
       "version_minor": 0
      },
      "text/plain": [
       "  0%|          | 0/100 [00:00<?, ?it/s]"
      ]
     },
     "metadata": {},
     "output_type": "display_data"
    },
    {
     "name": "stdout",
     "output_type": "stream",
     "text": [
      "The cellular effects of stromal cell-derived factor-1 (SDF-1) are mediated primarily by binding to the CXC chemokine receptor-4. We report in this study that SDF-1 and its peptide analogues induce a concentration- and time-dependent accumulation of phosphatidylinositol-(3,4,5)-trisphosphate (PtdIns(3,4,5)P3) in Jurkat cells. This SDF-1-stimulated generation of D-3 phosphoinositide lipids was inhibited by pretreatment of the cells with an SDF-1 peptide antagonist or an anti-CXCR4 Ab. In addition, the phosphoinositide 3 (PI 3)-kinase inhibitors wortmannin and LY294002, as well as the Gi protein inhibitor pertussis toxin, also inhibited the SDF-1-stimulated accumulation of PtdIns(3,4,5)P3. The effects of SDF-1 on D-3 phosphoinositide lipid accumulation correlated well with activation of the known PI 3-kinase effector protein kinase B, which was also inhibited by wortmannin and pertussis toxin. Concentrations of PI 3-kinase inhibitors, sufficient to inhibit PtdIns(3,4,5)P3 accumulation, also inhibited chemotaxis of Jurkat and peripheral blood-derived T lymphocytes in response to SDF-1. In contrast, SDF-1-stimulated actin polymerization was only partially inhibited by PI 3-kinase inhibitors, suggesting that while chemotaxis is fully dependent on PI 3-kinase activation, actin polymerization requires additional biochemical inputs. Finally, SDF-1-stimulated extracellular signal-related kinase (ERK)-1/2 mitogen-activated protein kinase activation was inhibited by PI 3-kinase inhibitors. In addition, the mitogen-activated protein/ERK kinase inhibitor PD098059 partially attenuated chemotaxis in response to SDF-1. Hence, it appears that ERK1/2 activation is dependent on PI 3-kinase activation, and both biochemical events are involved in the regulation of SDF-1-stimulated chemotaxis.\n",
      "\n",
      "generated_summary\n",
      "\n",
      "loss: 0.0731305330991745\n",
      "\n",
      "loss: 0.03486166149377823\n",
      "\n",
      "loss: 0.05473121255636215\n",
      "\n",
      "loss: 0.03269894793629646\n",
      "\n",
      "loss: 0.048942793160676956\n",
      "\n",
      "loss: 0.04549407213926315\n",
      "\n",
      "loss: 0.07279960811138153\n",
      "\n",
      "loss: 0.06198517605662346\n",
      "\n",
      "loss: 0.038625672459602356\n",
      "\n",
      "loss: 0.02399192377924919\n",
      "\n"
     ]
    },
    {
     "data": {
      "application/vnd.jupyter.widget-view+json": {
       "model_id": "5f4528887d594aaca9d15925715f1a0d",
       "version_major": 2,
       "version_minor": 0
      },
      "text/plain": [
       "Evaluating:   0%|          | 0/770 [00:00<?, ?it/s]"
      ]
     },
     "metadata": {},
     "output_type": "display_data"
    },
    {
     "name": "stdout",
     "output_type": "stream",
     "text": [
      "perplexity: 5.357758522033691\n",
      "After 601 updates: \n",
      "\n"
     ]
    },
    {
     "data": {
      "application/vnd.jupyter.widget-view+json": {
       "model_id": "fab68dfaa98346bb9f7101f0c1bc9be8",
       "version_major": 2,
       "version_minor": 0
      },
      "text/plain": [
       "  0%|          | 0/100 [00:00<?, ?it/s]"
      ]
     },
     "metadata": {},
     "output_type": "display_data"
    },
    {
     "name": "stdout",
     "output_type": "stream",
     "text": [
      "We report the cDNA deduced primary structure of a wheat germ agglutinin-reactive nuclear pore complex (NPC) protein of rat. The protein, termed Nup98 (for nucleoporin of 98 kDa), contains numerous GLFG and FG repeats and some FXFG repeats and is thus a vertebrate member of a family of GLFG nucleoporins that were previously discovered in yeast. Immunoelectron microscopy showed Nup98 to be asymmetrically located at the nucleoplasmic side of the NPC. Nup98 functions as one of several docking site nucleoporins in a cytosolic docking activity-mediated binding of a model transport substrate. The docking site of Nup98 was mapped to its N-terminal half, which contains all of the peptide repeats. A recombinant segment of this region depleted the docking activity of cytosol. We suggest that the peptide repeat domain of Nup98, together with peptide repeat domains of other nucleoporins, forms an array of sites for mediated docking of transport substrate, and that bidirectional transport across the NPC proceeds by repeated docking and undocking reactions.\n",
      "\n",
      "generated_summary\n",
      "\n"
     ]
    },
    {
     "data": {
      "application/vnd.jupyter.widget-view+json": {
       "model_id": "c1032781a44c4f9bb466c4af44121970",
       "version_major": 2,
       "version_minor": 0
      },
      "text/plain": [
       "  0%|          | 0/100 [00:00<?, ?it/s]"
      ]
     },
     "metadata": {},
     "output_type": "display_data"
    },
    {
     "name": "stdout",
     "output_type": "stream",
     "text": [
      "The cellular effects of stromal cell-derived factor-1 (SDF-1) are mediated primarily by binding to the CXC chemokine receptor-4. We report in this study that SDF-1 and its peptide analogues induce a concentration- and time-dependent accumulation of phosphatidylinositol-(3,4,5)-trisphosphate (PtdIns(3,4,5)P3) in Jurkat cells. This SDF-1-stimulated generation of D-3 phosphoinositide lipids was inhibited by pretreatment of the cells with an SDF-1 peptide antagonist or an anti-CXCR4 Ab. In addition, the phosphoinositide 3 (PI 3)-kinase inhibitors wortmannin and LY294002, as well as the Gi protein inhibitor pertussis toxin, also inhibited the SDF-1-stimulated accumulation of PtdIns(3,4,5)P3. The effects of SDF-1 on D-3 phosphoinositide lipid accumulation correlated well with activation of the known PI 3-kinase effector protein kinase B, which was also inhibited by wortmannin and pertussis toxin. Concentrations of PI 3-kinase inhibitors, sufficient to inhibit PtdIns(3,4,5)P3 accumulation, also inhibited chemotaxis of Jurkat and peripheral blood-derived T lymphocytes in response to SDF-1. In contrast, SDF-1-stimulated actin polymerization was only partially inhibited by PI 3-kinase inhibitors, suggesting that while chemotaxis is fully dependent on PI 3-kinase activation, actin polymerization requires additional biochemical inputs. Finally, SDF-1-stimulated extracellular signal-related kinase (ERK)-1/2 mitogen-activated protein kinase activation was inhibited by PI 3-kinase inhibitors. In addition, the mitogen-activated protein/ERK kinase inhibitor PD098059 partially attenuated chemotaxis in response to SDF-1. Hence, it appears that ERK1/2 activation is dependent on PI 3-kinase activation, and both biochemical events are involved in the regulation of SDF-1-stimulated chemotaxis.\n",
      "\n",
      "generated_summary\n",
      "\n",
      "loss: 0.03999241068959236\n",
      "\n",
      "loss: 0.06803179532289505\n",
      "\n",
      "loss: 0.07776986807584763\n",
      "\n",
      "loss: 0.08007987588644028\n",
      "\n",
      "loss: 0.05732286721467972\n",
      "\n",
      "loss: 0.04922603815793991\n",
      "\n",
      "loss: 0.031065484508872032\n",
      "\n",
      "loss: 0.07427210360765457\n",
      "\n",
      "loss: 0.03323579952120781\n",
      "\n",
      "loss: 0.04932950809597969\n",
      "\n"
     ]
    },
    {
     "data": {
      "application/vnd.jupyter.widget-view+json": {
       "model_id": "911cb7e267724b8e887815d847a10ee0",
       "version_major": 2,
       "version_minor": 0
      },
      "text/plain": [
       "Evaluating:   0%|          | 0/770 [00:00<?, ?it/s]"
      ]
     },
     "metadata": {},
     "output_type": "display_data"
    },
    {
     "name": "stdout",
     "output_type": "stream",
     "text": [
      "perplexity: 5.343812465667725\n",
      "After 611 updates: \n",
      "\n"
     ]
    },
    {
     "data": {
      "application/vnd.jupyter.widget-view+json": {
       "model_id": "a0ab6ec453ac43458055b1f48e5dc8e4",
       "version_major": 2,
       "version_minor": 0
      },
      "text/plain": [
       "  0%|          | 0/100 [00:00<?, ?it/s]"
      ]
     },
     "metadata": {},
     "output_type": "display_data"
    },
    {
     "name": "stdout",
     "output_type": "stream",
     "text": [
      "We report the cDNA deduced primary structure of a wheat germ agglutinin-reactive nuclear pore complex (NPC) protein of rat. The protein, termed Nup98 (for nucleoporin of 98 kDa), contains numerous GLFG and FG repeats and some FXFG repeats and is thus a vertebrate member of a family of GLFG nucleoporins that were previously discovered in yeast. Immunoelectron microscopy showed Nup98 to be asymmetrically located at the nucleoplasmic side of the NPC. Nup98 functions as one of several docking site nucleoporins in a cytosolic docking activity-mediated binding of a model transport substrate. The docking site of Nup98 was mapped to its N-terminal half, which contains all of the peptide repeats. A recombinant segment of this region depleted the docking activity of cytosol. We suggest that the peptide repeat domain of Nup98, together with peptide repeat domains of other nucleoporins, forms an array of sites for mediated docking of transport substrate, and that bidirectional transport across the NPC proceeds by repeated docking and undocking reactions.\n",
      "\n",
      "generated_summary\n",
      "\n"
     ]
    },
    {
     "data": {
      "application/vnd.jupyter.widget-view+json": {
       "model_id": "16ed2c234eaa45d5b7ba15398ca2edf1",
       "version_major": 2,
       "version_minor": 0
      },
      "text/plain": [
       "  0%|          | 0/100 [00:00<?, ?it/s]"
      ]
     },
     "metadata": {},
     "output_type": "display_data"
    },
    {
     "name": "stdout",
     "output_type": "stream",
     "text": [
      "The cellular effects of stromal cell-derived factor-1 (SDF-1) are mediated primarily by binding to the CXC chemokine receptor-4. We report in this study that SDF-1 and its peptide analogues induce a concentration- and time-dependent accumulation of phosphatidylinositol-(3,4,5)-trisphosphate (PtdIns(3,4,5)P3) in Jurkat cells. This SDF-1-stimulated generation of D-3 phosphoinositide lipids was inhibited by pretreatment of the cells with an SDF-1 peptide antagonist or an anti-CXCR4 Ab. In addition, the phosphoinositide 3 (PI 3)-kinase inhibitors wortmannin and LY294002, as well as the Gi protein inhibitor pertussis toxin, also inhibited the SDF-1-stimulated accumulation of PtdIns(3,4,5)P3. The effects of SDF-1 on D-3 phosphoinositide lipid accumulation correlated well with activation of the known PI 3-kinase effector protein kinase B, which was also inhibited by wortmannin and pertussis toxin. Concentrations of PI 3-kinase inhibitors, sufficient to inhibit PtdIns(3,4,5)P3 accumulation, also inhibited chemotaxis of Jurkat and peripheral blood-derived T lymphocytes in response to SDF-1. In contrast, SDF-1-stimulated actin polymerization was only partially inhibited by PI 3-kinase inhibitors, suggesting that while chemotaxis is fully dependent on PI 3-kinase activation, actin polymerization requires additional biochemical inputs. Finally, SDF-1-stimulated extracellular signal-related kinase (ERK)-1/2 mitogen-activated protein kinase activation was inhibited by PI 3-kinase inhibitors. In addition, the mitogen-activated protein/ERK kinase inhibitor PD098059 partially attenuated chemotaxis in response to SDF-1. Hence, it appears that ERK1/2 activation is dependent on PI 3-kinase activation, and both biochemical events are involved in the regulation of SDF-1-stimulated chemotaxis.\n",
      "\n",
      "generated_summary\n",
      "\n",
      "loss: 0.04956841841340065\n",
      "\n",
      "loss: 0.07121177017688751\n",
      "\n",
      "loss: 0.020043542608618736\n",
      "\n",
      "loss: 0.0696980357170105\n",
      "\n",
      "loss: 0.0795414075255394\n",
      "\n",
      "loss: 0.023921934887766838\n",
      "\n",
      "loss: 0.03943397477269173\n",
      "\n",
      "loss: 0.039676424115896225\n",
      "\n",
      "loss: 0.0598771870136261\n",
      "\n",
      "loss: 0.04944327846169472\n",
      "\n"
     ]
    },
    {
     "data": {
      "application/vnd.jupyter.widget-view+json": {
       "model_id": "9d9928dfb1e54a049ffcd5f384d3b853",
       "version_major": 2,
       "version_minor": 0
      },
      "text/plain": [
       "Evaluating:   0%|          | 0/770 [00:00<?, ?it/s]"
      ]
     },
     "metadata": {},
     "output_type": "display_data"
    },
    {
     "name": "stdout",
     "output_type": "stream",
     "text": [
      "perplexity: 5.293278694152832\n",
      "After 621 updates: \n",
      "\n"
     ]
    },
    {
     "data": {
      "application/vnd.jupyter.widget-view+json": {
       "model_id": "6f5db0f31a82449893badfed4763c0c2",
       "version_major": 2,
       "version_minor": 0
      },
      "text/plain": [
       "  0%|          | 0/100 [00:00<?, ?it/s]"
      ]
     },
     "metadata": {},
     "output_type": "display_data"
    },
    {
     "name": "stdout",
     "output_type": "stream",
     "text": [
      "We report the cDNA deduced primary structure of a wheat germ agglutinin-reactive nuclear pore complex (NPC) protein of rat. The protein, termed Nup98 (for nucleoporin of 98 kDa), contains numerous GLFG and FG repeats and some FXFG repeats and is thus a vertebrate member of a family of GLFG nucleoporins that were previously discovered in yeast. Immunoelectron microscopy showed Nup98 to be asymmetrically located at the nucleoplasmic side of the NPC. Nup98 functions as one of several docking site nucleoporins in a cytosolic docking activity-mediated binding of a model transport substrate. The docking site of Nup98 was mapped to its N-terminal half, which contains all of the peptide repeats. A recombinant segment of this region depleted the docking activity of cytosol. We suggest that the peptide repeat domain of Nup98, together with peptide repeat domains of other nucleoporins, forms an array of sites for mediated docking of transport substrate, and that bidirectional transport across the NPC proceeds by repeated docking and undocking reactions.\n",
      "\n",
      "generated_summary\n",
      "\n"
     ]
    },
    {
     "data": {
      "application/vnd.jupyter.widget-view+json": {
       "model_id": "d11b9999ede04cad9114d99d01b5beae",
       "version_major": 2,
       "version_minor": 0
      },
      "text/plain": [
       "  0%|          | 0/100 [00:00<?, ?it/s]"
      ]
     },
     "metadata": {},
     "output_type": "display_data"
    },
    {
     "name": "stdout",
     "output_type": "stream",
     "text": [
      "The cellular effects of stromal cell-derived factor-1 (SDF-1) are mediated primarily by binding to the CXC chemokine receptor-4. We report in this study that SDF-1 and its peptide analogues induce a concentration- and time-dependent accumulation of phosphatidylinositol-(3,4,5)-trisphosphate (PtdIns(3,4,5)P3) in Jurkat cells. This SDF-1-stimulated generation of D-3 phosphoinositide lipids was inhibited by pretreatment of the cells with an SDF-1 peptide antagonist or an anti-CXCR4 Ab. In addition, the phosphoinositide 3 (PI 3)-kinase inhibitors wortmannin and LY294002, as well as the Gi protein inhibitor pertussis toxin, also inhibited the SDF-1-stimulated accumulation of PtdIns(3,4,5)P3. The effects of SDF-1 on D-3 phosphoinositide lipid accumulation correlated well with activation of the known PI 3-kinase effector protein kinase B, which was also inhibited by wortmannin and pertussis toxin. Concentrations of PI 3-kinase inhibitors, sufficient to inhibit PtdIns(3,4,5)P3 accumulation, also inhibited chemotaxis of Jurkat and peripheral blood-derived T lymphocytes in response to SDF-1. In contrast, SDF-1-stimulated actin polymerization was only partially inhibited by PI 3-kinase inhibitors, suggesting that while chemotaxis is fully dependent on PI 3-kinase activation, actin polymerization requires additional biochemical inputs. Finally, SDF-1-stimulated extracellular signal-related kinase (ERK)-1/2 mitogen-activated protein kinase activation was inhibited by PI 3-kinase inhibitors. In addition, the mitogen-activated protein/ERK kinase inhibitor PD098059 partially attenuated chemotaxis in response to SDF-1. Hence, it appears that ERK1/2 activation is dependent on PI 3-kinase activation, and both biochemical events are involved in the regulation of SDF-1-stimulated chemotaxis.\n",
      "\n",
      "generated_summary\n",
      "\n",
      "loss: 0.07927901297807693\n",
      "\n",
      "loss: 0.05296124890446663\n",
      "\n",
      "loss: 0.04792063310742378\n",
      "\n",
      "loss: 0.05778813362121582\n",
      "\n",
      "loss: 0.05585556849837303\n",
      "\n",
      "loss: 0.05627758055925369\n",
      "\n",
      "loss: 0.07759629189968109\n",
      "\n",
      "loss: 0.031498443335294724\n",
      "\n",
      "loss: 0.05916266888380051\n",
      "\n",
      "loss: 0.05012864992022514\n",
      "\n"
     ]
    },
    {
     "data": {
      "application/vnd.jupyter.widget-view+json": {
       "model_id": "966145cb9f4042dfad3fd06c780c4d8b",
       "version_major": 2,
       "version_minor": 0
      },
      "text/plain": [
       "Evaluating:   0%|          | 0/770 [00:00<?, ?it/s]"
      ]
     },
     "metadata": {},
     "output_type": "display_data"
    },
    {
     "name": "stdout",
     "output_type": "stream",
     "text": [
      "perplexity: 5.291757106781006\n",
      "After 631 updates: \n",
      "\n"
     ]
    },
    {
     "data": {
      "application/vnd.jupyter.widget-view+json": {
       "model_id": "cf836decd3b240a1b6bb0dd9d9ce7e76",
       "version_major": 2,
       "version_minor": 0
      },
      "text/plain": [
       "  0%|          | 0/100 [00:00<?, ?it/s]"
      ]
     },
     "metadata": {},
     "output_type": "display_data"
    },
    {
     "name": "stdout",
     "output_type": "stream",
     "text": [
      "We report the cDNA deduced primary structure of a wheat germ agglutinin-reactive nuclear pore complex (NPC) protein of rat. The protein, termed Nup98 (for nucleoporin of 98 kDa), contains numerous GLFG and FG repeats and some FXFG repeats and is thus a vertebrate member of a family of GLFG nucleoporins that were previously discovered in yeast. Immunoelectron microscopy showed Nup98 to be asymmetrically located at the nucleoplasmic side of the NPC. Nup98 functions as one of several docking site nucleoporins in a cytosolic docking activity-mediated binding of a model transport substrate. The docking site of Nup98 was mapped to its N-terminal half, which contains all of the peptide repeats. A recombinant segment of this region depleted the docking activity of cytosol. We suggest that the peptide repeat domain of Nup98, together with peptide repeat domains of other nucleoporins, forms an array of sites for mediated docking of transport substrate, and that bidirectional transport across the NPC proceeds by repeated docking and undocking reactions.\n",
      "\n",
      "generated_summary\n",
      "\n"
     ]
    },
    {
     "data": {
      "application/vnd.jupyter.widget-view+json": {
       "model_id": "2add5cc8c5c1453896d90da8d0ef314f",
       "version_major": 2,
       "version_minor": 0
      },
      "text/plain": [
       "  0%|          | 0/100 [00:00<?, ?it/s]"
      ]
     },
     "metadata": {},
     "output_type": "display_data"
    },
    {
     "name": "stdout",
     "output_type": "stream",
     "text": [
      "The cellular effects of stromal cell-derived factor-1 (SDF-1) are mediated primarily by binding to the CXC chemokine receptor-4. We report in this study that SDF-1 and its peptide analogues induce a concentration- and time-dependent accumulation of phosphatidylinositol-(3,4,5)-trisphosphate (PtdIns(3,4,5)P3) in Jurkat cells. This SDF-1-stimulated generation of D-3 phosphoinositide lipids was inhibited by pretreatment of the cells with an SDF-1 peptide antagonist or an anti-CXCR4 Ab. In addition, the phosphoinositide 3 (PI 3)-kinase inhibitors wortmannin and LY294002, as well as the Gi protein inhibitor pertussis toxin, also inhibited the SDF-1-stimulated accumulation of PtdIns(3,4,5)P3. The effects of SDF-1 on D-3 phosphoinositide lipid accumulation correlated well with activation of the known PI 3-kinase effector protein kinase B, which was also inhibited by wortmannin and pertussis toxin. Concentrations of PI 3-kinase inhibitors, sufficient to inhibit PtdIns(3,4,5)P3 accumulation, also inhibited chemotaxis of Jurkat and peripheral blood-derived T lymphocytes in response to SDF-1. In contrast, SDF-1-stimulated actin polymerization was only partially inhibited by PI 3-kinase inhibitors, suggesting that while chemotaxis is fully dependent on PI 3-kinase activation, actin polymerization requires additional biochemical inputs. Finally, SDF-1-stimulated extracellular signal-related kinase (ERK)-1/2 mitogen-activated protein kinase activation was inhibited by PI 3-kinase inhibitors. In addition, the mitogen-activated protein/ERK kinase inhibitor PD098059 partially attenuated chemotaxis in response to SDF-1. Hence, it appears that ERK1/2 activation is dependent on PI 3-kinase activation, and both biochemical events are involved in the regulation of SDF-1-stimulated chemotaxis.\n",
      "\n",
      "generated_summary\n",
      "\n",
      "loss: 0.04823743924498558\n",
      "\n",
      "loss: 0.09506037086248398\n",
      "\n",
      "loss: 0.04009021818637848\n",
      "\n",
      "loss: 0.06289651244878769\n",
      "\n",
      "loss: 0.0523705929517746\n",
      "\n",
      "loss: 0.05647760629653931\n",
      "\n",
      "loss: 0.04313448444008827\n",
      "\n",
      "loss: 0.06681706756353378\n",
      "\n",
      "loss: 0.0623583123087883\n",
      "\n",
      "loss: 0.050227660685777664\n",
      "\n"
     ]
    },
    {
     "data": {
      "application/vnd.jupyter.widget-view+json": {
       "model_id": "cef85b358d2e46c6aae1a9c7cc50bbd7",
       "version_major": 2,
       "version_minor": 0
      },
      "text/plain": [
       "Evaluating:   0%|          | 0/770 [00:00<?, ?it/s]"
      ]
     },
     "metadata": {},
     "output_type": "display_data"
    },
    {
     "name": "stdout",
     "output_type": "stream",
     "text": [
      "perplexity: 5.34047794342041\n",
      "After 641 updates: \n",
      "\n"
     ]
    },
    {
     "data": {
      "application/vnd.jupyter.widget-view+json": {
       "model_id": "51f3db9212af4d238996e739a6b38d88",
       "version_major": 2,
       "version_minor": 0
      },
      "text/plain": [
       "  0%|          | 0/100 [00:00<?, ?it/s]"
      ]
     },
     "metadata": {},
     "output_type": "display_data"
    },
    {
     "name": "stdout",
     "output_type": "stream",
     "text": [
      "We report the cDNA deduced primary structure of a wheat germ agglutinin-reactive nuclear pore complex (NPC) protein of rat. The protein, termed Nup98 (for nucleoporin of 98 kDa), contains numerous GLFG and FG repeats and some FXFG repeats and is thus a vertebrate member of a family of GLFG nucleoporins that were previously discovered in yeast. Immunoelectron microscopy showed Nup98 to be asymmetrically located at the nucleoplasmic side of the NPC. Nup98 functions as one of several docking site nucleoporins in a cytosolic docking activity-mediated binding of a model transport substrate. The docking site of Nup98 was mapped to its N-terminal half, which contains all of the peptide repeats. A recombinant segment of this region depleted the docking activity of cytosol. We suggest that the peptide repeat domain of Nup98, together with peptide repeat domains of other nucleoporins, forms an array of sites for mediated docking of transport substrate, and that bidirectional transport across the NPC proceeds by repeated docking and undocking reactions.\n",
      "\n",
      "generated_summary\n",
      "\n"
     ]
    },
    {
     "data": {
      "application/vnd.jupyter.widget-view+json": {
       "model_id": "a4a96e005b4b4a1d8971bebb188b2e4a",
       "version_major": 2,
       "version_minor": 0
      },
      "text/plain": [
       "  0%|          | 0/100 [00:00<?, ?it/s]"
      ]
     },
     "metadata": {},
     "output_type": "display_data"
    },
    {
     "name": "stdout",
     "output_type": "stream",
     "text": [
      "The cellular effects of stromal cell-derived factor-1 (SDF-1) are mediated primarily by binding to the CXC chemokine receptor-4. We report in this study that SDF-1 and its peptide analogues induce a concentration- and time-dependent accumulation of phosphatidylinositol-(3,4,5)-trisphosphate (PtdIns(3,4,5)P3) in Jurkat cells. This SDF-1-stimulated generation of D-3 phosphoinositide lipids was inhibited by pretreatment of the cells with an SDF-1 peptide antagonist or an anti-CXCR4 Ab. In addition, the phosphoinositide 3 (PI 3)-kinase inhibitors wortmannin and LY294002, as well as the Gi protein inhibitor pertussis toxin, also inhibited the SDF-1-stimulated accumulation of PtdIns(3,4,5)P3. The effects of SDF-1 on D-3 phosphoinositide lipid accumulation correlated well with activation of the known PI 3-kinase effector protein kinase B, which was also inhibited by wortmannin and pertussis toxin. Concentrations of PI 3-kinase inhibitors, sufficient to inhibit PtdIns(3,4,5)P3 accumulation, also inhibited chemotaxis of Jurkat and peripheral blood-derived T lymphocytes in response to SDF-1. In contrast, SDF-1-stimulated actin polymerization was only partially inhibited by PI 3-kinase inhibitors, suggesting that while chemotaxis is fully dependent on PI 3-kinase activation, actin polymerization requires additional biochemical inputs. Finally, SDF-1-stimulated extracellular signal-related kinase (ERK)-1/2 mitogen-activated protein kinase activation was inhibited by PI 3-kinase inhibitors. In addition, the mitogen-activated protein/ERK kinase inhibitor PD098059 partially attenuated chemotaxis in response to SDF-1. Hence, it appears that ERK1/2 activation is dependent on PI 3-kinase activation, and both biochemical events are involved in the regulation of SDF-1-stimulated chemotaxis.\n",
      "\n",
      "generated_summary\n",
      "\n",
      "loss: 0.06330756843090057\n",
      "\n",
      "loss: 0.07832646369934082\n",
      "\n",
      "loss: 0.061392687261104584\n",
      "\n",
      "loss: 0.04330391064286232\n",
      "\n",
      "loss: 0.05250799283385277\n",
      "\n",
      "loss: 0.0445973165333271\n",
      "\n",
      "loss: 0.07048042118549347\n",
      "\n",
      "loss: 0.05044558271765709\n",
      "\n",
      "loss: 0.04197278991341591\n",
      "\n",
      "loss: 0.04436909034848213\n",
      "\n"
     ]
    },
    {
     "data": {
      "application/vnd.jupyter.widget-view+json": {
       "model_id": "af0435e524e3481faebfcb3733cf420b",
       "version_major": 2,
       "version_minor": 0
      },
      "text/plain": [
       "Evaluating:   0%|          | 0/770 [00:00<?, ?it/s]"
      ]
     },
     "metadata": {},
     "output_type": "display_data"
    },
    {
     "name": "stdout",
     "output_type": "stream",
     "text": [
      "perplexity: 5.285504341125488\n",
      "After 651 updates: \n",
      "\n"
     ]
    },
    {
     "data": {
      "application/vnd.jupyter.widget-view+json": {
       "model_id": "c5c4e764b0f54f899ea119666795ee3d",
       "version_major": 2,
       "version_minor": 0
      },
      "text/plain": [
       "  0%|          | 0/100 [00:00<?, ?it/s]"
      ]
     },
     "metadata": {},
     "output_type": "display_data"
    },
    {
     "name": "stdout",
     "output_type": "stream",
     "text": [
      "We report the cDNA deduced primary structure of a wheat germ agglutinin-reactive nuclear pore complex (NPC) protein of rat. The protein, termed Nup98 (for nucleoporin of 98 kDa), contains numerous GLFG and FG repeats and some FXFG repeats and is thus a vertebrate member of a family of GLFG nucleoporins that were previously discovered in yeast. Immunoelectron microscopy showed Nup98 to be asymmetrically located at the nucleoplasmic side of the NPC. Nup98 functions as one of several docking site nucleoporins in a cytosolic docking activity-mediated binding of a model transport substrate. The docking site of Nup98 was mapped to its N-terminal half, which contains all of the peptide repeats. A recombinant segment of this region depleted the docking activity of cytosol. We suggest that the peptide repeat domain of Nup98, together with peptide repeat domains of other nucleoporins, forms an array of sites for mediated docking of transport substrate, and that bidirectional transport across the NPC proceeds by repeated docking and undocking reactions.\n",
      "\n",
      "generated_summary\n",
      "\n"
     ]
    },
    {
     "data": {
      "application/vnd.jupyter.widget-view+json": {
       "model_id": "84f1b37f783e4da7b1462ba84a93d821",
       "version_major": 2,
       "version_minor": 0
      },
      "text/plain": [
       "  0%|          | 0/100 [00:00<?, ?it/s]"
      ]
     },
     "metadata": {},
     "output_type": "display_data"
    },
    {
     "name": "stdout",
     "output_type": "stream",
     "text": [
      "The cellular effects of stromal cell-derived factor-1 (SDF-1) are mediated primarily by binding to the CXC chemokine receptor-4. We report in this study that SDF-1 and its peptide analogues induce a concentration- and time-dependent accumulation of phosphatidylinositol-(3,4,5)-trisphosphate (PtdIns(3,4,5)P3) in Jurkat cells. This SDF-1-stimulated generation of D-3 phosphoinositide lipids was inhibited by pretreatment of the cells with an SDF-1 peptide antagonist or an anti-CXCR4 Ab. In addition, the phosphoinositide 3 (PI 3)-kinase inhibitors wortmannin and LY294002, as well as the Gi protein inhibitor pertussis toxin, also inhibited the SDF-1-stimulated accumulation of PtdIns(3,4,5)P3. The effects of SDF-1 on D-3 phosphoinositide lipid accumulation correlated well with activation of the known PI 3-kinase effector protein kinase B, which was also inhibited by wortmannin and pertussis toxin. Concentrations of PI 3-kinase inhibitors, sufficient to inhibit PtdIns(3,4,5)P3 accumulation, also inhibited chemotaxis of Jurkat and peripheral blood-derived T lymphocytes in response to SDF-1. In contrast, SDF-1-stimulated actin polymerization was only partially inhibited by PI 3-kinase inhibitors, suggesting that while chemotaxis is fully dependent on PI 3-kinase activation, actin polymerization requires additional biochemical inputs. Finally, SDF-1-stimulated extracellular signal-related kinase (ERK)-1/2 mitogen-activated protein kinase activation was inhibited by PI 3-kinase inhibitors. In addition, the mitogen-activated protein/ERK kinase inhibitor PD098059 partially attenuated chemotaxis in response to SDF-1. Hence, it appears that ERK1/2 activation is dependent on PI 3-kinase activation, and both biochemical events are involved in the regulation of SDF-1-stimulated chemotaxis.\n",
      "\n",
      "generated_summary\n",
      "\n",
      "loss: 0.04494772106409073\n",
      "\n",
      "loss: 0.06244660168886185\n",
      "\n",
      "loss: 0.07072792202234268\n",
      "\n",
      "loss: 0.05766531825065613\n",
      "\n",
      "loss: 0.0687970295548439\n",
      "\n",
      "loss: 0.05318479612469673\n",
      "\n",
      "loss: 0.046978093683719635\n",
      "\n",
      "loss: 0.05639835074543953\n",
      "\n",
      "loss: 0.06644068658351898\n",
      "\n",
      "loss: 0.05418988689780235\n",
      "\n"
     ]
    },
    {
     "data": {
      "application/vnd.jupyter.widget-view+json": {
       "model_id": "a8c13dbd53dd4f75ae540ede8e46ddfc",
       "version_major": 2,
       "version_minor": 0
      },
      "text/plain": [
       "Evaluating:   0%|          | 0/770 [00:00<?, ?it/s]"
      ]
     },
     "metadata": {},
     "output_type": "display_data"
    },
    {
     "name": "stdout",
     "output_type": "stream",
     "text": [
      "perplexity: 5.24175500869751\n",
      "After 661 updates: \n",
      "\n"
     ]
    },
    {
     "data": {
      "application/vnd.jupyter.widget-view+json": {
       "model_id": "1533416578924f2aa429622a5897f5dc",
       "version_major": 2,
       "version_minor": 0
      },
      "text/plain": [
       "  0%|          | 0/100 [00:00<?, ?it/s]"
      ]
     },
     "metadata": {},
     "output_type": "display_data"
    },
    {
     "name": "stdout",
     "output_type": "stream",
     "text": [
      "We report the cDNA deduced primary structure of a wheat germ agglutinin-reactive nuclear pore complex (NPC) protein of rat. The protein, termed Nup98 (for nucleoporin of 98 kDa), contains numerous GLFG and FG repeats and some FXFG repeats and is thus a vertebrate member of a family of GLFG nucleoporins that were previously discovered in yeast. Immunoelectron microscopy showed Nup98 to be asymmetrically located at the nucleoplasmic side of the NPC. Nup98 functions as one of several docking site nucleoporins in a cytosolic docking activity-mediated binding of a model transport substrate. The docking site of Nup98 was mapped to its N-terminal half, which contains all of the peptide repeats. A recombinant segment of this region depleted the docking activity of cytosol. We suggest that the peptide repeat domain of Nup98, together with peptide repeat domains of other nucleoporins, forms an array of sites for mediated docking of transport substrate, and that bidirectional transport across the NPC proceeds by repeated docking and undocking reactions.\n",
      "\n",
      "generated_summary\n",
      "\n"
     ]
    },
    {
     "data": {
      "application/vnd.jupyter.widget-view+json": {
       "model_id": "427cc1d5ef1140f49b2694ed4640e46f",
       "version_major": 2,
       "version_minor": 0
      },
      "text/plain": [
       "  0%|          | 0/100 [00:00<?, ?it/s]"
      ]
     },
     "metadata": {},
     "output_type": "display_data"
    },
    {
     "name": "stdout",
     "output_type": "stream",
     "text": [
      "The cellular effects of stromal cell-derived factor-1 (SDF-1) are mediated primarily by binding to the CXC chemokine receptor-4. We report in this study that SDF-1 and its peptide analogues induce a concentration- and time-dependent accumulation of phosphatidylinositol-(3,4,5)-trisphosphate (PtdIns(3,4,5)P3) in Jurkat cells. This SDF-1-stimulated generation of D-3 phosphoinositide lipids was inhibited by pretreatment of the cells with an SDF-1 peptide antagonist or an anti-CXCR4 Ab. In addition, the phosphoinositide 3 (PI 3)-kinase inhibitors wortmannin and LY294002, as well as the Gi protein inhibitor pertussis toxin, also inhibited the SDF-1-stimulated accumulation of PtdIns(3,4,5)P3. The effects of SDF-1 on D-3 phosphoinositide lipid accumulation correlated well with activation of the known PI 3-kinase effector protein kinase B, which was also inhibited by wortmannin and pertussis toxin. Concentrations of PI 3-kinase inhibitors, sufficient to inhibit PtdIns(3,4,5)P3 accumulation, also inhibited chemotaxis of Jurkat and peripheral blood-derived T lymphocytes in response to SDF-1. In contrast, SDF-1-stimulated actin polymerization was only partially inhibited by PI 3-kinase inhibitors, suggesting that while chemotaxis is fully dependent on PI 3-kinase activation, actin polymerization requires additional biochemical inputs. Finally, SDF-1-stimulated extracellular signal-related kinase (ERK)-1/2 mitogen-activated protein kinase activation was inhibited by PI 3-kinase inhibitors. In addition, the mitogen-activated protein/ERK kinase inhibitor PD098059 partially attenuated chemotaxis in response to SDF-1. Hence, it appears that ERK1/2 activation is dependent on PI 3-kinase activation, and both biochemical events are involved in the regulation of SDF-1-stimulated chemotaxis.\n",
      "\n",
      "generated_summary\n",
      "\n",
      "loss: 0.01731184311211109\n",
      "\n",
      "loss: 0.09703344106674194\n",
      "\n",
      "loss: 0.04449873045086861\n",
      "\n",
      "loss: 0.05474436283111572\n",
      "\n",
      "loss: 0.048019248992204666\n",
      "\n",
      "loss: 0.04349791631102562\n",
      "\n",
      "loss: 0.04544931277632713\n",
      "\n",
      "loss: 0.02881499193608761\n",
      "\n",
      "loss: 0.050563205033540726\n",
      "\n",
      "loss: 0.048584483563899994\n",
      "\n"
     ]
    },
    {
     "data": {
      "application/vnd.jupyter.widget-view+json": {
       "model_id": "4c0d6f4cb748498b84085b711cf9a1e3",
       "version_major": 2,
       "version_minor": 0
      },
      "text/plain": [
       "Evaluating:   0%|          | 0/770 [00:00<?, ?it/s]"
      ]
     },
     "metadata": {},
     "output_type": "display_data"
    },
    {
     "name": "stdout",
     "output_type": "stream",
     "text": [
      "perplexity: 5.290928840637207\n",
      "After 671 updates: \n",
      "\n"
     ]
    },
    {
     "data": {
      "application/vnd.jupyter.widget-view+json": {
       "model_id": "1f5b52393aaa4acaa5311e0bc1f50d02",
       "version_major": 2,
       "version_minor": 0
      },
      "text/plain": [
       "  0%|          | 0/100 [00:00<?, ?it/s]"
      ]
     },
     "metadata": {},
     "output_type": "display_data"
    },
    {
     "name": "stdout",
     "output_type": "stream",
     "text": [
      "We report the cDNA deduced primary structure of a wheat germ agglutinin-reactive nuclear pore complex (NPC) protein of rat. The protein, termed Nup98 (for nucleoporin of 98 kDa), contains numerous GLFG and FG repeats and some FXFG repeats and is thus a vertebrate member of a family of GLFG nucleoporins that were previously discovered in yeast. Immunoelectron microscopy showed Nup98 to be asymmetrically located at the nucleoplasmic side of the NPC. Nup98 functions as one of several docking site nucleoporins in a cytosolic docking activity-mediated binding of a model transport substrate. The docking site of Nup98 was mapped to its N-terminal half, which contains all of the peptide repeats. A recombinant segment of this region depleted the docking activity of cytosol. We suggest that the peptide repeat domain of Nup98, together with peptide repeat domains of other nucleoporins, forms an array of sites for mediated docking of transport substrate, and that bidirectional transport across the NPC proceeds by repeated docking and undocking reactions.\n",
      "\n",
      "generated_summary\n",
      "\n"
     ]
    },
    {
     "data": {
      "application/vnd.jupyter.widget-view+json": {
       "model_id": "65dff0ec838147d192728fc1ddc2e22f",
       "version_major": 2,
       "version_minor": 0
      },
      "text/plain": [
       "  0%|          | 0/100 [00:00<?, ?it/s]"
      ]
     },
     "metadata": {},
     "output_type": "display_data"
    },
    {
     "name": "stdout",
     "output_type": "stream",
     "text": [
      "The cellular effects of stromal cell-derived factor-1 (SDF-1) are mediated primarily by binding to the CXC chemokine receptor-4. We report in this study that SDF-1 and its peptide analogues induce a concentration- and time-dependent accumulation of phosphatidylinositol-(3,4,5)-trisphosphate (PtdIns(3,4,5)P3) in Jurkat cells. This SDF-1-stimulated generation of D-3 phosphoinositide lipids was inhibited by pretreatment of the cells with an SDF-1 peptide antagonist or an anti-CXCR4 Ab. In addition, the phosphoinositide 3 (PI 3)-kinase inhibitors wortmannin and LY294002, as well as the Gi protein inhibitor pertussis toxin, also inhibited the SDF-1-stimulated accumulation of PtdIns(3,4,5)P3. The effects of SDF-1 on D-3 phosphoinositide lipid accumulation correlated well with activation of the known PI 3-kinase effector protein kinase B, which was also inhibited by wortmannin and pertussis toxin. Concentrations of PI 3-kinase inhibitors, sufficient to inhibit PtdIns(3,4,5)P3 accumulation, also inhibited chemotaxis of Jurkat and peripheral blood-derived T lymphocytes in response to SDF-1. In contrast, SDF-1-stimulated actin polymerization was only partially inhibited by PI 3-kinase inhibitors, suggesting that while chemotaxis is fully dependent on PI 3-kinase activation, actin polymerization requires additional biochemical inputs. Finally, SDF-1-stimulated extracellular signal-related kinase (ERK)-1/2 mitogen-activated protein kinase activation was inhibited by PI 3-kinase inhibitors. In addition, the mitogen-activated protein/ERK kinase inhibitor PD098059 partially attenuated chemotaxis in response to SDF-1. Hence, it appears that ERK1/2 activation is dependent on PI 3-kinase activation, and both biochemical events are involved in the regulation of SDF-1-stimulated chemotaxis.\n",
      "\n",
      "generated_summary\n",
      "\n",
      "loss: 0.023679368197917938\n",
      "\n",
      "loss: 0.08866886794567108\n",
      "\n",
      "loss: 0.05781577154994011\n",
      "\n",
      "loss: 0.05916448310017586\n",
      "\n",
      "loss: 0.04548303410410881\n",
      "\n",
      "loss: 0.038366932421922684\n",
      "\n",
      "loss: 0.06755319982767105\n",
      "\n",
      "loss: 0.052648574113845825\n",
      "\n",
      "loss: 0.031515613198280334\n",
      "\n",
      "loss: 0.04588842764496803\n",
      "\n"
     ]
    },
    {
     "data": {
      "application/vnd.jupyter.widget-view+json": {
       "model_id": "a9bae0b427d54113a61e0604373f58de",
       "version_major": 2,
       "version_minor": 0
      },
      "text/plain": [
       "Evaluating:   0%|          | 0/770 [00:00<?, ?it/s]"
      ]
     },
     "metadata": {},
     "output_type": "display_data"
    },
    {
     "name": "stdout",
     "output_type": "stream",
     "text": [
      "perplexity: 5.311447620391846\n",
      "After 681 updates: \n",
      "\n"
     ]
    },
    {
     "data": {
      "application/vnd.jupyter.widget-view+json": {
       "model_id": "7be05f9f1e13459c85c3f91f382f3fba",
       "version_major": 2,
       "version_minor": 0
      },
      "text/plain": [
       "  0%|          | 0/100 [00:00<?, ?it/s]"
      ]
     },
     "metadata": {},
     "output_type": "display_data"
    },
    {
     "name": "stdout",
     "output_type": "stream",
     "text": [
      "We report the cDNA deduced primary structure of a wheat germ agglutinin-reactive nuclear pore complex (NPC) protein of rat. The protein, termed Nup98 (for nucleoporin of 98 kDa), contains numerous GLFG and FG repeats and some FXFG repeats and is thus a vertebrate member of a family of GLFG nucleoporins that were previously discovered in yeast. Immunoelectron microscopy showed Nup98 to be asymmetrically located at the nucleoplasmic side of the NPC. Nup98 functions as one of several docking site nucleoporins in a cytosolic docking activity-mediated binding of a model transport substrate. The docking site of Nup98 was mapped to its N-terminal half, which contains all of the peptide repeats. A recombinant segment of this region depleted the docking activity of cytosol. We suggest that the peptide repeat domain of Nup98, together with peptide repeat domains of other nucleoporins, forms an array of sites for mediated docking of transport substrate, and that bidirectional transport across the NPC proceeds by repeated docking and undocking reactions.\n",
      "\n",
      "generated_summary\n",
      "\n"
     ]
    },
    {
     "data": {
      "application/vnd.jupyter.widget-view+json": {
       "model_id": "78665ef1da32463db3e0ae8e61d2a201",
       "version_major": 2,
       "version_minor": 0
      },
      "text/plain": [
       "  0%|          | 0/100 [00:00<?, ?it/s]"
      ]
     },
     "metadata": {},
     "output_type": "display_data"
    },
    {
     "name": "stdout",
     "output_type": "stream",
     "text": [
      "The cellular effects of stromal cell-derived factor-1 (SDF-1) are mediated primarily by binding to the CXC chemokine receptor-4. We report in this study that SDF-1 and its peptide analogues induce a concentration- and time-dependent accumulation of phosphatidylinositol-(3,4,5)-trisphosphate (PtdIns(3,4,5)P3) in Jurkat cells. This SDF-1-stimulated generation of D-3 phosphoinositide lipids was inhibited by pretreatment of the cells with an SDF-1 peptide antagonist or an anti-CXCR4 Ab. In addition, the phosphoinositide 3 (PI 3)-kinase inhibitors wortmannin and LY294002, as well as the Gi protein inhibitor pertussis toxin, also inhibited the SDF-1-stimulated accumulation of PtdIns(3,4,5)P3. The effects of SDF-1 on D-3 phosphoinositide lipid accumulation correlated well with activation of the known PI 3-kinase effector protein kinase B, which was also inhibited by wortmannin and pertussis toxin. Concentrations of PI 3-kinase inhibitors, sufficient to inhibit PtdIns(3,4,5)P3 accumulation, also inhibited chemotaxis of Jurkat and peripheral blood-derived T lymphocytes in response to SDF-1. In contrast, SDF-1-stimulated actin polymerization was only partially inhibited by PI 3-kinase inhibitors, suggesting that while chemotaxis is fully dependent on PI 3-kinase activation, actin polymerization requires additional biochemical inputs. Finally, SDF-1-stimulated extracellular signal-related kinase (ERK)-1/2 mitogen-activated protein kinase activation was inhibited by PI 3-kinase inhibitors. In addition, the mitogen-activated protein/ERK kinase inhibitor PD098059 partially attenuated chemotaxis in response to SDF-1. Hence, it appears that ERK1/2 activation is dependent on PI 3-kinase activation, and both biochemical events are involved in the regulation of SDF-1-stimulated chemotaxis.\n",
      "\n",
      "generated_summary\n",
      "\n",
      "loss: 0.05332917347550392\n",
      "\n",
      "loss: 0.07847802340984344\n",
      "\n",
      "loss: 0.05753258988261223\n",
      "\n",
      "loss: 0.036370277404785156\n",
      "\n",
      "loss: 0.053973034024238586\n",
      "\n",
      "loss: 0.05323536694049835\n",
      "\n",
      "loss: 0.03848860040307045\n",
      "\n",
      "loss: 0.04677726700901985\n",
      "\n",
      "loss: 0.07380186766386032\n",
      "\n",
      "loss: 0.022607482969760895\n",
      "\n"
     ]
    },
    {
     "data": {
      "application/vnd.jupyter.widget-view+json": {
       "model_id": "18cdae059e8641668635223cf4043139",
       "version_major": 2,
       "version_minor": 0
      },
      "text/plain": [
       "Evaluating:   0%|          | 0/770 [00:00<?, ?it/s]"
      ]
     },
     "metadata": {},
     "output_type": "display_data"
    },
    {
     "name": "stdout",
     "output_type": "stream",
     "text": [
      "perplexity: 5.282408714294434\n",
      "After 691 updates: \n",
      "\n"
     ]
    },
    {
     "data": {
      "application/vnd.jupyter.widget-view+json": {
       "model_id": "b6aa4a99c4a24b3aaebde591a39166e5",
       "version_major": 2,
       "version_minor": 0
      },
      "text/plain": [
       "  0%|          | 0/100 [00:00<?, ?it/s]"
      ]
     },
     "metadata": {},
     "output_type": "display_data"
    },
    {
     "name": "stdout",
     "output_type": "stream",
     "text": [
      "We report the cDNA deduced primary structure of a wheat germ agglutinin-reactive nuclear pore complex (NPC) protein of rat. The protein, termed Nup98 (for nucleoporin of 98 kDa), contains numerous GLFG and FG repeats and some FXFG repeats and is thus a vertebrate member of a family of GLFG nucleoporins that were previously discovered in yeast. Immunoelectron microscopy showed Nup98 to be asymmetrically located at the nucleoplasmic side of the NPC. Nup98 functions as one of several docking site nucleoporins in a cytosolic docking activity-mediated binding of a model transport substrate. The docking site of Nup98 was mapped to its N-terminal half, which contains all of the peptide repeats. A recombinant segment of this region depleted the docking activity of cytosol. We suggest that the peptide repeat domain of Nup98, together with peptide repeat domains of other nucleoporins, forms an array of sites for mediated docking of transport substrate, and that bidirectional transport across the NPC proceeds by repeated docking and undocking reactions.\n",
      "\n",
      "generated_summary\n",
      "\n"
     ]
    },
    {
     "data": {
      "application/vnd.jupyter.widget-view+json": {
       "model_id": "47b0b2c672f5451cb8ac2d14d1f339fd",
       "version_major": 2,
       "version_minor": 0
      },
      "text/plain": [
       "  0%|          | 0/100 [00:00<?, ?it/s]"
      ]
     },
     "metadata": {},
     "output_type": "display_data"
    },
    {
     "name": "stdout",
     "output_type": "stream",
     "text": [
      "The cellular effects of stromal cell-derived factor-1 (SDF-1) are mediated primarily by binding to the CXC chemokine receptor-4. We report in this study that SDF-1 and its peptide analogues induce a concentration- and time-dependent accumulation of phosphatidylinositol-(3,4,5)-trisphosphate (PtdIns(3,4,5)P3) in Jurkat cells. This SDF-1-stimulated generation of D-3 phosphoinositide lipids was inhibited by pretreatment of the cells with an SDF-1 peptide antagonist or an anti-CXCR4 Ab. In addition, the phosphoinositide 3 (PI 3)-kinase inhibitors wortmannin and LY294002, as well as the Gi protein inhibitor pertussis toxin, also inhibited the SDF-1-stimulated accumulation of PtdIns(3,4,5)P3. The effects of SDF-1 on D-3 phosphoinositide lipid accumulation correlated well with activation of the known PI 3-kinase effector protein kinase B, which was also inhibited by wortmannin and pertussis toxin. Concentrations of PI 3-kinase inhibitors, sufficient to inhibit PtdIns(3,4,5)P3 accumulation, also inhibited chemotaxis of Jurkat and peripheral blood-derived T lymphocytes in response to SDF-1. In contrast, SDF-1-stimulated actin polymerization was only partially inhibited by PI 3-kinase inhibitors, suggesting that while chemotaxis is fully dependent on PI 3-kinase activation, actin polymerization requires additional biochemical inputs. Finally, SDF-1-stimulated extracellular signal-related kinase (ERK)-1/2 mitogen-activated protein kinase activation was inhibited by PI 3-kinase inhibitors. In addition, the mitogen-activated protein/ERK kinase inhibitor PD098059 partially attenuated chemotaxis in response to SDF-1. Hence, it appears that ERK1/2 activation is dependent on PI 3-kinase activation, and both biochemical events are involved in the regulation of SDF-1-stimulated chemotaxis.\n",
      "\n",
      "generated_summary\n",
      "\n",
      "loss: 0.053681954741477966\n",
      "\n",
      "loss: 0.036770809441804886\n",
      "\n",
      "loss: 0.07667867094278336\n",
      "\n",
      "loss: 0.04887951910495758\n",
      "\n",
      "loss: 0.05916978418827057\n",
      "\n",
      "loss: 0.050626516342163086\n",
      "\n",
      "loss: 0.0571066178381443\n",
      "\n",
      "loss: 0.046739526093006134\n",
      "\n",
      "loss: 0.0448715016245842\n",
      "\n",
      "loss: 0.0658411905169487\n",
      "\n"
     ]
    },
    {
     "data": {
      "application/vnd.jupyter.widget-view+json": {
       "model_id": "67f66d79e4af4cccade2016f448a144c",
       "version_major": 2,
       "version_minor": 0
      },
      "text/plain": [
       "Evaluating:   0%|          | 0/770 [00:00<?, ?it/s]"
      ]
     },
     "metadata": {},
     "output_type": "display_data"
    },
    {
     "name": "stdout",
     "output_type": "stream",
     "text": [
      "perplexity: 5.274411678314209\n",
      "After 701 updates: \n",
      "\n"
     ]
    },
    {
     "data": {
      "application/vnd.jupyter.widget-view+json": {
       "model_id": "49ebd3bd806b47c2aa392c4861870442",
       "version_major": 2,
       "version_minor": 0
      },
      "text/plain": [
       "  0%|          | 0/100 [00:00<?, ?it/s]"
      ]
     },
     "metadata": {},
     "output_type": "display_data"
    },
    {
     "name": "stdout",
     "output_type": "stream",
     "text": [
      "We report the cDNA deduced primary structure of a wheat germ agglutinin-reactive nuclear pore complex (NPC) protein of rat. The protein, termed Nup98 (for nucleoporin of 98 kDa), contains numerous GLFG and FG repeats and some FXFG repeats and is thus a vertebrate member of a family of GLFG nucleoporins that were previously discovered in yeast. Immunoelectron microscopy showed Nup98 to be asymmetrically located at the nucleoplasmic side of the NPC. Nup98 functions as one of several docking site nucleoporins in a cytosolic docking activity-mediated binding of a model transport substrate. The docking site of Nup98 was mapped to its N-terminal half, which contains all of the peptide repeats. A recombinant segment of this region depleted the docking activity of cytosol. We suggest that the peptide repeat domain of Nup98, together with peptide repeat domains of other nucleoporins, forms an array of sites for mediated docking of transport substrate, and that bidirectional transport across the NPC proceeds by repeated docking and undocking reactions.\n",
      "\n",
      "generated_summary\n",
      "\n"
     ]
    },
    {
     "data": {
      "application/vnd.jupyter.widget-view+json": {
       "model_id": "710c976711b14045865142900c5237ba",
       "version_major": 2,
       "version_minor": 0
      },
      "text/plain": [
       "  0%|          | 0/100 [00:00<?, ?it/s]"
      ]
     },
     "metadata": {},
     "output_type": "display_data"
    },
    {
     "name": "stdout",
     "output_type": "stream",
     "text": [
      "The cellular effects of stromal cell-derived factor-1 (SDF-1) are mediated primarily by binding to the CXC chemokine receptor-4. We report in this study that SDF-1 and its peptide analogues induce a concentration- and time-dependent accumulation of phosphatidylinositol-(3,4,5)-trisphosphate (PtdIns(3,4,5)P3) in Jurkat cells. This SDF-1-stimulated generation of D-3 phosphoinositide lipids was inhibited by pretreatment of the cells with an SDF-1 peptide antagonist or an anti-CXCR4 Ab. In addition, the phosphoinositide 3 (PI 3)-kinase inhibitors wortmannin and LY294002, as well as the Gi protein inhibitor pertussis toxin, also inhibited the SDF-1-stimulated accumulation of PtdIns(3,4,5)P3. The effects of SDF-1 on D-3 phosphoinositide lipid accumulation correlated well with activation of the known PI 3-kinase effector protein kinase B, which was also inhibited by wortmannin and pertussis toxin. Concentrations of PI 3-kinase inhibitors, sufficient to inhibit PtdIns(3,4,5)P3 accumulation, also inhibited chemotaxis of Jurkat and peripheral blood-derived T lymphocytes in response to SDF-1. In contrast, SDF-1-stimulated actin polymerization was only partially inhibited by PI 3-kinase inhibitors, suggesting that while chemotaxis is fully dependent on PI 3-kinase activation, actin polymerization requires additional biochemical inputs. Finally, SDF-1-stimulated extracellular signal-related kinase (ERK)-1/2 mitogen-activated protein kinase activation was inhibited by PI 3-kinase inhibitors. In addition, the mitogen-activated protein/ERK kinase inhibitor PD098059 partially attenuated chemotaxis in response to SDF-1. Hence, it appears that ERK1/2 activation is dependent on PI 3-kinase activation, and both biochemical events are involved in the regulation of SDF-1-stimulated chemotaxis.\n",
      "\n",
      "generated_summary\n",
      "\n",
      "loss: 0.07646365463733673\n",
      "\n",
      "loss: 0.05127694085240364\n",
      "\n",
      "loss: 0.0575423464179039\n",
      "\n",
      "loss: 0.035108983516693115\n",
      "\n",
      "loss: 0.08598107099533081\n",
      "\n",
      "loss: 0.04605162888765335\n",
      "\n",
      "loss: 0.06366437673568726\n",
      "\n",
      "loss: 0.04772041365504265\n",
      "\n",
      "loss: 0.06045309826731682\n",
      "\n",
      "loss: 0.042118463665246964\n",
      "\n"
     ]
    },
    {
     "data": {
      "application/vnd.jupyter.widget-view+json": {
       "model_id": "1bc79953196d4736ab2aa2490e0be95b",
       "version_major": 2,
       "version_minor": 0
      },
      "text/plain": [
       "Evaluating:   0%|          | 0/770 [00:00<?, ?it/s]"
      ]
     },
     "metadata": {},
     "output_type": "display_data"
    },
    {
     "name": "stdout",
     "output_type": "stream",
     "text": [
      "perplexity: 5.206115245819092\n",
      "After 711 updates: \n",
      "\n"
     ]
    },
    {
     "data": {
      "application/vnd.jupyter.widget-view+json": {
       "model_id": "c773cc597bda4e63b0359dba981d2f5c",
       "version_major": 2,
       "version_minor": 0
      },
      "text/plain": [
       "  0%|          | 0/100 [00:00<?, ?it/s]"
      ]
     },
     "metadata": {},
     "output_type": "display_data"
    },
    {
     "name": "stdout",
     "output_type": "stream",
     "text": [
      "We report the cDNA deduced primary structure of a wheat germ agglutinin-reactive nuclear pore complex (NPC) protein of rat. The protein, termed Nup98 (for nucleoporin of 98 kDa), contains numerous GLFG and FG repeats and some FXFG repeats and is thus a vertebrate member of a family of GLFG nucleoporins that were previously discovered in yeast. Immunoelectron microscopy showed Nup98 to be asymmetrically located at the nucleoplasmic side of the NPC. Nup98 functions as one of several docking site nucleoporins in a cytosolic docking activity-mediated binding of a model transport substrate. The docking site of Nup98 was mapped to its N-terminal half, which contains all of the peptide repeats. A recombinant segment of this region depleted the docking activity of cytosol. We suggest that the peptide repeat domain of Nup98, together with peptide repeat domains of other nucleoporins, forms an array of sites for mediated docking of transport substrate, and that bidirectional transport across the NPC proceeds by repeated docking and undocking reactions.\n",
      "\n",
      "generated_summary\n",
      "\n"
     ]
    },
    {
     "data": {
      "application/vnd.jupyter.widget-view+json": {
       "model_id": "1d162087d275430da65d2dea496f8fb8",
       "version_major": 2,
       "version_minor": 0
      },
      "text/plain": [
       "  0%|          | 0/100 [00:00<?, ?it/s]"
      ]
     },
     "metadata": {},
     "output_type": "display_data"
    },
    {
     "name": "stdout",
     "output_type": "stream",
     "text": [
      "The cellular effects of stromal cell-derived factor-1 (SDF-1) are mediated primarily by binding to the CXC chemokine receptor-4. We report in this study that SDF-1 and its peptide analogues induce a concentration- and time-dependent accumulation of phosphatidylinositol-(3,4,5)-trisphosphate (PtdIns(3,4,5)P3) in Jurkat cells. This SDF-1-stimulated generation of D-3 phosphoinositide lipids was inhibited by pretreatment of the cells with an SDF-1 peptide antagonist or an anti-CXCR4 Ab. In addition, the phosphoinositide 3 (PI 3)-kinase inhibitors wortmannin and LY294002, as well as the Gi protein inhibitor pertussis toxin, also inhibited the SDF-1-stimulated accumulation of PtdIns(3,4,5)P3. The effects of SDF-1 on D-3 phosphoinositide lipid accumulation correlated well with activation of the known PI 3-kinase effector protein kinase B, which was also inhibited by wortmannin and pertussis toxin. Concentrations of PI 3-kinase inhibitors, sufficient to inhibit PtdIns(3,4,5)P3 accumulation, also inhibited chemotaxis of Jurkat and peripheral blood-derived T lymphocytes in response to SDF-1. In contrast, SDF-1-stimulated actin polymerization was only partially inhibited by PI 3-kinase inhibitors, suggesting that while chemotaxis is fully dependent on PI 3-kinase activation, actin polymerization requires additional biochemical inputs. Finally, SDF-1-stimulated extracellular signal-related kinase (ERK)-1/2 mitogen-activated protein kinase activation was inhibited by PI 3-kinase inhibitors. In addition, the mitogen-activated protein/ERK kinase inhibitor PD098059 partially attenuated chemotaxis in response to SDF-1. Hence, it appears that ERK1/2 activation is dependent on PI 3-kinase activation, and both biochemical events are involved in the regulation of SDF-1-stimulated chemotaxis.\n",
      "\n",
      "generated_summary\n",
      "\n",
      "loss: 0.049776725471019745\n",
      "\n",
      "loss: 0.05153840407729149\n",
      "\n",
      "loss: 0.06602100282907486\n",
      "\n",
      "loss: 0.034842707216739655\n",
      "\n",
      "loss: 0.0371260903775692\n",
      "\n",
      "loss: 0.0688880905508995\n",
      "\n",
      "loss: 0.057043321430683136\n",
      "\n",
      "loss: 0.04417786747217178\n",
      "\n",
      "loss: 0.04308127239346504\n",
      "\n",
      "loss: 0.022477077320218086\n",
      "\n"
     ]
    },
    {
     "data": {
      "application/vnd.jupyter.widget-view+json": {
       "model_id": "7d6d26c44b4e4f269cb4d269614f86a7",
       "version_major": 2,
       "version_minor": 0
      },
      "text/plain": [
       "Evaluating:   0%|          | 0/770 [00:00<?, ?it/s]"
      ]
     },
     "metadata": {},
     "output_type": "display_data"
    },
    {
     "name": "stdout",
     "output_type": "stream",
     "text": [
      "perplexity: 5.169399738311768\n",
      "After 721 updates: \n",
      "\n"
     ]
    },
    {
     "data": {
      "application/vnd.jupyter.widget-view+json": {
       "model_id": "407d0acc4841421fbb8402f720e62d0b",
       "version_major": 2,
       "version_minor": 0
      },
      "text/plain": [
       "  0%|          | 0/100 [00:00<?, ?it/s]"
      ]
     },
     "metadata": {},
     "output_type": "display_data"
    },
    {
     "name": "stdout",
     "output_type": "stream",
     "text": [
      "We report the cDNA deduced primary structure of a wheat germ agglutinin-reactive nuclear pore complex (NPC) protein of rat. The protein, termed Nup98 (for nucleoporin of 98 kDa), contains numerous GLFG and FG repeats and some FXFG repeats and is thus a vertebrate member of a family of GLFG nucleoporins that were previously discovered in yeast. Immunoelectron microscopy showed Nup98 to be asymmetrically located at the nucleoplasmic side of the NPC. Nup98 functions as one of several docking site nucleoporins in a cytosolic docking activity-mediated binding of a model transport substrate. The docking site of Nup98 was mapped to its N-terminal half, which contains all of the peptide repeats. A recombinant segment of this region depleted the docking activity of cytosol. We suggest that the peptide repeat domain of Nup98, together with peptide repeat domains of other nucleoporins, forms an array of sites for mediated docking of transport substrate, and that bidirectional transport across the NPC proceeds by repeated docking and undocking reactions.\n",
      "\n",
      "generated_summary\n",
      "\n"
     ]
    },
    {
     "data": {
      "application/vnd.jupyter.widget-view+json": {
       "model_id": "677c584d14594fac9ccb551fc6330a78",
       "version_major": 2,
       "version_minor": 0
      },
      "text/plain": [
       "  0%|          | 0/100 [00:00<?, ?it/s]"
      ]
     },
     "metadata": {},
     "output_type": "display_data"
    },
    {
     "name": "stdout",
     "output_type": "stream",
     "text": [
      "The cellular effects of stromal cell-derived factor-1 (SDF-1) are mediated primarily by binding to the CXC chemokine receptor-4. We report in this study that SDF-1 and its peptide analogues induce a concentration- and time-dependent accumulation of phosphatidylinositol-(3,4,5)-trisphosphate (PtdIns(3,4,5)P3) in Jurkat cells. This SDF-1-stimulated generation of D-3 phosphoinositide lipids was inhibited by pretreatment of the cells with an SDF-1 peptide antagonist or an anti-CXCR4 Ab. In addition, the phosphoinositide 3 (PI 3)-kinase inhibitors wortmannin and LY294002, as well as the Gi protein inhibitor pertussis toxin, also inhibited the SDF-1-stimulated accumulation of PtdIns(3,4,5)P3. The effects of SDF-1 on D-3 phosphoinositide lipid accumulation correlated well with activation of the known PI 3-kinase effector protein kinase B, which was also inhibited by wortmannin and pertussis toxin. Concentrations of PI 3-kinase inhibitors, sufficient to inhibit PtdIns(3,4,5)P3 accumulation, also inhibited chemotaxis of Jurkat and peripheral blood-derived T lymphocytes in response to SDF-1. In contrast, SDF-1-stimulated actin polymerization was only partially inhibited by PI 3-kinase inhibitors, suggesting that while chemotaxis is fully dependent on PI 3-kinase activation, actin polymerization requires additional biochemical inputs. Finally, SDF-1-stimulated extracellular signal-related kinase (ERK)-1/2 mitogen-activated protein kinase activation was inhibited by PI 3-kinase inhibitors. In addition, the mitogen-activated protein/ERK kinase inhibitor PD098059 partially attenuated chemotaxis in response to SDF-1. Hence, it appears that ERK1/2 activation is dependent on PI 3-kinase activation, and both biochemical events are involved in the regulation of SDF-1-stimulated chemotaxis.\n",
      "\n",
      "generated_summary\n",
      "\n",
      "loss: 0.050589416176080704\n",
      "\n",
      "loss: 0.025354433804750443\n",
      "\n",
      "loss: 0.05990273505449295\n",
      "\n",
      "loss: 0.04389738664031029\n",
      "\n",
      "loss: 0.05030598118901253\n",
      "\n",
      "loss: 0.08398241549730301\n",
      "\n",
      "loss: 0.04787310212850571\n",
      "\n",
      "loss: 0.07432606816291809\n",
      "\n",
      "loss: 0.05549547076225281\n",
      "\n",
      "loss: 0.027595842257142067\n",
      "\n"
     ]
    },
    {
     "data": {
      "application/vnd.jupyter.widget-view+json": {
       "model_id": "8e31ab7b7781402ca6ee650deb2cbb9e",
       "version_major": 2,
       "version_minor": 0
      },
      "text/plain": [
       "Evaluating:   0%|          | 0/770 [00:00<?, ?it/s]"
      ]
     },
     "metadata": {},
     "output_type": "display_data"
    },
    {
     "name": "stdout",
     "output_type": "stream",
     "text": [
      "perplexity: 5.107547283172607\n",
      "After 731 updates: \n",
      "\n"
     ]
    },
    {
     "data": {
      "application/vnd.jupyter.widget-view+json": {
       "model_id": "bb5263ec6d3b4ae788665c9e5fd9b6eb",
       "version_major": 2,
       "version_minor": 0
      },
      "text/plain": [
       "  0%|          | 0/100 [00:00<?, ?it/s]"
      ]
     },
     "metadata": {},
     "output_type": "display_data"
    },
    {
     "name": "stdout",
     "output_type": "stream",
     "text": [
      "We report the cDNA deduced primary structure of a wheat germ agglutinin-reactive nuclear pore complex (NPC) protein of rat. The protein, termed Nup98 (for nucleoporin of 98 kDa), contains numerous GLFG and FG repeats and some FXFG repeats and is thus a vertebrate member of a family of GLFG nucleoporins that were previously discovered in yeast. Immunoelectron microscopy showed Nup98 to be asymmetrically located at the nucleoplasmic side of the NPC. Nup98 functions as one of several docking site nucleoporins in a cytosolic docking activity-mediated binding of a model transport substrate. The docking site of Nup98 was mapped to its N-terminal half, which contains all of the peptide repeats. A recombinant segment of this region depleted the docking activity of cytosol. We suggest that the peptide repeat domain of Nup98, together with peptide repeat domains of other nucleoporins, forms an array of sites for mediated docking of transport substrate, and that bidirectional transport across the NPC proceeds by repeated docking and undocking reactions.\n",
      "\n",
      "generated_summary\n",
      "\n"
     ]
    },
    {
     "data": {
      "application/vnd.jupyter.widget-view+json": {
       "model_id": "ede36998eb8343c7b54a880106601c3e",
       "version_major": 2,
       "version_minor": 0
      },
      "text/plain": [
       "  0%|          | 0/100 [00:00<?, ?it/s]"
      ]
     },
     "metadata": {},
     "output_type": "display_data"
    },
    {
     "name": "stdout",
     "output_type": "stream",
     "text": [
      "The cellular effects of stromal cell-derived factor-1 (SDF-1) are mediated primarily by binding to the CXC chemokine receptor-4. We report in this study that SDF-1 and its peptide analogues induce a concentration- and time-dependent accumulation of phosphatidylinositol-(3,4,5)-trisphosphate (PtdIns(3,4,5)P3) in Jurkat cells. This SDF-1-stimulated generation of D-3 phosphoinositide lipids was inhibited by pretreatment of the cells with an SDF-1 peptide antagonist or an anti-CXCR4 Ab. In addition, the phosphoinositide 3 (PI 3)-kinase inhibitors wortmannin and LY294002, as well as the Gi protein inhibitor pertussis toxin, also inhibited the SDF-1-stimulated accumulation of PtdIns(3,4,5)P3. The effects of SDF-1 on D-3 phosphoinositide lipid accumulation correlated well with activation of the known PI 3-kinase effector protein kinase B, which was also inhibited by wortmannin and pertussis toxin. Concentrations of PI 3-kinase inhibitors, sufficient to inhibit PtdIns(3,4,5)P3 accumulation, also inhibited chemotaxis of Jurkat and peripheral blood-derived T lymphocytes in response to SDF-1. In contrast, SDF-1-stimulated actin polymerization was only partially inhibited by PI 3-kinase inhibitors, suggesting that while chemotaxis is fully dependent on PI 3-kinase activation, actin polymerization requires additional biochemical inputs. Finally, SDF-1-stimulated extracellular signal-related kinase (ERK)-1/2 mitogen-activated protein kinase activation was inhibited by PI 3-kinase inhibitors. In addition, the mitogen-activated protein/ERK kinase inhibitor PD098059 partially attenuated chemotaxis in response to SDF-1. Hence, it appears that ERK1/2 activation is dependent on PI 3-kinase activation, and both biochemical events are involved in the regulation of SDF-1-stimulated chemotaxis.\n",
      "\n",
      "generated_summary\n",
      "\n",
      "loss: 0.05459735542535782\n",
      "\n",
      "loss: 0.04659008979797363\n",
      "\n",
      "loss: 0.04505596309900284\n",
      "\n",
      "loss: 0.04472244158387184\n",
      "\n",
      "loss: 0.04713861271739006\n",
      "\n",
      "loss: 0.03570466861128807\n",
      "\n",
      "loss: 0.048242900520563126\n",
      "\n",
      "loss: 0.03199036791920662\n",
      "\n",
      "loss: 0.03013593703508377\n",
      "\n",
      "loss: 0.057856783270835876\n",
      "\n"
     ]
    },
    {
     "data": {
      "application/vnd.jupyter.widget-view+json": {
       "model_id": "f84718a554cb4abdac4e8a02d0ac7f81",
       "version_major": 2,
       "version_minor": 0
      },
      "text/plain": [
       "Evaluating:   0%|          | 0/770 [00:00<?, ?it/s]"
      ]
     },
     "metadata": {},
     "output_type": "display_data"
    },
    {
     "name": "stdout",
     "output_type": "stream",
     "text": [
      "perplexity: 5.1385273933410645\n",
      "After 741 updates: \n",
      "\n"
     ]
    },
    {
     "data": {
      "application/vnd.jupyter.widget-view+json": {
       "model_id": "96a0b68e5f53449a805aac7f74899d07",
       "version_major": 2,
       "version_minor": 0
      },
      "text/plain": [
       "  0%|          | 0/100 [00:00<?, ?it/s]"
      ]
     },
     "metadata": {},
     "output_type": "display_data"
    },
    {
     "name": "stdout",
     "output_type": "stream",
     "text": [
      "We report the cDNA deduced primary structure of a wheat germ agglutinin-reactive nuclear pore complex (NPC) protein of rat. The protein, termed Nup98 (for nucleoporin of 98 kDa), contains numerous GLFG and FG repeats and some FXFG repeats and is thus a vertebrate member of a family of GLFG nucleoporins that were previously discovered in yeast. Immunoelectron microscopy showed Nup98 to be asymmetrically located at the nucleoplasmic side of the NPC. Nup98 functions as one of several docking site nucleoporins in a cytosolic docking activity-mediated binding of a model transport substrate. The docking site of Nup98 was mapped to its N-terminal half, which contains all of the peptide repeats. A recombinant segment of this region depleted the docking activity of cytosol. We suggest that the peptide repeat domain of Nup98, together with peptide repeat domains of other nucleoporins, forms an array of sites for mediated docking of transport substrate, and that bidirectional transport across the NPC proceeds by repeated docking and undocking reactions.\n",
      "\n",
      "generated_summary\n",
      "\n"
     ]
    },
    {
     "data": {
      "application/vnd.jupyter.widget-view+json": {
       "model_id": "cb8af93d104744fd94b269ae203abbf3",
       "version_major": 2,
       "version_minor": 0
      },
      "text/plain": [
       "  0%|          | 0/100 [00:00<?, ?it/s]"
      ]
     },
     "metadata": {},
     "output_type": "display_data"
    },
    {
     "name": "stdout",
     "output_type": "stream",
     "text": [
      "The cellular effects of stromal cell-derived factor-1 (SDF-1) are mediated primarily by binding to the CXC chemokine receptor-4. We report in this study that SDF-1 and its peptide analogues induce a concentration- and time-dependent accumulation of phosphatidylinositol-(3,4,5)-trisphosphate (PtdIns(3,4,5)P3) in Jurkat cells. This SDF-1-stimulated generation of D-3 phosphoinositide lipids was inhibited by pretreatment of the cells with an SDF-1 peptide antagonist or an anti-CXCR4 Ab. In addition, the phosphoinositide 3 (PI 3)-kinase inhibitors wortmannin and LY294002, as well as the Gi protein inhibitor pertussis toxin, also inhibited the SDF-1-stimulated accumulation of PtdIns(3,4,5)P3. The effects of SDF-1 on D-3 phosphoinositide lipid accumulation correlated well with activation of the known PI 3-kinase effector protein kinase B, which was also inhibited by wortmannin and pertussis toxin. Concentrations of PI 3-kinase inhibitors, sufficient to inhibit PtdIns(3,4,5)P3 accumulation, also inhibited chemotaxis of Jurkat and peripheral blood-derived T lymphocytes in response to SDF-1. In contrast, SDF-1-stimulated actin polymerization was only partially inhibited by PI 3-kinase inhibitors, suggesting that while chemotaxis is fully dependent on PI 3-kinase activation, actin polymerization requires additional biochemical inputs. Finally, SDF-1-stimulated extracellular signal-related kinase (ERK)-1/2 mitogen-activated protein kinase activation was inhibited by PI 3-kinase inhibitors. In addition, the mitogen-activated protein/ERK kinase inhibitor PD098059 partially attenuated chemotaxis in response to SDF-1. Hence, it appears that ERK1/2 activation is dependent on PI 3-kinase activation, and both biochemical events are involved in the regulation of SDF-1-stimulated chemotaxis.\n",
      "\n",
      "generated_summary\n",
      "\n",
      "loss: 0.02861473336815834\n",
      "\n",
      "loss: 0.05780782178044319\n",
      "\n",
      "loss: 0.03896244615316391\n",
      "\n",
      "loss: 0.0665074810385704\n",
      "\n",
      "loss: 0.061573345214128494\n",
      "\n",
      "loss: 0.03627042844891548\n",
      "\n",
      "loss: 0.039384108036756516\n",
      "\n",
      "loss: 0.0827060118317604\n",
      "\n",
      "loss: 0.044620949774980545\n",
      "\n",
      "loss: 0.08411794900894165\n",
      "\n"
     ]
    },
    {
     "data": {
      "application/vnd.jupyter.widget-view+json": {
       "model_id": "615e59a4e03b4023b16dd6539b14e40a",
       "version_major": 2,
       "version_minor": 0
      },
      "text/plain": [
       "Evaluating:   0%|          | 0/770 [00:00<?, ?it/s]"
      ]
     },
     "metadata": {},
     "output_type": "display_data"
    },
    {
     "name": "stdout",
     "output_type": "stream",
     "text": [
      "perplexity: 5.131603240966797\n",
      "After 751 updates: \n",
      "\n"
     ]
    },
    {
     "data": {
      "application/vnd.jupyter.widget-view+json": {
       "model_id": "a8e987f7334e4308a66436a639580c66",
       "version_major": 2,
       "version_minor": 0
      },
      "text/plain": [
       "  0%|          | 0/100 [00:00<?, ?it/s]"
      ]
     },
     "metadata": {},
     "output_type": "display_data"
    },
    {
     "name": "stdout",
     "output_type": "stream",
     "text": [
      "We report the cDNA deduced primary structure of a wheat germ agglutinin-reactive nuclear pore complex (NPC) protein of rat. The protein, termed Nup98 (for nucleoporin of 98 kDa), contains numerous GLFG and FG repeats and some FXFG repeats and is thus a vertebrate member of a family of GLFG nucleoporins that were previously discovered in yeast. Immunoelectron microscopy showed Nup98 to be asymmetrically located at the nucleoplasmic side of the NPC. Nup98 functions as one of several docking site nucleoporins in a cytosolic docking activity-mediated binding of a model transport substrate. The docking site of Nup98 was mapped to its N-terminal half, which contains all of the peptide repeats. A recombinant segment of this region depleted the docking activity of cytosol. We suggest that the peptide repeat domain of Nup98, together with peptide repeat domains of other nucleoporins, forms an array of sites for mediated docking of transport substrate, and that bidirectional transport across the NPC proceeds by repeated docking and undocking reactions.\n",
      "\n",
      "generated_summary\n",
      "\n"
     ]
    },
    {
     "data": {
      "application/vnd.jupyter.widget-view+json": {
       "model_id": "d4a9beb408874405b51bcc6131f9ef62",
       "version_major": 2,
       "version_minor": 0
      },
      "text/plain": [
       "  0%|          | 0/100 [00:00<?, ?it/s]"
      ]
     },
     "metadata": {},
     "output_type": "display_data"
    },
    {
     "name": "stdout",
     "output_type": "stream",
     "text": [
      "The cellular effects of stromal cell-derived factor-1 (SDF-1) are mediated primarily by binding to the CXC chemokine receptor-4. We report in this study that SDF-1 and its peptide analogues induce a concentration- and time-dependent accumulation of phosphatidylinositol-(3,4,5)-trisphosphate (PtdIns(3,4,5)P3) in Jurkat cells. This SDF-1-stimulated generation of D-3 phosphoinositide lipids was inhibited by pretreatment of the cells with an SDF-1 peptide antagonist or an anti-CXCR4 Ab. In addition, the phosphoinositide 3 (PI 3)-kinase inhibitors wortmannin and LY294002, as well as the Gi protein inhibitor pertussis toxin, also inhibited the SDF-1-stimulated accumulation of PtdIns(3,4,5)P3. The effects of SDF-1 on D-3 phosphoinositide lipid accumulation correlated well with activation of the known PI 3-kinase effector protein kinase B, which was also inhibited by wortmannin and pertussis toxin. Concentrations of PI 3-kinase inhibitors, sufficient to inhibit PtdIns(3,4,5)P3 accumulation, also inhibited chemotaxis of Jurkat and peripheral blood-derived T lymphocytes in response to SDF-1. In contrast, SDF-1-stimulated actin polymerization was only partially inhibited by PI 3-kinase inhibitors, suggesting that while chemotaxis is fully dependent on PI 3-kinase activation, actin polymerization requires additional biochemical inputs. Finally, SDF-1-stimulated extracellular signal-related kinase (ERK)-1/2 mitogen-activated protein kinase activation was inhibited by PI 3-kinase inhibitors. In addition, the mitogen-activated protein/ERK kinase inhibitor PD098059 partially attenuated chemotaxis in response to SDF-1. Hence, it appears that ERK1/2 activation is dependent on PI 3-kinase activation, and both biochemical events are involved in the regulation of SDF-1-stimulated chemotaxis.\n",
      "\n",
      "generated_summary\n",
      "\n",
      "loss: 0.04516129940748215\n",
      "\n",
      "loss: 0.08291593194007874\n",
      "\n",
      "loss: 0.03797801584005356\n",
      "\n",
      "loss: 0.03394264727830887\n",
      "\n",
      "loss: 0.06033436954021454\n",
      "\n",
      "loss: 0.046584274619817734\n",
      "\n",
      "loss: 0.048927225172519684\n",
      "\n",
      "loss: 0.05751681327819824\n",
      "\n",
      "loss: 0.0410173125565052\n",
      "\n",
      "loss: 0.04212866723537445\n",
      "\n"
     ]
    },
    {
     "data": {
      "application/vnd.jupyter.widget-view+json": {
       "model_id": "068e81602e964faebf4504a06b273600",
       "version_major": 2,
       "version_minor": 0
      },
      "text/plain": [
       "Evaluating:   0%|          | 0/770 [00:00<?, ?it/s]"
      ]
     },
     "metadata": {},
     "output_type": "display_data"
    },
    {
     "name": "stdout",
     "output_type": "stream",
     "text": [
      "perplexity: 5.024227619171143\n",
      "After 761 updates: \n",
      "\n"
     ]
    },
    {
     "data": {
      "application/vnd.jupyter.widget-view+json": {
       "model_id": "5abec9110be84f1e8291a9927caeb40a",
       "version_major": 2,
       "version_minor": 0
      },
      "text/plain": [
       "  0%|          | 0/100 [00:00<?, ?it/s]"
      ]
     },
     "metadata": {},
     "output_type": "display_data"
    },
    {
     "name": "stdout",
     "output_type": "stream",
     "text": [
      "We report the cDNA deduced primary structure of a wheat germ agglutinin-reactive nuclear pore complex (NPC) protein of rat. The protein, termed Nup98 (for nucleoporin of 98 kDa), contains numerous GLFG and FG repeats and some FXFG repeats and is thus a vertebrate member of a family of GLFG nucleoporins that were previously discovered in yeast. Immunoelectron microscopy showed Nup98 to be asymmetrically located at the nucleoplasmic side of the NPC. Nup98 functions as one of several docking site nucleoporins in a cytosolic docking activity-mediated binding of a model transport substrate. The docking site of Nup98 was mapped to its N-terminal half, which contains all of the peptide repeats. A recombinant segment of this region depleted the docking activity of cytosol. We suggest that the peptide repeat domain of Nup98, together with peptide repeat domains of other nucleoporins, forms an array of sites for mediated docking of transport substrate, and that bidirectional transport across the NPC proceeds by repeated docking and undocking reactions.\n",
      "\n",
      "generated_summary\n",
      "\n"
     ]
    },
    {
     "data": {
      "application/vnd.jupyter.widget-view+json": {
       "model_id": "bc3250a285c44d2abc8f2459e6917f5c",
       "version_major": 2,
       "version_minor": 0
      },
      "text/plain": [
       "  0%|          | 0/100 [00:00<?, ?it/s]"
      ]
     },
     "metadata": {},
     "output_type": "display_data"
    },
    {
     "name": "stdout",
     "output_type": "stream",
     "text": [
      "The cellular effects of stromal cell-derived factor-1 (SDF-1) are mediated primarily by binding to the CXC chemokine receptor-4. We report in this study that SDF-1 and its peptide analogues induce a concentration- and time-dependent accumulation of phosphatidylinositol-(3,4,5)-trisphosphate (PtdIns(3,4,5)P3) in Jurkat cells. This SDF-1-stimulated generation of D-3 phosphoinositide lipids was inhibited by pretreatment of the cells with an SDF-1 peptide antagonist or an anti-CXCR4 Ab. In addition, the phosphoinositide 3 (PI 3)-kinase inhibitors wortmannin and LY294002, as well as the Gi protein inhibitor pertussis toxin, also inhibited the SDF-1-stimulated accumulation of PtdIns(3,4,5)P3. The effects of SDF-1 on D-3 phosphoinositide lipid accumulation correlated well with activation of the known PI 3-kinase effector protein kinase B, which was also inhibited by wortmannin and pertussis toxin. Concentrations of PI 3-kinase inhibitors, sufficient to inhibit PtdIns(3,4,5)P3 accumulation, also inhibited chemotaxis of Jurkat and peripheral blood-derived T lymphocytes in response to SDF-1. In contrast, SDF-1-stimulated actin polymerization was only partially inhibited by PI 3-kinase inhibitors, suggesting that while chemotaxis is fully dependent on PI 3-kinase activation, actin polymerization requires additional biochemical inputs. Finally, SDF-1-stimulated extracellular signal-related kinase (ERK)-1/2 mitogen-activated protein kinase activation was inhibited by PI 3-kinase inhibitors. In addition, the mitogen-activated protein/ERK kinase inhibitor PD098059 partially attenuated chemotaxis in response to SDF-1. Hence, it appears that ERK1/2 activation is dependent on PI 3-kinase activation, and both biochemical events are involved in the regulation of SDF-1-stimulated chemotaxis.\n",
      "\n",
      "generated_summary\n",
      "\n"
     ]
    },
    {
     "data": {
      "application/vnd.jupyter.widget-view+json": {
       "model_id": "4997f2adb052404696bf6a08b2355ba4",
       "version_major": 2,
       "version_minor": 0
      },
      "text/plain": [
       "Training:   0%|          | 0/6100 [00:00<?, ?it/s]"
      ]
     },
     "metadata": {},
     "output_type": "display_data"
    },
    {
     "name": "stdout",
     "output_type": "stream",
     "text": [
      "loss: 0.0484444759786129\n",
      "\n",
      "After 1st update: \n",
      "\n"
     ]
    },
    {
     "data": {
      "application/vnd.jupyter.widget-view+json": {
       "model_id": "65f8bbaf9557404a8d8e6a58fdc9ea64",
       "version_major": 2,
       "version_minor": 0
      },
      "text/plain": [
       "  0%|          | 0/100 [00:00<?, ?it/s]"
      ]
     },
     "metadata": {},
     "output_type": "display_data"
    },
    {
     "name": "stdout",
     "output_type": "stream",
     "text": [
      "new_article\n",
      "\n",
      "We report the cDNA deduced primary structure of a wheat germ agglutinin-reactive nuclear pore complex (NPC) protein of rat. The protein, termed Nup98 (for nucleoporin of 98 kDa), contains numerous GLFG and FG repeats and some FXFG repeats and is thus a vertebrate member of a family of GLFG nucleoporins that were previously discovered in yeast. Immunoelectron microscopy showed Nup98 to be asymmetrically located at the nucleoplasmic side of the NPC. Nup98 functions as one of several docking site nucleoporins in a cytosolic docking activity-mediated binding of a model transport substrate. The docking site of Nup98 was mapped to its N-terminal half, which contains all of the peptide repeats. A recombinant segment of this region depleted the docking activity of cytosol. We suggest that the peptide repeat domain of Nup98, together with peptide repeat domains of other nucleoporins, forms an array of sites for mediated docking of transport substrate, and that bidirectional transport across the NPC proceeds by repeated docking and undocking reactions.\n",
      "\n",
      "generated_summary\n",
      "\n",
      "NUP98 involved_in cell-cell signaling.NUP98 involved_in cell-cell signaling.NUP98 involved_in cell-cell signaling.NUP98 involved_in cell-cell signaling.NUP98 involved_in cell-cell signaling.NUP98 involved_in cell-cell signaling.NUP98 involved_in cell-cell signaling.NUP98 involved_in cell-cell signaling.NUP98 involved_in cell-cell signaling.N\n",
      "\n",
      "actual_summary\n",
      "\n",
      "The peptide repeat domain of nucleoporin Nup98 functions as a docking site in transport across the nuclear pore complex.NUP98 enables transporter activity. <|pad|> <|pad|> <|pad|> <|pad|> <|pad|> <|pad|> <|pad|> <|pad|> <|pad|> <|pad|> <|pad|> <|pad|> <|pad|> <|pad|> <|pad|> <|pad|> <|pad|> <|pad|> <|pad|> <|pad|> <|pad|> <|pad|> <|pad|> <|pad|> <|pad|> <|pad|> <|pad|> <|pad|> <|pad|> <|pad|> <|pad|> <|pad|> <|pad|> <|pad|> <|pad|> <|pad|> <|pad|> <|pad|> <|pad|> <|pad|> <|pad|> <|pad|> <|pad|> <|pad|> <|pad|> <|pad|> <|pad|> <|pad|> <|pad|> <|pad|> <|pad|> <|pad|> <|pad|> <|pad|> <|pad|> <|pad|> <|pad|> <|pad|> <|pad|> <|pad|> <|pad|> <|pad|> <|pad|> <|pad|> <|pad|> <|pad|>\n",
      "\n"
     ]
    },
    {
     "data": {
      "application/vnd.jupyter.widget-view+json": {
       "model_id": "40ee57d697104f3f99a1d004eb3f0e34",
       "version_major": 2,
       "version_minor": 0
      },
      "text/plain": [
       "  0%|          | 0/100 [00:00<?, ?it/s]"
      ]
     },
     "metadata": {},
     "output_type": "display_data"
    },
    {
     "name": "stdout",
     "output_type": "stream",
     "text": [
      "new_article\n",
      "\n",
      "The cellular effects of stromal cell-derived factor-1 (SDF-1) are mediated primarily by binding to the CXC chemokine receptor-4. We report in this study that SDF-1 and its peptide analogues induce a concentration- and time-dependent accumulation of phosphatidylinositol-(3,4,5)-trisphosphate (PtdIns(3,4,5)P3) in Jurkat cells. This SDF-1-stimulated generation of D-3 phosphoinositide lipids was inhibited by pretreatment of the cells with an SDF-1 peptide antagonist or an anti-CXCR4 Ab. In addition, the phosphoinositide 3 (PI 3)-kinase inhibitors wortmannin and LY294002, as well as the Gi protein inhibitor pertussis toxin, also inhibited the SDF-1-stimulated accumulation of PtdIns(3,4,5)P3. The effects of SDF-1 on D-3 phosphoinositide lipid accumulation correlated well with activation of the known PI 3-kinase effector protein kinase B, which was also inhibited by wortmannin and pertussis toxin. Concentrations of PI 3-kinase inhibitors, sufficient to inhibit PtdIns(3,4,5)P3 accumulation, also inhibited chemotaxis of Jurkat and peripheral blood-derived T lymphocytes in response to SDF-1. In contrast, SDF-1-stimulated actin polymerization was only partially inhibited by PI 3-kinase inhibitors, suggesting that while chemotaxis is fully dependent on PI 3-kinase activation, actin polymerization requires additional biochemical inputs. Finally, SDF-1-stimulated extracellular signal-related kinase (ERK)-1/2 mitogen-activated protein kinase activation was inhibited by PI 3-kinase inhibitors. In addition, the mitogen-activated protein/ERK kinase inhibitor PD098059 partially attenuated chemotaxis in response to SDF-1. Hence, it appears that ERK1/2 activation is dependent on PI 3-kinase activation, and both biochemical events are involved in the regulation of SDF-1-stimulated chemotaxis.\n",
      "\n",
      "generated_summary\n",
      "\n",
      "ERK1/2 mitogen-activated protein kinase activation is mediated by the chemotaxis of the CXC chemokine receptor-4.ERK1 involved_in chemotaxis.ERK1 involved_in chemotaxis.ERK1 involved_in chemotaxis.ERK1 involved_in cell surface receptor signaling pathway.ERK1 involved_in cell surface receptor signaling pathway.ERK1 involved_in chemotaxis.ERK1 involved\n",
      "\n",
      "actual_summary\n",
      "\n",
      "The CXC chemokine stromal cell-derived factor activates a Gi-coupled phosphoinositide 3-kinase in T lymphocytes.AKT1 enables protein kinase activity; involved_in G protein-coupled receptor signaling pathway. <|pad|> <|pad|> <|pad|> <|pad|> <|pad|> <|pad|> <|pad|> <|pad|> <|pad|> <|pad|> <|pad|> <|pad|> <|pad|> <|pad|> <|pad|> <|pad|> <|pad|> <|pad|> <|pad|> <|pad|> <|pad|> <|pad|> <|pad|> <|pad|> <|pad|> <|pad|> <|pad|> <|pad|> <|pad|> <|pad|> <|pad|> <|pad|> <|pad|> <|pad|> <|pad|> <|pad|> <|pad|> <|pad|> <|pad|> <|pad|> <|pad|> <|pad|> <|pad|> <|pad|>\n",
      "\n",
      "loss: 0.027000704780220985\n",
      "\n",
      "loss: 0.03510545566678047\n",
      "\n",
      "loss: 0.036261919885873795\n",
      "\n",
      "loss: 0.03894829750061035\n",
      "\n",
      "loss: 0.04592736065387726\n",
      "\n",
      "loss: 0.03874237835407257\n",
      "\n",
      "loss: 0.028953256085515022\n",
      "\n",
      "loss: 0.05076157674193382\n",
      "\n",
      "loss: 0.04406654089689255\n",
      "\n"
     ]
    },
    {
     "data": {
      "application/vnd.jupyter.widget-view+json": {
       "model_id": "7931bdfbb1a74765b3e971f40e609f64",
       "version_major": 2,
       "version_minor": 0
      },
      "text/plain": [
       "Evaluating:   0%|          | 0/770 [00:00<?, ?it/s]"
      ]
     },
     "metadata": {},
     "output_type": "display_data"
    },
    {
     "name": "stdout",
     "output_type": "stream",
     "text": [
      "perplexity: 5.108119010925293\n",
      "After 771 updates: \n",
      "\n"
     ]
    },
    {
     "data": {
      "application/vnd.jupyter.widget-view+json": {
       "model_id": "63d799390c344f77ace492477b5e3b0b",
       "version_major": 2,
       "version_minor": 0
      },
      "text/plain": [
       "  0%|          | 0/100 [00:00<?, ?it/s]"
      ]
     },
     "metadata": {},
     "output_type": "display_data"
    },
    {
     "name": "stdout",
     "output_type": "stream",
     "text": [
      "We report the cDNA deduced primary structure of a wheat germ agglutinin-reactive nuclear pore complex (NPC) protein of rat. The protein, termed Nup98 (for nucleoporin of 98 kDa), contains numerous GLFG and FG repeats and some FXFG repeats and is thus a vertebrate member of a family of GLFG nucleoporins that were previously discovered in yeast. Immunoelectron microscopy showed Nup98 to be asymmetrically located at the nucleoplasmic side of the NPC. Nup98 functions as one of several docking site nucleoporins in a cytosolic docking activity-mediated binding of a model transport substrate. The docking site of Nup98 was mapped to its N-terminal half, which contains all of the peptide repeats. A recombinant segment of this region depleted the docking activity of cytosol. We suggest that the peptide repeat domain of Nup98, together with peptide repeat domains of other nucleoporins, forms an array of sites for mediated docking of transport substrate, and that bidirectional transport across the NPC proceeds by repeated docking and undocking reactions.\n",
      "\n",
      "generated_summary\n",
      "\n"
     ]
    },
    {
     "data": {
      "application/vnd.jupyter.widget-view+json": {
       "model_id": "d407dd84e3574818b36bf7f64c1db74b",
       "version_major": 2,
       "version_minor": 0
      },
      "text/plain": [
       "  0%|          | 0/100 [00:00<?, ?it/s]"
      ]
     },
     "metadata": {},
     "output_type": "display_data"
    },
    {
     "name": "stdout",
     "output_type": "stream",
     "text": [
      "The cellular effects of stromal cell-derived factor-1 (SDF-1) are mediated primarily by binding to the CXC chemokine receptor-4. We report in this study that SDF-1 and its peptide analogues induce a concentration- and time-dependent accumulation of phosphatidylinositol-(3,4,5)-trisphosphate (PtdIns(3,4,5)P3) in Jurkat cells. This SDF-1-stimulated generation of D-3 phosphoinositide lipids was inhibited by pretreatment of the cells with an SDF-1 peptide antagonist or an anti-CXCR4 Ab. In addition, the phosphoinositide 3 (PI 3)-kinase inhibitors wortmannin and LY294002, as well as the Gi protein inhibitor pertussis toxin, also inhibited the SDF-1-stimulated accumulation of PtdIns(3,4,5)P3. The effects of SDF-1 on D-3 phosphoinositide lipid accumulation correlated well with activation of the known PI 3-kinase effector protein kinase B, which was also inhibited by wortmannin and pertussis toxin. Concentrations of PI 3-kinase inhibitors, sufficient to inhibit PtdIns(3,4,5)P3 accumulation, also inhibited chemotaxis of Jurkat and peripheral blood-derived T lymphocytes in response to SDF-1. In contrast, SDF-1-stimulated actin polymerization was only partially inhibited by PI 3-kinase inhibitors, suggesting that while chemotaxis is fully dependent on PI 3-kinase activation, actin polymerization requires additional biochemical inputs. Finally, SDF-1-stimulated extracellular signal-related kinase (ERK)-1/2 mitogen-activated protein kinase activation was inhibited by PI 3-kinase inhibitors. In addition, the mitogen-activated protein/ERK kinase inhibitor PD098059 partially attenuated chemotaxis in response to SDF-1. Hence, it appears that ERK1/2 activation is dependent on PI 3-kinase activation, and both biochemical events are involved in the regulation of SDF-1-stimulated chemotaxis.\n",
      "\n",
      "generated_summary\n",
      "\n",
      "loss: 0.03727642819285393\n",
      "\n",
      "loss: 0.05803414806723595\n",
      "\n",
      "loss: 0.059114180505275726\n",
      "\n",
      "loss: 0.05122413486242294\n",
      "\n",
      "loss: 0.04855946823954582\n",
      "\n",
      "loss: 0.04801030084490776\n",
      "\n",
      "loss: 0.04888661205768585\n",
      "\n",
      "loss: 0.059921085834503174\n",
      "\n",
      "loss: 0.05992718040943146\n",
      "\n",
      "loss: 0.06175396218895912\n",
      "\n"
     ]
    },
    {
     "data": {
      "application/vnd.jupyter.widget-view+json": {
       "model_id": "539552effa3f4d1da4aadb7d1a0630c6",
       "version_major": 2,
       "version_minor": 0
      },
      "text/plain": [
       "Evaluating:   0%|          | 0/770 [00:00<?, ?it/s]"
      ]
     },
     "metadata": {},
     "output_type": "display_data"
    },
    {
     "name": "stdout",
     "output_type": "stream",
     "text": [
      "perplexity: 5.1147894859313965\n",
      "After 781 updates: \n",
      "\n"
     ]
    },
    {
     "data": {
      "application/vnd.jupyter.widget-view+json": {
       "model_id": "777a2642801e4b96ab2b02762a3cc2f5",
       "version_major": 2,
       "version_minor": 0
      },
      "text/plain": [
       "  0%|          | 0/100 [00:00<?, ?it/s]"
      ]
     },
     "metadata": {},
     "output_type": "display_data"
    },
    {
     "name": "stdout",
     "output_type": "stream",
     "text": [
      "We report the cDNA deduced primary structure of a wheat germ agglutinin-reactive nuclear pore complex (NPC) protein of rat. The protein, termed Nup98 (for nucleoporin of 98 kDa), contains numerous GLFG and FG repeats and some FXFG repeats and is thus a vertebrate member of a family of GLFG nucleoporins that were previously discovered in yeast. Immunoelectron microscopy showed Nup98 to be asymmetrically located at the nucleoplasmic side of the NPC. Nup98 functions as one of several docking site nucleoporins in a cytosolic docking activity-mediated binding of a model transport substrate. The docking site of Nup98 was mapped to its N-terminal half, which contains all of the peptide repeats. A recombinant segment of this region depleted the docking activity of cytosol. We suggest that the peptide repeat domain of Nup98, together with peptide repeat domains of other nucleoporins, forms an array of sites for mediated docking of transport substrate, and that bidirectional transport across the NPC proceeds by repeated docking and undocking reactions.\n",
      "\n",
      "generated_summary\n",
      "\n"
     ]
    },
    {
     "data": {
      "application/vnd.jupyter.widget-view+json": {
       "model_id": "8ca50d2f1f3e466c8356824ee80fde56",
       "version_major": 2,
       "version_minor": 0
      },
      "text/plain": [
       "  0%|          | 0/100 [00:00<?, ?it/s]"
      ]
     },
     "metadata": {},
     "output_type": "display_data"
    },
    {
     "name": "stdout",
     "output_type": "stream",
     "text": [
      "The cellular effects of stromal cell-derived factor-1 (SDF-1) are mediated primarily by binding to the CXC chemokine receptor-4. We report in this study that SDF-1 and its peptide analogues induce a concentration- and time-dependent accumulation of phosphatidylinositol-(3,4,5)-trisphosphate (PtdIns(3,4,5)P3) in Jurkat cells. This SDF-1-stimulated generation of D-3 phosphoinositide lipids was inhibited by pretreatment of the cells with an SDF-1 peptide antagonist or an anti-CXCR4 Ab. In addition, the phosphoinositide 3 (PI 3)-kinase inhibitors wortmannin and LY294002, as well as the Gi protein inhibitor pertussis toxin, also inhibited the SDF-1-stimulated accumulation of PtdIns(3,4,5)P3. The effects of SDF-1 on D-3 phosphoinositide lipid accumulation correlated well with activation of the known PI 3-kinase effector protein kinase B, which was also inhibited by wortmannin and pertussis toxin. Concentrations of PI 3-kinase inhibitors, sufficient to inhibit PtdIns(3,4,5)P3 accumulation, also inhibited chemotaxis of Jurkat and peripheral blood-derived T lymphocytes in response to SDF-1. In contrast, SDF-1-stimulated actin polymerization was only partially inhibited by PI 3-kinase inhibitors, suggesting that while chemotaxis is fully dependent on PI 3-kinase activation, actin polymerization requires additional biochemical inputs. Finally, SDF-1-stimulated extracellular signal-related kinase (ERK)-1/2 mitogen-activated protein kinase activation was inhibited by PI 3-kinase inhibitors. In addition, the mitogen-activated protein/ERK kinase inhibitor PD098059 partially attenuated chemotaxis in response to SDF-1. Hence, it appears that ERK1/2 activation is dependent on PI 3-kinase activation, and both biochemical events are involved in the regulation of SDF-1-stimulated chemotaxis.\n",
      "\n",
      "generated_summary\n",
      "\n",
      "loss: 0.04192214831709862\n",
      "\n",
      "loss: 0.06238394230604172\n",
      "\n",
      "loss: 0.04976894333958626\n",
      "\n",
      "loss: 0.059616006910800934\n",
      "\n",
      "loss: 0.05548504739999771\n",
      "\n",
      "loss: 0.045516788959503174\n",
      "\n",
      "loss: 0.04137367382645607\n",
      "\n",
      "loss: 0.06640882790088654\n",
      "\n",
      "loss: 0.03524661436676979\n",
      "\n",
      "loss: 0.04763757437467575\n",
      "\n"
     ]
    },
    {
     "data": {
      "application/vnd.jupyter.widget-view+json": {
       "model_id": "7d96c313b1e74b4d94d16a8e2258fc25",
       "version_major": 2,
       "version_minor": 0
      },
      "text/plain": [
       "Evaluating:   0%|          | 0/770 [00:00<?, ?it/s]"
      ]
     },
     "metadata": {},
     "output_type": "display_data"
    },
    {
     "name": "stdout",
     "output_type": "stream",
     "text": [
      "perplexity: 5.049160957336426\n",
      "After 791 updates: \n",
      "\n"
     ]
    },
    {
     "data": {
      "application/vnd.jupyter.widget-view+json": {
       "model_id": "ac5d0fb3edf94633aa0277b25548581d",
       "version_major": 2,
       "version_minor": 0
      },
      "text/plain": [
       "  0%|          | 0/100 [00:00<?, ?it/s]"
      ]
     },
     "metadata": {},
     "output_type": "display_data"
    },
    {
     "name": "stdout",
     "output_type": "stream",
     "text": [
      "We report the cDNA deduced primary structure of a wheat germ agglutinin-reactive nuclear pore complex (NPC) protein of rat. The protein, termed Nup98 (for nucleoporin of 98 kDa), contains numerous GLFG and FG repeats and some FXFG repeats and is thus a vertebrate member of a family of GLFG nucleoporins that were previously discovered in yeast. Immunoelectron microscopy showed Nup98 to be asymmetrically located at the nucleoplasmic side of the NPC. Nup98 functions as one of several docking site nucleoporins in a cytosolic docking activity-mediated binding of a model transport substrate. The docking site of Nup98 was mapped to its N-terminal half, which contains all of the peptide repeats. A recombinant segment of this region depleted the docking activity of cytosol. We suggest that the peptide repeat domain of Nup98, together with peptide repeat domains of other nucleoporins, forms an array of sites for mediated docking of transport substrate, and that bidirectional transport across the NPC proceeds by repeated docking and undocking reactions.\n",
      "\n",
      "generated_summary\n",
      "\n"
     ]
    },
    {
     "data": {
      "application/vnd.jupyter.widget-view+json": {
       "model_id": "40001d66468d4cc1aab9899f590ac968",
       "version_major": 2,
       "version_minor": 0
      },
      "text/plain": [
       "  0%|          | 0/100 [00:00<?, ?it/s]"
      ]
     },
     "metadata": {},
     "output_type": "display_data"
    },
    {
     "name": "stdout",
     "output_type": "stream",
     "text": [
      "The cellular effects of stromal cell-derived factor-1 (SDF-1) are mediated primarily by binding to the CXC chemokine receptor-4. We report in this study that SDF-1 and its peptide analogues induce a concentration- and time-dependent accumulation of phosphatidylinositol-(3,4,5)-trisphosphate (PtdIns(3,4,5)P3) in Jurkat cells. This SDF-1-stimulated generation of D-3 phosphoinositide lipids was inhibited by pretreatment of the cells with an SDF-1 peptide antagonist or an anti-CXCR4 Ab. In addition, the phosphoinositide 3 (PI 3)-kinase inhibitors wortmannin and LY294002, as well as the Gi protein inhibitor pertussis toxin, also inhibited the SDF-1-stimulated accumulation of PtdIns(3,4,5)P3. The effects of SDF-1 on D-3 phosphoinositide lipid accumulation correlated well with activation of the known PI 3-kinase effector protein kinase B, which was also inhibited by wortmannin and pertussis toxin. Concentrations of PI 3-kinase inhibitors, sufficient to inhibit PtdIns(3,4,5)P3 accumulation, also inhibited chemotaxis of Jurkat and peripheral blood-derived T lymphocytes in response to SDF-1. In contrast, SDF-1-stimulated actin polymerization was only partially inhibited by PI 3-kinase inhibitors, suggesting that while chemotaxis is fully dependent on PI 3-kinase activation, actin polymerization requires additional biochemical inputs. Finally, SDF-1-stimulated extracellular signal-related kinase (ERK)-1/2 mitogen-activated protein kinase activation was inhibited by PI 3-kinase inhibitors. In addition, the mitogen-activated protein/ERK kinase inhibitor PD098059 partially attenuated chemotaxis in response to SDF-1. Hence, it appears that ERK1/2 activation is dependent on PI 3-kinase activation, and both biochemical events are involved in the regulation of SDF-1-stimulated chemotaxis.\n",
      "\n",
      "generated_summary\n",
      "\n",
      "loss: 0.057800501585006714\n",
      "\n",
      "loss: 0.05522534251213074\n",
      "\n",
      "loss: 0.04001346975564957\n",
      "\n",
      "loss: 0.039197806268930435\n",
      "\n",
      "loss: 0.02194380946457386\n",
      "\n",
      "loss: 0.031037595123052597\n",
      "\n",
      "loss: 0.05592046305537224\n",
      "\n",
      "loss: 0.05148454010486603\n",
      "\n",
      "loss: 0.051162902265787125\n",
      "\n",
      "loss: 0.047622520476579666\n",
      "\n"
     ]
    },
    {
     "data": {
      "application/vnd.jupyter.widget-view+json": {
       "model_id": "ca7d29a55e554bb4b890357f7a54b84b",
       "version_major": 2,
       "version_minor": 0
      },
      "text/plain": [
       "Evaluating:   0%|          | 0/770 [00:00<?, ?it/s]"
      ]
     },
     "metadata": {},
     "output_type": "display_data"
    },
    {
     "name": "stdout",
     "output_type": "stream",
     "text": [
      "perplexity: 5.100847244262695\n",
      "After 801 updates: \n",
      "\n"
     ]
    },
    {
     "data": {
      "application/vnd.jupyter.widget-view+json": {
       "model_id": "dde98dcebac9442590dade53ec21943e",
       "version_major": 2,
       "version_minor": 0
      },
      "text/plain": [
       "  0%|          | 0/100 [00:00<?, ?it/s]"
      ]
     },
     "metadata": {},
     "output_type": "display_data"
    },
    {
     "name": "stdout",
     "output_type": "stream",
     "text": [
      "We report the cDNA deduced primary structure of a wheat germ agglutinin-reactive nuclear pore complex (NPC) protein of rat. The protein, termed Nup98 (for nucleoporin of 98 kDa), contains numerous GLFG and FG repeats and some FXFG repeats and is thus a vertebrate member of a family of GLFG nucleoporins that were previously discovered in yeast. Immunoelectron microscopy showed Nup98 to be asymmetrically located at the nucleoplasmic side of the NPC. Nup98 functions as one of several docking site nucleoporins in a cytosolic docking activity-mediated binding of a model transport substrate. The docking site of Nup98 was mapped to its N-terminal half, which contains all of the peptide repeats. A recombinant segment of this region depleted the docking activity of cytosol. We suggest that the peptide repeat domain of Nup98, together with peptide repeat domains of other nucleoporins, forms an array of sites for mediated docking of transport substrate, and that bidirectional transport across the NPC proceeds by repeated docking and undocking reactions.\n",
      "\n",
      "generated_summary\n",
      "\n"
     ]
    },
    {
     "data": {
      "application/vnd.jupyter.widget-view+json": {
       "model_id": "c503f602f847432fa873c2f3e98e5b7f",
       "version_major": 2,
       "version_minor": 0
      },
      "text/plain": [
       "  0%|          | 0/100 [00:00<?, ?it/s]"
      ]
     },
     "metadata": {},
     "output_type": "display_data"
    },
    {
     "name": "stdout",
     "output_type": "stream",
     "text": [
      "The cellular effects of stromal cell-derived factor-1 (SDF-1) are mediated primarily by binding to the CXC chemokine receptor-4. We report in this study that SDF-1 and its peptide analogues induce a concentration- and time-dependent accumulation of phosphatidylinositol-(3,4,5)-trisphosphate (PtdIns(3,4,5)P3) in Jurkat cells. This SDF-1-stimulated generation of D-3 phosphoinositide lipids was inhibited by pretreatment of the cells with an SDF-1 peptide antagonist or an anti-CXCR4 Ab. In addition, the phosphoinositide 3 (PI 3)-kinase inhibitors wortmannin and LY294002, as well as the Gi protein inhibitor pertussis toxin, also inhibited the SDF-1-stimulated accumulation of PtdIns(3,4,5)P3. The effects of SDF-1 on D-3 phosphoinositide lipid accumulation correlated well with activation of the known PI 3-kinase effector protein kinase B, which was also inhibited by wortmannin and pertussis toxin. Concentrations of PI 3-kinase inhibitors, sufficient to inhibit PtdIns(3,4,5)P3 accumulation, also inhibited chemotaxis of Jurkat and peripheral blood-derived T lymphocytes in response to SDF-1. In contrast, SDF-1-stimulated actin polymerization was only partially inhibited by PI 3-kinase inhibitors, suggesting that while chemotaxis is fully dependent on PI 3-kinase activation, actin polymerization requires additional biochemical inputs. Finally, SDF-1-stimulated extracellular signal-related kinase (ERK)-1/2 mitogen-activated protein kinase activation was inhibited by PI 3-kinase inhibitors. In addition, the mitogen-activated protein/ERK kinase inhibitor PD098059 partially attenuated chemotaxis in response to SDF-1. Hence, it appears that ERK1/2 activation is dependent on PI 3-kinase activation, and both biochemical events are involved in the regulation of SDF-1-stimulated chemotaxis.\n",
      "\n",
      "generated_summary\n",
      "\n",
      "loss: 0.04506925493478775\n",
      "\n",
      "loss: 0.045865193009376526\n",
      "\n",
      "loss: 0.06005963310599327\n",
      "\n",
      "loss: 0.029333915561437607\n",
      "\n",
      "loss: 0.0611901693046093\n",
      "\n",
      "loss: 0.0764024555683136\n",
      "\n",
      "loss: 0.05601125955581665\n",
      "\n",
      "loss: 0.018702145665884018\n",
      "\n",
      "loss: 0.05155251920223236\n",
      "\n",
      "loss: 0.08041083067655563\n",
      "\n"
     ]
    },
    {
     "data": {
      "application/vnd.jupyter.widget-view+json": {
       "model_id": "8c0c0fdd3ecb4e698dc1609fe05d5a87",
       "version_major": 2,
       "version_minor": 0
      },
      "text/plain": [
       "Evaluating:   0%|          | 0/770 [00:00<?, ?it/s]"
      ]
     },
     "metadata": {},
     "output_type": "display_data"
    },
    {
     "name": "stdout",
     "output_type": "stream",
     "text": [
      "perplexity: 5.090061187744141\n",
      "After 811 updates: \n",
      "\n"
     ]
    },
    {
     "data": {
      "application/vnd.jupyter.widget-view+json": {
       "model_id": "9356a1f22a78436f92f97a5f3e3924bd",
       "version_major": 2,
       "version_minor": 0
      },
      "text/plain": [
       "  0%|          | 0/100 [00:00<?, ?it/s]"
      ]
     },
     "metadata": {},
     "output_type": "display_data"
    },
    {
     "name": "stdout",
     "output_type": "stream",
     "text": [
      "We report the cDNA deduced primary structure of a wheat germ agglutinin-reactive nuclear pore complex (NPC) protein of rat. The protein, termed Nup98 (for nucleoporin of 98 kDa), contains numerous GLFG and FG repeats and some FXFG repeats and is thus a vertebrate member of a family of GLFG nucleoporins that were previously discovered in yeast. Immunoelectron microscopy showed Nup98 to be asymmetrically located at the nucleoplasmic side of the NPC. Nup98 functions as one of several docking site nucleoporins in a cytosolic docking activity-mediated binding of a model transport substrate. The docking site of Nup98 was mapped to its N-terminal half, which contains all of the peptide repeats. A recombinant segment of this region depleted the docking activity of cytosol. We suggest that the peptide repeat domain of Nup98, together with peptide repeat domains of other nucleoporins, forms an array of sites for mediated docking of transport substrate, and that bidirectional transport across the NPC proceeds by repeated docking and undocking reactions.\n",
      "\n",
      "generated_summary\n",
      "\n"
     ]
    },
    {
     "data": {
      "application/vnd.jupyter.widget-view+json": {
       "model_id": "84d852ae934146e39192e517aa3f0117",
       "version_major": 2,
       "version_minor": 0
      },
      "text/plain": [
       "  0%|          | 0/100 [00:00<?, ?it/s]"
      ]
     },
     "metadata": {},
     "output_type": "display_data"
    },
    {
     "name": "stdout",
     "output_type": "stream",
     "text": [
      "The cellular effects of stromal cell-derived factor-1 (SDF-1) are mediated primarily by binding to the CXC chemokine receptor-4. We report in this study that SDF-1 and its peptide analogues induce a concentration- and time-dependent accumulation of phosphatidylinositol-(3,4,5)-trisphosphate (PtdIns(3,4,5)P3) in Jurkat cells. This SDF-1-stimulated generation of D-3 phosphoinositide lipids was inhibited by pretreatment of the cells with an SDF-1 peptide antagonist or an anti-CXCR4 Ab. In addition, the phosphoinositide 3 (PI 3)-kinase inhibitors wortmannin and LY294002, as well as the Gi protein inhibitor pertussis toxin, also inhibited the SDF-1-stimulated accumulation of PtdIns(3,4,5)P3. The effects of SDF-1 on D-3 phosphoinositide lipid accumulation correlated well with activation of the known PI 3-kinase effector protein kinase B, which was also inhibited by wortmannin and pertussis toxin. Concentrations of PI 3-kinase inhibitors, sufficient to inhibit PtdIns(3,4,5)P3 accumulation, also inhibited chemotaxis of Jurkat and peripheral blood-derived T lymphocytes in response to SDF-1. In contrast, SDF-1-stimulated actin polymerization was only partially inhibited by PI 3-kinase inhibitors, suggesting that while chemotaxis is fully dependent on PI 3-kinase activation, actin polymerization requires additional biochemical inputs. Finally, SDF-1-stimulated extracellular signal-related kinase (ERK)-1/2 mitogen-activated protein kinase activation was inhibited by PI 3-kinase inhibitors. In addition, the mitogen-activated protein/ERK kinase inhibitor PD098059 partially attenuated chemotaxis in response to SDF-1. Hence, it appears that ERK1/2 activation is dependent on PI 3-kinase activation, and both biochemical events are involved in the regulation of SDF-1-stimulated chemotaxis.\n",
      "\n",
      "generated_summary\n",
      "\n",
      "loss: 0.039914440363645554\n",
      "\n",
      "loss: 0.05544698238372803\n",
      "\n",
      "loss: 0.054128244519233704\n",
      "\n",
      "loss: 0.058712899684906006\n",
      "\n",
      "loss: 0.04377003386616707\n",
      "\n",
      "loss: 0.047089722007513046\n",
      "\n",
      "loss: 0.04206524416804314\n",
      "\n",
      "loss: 0.04504111409187317\n",
      "\n",
      "loss: 0.05183640867471695\n",
      "\n",
      "loss: 0.04499976709485054\n",
      "\n"
     ]
    },
    {
     "data": {
      "application/vnd.jupyter.widget-view+json": {
       "model_id": "e393c683af70414e95220a629a19aa10",
       "version_major": 2,
       "version_minor": 0
      },
      "text/plain": [
       "Evaluating:   0%|          | 0/770 [00:00<?, ?it/s]"
      ]
     },
     "metadata": {},
     "output_type": "display_data"
    },
    {
     "name": "stdout",
     "output_type": "stream",
     "text": [
      "perplexity: 5.106318950653076\n",
      "After 821 updates: \n",
      "\n"
     ]
    },
    {
     "data": {
      "application/vnd.jupyter.widget-view+json": {
       "model_id": "dd00fa1259f946c6ab970af03462a717",
       "version_major": 2,
       "version_minor": 0
      },
      "text/plain": [
       "  0%|          | 0/100 [00:00<?, ?it/s]"
      ]
     },
     "metadata": {},
     "output_type": "display_data"
    },
    {
     "name": "stdout",
     "output_type": "stream",
     "text": [
      "We report the cDNA deduced primary structure of a wheat germ agglutinin-reactive nuclear pore complex (NPC) protein of rat. The protein, termed Nup98 (for nucleoporin of 98 kDa), contains numerous GLFG and FG repeats and some FXFG repeats and is thus a vertebrate member of a family of GLFG nucleoporins that were previously discovered in yeast. Immunoelectron microscopy showed Nup98 to be asymmetrically located at the nucleoplasmic side of the NPC. Nup98 functions as one of several docking site nucleoporins in a cytosolic docking activity-mediated binding of a model transport substrate. The docking site of Nup98 was mapped to its N-terminal half, which contains all of the peptide repeats. A recombinant segment of this region depleted the docking activity of cytosol. We suggest that the peptide repeat domain of Nup98, together with peptide repeat domains of other nucleoporins, forms an array of sites for mediated docking of transport substrate, and that bidirectional transport across the NPC proceeds by repeated docking and undocking reactions.\n",
      "\n",
      "generated_summary\n",
      "\n"
     ]
    },
    {
     "data": {
      "application/vnd.jupyter.widget-view+json": {
       "model_id": "c772c942bdd44386aa17bb94d8bde684",
       "version_major": 2,
       "version_minor": 0
      },
      "text/plain": [
       "  0%|          | 0/100 [00:00<?, ?it/s]"
      ]
     },
     "metadata": {},
     "output_type": "display_data"
    },
    {
     "name": "stdout",
     "output_type": "stream",
     "text": [
      "The cellular effects of stromal cell-derived factor-1 (SDF-1) are mediated primarily by binding to the CXC chemokine receptor-4. We report in this study that SDF-1 and its peptide analogues induce a concentration- and time-dependent accumulation of phosphatidylinositol-(3,4,5)-trisphosphate (PtdIns(3,4,5)P3) in Jurkat cells. This SDF-1-stimulated generation of D-3 phosphoinositide lipids was inhibited by pretreatment of the cells with an SDF-1 peptide antagonist or an anti-CXCR4 Ab. In addition, the phosphoinositide 3 (PI 3)-kinase inhibitors wortmannin and LY294002, as well as the Gi protein inhibitor pertussis toxin, also inhibited the SDF-1-stimulated accumulation of PtdIns(3,4,5)P3. The effects of SDF-1 on D-3 phosphoinositide lipid accumulation correlated well with activation of the known PI 3-kinase effector protein kinase B, which was also inhibited by wortmannin and pertussis toxin. Concentrations of PI 3-kinase inhibitors, sufficient to inhibit PtdIns(3,4,5)P3 accumulation, also inhibited chemotaxis of Jurkat and peripheral blood-derived T lymphocytes in response to SDF-1. In contrast, SDF-1-stimulated actin polymerization was only partially inhibited by PI 3-kinase inhibitors, suggesting that while chemotaxis is fully dependent on PI 3-kinase activation, actin polymerization requires additional biochemical inputs. Finally, SDF-1-stimulated extracellular signal-related kinase (ERK)-1/2 mitogen-activated protein kinase activation was inhibited by PI 3-kinase inhibitors. In addition, the mitogen-activated protein/ERK kinase inhibitor PD098059 partially attenuated chemotaxis in response to SDF-1. Hence, it appears that ERK1/2 activation is dependent on PI 3-kinase activation, and both biochemical events are involved in the regulation of SDF-1-stimulated chemotaxis.\n",
      "\n",
      "generated_summary\n",
      "\n",
      "loss: 0.0563088059425354\n",
      "\n",
      "loss: 0.0629081055521965\n",
      "\n",
      "loss: 0.05741210654377937\n",
      "\n",
      "loss: 0.04643810912966728\n",
      "\n",
      "loss: 0.045013606548309326\n",
      "\n",
      "loss: 0.06409800797700882\n",
      "\n",
      "loss: 0.0653553158044815\n",
      "\n",
      "loss: 0.04829039052128792\n",
      "\n",
      "loss: 0.052150383591651917\n",
      "\n",
      "loss: 0.043393753468990326\n",
      "\n"
     ]
    },
    {
     "data": {
      "application/vnd.jupyter.widget-view+json": {
       "model_id": "e187e037daa84c3d99b9819123644c76",
       "version_major": 2,
       "version_minor": 0
      },
      "text/plain": [
       "Evaluating:   0%|          | 0/770 [00:00<?, ?it/s]"
      ]
     },
     "metadata": {},
     "output_type": "display_data"
    },
    {
     "name": "stdout",
     "output_type": "stream",
     "text": [
      "perplexity: 5.089588642120361\n",
      "After 831 updates: \n",
      "\n"
     ]
    },
    {
     "data": {
      "application/vnd.jupyter.widget-view+json": {
       "model_id": "94194e93b07a47429c273f797381eec6",
       "version_major": 2,
       "version_minor": 0
      },
      "text/plain": [
       "  0%|          | 0/100 [00:00<?, ?it/s]"
      ]
     },
     "metadata": {},
     "output_type": "display_data"
    },
    {
     "name": "stdout",
     "output_type": "stream",
     "text": [
      "We report the cDNA deduced primary structure of a wheat germ agglutinin-reactive nuclear pore complex (NPC) protein of rat. The protein, termed Nup98 (for nucleoporin of 98 kDa), contains numerous GLFG and FG repeats and some FXFG repeats and is thus a vertebrate member of a family of GLFG nucleoporins that were previously discovered in yeast. Immunoelectron microscopy showed Nup98 to be asymmetrically located at the nucleoplasmic side of the NPC. Nup98 functions as one of several docking site nucleoporins in a cytosolic docking activity-mediated binding of a model transport substrate. The docking site of Nup98 was mapped to its N-terminal half, which contains all of the peptide repeats. A recombinant segment of this region depleted the docking activity of cytosol. We suggest that the peptide repeat domain of Nup98, together with peptide repeat domains of other nucleoporins, forms an array of sites for mediated docking of transport substrate, and that bidirectional transport across the NPC proceeds by repeated docking and undocking reactions.\n",
      "\n",
      "generated_summary\n",
      "\n"
     ]
    },
    {
     "data": {
      "application/vnd.jupyter.widget-view+json": {
       "model_id": "c4a08dabf1b3464d9cc4b9a915730dc0",
       "version_major": 2,
       "version_minor": 0
      },
      "text/plain": [
       "  0%|          | 0/100 [00:00<?, ?it/s]"
      ]
     },
     "metadata": {},
     "output_type": "display_data"
    },
    {
     "name": "stdout",
     "output_type": "stream",
     "text": [
      "The cellular effects of stromal cell-derived factor-1 (SDF-1) are mediated primarily by binding to the CXC chemokine receptor-4. We report in this study that SDF-1 and its peptide analogues induce a concentration- and time-dependent accumulation of phosphatidylinositol-(3,4,5)-trisphosphate (PtdIns(3,4,5)P3) in Jurkat cells. This SDF-1-stimulated generation of D-3 phosphoinositide lipids was inhibited by pretreatment of the cells with an SDF-1 peptide antagonist or an anti-CXCR4 Ab. In addition, the phosphoinositide 3 (PI 3)-kinase inhibitors wortmannin and LY294002, as well as the Gi protein inhibitor pertussis toxin, also inhibited the SDF-1-stimulated accumulation of PtdIns(3,4,5)P3. The effects of SDF-1 on D-3 phosphoinositide lipid accumulation correlated well with activation of the known PI 3-kinase effector protein kinase B, which was also inhibited by wortmannin and pertussis toxin. Concentrations of PI 3-kinase inhibitors, sufficient to inhibit PtdIns(3,4,5)P3 accumulation, also inhibited chemotaxis of Jurkat and peripheral blood-derived T lymphocytes in response to SDF-1. In contrast, SDF-1-stimulated actin polymerization was only partially inhibited by PI 3-kinase inhibitors, suggesting that while chemotaxis is fully dependent on PI 3-kinase activation, actin polymerization requires additional biochemical inputs. Finally, SDF-1-stimulated extracellular signal-related kinase (ERK)-1/2 mitogen-activated protein kinase activation was inhibited by PI 3-kinase inhibitors. In addition, the mitogen-activated protein/ERK kinase inhibitor PD098059 partially attenuated chemotaxis in response to SDF-1. Hence, it appears that ERK1/2 activation is dependent on PI 3-kinase activation, and both biochemical events are involved in the regulation of SDF-1-stimulated chemotaxis.\n",
      "\n",
      "generated_summary\n",
      "\n",
      "loss: 0.05008188635110855\n",
      "\n",
      "loss: 0.054461635649204254\n",
      "\n",
      "loss: 0.056300751864910126\n",
      "\n",
      "loss: 0.07065082341432571\n",
      "\n",
      "loss: 0.044037409126758575\n",
      "\n",
      "loss: 0.053095731884241104\n",
      "\n",
      "loss: 0.07216540724039078\n",
      "\n",
      "loss: 0.049999069422483444\n",
      "\n",
      "loss: 0.01953619159758091\n",
      "\n",
      "loss: 0.07291153818368912\n",
      "\n"
     ]
    },
    {
     "data": {
      "application/vnd.jupyter.widget-view+json": {
       "model_id": "851f21d03bd44a73a87385d76457b4e9",
       "version_major": 2,
       "version_minor": 0
      },
      "text/plain": [
       "Evaluating:   0%|          | 0/770 [00:00<?, ?it/s]"
      ]
     },
     "metadata": {},
     "output_type": "display_data"
    },
    {
     "name": "stdout",
     "output_type": "stream",
     "text": [
      "perplexity: 5.047598838806152\n",
      "After 841 updates: \n",
      "\n"
     ]
    },
    {
     "data": {
      "application/vnd.jupyter.widget-view+json": {
       "model_id": "c6fc60a5e8c145adae9a8b553d746209",
       "version_major": 2,
       "version_minor": 0
      },
      "text/plain": [
       "  0%|          | 0/100 [00:00<?, ?it/s]"
      ]
     },
     "metadata": {},
     "output_type": "display_data"
    },
    {
     "name": "stdout",
     "output_type": "stream",
     "text": [
      "We report the cDNA deduced primary structure of a wheat germ agglutinin-reactive nuclear pore complex (NPC) protein of rat. The protein, termed Nup98 (for nucleoporin of 98 kDa), contains numerous GLFG and FG repeats and some FXFG repeats and is thus a vertebrate member of a family of GLFG nucleoporins that were previously discovered in yeast. Immunoelectron microscopy showed Nup98 to be asymmetrically located at the nucleoplasmic side of the NPC. Nup98 functions as one of several docking site nucleoporins in a cytosolic docking activity-mediated binding of a model transport substrate. The docking site of Nup98 was mapped to its N-terminal half, which contains all of the peptide repeats. A recombinant segment of this region depleted the docking activity of cytosol. We suggest that the peptide repeat domain of Nup98, together with peptide repeat domains of other nucleoporins, forms an array of sites for mediated docking of transport substrate, and that bidirectional transport across the NPC proceeds by repeated docking and undocking reactions.\n",
      "\n",
      "generated_summary\n",
      "\n"
     ]
    },
    {
     "data": {
      "application/vnd.jupyter.widget-view+json": {
       "model_id": "9da6eb796b11409a85dce563c3ea5bfc",
       "version_major": 2,
       "version_minor": 0
      },
      "text/plain": [
       "  0%|          | 0/100 [00:00<?, ?it/s]"
      ]
     },
     "metadata": {},
     "output_type": "display_data"
    },
    {
     "name": "stdout",
     "output_type": "stream",
     "text": [
      "The cellular effects of stromal cell-derived factor-1 (SDF-1) are mediated primarily by binding to the CXC chemokine receptor-4. We report in this study that SDF-1 and its peptide analogues induce a concentration- and time-dependent accumulation of phosphatidylinositol-(3,4,5)-trisphosphate (PtdIns(3,4,5)P3) in Jurkat cells. This SDF-1-stimulated generation of D-3 phosphoinositide lipids was inhibited by pretreatment of the cells with an SDF-1 peptide antagonist or an anti-CXCR4 Ab. In addition, the phosphoinositide 3 (PI 3)-kinase inhibitors wortmannin and LY294002, as well as the Gi protein inhibitor pertussis toxin, also inhibited the SDF-1-stimulated accumulation of PtdIns(3,4,5)P3. The effects of SDF-1 on D-3 phosphoinositide lipid accumulation correlated well with activation of the known PI 3-kinase effector protein kinase B, which was also inhibited by wortmannin and pertussis toxin. Concentrations of PI 3-kinase inhibitors, sufficient to inhibit PtdIns(3,4,5)P3 accumulation, also inhibited chemotaxis of Jurkat and peripheral blood-derived T lymphocytes in response to SDF-1. In contrast, SDF-1-stimulated actin polymerization was only partially inhibited by PI 3-kinase inhibitors, suggesting that while chemotaxis is fully dependent on PI 3-kinase activation, actin polymerization requires additional biochemical inputs. Finally, SDF-1-stimulated extracellular signal-related kinase (ERK)-1/2 mitogen-activated protein kinase activation was inhibited by PI 3-kinase inhibitors. In addition, the mitogen-activated protein/ERK kinase inhibitor PD098059 partially attenuated chemotaxis in response to SDF-1. Hence, it appears that ERK1/2 activation is dependent on PI 3-kinase activation, and both biochemical events are involved in the regulation of SDF-1-stimulated chemotaxis.\n",
      "\n",
      "generated_summary\n",
      "\n",
      "loss: 0.04145621135830879\n",
      "\n",
      "loss: 0.03894857317209244\n",
      "\n",
      "loss: 0.04308179393410683\n",
      "\n",
      "loss: 0.044465623795986176\n",
      "\n",
      "loss: 0.06836209446191788\n",
      "\n",
      "loss: 0.04779204726219177\n",
      "\n",
      "loss: 0.05469090864062309\n",
      "\n",
      "loss: 0.04967315495014191\n",
      "\n",
      "loss: 0.05076351761817932\n",
      "\n",
      "loss: 0.07120384275913239\n",
      "\n"
     ]
    },
    {
     "data": {
      "application/vnd.jupyter.widget-view+json": {
       "model_id": "2d75ada698104456aa7216fdc3a71fb1",
       "version_major": 2,
       "version_minor": 0
      },
      "text/plain": [
       "Evaluating:   0%|          | 0/770 [00:00<?, ?it/s]"
      ]
     },
     "metadata": {},
     "output_type": "display_data"
    },
    {
     "name": "stdout",
     "output_type": "stream",
     "text": [
      "perplexity: 5.043426513671875\n",
      "After 851 updates: \n",
      "\n"
     ]
    },
    {
     "data": {
      "application/vnd.jupyter.widget-view+json": {
       "model_id": "45789dcd9ea045cabaef2e649fc93b2a",
       "version_major": 2,
       "version_minor": 0
      },
      "text/plain": [
       "  0%|          | 0/100 [00:00<?, ?it/s]"
      ]
     },
     "metadata": {},
     "output_type": "display_data"
    },
    {
     "name": "stdout",
     "output_type": "stream",
     "text": [
      "We report the cDNA deduced primary structure of a wheat germ agglutinin-reactive nuclear pore complex (NPC) protein of rat. The protein, termed Nup98 (for nucleoporin of 98 kDa), contains numerous GLFG and FG repeats and some FXFG repeats and is thus a vertebrate member of a family of GLFG nucleoporins that were previously discovered in yeast. Immunoelectron microscopy showed Nup98 to be asymmetrically located at the nucleoplasmic side of the NPC. Nup98 functions as one of several docking site nucleoporins in a cytosolic docking activity-mediated binding of a model transport substrate. The docking site of Nup98 was mapped to its N-terminal half, which contains all of the peptide repeats. A recombinant segment of this region depleted the docking activity of cytosol. We suggest that the peptide repeat domain of Nup98, together with peptide repeat domains of other nucleoporins, forms an array of sites for mediated docking of transport substrate, and that bidirectional transport across the NPC proceeds by repeated docking and undocking reactions.\n",
      "\n",
      "generated_summary\n",
      "\n"
     ]
    },
    {
     "data": {
      "application/vnd.jupyter.widget-view+json": {
       "model_id": "786e3b47de5d43deb53943d934585a6d",
       "version_major": 2,
       "version_minor": 0
      },
      "text/plain": [
       "  0%|          | 0/100 [00:00<?, ?it/s]"
      ]
     },
     "metadata": {},
     "output_type": "display_data"
    },
    {
     "name": "stdout",
     "output_type": "stream",
     "text": [
      "The cellular effects of stromal cell-derived factor-1 (SDF-1) are mediated primarily by binding to the CXC chemokine receptor-4. We report in this study that SDF-1 and its peptide analogues induce a concentration- and time-dependent accumulation of phosphatidylinositol-(3,4,5)-trisphosphate (PtdIns(3,4,5)P3) in Jurkat cells. This SDF-1-stimulated generation of D-3 phosphoinositide lipids was inhibited by pretreatment of the cells with an SDF-1 peptide antagonist or an anti-CXCR4 Ab. In addition, the phosphoinositide 3 (PI 3)-kinase inhibitors wortmannin and LY294002, as well as the Gi protein inhibitor pertussis toxin, also inhibited the SDF-1-stimulated accumulation of PtdIns(3,4,5)P3. The effects of SDF-1 on D-3 phosphoinositide lipid accumulation correlated well with activation of the known PI 3-kinase effector protein kinase B, which was also inhibited by wortmannin and pertussis toxin. Concentrations of PI 3-kinase inhibitors, sufficient to inhibit PtdIns(3,4,5)P3 accumulation, also inhibited chemotaxis of Jurkat and peripheral blood-derived T lymphocytes in response to SDF-1. In contrast, SDF-1-stimulated actin polymerization was only partially inhibited by PI 3-kinase inhibitors, suggesting that while chemotaxis is fully dependent on PI 3-kinase activation, actin polymerization requires additional biochemical inputs. Finally, SDF-1-stimulated extracellular signal-related kinase (ERK)-1/2 mitogen-activated protein kinase activation was inhibited by PI 3-kinase inhibitors. In addition, the mitogen-activated protein/ERK kinase inhibitor PD098059 partially attenuated chemotaxis in response to SDF-1. Hence, it appears that ERK1/2 activation is dependent on PI 3-kinase activation, and both biochemical events are involved in the regulation of SDF-1-stimulated chemotaxis.\n",
      "\n",
      "generated_summary\n",
      "\n",
      "loss: 0.03977614641189575\n",
      "\n",
      "loss: 0.04184246063232422\n",
      "\n",
      "loss: 0.042449649423360825\n",
      "\n",
      "loss: 0.022740891203284264\n",
      "\n",
      "loss: 0.03061935119330883\n",
      "\n",
      "loss: 0.055764876306056976\n",
      "\n",
      "loss: 0.0370282381772995\n",
      "\n",
      "loss: 0.08219268918037415\n",
      "\n",
      "loss: 0.04127010703086853\n",
      "\n",
      "loss: 0.05144469439983368\n",
      "\n"
     ]
    },
    {
     "data": {
      "application/vnd.jupyter.widget-view+json": {
       "model_id": "ce75e01392104baa81e9766bca106ca1",
       "version_major": 2,
       "version_minor": 0
      },
      "text/plain": [
       "Evaluating:   0%|          | 0/770 [00:00<?, ?it/s]"
      ]
     },
     "metadata": {},
     "output_type": "display_data"
    },
    {
     "name": "stdout",
     "output_type": "stream",
     "text": [
      "perplexity: 4.984348297119141\n",
      "After 861 updates: \n",
      "\n"
     ]
    },
    {
     "data": {
      "application/vnd.jupyter.widget-view+json": {
       "model_id": "9a3a0384b79c4b15bfd262e692275e5a",
       "version_major": 2,
       "version_minor": 0
      },
      "text/plain": [
       "  0%|          | 0/100 [00:00<?, ?it/s]"
      ]
     },
     "metadata": {},
     "output_type": "display_data"
    },
    {
     "name": "stdout",
     "output_type": "stream",
     "text": [
      "We report the cDNA deduced primary structure of a wheat germ agglutinin-reactive nuclear pore complex (NPC) protein of rat. The protein, termed Nup98 (for nucleoporin of 98 kDa), contains numerous GLFG and FG repeats and some FXFG repeats and is thus a vertebrate member of a family of GLFG nucleoporins that were previously discovered in yeast. Immunoelectron microscopy showed Nup98 to be asymmetrically located at the nucleoplasmic side of the NPC. Nup98 functions as one of several docking site nucleoporins in a cytosolic docking activity-mediated binding of a model transport substrate. The docking site of Nup98 was mapped to its N-terminal half, which contains all of the peptide repeats. A recombinant segment of this region depleted the docking activity of cytosol. We suggest that the peptide repeat domain of Nup98, together with peptide repeat domains of other nucleoporins, forms an array of sites for mediated docking of transport substrate, and that bidirectional transport across the NPC proceeds by repeated docking and undocking reactions.\n",
      "\n",
      "generated_summary\n",
      "\n"
     ]
    },
    {
     "data": {
      "application/vnd.jupyter.widget-view+json": {
       "model_id": "ee294f2706b746719f5cd9f3ea16bcf7",
       "version_major": 2,
       "version_minor": 0
      },
      "text/plain": [
       "  0%|          | 0/100 [00:00<?, ?it/s]"
      ]
     },
     "metadata": {},
     "output_type": "display_data"
    },
    {
     "name": "stdout",
     "output_type": "stream",
     "text": [
      "The cellular effects of stromal cell-derived factor-1 (SDF-1) are mediated primarily by binding to the CXC chemokine receptor-4. We report in this study that SDF-1 and its peptide analogues induce a concentration- and time-dependent accumulation of phosphatidylinositol-(3,4,5)-trisphosphate (PtdIns(3,4,5)P3) in Jurkat cells. This SDF-1-stimulated generation of D-3 phosphoinositide lipids was inhibited by pretreatment of the cells with an SDF-1 peptide antagonist or an anti-CXCR4 Ab. In addition, the phosphoinositide 3 (PI 3)-kinase inhibitors wortmannin and LY294002, as well as the Gi protein inhibitor pertussis toxin, also inhibited the SDF-1-stimulated accumulation of PtdIns(3,4,5)P3. The effects of SDF-1 on D-3 phosphoinositide lipid accumulation correlated well with activation of the known PI 3-kinase effector protein kinase B, which was also inhibited by wortmannin and pertussis toxin. Concentrations of PI 3-kinase inhibitors, sufficient to inhibit PtdIns(3,4,5)P3 accumulation, also inhibited chemotaxis of Jurkat and peripheral blood-derived T lymphocytes in response to SDF-1. In contrast, SDF-1-stimulated actin polymerization was only partially inhibited by PI 3-kinase inhibitors, suggesting that while chemotaxis is fully dependent on PI 3-kinase activation, actin polymerization requires additional biochemical inputs. Finally, SDF-1-stimulated extracellular signal-related kinase (ERK)-1/2 mitogen-activated protein kinase activation was inhibited by PI 3-kinase inhibitors. In addition, the mitogen-activated protein/ERK kinase inhibitor PD098059 partially attenuated chemotaxis in response to SDF-1. Hence, it appears that ERK1/2 activation is dependent on PI 3-kinase activation, and both biochemical events are involved in the regulation of SDF-1-stimulated chemotaxis.\n",
      "\n",
      "generated_summary\n",
      "\n",
      "loss: 0.04180964082479477\n",
      "\n",
      "loss: 0.034467052668333054\n",
      "\n",
      "loss: 0.05757409706711769\n",
      "\n",
      "loss: 0.042043909430503845\n",
      "\n",
      "loss: 0.05795319378376007\n",
      "\n",
      "loss: 0.052308280020952225\n",
      "\n",
      "loss: 0.0496969111263752\n",
      "\n",
      "loss: 0.04276583716273308\n",
      "\n",
      "loss: 0.05566469579935074\n",
      "\n",
      "loss: 0.06756173074245453\n",
      "\n"
     ]
    },
    {
     "data": {
      "application/vnd.jupyter.widget-view+json": {
       "model_id": "fc65754c40ce4c7aac67b12367b68fe7",
       "version_major": 2,
       "version_minor": 0
      },
      "text/plain": [
       "Evaluating:   0%|          | 0/770 [00:00<?, ?it/s]"
      ]
     },
     "metadata": {},
     "output_type": "display_data"
    },
    {
     "name": "stdout",
     "output_type": "stream",
     "text": [
      "perplexity: 4.975679397583008\n",
      "After 871 updates: \n",
      "\n"
     ]
    },
    {
     "data": {
      "application/vnd.jupyter.widget-view+json": {
       "model_id": "e28c584fae3a4a7197891c20c37421c5",
       "version_major": 2,
       "version_minor": 0
      },
      "text/plain": [
       "  0%|          | 0/100 [00:00<?, ?it/s]"
      ]
     },
     "metadata": {},
     "output_type": "display_data"
    },
    {
     "name": "stdout",
     "output_type": "stream",
     "text": [
      "We report the cDNA deduced primary structure of a wheat germ agglutinin-reactive nuclear pore complex (NPC) protein of rat. The protein, termed Nup98 (for nucleoporin of 98 kDa), contains numerous GLFG and FG repeats and some FXFG repeats and is thus a vertebrate member of a family of GLFG nucleoporins that were previously discovered in yeast. Immunoelectron microscopy showed Nup98 to be asymmetrically located at the nucleoplasmic side of the NPC. Nup98 functions as one of several docking site nucleoporins in a cytosolic docking activity-mediated binding of a model transport substrate. The docking site of Nup98 was mapped to its N-terminal half, which contains all of the peptide repeats. A recombinant segment of this region depleted the docking activity of cytosol. We suggest that the peptide repeat domain of Nup98, together with peptide repeat domains of other nucleoporins, forms an array of sites for mediated docking of transport substrate, and that bidirectional transport across the NPC proceeds by repeated docking and undocking reactions.\n",
      "\n",
      "generated_summary\n",
      "\n"
     ]
    },
    {
     "data": {
      "application/vnd.jupyter.widget-view+json": {
       "model_id": "cdbf13039dc144ada3a051b8bf16d90a",
       "version_major": 2,
       "version_minor": 0
      },
      "text/plain": [
       "  0%|          | 0/100 [00:00<?, ?it/s]"
      ]
     },
     "metadata": {},
     "output_type": "display_data"
    },
    {
     "name": "stdout",
     "output_type": "stream",
     "text": [
      "The cellular effects of stromal cell-derived factor-1 (SDF-1) are mediated primarily by binding to the CXC chemokine receptor-4. We report in this study that SDF-1 and its peptide analogues induce a concentration- and time-dependent accumulation of phosphatidylinositol-(3,4,5)-trisphosphate (PtdIns(3,4,5)P3) in Jurkat cells. This SDF-1-stimulated generation of D-3 phosphoinositide lipids was inhibited by pretreatment of the cells with an SDF-1 peptide antagonist or an anti-CXCR4 Ab. In addition, the phosphoinositide 3 (PI 3)-kinase inhibitors wortmannin and LY294002, as well as the Gi protein inhibitor pertussis toxin, also inhibited the SDF-1-stimulated accumulation of PtdIns(3,4,5)P3. The effects of SDF-1 on D-3 phosphoinositide lipid accumulation correlated well with activation of the known PI 3-kinase effector protein kinase B, which was also inhibited by wortmannin and pertussis toxin. Concentrations of PI 3-kinase inhibitors, sufficient to inhibit PtdIns(3,4,5)P3 accumulation, also inhibited chemotaxis of Jurkat and peripheral blood-derived T lymphocytes in response to SDF-1. In contrast, SDF-1-stimulated actin polymerization was only partially inhibited by PI 3-kinase inhibitors, suggesting that while chemotaxis is fully dependent on PI 3-kinase activation, actin polymerization requires additional biochemical inputs. Finally, SDF-1-stimulated extracellular signal-related kinase (ERK)-1/2 mitogen-activated protein kinase activation was inhibited by PI 3-kinase inhibitors. In addition, the mitogen-activated protein/ERK kinase inhibitor PD098059 partially attenuated chemotaxis in response to SDF-1. Hence, it appears that ERK1/2 activation is dependent on PI 3-kinase activation, and both biochemical events are involved in the regulation of SDF-1-stimulated chemotaxis.\n",
      "\n",
      "generated_summary\n",
      "\n",
      "loss: 0.02867787890136242\n",
      "\n",
      "loss: 0.05907529965043068\n",
      "\n",
      "loss: 0.05614771693944931\n",
      "\n",
      "loss: 0.035859934985637665\n",
      "\n",
      "loss: 0.05677198991179466\n",
      "\n",
      "loss: 0.11180821806192398\n",
      "\n",
      "loss: 0.07135176658630371\n",
      "\n",
      "loss: 0.06560628861188889\n",
      "\n",
      "loss: 0.05138355493545532\n",
      "\n",
      "loss: 0.036929283291101456\n",
      "\n"
     ]
    },
    {
     "data": {
      "application/vnd.jupyter.widget-view+json": {
       "model_id": "db56e3458a8c47cbb1dd05818db6239c",
       "version_major": 2,
       "version_minor": 0
      },
      "text/plain": [
       "Evaluating:   0%|          | 0/770 [00:00<?, ?it/s]"
      ]
     },
     "metadata": {},
     "output_type": "display_data"
    },
    {
     "name": "stdout",
     "output_type": "stream",
     "text": [
      "perplexity: 4.894011497497559\n",
      "After 881 updates: \n",
      "\n"
     ]
    },
    {
     "data": {
      "application/vnd.jupyter.widget-view+json": {
       "model_id": "2fe2ed3d505f4188b48721f9dfde09f9",
       "version_major": 2,
       "version_minor": 0
      },
      "text/plain": [
       "  0%|          | 0/100 [00:00<?, ?it/s]"
      ]
     },
     "metadata": {},
     "output_type": "display_data"
    },
    {
     "name": "stdout",
     "output_type": "stream",
     "text": [
      "We report the cDNA deduced primary structure of a wheat germ agglutinin-reactive nuclear pore complex (NPC) protein of rat. The protein, termed Nup98 (for nucleoporin of 98 kDa), contains numerous GLFG and FG repeats and some FXFG repeats and is thus a vertebrate member of a family of GLFG nucleoporins that were previously discovered in yeast. Immunoelectron microscopy showed Nup98 to be asymmetrically located at the nucleoplasmic side of the NPC. Nup98 functions as one of several docking site nucleoporins in a cytosolic docking activity-mediated binding of a model transport substrate. The docking site of Nup98 was mapped to its N-terminal half, which contains all of the peptide repeats. A recombinant segment of this region depleted the docking activity of cytosol. We suggest that the peptide repeat domain of Nup98, together with peptide repeat domains of other nucleoporins, forms an array of sites for mediated docking of transport substrate, and that bidirectional transport across the NPC proceeds by repeated docking and undocking reactions.\n",
      "\n",
      "generated_summary\n",
      "\n"
     ]
    },
    {
     "data": {
      "application/vnd.jupyter.widget-view+json": {
       "model_id": "018559cdfc71430494387baa854e9987",
       "version_major": 2,
       "version_minor": 0
      },
      "text/plain": [
       "  0%|          | 0/100 [00:00<?, ?it/s]"
      ]
     },
     "metadata": {},
     "output_type": "display_data"
    },
    {
     "name": "stdout",
     "output_type": "stream",
     "text": [
      "The cellular effects of stromal cell-derived factor-1 (SDF-1) are mediated primarily by binding to the CXC chemokine receptor-4. We report in this study that SDF-1 and its peptide analogues induce a concentration- and time-dependent accumulation of phosphatidylinositol-(3,4,5)-trisphosphate (PtdIns(3,4,5)P3) in Jurkat cells. This SDF-1-stimulated generation of D-3 phosphoinositide lipids was inhibited by pretreatment of the cells with an SDF-1 peptide antagonist or an anti-CXCR4 Ab. In addition, the phosphoinositide 3 (PI 3)-kinase inhibitors wortmannin and LY294002, as well as the Gi protein inhibitor pertussis toxin, also inhibited the SDF-1-stimulated accumulation of PtdIns(3,4,5)P3. The effects of SDF-1 on D-3 phosphoinositide lipid accumulation correlated well with activation of the known PI 3-kinase effector protein kinase B, which was also inhibited by wortmannin and pertussis toxin. Concentrations of PI 3-kinase inhibitors, sufficient to inhibit PtdIns(3,4,5)P3 accumulation, also inhibited chemotaxis of Jurkat and peripheral blood-derived T lymphocytes in response to SDF-1. In contrast, SDF-1-stimulated actin polymerization was only partially inhibited by PI 3-kinase inhibitors, suggesting that while chemotaxis is fully dependent on PI 3-kinase activation, actin polymerization requires additional biochemical inputs. Finally, SDF-1-stimulated extracellular signal-related kinase (ERK)-1/2 mitogen-activated protein kinase activation was inhibited by PI 3-kinase inhibitors. In addition, the mitogen-activated protein/ERK kinase inhibitor PD098059 partially attenuated chemotaxis in response to SDF-1. Hence, it appears that ERK1/2 activation is dependent on PI 3-kinase activation, and both biochemical events are involved in the regulation of SDF-1-stimulated chemotaxis.\n",
      "\n",
      "generated_summary\n",
      "\n",
      "loss: 0.04863809794187546\n",
      "\n",
      "loss: 0.0606403574347496\n",
      "\n",
      "loss: 0.0372370146214962\n",
      "\n",
      "loss: 0.07886265218257904\n",
      "\n",
      "loss: 0.0512416698038578\n",
      "\n",
      "loss: 0.0444144532084465\n",
      "\n",
      "loss: 0.0405849814414978\n",
      "\n",
      "loss: 0.0410267636179924\n",
      "\n",
      "loss: 0.04758257791399956\n",
      "\n",
      "loss: 0.06635157763957977\n",
      "\n"
     ]
    },
    {
     "data": {
      "application/vnd.jupyter.widget-view+json": {
       "model_id": "b647502e4a004804b17e59d65d4ea499",
       "version_major": 2,
       "version_minor": 0
      },
      "text/plain": [
       "Evaluating:   0%|          | 0/770 [00:00<?, ?it/s]"
      ]
     },
     "metadata": {},
     "output_type": "display_data"
    },
    {
     "name": "stdout",
     "output_type": "stream",
     "text": [
      "perplexity: 4.865983009338379\n",
      "After 891 updates: \n",
      "\n"
     ]
    },
    {
     "data": {
      "application/vnd.jupyter.widget-view+json": {
       "model_id": "16d3a40ef4f842fca266eb93778496a5",
       "version_major": 2,
       "version_minor": 0
      },
      "text/plain": [
       "  0%|          | 0/100 [00:00<?, ?it/s]"
      ]
     },
     "metadata": {},
     "output_type": "display_data"
    },
    {
     "name": "stdout",
     "output_type": "stream",
     "text": [
      "We report the cDNA deduced primary structure of a wheat germ agglutinin-reactive nuclear pore complex (NPC) protein of rat. The protein, termed Nup98 (for nucleoporin of 98 kDa), contains numerous GLFG and FG repeats and some FXFG repeats and is thus a vertebrate member of a family of GLFG nucleoporins that were previously discovered in yeast. Immunoelectron microscopy showed Nup98 to be asymmetrically located at the nucleoplasmic side of the NPC. Nup98 functions as one of several docking site nucleoporins in a cytosolic docking activity-mediated binding of a model transport substrate. The docking site of Nup98 was mapped to its N-terminal half, which contains all of the peptide repeats. A recombinant segment of this region depleted the docking activity of cytosol. We suggest that the peptide repeat domain of Nup98, together with peptide repeat domains of other nucleoporins, forms an array of sites for mediated docking of transport substrate, and that bidirectional transport across the NPC proceeds by repeated docking and undocking reactions.\n",
      "\n",
      "generated_summary\n",
      "\n"
     ]
    },
    {
     "data": {
      "application/vnd.jupyter.widget-view+json": {
       "model_id": "8ea596b9b2c748329b55f7d0fba1e951",
       "version_major": 2,
       "version_minor": 0
      },
      "text/plain": [
       "  0%|          | 0/100 [00:00<?, ?it/s]"
      ]
     },
     "metadata": {},
     "output_type": "display_data"
    },
    {
     "name": "stdout",
     "output_type": "stream",
     "text": [
      "The cellular effects of stromal cell-derived factor-1 (SDF-1) are mediated primarily by binding to the CXC chemokine receptor-4. We report in this study that SDF-1 and its peptide analogues induce a concentration- and time-dependent accumulation of phosphatidylinositol-(3,4,5)-trisphosphate (PtdIns(3,4,5)P3) in Jurkat cells. This SDF-1-stimulated generation of D-3 phosphoinositide lipids was inhibited by pretreatment of the cells with an SDF-1 peptide antagonist or an anti-CXCR4 Ab. In addition, the phosphoinositide 3 (PI 3)-kinase inhibitors wortmannin and LY294002, as well as the Gi protein inhibitor pertussis toxin, also inhibited the SDF-1-stimulated accumulation of PtdIns(3,4,5)P3. The effects of SDF-1 on D-3 phosphoinositide lipid accumulation correlated well with activation of the known PI 3-kinase effector protein kinase B, which was also inhibited by wortmannin and pertussis toxin. Concentrations of PI 3-kinase inhibitors, sufficient to inhibit PtdIns(3,4,5)P3 accumulation, also inhibited chemotaxis of Jurkat and peripheral blood-derived T lymphocytes in response to SDF-1. In contrast, SDF-1-stimulated actin polymerization was only partially inhibited by PI 3-kinase inhibitors, suggesting that while chemotaxis is fully dependent on PI 3-kinase activation, actin polymerization requires additional biochemical inputs. Finally, SDF-1-stimulated extracellular signal-related kinase (ERK)-1/2 mitogen-activated protein kinase activation was inhibited by PI 3-kinase inhibitors. In addition, the mitogen-activated protein/ERK kinase inhibitor PD098059 partially attenuated chemotaxis in response to SDF-1. Hence, it appears that ERK1/2 activation is dependent on PI 3-kinase activation, and both biochemical events are involved in the regulation of SDF-1-stimulated chemotaxis.\n",
      "\n",
      "generated_summary\n",
      "\n",
      "loss: 0.04098573699593544\n",
      "\n",
      "loss: 0.08118520677089691\n",
      "\n",
      "loss: 0.027293303981423378\n",
      "\n",
      "loss: 0.048728734254837036\n",
      "\n",
      "loss: 0.04553156718611717\n",
      "\n",
      "loss: 0.05993536859750748\n",
      "\n",
      "loss: 0.045026592910289764\n",
      "\n",
      "loss: 0.05264357849955559\n",
      "\n",
      "loss: 0.07375050336122513\n",
      "\n",
      "loss: 0.032195013016462326\n",
      "\n"
     ]
    },
    {
     "data": {
      "application/vnd.jupyter.widget-view+json": {
       "model_id": "840e8498fbba44cca4531d9d879fe1d0",
       "version_major": 2,
       "version_minor": 0
      },
      "text/plain": [
       "Evaluating:   0%|          | 0/770 [00:00<?, ?it/s]"
      ]
     },
     "metadata": {},
     "output_type": "display_data"
    },
    {
     "name": "stdout",
     "output_type": "stream",
     "text": [
      "perplexity: 4.897791862487793\n",
      "After 901 updates: \n",
      "\n"
     ]
    },
    {
     "data": {
      "application/vnd.jupyter.widget-view+json": {
       "model_id": "100083a2d8e04767b65b2f44b724cbbf",
       "version_major": 2,
       "version_minor": 0
      },
      "text/plain": [
       "  0%|          | 0/100 [00:00<?, ?it/s]"
      ]
     },
     "metadata": {},
     "output_type": "display_data"
    },
    {
     "name": "stdout",
     "output_type": "stream",
     "text": [
      "We report the cDNA deduced primary structure of a wheat germ agglutinin-reactive nuclear pore complex (NPC) protein of rat. The protein, termed Nup98 (for nucleoporin of 98 kDa), contains numerous GLFG and FG repeats and some FXFG repeats and is thus a vertebrate member of a family of GLFG nucleoporins that were previously discovered in yeast. Immunoelectron microscopy showed Nup98 to be asymmetrically located at the nucleoplasmic side of the NPC. Nup98 functions as one of several docking site nucleoporins in a cytosolic docking activity-mediated binding of a model transport substrate. The docking site of Nup98 was mapped to its N-terminal half, which contains all of the peptide repeats. A recombinant segment of this region depleted the docking activity of cytosol. We suggest that the peptide repeat domain of Nup98, together with peptide repeat domains of other nucleoporins, forms an array of sites for mediated docking of transport substrate, and that bidirectional transport across the NPC proceeds by repeated docking and undocking reactions.\n",
      "\n",
      "generated_summary\n",
      "\n"
     ]
    },
    {
     "data": {
      "application/vnd.jupyter.widget-view+json": {
       "model_id": "dad44d96635a4658b6014bf274c0e0f4",
       "version_major": 2,
       "version_minor": 0
      },
      "text/plain": [
       "  0%|          | 0/100 [00:00<?, ?it/s]"
      ]
     },
     "metadata": {},
     "output_type": "display_data"
    },
    {
     "name": "stdout",
     "output_type": "stream",
     "text": [
      "The cellular effects of stromal cell-derived factor-1 (SDF-1) are mediated primarily by binding to the CXC chemokine receptor-4. We report in this study that SDF-1 and its peptide analogues induce a concentration- and time-dependent accumulation of phosphatidylinositol-(3,4,5)-trisphosphate (PtdIns(3,4,5)P3) in Jurkat cells. This SDF-1-stimulated generation of D-3 phosphoinositide lipids was inhibited by pretreatment of the cells with an SDF-1 peptide antagonist or an anti-CXCR4 Ab. In addition, the phosphoinositide 3 (PI 3)-kinase inhibitors wortmannin and LY294002, as well as the Gi protein inhibitor pertussis toxin, also inhibited the SDF-1-stimulated accumulation of PtdIns(3,4,5)P3. The effects of SDF-1 on D-3 phosphoinositide lipid accumulation correlated well with activation of the known PI 3-kinase effector protein kinase B, which was also inhibited by wortmannin and pertussis toxin. Concentrations of PI 3-kinase inhibitors, sufficient to inhibit PtdIns(3,4,5)P3 accumulation, also inhibited chemotaxis of Jurkat and peripheral blood-derived T lymphocytes in response to SDF-1. In contrast, SDF-1-stimulated actin polymerization was only partially inhibited by PI 3-kinase inhibitors, suggesting that while chemotaxis is fully dependent on PI 3-kinase activation, actin polymerization requires additional biochemical inputs. Finally, SDF-1-stimulated extracellular signal-related kinase (ERK)-1/2 mitogen-activated protein kinase activation was inhibited by PI 3-kinase inhibitors. In addition, the mitogen-activated protein/ERK kinase inhibitor PD098059 partially attenuated chemotaxis in response to SDF-1. Hence, it appears that ERK1/2 activation is dependent on PI 3-kinase activation, and both biochemical events are involved in the regulation of SDF-1-stimulated chemotaxis.\n",
      "\n",
      "generated_summary\n",
      "\n",
      "loss: 0.03208066523075104\n",
      "\n",
      "loss: 0.06587446480989456\n",
      "\n",
      "loss: 0.07657422125339508\n",
      "\n",
      "loss: 0.052947692573070526\n",
      "\n",
      "loss: 0.03887956589460373\n",
      "\n",
      "loss: 0.04854408651590347\n",
      "\n",
      "loss: 0.046552520245313644\n",
      "\n",
      "loss: 0.02287144958972931\n",
      "\n",
      "loss: 0.036827411502599716\n",
      "\n",
      "loss: 0.07446175813674927\n",
      "\n"
     ]
    },
    {
     "data": {
      "application/vnd.jupyter.widget-view+json": {
       "model_id": "1fe54357920c4b2a8397eb45b3b6835b",
       "version_major": 2,
       "version_minor": 0
      },
      "text/plain": [
       "Evaluating:   0%|          | 0/770 [00:00<?, ?it/s]"
      ]
     },
     "metadata": {},
     "output_type": "display_data"
    },
    {
     "name": "stdout",
     "output_type": "stream",
     "text": [
      "perplexity: 4.835007667541504\n",
      "After 911 updates: \n",
      "\n"
     ]
    },
    {
     "data": {
      "application/vnd.jupyter.widget-view+json": {
       "model_id": "3c928f008697417b901ff97eb9d220b7",
       "version_major": 2,
       "version_minor": 0
      },
      "text/plain": [
       "  0%|          | 0/100 [00:00<?, ?it/s]"
      ]
     },
     "metadata": {},
     "output_type": "display_data"
    },
    {
     "name": "stdout",
     "output_type": "stream",
     "text": [
      "We report the cDNA deduced primary structure of a wheat germ agglutinin-reactive nuclear pore complex (NPC) protein of rat. The protein, termed Nup98 (for nucleoporin of 98 kDa), contains numerous GLFG and FG repeats and some FXFG repeats and is thus a vertebrate member of a family of GLFG nucleoporins that were previously discovered in yeast. Immunoelectron microscopy showed Nup98 to be asymmetrically located at the nucleoplasmic side of the NPC. Nup98 functions as one of several docking site nucleoporins in a cytosolic docking activity-mediated binding of a model transport substrate. The docking site of Nup98 was mapped to its N-terminal half, which contains all of the peptide repeats. A recombinant segment of this region depleted the docking activity of cytosol. We suggest that the peptide repeat domain of Nup98, together with peptide repeat domains of other nucleoporins, forms an array of sites for mediated docking of transport substrate, and that bidirectional transport across the NPC proceeds by repeated docking and undocking reactions.\n",
      "\n",
      "generated_summary\n",
      "\n"
     ]
    },
    {
     "data": {
      "application/vnd.jupyter.widget-view+json": {
       "model_id": "e617cf70d05b4415a79a204e788c9f35",
       "version_major": 2,
       "version_minor": 0
      },
      "text/plain": [
       "  0%|          | 0/100 [00:00<?, ?it/s]"
      ]
     },
     "metadata": {},
     "output_type": "display_data"
    },
    {
     "name": "stdout",
     "output_type": "stream",
     "text": [
      "The cellular effects of stromal cell-derived factor-1 (SDF-1) are mediated primarily by binding to the CXC chemokine receptor-4. We report in this study that SDF-1 and its peptide analogues induce a concentration- and time-dependent accumulation of phosphatidylinositol-(3,4,5)-trisphosphate (PtdIns(3,4,5)P3) in Jurkat cells. This SDF-1-stimulated generation of D-3 phosphoinositide lipids was inhibited by pretreatment of the cells with an SDF-1 peptide antagonist or an anti-CXCR4 Ab. In addition, the phosphoinositide 3 (PI 3)-kinase inhibitors wortmannin and LY294002, as well as the Gi protein inhibitor pertussis toxin, also inhibited the SDF-1-stimulated accumulation of PtdIns(3,4,5)P3. The effects of SDF-1 on D-3 phosphoinositide lipid accumulation correlated well with activation of the known PI 3-kinase effector protein kinase B, which was also inhibited by wortmannin and pertussis toxin. Concentrations of PI 3-kinase inhibitors, sufficient to inhibit PtdIns(3,4,5)P3 accumulation, also inhibited chemotaxis of Jurkat and peripheral blood-derived T lymphocytes in response to SDF-1. In contrast, SDF-1-stimulated actin polymerization was only partially inhibited by PI 3-kinase inhibitors, suggesting that while chemotaxis is fully dependent on PI 3-kinase activation, actin polymerization requires additional biochemical inputs. Finally, SDF-1-stimulated extracellular signal-related kinase (ERK)-1/2 mitogen-activated protein kinase activation was inhibited by PI 3-kinase inhibitors. In addition, the mitogen-activated protein/ERK kinase inhibitor PD098059 partially attenuated chemotaxis in response to SDF-1. Hence, it appears that ERK1/2 activation is dependent on PI 3-kinase activation, and both biochemical events are involved in the regulation of SDF-1-stimulated chemotaxis.\n",
      "\n",
      "generated_summary\n",
      "\n",
      "loss: 0.04946445673704147\n",
      "\n",
      "loss: 0.06536918878555298\n",
      "\n",
      "loss: 0.02651383727788925\n",
      "\n",
      "loss: 0.049789637327194214\n",
      "\n",
      "loss: 0.015612145885825157\n",
      "\n",
      "loss: 0.032721903175115585\n",
      "\n",
      "loss: 0.05002425238490105\n",
      "\n",
      "loss: 0.055266208946704865\n",
      "\n",
      "loss: 0.05930318310856819\n",
      "\n",
      "loss: 0.06643566489219666\n",
      "\n"
     ]
    },
    {
     "data": {
      "application/vnd.jupyter.widget-view+json": {
       "model_id": "1ac39862ab9444dba363ce98a12e1791",
       "version_major": 2,
       "version_minor": 0
      },
      "text/plain": [
       "Evaluating:   0%|          | 0/770 [00:00<?, ?it/s]"
      ]
     },
     "metadata": {},
     "output_type": "display_data"
    },
    {
     "name": "stdout",
     "output_type": "stream",
     "text": [
      "perplexity: 4.879040241241455\n",
      "After 921 updates: \n",
      "\n"
     ]
    },
    {
     "data": {
      "application/vnd.jupyter.widget-view+json": {
       "model_id": "a65b43248de0495196b665f1449e5bfb",
       "version_major": 2,
       "version_minor": 0
      },
      "text/plain": [
       "  0%|          | 0/100 [00:00<?, ?it/s]"
      ]
     },
     "metadata": {},
     "output_type": "display_data"
    },
    {
     "name": "stdout",
     "output_type": "stream",
     "text": [
      "We report the cDNA deduced primary structure of a wheat germ agglutinin-reactive nuclear pore complex (NPC) protein of rat. The protein, termed Nup98 (for nucleoporin of 98 kDa), contains numerous GLFG and FG repeats and some FXFG repeats and is thus a vertebrate member of a family of GLFG nucleoporins that were previously discovered in yeast. Immunoelectron microscopy showed Nup98 to be asymmetrically located at the nucleoplasmic side of the NPC. Nup98 functions as one of several docking site nucleoporins in a cytosolic docking activity-mediated binding of a model transport substrate. The docking site of Nup98 was mapped to its N-terminal half, which contains all of the peptide repeats. A recombinant segment of this region depleted the docking activity of cytosol. We suggest that the peptide repeat domain of Nup98, together with peptide repeat domains of other nucleoporins, forms an array of sites for mediated docking of transport substrate, and that bidirectional transport across the NPC proceeds by repeated docking and undocking reactions.\n",
      "\n",
      "generated_summary\n",
      "\n"
     ]
    },
    {
     "data": {
      "application/vnd.jupyter.widget-view+json": {
       "model_id": "9906e1c1362443cabaa671dad5ded83f",
       "version_major": 2,
       "version_minor": 0
      },
      "text/plain": [
       "  0%|          | 0/100 [00:00<?, ?it/s]"
      ]
     },
     "metadata": {},
     "output_type": "display_data"
    },
    {
     "name": "stdout",
     "output_type": "stream",
     "text": [
      "The cellular effects of stromal cell-derived factor-1 (SDF-1) are mediated primarily by binding to the CXC chemokine receptor-4. We report in this study that SDF-1 and its peptide analogues induce a concentration- and time-dependent accumulation of phosphatidylinositol-(3,4,5)-trisphosphate (PtdIns(3,4,5)P3) in Jurkat cells. This SDF-1-stimulated generation of D-3 phosphoinositide lipids was inhibited by pretreatment of the cells with an SDF-1 peptide antagonist or an anti-CXCR4 Ab. In addition, the phosphoinositide 3 (PI 3)-kinase inhibitors wortmannin and LY294002, as well as the Gi protein inhibitor pertussis toxin, also inhibited the SDF-1-stimulated accumulation of PtdIns(3,4,5)P3. The effects of SDF-1 on D-3 phosphoinositide lipid accumulation correlated well with activation of the known PI 3-kinase effector protein kinase B, which was also inhibited by wortmannin and pertussis toxin. Concentrations of PI 3-kinase inhibitors, sufficient to inhibit PtdIns(3,4,5)P3 accumulation, also inhibited chemotaxis of Jurkat and peripheral blood-derived T lymphocytes in response to SDF-1. In contrast, SDF-1-stimulated actin polymerization was only partially inhibited by PI 3-kinase inhibitors, suggesting that while chemotaxis is fully dependent on PI 3-kinase activation, actin polymerization requires additional biochemical inputs. Finally, SDF-1-stimulated extracellular signal-related kinase (ERK)-1/2 mitogen-activated protein kinase activation was inhibited by PI 3-kinase inhibitors. In addition, the mitogen-activated protein/ERK kinase inhibitor PD098059 partially attenuated chemotaxis in response to SDF-1. Hence, it appears that ERK1/2 activation is dependent on PI 3-kinase activation, and both biochemical events are involved in the regulation of SDF-1-stimulated chemotaxis.\n",
      "\n",
      "generated_summary\n",
      "\n",
      "loss: 0.053487006574869156\n",
      "\n",
      "loss: 0.03206062316894531\n",
      "\n",
      "loss: 0.07676863670349121\n",
      "\n",
      "loss: 0.07310634851455688\n",
      "\n",
      "loss: 0.054123103618621826\n",
      "\n",
      "loss: 0.04105991870164871\n",
      "\n",
      "loss: 0.04358956962823868\n",
      "\n",
      "loss: 0.04420863091945648\n",
      "\n",
      "loss: 0.049589186906814575\n",
      "\n",
      "loss: 0.04698161780834198\n",
      "\n"
     ]
    },
    {
     "data": {
      "application/vnd.jupyter.widget-view+json": {
       "model_id": "26fd96b9893c4f0f91f8bbb969359e56",
       "version_major": 2,
       "version_minor": 0
      },
      "text/plain": [
       "Evaluating:   0%|          | 0/770 [00:00<?, ?it/s]"
      ]
     },
     "metadata": {},
     "output_type": "display_data"
    },
    {
     "name": "stdout",
     "output_type": "stream",
     "text": [
      "perplexity: 4.835822105407715\n",
      "After 931 updates: \n",
      "\n"
     ]
    },
    {
     "data": {
      "application/vnd.jupyter.widget-view+json": {
       "model_id": "5d17ca39cfbc4f7abbd35eaa3bc06861",
       "version_major": 2,
       "version_minor": 0
      },
      "text/plain": [
       "  0%|          | 0/100 [00:00<?, ?it/s]"
      ]
     },
     "metadata": {},
     "output_type": "display_data"
    },
    {
     "name": "stdout",
     "output_type": "stream",
     "text": [
      "We report the cDNA deduced primary structure of a wheat germ agglutinin-reactive nuclear pore complex (NPC) protein of rat. The protein, termed Nup98 (for nucleoporin of 98 kDa), contains numerous GLFG and FG repeats and some FXFG repeats and is thus a vertebrate member of a family of GLFG nucleoporins that were previously discovered in yeast. Immunoelectron microscopy showed Nup98 to be asymmetrically located at the nucleoplasmic side of the NPC. Nup98 functions as one of several docking site nucleoporins in a cytosolic docking activity-mediated binding of a model transport substrate. The docking site of Nup98 was mapped to its N-terminal half, which contains all of the peptide repeats. A recombinant segment of this region depleted the docking activity of cytosol. We suggest that the peptide repeat domain of Nup98, together with peptide repeat domains of other nucleoporins, forms an array of sites for mediated docking of transport substrate, and that bidirectional transport across the NPC proceeds by repeated docking and undocking reactions.\n",
      "\n",
      "generated_summary\n",
      "\n"
     ]
    },
    {
     "data": {
      "application/vnd.jupyter.widget-view+json": {
       "model_id": "bdc567b6284346f087f91376fc9572d6",
       "version_major": 2,
       "version_minor": 0
      },
      "text/plain": [
       "  0%|          | 0/100 [00:00<?, ?it/s]"
      ]
     },
     "metadata": {},
     "output_type": "display_data"
    },
    {
     "name": "stdout",
     "output_type": "stream",
     "text": [
      "The cellular effects of stromal cell-derived factor-1 (SDF-1) are mediated primarily by binding to the CXC chemokine receptor-4. We report in this study that SDF-1 and its peptide analogues induce a concentration- and time-dependent accumulation of phosphatidylinositol-(3,4,5)-trisphosphate (PtdIns(3,4,5)P3) in Jurkat cells. This SDF-1-stimulated generation of D-3 phosphoinositide lipids was inhibited by pretreatment of the cells with an SDF-1 peptide antagonist or an anti-CXCR4 Ab. In addition, the phosphoinositide 3 (PI 3)-kinase inhibitors wortmannin and LY294002, as well as the Gi protein inhibitor pertussis toxin, also inhibited the SDF-1-stimulated accumulation of PtdIns(3,4,5)P3. The effects of SDF-1 on D-3 phosphoinositide lipid accumulation correlated well with activation of the known PI 3-kinase effector protein kinase B, which was also inhibited by wortmannin and pertussis toxin. Concentrations of PI 3-kinase inhibitors, sufficient to inhibit PtdIns(3,4,5)P3 accumulation, also inhibited chemotaxis of Jurkat and peripheral blood-derived T lymphocytes in response to SDF-1. In contrast, SDF-1-stimulated actin polymerization was only partially inhibited by PI 3-kinase inhibitors, suggesting that while chemotaxis is fully dependent on PI 3-kinase activation, actin polymerization requires additional biochemical inputs. Finally, SDF-1-stimulated extracellular signal-related kinase (ERK)-1/2 mitogen-activated protein kinase activation was inhibited by PI 3-kinase inhibitors. In addition, the mitogen-activated protein/ERK kinase inhibitor PD098059 partially attenuated chemotaxis in response to SDF-1. Hence, it appears that ERK1/2 activation is dependent on PI 3-kinase activation, and both biochemical events are involved in the regulation of SDF-1-stimulated chemotaxis.\n",
      "\n",
      "generated_summary\n",
      "\n",
      "loss: 0.027479814365506172\n",
      "\n",
      "loss: 0.046768561005592346\n",
      "\n",
      "loss: 0.03938118740916252\n",
      "\n",
      "loss: 0.0338139683008194\n",
      "\n",
      "loss: 0.06554638594388962\n",
      "\n",
      "loss: 0.025453923270106316\n",
      "\n",
      "loss: 0.05459190905094147\n",
      "\n",
      "loss: 0.029845038428902626\n",
      "\n",
      "loss: 0.058243878185749054\n",
      "\n",
      "loss: 0.05321807041764259\n",
      "\n"
     ]
    },
    {
     "data": {
      "application/vnd.jupyter.widget-view+json": {
       "model_id": "e1d68f95e61a48babc491da57844a06f",
       "version_major": 2,
       "version_minor": 0
      },
      "text/plain": [
       "Evaluating:   0%|          | 0/770 [00:00<?, ?it/s]"
      ]
     },
     "metadata": {},
     "output_type": "display_data"
    },
    {
     "name": "stdout",
     "output_type": "stream",
     "text": [
      "perplexity: 4.836614608764648\n",
      "After 941 updates: \n",
      "\n"
     ]
    },
    {
     "data": {
      "application/vnd.jupyter.widget-view+json": {
       "model_id": "db0b8a388a444f56bb8bb3aa71fe6656",
       "version_major": 2,
       "version_minor": 0
      },
      "text/plain": [
       "  0%|          | 0/100 [00:00<?, ?it/s]"
      ]
     },
     "metadata": {},
     "output_type": "display_data"
    },
    {
     "name": "stdout",
     "output_type": "stream",
     "text": [
      "We report the cDNA deduced primary structure of a wheat germ agglutinin-reactive nuclear pore complex (NPC) protein of rat. The protein, termed Nup98 (for nucleoporin of 98 kDa), contains numerous GLFG and FG repeats and some FXFG repeats and is thus a vertebrate member of a family of GLFG nucleoporins that were previously discovered in yeast. Immunoelectron microscopy showed Nup98 to be asymmetrically located at the nucleoplasmic side of the NPC. Nup98 functions as one of several docking site nucleoporins in a cytosolic docking activity-mediated binding of a model transport substrate. The docking site of Nup98 was mapped to its N-terminal half, which contains all of the peptide repeats. A recombinant segment of this region depleted the docking activity of cytosol. We suggest that the peptide repeat domain of Nup98, together with peptide repeat domains of other nucleoporins, forms an array of sites for mediated docking of transport substrate, and that bidirectional transport across the NPC proceeds by repeated docking and undocking reactions.\n",
      "\n",
      "generated_summary\n",
      "\n"
     ]
    },
    {
     "data": {
      "application/vnd.jupyter.widget-view+json": {
       "model_id": "37386090343d43a5b0b18163339c5406",
       "version_major": 2,
       "version_minor": 0
      },
      "text/plain": [
       "  0%|          | 0/100 [00:00<?, ?it/s]"
      ]
     },
     "metadata": {},
     "output_type": "display_data"
    },
    {
     "name": "stdout",
     "output_type": "stream",
     "text": [
      "The cellular effects of stromal cell-derived factor-1 (SDF-1) are mediated primarily by binding to the CXC chemokine receptor-4. We report in this study that SDF-1 and its peptide analogues induce a concentration- and time-dependent accumulation of phosphatidylinositol-(3,4,5)-trisphosphate (PtdIns(3,4,5)P3) in Jurkat cells. This SDF-1-stimulated generation of D-3 phosphoinositide lipids was inhibited by pretreatment of the cells with an SDF-1 peptide antagonist or an anti-CXCR4 Ab. In addition, the phosphoinositide 3 (PI 3)-kinase inhibitors wortmannin and LY294002, as well as the Gi protein inhibitor pertussis toxin, also inhibited the SDF-1-stimulated accumulation of PtdIns(3,4,5)P3. The effects of SDF-1 on D-3 phosphoinositide lipid accumulation correlated well with activation of the known PI 3-kinase effector protein kinase B, which was also inhibited by wortmannin and pertussis toxin. Concentrations of PI 3-kinase inhibitors, sufficient to inhibit PtdIns(3,4,5)P3 accumulation, also inhibited chemotaxis of Jurkat and peripheral blood-derived T lymphocytes in response to SDF-1. In contrast, SDF-1-stimulated actin polymerization was only partially inhibited by PI 3-kinase inhibitors, suggesting that while chemotaxis is fully dependent on PI 3-kinase activation, actin polymerization requires additional biochemical inputs. Finally, SDF-1-stimulated extracellular signal-related kinase (ERK)-1/2 mitogen-activated protein kinase activation was inhibited by PI 3-kinase inhibitors. In addition, the mitogen-activated protein/ERK kinase inhibitor PD098059 partially attenuated chemotaxis in response to SDF-1. Hence, it appears that ERK1/2 activation is dependent on PI 3-kinase activation, and both biochemical events are involved in the regulation of SDF-1-stimulated chemotaxis.\n",
      "\n",
      "generated_summary\n",
      "\n",
      "loss: 0.06241878122091293\n",
      "\n",
      "loss: 0.037318047136068344\n",
      "\n",
      "loss: 0.024010183289647102\n",
      "\n",
      "loss: 0.045077767223119736\n",
      "\n",
      "loss: 0.057404473423957825\n",
      "\n",
      "loss: 0.05838802829384804\n",
      "\n",
      "loss: 0.045075424015522\n",
      "\n",
      "loss: 0.05322248116135597\n",
      "\n",
      "loss: 0.05964245647192001\n",
      "\n",
      "loss: 0.05445646494626999\n",
      "\n"
     ]
    },
    {
     "data": {
      "application/vnd.jupyter.widget-view+json": {
       "model_id": "fe2fde37f57247d18290f30bc0b7d397",
       "version_major": 2,
       "version_minor": 0
      },
      "text/plain": [
       "Evaluating:   0%|          | 0/770 [00:00<?, ?it/s]"
      ]
     },
     "metadata": {},
     "output_type": "display_data"
    },
    {
     "name": "stdout",
     "output_type": "stream",
     "text": [
      "perplexity: 4.79184627532959\n",
      "After 951 updates: \n",
      "\n"
     ]
    },
    {
     "data": {
      "application/vnd.jupyter.widget-view+json": {
       "model_id": "3dcffe88ad78426fab4971adebe20780",
       "version_major": 2,
       "version_minor": 0
      },
      "text/plain": [
       "  0%|          | 0/100 [00:00<?, ?it/s]"
      ]
     },
     "metadata": {},
     "output_type": "display_data"
    },
    {
     "name": "stdout",
     "output_type": "stream",
     "text": [
      "We report the cDNA deduced primary structure of a wheat germ agglutinin-reactive nuclear pore complex (NPC) protein of rat. The protein, termed Nup98 (for nucleoporin of 98 kDa), contains numerous GLFG and FG repeats and some FXFG repeats and is thus a vertebrate member of a family of GLFG nucleoporins that were previously discovered in yeast. Immunoelectron microscopy showed Nup98 to be asymmetrically located at the nucleoplasmic side of the NPC. Nup98 functions as one of several docking site nucleoporins in a cytosolic docking activity-mediated binding of a model transport substrate. The docking site of Nup98 was mapped to its N-terminal half, which contains all of the peptide repeats. A recombinant segment of this region depleted the docking activity of cytosol. We suggest that the peptide repeat domain of Nup98, together with peptide repeat domains of other nucleoporins, forms an array of sites for mediated docking of transport substrate, and that bidirectional transport across the NPC proceeds by repeated docking and undocking reactions.\n",
      "\n",
      "generated_summary\n",
      "\n"
     ]
    },
    {
     "data": {
      "application/vnd.jupyter.widget-view+json": {
       "model_id": "989be03160a3423f84beb45e3e7c3a49",
       "version_major": 2,
       "version_minor": 0
      },
      "text/plain": [
       "  0%|          | 0/100 [00:00<?, ?it/s]"
      ]
     },
     "metadata": {},
     "output_type": "display_data"
    },
    {
     "name": "stdout",
     "output_type": "stream",
     "text": [
      "The cellular effects of stromal cell-derived factor-1 (SDF-1) are mediated primarily by binding to the CXC chemokine receptor-4. We report in this study that SDF-1 and its peptide analogues induce a concentration- and time-dependent accumulation of phosphatidylinositol-(3,4,5)-trisphosphate (PtdIns(3,4,5)P3) in Jurkat cells. This SDF-1-stimulated generation of D-3 phosphoinositide lipids was inhibited by pretreatment of the cells with an SDF-1 peptide antagonist or an anti-CXCR4 Ab. In addition, the phosphoinositide 3 (PI 3)-kinase inhibitors wortmannin and LY294002, as well as the Gi protein inhibitor pertussis toxin, also inhibited the SDF-1-stimulated accumulation of PtdIns(3,4,5)P3. The effects of SDF-1 on D-3 phosphoinositide lipid accumulation correlated well with activation of the known PI 3-kinase effector protein kinase B, which was also inhibited by wortmannin and pertussis toxin. Concentrations of PI 3-kinase inhibitors, sufficient to inhibit PtdIns(3,4,5)P3 accumulation, also inhibited chemotaxis of Jurkat and peripheral blood-derived T lymphocytes in response to SDF-1. In contrast, SDF-1-stimulated actin polymerization was only partially inhibited by PI 3-kinase inhibitors, suggesting that while chemotaxis is fully dependent on PI 3-kinase activation, actin polymerization requires additional biochemical inputs. Finally, SDF-1-stimulated extracellular signal-related kinase (ERK)-1/2 mitogen-activated protein kinase activation was inhibited by PI 3-kinase inhibitors. In addition, the mitogen-activated protein/ERK kinase inhibitor PD098059 partially attenuated chemotaxis in response to SDF-1. Hence, it appears that ERK1/2 activation is dependent on PI 3-kinase activation, and both biochemical events are involved in the regulation of SDF-1-stimulated chemotaxis.\n",
      "\n",
      "generated_summary\n",
      "\n",
      "total time:  86.38092122077941  minutes\n",
      "\n",
      "Saving trained model...\n"
     ]
    }
   ],
   "source": [
    "#training the model\n",
    "\n",
    "start = time.time()\n",
    "loss_trace = train(args, model, tokenizer, train_data, valid_data, ignore_idx)\n",
    "print('total time: ', (time.time()-start)/60, \" minutes\", end='\\n\\n')\n",
    "\n",
    "print('Saving trained model...')\n",
    "model_file = os.path.join(args.model_dir, 'model_data{}_trained_after_{}_epochs_only_sum_loss_ignr_pad.bin'.format(len(train_data),args.num_train_epochs))\n",
    "config_file = os.path.join(args.model_dir, 'config_data{}_trained_after_{}_epochs_only_sum_loss_ignr_pad.json'.format(len(train_data),args.num_train_epochs))\n",
    "torch.save(model.state_dict(), model_file)\n",
    "model.config.to_json_file(config_file)"
   ]
  },
  {
   "cell_type": "code",
   "execution_count": 29,
   "metadata": {},
   "outputs": [
    {
     "data": {
      "text/plain": [
       "[<matplotlib.lines.Line2D at 0x7f0e2bbf3430>]"
      ]
     },
     "execution_count": 29,
     "metadata": {},
     "output_type": "execute_result"
    },
    {
     "data": {
      "image/png": "[encoded data removed]",
      "text/plain": [
       "<Figure size 432x288 with 1 Axes>"
      ]
     },
     "metadata": {
      "needs_background": "light"
     },
     "output_type": "display_data"
    }
   ],
   "source": [
    "plt.plot(loss_trace)"
   ]
  },
  {
   "cell_type": "code",
   "execution_count": null,
   "metadata": {},
   "outputs": [],
   "source": []
  }
 ],
 "metadata": {
  "kernelspec": {
   "display_name": "Python 3 (ipykernel)",
   "language": "python",
   "name": "python3"
  },
  "language_info": {
   "codemirror_mode": {
    "name": "ipython",
    "version": 3
   },
   "file_extension": ".py",
   "mimetype": "text/x-python",
   "name": "python",
   "nbconvert_exporter": "python",
   "pygments_lexer": "ipython3",
   "version": "3.9.7"
  }
 },
 "nbformat": 4,
 "nbformat_minor": 4
}
