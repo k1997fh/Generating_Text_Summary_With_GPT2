{
 "cells": [
  {
   "cell_type": "markdown",
   "metadata": {},
   "source": [
    "# GPT2 Training Notebook\n",
    "\n",
    "This notebook converts the raw data files into JSON format and trains the GPT2 model on those data. "
   ]
  },
  {
   "cell_type": "markdown",
   "metadata": {},
   "source": [
    "## Imports and Setups"
   ]
  },
  {
   "cell_type": "code",
   "execution_count": 1,
   "metadata": {},
   "outputs": [],
   "source": [
    "import argparse\n",
    "from datetime import datetime\n",
    "import os\n",
    "import json\n",
    "import pandas as pd\n",
    "import time\n",
    "import matplotlib.pyplot as plt\n",
    "\n",
    "import numpy as np\n",
    "from transformers import GPT2LMHeadModel,AdamW, WarmupLinearSchedule\n",
    "from torch.utils.tensorboard import SummaryWriter\n",
    "import torch\n",
    "from torch.nn import CrossEntropyLoss\n",
    "import torch.nn.functional as F\n",
    "from torch.utils.data import DataLoader, RandomSampler, SequentialSampler\n",
    "from tqdm import tnrange, tqdm_notebook\n",
    "\n",
    "from dataset import GPT21024Dataset \n",
    "from utils import add_special_tokens, generate_sample, set_seed"
   ]
  },
  {
   "cell_type": "markdown",
   "metadata": {},
   "source": [
    "## Processing Raw Data\n",
    "\n",
    "If this is the first time you are running GPT2 training on your device, then it is necessary to run this section. \n",
    "\n",
    "First, place the file \"pubmed_gene_go_summary.tsv\" under the directory \"./pubmed\" so it can be read. Then run the cell below. It will read the file as dataframe and print the shape of the resulting dataframe. "
   ]
  },
  {
   "cell_type": "code",
   "execution_count": 2,
   "metadata": {},
   "outputs": [
    {
     "data": {
      "text/plain": [
       "(7652, 5)"
      ]
     },
     "execution_count": 2,
     "metadata": {},
     "output_type": "execute_result"
    }
   ],
   "source": [
    "filename = \"pubmed_gene_go_summary.tsv\"\n",
    "path = os.path.join(\"pubmed\", filename)\n",
    "pubmed_table = pd.read_csv(path, sep = \"\\t\")\n",
    "pubmed_table = pubmed_table[pubmed_table['Abstract'].notna()]\n",
    "pubmed_table = pubmed_table[pubmed_table['Title'].notna()]\n",
    "pubmed_table = pubmed_table[pubmed_table['Target'].notna()]\n",
    "pubmed_table.shape"
   ]
  },
  {
   "cell_type": "markdown",
   "metadata": {},
   "source": [
    "To check how the dataframe looks like: "
   ]
  },
  {
   "cell_type": "code",
   "execution_count": 3,
   "metadata": {},
   "outputs": [
    {
     "data": {
      "text/html": [
       "<div>\n",
       "<style scoped>\n",
       "    .dataframe tbody tr th:only-of-type {\n",
       "        vertical-align: middle;\n",
       "    }\n",
       "\n",
       "    .dataframe tbody tr th {\n",
       "        vertical-align: top;\n",
       "    }\n",
       "\n",
       "    .dataframe thead th {\n",
       "        text-align: right;\n",
       "    }\n",
       "</style>\n",
       "<table border=\"1\" class=\"dataframe\">\n",
       "  <thead>\n",
       "    <tr style=\"text-align: right;\">\n",
       "      <th></th>\n",
       "      <th>GeneID</th>\n",
       "      <th>PubMed</th>\n",
       "      <th>Target</th>\n",
       "      <th>Title</th>\n",
       "      <th>Abstract</th>\n",
       "    </tr>\n",
       "  </thead>\n",
       "  <tbody>\n",
       "    <tr>\n",
       "      <th>0</th>\n",
       "      <td>12</td>\n",
       "      <td>14668352</td>\n",
       "      <td>SERPINA3 enables DNA binding; located_in nucleus.</td>\n",
       "      <td>The SANT2 domain of the murine tumor cell DnaJ...</td>\n",
       "      <td>The murine tumor cell DnaJ-like protein 1 or M...</td>\n",
       "    </tr>\n",
       "    <tr>\n",
       "      <th>1</th>\n",
       "      <td>64215</td>\n",
       "      <td>14668352</td>\n",
       "      <td>DNAJC1 enables ATPase activator activity; invo...</td>\n",
       "      <td>The SANT2 domain of the murine tumor cell DnaJ...</td>\n",
       "      <td>The murine tumor cell DnaJ-like protein 1 or M...</td>\n",
       "    </tr>\n",
       "    <tr>\n",
       "      <th>2</th>\n",
       "      <td>12</td>\n",
       "      <td>2404007</td>\n",
       "      <td>SERPINA3 enables serine-type endopeptidase inh...</td>\n",
       "      <td>Cloning, expression, purification, and biologi...</td>\n",
       "      <td>Human alpha 1-antichymotrypsin has been cloned...</td>\n",
       "    </tr>\n",
       "    <tr>\n",
       "      <th>3</th>\n",
       "      <td>13</td>\n",
       "      <td>11481320</td>\n",
       "      <td>AADAC enables lipase activity.</td>\n",
       "      <td>Characterization of the rodent genes for aryla...</td>\n",
       "      <td>In the current study, we have determined the c...</td>\n",
       "    </tr>\n",
       "    <tr>\n",
       "      <th>4</th>\n",
       "      <td>13</td>\n",
       "      <td>8063807</td>\n",
       "      <td>AADAC enables catalytic activity.</td>\n",
       "      <td>Human liver arylacetamide deacetylase. Molecul...</td>\n",
       "      <td>Microsomal arylacetamide deacetylase (DAC) com...</td>\n",
       "    </tr>\n",
       "  </tbody>\n",
       "</table>\n",
       "</div>"
      ],
      "text/plain": [
       "   GeneID    PubMed                                             Target  \\\n",
       "0      12  14668352  SERPINA3 enables DNA binding; located_in nucleus.   \n",
       "1   64215  14668352  DNAJC1 enables ATPase activator activity; invo...   \n",
       "2      12   2404007  SERPINA3 enables serine-type endopeptidase inh...   \n",
       "3      13  11481320                     AADAC enables lipase activity.   \n",
       "4      13   8063807                  AADAC enables catalytic activity.   \n",
       "\n",
       "                                               Title  \\\n",
       "0  The SANT2 domain of the murine tumor cell DnaJ...   \n",
       "1  The SANT2 domain of the murine tumor cell DnaJ...   \n",
       "2  Cloning, expression, purification, and biologi...   \n",
       "3  Characterization of the rodent genes for aryla...   \n",
       "4  Human liver arylacetamide deacetylase. Molecul...   \n",
       "\n",
       "                                            Abstract  \n",
       "0  The murine tumor cell DnaJ-like protein 1 or M...  \n",
       "1  The murine tumor cell DnaJ-like protein 1 or M...  \n",
       "2  Human alpha 1-antichymotrypsin has been cloned...  \n",
       "3  In the current study, we have determined the c...  \n",
       "4  Microsomal arylacetamide deacetylase (DAC) com...  "
      ]
     },
     "execution_count": 3,
     "metadata": {},
     "output_type": "execute_result"
    }
   ],
   "source": [
    "pubmed_table.head(5)"
   ]
  },
  {
   "cell_type": "markdown",
   "metadata": {},
   "source": [
    "Now run the following cells to create JSON files ready for training: "
   ]
  },
  {
   "cell_type": "code",
   "execution_count": 8,
   "metadata": {},
   "outputs": [],
   "source": [
    "def write_json(i, article, abstract):\n",
    "    \"\"\" Saves a json file.\"\"\"\n",
    "\n",
    "    file = \"./pubmed/gpt2_1024_data/\"+str(i)+\".json\"\n",
    "    js_example = {}\n",
    "    js_example['id'] = i\n",
    "    js_example['article'] = article\n",
    "    js_example['abstract'] = abstract\n",
    "    with open(file, 'w') as f:\n",
    "        json.dump(js_example, f, ensure_ascii=False)"
   ]
  },
  {
   "cell_type": "code",
   "execution_count": 9,
   "metadata": {},
   "outputs": [
    {
     "name": "stdout",
     "output_type": "stream",
     "text": [
      "0  files written\n",
      "100  files written\n",
      "200  files written\n",
      "300  files written\n",
      "400  files written\n",
      "500  files written\n",
      "600  files written\n",
      "700  files written\n",
      "800  files written\n",
      "900  files written\n",
      "1000  files written\n",
      "1100  files written\n",
      "1200  files written\n",
      "1400  files written\n",
      "1500  files written\n",
      "1600  files written\n",
      "1700  files written\n",
      "1800  files written\n",
      "1900  files written\n",
      "2000  files written\n",
      "2100  files written\n",
      "2200  files written\n",
      "2300  files written\n",
      "2400  files written\n",
      "2500  files written\n",
      "2600  files written\n",
      "2700  files written\n",
      "2800  files written\n",
      "2900  files written\n",
      "3000  files written\n",
      "3100  files written\n",
      "3200  files written\n",
      "3300  files written\n",
      "3400  files written\n",
      "3500  files written\n",
      "3600  files written\n",
      "3700  files written\n",
      "3800  files written\n",
      "3900  files written\n",
      "4000  files written\n",
      "4100  files written\n",
      "4200  files written\n",
      "4300  files written\n",
      "4400  files written\n",
      "4500  files written\n",
      "4600  files written\n",
      "4700  files written\n",
      "4800  files written\n",
      "4900  files written\n",
      "5000  files written\n",
      "5100  files written\n",
      "5200  files written\n",
      "5300  files written\n",
      "5400  files written\n",
      "5500  files written\n",
      "5600  files written\n",
      "5700  files written\n",
      "5800  files written\n",
      "5900  files written\n",
      "6000  files written\n",
      "6100  files written\n",
      "6200  files written\n",
      "6300  files written\n",
      "6400  files written\n",
      "6500  files written\n",
      "6600  files written\n",
      "6700  files written\n",
      "6800  files written\n",
      "6900  files written\n",
      "7000  files written\n",
      "7100  files written\n",
      "7200  files written\n",
      "7300  files written\n",
      "7400  files written\n",
      "7500  files written\n",
      "7600  files written\n",
      "7700  files written\n"
     ]
    }
   ],
   "source": [
    "tokenizer = add_special_tokens()\n",
    "train_ids = []\n",
    "#file_id_map = {}\n",
    "sizes = []\n",
    "for index, row in pubmed_table.iterrows():\n",
    "    article = row[\"Title\"] + \" \" + row[\"Abstract\"]\n",
    "    summary = row[\"Target\"]\n",
    "    article = tokenizer.encode(article)\n",
    "    summary = tokenizer.encode(summary)\n",
    "    sizes.append(len(article) + len(summary))\n",
    "    if len(article) > 0 and len(summary) > 0 and (len(article) + len(summary) <= 1023):\n",
    "        train_ids.append(index)\n",
    "        write_json(index, article, summary)\n",
    "        #file_id_map[i] = os.path.basename(file).replace('.story', '')\n",
    "        if index%100==0:\n",
    "            print(index, \" files written\")\n",
    "            \n",
    "x,y = int(len(train_ids)*0.8), int(len(train_ids)*0.9)\n",
    "valid_ids = train_ids[x:y]\n",
    "test_ids = train_ids[y:]\n",
    "train_ids = train_ids[:x]\n",
    "with open(\"./pubmed/ids.json\",'w') as f:\n",
    "    js = {}\n",
    "    js['train_ids'] = train_ids\n",
    "    js['valid_ids'] = valid_ids\n",
    "    js['test_ids'] = test_ids\n",
    "    json.dump(js,f)\n"
   ]
  },
  {
   "cell_type": "markdown",
   "metadata": {},
   "source": [
    "To check the lengths of each article: "
   ]
  },
  {
   "cell_type": "code",
   "execution_count": 10,
   "metadata": {},
   "outputs": [
    {
     "data": {
      "image/png": "[encoded data removed]",
      "text/plain": [
       "<Figure size 720x360 with 1 Axes>"
      ]
     },
     "metadata": {
      "needs_background": "light"
     },
     "output_type": "display_data"
    }
   ],
   "source": [
    "fig = plt.figure(figsize = (10, 5))\n",
    "\n",
    "keys, counts = np.unique(sizes, return_counts=True)\n",
    "\n",
    "plt.bar(keys, counts)\n",
    "plt.show()"
   ]
  },
  {
   "cell_type": "markdown",
   "metadata": {},
   "source": [
    "In the above diagram, the x-axis represents the length of article, and the y-axis represents the count of articles that are of those length. "
   ]
  },
  {
   "cell_type": "markdown",
   "metadata": {},
   "source": [
    "## Training\n",
    "\n",
    "Cells below are the training process. "
   ]
  },
  {
   "cell_type": "markdown",
   "metadata": {},
   "source": [
    "### Define parameters\n",
    "\n",
    "Most of these diameters follow the most optimal parameters mentioned in the original article. The only changes made were: \n",
    "1. args.batch_size changed from 1 to 3\n",
    "2. args.device changed from 'cpu' to 'cuda'"
   ]
  },
  {
   "cell_type": "code",
   "execution_count": 2,
   "metadata": {},
   "outputs": [
    {
     "name": "stdout",
     "output_type": "stream",
     "text": [
      "Namespace(lr=5e-05, seed=42, n_gpu=1, gradient_accumulation_steps=32, batch_size=3, num_workers=4, device=device(type='cuda'), num_train_epochs=5, output_dir='./output', model_dir='./weights', max_grad_norm=1.0, root_dir='./pubmed/gpt2_1024_data', ids_file='./pubmed/ids.json')\n"
     ]
    }
   ],
   "source": [
    "#please change default arguments if needed\n",
    "\n",
    "parser = argparse.ArgumentParser()\n",
    "parser.add_argument(\"--lr\",default=5e-5, type=float, help=\"learning rate\")\n",
    "parser.add_argument(\"--seed\",default=42, type=int,  help=\"seed to replicate results\")\n",
    "parser.add_argument(\"--n_gpu\",default=1, type=int,  help=\"no of gpu available\")\n",
    "parser.add_argument(\"--gradient_accumulation_steps\",default=32, type=int, help=\"gradient_accumulation_steps\")\n",
    "parser.add_argument(\"--batch_size\",default=3, type=int,  help=\"batch_size\")\n",
    "parser.add_argument(\"--num_workers\",default=4, type=int,  help=\"num of cpus available\")\n",
    "parser.add_argument(\"--device\",default=torch.device('cuda'), help=\"torch.device object\")\n",
    "parser.add_argument(\"--num_train_epochs\",default=5, type=int,  help=\"no of epochs of training\")\n",
    "parser.add_argument(\"--output_dir\",default='./output', type=str,  help=\"path to save evaluation results\")\n",
    "parser.add_argument(\"--model_dir\",default='./weights', type=str,  help=\"path to save trained model\")\n",
    "parser.add_argument(\"--max_grad_norm\",default=1.0, type=float, help=\"max gradient norm.\")\n",
    "parser.add_argument(\"--root_dir\",default='./pubmed/gpt2_1024_data', type=str, help=\"location of json dataset.\")\n",
    "parser.add_argument(\"--ids_file\",default='./pubmed/ids.json', type=str, help=\"location of train, valid and test file indexes\")\n",
    "args = parser.parse_args([])\n",
    "print(args)"
   ]
  },
  {
   "cell_type": "markdown",
   "metadata": {},
   "source": [
    "It is worth noting that the authors of the original paper also admits that the best parameters that they found may not be the absolutely most optimal, as they would need more studies to find it. Also they were training on news articles, so depending on the domain difference, there may be a different set of parameters that are more suited for us. "
   ]
  },
  {
   "cell_type": "markdown",
   "metadata": {},
   "source": [
    "### Define training & evaluating function\n",
    "\n",
    "Lightly modified compared to the original. Made to have them compatible with situations where batch_size > 1. I used the mean value of loss across a batch as the loss to perform backward propagation. \n",
    "\n",
    "You can refer to train_gpt2_summarizer_np.ipynb to see the original functions. "
   ]
  },
  {
   "cell_type": "code",
   "execution_count": 1,
   "metadata": {},
   "outputs": [],
   "source": [
    "def train(args, model, tokenizer, train_dataset, valid_dataset, ignore_index):\n",
    "    \"\"\" Trains GPT2 model and logs necessary details.\n",
    "        Args:\n",
    "            args: dict that contains all the necessary information passed by user while training\n",
    "            model: finetuned gpt/gpt2 model\n",
    "            tokenizer: GPT/GPT2 tokenizer\n",
    "            train_dataset: GPT21024Dataset object for training data\n",
    "            ignore_index: token not considered in loss calculation\n",
    "    \"\"\"\n",
    "    writer = SummaryWriter('./output/logs')\n",
    "    train_sampler = RandomSampler(train_dataset)\n",
    "    train_dl = DataLoader(train_dataset,sampler=train_sampler,batch_size=args.batch_size,num_workers=args.num_workers)\n",
    "    loss_fct = CrossEntropyLoss(ignore_index=ignore_index) #ignores padding token for loss calculation\n",
    "    optimizer = AdamW(model.parameters(),lr=args.lr)\n",
    "    scheduler = WarmupLinearSchedule(optimizer,200,80000)\n",
    "    loss_trace = {}\n",
    "    val_loss_trace = {}\n",
    "\n",
    "    global_step = 0\n",
    "    tr_loss, logging_loss = 0.0, 0.0\n",
    "    model.zero_grad()\n",
    "    train_iterator = tnrange(int(args.num_train_epochs), desc=\"Epoch\")\n",
    "    set_seed(args)\n",
    "    for _ in train_iterator:\n",
    "        epoch_iterator = tqdm_notebook(train_dl, desc=\"Training\")\n",
    "        for step, batch in enumerate(epoch_iterator):\n",
    "            inputs, labels = batch['article'].to(args.device), batch['article'].to(args.device)\n",
    "            model.train()\n",
    "            logits = model(inputs)[0]\n",
    "            # only consider loss on reference summary just like seq2seq models\n",
    "            # Modification starts here\n",
    "            loss = 0\n",
    "            for idx in batch['sum_idx']:\n",
    "                shift_logits = logits[..., idx:-1, :].contiguous()\n",
    "                shift_labels = labels[..., idx+1:].contiguous()\n",
    "                loss_single = loss_fct(shift_logits.view(-1, shift_logits.size(-1)), shift_labels.view(-1))\n",
    "                loss_single = loss_single/args.gradient_accumulation_steps\n",
    "                loss += loss_single\n",
    "            loss = loss / args.batch_size\n",
    "            # Modification stops here\n",
    "            loss.backward()\n",
    "            torch.nn.utils.clip_grad_norm_(model.parameters(), args.max_grad_norm)\n",
    "            tr_loss += loss.item()\n",
    "            if (step + 1) % args.gradient_accumulation_steps == 0:\n",
    "                optimizer.step()\n",
    "                scheduler.step()  # Update learning rate schedule\n",
    "                model.zero_grad()\n",
    "                global_step += 1\n",
    "                writer.add_scalar('lr', scheduler.get_lr()[0], global_step)\n",
    "                writer.add_scalar('loss', (tr_loss - logging_loss)/args.gradient_accumulation_steps, global_step)\n",
    "                logging_loss = tr_loss\n",
    "                loss_trace[global_step] = loss.item()\n",
    "                print(\"loss:\", loss.item(), end='\\n\\n')\n",
    "                if (step + 1)/args.gradient_accumulation_steps == 1.0:\n",
    "                \tprint('After 1st update: ', end='\\n\\n')\n",
    "                \tgenerate_sample(valid_dataset, tokenizer, model, num=2, eval_step=False,device=args.device)\n",
    "                \n",
    "                \n",
    "            if (step + 1) % (10*args.gradient_accumulation_steps) == 0:\n",
    "                results, val_loss = evaluate(args, model, valid_dataset, ignore_index, global_step)\n",
    "                val_loss_trace[global_step] = val_loss\n",
    "                for key, value in results.items():\n",
    "                    writer.add_scalar('eval_{}'.format(key), value, global_step)\n",
    "                print('After', global_step+1,'updates: ', end='\\n\\n')\n",
    "                generate_sample(valid_dataset, tokenizer, model, num=2, eval_step=True, device=args.device)\n",
    "                \n",
    "    return loss_trace, val_loss_trace\n"
   ]
  },
  {
   "cell_type": "code",
   "execution_count": 2,
   "metadata": {},
   "outputs": [],
   "source": [
    "def evaluate(args, model, eval_dataset, ignore_index, global_step=None):\n",
    "    \"\"\" Returns perplexity score on validation dataset.\n",
    "        Args:\n",
    "            args: dict that contains all the necessary information passed by user while training\n",
    "            model: finetuned gpt/gpt2 model\n",
    "            eval_dataset: GPT21024Dataset object for validation data\n",
    "            global_step: no. of times gradients have backpropagated\n",
    "            ignore_index: token not considered in loss calculation\n",
    "    \"\"\"\n",
    "    if not os.path.exists(args.output_dir):\n",
    "        os.mkdir(args.output_dir)\n",
    "    eval_output_dir = args.output_dir\n",
    "\n",
    "    results = {}\n",
    "    eval_sampler = SequentialSampler(eval_dataset)\n",
    "    eval_dataloader = DataLoader(eval_dataset, sampler=eval_sampler, batch_size=args.batch_size)\n",
    "    loss_fct = CrossEntropyLoss(ignore_index=ignore_index) #ignores padding token for loss calculation\n",
    "\n",
    "    eval_loss = 0.0\n",
    "    nb_eval_steps = 0\n",
    "    model.eval()\n",
    "\n",
    "    for batch in tqdm_notebook(eval_dataloader, desc=\"Evaluating\"):\n",
    "        inputs, labels = batch['article'].to(args.device), batch['article'].to(args.device)\n",
    "        \n",
    "        \n",
    "        with torch.no_grad():\n",
    "            logits = model(inputs)[0]\n",
    "            # only consider loss on reference summary just like seq2seq models\n",
    "            # Modification starts here\n",
    "            lm_loss = 0\n",
    "            for idx in batch['sum_idx']:\n",
    "                shift_logits = logits[..., idx:-1, :].contiguous()\n",
    "                shift_labels = labels[..., idx+1:].contiguous()\n",
    "                lm_loss += loss_fct(shift_logits.view(-1, shift_logits.size(-1)), shift_labels.view(-1))\n",
    "            lm_loss = lm_loss / args.batch_size\n",
    "            # Modification stops here\n",
    "            eval_loss += lm_loss.mean().item()\n",
    "        nb_eval_steps += 1\n",
    "\n",
    "    eval_loss = eval_loss / nb_eval_steps\n",
    "    perplexity = torch.exp(torch.tensor(eval_loss))\n",
    "\n",
    "    result = {\n",
    "        \"perplexity\": perplexity\n",
    "    }\n",
    "    print(\"perplexity:\", perplexity.item())\n",
    "\n",
    "    if global_step:\n",
    "        output_eval_file = os.path.join(eval_output_dir, \"eval_results.txt\")\n",
    "        with open(output_eval_file, \"a\") as f:\n",
    "            for key in sorted(result.keys()):\n",
    "                f.write('\\n\\n')\n",
    "                f.write(\"time = %s, %s = %s, step = %s\\n\" % (datetime.now().strftime(\"%d/%m/%Y %H:%M:%S\"), key, str(result[key]), str(global_step)))\n",
    "    return result, eval_loss           "
   ]
  },
  {
   "cell_type": "markdown",
   "metadata": {},
   "source": [
    "### Define training/validation/test sets\n",
    "\n",
    "They are divided by 8:1:1 ratio. "
   ]
  },
  {
   "cell_type": "code",
   "execution_count": 5,
   "metadata": {},
   "outputs": [],
   "source": [
    "# creating training and validation dataset object\n",
    "\n",
    "train_data = GPT21024Dataset(args.root_dir,args.ids_file,mode='train',length=6100) #training on only 6100 datasets\n",
    "valid_data = GPT21024Dataset(args.root_dir,args.ids_file,mode='valid',length=770)  #validation on only 700 datasets\n",
    "test_data = GPT21024Dataset(args.root_dir,args.ids_file,mode='test',length=770)  #Testing on only 700 datasets\n"
   ]
  },
  {
   "cell_type": "markdown",
   "metadata": {},
   "source": [
    "### Load pretrained GPT2 model"
   ]
  },
  {
   "cell_type": "code",
   "execution_count": null,
   "metadata": {
    "jupyter": {
     "outputs_hidden": true
    }
   },
   "outputs": [],
   "source": [
    "# load pretrained GPT2\n",
    "tokenizer = add_special_tokens()\n",
    "ignore_idx = tokenizer.pad_token_id\n",
    "model = GPT2LMHeadModel.from_pretrained('gpt2')\n",
    "model.resize_token_embeddings(len(tokenizer))\n",
    "model.to(args.device)"
   ]
  },
  {
   "cell_type": "markdown",
   "metadata": {},
   "source": [
    "### Start training process"
   ]
  },
  {
   "cell_type": "code",
   "execution_count": 8,
   "metadata": {
    "jupyter": {
     "outputs_hidden": true
    }
   },
   "outputs": [
    {
     "name": "stderr",
     "output_type": "stream",
     "text": [
      "/tmp/ipykernel_3410850/2088881563.py:22: TqdmDeprecationWarning: Please use `tqdm.notebook.trange` instead of `tqdm.tnrange`\n",
      "  train_iterator = tnrange(int(args.num_train_epochs), desc=\"Epoch\")\n"
     ]
    },
    {
     "data": {
      "application/vnd.jupyter.widget-view+json": {
       "model_id": "79ae969a459b4c0fb226301cde2bfe50",
       "version_major": 2,
       "version_minor": 0
      },
      "text/plain": [
       "Epoch:   0%|          | 0/5 [00:00<?, ?it/s]"
      ]
     },
     "metadata": {},
     "output_type": "display_data"
    },
    {
     "name": "stderr",
     "output_type": "stream",
     "text": [
      "/tmp/ipykernel_3410850/2088881563.py:25: TqdmDeprecationWarning: This function will be removed in tqdm==5.0.0\n",
      "Please use `tqdm.notebook.tqdm` instead of `tqdm.tqdm_notebook`\n",
      "  epoch_iterator = tqdm_notebook(train_dl, desc=\"Training\")\n"
     ]
    },
    {
     "data": {
      "application/vnd.jupyter.widget-view+json": {
       "model_id": "bd6c3bed21104570a14f1129e1055dd2",
       "version_major": 2,
       "version_minor": 0
      },
      "text/plain": [
       "Training:   0%|          | 0/6100 [00:00<?, ?it/s]"
      ]
     },
     "metadata": {},
     "output_type": "display_data"
    },
    {
     "name": "stdout",
     "output_type": "stream",
     "text": [
      "loss: 2.1977221965789795\n",
      "\n",
      "After 1st update: \n",
      "\n"
     ]
    },
    {
     "name": "stderr",
     "output_type": "stream",
     "text": [
      "/home/rli10/anaconda3/lib/python3.9/site-packages/transformers/optimization.py:166: UserWarning: This overload of add_ is deprecated:\n",
      "\tadd_(Number alpha, Tensor other)\n",
      "Consider using one of the following signatures instead:\n",
      "\tadd_(Tensor other, *, Number alpha) (Triggered internally at  /pytorch/torch/csrc/utils/python_arg_parser.cpp:882.)\n",
      "  exp_avg.mul_(beta1).add_(1.0 - beta1, grad)\n",
      "/home/rli10/anaconda3/lib/python3.9/site-packages/torch/optim/lr_scheduler.py:247: UserWarning: To get the last learning rate computed by the scheduler, please use `get_last_lr()`.\n",
      "  warnings.warn(\"To get the last learning rate computed by the scheduler, \"\n"
     ]
    },
    {
     "data": {
      "application/vnd.jupyter.widget-view+json": {
       "model_id": "12696417e0394b23bbd587ad3f69f15f",
       "version_major": 2,
       "version_minor": 0
      },
      "text/plain": [
       "  0%|          | 0/100 [00:00<?, ?it/s]"
      ]
     },
     "metadata": {},
     "output_type": "display_data"
    },
    {
     "name": "stdout",
     "output_type": "stream",
     "text": [
      "new_article\n",
      "\n",
      "The peptide repeat domain of nucleoporin Nup98 functions as a docking site in transport across the nuclear pore complex. We report the cDNA deduced primary structure of a wheat germ agglutinin-reactive nuclear pore complex (NPC) protein of rat. The protein, termed Nup98 (for nucleoporin of 98 kDa), contains numerous GLFG and FG repeats and some FXFG repeats and is thus a vertebrate member of a family of GLFG nucleoporins that were previously discovered in yeast. Immunoelectron microscopy showed Nup98 to be asymmetrically located at the nucleoplasmic side of the NPC. Nup98 functions as one of several docking site nucleoporins in a cytosolic docking activity-mediated binding of a model transport substrate. The docking site of Nup98 was mapped to its N-terminal half, which contains all of the peptide repeats. A recombinant segment of this region depleted the docking activity of cytosol. We suggest that the peptide repeat domain of Nup98, together with peptide repeat domains of other nucleoporins, forms an array of sites for mediated docking of transport substrate, and that bidirectional transport across the NPC proceeds by repeated docking and undocking reactions.\n",
      "\n",
      "generated_summary\n",
      "\n",
      "<|pad|><|pad|><|pad|><|pad|><|pad|><|pad|><|pad|><|pad|><|pad|><|pad|><|pad|><|pad|><|pad|><|pad|><|pad|><|pad|><|pad|><|pad|><|pad|><|sep|><|pad|><|sep|><|pad|><|pad|><|pad|><|pad|><|pad|><|pad|><|pad|><|pad|><|pad|><|pad|><|pad|><|pad|><|pad|><|pad|><|pad|><|pad|><|pad|><|pad|><|pad|><|sep|><|pad|><|pad|><|pad|><|pad|><|pad|><|sep|><|pad|><|pad|><|pad|><|pad|><|pad|><|sep|><|pad|><|pad|><|pad|><|pad|><|pad|><|pad|><|pad|><|pad|><|pad|><|pad|><|pad|><|pad|><|pad|><|pad|><|pad|><|pad|><|pad|><|pad|><|pad|><|pad|><|pad|><|pad|><|pad|><|pad|><|pad|><|pad|><|pad|><|pad|><|pad|><|pad|><|pad|><|pad|><|pad|><|pad|><|pad|><|pad|><|pad|><|pad|><|pad|><|pad|><|pad|><|pad|><|pad|><|pad|><|pad|><|pad|>\n",
      "\n",
      "actual_summary\n",
      "\n",
      "NUP98 enables transporter activity. <|pad|> <|pad|> <|pad|> <|pad|> <|pad|> <|pad|> <|pad|> <|pad|> <|pad|> <|pad|> <|pad|> <|pad|> <|pad|> <|pad|> <|pad|> <|pad|> <|pad|> <|pad|> <|pad|> <|pad|> <|pad|> <|pad|> <|pad|> <|pad|> <|pad|> <|pad|> <|pad|> <|pad|> <|pad|> <|pad|> <|pad|> <|pad|> <|pad|> <|pad|> <|pad|> <|pad|> <|pad|> <|pad|> <|pad|> <|pad|> <|pad|> <|pad|> <|pad|> <|pad|> <|pad|> <|pad|> <|pad|> <|pad|> <|pad|> <|pad|> <|pad|> <|pad|> <|pad|> <|pad|> <|pad|> <|pad|> <|pad|> <|pad|> <|pad|> <|pad|> <|pad|> <|pad|> <|pad|> <|pad|> <|pad|> <|pad|> <|pad|> <|pad|> <|pad|> <|pad|> <|pad|> <|pad|> <|pad|> <|pad|> <|pad|> <|pad|> <|pad|> <|pad|> <|pad|> <|pad|> <|pad|> <|pad|> <|pad|> <|pad|> <|pad|> <|pad|> <|pad|> <|pad|> <|pad|> <|pad|> <|pad|> <|pad|> <|pad|>\n",
      "\n"
     ]
    },
    {
     "data": {
      "application/vnd.jupyter.widget-view+json": {
       "model_id": "6cbf819e11124c009fff3005a05ecde7",
       "version_major": 2,
       "version_minor": 0
      },
      "text/plain": [
       "  0%|          | 0/100 [00:00<?, ?it/s]"
      ]
     },
     "metadata": {},
     "output_type": "display_data"
    },
    {
     "name": "stdout",
     "output_type": "stream",
     "text": [
      "new_article\n",
      "\n",
      "The CXC chemokine stromal cell-derived factor activates a Gi-coupled phosphoinositide 3-kinase in T lymphocytes. The cellular effects of stromal cell-derived factor-1 (SDF-1) are mediated primarily by binding to the CXC chemokine receptor-4. We report in this study that SDF-1 and its peptide analogues induce a concentration- and time-dependent accumulation of phosphatidylinositol-(3,4,5)-trisphosphate (PtdIns(3,4,5)P3) in Jurkat cells. This SDF-1-stimulated generation of D-3 phosphoinositide lipids was inhibited by pretreatment of the cells with an SDF-1 peptide antagonist or an anti-CXCR4 Ab. In addition, the phosphoinositide 3 (PI 3)-kinase inhibitors wortmannin and LY294002, as well as the Gi protein inhibitor pertussis toxin, also inhibited the SDF-1-stimulated accumulation of PtdIns(3,4,5)P3. The effects of SDF-1 on D-3 phosphoinositide lipid accumulation correlated well with activation of the known PI 3-kinase effector protein kinase B, which was also inhibited by wortmannin and pertussis toxin. Concentrations of PI 3-kinase inhibitors, sufficient to inhibit PtdIns(3,4,5)P3 accumulation, also inhibited chemotaxis of Jurkat and peripheral blood-derived T lymphocytes in response to SDF-1. In contrast, SDF-1-stimulated actin polymerization was only partially inhibited by PI 3-kinase inhibitors, suggesting that while chemotaxis is fully dependent on PI 3-kinase activation, actin polymerization requires additional biochemical inputs. Finally, SDF-1-stimulated extracellular signal-related kinase (ERK)-1/2 mitogen-activated protein kinase activation was inhibited by PI 3-kinase inhibitors. In addition, the mitogen-activated protein/ERK kinase inhibitor PD098059 partially attenuated chemotaxis in response to SDF-1. Hence, it appears that ERK1/2 activation is dependent on PI 3-kinase activation, and both biochemical events are involved in the regulation of SDF-1-stimulated chemotaxis.\n",
      "\n",
      "generated_summary\n",
      "\n",
      "<|pad|><|pad|><|pad|><|pad|><|pad|><|pad|><|sep|><|pad|><|pad|><|pad|><|pad|><|sep|><|pad|><|pad|><|pad|><|pad|><|pad|><|pad|><|pad|><|pad|><|pad|><|pad|><|pad|><|pad|><|pad|><|pad|><|pad|><|pad|><|pad|><|pad|><|pad|><|sep|><|pad|><|pad|><|sep|><|pad|><|pad|><|sep|><|pad|><|pad|><|pad|><|pad|><|pad|><|pad|><|pad|><|pad|><|pad|><|pad|><|pad|><|pad|><|pad|><|pad|><|pad|><|pad|><|pad|><|pad|><|pad|><|pad|><|pad|><|pad|><|pad|><|pad|><|pad|><|pad|><|pad|><|pad|><|pad|><|pad|><|pad|><|pad|><|pad|><|pad|><|pad|><|pad|><|sep|><|pad|><|pad|><|pad|><|pad|><|pad|><|sep|><|pad|><|pad|><|pad|><|pad|><|pad|><|pad|><|pad|><|pad|><|pad|><|pad|><|pad|><|pad|><|pad|><|pad|><|sep|><|pad|><|pad|><|sep|><|pad|>\n",
      "\n",
      "actual_summary\n",
      "\n",
      "AKT1 enables protein kinase activity; involved_in G protein-coupled receptor signaling pathway. <|pad|> <|pad|> <|pad|> <|pad|> <|pad|> <|pad|> <|pad|> <|pad|> <|pad|> <|pad|> <|pad|> <|pad|> <|pad|> <|pad|> <|pad|> <|pad|> <|pad|> <|pad|> <|pad|> <|pad|> <|pad|> <|pad|> <|pad|> <|pad|> <|pad|> <|pad|> <|pad|> <|pad|> <|pad|> <|pad|> <|pad|> <|pad|> <|pad|> <|pad|> <|pad|> <|pad|> <|pad|> <|pad|> <|pad|> <|pad|> <|pad|> <|pad|> <|pad|> <|pad|> <|pad|> <|pad|> <|pad|> <|pad|> <|pad|> <|pad|> <|pad|> <|pad|> <|pad|> <|pad|> <|pad|> <|pad|> <|pad|> <|pad|> <|pad|> <|pad|> <|pad|> <|pad|> <|pad|> <|pad|> <|pad|> <|pad|> <|pad|> <|pad|> <|pad|> <|pad|> <|pad|> <|pad|> <|pad|> <|pad|> <|pad|> <|pad|> <|pad|> <|pad|>\n",
      "\n",
      "loss: 1.7824409008026123\n",
      "\n",
      "loss: 2.2004432678222656\n",
      "\n",
      "loss: 2.126858949661255\n",
      "\n",
      "loss: 2.134667158126831\n",
      "\n",
      "loss: 2.0683560371398926\n",
      "\n",
      "loss: 2.4643821716308594\n",
      "\n",
      "loss: 1.7919962406158447\n",
      "\n",
      "loss: 2.107866048812866\n",
      "\n",
      "loss: 2.27402400970459\n",
      "\n"
     ]
    },
    {
     "name": "stderr",
     "output_type": "stream",
     "text": [
      "/tmp/ipykernel_3410850/3668365262.py:23: TqdmDeprecationWarning: This function will be removed in tqdm==5.0.0\n",
      "Please use `tqdm.notebook.tqdm` instead of `tqdm.tqdm_notebook`\n",
      "  for batch in tqdm_notebook(eval_dataloader, desc=\"Evaluating\"):\n"
     ]
    },
    {
     "data": {
      "application/vnd.jupyter.widget-view+json": {
       "model_id": "1f6b8201e14d461f95cb1cc8897236cb",
       "version_major": 2,
       "version_minor": 0
      },
      "text/plain": [
       "Evaluating:   0%|          | 0/770 [00:00<?, ?it/s]"
      ]
     },
     "metadata": {},
     "output_type": "display_data"
    },
    {
     "name": "stdout",
     "output_type": "stream",
     "text": [
      "perplexity: 9.828721051508936e+30\n",
      "After 11 updates: \n",
      "\n"
     ]
    },
    {
     "data": {
      "application/vnd.jupyter.widget-view+json": {
       "model_id": "b0538326a46446f6a0632da648662984",
       "version_major": 2,
       "version_minor": 0
      },
      "text/plain": [
       "  0%|          | 0/100 [00:00<?, ?it/s]"
      ]
     },
     "metadata": {},
     "output_type": "display_data"
    },
    {
     "name": "stdout",
     "output_type": "stream",
     "text": [
      "The peptide repeat domain of nucleoporin Nup98 functions as a docking site in transport across the nuclear pore complex. We report the cDNA deduced primary structure of a wheat germ agglutinin-reactive nuclear pore complex (NPC) protein of rat. The protein, termed Nup98 (for nucleoporin of 98 kDa), contains numerous GLFG and FG repeats and some FXFG repeats and is thus a vertebrate member of a family of GLFG nucleoporins that were previously discovered in yeast. Immunoelectron microscopy showed Nup98 to be asymmetrically located at the nucleoplasmic side of the NPC. Nup98 functions as one of several docking site nucleoporins in a cytosolic docking activity-mediated binding of a model transport substrate. The docking site of Nup98 was mapped to its N-terminal half, which contains all of the peptide repeats. A recombinant segment of this region depleted the docking activity of cytosol. We suggest that the peptide repeat domain of Nup98, together with peptide repeat domains of other nucleoporins, forms an array of sites for mediated docking of transport substrate, and that bidirectional transport across the NPC proceeds by repeated docking and undocking reactions.\n",
      "\n",
      "generated_summary\n",
      "\n"
     ]
    },
    {
     "data": {
      "application/vnd.jupyter.widget-view+json": {
       "model_id": "c90f2a548834415ab8e1fe2f5ee9af86",
       "version_major": 2,
       "version_minor": 0
      },
      "text/plain": [
       "  0%|          | 0/100 [00:00<?, ?it/s]"
      ]
     },
     "metadata": {},
     "output_type": "display_data"
    },
    {
     "name": "stdout",
     "output_type": "stream",
     "text": [
      "The CXC chemokine stromal cell-derived factor activates a Gi-coupled phosphoinositide 3-kinase in T lymphocytes. The cellular effects of stromal cell-derived factor-1 (SDF-1) are mediated primarily by binding to the CXC chemokine receptor-4. We report in this study that SDF-1 and its peptide analogues induce a concentration- and time-dependent accumulation of phosphatidylinositol-(3,4,5)-trisphosphate (PtdIns(3,4,5)P3) in Jurkat cells. This SDF-1-stimulated generation of D-3 phosphoinositide lipids was inhibited by pretreatment of the cells with an SDF-1 peptide antagonist or an anti-CXCR4 Ab. In addition, the phosphoinositide 3 (PI 3)-kinase inhibitors wortmannin and LY294002, as well as the Gi protein inhibitor pertussis toxin, also inhibited the SDF-1-stimulated accumulation of PtdIns(3,4,5)P3. The effects of SDF-1 on D-3 phosphoinositide lipid accumulation correlated well with activation of the known PI 3-kinase effector protein kinase B, which was also inhibited by wortmannin and pertussis toxin. Concentrations of PI 3-kinase inhibitors, sufficient to inhibit PtdIns(3,4,5)P3 accumulation, also inhibited chemotaxis of Jurkat and peripheral blood-derived T lymphocytes in response to SDF-1. In contrast, SDF-1-stimulated actin polymerization was only partially inhibited by PI 3-kinase inhibitors, suggesting that while chemotaxis is fully dependent on PI 3-kinase activation, actin polymerization requires additional biochemical inputs. Finally, SDF-1-stimulated extracellular signal-related kinase (ERK)-1/2 mitogen-activated protein kinase activation was inhibited by PI 3-kinase inhibitors. In addition, the mitogen-activated protein/ERK kinase inhibitor PD098059 partially attenuated chemotaxis in response to SDF-1. Hence, it appears that ERK1/2 activation is dependent on PI 3-kinase activation, and both biochemical events are involved in the regulation of SDF-1-stimulated chemotaxis.\n",
      "\n",
      "generated_summary\n",
      "\n",
      "loss: 2.053595781326294\n",
      "\n",
      "loss: 2.6248161792755127\n",
      "\n",
      "loss: 2.20845627784729\n",
      "\n",
      "loss: 1.7183341979980469\n",
      "\n",
      "loss: 2.054264783859253\n",
      "\n",
      "loss: 1.7557284832000732\n",
      "\n",
      "loss: 1.6935290098190308\n",
      "\n",
      "loss: 1.868558406829834\n",
      "\n",
      "loss: 1.8816637992858887\n",
      "\n",
      "loss: 1.8252009153366089\n",
      "\n"
     ]
    },
    {
     "data": {
      "application/vnd.jupyter.widget-view+json": {
       "model_id": "026f2746fe644f4e85888b2b56892272",
       "version_major": 2,
       "version_minor": 0
      },
      "text/plain": [
       "Evaluating:   0%|          | 0/770 [00:00<?, ?it/s]"
      ]
     },
     "metadata": {},
     "output_type": "display_data"
    },
    {
     "name": "stdout",
     "output_type": "stream",
     "text": [
      "perplexity: 1.913456551414295e+24\n",
      "After 21 updates: \n",
      "\n"
     ]
    },
    {
     "data": {
      "application/vnd.jupyter.widget-view+json": {
       "model_id": "8ce91a3e750d4ab394bb4656c59d626b",
       "version_major": 2,
       "version_minor": 0
      },
      "text/plain": [
       "  0%|          | 0/100 [00:00<?, ?it/s]"
      ]
     },
     "metadata": {},
     "output_type": "display_data"
    },
    {
     "name": "stdout",
     "output_type": "stream",
     "text": [
      "The peptide repeat domain of nucleoporin Nup98 functions as a docking site in transport across the nuclear pore complex. We report the cDNA deduced primary structure of a wheat germ agglutinin-reactive nuclear pore complex (NPC) protein of rat. The protein, termed Nup98 (for nucleoporin of 98 kDa), contains numerous GLFG and FG repeats and some FXFG repeats and is thus a vertebrate member of a family of GLFG nucleoporins that were previously discovered in yeast. Immunoelectron microscopy showed Nup98 to be asymmetrically located at the nucleoplasmic side of the NPC. Nup98 functions as one of several docking site nucleoporins in a cytosolic docking activity-mediated binding of a model transport substrate. The docking site of Nup98 was mapped to its N-terminal half, which contains all of the peptide repeats. A recombinant segment of this region depleted the docking activity of cytosol. We suggest that the peptide repeat domain of Nup98, together with peptide repeat domains of other nucleoporins, forms an array of sites for mediated docking of transport substrate, and that bidirectional transport across the NPC proceeds by repeated docking and undocking reactions.\n",
      "\n",
      "generated_summary\n",
      "\n"
     ]
    },
    {
     "data": {
      "application/vnd.jupyter.widget-view+json": {
       "model_id": "2271fbea14d94b2d9e83836994cfd073",
       "version_major": 2,
       "version_minor": 0
      },
      "text/plain": [
       "  0%|          | 0/100 [00:00<?, ?it/s]"
      ]
     },
     "metadata": {},
     "output_type": "display_data"
    },
    {
     "name": "stdout",
     "output_type": "stream",
     "text": [
      "The CXC chemokine stromal cell-derived factor activates a Gi-coupled phosphoinositide 3-kinase in T lymphocytes. The cellular effects of stromal cell-derived factor-1 (SDF-1) are mediated primarily by binding to the CXC chemokine receptor-4. We report in this study that SDF-1 and its peptide analogues induce a concentration- and time-dependent accumulation of phosphatidylinositol-(3,4,5)-trisphosphate (PtdIns(3,4,5)P3) in Jurkat cells. This SDF-1-stimulated generation of D-3 phosphoinositide lipids was inhibited by pretreatment of the cells with an SDF-1 peptide antagonist or an anti-CXCR4 Ab. In addition, the phosphoinositide 3 (PI 3)-kinase inhibitors wortmannin and LY294002, as well as the Gi protein inhibitor pertussis toxin, also inhibited the SDF-1-stimulated accumulation of PtdIns(3,4,5)P3. The effects of SDF-1 on D-3 phosphoinositide lipid accumulation correlated well with activation of the known PI 3-kinase effector protein kinase B, which was also inhibited by wortmannin and pertussis toxin. Concentrations of PI 3-kinase inhibitors, sufficient to inhibit PtdIns(3,4,5)P3 accumulation, also inhibited chemotaxis of Jurkat and peripheral blood-derived T lymphocytes in response to SDF-1. In contrast, SDF-1-stimulated actin polymerization was only partially inhibited by PI 3-kinase inhibitors, suggesting that while chemotaxis is fully dependent on PI 3-kinase activation, actin polymerization requires additional biochemical inputs. Finally, SDF-1-stimulated extracellular signal-related kinase (ERK)-1/2 mitogen-activated protein kinase activation was inhibited by PI 3-kinase inhibitors. In addition, the mitogen-activated protein/ERK kinase inhibitor PD098059 partially attenuated chemotaxis in response to SDF-1. Hence, it appears that ERK1/2 activation is dependent on PI 3-kinase activation, and both biochemical events are involved in the regulation of SDF-1-stimulated chemotaxis.\n",
      "\n",
      "generated_summary\n",
      "\n",
      "loss: 1.0486969947814941\n",
      "\n",
      "loss: 1.8227413892745972\n",
      "\n",
      "loss: 1.4259594678878784\n",
      "\n",
      "loss: 1.1521130800247192\n",
      "\n",
      "loss: 1.711664080619812\n",
      "\n",
      "loss: 1.7777023315429688\n",
      "\n",
      "loss: 1.414881944656372\n",
      "\n",
      "loss: 1.0104774236679077\n",
      "\n",
      "loss: 0.4830433130264282\n",
      "\n",
      "loss: 1.14165461063385\n",
      "\n"
     ]
    },
    {
     "data": {
      "application/vnd.jupyter.widget-view+json": {
       "model_id": "576c04846012412f8e178423e200a977",
       "version_major": 2,
       "version_minor": 0
      },
      "text/plain": [
       "Evaluating:   0%|          | 0/770 [00:00<?, ?it/s]"
      ]
     },
     "metadata": {},
     "output_type": "display_data"
    },
    {
     "name": "stdout",
     "output_type": "stream",
     "text": [
      "perplexity: 21180358590464.0\n",
      "After 31 updates: \n",
      "\n"
     ]
    },
    {
     "data": {
      "application/vnd.jupyter.widget-view+json": {
       "model_id": "0c45500b811340709c2adecbf591ec89",
       "version_major": 2,
       "version_minor": 0
      },
      "text/plain": [
       "  0%|          | 0/100 [00:00<?, ?it/s]"
      ]
     },
     "metadata": {},
     "output_type": "display_data"
    },
    {
     "name": "stdout",
     "output_type": "stream",
     "text": [
      "The peptide repeat domain of nucleoporin Nup98 functions as a docking site in transport across the nuclear pore complex. We report the cDNA deduced primary structure of a wheat germ agglutinin-reactive nuclear pore complex (NPC) protein of rat. The protein, termed Nup98 (for nucleoporin of 98 kDa), contains numerous GLFG and FG repeats and some FXFG repeats and is thus a vertebrate member of a family of GLFG nucleoporins that were previously discovered in yeast. Immunoelectron microscopy showed Nup98 to be asymmetrically located at the nucleoplasmic side of the NPC. Nup98 functions as one of several docking site nucleoporins in a cytosolic docking activity-mediated binding of a model transport substrate. The docking site of Nup98 was mapped to its N-terminal half, which contains all of the peptide repeats. A recombinant segment of this region depleted the docking activity of cytosol. We suggest that the peptide repeat domain of Nup98, together with peptide repeat domains of other nucleoporins, forms an array of sites for mediated docking of transport substrate, and that bidirectional transport across the NPC proceeds by repeated docking and undocking reactions.\n",
      "\n",
      "generated_summary\n",
      "\n"
     ]
    },
    {
     "data": {
      "application/vnd.jupyter.widget-view+json": {
       "model_id": "d90fe5252f5d499a89044793f762fd13",
       "version_major": 2,
       "version_minor": 0
      },
      "text/plain": [
       "  0%|          | 0/100 [00:00<?, ?it/s]"
      ]
     },
     "metadata": {},
     "output_type": "display_data"
    },
    {
     "name": "stdout",
     "output_type": "stream",
     "text": [
      "The CXC chemokine stromal cell-derived factor activates a Gi-coupled phosphoinositide 3-kinase in T lymphocytes. The cellular effects of stromal cell-derived factor-1 (SDF-1) are mediated primarily by binding to the CXC chemokine receptor-4. We report in this study that SDF-1 and its peptide analogues induce a concentration- and time-dependent accumulation of phosphatidylinositol-(3,4,5)-trisphosphate (PtdIns(3,4,5)P3) in Jurkat cells. This SDF-1-stimulated generation of D-3 phosphoinositide lipids was inhibited by pretreatment of the cells with an SDF-1 peptide antagonist or an anti-CXCR4 Ab. In addition, the phosphoinositide 3 (PI 3)-kinase inhibitors wortmannin and LY294002, as well as the Gi protein inhibitor pertussis toxin, also inhibited the SDF-1-stimulated accumulation of PtdIns(3,4,5)P3. The effects of SDF-1 on D-3 phosphoinositide lipid accumulation correlated well with activation of the known PI 3-kinase effector protein kinase B, which was also inhibited by wortmannin and pertussis toxin. Concentrations of PI 3-kinase inhibitors, sufficient to inhibit PtdIns(3,4,5)P3 accumulation, also inhibited chemotaxis of Jurkat and peripheral blood-derived T lymphocytes in response to SDF-1. In contrast, SDF-1-stimulated actin polymerization was only partially inhibited by PI 3-kinase inhibitors, suggesting that while chemotaxis is fully dependent on PI 3-kinase activation, actin polymerization requires additional biochemical inputs. Finally, SDF-1-stimulated extracellular signal-related kinase (ERK)-1/2 mitogen-activated protein kinase activation was inhibited by PI 3-kinase inhibitors. In addition, the mitogen-activated protein/ERK kinase inhibitor PD098059 partially attenuated chemotaxis in response to SDF-1. Hence, it appears that ERK1/2 activation is dependent on PI 3-kinase activation, and both biochemical events are involved in the regulation of SDF-1-stimulated chemotaxis.\n",
      "\n",
      "generated_summary\n",
      "\n",
      "loss: 0.7520797252655029\n",
      "\n",
      "loss: 1.666986107826233\n",
      "\n",
      "loss: 0.6961371302604675\n",
      "\n",
      "loss: 0.5256078243255615\n",
      "\n",
      "loss: 0.6730632185935974\n",
      "\n",
      "loss: 0.5506701469421387\n",
      "\n",
      "loss: 0.33291518688201904\n",
      "\n",
      "loss: 0.37536200881004333\n",
      "\n",
      "loss: 0.22521716356277466\n",
      "\n",
      "loss: 0.3144305944442749\n",
      "\n"
     ]
    },
    {
     "data": {
      "application/vnd.jupyter.widget-view+json": {
       "model_id": "ff39fb59c57445e9b91b39b33a96a971",
       "version_major": 2,
       "version_minor": 0
      },
      "text/plain": [
       "Evaluating:   0%|          | 0/770 [00:00<?, ?it/s]"
      ]
     },
     "metadata": {},
     "output_type": "display_data"
    },
    {
     "name": "stdout",
     "output_type": "stream",
     "text": [
      "perplexity: 59783400.0\n",
      "After 41 updates: \n",
      "\n"
     ]
    },
    {
     "data": {
      "application/vnd.jupyter.widget-view+json": {
       "model_id": "f0541ce8111b48ccbe7b8ed107f6705a",
       "version_major": 2,
       "version_minor": 0
      },
      "text/plain": [
       "  0%|          | 0/100 [00:00<?, ?it/s]"
      ]
     },
     "metadata": {},
     "output_type": "display_data"
    },
    {
     "name": "stdout",
     "output_type": "stream",
     "text": [
      "The peptide repeat domain of nucleoporin Nup98 functions as a docking site in transport across the nuclear pore complex. We report the cDNA deduced primary structure of a wheat germ agglutinin-reactive nuclear pore complex (NPC) protein of rat. The protein, termed Nup98 (for nucleoporin of 98 kDa), contains numerous GLFG and FG repeats and some FXFG repeats and is thus a vertebrate member of a family of GLFG nucleoporins that were previously discovered in yeast. Immunoelectron microscopy showed Nup98 to be asymmetrically located at the nucleoplasmic side of the NPC. Nup98 functions as one of several docking site nucleoporins in a cytosolic docking activity-mediated binding of a model transport substrate. The docking site of Nup98 was mapped to its N-terminal half, which contains all of the peptide repeats. A recombinant segment of this region depleted the docking activity of cytosol. We suggest that the peptide repeat domain of Nup98, together with peptide repeat domains of other nucleoporins, forms an array of sites for mediated docking of transport substrate, and that bidirectional transport across the NPC proceeds by repeated docking and undocking reactions.\n",
      "\n",
      "generated_summary\n",
      "\n"
     ]
    },
    {
     "data": {
      "application/vnd.jupyter.widget-view+json": {
       "model_id": "aea72620cec246608f39b9bc5e148901",
       "version_major": 2,
       "version_minor": 0
      },
      "text/plain": [
       "  0%|          | 0/100 [00:00<?, ?it/s]"
      ]
     },
     "metadata": {},
     "output_type": "display_data"
    },
    {
     "name": "stdout",
     "output_type": "stream",
     "text": [
      "The CXC chemokine stromal cell-derived factor activates a Gi-coupled phosphoinositide 3-kinase in T lymphocytes. The cellular effects of stromal cell-derived factor-1 (SDF-1) are mediated primarily by binding to the CXC chemokine receptor-4. We report in this study that SDF-1 and its peptide analogues induce a concentration- and time-dependent accumulation of phosphatidylinositol-(3,4,5)-trisphosphate (PtdIns(3,4,5)P3) in Jurkat cells. This SDF-1-stimulated generation of D-3 phosphoinositide lipids was inhibited by pretreatment of the cells with an SDF-1 peptide antagonist or an anti-CXCR4 Ab. In addition, the phosphoinositide 3 (PI 3)-kinase inhibitors wortmannin and LY294002, as well as the Gi protein inhibitor pertussis toxin, also inhibited the SDF-1-stimulated accumulation of PtdIns(3,4,5)P3. The effects of SDF-1 on D-3 phosphoinositide lipid accumulation correlated well with activation of the known PI 3-kinase effector protein kinase B, which was also inhibited by wortmannin and pertussis toxin. Concentrations of PI 3-kinase inhibitors, sufficient to inhibit PtdIns(3,4,5)P3 accumulation, also inhibited chemotaxis of Jurkat and peripheral blood-derived T lymphocytes in response to SDF-1. In contrast, SDF-1-stimulated actin polymerization was only partially inhibited by PI 3-kinase inhibitors, suggesting that while chemotaxis is fully dependent on PI 3-kinase activation, actin polymerization requires additional biochemical inputs. Finally, SDF-1-stimulated extracellular signal-related kinase (ERK)-1/2 mitogen-activated protein kinase activation was inhibited by PI 3-kinase inhibitors. In addition, the mitogen-activated protein/ERK kinase inhibitor PD098059 partially attenuated chemotaxis in response to SDF-1. Hence, it appears that ERK1/2 activation is dependent on PI 3-kinase activation, and both biochemical events are involved in the regulation of SDF-1-stimulated chemotaxis.\n",
      "\n",
      "generated_summary\n",
      "\n",
      "loss: 0.23410998284816742\n",
      "\n",
      "loss: 0.19105404615402222\n",
      "\n",
      "loss: 0.2079128921031952\n",
      "\n",
      "loss: 0.230320006608963\n",
      "\n",
      "loss: 0.2158842831850052\n",
      "\n",
      "loss: 0.2676670253276825\n",
      "\n",
      "loss: 1.1183784008026123\n",
      "\n",
      "loss: 0.4681873321533203\n",
      "\n",
      "loss: 0.4238622188568115\n",
      "\n",
      "loss: 0.23451900482177734\n",
      "\n"
     ]
    },
    {
     "data": {
      "application/vnd.jupyter.widget-view+json": {
       "model_id": "8591ca155a62481981863d2224ad696d",
       "version_major": 2,
       "version_minor": 0
      },
      "text/plain": [
       "Evaluating:   0%|          | 0/770 [00:00<?, ?it/s]"
      ]
     },
     "metadata": {},
     "output_type": "display_data"
    },
    {
     "name": "stdout",
     "output_type": "stream",
     "text": [
      "perplexity: 290004.03125\n",
      "After 51 updates: \n",
      "\n"
     ]
    },
    {
     "data": {
      "application/vnd.jupyter.widget-view+json": {
       "model_id": "d3e22a68aae94e83969772106444a639",
       "version_major": 2,
       "version_minor": 0
      },
      "text/plain": [
       "  0%|          | 0/100 [00:00<?, ?it/s]"
      ]
     },
     "metadata": {},
     "output_type": "display_data"
    },
    {
     "name": "stdout",
     "output_type": "stream",
     "text": [
      "The peptide repeat domain of nucleoporin Nup98 functions as a docking site in transport across the nuclear pore complex. We report the cDNA deduced primary structure of a wheat germ agglutinin-reactive nuclear pore complex (NPC) protein of rat. The protein, termed Nup98 (for nucleoporin of 98 kDa), contains numerous GLFG and FG repeats and some FXFG repeats and is thus a vertebrate member of a family of GLFG nucleoporins that were previously discovered in yeast. Immunoelectron microscopy showed Nup98 to be asymmetrically located at the nucleoplasmic side of the NPC. Nup98 functions as one of several docking site nucleoporins in a cytosolic docking activity-mediated binding of a model transport substrate. The docking site of Nup98 was mapped to its N-terminal half, which contains all of the peptide repeats. A recombinant segment of this region depleted the docking activity of cytosol. We suggest that the peptide repeat domain of Nup98, together with peptide repeat domains of other nucleoporins, forms an array of sites for mediated docking of transport substrate, and that bidirectional transport across the NPC proceeds by repeated docking and undocking reactions.\n",
      "\n",
      "generated_summary\n",
      "\n"
     ]
    },
    {
     "data": {
      "application/vnd.jupyter.widget-view+json": {
       "model_id": "e683f8aeaf8d47a3a34708d1287e387a",
       "version_major": 2,
       "version_minor": 0
      },
      "text/plain": [
       "  0%|          | 0/100 [00:00<?, ?it/s]"
      ]
     },
     "metadata": {},
     "output_type": "display_data"
    },
    {
     "name": "stdout",
     "output_type": "stream",
     "text": [
      "The CXC chemokine stromal cell-derived factor activates a Gi-coupled phosphoinositide 3-kinase in T lymphocytes. The cellular effects of stromal cell-derived factor-1 (SDF-1) are mediated primarily by binding to the CXC chemokine receptor-4. We report in this study that SDF-1 and its peptide analogues induce a concentration- and time-dependent accumulation of phosphatidylinositol-(3,4,5)-trisphosphate (PtdIns(3,4,5)P3) in Jurkat cells. This SDF-1-stimulated generation of D-3 phosphoinositide lipids was inhibited by pretreatment of the cells with an SDF-1 peptide antagonist or an anti-CXCR4 Ab. In addition, the phosphoinositide 3 (PI 3)-kinase inhibitors wortmannin and LY294002, as well as the Gi protein inhibitor pertussis toxin, also inhibited the SDF-1-stimulated accumulation of PtdIns(3,4,5)P3. The effects of SDF-1 on D-3 phosphoinositide lipid accumulation correlated well with activation of the known PI 3-kinase effector protein kinase B, which was also inhibited by wortmannin and pertussis toxin. Concentrations of PI 3-kinase inhibitors, sufficient to inhibit PtdIns(3,4,5)P3 accumulation, also inhibited chemotaxis of Jurkat and peripheral blood-derived T lymphocytes in response to SDF-1. In contrast, SDF-1-stimulated actin polymerization was only partially inhibited by PI 3-kinase inhibitors, suggesting that while chemotaxis is fully dependent on PI 3-kinase activation, actin polymerization requires additional biochemical inputs. Finally, SDF-1-stimulated extracellular signal-related kinase (ERK)-1/2 mitogen-activated protein kinase activation was inhibited by PI 3-kinase inhibitors. In addition, the mitogen-activated protein/ERK kinase inhibitor PD098059 partially attenuated chemotaxis in response to SDF-1. Hence, it appears that ERK1/2 activation is dependent on PI 3-kinase activation, and both biochemical events are involved in the regulation of SDF-1-stimulated chemotaxis.\n",
      "\n",
      "generated_summary\n",
      "\n",
      "loss: 0.1340707689523697\n",
      "\n",
      "loss: 0.153153195977211\n",
      "\n",
      "loss: 0.1372680366039276\n",
      "\n",
      "loss: 0.19551852345466614\n",
      "\n",
      "loss: 0.1870649755001068\n",
      "\n",
      "loss: 0.1693425327539444\n",
      "\n",
      "loss: 0.15034249424934387\n",
      "\n",
      "loss: 0.1960100382566452\n",
      "\n",
      "loss: 0.16590498387813568\n",
      "\n",
      "loss: 0.13543225824832916\n",
      "\n"
     ]
    },
    {
     "data": {
      "application/vnd.jupyter.widget-view+json": {
       "model_id": "2bc33903beeb48b39f42f8748afa02ba",
       "version_major": 2,
       "version_minor": 0
      },
      "text/plain": [
       "Evaluating:   0%|          | 0/770 [00:00<?, ?it/s]"
      ]
     },
     "metadata": {},
     "output_type": "display_data"
    },
    {
     "name": "stdout",
     "output_type": "stream",
     "text": [
      "perplexity: 542.622802734375\n",
      "After 61 updates: \n",
      "\n"
     ]
    },
    {
     "data": {
      "application/vnd.jupyter.widget-view+json": {
       "model_id": "c74ddae258d84197959f007cce4f2217",
       "version_major": 2,
       "version_minor": 0
      },
      "text/plain": [
       "  0%|          | 0/100 [00:00<?, ?it/s]"
      ]
     },
     "metadata": {},
     "output_type": "display_data"
    },
    {
     "name": "stdout",
     "output_type": "stream",
     "text": [
      "The peptide repeat domain of nucleoporin Nup98 functions as a docking site in transport across the nuclear pore complex. We report the cDNA deduced primary structure of a wheat germ agglutinin-reactive nuclear pore complex (NPC) protein of rat. The protein, termed Nup98 (for nucleoporin of 98 kDa), contains numerous GLFG and FG repeats and some FXFG repeats and is thus a vertebrate member of a family of GLFG nucleoporins that were previously discovered in yeast. Immunoelectron microscopy showed Nup98 to be asymmetrically located at the nucleoplasmic side of the NPC. Nup98 functions as one of several docking site nucleoporins in a cytosolic docking activity-mediated binding of a model transport substrate. The docking site of Nup98 was mapped to its N-terminal half, which contains all of the peptide repeats. A recombinant segment of this region depleted the docking activity of cytosol. We suggest that the peptide repeat domain of Nup98, together with peptide repeat domains of other nucleoporins, forms an array of sites for mediated docking of transport substrate, and that bidirectional transport across the NPC proceeds by repeated docking and undocking reactions.\n",
      "\n",
      "generated_summary\n",
      "\n"
     ]
    },
    {
     "data": {
      "application/vnd.jupyter.widget-view+json": {
       "model_id": "2870c30e794f45c498db50f28964b51b",
       "version_major": 2,
       "version_minor": 0
      },
      "text/plain": [
       "  0%|          | 0/100 [00:00<?, ?it/s]"
      ]
     },
     "metadata": {},
     "output_type": "display_data"
    },
    {
     "name": "stdout",
     "output_type": "stream",
     "text": [
      "The CXC chemokine stromal cell-derived factor activates a Gi-coupled phosphoinositide 3-kinase in T lymphocytes. The cellular effects of stromal cell-derived factor-1 (SDF-1) are mediated primarily by binding to the CXC chemokine receptor-4. We report in this study that SDF-1 and its peptide analogues induce a concentration- and time-dependent accumulation of phosphatidylinositol-(3,4,5)-trisphosphate (PtdIns(3,4,5)P3) in Jurkat cells. This SDF-1-stimulated generation of D-3 phosphoinositide lipids was inhibited by pretreatment of the cells with an SDF-1 peptide antagonist or an anti-CXCR4 Ab. In addition, the phosphoinositide 3 (PI 3)-kinase inhibitors wortmannin and LY294002, as well as the Gi protein inhibitor pertussis toxin, also inhibited the SDF-1-stimulated accumulation of PtdIns(3,4,5)P3. The effects of SDF-1 on D-3 phosphoinositide lipid accumulation correlated well with activation of the known PI 3-kinase effector protein kinase B, which was also inhibited by wortmannin and pertussis toxin. Concentrations of PI 3-kinase inhibitors, sufficient to inhibit PtdIns(3,4,5)P3 accumulation, also inhibited chemotaxis of Jurkat and peripheral blood-derived T lymphocytes in response to SDF-1. In contrast, SDF-1-stimulated actin polymerization was only partially inhibited by PI 3-kinase inhibitors, suggesting that while chemotaxis is fully dependent on PI 3-kinase activation, actin polymerization requires additional biochemical inputs. Finally, SDF-1-stimulated extracellular signal-related kinase (ERK)-1/2 mitogen-activated protein kinase activation was inhibited by PI 3-kinase inhibitors. In addition, the mitogen-activated protein/ERK kinase inhibitor PD098059 partially attenuated chemotaxis in response to SDF-1. Hence, it appears that ERK1/2 activation is dependent on PI 3-kinase activation, and both biochemical events are involved in the regulation of SDF-1-stimulated chemotaxis.\n",
      "\n",
      "generated_summary\n",
      "\n",
      "loss: 0.12147702276706696\n",
      "\n",
      "loss: 0.14349058270454407\n",
      "\n",
      "loss: 0.08314450085163116\n",
      "\n",
      "loss: 0.1224118024110794\n",
      "\n",
      "loss: 0.13854290544986725\n",
      "\n",
      "loss: 0.13134263455867767\n",
      "\n",
      "loss: 0.15701699256896973\n",
      "\n",
      "loss: 0.14859279990196228\n",
      "\n",
      "loss: 0.15414884686470032\n",
      "\n",
      "loss: 0.14763525128364563\n",
      "\n"
     ]
    },
    {
     "data": {
      "application/vnd.jupyter.widget-view+json": {
       "model_id": "20b5eb72713d4c27b641c5f105a1282f",
       "version_major": 2,
       "version_minor": 0
      },
      "text/plain": [
       "Evaluating:   0%|          | 0/770 [00:00<?, ?it/s]"
      ]
     },
     "metadata": {},
     "output_type": "display_data"
    },
    {
     "name": "stdout",
     "output_type": "stream",
     "text": [
      "perplexity: 142.8739471435547\n",
      "After 71 updates: \n",
      "\n"
     ]
    },
    {
     "data": {
      "application/vnd.jupyter.widget-view+json": {
       "model_id": "432b47e527d248f18a97f222c1d59263",
       "version_major": 2,
       "version_minor": 0
      },
      "text/plain": [
       "  0%|          | 0/100 [00:00<?, ?it/s]"
      ]
     },
     "metadata": {},
     "output_type": "display_data"
    },
    {
     "name": "stdout",
     "output_type": "stream",
     "text": [
      "The peptide repeat domain of nucleoporin Nup98 functions as a docking site in transport across the nuclear pore complex. We report the cDNA deduced primary structure of a wheat germ agglutinin-reactive nuclear pore complex (NPC) protein of rat. The protein, termed Nup98 (for nucleoporin of 98 kDa), contains numerous GLFG and FG repeats and some FXFG repeats and is thus a vertebrate member of a family of GLFG nucleoporins that were previously discovered in yeast. Immunoelectron microscopy showed Nup98 to be asymmetrically located at the nucleoplasmic side of the NPC. Nup98 functions as one of several docking site nucleoporins in a cytosolic docking activity-mediated binding of a model transport substrate. The docking site of Nup98 was mapped to its N-terminal half, which contains all of the peptide repeats. A recombinant segment of this region depleted the docking activity of cytosol. We suggest that the peptide repeat domain of Nup98, together with peptide repeat domains of other nucleoporins, forms an array of sites for mediated docking of transport substrate, and that bidirectional transport across the NPC proceeds by repeated docking and undocking reactions.\n",
      "\n",
      "generated_summary\n",
      "\n"
     ]
    },
    {
     "data": {
      "application/vnd.jupyter.widget-view+json": {
       "model_id": "faf2a6afb6fa476890a22a54c4ee0c1b",
       "version_major": 2,
       "version_minor": 0
      },
      "text/plain": [
       "  0%|          | 0/100 [00:00<?, ?it/s]"
      ]
     },
     "metadata": {},
     "output_type": "display_data"
    },
    {
     "name": "stdout",
     "output_type": "stream",
     "text": [
      "The CXC chemokine stromal cell-derived factor activates a Gi-coupled phosphoinositide 3-kinase in T lymphocytes. The cellular effects of stromal cell-derived factor-1 (SDF-1) are mediated primarily by binding to the CXC chemokine receptor-4. We report in this study that SDF-1 and its peptide analogues induce a concentration- and time-dependent accumulation of phosphatidylinositol-(3,4,5)-trisphosphate (PtdIns(3,4,5)P3) in Jurkat cells. This SDF-1-stimulated generation of D-3 phosphoinositide lipids was inhibited by pretreatment of the cells with an SDF-1 peptide antagonist or an anti-CXCR4 Ab. In addition, the phosphoinositide 3 (PI 3)-kinase inhibitors wortmannin and LY294002, as well as the Gi protein inhibitor pertussis toxin, also inhibited the SDF-1-stimulated accumulation of PtdIns(3,4,5)P3. The effects of SDF-1 on D-3 phosphoinositide lipid accumulation correlated well with activation of the known PI 3-kinase effector protein kinase B, which was also inhibited by wortmannin and pertussis toxin. Concentrations of PI 3-kinase inhibitors, sufficient to inhibit PtdIns(3,4,5)P3 accumulation, also inhibited chemotaxis of Jurkat and peripheral blood-derived T lymphocytes in response to SDF-1. In contrast, SDF-1-stimulated actin polymerization was only partially inhibited by PI 3-kinase inhibitors, suggesting that while chemotaxis is fully dependent on PI 3-kinase activation, actin polymerization requires additional biochemical inputs. Finally, SDF-1-stimulated extracellular signal-related kinase (ERK)-1/2 mitogen-activated protein kinase activation was inhibited by PI 3-kinase inhibitors. In addition, the mitogen-activated protein/ERK kinase inhibitor PD098059 partially attenuated chemotaxis in response to SDF-1. Hence, it appears that ERK1/2 activation is dependent on PI 3-kinase activation, and both biochemical events are involved in the regulation of SDF-1-stimulated chemotaxis.\n",
      "\n",
      "generated_summary\n",
      "\n",
      "loss: 0.13395069539546967\n",
      "\n",
      "loss: 0.14954189956188202\n",
      "\n",
      "loss: 0.14793555438518524\n",
      "\n",
      "loss: 0.15751616656780243\n",
      "\n",
      "loss: 0.1271497905254364\n",
      "\n",
      "loss: 0.1227627843618393\n",
      "\n",
      "loss: 0.12103425711393356\n",
      "\n",
      "loss: 0.13702897727489471\n",
      "\n",
      "loss: 0.09137722849845886\n",
      "\n",
      "loss: 0.09159316122531891\n",
      "\n"
     ]
    },
    {
     "data": {
      "application/vnd.jupyter.widget-view+json": {
       "model_id": "2002993fc41b40ce91dea12b218fd763",
       "version_major": 2,
       "version_minor": 0
      },
      "text/plain": [
       "Evaluating:   0%|          | 0/770 [00:00<?, ?it/s]"
      ]
     },
     "metadata": {},
     "output_type": "display_data"
    },
    {
     "name": "stdout",
     "output_type": "stream",
     "text": [
      "perplexity: 85.63660430908203\n",
      "After 81 updates: \n",
      "\n"
     ]
    },
    {
     "data": {
      "application/vnd.jupyter.widget-view+json": {
       "model_id": "515dfae5cd73465caa97a0d82f35976b",
       "version_major": 2,
       "version_minor": 0
      },
      "text/plain": [
       "  0%|          | 0/100 [00:00<?, ?it/s]"
      ]
     },
     "metadata": {},
     "output_type": "display_data"
    },
    {
     "name": "stdout",
     "output_type": "stream",
     "text": [
      "The peptide repeat domain of nucleoporin Nup98 functions as a docking site in transport across the nuclear pore complex. We report the cDNA deduced primary structure of a wheat germ agglutinin-reactive nuclear pore complex (NPC) protein of rat. The protein, termed Nup98 (for nucleoporin of 98 kDa), contains numerous GLFG and FG repeats and some FXFG repeats and is thus a vertebrate member of a family of GLFG nucleoporins that were previously discovered in yeast. Immunoelectron microscopy showed Nup98 to be asymmetrically located at the nucleoplasmic side of the NPC. Nup98 functions as one of several docking site nucleoporins in a cytosolic docking activity-mediated binding of a model transport substrate. The docking site of Nup98 was mapped to its N-terminal half, which contains all of the peptide repeats. A recombinant segment of this region depleted the docking activity of cytosol. We suggest that the peptide repeat domain of Nup98, together with peptide repeat domains of other nucleoporins, forms an array of sites for mediated docking of transport substrate, and that bidirectional transport across the NPC proceeds by repeated docking and undocking reactions.\n",
      "\n",
      "generated_summary\n",
      "\n"
     ]
    },
    {
     "data": {
      "application/vnd.jupyter.widget-view+json": {
       "model_id": "81045d9515394ac194fb099e184524cd",
       "version_major": 2,
       "version_minor": 0
      },
      "text/plain": [
       "  0%|          | 0/100 [00:00<?, ?it/s]"
      ]
     },
     "metadata": {},
     "output_type": "display_data"
    },
    {
     "name": "stdout",
     "output_type": "stream",
     "text": [
      "The CXC chemokine stromal cell-derived factor activates a Gi-coupled phosphoinositide 3-kinase in T lymphocytes. The cellular effects of stromal cell-derived factor-1 (SDF-1) are mediated primarily by binding to the CXC chemokine receptor-4. We report in this study that SDF-1 and its peptide analogues induce a concentration- and time-dependent accumulation of phosphatidylinositol-(3,4,5)-trisphosphate (PtdIns(3,4,5)P3) in Jurkat cells. This SDF-1-stimulated generation of D-3 phosphoinositide lipids was inhibited by pretreatment of the cells with an SDF-1 peptide antagonist or an anti-CXCR4 Ab. In addition, the phosphoinositide 3 (PI 3)-kinase inhibitors wortmannin and LY294002, as well as the Gi protein inhibitor pertussis toxin, also inhibited the SDF-1-stimulated accumulation of PtdIns(3,4,5)P3. The effects of SDF-1 on D-3 phosphoinositide lipid accumulation correlated well with activation of the known PI 3-kinase effector protein kinase B, which was also inhibited by wortmannin and pertussis toxin. Concentrations of PI 3-kinase inhibitors, sufficient to inhibit PtdIns(3,4,5)P3 accumulation, also inhibited chemotaxis of Jurkat and peripheral blood-derived T lymphocytes in response to SDF-1. In contrast, SDF-1-stimulated actin polymerization was only partially inhibited by PI 3-kinase inhibitors, suggesting that while chemotaxis is fully dependent on PI 3-kinase activation, actin polymerization requires additional biochemical inputs. Finally, SDF-1-stimulated extracellular signal-related kinase (ERK)-1/2 mitogen-activated protein kinase activation was inhibited by PI 3-kinase inhibitors. In addition, the mitogen-activated protein/ERK kinase inhibitor PD098059 partially attenuated chemotaxis in response to SDF-1. Hence, it appears that ERK1/2 activation is dependent on PI 3-kinase activation, and both biochemical events are involved in the regulation of SDF-1-stimulated chemotaxis.\n",
      "\n",
      "generated_summary\n",
      "\n",
      "loss: 0.06667695194482803\n",
      "\n",
      "loss: 0.1499583125114441\n",
      "\n",
      "loss: 0.11484532803297043\n",
      "\n",
      "loss: 0.13335750997066498\n",
      "\n",
      "loss: 0.15390357375144958\n",
      "\n",
      "loss: 0.13200423121452332\n",
      "\n",
      "loss: 0.06523016095161438\n",
      "\n",
      "loss: 0.10864558070898056\n",
      "\n",
      "loss: 0.13109716773033142\n",
      "\n",
      "loss: 0.07408890873193741\n",
      "\n"
     ]
    },
    {
     "data": {
      "application/vnd.jupyter.widget-view+json": {
       "model_id": "37e6be79b4e14c16be13439fa3ce95b4",
       "version_major": 2,
       "version_minor": 0
      },
      "text/plain": [
       "Evaluating:   0%|          | 0/770 [00:00<?, ?it/s]"
      ]
     },
     "metadata": {},
     "output_type": "display_data"
    },
    {
     "name": "stdout",
     "output_type": "stream",
     "text": [
      "perplexity: 99.36616516113281\n",
      "After 91 updates: \n",
      "\n"
     ]
    },
    {
     "data": {
      "application/vnd.jupyter.widget-view+json": {
       "model_id": "a15707bb06624c5f8ea658d3dcb1467c",
       "version_major": 2,
       "version_minor": 0
      },
      "text/plain": [
       "  0%|          | 0/100 [00:00<?, ?it/s]"
      ]
     },
     "metadata": {},
     "output_type": "display_data"
    },
    {
     "name": "stdout",
     "output_type": "stream",
     "text": [
      "The peptide repeat domain of nucleoporin Nup98 functions as a docking site in transport across the nuclear pore complex. We report the cDNA deduced primary structure of a wheat germ agglutinin-reactive nuclear pore complex (NPC) protein of rat. The protein, termed Nup98 (for nucleoporin of 98 kDa), contains numerous GLFG and FG repeats and some FXFG repeats and is thus a vertebrate member of a family of GLFG nucleoporins that were previously discovered in yeast. Immunoelectron microscopy showed Nup98 to be asymmetrically located at the nucleoplasmic side of the NPC. Nup98 functions as one of several docking site nucleoporins in a cytosolic docking activity-mediated binding of a model transport substrate. The docking site of Nup98 was mapped to its N-terminal half, which contains all of the peptide repeats. A recombinant segment of this region depleted the docking activity of cytosol. We suggest that the peptide repeat domain of Nup98, together with peptide repeat domains of other nucleoporins, forms an array of sites for mediated docking of transport substrate, and that bidirectional transport across the NPC proceeds by repeated docking and undocking reactions.\n",
      "\n",
      "generated_summary\n",
      "\n"
     ]
    },
    {
     "data": {
      "application/vnd.jupyter.widget-view+json": {
       "model_id": "0519c9a1fc4243e88c1446138d8d958b",
       "version_major": 2,
       "version_minor": 0
      },
      "text/plain": [
       "  0%|          | 0/100 [00:00<?, ?it/s]"
      ]
     },
     "metadata": {},
     "output_type": "display_data"
    },
    {
     "name": "stdout",
     "output_type": "stream",
     "text": [
      "The CXC chemokine stromal cell-derived factor activates a Gi-coupled phosphoinositide 3-kinase in T lymphocytes. The cellular effects of stromal cell-derived factor-1 (SDF-1) are mediated primarily by binding to the CXC chemokine receptor-4. We report in this study that SDF-1 and its peptide analogues induce a concentration- and time-dependent accumulation of phosphatidylinositol-(3,4,5)-trisphosphate (PtdIns(3,4,5)P3) in Jurkat cells. This SDF-1-stimulated generation of D-3 phosphoinositide lipids was inhibited by pretreatment of the cells with an SDF-1 peptide antagonist or an anti-CXCR4 Ab. In addition, the phosphoinositide 3 (PI 3)-kinase inhibitors wortmannin and LY294002, as well as the Gi protein inhibitor pertussis toxin, also inhibited the SDF-1-stimulated accumulation of PtdIns(3,4,5)P3. The effects of SDF-1 on D-3 phosphoinositide lipid accumulation correlated well with activation of the known PI 3-kinase effector protein kinase B, which was also inhibited by wortmannin and pertussis toxin. Concentrations of PI 3-kinase inhibitors, sufficient to inhibit PtdIns(3,4,5)P3 accumulation, also inhibited chemotaxis of Jurkat and peripheral blood-derived T lymphocytes in response to SDF-1. In contrast, SDF-1-stimulated actin polymerization was only partially inhibited by PI 3-kinase inhibitors, suggesting that while chemotaxis is fully dependent on PI 3-kinase activation, actin polymerization requires additional biochemical inputs. Finally, SDF-1-stimulated extracellular signal-related kinase (ERK)-1/2 mitogen-activated protein kinase activation was inhibited by PI 3-kinase inhibitors. In addition, the mitogen-activated protein/ERK kinase inhibitor PD098059 partially attenuated chemotaxis in response to SDF-1. Hence, it appears that ERK1/2 activation is dependent on PI 3-kinase activation, and both biochemical events are involved in the regulation of SDF-1-stimulated chemotaxis.\n",
      "\n",
      "generated_summary\n",
      "\n",
      "loss: 0.11842134594917297\n",
      "\n",
      "loss: 0.08356514573097229\n",
      "\n",
      "loss: 0.11473112553358078\n",
      "\n",
      "loss: 0.12059544026851654\n",
      "\n",
      "loss: 0.10330340266227722\n",
      "\n",
      "loss: 0.07755295932292938\n",
      "\n",
      "loss: 0.09920747578144073\n",
      "\n",
      "loss: 0.1462729275226593\n",
      "\n",
      "loss: 0.09542533755302429\n",
      "\n",
      "loss: 0.11976051330566406\n",
      "\n"
     ]
    },
    {
     "data": {
      "application/vnd.jupyter.widget-view+json": {
       "model_id": "152aad63ac4f4f029f69596d36988512",
       "version_major": 2,
       "version_minor": 0
      },
      "text/plain": [
       "Evaluating:   0%|          | 0/770 [00:00<?, ?it/s]"
      ]
     },
     "metadata": {},
     "output_type": "display_data"
    },
    {
     "name": "stdout",
     "output_type": "stream",
     "text": [
      "perplexity: 537.0595703125\n",
      "After 101 updates: \n",
      "\n"
     ]
    },
    {
     "data": {
      "application/vnd.jupyter.widget-view+json": {
       "model_id": "ec42940235f747b5a881708afb8c53c5",
       "version_major": 2,
       "version_minor": 0
      },
      "text/plain": [
       "  0%|          | 0/100 [00:00<?, ?it/s]"
      ]
     },
     "metadata": {},
     "output_type": "display_data"
    },
    {
     "name": "stdout",
     "output_type": "stream",
     "text": [
      "The peptide repeat domain of nucleoporin Nup98 functions as a docking site in transport across the nuclear pore complex. We report the cDNA deduced primary structure of a wheat germ agglutinin-reactive nuclear pore complex (NPC) protein of rat. The protein, termed Nup98 (for nucleoporin of 98 kDa), contains numerous GLFG and FG repeats and some FXFG repeats and is thus a vertebrate member of a family of GLFG nucleoporins that were previously discovered in yeast. Immunoelectron microscopy showed Nup98 to be asymmetrically located at the nucleoplasmic side of the NPC. Nup98 functions as one of several docking site nucleoporins in a cytosolic docking activity-mediated binding of a model transport substrate. The docking site of Nup98 was mapped to its N-terminal half, which contains all of the peptide repeats. A recombinant segment of this region depleted the docking activity of cytosol. We suggest that the peptide repeat domain of Nup98, together with peptide repeat domains of other nucleoporins, forms an array of sites for mediated docking of transport substrate, and that bidirectional transport across the NPC proceeds by repeated docking and undocking reactions.\n",
      "\n",
      "generated_summary\n",
      "\n"
     ]
    },
    {
     "data": {
      "application/vnd.jupyter.widget-view+json": {
       "model_id": "62cd3043403f4f1a81f7bb49cb9dad36",
       "version_major": 2,
       "version_minor": 0
      },
      "text/plain": [
       "  0%|          | 0/100 [00:00<?, ?it/s]"
      ]
     },
     "metadata": {},
     "output_type": "display_data"
    },
    {
     "name": "stdout",
     "output_type": "stream",
     "text": [
      "The CXC chemokine stromal cell-derived factor activates a Gi-coupled phosphoinositide 3-kinase in T lymphocytes. The cellular effects of stromal cell-derived factor-1 (SDF-1) are mediated primarily by binding to the CXC chemokine receptor-4. We report in this study that SDF-1 and its peptide analogues induce a concentration- and time-dependent accumulation of phosphatidylinositol-(3,4,5)-trisphosphate (PtdIns(3,4,5)P3) in Jurkat cells. This SDF-1-stimulated generation of D-3 phosphoinositide lipids was inhibited by pretreatment of the cells with an SDF-1 peptide antagonist or an anti-CXCR4 Ab. In addition, the phosphoinositide 3 (PI 3)-kinase inhibitors wortmannin and LY294002, as well as the Gi protein inhibitor pertussis toxin, also inhibited the SDF-1-stimulated accumulation of PtdIns(3,4,5)P3. The effects of SDF-1 on D-3 phosphoinositide lipid accumulation correlated well with activation of the known PI 3-kinase effector protein kinase B, which was also inhibited by wortmannin and pertussis toxin. Concentrations of PI 3-kinase inhibitors, sufficient to inhibit PtdIns(3,4,5)P3 accumulation, also inhibited chemotaxis of Jurkat and peripheral blood-derived T lymphocytes in response to SDF-1. In contrast, SDF-1-stimulated actin polymerization was only partially inhibited by PI 3-kinase inhibitors, suggesting that while chemotaxis is fully dependent on PI 3-kinase activation, actin polymerization requires additional biochemical inputs. Finally, SDF-1-stimulated extracellular signal-related kinase (ERK)-1/2 mitogen-activated protein kinase activation was inhibited by PI 3-kinase inhibitors. In addition, the mitogen-activated protein/ERK kinase inhibitor PD098059 partially attenuated chemotaxis in response to SDF-1. Hence, it appears that ERK1/2 activation is dependent on PI 3-kinase activation, and both biochemical events are involved in the regulation of SDF-1-stimulated chemotaxis.\n",
      "\n",
      "generated_summary\n",
      "\n",
      "loss: 0.1200079396367073\n",
      "\n",
      "loss: 0.14347949624061584\n",
      "\n",
      "loss: 0.07830638438463211\n",
      "\n",
      "loss: 0.19774079322814941\n",
      "\n",
      "loss: 0.24281203746795654\n",
      "\n",
      "loss: 0.09114252775907516\n",
      "\n",
      "loss: 0.163565993309021\n",
      "\n",
      "loss: 0.1376112848520279\n",
      "\n",
      "loss: 0.08262916654348373\n",
      "\n",
      "loss: 0.12158989161252975\n",
      "\n"
     ]
    },
    {
     "data": {
      "application/vnd.jupyter.widget-view+json": {
       "model_id": "c9effcdda7c84e85a382724d45d70c5f",
       "version_major": 2,
       "version_minor": 0
      },
      "text/plain": [
       "Evaluating:   0%|          | 0/770 [00:00<?, ?it/s]"
      ]
     },
     "metadata": {},
     "output_type": "display_data"
    },
    {
     "name": "stdout",
     "output_type": "stream",
     "text": [
      "perplexity: 23.442285537719727\n",
      "After 111 updates: \n",
      "\n"
     ]
    },
    {
     "data": {
      "application/vnd.jupyter.widget-view+json": {
       "model_id": "2f827d0f80434db3920197ecd96bd72e",
       "version_major": 2,
       "version_minor": 0
      },
      "text/plain": [
       "  0%|          | 0/100 [00:00<?, ?it/s]"
      ]
     },
     "metadata": {},
     "output_type": "display_data"
    },
    {
     "name": "stdout",
     "output_type": "stream",
     "text": [
      "The peptide repeat domain of nucleoporin Nup98 functions as a docking site in transport across the nuclear pore complex. We report the cDNA deduced primary structure of a wheat germ agglutinin-reactive nuclear pore complex (NPC) protein of rat. The protein, termed Nup98 (for nucleoporin of 98 kDa), contains numerous GLFG and FG repeats and some FXFG repeats and is thus a vertebrate member of a family of GLFG nucleoporins that were previously discovered in yeast. Immunoelectron microscopy showed Nup98 to be asymmetrically located at the nucleoplasmic side of the NPC. Nup98 functions as one of several docking site nucleoporins in a cytosolic docking activity-mediated binding of a model transport substrate. The docking site of Nup98 was mapped to its N-terminal half, which contains all of the peptide repeats. A recombinant segment of this region depleted the docking activity of cytosol. We suggest that the peptide repeat domain of Nup98, together with peptide repeat domains of other nucleoporins, forms an array of sites for mediated docking of transport substrate, and that bidirectional transport across the NPC proceeds by repeated docking and undocking reactions.\n",
      "\n",
      "generated_summary\n",
      "\n"
     ]
    },
    {
     "data": {
      "application/vnd.jupyter.widget-view+json": {
       "model_id": "53474c38f8614768aa9c3612e93649e9",
       "version_major": 2,
       "version_minor": 0
      },
      "text/plain": [
       "  0%|          | 0/100 [00:00<?, ?it/s]"
      ]
     },
     "metadata": {},
     "output_type": "display_data"
    },
    {
     "name": "stdout",
     "output_type": "stream",
     "text": [
      "The CXC chemokine stromal cell-derived factor activates a Gi-coupled phosphoinositide 3-kinase in T lymphocytes. The cellular effects of stromal cell-derived factor-1 (SDF-1) are mediated primarily by binding to the CXC chemokine receptor-4. We report in this study that SDF-1 and its peptide analogues induce a concentration- and time-dependent accumulation of phosphatidylinositol-(3,4,5)-trisphosphate (PtdIns(3,4,5)P3) in Jurkat cells. This SDF-1-stimulated generation of D-3 phosphoinositide lipids was inhibited by pretreatment of the cells with an SDF-1 peptide antagonist or an anti-CXCR4 Ab. In addition, the phosphoinositide 3 (PI 3)-kinase inhibitors wortmannin and LY294002, as well as the Gi protein inhibitor pertussis toxin, also inhibited the SDF-1-stimulated accumulation of PtdIns(3,4,5)P3. The effects of SDF-1 on D-3 phosphoinositide lipid accumulation correlated well with activation of the known PI 3-kinase effector protein kinase B, which was also inhibited by wortmannin and pertussis toxin. Concentrations of PI 3-kinase inhibitors, sufficient to inhibit PtdIns(3,4,5)P3 accumulation, also inhibited chemotaxis of Jurkat and peripheral blood-derived T lymphocytes in response to SDF-1. In contrast, SDF-1-stimulated actin polymerization was only partially inhibited by PI 3-kinase inhibitors, suggesting that while chemotaxis is fully dependent on PI 3-kinase activation, actin polymerization requires additional biochemical inputs. Finally, SDF-1-stimulated extracellular signal-related kinase (ERK)-1/2 mitogen-activated protein kinase activation was inhibited by PI 3-kinase inhibitors. In addition, the mitogen-activated protein/ERK kinase inhibitor PD098059 partially attenuated chemotaxis in response to SDF-1. Hence, it appears that ERK1/2 activation is dependent on PI 3-kinase activation, and both biochemical events are involved in the regulation of SDF-1-stimulated chemotaxis.\n",
      "\n",
      "generated_summary\n",
      "\n",
      "loss: 0.03637838736176491\n",
      "\n",
      "loss: 0.08408716320991516\n",
      "\n",
      "loss: 0.06270445138216019\n",
      "\n",
      "loss: 0.08728449791669846\n",
      "\n",
      "loss: 0.08546056598424911\n",
      "\n",
      "loss: 0.08766046166419983\n",
      "\n",
      "loss: 0.09627232700586319\n",
      "\n",
      "loss: 0.08187791705131531\n",
      "\n",
      "loss: 0.09708614647388458\n",
      "\n",
      "loss: 0.04095984622836113\n",
      "\n"
     ]
    },
    {
     "data": {
      "application/vnd.jupyter.widget-view+json": {
       "model_id": "fadd1dd5127c422e9a9c5548e946ba61",
       "version_major": 2,
       "version_minor": 0
      },
      "text/plain": [
       "Evaluating:   0%|          | 0/770 [00:00<?, ?it/s]"
      ]
     },
     "metadata": {},
     "output_type": "display_data"
    },
    {
     "name": "stdout",
     "output_type": "stream",
     "text": [
      "perplexity: 16.276601791381836\n",
      "After 121 updates: \n",
      "\n"
     ]
    },
    {
     "data": {
      "application/vnd.jupyter.widget-view+json": {
       "model_id": "9e62791adda046fe91ad9cd4a4006a80",
       "version_major": 2,
       "version_minor": 0
      },
      "text/plain": [
       "  0%|          | 0/100 [00:00<?, ?it/s]"
      ]
     },
     "metadata": {},
     "output_type": "display_data"
    },
    {
     "name": "stdout",
     "output_type": "stream",
     "text": [
      "The peptide repeat domain of nucleoporin Nup98 functions as a docking site in transport across the nuclear pore complex. We report the cDNA deduced primary structure of a wheat germ agglutinin-reactive nuclear pore complex (NPC) protein of rat. The protein, termed Nup98 (for nucleoporin of 98 kDa), contains numerous GLFG and FG repeats and some FXFG repeats and is thus a vertebrate member of a family of GLFG nucleoporins that were previously discovered in yeast. Immunoelectron microscopy showed Nup98 to be asymmetrically located at the nucleoplasmic side of the NPC. Nup98 functions as one of several docking site nucleoporins in a cytosolic docking activity-mediated binding of a model transport substrate. The docking site of Nup98 was mapped to its N-terminal half, which contains all of the peptide repeats. A recombinant segment of this region depleted the docking activity of cytosol. We suggest that the peptide repeat domain of Nup98, together with peptide repeat domains of other nucleoporins, forms an array of sites for mediated docking of transport substrate, and that bidirectional transport across the NPC proceeds by repeated docking and undocking reactions.\n",
      "\n",
      "generated_summary\n",
      "\n"
     ]
    },
    {
     "data": {
      "application/vnd.jupyter.widget-view+json": {
       "model_id": "b9a660ad3bb84320853dc2e306436a76",
       "version_major": 2,
       "version_minor": 0
      },
      "text/plain": [
       "  0%|          | 0/100 [00:00<?, ?it/s]"
      ]
     },
     "metadata": {},
     "output_type": "display_data"
    },
    {
     "name": "stdout",
     "output_type": "stream",
     "text": [
      "The CXC chemokine stromal cell-derived factor activates a Gi-coupled phosphoinositide 3-kinase in T lymphocytes. The cellular effects of stromal cell-derived factor-1 (SDF-1) are mediated primarily by binding to the CXC chemokine receptor-4. We report in this study that SDF-1 and its peptide analogues induce a concentration- and time-dependent accumulation of phosphatidylinositol-(3,4,5)-trisphosphate (PtdIns(3,4,5)P3) in Jurkat cells. This SDF-1-stimulated generation of D-3 phosphoinositide lipids was inhibited by pretreatment of the cells with an SDF-1 peptide antagonist or an anti-CXCR4 Ab. In addition, the phosphoinositide 3 (PI 3)-kinase inhibitors wortmannin and LY294002, as well as the Gi protein inhibitor pertussis toxin, also inhibited the SDF-1-stimulated accumulation of PtdIns(3,4,5)P3. The effects of SDF-1 on D-3 phosphoinositide lipid accumulation correlated well with activation of the known PI 3-kinase effector protein kinase B, which was also inhibited by wortmannin and pertussis toxin. Concentrations of PI 3-kinase inhibitors, sufficient to inhibit PtdIns(3,4,5)P3 accumulation, also inhibited chemotaxis of Jurkat and peripheral blood-derived T lymphocytes in response to SDF-1. In contrast, SDF-1-stimulated actin polymerization was only partially inhibited by PI 3-kinase inhibitors, suggesting that while chemotaxis is fully dependent on PI 3-kinase activation, actin polymerization requires additional biochemical inputs. Finally, SDF-1-stimulated extracellular signal-related kinase (ERK)-1/2 mitogen-activated protein kinase activation was inhibited by PI 3-kinase inhibitors. In addition, the mitogen-activated protein/ERK kinase inhibitor PD098059 partially attenuated chemotaxis in response to SDF-1. Hence, it appears that ERK1/2 activation is dependent on PI 3-kinase activation, and both biochemical events are involved in the regulation of SDF-1-stimulated chemotaxis.\n",
      "\n",
      "generated_summary\n",
      "\n",
      "loss: 0.07053367048501968\n",
      "\n",
      "loss: 0.08962013572454453\n",
      "\n",
      "loss: 0.06897972524166107\n",
      "\n",
      "loss: 0.1264656037092209\n",
      "\n",
      "loss: 0.058679863810539246\n",
      "\n",
      "loss: 0.09362565726041794\n",
      "\n",
      "loss: 0.05719709396362305\n",
      "\n",
      "loss: 0.06793361902236938\n",
      "\n",
      "loss: 0.0965084359049797\n",
      "\n",
      "loss: 0.08891100436449051\n",
      "\n"
     ]
    },
    {
     "data": {
      "application/vnd.jupyter.widget-view+json": {
       "model_id": "cd8c39290c1f4f4fbe434864343ff5dd",
       "version_major": 2,
       "version_minor": 0
      },
      "text/plain": [
       "Evaluating:   0%|          | 0/770 [00:00<?, ?it/s]"
      ]
     },
     "metadata": {},
     "output_type": "display_data"
    },
    {
     "name": "stdout",
     "output_type": "stream",
     "text": [
      "perplexity: 27.249263763427734\n",
      "After 131 updates: \n",
      "\n"
     ]
    },
    {
     "data": {
      "application/vnd.jupyter.widget-view+json": {
       "model_id": "ce903ee2abcd44f790dad6aea5373187",
       "version_major": 2,
       "version_minor": 0
      },
      "text/plain": [
       "  0%|          | 0/100 [00:00<?, ?it/s]"
      ]
     },
     "metadata": {},
     "output_type": "display_data"
    },
    {
     "name": "stdout",
     "output_type": "stream",
     "text": [
      "The peptide repeat domain of nucleoporin Nup98 functions as a docking site in transport across the nuclear pore complex. We report the cDNA deduced primary structure of a wheat germ agglutinin-reactive nuclear pore complex (NPC) protein of rat. The protein, termed Nup98 (for nucleoporin of 98 kDa), contains numerous GLFG and FG repeats and some FXFG repeats and is thus a vertebrate member of a family of GLFG nucleoporins that were previously discovered in yeast. Immunoelectron microscopy showed Nup98 to be asymmetrically located at the nucleoplasmic side of the NPC. Nup98 functions as one of several docking site nucleoporins in a cytosolic docking activity-mediated binding of a model transport substrate. The docking site of Nup98 was mapped to its N-terminal half, which contains all of the peptide repeats. A recombinant segment of this region depleted the docking activity of cytosol. We suggest that the peptide repeat domain of Nup98, together with peptide repeat domains of other nucleoporins, forms an array of sites for mediated docking of transport substrate, and that bidirectional transport across the NPC proceeds by repeated docking and undocking reactions.\n",
      "\n",
      "generated_summary\n",
      "\n"
     ]
    },
    {
     "data": {
      "application/vnd.jupyter.widget-view+json": {
       "model_id": "b9d58a812a2b4d46ad1d4c910a936198",
       "version_major": 2,
       "version_minor": 0
      },
      "text/plain": [
       "  0%|          | 0/100 [00:00<?, ?it/s]"
      ]
     },
     "metadata": {},
     "output_type": "display_data"
    },
    {
     "name": "stdout",
     "output_type": "stream",
     "text": [
      "The CXC chemokine stromal cell-derived factor activates a Gi-coupled phosphoinositide 3-kinase in T lymphocytes. The cellular effects of stromal cell-derived factor-1 (SDF-1) are mediated primarily by binding to the CXC chemokine receptor-4. We report in this study that SDF-1 and its peptide analogues induce a concentration- and time-dependent accumulation of phosphatidylinositol-(3,4,5)-trisphosphate (PtdIns(3,4,5)P3) in Jurkat cells. This SDF-1-stimulated generation of D-3 phosphoinositide lipids was inhibited by pretreatment of the cells with an SDF-1 peptide antagonist or an anti-CXCR4 Ab. In addition, the phosphoinositide 3 (PI 3)-kinase inhibitors wortmannin and LY294002, as well as the Gi protein inhibitor pertussis toxin, also inhibited the SDF-1-stimulated accumulation of PtdIns(3,4,5)P3. The effects of SDF-1 on D-3 phosphoinositide lipid accumulation correlated well with activation of the known PI 3-kinase effector protein kinase B, which was also inhibited by wortmannin and pertussis toxin. Concentrations of PI 3-kinase inhibitors, sufficient to inhibit PtdIns(3,4,5)P3 accumulation, also inhibited chemotaxis of Jurkat and peripheral blood-derived T lymphocytes in response to SDF-1. In contrast, SDF-1-stimulated actin polymerization was only partially inhibited by PI 3-kinase inhibitors, suggesting that while chemotaxis is fully dependent on PI 3-kinase activation, actin polymerization requires additional biochemical inputs. Finally, SDF-1-stimulated extracellular signal-related kinase (ERK)-1/2 mitogen-activated protein kinase activation was inhibited by PI 3-kinase inhibitors. In addition, the mitogen-activated protein/ERK kinase inhibitor PD098059 partially attenuated chemotaxis in response to SDF-1. Hence, it appears that ERK1/2 activation is dependent on PI 3-kinase activation, and both biochemical events are involved in the regulation of SDF-1-stimulated chemotaxis.\n",
      "\n",
      "generated_summary\n",
      "\n",
      "loss: 0.06631225347518921\n",
      "\n",
      "loss: 0.06244563311338425\n",
      "\n",
      "loss: 0.06791334599256516\n",
      "\n",
      "loss: 0.11695551127195358\n",
      "\n",
      "loss: 0.042979270219802856\n",
      "\n",
      "loss: 0.052094753831624985\n",
      "\n",
      "loss: 0.06443758308887482\n",
      "\n",
      "loss: 0.0611611045897007\n",
      "\n",
      "loss: 0.06903449445962906\n",
      "\n",
      "loss: 0.07872629910707474\n",
      "\n"
     ]
    },
    {
     "data": {
      "application/vnd.jupyter.widget-view+json": {
       "model_id": "4867bb577e8b42a1b94e509ca1d835a1",
       "version_major": 2,
       "version_minor": 0
      },
      "text/plain": [
       "Evaluating:   0%|          | 0/770 [00:00<?, ?it/s]"
      ]
     },
     "metadata": {},
     "output_type": "display_data"
    },
    {
     "name": "stdout",
     "output_type": "stream",
     "text": [
      "perplexity: 88.63519287109375\n",
      "After 141 updates: \n",
      "\n"
     ]
    },
    {
     "data": {
      "application/vnd.jupyter.widget-view+json": {
       "model_id": "c82f8160f7c742f78f8664920a8fda6f",
       "version_major": 2,
       "version_minor": 0
      },
      "text/plain": [
       "  0%|          | 0/100 [00:00<?, ?it/s]"
      ]
     },
     "metadata": {},
     "output_type": "display_data"
    },
    {
     "name": "stdout",
     "output_type": "stream",
     "text": [
      "The peptide repeat domain of nucleoporin Nup98 functions as a docking site in transport across the nuclear pore complex. We report the cDNA deduced primary structure of a wheat germ agglutinin-reactive nuclear pore complex (NPC) protein of rat. The protein, termed Nup98 (for nucleoporin of 98 kDa), contains numerous GLFG and FG repeats and some FXFG repeats and is thus a vertebrate member of a family of GLFG nucleoporins that were previously discovered in yeast. Immunoelectron microscopy showed Nup98 to be asymmetrically located at the nucleoplasmic side of the NPC. Nup98 functions as one of several docking site nucleoporins in a cytosolic docking activity-mediated binding of a model transport substrate. The docking site of Nup98 was mapped to its N-terminal half, which contains all of the peptide repeats. A recombinant segment of this region depleted the docking activity of cytosol. We suggest that the peptide repeat domain of Nup98, together with peptide repeat domains of other nucleoporins, forms an array of sites for mediated docking of transport substrate, and that bidirectional transport across the NPC proceeds by repeated docking and undocking reactions.\n",
      "\n",
      "generated_summary\n",
      "\n"
     ]
    },
    {
     "data": {
      "application/vnd.jupyter.widget-view+json": {
       "model_id": "f2f563a674e447199b9b12a78b3b020b",
       "version_major": 2,
       "version_minor": 0
      },
      "text/plain": [
       "  0%|          | 0/100 [00:00<?, ?it/s]"
      ]
     },
     "metadata": {},
     "output_type": "display_data"
    },
    {
     "name": "stdout",
     "output_type": "stream",
     "text": [
      "The CXC chemokine stromal cell-derived factor activates a Gi-coupled phosphoinositide 3-kinase in T lymphocytes. The cellular effects of stromal cell-derived factor-1 (SDF-1) are mediated primarily by binding to the CXC chemokine receptor-4. We report in this study that SDF-1 and its peptide analogues induce a concentration- and time-dependent accumulation of phosphatidylinositol-(3,4,5)-trisphosphate (PtdIns(3,4,5)P3) in Jurkat cells. This SDF-1-stimulated generation of D-3 phosphoinositide lipids was inhibited by pretreatment of the cells with an SDF-1 peptide antagonist or an anti-CXCR4 Ab. In addition, the phosphoinositide 3 (PI 3)-kinase inhibitors wortmannin and LY294002, as well as the Gi protein inhibitor pertussis toxin, also inhibited the SDF-1-stimulated accumulation of PtdIns(3,4,5)P3. The effects of SDF-1 on D-3 phosphoinositide lipid accumulation correlated well with activation of the known PI 3-kinase effector protein kinase B, which was also inhibited by wortmannin and pertussis toxin. Concentrations of PI 3-kinase inhibitors, sufficient to inhibit PtdIns(3,4,5)P3 accumulation, also inhibited chemotaxis of Jurkat and peripheral blood-derived T lymphocytes in response to SDF-1. In contrast, SDF-1-stimulated actin polymerization was only partially inhibited by PI 3-kinase inhibitors, suggesting that while chemotaxis is fully dependent on PI 3-kinase activation, actin polymerization requires additional biochemical inputs. Finally, SDF-1-stimulated extracellular signal-related kinase (ERK)-1/2 mitogen-activated protein kinase activation was inhibited by PI 3-kinase inhibitors. In addition, the mitogen-activated protein/ERK kinase inhibitor PD098059 partially attenuated chemotaxis in response to SDF-1. Hence, it appears that ERK1/2 activation is dependent on PI 3-kinase activation, and both biochemical events are involved in the regulation of SDF-1-stimulated chemotaxis.\n",
      "\n",
      "generated_summary\n",
      "\n",
      "loss: 0.11038738489151001\n",
      "\n",
      "loss: 0.11018044501543045\n",
      "\n",
      "loss: 0.08282922953367233\n",
      "\n",
      "loss: 0.06040993332862854\n",
      "\n",
      "loss: 0.14025184512138367\n",
      "\n",
      "loss: 0.03420529142022133\n",
      "\n",
      "loss: 0.10521498322486877\n",
      "\n",
      "loss: 0.06623200327157974\n",
      "\n",
      "loss: 0.0706997662782669\n",
      "\n",
      "loss: 0.09286919981241226\n",
      "\n"
     ]
    },
    {
     "data": {
      "application/vnd.jupyter.widget-view+json": {
       "model_id": "385d50d5b72f4bbaa65b12ab43932d31",
       "version_major": 2,
       "version_minor": 0
      },
      "text/plain": [
       "Evaluating:   0%|          | 0/770 [00:00<?, ?it/s]"
      ]
     },
     "metadata": {},
     "output_type": "display_data"
    },
    {
     "name": "stdout",
     "output_type": "stream",
     "text": [
      "perplexity: 24.76390838623047\n",
      "After 151 updates: \n",
      "\n"
     ]
    },
    {
     "data": {
      "application/vnd.jupyter.widget-view+json": {
       "model_id": "33044a99b20442dabae24fc8f89a4315",
       "version_major": 2,
       "version_minor": 0
      },
      "text/plain": [
       "  0%|          | 0/100 [00:00<?, ?it/s]"
      ]
     },
     "metadata": {},
     "output_type": "display_data"
    },
    {
     "name": "stdout",
     "output_type": "stream",
     "text": [
      "The peptide repeat domain of nucleoporin Nup98 functions as a docking site in transport across the nuclear pore complex. We report the cDNA deduced primary structure of a wheat germ agglutinin-reactive nuclear pore complex (NPC) protein of rat. The protein, termed Nup98 (for nucleoporin of 98 kDa), contains numerous GLFG and FG repeats and some FXFG repeats and is thus a vertebrate member of a family of GLFG nucleoporins that were previously discovered in yeast. Immunoelectron microscopy showed Nup98 to be asymmetrically located at the nucleoplasmic side of the NPC. Nup98 functions as one of several docking site nucleoporins in a cytosolic docking activity-mediated binding of a model transport substrate. The docking site of Nup98 was mapped to its N-terminal half, which contains all of the peptide repeats. A recombinant segment of this region depleted the docking activity of cytosol. We suggest that the peptide repeat domain of Nup98, together with peptide repeat domains of other nucleoporins, forms an array of sites for mediated docking of transport substrate, and that bidirectional transport across the NPC proceeds by repeated docking and undocking reactions.\n",
      "\n",
      "generated_summary\n",
      "\n"
     ]
    },
    {
     "data": {
      "application/vnd.jupyter.widget-view+json": {
       "model_id": "04a6bc19ec23430a89d484d80e430d91",
       "version_major": 2,
       "version_minor": 0
      },
      "text/plain": [
       "  0%|          | 0/100 [00:00<?, ?it/s]"
      ]
     },
     "metadata": {},
     "output_type": "display_data"
    },
    {
     "name": "stdout",
     "output_type": "stream",
     "text": [
      "The CXC chemokine stromal cell-derived factor activates a Gi-coupled phosphoinositide 3-kinase in T lymphocytes. The cellular effects of stromal cell-derived factor-1 (SDF-1) are mediated primarily by binding to the CXC chemokine receptor-4. We report in this study that SDF-1 and its peptide analogues induce a concentration- and time-dependent accumulation of phosphatidylinositol-(3,4,5)-trisphosphate (PtdIns(3,4,5)P3) in Jurkat cells. This SDF-1-stimulated generation of D-3 phosphoinositide lipids was inhibited by pretreatment of the cells with an SDF-1 peptide antagonist or an anti-CXCR4 Ab. In addition, the phosphoinositide 3 (PI 3)-kinase inhibitors wortmannin and LY294002, as well as the Gi protein inhibitor pertussis toxin, also inhibited the SDF-1-stimulated accumulation of PtdIns(3,4,5)P3. The effects of SDF-1 on D-3 phosphoinositide lipid accumulation correlated well with activation of the known PI 3-kinase effector protein kinase B, which was also inhibited by wortmannin and pertussis toxin. Concentrations of PI 3-kinase inhibitors, sufficient to inhibit PtdIns(3,4,5)P3 accumulation, also inhibited chemotaxis of Jurkat and peripheral blood-derived T lymphocytes in response to SDF-1. In contrast, SDF-1-stimulated actin polymerization was only partially inhibited by PI 3-kinase inhibitors, suggesting that while chemotaxis is fully dependent on PI 3-kinase activation, actin polymerization requires additional biochemical inputs. Finally, SDF-1-stimulated extracellular signal-related kinase (ERK)-1/2 mitogen-activated protein kinase activation was inhibited by PI 3-kinase inhibitors. In addition, the mitogen-activated protein/ERK kinase inhibitor PD098059 partially attenuated chemotaxis in response to SDF-1. Hence, it appears that ERK1/2 activation is dependent on PI 3-kinase activation, and both biochemical events are involved in the regulation of SDF-1-stimulated chemotaxis.\n",
      "\n",
      "generated_summary\n",
      "\n",
      "loss: 0.07376447319984436\n",
      "\n",
      "loss: 0.08035697788000107\n",
      "\n",
      "loss: 0.05595654249191284\n",
      "\n",
      "loss: 0.028970608487725258\n",
      "\n",
      "loss: 0.0560280941426754\n",
      "\n",
      "loss: 0.09314578026533127\n",
      "\n",
      "loss: 0.13299204409122467\n",
      "\n",
      "loss: 0.08263958245515823\n",
      "\n",
      "loss: 0.0693865567445755\n",
      "\n",
      "loss: 0.12258414924144745\n",
      "\n"
     ]
    },
    {
     "data": {
      "application/vnd.jupyter.widget-view+json": {
       "model_id": "e3a64fa01917424b9fe1dc36c54c697d",
       "version_major": 2,
       "version_minor": 0
      },
      "text/plain": [
       "Evaluating:   0%|          | 0/770 [00:00<?, ?it/s]"
      ]
     },
     "metadata": {},
     "output_type": "display_data"
    },
    {
     "name": "stdout",
     "output_type": "stream",
     "text": [
      "perplexity: 9.38344669342041\n",
      "After 161 updates: \n",
      "\n"
     ]
    },
    {
     "data": {
      "application/vnd.jupyter.widget-view+json": {
       "model_id": "115a46fd21134387b3470fabc7bbdeba",
       "version_major": 2,
       "version_minor": 0
      },
      "text/plain": [
       "  0%|          | 0/100 [00:00<?, ?it/s]"
      ]
     },
     "metadata": {},
     "output_type": "display_data"
    },
    {
     "name": "stdout",
     "output_type": "stream",
     "text": [
      "The peptide repeat domain of nucleoporin Nup98 functions as a docking site in transport across the nuclear pore complex. We report the cDNA deduced primary structure of a wheat germ agglutinin-reactive nuclear pore complex (NPC) protein of rat. The protein, termed Nup98 (for nucleoporin of 98 kDa), contains numerous GLFG and FG repeats and some FXFG repeats and is thus a vertebrate member of a family of GLFG nucleoporins that were previously discovered in yeast. Immunoelectron microscopy showed Nup98 to be asymmetrically located at the nucleoplasmic side of the NPC. Nup98 functions as one of several docking site nucleoporins in a cytosolic docking activity-mediated binding of a model transport substrate. The docking site of Nup98 was mapped to its N-terminal half, which contains all of the peptide repeats. A recombinant segment of this region depleted the docking activity of cytosol. We suggest that the peptide repeat domain of Nup98, together with peptide repeat domains of other nucleoporins, forms an array of sites for mediated docking of transport substrate, and that bidirectional transport across the NPC proceeds by repeated docking and undocking reactions.\n",
      "\n",
      "generated_summary\n",
      "\n"
     ]
    },
    {
     "data": {
      "application/vnd.jupyter.widget-view+json": {
       "model_id": "0a94285e6ea043c8a7360113621b07f7",
       "version_major": 2,
       "version_minor": 0
      },
      "text/plain": [
       "  0%|          | 0/100 [00:00<?, ?it/s]"
      ]
     },
     "metadata": {},
     "output_type": "display_data"
    },
    {
     "name": "stdout",
     "output_type": "stream",
     "text": [
      "The CXC chemokine stromal cell-derived factor activates a Gi-coupled phosphoinositide 3-kinase in T lymphocytes. The cellular effects of stromal cell-derived factor-1 (SDF-1) are mediated primarily by binding to the CXC chemokine receptor-4. We report in this study that SDF-1 and its peptide analogues induce a concentration- and time-dependent accumulation of phosphatidylinositol-(3,4,5)-trisphosphate (PtdIns(3,4,5)P3) in Jurkat cells. This SDF-1-stimulated generation of D-3 phosphoinositide lipids was inhibited by pretreatment of the cells with an SDF-1 peptide antagonist or an anti-CXCR4 Ab. In addition, the phosphoinositide 3 (PI 3)-kinase inhibitors wortmannin and LY294002, as well as the Gi protein inhibitor pertussis toxin, also inhibited the SDF-1-stimulated accumulation of PtdIns(3,4,5)P3. The effects of SDF-1 on D-3 phosphoinositide lipid accumulation correlated well with activation of the known PI 3-kinase effector protein kinase B, which was also inhibited by wortmannin and pertussis toxin. Concentrations of PI 3-kinase inhibitors, sufficient to inhibit PtdIns(3,4,5)P3 accumulation, also inhibited chemotaxis of Jurkat and peripheral blood-derived T lymphocytes in response to SDF-1. In contrast, SDF-1-stimulated actin polymerization was only partially inhibited by PI 3-kinase inhibitors, suggesting that while chemotaxis is fully dependent on PI 3-kinase activation, actin polymerization requires additional biochemical inputs. Finally, SDF-1-stimulated extracellular signal-related kinase (ERK)-1/2 mitogen-activated protein kinase activation was inhibited by PI 3-kinase inhibitors. In addition, the mitogen-activated protein/ERK kinase inhibitor PD098059 partially attenuated chemotaxis in response to SDF-1. Hence, it appears that ERK1/2 activation is dependent on PI 3-kinase activation, and both biochemical events are involved in the regulation of SDF-1-stimulated chemotaxis.\n",
      "\n",
      "generated_summary\n",
      "\n",
      "loss: 0.10530531406402588\n",
      "\n",
      "loss: 0.04926344007253647\n",
      "\n",
      "loss: 0.0715542808175087\n",
      "\n",
      "loss: 0.05760731175541878\n",
      "\n",
      "loss: 0.058261312544345856\n",
      "\n",
      "loss: 0.1016841009259224\n",
      "\n",
      "loss: 0.08478264510631561\n",
      "\n",
      "loss: 0.13272814452648163\n",
      "\n",
      "loss: 0.07312958687543869\n",
      "\n",
      "loss: 0.05433249473571777\n",
      "\n"
     ]
    },
    {
     "data": {
      "application/vnd.jupyter.widget-view+json": {
       "model_id": "40be44c1597445bcb9d7863127622774",
       "version_major": 2,
       "version_minor": 0
      },
      "text/plain": [
       "Evaluating:   0%|          | 0/770 [00:00<?, ?it/s]"
      ]
     },
     "metadata": {},
     "output_type": "display_data"
    },
    {
     "name": "stdout",
     "output_type": "stream",
     "text": [
      "perplexity: 8.755002975463867\n",
      "After 171 updates: \n",
      "\n"
     ]
    },
    {
     "data": {
      "application/vnd.jupyter.widget-view+json": {
       "model_id": "9462ffeacfd342d49ba9c85994a37b5a",
       "version_major": 2,
       "version_minor": 0
      },
      "text/plain": [
       "  0%|          | 0/100 [00:00<?, ?it/s]"
      ]
     },
     "metadata": {},
     "output_type": "display_data"
    },
    {
     "name": "stdout",
     "output_type": "stream",
     "text": [
      "The peptide repeat domain of nucleoporin Nup98 functions as a docking site in transport across the nuclear pore complex. We report the cDNA deduced primary structure of a wheat germ agglutinin-reactive nuclear pore complex (NPC) protein of rat. The protein, termed Nup98 (for nucleoporin of 98 kDa), contains numerous GLFG and FG repeats and some FXFG repeats and is thus a vertebrate member of a family of GLFG nucleoporins that were previously discovered in yeast. Immunoelectron microscopy showed Nup98 to be asymmetrically located at the nucleoplasmic side of the NPC. Nup98 functions as one of several docking site nucleoporins in a cytosolic docking activity-mediated binding of a model transport substrate. The docking site of Nup98 was mapped to its N-terminal half, which contains all of the peptide repeats. A recombinant segment of this region depleted the docking activity of cytosol. We suggest that the peptide repeat domain of Nup98, together with peptide repeat domains of other nucleoporins, forms an array of sites for mediated docking of transport substrate, and that bidirectional transport across the NPC proceeds by repeated docking and undocking reactions.\n",
      "\n",
      "generated_summary\n",
      "\n"
     ]
    },
    {
     "data": {
      "application/vnd.jupyter.widget-view+json": {
       "model_id": "165bc8b8c93c44a7a8fa407b82562c08",
       "version_major": 2,
       "version_minor": 0
      },
      "text/plain": [
       "  0%|          | 0/100 [00:00<?, ?it/s]"
      ]
     },
     "metadata": {},
     "output_type": "display_data"
    },
    {
     "name": "stdout",
     "output_type": "stream",
     "text": [
      "The CXC chemokine stromal cell-derived factor activates a Gi-coupled phosphoinositide 3-kinase in T lymphocytes. The cellular effects of stromal cell-derived factor-1 (SDF-1) are mediated primarily by binding to the CXC chemokine receptor-4. We report in this study that SDF-1 and its peptide analogues induce a concentration- and time-dependent accumulation of phosphatidylinositol-(3,4,5)-trisphosphate (PtdIns(3,4,5)P3) in Jurkat cells. This SDF-1-stimulated generation of D-3 phosphoinositide lipids was inhibited by pretreatment of the cells with an SDF-1 peptide antagonist or an anti-CXCR4 Ab. In addition, the phosphoinositide 3 (PI 3)-kinase inhibitors wortmannin and LY294002, as well as the Gi protein inhibitor pertussis toxin, also inhibited the SDF-1-stimulated accumulation of PtdIns(3,4,5)P3. The effects of SDF-1 on D-3 phosphoinositide lipid accumulation correlated well with activation of the known PI 3-kinase effector protein kinase B, which was also inhibited by wortmannin and pertussis toxin. Concentrations of PI 3-kinase inhibitors, sufficient to inhibit PtdIns(3,4,5)P3 accumulation, also inhibited chemotaxis of Jurkat and peripheral blood-derived T lymphocytes in response to SDF-1. In contrast, SDF-1-stimulated actin polymerization was only partially inhibited by PI 3-kinase inhibitors, suggesting that while chemotaxis is fully dependent on PI 3-kinase activation, actin polymerization requires additional biochemical inputs. Finally, SDF-1-stimulated extracellular signal-related kinase (ERK)-1/2 mitogen-activated protein kinase activation was inhibited by PI 3-kinase inhibitors. In addition, the mitogen-activated protein/ERK kinase inhibitor PD098059 partially attenuated chemotaxis in response to SDF-1. Hence, it appears that ERK1/2 activation is dependent on PI 3-kinase activation, and both biochemical events are involved in the regulation of SDF-1-stimulated chemotaxis.\n",
      "\n",
      "generated_summary\n",
      "\n",
      "loss: 0.08572389930486679\n",
      "\n",
      "loss: 0.06613047420978546\n",
      "\n",
      "loss: 0.09756946563720703\n",
      "\n",
      "loss: 0.06880708783864975\n",
      "\n",
      "loss: 0.051459845155477524\n",
      "\n",
      "loss: 0.022897936403751373\n",
      "\n",
      "loss: 0.05064675956964493\n",
      "\n",
      "loss: 0.04245826229453087\n",
      "\n",
      "loss: 0.05730283260345459\n",
      "\n",
      "loss: 0.05729091167449951\n",
      "\n"
     ]
    },
    {
     "data": {
      "application/vnd.jupyter.widget-view+json": {
       "model_id": "8eac57a69d4a4bf6a355ad1126d0e9cf",
       "version_major": 2,
       "version_minor": 0
      },
      "text/plain": [
       "Evaluating:   0%|          | 0/770 [00:00<?, ?it/s]"
      ]
     },
     "metadata": {},
     "output_type": "display_data"
    },
    {
     "name": "stdout",
     "output_type": "stream",
     "text": [
      "perplexity: 8.362332344055176\n",
      "After 181 updates: \n",
      "\n"
     ]
    },
    {
     "data": {
      "application/vnd.jupyter.widget-view+json": {
       "model_id": "291a6a3818e64fbfa68f35ecd0260a87",
       "version_major": 2,
       "version_minor": 0
      },
      "text/plain": [
       "  0%|          | 0/100 [00:00<?, ?it/s]"
      ]
     },
     "metadata": {},
     "output_type": "display_data"
    },
    {
     "name": "stdout",
     "output_type": "stream",
     "text": [
      "The peptide repeat domain of nucleoporin Nup98 functions as a docking site in transport across the nuclear pore complex. We report the cDNA deduced primary structure of a wheat germ agglutinin-reactive nuclear pore complex (NPC) protein of rat. The protein, termed Nup98 (for nucleoporin of 98 kDa), contains numerous GLFG and FG repeats and some FXFG repeats and is thus a vertebrate member of a family of GLFG nucleoporins that were previously discovered in yeast. Immunoelectron microscopy showed Nup98 to be asymmetrically located at the nucleoplasmic side of the NPC. Nup98 functions as one of several docking site nucleoporins in a cytosolic docking activity-mediated binding of a model transport substrate. The docking site of Nup98 was mapped to its N-terminal half, which contains all of the peptide repeats. A recombinant segment of this region depleted the docking activity of cytosol. We suggest that the peptide repeat domain of Nup98, together with peptide repeat domains of other nucleoporins, forms an array of sites for mediated docking of transport substrate, and that bidirectional transport across the NPC proceeds by repeated docking and undocking reactions.\n",
      "\n",
      "generated_summary\n",
      "\n"
     ]
    },
    {
     "data": {
      "application/vnd.jupyter.widget-view+json": {
       "model_id": "1040ad08d9df4551a4770177eb453104",
       "version_major": 2,
       "version_minor": 0
      },
      "text/plain": [
       "  0%|          | 0/100 [00:00<?, ?it/s]"
      ]
     },
     "metadata": {},
     "output_type": "display_data"
    },
    {
     "name": "stdout",
     "output_type": "stream",
     "text": [
      "The CXC chemokine stromal cell-derived factor activates a Gi-coupled phosphoinositide 3-kinase in T lymphocytes. The cellular effects of stromal cell-derived factor-1 (SDF-1) are mediated primarily by binding to the CXC chemokine receptor-4. We report in this study that SDF-1 and its peptide analogues induce a concentration- and time-dependent accumulation of phosphatidylinositol-(3,4,5)-trisphosphate (PtdIns(3,4,5)P3) in Jurkat cells. This SDF-1-stimulated generation of D-3 phosphoinositide lipids was inhibited by pretreatment of the cells with an SDF-1 peptide antagonist or an anti-CXCR4 Ab. In addition, the phosphoinositide 3 (PI 3)-kinase inhibitors wortmannin and LY294002, as well as the Gi protein inhibitor pertussis toxin, also inhibited the SDF-1-stimulated accumulation of PtdIns(3,4,5)P3. The effects of SDF-1 on D-3 phosphoinositide lipid accumulation correlated well with activation of the known PI 3-kinase effector protein kinase B, which was also inhibited by wortmannin and pertussis toxin. Concentrations of PI 3-kinase inhibitors, sufficient to inhibit PtdIns(3,4,5)P3 accumulation, also inhibited chemotaxis of Jurkat and peripheral blood-derived T lymphocytes in response to SDF-1. In contrast, SDF-1-stimulated actin polymerization was only partially inhibited by PI 3-kinase inhibitors, suggesting that while chemotaxis is fully dependent on PI 3-kinase activation, actin polymerization requires additional biochemical inputs. Finally, SDF-1-stimulated extracellular signal-related kinase (ERK)-1/2 mitogen-activated protein kinase activation was inhibited by PI 3-kinase inhibitors. In addition, the mitogen-activated protein/ERK kinase inhibitor PD098059 partially attenuated chemotaxis in response to SDF-1. Hence, it appears that ERK1/2 activation is dependent on PI 3-kinase activation, and both biochemical events are involved in the regulation of SDF-1-stimulated chemotaxis.\n",
      "\n",
      "generated_summary\n",
      "\n",
      "loss: 0.07725286483764648\n",
      "\n",
      "loss: 0.05381593853235245\n",
      "\n",
      "loss: 0.06704650074243546\n",
      "\n",
      "loss: 0.039446063339710236\n",
      "\n",
      "loss: 0.0723528265953064\n",
      "\n",
      "loss: 0.10880535840988159\n",
      "\n",
      "loss: 0.06704390048980713\n",
      "\n",
      "loss: 0.08561956882476807\n",
      "\n",
      "loss: 0.05695152282714844\n",
      "\n",
      "loss: 0.10399410128593445\n",
      "\n"
     ]
    },
    {
     "data": {
      "application/vnd.jupyter.widget-view+json": {
       "model_id": "4444f11da227480ca893c47fab6ae67d",
       "version_major": 2,
       "version_minor": 0
      },
      "text/plain": [
       "Evaluating:   0%|          | 0/770 [00:00<?, ?it/s]"
      ]
     },
     "metadata": {},
     "output_type": "display_data"
    },
    {
     "name": "stdout",
     "output_type": "stream",
     "text": [
      "perplexity: 8.234370231628418\n",
      "After 191 updates: \n",
      "\n"
     ]
    },
    {
     "data": {
      "application/vnd.jupyter.widget-view+json": {
       "model_id": "29e26acca1ec497ca12a9102f916c168",
       "version_major": 2,
       "version_minor": 0
      },
      "text/plain": [
       "  0%|          | 0/100 [00:00<?, ?it/s]"
      ]
     },
     "metadata": {},
     "output_type": "display_data"
    },
    {
     "name": "stdout",
     "output_type": "stream",
     "text": [
      "The peptide repeat domain of nucleoporin Nup98 functions as a docking site in transport across the nuclear pore complex. We report the cDNA deduced primary structure of a wheat germ agglutinin-reactive nuclear pore complex (NPC) protein of rat. The protein, termed Nup98 (for nucleoporin of 98 kDa), contains numerous GLFG and FG repeats and some FXFG repeats and is thus a vertebrate member of a family of GLFG nucleoporins that were previously discovered in yeast. Immunoelectron microscopy showed Nup98 to be asymmetrically located at the nucleoplasmic side of the NPC. Nup98 functions as one of several docking site nucleoporins in a cytosolic docking activity-mediated binding of a model transport substrate. The docking site of Nup98 was mapped to its N-terminal half, which contains all of the peptide repeats. A recombinant segment of this region depleted the docking activity of cytosol. We suggest that the peptide repeat domain of Nup98, together with peptide repeat domains of other nucleoporins, forms an array of sites for mediated docking of transport substrate, and that bidirectional transport across the NPC proceeds by repeated docking and undocking reactions.\n",
      "\n",
      "generated_summary\n",
      "\n"
     ]
    },
    {
     "data": {
      "application/vnd.jupyter.widget-view+json": {
       "model_id": "909e39a43fce4b6fbd4037bab665a302",
       "version_major": 2,
       "version_minor": 0
      },
      "text/plain": [
       "  0%|          | 0/100 [00:00<?, ?it/s]"
      ]
     },
     "metadata": {},
     "output_type": "display_data"
    },
    {
     "name": "stdout",
     "output_type": "stream",
     "text": [
      "The CXC chemokine stromal cell-derived factor activates a Gi-coupled phosphoinositide 3-kinase in T lymphocytes. The cellular effects of stromal cell-derived factor-1 (SDF-1) are mediated primarily by binding to the CXC chemokine receptor-4. We report in this study that SDF-1 and its peptide analogues induce a concentration- and time-dependent accumulation of phosphatidylinositol-(3,4,5)-trisphosphate (PtdIns(3,4,5)P3) in Jurkat cells. This SDF-1-stimulated generation of D-3 phosphoinositide lipids was inhibited by pretreatment of the cells with an SDF-1 peptide antagonist or an anti-CXCR4 Ab. In addition, the phosphoinositide 3 (PI 3)-kinase inhibitors wortmannin and LY294002, as well as the Gi protein inhibitor pertussis toxin, also inhibited the SDF-1-stimulated accumulation of PtdIns(3,4,5)P3. The effects of SDF-1 on D-3 phosphoinositide lipid accumulation correlated well with activation of the known PI 3-kinase effector protein kinase B, which was also inhibited by wortmannin and pertussis toxin. Concentrations of PI 3-kinase inhibitors, sufficient to inhibit PtdIns(3,4,5)P3 accumulation, also inhibited chemotaxis of Jurkat and peripheral blood-derived T lymphocytes in response to SDF-1. In contrast, SDF-1-stimulated actin polymerization was only partially inhibited by PI 3-kinase inhibitors, suggesting that while chemotaxis is fully dependent on PI 3-kinase activation, actin polymerization requires additional biochemical inputs. Finally, SDF-1-stimulated extracellular signal-related kinase (ERK)-1/2 mitogen-activated protein kinase activation was inhibited by PI 3-kinase inhibitors. In addition, the mitogen-activated protein/ERK kinase inhibitor PD098059 partially attenuated chemotaxis in response to SDF-1. Hence, it appears that ERK1/2 activation is dependent on PI 3-kinase activation, and both biochemical events are involved in the regulation of SDF-1-stimulated chemotaxis.\n",
      "\n",
      "generated_summary\n",
      "\n"
     ]
    },
    {
     "data": {
      "application/vnd.jupyter.widget-view+json": {
       "model_id": "30412ed9b4b144fa859b031f1b7e1f78",
       "version_major": 2,
       "version_minor": 0
      },
      "text/plain": [
       "Training:   0%|          | 0/6100 [00:00<?, ?it/s]"
      ]
     },
     "metadata": {},
     "output_type": "display_data"
    },
    {
     "name": "stdout",
     "output_type": "stream",
     "text": [
      "loss: 0.10511346161365509\n",
      "\n",
      "After 1st update: \n",
      "\n"
     ]
    },
    {
     "data": {
      "application/vnd.jupyter.widget-view+json": {
       "model_id": "ca1b696c37f243c9bfdf927fcfbf9711",
       "version_major": 2,
       "version_minor": 0
      },
      "text/plain": [
       "  0%|          | 0/100 [00:00<?, ?it/s]"
      ]
     },
     "metadata": {},
     "output_type": "display_data"
    },
    {
     "name": "stdout",
     "output_type": "stream",
     "text": [
      "new_article\n",
      "\n",
      "The peptide repeat domain of nucleoporin Nup98 functions as a docking site in transport across the nuclear pore complex. We report the cDNA deduced primary structure of a wheat germ agglutinin-reactive nuclear pore complex (NPC) protein of rat. The protein, termed Nup98 (for nucleoporin of 98 kDa), contains numerous GLFG and FG repeats and some FXFG repeats and is thus a vertebrate member of a family of GLFG nucleoporins that were previously discovered in yeast. Immunoelectron microscopy showed Nup98 to be asymmetrically located at the nucleoplasmic side of the NPC. Nup98 functions as one of several docking site nucleoporins in a cytosolic docking activity-mediated binding of a model transport substrate. The docking site of Nup98 was mapped to its N-terminal half, which contains all of the peptide repeats. A recombinant segment of this region depleted the docking activity of cytosol. We suggest that the peptide repeat domain of Nup98, together with peptide repeat domains of other nucleoporins, forms an array of sites for mediated docking of transport substrate, and that bidirectional transport across the NPC proceeds by repeated docking and undocking reactions.\n",
      "\n",
      "generated_summary\n",
      "\n",
      "NUP98 located_in nucleus.NPC; involved_in nucleopore transport; involved_in nuclear membrane complex.NPC located_in nucleus.NUP98 involved_in nuclear membrane complex.NPC involved_in nuclear membrane complex.NUP98 involved_in nuclear membrane complex.NUP98 involved_in nuclear membrane complex.NUP98 involved_in nuclear membrane complex.NUP98 involved_in nuclear membrane complex.NUP98 involved_in nuclear membrane\n",
      "\n",
      "actual_summary\n",
      "\n",
      "NUP98 enables transporter activity. <|pad|> <|pad|> <|pad|> <|pad|> <|pad|> <|pad|> <|pad|> <|pad|> <|pad|> <|pad|> <|pad|> <|pad|> <|pad|> <|pad|> <|pad|> <|pad|> <|pad|> <|pad|> <|pad|> <|pad|> <|pad|> <|pad|> <|pad|> <|pad|> <|pad|> <|pad|> <|pad|> <|pad|> <|pad|> <|pad|> <|pad|> <|pad|> <|pad|> <|pad|> <|pad|> <|pad|> <|pad|> <|pad|> <|pad|> <|pad|> <|pad|> <|pad|> <|pad|> <|pad|> <|pad|> <|pad|> <|pad|> <|pad|> <|pad|> <|pad|> <|pad|> <|pad|> <|pad|> <|pad|> <|pad|> <|pad|> <|pad|> <|pad|> <|pad|> <|pad|> <|pad|> <|pad|> <|pad|> <|pad|> <|pad|> <|pad|> <|pad|> <|pad|> <|pad|> <|pad|> <|pad|> <|pad|> <|pad|> <|pad|> <|pad|> <|pad|> <|pad|> <|pad|> <|pad|> <|pad|> <|pad|> <|pad|> <|pad|> <|pad|> <|pad|> <|pad|> <|pad|> <|pad|> <|pad|> <|pad|> <|pad|> <|pad|> <|pad|>\n",
      "\n"
     ]
    },
    {
     "data": {
      "application/vnd.jupyter.widget-view+json": {
       "model_id": "492e0298388c4b45969349f4412832b5",
       "version_major": 2,
       "version_minor": 0
      },
      "text/plain": [
       "  0%|          | 0/100 [00:00<?, ?it/s]"
      ]
     },
     "metadata": {},
     "output_type": "display_data"
    },
    {
     "name": "stdout",
     "output_type": "stream",
     "text": [
      "new_article\n",
      "\n",
      "The CXC chemokine stromal cell-derived factor activates a Gi-coupled phosphoinositide 3-kinase in T lymphocytes. The cellular effects of stromal cell-derived factor-1 (SDF-1) are mediated primarily by binding to the CXC chemokine receptor-4. We report in this study that SDF-1 and its peptide analogues induce a concentration- and time-dependent accumulation of phosphatidylinositol-(3,4,5)-trisphosphate (PtdIns(3,4,5)P3) in Jurkat cells. This SDF-1-stimulated generation of D-3 phosphoinositide lipids was inhibited by pretreatment of the cells with an SDF-1 peptide antagonist or an anti-CXCR4 Ab. In addition, the phosphoinositide 3 (PI 3)-kinase inhibitors wortmannin and LY294002, as well as the Gi protein inhibitor pertussis toxin, also inhibited the SDF-1-stimulated accumulation of PtdIns(3,4,5)P3. The effects of SDF-1 on D-3 phosphoinositide lipid accumulation correlated well with activation of the known PI 3-kinase effector protein kinase B, which was also inhibited by wortmannin and pertussis toxin. Concentrations of PI 3-kinase inhibitors, sufficient to inhibit PtdIns(3,4,5)P3 accumulation, also inhibited chemotaxis of Jurkat and peripheral blood-derived T lymphocytes in response to SDF-1. In contrast, SDF-1-stimulated actin polymerization was only partially inhibited by PI 3-kinase inhibitors, suggesting that while chemotaxis is fully dependent on PI 3-kinase activation, actin polymerization requires additional biochemical inputs. Finally, SDF-1-stimulated extracellular signal-related kinase (ERK)-1/2 mitogen-activated protein kinase activation was inhibited by PI 3-kinase inhibitors. In addition, the mitogen-activated protein/ERK kinase inhibitor PD098059 partially attenuated chemotaxis in response to SDF-1. Hence, it appears that ERK1/2 activation is dependent on PI 3-kinase activation, and both biochemical events are involved in the regulation of SDF-1-stimulated chemotaxis.\n",
      "\n",
      "generated_summary\n",
      "\n",
      " This ERK1/2 involved_in protein kinase activity. This ERK1 involved_in phosphatidylinositolipase activity. ERK1 involved_in phosphatidylinositolipase activity. ERK1 involved_in phosphatidylinositolipase activity. ERK1 involved_in phosphatidylinositolipase activity. ERK1 involved_in phosphatidylinositolipase activity.\n",
      "\n",
      "actual_summary\n",
      "\n",
      "AKT1 enables protein kinase activity; involved_in G protein-coupled receptor signaling pathway. <|pad|> <|pad|> <|pad|> <|pad|> <|pad|> <|pad|> <|pad|> <|pad|> <|pad|> <|pad|> <|pad|> <|pad|> <|pad|> <|pad|> <|pad|> <|pad|> <|pad|> <|pad|> <|pad|> <|pad|> <|pad|> <|pad|> <|pad|> <|pad|> <|pad|> <|pad|> <|pad|> <|pad|> <|pad|> <|pad|> <|pad|> <|pad|> <|pad|> <|pad|> <|pad|> <|pad|> <|pad|> <|pad|> <|pad|> <|pad|> <|pad|> <|pad|> <|pad|> <|pad|> <|pad|> <|pad|> <|pad|> <|pad|> <|pad|> <|pad|> <|pad|> <|pad|> <|pad|> <|pad|> <|pad|> <|pad|> <|pad|> <|pad|> <|pad|> <|pad|> <|pad|> <|pad|> <|pad|> <|pad|> <|pad|> <|pad|> <|pad|> <|pad|> <|pad|> <|pad|> <|pad|> <|pad|> <|pad|> <|pad|> <|pad|> <|pad|> <|pad|> <|pad|>\n",
      "\n",
      "loss: 0.08553993701934814\n",
      "\n",
      "loss: 0.05381211265921593\n",
      "\n",
      "loss: 0.08841986209154129\n",
      "\n",
      "loss: 0.048243749886751175\n",
      "\n",
      "loss: 0.10221989452838898\n",
      "\n",
      "loss: 0.07314840704202652\n",
      "\n",
      "loss: 0.07976958155632019\n",
      "\n",
      "loss: 0.06980585306882858\n",
      "\n",
      "loss: 0.07744354009628296\n",
      "\n"
     ]
    },
    {
     "data": {
      "application/vnd.jupyter.widget-view+json": {
       "model_id": "9cd3654c6ec24429be00e00a9de4f7a2",
       "version_major": 2,
       "version_minor": 0
      },
      "text/plain": [
       "Evaluating:   0%|          | 0/770 [00:00<?, ?it/s]"
      ]
     },
     "metadata": {},
     "output_type": "display_data"
    },
    {
     "name": "stdout",
     "output_type": "stream",
     "text": [
      "perplexity: 8.121988296508789\n",
      "After 201 updates: \n",
      "\n"
     ]
    },
    {
     "data": {
      "application/vnd.jupyter.widget-view+json": {
       "model_id": "fed0c1ca50cb441a8136aaf79ddaac75",
       "version_major": 2,
       "version_minor": 0
      },
      "text/plain": [
       "  0%|          | 0/100 [00:00<?, ?it/s]"
      ]
     },
     "metadata": {},
     "output_type": "display_data"
    },
    {
     "name": "stdout",
     "output_type": "stream",
     "text": [
      "The peptide repeat domain of nucleoporin Nup98 functions as a docking site in transport across the nuclear pore complex. We report the cDNA deduced primary structure of a wheat germ agglutinin-reactive nuclear pore complex (NPC) protein of rat. The protein, termed Nup98 (for nucleoporin of 98 kDa), contains numerous GLFG and FG repeats and some FXFG repeats and is thus a vertebrate member of a family of GLFG nucleoporins that were previously discovered in yeast. Immunoelectron microscopy showed Nup98 to be asymmetrically located at the nucleoplasmic side of the NPC. Nup98 functions as one of several docking site nucleoporins in a cytosolic docking activity-mediated binding of a model transport substrate. The docking site of Nup98 was mapped to its N-terminal half, which contains all of the peptide repeats. A recombinant segment of this region depleted the docking activity of cytosol. We suggest that the peptide repeat domain of Nup98, together with peptide repeat domains of other nucleoporins, forms an array of sites for mediated docking of transport substrate, and that bidirectional transport across the NPC proceeds by repeated docking and undocking reactions.\n",
      "\n",
      "generated_summary\n",
      "\n"
     ]
    },
    {
     "data": {
      "application/vnd.jupyter.widget-view+json": {
       "model_id": "bdfc6d47e3074629af067d267baa2ee2",
       "version_major": 2,
       "version_minor": 0
      },
      "text/plain": [
       "  0%|          | 0/100 [00:00<?, ?it/s]"
      ]
     },
     "metadata": {},
     "output_type": "display_data"
    },
    {
     "name": "stdout",
     "output_type": "stream",
     "text": [
      "The CXC chemokine stromal cell-derived factor activates a Gi-coupled phosphoinositide 3-kinase in T lymphocytes. The cellular effects of stromal cell-derived factor-1 (SDF-1) are mediated primarily by binding to the CXC chemokine receptor-4. We report in this study that SDF-1 and its peptide analogues induce a concentration- and time-dependent accumulation of phosphatidylinositol-(3,4,5)-trisphosphate (PtdIns(3,4,5)P3) in Jurkat cells. This SDF-1-stimulated generation of D-3 phosphoinositide lipids was inhibited by pretreatment of the cells with an SDF-1 peptide antagonist or an anti-CXCR4 Ab. In addition, the phosphoinositide 3 (PI 3)-kinase inhibitors wortmannin and LY294002, as well as the Gi protein inhibitor pertussis toxin, also inhibited the SDF-1-stimulated accumulation of PtdIns(3,4,5)P3. The effects of SDF-1 on D-3 phosphoinositide lipid accumulation correlated well with activation of the known PI 3-kinase effector protein kinase B, which was also inhibited by wortmannin and pertussis toxin. Concentrations of PI 3-kinase inhibitors, sufficient to inhibit PtdIns(3,4,5)P3 accumulation, also inhibited chemotaxis of Jurkat and peripheral blood-derived T lymphocytes in response to SDF-1. In contrast, SDF-1-stimulated actin polymerization was only partially inhibited by PI 3-kinase inhibitors, suggesting that while chemotaxis is fully dependent on PI 3-kinase activation, actin polymerization requires additional biochemical inputs. Finally, SDF-1-stimulated extracellular signal-related kinase (ERK)-1/2 mitogen-activated protein kinase activation was inhibited by PI 3-kinase inhibitors. In addition, the mitogen-activated protein/ERK kinase inhibitor PD098059 partially attenuated chemotaxis in response to SDF-1. Hence, it appears that ERK1/2 activation is dependent on PI 3-kinase activation, and both biochemical events are involved in the regulation of SDF-1-stimulated chemotaxis.\n",
      "\n",
      "generated_summary\n",
      "\n",
      "loss: 0.05460026115179062\n",
      "\n",
      "loss: 0.05622050166130066\n",
      "\n",
      "loss: 0.0237745214253664\n",
      "\n",
      "loss: 0.07039850205183029\n",
      "\n",
      "loss: 0.06451990455389023\n",
      "\n",
      "loss: 0.09200207889080048\n",
      "\n",
      "loss: 0.07994752377271652\n",
      "\n",
      "loss: 0.08403635770082474\n",
      "\n",
      "loss: 0.05038604512810707\n",
      "\n",
      "loss: 0.08864958584308624\n",
      "\n"
     ]
    },
    {
     "data": {
      "application/vnd.jupyter.widget-view+json": {
       "model_id": "756b7cd36e8a446cb7770401380ef716",
       "version_major": 2,
       "version_minor": 0
      },
      "text/plain": [
       "Evaluating:   0%|          | 0/770 [00:00<?, ?it/s]"
      ]
     },
     "metadata": {},
     "output_type": "display_data"
    },
    {
     "name": "stdout",
     "output_type": "stream",
     "text": [
      "perplexity: 8.159476280212402\n",
      "After 211 updates: \n",
      "\n"
     ]
    },
    {
     "data": {
      "application/vnd.jupyter.widget-view+json": {
       "model_id": "58e41194af0d48c89ea41705db0cd319",
       "version_major": 2,
       "version_minor": 0
      },
      "text/plain": [
       "  0%|          | 0/100 [00:00<?, ?it/s]"
      ]
     },
     "metadata": {},
     "output_type": "display_data"
    },
    {
     "name": "stdout",
     "output_type": "stream",
     "text": [
      "The peptide repeat domain of nucleoporin Nup98 functions as a docking site in transport across the nuclear pore complex. We report the cDNA deduced primary structure of a wheat germ agglutinin-reactive nuclear pore complex (NPC) protein of rat. The protein, termed Nup98 (for nucleoporin of 98 kDa), contains numerous GLFG and FG repeats and some FXFG repeats and is thus a vertebrate member of a family of GLFG nucleoporins that were previously discovered in yeast. Immunoelectron microscopy showed Nup98 to be asymmetrically located at the nucleoplasmic side of the NPC. Nup98 functions as one of several docking site nucleoporins in a cytosolic docking activity-mediated binding of a model transport substrate. The docking site of Nup98 was mapped to its N-terminal half, which contains all of the peptide repeats. A recombinant segment of this region depleted the docking activity of cytosol. We suggest that the peptide repeat domain of Nup98, together with peptide repeat domains of other nucleoporins, forms an array of sites for mediated docking of transport substrate, and that bidirectional transport across the NPC proceeds by repeated docking and undocking reactions.\n",
      "\n",
      "generated_summary\n",
      "\n"
     ]
    },
    {
     "data": {
      "application/vnd.jupyter.widget-view+json": {
       "model_id": "6007d7af554d4a11a8a2549ad7b54c7a",
       "version_major": 2,
       "version_minor": 0
      },
      "text/plain": [
       "  0%|          | 0/100 [00:00<?, ?it/s]"
      ]
     },
     "metadata": {},
     "output_type": "display_data"
    },
    {
     "name": "stdout",
     "output_type": "stream",
     "text": [
      "The CXC chemokine stromal cell-derived factor activates a Gi-coupled phosphoinositide 3-kinase in T lymphocytes. The cellular effects of stromal cell-derived factor-1 (SDF-1) are mediated primarily by binding to the CXC chemokine receptor-4. We report in this study that SDF-1 and its peptide analogues induce a concentration- and time-dependent accumulation of phosphatidylinositol-(3,4,5)-trisphosphate (PtdIns(3,4,5)P3) in Jurkat cells. This SDF-1-stimulated generation of D-3 phosphoinositide lipids was inhibited by pretreatment of the cells with an SDF-1 peptide antagonist or an anti-CXCR4 Ab. In addition, the phosphoinositide 3 (PI 3)-kinase inhibitors wortmannin and LY294002, as well as the Gi protein inhibitor pertussis toxin, also inhibited the SDF-1-stimulated accumulation of PtdIns(3,4,5)P3. The effects of SDF-1 on D-3 phosphoinositide lipid accumulation correlated well with activation of the known PI 3-kinase effector protein kinase B, which was also inhibited by wortmannin and pertussis toxin. Concentrations of PI 3-kinase inhibitors, sufficient to inhibit PtdIns(3,4,5)P3 accumulation, also inhibited chemotaxis of Jurkat and peripheral blood-derived T lymphocytes in response to SDF-1. In contrast, SDF-1-stimulated actin polymerization was only partially inhibited by PI 3-kinase inhibitors, suggesting that while chemotaxis is fully dependent on PI 3-kinase activation, actin polymerization requires additional biochemical inputs. Finally, SDF-1-stimulated extracellular signal-related kinase (ERK)-1/2 mitogen-activated protein kinase activation was inhibited by PI 3-kinase inhibitors. In addition, the mitogen-activated protein/ERK kinase inhibitor PD098059 partially attenuated chemotaxis in response to SDF-1. Hence, it appears that ERK1/2 activation is dependent on PI 3-kinase activation, and both biochemical events are involved in the regulation of SDF-1-stimulated chemotaxis.\n",
      "\n",
      "generated_summary\n",
      "\n",
      "loss: 0.07319698482751846\n",
      "\n",
      "loss: 0.07262524962425232\n",
      "\n",
      "loss: 0.06371504068374634\n",
      "\n",
      "loss: 0.07059942185878754\n",
      "\n",
      "loss: 0.05763068050146103\n",
      "\n",
      "loss: 0.07038725912570953\n",
      "\n",
      "loss: 0.06301700323820114\n",
      "\n",
      "loss: 0.06828692555427551\n",
      "\n",
      "loss: 0.06237199530005455\n",
      "\n",
      "loss: 0.10641898959875107\n",
      "\n"
     ]
    },
    {
     "data": {
      "application/vnd.jupyter.widget-view+json": {
       "model_id": "6640d2a9fec847e9852d5854fedafaaa",
       "version_major": 2,
       "version_minor": 0
      },
      "text/plain": [
       "Evaluating:   0%|          | 0/770 [00:00<?, ?it/s]"
      ]
     },
     "metadata": {},
     "output_type": "display_data"
    },
    {
     "name": "stdout",
     "output_type": "stream",
     "text": [
      "perplexity: 8.046055793762207\n",
      "After 221 updates: \n",
      "\n"
     ]
    },
    {
     "data": {
      "application/vnd.jupyter.widget-view+json": {
       "model_id": "20762f348466418b9fd46dccce232957",
       "version_major": 2,
       "version_minor": 0
      },
      "text/plain": [
       "  0%|          | 0/100 [00:00<?, ?it/s]"
      ]
     },
     "metadata": {},
     "output_type": "display_data"
    },
    {
     "name": "stdout",
     "output_type": "stream",
     "text": [
      "The peptide repeat domain of nucleoporin Nup98 functions as a docking site in transport across the nuclear pore complex. We report the cDNA deduced primary structure of a wheat germ agglutinin-reactive nuclear pore complex (NPC) protein of rat. The protein, termed Nup98 (for nucleoporin of 98 kDa), contains numerous GLFG and FG repeats and some FXFG repeats and is thus a vertebrate member of a family of GLFG nucleoporins that were previously discovered in yeast. Immunoelectron microscopy showed Nup98 to be asymmetrically located at the nucleoplasmic side of the NPC. Nup98 functions as one of several docking site nucleoporins in a cytosolic docking activity-mediated binding of a model transport substrate. The docking site of Nup98 was mapped to its N-terminal half, which contains all of the peptide repeats. A recombinant segment of this region depleted the docking activity of cytosol. We suggest that the peptide repeat domain of Nup98, together with peptide repeat domains of other nucleoporins, forms an array of sites for mediated docking of transport substrate, and that bidirectional transport across the NPC proceeds by repeated docking and undocking reactions.\n",
      "\n",
      "generated_summary\n",
      "\n"
     ]
    },
    {
     "data": {
      "application/vnd.jupyter.widget-view+json": {
       "model_id": "a99a8f8c8d184c9486831f04274ab85e",
       "version_major": 2,
       "version_minor": 0
      },
      "text/plain": [
       "  0%|          | 0/100 [00:00<?, ?it/s]"
      ]
     },
     "metadata": {},
     "output_type": "display_data"
    },
    {
     "name": "stdout",
     "output_type": "stream",
     "text": [
      "The CXC chemokine stromal cell-derived factor activates a Gi-coupled phosphoinositide 3-kinase in T lymphocytes. The cellular effects of stromal cell-derived factor-1 (SDF-1) are mediated primarily by binding to the CXC chemokine receptor-4. We report in this study that SDF-1 and its peptide analogues induce a concentration- and time-dependent accumulation of phosphatidylinositol-(3,4,5)-trisphosphate (PtdIns(3,4,5)P3) in Jurkat cells. This SDF-1-stimulated generation of D-3 phosphoinositide lipids was inhibited by pretreatment of the cells with an SDF-1 peptide antagonist or an anti-CXCR4 Ab. In addition, the phosphoinositide 3 (PI 3)-kinase inhibitors wortmannin and LY294002, as well as the Gi protein inhibitor pertussis toxin, also inhibited the SDF-1-stimulated accumulation of PtdIns(3,4,5)P3. The effects of SDF-1 on D-3 phosphoinositide lipid accumulation correlated well with activation of the known PI 3-kinase effector protein kinase B, which was also inhibited by wortmannin and pertussis toxin. Concentrations of PI 3-kinase inhibitors, sufficient to inhibit PtdIns(3,4,5)P3 accumulation, also inhibited chemotaxis of Jurkat and peripheral blood-derived T lymphocytes in response to SDF-1. In contrast, SDF-1-stimulated actin polymerization was only partially inhibited by PI 3-kinase inhibitors, suggesting that while chemotaxis is fully dependent on PI 3-kinase activation, actin polymerization requires additional biochemical inputs. Finally, SDF-1-stimulated extracellular signal-related kinase (ERK)-1/2 mitogen-activated protein kinase activation was inhibited by PI 3-kinase inhibitors. In addition, the mitogen-activated protein/ERK kinase inhibitor PD098059 partially attenuated chemotaxis in response to SDF-1. Hence, it appears that ERK1/2 activation is dependent on PI 3-kinase activation, and both biochemical events are involved in the regulation of SDF-1-stimulated chemotaxis.\n",
      "\n",
      "generated_summary\n",
      "\n",
      "loss: 0.10429533571004868\n",
      "\n",
      "loss: 0.08068011701107025\n",
      "\n",
      "loss: 0.07797282189130783\n",
      "\n",
      "loss: 0.06360621750354767\n",
      "\n",
      "loss: 0.03948744386434555\n",
      "\n",
      "loss: 0.04830705001950264\n",
      "\n",
      "loss: 0.07196551561355591\n",
      "\n",
      "loss: 0.033970486372709274\n",
      "\n",
      "loss: 0.02517637237906456\n",
      "\n",
      "loss: 0.05829955264925957\n",
      "\n"
     ]
    },
    {
     "data": {
      "application/vnd.jupyter.widget-view+json": {
       "model_id": "460def2617f2448e8cca28dd435efff4",
       "version_major": 2,
       "version_minor": 0
      },
      "text/plain": [
       "Evaluating:   0%|          | 0/770 [00:00<?, ?it/s]"
      ]
     },
     "metadata": {},
     "output_type": "display_data"
    },
    {
     "name": "stdout",
     "output_type": "stream",
     "text": [
      "perplexity: 7.9489874839782715\n",
      "After 231 updates: \n",
      "\n"
     ]
    },
    {
     "data": {
      "application/vnd.jupyter.widget-view+json": {
       "model_id": "fbe30598ef2c433e88275808285556f7",
       "version_major": 2,
       "version_minor": 0
      },
      "text/plain": [
       "  0%|          | 0/100 [00:00<?, ?it/s]"
      ]
     },
     "metadata": {},
     "output_type": "display_data"
    },
    {
     "name": "stdout",
     "output_type": "stream",
     "text": [
      "The peptide repeat domain of nucleoporin Nup98 functions as a docking site in transport across the nuclear pore complex. We report the cDNA deduced primary structure of a wheat germ agglutinin-reactive nuclear pore complex (NPC) protein of rat. The protein, termed Nup98 (for nucleoporin of 98 kDa), contains numerous GLFG and FG repeats and some FXFG repeats and is thus a vertebrate member of a family of GLFG nucleoporins that were previously discovered in yeast. Immunoelectron microscopy showed Nup98 to be asymmetrically located at the nucleoplasmic side of the NPC. Nup98 functions as one of several docking site nucleoporins in a cytosolic docking activity-mediated binding of a model transport substrate. The docking site of Nup98 was mapped to its N-terminal half, which contains all of the peptide repeats. A recombinant segment of this region depleted the docking activity of cytosol. We suggest that the peptide repeat domain of Nup98, together with peptide repeat domains of other nucleoporins, forms an array of sites for mediated docking of transport substrate, and that bidirectional transport across the NPC proceeds by repeated docking and undocking reactions.\n",
      "\n",
      "generated_summary\n",
      "\n"
     ]
    },
    {
     "data": {
      "application/vnd.jupyter.widget-view+json": {
       "model_id": "5164098e7f07469c8a2303f5e578f748",
       "version_major": 2,
       "version_minor": 0
      },
      "text/plain": [
       "  0%|          | 0/100 [00:00<?, ?it/s]"
      ]
     },
     "metadata": {},
     "output_type": "display_data"
    },
    {
     "name": "stdout",
     "output_type": "stream",
     "text": [
      "The CXC chemokine stromal cell-derived factor activates a Gi-coupled phosphoinositide 3-kinase in T lymphocytes. The cellular effects of stromal cell-derived factor-1 (SDF-1) are mediated primarily by binding to the CXC chemokine receptor-4. We report in this study that SDF-1 and its peptide analogues induce a concentration- and time-dependent accumulation of phosphatidylinositol-(3,4,5)-trisphosphate (PtdIns(3,4,5)P3) in Jurkat cells. This SDF-1-stimulated generation of D-3 phosphoinositide lipids was inhibited by pretreatment of the cells with an SDF-1 peptide antagonist or an anti-CXCR4 Ab. In addition, the phosphoinositide 3 (PI 3)-kinase inhibitors wortmannin and LY294002, as well as the Gi protein inhibitor pertussis toxin, also inhibited the SDF-1-stimulated accumulation of PtdIns(3,4,5)P3. The effects of SDF-1 on D-3 phosphoinositide lipid accumulation correlated well with activation of the known PI 3-kinase effector protein kinase B, which was also inhibited by wortmannin and pertussis toxin. Concentrations of PI 3-kinase inhibitors, sufficient to inhibit PtdIns(3,4,5)P3 accumulation, also inhibited chemotaxis of Jurkat and peripheral blood-derived T lymphocytes in response to SDF-1. In contrast, SDF-1-stimulated actin polymerization was only partially inhibited by PI 3-kinase inhibitors, suggesting that while chemotaxis is fully dependent on PI 3-kinase activation, actin polymerization requires additional biochemical inputs. Finally, SDF-1-stimulated extracellular signal-related kinase (ERK)-1/2 mitogen-activated protein kinase activation was inhibited by PI 3-kinase inhibitors. In addition, the mitogen-activated protein/ERK kinase inhibitor PD098059 partially attenuated chemotaxis in response to SDF-1. Hence, it appears that ERK1/2 activation is dependent on PI 3-kinase activation, and both biochemical events are involved in the regulation of SDF-1-stimulated chemotaxis.\n",
      "\n",
      "generated_summary\n",
      "\n",
      "loss: 0.062124185264110565\n",
      "\n",
      "loss: 0.06652212888002396\n",
      "\n",
      "loss: 0.0937485322356224\n",
      "\n",
      "loss: 0.05466632917523384\n",
      "\n",
      "loss: 0.09674247354269028\n",
      "\n",
      "loss: 0.07663113623857498\n",
      "\n",
      "loss: 0.08284343034029007\n",
      "\n",
      "loss: 0.09042749553918839\n",
      "\n",
      "loss: 0.04908471181988716\n",
      "\n",
      "loss: 0.045245762914419174\n",
      "\n"
     ]
    },
    {
     "data": {
      "application/vnd.jupyter.widget-view+json": {
       "model_id": "9633501dff474f549426e9f0b9c877d0",
       "version_major": 2,
       "version_minor": 0
      },
      "text/plain": [
       "Evaluating:   0%|          | 0/770 [00:00<?, ?it/s]"
      ]
     },
     "metadata": {},
     "output_type": "display_data"
    },
    {
     "name": "stdout",
     "output_type": "stream",
     "text": [
      "perplexity: 8.150518417358398\n",
      "After 241 updates: \n",
      "\n"
     ]
    },
    {
     "data": {
      "application/vnd.jupyter.widget-view+json": {
       "model_id": "13df05464bd14018b424aa51b5fe5c40",
       "version_major": 2,
       "version_minor": 0
      },
      "text/plain": [
       "  0%|          | 0/100 [00:00<?, ?it/s]"
      ]
     },
     "metadata": {},
     "output_type": "display_data"
    },
    {
     "name": "stdout",
     "output_type": "stream",
     "text": [
      "The peptide repeat domain of nucleoporin Nup98 functions as a docking site in transport across the nuclear pore complex. We report the cDNA deduced primary structure of a wheat germ agglutinin-reactive nuclear pore complex (NPC) protein of rat. The protein, termed Nup98 (for nucleoporin of 98 kDa), contains numerous GLFG and FG repeats and some FXFG repeats and is thus a vertebrate member of a family of GLFG nucleoporins that were previously discovered in yeast. Immunoelectron microscopy showed Nup98 to be asymmetrically located at the nucleoplasmic side of the NPC. Nup98 functions as one of several docking site nucleoporins in a cytosolic docking activity-mediated binding of a model transport substrate. The docking site of Nup98 was mapped to its N-terminal half, which contains all of the peptide repeats. A recombinant segment of this region depleted the docking activity of cytosol. We suggest that the peptide repeat domain of Nup98, together with peptide repeat domains of other nucleoporins, forms an array of sites for mediated docking of transport substrate, and that bidirectional transport across the NPC proceeds by repeated docking and undocking reactions.\n",
      "\n",
      "generated_summary\n",
      "\n"
     ]
    },
    {
     "data": {
      "application/vnd.jupyter.widget-view+json": {
       "model_id": "f83c1d2a33cf422cbda3301b9ca7f67b",
       "version_major": 2,
       "version_minor": 0
      },
      "text/plain": [
       "  0%|          | 0/100 [00:00<?, ?it/s]"
      ]
     },
     "metadata": {},
     "output_type": "display_data"
    },
    {
     "name": "stdout",
     "output_type": "stream",
     "text": [
      "The CXC chemokine stromal cell-derived factor activates a Gi-coupled phosphoinositide 3-kinase in T lymphocytes. The cellular effects of stromal cell-derived factor-1 (SDF-1) are mediated primarily by binding to the CXC chemokine receptor-4. We report in this study that SDF-1 and its peptide analogues induce a concentration- and time-dependent accumulation of phosphatidylinositol-(3,4,5)-trisphosphate (PtdIns(3,4,5)P3) in Jurkat cells. This SDF-1-stimulated generation of D-3 phosphoinositide lipids was inhibited by pretreatment of the cells with an SDF-1 peptide antagonist or an anti-CXCR4 Ab. In addition, the phosphoinositide 3 (PI 3)-kinase inhibitors wortmannin and LY294002, as well as the Gi protein inhibitor pertussis toxin, also inhibited the SDF-1-stimulated accumulation of PtdIns(3,4,5)P3. The effects of SDF-1 on D-3 phosphoinositide lipid accumulation correlated well with activation of the known PI 3-kinase effector protein kinase B, which was also inhibited by wortmannin and pertussis toxin. Concentrations of PI 3-kinase inhibitors, sufficient to inhibit PtdIns(3,4,5)P3 accumulation, also inhibited chemotaxis of Jurkat and peripheral blood-derived T lymphocytes in response to SDF-1. In contrast, SDF-1-stimulated actin polymerization was only partially inhibited by PI 3-kinase inhibitors, suggesting that while chemotaxis is fully dependent on PI 3-kinase activation, actin polymerization requires additional biochemical inputs. Finally, SDF-1-stimulated extracellular signal-related kinase (ERK)-1/2 mitogen-activated protein kinase activation was inhibited by PI 3-kinase inhibitors. In addition, the mitogen-activated protein/ERK kinase inhibitor PD098059 partially attenuated chemotaxis in response to SDF-1. Hence, it appears that ERK1/2 activation is dependent on PI 3-kinase activation, and both biochemical events are involved in the regulation of SDF-1-stimulated chemotaxis.\n",
      "\n",
      "generated_summary\n",
      "\n",
      "loss: 0.10441555082798004\n",
      "\n",
      "loss: 0.09672665596008301\n",
      "\n",
      "loss: 0.07371383905410767\n",
      "\n",
      "loss: 0.059195395559072495\n",
      "\n",
      "loss: 0.08674324303865433\n",
      "\n",
      "loss: 0.10046213865280151\n",
      "\n",
      "loss: 0.046716220676898956\n",
      "\n",
      "loss: 0.06996352225542068\n",
      "\n",
      "loss: 0.05374482274055481\n",
      "\n",
      "loss: 0.0647994801402092\n",
      "\n"
     ]
    },
    {
     "data": {
      "application/vnd.jupyter.widget-view+json": {
       "model_id": "6e06175099fa4e239db9b25b8a65eb1c",
       "version_major": 2,
       "version_minor": 0
      },
      "text/plain": [
       "Evaluating:   0%|          | 0/770 [00:00<?, ?it/s]"
      ]
     },
     "metadata": {},
     "output_type": "display_data"
    },
    {
     "name": "stdout",
     "output_type": "stream",
     "text": [
      "perplexity: 7.854088306427002\n",
      "After 251 updates: \n",
      "\n"
     ]
    },
    {
     "data": {
      "application/vnd.jupyter.widget-view+json": {
       "model_id": "e11b76ee0c53490aa4c86f1bbff97d72",
       "version_major": 2,
       "version_minor": 0
      },
      "text/plain": [
       "  0%|          | 0/100 [00:00<?, ?it/s]"
      ]
     },
     "metadata": {},
     "output_type": "display_data"
    },
    {
     "name": "stdout",
     "output_type": "stream",
     "text": [
      "The peptide repeat domain of nucleoporin Nup98 functions as a docking site in transport across the nuclear pore complex. We report the cDNA deduced primary structure of a wheat germ agglutinin-reactive nuclear pore complex (NPC) protein of rat. The protein, termed Nup98 (for nucleoporin of 98 kDa), contains numerous GLFG and FG repeats and some FXFG repeats and is thus a vertebrate member of a family of GLFG nucleoporins that were previously discovered in yeast. Immunoelectron microscopy showed Nup98 to be asymmetrically located at the nucleoplasmic side of the NPC. Nup98 functions as one of several docking site nucleoporins in a cytosolic docking activity-mediated binding of a model transport substrate. The docking site of Nup98 was mapped to its N-terminal half, which contains all of the peptide repeats. A recombinant segment of this region depleted the docking activity of cytosol. We suggest that the peptide repeat domain of Nup98, together with peptide repeat domains of other nucleoporins, forms an array of sites for mediated docking of transport substrate, and that bidirectional transport across the NPC proceeds by repeated docking and undocking reactions.\n",
      "\n",
      "generated_summary\n",
      "\n"
     ]
    },
    {
     "data": {
      "application/vnd.jupyter.widget-view+json": {
       "model_id": "2328f70e0dd64e32b686c94c6b7c9ac0",
       "version_major": 2,
       "version_minor": 0
      },
      "text/plain": [
       "  0%|          | 0/100 [00:00<?, ?it/s]"
      ]
     },
     "metadata": {},
     "output_type": "display_data"
    },
    {
     "name": "stdout",
     "output_type": "stream",
     "text": [
      "The CXC chemokine stromal cell-derived factor activates a Gi-coupled phosphoinositide 3-kinase in T lymphocytes. The cellular effects of stromal cell-derived factor-1 (SDF-1) are mediated primarily by binding to the CXC chemokine receptor-4. We report in this study that SDF-1 and its peptide analogues induce a concentration- and time-dependent accumulation of phosphatidylinositol-(3,4,5)-trisphosphate (PtdIns(3,4,5)P3) in Jurkat cells. This SDF-1-stimulated generation of D-3 phosphoinositide lipids was inhibited by pretreatment of the cells with an SDF-1 peptide antagonist or an anti-CXCR4 Ab. In addition, the phosphoinositide 3 (PI 3)-kinase inhibitors wortmannin and LY294002, as well as the Gi protein inhibitor pertussis toxin, also inhibited the SDF-1-stimulated accumulation of PtdIns(3,4,5)P3. The effects of SDF-1 on D-3 phosphoinositide lipid accumulation correlated well with activation of the known PI 3-kinase effector protein kinase B, which was also inhibited by wortmannin and pertussis toxin. Concentrations of PI 3-kinase inhibitors, sufficient to inhibit PtdIns(3,4,5)P3 accumulation, also inhibited chemotaxis of Jurkat and peripheral blood-derived T lymphocytes in response to SDF-1. In contrast, SDF-1-stimulated actin polymerization was only partially inhibited by PI 3-kinase inhibitors, suggesting that while chemotaxis is fully dependent on PI 3-kinase activation, actin polymerization requires additional biochemical inputs. Finally, SDF-1-stimulated extracellular signal-related kinase (ERK)-1/2 mitogen-activated protein kinase activation was inhibited by PI 3-kinase inhibitors. In addition, the mitogen-activated protein/ERK kinase inhibitor PD098059 partially attenuated chemotaxis in response to SDF-1. Hence, it appears that ERK1/2 activation is dependent on PI 3-kinase activation, and both biochemical events are involved in the regulation of SDF-1-stimulated chemotaxis.\n",
      "\n",
      "generated_summary\n",
      "\n",
      "loss: 0.07156176120042801\n",
      "\n",
      "loss: 0.059264928102493286\n",
      "\n",
      "loss: 0.07320103049278259\n",
      "\n",
      "loss: 0.07902222871780396\n",
      "\n",
      "loss: 0.061741724610328674\n",
      "\n",
      "loss: 0.044141735881567\n",
      "\n",
      "loss: 0.1290605664253235\n",
      "\n",
      "loss: 0.019787825644016266\n",
      "\n",
      "loss: 0.056275833398103714\n",
      "\n",
      "loss: 0.056449513882398605\n",
      "\n"
     ]
    },
    {
     "data": {
      "application/vnd.jupyter.widget-view+json": {
       "model_id": "01631243c02b4f88bd65a1492aad785b",
       "version_major": 2,
       "version_minor": 0
      },
      "text/plain": [
       "Evaluating:   0%|          | 0/770 [00:00<?, ?it/s]"
      ]
     },
     "metadata": {},
     "output_type": "display_data"
    },
    {
     "name": "stdout",
     "output_type": "stream",
     "text": [
      "perplexity: 7.611605167388916\n",
      "After 261 updates: \n",
      "\n"
     ]
    },
    {
     "data": {
      "application/vnd.jupyter.widget-view+json": {
       "model_id": "e5c6f9a6808543fc9e928f996dd0f35e",
       "version_major": 2,
       "version_minor": 0
      },
      "text/plain": [
       "  0%|          | 0/100 [00:00<?, ?it/s]"
      ]
     },
     "metadata": {},
     "output_type": "display_data"
    },
    {
     "name": "stdout",
     "output_type": "stream",
     "text": [
      "The peptide repeat domain of nucleoporin Nup98 functions as a docking site in transport across the nuclear pore complex. We report the cDNA deduced primary structure of a wheat germ agglutinin-reactive nuclear pore complex (NPC) protein of rat. The protein, termed Nup98 (for nucleoporin of 98 kDa), contains numerous GLFG and FG repeats and some FXFG repeats and is thus a vertebrate member of a family of GLFG nucleoporins that were previously discovered in yeast. Immunoelectron microscopy showed Nup98 to be asymmetrically located at the nucleoplasmic side of the NPC. Nup98 functions as one of several docking site nucleoporins in a cytosolic docking activity-mediated binding of a model transport substrate. The docking site of Nup98 was mapped to its N-terminal half, which contains all of the peptide repeats. A recombinant segment of this region depleted the docking activity of cytosol. We suggest that the peptide repeat domain of Nup98, together with peptide repeat domains of other nucleoporins, forms an array of sites for mediated docking of transport substrate, and that bidirectional transport across the NPC proceeds by repeated docking and undocking reactions.\n",
      "\n",
      "generated_summary\n",
      "\n"
     ]
    },
    {
     "data": {
      "application/vnd.jupyter.widget-view+json": {
       "model_id": "2d010dd180154a909f39eac51c97d384",
       "version_major": 2,
       "version_minor": 0
      },
      "text/plain": [
       "  0%|          | 0/100 [00:00<?, ?it/s]"
      ]
     },
     "metadata": {},
     "output_type": "display_data"
    },
    {
     "name": "stdout",
     "output_type": "stream",
     "text": [
      "The CXC chemokine stromal cell-derived factor activates a Gi-coupled phosphoinositide 3-kinase in T lymphocytes. The cellular effects of stromal cell-derived factor-1 (SDF-1) are mediated primarily by binding to the CXC chemokine receptor-4. We report in this study that SDF-1 and its peptide analogues induce a concentration- and time-dependent accumulation of phosphatidylinositol-(3,4,5)-trisphosphate (PtdIns(3,4,5)P3) in Jurkat cells. This SDF-1-stimulated generation of D-3 phosphoinositide lipids was inhibited by pretreatment of the cells with an SDF-1 peptide antagonist or an anti-CXCR4 Ab. In addition, the phosphoinositide 3 (PI 3)-kinase inhibitors wortmannin and LY294002, as well as the Gi protein inhibitor pertussis toxin, also inhibited the SDF-1-stimulated accumulation of PtdIns(3,4,5)P3. The effects of SDF-1 on D-3 phosphoinositide lipid accumulation correlated well with activation of the known PI 3-kinase effector protein kinase B, which was also inhibited by wortmannin and pertussis toxin. Concentrations of PI 3-kinase inhibitors, sufficient to inhibit PtdIns(3,4,5)P3 accumulation, also inhibited chemotaxis of Jurkat and peripheral blood-derived T lymphocytes in response to SDF-1. In contrast, SDF-1-stimulated actin polymerization was only partially inhibited by PI 3-kinase inhibitors, suggesting that while chemotaxis is fully dependent on PI 3-kinase activation, actin polymerization requires additional biochemical inputs. Finally, SDF-1-stimulated extracellular signal-related kinase (ERK)-1/2 mitogen-activated protein kinase activation was inhibited by PI 3-kinase inhibitors. In addition, the mitogen-activated protein/ERK kinase inhibitor PD098059 partially attenuated chemotaxis in response to SDF-1. Hence, it appears that ERK1/2 activation is dependent on PI 3-kinase activation, and both biochemical events are involved in the regulation of SDF-1-stimulated chemotaxis.\n",
      "\n",
      "generated_summary\n",
      "\n",
      "loss: 0.0846961960196495\n",
      "\n",
      "loss: 0.07553786039352417\n",
      "\n",
      "loss: 0.12812115252017975\n",
      "\n",
      "loss: 0.059836745262145996\n",
      "\n",
      "loss: 0.015468153171241283\n",
      "\n",
      "loss: 0.06205449253320694\n",
      "\n",
      "loss: 0.09903933852910995\n",
      "\n",
      "loss: 0.08131711930036545\n",
      "\n",
      "loss: 0.07272498309612274\n",
      "\n",
      "loss: 0.045665428042411804\n",
      "\n"
     ]
    },
    {
     "data": {
      "application/vnd.jupyter.widget-view+json": {
       "model_id": "4606fbb291594864bb194a1a8faaf660",
       "version_major": 2,
       "version_minor": 0
      },
      "text/plain": [
       "Evaluating:   0%|          | 0/770 [00:00<?, ?it/s]"
      ]
     },
     "metadata": {},
     "output_type": "display_data"
    },
    {
     "name": "stdout",
     "output_type": "stream",
     "text": [
      "perplexity: 7.6628947257995605\n",
      "After 271 updates: \n",
      "\n"
     ]
    },
    {
     "data": {
      "application/vnd.jupyter.widget-view+json": {
       "model_id": "a74b0f3baded4b7aaef3fa40bb6f3275",
       "version_major": 2,
       "version_minor": 0
      },
      "text/plain": [
       "  0%|          | 0/100 [00:00<?, ?it/s]"
      ]
     },
     "metadata": {},
     "output_type": "display_data"
    },
    {
     "name": "stdout",
     "output_type": "stream",
     "text": [
      "The peptide repeat domain of nucleoporin Nup98 functions as a docking site in transport across the nuclear pore complex. We report the cDNA deduced primary structure of a wheat germ agglutinin-reactive nuclear pore complex (NPC) protein of rat. The protein, termed Nup98 (for nucleoporin of 98 kDa), contains numerous GLFG and FG repeats and some FXFG repeats and is thus a vertebrate member of a family of GLFG nucleoporins that were previously discovered in yeast. Immunoelectron microscopy showed Nup98 to be asymmetrically located at the nucleoplasmic side of the NPC. Nup98 functions as one of several docking site nucleoporins in a cytosolic docking activity-mediated binding of a model transport substrate. The docking site of Nup98 was mapped to its N-terminal half, which contains all of the peptide repeats. A recombinant segment of this region depleted the docking activity of cytosol. We suggest that the peptide repeat domain of Nup98, together with peptide repeat domains of other nucleoporins, forms an array of sites for mediated docking of transport substrate, and that bidirectional transport across the NPC proceeds by repeated docking and undocking reactions.\n",
      "\n",
      "generated_summary\n",
      "\n"
     ]
    },
    {
     "data": {
      "application/vnd.jupyter.widget-view+json": {
       "model_id": "20f71d37787140108ce9dbd7510264d4",
       "version_major": 2,
       "version_minor": 0
      },
      "text/plain": [
       "  0%|          | 0/100 [00:00<?, ?it/s]"
      ]
     },
     "metadata": {},
     "output_type": "display_data"
    },
    {
     "name": "stdout",
     "output_type": "stream",
     "text": [
      "The CXC chemokine stromal cell-derived factor activates a Gi-coupled phosphoinositide 3-kinase in T lymphocytes. The cellular effects of stromal cell-derived factor-1 (SDF-1) are mediated primarily by binding to the CXC chemokine receptor-4. We report in this study that SDF-1 and its peptide analogues induce a concentration- and time-dependent accumulation of phosphatidylinositol-(3,4,5)-trisphosphate (PtdIns(3,4,5)P3) in Jurkat cells. This SDF-1-stimulated generation of D-3 phosphoinositide lipids was inhibited by pretreatment of the cells with an SDF-1 peptide antagonist or an anti-CXCR4 Ab. In addition, the phosphoinositide 3 (PI 3)-kinase inhibitors wortmannin and LY294002, as well as the Gi protein inhibitor pertussis toxin, also inhibited the SDF-1-stimulated accumulation of PtdIns(3,4,5)P3. The effects of SDF-1 on D-3 phosphoinositide lipid accumulation correlated well with activation of the known PI 3-kinase effector protein kinase B, which was also inhibited by wortmannin and pertussis toxin. Concentrations of PI 3-kinase inhibitors, sufficient to inhibit PtdIns(3,4,5)P3 accumulation, also inhibited chemotaxis of Jurkat and peripheral blood-derived T lymphocytes in response to SDF-1. In contrast, SDF-1-stimulated actin polymerization was only partially inhibited by PI 3-kinase inhibitors, suggesting that while chemotaxis is fully dependent on PI 3-kinase activation, actin polymerization requires additional biochemical inputs. Finally, SDF-1-stimulated extracellular signal-related kinase (ERK)-1/2 mitogen-activated protein kinase activation was inhibited by PI 3-kinase inhibitors. In addition, the mitogen-activated protein/ERK kinase inhibitor PD098059 partially attenuated chemotaxis in response to SDF-1. Hence, it appears that ERK1/2 activation is dependent on PI 3-kinase activation, and both biochemical events are involved in the regulation of SDF-1-stimulated chemotaxis.\n",
      "\n",
      "generated_summary\n",
      "\n",
      "loss: 0.051399629563093185\n",
      "\n",
      "loss: 0.06835772097110748\n",
      "\n",
      "loss: 0.06980482488870621\n",
      "\n",
      "loss: 0.08626657724380493\n",
      "\n",
      "loss: 0.060496989637613297\n",
      "\n",
      "loss: 0.09198469668626785\n",
      "\n",
      "loss: 0.06776416301727295\n",
      "\n",
      "loss: 0.11518353968858719\n",
      "\n",
      "loss: 0.12340299040079117\n",
      "\n",
      "loss: 0.07799903303384781\n",
      "\n"
     ]
    },
    {
     "data": {
      "application/vnd.jupyter.widget-view+json": {
       "model_id": "0a0b71a59e064676965a65525d9f7b42",
       "version_major": 2,
       "version_minor": 0
      },
      "text/plain": [
       "Evaluating:   0%|          | 0/770 [00:00<?, ?it/s]"
      ]
     },
     "metadata": {},
     "output_type": "display_data"
    },
    {
     "name": "stdout",
     "output_type": "stream",
     "text": [
      "perplexity: 7.784651756286621\n",
      "After 281 updates: \n",
      "\n"
     ]
    },
    {
     "data": {
      "application/vnd.jupyter.widget-view+json": {
       "model_id": "58612e8400fa43f3b979149d544b7539",
       "version_major": 2,
       "version_minor": 0
      },
      "text/plain": [
       "  0%|          | 0/100 [00:00<?, ?it/s]"
      ]
     },
     "metadata": {},
     "output_type": "display_data"
    },
    {
     "name": "stdout",
     "output_type": "stream",
     "text": [
      "The peptide repeat domain of nucleoporin Nup98 functions as a docking site in transport across the nuclear pore complex. We report the cDNA deduced primary structure of a wheat germ agglutinin-reactive nuclear pore complex (NPC) protein of rat. The protein, termed Nup98 (for nucleoporin of 98 kDa), contains numerous GLFG and FG repeats and some FXFG repeats and is thus a vertebrate member of a family of GLFG nucleoporins that were previously discovered in yeast. Immunoelectron microscopy showed Nup98 to be asymmetrically located at the nucleoplasmic side of the NPC. Nup98 functions as one of several docking site nucleoporins in a cytosolic docking activity-mediated binding of a model transport substrate. The docking site of Nup98 was mapped to its N-terminal half, which contains all of the peptide repeats. A recombinant segment of this region depleted the docking activity of cytosol. We suggest that the peptide repeat domain of Nup98, together with peptide repeat domains of other nucleoporins, forms an array of sites for mediated docking of transport substrate, and that bidirectional transport across the NPC proceeds by repeated docking and undocking reactions.\n",
      "\n",
      "generated_summary\n",
      "\n"
     ]
    },
    {
     "data": {
      "application/vnd.jupyter.widget-view+json": {
       "model_id": "779da2a3ad554debbdf11ceb5740406a",
       "version_major": 2,
       "version_minor": 0
      },
      "text/plain": [
       "  0%|          | 0/100 [00:00<?, ?it/s]"
      ]
     },
     "metadata": {},
     "output_type": "display_data"
    },
    {
     "name": "stdout",
     "output_type": "stream",
     "text": [
      "The CXC chemokine stromal cell-derived factor activates a Gi-coupled phosphoinositide 3-kinase in T lymphocytes. The cellular effects of stromal cell-derived factor-1 (SDF-1) are mediated primarily by binding to the CXC chemokine receptor-4. We report in this study that SDF-1 and its peptide analogues induce a concentration- and time-dependent accumulation of phosphatidylinositol-(3,4,5)-trisphosphate (PtdIns(3,4,5)P3) in Jurkat cells. This SDF-1-stimulated generation of D-3 phosphoinositide lipids was inhibited by pretreatment of the cells with an SDF-1 peptide antagonist or an anti-CXCR4 Ab. In addition, the phosphoinositide 3 (PI 3)-kinase inhibitors wortmannin and LY294002, as well as the Gi protein inhibitor pertussis toxin, also inhibited the SDF-1-stimulated accumulation of PtdIns(3,4,5)P3. The effects of SDF-1 on D-3 phosphoinositide lipid accumulation correlated well with activation of the known PI 3-kinase effector protein kinase B, which was also inhibited by wortmannin and pertussis toxin. Concentrations of PI 3-kinase inhibitors, sufficient to inhibit PtdIns(3,4,5)P3 accumulation, also inhibited chemotaxis of Jurkat and peripheral blood-derived T lymphocytes in response to SDF-1. In contrast, SDF-1-stimulated actin polymerization was only partially inhibited by PI 3-kinase inhibitors, suggesting that while chemotaxis is fully dependent on PI 3-kinase activation, actin polymerization requires additional biochemical inputs. Finally, SDF-1-stimulated extracellular signal-related kinase (ERK)-1/2 mitogen-activated protein kinase activation was inhibited by PI 3-kinase inhibitors. In addition, the mitogen-activated protein/ERK kinase inhibitor PD098059 partially attenuated chemotaxis in response to SDF-1. Hence, it appears that ERK1/2 activation is dependent on PI 3-kinase activation, and both biochemical events are involved in the regulation of SDF-1-stimulated chemotaxis.\n",
      "\n",
      "generated_summary\n",
      "\n",
      "loss: 0.06712760031223297\n",
      "\n",
      "loss: 0.06912641227245331\n",
      "\n",
      "loss: 0.05186239629983902\n",
      "\n",
      "loss: 0.037970706820487976\n",
      "\n",
      "loss: 0.0669102743268013\n",
      "\n",
      "loss: 0.10849408805370331\n",
      "\n",
      "loss: 0.05707380920648575\n",
      "\n",
      "loss: 0.040802277624607086\n",
      "\n",
      "loss: 0.11817943304777145\n",
      "\n",
      "loss: 0.013355123810470104\n",
      "\n"
     ]
    },
    {
     "data": {
      "application/vnd.jupyter.widget-view+json": {
       "model_id": "38e6fac9ed6c4ef8b4de5c4b96f60901",
       "version_major": 2,
       "version_minor": 0
      },
      "text/plain": [
       "Evaluating:   0%|          | 0/770 [00:00<?, ?it/s]"
      ]
     },
     "metadata": {},
     "output_type": "display_data"
    },
    {
     "name": "stdout",
     "output_type": "stream",
     "text": [
      "perplexity: 7.76729679107666\n",
      "After 291 updates: \n",
      "\n"
     ]
    },
    {
     "data": {
      "application/vnd.jupyter.widget-view+json": {
       "model_id": "5a9b9592dc45452aa510f6b8a4e68b03",
       "version_major": 2,
       "version_minor": 0
      },
      "text/plain": [
       "  0%|          | 0/100 [00:00<?, ?it/s]"
      ]
     },
     "metadata": {},
     "output_type": "display_data"
    },
    {
     "name": "stdout",
     "output_type": "stream",
     "text": [
      "The peptide repeat domain of nucleoporin Nup98 functions as a docking site in transport across the nuclear pore complex. We report the cDNA deduced primary structure of a wheat germ agglutinin-reactive nuclear pore complex (NPC) protein of rat. The protein, termed Nup98 (for nucleoporin of 98 kDa), contains numerous GLFG and FG repeats and some FXFG repeats and is thus a vertebrate member of a family of GLFG nucleoporins that were previously discovered in yeast. Immunoelectron microscopy showed Nup98 to be asymmetrically located at the nucleoplasmic side of the NPC. Nup98 functions as one of several docking site nucleoporins in a cytosolic docking activity-mediated binding of a model transport substrate. The docking site of Nup98 was mapped to its N-terminal half, which contains all of the peptide repeats. A recombinant segment of this region depleted the docking activity of cytosol. We suggest that the peptide repeat domain of Nup98, together with peptide repeat domains of other nucleoporins, forms an array of sites for mediated docking of transport substrate, and that bidirectional transport across the NPC proceeds by repeated docking and undocking reactions.\n",
      "\n",
      "generated_summary\n",
      "\n"
     ]
    },
    {
     "data": {
      "application/vnd.jupyter.widget-view+json": {
       "model_id": "1db018a6cf4d468fb874c84808fdc6e2",
       "version_major": 2,
       "version_minor": 0
      },
      "text/plain": [
       "  0%|          | 0/100 [00:00<?, ?it/s]"
      ]
     },
     "metadata": {},
     "output_type": "display_data"
    },
    {
     "name": "stdout",
     "output_type": "stream",
     "text": [
      "The CXC chemokine stromal cell-derived factor activates a Gi-coupled phosphoinositide 3-kinase in T lymphocytes. The cellular effects of stromal cell-derived factor-1 (SDF-1) are mediated primarily by binding to the CXC chemokine receptor-4. We report in this study that SDF-1 and its peptide analogues induce a concentration- and time-dependent accumulation of phosphatidylinositol-(3,4,5)-trisphosphate (PtdIns(3,4,5)P3) in Jurkat cells. This SDF-1-stimulated generation of D-3 phosphoinositide lipids was inhibited by pretreatment of the cells with an SDF-1 peptide antagonist or an anti-CXCR4 Ab. In addition, the phosphoinositide 3 (PI 3)-kinase inhibitors wortmannin and LY294002, as well as the Gi protein inhibitor pertussis toxin, also inhibited the SDF-1-stimulated accumulation of PtdIns(3,4,5)P3. The effects of SDF-1 on D-3 phosphoinositide lipid accumulation correlated well with activation of the known PI 3-kinase effector protein kinase B, which was also inhibited by wortmannin and pertussis toxin. Concentrations of PI 3-kinase inhibitors, sufficient to inhibit PtdIns(3,4,5)P3 accumulation, also inhibited chemotaxis of Jurkat and peripheral blood-derived T lymphocytes in response to SDF-1. In contrast, SDF-1-stimulated actin polymerization was only partially inhibited by PI 3-kinase inhibitors, suggesting that while chemotaxis is fully dependent on PI 3-kinase activation, actin polymerization requires additional biochemical inputs. Finally, SDF-1-stimulated extracellular signal-related kinase (ERK)-1/2 mitogen-activated protein kinase activation was inhibited by PI 3-kinase inhibitors. In addition, the mitogen-activated protein/ERK kinase inhibitor PD098059 partially attenuated chemotaxis in response to SDF-1. Hence, it appears that ERK1/2 activation is dependent on PI 3-kinase activation, and both biochemical events are involved in the regulation of SDF-1-stimulated chemotaxis.\n",
      "\n",
      "generated_summary\n",
      "\n",
      "loss: 0.02577577903866768\n",
      "\n",
      "loss: 0.04205185920000076\n",
      "\n",
      "loss: 0.06301987916231155\n",
      "\n",
      "loss: 0.0489000529050827\n",
      "\n",
      "loss: 0.10171335935592651\n",
      "\n",
      "loss: 0.02838832512497902\n",
      "\n",
      "loss: 0.0497346855700016\n",
      "\n",
      "loss: 0.026287490501999855\n",
      "\n",
      "loss: 0.0769767314195633\n",
      "\n",
      "loss: 0.0923360139131546\n",
      "\n"
     ]
    },
    {
     "data": {
      "application/vnd.jupyter.widget-view+json": {
       "model_id": "9df613c581ab40d09ecb106fce767ef5",
       "version_major": 2,
       "version_minor": 0
      },
      "text/plain": [
       "Evaluating:   0%|          | 0/770 [00:00<?, ?it/s]"
      ]
     },
     "metadata": {},
     "output_type": "display_data"
    },
    {
     "name": "stdout",
     "output_type": "stream",
     "text": [
      "perplexity: 8.04916000366211\n",
      "After 301 updates: \n",
      "\n"
     ]
    },
    {
     "data": {
      "application/vnd.jupyter.widget-view+json": {
       "model_id": "b58e80d2db63423d8053b8231a6fc3f4",
       "version_major": 2,
       "version_minor": 0
      },
      "text/plain": [
       "  0%|          | 0/100 [00:00<?, ?it/s]"
      ]
     },
     "metadata": {},
     "output_type": "display_data"
    },
    {
     "name": "stdout",
     "output_type": "stream",
     "text": [
      "The peptide repeat domain of nucleoporin Nup98 functions as a docking site in transport across the nuclear pore complex. We report the cDNA deduced primary structure of a wheat germ agglutinin-reactive nuclear pore complex (NPC) protein of rat. The protein, termed Nup98 (for nucleoporin of 98 kDa), contains numerous GLFG and FG repeats and some FXFG repeats and is thus a vertebrate member of a family of GLFG nucleoporins that were previously discovered in yeast. Immunoelectron microscopy showed Nup98 to be asymmetrically located at the nucleoplasmic side of the NPC. Nup98 functions as one of several docking site nucleoporins in a cytosolic docking activity-mediated binding of a model transport substrate. The docking site of Nup98 was mapped to its N-terminal half, which contains all of the peptide repeats. A recombinant segment of this region depleted the docking activity of cytosol. We suggest that the peptide repeat domain of Nup98, together with peptide repeat domains of other nucleoporins, forms an array of sites for mediated docking of transport substrate, and that bidirectional transport across the NPC proceeds by repeated docking and undocking reactions.\n",
      "\n",
      "generated_summary\n",
      "\n"
     ]
    },
    {
     "data": {
      "application/vnd.jupyter.widget-view+json": {
       "model_id": "ad0741f5b35740ea9231b2416a4b234d",
       "version_major": 2,
       "version_minor": 0
      },
      "text/plain": [
       "  0%|          | 0/100 [00:00<?, ?it/s]"
      ]
     },
     "metadata": {},
     "output_type": "display_data"
    },
    {
     "name": "stdout",
     "output_type": "stream",
     "text": [
      "The CXC chemokine stromal cell-derived factor activates a Gi-coupled phosphoinositide 3-kinase in T lymphocytes. The cellular effects of stromal cell-derived factor-1 (SDF-1) are mediated primarily by binding to the CXC chemokine receptor-4. We report in this study that SDF-1 and its peptide analogues induce a concentration- and time-dependent accumulation of phosphatidylinositol-(3,4,5)-trisphosphate (PtdIns(3,4,5)P3) in Jurkat cells. This SDF-1-stimulated generation of D-3 phosphoinositide lipids was inhibited by pretreatment of the cells with an SDF-1 peptide antagonist or an anti-CXCR4 Ab. In addition, the phosphoinositide 3 (PI 3)-kinase inhibitors wortmannin and LY294002, as well as the Gi protein inhibitor pertussis toxin, also inhibited the SDF-1-stimulated accumulation of PtdIns(3,4,5)P3. The effects of SDF-1 on D-3 phosphoinositide lipid accumulation correlated well with activation of the known PI 3-kinase effector protein kinase B, which was also inhibited by wortmannin and pertussis toxin. Concentrations of PI 3-kinase inhibitors, sufficient to inhibit PtdIns(3,4,5)P3 accumulation, also inhibited chemotaxis of Jurkat and peripheral blood-derived T lymphocytes in response to SDF-1. In contrast, SDF-1-stimulated actin polymerization was only partially inhibited by PI 3-kinase inhibitors, suggesting that while chemotaxis is fully dependent on PI 3-kinase activation, actin polymerization requires additional biochemical inputs. Finally, SDF-1-stimulated extracellular signal-related kinase (ERK)-1/2 mitogen-activated protein kinase activation was inhibited by PI 3-kinase inhibitors. In addition, the mitogen-activated protein/ERK kinase inhibitor PD098059 partially attenuated chemotaxis in response to SDF-1. Hence, it appears that ERK1/2 activation is dependent on PI 3-kinase activation, and both biochemical events are involved in the regulation of SDF-1-stimulated chemotaxis.\n",
      "\n",
      "generated_summary\n",
      "\n",
      "loss: 0.05007435381412506\n",
      "\n",
      "loss: 0.10376725345849991\n",
      "\n",
      "loss: 0.060770127922296524\n",
      "\n",
      "loss: 0.10021120309829712\n",
      "\n",
      "loss: 0.05339488014578819\n",
      "\n",
      "loss: 0.025793597102165222\n",
      "\n",
      "loss: 0.06041962280869484\n",
      "\n",
      "loss: 0.05953199788928032\n",
      "\n",
      "loss: 0.05922568216919899\n",
      "\n",
      "loss: 0.048661328852176666\n",
      "\n"
     ]
    },
    {
     "data": {
      "application/vnd.jupyter.widget-view+json": {
       "model_id": "94b26be56b774c4bbc58dddb80925531",
       "version_major": 2,
       "version_minor": 0
      },
      "text/plain": [
       "Evaluating:   0%|          | 0/770 [00:00<?, ?it/s]"
      ]
     },
     "metadata": {},
     "output_type": "display_data"
    },
    {
     "name": "stdout",
     "output_type": "stream",
     "text": [
      "perplexity: 7.390017986297607\n",
      "After 311 updates: \n",
      "\n"
     ]
    },
    {
     "data": {
      "application/vnd.jupyter.widget-view+json": {
       "model_id": "954a2b8e18f94b048949e6cbcccc9d77",
       "version_major": 2,
       "version_minor": 0
      },
      "text/plain": [
       "  0%|          | 0/100 [00:00<?, ?it/s]"
      ]
     },
     "metadata": {},
     "output_type": "display_data"
    },
    {
     "name": "stdout",
     "output_type": "stream",
     "text": [
      "The peptide repeat domain of nucleoporin Nup98 functions as a docking site in transport across the nuclear pore complex. We report the cDNA deduced primary structure of a wheat germ agglutinin-reactive nuclear pore complex (NPC) protein of rat. The protein, termed Nup98 (for nucleoporin of 98 kDa), contains numerous GLFG and FG repeats and some FXFG repeats and is thus a vertebrate member of a family of GLFG nucleoporins that were previously discovered in yeast. Immunoelectron microscopy showed Nup98 to be asymmetrically located at the nucleoplasmic side of the NPC. Nup98 functions as one of several docking site nucleoporins in a cytosolic docking activity-mediated binding of a model transport substrate. The docking site of Nup98 was mapped to its N-terminal half, which contains all of the peptide repeats. A recombinant segment of this region depleted the docking activity of cytosol. We suggest that the peptide repeat domain of Nup98, together with peptide repeat domains of other nucleoporins, forms an array of sites for mediated docking of transport substrate, and that bidirectional transport across the NPC proceeds by repeated docking and undocking reactions.\n",
      "\n",
      "generated_summary\n",
      "\n"
     ]
    },
    {
     "data": {
      "application/vnd.jupyter.widget-view+json": {
       "model_id": "c45a50a3c5e644c1b665cfb1427e4c0d",
       "version_major": 2,
       "version_minor": 0
      },
      "text/plain": [
       "  0%|          | 0/100 [00:00<?, ?it/s]"
      ]
     },
     "metadata": {},
     "output_type": "display_data"
    },
    {
     "name": "stdout",
     "output_type": "stream",
     "text": [
      "The CXC chemokine stromal cell-derived factor activates a Gi-coupled phosphoinositide 3-kinase in T lymphocytes. The cellular effects of stromal cell-derived factor-1 (SDF-1) are mediated primarily by binding to the CXC chemokine receptor-4. We report in this study that SDF-1 and its peptide analogues induce a concentration- and time-dependent accumulation of phosphatidylinositol-(3,4,5)-trisphosphate (PtdIns(3,4,5)P3) in Jurkat cells. This SDF-1-stimulated generation of D-3 phosphoinositide lipids was inhibited by pretreatment of the cells with an SDF-1 peptide antagonist or an anti-CXCR4 Ab. In addition, the phosphoinositide 3 (PI 3)-kinase inhibitors wortmannin and LY294002, as well as the Gi protein inhibitor pertussis toxin, also inhibited the SDF-1-stimulated accumulation of PtdIns(3,4,5)P3. The effects of SDF-1 on D-3 phosphoinositide lipid accumulation correlated well with activation of the known PI 3-kinase effector protein kinase B, which was also inhibited by wortmannin and pertussis toxin. Concentrations of PI 3-kinase inhibitors, sufficient to inhibit PtdIns(3,4,5)P3 accumulation, also inhibited chemotaxis of Jurkat and peripheral blood-derived T lymphocytes in response to SDF-1. In contrast, SDF-1-stimulated actin polymerization was only partially inhibited by PI 3-kinase inhibitors, suggesting that while chemotaxis is fully dependent on PI 3-kinase activation, actin polymerization requires additional biochemical inputs. Finally, SDF-1-stimulated extracellular signal-related kinase (ERK)-1/2 mitogen-activated protein kinase activation was inhibited by PI 3-kinase inhibitors. In addition, the mitogen-activated protein/ERK kinase inhibitor PD098059 partially attenuated chemotaxis in response to SDF-1. Hence, it appears that ERK1/2 activation is dependent on PI 3-kinase activation, and both biochemical events are involved in the regulation of SDF-1-stimulated chemotaxis.\n",
      "\n",
      "generated_summary\n",
      "\n",
      "loss: 0.032983772456645966\n",
      "\n",
      "loss: 0.0441884882748127\n",
      "\n",
      "loss: 0.05267198011279106\n",
      "\n",
      "loss: 0.06274501979351044\n",
      "\n",
      "loss: 0.053326502442359924\n",
      "\n",
      "loss: 0.040344323962926865\n",
      "\n",
      "loss: 0.04477207735180855\n",
      "\n",
      "loss: 0.06449789553880692\n",
      "\n",
      "loss: 0.0701533630490303\n",
      "\n",
      "loss: 0.07407070696353912\n",
      "\n"
     ]
    },
    {
     "data": {
      "application/vnd.jupyter.widget-view+json": {
       "model_id": "6c5064317392422094cb91cb9a17a395",
       "version_major": 2,
       "version_minor": 0
      },
      "text/plain": [
       "Evaluating:   0%|          | 0/770 [00:00<?, ?it/s]"
      ]
     },
     "metadata": {},
     "output_type": "display_data"
    },
    {
     "name": "stdout",
     "output_type": "stream",
     "text": [
      "perplexity: 6.962398052215576\n",
      "After 321 updates: \n",
      "\n"
     ]
    },
    {
     "data": {
      "application/vnd.jupyter.widget-view+json": {
       "model_id": "cf38706cec334949bfee3280dc00a9da",
       "version_major": 2,
       "version_minor": 0
      },
      "text/plain": [
       "  0%|          | 0/100 [00:00<?, ?it/s]"
      ]
     },
     "metadata": {},
     "output_type": "display_data"
    },
    {
     "name": "stdout",
     "output_type": "stream",
     "text": [
      "The peptide repeat domain of nucleoporin Nup98 functions as a docking site in transport across the nuclear pore complex. We report the cDNA deduced primary structure of a wheat germ agglutinin-reactive nuclear pore complex (NPC) protein of rat. The protein, termed Nup98 (for nucleoporin of 98 kDa), contains numerous GLFG and FG repeats and some FXFG repeats and is thus a vertebrate member of a family of GLFG nucleoporins that were previously discovered in yeast. Immunoelectron microscopy showed Nup98 to be asymmetrically located at the nucleoplasmic side of the NPC. Nup98 functions as one of several docking site nucleoporins in a cytosolic docking activity-mediated binding of a model transport substrate. The docking site of Nup98 was mapped to its N-terminal half, which contains all of the peptide repeats. A recombinant segment of this region depleted the docking activity of cytosol. We suggest that the peptide repeat domain of Nup98, together with peptide repeat domains of other nucleoporins, forms an array of sites for mediated docking of transport substrate, and that bidirectional transport across the NPC proceeds by repeated docking and undocking reactions.\n",
      "\n",
      "generated_summary\n",
      "\n"
     ]
    },
    {
     "data": {
      "application/vnd.jupyter.widget-view+json": {
       "model_id": "152bd9792de641f19b17201775951ac4",
       "version_major": 2,
       "version_minor": 0
      },
      "text/plain": [
       "  0%|          | 0/100 [00:00<?, ?it/s]"
      ]
     },
     "metadata": {},
     "output_type": "display_data"
    },
    {
     "name": "stdout",
     "output_type": "stream",
     "text": [
      "The CXC chemokine stromal cell-derived factor activates a Gi-coupled phosphoinositide 3-kinase in T lymphocytes. The cellular effects of stromal cell-derived factor-1 (SDF-1) are mediated primarily by binding to the CXC chemokine receptor-4. We report in this study that SDF-1 and its peptide analogues induce a concentration- and time-dependent accumulation of phosphatidylinositol-(3,4,5)-trisphosphate (PtdIns(3,4,5)P3) in Jurkat cells. This SDF-1-stimulated generation of D-3 phosphoinositide lipids was inhibited by pretreatment of the cells with an SDF-1 peptide antagonist or an anti-CXCR4 Ab. In addition, the phosphoinositide 3 (PI 3)-kinase inhibitors wortmannin and LY294002, as well as the Gi protein inhibitor pertussis toxin, also inhibited the SDF-1-stimulated accumulation of PtdIns(3,4,5)P3. The effects of SDF-1 on D-3 phosphoinositide lipid accumulation correlated well with activation of the known PI 3-kinase effector protein kinase B, which was also inhibited by wortmannin and pertussis toxin. Concentrations of PI 3-kinase inhibitors, sufficient to inhibit PtdIns(3,4,5)P3 accumulation, also inhibited chemotaxis of Jurkat and peripheral blood-derived T lymphocytes in response to SDF-1. In contrast, SDF-1-stimulated actin polymerization was only partially inhibited by PI 3-kinase inhibitors, suggesting that while chemotaxis is fully dependent on PI 3-kinase activation, actin polymerization requires additional biochemical inputs. Finally, SDF-1-stimulated extracellular signal-related kinase (ERK)-1/2 mitogen-activated protein kinase activation was inhibited by PI 3-kinase inhibitors. In addition, the mitogen-activated protein/ERK kinase inhibitor PD098059 partially attenuated chemotaxis in response to SDF-1. Hence, it appears that ERK1/2 activation is dependent on PI 3-kinase activation, and both biochemical events are involved in the regulation of SDF-1-stimulated chemotaxis.\n",
      "\n",
      "generated_summary\n",
      "\n",
      "loss: 0.0833577886223793\n",
      "\n",
      "loss: 0.047426894307136536\n",
      "\n",
      "loss: 0.06355004012584686\n",
      "\n",
      "loss: 0.10557229071855545\n",
      "\n",
      "loss: 0.056578490883111954\n",
      "\n",
      "loss: 0.0458650104701519\n",
      "\n",
      "loss: 0.03982960060238838\n",
      "\n",
      "loss: 0.051679424941539764\n",
      "\n",
      "loss: 0.07555416226387024\n",
      "\n",
      "loss: 0.0796511247754097\n",
      "\n"
     ]
    },
    {
     "data": {
      "application/vnd.jupyter.widget-view+json": {
       "model_id": "41b2f200423746a6bfc9cea435e6ce0a",
       "version_major": 2,
       "version_minor": 0
      },
      "text/plain": [
       "Evaluating:   0%|          | 0/770 [00:00<?, ?it/s]"
      ]
     },
     "metadata": {},
     "output_type": "display_data"
    },
    {
     "name": "stdout",
     "output_type": "stream",
     "text": [
      "perplexity: 7.0569024085998535\n",
      "After 331 updates: \n",
      "\n"
     ]
    },
    {
     "data": {
      "application/vnd.jupyter.widget-view+json": {
       "model_id": "827b8c3179554f3abce945f53537f561",
       "version_major": 2,
       "version_minor": 0
      },
      "text/plain": [
       "  0%|          | 0/100 [00:00<?, ?it/s]"
      ]
     },
     "metadata": {},
     "output_type": "display_data"
    },
    {
     "name": "stdout",
     "output_type": "stream",
     "text": [
      "The peptide repeat domain of nucleoporin Nup98 functions as a docking site in transport across the nuclear pore complex. We report the cDNA deduced primary structure of a wheat germ agglutinin-reactive nuclear pore complex (NPC) protein of rat. The protein, termed Nup98 (for nucleoporin of 98 kDa), contains numerous GLFG and FG repeats and some FXFG repeats and is thus a vertebrate member of a family of GLFG nucleoporins that were previously discovered in yeast. Immunoelectron microscopy showed Nup98 to be asymmetrically located at the nucleoplasmic side of the NPC. Nup98 functions as one of several docking site nucleoporins in a cytosolic docking activity-mediated binding of a model transport substrate. The docking site of Nup98 was mapped to its N-terminal half, which contains all of the peptide repeats. A recombinant segment of this region depleted the docking activity of cytosol. We suggest that the peptide repeat domain of Nup98, together with peptide repeat domains of other nucleoporins, forms an array of sites for mediated docking of transport substrate, and that bidirectional transport across the NPC proceeds by repeated docking and undocking reactions.\n",
      "\n",
      "generated_summary\n",
      "\n"
     ]
    },
    {
     "data": {
      "application/vnd.jupyter.widget-view+json": {
       "model_id": "9b9eb8228e9b4134bc10c2c967cb56b5",
       "version_major": 2,
       "version_minor": 0
      },
      "text/plain": [
       "  0%|          | 0/100 [00:00<?, ?it/s]"
      ]
     },
     "metadata": {},
     "output_type": "display_data"
    },
    {
     "name": "stdout",
     "output_type": "stream",
     "text": [
      "The CXC chemokine stromal cell-derived factor activates a Gi-coupled phosphoinositide 3-kinase in T lymphocytes. The cellular effects of stromal cell-derived factor-1 (SDF-1) are mediated primarily by binding to the CXC chemokine receptor-4. We report in this study that SDF-1 and its peptide analogues induce a concentration- and time-dependent accumulation of phosphatidylinositol-(3,4,5)-trisphosphate (PtdIns(3,4,5)P3) in Jurkat cells. This SDF-1-stimulated generation of D-3 phosphoinositide lipids was inhibited by pretreatment of the cells with an SDF-1 peptide antagonist or an anti-CXCR4 Ab. In addition, the phosphoinositide 3 (PI 3)-kinase inhibitors wortmannin and LY294002, as well as the Gi protein inhibitor pertussis toxin, also inhibited the SDF-1-stimulated accumulation of PtdIns(3,4,5)P3. The effects of SDF-1 on D-3 phosphoinositide lipid accumulation correlated well with activation of the known PI 3-kinase effector protein kinase B, which was also inhibited by wortmannin and pertussis toxin. Concentrations of PI 3-kinase inhibitors, sufficient to inhibit PtdIns(3,4,5)P3 accumulation, also inhibited chemotaxis of Jurkat and peripheral blood-derived T lymphocytes in response to SDF-1. In contrast, SDF-1-stimulated actin polymerization was only partially inhibited by PI 3-kinase inhibitors, suggesting that while chemotaxis is fully dependent on PI 3-kinase activation, actin polymerization requires additional biochemical inputs. Finally, SDF-1-stimulated extracellular signal-related kinase (ERK)-1/2 mitogen-activated protein kinase activation was inhibited by PI 3-kinase inhibitors. In addition, the mitogen-activated protein/ERK kinase inhibitor PD098059 partially attenuated chemotaxis in response to SDF-1. Hence, it appears that ERK1/2 activation is dependent on PI 3-kinase activation, and both biochemical events are involved in the regulation of SDF-1-stimulated chemotaxis.\n",
      "\n",
      "generated_summary\n",
      "\n",
      "loss: 0.05418335646390915\n",
      "\n",
      "loss: 0.0546722449362278\n",
      "\n",
      "loss: 0.050552498549222946\n",
      "\n",
      "loss: 0.04758568853139877\n",
      "\n",
      "loss: 0.019314082339406013\n",
      "\n",
      "loss: 0.07625959813594818\n",
      "\n",
      "loss: 0.05941237881779671\n",
      "\n",
      "loss: 0.07975920289754868\n",
      "\n",
      "loss: 0.07496181130409241\n",
      "\n",
      "loss: 0.08030830323696136\n",
      "\n"
     ]
    },
    {
     "data": {
      "application/vnd.jupyter.widget-view+json": {
       "model_id": "90eae771ed0b49209a018e44a7dbb2df",
       "version_major": 2,
       "version_minor": 0
      },
      "text/plain": [
       "Evaluating:   0%|          | 0/770 [00:00<?, ?it/s]"
      ]
     },
     "metadata": {},
     "output_type": "display_data"
    },
    {
     "name": "stdout",
     "output_type": "stream",
     "text": [
      "perplexity: 7.179736614227295\n",
      "After 341 updates: \n",
      "\n"
     ]
    },
    {
     "data": {
      "application/vnd.jupyter.widget-view+json": {
       "model_id": "78de56d635e3400bb2fa3a1352bc61ec",
       "version_major": 2,
       "version_minor": 0
      },
      "text/plain": [
       "  0%|          | 0/100 [00:00<?, ?it/s]"
      ]
     },
     "metadata": {},
     "output_type": "display_data"
    },
    {
     "name": "stdout",
     "output_type": "stream",
     "text": [
      "The peptide repeat domain of nucleoporin Nup98 functions as a docking site in transport across the nuclear pore complex. We report the cDNA deduced primary structure of a wheat germ agglutinin-reactive nuclear pore complex (NPC) protein of rat. The protein, termed Nup98 (for nucleoporin of 98 kDa), contains numerous GLFG and FG repeats and some FXFG repeats and is thus a vertebrate member of a family of GLFG nucleoporins that were previously discovered in yeast. Immunoelectron microscopy showed Nup98 to be asymmetrically located at the nucleoplasmic side of the NPC. Nup98 functions as one of several docking site nucleoporins in a cytosolic docking activity-mediated binding of a model transport substrate. The docking site of Nup98 was mapped to its N-terminal half, which contains all of the peptide repeats. A recombinant segment of this region depleted the docking activity of cytosol. We suggest that the peptide repeat domain of Nup98, together with peptide repeat domains of other nucleoporins, forms an array of sites for mediated docking of transport substrate, and that bidirectional transport across the NPC proceeds by repeated docking and undocking reactions.\n",
      "\n",
      "generated_summary\n",
      "\n"
     ]
    },
    {
     "data": {
      "application/vnd.jupyter.widget-view+json": {
       "model_id": "79a7f4597b284ba8b85bedced171b6cd",
       "version_major": 2,
       "version_minor": 0
      },
      "text/plain": [
       "  0%|          | 0/100 [00:00<?, ?it/s]"
      ]
     },
     "metadata": {},
     "output_type": "display_data"
    },
    {
     "name": "stdout",
     "output_type": "stream",
     "text": [
      "The CXC chemokine stromal cell-derived factor activates a Gi-coupled phosphoinositide 3-kinase in T lymphocytes. The cellular effects of stromal cell-derived factor-1 (SDF-1) are mediated primarily by binding to the CXC chemokine receptor-4. We report in this study that SDF-1 and its peptide analogues induce a concentration- and time-dependent accumulation of phosphatidylinositol-(3,4,5)-trisphosphate (PtdIns(3,4,5)P3) in Jurkat cells. This SDF-1-stimulated generation of D-3 phosphoinositide lipids was inhibited by pretreatment of the cells with an SDF-1 peptide antagonist or an anti-CXCR4 Ab. In addition, the phosphoinositide 3 (PI 3)-kinase inhibitors wortmannin and LY294002, as well as the Gi protein inhibitor pertussis toxin, also inhibited the SDF-1-stimulated accumulation of PtdIns(3,4,5)P3. The effects of SDF-1 on D-3 phosphoinositide lipid accumulation correlated well with activation of the known PI 3-kinase effector protein kinase B, which was also inhibited by wortmannin and pertussis toxin. Concentrations of PI 3-kinase inhibitors, sufficient to inhibit PtdIns(3,4,5)P3 accumulation, also inhibited chemotaxis of Jurkat and peripheral blood-derived T lymphocytes in response to SDF-1. In contrast, SDF-1-stimulated actin polymerization was only partially inhibited by PI 3-kinase inhibitors, suggesting that while chemotaxis is fully dependent on PI 3-kinase activation, actin polymerization requires additional biochemical inputs. Finally, SDF-1-stimulated extracellular signal-related kinase (ERK)-1/2 mitogen-activated protein kinase activation was inhibited by PI 3-kinase inhibitors. In addition, the mitogen-activated protein/ERK kinase inhibitor PD098059 partially attenuated chemotaxis in response to SDF-1. Hence, it appears that ERK1/2 activation is dependent on PI 3-kinase activation, and both biochemical events are involved in the regulation of SDF-1-stimulated chemotaxis.\n",
      "\n",
      "generated_summary\n",
      "\n",
      "loss: 0.03646712750196457\n",
      "\n",
      "loss: 0.07076264917850494\n",
      "\n",
      "loss: 0.066249780356884\n",
      "\n",
      "loss: 0.08421940356492996\n",
      "\n",
      "loss: 0.022063231095671654\n",
      "\n",
      "loss: 0.0666608214378357\n",
      "\n",
      "loss: 0.10898040980100632\n",
      "\n",
      "loss: 0.0885479748249054\n",
      "\n",
      "loss: 0.036853376775979996\n",
      "\n",
      "loss: 0.18039751052856445\n",
      "\n"
     ]
    },
    {
     "data": {
      "application/vnd.jupyter.widget-view+json": {
       "model_id": "ec2048fbacce4026b0f4097f637e21eb",
       "version_major": 2,
       "version_minor": 0
      },
      "text/plain": [
       "Evaluating:   0%|          | 0/770 [00:00<?, ?it/s]"
      ]
     },
     "metadata": {},
     "output_type": "display_data"
    },
    {
     "name": "stdout",
     "output_type": "stream",
     "text": [
      "perplexity: 6.385754108428955\n",
      "After 351 updates: \n",
      "\n"
     ]
    },
    {
     "data": {
      "application/vnd.jupyter.widget-view+json": {
       "model_id": "a954a43806414a9bb22e511bc5770d7c",
       "version_major": 2,
       "version_minor": 0
      },
      "text/plain": [
       "  0%|          | 0/100 [00:00<?, ?it/s]"
      ]
     },
     "metadata": {},
     "output_type": "display_data"
    },
    {
     "name": "stdout",
     "output_type": "stream",
     "text": [
      "The peptide repeat domain of nucleoporin Nup98 functions as a docking site in transport across the nuclear pore complex. We report the cDNA deduced primary structure of a wheat germ agglutinin-reactive nuclear pore complex (NPC) protein of rat. The protein, termed Nup98 (for nucleoporin of 98 kDa), contains numerous GLFG and FG repeats and some FXFG repeats and is thus a vertebrate member of a family of GLFG nucleoporins that were previously discovered in yeast. Immunoelectron microscopy showed Nup98 to be asymmetrically located at the nucleoplasmic side of the NPC. Nup98 functions as one of several docking site nucleoporins in a cytosolic docking activity-mediated binding of a model transport substrate. The docking site of Nup98 was mapped to its N-terminal half, which contains all of the peptide repeats. A recombinant segment of this region depleted the docking activity of cytosol. We suggest that the peptide repeat domain of Nup98, together with peptide repeat domains of other nucleoporins, forms an array of sites for mediated docking of transport substrate, and that bidirectional transport across the NPC proceeds by repeated docking and undocking reactions.\n",
      "\n",
      "generated_summary\n",
      "\n"
     ]
    },
    {
     "data": {
      "application/vnd.jupyter.widget-view+json": {
       "model_id": "fd6ff3e572cc4883b89792f8dd6bfbf8",
       "version_major": 2,
       "version_minor": 0
      },
      "text/plain": [
       "  0%|          | 0/100 [00:00<?, ?it/s]"
      ]
     },
     "metadata": {},
     "output_type": "display_data"
    },
    {
     "name": "stdout",
     "output_type": "stream",
     "text": [
      "The CXC chemokine stromal cell-derived factor activates a Gi-coupled phosphoinositide 3-kinase in T lymphocytes. The cellular effects of stromal cell-derived factor-1 (SDF-1) are mediated primarily by binding to the CXC chemokine receptor-4. We report in this study that SDF-1 and its peptide analogues induce a concentration- and time-dependent accumulation of phosphatidylinositol-(3,4,5)-trisphosphate (PtdIns(3,4,5)P3) in Jurkat cells. This SDF-1-stimulated generation of D-3 phosphoinositide lipids was inhibited by pretreatment of the cells with an SDF-1 peptide antagonist or an anti-CXCR4 Ab. In addition, the phosphoinositide 3 (PI 3)-kinase inhibitors wortmannin and LY294002, as well as the Gi protein inhibitor pertussis toxin, also inhibited the SDF-1-stimulated accumulation of PtdIns(3,4,5)P3. The effects of SDF-1 on D-3 phosphoinositide lipid accumulation correlated well with activation of the known PI 3-kinase effector protein kinase B, which was also inhibited by wortmannin and pertussis toxin. Concentrations of PI 3-kinase inhibitors, sufficient to inhibit PtdIns(3,4,5)P3 accumulation, also inhibited chemotaxis of Jurkat and peripheral blood-derived T lymphocytes in response to SDF-1. In contrast, SDF-1-stimulated actin polymerization was only partially inhibited by PI 3-kinase inhibitors, suggesting that while chemotaxis is fully dependent on PI 3-kinase activation, actin polymerization requires additional biochemical inputs. Finally, SDF-1-stimulated extracellular signal-related kinase (ERK)-1/2 mitogen-activated protein kinase activation was inhibited by PI 3-kinase inhibitors. In addition, the mitogen-activated protein/ERK kinase inhibitor PD098059 partially attenuated chemotaxis in response to SDF-1. Hence, it appears that ERK1/2 activation is dependent on PI 3-kinase activation, and both biochemical events are involved in the regulation of SDF-1-stimulated chemotaxis.\n",
      "\n",
      "generated_summary\n",
      "\n",
      "loss: 0.05616246908903122\n",
      "\n",
      "loss: 0.06447148323059082\n",
      "\n",
      "loss: 0.11572727560997009\n",
      "\n",
      "loss: 0.026194531470537186\n",
      "\n",
      "loss: 0.04664766415953636\n",
      "\n",
      "loss: 0.11187285929918289\n",
      "\n",
      "loss: 0.10875624418258667\n",
      "\n",
      "loss: 0.06571313738822937\n",
      "\n",
      "loss: 0.09318947046995163\n",
      "\n",
      "loss: 0.0702708438038826\n",
      "\n"
     ]
    },
    {
     "data": {
      "application/vnd.jupyter.widget-view+json": {
       "model_id": "15456f0bb8f642ba93eb93eaebe16c90",
       "version_major": 2,
       "version_minor": 0
      },
      "text/plain": [
       "Evaluating:   0%|          | 0/770 [00:00<?, ?it/s]"
      ]
     },
     "metadata": {},
     "output_type": "display_data"
    },
    {
     "name": "stdout",
     "output_type": "stream",
     "text": [
      "perplexity: 6.302957057952881\n",
      "After 361 updates: \n",
      "\n"
     ]
    },
    {
     "data": {
      "application/vnd.jupyter.widget-view+json": {
       "model_id": "e4dcdcbfa7ab4182a4f259976b41dc19",
       "version_major": 2,
       "version_minor": 0
      },
      "text/plain": [
       "  0%|          | 0/100 [00:00<?, ?it/s]"
      ]
     },
     "metadata": {},
     "output_type": "display_data"
    },
    {
     "name": "stdout",
     "output_type": "stream",
     "text": [
      "The peptide repeat domain of nucleoporin Nup98 functions as a docking site in transport across the nuclear pore complex. We report the cDNA deduced primary structure of a wheat germ agglutinin-reactive nuclear pore complex (NPC) protein of rat. The protein, termed Nup98 (for nucleoporin of 98 kDa), contains numerous GLFG and FG repeats and some FXFG repeats and is thus a vertebrate member of a family of GLFG nucleoporins that were previously discovered in yeast. Immunoelectron microscopy showed Nup98 to be asymmetrically located at the nucleoplasmic side of the NPC. Nup98 functions as one of several docking site nucleoporins in a cytosolic docking activity-mediated binding of a model transport substrate. The docking site of Nup98 was mapped to its N-terminal half, which contains all of the peptide repeats. A recombinant segment of this region depleted the docking activity of cytosol. We suggest that the peptide repeat domain of Nup98, together with peptide repeat domains of other nucleoporins, forms an array of sites for mediated docking of transport substrate, and that bidirectional transport across the NPC proceeds by repeated docking and undocking reactions.\n",
      "\n",
      "generated_summary\n",
      "\n"
     ]
    },
    {
     "data": {
      "application/vnd.jupyter.widget-view+json": {
       "model_id": "583a8013f3f8475bae42117ccb190177",
       "version_major": 2,
       "version_minor": 0
      },
      "text/plain": [
       "  0%|          | 0/100 [00:00<?, ?it/s]"
      ]
     },
     "metadata": {},
     "output_type": "display_data"
    },
    {
     "name": "stdout",
     "output_type": "stream",
     "text": [
      "The CXC chemokine stromal cell-derived factor activates a Gi-coupled phosphoinositide 3-kinase in T lymphocytes. The cellular effects of stromal cell-derived factor-1 (SDF-1) are mediated primarily by binding to the CXC chemokine receptor-4. We report in this study that SDF-1 and its peptide analogues induce a concentration- and time-dependent accumulation of phosphatidylinositol-(3,4,5)-trisphosphate (PtdIns(3,4,5)P3) in Jurkat cells. This SDF-1-stimulated generation of D-3 phosphoinositide lipids was inhibited by pretreatment of the cells with an SDF-1 peptide antagonist or an anti-CXCR4 Ab. In addition, the phosphoinositide 3 (PI 3)-kinase inhibitors wortmannin and LY294002, as well as the Gi protein inhibitor pertussis toxin, also inhibited the SDF-1-stimulated accumulation of PtdIns(3,4,5)P3. The effects of SDF-1 on D-3 phosphoinositide lipid accumulation correlated well with activation of the known PI 3-kinase effector protein kinase B, which was also inhibited by wortmannin and pertussis toxin. Concentrations of PI 3-kinase inhibitors, sufficient to inhibit PtdIns(3,4,5)P3 accumulation, also inhibited chemotaxis of Jurkat and peripheral blood-derived T lymphocytes in response to SDF-1. In contrast, SDF-1-stimulated actin polymerization was only partially inhibited by PI 3-kinase inhibitors, suggesting that while chemotaxis is fully dependent on PI 3-kinase activation, actin polymerization requires additional biochemical inputs. Finally, SDF-1-stimulated extracellular signal-related kinase (ERK)-1/2 mitogen-activated protein kinase activation was inhibited by PI 3-kinase inhibitors. In addition, the mitogen-activated protein/ERK kinase inhibitor PD098059 partially attenuated chemotaxis in response to SDF-1. Hence, it appears that ERK1/2 activation is dependent on PI 3-kinase activation, and both biochemical events are involved in the regulation of SDF-1-stimulated chemotaxis.\n",
      "\n",
      "generated_summary\n",
      "\n",
      "loss: 0.04652582108974457\n",
      "\n",
      "loss: 0.09225060790777206\n",
      "\n",
      "loss: 0.08886191248893738\n",
      "\n",
      "loss: 0.06325198709964752\n",
      "\n",
      "loss: 0.026639502495527267\n",
      "\n",
      "loss: 0.06563574075698853\n",
      "\n",
      "loss: 0.09533315896987915\n",
      "\n",
      "loss: 0.05441924184560776\n",
      "\n",
      "loss: 0.09396670013666153\n",
      "\n",
      "loss: 0.07274125516414642\n",
      "\n"
     ]
    },
    {
     "data": {
      "application/vnd.jupyter.widget-view+json": {
       "model_id": "bcc4fb588aba4a929d99b7e8204def68",
       "version_major": 2,
       "version_minor": 0
      },
      "text/plain": [
       "Evaluating:   0%|          | 0/770 [00:00<?, ?it/s]"
      ]
     },
     "metadata": {},
     "output_type": "display_data"
    },
    {
     "name": "stdout",
     "output_type": "stream",
     "text": [
      "perplexity: 6.0893425941467285\n",
      "After 371 updates: \n",
      "\n"
     ]
    },
    {
     "data": {
      "application/vnd.jupyter.widget-view+json": {
       "model_id": "8c66f8fbd8ba44518e12aa2e9de6796e",
       "version_major": 2,
       "version_minor": 0
      },
      "text/plain": [
       "  0%|          | 0/100 [00:00<?, ?it/s]"
      ]
     },
     "metadata": {},
     "output_type": "display_data"
    },
    {
     "name": "stdout",
     "output_type": "stream",
     "text": [
      "The peptide repeat domain of nucleoporin Nup98 functions as a docking site in transport across the nuclear pore complex. We report the cDNA deduced primary structure of a wheat germ agglutinin-reactive nuclear pore complex (NPC) protein of rat. The protein, termed Nup98 (for nucleoporin of 98 kDa), contains numerous GLFG and FG repeats and some FXFG repeats and is thus a vertebrate member of a family of GLFG nucleoporins that were previously discovered in yeast. Immunoelectron microscopy showed Nup98 to be asymmetrically located at the nucleoplasmic side of the NPC. Nup98 functions as one of several docking site nucleoporins in a cytosolic docking activity-mediated binding of a model transport substrate. The docking site of Nup98 was mapped to its N-terminal half, which contains all of the peptide repeats. A recombinant segment of this region depleted the docking activity of cytosol. We suggest that the peptide repeat domain of Nup98, together with peptide repeat domains of other nucleoporins, forms an array of sites for mediated docking of transport substrate, and that bidirectional transport across the NPC proceeds by repeated docking and undocking reactions.\n",
      "\n",
      "generated_summary\n",
      "\n"
     ]
    },
    {
     "data": {
      "application/vnd.jupyter.widget-view+json": {
       "model_id": "9b1ed04dcb6a4342a35ecb6b1c85214c",
       "version_major": 2,
       "version_minor": 0
      },
      "text/plain": [
       "  0%|          | 0/100 [00:00<?, ?it/s]"
      ]
     },
     "metadata": {},
     "output_type": "display_data"
    },
    {
     "name": "stdout",
     "output_type": "stream",
     "text": [
      "The CXC chemokine stromal cell-derived factor activates a Gi-coupled phosphoinositide 3-kinase in T lymphocytes. The cellular effects of stromal cell-derived factor-1 (SDF-1) are mediated primarily by binding to the CXC chemokine receptor-4. We report in this study that SDF-1 and its peptide analogues induce a concentration- and time-dependent accumulation of phosphatidylinositol-(3,4,5)-trisphosphate (PtdIns(3,4,5)P3) in Jurkat cells. This SDF-1-stimulated generation of D-3 phosphoinositide lipids was inhibited by pretreatment of the cells with an SDF-1 peptide antagonist or an anti-CXCR4 Ab. In addition, the phosphoinositide 3 (PI 3)-kinase inhibitors wortmannin and LY294002, as well as the Gi protein inhibitor pertussis toxin, also inhibited the SDF-1-stimulated accumulation of PtdIns(3,4,5)P3. The effects of SDF-1 on D-3 phosphoinositide lipid accumulation correlated well with activation of the known PI 3-kinase effector protein kinase B, which was also inhibited by wortmannin and pertussis toxin. Concentrations of PI 3-kinase inhibitors, sufficient to inhibit PtdIns(3,4,5)P3 accumulation, also inhibited chemotaxis of Jurkat and peripheral blood-derived T lymphocytes in response to SDF-1. In contrast, SDF-1-stimulated actin polymerization was only partially inhibited by PI 3-kinase inhibitors, suggesting that while chemotaxis is fully dependent on PI 3-kinase activation, actin polymerization requires additional biochemical inputs. Finally, SDF-1-stimulated extracellular signal-related kinase (ERK)-1/2 mitogen-activated protein kinase activation was inhibited by PI 3-kinase inhibitors. In addition, the mitogen-activated protein/ERK kinase inhibitor PD098059 partially attenuated chemotaxis in response to SDF-1. Hence, it appears that ERK1/2 activation is dependent on PI 3-kinase activation, and both biochemical events are involved in the regulation of SDF-1-stimulated chemotaxis.\n",
      "\n",
      "generated_summary\n",
      "\n",
      "loss: 0.019959114491939545\n",
      "\n",
      "loss: 0.09784218668937683\n",
      "\n",
      "loss: 0.06425680220127106\n",
      "\n",
      "loss: 0.05049252137541771\n",
      "\n",
      "loss: 0.06042659655213356\n",
      "\n",
      "loss: 0.03627557307481766\n",
      "\n",
      "loss: 0.0812455341219902\n",
      "\n",
      "loss: 0.048866622149944305\n",
      "\n",
      "loss: 0.0485043041408062\n",
      "\n",
      "loss: 0.07807880640029907\n",
      "\n"
     ]
    },
    {
     "data": {
      "application/vnd.jupyter.widget-view+json": {
       "model_id": "542a4d7295b346348434e436ee7aaa1f",
       "version_major": 2,
       "version_minor": 0
      },
      "text/plain": [
       "Evaluating:   0%|          | 0/770 [00:00<?, ?it/s]"
      ]
     },
     "metadata": {},
     "output_type": "display_data"
    },
    {
     "name": "stdout",
     "output_type": "stream",
     "text": [
      "perplexity: 6.108158588409424\n",
      "After 381 updates: \n",
      "\n"
     ]
    },
    {
     "data": {
      "application/vnd.jupyter.widget-view+json": {
       "model_id": "bb05ef277f1447a29457e96260bac193",
       "version_major": 2,
       "version_minor": 0
      },
      "text/plain": [
       "  0%|          | 0/100 [00:00<?, ?it/s]"
      ]
     },
     "metadata": {},
     "output_type": "display_data"
    },
    {
     "name": "stdout",
     "output_type": "stream",
     "text": [
      "The peptide repeat domain of nucleoporin Nup98 functions as a docking site in transport across the nuclear pore complex. We report the cDNA deduced primary structure of a wheat germ agglutinin-reactive nuclear pore complex (NPC) protein of rat. The protein, termed Nup98 (for nucleoporin of 98 kDa), contains numerous GLFG and FG repeats and some FXFG repeats and is thus a vertebrate member of a family of GLFG nucleoporins that were previously discovered in yeast. Immunoelectron microscopy showed Nup98 to be asymmetrically located at the nucleoplasmic side of the NPC. Nup98 functions as one of several docking site nucleoporins in a cytosolic docking activity-mediated binding of a model transport substrate. The docking site of Nup98 was mapped to its N-terminal half, which contains all of the peptide repeats. A recombinant segment of this region depleted the docking activity of cytosol. We suggest that the peptide repeat domain of Nup98, together with peptide repeat domains of other nucleoporins, forms an array of sites for mediated docking of transport substrate, and that bidirectional transport across the NPC proceeds by repeated docking and undocking reactions.\n",
      "\n",
      "generated_summary\n",
      "\n"
     ]
    },
    {
     "data": {
      "application/vnd.jupyter.widget-view+json": {
       "model_id": "1f58209b8e1346d989562a4da1953752",
       "version_major": 2,
       "version_minor": 0
      },
      "text/plain": [
       "  0%|          | 0/100 [00:00<?, ?it/s]"
      ]
     },
     "metadata": {},
     "output_type": "display_data"
    },
    {
     "name": "stdout",
     "output_type": "stream",
     "text": [
      "The CXC chemokine stromal cell-derived factor activates a Gi-coupled phosphoinositide 3-kinase in T lymphocytes. The cellular effects of stromal cell-derived factor-1 (SDF-1) are mediated primarily by binding to the CXC chemokine receptor-4. We report in this study that SDF-1 and its peptide analogues induce a concentration- and time-dependent accumulation of phosphatidylinositol-(3,4,5)-trisphosphate (PtdIns(3,4,5)P3) in Jurkat cells. This SDF-1-stimulated generation of D-3 phosphoinositide lipids was inhibited by pretreatment of the cells with an SDF-1 peptide antagonist or an anti-CXCR4 Ab. In addition, the phosphoinositide 3 (PI 3)-kinase inhibitors wortmannin and LY294002, as well as the Gi protein inhibitor pertussis toxin, also inhibited the SDF-1-stimulated accumulation of PtdIns(3,4,5)P3. The effects of SDF-1 on D-3 phosphoinositide lipid accumulation correlated well with activation of the known PI 3-kinase effector protein kinase B, which was also inhibited by wortmannin and pertussis toxin. Concentrations of PI 3-kinase inhibitors, sufficient to inhibit PtdIns(3,4,5)P3 accumulation, also inhibited chemotaxis of Jurkat and peripheral blood-derived T lymphocytes in response to SDF-1. In contrast, SDF-1-stimulated actin polymerization was only partially inhibited by PI 3-kinase inhibitors, suggesting that while chemotaxis is fully dependent on PI 3-kinase activation, actin polymerization requires additional biochemical inputs. Finally, SDF-1-stimulated extracellular signal-related kinase (ERK)-1/2 mitogen-activated protein kinase activation was inhibited by PI 3-kinase inhibitors. In addition, the mitogen-activated protein/ERK kinase inhibitor PD098059 partially attenuated chemotaxis in response to SDF-1. Hence, it appears that ERK1/2 activation is dependent on PI 3-kinase activation, and both biochemical events are involved in the regulation of SDF-1-stimulated chemotaxis.\n",
      "\n",
      "generated_summary\n",
      "\n"
     ]
    },
    {
     "data": {
      "application/vnd.jupyter.widget-view+json": {
       "model_id": "d995d072ed8e4a6e97bebbb317d5a985",
       "version_major": 2,
       "version_minor": 0
      },
      "text/plain": [
       "Training:   0%|          | 0/6100 [00:00<?, ?it/s]"
      ]
     },
     "metadata": {},
     "output_type": "display_data"
    },
    {
     "name": "stdout",
     "output_type": "stream",
     "text": [
      "loss: 0.042024001479148865\n",
      "\n",
      "After 1st update: \n",
      "\n"
     ]
    },
    {
     "data": {
      "application/vnd.jupyter.widget-view+json": {
       "model_id": "ad92180915144e9e8e9969eebf5ce7d3",
       "version_major": 2,
       "version_minor": 0
      },
      "text/plain": [
       "  0%|          | 0/100 [00:00<?, ?it/s]"
      ]
     },
     "metadata": {},
     "output_type": "display_data"
    },
    {
     "name": "stdout",
     "output_type": "stream",
     "text": [
      "new_article\n",
      "\n",
      "The peptide repeat domain of nucleoporin Nup98 functions as a docking site in transport across the nuclear pore complex. We report the cDNA deduced primary structure of a wheat germ agglutinin-reactive nuclear pore complex (NPC) protein of rat. The protein, termed Nup98 (for nucleoporin of 98 kDa), contains numerous GLFG and FG repeats and some FXFG repeats and is thus a vertebrate member of a family of GLFG nucleoporins that were previously discovered in yeast. Immunoelectron microscopy showed Nup98 to be asymmetrically located at the nucleoplasmic side of the NPC. Nup98 functions as one of several docking site nucleoporins in a cytosolic docking activity-mediated binding of a model transport substrate. The docking site of Nup98 was mapped to its N-terminal half, which contains all of the peptide repeats. A recombinant segment of this region depleted the docking activity of cytosol. We suggest that the peptide repeat domain of Nup98, together with peptide repeat domains of other nucleoporins, forms an array of sites for mediated docking of transport substrate, and that bidirectional transport across the NPC proceeds by repeated docking and undocking reactions.\n",
      "\n",
      "generated_summary\n",
      "\n",
      " The NUP98 involved_in protein transport. The NUP98 involved_in protein transport. The NUP98 involved_in protein transport.NUP98 involved_in protein transport.NUP98 involved_in protein transport.NUP98 involved_in protein transport.NUP98 involved_in protein transport.NUP98 involved_in protein transport.NUP98 involved_in protein transport.NUP98 involved_in protein transport.NUP98 involved_in protein\n",
      "\n",
      "actual_summary\n",
      "\n",
      "NUP98 enables transporter activity. <|pad|> <|pad|> <|pad|> <|pad|> <|pad|> <|pad|> <|pad|> <|pad|> <|pad|> <|pad|> <|pad|> <|pad|> <|pad|> <|pad|> <|pad|> <|pad|> <|pad|> <|pad|> <|pad|> <|pad|> <|pad|> <|pad|> <|pad|> <|pad|> <|pad|> <|pad|> <|pad|> <|pad|> <|pad|> <|pad|> <|pad|> <|pad|> <|pad|> <|pad|> <|pad|> <|pad|> <|pad|> <|pad|> <|pad|> <|pad|> <|pad|> <|pad|> <|pad|> <|pad|> <|pad|> <|pad|> <|pad|> <|pad|> <|pad|> <|pad|> <|pad|> <|pad|> <|pad|> <|pad|> <|pad|> <|pad|> <|pad|> <|pad|> <|pad|> <|pad|> <|pad|> <|pad|> <|pad|> <|pad|> <|pad|> <|pad|> <|pad|> <|pad|> <|pad|> <|pad|> <|pad|> <|pad|> <|pad|> <|pad|> <|pad|> <|pad|> <|pad|> <|pad|> <|pad|> <|pad|> <|pad|> <|pad|> <|pad|> <|pad|> <|pad|> <|pad|> <|pad|> <|pad|> <|pad|> <|pad|> <|pad|> <|pad|> <|pad|>\n",
      "\n"
     ]
    },
    {
     "data": {
      "application/vnd.jupyter.widget-view+json": {
       "model_id": "460a61f7b1db4a97b3ab63f9866a61d2",
       "version_major": 2,
       "version_minor": 0
      },
      "text/plain": [
       "  0%|          | 0/100 [00:00<?, ?it/s]"
      ]
     },
     "metadata": {},
     "output_type": "display_data"
    },
    {
     "name": "stdout",
     "output_type": "stream",
     "text": [
      "new_article\n",
      "\n",
      "The CXC chemokine stromal cell-derived factor activates a Gi-coupled phosphoinositide 3-kinase in T lymphocytes. The cellular effects of stromal cell-derived factor-1 (SDF-1) are mediated primarily by binding to the CXC chemokine receptor-4. We report in this study that SDF-1 and its peptide analogues induce a concentration- and time-dependent accumulation of phosphatidylinositol-(3,4,5)-trisphosphate (PtdIns(3,4,5)P3) in Jurkat cells. This SDF-1-stimulated generation of D-3 phosphoinositide lipids was inhibited by pretreatment of the cells with an SDF-1 peptide antagonist or an anti-CXCR4 Ab. In addition, the phosphoinositide 3 (PI 3)-kinase inhibitors wortmannin and LY294002, as well as the Gi protein inhibitor pertussis toxin, also inhibited the SDF-1-stimulated accumulation of PtdIns(3,4,5)P3. The effects of SDF-1 on D-3 phosphoinositide lipid accumulation correlated well with activation of the known PI 3-kinase effector protein kinase B, which was also inhibited by wortmannin and pertussis toxin. Concentrations of PI 3-kinase inhibitors, sufficient to inhibit PtdIns(3,4,5)P3 accumulation, also inhibited chemotaxis of Jurkat and peripheral blood-derived T lymphocytes in response to SDF-1. In contrast, SDF-1-stimulated actin polymerization was only partially inhibited by PI 3-kinase inhibitors, suggesting that while chemotaxis is fully dependent on PI 3-kinase activation, actin polymerization requires additional biochemical inputs. Finally, SDF-1-stimulated extracellular signal-related kinase (ERK)-1/2 mitogen-activated protein kinase activation was inhibited by PI 3-kinase inhibitors. In addition, the mitogen-activated protein/ERK kinase inhibitor PD098059 partially attenuated chemotaxis in response to SDF-1. Hence, it appears that ERK1/2 activation is dependent on PI 3-kinase activation, and both biochemical events are involved in the regulation of SDF-1-stimulated chemotaxis.\n",
      "\n",
      "generated_summary\n",
      "\n",
      " In addition, involved_in response to SDF1.SDF1 enables actin binding. This enables actin binding. This enables actin binding. The actin binding involved_in response to SDF1.SDF1 involved_in chemotaxis. This involved_in actin binding.SDF1 involved_in actin response to actin.SDF1 involved_in actin response to actin.SDF1 involved_in actin response to act\n",
      "\n",
      "actual_summary\n",
      "\n",
      "AKT1 enables protein kinase activity; involved_in G protein-coupled receptor signaling pathway. <|pad|> <|pad|> <|pad|> <|pad|> <|pad|> <|pad|> <|pad|> <|pad|> <|pad|> <|pad|> <|pad|> <|pad|> <|pad|> <|pad|> <|pad|> <|pad|> <|pad|> <|pad|> <|pad|> <|pad|> <|pad|> <|pad|> <|pad|> <|pad|> <|pad|> <|pad|> <|pad|> <|pad|> <|pad|> <|pad|> <|pad|> <|pad|> <|pad|> <|pad|> <|pad|> <|pad|> <|pad|> <|pad|> <|pad|> <|pad|> <|pad|> <|pad|> <|pad|> <|pad|> <|pad|> <|pad|> <|pad|> <|pad|> <|pad|> <|pad|> <|pad|> <|pad|> <|pad|> <|pad|> <|pad|> <|pad|> <|pad|> <|pad|> <|pad|> <|pad|> <|pad|> <|pad|> <|pad|> <|pad|> <|pad|> <|pad|> <|pad|> <|pad|> <|pad|> <|pad|> <|pad|> <|pad|> <|pad|> <|pad|> <|pad|> <|pad|> <|pad|> <|pad|>\n",
      "\n",
      "loss: 0.05252779647707939\n",
      "\n",
      "loss: 0.1033230572938919\n",
      "\n",
      "loss: 0.027717236429452896\n",
      "\n",
      "loss: 0.049727294594049454\n",
      "\n",
      "loss: 0.059005193412303925\n",
      "\n",
      "loss: 0.04451093450188637\n",
      "\n",
      "loss: 0.024609921500086784\n",
      "\n",
      "loss: 0.08032818138599396\n",
      "\n",
      "loss: 0.07870355993509293\n",
      "\n"
     ]
    },
    {
     "data": {
      "application/vnd.jupyter.widget-view+json": {
       "model_id": "d63b9f95cc5d4125805df6a7794f75d6",
       "version_major": 2,
       "version_minor": 0
      },
      "text/plain": [
       "Evaluating:   0%|          | 0/770 [00:00<?, ?it/s]"
      ]
     },
     "metadata": {},
     "output_type": "display_data"
    },
    {
     "name": "stdout",
     "output_type": "stream",
     "text": [
      "perplexity: 6.112054347991943\n",
      "After 391 updates: \n",
      "\n"
     ]
    },
    {
     "data": {
      "application/vnd.jupyter.widget-view+json": {
       "model_id": "1144e956e3ee4b76b144019ce548d072",
       "version_major": 2,
       "version_minor": 0
      },
      "text/plain": [
       "  0%|          | 0/100 [00:00<?, ?it/s]"
      ]
     },
     "metadata": {},
     "output_type": "display_data"
    },
    {
     "name": "stdout",
     "output_type": "stream",
     "text": [
      "The peptide repeat domain of nucleoporin Nup98 functions as a docking site in transport across the nuclear pore complex. We report the cDNA deduced primary structure of a wheat germ agglutinin-reactive nuclear pore complex (NPC) protein of rat. The protein, termed Nup98 (for nucleoporin of 98 kDa), contains numerous GLFG and FG repeats and some FXFG repeats and is thus a vertebrate member of a family of GLFG nucleoporins that were previously discovered in yeast. Immunoelectron microscopy showed Nup98 to be asymmetrically located at the nucleoplasmic side of the NPC. Nup98 functions as one of several docking site nucleoporins in a cytosolic docking activity-mediated binding of a model transport substrate. The docking site of Nup98 was mapped to its N-terminal half, which contains all of the peptide repeats. A recombinant segment of this region depleted the docking activity of cytosol. We suggest that the peptide repeat domain of Nup98, together with peptide repeat domains of other nucleoporins, forms an array of sites for mediated docking of transport substrate, and that bidirectional transport across the NPC proceeds by repeated docking and undocking reactions.\n",
      "\n",
      "generated_summary\n",
      "\n"
     ]
    },
    {
     "data": {
      "application/vnd.jupyter.widget-view+json": {
       "model_id": "9091b25743194bd5861fc4d67f74f175",
       "version_major": 2,
       "version_minor": 0
      },
      "text/plain": [
       "  0%|          | 0/100 [00:00<?, ?it/s]"
      ]
     },
     "metadata": {},
     "output_type": "display_data"
    },
    {
     "name": "stdout",
     "output_type": "stream",
     "text": [
      "The CXC chemokine stromal cell-derived factor activates a Gi-coupled phosphoinositide 3-kinase in T lymphocytes. The cellular effects of stromal cell-derived factor-1 (SDF-1) are mediated primarily by binding to the CXC chemokine receptor-4. We report in this study that SDF-1 and its peptide analogues induce a concentration- and time-dependent accumulation of phosphatidylinositol-(3,4,5)-trisphosphate (PtdIns(3,4,5)P3) in Jurkat cells. This SDF-1-stimulated generation of D-3 phosphoinositide lipids was inhibited by pretreatment of the cells with an SDF-1 peptide antagonist or an anti-CXCR4 Ab. In addition, the phosphoinositide 3 (PI 3)-kinase inhibitors wortmannin and LY294002, as well as the Gi protein inhibitor pertussis toxin, also inhibited the SDF-1-stimulated accumulation of PtdIns(3,4,5)P3. The effects of SDF-1 on D-3 phosphoinositide lipid accumulation correlated well with activation of the known PI 3-kinase effector protein kinase B, which was also inhibited by wortmannin and pertussis toxin. Concentrations of PI 3-kinase inhibitors, sufficient to inhibit PtdIns(3,4,5)P3 accumulation, also inhibited chemotaxis of Jurkat and peripheral blood-derived T lymphocytes in response to SDF-1. In contrast, SDF-1-stimulated actin polymerization was only partially inhibited by PI 3-kinase inhibitors, suggesting that while chemotaxis is fully dependent on PI 3-kinase activation, actin polymerization requires additional biochemical inputs. Finally, SDF-1-stimulated extracellular signal-related kinase (ERK)-1/2 mitogen-activated protein kinase activation was inhibited by PI 3-kinase inhibitors. In addition, the mitogen-activated protein/ERK kinase inhibitor PD098059 partially attenuated chemotaxis in response to SDF-1. Hence, it appears that ERK1/2 activation is dependent on PI 3-kinase activation, and both biochemical events are involved in the regulation of SDF-1-stimulated chemotaxis.\n",
      "\n",
      "generated_summary\n",
      "\n",
      "loss: 0.09445427358150482\n",
      "\n",
      "loss: 0.07504307478666306\n",
      "\n",
      "loss: 0.05841533839702606\n",
      "\n",
      "loss: 0.08614858984947205\n",
      "\n",
      "loss: 0.05569525063037872\n",
      "\n",
      "loss: 0.05833509936928749\n",
      "\n",
      "loss: 0.0559781976044178\n",
      "\n",
      "loss: 0.07507013529539108\n",
      "\n",
      "loss: 0.027196604758501053\n",
      "\n",
      "loss: 0.04723898321390152\n",
      "\n"
     ]
    },
    {
     "data": {
      "application/vnd.jupyter.widget-view+json": {
       "model_id": "6bdd0a64d3a14f2b8ca3281d9fab7e4d",
       "version_major": 2,
       "version_minor": 0
      },
      "text/plain": [
       "Evaluating:   0%|          | 0/770 [00:00<?, ?it/s]"
      ]
     },
     "metadata": {},
     "output_type": "display_data"
    },
    {
     "name": "stdout",
     "output_type": "stream",
     "text": [
      "perplexity: 6.166232109069824\n",
      "After 401 updates: \n",
      "\n"
     ]
    },
    {
     "data": {
      "application/vnd.jupyter.widget-view+json": {
       "model_id": "087d72abd76e4c02999c9f3925cacddb",
       "version_major": 2,
       "version_minor": 0
      },
      "text/plain": [
       "  0%|          | 0/100 [00:00<?, ?it/s]"
      ]
     },
     "metadata": {},
     "output_type": "display_data"
    },
    {
     "name": "stdout",
     "output_type": "stream",
     "text": [
      "The peptide repeat domain of nucleoporin Nup98 functions as a docking site in transport across the nuclear pore complex. We report the cDNA deduced primary structure of a wheat germ agglutinin-reactive nuclear pore complex (NPC) protein of rat. The protein, termed Nup98 (for nucleoporin of 98 kDa), contains numerous GLFG and FG repeats and some FXFG repeats and is thus a vertebrate member of a family of GLFG nucleoporins that were previously discovered in yeast. Immunoelectron microscopy showed Nup98 to be asymmetrically located at the nucleoplasmic side of the NPC. Nup98 functions as one of several docking site nucleoporins in a cytosolic docking activity-mediated binding of a model transport substrate. The docking site of Nup98 was mapped to its N-terminal half, which contains all of the peptide repeats. A recombinant segment of this region depleted the docking activity of cytosol. We suggest that the peptide repeat domain of Nup98, together with peptide repeat domains of other nucleoporins, forms an array of sites for mediated docking of transport substrate, and that bidirectional transport across the NPC proceeds by repeated docking and undocking reactions.\n",
      "\n",
      "generated_summary\n",
      "\n"
     ]
    },
    {
     "data": {
      "application/vnd.jupyter.widget-view+json": {
       "model_id": "51d75ba8c3394fb2bef8aa261a62f42d",
       "version_major": 2,
       "version_minor": 0
      },
      "text/plain": [
       "  0%|          | 0/100 [00:00<?, ?it/s]"
      ]
     },
     "metadata": {},
     "output_type": "display_data"
    },
    {
     "name": "stdout",
     "output_type": "stream",
     "text": [
      "The CXC chemokine stromal cell-derived factor activates a Gi-coupled phosphoinositide 3-kinase in T lymphocytes. The cellular effects of stromal cell-derived factor-1 (SDF-1) are mediated primarily by binding to the CXC chemokine receptor-4. We report in this study that SDF-1 and its peptide analogues induce a concentration- and time-dependent accumulation of phosphatidylinositol-(3,4,5)-trisphosphate (PtdIns(3,4,5)P3) in Jurkat cells. This SDF-1-stimulated generation of D-3 phosphoinositide lipids was inhibited by pretreatment of the cells with an SDF-1 peptide antagonist or an anti-CXCR4 Ab. In addition, the phosphoinositide 3 (PI 3)-kinase inhibitors wortmannin and LY294002, as well as the Gi protein inhibitor pertussis toxin, also inhibited the SDF-1-stimulated accumulation of PtdIns(3,4,5)P3. The effects of SDF-1 on D-3 phosphoinositide lipid accumulation correlated well with activation of the known PI 3-kinase effector protein kinase B, which was also inhibited by wortmannin and pertussis toxin. Concentrations of PI 3-kinase inhibitors, sufficient to inhibit PtdIns(3,4,5)P3 accumulation, also inhibited chemotaxis of Jurkat and peripheral blood-derived T lymphocytes in response to SDF-1. In contrast, SDF-1-stimulated actin polymerization was only partially inhibited by PI 3-kinase inhibitors, suggesting that while chemotaxis is fully dependent on PI 3-kinase activation, actin polymerization requires additional biochemical inputs. Finally, SDF-1-stimulated extracellular signal-related kinase (ERK)-1/2 mitogen-activated protein kinase activation was inhibited by PI 3-kinase inhibitors. In addition, the mitogen-activated protein/ERK kinase inhibitor PD098059 partially attenuated chemotaxis in response to SDF-1. Hence, it appears that ERK1/2 activation is dependent on PI 3-kinase activation, and both biochemical events are involved in the regulation of SDF-1-stimulated chemotaxis.\n",
      "\n",
      "generated_summary\n",
      "\n",
      "loss: 0.04405847191810608\n",
      "\n",
      "loss: 0.07382740080356598\n",
      "\n",
      "loss: 0.05950320512056351\n",
      "\n",
      "loss: 0.07217852771282196\n",
      "\n",
      "loss: 0.10583847761154175\n",
      "\n",
      "loss: 0.10049180686473846\n",
      "\n",
      "loss: 0.03360350802540779\n",
      "\n",
      "loss: 0.06200109049677849\n",
      "\n",
      "loss: 0.052190300077199936\n",
      "\n",
      "loss: 0.04826144129037857\n",
      "\n"
     ]
    },
    {
     "data": {
      "application/vnd.jupyter.widget-view+json": {
       "model_id": "f2c567af41cf4f4c94894f288b0c1aa7",
       "version_major": 2,
       "version_minor": 0
      },
      "text/plain": [
       "Evaluating:   0%|          | 0/770 [00:00<?, ?it/s]"
      ]
     },
     "metadata": {},
     "output_type": "display_data"
    },
    {
     "name": "stdout",
     "output_type": "stream",
     "text": [
      "perplexity: 6.106551170349121\n",
      "After 411 updates: \n",
      "\n"
     ]
    },
    {
     "data": {
      "application/vnd.jupyter.widget-view+json": {
       "model_id": "461090bb7ca74d09a6927bc939278122",
       "version_major": 2,
       "version_minor": 0
      },
      "text/plain": [
       "  0%|          | 0/100 [00:00<?, ?it/s]"
      ]
     },
     "metadata": {},
     "output_type": "display_data"
    },
    {
     "name": "stdout",
     "output_type": "stream",
     "text": [
      "The peptide repeat domain of nucleoporin Nup98 functions as a docking site in transport across the nuclear pore complex. We report the cDNA deduced primary structure of a wheat germ agglutinin-reactive nuclear pore complex (NPC) protein of rat. The protein, termed Nup98 (for nucleoporin of 98 kDa), contains numerous GLFG and FG repeats and some FXFG repeats and is thus a vertebrate member of a family of GLFG nucleoporins that were previously discovered in yeast. Immunoelectron microscopy showed Nup98 to be asymmetrically located at the nucleoplasmic side of the NPC. Nup98 functions as one of several docking site nucleoporins in a cytosolic docking activity-mediated binding of a model transport substrate. The docking site of Nup98 was mapped to its N-terminal half, which contains all of the peptide repeats. A recombinant segment of this region depleted the docking activity of cytosol. We suggest that the peptide repeat domain of Nup98, together with peptide repeat domains of other nucleoporins, forms an array of sites for mediated docking of transport substrate, and that bidirectional transport across the NPC proceeds by repeated docking and undocking reactions.\n",
      "\n",
      "generated_summary\n",
      "\n"
     ]
    },
    {
     "data": {
      "application/vnd.jupyter.widget-view+json": {
       "model_id": "c140277b5a9848fe976d83960d08543b",
       "version_major": 2,
       "version_minor": 0
      },
      "text/plain": [
       "  0%|          | 0/100 [00:00<?, ?it/s]"
      ]
     },
     "metadata": {},
     "output_type": "display_data"
    },
    {
     "name": "stdout",
     "output_type": "stream",
     "text": [
      "The CXC chemokine stromal cell-derived factor activates a Gi-coupled phosphoinositide 3-kinase in T lymphocytes. The cellular effects of stromal cell-derived factor-1 (SDF-1) are mediated primarily by binding to the CXC chemokine receptor-4. We report in this study that SDF-1 and its peptide analogues induce a concentration- and time-dependent accumulation of phosphatidylinositol-(3,4,5)-trisphosphate (PtdIns(3,4,5)P3) in Jurkat cells. This SDF-1-stimulated generation of D-3 phosphoinositide lipids was inhibited by pretreatment of the cells with an SDF-1 peptide antagonist or an anti-CXCR4 Ab. In addition, the phosphoinositide 3 (PI 3)-kinase inhibitors wortmannin and LY294002, as well as the Gi protein inhibitor pertussis toxin, also inhibited the SDF-1-stimulated accumulation of PtdIns(3,4,5)P3. The effects of SDF-1 on D-3 phosphoinositide lipid accumulation correlated well with activation of the known PI 3-kinase effector protein kinase B, which was also inhibited by wortmannin and pertussis toxin. Concentrations of PI 3-kinase inhibitors, sufficient to inhibit PtdIns(3,4,5)P3 accumulation, also inhibited chemotaxis of Jurkat and peripheral blood-derived T lymphocytes in response to SDF-1. In contrast, SDF-1-stimulated actin polymerization was only partially inhibited by PI 3-kinase inhibitors, suggesting that while chemotaxis is fully dependent on PI 3-kinase activation, actin polymerization requires additional biochemical inputs. Finally, SDF-1-stimulated extracellular signal-related kinase (ERK)-1/2 mitogen-activated protein kinase activation was inhibited by PI 3-kinase inhibitors. In addition, the mitogen-activated protein/ERK kinase inhibitor PD098059 partially attenuated chemotaxis in response to SDF-1. Hence, it appears that ERK1/2 activation is dependent on PI 3-kinase activation, and both biochemical events are involved in the regulation of SDF-1-stimulated chemotaxis.\n",
      "\n",
      "generated_summary\n",
      "\n",
      "loss: 0.05354788154363632\n",
      "\n",
      "loss: 0.04531652107834816\n",
      "\n",
      "loss: 0.07004183530807495\n",
      "\n",
      "loss: 0.1121911108493805\n",
      "\n",
      "loss: 0.035729698836803436\n",
      "\n",
      "loss: 0.07209452241659164\n",
      "\n",
      "loss: 0.07577148824930191\n",
      "\n",
      "loss: 0.06421148777008057\n",
      "\n",
      "loss: 0.06885284930467606\n",
      "\n",
      "loss: 0.0872948095202446\n",
      "\n"
     ]
    },
    {
     "data": {
      "application/vnd.jupyter.widget-view+json": {
       "model_id": "62da3af26cde4322b0e2ca6aa78236f0",
       "version_major": 2,
       "version_minor": 0
      },
      "text/plain": [
       "Evaluating:   0%|          | 0/770 [00:00<?, ?it/s]"
      ]
     },
     "metadata": {},
     "output_type": "display_data"
    },
    {
     "name": "stdout",
     "output_type": "stream",
     "text": [
      "perplexity: 6.037003040313721\n",
      "After 421 updates: \n",
      "\n"
     ]
    },
    {
     "data": {
      "application/vnd.jupyter.widget-view+json": {
       "model_id": "fa579e1e465a4608815561e8c4ed04f9",
       "version_major": 2,
       "version_minor": 0
      },
      "text/plain": [
       "  0%|          | 0/100 [00:00<?, ?it/s]"
      ]
     },
     "metadata": {},
     "output_type": "display_data"
    },
    {
     "name": "stdout",
     "output_type": "stream",
     "text": [
      "The peptide repeat domain of nucleoporin Nup98 functions as a docking site in transport across the nuclear pore complex. We report the cDNA deduced primary structure of a wheat germ agglutinin-reactive nuclear pore complex (NPC) protein of rat. The protein, termed Nup98 (for nucleoporin of 98 kDa), contains numerous GLFG and FG repeats and some FXFG repeats and is thus a vertebrate member of a family of GLFG nucleoporins that were previously discovered in yeast. Immunoelectron microscopy showed Nup98 to be asymmetrically located at the nucleoplasmic side of the NPC. Nup98 functions as one of several docking site nucleoporins in a cytosolic docking activity-mediated binding of a model transport substrate. The docking site of Nup98 was mapped to its N-terminal half, which contains all of the peptide repeats. A recombinant segment of this region depleted the docking activity of cytosol. We suggest that the peptide repeat domain of Nup98, together with peptide repeat domains of other nucleoporins, forms an array of sites for mediated docking of transport substrate, and that bidirectional transport across the NPC proceeds by repeated docking and undocking reactions.\n",
      "\n",
      "generated_summary\n",
      "\n"
     ]
    },
    {
     "data": {
      "application/vnd.jupyter.widget-view+json": {
       "model_id": "b5d3684e466b4832ab154a3fade998de",
       "version_major": 2,
       "version_minor": 0
      },
      "text/plain": [
       "  0%|          | 0/100 [00:00<?, ?it/s]"
      ]
     },
     "metadata": {},
     "output_type": "display_data"
    },
    {
     "name": "stdout",
     "output_type": "stream",
     "text": [
      "The CXC chemokine stromal cell-derived factor activates a Gi-coupled phosphoinositide 3-kinase in T lymphocytes. The cellular effects of stromal cell-derived factor-1 (SDF-1) are mediated primarily by binding to the CXC chemokine receptor-4. We report in this study that SDF-1 and its peptide analogues induce a concentration- and time-dependent accumulation of phosphatidylinositol-(3,4,5)-trisphosphate (PtdIns(3,4,5)P3) in Jurkat cells. This SDF-1-stimulated generation of D-3 phosphoinositide lipids was inhibited by pretreatment of the cells with an SDF-1 peptide antagonist or an anti-CXCR4 Ab. In addition, the phosphoinositide 3 (PI 3)-kinase inhibitors wortmannin and LY294002, as well as the Gi protein inhibitor pertussis toxin, also inhibited the SDF-1-stimulated accumulation of PtdIns(3,4,5)P3. The effects of SDF-1 on D-3 phosphoinositide lipid accumulation correlated well with activation of the known PI 3-kinase effector protein kinase B, which was also inhibited by wortmannin and pertussis toxin. Concentrations of PI 3-kinase inhibitors, sufficient to inhibit PtdIns(3,4,5)P3 accumulation, also inhibited chemotaxis of Jurkat and peripheral blood-derived T lymphocytes in response to SDF-1. In contrast, SDF-1-stimulated actin polymerization was only partially inhibited by PI 3-kinase inhibitors, suggesting that while chemotaxis is fully dependent on PI 3-kinase activation, actin polymerization requires additional biochemical inputs. Finally, SDF-1-stimulated extracellular signal-related kinase (ERK)-1/2 mitogen-activated protein kinase activation was inhibited by PI 3-kinase inhibitors. In addition, the mitogen-activated protein/ERK kinase inhibitor PD098059 partially attenuated chemotaxis in response to SDF-1. Hence, it appears that ERK1/2 activation is dependent on PI 3-kinase activation, and both biochemical events are involved in the regulation of SDF-1-stimulated chemotaxis.\n",
      "\n",
      "generated_summary\n",
      "\n",
      "loss: 0.03202875703573227\n",
      "\n",
      "loss: 0.06583920121192932\n",
      "\n",
      "loss: 0.05994478613138199\n",
      "\n",
      "loss: 0.029502898454666138\n",
      "\n",
      "loss: 0.04651610925793648\n",
      "\n",
      "loss: 0.03502998873591423\n",
      "\n",
      "loss: 0.023351291194558144\n",
      "\n",
      "loss: 0.04036164656281471\n",
      "\n",
      "loss: 0.06694693863391876\n",
      "\n",
      "loss: 0.023525074124336243\n",
      "\n"
     ]
    },
    {
     "data": {
      "application/vnd.jupyter.widget-view+json": {
       "model_id": "9646b871d8cd427eb4ab71dd20afc812",
       "version_major": 2,
       "version_minor": 0
      },
      "text/plain": [
       "Evaluating:   0%|          | 0/770 [00:00<?, ?it/s]"
      ]
     },
     "metadata": {},
     "output_type": "display_data"
    },
    {
     "name": "stdout",
     "output_type": "stream",
     "text": [
      "perplexity: 6.029886722564697\n",
      "After 431 updates: \n",
      "\n"
     ]
    },
    {
     "data": {
      "application/vnd.jupyter.widget-view+json": {
       "model_id": "346c9aec9829430a8b5237c767af5c6b",
       "version_major": 2,
       "version_minor": 0
      },
      "text/plain": [
       "  0%|          | 0/100 [00:00<?, ?it/s]"
      ]
     },
     "metadata": {},
     "output_type": "display_data"
    },
    {
     "name": "stdout",
     "output_type": "stream",
     "text": [
      "The peptide repeat domain of nucleoporin Nup98 functions as a docking site in transport across the nuclear pore complex. We report the cDNA deduced primary structure of a wheat germ agglutinin-reactive nuclear pore complex (NPC) protein of rat. The protein, termed Nup98 (for nucleoporin of 98 kDa), contains numerous GLFG and FG repeats and some FXFG repeats and is thus a vertebrate member of a family of GLFG nucleoporins that were previously discovered in yeast. Immunoelectron microscopy showed Nup98 to be asymmetrically located at the nucleoplasmic side of the NPC. Nup98 functions as one of several docking site nucleoporins in a cytosolic docking activity-mediated binding of a model transport substrate. The docking site of Nup98 was mapped to its N-terminal half, which contains all of the peptide repeats. A recombinant segment of this region depleted the docking activity of cytosol. We suggest that the peptide repeat domain of Nup98, together with peptide repeat domains of other nucleoporins, forms an array of sites for mediated docking of transport substrate, and that bidirectional transport across the NPC proceeds by repeated docking and undocking reactions.\n",
      "\n",
      "generated_summary\n",
      "\n"
     ]
    },
    {
     "data": {
      "application/vnd.jupyter.widget-view+json": {
       "model_id": "2ffb6a3861d1472b974387e345908efd",
       "version_major": 2,
       "version_minor": 0
      },
      "text/plain": [
       "  0%|          | 0/100 [00:00<?, ?it/s]"
      ]
     },
     "metadata": {},
     "output_type": "display_data"
    },
    {
     "name": "stdout",
     "output_type": "stream",
     "text": [
      "The CXC chemokine stromal cell-derived factor activates a Gi-coupled phosphoinositide 3-kinase in T lymphocytes. The cellular effects of stromal cell-derived factor-1 (SDF-1) are mediated primarily by binding to the CXC chemokine receptor-4. We report in this study that SDF-1 and its peptide analogues induce a concentration- and time-dependent accumulation of phosphatidylinositol-(3,4,5)-trisphosphate (PtdIns(3,4,5)P3) in Jurkat cells. This SDF-1-stimulated generation of D-3 phosphoinositide lipids was inhibited by pretreatment of the cells with an SDF-1 peptide antagonist or an anti-CXCR4 Ab. In addition, the phosphoinositide 3 (PI 3)-kinase inhibitors wortmannin and LY294002, as well as the Gi protein inhibitor pertussis toxin, also inhibited the SDF-1-stimulated accumulation of PtdIns(3,4,5)P3. The effects of SDF-1 on D-3 phosphoinositide lipid accumulation correlated well with activation of the known PI 3-kinase effector protein kinase B, which was also inhibited by wortmannin and pertussis toxin. Concentrations of PI 3-kinase inhibitors, sufficient to inhibit PtdIns(3,4,5)P3 accumulation, also inhibited chemotaxis of Jurkat and peripheral blood-derived T lymphocytes in response to SDF-1. In contrast, SDF-1-stimulated actin polymerization was only partially inhibited by PI 3-kinase inhibitors, suggesting that while chemotaxis is fully dependent on PI 3-kinase activation, actin polymerization requires additional biochemical inputs. Finally, SDF-1-stimulated extracellular signal-related kinase (ERK)-1/2 mitogen-activated protein kinase activation was inhibited by PI 3-kinase inhibitors. In addition, the mitogen-activated protein/ERK kinase inhibitor PD098059 partially attenuated chemotaxis in response to SDF-1. Hence, it appears that ERK1/2 activation is dependent on PI 3-kinase activation, and both biochemical events are involved in the regulation of SDF-1-stimulated chemotaxis.\n",
      "\n",
      "generated_summary\n",
      "\n",
      "loss: 0.1480080932378769\n",
      "\n",
      "loss: 0.08614660054445267\n",
      "\n",
      "loss: 0.04796433821320534\n",
      "\n",
      "loss: 0.06760550290346146\n",
      "\n",
      "loss: 0.060861870646476746\n",
      "\n",
      "loss: 0.0951947346329689\n",
      "\n",
      "loss: 0.06436711549758911\n",
      "\n",
      "loss: 0.0743052139878273\n",
      "\n",
      "loss: 0.056393809616565704\n",
      "\n",
      "loss: 0.0520651713013649\n",
      "\n"
     ]
    },
    {
     "data": {
      "application/vnd.jupyter.widget-view+json": {
       "model_id": "2696bc9cef0d4dfd96e26cf53719562c",
       "version_major": 2,
       "version_minor": 0
      },
      "text/plain": [
       "Evaluating:   0%|          | 0/770 [00:00<?, ?it/s]"
      ]
     },
     "metadata": {},
     "output_type": "display_data"
    },
    {
     "name": "stdout",
     "output_type": "stream",
     "text": [
      "perplexity: 6.197864532470703\n",
      "After 441 updates: \n",
      "\n"
     ]
    },
    {
     "data": {
      "application/vnd.jupyter.widget-view+json": {
       "model_id": "b1e7a32b93364bc2b543e2b8ea4f78f7",
       "version_major": 2,
       "version_minor": 0
      },
      "text/plain": [
       "  0%|          | 0/100 [00:00<?, ?it/s]"
      ]
     },
     "metadata": {},
     "output_type": "display_data"
    },
    {
     "name": "stdout",
     "output_type": "stream",
     "text": [
      "The peptide repeat domain of nucleoporin Nup98 functions as a docking site in transport across the nuclear pore complex. We report the cDNA deduced primary structure of a wheat germ agglutinin-reactive nuclear pore complex (NPC) protein of rat. The protein, termed Nup98 (for nucleoporin of 98 kDa), contains numerous GLFG and FG repeats and some FXFG repeats and is thus a vertebrate member of a family of GLFG nucleoporins that were previously discovered in yeast. Immunoelectron microscopy showed Nup98 to be asymmetrically located at the nucleoplasmic side of the NPC. Nup98 functions as one of several docking site nucleoporins in a cytosolic docking activity-mediated binding of a model transport substrate. The docking site of Nup98 was mapped to its N-terminal half, which contains all of the peptide repeats. A recombinant segment of this region depleted the docking activity of cytosol. We suggest that the peptide repeat domain of Nup98, together with peptide repeat domains of other nucleoporins, forms an array of sites for mediated docking of transport substrate, and that bidirectional transport across the NPC proceeds by repeated docking and undocking reactions.\n",
      "\n",
      "generated_summary\n",
      "\n"
     ]
    },
    {
     "data": {
      "application/vnd.jupyter.widget-view+json": {
       "model_id": "54a6dbe2564c43be96b2d91c95e9bad9",
       "version_major": 2,
       "version_minor": 0
      },
      "text/plain": [
       "  0%|          | 0/100 [00:00<?, ?it/s]"
      ]
     },
     "metadata": {},
     "output_type": "display_data"
    },
    {
     "name": "stdout",
     "output_type": "stream",
     "text": [
      "The CXC chemokine stromal cell-derived factor activates a Gi-coupled phosphoinositide 3-kinase in T lymphocytes. The cellular effects of stromal cell-derived factor-1 (SDF-1) are mediated primarily by binding to the CXC chemokine receptor-4. We report in this study that SDF-1 and its peptide analogues induce a concentration- and time-dependent accumulation of phosphatidylinositol-(3,4,5)-trisphosphate (PtdIns(3,4,5)P3) in Jurkat cells. This SDF-1-stimulated generation of D-3 phosphoinositide lipids was inhibited by pretreatment of the cells with an SDF-1 peptide antagonist or an anti-CXCR4 Ab. In addition, the phosphoinositide 3 (PI 3)-kinase inhibitors wortmannin and LY294002, as well as the Gi protein inhibitor pertussis toxin, also inhibited the SDF-1-stimulated accumulation of PtdIns(3,4,5)P3. The effects of SDF-1 on D-3 phosphoinositide lipid accumulation correlated well with activation of the known PI 3-kinase effector protein kinase B, which was also inhibited by wortmannin and pertussis toxin. Concentrations of PI 3-kinase inhibitors, sufficient to inhibit PtdIns(3,4,5)P3 accumulation, also inhibited chemotaxis of Jurkat and peripheral blood-derived T lymphocytes in response to SDF-1. In contrast, SDF-1-stimulated actin polymerization was only partially inhibited by PI 3-kinase inhibitors, suggesting that while chemotaxis is fully dependent on PI 3-kinase activation, actin polymerization requires additional biochemical inputs. Finally, SDF-1-stimulated extracellular signal-related kinase (ERK)-1/2 mitogen-activated protein kinase activation was inhibited by PI 3-kinase inhibitors. In addition, the mitogen-activated protein/ERK kinase inhibitor PD098059 partially attenuated chemotaxis in response to SDF-1. Hence, it appears that ERK1/2 activation is dependent on PI 3-kinase activation, and both biochemical events are involved in the regulation of SDF-1-stimulated chemotaxis.\n",
      "\n",
      "generated_summary\n",
      "\n",
      "loss: 0.08304005861282349\n",
      "\n",
      "loss: 0.05384094640612602\n",
      "\n",
      "loss: 0.09627766907215118\n",
      "\n",
      "loss: 0.11383263766765594\n",
      "\n",
      "loss: 0.06104652211070061\n",
      "\n",
      "loss: 0.038280513137578964\n",
      "\n",
      "loss: 0.061249740421772\n",
      "\n",
      "loss: 0.045129407197237015\n",
      "\n",
      "loss: 0.08084684610366821\n",
      "\n",
      "loss: 0.0563274547457695\n",
      "\n"
     ]
    },
    {
     "data": {
      "application/vnd.jupyter.widget-view+json": {
       "model_id": "1a250327cbd44d3cb333229c82bbbad8",
       "version_major": 2,
       "version_minor": 0
      },
      "text/plain": [
       "Evaluating:   0%|          | 0/770 [00:00<?, ?it/s]"
      ]
     },
     "metadata": {},
     "output_type": "display_data"
    },
    {
     "name": "stdout",
     "output_type": "stream",
     "text": [
      "perplexity: 6.059006690979004\n",
      "After 451 updates: \n",
      "\n"
     ]
    },
    {
     "data": {
      "application/vnd.jupyter.widget-view+json": {
       "model_id": "ec65d714288444f9814206ee86a74896",
       "version_major": 2,
       "version_minor": 0
      },
      "text/plain": [
       "  0%|          | 0/100 [00:00<?, ?it/s]"
      ]
     },
     "metadata": {},
     "output_type": "display_data"
    },
    {
     "name": "stdout",
     "output_type": "stream",
     "text": [
      "The peptide repeat domain of nucleoporin Nup98 functions as a docking site in transport across the nuclear pore complex. We report the cDNA deduced primary structure of a wheat germ agglutinin-reactive nuclear pore complex (NPC) protein of rat. The protein, termed Nup98 (for nucleoporin of 98 kDa), contains numerous GLFG and FG repeats and some FXFG repeats and is thus a vertebrate member of a family of GLFG nucleoporins that were previously discovered in yeast. Immunoelectron microscopy showed Nup98 to be asymmetrically located at the nucleoplasmic side of the NPC. Nup98 functions as one of several docking site nucleoporins in a cytosolic docking activity-mediated binding of a model transport substrate. The docking site of Nup98 was mapped to its N-terminal half, which contains all of the peptide repeats. A recombinant segment of this region depleted the docking activity of cytosol. We suggest that the peptide repeat domain of Nup98, together with peptide repeat domains of other nucleoporins, forms an array of sites for mediated docking of transport substrate, and that bidirectional transport across the NPC proceeds by repeated docking and undocking reactions.\n",
      "\n",
      "generated_summary\n",
      "\n"
     ]
    },
    {
     "data": {
      "application/vnd.jupyter.widget-view+json": {
       "model_id": "57ca36d05ac14397881c872350778fe8",
       "version_major": 2,
       "version_minor": 0
      },
      "text/plain": [
       "  0%|          | 0/100 [00:00<?, ?it/s]"
      ]
     },
     "metadata": {},
     "output_type": "display_data"
    },
    {
     "name": "stdout",
     "output_type": "stream",
     "text": [
      "The CXC chemokine stromal cell-derived factor activates a Gi-coupled phosphoinositide 3-kinase in T lymphocytes. The cellular effects of stromal cell-derived factor-1 (SDF-1) are mediated primarily by binding to the CXC chemokine receptor-4. We report in this study that SDF-1 and its peptide analogues induce a concentration- and time-dependent accumulation of phosphatidylinositol-(3,4,5)-trisphosphate (PtdIns(3,4,5)P3) in Jurkat cells. This SDF-1-stimulated generation of D-3 phosphoinositide lipids was inhibited by pretreatment of the cells with an SDF-1 peptide antagonist or an anti-CXCR4 Ab. In addition, the phosphoinositide 3 (PI 3)-kinase inhibitors wortmannin and LY294002, as well as the Gi protein inhibitor pertussis toxin, also inhibited the SDF-1-stimulated accumulation of PtdIns(3,4,5)P3. The effects of SDF-1 on D-3 phosphoinositide lipid accumulation correlated well with activation of the known PI 3-kinase effector protein kinase B, which was also inhibited by wortmannin and pertussis toxin. Concentrations of PI 3-kinase inhibitors, sufficient to inhibit PtdIns(3,4,5)P3 accumulation, also inhibited chemotaxis of Jurkat and peripheral blood-derived T lymphocytes in response to SDF-1. In contrast, SDF-1-stimulated actin polymerization was only partially inhibited by PI 3-kinase inhibitors, suggesting that while chemotaxis is fully dependent on PI 3-kinase activation, actin polymerization requires additional biochemical inputs. Finally, SDF-1-stimulated extracellular signal-related kinase (ERK)-1/2 mitogen-activated protein kinase activation was inhibited by PI 3-kinase inhibitors. In addition, the mitogen-activated protein/ERK kinase inhibitor PD098059 partially attenuated chemotaxis in response to SDF-1. Hence, it appears that ERK1/2 activation is dependent on PI 3-kinase activation, and both biochemical events are involved in the regulation of SDF-1-stimulated chemotaxis.\n",
      "\n",
      "generated_summary\n",
      "\n",
      "loss: 0.03899800777435303\n",
      "\n",
      "loss: 0.055377695709466934\n",
      "\n",
      "loss: 0.08023017644882202\n",
      "\n",
      "loss: 0.04301384091377258\n",
      "\n",
      "loss: 0.06615855544805527\n",
      "\n",
      "loss: 0.02719363197684288\n",
      "\n",
      "loss: 0.07908006757497787\n",
      "\n",
      "loss: 0.03443960100412369\n",
      "\n",
      "loss: 0.026241492480039597\n",
      "\n",
      "loss: 0.022785428911447525\n",
      "\n"
     ]
    },
    {
     "data": {
      "application/vnd.jupyter.widget-view+json": {
       "model_id": "9796e6470f174958aaeabbaac214d5f8",
       "version_major": 2,
       "version_minor": 0
      },
      "text/plain": [
       "Evaluating:   0%|          | 0/770 [00:00<?, ?it/s]"
      ]
     },
     "metadata": {},
     "output_type": "display_data"
    },
    {
     "name": "stdout",
     "output_type": "stream",
     "text": [
      "perplexity: 6.048745632171631\n",
      "After 461 updates: \n",
      "\n"
     ]
    },
    {
     "data": {
      "application/vnd.jupyter.widget-view+json": {
       "model_id": "d9bec8ee481649ff97e0c9ef8d7ebf91",
       "version_major": 2,
       "version_minor": 0
      },
      "text/plain": [
       "  0%|          | 0/100 [00:00<?, ?it/s]"
      ]
     },
     "metadata": {},
     "output_type": "display_data"
    },
    {
     "name": "stdout",
     "output_type": "stream",
     "text": [
      "The peptide repeat domain of nucleoporin Nup98 functions as a docking site in transport across the nuclear pore complex. We report the cDNA deduced primary structure of a wheat germ agglutinin-reactive nuclear pore complex (NPC) protein of rat. The protein, termed Nup98 (for nucleoporin of 98 kDa), contains numerous GLFG and FG repeats and some FXFG repeats and is thus a vertebrate member of a family of GLFG nucleoporins that were previously discovered in yeast. Immunoelectron microscopy showed Nup98 to be asymmetrically located at the nucleoplasmic side of the NPC. Nup98 functions as one of several docking site nucleoporins in a cytosolic docking activity-mediated binding of a model transport substrate. The docking site of Nup98 was mapped to its N-terminal half, which contains all of the peptide repeats. A recombinant segment of this region depleted the docking activity of cytosol. We suggest that the peptide repeat domain of Nup98, together with peptide repeat domains of other nucleoporins, forms an array of sites for mediated docking of transport substrate, and that bidirectional transport across the NPC proceeds by repeated docking and undocking reactions.\n",
      "\n",
      "generated_summary\n",
      "\n"
     ]
    },
    {
     "data": {
      "application/vnd.jupyter.widget-view+json": {
       "model_id": "76dff3850ac24924910ce36cdc104502",
       "version_major": 2,
       "version_minor": 0
      },
      "text/plain": [
       "  0%|          | 0/100 [00:00<?, ?it/s]"
      ]
     },
     "metadata": {},
     "output_type": "display_data"
    },
    {
     "name": "stdout",
     "output_type": "stream",
     "text": [
      "The CXC chemokine stromal cell-derived factor activates a Gi-coupled phosphoinositide 3-kinase in T lymphocytes. The cellular effects of stromal cell-derived factor-1 (SDF-1) are mediated primarily by binding to the CXC chemokine receptor-4. We report in this study that SDF-1 and its peptide analogues induce a concentration- and time-dependent accumulation of phosphatidylinositol-(3,4,5)-trisphosphate (PtdIns(3,4,5)P3) in Jurkat cells. This SDF-1-stimulated generation of D-3 phosphoinositide lipids was inhibited by pretreatment of the cells with an SDF-1 peptide antagonist or an anti-CXCR4 Ab. In addition, the phosphoinositide 3 (PI 3)-kinase inhibitors wortmannin and LY294002, as well as the Gi protein inhibitor pertussis toxin, also inhibited the SDF-1-stimulated accumulation of PtdIns(3,4,5)P3. The effects of SDF-1 on D-3 phosphoinositide lipid accumulation correlated well with activation of the known PI 3-kinase effector protein kinase B, which was also inhibited by wortmannin and pertussis toxin. Concentrations of PI 3-kinase inhibitors, sufficient to inhibit PtdIns(3,4,5)P3 accumulation, also inhibited chemotaxis of Jurkat and peripheral blood-derived T lymphocytes in response to SDF-1. In contrast, SDF-1-stimulated actin polymerization was only partially inhibited by PI 3-kinase inhibitors, suggesting that while chemotaxis is fully dependent on PI 3-kinase activation, actin polymerization requires additional biochemical inputs. Finally, SDF-1-stimulated extracellular signal-related kinase (ERK)-1/2 mitogen-activated protein kinase activation was inhibited by PI 3-kinase inhibitors. In addition, the mitogen-activated protein/ERK kinase inhibitor PD098059 partially attenuated chemotaxis in response to SDF-1. Hence, it appears that ERK1/2 activation is dependent on PI 3-kinase activation, and both biochemical events are involved in the regulation of SDF-1-stimulated chemotaxis.\n",
      "\n",
      "generated_summary\n",
      "\n",
      "loss: 0.0658683031797409\n",
      "\n",
      "loss: 0.05133087560534477\n",
      "\n",
      "loss: 0.0647987499833107\n",
      "\n",
      "loss: 0.08175612986087799\n",
      "\n",
      "loss: 0.033841703087091446\n",
      "\n",
      "loss: 0.08038383722305298\n",
      "\n",
      "loss: 0.05652673915028572\n",
      "\n",
      "loss: 0.08489400893449783\n",
      "\n",
      "loss: 0.0861864686012268\n",
      "\n",
      "loss: 0.03524703159928322\n",
      "\n"
     ]
    },
    {
     "data": {
      "application/vnd.jupyter.widget-view+json": {
       "model_id": "b19a4b11961f448285444371634334a3",
       "version_major": 2,
       "version_minor": 0
      },
      "text/plain": [
       "Evaluating:   0%|          | 0/770 [00:00<?, ?it/s]"
      ]
     },
     "metadata": {},
     "output_type": "display_data"
    },
    {
     "name": "stdout",
     "output_type": "stream",
     "text": [
      "perplexity: 6.017761707305908\n",
      "After 471 updates: \n",
      "\n"
     ]
    },
    {
     "data": {
      "application/vnd.jupyter.widget-view+json": {
       "model_id": "4c1e70dc45b241edb2d57019d506c648",
       "version_major": 2,
       "version_minor": 0
      },
      "text/plain": [
       "  0%|          | 0/100 [00:00<?, ?it/s]"
      ]
     },
     "metadata": {},
     "output_type": "display_data"
    },
    {
     "name": "stdout",
     "output_type": "stream",
     "text": [
      "The peptide repeat domain of nucleoporin Nup98 functions as a docking site in transport across the nuclear pore complex. We report the cDNA deduced primary structure of a wheat germ agglutinin-reactive nuclear pore complex (NPC) protein of rat. The protein, termed Nup98 (for nucleoporin of 98 kDa), contains numerous GLFG and FG repeats and some FXFG repeats and is thus a vertebrate member of a family of GLFG nucleoporins that were previously discovered in yeast. Immunoelectron microscopy showed Nup98 to be asymmetrically located at the nucleoplasmic side of the NPC. Nup98 functions as one of several docking site nucleoporins in a cytosolic docking activity-mediated binding of a model transport substrate. The docking site of Nup98 was mapped to its N-terminal half, which contains all of the peptide repeats. A recombinant segment of this region depleted the docking activity of cytosol. We suggest that the peptide repeat domain of Nup98, together with peptide repeat domains of other nucleoporins, forms an array of sites for mediated docking of transport substrate, and that bidirectional transport across the NPC proceeds by repeated docking and undocking reactions.\n",
      "\n",
      "generated_summary\n",
      "\n"
     ]
    },
    {
     "data": {
      "application/vnd.jupyter.widget-view+json": {
       "model_id": "1b3832b91f4f490687921498f6d4a7f2",
       "version_major": 2,
       "version_minor": 0
      },
      "text/plain": [
       "  0%|          | 0/100 [00:00<?, ?it/s]"
      ]
     },
     "metadata": {},
     "output_type": "display_data"
    },
    {
     "name": "stdout",
     "output_type": "stream",
     "text": [
      "The CXC chemokine stromal cell-derived factor activates a Gi-coupled phosphoinositide 3-kinase in T lymphocytes. The cellular effects of stromal cell-derived factor-1 (SDF-1) are mediated primarily by binding to the CXC chemokine receptor-4. We report in this study that SDF-1 and its peptide analogues induce a concentration- and time-dependent accumulation of phosphatidylinositol-(3,4,5)-trisphosphate (PtdIns(3,4,5)P3) in Jurkat cells. This SDF-1-stimulated generation of D-3 phosphoinositide lipids was inhibited by pretreatment of the cells with an SDF-1 peptide antagonist or an anti-CXCR4 Ab. In addition, the phosphoinositide 3 (PI 3)-kinase inhibitors wortmannin and LY294002, as well as the Gi protein inhibitor pertussis toxin, also inhibited the SDF-1-stimulated accumulation of PtdIns(3,4,5)P3. The effects of SDF-1 on D-3 phosphoinositide lipid accumulation correlated well with activation of the known PI 3-kinase effector protein kinase B, which was also inhibited by wortmannin and pertussis toxin. Concentrations of PI 3-kinase inhibitors, sufficient to inhibit PtdIns(3,4,5)P3 accumulation, also inhibited chemotaxis of Jurkat and peripheral blood-derived T lymphocytes in response to SDF-1. In contrast, SDF-1-stimulated actin polymerization was only partially inhibited by PI 3-kinase inhibitors, suggesting that while chemotaxis is fully dependent on PI 3-kinase activation, actin polymerization requires additional biochemical inputs. Finally, SDF-1-stimulated extracellular signal-related kinase (ERK)-1/2 mitogen-activated protein kinase activation was inhibited by PI 3-kinase inhibitors. In addition, the mitogen-activated protein/ERK kinase inhibitor PD098059 partially attenuated chemotaxis in response to SDF-1. Hence, it appears that ERK1/2 activation is dependent on PI 3-kinase activation, and both biochemical events are involved in the regulation of SDF-1-stimulated chemotaxis.\n",
      "\n",
      "generated_summary\n",
      "\n",
      "loss: 0.06651674211025238\n",
      "\n",
      "loss: 0.05350822955369949\n",
      "\n",
      "loss: 0.05335782468318939\n",
      "\n",
      "loss: 0.05600462853908539\n",
      "\n",
      "loss: 0.08000567555427551\n",
      "\n",
      "loss: 0.03627292066812515\n",
      "\n",
      "loss: 0.07428524643182755\n",
      "\n",
      "loss: 0.05878365412354469\n",
      "\n",
      "loss: 0.09738150984048843\n",
      "\n",
      "loss: 0.03243599086999893\n",
      "\n"
     ]
    },
    {
     "data": {
      "application/vnd.jupyter.widget-view+json": {
       "model_id": "b7f6105ac3584ac2a421d97a6a8fe86e",
       "version_major": 2,
       "version_minor": 0
      },
      "text/plain": [
       "Evaluating:   0%|          | 0/770 [00:00<?, ?it/s]"
      ]
     },
     "metadata": {},
     "output_type": "display_data"
    },
    {
     "name": "stdout",
     "output_type": "stream",
     "text": [
      "perplexity: 5.9438347816467285\n",
      "After 481 updates: \n",
      "\n"
     ]
    },
    {
     "data": {
      "application/vnd.jupyter.widget-view+json": {
       "model_id": "0442870c321f49f0919d0a7d50b9b67b",
       "version_major": 2,
       "version_minor": 0
      },
      "text/plain": [
       "  0%|          | 0/100 [00:00<?, ?it/s]"
      ]
     },
     "metadata": {},
     "output_type": "display_data"
    },
    {
     "name": "stdout",
     "output_type": "stream",
     "text": [
      "The peptide repeat domain of nucleoporin Nup98 functions as a docking site in transport across the nuclear pore complex. We report the cDNA deduced primary structure of a wheat germ agglutinin-reactive nuclear pore complex (NPC) protein of rat. The protein, termed Nup98 (for nucleoporin of 98 kDa), contains numerous GLFG and FG repeats and some FXFG repeats and is thus a vertebrate member of a family of GLFG nucleoporins that were previously discovered in yeast. Immunoelectron microscopy showed Nup98 to be asymmetrically located at the nucleoplasmic side of the NPC. Nup98 functions as one of several docking site nucleoporins in a cytosolic docking activity-mediated binding of a model transport substrate. The docking site of Nup98 was mapped to its N-terminal half, which contains all of the peptide repeats. A recombinant segment of this region depleted the docking activity of cytosol. We suggest that the peptide repeat domain of Nup98, together with peptide repeat domains of other nucleoporins, forms an array of sites for mediated docking of transport substrate, and that bidirectional transport across the NPC proceeds by repeated docking and undocking reactions.\n",
      "\n",
      "generated_summary\n",
      "\n"
     ]
    },
    {
     "data": {
      "application/vnd.jupyter.widget-view+json": {
       "model_id": "3381f07806de4f669de6b19be5eb3c94",
       "version_major": 2,
       "version_minor": 0
      },
      "text/plain": [
       "  0%|          | 0/100 [00:00<?, ?it/s]"
      ]
     },
     "metadata": {},
     "output_type": "display_data"
    },
    {
     "name": "stdout",
     "output_type": "stream",
     "text": [
      "The CXC chemokine stromal cell-derived factor activates a Gi-coupled phosphoinositide 3-kinase in T lymphocytes. The cellular effects of stromal cell-derived factor-1 (SDF-1) are mediated primarily by binding to the CXC chemokine receptor-4. We report in this study that SDF-1 and its peptide analogues induce a concentration- and time-dependent accumulation of phosphatidylinositol-(3,4,5)-trisphosphate (PtdIns(3,4,5)P3) in Jurkat cells. This SDF-1-stimulated generation of D-3 phosphoinositide lipids was inhibited by pretreatment of the cells with an SDF-1 peptide antagonist or an anti-CXCR4 Ab. In addition, the phosphoinositide 3 (PI 3)-kinase inhibitors wortmannin and LY294002, as well as the Gi protein inhibitor pertussis toxin, also inhibited the SDF-1-stimulated accumulation of PtdIns(3,4,5)P3. The effects of SDF-1 on D-3 phosphoinositide lipid accumulation correlated well with activation of the known PI 3-kinase effector protein kinase B, which was also inhibited by wortmannin and pertussis toxin. Concentrations of PI 3-kinase inhibitors, sufficient to inhibit PtdIns(3,4,5)P3 accumulation, also inhibited chemotaxis of Jurkat and peripheral blood-derived T lymphocytes in response to SDF-1. In contrast, SDF-1-stimulated actin polymerization was only partially inhibited by PI 3-kinase inhibitors, suggesting that while chemotaxis is fully dependent on PI 3-kinase activation, actin polymerization requires additional biochemical inputs. Finally, SDF-1-stimulated extracellular signal-related kinase (ERK)-1/2 mitogen-activated protein kinase activation was inhibited by PI 3-kinase inhibitors. In addition, the mitogen-activated protein/ERK kinase inhibitor PD098059 partially attenuated chemotaxis in response to SDF-1. Hence, it appears that ERK1/2 activation is dependent on PI 3-kinase activation, and both biochemical events are involved in the regulation of SDF-1-stimulated chemotaxis.\n",
      "\n",
      "generated_summary\n",
      "\n",
      "loss: 0.07998508214950562\n",
      "\n",
      "loss: 0.05868401378393173\n",
      "\n",
      "loss: 0.06194285303354263\n",
      "\n",
      "loss: 0.04749709740281105\n",
      "\n",
      "loss: 0.07887358963489532\n",
      "\n",
      "loss: 0.03489279747009277\n",
      "\n",
      "loss: 0.04641968756914139\n",
      "\n",
      "loss: 0.04853825271129608\n",
      "\n",
      "loss: 0.04767434671521187\n",
      "\n",
      "loss: 0.11155031621456146\n",
      "\n"
     ]
    },
    {
     "data": {
      "application/vnd.jupyter.widget-view+json": {
       "model_id": "c85d1bc5e03c49bd9752ca7422849669",
       "version_major": 2,
       "version_minor": 0
      },
      "text/plain": [
       "Evaluating:   0%|          | 0/770 [00:00<?, ?it/s]"
      ]
     },
     "metadata": {},
     "output_type": "display_data"
    },
    {
     "name": "stdout",
     "output_type": "stream",
     "text": [
      "perplexity: 5.889359951019287\n",
      "After 491 updates: \n",
      "\n"
     ]
    },
    {
     "data": {
      "application/vnd.jupyter.widget-view+json": {
       "model_id": "1b9de143aa334b888906bc0de3981e2d",
       "version_major": 2,
       "version_minor": 0
      },
      "text/plain": [
       "  0%|          | 0/100 [00:00<?, ?it/s]"
      ]
     },
     "metadata": {},
     "output_type": "display_data"
    },
    {
     "name": "stdout",
     "output_type": "stream",
     "text": [
      "The peptide repeat domain of nucleoporin Nup98 functions as a docking site in transport across the nuclear pore complex. We report the cDNA deduced primary structure of a wheat germ agglutinin-reactive nuclear pore complex (NPC) protein of rat. The protein, termed Nup98 (for nucleoporin of 98 kDa), contains numerous GLFG and FG repeats and some FXFG repeats and is thus a vertebrate member of a family of GLFG nucleoporins that were previously discovered in yeast. Immunoelectron microscopy showed Nup98 to be asymmetrically located at the nucleoplasmic side of the NPC. Nup98 functions as one of several docking site nucleoporins in a cytosolic docking activity-mediated binding of a model transport substrate. The docking site of Nup98 was mapped to its N-terminal half, which contains all of the peptide repeats. A recombinant segment of this region depleted the docking activity of cytosol. We suggest that the peptide repeat domain of Nup98, together with peptide repeat domains of other nucleoporins, forms an array of sites for mediated docking of transport substrate, and that bidirectional transport across the NPC proceeds by repeated docking and undocking reactions.\n",
      "\n",
      "generated_summary\n",
      "\n"
     ]
    },
    {
     "data": {
      "application/vnd.jupyter.widget-view+json": {
       "model_id": "91e197c6b97040bc8afe5c93abf76d54",
       "version_major": 2,
       "version_minor": 0
      },
      "text/plain": [
       "  0%|          | 0/100 [00:00<?, ?it/s]"
      ]
     },
     "metadata": {},
     "output_type": "display_data"
    },
    {
     "name": "stdout",
     "output_type": "stream",
     "text": [
      "The CXC chemokine stromal cell-derived factor activates a Gi-coupled phosphoinositide 3-kinase in T lymphocytes. The cellular effects of stromal cell-derived factor-1 (SDF-1) are mediated primarily by binding to the CXC chemokine receptor-4. We report in this study that SDF-1 and its peptide analogues induce a concentration- and time-dependent accumulation of phosphatidylinositol-(3,4,5)-trisphosphate (PtdIns(3,4,5)P3) in Jurkat cells. This SDF-1-stimulated generation of D-3 phosphoinositide lipids was inhibited by pretreatment of the cells with an SDF-1 peptide antagonist or an anti-CXCR4 Ab. In addition, the phosphoinositide 3 (PI 3)-kinase inhibitors wortmannin and LY294002, as well as the Gi protein inhibitor pertussis toxin, also inhibited the SDF-1-stimulated accumulation of PtdIns(3,4,5)P3. The effects of SDF-1 on D-3 phosphoinositide lipid accumulation correlated well with activation of the known PI 3-kinase effector protein kinase B, which was also inhibited by wortmannin and pertussis toxin. Concentrations of PI 3-kinase inhibitors, sufficient to inhibit PtdIns(3,4,5)P3 accumulation, also inhibited chemotaxis of Jurkat and peripheral blood-derived T lymphocytes in response to SDF-1. In contrast, SDF-1-stimulated actin polymerization was only partially inhibited by PI 3-kinase inhibitors, suggesting that while chemotaxis is fully dependent on PI 3-kinase activation, actin polymerization requires additional biochemical inputs. Finally, SDF-1-stimulated extracellular signal-related kinase (ERK)-1/2 mitogen-activated protein kinase activation was inhibited by PI 3-kinase inhibitors. In addition, the mitogen-activated protein/ERK kinase inhibitor PD098059 partially attenuated chemotaxis in response to SDF-1. Hence, it appears that ERK1/2 activation is dependent on PI 3-kinase activation, and both biochemical events are involved in the regulation of SDF-1-stimulated chemotaxis.\n",
      "\n",
      "generated_summary\n",
      "\n",
      "loss: 0.07530944794416428\n",
      "\n",
      "loss: 0.03776473551988602\n",
      "\n",
      "loss: 0.053298868238925934\n",
      "\n",
      "loss: 0.03949851915240288\n",
      "\n",
      "loss: 0.03477582708001137\n",
      "\n",
      "loss: 0.11168121546506882\n",
      "\n",
      "loss: 0.0819569081068039\n",
      "\n",
      "loss: 0.03375023230910301\n",
      "\n",
      "loss: 0.0481836274266243\n",
      "\n",
      "loss: 0.06776081025600433\n",
      "\n"
     ]
    },
    {
     "data": {
      "application/vnd.jupyter.widget-view+json": {
       "model_id": "38869162b58c4752aff09263111424d2",
       "version_major": 2,
       "version_minor": 0
      },
      "text/plain": [
       "Evaluating:   0%|          | 0/770 [00:00<?, ?it/s]"
      ]
     },
     "metadata": {},
     "output_type": "display_data"
    },
    {
     "name": "stdout",
     "output_type": "stream",
     "text": [
      "perplexity: 5.8287882804870605\n",
      "After 501 updates: \n",
      "\n"
     ]
    },
    {
     "data": {
      "application/vnd.jupyter.widget-view+json": {
       "model_id": "57d63a3a1ee943f382ef9ec9a4e2aa0d",
       "version_major": 2,
       "version_minor": 0
      },
      "text/plain": [
       "  0%|          | 0/100 [00:00<?, ?it/s]"
      ]
     },
     "metadata": {},
     "output_type": "display_data"
    },
    {
     "name": "stdout",
     "output_type": "stream",
     "text": [
      "The peptide repeat domain of nucleoporin Nup98 functions as a docking site in transport across the nuclear pore complex. We report the cDNA deduced primary structure of a wheat germ agglutinin-reactive nuclear pore complex (NPC) protein of rat. The protein, termed Nup98 (for nucleoporin of 98 kDa), contains numerous GLFG and FG repeats and some FXFG repeats and is thus a vertebrate member of a family of GLFG nucleoporins that were previously discovered in yeast. Immunoelectron microscopy showed Nup98 to be asymmetrically located at the nucleoplasmic side of the NPC. Nup98 functions as one of several docking site nucleoporins in a cytosolic docking activity-mediated binding of a model transport substrate. The docking site of Nup98 was mapped to its N-terminal half, which contains all of the peptide repeats. A recombinant segment of this region depleted the docking activity of cytosol. We suggest that the peptide repeat domain of Nup98, together with peptide repeat domains of other nucleoporins, forms an array of sites for mediated docking of transport substrate, and that bidirectional transport across the NPC proceeds by repeated docking and undocking reactions.\n",
      "\n",
      "generated_summary\n",
      "\n"
     ]
    },
    {
     "data": {
      "application/vnd.jupyter.widget-view+json": {
       "model_id": "5ae5b62c1fb145219fee9e947602d642",
       "version_major": 2,
       "version_minor": 0
      },
      "text/plain": [
       "  0%|          | 0/100 [00:00<?, ?it/s]"
      ]
     },
     "metadata": {},
     "output_type": "display_data"
    },
    {
     "name": "stdout",
     "output_type": "stream",
     "text": [
      "The CXC chemokine stromal cell-derived factor activates a Gi-coupled phosphoinositide 3-kinase in T lymphocytes. The cellular effects of stromal cell-derived factor-1 (SDF-1) are mediated primarily by binding to the CXC chemokine receptor-4. We report in this study that SDF-1 and its peptide analogues induce a concentration- and time-dependent accumulation of phosphatidylinositol-(3,4,5)-trisphosphate (PtdIns(3,4,5)P3) in Jurkat cells. This SDF-1-stimulated generation of D-3 phosphoinositide lipids was inhibited by pretreatment of the cells with an SDF-1 peptide antagonist or an anti-CXCR4 Ab. In addition, the phosphoinositide 3 (PI 3)-kinase inhibitors wortmannin and LY294002, as well as the Gi protein inhibitor pertussis toxin, also inhibited the SDF-1-stimulated accumulation of PtdIns(3,4,5)P3. The effects of SDF-1 on D-3 phosphoinositide lipid accumulation correlated well with activation of the known PI 3-kinase effector protein kinase B, which was also inhibited by wortmannin and pertussis toxin. Concentrations of PI 3-kinase inhibitors, sufficient to inhibit PtdIns(3,4,5)P3 accumulation, also inhibited chemotaxis of Jurkat and peripheral blood-derived T lymphocytes in response to SDF-1. In contrast, SDF-1-stimulated actin polymerization was only partially inhibited by PI 3-kinase inhibitors, suggesting that while chemotaxis is fully dependent on PI 3-kinase activation, actin polymerization requires additional biochemical inputs. Finally, SDF-1-stimulated extracellular signal-related kinase (ERK)-1/2 mitogen-activated protein kinase activation was inhibited by PI 3-kinase inhibitors. In addition, the mitogen-activated protein/ERK kinase inhibitor PD098059 partially attenuated chemotaxis in response to SDF-1. Hence, it appears that ERK1/2 activation is dependent on PI 3-kinase activation, and both biochemical events are involved in the regulation of SDF-1-stimulated chemotaxis.\n",
      "\n",
      "generated_summary\n",
      "\n",
      "loss: 0.09451746940612793\n",
      "\n",
      "loss: 0.0201218631118536\n",
      "\n",
      "loss: 0.05688067525625229\n",
      "\n",
      "loss: 0.04563280567526817\n",
      "\n",
      "loss: 0.0807868167757988\n",
      "\n",
      "loss: 0.04987255111336708\n",
      "\n",
      "loss: 0.03554246202111244\n",
      "\n",
      "loss: 0.05487935245037079\n",
      "\n",
      "loss: 0.05282890424132347\n",
      "\n",
      "loss: 0.058254946023225784\n",
      "\n"
     ]
    },
    {
     "data": {
      "application/vnd.jupyter.widget-view+json": {
       "model_id": "776427358b2a47a3bd2a246a8caf41b8",
       "version_major": 2,
       "version_minor": 0
      },
      "text/plain": [
       "Evaluating:   0%|          | 0/770 [00:00<?, ?it/s]"
      ]
     },
     "metadata": {},
     "output_type": "display_data"
    },
    {
     "name": "stdout",
     "output_type": "stream",
     "text": [
      "perplexity: 5.721691608428955\n",
      "After 511 updates: \n",
      "\n"
     ]
    },
    {
     "data": {
      "application/vnd.jupyter.widget-view+json": {
       "model_id": "bfcce50bd74344bdacc051b75801f45f",
       "version_major": 2,
       "version_minor": 0
      },
      "text/plain": [
       "  0%|          | 0/100 [00:00<?, ?it/s]"
      ]
     },
     "metadata": {},
     "output_type": "display_data"
    },
    {
     "name": "stdout",
     "output_type": "stream",
     "text": [
      "The peptide repeat domain of nucleoporin Nup98 functions as a docking site in transport across the nuclear pore complex. We report the cDNA deduced primary structure of a wheat germ agglutinin-reactive nuclear pore complex (NPC) protein of rat. The protein, termed Nup98 (for nucleoporin of 98 kDa), contains numerous GLFG and FG repeats and some FXFG repeats and is thus a vertebrate member of a family of GLFG nucleoporins that were previously discovered in yeast. Immunoelectron microscopy showed Nup98 to be asymmetrically located at the nucleoplasmic side of the NPC. Nup98 functions as one of several docking site nucleoporins in a cytosolic docking activity-mediated binding of a model transport substrate. The docking site of Nup98 was mapped to its N-terminal half, which contains all of the peptide repeats. A recombinant segment of this region depleted the docking activity of cytosol. We suggest that the peptide repeat domain of Nup98, together with peptide repeat domains of other nucleoporins, forms an array of sites for mediated docking of transport substrate, and that bidirectional transport across the NPC proceeds by repeated docking and undocking reactions.\n",
      "\n",
      "generated_summary\n",
      "\n"
     ]
    },
    {
     "data": {
      "application/vnd.jupyter.widget-view+json": {
       "model_id": "a4dd7f52e012460b97b83af648e96ab6",
       "version_major": 2,
       "version_minor": 0
      },
      "text/plain": [
       "  0%|          | 0/100 [00:00<?, ?it/s]"
      ]
     },
     "metadata": {},
     "output_type": "display_data"
    },
    {
     "name": "stdout",
     "output_type": "stream",
     "text": [
      "The CXC chemokine stromal cell-derived factor activates a Gi-coupled phosphoinositide 3-kinase in T lymphocytes. The cellular effects of stromal cell-derived factor-1 (SDF-1) are mediated primarily by binding to the CXC chemokine receptor-4. We report in this study that SDF-1 and its peptide analogues induce a concentration- and time-dependent accumulation of phosphatidylinositol-(3,4,5)-trisphosphate (PtdIns(3,4,5)P3) in Jurkat cells. This SDF-1-stimulated generation of D-3 phosphoinositide lipids was inhibited by pretreatment of the cells with an SDF-1 peptide antagonist or an anti-CXCR4 Ab. In addition, the phosphoinositide 3 (PI 3)-kinase inhibitors wortmannin and LY294002, as well as the Gi protein inhibitor pertussis toxin, also inhibited the SDF-1-stimulated accumulation of PtdIns(3,4,5)P3. The effects of SDF-1 on D-3 phosphoinositide lipid accumulation correlated well with activation of the known PI 3-kinase effector protein kinase B, which was also inhibited by wortmannin and pertussis toxin. Concentrations of PI 3-kinase inhibitors, sufficient to inhibit PtdIns(3,4,5)P3 accumulation, also inhibited chemotaxis of Jurkat and peripheral blood-derived T lymphocytes in response to SDF-1. In contrast, SDF-1-stimulated actin polymerization was only partially inhibited by PI 3-kinase inhibitors, suggesting that while chemotaxis is fully dependent on PI 3-kinase activation, actin polymerization requires additional biochemical inputs. Finally, SDF-1-stimulated extracellular signal-related kinase (ERK)-1/2 mitogen-activated protein kinase activation was inhibited by PI 3-kinase inhibitors. In addition, the mitogen-activated protein/ERK kinase inhibitor PD098059 partially attenuated chemotaxis in response to SDF-1. Hence, it appears that ERK1/2 activation is dependent on PI 3-kinase activation, and both biochemical events are involved in the regulation of SDF-1-stimulated chemotaxis.\n",
      "\n",
      "generated_summary\n",
      "\n",
      "loss: 0.057967424392700195\n",
      "\n",
      "loss: 0.06967280805110931\n",
      "\n",
      "loss: 0.06625782698392868\n",
      "\n",
      "loss: 0.05813049152493477\n",
      "\n",
      "loss: 0.08027497678995132\n",
      "\n",
      "loss: 0.05838587507605553\n",
      "\n",
      "loss: 0.09601626545190811\n",
      "\n",
      "loss: 0.016193224117159843\n",
      "\n",
      "loss: 0.05751732736825943\n",
      "\n",
      "loss: 0.022450970485806465\n",
      "\n"
     ]
    },
    {
     "data": {
      "application/vnd.jupyter.widget-view+json": {
       "model_id": "db6fd1052ea84d8d8beff5f282cbe0e4",
       "version_major": 2,
       "version_minor": 0
      },
      "text/plain": [
       "Evaluating:   0%|          | 0/770 [00:00<?, ?it/s]"
      ]
     },
     "metadata": {},
     "output_type": "display_data"
    },
    {
     "name": "stdout",
     "output_type": "stream",
     "text": [
      "perplexity: 5.575432300567627\n",
      "After 521 updates: \n",
      "\n"
     ]
    },
    {
     "data": {
      "application/vnd.jupyter.widget-view+json": {
       "model_id": "4de9626ed3cf4dcba55ef779b41869ac",
       "version_major": 2,
       "version_minor": 0
      },
      "text/plain": [
       "  0%|          | 0/100 [00:00<?, ?it/s]"
      ]
     },
     "metadata": {},
     "output_type": "display_data"
    },
    {
     "name": "stdout",
     "output_type": "stream",
     "text": [
      "The peptide repeat domain of nucleoporin Nup98 functions as a docking site in transport across the nuclear pore complex. We report the cDNA deduced primary structure of a wheat germ agglutinin-reactive nuclear pore complex (NPC) protein of rat. The protein, termed Nup98 (for nucleoporin of 98 kDa), contains numerous GLFG and FG repeats and some FXFG repeats and is thus a vertebrate member of a family of GLFG nucleoporins that were previously discovered in yeast. Immunoelectron microscopy showed Nup98 to be asymmetrically located at the nucleoplasmic side of the NPC. Nup98 functions as one of several docking site nucleoporins in a cytosolic docking activity-mediated binding of a model transport substrate. The docking site of Nup98 was mapped to its N-terminal half, which contains all of the peptide repeats. A recombinant segment of this region depleted the docking activity of cytosol. We suggest that the peptide repeat domain of Nup98, together with peptide repeat domains of other nucleoporins, forms an array of sites for mediated docking of transport substrate, and that bidirectional transport across the NPC proceeds by repeated docking and undocking reactions.\n",
      "\n",
      "generated_summary\n",
      "\n"
     ]
    },
    {
     "data": {
      "application/vnd.jupyter.widget-view+json": {
       "model_id": "d75217ad369a400eb46959de8f6991cd",
       "version_major": 2,
       "version_minor": 0
      },
      "text/plain": [
       "  0%|          | 0/100 [00:00<?, ?it/s]"
      ]
     },
     "metadata": {},
     "output_type": "display_data"
    },
    {
     "name": "stdout",
     "output_type": "stream",
     "text": [
      "The CXC chemokine stromal cell-derived factor activates a Gi-coupled phosphoinositide 3-kinase in T lymphocytes. The cellular effects of stromal cell-derived factor-1 (SDF-1) are mediated primarily by binding to the CXC chemokine receptor-4. We report in this study that SDF-1 and its peptide analogues induce a concentration- and time-dependent accumulation of phosphatidylinositol-(3,4,5)-trisphosphate (PtdIns(3,4,5)P3) in Jurkat cells. This SDF-1-stimulated generation of D-3 phosphoinositide lipids was inhibited by pretreatment of the cells with an SDF-1 peptide antagonist or an anti-CXCR4 Ab. In addition, the phosphoinositide 3 (PI 3)-kinase inhibitors wortmannin and LY294002, as well as the Gi protein inhibitor pertussis toxin, also inhibited the SDF-1-stimulated accumulation of PtdIns(3,4,5)P3. The effects of SDF-1 on D-3 phosphoinositide lipid accumulation correlated well with activation of the known PI 3-kinase effector protein kinase B, which was also inhibited by wortmannin and pertussis toxin. Concentrations of PI 3-kinase inhibitors, sufficient to inhibit PtdIns(3,4,5)P3 accumulation, also inhibited chemotaxis of Jurkat and peripheral blood-derived T lymphocytes in response to SDF-1. In contrast, SDF-1-stimulated actin polymerization was only partially inhibited by PI 3-kinase inhibitors, suggesting that while chemotaxis is fully dependent on PI 3-kinase activation, actin polymerization requires additional biochemical inputs. Finally, SDF-1-stimulated extracellular signal-related kinase (ERK)-1/2 mitogen-activated protein kinase activation was inhibited by PI 3-kinase inhibitors. In addition, the mitogen-activated protein/ERK kinase inhibitor PD098059 partially attenuated chemotaxis in response to SDF-1. Hence, it appears that ERK1/2 activation is dependent on PI 3-kinase activation, and both biochemical events are involved in the regulation of SDF-1-stimulated chemotaxis.\n",
      "\n",
      "generated_summary\n",
      "\n",
      "loss: 0.05956324562430382\n",
      "\n",
      "loss: 0.041672319173812866\n",
      "\n",
      "loss: 0.029680375009775162\n",
      "\n",
      "loss: 0.07650382816791534\n",
      "\n",
      "loss: 0.06937077641487122\n",
      "\n",
      "loss: 0.05683530122041702\n",
      "\n",
      "loss: 0.054868970066308975\n",
      "\n",
      "loss: 0.054405201226472855\n",
      "\n",
      "loss: 0.05376022681593895\n",
      "\n",
      "loss: 0.04108348861336708\n",
      "\n"
     ]
    },
    {
     "data": {
      "application/vnd.jupyter.widget-view+json": {
       "model_id": "621e5ccdae664af49789238552d45f1e",
       "version_major": 2,
       "version_minor": 0
      },
      "text/plain": [
       "Evaluating:   0%|          | 0/770 [00:00<?, ?it/s]"
      ]
     },
     "metadata": {},
     "output_type": "display_data"
    },
    {
     "name": "stdout",
     "output_type": "stream",
     "text": [
      "perplexity: 5.730771064758301\n",
      "After 531 updates: \n",
      "\n"
     ]
    },
    {
     "data": {
      "application/vnd.jupyter.widget-view+json": {
       "model_id": "7c03f6e70317478686fe087aee13a5d7",
       "version_major": 2,
       "version_minor": 0
      },
      "text/plain": [
       "  0%|          | 0/100 [00:00<?, ?it/s]"
      ]
     },
     "metadata": {},
     "output_type": "display_data"
    },
    {
     "name": "stdout",
     "output_type": "stream",
     "text": [
      "The peptide repeat domain of nucleoporin Nup98 functions as a docking site in transport across the nuclear pore complex. We report the cDNA deduced primary structure of a wheat germ agglutinin-reactive nuclear pore complex (NPC) protein of rat. The protein, termed Nup98 (for nucleoporin of 98 kDa), contains numerous GLFG and FG repeats and some FXFG repeats and is thus a vertebrate member of a family of GLFG nucleoporins that were previously discovered in yeast. Immunoelectron microscopy showed Nup98 to be asymmetrically located at the nucleoplasmic side of the NPC. Nup98 functions as one of several docking site nucleoporins in a cytosolic docking activity-mediated binding of a model transport substrate. The docking site of Nup98 was mapped to its N-terminal half, which contains all of the peptide repeats. A recombinant segment of this region depleted the docking activity of cytosol. We suggest that the peptide repeat domain of Nup98, together with peptide repeat domains of other nucleoporins, forms an array of sites for mediated docking of transport substrate, and that bidirectional transport across the NPC proceeds by repeated docking and undocking reactions.\n",
      "\n",
      "generated_summary\n",
      "\n"
     ]
    },
    {
     "data": {
      "application/vnd.jupyter.widget-view+json": {
       "model_id": "6d2ca06e4498467d8c1ad16d7c79c802",
       "version_major": 2,
       "version_minor": 0
      },
      "text/plain": [
       "  0%|          | 0/100 [00:00<?, ?it/s]"
      ]
     },
     "metadata": {},
     "output_type": "display_data"
    },
    {
     "name": "stdout",
     "output_type": "stream",
     "text": [
      "The CXC chemokine stromal cell-derived factor activates a Gi-coupled phosphoinositide 3-kinase in T lymphocytes. The cellular effects of stromal cell-derived factor-1 (SDF-1) are mediated primarily by binding to the CXC chemokine receptor-4. We report in this study that SDF-1 and its peptide analogues induce a concentration- and time-dependent accumulation of phosphatidylinositol-(3,4,5)-trisphosphate (PtdIns(3,4,5)P3) in Jurkat cells. This SDF-1-stimulated generation of D-3 phosphoinositide lipids was inhibited by pretreatment of the cells with an SDF-1 peptide antagonist or an anti-CXCR4 Ab. In addition, the phosphoinositide 3 (PI 3)-kinase inhibitors wortmannin and LY294002, as well as the Gi protein inhibitor pertussis toxin, also inhibited the SDF-1-stimulated accumulation of PtdIns(3,4,5)P3. The effects of SDF-1 on D-3 phosphoinositide lipid accumulation correlated well with activation of the known PI 3-kinase effector protein kinase B, which was also inhibited by wortmannin and pertussis toxin. Concentrations of PI 3-kinase inhibitors, sufficient to inhibit PtdIns(3,4,5)P3 accumulation, also inhibited chemotaxis of Jurkat and peripheral blood-derived T lymphocytes in response to SDF-1. In contrast, SDF-1-stimulated actin polymerization was only partially inhibited by PI 3-kinase inhibitors, suggesting that while chemotaxis is fully dependent on PI 3-kinase activation, actin polymerization requires additional biochemical inputs. Finally, SDF-1-stimulated extracellular signal-related kinase (ERK)-1/2 mitogen-activated protein kinase activation was inhibited by PI 3-kinase inhibitors. In addition, the mitogen-activated protein/ERK kinase inhibitor PD098059 partially attenuated chemotaxis in response to SDF-1. Hence, it appears that ERK1/2 activation is dependent on PI 3-kinase activation, and both biochemical events are involved in the regulation of SDF-1-stimulated chemotaxis.\n",
      "\n",
      "generated_summary\n",
      "\n",
      "loss: 0.06413865834474564\n",
      "\n",
      "loss: 0.03145086020231247\n",
      "\n",
      "loss: 0.10776888579130173\n",
      "\n",
      "loss: 0.05360570177435875\n",
      "\n",
      "loss: 0.0528138130903244\n",
      "\n",
      "loss: 0.054428402334451675\n",
      "\n",
      "loss: 0.047654252499341965\n",
      "\n",
      "loss: 0.09190072864294052\n",
      "\n",
      "loss: 0.06191452592611313\n",
      "\n",
      "loss: 0.06519030034542084\n",
      "\n"
     ]
    },
    {
     "data": {
      "application/vnd.jupyter.widget-view+json": {
       "model_id": "4ab8b1d5351d41e79075d631eb16cf7d",
       "version_major": 2,
       "version_minor": 0
      },
      "text/plain": [
       "Evaluating:   0%|          | 0/770 [00:00<?, ?it/s]"
      ]
     },
     "metadata": {},
     "output_type": "display_data"
    },
    {
     "name": "stdout",
     "output_type": "stream",
     "text": [
      "perplexity: 5.797608852386475\n",
      "After 541 updates: \n",
      "\n"
     ]
    },
    {
     "data": {
      "application/vnd.jupyter.widget-view+json": {
       "model_id": "e6a921131fb04239b0db44567bf869ee",
       "version_major": 2,
       "version_minor": 0
      },
      "text/plain": [
       "  0%|          | 0/100 [00:00<?, ?it/s]"
      ]
     },
     "metadata": {},
     "output_type": "display_data"
    },
    {
     "name": "stdout",
     "output_type": "stream",
     "text": [
      "The peptide repeat domain of nucleoporin Nup98 functions as a docking site in transport across the nuclear pore complex. We report the cDNA deduced primary structure of a wheat germ agglutinin-reactive nuclear pore complex (NPC) protein of rat. The protein, termed Nup98 (for nucleoporin of 98 kDa), contains numerous GLFG and FG repeats and some FXFG repeats and is thus a vertebrate member of a family of GLFG nucleoporins that were previously discovered in yeast. Immunoelectron microscopy showed Nup98 to be asymmetrically located at the nucleoplasmic side of the NPC. Nup98 functions as one of several docking site nucleoporins in a cytosolic docking activity-mediated binding of a model transport substrate. The docking site of Nup98 was mapped to its N-terminal half, which contains all of the peptide repeats. A recombinant segment of this region depleted the docking activity of cytosol. We suggest that the peptide repeat domain of Nup98, together with peptide repeat domains of other nucleoporins, forms an array of sites for mediated docking of transport substrate, and that bidirectional transport across the NPC proceeds by repeated docking and undocking reactions.\n",
      "\n",
      "generated_summary\n",
      "\n"
     ]
    },
    {
     "data": {
      "application/vnd.jupyter.widget-view+json": {
       "model_id": "da5feb307e63445296ac87b6f1f9b90b",
       "version_major": 2,
       "version_minor": 0
      },
      "text/plain": [
       "  0%|          | 0/100 [00:00<?, ?it/s]"
      ]
     },
     "metadata": {},
     "output_type": "display_data"
    },
    {
     "name": "stdout",
     "output_type": "stream",
     "text": [
      "The CXC chemokine stromal cell-derived factor activates a Gi-coupled phosphoinositide 3-kinase in T lymphocytes. The cellular effects of stromal cell-derived factor-1 (SDF-1) are mediated primarily by binding to the CXC chemokine receptor-4. We report in this study that SDF-1 and its peptide analogues induce a concentration- and time-dependent accumulation of phosphatidylinositol-(3,4,5)-trisphosphate (PtdIns(3,4,5)P3) in Jurkat cells. This SDF-1-stimulated generation of D-3 phosphoinositide lipids was inhibited by pretreatment of the cells with an SDF-1 peptide antagonist or an anti-CXCR4 Ab. In addition, the phosphoinositide 3 (PI 3)-kinase inhibitors wortmannin and LY294002, as well as the Gi protein inhibitor pertussis toxin, also inhibited the SDF-1-stimulated accumulation of PtdIns(3,4,5)P3. The effects of SDF-1 on D-3 phosphoinositide lipid accumulation correlated well with activation of the known PI 3-kinase effector protein kinase B, which was also inhibited by wortmannin and pertussis toxin. Concentrations of PI 3-kinase inhibitors, sufficient to inhibit PtdIns(3,4,5)P3 accumulation, also inhibited chemotaxis of Jurkat and peripheral blood-derived T lymphocytes in response to SDF-1. In contrast, SDF-1-stimulated actin polymerization was only partially inhibited by PI 3-kinase inhibitors, suggesting that while chemotaxis is fully dependent on PI 3-kinase activation, actin polymerization requires additional biochemical inputs. Finally, SDF-1-stimulated extracellular signal-related kinase (ERK)-1/2 mitogen-activated protein kinase activation was inhibited by PI 3-kinase inhibitors. In addition, the mitogen-activated protein/ERK kinase inhibitor PD098059 partially attenuated chemotaxis in response to SDF-1. Hence, it appears that ERK1/2 activation is dependent on PI 3-kinase activation, and both biochemical events are involved in the regulation of SDF-1-stimulated chemotaxis.\n",
      "\n",
      "generated_summary\n",
      "\n",
      "loss: 0.04660393297672272\n",
      "\n",
      "loss: 0.05292343720793724\n",
      "\n",
      "loss: 0.06110209599137306\n",
      "\n",
      "loss: 0.04838890954852104\n",
      "\n",
      "loss: 0.05512871593236923\n",
      "\n",
      "loss: 0.09018390625715256\n",
      "\n",
      "loss: 0.06909777969121933\n",
      "\n",
      "loss: 0.06081532686948776\n",
      "\n",
      "loss: 0.0939502939581871\n",
      "\n",
      "loss: 0.057105813175439835\n",
      "\n"
     ]
    },
    {
     "data": {
      "application/vnd.jupyter.widget-view+json": {
       "model_id": "d08ddcbf91f94092b8ca888e0a8a714d",
       "version_major": 2,
       "version_minor": 0
      },
      "text/plain": [
       "Evaluating:   0%|          | 0/770 [00:00<?, ?it/s]"
      ]
     },
     "metadata": {},
     "output_type": "display_data"
    },
    {
     "name": "stdout",
     "output_type": "stream",
     "text": [
      "perplexity: 5.572558879852295\n",
      "After 551 updates: \n",
      "\n"
     ]
    },
    {
     "data": {
      "application/vnd.jupyter.widget-view+json": {
       "model_id": "4d7f52b008d74f1ea589500b2a75e100",
       "version_major": 2,
       "version_minor": 0
      },
      "text/plain": [
       "  0%|          | 0/100 [00:00<?, ?it/s]"
      ]
     },
     "metadata": {},
     "output_type": "display_data"
    },
    {
     "name": "stdout",
     "output_type": "stream",
     "text": [
      "The peptide repeat domain of nucleoporin Nup98 functions as a docking site in transport across the nuclear pore complex. We report the cDNA deduced primary structure of a wheat germ agglutinin-reactive nuclear pore complex (NPC) protein of rat. The protein, termed Nup98 (for nucleoporin of 98 kDa), contains numerous GLFG and FG repeats and some FXFG repeats and is thus a vertebrate member of a family of GLFG nucleoporins that were previously discovered in yeast. Immunoelectron microscopy showed Nup98 to be asymmetrically located at the nucleoplasmic side of the NPC. Nup98 functions as one of several docking site nucleoporins in a cytosolic docking activity-mediated binding of a model transport substrate. The docking site of Nup98 was mapped to its N-terminal half, which contains all of the peptide repeats. A recombinant segment of this region depleted the docking activity of cytosol. We suggest that the peptide repeat domain of Nup98, together with peptide repeat domains of other nucleoporins, forms an array of sites for mediated docking of transport substrate, and that bidirectional transport across the NPC proceeds by repeated docking and undocking reactions.\n",
      "\n",
      "generated_summary\n",
      "\n"
     ]
    },
    {
     "data": {
      "application/vnd.jupyter.widget-view+json": {
       "model_id": "5de3cce170f2490ebb2b4c81c7313f66",
       "version_major": 2,
       "version_minor": 0
      },
      "text/plain": [
       "  0%|          | 0/100 [00:00<?, ?it/s]"
      ]
     },
     "metadata": {},
     "output_type": "display_data"
    },
    {
     "name": "stdout",
     "output_type": "stream",
     "text": [
      "The CXC chemokine stromal cell-derived factor activates a Gi-coupled phosphoinositide 3-kinase in T lymphocytes. The cellular effects of stromal cell-derived factor-1 (SDF-1) are mediated primarily by binding to the CXC chemokine receptor-4. We report in this study that SDF-1 and its peptide analogues induce a concentration- and time-dependent accumulation of phosphatidylinositol-(3,4,5)-trisphosphate (PtdIns(3,4,5)P3) in Jurkat cells. This SDF-1-stimulated generation of D-3 phosphoinositide lipids was inhibited by pretreatment of the cells with an SDF-1 peptide antagonist or an anti-CXCR4 Ab. In addition, the phosphoinositide 3 (PI 3)-kinase inhibitors wortmannin and LY294002, as well as the Gi protein inhibitor pertussis toxin, also inhibited the SDF-1-stimulated accumulation of PtdIns(3,4,5)P3. The effects of SDF-1 on D-3 phosphoinositide lipid accumulation correlated well with activation of the known PI 3-kinase effector protein kinase B, which was also inhibited by wortmannin and pertussis toxin. Concentrations of PI 3-kinase inhibitors, sufficient to inhibit PtdIns(3,4,5)P3 accumulation, also inhibited chemotaxis of Jurkat and peripheral blood-derived T lymphocytes in response to SDF-1. In contrast, SDF-1-stimulated actin polymerization was only partially inhibited by PI 3-kinase inhibitors, suggesting that while chemotaxis is fully dependent on PI 3-kinase activation, actin polymerization requires additional biochemical inputs. Finally, SDF-1-stimulated extracellular signal-related kinase (ERK)-1/2 mitogen-activated protein kinase activation was inhibited by PI 3-kinase inhibitors. In addition, the mitogen-activated protein/ERK kinase inhibitor PD098059 partially attenuated chemotaxis in response to SDF-1. Hence, it appears that ERK1/2 activation is dependent on PI 3-kinase activation, and both biochemical events are involved in the regulation of SDF-1-stimulated chemotaxis.\n",
      "\n",
      "generated_summary\n",
      "\n",
      "loss: 0.06552921235561371\n",
      "\n",
      "loss: 0.0637793242931366\n",
      "\n",
      "loss: 0.027554892003536224\n",
      "\n",
      "loss: 0.03109181486070156\n",
      "\n",
      "loss: 0.0696435496211052\n",
      "\n",
      "loss: 0.023350952193140984\n",
      "\n",
      "loss: 0.04918614774942398\n",
      "\n",
      "loss: 0.04716550186276436\n",
      "\n",
      "loss: 0.07985023409128189\n",
      "\n",
      "loss: 0.056764744222164154\n",
      "\n"
     ]
    },
    {
     "data": {
      "application/vnd.jupyter.widget-view+json": {
       "model_id": "163037e773eb47d3a3da58dc6e37b3a5",
       "version_major": 2,
       "version_minor": 0
      },
      "text/plain": [
       "Evaluating:   0%|          | 0/770 [00:00<?, ?it/s]"
      ]
     },
     "metadata": {},
     "output_type": "display_data"
    },
    {
     "name": "stdout",
     "output_type": "stream",
     "text": [
      "perplexity: 5.641722679138184\n",
      "After 561 updates: \n",
      "\n"
     ]
    },
    {
     "data": {
      "application/vnd.jupyter.widget-view+json": {
       "model_id": "c7c1ac7d8f3f499697cf5eb5e8ca113f",
       "version_major": 2,
       "version_minor": 0
      },
      "text/plain": [
       "  0%|          | 0/100 [00:00<?, ?it/s]"
      ]
     },
     "metadata": {},
     "output_type": "display_data"
    },
    {
     "name": "stdout",
     "output_type": "stream",
     "text": [
      "The peptide repeat domain of nucleoporin Nup98 functions as a docking site in transport across the nuclear pore complex. We report the cDNA deduced primary structure of a wheat germ agglutinin-reactive nuclear pore complex (NPC) protein of rat. The protein, termed Nup98 (for nucleoporin of 98 kDa), contains numerous GLFG and FG repeats and some FXFG repeats and is thus a vertebrate member of a family of GLFG nucleoporins that were previously discovered in yeast. Immunoelectron microscopy showed Nup98 to be asymmetrically located at the nucleoplasmic side of the NPC. Nup98 functions as one of several docking site nucleoporins in a cytosolic docking activity-mediated binding of a model transport substrate. The docking site of Nup98 was mapped to its N-terminal half, which contains all of the peptide repeats. A recombinant segment of this region depleted the docking activity of cytosol. We suggest that the peptide repeat domain of Nup98, together with peptide repeat domains of other nucleoporins, forms an array of sites for mediated docking of transport substrate, and that bidirectional transport across the NPC proceeds by repeated docking and undocking reactions.\n",
      "\n",
      "generated_summary\n",
      "\n"
     ]
    },
    {
     "data": {
      "application/vnd.jupyter.widget-view+json": {
       "model_id": "86546bf11c1b46cdb1c82ec0df2da072",
       "version_major": 2,
       "version_minor": 0
      },
      "text/plain": [
       "  0%|          | 0/100 [00:00<?, ?it/s]"
      ]
     },
     "metadata": {},
     "output_type": "display_data"
    },
    {
     "name": "stdout",
     "output_type": "stream",
     "text": [
      "The CXC chemokine stromal cell-derived factor activates a Gi-coupled phosphoinositide 3-kinase in T lymphocytes. The cellular effects of stromal cell-derived factor-1 (SDF-1) are mediated primarily by binding to the CXC chemokine receptor-4. We report in this study that SDF-1 and its peptide analogues induce a concentration- and time-dependent accumulation of phosphatidylinositol-(3,4,5)-trisphosphate (PtdIns(3,4,5)P3) in Jurkat cells. This SDF-1-stimulated generation of D-3 phosphoinositide lipids was inhibited by pretreatment of the cells with an SDF-1 peptide antagonist or an anti-CXCR4 Ab. In addition, the phosphoinositide 3 (PI 3)-kinase inhibitors wortmannin and LY294002, as well as the Gi protein inhibitor pertussis toxin, also inhibited the SDF-1-stimulated accumulation of PtdIns(3,4,5)P3. The effects of SDF-1 on D-3 phosphoinositide lipid accumulation correlated well with activation of the known PI 3-kinase effector protein kinase B, which was also inhibited by wortmannin and pertussis toxin. Concentrations of PI 3-kinase inhibitors, sufficient to inhibit PtdIns(3,4,5)P3 accumulation, also inhibited chemotaxis of Jurkat and peripheral blood-derived T lymphocytes in response to SDF-1. In contrast, SDF-1-stimulated actin polymerization was only partially inhibited by PI 3-kinase inhibitors, suggesting that while chemotaxis is fully dependent on PI 3-kinase activation, actin polymerization requires additional biochemical inputs. Finally, SDF-1-stimulated extracellular signal-related kinase (ERK)-1/2 mitogen-activated protein kinase activation was inhibited by PI 3-kinase inhibitors. In addition, the mitogen-activated protein/ERK kinase inhibitor PD098059 partially attenuated chemotaxis in response to SDF-1. Hence, it appears that ERK1/2 activation is dependent on PI 3-kinase activation, and both biochemical events are involved in the regulation of SDF-1-stimulated chemotaxis.\n",
      "\n",
      "generated_summary\n",
      "\n",
      "loss: 0.02589254081249237\n",
      "\n",
      "loss: 0.0487246960401535\n",
      "\n",
      "loss: 0.06629840284585953\n",
      "\n",
      "loss: 0.045877065509557724\n",
      "\n",
      "loss: 0.06067957729101181\n",
      "\n",
      "loss: 0.11222507059574127\n",
      "\n",
      "loss: 0.07341860234737396\n",
      "\n",
      "loss: 0.029274847358465195\n",
      "\n",
      "loss: 0.1162419319152832\n",
      "\n",
      "loss: 0.04236346483230591\n",
      "\n"
     ]
    },
    {
     "data": {
      "application/vnd.jupyter.widget-view+json": {
       "model_id": "fe18ab6581704062a5156020896e2981",
       "version_major": 2,
       "version_minor": 0
      },
      "text/plain": [
       "Evaluating:   0%|          | 0/770 [00:00<?, ?it/s]"
      ]
     },
     "metadata": {},
     "output_type": "display_data"
    },
    {
     "name": "stdout",
     "output_type": "stream",
     "text": [
      "perplexity: 5.866762638092041\n",
      "After 571 updates: \n",
      "\n"
     ]
    },
    {
     "data": {
      "application/vnd.jupyter.widget-view+json": {
       "model_id": "8d982ea7adaf46118ebbd495b671655c",
       "version_major": 2,
       "version_minor": 0
      },
      "text/plain": [
       "  0%|          | 0/100 [00:00<?, ?it/s]"
      ]
     },
     "metadata": {},
     "output_type": "display_data"
    },
    {
     "name": "stdout",
     "output_type": "stream",
     "text": [
      "The peptide repeat domain of nucleoporin Nup98 functions as a docking site in transport across the nuclear pore complex. We report the cDNA deduced primary structure of a wheat germ agglutinin-reactive nuclear pore complex (NPC) protein of rat. The protein, termed Nup98 (for nucleoporin of 98 kDa), contains numerous GLFG and FG repeats and some FXFG repeats and is thus a vertebrate member of a family of GLFG nucleoporins that were previously discovered in yeast. Immunoelectron microscopy showed Nup98 to be asymmetrically located at the nucleoplasmic side of the NPC. Nup98 functions as one of several docking site nucleoporins in a cytosolic docking activity-mediated binding of a model transport substrate. The docking site of Nup98 was mapped to its N-terminal half, which contains all of the peptide repeats. A recombinant segment of this region depleted the docking activity of cytosol. We suggest that the peptide repeat domain of Nup98, together with peptide repeat domains of other nucleoporins, forms an array of sites for mediated docking of transport substrate, and that bidirectional transport across the NPC proceeds by repeated docking and undocking reactions.\n",
      "\n",
      "generated_summary\n",
      "\n"
     ]
    },
    {
     "data": {
      "application/vnd.jupyter.widget-view+json": {
       "model_id": "b93a61445f304eb081c64ef61c6710a0",
       "version_major": 2,
       "version_minor": 0
      },
      "text/plain": [
       "  0%|          | 0/100 [00:00<?, ?it/s]"
      ]
     },
     "metadata": {},
     "output_type": "display_data"
    },
    {
     "name": "stdout",
     "output_type": "stream",
     "text": [
      "The CXC chemokine stromal cell-derived factor activates a Gi-coupled phosphoinositide 3-kinase in T lymphocytes. The cellular effects of stromal cell-derived factor-1 (SDF-1) are mediated primarily by binding to the CXC chemokine receptor-4. We report in this study that SDF-1 and its peptide analogues induce a concentration- and time-dependent accumulation of phosphatidylinositol-(3,4,5)-trisphosphate (PtdIns(3,4,5)P3) in Jurkat cells. This SDF-1-stimulated generation of D-3 phosphoinositide lipids was inhibited by pretreatment of the cells with an SDF-1 peptide antagonist or an anti-CXCR4 Ab. In addition, the phosphoinositide 3 (PI 3)-kinase inhibitors wortmannin and LY294002, as well as the Gi protein inhibitor pertussis toxin, also inhibited the SDF-1-stimulated accumulation of PtdIns(3,4,5)P3. The effects of SDF-1 on D-3 phosphoinositide lipid accumulation correlated well with activation of the known PI 3-kinase effector protein kinase B, which was also inhibited by wortmannin and pertussis toxin. Concentrations of PI 3-kinase inhibitors, sufficient to inhibit PtdIns(3,4,5)P3 accumulation, also inhibited chemotaxis of Jurkat and peripheral blood-derived T lymphocytes in response to SDF-1. In contrast, SDF-1-stimulated actin polymerization was only partially inhibited by PI 3-kinase inhibitors, suggesting that while chemotaxis is fully dependent on PI 3-kinase activation, actin polymerization requires additional biochemical inputs. Finally, SDF-1-stimulated extracellular signal-related kinase (ERK)-1/2 mitogen-activated protein kinase activation was inhibited by PI 3-kinase inhibitors. In addition, the mitogen-activated protein/ERK kinase inhibitor PD098059 partially attenuated chemotaxis in response to SDF-1. Hence, it appears that ERK1/2 activation is dependent on PI 3-kinase activation, and both biochemical events are involved in the regulation of SDF-1-stimulated chemotaxis.\n",
      "\n",
      "generated_summary\n",
      "\n"
     ]
    },
    {
     "data": {
      "application/vnd.jupyter.widget-view+json": {
       "model_id": "73e82aa4ac84456798deb0617c8a59ea",
       "version_major": 2,
       "version_minor": 0
      },
      "text/plain": [
       "Training:   0%|          | 0/6100 [00:00<?, ?it/s]"
      ]
     },
     "metadata": {},
     "output_type": "display_data"
    },
    {
     "name": "stdout",
     "output_type": "stream",
     "text": [
      "loss: 0.07410638779401779\n",
      "\n",
      "After 1st update: \n",
      "\n"
     ]
    },
    {
     "data": {
      "application/vnd.jupyter.widget-view+json": {
       "model_id": "6475d40923f748caab06b57eff0854db",
       "version_major": 2,
       "version_minor": 0
      },
      "text/plain": [
       "  0%|          | 0/100 [00:00<?, ?it/s]"
      ]
     },
     "metadata": {},
     "output_type": "display_data"
    },
    {
     "name": "stdout",
     "output_type": "stream",
     "text": [
      "new_article\n",
      "\n",
      "The peptide repeat domain of nucleoporin Nup98 functions as a docking site in transport across the nuclear pore complex. We report the cDNA deduced primary structure of a wheat germ agglutinin-reactive nuclear pore complex (NPC) protein of rat. The protein, termed Nup98 (for nucleoporin of 98 kDa), contains numerous GLFG and FG repeats and some FXFG repeats and is thus a vertebrate member of a family of GLFG nucleoporins that were previously discovered in yeast. Immunoelectron microscopy showed Nup98 to be asymmetrically located at the nucleoplasmic side of the NPC. Nup98 functions as one of several docking site nucleoporins in a cytosolic docking activity-mediated binding of a model transport substrate. The docking site of Nup98 was mapped to its N-terminal half, which contains all of the peptide repeats. A recombinant segment of this region depleted the docking activity of cytosol. We suggest that the peptide repeat domain of Nup98, together with peptide repeat domains of other nucleoporins, forms an array of sites for mediated docking of transport substrate, and that bidirectional transport across the NPC proceeds by repeated docking and undocking reactions.\n",
      "\n",
      "generated_summary\n",
      "\n",
      " NUP98 involved_in nucleoporin-mediated transport. The NUP involved_in nucleoporin-mediated transport.NUP98 involved_in nucleoporin-mediated transport.NUP98 involved_in nucleoporin-mediated transport.NUP98 involved_in nucleoporin-mediated transport.NUP98 involved_in nucleoporin-mediated transport.NUP98 involved_in nucleoporin-mediated transport.NUP\n",
      "\n",
      "actual_summary\n",
      "\n",
      "NUP98 enables transporter activity. <|pad|> <|pad|> <|pad|> <|pad|> <|pad|> <|pad|> <|pad|> <|pad|> <|pad|> <|pad|> <|pad|> <|pad|> <|pad|> <|pad|> <|pad|> <|pad|> <|pad|> <|pad|> <|pad|> <|pad|> <|pad|> <|pad|> <|pad|> <|pad|> <|pad|> <|pad|> <|pad|> <|pad|> <|pad|> <|pad|> <|pad|> <|pad|> <|pad|> <|pad|> <|pad|> <|pad|> <|pad|> <|pad|> <|pad|> <|pad|> <|pad|> <|pad|> <|pad|> <|pad|> <|pad|> <|pad|> <|pad|> <|pad|> <|pad|> <|pad|> <|pad|> <|pad|> <|pad|> <|pad|> <|pad|> <|pad|> <|pad|> <|pad|> <|pad|> <|pad|> <|pad|> <|pad|> <|pad|> <|pad|> <|pad|> <|pad|> <|pad|> <|pad|> <|pad|> <|pad|> <|pad|> <|pad|> <|pad|> <|pad|> <|pad|> <|pad|> <|pad|> <|pad|> <|pad|> <|pad|> <|pad|> <|pad|> <|pad|> <|pad|> <|pad|> <|pad|> <|pad|> <|pad|> <|pad|> <|pad|> <|pad|> <|pad|> <|pad|>\n",
      "\n"
     ]
    },
    {
     "data": {
      "application/vnd.jupyter.widget-view+json": {
       "model_id": "fdca9dc37dd14615b0ab6349806a06b3",
       "version_major": 2,
       "version_minor": 0
      },
      "text/plain": [
       "  0%|          | 0/100 [00:00<?, ?it/s]"
      ]
     },
     "metadata": {},
     "output_type": "display_data"
    },
    {
     "name": "stdout",
     "output_type": "stream",
     "text": [
      "new_article\n",
      "\n",
      "The CXC chemokine stromal cell-derived factor activates a Gi-coupled phosphoinositide 3-kinase in T lymphocytes. The cellular effects of stromal cell-derived factor-1 (SDF-1) are mediated primarily by binding to the CXC chemokine receptor-4. We report in this study that SDF-1 and its peptide analogues induce a concentration- and time-dependent accumulation of phosphatidylinositol-(3,4,5)-trisphosphate (PtdIns(3,4,5)P3) in Jurkat cells. This SDF-1-stimulated generation of D-3 phosphoinositide lipids was inhibited by pretreatment of the cells with an SDF-1 peptide antagonist or an anti-CXCR4 Ab. In addition, the phosphoinositide 3 (PI 3)-kinase inhibitors wortmannin and LY294002, as well as the Gi protein inhibitor pertussis toxin, also inhibited the SDF-1-stimulated accumulation of PtdIns(3,4,5)P3. The effects of SDF-1 on D-3 phosphoinositide lipid accumulation correlated well with activation of the known PI 3-kinase effector protein kinase B, which was also inhibited by wortmannin and pertussis toxin. Concentrations of PI 3-kinase inhibitors, sufficient to inhibit PtdIns(3,4,5)P3 accumulation, also inhibited chemotaxis of Jurkat and peripheral blood-derived T lymphocytes in response to SDF-1. In contrast, SDF-1-stimulated actin polymerization was only partially inhibited by PI 3-kinase inhibitors, suggesting that while chemotaxis is fully dependent on PI 3-kinase activation, actin polymerization requires additional biochemical inputs. Finally, SDF-1-stimulated extracellular signal-related kinase (ERK)-1/2 mitogen-activated protein kinase activation was inhibited by PI 3-kinase inhibitors. In addition, the mitogen-activated protein/ERK kinase inhibitor PD098059 partially attenuated chemotaxis in response to SDF-1. Hence, it appears that ERK1/2 activation is dependent on PI 3-kinase activation, and both biochemical events are involved in the regulation of SDF-1-stimulated chemotaxis.\n",
      "\n",
      "generated_summary\n",
      "\n",
      " In addition, ERK1 involved_in signal transduction. The ERK1 involved_in signal transduction. ERK1 involved_in signal transduction. ERK1 involved_in signal transduction. ERK1 involved_in signal transduction. ERK1 involved_in signal transduction. ERK1 involved_in signal transduction. ERK1 involved_in signal transduction. ERK1 involved_in signal transduction. ERK1 involved_in\n",
      "\n",
      "actual_summary\n",
      "\n",
      "AKT1 enables protein kinase activity; involved_in G protein-coupled receptor signaling pathway. <|pad|> <|pad|> <|pad|> <|pad|> <|pad|> <|pad|> <|pad|> <|pad|> <|pad|> <|pad|> <|pad|> <|pad|> <|pad|> <|pad|> <|pad|> <|pad|> <|pad|> <|pad|> <|pad|> <|pad|> <|pad|> <|pad|> <|pad|> <|pad|> <|pad|> <|pad|> <|pad|> <|pad|> <|pad|> <|pad|> <|pad|> <|pad|> <|pad|> <|pad|> <|pad|> <|pad|> <|pad|> <|pad|> <|pad|> <|pad|> <|pad|> <|pad|> <|pad|> <|pad|> <|pad|> <|pad|> <|pad|> <|pad|> <|pad|> <|pad|> <|pad|> <|pad|> <|pad|> <|pad|> <|pad|> <|pad|> <|pad|> <|pad|> <|pad|> <|pad|> <|pad|> <|pad|> <|pad|> <|pad|> <|pad|> <|pad|> <|pad|> <|pad|> <|pad|> <|pad|> <|pad|> <|pad|> <|pad|> <|pad|> <|pad|> <|pad|> <|pad|> <|pad|>\n",
      "\n",
      "loss: 0.04067491367459297\n",
      "\n",
      "loss: 0.05252114683389664\n",
      "\n",
      "loss: 0.09155520051717758\n",
      "\n",
      "loss: 0.06811309605836868\n",
      "\n",
      "loss: 0.05080107972025871\n",
      "\n",
      "loss: 0.06697092950344086\n",
      "\n",
      "loss: 0.09937969595193863\n",
      "\n",
      "loss: 0.053377971053123474\n",
      "\n",
      "loss: 0.06600021570920944\n",
      "\n"
     ]
    },
    {
     "data": {
      "application/vnd.jupyter.widget-view+json": {
       "model_id": "12558cf861544a6fa06f977d4be4aeb7",
       "version_major": 2,
       "version_minor": 0
      },
      "text/plain": [
       "Evaluating:   0%|          | 0/770 [00:00<?, ?it/s]"
      ]
     },
     "metadata": {},
     "output_type": "display_data"
    },
    {
     "name": "stdout",
     "output_type": "stream",
     "text": [
      "perplexity: 5.579398155212402\n",
      "After 581 updates: \n",
      "\n"
     ]
    },
    {
     "data": {
      "application/vnd.jupyter.widget-view+json": {
       "model_id": "0bba86c61264419a8a257528cc6f74d4",
       "version_major": 2,
       "version_minor": 0
      },
      "text/plain": [
       "  0%|          | 0/100 [00:00<?, ?it/s]"
      ]
     },
     "metadata": {},
     "output_type": "display_data"
    },
    {
     "name": "stdout",
     "output_type": "stream",
     "text": [
      "The peptide repeat domain of nucleoporin Nup98 functions as a docking site in transport across the nuclear pore complex. We report the cDNA deduced primary structure of a wheat germ agglutinin-reactive nuclear pore complex (NPC) protein of rat. The protein, termed Nup98 (for nucleoporin of 98 kDa), contains numerous GLFG and FG repeats and some FXFG repeats and is thus a vertebrate member of a family of GLFG nucleoporins that were previously discovered in yeast. Immunoelectron microscopy showed Nup98 to be asymmetrically located at the nucleoplasmic side of the NPC. Nup98 functions as one of several docking site nucleoporins in a cytosolic docking activity-mediated binding of a model transport substrate. The docking site of Nup98 was mapped to its N-terminal half, which contains all of the peptide repeats. A recombinant segment of this region depleted the docking activity of cytosol. We suggest that the peptide repeat domain of Nup98, together with peptide repeat domains of other nucleoporins, forms an array of sites for mediated docking of transport substrate, and that bidirectional transport across the NPC proceeds by repeated docking and undocking reactions.\n",
      "\n",
      "generated_summary\n",
      "\n"
     ]
    },
    {
     "data": {
      "application/vnd.jupyter.widget-view+json": {
       "model_id": "dce9822b9daf4913b95520f62e704ce4",
       "version_major": 2,
       "version_minor": 0
      },
      "text/plain": [
       "  0%|          | 0/100 [00:00<?, ?it/s]"
      ]
     },
     "metadata": {},
     "output_type": "display_data"
    },
    {
     "name": "stdout",
     "output_type": "stream",
     "text": [
      "The CXC chemokine stromal cell-derived factor activates a Gi-coupled phosphoinositide 3-kinase in T lymphocytes. The cellular effects of stromal cell-derived factor-1 (SDF-1) are mediated primarily by binding to the CXC chemokine receptor-4. We report in this study that SDF-1 and its peptide analogues induce a concentration- and time-dependent accumulation of phosphatidylinositol-(3,4,5)-trisphosphate (PtdIns(3,4,5)P3) in Jurkat cells. This SDF-1-stimulated generation of D-3 phosphoinositide lipids was inhibited by pretreatment of the cells with an SDF-1 peptide antagonist or an anti-CXCR4 Ab. In addition, the phosphoinositide 3 (PI 3)-kinase inhibitors wortmannin and LY294002, as well as the Gi protein inhibitor pertussis toxin, also inhibited the SDF-1-stimulated accumulation of PtdIns(3,4,5)P3. The effects of SDF-1 on D-3 phosphoinositide lipid accumulation correlated well with activation of the known PI 3-kinase effector protein kinase B, which was also inhibited by wortmannin and pertussis toxin. Concentrations of PI 3-kinase inhibitors, sufficient to inhibit PtdIns(3,4,5)P3 accumulation, also inhibited chemotaxis of Jurkat and peripheral blood-derived T lymphocytes in response to SDF-1. In contrast, SDF-1-stimulated actin polymerization was only partially inhibited by PI 3-kinase inhibitors, suggesting that while chemotaxis is fully dependent on PI 3-kinase activation, actin polymerization requires additional biochemical inputs. Finally, SDF-1-stimulated extracellular signal-related kinase (ERK)-1/2 mitogen-activated protein kinase activation was inhibited by PI 3-kinase inhibitors. In addition, the mitogen-activated protein/ERK kinase inhibitor PD098059 partially attenuated chemotaxis in response to SDF-1. Hence, it appears that ERK1/2 activation is dependent on PI 3-kinase activation, and both biochemical events are involved in the regulation of SDF-1-stimulated chemotaxis.\n",
      "\n",
      "generated_summary\n",
      "\n",
      "loss: 0.04228869080543518\n",
      "\n",
      "loss: 0.05232306942343712\n",
      "\n",
      "loss: 0.06518877297639847\n",
      "\n",
      "loss: 0.05219656974077225\n",
      "\n",
      "loss: 0.055918630212545395\n",
      "\n",
      "loss: 0.045233335345983505\n",
      "\n",
      "loss: 0.051583100110292435\n",
      "\n",
      "loss: 0.07624699920415878\n",
      "\n",
      "loss: 0.06811843812465668\n",
      "\n",
      "loss: 0.037295643240213394\n",
      "\n"
     ]
    },
    {
     "data": {
      "application/vnd.jupyter.widget-view+json": {
       "model_id": "e41d5ef71cd64181affb5dde715d06ed",
       "version_major": 2,
       "version_minor": 0
      },
      "text/plain": [
       "Evaluating:   0%|          | 0/770 [00:00<?, ?it/s]"
      ]
     },
     "metadata": {},
     "output_type": "display_data"
    },
    {
     "name": "stdout",
     "output_type": "stream",
     "text": [
      "perplexity: 5.545793056488037\n",
      "After 591 updates: \n",
      "\n"
     ]
    },
    {
     "data": {
      "application/vnd.jupyter.widget-view+json": {
       "model_id": "8e7206775f1740f68bcd2172053e2d54",
       "version_major": 2,
       "version_minor": 0
      },
      "text/plain": [
       "  0%|          | 0/100 [00:00<?, ?it/s]"
      ]
     },
     "metadata": {},
     "output_type": "display_data"
    },
    {
     "name": "stdout",
     "output_type": "stream",
     "text": [
      "The peptide repeat domain of nucleoporin Nup98 functions as a docking site in transport across the nuclear pore complex. We report the cDNA deduced primary structure of a wheat germ agglutinin-reactive nuclear pore complex (NPC) protein of rat. The protein, termed Nup98 (for nucleoporin of 98 kDa), contains numerous GLFG and FG repeats and some FXFG repeats and is thus a vertebrate member of a family of GLFG nucleoporins that were previously discovered in yeast. Immunoelectron microscopy showed Nup98 to be asymmetrically located at the nucleoplasmic side of the NPC. Nup98 functions as one of several docking site nucleoporins in a cytosolic docking activity-mediated binding of a model transport substrate. The docking site of Nup98 was mapped to its N-terminal half, which contains all of the peptide repeats. A recombinant segment of this region depleted the docking activity of cytosol. We suggest that the peptide repeat domain of Nup98, together with peptide repeat domains of other nucleoporins, forms an array of sites for mediated docking of transport substrate, and that bidirectional transport across the NPC proceeds by repeated docking and undocking reactions.\n",
      "\n",
      "generated_summary\n",
      "\n"
     ]
    },
    {
     "data": {
      "application/vnd.jupyter.widget-view+json": {
       "model_id": "777a4388b72645a2aaaea6789f1cd7ca",
       "version_major": 2,
       "version_minor": 0
      },
      "text/plain": [
       "  0%|          | 0/100 [00:00<?, ?it/s]"
      ]
     },
     "metadata": {},
     "output_type": "display_data"
    },
    {
     "name": "stdout",
     "output_type": "stream",
     "text": [
      "The CXC chemokine stromal cell-derived factor activates a Gi-coupled phosphoinositide 3-kinase in T lymphocytes. The cellular effects of stromal cell-derived factor-1 (SDF-1) are mediated primarily by binding to the CXC chemokine receptor-4. We report in this study that SDF-1 and its peptide analogues induce a concentration- and time-dependent accumulation of phosphatidylinositol-(3,4,5)-trisphosphate (PtdIns(3,4,5)P3) in Jurkat cells. This SDF-1-stimulated generation of D-3 phosphoinositide lipids was inhibited by pretreatment of the cells with an SDF-1 peptide antagonist or an anti-CXCR4 Ab. In addition, the phosphoinositide 3 (PI 3)-kinase inhibitors wortmannin and LY294002, as well as the Gi protein inhibitor pertussis toxin, also inhibited the SDF-1-stimulated accumulation of PtdIns(3,4,5)P3. The effects of SDF-1 on D-3 phosphoinositide lipid accumulation correlated well with activation of the known PI 3-kinase effector protein kinase B, which was also inhibited by wortmannin and pertussis toxin. Concentrations of PI 3-kinase inhibitors, sufficient to inhibit PtdIns(3,4,5)P3 accumulation, also inhibited chemotaxis of Jurkat and peripheral blood-derived T lymphocytes in response to SDF-1. In contrast, SDF-1-stimulated actin polymerization was only partially inhibited by PI 3-kinase inhibitors, suggesting that while chemotaxis is fully dependent on PI 3-kinase activation, actin polymerization requires additional biochemical inputs. Finally, SDF-1-stimulated extracellular signal-related kinase (ERK)-1/2 mitogen-activated protein kinase activation was inhibited by PI 3-kinase inhibitors. In addition, the mitogen-activated protein/ERK kinase inhibitor PD098059 partially attenuated chemotaxis in response to SDF-1. Hence, it appears that ERK1/2 activation is dependent on PI 3-kinase activation, and both biochemical events are involved in the regulation of SDF-1-stimulated chemotaxis.\n",
      "\n",
      "generated_summary\n",
      "\n",
      "loss: 0.08279445022344589\n",
      "\n",
      "loss: 0.012412133626639843\n",
      "\n",
      "loss: 0.05636828392744064\n",
      "\n",
      "loss: 0.03312584012746811\n",
      "\n",
      "loss: 0.04901294410228729\n",
      "\n",
      "loss: 0.062292009592056274\n",
      "\n",
      "loss: 0.04835400730371475\n",
      "\n",
      "loss: 0.06428690999746323\n",
      "\n",
      "loss: 0.053532134741544724\n",
      "\n",
      "loss: 0.025896435603499413\n",
      "\n"
     ]
    },
    {
     "data": {
      "application/vnd.jupyter.widget-view+json": {
       "model_id": "8163e10ed54d45d3ace9b80139e85b6e",
       "version_major": 2,
       "version_minor": 0
      },
      "text/plain": [
       "Evaluating:   0%|          | 0/770 [00:00<?, ?it/s]"
      ]
     },
     "metadata": {},
     "output_type": "display_data"
    },
    {
     "name": "stdout",
     "output_type": "stream",
     "text": [
      "perplexity: 5.623549461364746\n",
      "After 601 updates: \n",
      "\n"
     ]
    },
    {
     "data": {
      "application/vnd.jupyter.widget-view+json": {
       "model_id": "cf4547a970f54ff9bd2eee094edf6e1a",
       "version_major": 2,
       "version_minor": 0
      },
      "text/plain": [
       "  0%|          | 0/100 [00:00<?, ?it/s]"
      ]
     },
     "metadata": {},
     "output_type": "display_data"
    },
    {
     "name": "stdout",
     "output_type": "stream",
     "text": [
      "The peptide repeat domain of nucleoporin Nup98 functions as a docking site in transport across the nuclear pore complex. We report the cDNA deduced primary structure of a wheat germ agglutinin-reactive nuclear pore complex (NPC) protein of rat. The protein, termed Nup98 (for nucleoporin of 98 kDa), contains numerous GLFG and FG repeats and some FXFG repeats and is thus a vertebrate member of a family of GLFG nucleoporins that were previously discovered in yeast. Immunoelectron microscopy showed Nup98 to be asymmetrically located at the nucleoplasmic side of the NPC. Nup98 functions as one of several docking site nucleoporins in a cytosolic docking activity-mediated binding of a model transport substrate. The docking site of Nup98 was mapped to its N-terminal half, which contains all of the peptide repeats. A recombinant segment of this region depleted the docking activity of cytosol. We suggest that the peptide repeat domain of Nup98, together with peptide repeat domains of other nucleoporins, forms an array of sites for mediated docking of transport substrate, and that bidirectional transport across the NPC proceeds by repeated docking and undocking reactions.\n",
      "\n",
      "generated_summary\n",
      "\n"
     ]
    },
    {
     "data": {
      "application/vnd.jupyter.widget-view+json": {
       "model_id": "67e16fca7a0c405989cdc91951dc0604",
       "version_major": 2,
       "version_minor": 0
      },
      "text/plain": [
       "  0%|          | 0/100 [00:00<?, ?it/s]"
      ]
     },
     "metadata": {},
     "output_type": "display_data"
    },
    {
     "name": "stdout",
     "output_type": "stream",
     "text": [
      "The CXC chemokine stromal cell-derived factor activates a Gi-coupled phosphoinositide 3-kinase in T lymphocytes. The cellular effects of stromal cell-derived factor-1 (SDF-1) are mediated primarily by binding to the CXC chemokine receptor-4. We report in this study that SDF-1 and its peptide analogues induce a concentration- and time-dependent accumulation of phosphatidylinositol-(3,4,5)-trisphosphate (PtdIns(3,4,5)P3) in Jurkat cells. This SDF-1-stimulated generation of D-3 phosphoinositide lipids was inhibited by pretreatment of the cells with an SDF-1 peptide antagonist or an anti-CXCR4 Ab. In addition, the phosphoinositide 3 (PI 3)-kinase inhibitors wortmannin and LY294002, as well as the Gi protein inhibitor pertussis toxin, also inhibited the SDF-1-stimulated accumulation of PtdIns(3,4,5)P3. The effects of SDF-1 on D-3 phosphoinositide lipid accumulation correlated well with activation of the known PI 3-kinase effector protein kinase B, which was also inhibited by wortmannin and pertussis toxin. Concentrations of PI 3-kinase inhibitors, sufficient to inhibit PtdIns(3,4,5)P3 accumulation, also inhibited chemotaxis of Jurkat and peripheral blood-derived T lymphocytes in response to SDF-1. In contrast, SDF-1-stimulated actin polymerization was only partially inhibited by PI 3-kinase inhibitors, suggesting that while chemotaxis is fully dependent on PI 3-kinase activation, actin polymerization requires additional biochemical inputs. Finally, SDF-1-stimulated extracellular signal-related kinase (ERK)-1/2 mitogen-activated protein kinase activation was inhibited by PI 3-kinase inhibitors. In addition, the mitogen-activated protein/ERK kinase inhibitor PD098059 partially attenuated chemotaxis in response to SDF-1. Hence, it appears that ERK1/2 activation is dependent on PI 3-kinase activation, and both biochemical events are involved in the regulation of SDF-1-stimulated chemotaxis.\n",
      "\n",
      "generated_summary\n",
      "\n",
      "loss: 0.0710662305355072\n",
      "\n",
      "loss: 0.04738399013876915\n",
      "\n",
      "loss: 0.06708112359046936\n",
      "\n",
      "loss: 0.06487993896007538\n",
      "\n",
      "loss: 0.06074616312980652\n",
      "\n",
      "loss: 0.053822111338377\n",
      "\n",
      "loss: 0.033804964274168015\n",
      "\n",
      "loss: 0.07300641387701035\n",
      "\n",
      "loss: 0.03479795157909393\n",
      "\n",
      "loss: 0.06875477731227875\n",
      "\n"
     ]
    },
    {
     "data": {
      "application/vnd.jupyter.widget-view+json": {
       "model_id": "484b20c863604dbca22c33c5ec3d7589",
       "version_major": 2,
       "version_minor": 0
      },
      "text/plain": [
       "Evaluating:   0%|          | 0/770 [00:00<?, ?it/s]"
      ]
     },
     "metadata": {},
     "output_type": "display_data"
    },
    {
     "name": "stdout",
     "output_type": "stream",
     "text": [
      "perplexity: 5.6547346115112305\n",
      "After 611 updates: \n",
      "\n"
     ]
    },
    {
     "data": {
      "application/vnd.jupyter.widget-view+json": {
       "model_id": "be5adf68eaa74536b9f47068a6feb16a",
       "version_major": 2,
       "version_minor": 0
      },
      "text/plain": [
       "  0%|          | 0/100 [00:00<?, ?it/s]"
      ]
     },
     "metadata": {},
     "output_type": "display_data"
    },
    {
     "name": "stdout",
     "output_type": "stream",
     "text": [
      "The peptide repeat domain of nucleoporin Nup98 functions as a docking site in transport across the nuclear pore complex. We report the cDNA deduced primary structure of a wheat germ agglutinin-reactive nuclear pore complex (NPC) protein of rat. The protein, termed Nup98 (for nucleoporin of 98 kDa), contains numerous GLFG and FG repeats and some FXFG repeats and is thus a vertebrate member of a family of GLFG nucleoporins that were previously discovered in yeast. Immunoelectron microscopy showed Nup98 to be asymmetrically located at the nucleoplasmic side of the NPC. Nup98 functions as one of several docking site nucleoporins in a cytosolic docking activity-mediated binding of a model transport substrate. The docking site of Nup98 was mapped to its N-terminal half, which contains all of the peptide repeats. A recombinant segment of this region depleted the docking activity of cytosol. We suggest that the peptide repeat domain of Nup98, together with peptide repeat domains of other nucleoporins, forms an array of sites for mediated docking of transport substrate, and that bidirectional transport across the NPC proceeds by repeated docking and undocking reactions.\n",
      "\n",
      "generated_summary\n",
      "\n"
     ]
    },
    {
     "data": {
      "application/vnd.jupyter.widget-view+json": {
       "model_id": "78b99ef50f494ea9bce8fb7f8522b5a3",
       "version_major": 2,
       "version_minor": 0
      },
      "text/plain": [
       "  0%|          | 0/100 [00:00<?, ?it/s]"
      ]
     },
     "metadata": {},
     "output_type": "display_data"
    },
    {
     "name": "stdout",
     "output_type": "stream",
     "text": [
      "The CXC chemokine stromal cell-derived factor activates a Gi-coupled phosphoinositide 3-kinase in T lymphocytes. The cellular effects of stromal cell-derived factor-1 (SDF-1) are mediated primarily by binding to the CXC chemokine receptor-4. We report in this study that SDF-1 and its peptide analogues induce a concentration- and time-dependent accumulation of phosphatidylinositol-(3,4,5)-trisphosphate (PtdIns(3,4,5)P3) in Jurkat cells. This SDF-1-stimulated generation of D-3 phosphoinositide lipids was inhibited by pretreatment of the cells with an SDF-1 peptide antagonist or an anti-CXCR4 Ab. In addition, the phosphoinositide 3 (PI 3)-kinase inhibitors wortmannin and LY294002, as well as the Gi protein inhibitor pertussis toxin, also inhibited the SDF-1-stimulated accumulation of PtdIns(3,4,5)P3. The effects of SDF-1 on D-3 phosphoinositide lipid accumulation correlated well with activation of the known PI 3-kinase effector protein kinase B, which was also inhibited by wortmannin and pertussis toxin. Concentrations of PI 3-kinase inhibitors, sufficient to inhibit PtdIns(3,4,5)P3 accumulation, also inhibited chemotaxis of Jurkat and peripheral blood-derived T lymphocytes in response to SDF-1. In contrast, SDF-1-stimulated actin polymerization was only partially inhibited by PI 3-kinase inhibitors, suggesting that while chemotaxis is fully dependent on PI 3-kinase activation, actin polymerization requires additional biochemical inputs. Finally, SDF-1-stimulated extracellular signal-related kinase (ERK)-1/2 mitogen-activated protein kinase activation was inhibited by PI 3-kinase inhibitors. In addition, the mitogen-activated protein/ERK kinase inhibitor PD098059 partially attenuated chemotaxis in response to SDF-1. Hence, it appears that ERK1/2 activation is dependent on PI 3-kinase activation, and both biochemical events are involved in the regulation of SDF-1-stimulated chemotaxis.\n",
      "\n",
      "generated_summary\n",
      "\n",
      "loss: 0.09713029116392136\n",
      "\n",
      "loss: 0.06573093682527542\n",
      "\n",
      "loss: 0.02105235680937767\n",
      "\n",
      "loss: 0.07991840690374374\n",
      "\n",
      "loss: 0.06879746913909912\n",
      "\n",
      "loss: 0.071029894053936\n",
      "\n",
      "loss: 0.042815953493118286\n",
      "\n",
      "loss: 0.02899310737848282\n",
      "\n",
      "loss: 0.043082237243652344\n",
      "\n",
      "loss: 0.04613998159766197\n",
      "\n"
     ]
    },
    {
     "data": {
      "application/vnd.jupyter.widget-view+json": {
       "model_id": "8faca5c00b7f4e74bcafa7eba069a305",
       "version_major": 2,
       "version_minor": 0
      },
      "text/plain": [
       "Evaluating:   0%|          | 0/770 [00:00<?, ?it/s]"
      ]
     },
     "metadata": {},
     "output_type": "display_data"
    },
    {
     "name": "stdout",
     "output_type": "stream",
     "text": [
      "perplexity: 5.611043453216553\n",
      "After 621 updates: \n",
      "\n"
     ]
    },
    {
     "data": {
      "application/vnd.jupyter.widget-view+json": {
       "model_id": "34555deb300e4fe995188f77860835c3",
       "version_major": 2,
       "version_minor": 0
      },
      "text/plain": [
       "  0%|          | 0/100 [00:00<?, ?it/s]"
      ]
     },
     "metadata": {},
     "output_type": "display_data"
    },
    {
     "name": "stdout",
     "output_type": "stream",
     "text": [
      "The peptide repeat domain of nucleoporin Nup98 functions as a docking site in transport across the nuclear pore complex. We report the cDNA deduced primary structure of a wheat germ agglutinin-reactive nuclear pore complex (NPC) protein of rat. The protein, termed Nup98 (for nucleoporin of 98 kDa), contains numerous GLFG and FG repeats and some FXFG repeats and is thus a vertebrate member of a family of GLFG nucleoporins that were previously discovered in yeast. Immunoelectron microscopy showed Nup98 to be asymmetrically located at the nucleoplasmic side of the NPC. Nup98 functions as one of several docking site nucleoporins in a cytosolic docking activity-mediated binding of a model transport substrate. The docking site of Nup98 was mapped to its N-terminal half, which contains all of the peptide repeats. A recombinant segment of this region depleted the docking activity of cytosol. We suggest that the peptide repeat domain of Nup98, together with peptide repeat domains of other nucleoporins, forms an array of sites for mediated docking of transport substrate, and that bidirectional transport across the NPC proceeds by repeated docking and undocking reactions.\n",
      "\n",
      "generated_summary\n",
      "\n"
     ]
    },
    {
     "data": {
      "application/vnd.jupyter.widget-view+json": {
       "model_id": "67b26325b9f64272b45afdd11608030d",
       "version_major": 2,
       "version_minor": 0
      },
      "text/plain": [
       "  0%|          | 0/100 [00:00<?, ?it/s]"
      ]
     },
     "metadata": {},
     "output_type": "display_data"
    },
    {
     "name": "stdout",
     "output_type": "stream",
     "text": [
      "The CXC chemokine stromal cell-derived factor activates a Gi-coupled phosphoinositide 3-kinase in T lymphocytes. The cellular effects of stromal cell-derived factor-1 (SDF-1) are mediated primarily by binding to the CXC chemokine receptor-4. We report in this study that SDF-1 and its peptide analogues induce a concentration- and time-dependent accumulation of phosphatidylinositol-(3,4,5)-trisphosphate (PtdIns(3,4,5)P3) in Jurkat cells. This SDF-1-stimulated generation of D-3 phosphoinositide lipids was inhibited by pretreatment of the cells with an SDF-1 peptide antagonist or an anti-CXCR4 Ab. In addition, the phosphoinositide 3 (PI 3)-kinase inhibitors wortmannin and LY294002, as well as the Gi protein inhibitor pertussis toxin, also inhibited the SDF-1-stimulated accumulation of PtdIns(3,4,5)P3. The effects of SDF-1 on D-3 phosphoinositide lipid accumulation correlated well with activation of the known PI 3-kinase effector protein kinase B, which was also inhibited by wortmannin and pertussis toxin. Concentrations of PI 3-kinase inhibitors, sufficient to inhibit PtdIns(3,4,5)P3 accumulation, also inhibited chemotaxis of Jurkat and peripheral blood-derived T lymphocytes in response to SDF-1. In contrast, SDF-1-stimulated actin polymerization was only partially inhibited by PI 3-kinase inhibitors, suggesting that while chemotaxis is fully dependent on PI 3-kinase activation, actin polymerization requires additional biochemical inputs. Finally, SDF-1-stimulated extracellular signal-related kinase (ERK)-1/2 mitogen-activated protein kinase activation was inhibited by PI 3-kinase inhibitors. In addition, the mitogen-activated protein/ERK kinase inhibitor PD098059 partially attenuated chemotaxis in response to SDF-1. Hence, it appears that ERK1/2 activation is dependent on PI 3-kinase activation, and both biochemical events are involved in the regulation of SDF-1-stimulated chemotaxis.\n",
      "\n",
      "generated_summary\n",
      "\n",
      "loss: 0.0780165046453476\n",
      "\n",
      "loss: 0.03552720323204994\n",
      "\n",
      "loss: 0.023829225450754166\n",
      "\n",
      "loss: 0.05491049587726593\n",
      "\n",
      "loss: 0.050501927733421326\n",
      "\n",
      "loss: 0.064084991812706\n",
      "\n",
      "loss: 0.08948887884616852\n",
      "\n",
      "loss: 0.04651525989174843\n",
      "\n",
      "loss: 0.06080649420619011\n",
      "\n",
      "loss: 0.018355974927544594\n",
      "\n"
     ]
    },
    {
     "data": {
      "application/vnd.jupyter.widget-view+json": {
       "model_id": "f5348e788d93461281766133dc787471",
       "version_major": 2,
       "version_minor": 0
      },
      "text/plain": [
       "Evaluating:   0%|          | 0/770 [00:00<?, ?it/s]"
      ]
     },
     "metadata": {},
     "output_type": "display_data"
    },
    {
     "name": "stdout",
     "output_type": "stream",
     "text": [
      "perplexity: 5.6118035316467285\n",
      "After 631 updates: \n",
      "\n"
     ]
    },
    {
     "data": {
      "application/vnd.jupyter.widget-view+json": {
       "model_id": "c007790740ed4ca7955e6eb8d3b89d43",
       "version_major": 2,
       "version_minor": 0
      },
      "text/plain": [
       "  0%|          | 0/100 [00:00<?, ?it/s]"
      ]
     },
     "metadata": {},
     "output_type": "display_data"
    },
    {
     "name": "stdout",
     "output_type": "stream",
     "text": [
      "The peptide repeat domain of nucleoporin Nup98 functions as a docking site in transport across the nuclear pore complex. We report the cDNA deduced primary structure of a wheat germ agglutinin-reactive nuclear pore complex (NPC) protein of rat. The protein, termed Nup98 (for nucleoporin of 98 kDa), contains numerous GLFG and FG repeats and some FXFG repeats and is thus a vertebrate member of a family of GLFG nucleoporins that were previously discovered in yeast. Immunoelectron microscopy showed Nup98 to be asymmetrically located at the nucleoplasmic side of the NPC. Nup98 functions as one of several docking site nucleoporins in a cytosolic docking activity-mediated binding of a model transport substrate. The docking site of Nup98 was mapped to its N-terminal half, which contains all of the peptide repeats. A recombinant segment of this region depleted the docking activity of cytosol. We suggest that the peptide repeat domain of Nup98, together with peptide repeat domains of other nucleoporins, forms an array of sites for mediated docking of transport substrate, and that bidirectional transport across the NPC proceeds by repeated docking and undocking reactions.\n",
      "\n",
      "generated_summary\n",
      "\n"
     ]
    },
    {
     "data": {
      "application/vnd.jupyter.widget-view+json": {
       "model_id": "648da71c06074bd9ac1d43ff5c022b77",
       "version_major": 2,
       "version_minor": 0
      },
      "text/plain": [
       "  0%|          | 0/100 [00:00<?, ?it/s]"
      ]
     },
     "metadata": {},
     "output_type": "display_data"
    },
    {
     "name": "stdout",
     "output_type": "stream",
     "text": [
      "The CXC chemokine stromal cell-derived factor activates a Gi-coupled phosphoinositide 3-kinase in T lymphocytes. The cellular effects of stromal cell-derived factor-1 (SDF-1) are mediated primarily by binding to the CXC chemokine receptor-4. We report in this study that SDF-1 and its peptide analogues induce a concentration- and time-dependent accumulation of phosphatidylinositol-(3,4,5)-trisphosphate (PtdIns(3,4,5)P3) in Jurkat cells. This SDF-1-stimulated generation of D-3 phosphoinositide lipids was inhibited by pretreatment of the cells with an SDF-1 peptide antagonist or an anti-CXCR4 Ab. In addition, the phosphoinositide 3 (PI 3)-kinase inhibitors wortmannin and LY294002, as well as the Gi protein inhibitor pertussis toxin, also inhibited the SDF-1-stimulated accumulation of PtdIns(3,4,5)P3. The effects of SDF-1 on D-3 phosphoinositide lipid accumulation correlated well with activation of the known PI 3-kinase effector protein kinase B, which was also inhibited by wortmannin and pertussis toxin. Concentrations of PI 3-kinase inhibitors, sufficient to inhibit PtdIns(3,4,5)P3 accumulation, also inhibited chemotaxis of Jurkat and peripheral blood-derived T lymphocytes in response to SDF-1. In contrast, SDF-1-stimulated actin polymerization was only partially inhibited by PI 3-kinase inhibitors, suggesting that while chemotaxis is fully dependent on PI 3-kinase activation, actin polymerization requires additional biochemical inputs. Finally, SDF-1-stimulated extracellular signal-related kinase (ERK)-1/2 mitogen-activated protein kinase activation was inhibited by PI 3-kinase inhibitors. In addition, the mitogen-activated protein/ERK kinase inhibitor PD098059 partially attenuated chemotaxis in response to SDF-1. Hence, it appears that ERK1/2 activation is dependent on PI 3-kinase activation, and both biochemical events are involved in the regulation of SDF-1-stimulated chemotaxis.\n",
      "\n",
      "generated_summary\n",
      "\n",
      "loss: 0.029560456052422523\n",
      "\n",
      "loss: 0.061366621404886246\n",
      "\n",
      "loss: 0.04259861260652542\n",
      "\n",
      "loss: 0.054303769022226334\n",
      "\n",
      "loss: 0.04063166677951813\n",
      "\n",
      "loss: 0.031712856143713\n",
      "\n",
      "loss: 0.027646390721201897\n",
      "\n",
      "loss: 0.08244378864765167\n",
      "\n",
      "loss: 0.027413757517933846\n",
      "\n",
      "loss: 0.05713759735226631\n",
      "\n"
     ]
    },
    {
     "data": {
      "application/vnd.jupyter.widget-view+json": {
       "model_id": "b1ab01f61aba4f58ab7ec0b2966079d7",
       "version_major": 2,
       "version_minor": 0
      },
      "text/plain": [
       "Evaluating:   0%|          | 0/770 [00:00<?, ?it/s]"
      ]
     },
     "metadata": {},
     "output_type": "display_data"
    },
    {
     "name": "stdout",
     "output_type": "stream",
     "text": [
      "perplexity: 5.587007522583008\n",
      "After 641 updates: \n",
      "\n"
     ]
    },
    {
     "data": {
      "application/vnd.jupyter.widget-view+json": {
       "model_id": "f26f07cea8934a238bfb9824e04d0084",
       "version_major": 2,
       "version_minor": 0
      },
      "text/plain": [
       "  0%|          | 0/100 [00:00<?, ?it/s]"
      ]
     },
     "metadata": {},
     "output_type": "display_data"
    },
    {
     "name": "stdout",
     "output_type": "stream",
     "text": [
      "The peptide repeat domain of nucleoporin Nup98 functions as a docking site in transport across the nuclear pore complex. We report the cDNA deduced primary structure of a wheat germ agglutinin-reactive nuclear pore complex (NPC) protein of rat. The protein, termed Nup98 (for nucleoporin of 98 kDa), contains numerous GLFG and FG repeats and some FXFG repeats and is thus a vertebrate member of a family of GLFG nucleoporins that were previously discovered in yeast. Immunoelectron microscopy showed Nup98 to be asymmetrically located at the nucleoplasmic side of the NPC. Nup98 functions as one of several docking site nucleoporins in a cytosolic docking activity-mediated binding of a model transport substrate. The docking site of Nup98 was mapped to its N-terminal half, which contains all of the peptide repeats. A recombinant segment of this region depleted the docking activity of cytosol. We suggest that the peptide repeat domain of Nup98, together with peptide repeat domains of other nucleoporins, forms an array of sites for mediated docking of transport substrate, and that bidirectional transport across the NPC proceeds by repeated docking and undocking reactions.\n",
      "\n",
      "generated_summary\n",
      "\n"
     ]
    },
    {
     "data": {
      "application/vnd.jupyter.widget-view+json": {
       "model_id": "2a17794249314bd8bc4ca2ccab1d6f42",
       "version_major": 2,
       "version_minor": 0
      },
      "text/plain": [
       "  0%|          | 0/100 [00:00<?, ?it/s]"
      ]
     },
     "metadata": {},
     "output_type": "display_data"
    },
    {
     "name": "stdout",
     "output_type": "stream",
     "text": [
      "The CXC chemokine stromal cell-derived factor activates a Gi-coupled phosphoinositide 3-kinase in T lymphocytes. The cellular effects of stromal cell-derived factor-1 (SDF-1) are mediated primarily by binding to the CXC chemokine receptor-4. We report in this study that SDF-1 and its peptide analogues induce a concentration- and time-dependent accumulation of phosphatidylinositol-(3,4,5)-trisphosphate (PtdIns(3,4,5)P3) in Jurkat cells. This SDF-1-stimulated generation of D-3 phosphoinositide lipids was inhibited by pretreatment of the cells with an SDF-1 peptide antagonist or an anti-CXCR4 Ab. In addition, the phosphoinositide 3 (PI 3)-kinase inhibitors wortmannin and LY294002, as well as the Gi protein inhibitor pertussis toxin, also inhibited the SDF-1-stimulated accumulation of PtdIns(3,4,5)P3. The effects of SDF-1 on D-3 phosphoinositide lipid accumulation correlated well with activation of the known PI 3-kinase effector protein kinase B, which was also inhibited by wortmannin and pertussis toxin. Concentrations of PI 3-kinase inhibitors, sufficient to inhibit PtdIns(3,4,5)P3 accumulation, also inhibited chemotaxis of Jurkat and peripheral blood-derived T lymphocytes in response to SDF-1. In contrast, SDF-1-stimulated actin polymerization was only partially inhibited by PI 3-kinase inhibitors, suggesting that while chemotaxis is fully dependent on PI 3-kinase activation, actin polymerization requires additional biochemical inputs. Finally, SDF-1-stimulated extracellular signal-related kinase (ERK)-1/2 mitogen-activated protein kinase activation was inhibited by PI 3-kinase inhibitors. In addition, the mitogen-activated protein/ERK kinase inhibitor PD098059 partially attenuated chemotaxis in response to SDF-1. Hence, it appears that ERK1/2 activation is dependent on PI 3-kinase activation, and both biochemical events are involved in the regulation of SDF-1-stimulated chemotaxis.\n",
      "\n",
      "generated_summary\n",
      "\n",
      "loss: 0.06757276505231857\n",
      "\n",
      "loss: 0.049464695155620575\n",
      "\n",
      "loss: 0.051985688507556915\n",
      "\n",
      "loss: 0.05206163227558136\n",
      "\n",
      "loss: 0.07447528094053268\n",
      "\n",
      "loss: 0.06426191329956055\n",
      "\n",
      "loss: 0.11249567568302155\n",
      "\n",
      "loss: 0.048570577055215836\n",
      "\n",
      "loss: 0.047433819621801376\n",
      "\n",
      "loss: 0.050813619047403336\n",
      "\n"
     ]
    },
    {
     "data": {
      "application/vnd.jupyter.widget-view+json": {
       "model_id": "7d2692ab7da74b59971d82837c849283",
       "version_major": 2,
       "version_minor": 0
      },
      "text/plain": [
       "Evaluating:   0%|          | 0/770 [00:00<?, ?it/s]"
      ]
     },
     "metadata": {},
     "output_type": "display_data"
    },
    {
     "name": "stdout",
     "output_type": "stream",
     "text": [
      "perplexity: 5.3159918785095215\n",
      "After 651 updates: \n",
      "\n"
     ]
    },
    {
     "data": {
      "application/vnd.jupyter.widget-view+json": {
       "model_id": "4504ed97cb0643dab0399c5e8796e669",
       "version_major": 2,
       "version_minor": 0
      },
      "text/plain": [
       "  0%|          | 0/100 [00:00<?, ?it/s]"
      ]
     },
     "metadata": {},
     "output_type": "display_data"
    },
    {
     "name": "stdout",
     "output_type": "stream",
     "text": [
      "The peptide repeat domain of nucleoporin Nup98 functions as a docking site in transport across the nuclear pore complex. We report the cDNA deduced primary structure of a wheat germ agglutinin-reactive nuclear pore complex (NPC) protein of rat. The protein, termed Nup98 (for nucleoporin of 98 kDa), contains numerous GLFG and FG repeats and some FXFG repeats and is thus a vertebrate member of a family of GLFG nucleoporins that were previously discovered in yeast. Immunoelectron microscopy showed Nup98 to be asymmetrically located at the nucleoplasmic side of the NPC. Nup98 functions as one of several docking site nucleoporins in a cytosolic docking activity-mediated binding of a model transport substrate. The docking site of Nup98 was mapped to its N-terminal half, which contains all of the peptide repeats. A recombinant segment of this region depleted the docking activity of cytosol. We suggest that the peptide repeat domain of Nup98, together with peptide repeat domains of other nucleoporins, forms an array of sites for mediated docking of transport substrate, and that bidirectional transport across the NPC proceeds by repeated docking and undocking reactions.\n",
      "\n",
      "generated_summary\n",
      "\n"
     ]
    },
    {
     "data": {
      "application/vnd.jupyter.widget-view+json": {
       "model_id": "91e0c1f1b96e4c6f8147c315dcccb80f",
       "version_major": 2,
       "version_minor": 0
      },
      "text/plain": [
       "  0%|          | 0/100 [00:00<?, ?it/s]"
      ]
     },
     "metadata": {},
     "output_type": "display_data"
    },
    {
     "name": "stdout",
     "output_type": "stream",
     "text": [
      "The CXC chemokine stromal cell-derived factor activates a Gi-coupled phosphoinositide 3-kinase in T lymphocytes. The cellular effects of stromal cell-derived factor-1 (SDF-1) are mediated primarily by binding to the CXC chemokine receptor-4. We report in this study that SDF-1 and its peptide analogues induce a concentration- and time-dependent accumulation of phosphatidylinositol-(3,4,5)-trisphosphate (PtdIns(3,4,5)P3) in Jurkat cells. This SDF-1-stimulated generation of D-3 phosphoinositide lipids was inhibited by pretreatment of the cells with an SDF-1 peptide antagonist or an anti-CXCR4 Ab. In addition, the phosphoinositide 3 (PI 3)-kinase inhibitors wortmannin and LY294002, as well as the Gi protein inhibitor pertussis toxin, also inhibited the SDF-1-stimulated accumulation of PtdIns(3,4,5)P3. The effects of SDF-1 on D-3 phosphoinositide lipid accumulation correlated well with activation of the known PI 3-kinase effector protein kinase B, which was also inhibited by wortmannin and pertussis toxin. Concentrations of PI 3-kinase inhibitors, sufficient to inhibit PtdIns(3,4,5)P3 accumulation, also inhibited chemotaxis of Jurkat and peripheral blood-derived T lymphocytes in response to SDF-1. In contrast, SDF-1-stimulated actin polymerization was only partially inhibited by PI 3-kinase inhibitors, suggesting that while chemotaxis is fully dependent on PI 3-kinase activation, actin polymerization requires additional biochemical inputs. Finally, SDF-1-stimulated extracellular signal-related kinase (ERK)-1/2 mitogen-activated protein kinase activation was inhibited by PI 3-kinase inhibitors. In addition, the mitogen-activated protein/ERK kinase inhibitor PD098059 partially attenuated chemotaxis in response to SDF-1. Hence, it appears that ERK1/2 activation is dependent on PI 3-kinase activation, and both biochemical events are involved in the regulation of SDF-1-stimulated chemotaxis.\n",
      "\n",
      "generated_summary\n",
      "\n",
      "loss: 0.05710174888372421\n",
      "\n",
      "loss: 0.04765773564577103\n",
      "\n",
      "loss: 0.09740208089351654\n",
      "\n",
      "loss: 0.07477263361215591\n",
      "\n",
      "loss: 0.050133053213357925\n",
      "\n",
      "loss: 0.04498082026839256\n",
      "\n",
      "loss: 0.06466992944478989\n",
      "\n",
      "loss: 0.051613371819257736\n",
      "\n",
      "loss: 0.06738308072090149\n",
      "\n",
      "loss: 0.039133790880441666\n",
      "\n"
     ]
    },
    {
     "data": {
      "application/vnd.jupyter.widget-view+json": {
       "model_id": "f842f3bb147047f499992e3ae33cadb4",
       "version_major": 2,
       "version_minor": 0
      },
      "text/plain": [
       "Evaluating:   0%|          | 0/770 [00:00<?, ?it/s]"
      ]
     },
     "metadata": {},
     "output_type": "display_data"
    },
    {
     "name": "stdout",
     "output_type": "stream",
     "text": [
      "perplexity: 5.299841403961182\n",
      "After 661 updates: \n",
      "\n"
     ]
    },
    {
     "data": {
      "application/vnd.jupyter.widget-view+json": {
       "model_id": "b4cdd0791dd543d494a9039e63ae731e",
       "version_major": 2,
       "version_minor": 0
      },
      "text/plain": [
       "  0%|          | 0/100 [00:00<?, ?it/s]"
      ]
     },
     "metadata": {},
     "output_type": "display_data"
    },
    {
     "name": "stdout",
     "output_type": "stream",
     "text": [
      "The peptide repeat domain of nucleoporin Nup98 functions as a docking site in transport across the nuclear pore complex. We report the cDNA deduced primary structure of a wheat germ agglutinin-reactive nuclear pore complex (NPC) protein of rat. The protein, termed Nup98 (for nucleoporin of 98 kDa), contains numerous GLFG and FG repeats and some FXFG repeats and is thus a vertebrate member of a family of GLFG nucleoporins that were previously discovered in yeast. Immunoelectron microscopy showed Nup98 to be asymmetrically located at the nucleoplasmic side of the NPC. Nup98 functions as one of several docking site nucleoporins in a cytosolic docking activity-mediated binding of a model transport substrate. The docking site of Nup98 was mapped to its N-terminal half, which contains all of the peptide repeats. A recombinant segment of this region depleted the docking activity of cytosol. We suggest that the peptide repeat domain of Nup98, together with peptide repeat domains of other nucleoporins, forms an array of sites for mediated docking of transport substrate, and that bidirectional transport across the NPC proceeds by repeated docking and undocking reactions.\n",
      "\n",
      "generated_summary\n",
      "\n"
     ]
    },
    {
     "data": {
      "application/vnd.jupyter.widget-view+json": {
       "model_id": "219dc430058a4cb68cc5cea7f2558e16",
       "version_major": 2,
       "version_minor": 0
      },
      "text/plain": [
       "  0%|          | 0/100 [00:00<?, ?it/s]"
      ]
     },
     "metadata": {},
     "output_type": "display_data"
    },
    {
     "name": "stdout",
     "output_type": "stream",
     "text": [
      "The CXC chemokine stromal cell-derived factor activates a Gi-coupled phosphoinositide 3-kinase in T lymphocytes. The cellular effects of stromal cell-derived factor-1 (SDF-1) are mediated primarily by binding to the CXC chemokine receptor-4. We report in this study that SDF-1 and its peptide analogues induce a concentration- and time-dependent accumulation of phosphatidylinositol-(3,4,5)-trisphosphate (PtdIns(3,4,5)P3) in Jurkat cells. This SDF-1-stimulated generation of D-3 phosphoinositide lipids was inhibited by pretreatment of the cells with an SDF-1 peptide antagonist or an anti-CXCR4 Ab. In addition, the phosphoinositide 3 (PI 3)-kinase inhibitors wortmannin and LY294002, as well as the Gi protein inhibitor pertussis toxin, also inhibited the SDF-1-stimulated accumulation of PtdIns(3,4,5)P3. The effects of SDF-1 on D-3 phosphoinositide lipid accumulation correlated well with activation of the known PI 3-kinase effector protein kinase B, which was also inhibited by wortmannin and pertussis toxin. Concentrations of PI 3-kinase inhibitors, sufficient to inhibit PtdIns(3,4,5)P3 accumulation, also inhibited chemotaxis of Jurkat and peripheral blood-derived T lymphocytes in response to SDF-1. In contrast, SDF-1-stimulated actin polymerization was only partially inhibited by PI 3-kinase inhibitors, suggesting that while chemotaxis is fully dependent on PI 3-kinase activation, actin polymerization requires additional biochemical inputs. Finally, SDF-1-stimulated extracellular signal-related kinase (ERK)-1/2 mitogen-activated protein kinase activation was inhibited by PI 3-kinase inhibitors. In addition, the mitogen-activated protein/ERK kinase inhibitor PD098059 partially attenuated chemotaxis in response to SDF-1. Hence, it appears that ERK1/2 activation is dependent on PI 3-kinase activation, and both biochemical events are involved in the regulation of SDF-1-stimulated chemotaxis.\n",
      "\n",
      "generated_summary\n",
      "\n",
      "loss: 0.030473578721284866\n",
      "\n",
      "loss: 0.07865443080663681\n",
      "\n",
      "loss: 0.04147423058748245\n",
      "\n",
      "loss: 0.05906202271580696\n",
      "\n",
      "loss: 0.08250438421964645\n",
      "\n",
      "loss: 0.024249639362096786\n",
      "\n",
      "loss: 0.028634313493967056\n",
      "\n",
      "loss: 0.037653643637895584\n",
      "\n",
      "loss: 0.053873077034950256\n",
      "\n",
      "loss: 0.024373268708586693\n",
      "\n"
     ]
    },
    {
     "data": {
      "application/vnd.jupyter.widget-view+json": {
       "model_id": "f1773d8ddbb349ec9edeed7f1e93281d",
       "version_major": 2,
       "version_minor": 0
      },
      "text/plain": [
       "Evaluating:   0%|          | 0/770 [00:00<?, ?it/s]"
      ]
     },
     "metadata": {},
     "output_type": "display_data"
    },
    {
     "name": "stdout",
     "output_type": "stream",
     "text": [
      "perplexity: 5.3822855949401855\n",
      "After 671 updates: \n",
      "\n"
     ]
    },
    {
     "data": {
      "application/vnd.jupyter.widget-view+json": {
       "model_id": "845529bd3b384091ab08c8d5bac04f8d",
       "version_major": 2,
       "version_minor": 0
      },
      "text/plain": [
       "  0%|          | 0/100 [00:00<?, ?it/s]"
      ]
     },
     "metadata": {},
     "output_type": "display_data"
    },
    {
     "name": "stdout",
     "output_type": "stream",
     "text": [
      "The peptide repeat domain of nucleoporin Nup98 functions as a docking site in transport across the nuclear pore complex. We report the cDNA deduced primary structure of a wheat germ agglutinin-reactive nuclear pore complex (NPC) protein of rat. The protein, termed Nup98 (for nucleoporin of 98 kDa), contains numerous GLFG and FG repeats and some FXFG repeats and is thus a vertebrate member of a family of GLFG nucleoporins that were previously discovered in yeast. Immunoelectron microscopy showed Nup98 to be asymmetrically located at the nucleoplasmic side of the NPC. Nup98 functions as one of several docking site nucleoporins in a cytosolic docking activity-mediated binding of a model transport substrate. The docking site of Nup98 was mapped to its N-terminal half, which contains all of the peptide repeats. A recombinant segment of this region depleted the docking activity of cytosol. We suggest that the peptide repeat domain of Nup98, together with peptide repeat domains of other nucleoporins, forms an array of sites for mediated docking of transport substrate, and that bidirectional transport across the NPC proceeds by repeated docking and undocking reactions.\n",
      "\n",
      "generated_summary\n",
      "\n"
     ]
    },
    {
     "data": {
      "application/vnd.jupyter.widget-view+json": {
       "model_id": "5b59dd4cefd747e387b0b22c026816d2",
       "version_major": 2,
       "version_minor": 0
      },
      "text/plain": [
       "  0%|          | 0/100 [00:00<?, ?it/s]"
      ]
     },
     "metadata": {},
     "output_type": "display_data"
    },
    {
     "name": "stdout",
     "output_type": "stream",
     "text": [
      "The CXC chemokine stromal cell-derived factor activates a Gi-coupled phosphoinositide 3-kinase in T lymphocytes. The cellular effects of stromal cell-derived factor-1 (SDF-1) are mediated primarily by binding to the CXC chemokine receptor-4. We report in this study that SDF-1 and its peptide analogues induce a concentration- and time-dependent accumulation of phosphatidylinositol-(3,4,5)-trisphosphate (PtdIns(3,4,5)P3) in Jurkat cells. This SDF-1-stimulated generation of D-3 phosphoinositide lipids was inhibited by pretreatment of the cells with an SDF-1 peptide antagonist or an anti-CXCR4 Ab. In addition, the phosphoinositide 3 (PI 3)-kinase inhibitors wortmannin and LY294002, as well as the Gi protein inhibitor pertussis toxin, also inhibited the SDF-1-stimulated accumulation of PtdIns(3,4,5)P3. The effects of SDF-1 on D-3 phosphoinositide lipid accumulation correlated well with activation of the known PI 3-kinase effector protein kinase B, which was also inhibited by wortmannin and pertussis toxin. Concentrations of PI 3-kinase inhibitors, sufficient to inhibit PtdIns(3,4,5)P3 accumulation, also inhibited chemotaxis of Jurkat and peripheral blood-derived T lymphocytes in response to SDF-1. In contrast, SDF-1-stimulated actin polymerization was only partially inhibited by PI 3-kinase inhibitors, suggesting that while chemotaxis is fully dependent on PI 3-kinase activation, actin polymerization requires additional biochemical inputs. Finally, SDF-1-stimulated extracellular signal-related kinase (ERK)-1/2 mitogen-activated protein kinase activation was inhibited by PI 3-kinase inhibitors. In addition, the mitogen-activated protein/ERK kinase inhibitor PD098059 partially attenuated chemotaxis in response to SDF-1. Hence, it appears that ERK1/2 activation is dependent on PI 3-kinase activation, and both biochemical events are involved in the regulation of SDF-1-stimulated chemotaxis.\n",
      "\n",
      "generated_summary\n",
      "\n",
      "loss: 0.02925778739154339\n",
      "\n",
      "loss: 0.08840783685445786\n",
      "\n",
      "loss: 0.04119659215211868\n",
      "\n",
      "loss: 0.07813022285699844\n",
      "\n",
      "loss: 0.034605056047439575\n",
      "\n",
      "loss: 0.025375846773386\n",
      "\n",
      "loss: 0.045868974179029465\n",
      "\n",
      "loss: 0.08535636216402054\n",
      "\n",
      "loss: 0.03425949066877365\n",
      "\n",
      "loss: 0.04379013180732727\n",
      "\n"
     ]
    },
    {
     "data": {
      "application/vnd.jupyter.widget-view+json": {
       "model_id": "f25d8bec302b463c8dadede140208255",
       "version_major": 2,
       "version_minor": 0
      },
      "text/plain": [
       "Evaluating:   0%|          | 0/770 [00:00<?, ?it/s]"
      ]
     },
     "metadata": {},
     "output_type": "display_data"
    },
    {
     "name": "stdout",
     "output_type": "stream",
     "text": [
      "perplexity: 5.382480621337891\n",
      "After 681 updates: \n",
      "\n"
     ]
    },
    {
     "data": {
      "application/vnd.jupyter.widget-view+json": {
       "model_id": "1a046d6a8cf54457809526c0bfc95a62",
       "version_major": 2,
       "version_minor": 0
      },
      "text/plain": [
       "  0%|          | 0/100 [00:00<?, ?it/s]"
      ]
     },
     "metadata": {},
     "output_type": "display_data"
    },
    {
     "name": "stdout",
     "output_type": "stream",
     "text": [
      "The peptide repeat domain of nucleoporin Nup98 functions as a docking site in transport across the nuclear pore complex. We report the cDNA deduced primary structure of a wheat germ agglutinin-reactive nuclear pore complex (NPC) protein of rat. The protein, termed Nup98 (for nucleoporin of 98 kDa), contains numerous GLFG and FG repeats and some FXFG repeats and is thus a vertebrate member of a family of GLFG nucleoporins that were previously discovered in yeast. Immunoelectron microscopy showed Nup98 to be asymmetrically located at the nucleoplasmic side of the NPC. Nup98 functions as one of several docking site nucleoporins in a cytosolic docking activity-mediated binding of a model transport substrate. The docking site of Nup98 was mapped to its N-terminal half, which contains all of the peptide repeats. A recombinant segment of this region depleted the docking activity of cytosol. We suggest that the peptide repeat domain of Nup98, together with peptide repeat domains of other nucleoporins, forms an array of sites for mediated docking of transport substrate, and that bidirectional transport across the NPC proceeds by repeated docking and undocking reactions.\n",
      "\n",
      "generated_summary\n",
      "\n"
     ]
    },
    {
     "data": {
      "application/vnd.jupyter.widget-view+json": {
       "model_id": "9103483e6d5e41208eec47fbd10b2c84",
       "version_major": 2,
       "version_minor": 0
      },
      "text/plain": [
       "  0%|          | 0/100 [00:00<?, ?it/s]"
      ]
     },
     "metadata": {},
     "output_type": "display_data"
    },
    {
     "name": "stdout",
     "output_type": "stream",
     "text": [
      "The CXC chemokine stromal cell-derived factor activates a Gi-coupled phosphoinositide 3-kinase in T lymphocytes. The cellular effects of stromal cell-derived factor-1 (SDF-1) are mediated primarily by binding to the CXC chemokine receptor-4. We report in this study that SDF-1 and its peptide analogues induce a concentration- and time-dependent accumulation of phosphatidylinositol-(3,4,5)-trisphosphate (PtdIns(3,4,5)P3) in Jurkat cells. This SDF-1-stimulated generation of D-3 phosphoinositide lipids was inhibited by pretreatment of the cells with an SDF-1 peptide antagonist or an anti-CXCR4 Ab. In addition, the phosphoinositide 3 (PI 3)-kinase inhibitors wortmannin and LY294002, as well as the Gi protein inhibitor pertussis toxin, also inhibited the SDF-1-stimulated accumulation of PtdIns(3,4,5)P3. The effects of SDF-1 on D-3 phosphoinositide lipid accumulation correlated well with activation of the known PI 3-kinase effector protein kinase B, which was also inhibited by wortmannin and pertussis toxin. Concentrations of PI 3-kinase inhibitors, sufficient to inhibit PtdIns(3,4,5)P3 accumulation, also inhibited chemotaxis of Jurkat and peripheral blood-derived T lymphocytes in response to SDF-1. In contrast, SDF-1-stimulated actin polymerization was only partially inhibited by PI 3-kinase inhibitors, suggesting that while chemotaxis is fully dependent on PI 3-kinase activation, actin polymerization requires additional biochemical inputs. Finally, SDF-1-stimulated extracellular signal-related kinase (ERK)-1/2 mitogen-activated protein kinase activation was inhibited by PI 3-kinase inhibitors. In addition, the mitogen-activated protein/ERK kinase inhibitor PD098059 partially attenuated chemotaxis in response to SDF-1. Hence, it appears that ERK1/2 activation is dependent on PI 3-kinase activation, and both biochemical events are involved in the regulation of SDF-1-stimulated chemotaxis.\n",
      "\n",
      "generated_summary\n",
      "\n",
      "loss: 0.09170477837324142\n",
      "\n",
      "loss: 0.07720023393630981\n",
      "\n",
      "loss: 0.04749755561351776\n",
      "\n",
      "loss: 0.06715419143438339\n",
      "\n",
      "loss: 0.03189706802368164\n",
      "\n",
      "loss: 0.06336495280265808\n",
      "\n",
      "loss: 0.04126041755080223\n",
      "\n",
      "loss: 0.03192908316850662\n",
      "\n",
      "loss: 0.06398037075996399\n",
      "\n",
      "loss: 0.039260417222976685\n",
      "\n"
     ]
    },
    {
     "data": {
      "application/vnd.jupyter.widget-view+json": {
       "model_id": "0237712a09d549e2a1f4cad27ca5e6bb",
       "version_major": 2,
       "version_minor": 0
      },
      "text/plain": [
       "Evaluating:   0%|          | 0/770 [00:00<?, ?it/s]"
      ]
     },
     "metadata": {},
     "output_type": "display_data"
    },
    {
     "name": "stdout",
     "output_type": "stream",
     "text": [
      "perplexity: 5.291130542755127\n",
      "After 691 updates: \n",
      "\n"
     ]
    },
    {
     "data": {
      "application/vnd.jupyter.widget-view+json": {
       "model_id": "be096ece31964c84aae1473f4e194801",
       "version_major": 2,
       "version_minor": 0
      },
      "text/plain": [
       "  0%|          | 0/100 [00:00<?, ?it/s]"
      ]
     },
     "metadata": {},
     "output_type": "display_data"
    },
    {
     "name": "stdout",
     "output_type": "stream",
     "text": [
      "The peptide repeat domain of nucleoporin Nup98 functions as a docking site in transport across the nuclear pore complex. We report the cDNA deduced primary structure of a wheat germ agglutinin-reactive nuclear pore complex (NPC) protein of rat. The protein, termed Nup98 (for nucleoporin of 98 kDa), contains numerous GLFG and FG repeats and some FXFG repeats and is thus a vertebrate member of a family of GLFG nucleoporins that were previously discovered in yeast. Immunoelectron microscopy showed Nup98 to be asymmetrically located at the nucleoplasmic side of the NPC. Nup98 functions as one of several docking site nucleoporins in a cytosolic docking activity-mediated binding of a model transport substrate. The docking site of Nup98 was mapped to its N-terminal half, which contains all of the peptide repeats. A recombinant segment of this region depleted the docking activity of cytosol. We suggest that the peptide repeat domain of Nup98, together with peptide repeat domains of other nucleoporins, forms an array of sites for mediated docking of transport substrate, and that bidirectional transport across the NPC proceeds by repeated docking and undocking reactions.\n",
      "\n",
      "generated_summary\n",
      "\n"
     ]
    },
    {
     "data": {
      "application/vnd.jupyter.widget-view+json": {
       "model_id": "ea0cf94f587b44e3b68e0fb8d94f196c",
       "version_major": 2,
       "version_minor": 0
      },
      "text/plain": [
       "  0%|          | 0/100 [00:00<?, ?it/s]"
      ]
     },
     "metadata": {},
     "output_type": "display_data"
    },
    {
     "name": "stdout",
     "output_type": "stream",
     "text": [
      "The CXC chemokine stromal cell-derived factor activates a Gi-coupled phosphoinositide 3-kinase in T lymphocytes. The cellular effects of stromal cell-derived factor-1 (SDF-1) are mediated primarily by binding to the CXC chemokine receptor-4. We report in this study that SDF-1 and its peptide analogues induce a concentration- and time-dependent accumulation of phosphatidylinositol-(3,4,5)-trisphosphate (PtdIns(3,4,5)P3) in Jurkat cells. This SDF-1-stimulated generation of D-3 phosphoinositide lipids was inhibited by pretreatment of the cells with an SDF-1 peptide antagonist or an anti-CXCR4 Ab. In addition, the phosphoinositide 3 (PI 3)-kinase inhibitors wortmannin and LY294002, as well as the Gi protein inhibitor pertussis toxin, also inhibited the SDF-1-stimulated accumulation of PtdIns(3,4,5)P3. The effects of SDF-1 on D-3 phosphoinositide lipid accumulation correlated well with activation of the known PI 3-kinase effector protein kinase B, which was also inhibited by wortmannin and pertussis toxin. Concentrations of PI 3-kinase inhibitors, sufficient to inhibit PtdIns(3,4,5)P3 accumulation, also inhibited chemotaxis of Jurkat and peripheral blood-derived T lymphocytes in response to SDF-1. In contrast, SDF-1-stimulated actin polymerization was only partially inhibited by PI 3-kinase inhibitors, suggesting that while chemotaxis is fully dependent on PI 3-kinase activation, actin polymerization requires additional biochemical inputs. Finally, SDF-1-stimulated extracellular signal-related kinase (ERK)-1/2 mitogen-activated protein kinase activation was inhibited by PI 3-kinase inhibitors. In addition, the mitogen-activated protein/ERK kinase inhibitor PD098059 partially attenuated chemotaxis in response to SDF-1. Hence, it appears that ERK1/2 activation is dependent on PI 3-kinase activation, and both biochemical events are involved in the regulation of SDF-1-stimulated chemotaxis.\n",
      "\n",
      "generated_summary\n",
      "\n",
      "loss: 0.046713877469301224\n",
      "\n",
      "loss: 0.042804669588804245\n",
      "\n",
      "loss: 0.05559729412198067\n",
      "\n",
      "loss: 0.058501116931438446\n",
      "\n",
      "loss: 0.07759443670511246\n",
      "\n",
      "loss: 0.037572234869003296\n",
      "\n",
      "loss: 0.050714246928691864\n",
      "\n",
      "loss: 0.05164512246847153\n",
      "\n",
      "loss: 0.029131634160876274\n",
      "\n",
      "loss: 0.040533993393182755\n",
      "\n"
     ]
    },
    {
     "data": {
      "application/vnd.jupyter.widget-view+json": {
       "model_id": "6f246150d9364aa8b5435d9e51567c2d",
       "version_major": 2,
       "version_minor": 0
      },
      "text/plain": [
       "Evaluating:   0%|          | 0/770 [00:00<?, ?it/s]"
      ]
     },
     "metadata": {},
     "output_type": "display_data"
    },
    {
     "name": "stdout",
     "output_type": "stream",
     "text": [
      "perplexity: 5.12506628036499\n",
      "After 701 updates: \n",
      "\n"
     ]
    },
    {
     "data": {
      "application/vnd.jupyter.widget-view+json": {
       "model_id": "be7d1cb63dd74aad99e6f1f159a4c65c",
       "version_major": 2,
       "version_minor": 0
      },
      "text/plain": [
       "  0%|          | 0/100 [00:00<?, ?it/s]"
      ]
     },
     "metadata": {},
     "output_type": "display_data"
    },
    {
     "name": "stdout",
     "output_type": "stream",
     "text": [
      "The peptide repeat domain of nucleoporin Nup98 functions as a docking site in transport across the nuclear pore complex. We report the cDNA deduced primary structure of a wheat germ agglutinin-reactive nuclear pore complex (NPC) protein of rat. The protein, termed Nup98 (for nucleoporin of 98 kDa), contains numerous GLFG and FG repeats and some FXFG repeats and is thus a vertebrate member of a family of GLFG nucleoporins that were previously discovered in yeast. Immunoelectron microscopy showed Nup98 to be asymmetrically located at the nucleoplasmic side of the NPC. Nup98 functions as one of several docking site nucleoporins in a cytosolic docking activity-mediated binding of a model transport substrate. The docking site of Nup98 was mapped to its N-terminal half, which contains all of the peptide repeats. A recombinant segment of this region depleted the docking activity of cytosol. We suggest that the peptide repeat domain of Nup98, together with peptide repeat domains of other nucleoporins, forms an array of sites for mediated docking of transport substrate, and that bidirectional transport across the NPC proceeds by repeated docking and undocking reactions.\n",
      "\n",
      "generated_summary\n",
      "\n"
     ]
    },
    {
     "data": {
      "application/vnd.jupyter.widget-view+json": {
       "model_id": "bd47cf7eee7d4d7e8fd5d7344f15509f",
       "version_major": 2,
       "version_minor": 0
      },
      "text/plain": [
       "  0%|          | 0/100 [00:00<?, ?it/s]"
      ]
     },
     "metadata": {},
     "output_type": "display_data"
    },
    {
     "name": "stdout",
     "output_type": "stream",
     "text": [
      "The CXC chemokine stromal cell-derived factor activates a Gi-coupled phosphoinositide 3-kinase in T lymphocytes. The cellular effects of stromal cell-derived factor-1 (SDF-1) are mediated primarily by binding to the CXC chemokine receptor-4. We report in this study that SDF-1 and its peptide analogues induce a concentration- and time-dependent accumulation of phosphatidylinositol-(3,4,5)-trisphosphate (PtdIns(3,4,5)P3) in Jurkat cells. This SDF-1-stimulated generation of D-3 phosphoinositide lipids was inhibited by pretreatment of the cells with an SDF-1 peptide antagonist or an anti-CXCR4 Ab. In addition, the phosphoinositide 3 (PI 3)-kinase inhibitors wortmannin and LY294002, as well as the Gi protein inhibitor pertussis toxin, also inhibited the SDF-1-stimulated accumulation of PtdIns(3,4,5)P3. The effects of SDF-1 on D-3 phosphoinositide lipid accumulation correlated well with activation of the known PI 3-kinase effector protein kinase B, which was also inhibited by wortmannin and pertussis toxin. Concentrations of PI 3-kinase inhibitors, sufficient to inhibit PtdIns(3,4,5)P3 accumulation, also inhibited chemotaxis of Jurkat and peripheral blood-derived T lymphocytes in response to SDF-1. In contrast, SDF-1-stimulated actin polymerization was only partially inhibited by PI 3-kinase inhibitors, suggesting that while chemotaxis is fully dependent on PI 3-kinase activation, actin polymerization requires additional biochemical inputs. Finally, SDF-1-stimulated extracellular signal-related kinase (ERK)-1/2 mitogen-activated protein kinase activation was inhibited by PI 3-kinase inhibitors. In addition, the mitogen-activated protein/ERK kinase inhibitor PD098059 partially attenuated chemotaxis in response to SDF-1. Hence, it appears that ERK1/2 activation is dependent on PI 3-kinase activation, and both biochemical events are involved in the regulation of SDF-1-stimulated chemotaxis.\n",
      "\n",
      "generated_summary\n",
      "\n",
      "loss: 0.06565535813570023\n",
      "\n",
      "loss: 0.05321769043803215\n",
      "\n",
      "loss: 0.07109721004962921\n",
      "\n",
      "loss: 0.03563635051250458\n",
      "\n",
      "loss: 0.09768703579902649\n",
      "\n",
      "loss: 0.06754223257303238\n",
      "\n",
      "loss: 0.07946378737688065\n",
      "\n",
      "loss: 0.038563139736652374\n",
      "\n",
      "loss: 0.053586315363645554\n",
      "\n",
      "loss: 0.07353031635284424\n",
      "\n"
     ]
    },
    {
     "data": {
      "application/vnd.jupyter.widget-view+json": {
       "model_id": "89ca2f2417c54b11a47d6199622066df",
       "version_major": 2,
       "version_minor": 0
      },
      "text/plain": [
       "Evaluating:   0%|          | 0/770 [00:00<?, ?it/s]"
      ]
     },
     "metadata": {},
     "output_type": "display_data"
    },
    {
     "name": "stdout",
     "output_type": "stream",
     "text": [
      "perplexity: 4.960903167724609\n",
      "After 711 updates: \n",
      "\n"
     ]
    },
    {
     "data": {
      "application/vnd.jupyter.widget-view+json": {
       "model_id": "a408c76d5fea4a6a872ad5748e86832b",
       "version_major": 2,
       "version_minor": 0
      },
      "text/plain": [
       "  0%|          | 0/100 [00:00<?, ?it/s]"
      ]
     },
     "metadata": {},
     "output_type": "display_data"
    },
    {
     "name": "stdout",
     "output_type": "stream",
     "text": [
      "The peptide repeat domain of nucleoporin Nup98 functions as a docking site in transport across the nuclear pore complex. We report the cDNA deduced primary structure of a wheat germ agglutinin-reactive nuclear pore complex (NPC) protein of rat. The protein, termed Nup98 (for nucleoporin of 98 kDa), contains numerous GLFG and FG repeats and some FXFG repeats and is thus a vertebrate member of a family of GLFG nucleoporins that were previously discovered in yeast. Immunoelectron microscopy showed Nup98 to be asymmetrically located at the nucleoplasmic side of the NPC. Nup98 functions as one of several docking site nucleoporins in a cytosolic docking activity-mediated binding of a model transport substrate. The docking site of Nup98 was mapped to its N-terminal half, which contains all of the peptide repeats. A recombinant segment of this region depleted the docking activity of cytosol. We suggest that the peptide repeat domain of Nup98, together with peptide repeat domains of other nucleoporins, forms an array of sites for mediated docking of transport substrate, and that bidirectional transport across the NPC proceeds by repeated docking and undocking reactions.\n",
      "\n",
      "generated_summary\n",
      "\n"
     ]
    },
    {
     "data": {
      "application/vnd.jupyter.widget-view+json": {
       "model_id": "313d104c1f364476bac35b515ca3010a",
       "version_major": 2,
       "version_minor": 0
      },
      "text/plain": [
       "  0%|          | 0/100 [00:00<?, ?it/s]"
      ]
     },
     "metadata": {},
     "output_type": "display_data"
    },
    {
     "name": "stdout",
     "output_type": "stream",
     "text": [
      "The CXC chemokine stromal cell-derived factor activates a Gi-coupled phosphoinositide 3-kinase in T lymphocytes. The cellular effects of stromal cell-derived factor-1 (SDF-1) are mediated primarily by binding to the CXC chemokine receptor-4. We report in this study that SDF-1 and its peptide analogues induce a concentration- and time-dependent accumulation of phosphatidylinositol-(3,4,5)-trisphosphate (PtdIns(3,4,5)P3) in Jurkat cells. This SDF-1-stimulated generation of D-3 phosphoinositide lipids was inhibited by pretreatment of the cells with an SDF-1 peptide antagonist or an anti-CXCR4 Ab. In addition, the phosphoinositide 3 (PI 3)-kinase inhibitors wortmannin and LY294002, as well as the Gi protein inhibitor pertussis toxin, also inhibited the SDF-1-stimulated accumulation of PtdIns(3,4,5)P3. The effects of SDF-1 on D-3 phosphoinositide lipid accumulation correlated well with activation of the known PI 3-kinase effector protein kinase B, which was also inhibited by wortmannin and pertussis toxin. Concentrations of PI 3-kinase inhibitors, sufficient to inhibit PtdIns(3,4,5)P3 accumulation, also inhibited chemotaxis of Jurkat and peripheral blood-derived T lymphocytes in response to SDF-1. In contrast, SDF-1-stimulated actin polymerization was only partially inhibited by PI 3-kinase inhibitors, suggesting that while chemotaxis is fully dependent on PI 3-kinase activation, actin polymerization requires additional biochemical inputs. Finally, SDF-1-stimulated extracellular signal-related kinase (ERK)-1/2 mitogen-activated protein kinase activation was inhibited by PI 3-kinase inhibitors. In addition, the mitogen-activated protein/ERK kinase inhibitor PD098059 partially attenuated chemotaxis in response to SDF-1. Hence, it appears that ERK1/2 activation is dependent on PI 3-kinase activation, and both biochemical events are involved in the regulation of SDF-1-stimulated chemotaxis.\n",
      "\n",
      "generated_summary\n",
      "\n",
      "loss: 0.028066938742995262\n",
      "\n",
      "loss: 0.056046999990940094\n",
      "\n",
      "loss: 0.06856749206781387\n",
      "\n",
      "loss: 0.06232580542564392\n",
      "\n",
      "loss: 0.020930945873260498\n",
      "\n",
      "loss: 0.09059496968984604\n",
      "\n",
      "loss: 0.074475958943367\n",
      "\n",
      "loss: 0.055490538477897644\n",
      "\n",
      "loss: 0.029958639293909073\n",
      "\n",
      "loss: 0.028934823349118233\n",
      "\n"
     ]
    },
    {
     "data": {
      "application/vnd.jupyter.widget-view+json": {
       "model_id": "769f107b4350440a9b46d3c7f7aafba1",
       "version_major": 2,
       "version_minor": 0
      },
      "text/plain": [
       "Evaluating:   0%|          | 0/770 [00:00<?, ?it/s]"
      ]
     },
     "metadata": {},
     "output_type": "display_data"
    },
    {
     "name": "stdout",
     "output_type": "stream",
     "text": [
      "perplexity: 4.924025058746338\n",
      "After 721 updates: \n",
      "\n"
     ]
    },
    {
     "data": {
      "application/vnd.jupyter.widget-view+json": {
       "model_id": "3cc6b05cd6a44237ab5d0870957a721c",
       "version_major": 2,
       "version_minor": 0
      },
      "text/plain": [
       "  0%|          | 0/100 [00:00<?, ?it/s]"
      ]
     },
     "metadata": {},
     "output_type": "display_data"
    },
    {
     "name": "stdout",
     "output_type": "stream",
     "text": [
      "The peptide repeat domain of nucleoporin Nup98 functions as a docking site in transport across the nuclear pore complex. We report the cDNA deduced primary structure of a wheat germ agglutinin-reactive nuclear pore complex (NPC) protein of rat. The protein, termed Nup98 (for nucleoporin of 98 kDa), contains numerous GLFG and FG repeats and some FXFG repeats and is thus a vertebrate member of a family of GLFG nucleoporins that were previously discovered in yeast. Immunoelectron microscopy showed Nup98 to be asymmetrically located at the nucleoplasmic side of the NPC. Nup98 functions as one of several docking site nucleoporins in a cytosolic docking activity-mediated binding of a model transport substrate. The docking site of Nup98 was mapped to its N-terminal half, which contains all of the peptide repeats. A recombinant segment of this region depleted the docking activity of cytosol. We suggest that the peptide repeat domain of Nup98, together with peptide repeat domains of other nucleoporins, forms an array of sites for mediated docking of transport substrate, and that bidirectional transport across the NPC proceeds by repeated docking and undocking reactions.\n",
      "\n",
      "generated_summary\n",
      "\n"
     ]
    },
    {
     "data": {
      "application/vnd.jupyter.widget-view+json": {
       "model_id": "7c9bf4d89b3a4283b9988546c240748a",
       "version_major": 2,
       "version_minor": 0
      },
      "text/plain": [
       "  0%|          | 0/100 [00:00<?, ?it/s]"
      ]
     },
     "metadata": {},
     "output_type": "display_data"
    },
    {
     "name": "stdout",
     "output_type": "stream",
     "text": [
      "The CXC chemokine stromal cell-derived factor activates a Gi-coupled phosphoinositide 3-kinase in T lymphocytes. The cellular effects of stromal cell-derived factor-1 (SDF-1) are mediated primarily by binding to the CXC chemokine receptor-4. We report in this study that SDF-1 and its peptide analogues induce a concentration- and time-dependent accumulation of phosphatidylinositol-(3,4,5)-trisphosphate (PtdIns(3,4,5)P3) in Jurkat cells. This SDF-1-stimulated generation of D-3 phosphoinositide lipids was inhibited by pretreatment of the cells with an SDF-1 peptide antagonist or an anti-CXCR4 Ab. In addition, the phosphoinositide 3 (PI 3)-kinase inhibitors wortmannin and LY294002, as well as the Gi protein inhibitor pertussis toxin, also inhibited the SDF-1-stimulated accumulation of PtdIns(3,4,5)P3. The effects of SDF-1 on D-3 phosphoinositide lipid accumulation correlated well with activation of the known PI 3-kinase effector protein kinase B, which was also inhibited by wortmannin and pertussis toxin. Concentrations of PI 3-kinase inhibitors, sufficient to inhibit PtdIns(3,4,5)P3 accumulation, also inhibited chemotaxis of Jurkat and peripheral blood-derived T lymphocytes in response to SDF-1. In contrast, SDF-1-stimulated actin polymerization was only partially inhibited by PI 3-kinase inhibitors, suggesting that while chemotaxis is fully dependent on PI 3-kinase activation, actin polymerization requires additional biochemical inputs. Finally, SDF-1-stimulated extracellular signal-related kinase (ERK)-1/2 mitogen-activated protein kinase activation was inhibited by PI 3-kinase inhibitors. In addition, the mitogen-activated protein/ERK kinase inhibitor PD098059 partially attenuated chemotaxis in response to SDF-1. Hence, it appears that ERK1/2 activation is dependent on PI 3-kinase activation, and both biochemical events are involved in the regulation of SDF-1-stimulated chemotaxis.\n",
      "\n",
      "generated_summary\n",
      "\n",
      "loss: 0.01649518869817257\n",
      "\n",
      "loss: 0.018546834588050842\n",
      "\n",
      "loss: 0.05793188139796257\n",
      "\n",
      "loss: 0.037107184529304504\n",
      "\n",
      "loss: 0.05526308715343475\n",
      "\n",
      "loss: 0.07344964891672134\n",
      "\n",
      "loss: 0.026937216520309448\n",
      "\n",
      "loss: 0.052759118378162384\n",
      "\n",
      "loss: 0.05805381387472153\n",
      "\n",
      "loss: 0.013718043453991413\n",
      "\n"
     ]
    },
    {
     "data": {
      "application/vnd.jupyter.widget-view+json": {
       "model_id": "6c510dbbfd0c4d58aa41eee410a82a1b",
       "version_major": 2,
       "version_minor": 0
      },
      "text/plain": [
       "Evaluating:   0%|          | 0/770 [00:00<?, ?it/s]"
      ]
     },
     "metadata": {},
     "output_type": "display_data"
    },
    {
     "name": "stdout",
     "output_type": "stream",
     "text": [
      "perplexity: 4.959100246429443\n",
      "After 731 updates: \n",
      "\n"
     ]
    },
    {
     "data": {
      "application/vnd.jupyter.widget-view+json": {
       "model_id": "072c740cc6a740ddadd97a37bf12d4bd",
       "version_major": 2,
       "version_minor": 0
      },
      "text/plain": [
       "  0%|          | 0/100 [00:00<?, ?it/s]"
      ]
     },
     "metadata": {},
     "output_type": "display_data"
    },
    {
     "name": "stdout",
     "output_type": "stream",
     "text": [
      "The peptide repeat domain of nucleoporin Nup98 functions as a docking site in transport across the nuclear pore complex. We report the cDNA deduced primary structure of a wheat germ agglutinin-reactive nuclear pore complex (NPC) protein of rat. The protein, termed Nup98 (for nucleoporin of 98 kDa), contains numerous GLFG and FG repeats and some FXFG repeats and is thus a vertebrate member of a family of GLFG nucleoporins that were previously discovered in yeast. Immunoelectron microscopy showed Nup98 to be asymmetrically located at the nucleoplasmic side of the NPC. Nup98 functions as one of several docking site nucleoporins in a cytosolic docking activity-mediated binding of a model transport substrate. The docking site of Nup98 was mapped to its N-terminal half, which contains all of the peptide repeats. A recombinant segment of this region depleted the docking activity of cytosol. We suggest that the peptide repeat domain of Nup98, together with peptide repeat domains of other nucleoporins, forms an array of sites for mediated docking of transport substrate, and that bidirectional transport across the NPC proceeds by repeated docking and undocking reactions.\n",
      "\n",
      "generated_summary\n",
      "\n"
     ]
    },
    {
     "data": {
      "application/vnd.jupyter.widget-view+json": {
       "model_id": "01f64fc2b63c4f8db3cf876b532975ae",
       "version_major": 2,
       "version_minor": 0
      },
      "text/plain": [
       "  0%|          | 0/100 [00:00<?, ?it/s]"
      ]
     },
     "metadata": {},
     "output_type": "display_data"
    },
    {
     "name": "stdout",
     "output_type": "stream",
     "text": [
      "The CXC chemokine stromal cell-derived factor activates a Gi-coupled phosphoinositide 3-kinase in T lymphocytes. The cellular effects of stromal cell-derived factor-1 (SDF-1) are mediated primarily by binding to the CXC chemokine receptor-4. We report in this study that SDF-1 and its peptide analogues induce a concentration- and time-dependent accumulation of phosphatidylinositol-(3,4,5)-trisphosphate (PtdIns(3,4,5)P3) in Jurkat cells. This SDF-1-stimulated generation of D-3 phosphoinositide lipids was inhibited by pretreatment of the cells with an SDF-1 peptide antagonist or an anti-CXCR4 Ab. In addition, the phosphoinositide 3 (PI 3)-kinase inhibitors wortmannin and LY294002, as well as the Gi protein inhibitor pertussis toxin, also inhibited the SDF-1-stimulated accumulation of PtdIns(3,4,5)P3. The effects of SDF-1 on D-3 phosphoinositide lipid accumulation correlated well with activation of the known PI 3-kinase effector protein kinase B, which was also inhibited by wortmannin and pertussis toxin. Concentrations of PI 3-kinase inhibitors, sufficient to inhibit PtdIns(3,4,5)P3 accumulation, also inhibited chemotaxis of Jurkat and peripheral blood-derived T lymphocytes in response to SDF-1. In contrast, SDF-1-stimulated actin polymerization was only partially inhibited by PI 3-kinase inhibitors, suggesting that while chemotaxis is fully dependent on PI 3-kinase activation, actin polymerization requires additional biochemical inputs. Finally, SDF-1-stimulated extracellular signal-related kinase (ERK)-1/2 mitogen-activated protein kinase activation was inhibited by PI 3-kinase inhibitors. In addition, the mitogen-activated protein/ERK kinase inhibitor PD098059 partially attenuated chemotaxis in response to SDF-1. Hence, it appears that ERK1/2 activation is dependent on PI 3-kinase activation, and both biochemical events are involved in the regulation of SDF-1-stimulated chemotaxis.\n",
      "\n",
      "generated_summary\n",
      "\n",
      "loss: 0.06596982479095459\n",
      "\n",
      "loss: 0.03066275082528591\n",
      "\n",
      "loss: 0.07514902204275131\n",
      "\n",
      "loss: 0.00909356027841568\n",
      "\n",
      "loss: 0.07063253223896027\n",
      "\n",
      "loss: 0.024469442665576935\n",
      "\n",
      "loss: 0.022556910291314125\n",
      "\n",
      "loss: 0.024537736549973488\n",
      "\n",
      "loss: 0.030267037451267242\n",
      "\n",
      "loss: 0.05077898129820824\n",
      "\n"
     ]
    },
    {
     "data": {
      "application/vnd.jupyter.widget-view+json": {
       "model_id": "f3db4539cccb43efaf26ff87fa2df4ac",
       "version_major": 2,
       "version_minor": 0
      },
      "text/plain": [
       "Evaluating:   0%|          | 0/770 [00:00<?, ?it/s]"
      ]
     },
     "metadata": {},
     "output_type": "display_data"
    },
    {
     "name": "stdout",
     "output_type": "stream",
     "text": [
      "perplexity: 4.948307514190674\n",
      "After 741 updates: \n",
      "\n"
     ]
    },
    {
     "data": {
      "application/vnd.jupyter.widget-view+json": {
       "model_id": "5709446d54504ac3b2c2b55fe215ab88",
       "version_major": 2,
       "version_minor": 0
      },
      "text/plain": [
       "  0%|          | 0/100 [00:00<?, ?it/s]"
      ]
     },
     "metadata": {},
     "output_type": "display_data"
    },
    {
     "name": "stdout",
     "output_type": "stream",
     "text": [
      "The peptide repeat domain of nucleoporin Nup98 functions as a docking site in transport across the nuclear pore complex. We report the cDNA deduced primary structure of a wheat germ agglutinin-reactive nuclear pore complex (NPC) protein of rat. The protein, termed Nup98 (for nucleoporin of 98 kDa), contains numerous GLFG and FG repeats and some FXFG repeats and is thus a vertebrate member of a family of GLFG nucleoporins that were previously discovered in yeast. Immunoelectron microscopy showed Nup98 to be asymmetrically located at the nucleoplasmic side of the NPC. Nup98 functions as one of several docking site nucleoporins in a cytosolic docking activity-mediated binding of a model transport substrate. The docking site of Nup98 was mapped to its N-terminal half, which contains all of the peptide repeats. A recombinant segment of this region depleted the docking activity of cytosol. We suggest that the peptide repeat domain of Nup98, together with peptide repeat domains of other nucleoporins, forms an array of sites for mediated docking of transport substrate, and that bidirectional transport across the NPC proceeds by repeated docking and undocking reactions.\n",
      "\n",
      "generated_summary\n",
      "\n"
     ]
    },
    {
     "data": {
      "application/vnd.jupyter.widget-view+json": {
       "model_id": "f2424221db1c48a0b26a581398c4a306",
       "version_major": 2,
       "version_minor": 0
      },
      "text/plain": [
       "  0%|          | 0/100 [00:00<?, ?it/s]"
      ]
     },
     "metadata": {},
     "output_type": "display_data"
    },
    {
     "name": "stdout",
     "output_type": "stream",
     "text": [
      "The CXC chemokine stromal cell-derived factor activates a Gi-coupled phosphoinositide 3-kinase in T lymphocytes. The cellular effects of stromal cell-derived factor-1 (SDF-1) are mediated primarily by binding to the CXC chemokine receptor-4. We report in this study that SDF-1 and its peptide analogues induce a concentration- and time-dependent accumulation of phosphatidylinositol-(3,4,5)-trisphosphate (PtdIns(3,4,5)P3) in Jurkat cells. This SDF-1-stimulated generation of D-3 phosphoinositide lipids was inhibited by pretreatment of the cells with an SDF-1 peptide antagonist or an anti-CXCR4 Ab. In addition, the phosphoinositide 3 (PI 3)-kinase inhibitors wortmannin and LY294002, as well as the Gi protein inhibitor pertussis toxin, also inhibited the SDF-1-stimulated accumulation of PtdIns(3,4,5)P3. The effects of SDF-1 on D-3 phosphoinositide lipid accumulation correlated well with activation of the known PI 3-kinase effector protein kinase B, which was also inhibited by wortmannin and pertussis toxin. Concentrations of PI 3-kinase inhibitors, sufficient to inhibit PtdIns(3,4,5)P3 accumulation, also inhibited chemotaxis of Jurkat and peripheral blood-derived T lymphocytes in response to SDF-1. In contrast, SDF-1-stimulated actin polymerization was only partially inhibited by PI 3-kinase inhibitors, suggesting that while chemotaxis is fully dependent on PI 3-kinase activation, actin polymerization requires additional biochemical inputs. Finally, SDF-1-stimulated extracellular signal-related kinase (ERK)-1/2 mitogen-activated protein kinase activation was inhibited by PI 3-kinase inhibitors. In addition, the mitogen-activated protein/ERK kinase inhibitor PD098059 partially attenuated chemotaxis in response to SDF-1. Hence, it appears that ERK1/2 activation is dependent on PI 3-kinase activation, and both biochemical events are involved in the regulation of SDF-1-stimulated chemotaxis.\n",
      "\n",
      "generated_summary\n",
      "\n",
      "loss: 0.031219322234392166\n",
      "\n",
      "loss: 0.06939560920000076\n",
      "\n",
      "loss: 0.040040936321020126\n",
      "\n",
      "loss: 0.03597286343574524\n",
      "\n",
      "loss: 0.048991888761520386\n",
      "\n",
      "loss: 0.0679616630077362\n",
      "\n",
      "loss: 0.028215834870934486\n",
      "\n",
      "loss: 0.039928581565618515\n",
      "\n",
      "loss: 0.06405920535326004\n",
      "\n",
      "loss: 0.07352367043495178\n",
      "\n"
     ]
    },
    {
     "data": {
      "application/vnd.jupyter.widget-view+json": {
       "model_id": "d3479885bc02402a8f6380654e7bde4b",
       "version_major": 2,
       "version_minor": 0
      },
      "text/plain": [
       "Evaluating:   0%|          | 0/770 [00:00<?, ?it/s]"
      ]
     },
     "metadata": {},
     "output_type": "display_data"
    },
    {
     "name": "stdout",
     "output_type": "stream",
     "text": [
      "perplexity: 4.9801812171936035\n",
      "After 751 updates: \n",
      "\n"
     ]
    },
    {
     "data": {
      "application/vnd.jupyter.widget-view+json": {
       "model_id": "2586503acc7b430285ee31f8e6f2e8f9",
       "version_major": 2,
       "version_minor": 0
      },
      "text/plain": [
       "  0%|          | 0/100 [00:00<?, ?it/s]"
      ]
     },
     "metadata": {},
     "output_type": "display_data"
    },
    {
     "name": "stdout",
     "output_type": "stream",
     "text": [
      "The peptide repeat domain of nucleoporin Nup98 functions as a docking site in transport across the nuclear pore complex. We report the cDNA deduced primary structure of a wheat germ agglutinin-reactive nuclear pore complex (NPC) protein of rat. The protein, termed Nup98 (for nucleoporin of 98 kDa), contains numerous GLFG and FG repeats and some FXFG repeats and is thus a vertebrate member of a family of GLFG nucleoporins that were previously discovered in yeast. Immunoelectron microscopy showed Nup98 to be asymmetrically located at the nucleoplasmic side of the NPC. Nup98 functions as one of several docking site nucleoporins in a cytosolic docking activity-mediated binding of a model transport substrate. The docking site of Nup98 was mapped to its N-terminal half, which contains all of the peptide repeats. A recombinant segment of this region depleted the docking activity of cytosol. We suggest that the peptide repeat domain of Nup98, together with peptide repeat domains of other nucleoporins, forms an array of sites for mediated docking of transport substrate, and that bidirectional transport across the NPC proceeds by repeated docking and undocking reactions.\n",
      "\n",
      "generated_summary\n",
      "\n"
     ]
    },
    {
     "data": {
      "application/vnd.jupyter.widget-view+json": {
       "model_id": "70891d80932846e28521c4cf298b7d7d",
       "version_major": 2,
       "version_minor": 0
      },
      "text/plain": [
       "  0%|          | 0/100 [00:00<?, ?it/s]"
      ]
     },
     "metadata": {},
     "output_type": "display_data"
    },
    {
     "name": "stdout",
     "output_type": "stream",
     "text": [
      "The CXC chemokine stromal cell-derived factor activates a Gi-coupled phosphoinositide 3-kinase in T lymphocytes. The cellular effects of stromal cell-derived factor-1 (SDF-1) are mediated primarily by binding to the CXC chemokine receptor-4. We report in this study that SDF-1 and its peptide analogues induce a concentration- and time-dependent accumulation of phosphatidylinositol-(3,4,5)-trisphosphate (PtdIns(3,4,5)P3) in Jurkat cells. This SDF-1-stimulated generation of D-3 phosphoinositide lipids was inhibited by pretreatment of the cells with an SDF-1 peptide antagonist or an anti-CXCR4 Ab. In addition, the phosphoinositide 3 (PI 3)-kinase inhibitors wortmannin and LY294002, as well as the Gi protein inhibitor pertussis toxin, also inhibited the SDF-1-stimulated accumulation of PtdIns(3,4,5)P3. The effects of SDF-1 on D-3 phosphoinositide lipid accumulation correlated well with activation of the known PI 3-kinase effector protein kinase B, which was also inhibited by wortmannin and pertussis toxin. Concentrations of PI 3-kinase inhibitors, sufficient to inhibit PtdIns(3,4,5)P3 accumulation, also inhibited chemotaxis of Jurkat and peripheral blood-derived T lymphocytes in response to SDF-1. In contrast, SDF-1-stimulated actin polymerization was only partially inhibited by PI 3-kinase inhibitors, suggesting that while chemotaxis is fully dependent on PI 3-kinase activation, actin polymerization requires additional biochemical inputs. Finally, SDF-1-stimulated extracellular signal-related kinase (ERK)-1/2 mitogen-activated protein kinase activation was inhibited by PI 3-kinase inhibitors. In addition, the mitogen-activated protein/ERK kinase inhibitor PD098059 partially attenuated chemotaxis in response to SDF-1. Hence, it appears that ERK1/2 activation is dependent on PI 3-kinase activation, and both biochemical events are involved in the regulation of SDF-1-stimulated chemotaxis.\n",
      "\n",
      "generated_summary\n",
      "\n",
      "loss: 0.060341957956552505\n",
      "\n",
      "loss: 0.06912831962108612\n",
      "\n",
      "loss: 0.0228058360517025\n",
      "\n",
      "loss: 0.02857823111116886\n",
      "\n",
      "loss: 0.04300985485315323\n",
      "\n",
      "loss: 0.055919189006090164\n",
      "\n",
      "loss: 0.0975864827632904\n",
      "\n",
      "loss: 0.09491387754678726\n",
      "\n",
      "loss: 0.058529313653707504\n",
      "\n",
      "loss: 0.05080877244472504\n",
      "\n"
     ]
    },
    {
     "data": {
      "application/vnd.jupyter.widget-view+json": {
       "model_id": "3c3ea05c3d5145bcb75b05e5e1156075",
       "version_major": 2,
       "version_minor": 0
      },
      "text/plain": [
       "Evaluating:   0%|          | 0/770 [00:00<?, ?it/s]"
      ]
     },
     "metadata": {},
     "output_type": "display_data"
    },
    {
     "name": "stdout",
     "output_type": "stream",
     "text": [
      "perplexity: 4.923156261444092\n",
      "After 761 updates: \n",
      "\n"
     ]
    },
    {
     "data": {
      "application/vnd.jupyter.widget-view+json": {
       "model_id": "c407b13b78a641e4b100b58b2f0fe541",
       "version_major": 2,
       "version_minor": 0
      },
      "text/plain": [
       "  0%|          | 0/100 [00:00<?, ?it/s]"
      ]
     },
     "metadata": {},
     "output_type": "display_data"
    },
    {
     "name": "stdout",
     "output_type": "stream",
     "text": [
      "The peptide repeat domain of nucleoporin Nup98 functions as a docking site in transport across the nuclear pore complex. We report the cDNA deduced primary structure of a wheat germ agglutinin-reactive nuclear pore complex (NPC) protein of rat. The protein, termed Nup98 (for nucleoporin of 98 kDa), contains numerous GLFG and FG repeats and some FXFG repeats and is thus a vertebrate member of a family of GLFG nucleoporins that were previously discovered in yeast. Immunoelectron microscopy showed Nup98 to be asymmetrically located at the nucleoplasmic side of the NPC. Nup98 functions as one of several docking site nucleoporins in a cytosolic docking activity-mediated binding of a model transport substrate. The docking site of Nup98 was mapped to its N-terminal half, which contains all of the peptide repeats. A recombinant segment of this region depleted the docking activity of cytosol. We suggest that the peptide repeat domain of Nup98, together with peptide repeat domains of other nucleoporins, forms an array of sites for mediated docking of transport substrate, and that bidirectional transport across the NPC proceeds by repeated docking and undocking reactions.\n",
      "\n",
      "generated_summary\n",
      "\n"
     ]
    },
    {
     "data": {
      "application/vnd.jupyter.widget-view+json": {
       "model_id": "b798303424cd4af69834cb2efc3ba746",
       "version_major": 2,
       "version_minor": 0
      },
      "text/plain": [
       "  0%|          | 0/100 [00:00<?, ?it/s]"
      ]
     },
     "metadata": {},
     "output_type": "display_data"
    },
    {
     "name": "stdout",
     "output_type": "stream",
     "text": [
      "The CXC chemokine stromal cell-derived factor activates a Gi-coupled phosphoinositide 3-kinase in T lymphocytes. The cellular effects of stromal cell-derived factor-1 (SDF-1) are mediated primarily by binding to the CXC chemokine receptor-4. We report in this study that SDF-1 and its peptide analogues induce a concentration- and time-dependent accumulation of phosphatidylinositol-(3,4,5)-trisphosphate (PtdIns(3,4,5)P3) in Jurkat cells. This SDF-1-stimulated generation of D-3 phosphoinositide lipids was inhibited by pretreatment of the cells with an SDF-1 peptide antagonist or an anti-CXCR4 Ab. In addition, the phosphoinositide 3 (PI 3)-kinase inhibitors wortmannin and LY294002, as well as the Gi protein inhibitor pertussis toxin, also inhibited the SDF-1-stimulated accumulation of PtdIns(3,4,5)P3. The effects of SDF-1 on D-3 phosphoinositide lipid accumulation correlated well with activation of the known PI 3-kinase effector protein kinase B, which was also inhibited by wortmannin and pertussis toxin. Concentrations of PI 3-kinase inhibitors, sufficient to inhibit PtdIns(3,4,5)P3 accumulation, also inhibited chemotaxis of Jurkat and peripheral blood-derived T lymphocytes in response to SDF-1. In contrast, SDF-1-stimulated actin polymerization was only partially inhibited by PI 3-kinase inhibitors, suggesting that while chemotaxis is fully dependent on PI 3-kinase activation, actin polymerization requires additional biochemical inputs. Finally, SDF-1-stimulated extracellular signal-related kinase (ERK)-1/2 mitogen-activated protein kinase activation was inhibited by PI 3-kinase inhibitors. In addition, the mitogen-activated protein/ERK kinase inhibitor PD098059 partially attenuated chemotaxis in response to SDF-1. Hence, it appears that ERK1/2 activation is dependent on PI 3-kinase activation, and both biochemical events are involved in the regulation of SDF-1-stimulated chemotaxis.\n",
      "\n",
      "generated_summary\n",
      "\n"
     ]
    },
    {
     "data": {
      "application/vnd.jupyter.widget-view+json": {
       "model_id": "a8ac3448d7f248cca1a67a6f7e867c46",
       "version_major": 2,
       "version_minor": 0
      },
      "text/plain": [
       "Training:   0%|          | 0/6100 [00:00<?, ?it/s]"
      ]
     },
     "metadata": {},
     "output_type": "display_data"
    },
    {
     "name": "stdout",
     "output_type": "stream",
     "text": [
      "loss: 0.06195450574159622\n",
      "\n",
      "After 1st update: \n",
      "\n"
     ]
    },
    {
     "data": {
      "application/vnd.jupyter.widget-view+json": {
       "model_id": "9acc97a7a02d4f84b890074331992500",
       "version_major": 2,
       "version_minor": 0
      },
      "text/plain": [
       "  0%|          | 0/100 [00:00<?, ?it/s]"
      ]
     },
     "metadata": {},
     "output_type": "display_data"
    },
    {
     "name": "stdout",
     "output_type": "stream",
     "text": [
      "new_article\n",
      "\n",
      "The peptide repeat domain of nucleoporin Nup98 functions as a docking site in transport across the nuclear pore complex. We report the cDNA deduced primary structure of a wheat germ agglutinin-reactive nuclear pore complex (NPC) protein of rat. The protein, termed Nup98 (for nucleoporin of 98 kDa), contains numerous GLFG and FG repeats and some FXFG repeats and is thus a vertebrate member of a family of GLFG nucleoporins that were previously discovered in yeast. Immunoelectron microscopy showed Nup98 to be asymmetrically located at the nucleoplasmic side of the NPC. Nup98 functions as one of several docking site nucleoporins in a cytosolic docking activity-mediated binding of a model transport substrate. The docking site of Nup98 was mapped to its N-terminal half, which contains all of the peptide repeats. A recombinant segment of this region depleted the docking activity of cytosol. We suggest that the peptide repeat domain of Nup98, together with peptide repeat domains of other nucleoporins, forms an array of sites for mediated docking of transport substrate, and that bidirectional transport across the NPC proceeds by repeated docking and undocking reactions.\n",
      "\n",
      "generated_summary\n",
      "\n",
      " The Nup98 part_of nuclear pore complex. This part_of nuclear pore complex. This part_of nuclear pore complex. The nucleopore part_of nuclear pore complex. The nucleopore complex enables nucleopore binding. The nucleopore part_of nucleopore complex. The nucleopore part_of nucleopore complex. The nucleopore part_of nuclear pore complex. The nucleopore part_of nuclear pore complex\n",
      "\n",
      "actual_summary\n",
      "\n",
      "NUP98 enables transporter activity. <|pad|> <|pad|> <|pad|> <|pad|> <|pad|> <|pad|> <|pad|> <|pad|> <|pad|> <|pad|> <|pad|> <|pad|> <|pad|> <|pad|> <|pad|> <|pad|> <|pad|> <|pad|> <|pad|> <|pad|> <|pad|> <|pad|> <|pad|> <|pad|> <|pad|> <|pad|> <|pad|> <|pad|> <|pad|> <|pad|> <|pad|> <|pad|> <|pad|> <|pad|> <|pad|> <|pad|> <|pad|> <|pad|> <|pad|> <|pad|> <|pad|> <|pad|> <|pad|> <|pad|> <|pad|> <|pad|> <|pad|> <|pad|> <|pad|> <|pad|> <|pad|> <|pad|> <|pad|> <|pad|> <|pad|> <|pad|> <|pad|> <|pad|> <|pad|> <|pad|> <|pad|> <|pad|> <|pad|> <|pad|> <|pad|> <|pad|> <|pad|> <|pad|> <|pad|> <|pad|> <|pad|> <|pad|> <|pad|> <|pad|> <|pad|> <|pad|> <|pad|> <|pad|> <|pad|> <|pad|> <|pad|> <|pad|> <|pad|> <|pad|> <|pad|> <|pad|> <|pad|> <|pad|> <|pad|> <|pad|> <|pad|> <|pad|> <|pad|>\n",
      "\n"
     ]
    },
    {
     "data": {
      "application/vnd.jupyter.widget-view+json": {
       "model_id": "cf980cc94a4846fcacc6465ae67ce33b",
       "version_major": 2,
       "version_minor": 0
      },
      "text/plain": [
       "  0%|          | 0/100 [00:00<?, ?it/s]"
      ]
     },
     "metadata": {},
     "output_type": "display_data"
    },
    {
     "name": "stdout",
     "output_type": "stream",
     "text": [
      "new_article\n",
      "\n",
      "The CXC chemokine stromal cell-derived factor activates a Gi-coupled phosphoinositide 3-kinase in T lymphocytes. The cellular effects of stromal cell-derived factor-1 (SDF-1) are mediated primarily by binding to the CXC chemokine receptor-4. We report in this study that SDF-1 and its peptide analogues induce a concentration- and time-dependent accumulation of phosphatidylinositol-(3,4,5)-trisphosphate (PtdIns(3,4,5)P3) in Jurkat cells. This SDF-1-stimulated generation of D-3 phosphoinositide lipids was inhibited by pretreatment of the cells with an SDF-1 peptide antagonist or an anti-CXCR4 Ab. In addition, the phosphoinositide 3 (PI 3)-kinase inhibitors wortmannin and LY294002, as well as the Gi protein inhibitor pertussis toxin, also inhibited the SDF-1-stimulated accumulation of PtdIns(3,4,5)P3. The effects of SDF-1 on D-3 phosphoinositide lipid accumulation correlated well with activation of the known PI 3-kinase effector protein kinase B, which was also inhibited by wortmannin and pertussis toxin. Concentrations of PI 3-kinase inhibitors, sufficient to inhibit PtdIns(3,4,5)P3 accumulation, also inhibited chemotaxis of Jurkat and peripheral blood-derived T lymphocytes in response to SDF-1. In contrast, SDF-1-stimulated actin polymerization was only partially inhibited by PI 3-kinase inhibitors, suggesting that while chemotaxis is fully dependent on PI 3-kinase activation, actin polymerization requires additional biochemical inputs. Finally, SDF-1-stimulated extracellular signal-related kinase (ERK)-1/2 mitogen-activated protein kinase activation was inhibited by PI 3-kinase inhibitors. In addition, the mitogen-activated protein/ERK kinase inhibitor PD098059 partially attenuated chemotaxis in response to SDF-1. Hence, it appears that ERK1/2 activation is dependent on PI 3-kinase activation, and both biochemical events are involved in the regulation of SDF-1-stimulated chemotaxis.\n",
      "\n",
      "generated_summary\n",
      "\n",
      " This enables actin polymerization. The actin polymerization involved_in extracellular signal transduction. The actin-activated protein kinase inhibitor involved_in extracellular signal transduction. The actin-activated protein kinase inhibitor enables actin binding. The actin-activated protein kinase inhibitor PD0880 involved_in extracellular signal transduction. The actin-activated protein kinase inhibitor involved_in extracellular signal transduction. The actin-\n",
      "\n",
      "actual_summary\n",
      "\n",
      "AKT1 enables protein kinase activity; involved_in G protein-coupled receptor signaling pathway. <|pad|> <|pad|> <|pad|> <|pad|> <|pad|> <|pad|> <|pad|> <|pad|> <|pad|> <|pad|> <|pad|> <|pad|> <|pad|> <|pad|> <|pad|> <|pad|> <|pad|> <|pad|> <|pad|> <|pad|> <|pad|> <|pad|> <|pad|> <|pad|> <|pad|> <|pad|> <|pad|> <|pad|> <|pad|> <|pad|> <|pad|> <|pad|> <|pad|> <|pad|> <|pad|> <|pad|> <|pad|> <|pad|> <|pad|> <|pad|> <|pad|> <|pad|> <|pad|> <|pad|> <|pad|> <|pad|> <|pad|> <|pad|> <|pad|> <|pad|> <|pad|> <|pad|> <|pad|> <|pad|> <|pad|> <|pad|> <|pad|> <|pad|> <|pad|> <|pad|> <|pad|> <|pad|> <|pad|> <|pad|> <|pad|> <|pad|> <|pad|> <|pad|> <|pad|> <|pad|> <|pad|> <|pad|> <|pad|> <|pad|> <|pad|> <|pad|> <|pad|> <|pad|>\n",
      "\n",
      "loss: 0.056177783757448196\n",
      "\n",
      "loss: 0.0423562191426754\n",
      "\n",
      "loss: 0.03900265693664551\n",
      "\n",
      "loss: 0.03783383592963219\n",
      "\n",
      "loss: 0.05107824504375458\n",
      "\n",
      "loss: 0.053832776844501495\n",
      "\n",
      "loss: 0.04279175400733948\n",
      "\n",
      "loss: 0.04805101081728935\n",
      "\n",
      "loss: 0.05044378712773323\n",
      "\n"
     ]
    },
    {
     "data": {
      "application/vnd.jupyter.widget-view+json": {
       "model_id": "f5dc9a7f4e284be8a36dc8c13b4ca0a6",
       "version_major": 2,
       "version_minor": 0
      },
      "text/plain": [
       "Evaluating:   0%|          | 0/770 [00:00<?, ?it/s]"
      ]
     },
     "metadata": {},
     "output_type": "display_data"
    },
    {
     "name": "stdout",
     "output_type": "stream",
     "text": [
      "perplexity: 5.160376071929932\n",
      "After 771 updates: \n",
      "\n"
     ]
    },
    {
     "data": {
      "application/vnd.jupyter.widget-view+json": {
       "model_id": "b604bdb40ecd4b83bedc66d88201098b",
       "version_major": 2,
       "version_minor": 0
      },
      "text/plain": [
       "  0%|          | 0/100 [00:00<?, ?it/s]"
      ]
     },
     "metadata": {},
     "output_type": "display_data"
    },
    {
     "name": "stdout",
     "output_type": "stream",
     "text": [
      "The peptide repeat domain of nucleoporin Nup98 functions as a docking site in transport across the nuclear pore complex. We report the cDNA deduced primary structure of a wheat germ agglutinin-reactive nuclear pore complex (NPC) protein of rat. The protein, termed Nup98 (for nucleoporin of 98 kDa), contains numerous GLFG and FG repeats and some FXFG repeats and is thus a vertebrate member of a family of GLFG nucleoporins that were previously discovered in yeast. Immunoelectron microscopy showed Nup98 to be asymmetrically located at the nucleoplasmic side of the NPC. Nup98 functions as one of several docking site nucleoporins in a cytosolic docking activity-mediated binding of a model transport substrate. The docking site of Nup98 was mapped to its N-terminal half, which contains all of the peptide repeats. A recombinant segment of this region depleted the docking activity of cytosol. We suggest that the peptide repeat domain of Nup98, together with peptide repeat domains of other nucleoporins, forms an array of sites for mediated docking of transport substrate, and that bidirectional transport across the NPC proceeds by repeated docking and undocking reactions.\n",
      "\n",
      "generated_summary\n",
      "\n"
     ]
    },
    {
     "data": {
      "application/vnd.jupyter.widget-view+json": {
       "model_id": "626a61d988924a6e95bcb001cd123568",
       "version_major": 2,
       "version_minor": 0
      },
      "text/plain": [
       "  0%|          | 0/100 [00:00<?, ?it/s]"
      ]
     },
     "metadata": {},
     "output_type": "display_data"
    },
    {
     "name": "stdout",
     "output_type": "stream",
     "text": [
      "The CXC chemokine stromal cell-derived factor activates a Gi-coupled phosphoinositide 3-kinase in T lymphocytes. The cellular effects of stromal cell-derived factor-1 (SDF-1) are mediated primarily by binding to the CXC chemokine receptor-4. We report in this study that SDF-1 and its peptide analogues induce a concentration- and time-dependent accumulation of phosphatidylinositol-(3,4,5)-trisphosphate (PtdIns(3,4,5)P3) in Jurkat cells. This SDF-1-stimulated generation of D-3 phosphoinositide lipids was inhibited by pretreatment of the cells with an SDF-1 peptide antagonist or an anti-CXCR4 Ab. In addition, the phosphoinositide 3 (PI 3)-kinase inhibitors wortmannin and LY294002, as well as the Gi protein inhibitor pertussis toxin, also inhibited the SDF-1-stimulated accumulation of PtdIns(3,4,5)P3. The effects of SDF-1 on D-3 phosphoinositide lipid accumulation correlated well with activation of the known PI 3-kinase effector protein kinase B, which was also inhibited by wortmannin and pertussis toxin. Concentrations of PI 3-kinase inhibitors, sufficient to inhibit PtdIns(3,4,5)P3 accumulation, also inhibited chemotaxis of Jurkat and peripheral blood-derived T lymphocytes in response to SDF-1. In contrast, SDF-1-stimulated actin polymerization was only partially inhibited by PI 3-kinase inhibitors, suggesting that while chemotaxis is fully dependent on PI 3-kinase activation, actin polymerization requires additional biochemical inputs. Finally, SDF-1-stimulated extracellular signal-related kinase (ERK)-1/2 mitogen-activated protein kinase activation was inhibited by PI 3-kinase inhibitors. In addition, the mitogen-activated protein/ERK kinase inhibitor PD098059 partially attenuated chemotaxis in response to SDF-1. Hence, it appears that ERK1/2 activation is dependent on PI 3-kinase activation, and both biochemical events are involved in the regulation of SDF-1-stimulated chemotaxis.\n",
      "\n",
      "generated_summary\n",
      "\n",
      "loss: 0.012858893722295761\n",
      "\n",
      "loss: 0.046934034675359726\n",
      "\n",
      "loss: 0.03894994780421257\n",
      "\n",
      "loss: 0.057466067373752594\n",
      "\n",
      "loss: 0.04852737858891487\n",
      "\n",
      "loss: 0.0566352903842926\n",
      "\n",
      "loss: 0.05074616149067879\n",
      "\n",
      "loss: 0.0718727707862854\n",
      "\n",
      "loss: 0.07734173536300659\n",
      "\n",
      "loss: 0.02317444607615471\n",
      "\n"
     ]
    },
    {
     "data": {
      "application/vnd.jupyter.widget-view+json": {
       "model_id": "1ea081b01dcf4365bdfe922655bf2c09",
       "version_major": 2,
       "version_minor": 0
      },
      "text/plain": [
       "Evaluating:   0%|          | 0/770 [00:00<?, ?it/s]"
      ]
     },
     "metadata": {},
     "output_type": "display_data"
    },
    {
     "name": "stdout",
     "output_type": "stream",
     "text": [
      "perplexity: 5.184394359588623\n",
      "After 781 updates: \n",
      "\n"
     ]
    },
    {
     "data": {
      "application/vnd.jupyter.widget-view+json": {
       "model_id": "bc8623bae2024b30b2ad6c3f6d21f871",
       "version_major": 2,
       "version_minor": 0
      },
      "text/plain": [
       "  0%|          | 0/100 [00:00<?, ?it/s]"
      ]
     },
     "metadata": {},
     "output_type": "display_data"
    },
    {
     "name": "stdout",
     "output_type": "stream",
     "text": [
      "The peptide repeat domain of nucleoporin Nup98 functions as a docking site in transport across the nuclear pore complex. We report the cDNA deduced primary structure of a wheat germ agglutinin-reactive nuclear pore complex (NPC) protein of rat. The protein, termed Nup98 (for nucleoporin of 98 kDa), contains numerous GLFG and FG repeats and some FXFG repeats and is thus a vertebrate member of a family of GLFG nucleoporins that were previously discovered in yeast. Immunoelectron microscopy showed Nup98 to be asymmetrically located at the nucleoplasmic side of the NPC. Nup98 functions as one of several docking site nucleoporins in a cytosolic docking activity-mediated binding of a model transport substrate. The docking site of Nup98 was mapped to its N-terminal half, which contains all of the peptide repeats. A recombinant segment of this region depleted the docking activity of cytosol. We suggest that the peptide repeat domain of Nup98, together with peptide repeat domains of other nucleoporins, forms an array of sites for mediated docking of transport substrate, and that bidirectional transport across the NPC proceeds by repeated docking and undocking reactions.\n",
      "\n",
      "generated_summary\n",
      "\n"
     ]
    },
    {
     "data": {
      "application/vnd.jupyter.widget-view+json": {
       "model_id": "ae6d29db05fc4829a0d9fe7ce9ea503c",
       "version_major": 2,
       "version_minor": 0
      },
      "text/plain": [
       "  0%|          | 0/100 [00:00<?, ?it/s]"
      ]
     },
     "metadata": {},
     "output_type": "display_data"
    },
    {
     "name": "stdout",
     "output_type": "stream",
     "text": [
      "The CXC chemokine stromal cell-derived factor activates a Gi-coupled phosphoinositide 3-kinase in T lymphocytes. The cellular effects of stromal cell-derived factor-1 (SDF-1) are mediated primarily by binding to the CXC chemokine receptor-4. We report in this study that SDF-1 and its peptide analogues induce a concentration- and time-dependent accumulation of phosphatidylinositol-(3,4,5)-trisphosphate (PtdIns(3,4,5)P3) in Jurkat cells. This SDF-1-stimulated generation of D-3 phosphoinositide lipids was inhibited by pretreatment of the cells with an SDF-1 peptide antagonist or an anti-CXCR4 Ab. In addition, the phosphoinositide 3 (PI 3)-kinase inhibitors wortmannin and LY294002, as well as the Gi protein inhibitor pertussis toxin, also inhibited the SDF-1-stimulated accumulation of PtdIns(3,4,5)P3. The effects of SDF-1 on D-3 phosphoinositide lipid accumulation correlated well with activation of the known PI 3-kinase effector protein kinase B, which was also inhibited by wortmannin and pertussis toxin. Concentrations of PI 3-kinase inhibitors, sufficient to inhibit PtdIns(3,4,5)P3 accumulation, also inhibited chemotaxis of Jurkat and peripheral blood-derived T lymphocytes in response to SDF-1. In contrast, SDF-1-stimulated actin polymerization was only partially inhibited by PI 3-kinase inhibitors, suggesting that while chemotaxis is fully dependent on PI 3-kinase activation, actin polymerization requires additional biochemical inputs. Finally, SDF-1-stimulated extracellular signal-related kinase (ERK)-1/2 mitogen-activated protein kinase activation was inhibited by PI 3-kinase inhibitors. In addition, the mitogen-activated protein/ERK kinase inhibitor PD098059 partially attenuated chemotaxis in response to SDF-1. Hence, it appears that ERK1/2 activation is dependent on PI 3-kinase activation, and both biochemical events are involved in the regulation of SDF-1-stimulated chemotaxis.\n",
      "\n",
      "generated_summary\n",
      "\n",
      "loss: 0.03307479992508888\n",
      "\n",
      "loss: 0.0379519984126091\n",
      "\n",
      "loss: 0.05544351041316986\n",
      "\n",
      "loss: 0.0488482266664505\n",
      "\n",
      "loss: 0.021085064858198166\n",
      "\n",
      "loss: 0.03666384518146515\n",
      "\n",
      "loss: 0.04830105975270271\n",
      "\n",
      "loss: 0.07514557987451553\n",
      "\n",
      "loss: 0.02806560881435871\n",
      "\n",
      "loss: 0.0412619486451149\n",
      "\n"
     ]
    },
    {
     "data": {
      "application/vnd.jupyter.widget-view+json": {
       "model_id": "ef2fc4775a3748869e9e7268dd01a78f",
       "version_major": 2,
       "version_minor": 0
      },
      "text/plain": [
       "Evaluating:   0%|          | 0/770 [00:00<?, ?it/s]"
      ]
     },
     "metadata": {},
     "output_type": "display_data"
    },
    {
     "name": "stdout",
     "output_type": "stream",
     "text": [
      "perplexity: 5.205316543579102\n",
      "After 791 updates: \n",
      "\n"
     ]
    },
    {
     "data": {
      "application/vnd.jupyter.widget-view+json": {
       "model_id": "2488031c637a4af5be7e4dcfc0639984",
       "version_major": 2,
       "version_minor": 0
      },
      "text/plain": [
       "  0%|          | 0/100 [00:00<?, ?it/s]"
      ]
     },
     "metadata": {},
     "output_type": "display_data"
    },
    {
     "name": "stdout",
     "output_type": "stream",
     "text": [
      "The peptide repeat domain of nucleoporin Nup98 functions as a docking site in transport across the nuclear pore complex. We report the cDNA deduced primary structure of a wheat germ agglutinin-reactive nuclear pore complex (NPC) protein of rat. The protein, termed Nup98 (for nucleoporin of 98 kDa), contains numerous GLFG and FG repeats and some FXFG repeats and is thus a vertebrate member of a family of GLFG nucleoporins that were previously discovered in yeast. Immunoelectron microscopy showed Nup98 to be asymmetrically located at the nucleoplasmic side of the NPC. Nup98 functions as one of several docking site nucleoporins in a cytosolic docking activity-mediated binding of a model transport substrate. The docking site of Nup98 was mapped to its N-terminal half, which contains all of the peptide repeats. A recombinant segment of this region depleted the docking activity of cytosol. We suggest that the peptide repeat domain of Nup98, together with peptide repeat domains of other nucleoporins, forms an array of sites for mediated docking of transport substrate, and that bidirectional transport across the NPC proceeds by repeated docking and undocking reactions.\n",
      "\n",
      "generated_summary\n",
      "\n"
     ]
    },
    {
     "data": {
      "application/vnd.jupyter.widget-view+json": {
       "model_id": "9acacf6c6cc9420ca96b9c9714e24050",
       "version_major": 2,
       "version_minor": 0
      },
      "text/plain": [
       "  0%|          | 0/100 [00:00<?, ?it/s]"
      ]
     },
     "metadata": {},
     "output_type": "display_data"
    },
    {
     "name": "stdout",
     "output_type": "stream",
     "text": [
      "The CXC chemokine stromal cell-derived factor activates a Gi-coupled phosphoinositide 3-kinase in T lymphocytes. The cellular effects of stromal cell-derived factor-1 (SDF-1) are mediated primarily by binding to the CXC chemokine receptor-4. We report in this study that SDF-1 and its peptide analogues induce a concentration- and time-dependent accumulation of phosphatidylinositol-(3,4,5)-trisphosphate (PtdIns(3,4,5)P3) in Jurkat cells. This SDF-1-stimulated generation of D-3 phosphoinositide lipids was inhibited by pretreatment of the cells with an SDF-1 peptide antagonist or an anti-CXCR4 Ab. In addition, the phosphoinositide 3 (PI 3)-kinase inhibitors wortmannin and LY294002, as well as the Gi protein inhibitor pertussis toxin, also inhibited the SDF-1-stimulated accumulation of PtdIns(3,4,5)P3. The effects of SDF-1 on D-3 phosphoinositide lipid accumulation correlated well with activation of the known PI 3-kinase effector protein kinase B, which was also inhibited by wortmannin and pertussis toxin. Concentrations of PI 3-kinase inhibitors, sufficient to inhibit PtdIns(3,4,5)P3 accumulation, also inhibited chemotaxis of Jurkat and peripheral blood-derived T lymphocytes in response to SDF-1. In contrast, SDF-1-stimulated actin polymerization was only partially inhibited by PI 3-kinase inhibitors, suggesting that while chemotaxis is fully dependent on PI 3-kinase activation, actin polymerization requires additional biochemical inputs. Finally, SDF-1-stimulated extracellular signal-related kinase (ERK)-1/2 mitogen-activated protein kinase activation was inhibited by PI 3-kinase inhibitors. In addition, the mitogen-activated protein/ERK kinase inhibitor PD098059 partially attenuated chemotaxis in response to SDF-1. Hence, it appears that ERK1/2 activation is dependent on PI 3-kinase activation, and both biochemical events are involved in the regulation of SDF-1-stimulated chemotaxis.\n",
      "\n",
      "generated_summary\n",
      "\n",
      "loss: 0.09821662306785583\n",
      "\n",
      "loss: 0.035936977714300156\n",
      "\n",
      "loss: 0.060751449316740036\n",
      "\n",
      "loss: 0.07492110878229141\n",
      "\n",
      "loss: 0.022291019558906555\n",
      "\n",
      "loss: 0.03985465317964554\n",
      "\n",
      "loss: 0.08748326450586319\n",
      "\n",
      "loss: 0.07063072919845581\n",
      "\n",
      "loss: 0.050092872232198715\n",
      "\n",
      "loss: 0.04763075336813927\n",
      "\n"
     ]
    },
    {
     "data": {
      "application/vnd.jupyter.widget-view+json": {
       "model_id": "b27ec3ee209a409c8915b5fb4bd6a3b2",
       "version_major": 2,
       "version_minor": 0
      },
      "text/plain": [
       "Evaluating:   0%|          | 0/770 [00:00<?, ?it/s]"
      ]
     },
     "metadata": {},
     "output_type": "display_data"
    },
    {
     "name": "stdout",
     "output_type": "stream",
     "text": [
      "perplexity: 4.881106853485107\n",
      "After 801 updates: \n",
      "\n"
     ]
    },
    {
     "data": {
      "application/vnd.jupyter.widget-view+json": {
       "model_id": "87a4bc88cf0149e5a5d4b8d8e8862606",
       "version_major": 2,
       "version_minor": 0
      },
      "text/plain": [
       "  0%|          | 0/100 [00:00<?, ?it/s]"
      ]
     },
     "metadata": {},
     "output_type": "display_data"
    },
    {
     "name": "stdout",
     "output_type": "stream",
     "text": [
      "The peptide repeat domain of nucleoporin Nup98 functions as a docking site in transport across the nuclear pore complex. We report the cDNA deduced primary structure of a wheat germ agglutinin-reactive nuclear pore complex (NPC) protein of rat. The protein, termed Nup98 (for nucleoporin of 98 kDa), contains numerous GLFG and FG repeats and some FXFG repeats and is thus a vertebrate member of a family of GLFG nucleoporins that were previously discovered in yeast. Immunoelectron microscopy showed Nup98 to be asymmetrically located at the nucleoplasmic side of the NPC. Nup98 functions as one of several docking site nucleoporins in a cytosolic docking activity-mediated binding of a model transport substrate. The docking site of Nup98 was mapped to its N-terminal half, which contains all of the peptide repeats. A recombinant segment of this region depleted the docking activity of cytosol. We suggest that the peptide repeat domain of Nup98, together with peptide repeat domains of other nucleoporins, forms an array of sites for mediated docking of transport substrate, and that bidirectional transport across the NPC proceeds by repeated docking and undocking reactions.\n",
      "\n",
      "generated_summary\n",
      "\n"
     ]
    },
    {
     "data": {
      "application/vnd.jupyter.widget-view+json": {
       "model_id": "1e5339a96db244b98a720c20f38fb841",
       "version_major": 2,
       "version_minor": 0
      },
      "text/plain": [
       "  0%|          | 0/100 [00:00<?, ?it/s]"
      ]
     },
     "metadata": {},
     "output_type": "display_data"
    },
    {
     "name": "stdout",
     "output_type": "stream",
     "text": [
      "The CXC chemokine stromal cell-derived factor activates a Gi-coupled phosphoinositide 3-kinase in T lymphocytes. The cellular effects of stromal cell-derived factor-1 (SDF-1) are mediated primarily by binding to the CXC chemokine receptor-4. We report in this study that SDF-1 and its peptide analogues induce a concentration- and time-dependent accumulation of phosphatidylinositol-(3,4,5)-trisphosphate (PtdIns(3,4,5)P3) in Jurkat cells. This SDF-1-stimulated generation of D-3 phosphoinositide lipids was inhibited by pretreatment of the cells with an SDF-1 peptide antagonist or an anti-CXCR4 Ab. In addition, the phosphoinositide 3 (PI 3)-kinase inhibitors wortmannin and LY294002, as well as the Gi protein inhibitor pertussis toxin, also inhibited the SDF-1-stimulated accumulation of PtdIns(3,4,5)P3. The effects of SDF-1 on D-3 phosphoinositide lipid accumulation correlated well with activation of the known PI 3-kinase effector protein kinase B, which was also inhibited by wortmannin and pertussis toxin. Concentrations of PI 3-kinase inhibitors, sufficient to inhibit PtdIns(3,4,5)P3 accumulation, also inhibited chemotaxis of Jurkat and peripheral blood-derived T lymphocytes in response to SDF-1. In contrast, SDF-1-stimulated actin polymerization was only partially inhibited by PI 3-kinase inhibitors, suggesting that while chemotaxis is fully dependent on PI 3-kinase activation, actin polymerization requires additional biochemical inputs. Finally, SDF-1-stimulated extracellular signal-related kinase (ERK)-1/2 mitogen-activated protein kinase activation was inhibited by PI 3-kinase inhibitors. In addition, the mitogen-activated protein/ERK kinase inhibitor PD098059 partially attenuated chemotaxis in response to SDF-1. Hence, it appears that ERK1/2 activation is dependent on PI 3-kinase activation, and both biochemical events are involved in the regulation of SDF-1-stimulated chemotaxis.\n",
      "\n",
      "generated_summary\n",
      "\n",
      "loss: 0.061539508402347565\n",
      "\n",
      "loss: 0.05315101891756058\n",
      "\n",
      "loss: 0.06006545573472977\n",
      "\n",
      "loss: 0.016945797950029373\n",
      "\n",
      "loss: 0.06508272141218185\n",
      "\n",
      "loss: 0.06750024110078812\n",
      "\n",
      "loss: 0.08431088179349899\n",
      "\n",
      "loss: 0.030213486403226852\n",
      "\n",
      "loss: 0.03465934470295906\n",
      "\n",
      "loss: 0.06445661187171936\n",
      "\n"
     ]
    },
    {
     "data": {
      "application/vnd.jupyter.widget-view+json": {
       "model_id": "bfdaccb1b4604b06969a5ca7a2f2cc0d",
       "version_major": 2,
       "version_minor": 0
      },
      "text/plain": [
       "Evaluating:   0%|          | 0/770 [00:00<?, ?it/s]"
      ]
     },
     "metadata": {},
     "output_type": "display_data"
    },
    {
     "name": "stdout",
     "output_type": "stream",
     "text": [
      "perplexity: 4.77602481842041\n",
      "After 811 updates: \n",
      "\n"
     ]
    },
    {
     "data": {
      "application/vnd.jupyter.widget-view+json": {
       "model_id": "2249b1bc031a4aaa835182d3cda09604",
       "version_major": 2,
       "version_minor": 0
      },
      "text/plain": [
       "  0%|          | 0/100 [00:00<?, ?it/s]"
      ]
     },
     "metadata": {},
     "output_type": "display_data"
    },
    {
     "name": "stdout",
     "output_type": "stream",
     "text": [
      "The peptide repeat domain of nucleoporin Nup98 functions as a docking site in transport across the nuclear pore complex. We report the cDNA deduced primary structure of a wheat germ agglutinin-reactive nuclear pore complex (NPC) protein of rat. The protein, termed Nup98 (for nucleoporin of 98 kDa), contains numerous GLFG and FG repeats and some FXFG repeats and is thus a vertebrate member of a family of GLFG nucleoporins that were previously discovered in yeast. Immunoelectron microscopy showed Nup98 to be asymmetrically located at the nucleoplasmic side of the NPC. Nup98 functions as one of several docking site nucleoporins in a cytosolic docking activity-mediated binding of a model transport substrate. The docking site of Nup98 was mapped to its N-terminal half, which contains all of the peptide repeats. A recombinant segment of this region depleted the docking activity of cytosol. We suggest that the peptide repeat domain of Nup98, together with peptide repeat domains of other nucleoporins, forms an array of sites for mediated docking of transport substrate, and that bidirectional transport across the NPC proceeds by repeated docking and undocking reactions.\n",
      "\n",
      "generated_summary\n",
      "\n"
     ]
    },
    {
     "data": {
      "application/vnd.jupyter.widget-view+json": {
       "model_id": "9c247946448b4cfb8ea21df6e8c903ed",
       "version_major": 2,
       "version_minor": 0
      },
      "text/plain": [
       "  0%|          | 0/100 [00:00<?, ?it/s]"
      ]
     },
     "metadata": {},
     "output_type": "display_data"
    },
    {
     "name": "stdout",
     "output_type": "stream",
     "text": [
      "The CXC chemokine stromal cell-derived factor activates a Gi-coupled phosphoinositide 3-kinase in T lymphocytes. The cellular effects of stromal cell-derived factor-1 (SDF-1) are mediated primarily by binding to the CXC chemokine receptor-4. We report in this study that SDF-1 and its peptide analogues induce a concentration- and time-dependent accumulation of phosphatidylinositol-(3,4,5)-trisphosphate (PtdIns(3,4,5)P3) in Jurkat cells. This SDF-1-stimulated generation of D-3 phosphoinositide lipids was inhibited by pretreatment of the cells with an SDF-1 peptide antagonist or an anti-CXCR4 Ab. In addition, the phosphoinositide 3 (PI 3)-kinase inhibitors wortmannin and LY294002, as well as the Gi protein inhibitor pertussis toxin, also inhibited the SDF-1-stimulated accumulation of PtdIns(3,4,5)P3. The effects of SDF-1 on D-3 phosphoinositide lipid accumulation correlated well with activation of the known PI 3-kinase effector protein kinase B, which was also inhibited by wortmannin and pertussis toxin. Concentrations of PI 3-kinase inhibitors, sufficient to inhibit PtdIns(3,4,5)P3 accumulation, also inhibited chemotaxis of Jurkat and peripheral blood-derived T lymphocytes in response to SDF-1. In contrast, SDF-1-stimulated actin polymerization was only partially inhibited by PI 3-kinase inhibitors, suggesting that while chemotaxis is fully dependent on PI 3-kinase activation, actin polymerization requires additional biochemical inputs. Finally, SDF-1-stimulated extracellular signal-related kinase (ERK)-1/2 mitogen-activated protein kinase activation was inhibited by PI 3-kinase inhibitors. In addition, the mitogen-activated protein/ERK kinase inhibitor PD098059 partially attenuated chemotaxis in response to SDF-1. Hence, it appears that ERK1/2 activation is dependent on PI 3-kinase activation, and both biochemical events are involved in the regulation of SDF-1-stimulated chemotaxis.\n",
      "\n",
      "generated_summary\n",
      "\n",
      "loss: 0.051700253039598465\n",
      "\n",
      "loss: 0.05974943935871124\n",
      "\n",
      "loss: 0.08837460726499557\n",
      "\n",
      "loss: 0.051759764552116394\n",
      "\n",
      "loss: 0.04366123676300049\n",
      "\n",
      "loss: 0.05737660825252533\n",
      "\n",
      "loss: 0.03434111922979355\n",
      "\n",
      "loss: 0.03874071314930916\n",
      "\n",
      "loss: 0.040445953607559204\n",
      "\n",
      "loss: 0.04200497642159462\n",
      "\n"
     ]
    },
    {
     "data": {
      "application/vnd.jupyter.widget-view+json": {
       "model_id": "4e09472ccdbd40e0910bfe96bf2016ae",
       "version_major": 2,
       "version_minor": 0
      },
      "text/plain": [
       "Evaluating:   0%|          | 0/770 [00:00<?, ?it/s]"
      ]
     },
     "metadata": {},
     "output_type": "display_data"
    },
    {
     "name": "stdout",
     "output_type": "stream",
     "text": [
      "perplexity: 4.846427917480469\n",
      "After 821 updates: \n",
      "\n"
     ]
    },
    {
     "data": {
      "application/vnd.jupyter.widget-view+json": {
       "model_id": "fd90c4f33f304a3ba6bf83abce9cce50",
       "version_major": 2,
       "version_minor": 0
      },
      "text/plain": [
       "  0%|          | 0/100 [00:00<?, ?it/s]"
      ]
     },
     "metadata": {},
     "output_type": "display_data"
    },
    {
     "name": "stdout",
     "output_type": "stream",
     "text": [
      "The peptide repeat domain of nucleoporin Nup98 functions as a docking site in transport across the nuclear pore complex. We report the cDNA deduced primary structure of a wheat germ agglutinin-reactive nuclear pore complex (NPC) protein of rat. The protein, termed Nup98 (for nucleoporin of 98 kDa), contains numerous GLFG and FG repeats and some FXFG repeats and is thus a vertebrate member of a family of GLFG nucleoporins that were previously discovered in yeast. Immunoelectron microscopy showed Nup98 to be asymmetrically located at the nucleoplasmic side of the NPC. Nup98 functions as one of several docking site nucleoporins in a cytosolic docking activity-mediated binding of a model transport substrate. The docking site of Nup98 was mapped to its N-terminal half, which contains all of the peptide repeats. A recombinant segment of this region depleted the docking activity of cytosol. We suggest that the peptide repeat domain of Nup98, together with peptide repeat domains of other nucleoporins, forms an array of sites for mediated docking of transport substrate, and that bidirectional transport across the NPC proceeds by repeated docking and undocking reactions.\n",
      "\n",
      "generated_summary\n",
      "\n"
     ]
    },
    {
     "data": {
      "application/vnd.jupyter.widget-view+json": {
       "model_id": "534f8fe2bb7c4e77b9d86364c5bb5045",
       "version_major": 2,
       "version_minor": 0
      },
      "text/plain": [
       "  0%|          | 0/100 [00:00<?, ?it/s]"
      ]
     },
     "metadata": {},
     "output_type": "display_data"
    },
    {
     "name": "stdout",
     "output_type": "stream",
     "text": [
      "The CXC chemokine stromal cell-derived factor activates a Gi-coupled phosphoinositide 3-kinase in T lymphocytes. The cellular effects of stromal cell-derived factor-1 (SDF-1) are mediated primarily by binding to the CXC chemokine receptor-4. We report in this study that SDF-1 and its peptide analogues induce a concentration- and time-dependent accumulation of phosphatidylinositol-(3,4,5)-trisphosphate (PtdIns(3,4,5)P3) in Jurkat cells. This SDF-1-stimulated generation of D-3 phosphoinositide lipids was inhibited by pretreatment of the cells with an SDF-1 peptide antagonist or an anti-CXCR4 Ab. In addition, the phosphoinositide 3 (PI 3)-kinase inhibitors wortmannin and LY294002, as well as the Gi protein inhibitor pertussis toxin, also inhibited the SDF-1-stimulated accumulation of PtdIns(3,4,5)P3. The effects of SDF-1 on D-3 phosphoinositide lipid accumulation correlated well with activation of the known PI 3-kinase effector protein kinase B, which was also inhibited by wortmannin and pertussis toxin. Concentrations of PI 3-kinase inhibitors, sufficient to inhibit PtdIns(3,4,5)P3 accumulation, also inhibited chemotaxis of Jurkat and peripheral blood-derived T lymphocytes in response to SDF-1. In contrast, SDF-1-stimulated actin polymerization was only partially inhibited by PI 3-kinase inhibitors, suggesting that while chemotaxis is fully dependent on PI 3-kinase activation, actin polymerization requires additional biochemical inputs. Finally, SDF-1-stimulated extracellular signal-related kinase (ERK)-1/2 mitogen-activated protein kinase activation was inhibited by PI 3-kinase inhibitors. In addition, the mitogen-activated protein/ERK kinase inhibitor PD098059 partially attenuated chemotaxis in response to SDF-1. Hence, it appears that ERK1/2 activation is dependent on PI 3-kinase activation, and both biochemical events are involved in the regulation of SDF-1-stimulated chemotaxis.\n",
      "\n",
      "generated_summary\n",
      "\n",
      "loss: 0.06362834572792053\n",
      "\n",
      "loss: 0.05847819149494171\n",
      "\n",
      "loss: 0.057376764714717865\n",
      "\n",
      "loss: 0.02698601223528385\n",
      "\n",
      "loss: 0.027282949537038803\n",
      "\n",
      "loss: 0.0505530945956707\n",
      "\n",
      "loss: 0.04602159187197685\n",
      "\n",
      "loss: 0.029209092259407043\n",
      "\n",
      "loss: 0.053468555212020874\n",
      "\n",
      "loss: 0.01863022893667221\n",
      "\n"
     ]
    },
    {
     "data": {
      "application/vnd.jupyter.widget-view+json": {
       "model_id": "ce7d4b2914314b6ebda4b129e195730e",
       "version_major": 2,
       "version_minor": 0
      },
      "text/plain": [
       "Evaluating:   0%|          | 0/770 [00:00<?, ?it/s]"
      ]
     },
     "metadata": {},
     "output_type": "display_data"
    },
    {
     "name": "stdout",
     "output_type": "stream",
     "text": [
      "perplexity: 4.822363376617432\n",
      "After 831 updates: \n",
      "\n"
     ]
    },
    {
     "data": {
      "application/vnd.jupyter.widget-view+json": {
       "model_id": "2488d88f08bf423abe53a81e42221b89",
       "version_major": 2,
       "version_minor": 0
      },
      "text/plain": [
       "  0%|          | 0/100 [00:00<?, ?it/s]"
      ]
     },
     "metadata": {},
     "output_type": "display_data"
    },
    {
     "name": "stdout",
     "output_type": "stream",
     "text": [
      "The peptide repeat domain of nucleoporin Nup98 functions as a docking site in transport across the nuclear pore complex. We report the cDNA deduced primary structure of a wheat germ agglutinin-reactive nuclear pore complex (NPC) protein of rat. The protein, termed Nup98 (for nucleoporin of 98 kDa), contains numerous GLFG and FG repeats and some FXFG repeats and is thus a vertebrate member of a family of GLFG nucleoporins that were previously discovered in yeast. Immunoelectron microscopy showed Nup98 to be asymmetrically located at the nucleoplasmic side of the NPC. Nup98 functions as one of several docking site nucleoporins in a cytosolic docking activity-mediated binding of a model transport substrate. The docking site of Nup98 was mapped to its N-terminal half, which contains all of the peptide repeats. A recombinant segment of this region depleted the docking activity of cytosol. We suggest that the peptide repeat domain of Nup98, together with peptide repeat domains of other nucleoporins, forms an array of sites for mediated docking of transport substrate, and that bidirectional transport across the NPC proceeds by repeated docking and undocking reactions.\n",
      "\n",
      "generated_summary\n",
      "\n"
     ]
    },
    {
     "data": {
      "application/vnd.jupyter.widget-view+json": {
       "model_id": "37d02b7b181b4083a94ca7a899fa7e0d",
       "version_major": 2,
       "version_minor": 0
      },
      "text/plain": [
       "  0%|          | 0/100 [00:00<?, ?it/s]"
      ]
     },
     "metadata": {},
     "output_type": "display_data"
    },
    {
     "name": "stdout",
     "output_type": "stream",
     "text": [
      "The CXC chemokine stromal cell-derived factor activates a Gi-coupled phosphoinositide 3-kinase in T lymphocytes. The cellular effects of stromal cell-derived factor-1 (SDF-1) are mediated primarily by binding to the CXC chemokine receptor-4. We report in this study that SDF-1 and its peptide analogues induce a concentration- and time-dependent accumulation of phosphatidylinositol-(3,4,5)-trisphosphate (PtdIns(3,4,5)P3) in Jurkat cells. This SDF-1-stimulated generation of D-3 phosphoinositide lipids was inhibited by pretreatment of the cells with an SDF-1 peptide antagonist or an anti-CXCR4 Ab. In addition, the phosphoinositide 3 (PI 3)-kinase inhibitors wortmannin and LY294002, as well as the Gi protein inhibitor pertussis toxin, also inhibited the SDF-1-stimulated accumulation of PtdIns(3,4,5)P3. The effects of SDF-1 on D-3 phosphoinositide lipid accumulation correlated well with activation of the known PI 3-kinase effector protein kinase B, which was also inhibited by wortmannin and pertussis toxin. Concentrations of PI 3-kinase inhibitors, sufficient to inhibit PtdIns(3,4,5)P3 accumulation, also inhibited chemotaxis of Jurkat and peripheral blood-derived T lymphocytes in response to SDF-1. In contrast, SDF-1-stimulated actin polymerization was only partially inhibited by PI 3-kinase inhibitors, suggesting that while chemotaxis is fully dependent on PI 3-kinase activation, actin polymerization requires additional biochemical inputs. Finally, SDF-1-stimulated extracellular signal-related kinase (ERK)-1/2 mitogen-activated protein kinase activation was inhibited by PI 3-kinase inhibitors. In addition, the mitogen-activated protein/ERK kinase inhibitor PD098059 partially attenuated chemotaxis in response to SDF-1. Hence, it appears that ERK1/2 activation is dependent on PI 3-kinase activation, and both biochemical events are involved in the regulation of SDF-1-stimulated chemotaxis.\n",
      "\n",
      "generated_summary\n",
      "\n",
      "loss: 0.03924494981765747\n",
      "\n",
      "loss: 0.072029247879982\n",
      "\n",
      "loss: 0.0742361769080162\n",
      "\n",
      "loss: 0.07981427013874054\n",
      "\n",
      "loss: 0.04783904179930687\n",
      "\n",
      "loss: 0.030764257535338402\n",
      "\n",
      "loss: 0.08160508424043655\n",
      "\n",
      "loss: 0.06254161149263382\n",
      "\n",
      "loss: 0.02449469082057476\n",
      "\n",
      "loss: 0.041283342987298965\n",
      "\n"
     ]
    },
    {
     "data": {
      "application/vnd.jupyter.widget-view+json": {
       "model_id": "f45ed745fc864ef08f2a6c89a50d1b11",
       "version_major": 2,
       "version_minor": 0
      },
      "text/plain": [
       "Evaluating:   0%|          | 0/770 [00:00<?, ?it/s]"
      ]
     },
     "metadata": {},
     "output_type": "display_data"
    },
    {
     "name": "stdout",
     "output_type": "stream",
     "text": [
      "perplexity: 4.775207042694092\n",
      "After 841 updates: \n",
      "\n"
     ]
    },
    {
     "data": {
      "application/vnd.jupyter.widget-view+json": {
       "model_id": "b969e1abff0e49528563c7e9dc38bb7f",
       "version_major": 2,
       "version_minor": 0
      },
      "text/plain": [
       "  0%|          | 0/100 [00:00<?, ?it/s]"
      ]
     },
     "metadata": {},
     "output_type": "display_data"
    },
    {
     "name": "stdout",
     "output_type": "stream",
     "text": [
      "The peptide repeat domain of nucleoporin Nup98 functions as a docking site in transport across the nuclear pore complex. We report the cDNA deduced primary structure of a wheat germ agglutinin-reactive nuclear pore complex (NPC) protein of rat. The protein, termed Nup98 (for nucleoporin of 98 kDa), contains numerous GLFG and FG repeats and some FXFG repeats and is thus a vertebrate member of a family of GLFG nucleoporins that were previously discovered in yeast. Immunoelectron microscopy showed Nup98 to be asymmetrically located at the nucleoplasmic side of the NPC. Nup98 functions as one of several docking site nucleoporins in a cytosolic docking activity-mediated binding of a model transport substrate. The docking site of Nup98 was mapped to its N-terminal half, which contains all of the peptide repeats. A recombinant segment of this region depleted the docking activity of cytosol. We suggest that the peptide repeat domain of Nup98, together with peptide repeat domains of other nucleoporins, forms an array of sites for mediated docking of transport substrate, and that bidirectional transport across the NPC proceeds by repeated docking and undocking reactions.\n",
      "\n",
      "generated_summary\n",
      "\n"
     ]
    },
    {
     "data": {
      "application/vnd.jupyter.widget-view+json": {
       "model_id": "b5ea238a752a4caa84137453b735fc48",
       "version_major": 2,
       "version_minor": 0
      },
      "text/plain": [
       "  0%|          | 0/100 [00:00<?, ?it/s]"
      ]
     },
     "metadata": {},
     "output_type": "display_data"
    },
    {
     "name": "stdout",
     "output_type": "stream",
     "text": [
      "The CXC chemokine stromal cell-derived factor activates a Gi-coupled phosphoinositide 3-kinase in T lymphocytes. The cellular effects of stromal cell-derived factor-1 (SDF-1) are mediated primarily by binding to the CXC chemokine receptor-4. We report in this study that SDF-1 and its peptide analogues induce a concentration- and time-dependent accumulation of phosphatidylinositol-(3,4,5)-trisphosphate (PtdIns(3,4,5)P3) in Jurkat cells. This SDF-1-stimulated generation of D-3 phosphoinositide lipids was inhibited by pretreatment of the cells with an SDF-1 peptide antagonist or an anti-CXCR4 Ab. In addition, the phosphoinositide 3 (PI 3)-kinase inhibitors wortmannin and LY294002, as well as the Gi protein inhibitor pertussis toxin, also inhibited the SDF-1-stimulated accumulation of PtdIns(3,4,5)P3. The effects of SDF-1 on D-3 phosphoinositide lipid accumulation correlated well with activation of the known PI 3-kinase effector protein kinase B, which was also inhibited by wortmannin and pertussis toxin. Concentrations of PI 3-kinase inhibitors, sufficient to inhibit PtdIns(3,4,5)P3 accumulation, also inhibited chemotaxis of Jurkat and peripheral blood-derived T lymphocytes in response to SDF-1. In contrast, SDF-1-stimulated actin polymerization was only partially inhibited by PI 3-kinase inhibitors, suggesting that while chemotaxis is fully dependent on PI 3-kinase activation, actin polymerization requires additional biochemical inputs. Finally, SDF-1-stimulated extracellular signal-related kinase (ERK)-1/2 mitogen-activated protein kinase activation was inhibited by PI 3-kinase inhibitors. In addition, the mitogen-activated protein/ERK kinase inhibitor PD098059 partially attenuated chemotaxis in response to SDF-1. Hence, it appears that ERK1/2 activation is dependent on PI 3-kinase activation, and both biochemical events are involved in the regulation of SDF-1-stimulated chemotaxis.\n",
      "\n",
      "generated_summary\n",
      "\n",
      "loss: 0.0807868242263794\n",
      "\n",
      "loss: 0.04253436625003815\n",
      "\n",
      "loss: 0.03082810342311859\n",
      "\n",
      "loss: 0.04768742248415947\n",
      "\n",
      "loss: 0.10539012402296066\n",
      "\n",
      "loss: 0.04168209061026573\n",
      "\n",
      "loss: 0.024845479056239128\n",
      "\n",
      "loss: 0.03786228224635124\n",
      "\n",
      "loss: 0.024728897958993912\n",
      "\n",
      "loss: 0.04564281180500984\n",
      "\n"
     ]
    },
    {
     "data": {
      "application/vnd.jupyter.widget-view+json": {
       "model_id": "13f00f9053714db3977a78db268a00f3",
       "version_major": 2,
       "version_minor": 0
      },
      "text/plain": [
       "Evaluating:   0%|          | 0/770 [00:00<?, ?it/s]"
      ]
     },
     "metadata": {},
     "output_type": "display_data"
    },
    {
     "name": "stdout",
     "output_type": "stream",
     "text": [
      "perplexity: 4.690581798553467\n",
      "After 851 updates: \n",
      "\n"
     ]
    },
    {
     "data": {
      "application/vnd.jupyter.widget-view+json": {
       "model_id": "9c6c94f374584ed98be0a353c0f4c4a0",
       "version_major": 2,
       "version_minor": 0
      },
      "text/plain": [
       "  0%|          | 0/100 [00:00<?, ?it/s]"
      ]
     },
     "metadata": {},
     "output_type": "display_data"
    },
    {
     "name": "stdout",
     "output_type": "stream",
     "text": [
      "The peptide repeat domain of nucleoporin Nup98 functions as a docking site in transport across the nuclear pore complex. We report the cDNA deduced primary structure of a wheat germ agglutinin-reactive nuclear pore complex (NPC) protein of rat. The protein, termed Nup98 (for nucleoporin of 98 kDa), contains numerous GLFG and FG repeats and some FXFG repeats and is thus a vertebrate member of a family of GLFG nucleoporins that were previously discovered in yeast. Immunoelectron microscopy showed Nup98 to be asymmetrically located at the nucleoplasmic side of the NPC. Nup98 functions as one of several docking site nucleoporins in a cytosolic docking activity-mediated binding of a model transport substrate. The docking site of Nup98 was mapped to its N-terminal half, which contains all of the peptide repeats. A recombinant segment of this region depleted the docking activity of cytosol. We suggest that the peptide repeat domain of Nup98, together with peptide repeat domains of other nucleoporins, forms an array of sites for mediated docking of transport substrate, and that bidirectional transport across the NPC proceeds by repeated docking and undocking reactions.\n",
      "\n",
      "generated_summary\n",
      "\n"
     ]
    },
    {
     "data": {
      "application/vnd.jupyter.widget-view+json": {
       "model_id": "f7a5cc6da9384fd39b252321972f4b36",
       "version_major": 2,
       "version_minor": 0
      },
      "text/plain": [
       "  0%|          | 0/100 [00:00<?, ?it/s]"
      ]
     },
     "metadata": {},
     "output_type": "display_data"
    },
    {
     "name": "stdout",
     "output_type": "stream",
     "text": [
      "The CXC chemokine stromal cell-derived factor activates a Gi-coupled phosphoinositide 3-kinase in T lymphocytes. The cellular effects of stromal cell-derived factor-1 (SDF-1) are mediated primarily by binding to the CXC chemokine receptor-4. We report in this study that SDF-1 and its peptide analogues induce a concentration- and time-dependent accumulation of phosphatidylinositol-(3,4,5)-trisphosphate (PtdIns(3,4,5)P3) in Jurkat cells. This SDF-1-stimulated generation of D-3 phosphoinositide lipids was inhibited by pretreatment of the cells with an SDF-1 peptide antagonist or an anti-CXCR4 Ab. In addition, the phosphoinositide 3 (PI 3)-kinase inhibitors wortmannin and LY294002, as well as the Gi protein inhibitor pertussis toxin, also inhibited the SDF-1-stimulated accumulation of PtdIns(3,4,5)P3. The effects of SDF-1 on D-3 phosphoinositide lipid accumulation correlated well with activation of the known PI 3-kinase effector protein kinase B, which was also inhibited by wortmannin and pertussis toxin. Concentrations of PI 3-kinase inhibitors, sufficient to inhibit PtdIns(3,4,5)P3 accumulation, also inhibited chemotaxis of Jurkat and peripheral blood-derived T lymphocytes in response to SDF-1. In contrast, SDF-1-stimulated actin polymerization was only partially inhibited by PI 3-kinase inhibitors, suggesting that while chemotaxis is fully dependent on PI 3-kinase activation, actin polymerization requires additional biochemical inputs. Finally, SDF-1-stimulated extracellular signal-related kinase (ERK)-1/2 mitogen-activated protein kinase activation was inhibited by PI 3-kinase inhibitors. In addition, the mitogen-activated protein/ERK kinase inhibitor PD098059 partially attenuated chemotaxis in response to SDF-1. Hence, it appears that ERK1/2 activation is dependent on PI 3-kinase activation, and both biochemical events are involved in the regulation of SDF-1-stimulated chemotaxis.\n",
      "\n",
      "generated_summary\n",
      "\n",
      "loss: 0.020115768536925316\n",
      "\n",
      "loss: 0.025207674130797386\n",
      "\n",
      "loss: 0.029701482504606247\n",
      "\n",
      "loss: 0.042833246290683746\n",
      "\n",
      "loss: 0.041273631155490875\n",
      "\n",
      "loss: 0.0728660523891449\n",
      "\n",
      "loss: 0.028015518561005592\n",
      "\n",
      "loss: 0.07053820788860321\n",
      "\n",
      "loss: 0.03461925685405731\n",
      "\n",
      "loss: 0.04832527041435242\n",
      "\n"
     ]
    },
    {
     "data": {
      "application/vnd.jupyter.widget-view+json": {
       "model_id": "1e6f8d52559045f6941170443ade7104",
       "version_major": 2,
       "version_minor": 0
      },
      "text/plain": [
       "Evaluating:   0%|          | 0/770 [00:00<?, ?it/s]"
      ]
     },
     "metadata": {},
     "output_type": "display_data"
    },
    {
     "name": "stdout",
     "output_type": "stream",
     "text": [
      "perplexity: 4.735513687133789\n",
      "After 861 updates: \n",
      "\n"
     ]
    },
    {
     "data": {
      "application/vnd.jupyter.widget-view+json": {
       "model_id": "61d01dc917c744aba4b086953b5855e6",
       "version_major": 2,
       "version_minor": 0
      },
      "text/plain": [
       "  0%|          | 0/100 [00:00<?, ?it/s]"
      ]
     },
     "metadata": {},
     "output_type": "display_data"
    },
    {
     "name": "stdout",
     "output_type": "stream",
     "text": [
      "The peptide repeat domain of nucleoporin Nup98 functions as a docking site in transport across the nuclear pore complex. We report the cDNA deduced primary structure of a wheat germ agglutinin-reactive nuclear pore complex (NPC) protein of rat. The protein, termed Nup98 (for nucleoporin of 98 kDa), contains numerous GLFG and FG repeats and some FXFG repeats and is thus a vertebrate member of a family of GLFG nucleoporins that were previously discovered in yeast. Immunoelectron microscopy showed Nup98 to be asymmetrically located at the nucleoplasmic side of the NPC. Nup98 functions as one of several docking site nucleoporins in a cytosolic docking activity-mediated binding of a model transport substrate. The docking site of Nup98 was mapped to its N-terminal half, which contains all of the peptide repeats. A recombinant segment of this region depleted the docking activity of cytosol. We suggest that the peptide repeat domain of Nup98, together with peptide repeat domains of other nucleoporins, forms an array of sites for mediated docking of transport substrate, and that bidirectional transport across the NPC proceeds by repeated docking and undocking reactions.\n",
      "\n",
      "generated_summary\n",
      "\n"
     ]
    },
    {
     "data": {
      "application/vnd.jupyter.widget-view+json": {
       "model_id": "6b46927cf46643be9d67c34b79942b4f",
       "version_major": 2,
       "version_minor": 0
      },
      "text/plain": [
       "  0%|          | 0/100 [00:00<?, ?it/s]"
      ]
     },
     "metadata": {},
     "output_type": "display_data"
    },
    {
     "name": "stdout",
     "output_type": "stream",
     "text": [
      "The CXC chemokine stromal cell-derived factor activates a Gi-coupled phosphoinositide 3-kinase in T lymphocytes. The cellular effects of stromal cell-derived factor-1 (SDF-1) are mediated primarily by binding to the CXC chemokine receptor-4. We report in this study that SDF-1 and its peptide analogues induce a concentration- and time-dependent accumulation of phosphatidylinositol-(3,4,5)-trisphosphate (PtdIns(3,4,5)P3) in Jurkat cells. This SDF-1-stimulated generation of D-3 phosphoinositide lipids was inhibited by pretreatment of the cells with an SDF-1 peptide antagonist or an anti-CXCR4 Ab. In addition, the phosphoinositide 3 (PI 3)-kinase inhibitors wortmannin and LY294002, as well as the Gi protein inhibitor pertussis toxin, also inhibited the SDF-1-stimulated accumulation of PtdIns(3,4,5)P3. The effects of SDF-1 on D-3 phosphoinositide lipid accumulation correlated well with activation of the known PI 3-kinase effector protein kinase B, which was also inhibited by wortmannin and pertussis toxin. Concentrations of PI 3-kinase inhibitors, sufficient to inhibit PtdIns(3,4,5)P3 accumulation, also inhibited chemotaxis of Jurkat and peripheral blood-derived T lymphocytes in response to SDF-1. In contrast, SDF-1-stimulated actin polymerization was only partially inhibited by PI 3-kinase inhibitors, suggesting that while chemotaxis is fully dependent on PI 3-kinase activation, actin polymerization requires additional biochemical inputs. Finally, SDF-1-stimulated extracellular signal-related kinase (ERK)-1/2 mitogen-activated protein kinase activation was inhibited by PI 3-kinase inhibitors. In addition, the mitogen-activated protein/ERK kinase inhibitor PD098059 partially attenuated chemotaxis in response to SDF-1. Hence, it appears that ERK1/2 activation is dependent on PI 3-kinase activation, and both biochemical events are involved in the regulation of SDF-1-stimulated chemotaxis.\n",
      "\n",
      "generated_summary\n",
      "\n",
      "loss: 0.04364417493343353\n",
      "\n",
      "loss: 0.01444527879357338\n",
      "\n",
      "loss: 0.048719026148319244\n",
      "\n",
      "loss: 0.03722056373953819\n",
      "\n",
      "loss: 0.041531793773174286\n",
      "\n",
      "loss: 0.04469602182507515\n",
      "\n",
      "loss: 0.08540987223386765\n",
      "\n",
      "loss: 0.08579093217849731\n",
      "\n",
      "loss: 0.03881784901022911\n",
      "\n",
      "loss: 0.09103889763355255\n",
      "\n"
     ]
    },
    {
     "data": {
      "application/vnd.jupyter.widget-view+json": {
       "model_id": "79f29e2d299946039a2418dcfe15aac1",
       "version_major": 2,
       "version_minor": 0
      },
      "text/plain": [
       "Evaluating:   0%|          | 0/770 [00:00<?, ?it/s]"
      ]
     },
     "metadata": {},
     "output_type": "display_data"
    },
    {
     "name": "stdout",
     "output_type": "stream",
     "text": [
      "perplexity: 4.83333158493042\n",
      "After 871 updates: \n",
      "\n"
     ]
    },
    {
     "data": {
      "application/vnd.jupyter.widget-view+json": {
       "model_id": "094e614f35224f159d3af96446787e4e",
       "version_major": 2,
       "version_minor": 0
      },
      "text/plain": [
       "  0%|          | 0/100 [00:00<?, ?it/s]"
      ]
     },
     "metadata": {},
     "output_type": "display_data"
    },
    {
     "name": "stdout",
     "output_type": "stream",
     "text": [
      "The peptide repeat domain of nucleoporin Nup98 functions as a docking site in transport across the nuclear pore complex. We report the cDNA deduced primary structure of a wheat germ agglutinin-reactive nuclear pore complex (NPC) protein of rat. The protein, termed Nup98 (for nucleoporin of 98 kDa), contains numerous GLFG and FG repeats and some FXFG repeats and is thus a vertebrate member of a family of GLFG nucleoporins that were previously discovered in yeast. Immunoelectron microscopy showed Nup98 to be asymmetrically located at the nucleoplasmic side of the NPC. Nup98 functions as one of several docking site nucleoporins in a cytosolic docking activity-mediated binding of a model transport substrate. The docking site of Nup98 was mapped to its N-terminal half, which contains all of the peptide repeats. A recombinant segment of this region depleted the docking activity of cytosol. We suggest that the peptide repeat domain of Nup98, together with peptide repeat domains of other nucleoporins, forms an array of sites for mediated docking of transport substrate, and that bidirectional transport across the NPC proceeds by repeated docking and undocking reactions.\n",
      "\n",
      "generated_summary\n",
      "\n"
     ]
    },
    {
     "data": {
      "application/vnd.jupyter.widget-view+json": {
       "model_id": "e61201f081c74b04a5fee111de535de5",
       "version_major": 2,
       "version_minor": 0
      },
      "text/plain": [
       "  0%|          | 0/100 [00:00<?, ?it/s]"
      ]
     },
     "metadata": {},
     "output_type": "display_data"
    },
    {
     "name": "stdout",
     "output_type": "stream",
     "text": [
      "The CXC chemokine stromal cell-derived factor activates a Gi-coupled phosphoinositide 3-kinase in T lymphocytes. The cellular effects of stromal cell-derived factor-1 (SDF-1) are mediated primarily by binding to the CXC chemokine receptor-4. We report in this study that SDF-1 and its peptide analogues induce a concentration- and time-dependent accumulation of phosphatidylinositol-(3,4,5)-trisphosphate (PtdIns(3,4,5)P3) in Jurkat cells. This SDF-1-stimulated generation of D-3 phosphoinositide lipids was inhibited by pretreatment of the cells with an SDF-1 peptide antagonist or an anti-CXCR4 Ab. In addition, the phosphoinositide 3 (PI 3)-kinase inhibitors wortmannin and LY294002, as well as the Gi protein inhibitor pertussis toxin, also inhibited the SDF-1-stimulated accumulation of PtdIns(3,4,5)P3. The effects of SDF-1 on D-3 phosphoinositide lipid accumulation correlated well with activation of the known PI 3-kinase effector protein kinase B, which was also inhibited by wortmannin and pertussis toxin. Concentrations of PI 3-kinase inhibitors, sufficient to inhibit PtdIns(3,4,5)P3 accumulation, also inhibited chemotaxis of Jurkat and peripheral blood-derived T lymphocytes in response to SDF-1. In contrast, SDF-1-stimulated actin polymerization was only partially inhibited by PI 3-kinase inhibitors, suggesting that while chemotaxis is fully dependent on PI 3-kinase activation, actin polymerization requires additional biochemical inputs. Finally, SDF-1-stimulated extracellular signal-related kinase (ERK)-1/2 mitogen-activated protein kinase activation was inhibited by PI 3-kinase inhibitors. In addition, the mitogen-activated protein/ERK kinase inhibitor PD098059 partially attenuated chemotaxis in response to SDF-1. Hence, it appears that ERK1/2 activation is dependent on PI 3-kinase activation, and both biochemical events are involved in the regulation of SDF-1-stimulated chemotaxis.\n",
      "\n",
      "generated_summary\n",
      "\n",
      "loss: 0.03830469027161598\n",
      "\n",
      "loss: 0.09478501230478287\n",
      "\n",
      "loss: 0.02286316081881523\n",
      "\n",
      "loss: 0.02501295879483223\n",
      "\n",
      "loss: 0.06546276807785034\n",
      "\n",
      "loss: 0.06751979142427444\n",
      "\n",
      "loss: 0.04486953467130661\n",
      "\n",
      "loss: 0.049407605081796646\n",
      "\n",
      "loss: 0.03962493687868118\n",
      "\n",
      "loss: 0.043130435049533844\n",
      "\n"
     ]
    },
    {
     "data": {
      "application/vnd.jupyter.widget-view+json": {
       "model_id": "53970e5821b94d37b690ae3524423bbe",
       "version_major": 2,
       "version_minor": 0
      },
      "text/plain": [
       "Evaluating:   0%|          | 0/770 [00:00<?, ?it/s]"
      ]
     },
     "metadata": {},
     "output_type": "display_data"
    },
    {
     "name": "stdout",
     "output_type": "stream",
     "text": [
      "perplexity: 4.744576930999756\n",
      "After 881 updates: \n",
      "\n"
     ]
    },
    {
     "data": {
      "application/vnd.jupyter.widget-view+json": {
       "model_id": "a0169d458f9142e4896c8e7428a330d6",
       "version_major": 2,
       "version_minor": 0
      },
      "text/plain": [
       "  0%|          | 0/100 [00:00<?, ?it/s]"
      ]
     },
     "metadata": {},
     "output_type": "display_data"
    },
    {
     "name": "stdout",
     "output_type": "stream",
     "text": [
      "The peptide repeat domain of nucleoporin Nup98 functions as a docking site in transport across the nuclear pore complex. We report the cDNA deduced primary structure of a wheat germ agglutinin-reactive nuclear pore complex (NPC) protein of rat. The protein, termed Nup98 (for nucleoporin of 98 kDa), contains numerous GLFG and FG repeats and some FXFG repeats and is thus a vertebrate member of a family of GLFG nucleoporins that were previously discovered in yeast. Immunoelectron microscopy showed Nup98 to be asymmetrically located at the nucleoplasmic side of the NPC. Nup98 functions as one of several docking site nucleoporins in a cytosolic docking activity-mediated binding of a model transport substrate. The docking site of Nup98 was mapped to its N-terminal half, which contains all of the peptide repeats. A recombinant segment of this region depleted the docking activity of cytosol. We suggest that the peptide repeat domain of Nup98, together with peptide repeat domains of other nucleoporins, forms an array of sites for mediated docking of transport substrate, and that bidirectional transport across the NPC proceeds by repeated docking and undocking reactions.\n",
      "\n",
      "generated_summary\n",
      "\n"
     ]
    },
    {
     "data": {
      "application/vnd.jupyter.widget-view+json": {
       "model_id": "211bc58155b84259ab3c8849583d631e",
       "version_major": 2,
       "version_minor": 0
      },
      "text/plain": [
       "  0%|          | 0/100 [00:00<?, ?it/s]"
      ]
     },
     "metadata": {},
     "output_type": "display_data"
    },
    {
     "name": "stdout",
     "output_type": "stream",
     "text": [
      "The CXC chemokine stromal cell-derived factor activates a Gi-coupled phosphoinositide 3-kinase in T lymphocytes. The cellular effects of stromal cell-derived factor-1 (SDF-1) are mediated primarily by binding to the CXC chemokine receptor-4. We report in this study that SDF-1 and its peptide analogues induce a concentration- and time-dependent accumulation of phosphatidylinositol-(3,4,5)-trisphosphate (PtdIns(3,4,5)P3) in Jurkat cells. This SDF-1-stimulated generation of D-3 phosphoinositide lipids was inhibited by pretreatment of the cells with an SDF-1 peptide antagonist or an anti-CXCR4 Ab. In addition, the phosphoinositide 3 (PI 3)-kinase inhibitors wortmannin and LY294002, as well as the Gi protein inhibitor pertussis toxin, also inhibited the SDF-1-stimulated accumulation of PtdIns(3,4,5)P3. The effects of SDF-1 on D-3 phosphoinositide lipid accumulation correlated well with activation of the known PI 3-kinase effector protein kinase B, which was also inhibited by wortmannin and pertussis toxin. Concentrations of PI 3-kinase inhibitors, sufficient to inhibit PtdIns(3,4,5)P3 accumulation, also inhibited chemotaxis of Jurkat and peripheral blood-derived T lymphocytes in response to SDF-1. In contrast, SDF-1-stimulated actin polymerization was only partially inhibited by PI 3-kinase inhibitors, suggesting that while chemotaxis is fully dependent on PI 3-kinase activation, actin polymerization requires additional biochemical inputs. Finally, SDF-1-stimulated extracellular signal-related kinase (ERK)-1/2 mitogen-activated protein kinase activation was inhibited by PI 3-kinase inhibitors. In addition, the mitogen-activated protein/ERK kinase inhibitor PD098059 partially attenuated chemotaxis in response to SDF-1. Hence, it appears that ERK1/2 activation is dependent on PI 3-kinase activation, and both biochemical events are involved in the regulation of SDF-1-stimulated chemotaxis.\n",
      "\n",
      "generated_summary\n",
      "\n",
      "loss: 0.027099857106804848\n",
      "\n",
      "loss: 0.034080833196640015\n",
      "\n",
      "loss: 0.043789539486169815\n",
      "\n",
      "loss: 0.03203694894909859\n",
      "\n",
      "loss: 0.046942006796598434\n",
      "\n",
      "loss: 0.035522833466529846\n",
      "\n",
      "loss: 0.038724564015865326\n",
      "\n",
      "loss: 0.03498956188559532\n",
      "\n",
      "loss: 0.03492220863699913\n",
      "\n",
      "loss: 0.07029462605714798\n",
      "\n"
     ]
    },
    {
     "data": {
      "application/vnd.jupyter.widget-view+json": {
       "model_id": "dd2f60e89c1b452e8c01b985520610d7",
       "version_major": 2,
       "version_minor": 0
      },
      "text/plain": [
       "Evaluating:   0%|          | 0/770 [00:00<?, ?it/s]"
      ]
     },
     "metadata": {},
     "output_type": "display_data"
    },
    {
     "name": "stdout",
     "output_type": "stream",
     "text": [
      "perplexity: 4.764747142791748\n",
      "After 891 updates: \n",
      "\n"
     ]
    },
    {
     "data": {
      "application/vnd.jupyter.widget-view+json": {
       "model_id": "d9763bdb7d5a47eb8c9dad3bed8b4e24",
       "version_major": 2,
       "version_minor": 0
      },
      "text/plain": [
       "  0%|          | 0/100 [00:00<?, ?it/s]"
      ]
     },
     "metadata": {},
     "output_type": "display_data"
    },
    {
     "name": "stdout",
     "output_type": "stream",
     "text": [
      "The peptide repeat domain of nucleoporin Nup98 functions as a docking site in transport across the nuclear pore complex. We report the cDNA deduced primary structure of a wheat germ agglutinin-reactive nuclear pore complex (NPC) protein of rat. The protein, termed Nup98 (for nucleoporin of 98 kDa), contains numerous GLFG and FG repeats and some FXFG repeats and is thus a vertebrate member of a family of GLFG nucleoporins that were previously discovered in yeast. Immunoelectron microscopy showed Nup98 to be asymmetrically located at the nucleoplasmic side of the NPC. Nup98 functions as one of several docking site nucleoporins in a cytosolic docking activity-mediated binding of a model transport substrate. The docking site of Nup98 was mapped to its N-terminal half, which contains all of the peptide repeats. A recombinant segment of this region depleted the docking activity of cytosol. We suggest that the peptide repeat domain of Nup98, together with peptide repeat domains of other nucleoporins, forms an array of sites for mediated docking of transport substrate, and that bidirectional transport across the NPC proceeds by repeated docking and undocking reactions.\n",
      "\n",
      "generated_summary\n",
      "\n"
     ]
    },
    {
     "data": {
      "application/vnd.jupyter.widget-view+json": {
       "model_id": "e135c880000d436c87124d5c03b1ddb9",
       "version_major": 2,
       "version_minor": 0
      },
      "text/plain": [
       "  0%|          | 0/100 [00:00<?, ?it/s]"
      ]
     },
     "metadata": {},
     "output_type": "display_data"
    },
    {
     "name": "stdout",
     "output_type": "stream",
     "text": [
      "The CXC chemokine stromal cell-derived factor activates a Gi-coupled phosphoinositide 3-kinase in T lymphocytes. The cellular effects of stromal cell-derived factor-1 (SDF-1) are mediated primarily by binding to the CXC chemokine receptor-4. We report in this study that SDF-1 and its peptide analogues induce a concentration- and time-dependent accumulation of phosphatidylinositol-(3,4,5)-trisphosphate (PtdIns(3,4,5)P3) in Jurkat cells. This SDF-1-stimulated generation of D-3 phosphoinositide lipids was inhibited by pretreatment of the cells with an SDF-1 peptide antagonist or an anti-CXCR4 Ab. In addition, the phosphoinositide 3 (PI 3)-kinase inhibitors wortmannin and LY294002, as well as the Gi protein inhibitor pertussis toxin, also inhibited the SDF-1-stimulated accumulation of PtdIns(3,4,5)P3. The effects of SDF-1 on D-3 phosphoinositide lipid accumulation correlated well with activation of the known PI 3-kinase effector protein kinase B, which was also inhibited by wortmannin and pertussis toxin. Concentrations of PI 3-kinase inhibitors, sufficient to inhibit PtdIns(3,4,5)P3 accumulation, also inhibited chemotaxis of Jurkat and peripheral blood-derived T lymphocytes in response to SDF-1. In contrast, SDF-1-stimulated actin polymerization was only partially inhibited by PI 3-kinase inhibitors, suggesting that while chemotaxis is fully dependent on PI 3-kinase activation, actin polymerization requires additional biochemical inputs. Finally, SDF-1-stimulated extracellular signal-related kinase (ERK)-1/2 mitogen-activated protein kinase activation was inhibited by PI 3-kinase inhibitors. In addition, the mitogen-activated protein/ERK kinase inhibitor PD098059 partially attenuated chemotaxis in response to SDF-1. Hence, it appears that ERK1/2 activation is dependent on PI 3-kinase activation, and both biochemical events are involved in the regulation of SDF-1-stimulated chemotaxis.\n",
      "\n",
      "generated_summary\n",
      "\n",
      "loss: 0.04067258536815643\n",
      "\n",
      "loss: 0.057076238095760345\n",
      "\n",
      "loss: 0.02412009984254837\n",
      "\n",
      "loss: 0.07178004831075668\n",
      "\n",
      "loss: 0.05714257434010506\n",
      "\n",
      "loss: 0.0250864177942276\n",
      "\n",
      "loss: 0.018151847645640373\n",
      "\n",
      "loss: 0.04973712936043739\n",
      "\n",
      "loss: 0.07019731402397156\n",
      "\n",
      "loss: 0.041266996413469315\n",
      "\n"
     ]
    },
    {
     "data": {
      "application/vnd.jupyter.widget-view+json": {
       "model_id": "1ccc2817291140a4ba7c7d15b0812a48",
       "version_major": 2,
       "version_minor": 0
      },
      "text/plain": [
       "Evaluating:   0%|          | 0/770 [00:00<?, ?it/s]"
      ]
     },
     "metadata": {},
     "output_type": "display_data"
    },
    {
     "name": "stdout",
     "output_type": "stream",
     "text": [
      "perplexity: 4.678309440612793\n",
      "After 901 updates: \n",
      "\n"
     ]
    },
    {
     "data": {
      "application/vnd.jupyter.widget-view+json": {
       "model_id": "54a98ab552704128bf6e15877a3207bc",
       "version_major": 2,
       "version_minor": 0
      },
      "text/plain": [
       "  0%|          | 0/100 [00:00<?, ?it/s]"
      ]
     },
     "metadata": {},
     "output_type": "display_data"
    },
    {
     "name": "stdout",
     "output_type": "stream",
     "text": [
      "The peptide repeat domain of nucleoporin Nup98 functions as a docking site in transport across the nuclear pore complex. We report the cDNA deduced primary structure of a wheat germ agglutinin-reactive nuclear pore complex (NPC) protein of rat. The protein, termed Nup98 (for nucleoporin of 98 kDa), contains numerous GLFG and FG repeats and some FXFG repeats and is thus a vertebrate member of a family of GLFG nucleoporins that were previously discovered in yeast. Immunoelectron microscopy showed Nup98 to be asymmetrically located at the nucleoplasmic side of the NPC. Nup98 functions as one of several docking site nucleoporins in a cytosolic docking activity-mediated binding of a model transport substrate. The docking site of Nup98 was mapped to its N-terminal half, which contains all of the peptide repeats. A recombinant segment of this region depleted the docking activity of cytosol. We suggest that the peptide repeat domain of Nup98, together with peptide repeat domains of other nucleoporins, forms an array of sites for mediated docking of transport substrate, and that bidirectional transport across the NPC proceeds by repeated docking and undocking reactions.\n",
      "\n",
      "generated_summary\n",
      "\n"
     ]
    },
    {
     "data": {
      "application/vnd.jupyter.widget-view+json": {
       "model_id": "7a39fc76071445fe813d988fe21a35f2",
       "version_major": 2,
       "version_minor": 0
      },
      "text/plain": [
       "  0%|          | 0/100 [00:00<?, ?it/s]"
      ]
     },
     "metadata": {},
     "output_type": "display_data"
    },
    {
     "name": "stdout",
     "output_type": "stream",
     "text": [
      "The CXC chemokine stromal cell-derived factor activates a Gi-coupled phosphoinositide 3-kinase in T lymphocytes. The cellular effects of stromal cell-derived factor-1 (SDF-1) are mediated primarily by binding to the CXC chemokine receptor-4. We report in this study that SDF-1 and its peptide analogues induce a concentration- and time-dependent accumulation of phosphatidylinositol-(3,4,5)-trisphosphate (PtdIns(3,4,5)P3) in Jurkat cells. This SDF-1-stimulated generation of D-3 phosphoinositide lipids was inhibited by pretreatment of the cells with an SDF-1 peptide antagonist or an anti-CXCR4 Ab. In addition, the phosphoinositide 3 (PI 3)-kinase inhibitors wortmannin and LY294002, as well as the Gi protein inhibitor pertussis toxin, also inhibited the SDF-1-stimulated accumulation of PtdIns(3,4,5)P3. The effects of SDF-1 on D-3 phosphoinositide lipid accumulation correlated well with activation of the known PI 3-kinase effector protein kinase B, which was also inhibited by wortmannin and pertussis toxin. Concentrations of PI 3-kinase inhibitors, sufficient to inhibit PtdIns(3,4,5)P3 accumulation, also inhibited chemotaxis of Jurkat and peripheral blood-derived T lymphocytes in response to SDF-1. In contrast, SDF-1-stimulated actin polymerization was only partially inhibited by PI 3-kinase inhibitors, suggesting that while chemotaxis is fully dependent on PI 3-kinase activation, actin polymerization requires additional biochemical inputs. Finally, SDF-1-stimulated extracellular signal-related kinase (ERK)-1/2 mitogen-activated protein kinase activation was inhibited by PI 3-kinase inhibitors. In addition, the mitogen-activated protein/ERK kinase inhibitor PD098059 partially attenuated chemotaxis in response to SDF-1. Hence, it appears that ERK1/2 activation is dependent on PI 3-kinase activation, and both biochemical events are involved in the regulation of SDF-1-stimulated chemotaxis.\n",
      "\n",
      "generated_summary\n",
      "\n",
      "loss: 0.037286628037691116\n",
      "\n",
      "loss: 0.03995905816555023\n",
      "\n",
      "loss: 0.0925893485546112\n",
      "\n",
      "loss: 0.0634617730975151\n",
      "\n",
      "loss: 0.04589398577809334\n",
      "\n",
      "loss: 0.06530363857746124\n",
      "\n",
      "loss: 0.04832667484879494\n",
      "\n",
      "loss: 0.024929992854595184\n",
      "\n",
      "loss: 0.04416104406118393\n",
      "\n",
      "loss: 0.07478579133749008\n",
      "\n"
     ]
    },
    {
     "data": {
      "application/vnd.jupyter.widget-view+json": {
       "model_id": "fed92c08d4a2429e9e2dc0e657369c33",
       "version_major": 2,
       "version_minor": 0
      },
      "text/plain": [
       "Evaluating:   0%|          | 0/770 [00:00<?, ?it/s]"
      ]
     },
     "metadata": {},
     "output_type": "display_data"
    },
    {
     "name": "stdout",
     "output_type": "stream",
     "text": [
      "perplexity: 4.632075309753418\n",
      "After 911 updates: \n",
      "\n"
     ]
    },
    {
     "data": {
      "application/vnd.jupyter.widget-view+json": {
       "model_id": "8401e9f3c8c6406e8f5250005b9a3c76",
       "version_major": 2,
       "version_minor": 0
      },
      "text/plain": [
       "  0%|          | 0/100 [00:00<?, ?it/s]"
      ]
     },
     "metadata": {},
     "output_type": "display_data"
    },
    {
     "name": "stdout",
     "output_type": "stream",
     "text": [
      "The peptide repeat domain of nucleoporin Nup98 functions as a docking site in transport across the nuclear pore complex. We report the cDNA deduced primary structure of a wheat germ agglutinin-reactive nuclear pore complex (NPC) protein of rat. The protein, termed Nup98 (for nucleoporin of 98 kDa), contains numerous GLFG and FG repeats and some FXFG repeats and is thus a vertebrate member of a family of GLFG nucleoporins that were previously discovered in yeast. Immunoelectron microscopy showed Nup98 to be asymmetrically located at the nucleoplasmic side of the NPC. Nup98 functions as one of several docking site nucleoporins in a cytosolic docking activity-mediated binding of a model transport substrate. The docking site of Nup98 was mapped to its N-terminal half, which contains all of the peptide repeats. A recombinant segment of this region depleted the docking activity of cytosol. We suggest that the peptide repeat domain of Nup98, together with peptide repeat domains of other nucleoporins, forms an array of sites for mediated docking of transport substrate, and that bidirectional transport across the NPC proceeds by repeated docking and undocking reactions.\n",
      "\n",
      "generated_summary\n",
      "\n"
     ]
    },
    {
     "data": {
      "application/vnd.jupyter.widget-view+json": {
       "model_id": "d4d47a4e17734e3bb0f051770cfc467b",
       "version_major": 2,
       "version_minor": 0
      },
      "text/plain": [
       "  0%|          | 0/100 [00:00<?, ?it/s]"
      ]
     },
     "metadata": {},
     "output_type": "display_data"
    },
    {
     "name": "stdout",
     "output_type": "stream",
     "text": [
      "The CXC chemokine stromal cell-derived factor activates a Gi-coupled phosphoinositide 3-kinase in T lymphocytes. The cellular effects of stromal cell-derived factor-1 (SDF-1) are mediated primarily by binding to the CXC chemokine receptor-4. We report in this study that SDF-1 and its peptide analogues induce a concentration- and time-dependent accumulation of phosphatidylinositol-(3,4,5)-trisphosphate (PtdIns(3,4,5)P3) in Jurkat cells. This SDF-1-stimulated generation of D-3 phosphoinositide lipids was inhibited by pretreatment of the cells with an SDF-1 peptide antagonist or an anti-CXCR4 Ab. In addition, the phosphoinositide 3 (PI 3)-kinase inhibitors wortmannin and LY294002, as well as the Gi protein inhibitor pertussis toxin, also inhibited the SDF-1-stimulated accumulation of PtdIns(3,4,5)P3. The effects of SDF-1 on D-3 phosphoinositide lipid accumulation correlated well with activation of the known PI 3-kinase effector protein kinase B, which was also inhibited by wortmannin and pertussis toxin. Concentrations of PI 3-kinase inhibitors, sufficient to inhibit PtdIns(3,4,5)P3 accumulation, also inhibited chemotaxis of Jurkat and peripheral blood-derived T lymphocytes in response to SDF-1. In contrast, SDF-1-stimulated actin polymerization was only partially inhibited by PI 3-kinase inhibitors, suggesting that while chemotaxis is fully dependent on PI 3-kinase activation, actin polymerization requires additional biochemical inputs. Finally, SDF-1-stimulated extracellular signal-related kinase (ERK)-1/2 mitogen-activated protein kinase activation was inhibited by PI 3-kinase inhibitors. In addition, the mitogen-activated protein/ERK kinase inhibitor PD098059 partially attenuated chemotaxis in response to SDF-1. Hence, it appears that ERK1/2 activation is dependent on PI 3-kinase activation, and both biochemical events are involved in the regulation of SDF-1-stimulated chemotaxis.\n",
      "\n",
      "generated_summary\n",
      "\n",
      "loss: 0.03920092433691025\n",
      "\n",
      "loss: 0.0800752341747284\n",
      "\n",
      "loss: 0.039051078259944916\n",
      "\n",
      "loss: 0.036957643926143646\n",
      "\n",
      "loss: 0.048904553055763245\n",
      "\n",
      "loss: 0.015927055850625038\n",
      "\n",
      "loss: 0.05683634802699089\n",
      "\n",
      "loss: 0.03215143084526062\n",
      "\n",
      "loss: 0.040687087923288345\n",
      "\n",
      "loss: 0.021281417459249496\n",
      "\n"
     ]
    },
    {
     "data": {
      "application/vnd.jupyter.widget-view+json": {
       "model_id": "0f914d5056fb41d599d7e194c48d93b7",
       "version_major": 2,
       "version_minor": 0
      },
      "text/plain": [
       "Evaluating:   0%|          | 0/770 [00:00<?, ?it/s]"
      ]
     },
     "metadata": {},
     "output_type": "display_data"
    },
    {
     "name": "stdout",
     "output_type": "stream",
     "text": [
      "perplexity: 4.620319843292236\n",
      "After 921 updates: \n",
      "\n"
     ]
    },
    {
     "data": {
      "application/vnd.jupyter.widget-view+json": {
       "model_id": "31d7d1962ad3499eb457a383d55f67b0",
       "version_major": 2,
       "version_minor": 0
      },
      "text/plain": [
       "  0%|          | 0/100 [00:00<?, ?it/s]"
      ]
     },
     "metadata": {},
     "output_type": "display_data"
    },
    {
     "name": "stdout",
     "output_type": "stream",
     "text": [
      "The peptide repeat domain of nucleoporin Nup98 functions as a docking site in transport across the nuclear pore complex. We report the cDNA deduced primary structure of a wheat germ agglutinin-reactive nuclear pore complex (NPC) protein of rat. The protein, termed Nup98 (for nucleoporin of 98 kDa), contains numerous GLFG and FG repeats and some FXFG repeats and is thus a vertebrate member of a family of GLFG nucleoporins that were previously discovered in yeast. Immunoelectron microscopy showed Nup98 to be asymmetrically located at the nucleoplasmic side of the NPC. Nup98 functions as one of several docking site nucleoporins in a cytosolic docking activity-mediated binding of a model transport substrate. The docking site of Nup98 was mapped to its N-terminal half, which contains all of the peptide repeats. A recombinant segment of this region depleted the docking activity of cytosol. We suggest that the peptide repeat domain of Nup98, together with peptide repeat domains of other nucleoporins, forms an array of sites for mediated docking of transport substrate, and that bidirectional transport across the NPC proceeds by repeated docking and undocking reactions.\n",
      "\n",
      "generated_summary\n",
      "\n"
     ]
    },
    {
     "data": {
      "application/vnd.jupyter.widget-view+json": {
       "model_id": "46a5565ab65e4b4891e6f73b612ce7de",
       "version_major": 2,
       "version_minor": 0
      },
      "text/plain": [
       "  0%|          | 0/100 [00:00<?, ?it/s]"
      ]
     },
     "metadata": {},
     "output_type": "display_data"
    },
    {
     "name": "stdout",
     "output_type": "stream",
     "text": [
      "The CXC chemokine stromal cell-derived factor activates a Gi-coupled phosphoinositide 3-kinase in T lymphocytes. The cellular effects of stromal cell-derived factor-1 (SDF-1) are mediated primarily by binding to the CXC chemokine receptor-4. We report in this study that SDF-1 and its peptide analogues induce a concentration- and time-dependent accumulation of phosphatidylinositol-(3,4,5)-trisphosphate (PtdIns(3,4,5)P3) in Jurkat cells. This SDF-1-stimulated generation of D-3 phosphoinositide lipids was inhibited by pretreatment of the cells with an SDF-1 peptide antagonist or an anti-CXCR4 Ab. In addition, the phosphoinositide 3 (PI 3)-kinase inhibitors wortmannin and LY294002, as well as the Gi protein inhibitor pertussis toxin, also inhibited the SDF-1-stimulated accumulation of PtdIns(3,4,5)P3. The effects of SDF-1 on D-3 phosphoinositide lipid accumulation correlated well with activation of the known PI 3-kinase effector protein kinase B, which was also inhibited by wortmannin and pertussis toxin. Concentrations of PI 3-kinase inhibitors, sufficient to inhibit PtdIns(3,4,5)P3 accumulation, also inhibited chemotaxis of Jurkat and peripheral blood-derived T lymphocytes in response to SDF-1. In contrast, SDF-1-stimulated actin polymerization was only partially inhibited by PI 3-kinase inhibitors, suggesting that while chemotaxis is fully dependent on PI 3-kinase activation, actin polymerization requires additional biochemical inputs. Finally, SDF-1-stimulated extracellular signal-related kinase (ERK)-1/2 mitogen-activated protein kinase activation was inhibited by PI 3-kinase inhibitors. In addition, the mitogen-activated protein/ERK kinase inhibitor PD098059 partially attenuated chemotaxis in response to SDF-1. Hence, it appears that ERK1/2 activation is dependent on PI 3-kinase activation, and both biochemical events are involved in the regulation of SDF-1-stimulated chemotaxis.\n",
      "\n",
      "generated_summary\n",
      "\n",
      "loss: 0.08016029745340347\n",
      "\n",
      "loss: 0.029497874900698662\n",
      "\n",
      "loss: 0.14486955106258392\n",
      "\n",
      "loss: 0.07682322710752487\n",
      "\n",
      "loss: 0.099774070084095\n",
      "\n",
      "loss: 0.027670999988913536\n",
      "\n",
      "loss: 0.09096605330705643\n",
      "\n",
      "loss: 0.05154145881533623\n",
      "\n",
      "loss: 0.05098635330796242\n",
      "\n",
      "loss: 0.04454848915338516\n",
      "\n"
     ]
    },
    {
     "data": {
      "application/vnd.jupyter.widget-view+json": {
       "model_id": "a935b42b77dd4239ae7bcb3dcaf1f85f",
       "version_major": 2,
       "version_minor": 0
      },
      "text/plain": [
       "Evaluating:   0%|          | 0/770 [00:00<?, ?it/s]"
      ]
     },
     "metadata": {},
     "output_type": "display_data"
    },
    {
     "name": "stdout",
     "output_type": "stream",
     "text": [
      "perplexity: 6.814483165740967\n",
      "After 931 updates: \n",
      "\n"
     ]
    },
    {
     "data": {
      "application/vnd.jupyter.widget-view+json": {
       "model_id": "1c3e42985ecb474da062944284c67343",
       "version_major": 2,
       "version_minor": 0
      },
      "text/plain": [
       "  0%|          | 0/100 [00:00<?, ?it/s]"
      ]
     },
     "metadata": {},
     "output_type": "display_data"
    },
    {
     "name": "stdout",
     "output_type": "stream",
     "text": [
      "The peptide repeat domain of nucleoporin Nup98 functions as a docking site in transport across the nuclear pore complex. We report the cDNA deduced primary structure of a wheat germ agglutinin-reactive nuclear pore complex (NPC) protein of rat. The protein, termed Nup98 (for nucleoporin of 98 kDa), contains numerous GLFG and FG repeats and some FXFG repeats and is thus a vertebrate member of a family of GLFG nucleoporins that were previously discovered in yeast. Immunoelectron microscopy showed Nup98 to be asymmetrically located at the nucleoplasmic side of the NPC. Nup98 functions as one of several docking site nucleoporins in a cytosolic docking activity-mediated binding of a model transport substrate. The docking site of Nup98 was mapped to its N-terminal half, which contains all of the peptide repeats. A recombinant segment of this region depleted the docking activity of cytosol. We suggest that the peptide repeat domain of Nup98, together with peptide repeat domains of other nucleoporins, forms an array of sites for mediated docking of transport substrate, and that bidirectional transport across the NPC proceeds by repeated docking and undocking reactions.\n",
      "\n",
      "generated_summary\n",
      "\n"
     ]
    },
    {
     "data": {
      "application/vnd.jupyter.widget-view+json": {
       "model_id": "2a37f052f11b4d1fab7176d23d07b6e7",
       "version_major": 2,
       "version_minor": 0
      },
      "text/plain": [
       "  0%|          | 0/100 [00:00<?, ?it/s]"
      ]
     },
     "metadata": {},
     "output_type": "display_data"
    },
    {
     "name": "stdout",
     "output_type": "stream",
     "text": [
      "The CXC chemokine stromal cell-derived factor activates a Gi-coupled phosphoinositide 3-kinase in T lymphocytes. The cellular effects of stromal cell-derived factor-1 (SDF-1) are mediated primarily by binding to the CXC chemokine receptor-4. We report in this study that SDF-1 and its peptide analogues induce a concentration- and time-dependent accumulation of phosphatidylinositol-(3,4,5)-trisphosphate (PtdIns(3,4,5)P3) in Jurkat cells. This SDF-1-stimulated generation of D-3 phosphoinositide lipids was inhibited by pretreatment of the cells with an SDF-1 peptide antagonist or an anti-CXCR4 Ab. In addition, the phosphoinositide 3 (PI 3)-kinase inhibitors wortmannin and LY294002, as well as the Gi protein inhibitor pertussis toxin, also inhibited the SDF-1-stimulated accumulation of PtdIns(3,4,5)P3. The effects of SDF-1 on D-3 phosphoinositide lipid accumulation correlated well with activation of the known PI 3-kinase effector protein kinase B, which was also inhibited by wortmannin and pertussis toxin. Concentrations of PI 3-kinase inhibitors, sufficient to inhibit PtdIns(3,4,5)P3 accumulation, also inhibited chemotaxis of Jurkat and peripheral blood-derived T lymphocytes in response to SDF-1. In contrast, SDF-1-stimulated actin polymerization was only partially inhibited by PI 3-kinase inhibitors, suggesting that while chemotaxis is fully dependent on PI 3-kinase activation, actin polymerization requires additional biochemical inputs. Finally, SDF-1-stimulated extracellular signal-related kinase (ERK)-1/2 mitogen-activated protein kinase activation was inhibited by PI 3-kinase inhibitors. In addition, the mitogen-activated protein/ERK kinase inhibitor PD098059 partially attenuated chemotaxis in response to SDF-1. Hence, it appears that ERK1/2 activation is dependent on PI 3-kinase activation, and both biochemical events are involved in the regulation of SDF-1-stimulated chemotaxis.\n",
      "\n",
      "generated_summary\n",
      "\n",
      "loss: 0.09446029365062714\n",
      "\n",
      "loss: 0.035423681139945984\n",
      "\n",
      "loss: 0.03609737381339073\n",
      "\n",
      "loss: 0.052592962980270386\n",
      "\n",
      "loss: 0.07505282014608383\n",
      "\n",
      "loss: 0.0549803264439106\n",
      "\n",
      "loss: 0.05417851731181145\n",
      "\n",
      "loss: 0.02997046895325184\n",
      "\n",
      "loss: 0.0356871522963047\n",
      "\n",
      "loss: 0.06775723397731781\n",
      "\n"
     ]
    },
    {
     "data": {
      "application/vnd.jupyter.widget-view+json": {
       "model_id": "79a6ba4c6556440286c1228032d6b67a",
       "version_major": 2,
       "version_minor": 0
      },
      "text/plain": [
       "Evaluating:   0%|          | 0/770 [00:00<?, ?it/s]"
      ]
     },
     "metadata": {},
     "output_type": "display_data"
    },
    {
     "name": "stdout",
     "output_type": "stream",
     "text": [
      "perplexity: 4.725273132324219\n",
      "After 941 updates: \n",
      "\n"
     ]
    },
    {
     "data": {
      "application/vnd.jupyter.widget-view+json": {
       "model_id": "201eb26c57e146a4a8aa031153e3dd0e",
       "version_major": 2,
       "version_minor": 0
      },
      "text/plain": [
       "  0%|          | 0/100 [00:00<?, ?it/s]"
      ]
     },
     "metadata": {},
     "output_type": "display_data"
    },
    {
     "name": "stdout",
     "output_type": "stream",
     "text": [
      "The peptide repeat domain of nucleoporin Nup98 functions as a docking site in transport across the nuclear pore complex. We report the cDNA deduced primary structure of a wheat germ agglutinin-reactive nuclear pore complex (NPC) protein of rat. The protein, termed Nup98 (for nucleoporin of 98 kDa), contains numerous GLFG and FG repeats and some FXFG repeats and is thus a vertebrate member of a family of GLFG nucleoporins that were previously discovered in yeast. Immunoelectron microscopy showed Nup98 to be asymmetrically located at the nucleoplasmic side of the NPC. Nup98 functions as one of several docking site nucleoporins in a cytosolic docking activity-mediated binding of a model transport substrate. The docking site of Nup98 was mapped to its N-terminal half, which contains all of the peptide repeats. A recombinant segment of this region depleted the docking activity of cytosol. We suggest that the peptide repeat domain of Nup98, together with peptide repeat domains of other nucleoporins, forms an array of sites for mediated docking of transport substrate, and that bidirectional transport across the NPC proceeds by repeated docking and undocking reactions.\n",
      "\n",
      "generated_summary\n",
      "\n"
     ]
    },
    {
     "data": {
      "application/vnd.jupyter.widget-view+json": {
       "model_id": "869f35cc7f684b8bbf69e2078bf5b416",
       "version_major": 2,
       "version_minor": 0
      },
      "text/plain": [
       "  0%|          | 0/100 [00:00<?, ?it/s]"
      ]
     },
     "metadata": {},
     "output_type": "display_data"
    },
    {
     "name": "stdout",
     "output_type": "stream",
     "text": [
      "The CXC chemokine stromal cell-derived factor activates a Gi-coupled phosphoinositide 3-kinase in T lymphocytes. The cellular effects of stromal cell-derived factor-1 (SDF-1) are mediated primarily by binding to the CXC chemokine receptor-4. We report in this study that SDF-1 and its peptide analogues induce a concentration- and time-dependent accumulation of phosphatidylinositol-(3,4,5)-trisphosphate (PtdIns(3,4,5)P3) in Jurkat cells. This SDF-1-stimulated generation of D-3 phosphoinositide lipids was inhibited by pretreatment of the cells with an SDF-1 peptide antagonist or an anti-CXCR4 Ab. In addition, the phosphoinositide 3 (PI 3)-kinase inhibitors wortmannin and LY294002, as well as the Gi protein inhibitor pertussis toxin, also inhibited the SDF-1-stimulated accumulation of PtdIns(3,4,5)P3. The effects of SDF-1 on D-3 phosphoinositide lipid accumulation correlated well with activation of the known PI 3-kinase effector protein kinase B, which was also inhibited by wortmannin and pertussis toxin. Concentrations of PI 3-kinase inhibitors, sufficient to inhibit PtdIns(3,4,5)P3 accumulation, also inhibited chemotaxis of Jurkat and peripheral blood-derived T lymphocytes in response to SDF-1. In contrast, SDF-1-stimulated actin polymerization was only partially inhibited by PI 3-kinase inhibitors, suggesting that while chemotaxis is fully dependent on PI 3-kinase activation, actin polymerization requires additional biochemical inputs. Finally, SDF-1-stimulated extracellular signal-related kinase (ERK)-1/2 mitogen-activated protein kinase activation was inhibited by PI 3-kinase inhibitors. In addition, the mitogen-activated protein/ERK kinase inhibitor PD098059 partially attenuated chemotaxis in response to SDF-1. Hence, it appears that ERK1/2 activation is dependent on PI 3-kinase activation, and both biochemical events are involved in the regulation of SDF-1-stimulated chemotaxis.\n",
      "\n",
      "generated_summary\n",
      "\n",
      "loss: 0.05330367758870125\n",
      "\n",
      "loss: 0.041435930877923965\n",
      "\n",
      "loss: 0.02604047767817974\n",
      "\n",
      "loss: 0.05496816337108612\n",
      "\n",
      "loss: 0.06397588551044464\n",
      "\n",
      "loss: 0.05214037746191025\n",
      "\n",
      "loss: 0.04103083908557892\n",
      "\n",
      "loss: 0.038148436695337296\n",
      "\n",
      "loss: 0.07593400776386261\n",
      "\n",
      "loss: 0.06085190549492836\n",
      "\n"
     ]
    },
    {
     "data": {
      "application/vnd.jupyter.widget-view+json": {
       "model_id": "605c9bd38fc6489eb4e129b317e87454",
       "version_major": 2,
       "version_minor": 0
      },
      "text/plain": [
       "Evaluating:   0%|          | 0/770 [00:00<?, ?it/s]"
      ]
     },
     "metadata": {},
     "output_type": "display_data"
    },
    {
     "name": "stdout",
     "output_type": "stream",
     "text": [
      "perplexity: 4.518779754638672\n",
      "After 951 updates: \n",
      "\n"
     ]
    },
    {
     "data": {
      "application/vnd.jupyter.widget-view+json": {
       "model_id": "b1b6047098bc4b15bd45fdb452647e9b",
       "version_major": 2,
       "version_minor": 0
      },
      "text/plain": [
       "  0%|          | 0/100 [00:00<?, ?it/s]"
      ]
     },
     "metadata": {},
     "output_type": "display_data"
    },
    {
     "name": "stdout",
     "output_type": "stream",
     "text": [
      "The peptide repeat domain of nucleoporin Nup98 functions as a docking site in transport across the nuclear pore complex. We report the cDNA deduced primary structure of a wheat germ agglutinin-reactive nuclear pore complex (NPC) protein of rat. The protein, termed Nup98 (for nucleoporin of 98 kDa), contains numerous GLFG and FG repeats and some FXFG repeats and is thus a vertebrate member of a family of GLFG nucleoporins that were previously discovered in yeast. Immunoelectron microscopy showed Nup98 to be asymmetrically located at the nucleoplasmic side of the NPC. Nup98 functions as one of several docking site nucleoporins in a cytosolic docking activity-mediated binding of a model transport substrate. The docking site of Nup98 was mapped to its N-terminal half, which contains all of the peptide repeats. A recombinant segment of this region depleted the docking activity of cytosol. We suggest that the peptide repeat domain of Nup98, together with peptide repeat domains of other nucleoporins, forms an array of sites for mediated docking of transport substrate, and that bidirectional transport across the NPC proceeds by repeated docking and undocking reactions.\n",
      "\n",
      "generated_summary\n",
      "\n"
     ]
    },
    {
     "data": {
      "application/vnd.jupyter.widget-view+json": {
       "model_id": "95f5fc5033214add98ad2992dcd86671",
       "version_major": 2,
       "version_minor": 0
      },
      "text/plain": [
       "  0%|          | 0/100 [00:00<?, ?it/s]"
      ]
     },
     "metadata": {},
     "output_type": "display_data"
    },
    {
     "name": "stdout",
     "output_type": "stream",
     "text": [
      "The CXC chemokine stromal cell-derived factor activates a Gi-coupled phosphoinositide 3-kinase in T lymphocytes. The cellular effects of stromal cell-derived factor-1 (SDF-1) are mediated primarily by binding to the CXC chemokine receptor-4. We report in this study that SDF-1 and its peptide analogues induce a concentration- and time-dependent accumulation of phosphatidylinositol-(3,4,5)-trisphosphate (PtdIns(3,4,5)P3) in Jurkat cells. This SDF-1-stimulated generation of D-3 phosphoinositide lipids was inhibited by pretreatment of the cells with an SDF-1 peptide antagonist or an anti-CXCR4 Ab. In addition, the phosphoinositide 3 (PI 3)-kinase inhibitors wortmannin and LY294002, as well as the Gi protein inhibitor pertussis toxin, also inhibited the SDF-1-stimulated accumulation of PtdIns(3,4,5)P3. The effects of SDF-1 on D-3 phosphoinositide lipid accumulation correlated well with activation of the known PI 3-kinase effector protein kinase B, which was also inhibited by wortmannin and pertussis toxin. Concentrations of PI 3-kinase inhibitors, sufficient to inhibit PtdIns(3,4,5)P3 accumulation, also inhibited chemotaxis of Jurkat and peripheral blood-derived T lymphocytes in response to SDF-1. In contrast, SDF-1-stimulated actin polymerization was only partially inhibited by PI 3-kinase inhibitors, suggesting that while chemotaxis is fully dependent on PI 3-kinase activation, actin polymerization requires additional biochemical inputs. Finally, SDF-1-stimulated extracellular signal-related kinase (ERK)-1/2 mitogen-activated protein kinase activation was inhibited by PI 3-kinase inhibitors. In addition, the mitogen-activated protein/ERK kinase inhibitor PD098059 partially attenuated chemotaxis in response to SDF-1. Hence, it appears that ERK1/2 activation is dependent on PI 3-kinase activation, and both biochemical events are involved in the regulation of SDF-1-stimulated chemotaxis.\n",
      "\n",
      "generated_summary\n",
      "\n",
      "total time:  86.96465518871943  minutes\n",
      "\n",
      "Saving trained model...\n"
     ]
    }
   ],
   "source": [
    "#training the model\n",
    "\n",
    "start = time.time()\n",
    "#loss_trace, val_loss_trace = train(args, model, tokenizer, train_data, valid_data, ignore_idx)\n",
    "loss_trace = train(args, model, tokenizer, train_data, valid_data, ignore_idx)\n",
    "print('total time: ', (time.time()-start)/60, \" minutes\", end='\\n\\n')\n",
    "\n",
    "print('Saving trained model...')\n",
    "model_file = os.path.join(args.model_dir, 'model_data{}_trained_after_{}_epochs_only_sum_loss_ignr_pad.bin'.format(len(train_data),args.num_train_epochs))\n",
    "config_file = os.path.join(args.model_dir, 'config_data{}_trained_after_{}_epochs_only_sum_loss_ignr_pad.json'.format(len(train_data),args.num_train_epochs))\n",
    "torch.save(model.state_dict(), model_file)\n",
    "model.config.to_json_file(config_file)"
   ]
  },
  {
   "cell_type": "markdown",
   "metadata": {},
   "source": [
    "The log above is ran with args.batch_size = 1. \n",
    "\n",
    "With batch_size = 3, the training time is 2/3 of the time it takes when batch_size = 1. (Around 55 minutes) "
   ]
  },
  {
   "cell_type": "markdown",
   "metadata": {},
   "source": [
    "## Examine the loss curve\n",
    "\n",
    "The blue curve is the training loss, and the orange is the validation loss. "
   ]
  },
  {
   "cell_type": "code",
   "execution_count": 9,
   "metadata": {},
   "outputs": [
    {
     "data": {
      "text/plain": [
       "[<matplotlib.lines.Line2D at 0x7faf037e15b0>]"
      ]
     },
     "execution_count": 9,
     "metadata": {},
     "output_type": "execute_result"
    },
    {
     "data": {
      "image/png": "[encoded data removed]",
      "text/plain": [
       "<Figure size 432x288 with 1 Axes>"
      ]
     },
     "metadata": {
      "needs_background": "light"
     },
     "output_type": "display_data"
    }
   ],
   "source": [
    "loss_trace_list = sorted(loss_trace[0].items())\n",
    "train_time, train_loss = zip(*loss_trace_list)\n",
    "# The above 2 lines should be re-ran after training. Now the kernel has loss_trace as the actual list. \n",
    "val_loss_trace_list = sorted(loss_trace[1].items())\n",
    "val_time, val_loss = zip(*val_loss_trace_list)\n",
    "\n",
    "\n",
    "plt.plot(train_time, train_loss)\n",
    "plt.plot(val_time, val_loss)"
   ]
  },
  {
   "cell_type": "markdown",
   "metadata": {},
   "source": [
    "There is a discrepancy between the graph and the training log above. The training log was later ran with args.batch_size = 1, while the graph was created when args.batch_size = 3. \n",
    "\n",
    "In the above graph, the y-axis represents loss value, and the x-axis represents every \"gradient accumulation step\" in the training process.  \n",
    "\n",
    "Since in this case args.gradient_accumulation_step = 32, each tick in the x-axis means 32 steps, with each step going over 3 data points in a batch (args.batch_size = 3). So, assuming there are 325 ticks on the graph above, the training process trained over 325 * 32 * 3 = 31200 data points. Since there are 5 epochs, 31200 / 5 = 6240, which is approximately the length of out training set. "
   ]
  },
  {
   "cell_type": "markdown",
   "metadata": {},
   "source": [
    "## Results\n",
    "\n",
    "After training and saving the trained model in './weights', we can open 'play_with_summarizer.ipynb' to see what kind of summary the model can generate. "
   ]
  }
 ],
 "metadata": {
  "kernelspec": {
   "display_name": "Python 3 (ipykernel)",
   "language": "python",
   "name": "python3"
  },
  "language_info": {
   "codemirror_mode": {
    "name": "ipython",
    "version": 3
   },
   "file_extension": ".py",
   "mimetype": "text/x-python",
   "name": "python",
   "nbconvert_exporter": "python",
   "pygments_lexer": "ipython3",
   "version": "3.9.7"
  }
 },
 "nbformat": 4,
 "nbformat_minor": 4
}
